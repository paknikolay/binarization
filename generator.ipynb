{
 "cells": [
  {
   "cell_type": "code",
   "execution_count": 1,
   "metadata": {},
   "outputs": [],
   "source": [
    "# !pip install squircle\n",
    "# !pip install imutils"
   ]
  },
  {
   "cell_type": "code",
   "execution_count": 2,
   "metadata": {},
   "outputs": [],
   "source": [
    "%config Completer.use_jedi = False"
   ]
  },
  {
   "cell_type": "code",
   "execution_count": 3,
   "metadata": {},
   "outputs": [],
   "source": [
    "import cv2\n",
    "import os\n",
    "import matplotlib.pyplot as plt\n",
    "import numpy as np\n",
    "import string\n",
    "from PIL import Image, ImageFont, ImageDraw\n",
    "import math"
   ]
  },
  {
   "cell_type": "code",
   "execution_count": 4,
   "metadata": {},
   "outputs": [],
   "source": [
    "pathToDataForGeneration = \"D:\\Data\\Diploma\\dataForGeneration/\"\n",
    "pathToBackGrounds = pathToDataForGeneration + \"Backgrounds\"\n",
    "pathToOutDir = \"D:\\Data\\Diploma\\generated/\"\n",
    "pathToGenerated = pathToOutDir + \"generated\"\n",
    "pathToGT = pathToOutDir + \"gt\"\n",
    "pathToFonts = pathToDataForGeneration + \"fonts\"\n",
    "pathToFontsTitle = pathToDataForGeneration + \"fontsTitle\"\n",
    "pathToFontsUnicode = pathToDataForGeneration + \"fontsUnicode\"\n",
    "pathToPhoto = pathToDataForGeneration + \"person\"\n",
    "pathToHolograms = pathToDataForGeneration + \"hologram\"\n",
    "pathToTexts = pathToDataForGeneration + \"texts/\""
   ]
  },
  {
   "cell_type": "code",
   "execution_count": 5,
   "metadata": {},
   "outputs": [],
   "source": [
    "fontsTitle = [os.path.join(pathToFontsTitle, font) for font in os.listdir(pathToFontsTitle)]\n",
    "fonts = [os.path.join(pathToFonts, font) for font in os.listdir(pathToFonts)]\n",
    "fontsUnicode = [os.path.join(pathToFontsUnicode, font) for font in os.listdir(pathToFontsUnicode)]\n",
    "photos = [os.path.join(pathToPhoto, photo) for photo in os.listdir(pathToPhoto)]\n",
    "holograms = [os.path.join(pathToHolograms, photo) for photo in os.listdir(pathToHolograms)]"
   ]
  },
  {
   "cell_type": "code",
   "execution_count": 6,
   "metadata": {},
   "outputs": [
    {
     "data": {
      "text/plain": [
       "'D:\\\\Data\\\\Diploma\\\\dataForGeneration/Backgrounds'"
      ]
     },
     "execution_count": 6,
     "metadata": {},
     "output_type": "execute_result"
    }
   ],
   "source": [
    "pathToBackGrounds"
   ]
  },
  {
   "cell_type": "code",
   "execution_count": 7,
   "metadata": {},
   "outputs": [],
   "source": [
    "backGroundColor = np.array([0,0,0])"
   ]
  },
  {
   "cell_type": "code",
   "execution_count": 8,
   "metadata": {},
   "outputs": [],
   "source": [
    "def generateTextImage(text, font, fontScale, thickness, color):\n",
    "    (label_width, label_height), baseline = cv2.getTextSize(text, font, fontScale, thickness)\n",
    "    label_patch = np.zeros((label_height + baseline, label_width, 3), np.uint8)\n",
    "    label_patch[:,:] = 0\n",
    "    textImage = cv2.putText(label_patch, text, (0, label_height), font, fontScale, color, thickness)\n",
    "    return textImage"
   ]
  },
  {
   "cell_type": "code",
   "execution_count": 9,
   "metadata": {},
   "outputs": [],
   "source": [
    "#cv2.imwrite(pathToGenerated + \"/2.png\", cv2.cvtColor(image2, cv2.COLOR_RGB2BGR))"
   ]
  },
  {
   "cell_type": "code",
   "execution_count": null,
   "metadata": {},
   "outputs": [],
   "source": []
  },
  {
   "cell_type": "code",
   "execution_count": 10,
   "metadata": {},
   "outputs": [],
   "source": [
    "class TextGenerator:\n",
    "    def __init__(self):\n",
    "        self.symbols = list(string.ascii_lowercase)\n",
    "        self.punct = list(string.punctuation)\n",
    "        self.digits = [str(i) for i in range(0,10)]\n",
    "        self.generatedWordsCount = -1\n",
    "        with open(pathToTexts+\"names.txt\") as f:\n",
    "            self.names = f.read().split()\n",
    "\n",
    "        with open(pathToTexts+\"surnames.txt\") as f:\n",
    "            self.surnames = f.read().split()\n",
    "\n",
    "        with open(pathToTexts+\"streets.txt\") as f:\n",
    "            self.streets = f.read().split()\n",
    "\n",
    "        with open(pathToTexts+\"cities.txt\") as f:\n",
    "            self.cities = f.read().split()\n",
    "            \n",
    "        self.words = []\n",
    "        self.unicodeWords = []\n",
    "\n",
    "        with open(pathToTexts+\"words.txt\") as f:\n",
    "            self.words = f.read().split()\n",
    "        \n",
    "        for language in [\"french\", \"italian\", \"spanish\", \"german\", \"czech\", \"danish\", \"dutch\", \"portuguese\" ]:\n",
    "            with open(pathToTexts+language + \".txt\", encoding =\"utf-8\") as f:\n",
    "                self.unicodeWords += f.read().split()\n",
    "\n",
    "    def getName(self):\n",
    "        k = np.random.randint(0, len(self.names))\n",
    "        return self.names[k]\n",
    "\n",
    "    def getSurname(self):\n",
    "        k = np.random.randint(0, len(self.surnames))\n",
    "        return self.surnames[k]\n",
    "\n",
    "    def getCity(self):\n",
    "        k = np.random.randint(0, len(self.cities))\n",
    "        return self.cities[k]\n",
    "\n",
    "    def getStreet(self):\n",
    "        k = np.random.randint(0, len(self.streets))\n",
    "        return self.streets[k]\n",
    "\n",
    "    def getWord(self):\n",
    "        k = np.random.randint(0, len(self.words))\n",
    "        return self.words[k]\n",
    "    def getUnicodeWord(self):\n",
    "        k = np.random.randint(0, len(self.unicodeWords))\n",
    "        return self.unicodeWords[k]\n",
    "\n",
    "    def getDate(self):\n",
    "        sep = np.random.choice(self.punct)\n",
    "        day = str(np.random.randint(0,10)) + str(np.random.randint(0,10))\n",
    "        month = str(np.random.randint(0,10)) + str(np.random.randint(0,10))\n",
    "        year = str(np.random.randint(0,10)) + str(np.random.randint(0,10)) + str(np.random.randint(0,10)) + str(np.random.randint(0,10))\n",
    "        if np.random.randint(0,2) == 0:\n",
    "            return sep.join([day, month, year])\n",
    "        else:\n",
    "            return sep.join([year, month, day])\n",
    "\n",
    "    def getNumber(self):\n",
    "        length = np.random.randint(2, 15)\n",
    "        return \"\".join([np.random.choice(self.digits) for i in range(length)])\n",
    "    \n",
    "    def generetaAdditionalText(self):\n",
    "        text = \"\"\n",
    "        addDigit = np.random.randint(0, 2)\n",
    "        length = np.random.randint(addDigit == 0, 5)\n",
    "        if length > 0:\n",
    "            text += \"\".join([np.random.choice(self.digits) for i in range(length)])\n",
    "        length = np.random.randint(addDigit != 0, 5)\n",
    "        if length > 0:\n",
    "            text += \"\".join([np.random.choice(self.symbols) for i in range(length)])\n",
    "        if np.random.randint(0, 5) == 1:\n",
    "            text += np.random.choice(self.punct)\n",
    "        return text\n",
    "\n",
    "    def _generateText(self):\n",
    "        self.generatedWordsCount += 1\n",
    "        if self.generatedWordsCount < 2:\n",
    "            return self.getName()\n",
    "        elif self.generatedWordsCount < 4:\n",
    "            return self.getSurname()\n",
    "        elif self.generatedWordsCount < 6:\n",
    "            return self.getCity()\n",
    "        elif self.generatedWordsCount < 8:\n",
    "            return self.getStreet()\n",
    "        elif self.generatedWordsCount < 10:\n",
    "            return self.getDate()\n",
    "        elif self.generatedWordsCount < 12:\n",
    "            return self.getNumber()\n",
    "        elif self.generatedWordsCount < 25:\n",
    "            return self.generetaAdditionalText()\n",
    "        else:\n",
    "            return None\n",
    "        \n",
    "        \n",
    "    def generateText(self):\n",
    "        text = self._generateText()\n",
    "        if text is None:\n",
    "            return None\n",
    "#         for c in text:\n",
    "#             if c not in characters:\n",
    "#                 print(text)\n",
    "#                 print(c)\n",
    "#             assert(c in characters)\n",
    "        return text\n",
    "        \n",
    "    \n",
    "    def generateWord(self, isUnicode):\n",
    "        if isUnicode:\n",
    "            return self.getUnicodeWord()\n",
    "        else:\n",
    "            return self.getWord()\n",
    "\n",
    "    def resetWords(self):\n",
    "        self.generatedWordsCount = -1\n",
    "        \n",
    "TextGeneratorGlobal = TextGenerator()"
   ]
  },
  {
   "cell_type": "code",
   "execution_count": 11,
   "metadata": {},
   "outputs": [],
   "source": [
    "characters = set()\n",
    "for word in TextGeneratorGlobal.unicodeWords:\n",
    "    for c in word:\n",
    "        characters.add(c)\n",
    "for word in TextGeneratorGlobal.words:\n",
    "    for c in word:\n",
    "        characters.add(c)\n",
    "for word in TextGeneratorGlobal.cities:\n",
    "    for c in word:\n",
    "        characters.add(c)\n",
    "for word in TextGeneratorGlobal.digits:\n",
    "    for c in word:\n",
    "        characters.add(c)\n",
    "for word in TextGeneratorGlobal.names:\n",
    "    for c in word:\n",
    "        characters.add(c)\n",
    "        \n",
    "for word in TextGeneratorGlobal.streets:\n",
    "    for c in word:\n",
    "        characters.add(c)\n",
    "for word in TextGeneratorGlobal.surnames:\n",
    "    for c in word:\n",
    "        characters.add(c)\n",
    "for word in TextGeneratorGlobal.symbols:\n",
    "    for c in word:\n",
    "        characters.add(c)\n",
    "for c in string.punctuation:\n",
    "        characters.add(c)\n",
    "characters = list(characters)"
   ]
  },
  {
   "cell_type": "code",
   "execution_count": 12,
   "metadata": {},
   "outputs": [],
   "source": [
    "#TextGeneratorGlobal.unicodeWords[:100]"
   ]
  },
  {
   "cell_type": "code",
   "execution_count": 13,
   "metadata": {},
   "outputs": [],
   "source": [
    "import matplotlib\n",
    "matplotlib.use('Agg')\n",
    "def addPlotToBackGround(image):\n",
    "    W,H = image.size\n",
    "    fig, ax = plt.subplots(figsize=(20,20))\n",
    "    ax.set_ylim([0,H])\n",
    "    ax.set_xlim([0,W])\n",
    "    ax.imshow(image)\n",
    "    x = np.linspace(1,W, W*3)\n",
    "    ax.set_axis_off()\n",
    "    if np.random.randint(0,5) == 0:\n",
    "        cnt = np.random.randint(1,10)\n",
    "        for i in range(cnt):\n",
    "            y = np.sin(x * np.exp(np.random.uniform(-5,-1))) * H // cnt + i * H // cnt + np.random.randint(-H // cnt,H // cnt)\n",
    "            ax.plot(x,y, color=np.random.rand(3,))\n",
    "    \n",
    "    if np.random.randint(0,5) ==0:\n",
    "        cnt = np.random.randint(1,50)\n",
    "        for i in range(cnt):\n",
    "            y = 1/(x)* H // cnt + i * H // cnt + np.random.randint(-H // cnt,H // cnt)\n",
    "            ax.plot(x + np.random.randint(-W, W),y, color=np.random.rand(3,))\n",
    "\n",
    "    if np.random.randint(0,5) == 0:\n",
    "        cnt = np.random.randint(1,100)\n",
    "        for i in range(cnt):\n",
    "            y = x**(np.random.uniform(0.2,3)) * np.exp(np.random.uniform(-5,1)) + np.random.randint(-H // cnt,H // cnt)\n",
    "            ax.plot(x + np.random.randint(-W, W),y, color=np.random.rand(3,))            \n",
    "    \n",
    "    fig.savefig(\"./i.png\",bbox_inches='tight', pad_inches=0)\n",
    "    plt.close(1)\n",
    "    return Image.open(\"./i.png\")"
   ]
  },
  {
   "cell_type": "code",
   "execution_count": 14,
   "metadata": {},
   "outputs": [],
   "source": [
    "# imageTextGenerator = OneImageTextGenerator(image)\n",
    "# imageTextGenerator.generate()\n",
    "# imageTextGenerator.image2"
   ]
  },
  {
   "cell_type": "code",
   "execution_count": null,
   "metadata": {},
   "outputs": [],
   "source": []
  },
  {
   "cell_type": "code",
   "execution_count": null,
   "metadata": {},
   "outputs": [],
   "source": []
  },
  {
   "cell_type": "code",
   "execution_count": null,
   "metadata": {},
   "outputs": [],
   "source": []
  },
  {
   "cell_type": "code",
   "execution_count": 15,
   "metadata": {},
   "outputs": [],
   "source": [
    "def rotatePoint(xy, theta):\n",
    "    theta = math.pi / 180 * theta\n",
    "    cos_theta, sin_theta = math.cos(theta), math.sin(theta)\n",
    "\n",
    "    return ( xy[0] * cos_theta - xy[1] * sin_theta, xy[0] * sin_theta + xy[1] * cos_theta )\n",
    "    \n",
    "def rotateRect(rect, theta):\n",
    "    h = rect[3] - rect[1]\n",
    "    w = rect[2] - rect[0]\n",
    "    hc = rect[1] + (h)//2 + 5\n",
    "    wc = rect[0] + (w)//2 \n",
    "    #h = 0\n",
    "    #w = 0\n",
    "#     x1, y1 = rotatePoint((rect[0] - w, rect[1] - h), theta)\n",
    "#     x2, y2 = rotatePoint((rect[2] - w, rect[1] - h), theta)\n",
    "#     x3, y3 = rotatePoint((rect[2] - w, rect[3] - h), theta)\n",
    "#     x4, y4 = rotatePoint((rect[0] - w, rect[3] - h), theta)\n",
    "    x1, y1 = rotatePoint((-rect[4]//2, -rect[5]//2), theta)\n",
    "    x2, y2 = rotatePoint((rect[4]//2, -rect[5]//2), theta)\n",
    "    x3, y3 = rotatePoint((rect[4]//2, rect[5]//2), theta)\n",
    "    x4, y4 = rotatePoint((-rect[4]//2, rect[5]//2), theta)\n",
    "    \n",
    "    #по часовой стрелке\n",
    "    #return [(x1+w,y1+h), (x2+w,y2+h), (x3+w,y3+h), (x4+w,y4+h)]\n",
    "    return [(x1+wc,y1+hc), (x2+wc,y2+hc), (x3+wc,y3+hc), (x4+wc,y4+hc)]\n",
    "\n",
    "def rotateRect(rect, theta, hc = None, wc = None):\n",
    "    h = rect[3] - rect[1]\n",
    "    w = rect[2] - rect[0]\n",
    "    if hc is None:\n",
    "        hc = rect[1] + (h)//2 + 5\n",
    "        wc = rect[0] + (w)//2 \n",
    "    x1, y1 = rotatePoint((rect[0] - wc, rect[1] - hc), theta)\n",
    "    x2, y2 = rotatePoint((rect[2] - wc, rect[1] - hc), theta)\n",
    "    x3, y3 = rotatePoint((rect[2] - wc, rect[3] - hc), theta)\n",
    "    x4, y4 = rotatePoint((rect[0] - wc, rect[3] - hc), theta) \n",
    "    \n",
    "    #по часовой стрелке\n",
    "    #return [(x1+w,y1+h), (x2+w,y2+h), (x3+w,y3+h), (x4+w,y4+h)]\n",
    "    return [(x1+wc,y1+hc), (x2+wc,y2+hc), (x3+wc,y3+hc), (x4+wc,y4+hc)]\n",
    "\n",
    "def rotateRegion(region, theta, wc, hc):\n",
    "    #h = 0\n",
    "    #w = 0\n",
    "#     x1, y1 = rotatePoint((rect[0] - w, rect[1] - h), theta)\n",
    "#     x2, y2 = rotatePoint((rect[2] - w, rect[1] - h), theta)\n",
    "#     x3, y3 = rotatePoint((rect[2] - w, rect[3] - h), theta)\n",
    "#     x4, y4 = rotatePoint((rect[0] - w, rect[3] - h), theta)\n",
    "    x1, y1 = rotatePoint((region[0][0] - wc, region[0][1] - hc), theta)\n",
    "    x2, y2 = rotatePoint((region[1][0] - wc, region[1][1] - hc), theta)\n",
    "    x3, y3 = rotatePoint((region[2][0] - wc, region[2][1] - hc), theta)\n",
    "    x4, y4 = rotatePoint((region[3][0] - wc, region[3][1] - hc), theta)\n",
    "    \n",
    "    #по часовой стрелке\n",
    "    #return [(x1+w,y1+h), (x2+w,y2+h), (x3+w,y3+h), (x4+w,y4+h)]\n",
    "    return [(x1+wc,y1+hc), (x2+wc,y2+hc), (x3+wc,y3+hc), (x4+wc,y4+hc)]\n",
    "\n",
    "def getCharactersRects(wordRegionData, rotated, charactersRects):\n",
    "    k = wordRegionData\n",
    "    cumW = 0\n",
    "    W =  rotated[1][0]- rotated[0][0]\n",
    "    H =  rotated[1][1] - rotated[0][1]\n",
    "    characersResultRects = []\n",
    "    for c in charactersRects:\n",
    "        w,h = c\n",
    "        cumW += w\n",
    "        characersResultRects.append([\n",
    "            (rotated[0][0] + (cumW - w) / k[6] * W, rotated[0][1] + (cumW - w)/k[6] * H), \\\n",
    "            (rotated[0][0] + cumW / k[6] * W, rotated[0][1] + (cumW) / k[6] * H), \\\n",
    "            (rotated[3][0] + cumW / k[6] * W, rotated[3][1] + (cumW) / k[6] * H),\\\n",
    "            (rotated[3][0] + (cumW - w) / k[6] * W, rotated[3][1] + (cumW-w) / k[6] * H)\\\n",
    "        ])\n",
    "        rotated[0][0] + cumW / k[6] * W, rotated[0][1] + (cumW) / k[6] * H\n",
    "    return characersResultRects"
   ]
  },
  {
   "cell_type": "code",
   "execution_count": null,
   "metadata": {},
   "outputs": [],
   "source": []
  },
  {
   "cell_type": "code",
   "execution_count": null,
   "metadata": {},
   "outputs": [],
   "source": []
  },
  {
   "cell_type": "code",
   "execution_count": null,
   "metadata": {},
   "outputs": [],
   "source": []
  },
  {
   "cell_type": "code",
   "execution_count": 16,
   "metadata": {},
   "outputs": [],
   "source": [
    "import json"
   ]
  },
  {
   "cell_type": "code",
   "execution_count": 17,
   "metadata": {},
   "outputs": [],
   "source": [
    "class OneImageTextGenerator:\n",
    "    def __init__(self, image):\n",
    "        self.imageSize = [1500, 1500//1.5]\n",
    "        image = self.randomCropAndResize(image)\n",
    "        \n",
    "        image = addPlotToBackGround(image)\n",
    "        image = self.addHologram(image)\n",
    "        self.size = image.size[::-1]#image.shape[0:2]\n",
    "        self.image2 = image.copy().convert(\"RGBA\")\n",
    "        self.image = Image.new('RGBA', self.size[::-1], color=(255,255,255, 0))\n",
    "        self.freeBlocks = [(0,0,*self.size)]\n",
    "        self.textImage = Image.new('RGBA', self.size[::-1], color=(255,255,255, 0))\n",
    "        self.textGenerator = TextGeneratorGlobal\n",
    "        self.textGenerator.resetWords()\n",
    "        self.words = []\n",
    "        self.wordsRegion = []\n",
    "        self.angles = []\n",
    "        self.wordsCharacterRegion = []\n",
    "        img_fraction = 1/20\n",
    "        self.fontSizes = []\n",
    "        self.hasTitle = False\n",
    "        fontSize = 1\n",
    "        font = ImageFont.truetype(fonts[0], fontSize)\n",
    "        draw = ImageDraw.Draw(self.textImage)\n",
    "        while max(draw.textsize(\"H\", font=font)) < img_fraction * min(image.size):\n",
    "            # iterate until the text size is just larger than the criteria\n",
    "            fontSize += 1            \n",
    "            font = ImageFont.truetype(fonts[0], fontSize)\n",
    "        self.fontSizes.append(fontSize)\n",
    "        \n",
    "        font = ImageFont.truetype(fonts[0], 1)\n",
    "        self.titleSize = 1\n",
    "        img_fraction = 1/10\n",
    "        while max(draw.textsize(\"H\", font=font)) < img_fraction * min(image.size):\n",
    "            # iterate until the text size is just larger than the criteria\n",
    "            self.titleSize += 1            \n",
    "            font = ImageFont.truetype(fonts[0], self.titleSize)\n",
    "       # self.fontSizes.append(min(1, fontSize//1.5))\n",
    "        self.fontSizes.append(fontSize*2)\n",
    "        \n",
    "        self.fonts = []\n",
    "        self.fontsUnicode = []\n",
    "        for i in range(np.random.randint(1, 3)):\n",
    "            self.fonts.append(np.random.choice(fonts))\n",
    "            \n",
    "        for i in range(np.random.randint(1, 3)):\n",
    "            self.fontsUnicode.append(np.random.choice(fontsUnicode))\n",
    "            #print(self.fontsUnicode[-1])\n",
    "            \n",
    "        self.textType = []\n",
    "        for i in range(np.random.randint(1, 3)):\n",
    "            self.textType.append(np.random.choice([0,1,2]))\n",
    "        self.colors = [(0,0,0,255)]\n",
    "        for i in range(np.random.randint(0,4)):\n",
    "            color = [0,0,0, 255]\n",
    "            color[np.random.randint(0,3)] = np.random.randint(128,200)\n",
    "            color[0] = min(color[0] + np.random.randint(0,255),255)\n",
    "            color[2] = min(color[2] + np.random.randint(0,255),255)\n",
    "            color[1] = min(color[1] + np.random.randint(0,255),255)\n",
    "            self.colors.append(color)\n",
    "            #self.colors.append(self.colors[0])\n",
    "        \n",
    "        self.possibleAngles = [0]\n",
    "        \n",
    "        for i in range(np.random.randint(0,3)):\n",
    "            self.possibleAngles.append(np.random.randint(-5,5))\n",
    "            self.possibleAngles.append(0)\n",
    "    \n",
    "    def addHologram(self, image):\n",
    "        k = np.random.randint(0,3)\n",
    "        if k == 0:\n",
    "            return image\n",
    "        cnt = np.random.randint(0, k*10)\n",
    "        for i in range(cnt):\n",
    "            image = np.array(image)\n",
    "            H, W,_ = image.shape\n",
    "\n",
    "            colors = []\n",
    "            for i in range(2):\n",
    "                color = [0,0,0, 255]\n",
    "                color[np.random.randint(0,3)] = np.random.randint(128,200)\n",
    "                color[0] = min(color[0] + np.random.randint(0,255),255)\n",
    "                color[2] = min(color[2] + np.random.randint(0,255),255)\n",
    "                color[1] = min(color[1] + np.random.randint(0,255),255)\n",
    "                colors.append(color)\n",
    "\n",
    "            isHor = np.random.randint(0,2,(3))\n",
    "\n",
    "            w = np.random.randint(W//10 , W//2)\n",
    "            h = np.random.randint(H//10, H//2)\n",
    "            array = get_gradient_3d(w, h, colors[0], colors[1], isHor)\n",
    "\n",
    "\n",
    "            im = Image.fromarray(np.uint8(array))\n",
    "            im.putalpha(np.random.randint(50,180))\n",
    "            im = np.array(im)\n",
    "\n",
    "            if np.random.randint(0,3) == 0:\n",
    "                for i in range(1,20):\n",
    "                    r = np.random.randint(min(w,h)//5,min(w,h)//2)//4\n",
    "                    x = np.random.randint(r,w-r)\n",
    "                    y = np.random.randint(r,h-r)\n",
    "\n",
    "                    g = 255\n",
    "                    im[y-r:y+r,x-r:x+r,3] = (im[y-r:y+r,x-r:x+r,3] * g / 256).astype(np.uint8)\n",
    "\n",
    "            if np.random.randint(0,2) == 0:\n",
    "                for i in range(0,min(w,h)//4):\n",
    "                    rx = np.random.randint(2,w//2)\n",
    "                    ry = np.random.randint(2,h//2)\n",
    "\n",
    "                    if np.random.randint(0,2) == 0:\n",
    "                        rx = 2\n",
    "                    else:    \n",
    "                        ry = 2\n",
    "\n",
    "                    x = np.random.randint(rx,w-rx)\n",
    "                    y = np.random.randint(ry,h-ry)\n",
    "\n",
    "                    im[y-ry:y+ry,x-rx:x+rx,3] = 0\n",
    "\n",
    "            im = Image.fromarray(im)\n",
    "            distortedImage = Image.fromarray(image)\n",
    "\n",
    "\n",
    "            distortedImage.paste(im, (np.random.randint(0, W - w//2), np.random.randint(0, H - h//2)))\n",
    "            image= Image.alpha_composite(Image.fromarray(image).copy(), distortedImage)\n",
    "        return image\n",
    "    \n",
    "    def randomCropAndResize(self, image):\n",
    "        size = self.imageSize\n",
    "        size[0] += np.random.randint(-200, 200)\n",
    "        size[1] += np.random.randint(-200, 200)\n",
    "        sizeCrop = size.copy()\n",
    "        size[0] = int(size[0] * np.random.uniform(1.1,2))\n",
    "        size[1] = int(size[1] * np.random.uniform(1.1,2))\n",
    "        image = image.resize(size)\n",
    "        assert(size != sizeCrop)\n",
    "        left = np.random.randint(0, size[0] - sizeCrop[0])\n",
    "        top = np.random.randint(0, size[1] - sizeCrop[1])\n",
    "        image = image.crop((left, top, left + sizeCrop[0], top + sizeCrop[1]))\n",
    "        \n",
    "        return image\n",
    "        \n",
    "    def findSmallestByHeightBlock(self, size):\n",
    "        blocks = []\n",
    "        p = []\n",
    "        for i, block in enumerate(self.freeBlocks):\n",
    "            y1,x1,y2,x2 = block\n",
    "            h = y2 - y1\n",
    "            w = x2 - x1\n",
    "            if h >= size[0] and w >= size[1]:\n",
    "                blocks.append(i)\n",
    "                p.append(h*w)\n",
    "        if len(blocks) == 0:\n",
    "            return None\n",
    "        return np.random.choice(blocks, p=np.array(p) / np.sum(p))\n",
    "        \n",
    "    def findFreeRectangeForText(self, size):\n",
    "        size = (size[0]*1.5, size[1]*1.5)\n",
    "        index = self.findSmallestByHeightBlock(size)\n",
    "        if index == None:\n",
    "            return None\n",
    "        h, w = size\n",
    "        h = h\n",
    "        w = w\n",
    "        rect = self.freeBlocks[index]\n",
    "        y1,x1,y2,x2 = rect\n",
    "        startX = np.random.randint(x1, x2 - w + 1)\n",
    "        startY = np.random.randint(y1, y2 - h + 1)\n",
    "        \n",
    "        self.freeBlocks.pop(index)\n",
    "        if startY > y1:\n",
    "            self.freeBlocks.append((y1, x1, startY, x2))\n",
    "        if startY + h < y2:\n",
    "            self.freeBlocks.append((startY+h, x1, y2, x2))\n",
    "        if x1 < startX:\n",
    "            self.freeBlocks.append((startY, x1, startY+h, startX))\n",
    "        if startX + w < x2:\n",
    "            self.freeBlocks.append((startY, startX+w, startY+h, x2))\n",
    "        \n",
    "        return (startY, startX)\n",
    "\n",
    "    def addPhoto(self):\n",
    "        photo = Image.open(np.random.choice(photos), 'r')\n",
    "        height, width = self.size\n",
    "        height = height // 4\n",
    "        width = width // 4\n",
    "        height, width = max(height, width), min(height, width)\n",
    "\n",
    "        photo1 = photo.resize((width,height), Image.ANTIALIAS)\n",
    "        if np.random.randint(0,20) == 0:\n",
    "            photo1 = photo1.convert('L')\n",
    "        \n",
    "        coords = self.findFreeRectangeForText((height, width))\n",
    "        if coords == None:\n",
    "            return None\n",
    "        startY, startX = coords\n",
    "        self.image.paste(photo1, (startX, startY))        \n",
    "        \n",
    "    def addText(self):\n",
    "        text = self.textGenerator.generateText()\n",
    "        isTitle = False\n",
    "        if text is None:\n",
    "            isUnicode = np.random.randint(0,3) != 0\n",
    "            if isUnicode:\n",
    "                font = np.random.choice(self.fontsUnicode)\n",
    "            else:\n",
    "                font = np.random.choice(self.fonts)\n",
    "            text = self.textGenerator.generateWord(isUnicode)\n",
    "        else:\n",
    "            font = np.random.choice(self.fonts)\n",
    "            if not self.hasTitle:# and np.random.randint(0,3) == 0:\n",
    "                isTitle = True\n",
    "                self.hasTitle = True\n",
    "                font = np.random.choice(fontsTitle)\n",
    "        if isTitle:\n",
    "            textType = 1\n",
    "        else:\n",
    "            textType = np.random.choice(self.textType)\n",
    "            \n",
    "        if textType == 0:\n",
    "            text = text.lower()\n",
    "        elif textType == 1:\n",
    "            text = text.upper()\n",
    "        else:\n",
    "            text = text.capitalize()\n",
    "            \n",
    "        if np.random.randint(0,5) == 0:\n",
    "            textType = np.random.choice(self.textType)\n",
    "            text2 = self.textGenerator.generetaAdditionalText()\n",
    "            if textType == 0:\n",
    "                text2 = text2.lower()\n",
    "            elif textType == 1:\n",
    "                text2 = text2.upper()\n",
    "            else:\n",
    "                text2 = text2.capitalize()\n",
    "            text = text2 + text\n",
    "#         print(text) \n",
    "#         print(font)\n",
    "\n",
    "        fontSize = max(10, np.random.choice(self.fontSizes, p=[0.7,0.3]) + np.random.randint(-5, 5))\n",
    "        if np.random.randint(0, 10) == 0:\n",
    "            fontSize += np.random.randint(16, 20)\n",
    "        if isTitle:\n",
    "            fontSize = self.titleSize\n",
    "            fontSize += np.random.randint(0, 80)\n",
    "        font = ImageFont.truetype(font, fontSize)\n",
    "        \n",
    "        draw = ImageDraw.Draw(self.image)\n",
    "        drawImageText = ImageDraw.Draw(self.textImage)\n",
    "        alpha = np.random.choice(self.possibleAngles)\n",
    "        h,w = draw.textsize(text, font=font)[::-1]\n",
    "        angleRad = np.abs(alpha * np.pi / 180)\n",
    "        h1 = h * np.cos(angleRad) + w * np.sin(angleRad)\n",
    "        w1 = w * np.cos(angleRad) + h * np.sin(angleRad)\n",
    "        coords = self.findFreeRectangeForText((h1,w1))\n",
    "        if coords == None:\n",
    "            return None\n",
    "        startY, startX = coords\n",
    "        \n",
    "        color = self.colors[np.random.randint(0, len(self.colors))]\n",
    "        txt = Image.new('L', (w,h))\n",
    "        d = ImageDraw.Draw(txt)\n",
    "        d.text((0, 0), text,  font=font, fill=255)\n",
    "        #d.rectangle((startX, startY, startX + w,startY + h ),fill=(192), outline=(255))\n",
    "        #d.rectangle((startX + w, startY + h, startX,startY),fill=(192), outline=(255))\n",
    "        #d.line((startX, startY, startX, startY + h), fill=(255), width=2)\n",
    "        #d.line((startX, startY, startX + w, startY), fill=(255), width=2)\n",
    "        #d.line((startX + w, startY, startX + w, startY + h), fill=(255), width=20)\n",
    "        #d.line((startX, startY + h, startX + w, startY + h), fill=(255), width=20)\n",
    "        \n",
    "        #rotatedText=txt.rotate(alpha, expand=True)\n",
    "        rotatedText=txt.rotate(alpha, expand=True)\n",
    "        #rotatedText.show()\n",
    "        newW, newH = rotatedText.size\n",
    "        \n",
    "        self.textImage.paste( ImageOps.colorize(rotatedText, (0,0,0,255), (0,0,0, 255)), (startX, startY),  rotatedText)\n",
    "        self.image.paste( ImageOps.colorize(rotatedText, (0,0,0, 255), tuple(color)), (startX, startY),  rotatedText)\n",
    "        \n",
    "        self.words.append(text)\n",
    "        #self.wordsRegion.append(rotateRect([startX, startY, startX + w, startY + h], alpha))\n",
    "        self.wordsRegion.append([startX, startY, startX + w1, startY + h1, w+2, h+2, newW ,newH, w1, h1])\n",
    "        self.angles.append(alpha)\n",
    "        #print(alpha)\n",
    "        #draw.text((startX, startY), text,  font=font, fill=(tuple(color)))\n",
    "        #drawImageText.text((startX, startY), text,  font=font, fill=(0,0,0,255))\n",
    "        self.wordsCharacterRegion.append([])\n",
    "        for symbol in text:\n",
    "            h,w = draw.textsize(symbol, font=font)[::-1]\n",
    "            self.wordsCharacterRegion[-1].append([w,h])\n",
    "        return True\n",
    "        \n",
    "    def addTexts(self):\n",
    "        textCount = np.random.randint(40, 80)\n",
    "        cnt = 0\n",
    "        for i in range(textCount):\n",
    "            if self.addText() is not None :\n",
    "                cnt += 1\n",
    "        #print(cnt)\n",
    "        self.image2 = Image.alpha_composite(self.image2, self.image)\n",
    "       # assert(self.hasTitle)\n",
    "#         img = ImageDraw.Draw(self.image2)\n",
    "#         for block in self.freeBlocks:\n",
    "            \n",
    "#             img.rectangle([block[1], block[0], block[3], block[2]])\n",
    "            \n",
    "#         self.image2.show()\n",
    "    \n",
    "    def rotateRects(self):\n",
    "        for i, (k,a, characters) in enumerate(zip(self.wordsRegion, self.angles, self.wordsCharacterRegion)):\n",
    "            self.wordsRegion[i] = rotateRect(k,-a, k[1] + k[-3]//2, k[0] + k[-4]//2)\n",
    "            \n",
    "            self.wordsCharacterRegion[i] = getCharactersRects(k, self.wordsRegion[i], characters)\n",
    "    \n",
    "    def createAnnotation(self):\n",
    "        self.annotation = dict()\n",
    "        self.annotation[\"wordRects\"] = self.wordsRegion\n",
    "        self.annotation[\"wordsCharactersRects\"] = self.wordsCharacterRegion\n",
    "        self.annotation[\"words\"] = self.words\n",
    "    \n",
    "    def generate(self):\n",
    "        self.addPhoto()\n",
    "        self.addTexts()\n",
    "        self.rotateRects()\n",
    "        self.createAnnotation()"
   ]
  },
  {
   "cell_type": "code",
   "execution_count": 18,
   "metadata": {},
   "outputs": [],
   "source": [
    "# imageTextGenerator = OneImageTextGenerator(image)\n",
    "# imageTextGenerator.generate()\n",
    "# img = imageTextGenerator.image2.copy()\n",
    "# for k in zip(imageTextGenerator.annotation[\"wordRects\"]):\n",
    "#     d = ImageDraw.Draw(img)\n",
    "#     #rotated = rotateRect(k, imd.angle)\n",
    "# #     d.line((rotated[0], rotated[1], rotated[0], rotated[3]), fill=(100,100,100), width=2)\n",
    "# #     d.line((k[0], k[1], k[2], k[1]), fill=(100,100,100), width=2)\n",
    "# #     d.line((k[2], k[1], k[2], k[3]), fill=(100,100,100), width=2)\n",
    "# #     d.line((k[0], k[3], k[2], k[3]), fill=(100,100,100), width=2)\n",
    "#     rotated = k[0]\n",
    "#     k = k[0]\n",
    "#     rotated = k\n",
    "\n",
    "    \n",
    "#     d.line((*rotated[0], *rotated[1]), fill=(195,0,0), width=1)\n",
    "#     d.line((*rotated[1], *rotated[2]), fill=(195,0,0), width=1)\n",
    "#     d.line((*rotated[2], *rotated[3]), fill=(195,0,0), width=1)\n",
    "#     d.line((*rotated[3], *rotated[0]), fill=(195,0,0), width=1)\n",
    "\n",
    "   \n",
    "#     #break\n",
    "# img"
   ]
  },
  {
   "cell_type": "code",
   "execution_count": null,
   "metadata": {},
   "outputs": [],
   "source": []
  },
  {
   "cell_type": "code",
   "execution_count": 19,
   "metadata": {},
   "outputs": [],
   "source": [
    "# img = imageTextGenerator.textImage.copy()\n",
    "# ind = 0\n",
    "# for k,a, characters in zip(imageTextGenerator.wordsRegion, imageTextGenerator.angles, imageTextGenerator.wordsCharacterRegion):\n",
    "#     d = ImageDraw.Draw(img)\n",
    "#     rotated = rotateRect(k,-a)\n",
    "#     ind = ind + 1\n",
    "#     #print(k)\n",
    "#     #print(a)\n",
    "#     #print(rotated)\n",
    "# #     d.line((rotated[0][0], rotated[0][1], rotated[1][0], rotated[1][1]), fill=(100,100,100), width=2)\n",
    "# #     d.line((rotated[1][0], rotated[1][1], rotated[2][0], rotated[2][1]), fill=(100,100,100), width=2)\n",
    "# #     d.line((rotated[2][0], rotated[2][1], rotated[3][0], rotated[3][1]), fill=(100,100,100), width=2)\n",
    "# #     d.line((rotated[3][0], rotated[3][1], rotated[0][0], rotated[0][1]), fill=(100,100,100), width=2)\n",
    "    \n",
    "# #     cumW = 0\n",
    "# #     W =  rotated[1][0]- rotated[0][0]\n",
    "# #     H =  rotated[1][1] - rotated[0][1]\n",
    "# #     for c in characters:\n",
    "# #         w,h = c\n",
    "# #         cumW += w\n",
    "# #         d.line((rotated[0][0] + (cumW - w) / k[6] * W, rotated[0][1] + (cumW - w) / k[6] * H, rotated[0][0] + cumW / k[6] * W, rotated[0][1] + (cumW) / k[6] * H), fill=(100,100,100), width=2)\n",
    "# #         d.line((rotated[0][0] + cumW / k[6] * W, rotated[0][1] + (cumW) / k[6] * H, rotated[3][0] + cumW / k[6] * W, rotated[3][1] + (cumW) / k[6] * H), fill=(100,100,100), width=2)\n",
    "# #         d.line((rotated[3][0] + cumW / k[6] * W, rotated[3][1] + (cumW) / k[6] * H, rotated[3][0] + (cumW -w)/ k[6] * W, rotated[3][1] + (cumW-w) / k[6] * H), fill=(100,100,100), width=2)\n",
    "# #         d.line((rotated[3][0] + (cumW - w) / k[6] * W, rotated[3][1] + (cumW-w) / k[6] * H, rotated[0][0] + (cumW - w) / k[6] * W, rotated[0][1] + (cumW - w) / k[6] * H), fill=(100,100,100), width=2)\n",
    "#     for c in getCharactersRects(k, rotated, characters):\n",
    "#         d.line((c[0][0], c[0][1], c[1][0], c[1][1]), fill=(100,100,100), width=1)\n",
    "#         d.line((c[1][0], c[1][1], c[2][0], c[2][1]), fill=(100,100,100), width=1)\n",
    "#         d.line((c[2][0], c[2][1], c[3][0], c[3][1]), fill=(100,100,100), width=1)\n",
    "#         d.line((c[3][0], c[3][1], c[0][0], c[0][1]), fill=(100,100,100), width=1)\n",
    "#     #break \n",
    "# img"
   ]
  },
  {
   "cell_type": "code",
   "execution_count": null,
   "metadata": {},
   "outputs": [],
   "source": []
  },
  {
   "cell_type": "code",
   "execution_count": 20,
   "metadata": {},
   "outputs": [],
   "source": [
    "# img = imageTextGenerator.textImage.copy()\n",
    "# ind = 0\n",
    "# for k,a  in zip(imageTextGenerator.wordsRegion, imageTextGenerator.angles):\n",
    "#     d = ImageDraw.Draw(img)\n",
    "#     rotated = rotateRect(k,-a)\n",
    "#     ind = ind + 1\n",
    "#     #print(k)\n",
    "#     #print(a)\n",
    "#     #print(rotated)\n",
    "#     d.line((rotated[0][0], rotated[0][1], rotated[1][0], rotated[1][1]), fill=(100,100,100), width=2)\n",
    "#     d.line((rotated[1][0], rotated[1][1], rotated[2][0], rotated[2][1]), fill=(100,100,100), width=2)\n",
    "#     d.line((rotated[2][0], rotated[2][1], rotated[3][0], rotated[3][1]), fill=(100,100,100), width=2)\n",
    "#     d.line((rotated[3][0], rotated[3][1], rotated[0][0], rotated[0][1]), fill=(100,100,100), width=2)\n",
    "    \n",
    "# #     d.line((k[0], k[1], k[0], k[3]), fill=(100,100,100), width=2)\n",
    "# #     d.line((k[0], k[1], k[2], k[1]), fill=(100,100,100), width=2)\n",
    "# #     d.line((k[2], k[1], k[2], k[3]), fill=(100,100,100), width=2)\n",
    "# #     d.line((k[0], k[3], k[2], k[3]), fill=(100,100,100), width=2)\n",
    "#     #break \n",
    "# img"
   ]
  },
  {
   "cell_type": "code",
   "execution_count": null,
   "metadata": {},
   "outputs": [],
   "source": []
  },
  {
   "cell_type": "code",
   "execution_count": 21,
   "metadata": {},
   "outputs": [],
   "source": [
    "#imageTextGenerator.textImage"
   ]
  },
  {
   "cell_type": "code",
   "execution_count": null,
   "metadata": {},
   "outputs": [],
   "source": []
  },
  {
   "cell_type": "code",
   "execution_count": null,
   "metadata": {},
   "outputs": [],
   "source": []
  },
  {
   "cell_type": "code",
   "execution_count": 22,
   "metadata": {},
   "outputs": [],
   "source": [
    "# img = imageTextGenerator.textImage.copy()\n",
    "# for k,a  in zip(imageTextGenerator.wordsRegion, imageTextGenerator.angles):\n",
    "#     d = ImageDraw.Draw(img)\n",
    "#     rotated = rotateRect(k,a)\n",
    "# #     d.line((rotated[0], rotated[1], rotated[0], rotated[3]), fill=(100,100,100), width=2)\n",
    "# #     d.line((k[0], k[1], k[2], k[1]), fill=(100,100,100), width=2)\n",
    "# #     d.line((k[2], k[1], k[2], k[3]), fill=(100,100,100), width=2)\n",
    "# #     d.line((k[0], k[3], k[2], k[3]), fill=(100,100,100), width=2)\n",
    "    \n",
    "    \n",
    "#     rotated = rotateRect(k,a)\n",
    "#     print(a)\n",
    "#     print(k)\n",
    "#     d.line((*rotated[0], *rotated[1]), fill=(195,195,195), width=1)\n",
    "#     d.line((*rotated[1], *rotated[2]), fill=(195,195,195), width=1)\n",
    "#     d.line((*rotated[2], *rotated[3]), fill=(195,195,195), width=1)\n",
    "#     d.line((*rotated[3], *rotated[0]), fill=(195,195,195), width=1)\n",
    "#     print(rotated)\n",
    "#     break\n",
    "# img"
   ]
  },
  {
   "cell_type": "code",
   "execution_count": null,
   "metadata": {},
   "outputs": [],
   "source": []
  },
  {
   "cell_type": "code",
   "execution_count": null,
   "metadata": {},
   "outputs": [],
   "source": []
  },
  {
   "cell_type": "code",
   "execution_count": 23,
   "metadata": {},
   "outputs": [],
   "source": [
    "import cv2\n",
    "import numpy as np\n",
    "import random\n",
    "from scipy.stats import norm\n",
    "\n",
    "def generate_spot_light_mask(mask_size,\n",
    "                             position=None,\n",
    "                             max_brightness=255,\n",
    "                             min_brightness=0,\n",
    "                             mode=\"gaussian\",\n",
    "                             linear_decay_rate=None,\n",
    "                             speedup=False):\n",
    "    \"\"\"\n",
    "    Generate decayed light mask generated by spot light given position, direction. Multiple spotlights are accepted.\n",
    "    Args:\n",
    "        mask_size: tuple of integers (w, h) defining generated mask size\n",
    "        position: list of tuple of integers (x, y) defining the center of spotlight light position,\n",
    "                  which is the reference point during rotating\n",
    "        max_brightness: integer that max brightness in the mask\n",
    "        min_brightness: integer that min brightness in the mask\n",
    "        mode: the way that brightness decay from max to min: linear or gaussian\n",
    "        linear_decay_rate: only valid in linear_static mode. Suggested value is within [0.2, 2]\n",
    "        speedup: use `shrinkage then expansion` strategy to speed up vale calculation\n",
    "    Return:\n",
    "        light_mask: ndarray in float type consisting value from max_brightness to min_brightness. If in 'linear' mode\n",
    "                    minimum value could be smaller than given min_brightness.\n",
    "    \"\"\"\n",
    "    if position is None:\n",
    "        position = [(random.randint(0, mask_size[0]), random.randint(0, mask_size[1]))]\n",
    "    if linear_decay_rate is None:\n",
    "        if mode == \"linear_static\":\n",
    "            linear_decay_rate = random.uniform(0.25, 1)\n",
    "    assert mode in [\"linear\", \"gaussian\"], \\\n",
    "        \"mode must be linear_dynamic, linear_static or gaussian\"\n",
    "    mask = np.zeros(shape=(mask_size[1], mask_size[0]), dtype=np.float32)\n",
    "    if mode == \"gaussian\":\n",
    "        mu = np.sqrt(mask.shape[0]**2+mask.shape[1]**2)\n",
    "        dev = mu / 3.5\n",
    "        mask = _decay_value_radically_norm_in_matrix(mask_size, position, max_brightness, min_brightness, dev)\n",
    "    mask = np.asarray(mask, dtype=np.uint8)\n",
    "    # add median blur\n",
    "    mask = cv2.medianBlur(mask, 5)\n",
    "    mask = 255 - mask\n",
    "    # cv2.imshow(\"mask\", mask)\n",
    "    # cv2.waitKey(0)\n",
    "    return mask\n",
    "\n",
    "def _decay_value_radically_norm_in_matrix(mask_size, centers, max_value, min_value, dev):\n",
    "    \"\"\"\n",
    "    _decay_value_radically_norm function in matrix format\n",
    "    \"\"\"\n",
    "    center_prob = norm.pdf(0, 0, dev)\n",
    "    x_value_rate = np.zeros((mask_size[1], mask_size[0]))\n",
    "    for center in centers:\n",
    "        coord_x = np.arange(mask_size[0])\n",
    "        coord_y = np.arange(mask_size[1])\n",
    "        xv, yv = np.meshgrid(coord_x, coord_y)\n",
    "        dist_x = xv - center[0]\n",
    "        dist_y = yv - center[1]\n",
    "        dist = np.sqrt(np.power(dist_x, 2) + np.power(dist_y, 2))\n",
    "        x_value_rate += norm.pdf(dist, 0, dev) / center_prob\n",
    "    mask = x_value_rate * (max_value - min_value) + min_value\n",
    "    mask[mask > 255] = 255\n",
    "    return mask\n",
    "\n",
    "def _decay_value_radically_norm(x, centers, max_value, min_value, dev):\n",
    "    \"\"\"\n",
    "    Calculate point value decayed from center following Gaussian decay. If multiple centers are given, value\n",
    "    from each center sums up while limiting the accumulated value into [0, 255]\n",
    "    NOTE: assuming light at each center is identical: same brightness and same decay rate\n",
    "    \"\"\"\n",
    "    center_prob = norm.pdf(0, 0, dev)\n",
    "    x_value_rate = 0\n",
    "    for center in centers:\n",
    "        distance = np.sqrt((center[0]-x[0])**2 + (center[1]-x[1])**2)\n",
    "        x_value_rate += norm.pdf(distance, 0, dev) / center_prob\n",
    "    x_value = x_value_rate * (max_value - min_value) + min_value\n",
    "    x_value = 255 if x_value > 255 else x_value\n",
    "    return x_value\n",
    "\n",
    "def add_spot_light(image, light_position=None, max_brightness=255, min_brightness=0,\n",
    "                   mode='gaussian', linear_decay_rate=None, transparency=None):\n",
    "    \"\"\"\n",
    "    Add mask generated from spot light to given image\n",
    "    \"\"\"\n",
    "    if transparency is None:\n",
    "        transparency = random.uniform(0.5, 0.85)\n",
    "    frame = image\n",
    "    height, width, _ = frame.shape\n",
    "    hsv = cv2.cvtColor(frame, cv2.COLOR_BGR2HSV)\n",
    "    mask = generate_spot_light_mask(mask_size=(width, height),\n",
    "                                    position=light_position,\n",
    "                                    max_brightness=max_brightness,\n",
    "                                    min_brightness=min_brightness,\n",
    "                                    mode=mode,\n",
    "                                    linear_decay_rate=linear_decay_rate)\n",
    "    hsv[:, :, 2] = hsv[:, :, 2] * transparency + (255 - mask) * (1 - transparency)\n",
    "    frame = cv2.cvtColor(hsv, cv2.COLOR_HSV2BGR)\n",
    "    frame[frame > 255] = 255\n",
    "    frame = np.asarray(frame, dtype=np.uint8)\n",
    "    return frame"
   ]
  },
  {
   "cell_type": "code",
   "execution_count": 24,
   "metadata": {},
   "outputs": [],
   "source": [
    "import cv2\n",
    "import numpy as np\n",
    "import random\n",
    "from scipy.stats import norm\n",
    "\n",
    "def _decayed_value_in_norm(x, max_value, min_value, center, range):\n",
    "    \"\"\"\n",
    "    decay from max value to min value following Gaussian/Normal distribution\n",
    "    \"\"\"\n",
    "    radius = range / 3\n",
    "    center_prob = norm.pdf(center, center, radius)\n",
    "    x_prob = norm.pdf(x, center, radius)\n",
    "    x_value = (x_prob / center_prob) * (max_value - min_value) + min_value\n",
    "    return x_value\n",
    "def _decayed_value_in_linear(x, max_value, padding_center, decay_rate):\n",
    "    \"\"\"\n",
    "    decay from max value to min value with static linear decay rate.\n",
    "    \"\"\"\n",
    "    x_value = max_value - abs(padding_center - x) * decay_rate\n",
    "    if x_value < 0:\n",
    "        x_value = 1\n",
    "    return x_value\n",
    "\n",
    "def generate_parallel_light_mask(mask_size,\n",
    "                                 position=None,\n",
    "                                 direction=None,\n",
    "                                 max_brightness=255,\n",
    "                                 min_brightness=0,\n",
    "                                 mode=\"gaussian\",\n",
    "                                 linear_decay_rate=None):\n",
    "    \"\"\"\n",
    "    Generate decayed light mask generated by light strip given its position, direction\n",
    "    Args:\n",
    "        mask_size: tuple of integers (w, h) defining generated mask size\n",
    "        position: tuple of integers (x, y) defining the center of light strip position,\n",
    "                  which is the reference point during rotating\n",
    "        direction: integer from 0 to 360 to indicate the rotation degree of light strip\n",
    "        max_brightness: integer that max brightness in the mask\n",
    "        min_brightness: integer that min brightness in the mask\n",
    "        mode: the way that brightness decay from max to min: linear or gaussian\n",
    "        linear_decay_rate: only valid in linear_static mode. Suggested value is within [0.2, 2]\n",
    "    Return:\n",
    "        light_mask: ndarray in float type consisting value from 0 to strength\n",
    "    \"\"\"\n",
    "    if position is None:\n",
    "        pos_x = random.randint(0, mask_size[0])\n",
    "        pos_y = random.randint(0, mask_size[1])\n",
    "    else:\n",
    "        pos_x = position[0]\n",
    "        pos_y = position[1]\n",
    "    if direction is None:\n",
    "        direction = random.randint(0, 360)\n",
    "        #print(\"Rotate degree: \", direction)\n",
    "    if linear_decay_rate is None:\n",
    "        if mode == \"linear_static\":\n",
    "            linear_decay_rate = random.uniform(0.2, 2)\n",
    "        if mode == \"linear_dynamic\":\n",
    "            linear_decay_rate = (max_brightness - min_brightness) / max(mask_size)\n",
    "    assert mode in [\"linear_dynamic\", \"linear_static\", \"gaussian\"], \\\n",
    "        \"mode must be linear_dynamic, linear_static or gaussian\"\n",
    "    padding = int(max(mask_size) * np.sqrt(2))\n",
    "    # add padding to satisfy cropping after rotating\n",
    "    canvas_x = padding * 2 + mask_size[0]\n",
    "    canvas_y = padding * 2 + mask_size[1]\n",
    "    mask = np.zeros(shape=(canvas_y, canvas_x), dtype=np.float32)\n",
    "    # initial mask's up left corner and bottom right corner coordinate\n",
    "    init_mask_ul = (int(padding), int(padding))\n",
    "    init_mask_br = (int(padding+mask_size[0]), int(padding+mask_size[1]))\n",
    "    init_light_pos = (padding + pos_x, padding + pos_y)\n",
    "    # fill in mask row by row with value decayed from center\n",
    "    for i in range(canvas_y):\n",
    "        if mode == \"linear\":\n",
    "            i_value = _decayed_value_in_linear(i, max_brightness, init_light_pos[1], linear_decay_rate)\n",
    "        elif mode == \"gaussian\":\n",
    "            i_value = _decayed_value_in_norm(i, max_brightness, min_brightness, init_light_pos[1], mask_size[1])\n",
    "        else:\n",
    "            i_value = 0\n",
    "        mask[i] = i_value\n",
    "    # rotate mask\n",
    "    rotate_M = cv2.getRotationMatrix2D(init_light_pos, direction, 1)\n",
    "    mask = cv2.warpAffine(mask, rotate_M, (canvas_x,  canvas_y))\n",
    "    # crop\n",
    "    mask = mask[init_mask_ul[1]:init_mask_br[1], init_mask_ul[0]:init_mask_br[0]]\n",
    "    mask = np.asarray(mask, dtype=np.uint8)\n",
    "    # add median blur\n",
    "    mask = cv2.medianBlur(mask, 9)\n",
    "    mask = 255 - mask\n",
    "    # cv2.circle(mask, init_light_pos, 1, (0, 0, 255))\n",
    "    # cv2.imshow(\"crop\", mask[init_mask_ul[1]:init_mask_br[1], init_mask_ul[0]:init_mask_br[0]])\n",
    "    # cv2.imshow(\"all\", mask)\n",
    "    # cv2.waitKey(0)\n",
    "    return mask\n",
    "\n",
    "def add_parallel_light(image, light_position=None, direction=None, max_brightness=255, min_brightness=0,\n",
    "                       mode=\"gaussian\", linear_decay_rate=None, transparency=None):\n",
    "    \"\"\"\n",
    "    Add mask generated from parallel light to given image\n",
    "    \"\"\"\n",
    "    if transparency is None:\n",
    "        transparency = random.uniform(0.5, 0.85)\n",
    "    frame = image\n",
    "    height, width, _ = frame.shape\n",
    "    hsv = cv2.cvtColor(frame, cv2.COLOR_BGR2HSV)\n",
    "    mask = generate_parallel_light_mask(mask_size=(width, height),\n",
    "                                        position=light_position,\n",
    "                                        direction=direction,\n",
    "                                        max_brightness=max_brightness,\n",
    "                                        min_brightness=min_brightness,\n",
    "                                        mode=mode,\n",
    "                                        linear_decay_rate=linear_decay_rate)\n",
    "    hsv[:, :, 2] = hsv[:, :, 2] * transparency + (255-mask) * (1 - transparency)\n",
    "    frame = cv2.cvtColor(hsv, cv2.COLOR_HSV2BGR)\n",
    "    frame[frame > 255] = 255\n",
    "    frame = np.asarray(frame, dtype=np.uint8)\n",
    "    return frame"
   ]
  },
  {
   "cell_type": "code",
   "execution_count": 25,
   "metadata": {},
   "outputs": [],
   "source": [
    "import numpy as np\n",
    "import cv2\n",
    "import math\n",
    "from math import exp\n",
    "\n",
    "\n",
    "def pointAngle(Apoint, Bpoint):\n",
    "    angle = (Bpoint[1] - Apoint[1]) / ((Bpoint[0] - Apoint[0]) + 10e-8)\n",
    "    return angle\n",
    "\n",
    "def pointDistance(Apoint, Bpoint):\n",
    "    return math.sqrt((Bpoint[1] - Apoint[1])**2 + (Bpoint[0] - Apoint[0])**2)\n",
    "\n",
    "def lineBiasAndK(Apoint, Bpoint):\n",
    "    K = pointAngle(Apoint, Bpoint)\n",
    "    B = Apoint[1] - K*Apoint[0]\n",
    "    return K, B\n",
    "\n",
    "def getX(K, B, Ypoint):\n",
    "    return int((Ypoint-B)/K)\n",
    "\n",
    "def sidePoint(Apoint, Bpoint, h, w, placehold):\n",
    "\n",
    "    K, B = lineBiasAndK(Apoint, Bpoint)\n",
    "    angle = abs(math.atan(pointAngle(Apoint, Bpoint)))\n",
    "    distance = pointDistance(Apoint, Bpoint)\n",
    "\n",
    "    halfIncreaseDistance = 0.5 * distance\n",
    "\n",
    "    XaxisIncreaseDistance = abs(math.cos(angle) * halfIncreaseDistance)\n",
    "    YaxisIncreaseDistance = abs(math.sin(angle) * halfIncreaseDistance)\n",
    "\n",
    "    if placehold == 'leftTop':\n",
    "        x1 = max(0, Apoint[0] - XaxisIncreaseDistance)\n",
    "        y1 = max(0, Apoint[1] - YaxisIncreaseDistance)\n",
    "    elif placehold == 'rightTop':\n",
    "        x1 = min(w, Bpoint[0] + XaxisIncreaseDistance)\n",
    "        y1 = max(0, Bpoint[1] - YaxisIncreaseDistance)\n",
    "    elif placehold == 'rightBottom':\n",
    "        x1 = min(w, Bpoint[0] + XaxisIncreaseDistance)\n",
    "        y1 = min(h, Bpoint[1] + YaxisIncreaseDistance)\n",
    "    elif placehold == 'leftBottom':\n",
    "        x1 = max(0, Apoint[0] - XaxisIncreaseDistance)\n",
    "        y1 = min(h, Apoint[1] + YaxisIncreaseDistance)\n",
    "\n",
    "    return int(x1), int(y1)\n",
    "\n",
    "# 将box扩大1.5倍\n",
    "def enlargebox(box, h, w):\n",
    "   # print(box)\n",
    "    # box = [Apoint, Bpoint, Cpoint, Dpoint]\n",
    "    Apoint, Bpoint, Cpoint, Dpoint = box\n",
    "    K1, B1 = lineBiasAndK(box[0], box[2])\n",
    "    K2, B2 = lineBiasAndK(box[3], box[1])\n",
    "    X = (B2 - B1)/(K1 - K2)\n",
    "    Y = K1 * X + B1\n",
    "    center = [X, Y]\n",
    "\n",
    "    x1, y1 = sidePoint(Apoint, center, h, w, 'leftTop')\n",
    "    x2, y2 = sidePoint(center, Bpoint, h, w, 'rightTop')\n",
    "    x3, y3 = sidePoint(center, Cpoint, h, w, 'rightBottom')\n",
    "    x4, y4 = sidePoint(Dpoint, center, h, w, 'leftBottom')\n",
    "    newcharbox = np.array([[x1, y1], [x2, y2], [x3, y3], [x4, y4]])\n",
    "    return newcharbox\n",
    "\n",
    "# coding=utf-8\n",
    "from math import exp\n",
    "import numpy as np\n",
    "import cv2\n",
    "import os\n",
    "import math\n",
    "#from gaussianMap import imgproc\n",
    "#from data.boxEnlarge import enlargebox\n",
    "\n",
    "\n",
    "class GaussianTransformer(object):\n",
    "\n",
    "    def __init__(self, imgSize=200, enlargeSize=1.50):\n",
    "        self.imgSize = imgSize\n",
    "        isotropicGrayscaleImage, isotropicGrayscaleImageColor = self.gen_gaussian_heatmap()\n",
    "        self.standardGaussianHeat = isotropicGrayscaleImage\n",
    "        self.enlargeSize = enlargeSize\n",
    "        # color_gaussian = cv2.applyColorMap(self.standardGaussianHeat, cv2.COLORMAP_JET)\n",
    "        # cv2.imshow(\"test\", color_gaussian)\n",
    "        # cv2.waitKey(0)\n",
    "        # self._test()\n",
    "\n",
    "    def gen_gaussian_heatmap(self):\n",
    "        circle_mask = self.gen_circle_mask()\n",
    "        imgSize = self.imgSize\n",
    "        isotropicGrayscaleImage = np.zeros((imgSize, imgSize), np.float32)\n",
    "\n",
    "        # scaledGaussian = lambda x: exp(-((x ** 2)/(2 * (40 **2)))) * (1 / sqrt(2 * pi * (40 **2)))\n",
    "        # scaledGaussian = lambda x: exp(-((x ** 2) / (2 * (40 ** 2))))\n",
    "\n",
    "        # 生成高斯图\n",
    "        for i in range(imgSize):\n",
    "            for j in range(imgSize):\n",
    "                isotropicGrayscaleImage[i, j] = 1 / 2 / np.pi / (40 ** 2) * np.exp(\n",
    "                    -1 / 2 * ((i - imgSize / 2) ** 2 / (40 ** 2) + (j - imgSize / 2) ** 2 / (40 ** 2)))\n",
    "        # 如果要可视化对比正方形和最大内切圆高斯图的区别，注释下面这行即可\n",
    "        isotropicGrayscaleImage = isotropicGrayscaleImage * circle_mask\n",
    "        isotropicGrayscaleImage = (isotropicGrayscaleImage / np.max(isotropicGrayscaleImage)).astype(np.float32)\n",
    "\n",
    "        isotropicGrayscaleImage = (isotropicGrayscaleImage / np.max(isotropicGrayscaleImage) * 255).astype(np.uint8)\n",
    "        isotropicGrayscaleImageColor = cv2.applyColorMap(isotropicGrayscaleImage, cv2.COLORMAP_JET)\n",
    "        return isotropicGrayscaleImage, isotropicGrayscaleImageColor\n",
    "\n",
    "    # 生成高斯图的mask，对于正方形的高斯图来说，只将最大内切圆作为字符的高斯图区域去学习\n",
    "    # 在初版开源的高斯图生成中，是将正方形完整区域作为高斯图的\n",
    "    # 新的方法可视化后与作者论文中展示的可视化效果是完全一致的\n",
    "    def gen_circle_mask(self):\n",
    "        imgSize = self.imgSize\n",
    "        circle_img = np.zeros((imgSize, imgSize), np.float32)\n",
    "        circle_mask = cv2.circle(circle_img, (imgSize//2, imgSize//2), imgSize//2, 1, -1)\n",
    "\n",
    "        # circle_mask = cv2.circle(circle_img, (imgSize//2, imgSize//2), imgSize//2, 255, -1)\n",
    "        # circle_mask = cv2.applyColorMap(circle_mask, cv2.COLORMAP_JET)\n",
    "        # cv2.imshow(\"circle\", circle_mask)\n",
    "        # cv2.waitKey(0)\n",
    "        return circle_mask\n",
    "\n",
    "    # 将原始的box扩大1.5倍\n",
    "    # 仅仅作用于正矩形，不规则四边形无效， 请参考data/boEnlarge文件\n",
    "    def enlargeBox(self, box, imgh, imgw):\n",
    "        boxw = box[1][0] - box[0][0]\n",
    "        boxh = box[2][1] - box[1][1]\n",
    "\n",
    "        if imgh <= boxh or imgw <= boxw:\n",
    "            return box\n",
    "\n",
    "        enlargew = boxw * 0.5\n",
    "        enlargeh = boxh * 0.5\n",
    "\n",
    "        # box扩大这部分为了清晰，code写的比较冗余\n",
    "        # 左上角顶点扩充后坐标， 剩下点顺时针以此类推\n",
    "        box[0][0], box[0][1] = max(0, box[0][0] - int(enlargew*0.5)), max(0, box[0][1] - int(enlargeh*0.5))\n",
    "        box[1][0], box[1][1] = min(imgw, box[1][0] + int(enlargew*0.5)), max(0, box[1][1] - int(enlargeh*0.5))\n",
    "        box[2][0], box[2][1] = min(imgw, box[2][0] + int(enlargew*0.5)), min(imgh, box[2][1] + int(enlargeh*0.5))\n",
    "        box[3][0], box[3][1] = max(0, box[3][0] - int(enlargew*0.5)), min(imgh, box[3][1] + int(enlargeh*0.5))\n",
    "\n",
    "        return box\n",
    "\n",
    "    def four_point_transform(self, target_bbox, save_dir=None):\n",
    "        '''\n",
    "        :param target_bbox:目标bbox\n",
    "        :param save_dir:如果不是None，则保存图片到save_dir中\n",
    "        :return:\n",
    "        '''\n",
    "        width, height = np.max(target_bbox[:, 0]).astype(np.int32), np.max(target_bbox[:, 1]).astype(np.int32)\n",
    "        right = self.standardGaussianHeat.shape[1] - 1\n",
    "        bottom = self.standardGaussianHeat.shape[0] - 1\n",
    "        ori = np.array([[0, 0], [right, 0],\n",
    "                        [right, bottom],\n",
    "                        [0, bottom]], dtype=\"float32\")\n",
    "        M = cv2.getPerspectiveTransform(ori, target_bbox)\n",
    "        warped = cv2.warpPerspective(self.standardGaussianHeat.copy(), M, (int(width), int(height)))\n",
    "        warped = np.array(warped, np.uint8)\n",
    "        if save_dir:\n",
    "            warped_color = cv2.applyColorMap(warped, cv2.COLORMAP_JET)\n",
    "            cv2.imwrite(os.path.join(save_dir, 'warped.jpg'), warped_color)\n",
    "\n",
    "        return warped, width, height\n",
    "\n",
    "    def add_character(self, image, bbox, singal = None):\n",
    "        # bbox = self.enlargeBox(bbox, image.shape[0], image.shape[1])\n",
    "        bbxo_copy = bbox.copy()\n",
    "        bbox = enlargebox(bbox, image.shape[0], image.shape[1])\n",
    "        if singal == \"affinity\":\n",
    "            bbox[0][0], bbox[1][0], bbox[2][0], bbox[3][0] = bbxo_copy[0][0], bbxo_copy[1][0], bbxo_copy[2][0], bbxo_copy[3][0]\n",
    "\n",
    "        # bbox = np.array([[45, 135], [135, 135], [135, 295], [45, 295]], dtype=np.float32)\n",
    "\n",
    "        if np.any(bbox < 0) or np.any(bbox[:, 0] > image.shape[1]) or np.any(bbox[:, 1] > image.shape[0]):\n",
    "            return image\n",
    "        ori_box = bbox\n",
    "        top_left = np.array([np.min(bbox[:, 0]), np.min(bbox[:, 1])]).astype(np.int32)\n",
    "        point = top_left\n",
    "        bbox -= top_left[None, :]\n",
    "        transformed, width, height = self.four_point_transform(bbox.astype(np.float32))\n",
    "        # if width * height < 10:\n",
    "        #     return image\n",
    "        try:\n",
    "            score_map = image[top_left[1]:top_left[1] + transformed.shape[0],\n",
    "                        top_left[0]:top_left[0] + transformed.shape[1]]\n",
    "            score_map = np.where(transformed > score_map, transformed, score_map)\n",
    "            image[top_left[1]:top_left[1] + transformed.shape[0],\n",
    "            top_left[0]:top_left[0] + transformed.shape[1]] = score_map\n",
    "        except Exception as e:\n",
    "            # print('tansformed shape:{}\\n image top_left shape:{}\\n top transformed shape:{}\\n width and hright:{}\\n ori box:{}\\n top left:{}\\n point:{}\\n min width height:{}\\n bbox:{}\\n'\n",
    "            #       .format(transformed.shape, image[top_left[1]:top_left[1],\n",
    "            # top_left[0]:top_left[0]].shape, image[top_left[1]:top_left[1] + transformed.shape[0],\n",
    "            # top_left[0]:top_left[0] + transformed.shape[1]].shape, (width, height), ori_box, top_left,point,\n",
    "            #       np.array([np.min(ori_box[:, 0]), np.min(ori_box[:, 1])]).astype(np.int32),\n",
    "            #       ori_box-np.array([np.min(ori_box[:, 0]), np.min(ori_box[:, 1])]).astype(np.int32)))\n",
    "            print('second filter {} {} {}'.format(width,height,singal))\n",
    "        return image\n",
    "\n",
    "    def add_affinity(self, image, bbox_1, bbox_2):\n",
    "        center_1, center_2 = np.mean(bbox_1, axis=0), np.mean(bbox_2, axis=0)\n",
    "        tl = (bbox_1[0:2].sum(0) + center_1) / 3\n",
    "        bl = (bbox_2[0:2].sum(0) + center_2) / 3\n",
    "        tr = (bbox_2[2:4].sum(0) + center_2) / 3\n",
    "        br = (bbox_1[2:4].sum(0) + center_1) / 3\n",
    "\n",
    "        affinity = np.array([tl, bl, tr, br]).astype(np.float32)\n",
    "        # tl = np.mean([bbox_1[0], bbox_1[1], center_1], axis=0)\n",
    "        # bl = np.mean([bbox_1[2], bbox_1[3], center_1], axis=0)\n",
    "        # tr = np.mean([bbox_2[0], bbox_2[1], center_2], axis=0)\n",
    "        # br = np.mean([bbox_2[2], bbox_2[3], center_2], axis=0)\n",
    "        #\n",
    "        # affinity = np.array([tl, tr, br, bl])\n",
    "\n",
    "        return self.add_character(image, affinity.copy(), singal='affinity'), np.expand_dims(affinity, axis=0)\n",
    "\n",
    "    def generate_region(self, image_size, bboxes):\n",
    "        height, width = image_size\n",
    "        target = np.zeros([height, width], dtype=np.float32)\n",
    "        for i in range(len(bboxes)):\n",
    "            character_bbox = np.array(bboxes[i])\n",
    "            for j in range(bboxes[i].shape[0]):\n",
    "                target = self.add_character(target, character_bbox[j], singal='region')\n",
    "\n",
    "        return target\n",
    "\n",
    "    def saveGaussianHeat(self):\n",
    "        images_folder = os.path.abspath(os.path.dirname(__file__)) + '/images'\n",
    "        cv2.imwrite(os.path.join(images_folder, 'standard.jpg'), self.standardGaussianHeat)\n",
    "        warped_color = cv2.applyColorMap(self.standardGaussianHeat, cv2.COLORMAP_JET)\n",
    "        cv2.imwrite(os.path.join(images_folder, 'standard_color.jpg'), warped_color)\n",
    "        standardGaussianHeat1 = self.standardGaussianHeat.copy()\n",
    "        standardGaussianHeat1[standardGaussianHeat1 < (0.4 * 255)] = 255\n",
    "        threshhold_guassian = cv2.applyColorMap(standardGaussianHeat1, cv2.COLORMAP_JET)\n",
    "        cv2.imwrite(os.path.join(images_folder, 'threshhold_guassian.jpg'), threshhold_guassian)\n",
    "\n",
    "    def generate_affinity(self, image_size, bboxes, words):\n",
    "        height, width = image_size\n",
    "        target = np.zeros([height, width], dtype=np.float32)\n",
    "        affinities = []\n",
    "        for i in range(len(words)):\n",
    "            character_bbox = np.array(bboxes[i])\n",
    "            total_letters = 0\n",
    "            for char_num in range(character_bbox.shape[0] - 1):\n",
    "                target, affinity = self.add_affinity(target, character_bbox[total_letters],\n",
    "                                                     character_bbox[total_letters + 1])\n",
    "                affinities.append(affinity)\n",
    "                total_letters += 1\n",
    "        if len(affinities) > 0:\n",
    "            affinities = np.concatenate(affinities, axis=0)\n",
    "        return target, affinities"
   ]
  },
  {
   "cell_type": "code",
   "execution_count": 26,
   "metadata": {},
   "outputs": [],
   "source": [
    "import numpy as np\n",
    "import pdb\n",
    "from matplotlib import pyplot as plt\n",
    "from scipy.stats import multivariate_normal\n",
    "import squircle\n",
    "import imutils\n",
    "from PIL import ImageOps\n",
    "\n",
    "def gauss2d(size=(200,200), square=False):\n",
    "    mu = [0, 0]\n",
    "    sigma = [1500, 1500]\n",
    "    w, h = size\n",
    "\n",
    "    std = [np.sqrt(sigma[0]), np.sqrt(sigma[1])]\n",
    "    x = np.linspace(-w//2, w//2, w)\n",
    "    y = np.linspace(-h//2, h//2, h)\n",
    "\n",
    "    x, y = np.meshgrid(x, y)\n",
    "\n",
    "    x_ = x.flatten()\n",
    "    y_ = y.flatten()\n",
    "    xy = np.vstack((x_, y_)).T\n",
    "\n",
    "    normal_rv = multivariate_normal(mu, sigma)\n",
    "    z = normal_rv.pdf(xy)\n",
    "    z = z.reshape(w, h, order='F')\n",
    "    z = z / np.max(z) * 255\n",
    "    #z[z>255] = 255\n",
    "    if square:\n",
    "        z = squircle.to_square(z, method=\"elliptical\")\n",
    "        z = squircle.to_square(z, method=\"elliptical\")\n",
    "    #plt.imshow(z, cmap=\"gray\")\n",
    "    return z\n",
    "\n",
    "\n",
    "def get_gradient_3d(width, height, start_list, stop_list, is_horizontal_list):\n",
    "    result = np.zeros((height, width, len(start_list)), dtype=np.float)\n",
    "\n",
    "    for i, (start, stop, is_horizontal) in enumerate(zip(start_list, stop_list, is_horizontal_list)):\n",
    "        result[:, :, i] = get_gradient_2d(start, stop, width, height, is_horizontal)\n",
    "\n",
    "    return result\n",
    "\n",
    "def get_gradient_2d(start, stop, width, height, is_horizontal):\n",
    "    if is_horizontal:\n",
    "        return np.tile(np.linspace(start, stop, width), (height, 1))\n",
    "    else:\n",
    "        return np.tile(np.linspace(start, stop, height), (width, 1)).T"
   ]
  },
  {
   "cell_type": "code",
   "execution_count": 27,
   "metadata": {},
   "outputs": [],
   "source": [
    "\n",
    "class ImageDistorter:\n",
    "    def __init__(self, image, textImage, annotation, background):\n",
    "        \n",
    "        self.minImageSize = min(*image.size)\n",
    "        self.image = np.array(image)\n",
    "        self.squareMask = gauss2d(square=True)\n",
    "        self.circleMask = gauss2d()\n",
    "        self.textImage = np.array(textImage)\n",
    "        self.annotation = annotation\n",
    "        self.angle = 0\n",
    "        self.background = background\n",
    "    \n",
    "    def applymotionBlur(self):\n",
    "        size = np.random.randint(-max(self.minImageSize//50,1)//2, max(self.minImageSize//50, 1))\n",
    "        if size <= 0:\n",
    "            return\n",
    "        angle = np.random.randint(0, 180)\n",
    "        k = np.zeros((size, size), dtype=np.float32)\n",
    "        k[(size-1)// 2, :] = np.ones(size, dtype=np.float32)\n",
    "        k = cv2.warpAffine(k, cv2.getRotationMatrix2D((size / 2 -0.5 , size / 2 -0.5 ) , angle, 1.0), (size, size))  \n",
    "        k = k * (1.0 / np.sum(k))       \n",
    "        self.image =  cv2.filter2D(self.image, -1, k)\n",
    "        \n",
    "    def applyGaussBlur(self):\n",
    "        size = np.random.randint(-5, 5) //2 * 2 + 1 \n",
    "        if size <= 0:\n",
    "            return\n",
    "        self.image = cv2.GaussianBlur(self.image,(5,5),0)\n",
    "        \n",
    "    def applyBlur(self):\n",
    "        if np.random.randint(0,2) == 0:\n",
    "            self.applyGaussBlur()\n",
    "        else:\n",
    "            self.applymotionBlur()\n",
    "\n",
    "    def applyShadow(self, brightness=0):\n",
    "        shadowCount = np.random.randint(5)\n",
    "        H,W, _ = self.image.shape\n",
    "        for i in range(1):\n",
    "            h = np.random.randint(self.image.shape[0], self.image.shape[0]*2)\n",
    "            w = np.random.randint(self.image.shape[1], self.image.shape[1]*2)\n",
    "            startX = np.random.randint(-w//2, W - w//2)\n",
    "            startY = np.random.randint(-h//2, H - h//2)\n",
    "            maskXBegin = 0\n",
    "            maskXEnd = w\n",
    "            if startX < 0:\n",
    "                maskXBegin = - startX\n",
    "            if startX + w > W:\n",
    "                maskXEnd =  (W - startX)\n",
    "            maskYBegin = 0\n",
    "            maskYEnd = h\n",
    "            if startY < 0:\n",
    "                maskYBegin = - startY\n",
    "            if startY + h > H:\n",
    "                maskYEnd =  (H - startY)\n",
    "            \n",
    "            pillImg = Image.fromarray(self.image)\n",
    "            imOut = self.image.copy()\n",
    "            cropped = pillImg.crop([max(startX,0),max(0,startY),min(startX + w, W) ,min(startY + h, H)])\n",
    "            factor = np.random.uniform(0.2 + brightness,0.5 + brightness) #darkens the image\n",
    "            enhancer = ImageEnhance.Brightness(cropped)\n",
    "            im_output = enhancer.enhance(factor)\n",
    "            imOut[max(0,startY):min(startY + h, H), max(0,startX):min(startX + w, W)] = np.array(im_output)\n",
    "            mask = cv2.resize(self.circleMask, (w,h))[maskYBegin:maskYEnd, maskXBegin:maskXEnd]\n",
    "            imOut[max(0,startY):min(startY + h, H), max(0,startX):min(startX + w, W), 3] = mask\n",
    "            \n",
    "            self.image = np.array(Image.alpha_composite(Image.fromarray(self.image), Image.fromarray(imOut)))\n",
    "    \n",
    "    def applyBrightness(self):\n",
    "        self.applyShadow(1)\n",
    "        \n",
    "    def applyGlare(self, center=None):\n",
    "        H,W, _ = self.image.shape\n",
    "        h = np.random.randint(H//5, H//2)\n",
    "        w = np.random.randint(W//5, W//2)\n",
    "        startX = np.random.randint(-w//2, W - w//2)\n",
    "        startY = np.random.randint(-h//2, H - h//2)\n",
    "        if center is not None:\n",
    "            startX = center[0] - w//2\n",
    "            startY = center[1] - h//2\n",
    "            assert(startX + w>= 0)\n",
    "            assert(startY + h>= 0)\n",
    "        maskXBegin = 0\n",
    "        maskXEnd = w\n",
    "        if startX < 0:\n",
    "            maskXBegin = - startX\n",
    "        if startX + w > W:\n",
    "            maskXEnd =  (W - startX)\n",
    "        maskYBegin = 0\n",
    "        maskYEnd = h\n",
    "        if startY < 0:\n",
    "            maskYBegin = - startY\n",
    "        if startY + h > H:\n",
    "            maskYEnd =  (H - startY)\n",
    "\n",
    "        h2, w2 = min(h, w), min(h, w)\n",
    "        im = Image.new(mode='RGB', size=(w2,h2), color=(255,255,255))\n",
    "\n",
    "        Y = np.linspace(-1, 1, h2)[None, :]*255\n",
    "        X = np.linspace(-1, 1, w2)[:, None]*255\n",
    "        alpha = np.sqrt(X**2 + Y**2)\n",
    "        alpha = 255 - np.clip(alpha,50,255)\n",
    "\n",
    "        im.putalpha(Image.fromarray(alpha.astype(np.uint8)))\n",
    "        im = np.array(im.resize((w, h)))\n",
    "        \n",
    "        imageToMerge = np.zeros_like(self.image)\n",
    "        imageToMerge[max(0,startY):min(startY + h, H), max(0,startX):min(startX + w, W)] = im[maskYBegin:maskYEnd, maskXBegin:maskXEnd]\n",
    "        \n",
    "        self.image = np.array(Image.alpha_composite(Image.fromarray(self.image), Image.fromarray(imageToMerge)))\n",
    "    \n",
    "    def applyUnevenLight(self):\n",
    "        if np.random.randint(0,20) == 0:\n",
    "            return\n",
    "        \n",
    "        H,W, _ = self.image.shape\n",
    "        if np.random.randint(0,2) == 0:\n",
    "            centerX = np.random.randint(0, W)\n",
    "            centerY = np.random.randint(0, H)\n",
    "            image = Image.fromarray(add_parallel_light(np.array(self.image), (centerX, centerY)))\n",
    "            image.putalpha(255)\n",
    "            self.image = np.array(image)\n",
    "            if np.random.randint(0,8) == 0:\n",
    "                self.applyGlare((centerX, centerY))\n",
    "        else:\n",
    "            count = np.random.randint(1, 5)\n",
    "            centers = []\n",
    "            for i in range(count):\n",
    "                centerX = np.random.randint(0, W)\n",
    "                centerY = np.random.randint(0, H)\n",
    "                centers.append((centerX, centerY))\n",
    "            image = Image.fromarray(add_spot_light(np.array(self.image), centers))\n",
    "            image.putalpha(255)\n",
    "            self.image = np.array(image)\n",
    "        \n",
    "\n",
    "    def applyRandomGamma(self):\n",
    "        gamma = np.random.uniform(0.5, 1.5)\n",
    "        invGamma = 1.0 / gamma\n",
    "        table = np.array([0,*[((i / 255.0) ** invGamma) * 255 for i in np.arange(1, 256)]]).astype(\"uint8\")\n",
    "        self.image = cv2.LUT(self.image, table)\n",
    "        \n",
    "    def applyLightHistogrammShift(self):\n",
    "        pass\n",
    "        \n",
    "    def applyNoise(self):\n",
    "        H, W, _ = self.image.shape\n",
    "        \n",
    "        if np.random.randint(0,10) == 0:\n",
    "            noise = np.random.normal(0, 32, (H,W, 4)).astype(np.int)\n",
    "            self.image = self.image.astype(np.int)\n",
    "            noise[:,:,3] = 0\n",
    "            self.image += noise\n",
    "            self.image[self.image > 255] = 255\n",
    "            self.image[self.image < 0] = 0\n",
    "            \n",
    "            self.image = self.image.astype(np.uint8)\n",
    "            return\n",
    "            \n",
    "            \n",
    "        if np.random.randint(0,20) == 0:\n",
    "            noise = np.random.normal(0, np.random.random()*0.5 +1e-8, (H,W, 4))\n",
    "            self.image = self.image.astype(np.int)\n",
    "            noise[:,:,3] = 0\n",
    "            self.image += (noise * self.image).astype(np.int)\n",
    "            self.image[self.image > 255] = 255\n",
    "            self.image[self.image < 0] = 0 \n",
    "            self.image = self.image.astype(np.uint8)\n",
    "            return\n",
    "        \n",
    "        if np.random.randint(0,8) == 0:\n",
    "            noiseMask = np.random.randint(0,50, size=(H,W)) == 0\n",
    "            noise = np.random.randint(0,255, size=(H,W))\n",
    "            self.image[noise > 240] = 255\n",
    "            self.image[noise <= 10] = 0\n",
    "            self.image[:,:,3] = 255\n",
    "            return\n",
    "    \n",
    "        if np.random.randint(0,5) == 0:\n",
    "            noiseMask = np.random.randint(0,20, size=(H,W)) == 0\n",
    "            noise = np.random.randint(0,255, size=(H,W, 4))\n",
    "            noise[:,:,3] = 255\n",
    "            self.image[noiseMask] = noise[noiseMask]\n",
    "            return\n",
    "        \n",
    "    def applyProjMatrix(self, projective_matrix, imgSize, oldImageSize):\n",
    "        H, W, _ = imgSize\n",
    "        h, w, _ = imgSize\n",
    "        w, h = w // 2, h // 2\n",
    "        h1, w1, _ = oldImageSize\n",
    "        w1, h1 = w1 // 2, h1 // 2\n",
    "\n",
    "        for i, symbols in enumerate(self.annotation[\"wordsCharactersRects\"]):\n",
    "            newCharactersRects = []\n",
    "            for k in symbols:\n",
    "                rotated = np.float32([[k[0][0] + w-w1, k[0][1] + h-h1], [k[1][0] + w-w1, k[1][1]+ h-h1], \\\n",
    "                                    [k[2][0] + w-w1, k[2][1] + h-h1], [k[3][0] + w-w1, k[3][1] + h-h1]] )\n",
    "\n",
    "                rotated = cv2.perspectiveTransform(np.float32(rotated)[None, :, :], projective_matrix, (W,H))[0]\n",
    "                newCharactersRects.append(rotated.tolist())\n",
    "            self.annotation[\"wordsCharactersRects\"][i] = newCharactersRects\n",
    "        for i, k in enumerate(self.annotation[\"wordRects\"]):\n",
    "            k = k\n",
    "            self.annotation[\"wordRects\"][i]\n",
    "            rotated = np.float32([ [k[0][0] + w-w1, k[0][1] + h-h1], [k[1][0] + w-w1, k[1][1]+ h-h1], \\\n",
    "                                    [k[2][0] + w-w1, k[2][1] + h-h1], [k[3][0] + w-w1, k[3][1] + h-h1]] )\n",
    "            rotated = cv2.perspectiveTransform(np.float32(rotated)[None, :, :], projective_matrix, (W,H))[0]\n",
    "            self.annotation[\"wordRects\"][i] = rotated.tolist()\n",
    "\n",
    "    def appplyProj(self):\n",
    "        if np.random.randint(0,10) != 0:\n",
    "            return\n",
    "        h, w, _ = self.image.shape\n",
    "        src_points = np.float32([[0,0], [w-1,0], [0,h-1], [w-1,h-1]])\n",
    "        cap = min(w,h)//40\n",
    "        dst_points = np.float32([[np.random.randint(1, cap),np.random.randint(1, cap)], [w - np.random.randint(1, cap),0], [0,h - np.random.randint(1, cap)], [w - np.random.randint(1, cap),h - np.random.randint(1, cap)]])\n",
    "        projective_matrix = cv2.getPerspectiveTransform(src_points, dst_points)\n",
    "        \n",
    "        oldImageSize = self.image.shape\n",
    "        self.image = cv2.warpPerspective(self.image, projective_matrix, (w,h))\n",
    "        self.textImage = cv2.warpPerspective(self.textImage, projective_matrix, (w,h))\n",
    "        \n",
    "        self.applyProjMatrix(projective_matrix, self.image.shape, oldImageSize)\n",
    "\n",
    "    \n",
    "    def applyRotation(self):\n",
    "        if np.random.randint(0,10) != 0:\n",
    "            return\n",
    "        h1, w1, _ = self.image.shape\n",
    "        w1, h1 = w1 // 2, h1 // 2\n",
    "    \n",
    "        angle = np.random.uniform(-3,3)\n",
    "        self.angle = angle\n",
    "        oldImageSize = self.image.shape\n",
    "        self.image = np.array(Image.fromarray(self.image).rotate(angle, expand=1))\n",
    "        self.textImage = np.array(Image.fromarray(self.textImage).rotate(angle, expand=1))\n",
    "        \n",
    "        H, W, _ = self.image.shape\n",
    "        h, w, _ = self.image.shape\n",
    "        w, h = w // 2, h // 2\n",
    "\n",
    "        rotated = rotateRect([w-w1, h-h1, w+w1, h+h1], -angle, h, w)\n",
    "\n",
    "        src_points = np.float32([[w-w1, h-h1], [w+w1, h-h1], [w+w1,h+h1], [w-w1,h+h1]])\n",
    "        dst_points = np.float32(rotated)\n",
    "        projective_matrix = cv2.getPerspectiveTransform(src_points, dst_points)\n",
    "        self.applyProjMatrix(projective_matrix, self.image.shape, oldImageSize)\n",
    "        self.projective_matrix = projective_matrix\n",
    "                \n",
    "\n",
    "    def addHologram(self):\n",
    "        if np.random.randint(0,10) != 0:\n",
    "            return\n",
    "        H, W,_ = self.image.shape\n",
    "\n",
    "        colors = []\n",
    "        for i in range(2):\n",
    "            color = [0,0,0, 255]\n",
    "            color[np.random.randint(0,3)] = np.random.randint(128,200)\n",
    "            color[0] = min(color[0] + np.random.randint(0,255),255)\n",
    "            color[2] = min(color[2] + np.random.randint(0,255),255)\n",
    "            color[1] = min(color[1] + np.random.randint(0,255),255)\n",
    "            colors.append(color)\n",
    "\n",
    "        isHor = np.random.randint(0,2,(3))\n",
    "\n",
    "        w = np.random.randint(W//10 , W//2)\n",
    "        h = np.random.randint(H//10, H//2)\n",
    "        array = get_gradient_3d(w, h, colors[0], colors[1], isHor)\n",
    "\n",
    "\n",
    "        im = Image.fromarray(np.uint8(array))\n",
    "        im.putalpha(np.random.randint(50,180))\n",
    "        im = np.array(im)\n",
    "        \n",
    "        if np.random.randint(0,3) == 0:\n",
    "            for i in range(1,20):\n",
    "                r = np.random.randint(min(w,h)//5,min(w,h)//2)//4\n",
    "                x = np.random.randint(r,w-r)\n",
    "                y = np.random.randint(r,h-r)\n",
    "\n",
    "                g = 255 - gauss2d((2*r,2*r))\n",
    "                im[y-r:y+r,x-r:x+r,3] = (im[y-r:y+r,x-r:x+r,3] * g / 256).astype(np.uint8)\n",
    "\n",
    "        if np.random.randint(0,2) == 0:\n",
    "            for i in range(0,min(w,h)//4):\n",
    "                rx = np.random.randint(2,w//2)\n",
    "                ry = np.random.randint(2,h//2)\n",
    "\n",
    "                if np.random.randint(0,2) == 0:\n",
    "                    rx = 2\n",
    "                else:    \n",
    "                    ry = 2\n",
    "\n",
    "                x = np.random.randint(rx,w-rx)\n",
    "                y = np.random.randint(ry,h-ry)\n",
    "\n",
    "                im[y-ry:y+ry,x-rx:x+rx,3] = 0\n",
    "\n",
    "        im = Image.fromarray(im)\n",
    "        distortedImage = Image.fromarray(self.image)\n",
    "\n",
    "\n",
    "        distortedImage.paste(im, (np.random.randint(0, W - w//2), np.random.randint(0, H - h//2)))\n",
    "        self.image= np.array(Image.alpha_composite(Image.fromarray(imd.image).copy(), distortedImage))\n",
    "        \n",
    "    def removeAlpha(self):\n",
    "        h,w,_ = self.image.shape\n",
    "        self.image = Image.fromarray(self.image)\n",
    "        background = self.background.copy().resize((w,h), PIL.Image.BILINEAR)\n",
    "        background.paste(self.image, (0,0), mask=self.image.split()[3])\n",
    "        self.image = background\n",
    "        \n",
    "        newImg = Image.new(self.image.mode, (w,h), (255,255,255))\n",
    "        self.textImage = Image.fromarray(self.textImage)\n",
    "        newImg.paste(self.textImage, (0,0), mask=self.textImage.split()[3])\n",
    "        self.textImage = newImg\n",
    "\n",
    "        \n",
    "    def generateGaussMap(self):\n",
    "        rects = [np.array(wordCharRects, dtype=np.int)[np.newaxis, :, :,:] for wordCharRects in self.annotation[\"wordsCharactersRects\"]]\n",
    "        rects = np.hstack(rects,)\n",
    "       # print(rects.shape)\n",
    "        gen = GaussianTransformer()\n",
    "        self.characterMap = gen.generate_region((self.textImage.size[1],self.textImage.size[0]), rects)\n",
    "        #affinity_image, affinities = gen.generate_affinity(image.shape, bbox, [[1,2]])\n",
    "        \n",
    "        \n",
    "    def process(self):\n",
    "#         self.applyUnevenLight()\n",
    "#         self.applyRandomGamma()\n",
    "        self.addHologram()\n",
    "#         self.applyBlur()\n",
    "#         self.applyNoise()\n",
    "        self.applyRotation()\n",
    "        self.appplyProj()\n",
    "        self.removeAlpha()\n",
    "        self.generateGaussMap()"
   ]
  },
  {
   "cell_type": "code",
   "execution_count": 28,
   "metadata": {},
   "outputs": [],
   "source": [
    "from tqdm import tqdm_notebook as tn\n",
    "import PIL"
   ]
  },
  {
   "cell_type": "code",
   "execution_count": 123,
   "metadata": {},
   "outputs": [],
   "source": [
    "part = \"Validate\"\n",
    "#part = \"Train1\"\n",
    "#part = \"Test\"\n",
    "#part = \"Train3\"\n",
    "additionalName = \"y\"\n",
    "pathToDataForGeneration = \"D:\\Data\\Diploma\\dataForGeneration/\"\n",
    "pathToBackGrounds = pathToDataForGeneration + \"Backgrounds\" + part\n",
    "pathToOutDir = \"D:\\Data\\Diploma\\generated//\" + part + additionalName +\"//\" #+\"noAug2//\"\n",
    "pathToGenerated = pathToOutDir + \"generated\"\n",
    "pathToGT = pathToOutDir + \"gt\"\n"
   ]
  },
  {
   "cell_type": "code",
   "execution_count": 124,
   "metadata": {},
   "outputs": [],
   "source": [
    "import random\n",
    "\n",
    "random.seed(10)"
   ]
  },
  {
   "cell_type": "code",
   "execution_count": 125,
   "metadata": {},
   "outputs": [
    {
     "name": "stderr",
     "output_type": "stream",
     "text": [
      "<ipython-input-125-f8ef12e38186>:6: TqdmDeprecationWarning: This function will be removed in tqdm==5.0.0\n",
      "Please use `tqdm.notebook.tqdm` instead of `tqdm.tqdm_notebook`\n",
      "  for file in tn(os.listdir(pathToBackGrounds)):\n"
     ]
    },
    {
     "data": {
      "application/vnd.jupyter.widget-view+json": {
       "model_id": "c39fcef34767494b90c5c4db9342b587",
       "version_major": 2,
       "version_minor": 0
      },
      "text/plain": [
       "HBox(children=(HTML(value=''), FloatProgress(value=0.0, max=45.0), HTML(value='')))"
      ]
     },
     "metadata": {},
     "output_type": "display_data"
    },
    {
     "name": "stderr",
     "output_type": "stream",
     "text": [
      "<ipython-input-125-f8ef12e38186>:10: TqdmDeprecationWarning: This function will be removed in tqdm==5.0.0\n",
      "Please use `tqdm.notebook.tqdm` instead of `tqdm.tqdm_notebook`\n",
      "  for j in tn(range(4)):\n"
     ]
    },
    {
     "data": {
      "application/vnd.jupyter.widget-view+json": {
       "model_id": "2a10c7ee350049d8944a3f7e03bd06cf",
       "version_major": 2,
       "version_minor": 0
      },
      "text/plain": [
       "HBox(children=(HTML(value=''), FloatProgress(value=0.0, max=4.0), HTML(value='')))"
      ]
     },
     "metadata": {},
     "output_type": "display_data"
    },
    {
     "name": "stderr",
     "output_type": "stream",
     "text": [
      "<ipython-input-26-4a25245fc9cb>:37: DeprecationWarning: `np.float` is a deprecated alias for the builtin `float`. To silence this warning, use `float` by itself. Doing this will not modify any behavior and is safe. If you specifically wanted the numpy scalar type, use `np.float64` here.\n",
      "Deprecated in NumPy 1.20; for more details and guidance: https://numpy.org/devdocs/release/1.20.0-notes.html#deprecations\n",
      "  result = np.zeros((height, width, len(start_list)), dtype=np.float)\n",
      "<ipython-input-125-f8ef12e38186>:16: TqdmDeprecationWarning: This function will be removed in tqdm==5.0.0\n",
      "Please use `tqdm.notebook.tqdm` instead of `tqdm.tqdm_notebook`\n",
      "  for i in tn(range(4)):\n"
     ]
    },
    {
     "data": {
      "application/vnd.jupyter.widget-view+json": {
       "model_id": "c8a06d111a834e7391771d1bba47415e",
       "version_major": 2,
       "version_minor": 0
      },
      "text/plain": [
       "HBox(children=(HTML(value=''), FloatProgress(value=0.0, max=4.0), HTML(value='')))"
      ]
     },
     "metadata": {},
     "output_type": "display_data"
    },
    {
     "name": "stderr",
     "output_type": "stream",
     "text": [
      "<ipython-input-27-bc886dcdcd16>:321: DeprecationWarning: `np.int` is a deprecated alias for the builtin `int`. To silence this warning, use `int` by itself. Doing this will not modify any behavior and is safe. When replacing `np.int`, you may wish to use e.g. `np.int64` or `np.int32` to specify the precision. If you wish to review your current use, check the release note link for additional information.\n",
      "Deprecated in NumPy 1.20; for more details and guidance: https://numpy.org/devdocs/release/1.20.0-notes.html#deprecations\n",
      "  rects = [np.array(wordCharRects, dtype=np.int)[np.newaxis, :, :,:] for wordCharRects in self.annotation[\"wordsCharactersRects\"]]\n"
     ]
    },
    {
     "name": "stdout",
     "output_type": "stream",
     "text": [
      "D:\\Data\\Diploma\\generated//Validate_noAugModifiedFullBin//gt/1.png0_0CharMap.png\n",
      "D:\\Data\\Diploma\\generated//Validate_noAugModifiedFullBin//gt/1.png1_0CharMap.png\n",
      "\n"
     ]
    },
    {
     "name": "stderr",
     "output_type": "stream",
     "text": [
      "<ipython-input-26-4a25245fc9cb>:37: DeprecationWarning: `np.float` is a deprecated alias for the builtin `float`. To silence this warning, use `float` by itself. Doing this will not modify any behavior and is safe. If you specifically wanted the numpy scalar type, use `np.float64` here.\n",
      "Deprecated in NumPy 1.20; for more details and guidance: https://numpy.org/devdocs/release/1.20.0-notes.html#deprecations\n",
      "  result = np.zeros((height, width, len(start_list)), dtype=np.float)\n",
      "<ipython-input-125-f8ef12e38186>:16: TqdmDeprecationWarning: This function will be removed in tqdm==5.0.0\n",
      "Please use `tqdm.notebook.tqdm` instead of `tqdm.tqdm_notebook`\n",
      "  for i in tn(range(4)):\n"
     ]
    },
    {
     "data": {
      "application/vnd.jupyter.widget-view+json": {
       "model_id": "54ed1eb821ca41f8b8db43e10f1828fb",
       "version_major": 2,
       "version_minor": 0
      },
      "text/plain": [
       "HBox(children=(HTML(value=''), FloatProgress(value=0.0, max=4.0), HTML(value='')))"
      ]
     },
     "metadata": {},
     "output_type": "display_data"
    },
    {
     "name": "stderr",
     "output_type": "stream",
     "text": [
      "<ipython-input-27-bc886dcdcd16>:321: DeprecationWarning: `np.int` is a deprecated alias for the builtin `int`. To silence this warning, use `int` by itself. Doing this will not modify any behavior and is safe. When replacing `np.int`, you may wish to use e.g. `np.int64` or `np.int32` to specify the precision. If you wish to review your current use, check the release note link for additional information.\n",
      "Deprecated in NumPy 1.20; for more details and guidance: https://numpy.org/devdocs/release/1.20.0-notes.html#deprecations\n",
      "  rects = [np.array(wordCharRects, dtype=np.int)[np.newaxis, :, :,:] for wordCharRects in self.annotation[\"wordsCharactersRects\"]]\n"
     ]
    },
    {
     "name": "stdout",
     "output_type": "stream",
     "text": [
      "D:\\Data\\Diploma\\generated//Validate_noAugModifiedFullBin//gt/1.png0_1CharMap.png\n",
      "D:\\Data\\Diploma\\generated//Validate_noAugModifiedFullBin//gt/1.png1_1CharMap.png\n",
      "\n"
     ]
    },
    {
     "data": {
      "application/vnd.jupyter.widget-view+json": {
       "model_id": "594bb9388e8045ae9b5a76d8334b4765",
       "version_major": 2,
       "version_minor": 0
      },
      "text/plain": [
       "HBox(children=(HTML(value=''), FloatProgress(value=0.0, max=4.0), HTML(value='')))"
      ]
     },
     "metadata": {},
     "output_type": "display_data"
    },
    {
     "name": "stdout",
     "output_type": "stream",
     "text": [
      "D:\\Data\\Diploma\\generated//Validate_noAugModifiedFullBin//gt/1.png0_2CharMap.png\n",
      "D:\\Data\\Diploma\\generated//Validate_noAugModifiedFullBin//gt/1.png1_2CharMap.png\n",
      "\n"
     ]
    },
    {
     "data": {
      "application/vnd.jupyter.widget-view+json": {
       "model_id": "c5702a8cc62448f29668c4d0be61328f",
       "version_major": 2,
       "version_minor": 0
      },
      "text/plain": [
       "HBox(children=(HTML(value=''), FloatProgress(value=0.0, max=4.0), HTML(value='')))"
      ]
     },
     "metadata": {},
     "output_type": "display_data"
    },
    {
     "name": "stdout",
     "output_type": "stream",
     "text": [
      "D:\\Data\\Diploma\\generated//Validate_noAugModifiedFullBin//gt/1.png0_3CharMap.png\n",
      "D:\\Data\\Diploma\\generated//Validate_noAugModifiedFullBin//gt/1.png1_3CharMap.png\n",
      "\n",
      "\n"
     ]
    },
    {
     "name": "stderr",
     "output_type": "stream",
     "text": [
      "<ipython-input-125-f8ef12e38186>:10: TqdmDeprecationWarning: This function will be removed in tqdm==5.0.0\n",
      "Please use `tqdm.notebook.tqdm` instead of `tqdm.tqdm_notebook`\n",
      "  for j in tn(range(4)):\n"
     ]
    },
    {
     "data": {
      "application/vnd.jupyter.widget-view+json": {
       "model_id": "fd47a3a8696a45938291039f9a002733",
       "version_major": 2,
       "version_minor": 0
      },
      "text/plain": [
       "HBox(children=(HTML(value=''), FloatProgress(value=0.0, max=4.0), HTML(value='')))"
      ]
     },
     "metadata": {},
     "output_type": "display_data"
    },
    {
     "name": "stderr",
     "output_type": "stream",
     "text": [
      "<ipython-input-125-f8ef12e38186>:16: TqdmDeprecationWarning: This function will be removed in tqdm==5.0.0\n",
      "Please use `tqdm.notebook.tqdm` instead of `tqdm.tqdm_notebook`\n",
      "  for i in tn(range(4)):\n"
     ]
    },
    {
     "data": {
      "application/vnd.jupyter.widget-view+json": {
       "model_id": "0e70c570ed724d13ab3b6a3f822e7605",
       "version_major": 2,
       "version_minor": 0
      },
      "text/plain": [
       "HBox(children=(HTML(value=''), FloatProgress(value=0.0, max=4.0), HTML(value='')))"
      ]
     },
     "metadata": {},
     "output_type": "display_data"
    },
    {
     "name": "stderr",
     "output_type": "stream",
     "text": [
      "<ipython-input-27-bc886dcdcd16>:321: DeprecationWarning: `np.int` is a deprecated alias for the builtin `int`. To silence this warning, use `int` by itself. Doing this will not modify any behavior and is safe. When replacing `np.int`, you may wish to use e.g. `np.int64` or `np.int32` to specify the precision. If you wish to review your current use, check the release note link for additional information.\n",
      "Deprecated in NumPy 1.20; for more details and guidance: https://numpy.org/devdocs/release/1.20.0-notes.html#deprecations\n",
      "  rects = [np.array(wordCharRects, dtype=np.int)[np.newaxis, :, :,:] for wordCharRects in self.annotation[\"wordsCharactersRects\"]]\n"
     ]
    },
    {
     "name": "stdout",
     "output_type": "stream",
     "text": [
      "D:\\Data\\Diploma\\generated//Validate_noAugModifiedFullBin//gt/111027-vector-livre-aquarela-xadrez-fundo-abstrato-grtis-vetor.jpg0_0CharMap.png\n",
      "D:\\Data\\Diploma\\generated//Validate_noAugModifiedFullBin//gt/111027-vector-livre-aquarela-xadrez-fundo-abstrato-grtis-vetor.jpg1_0CharMap.png\n",
      "\n"
     ]
    },
    {
     "name": "stderr",
     "output_type": "stream",
     "text": [
      "<ipython-input-125-f8ef12e38186>:16: TqdmDeprecationWarning: This function will be removed in tqdm==5.0.0\n",
      "Please use `tqdm.notebook.tqdm` instead of `tqdm.tqdm_notebook`\n",
      "  for i in tn(range(4)):\n"
     ]
    },
    {
     "data": {
      "application/vnd.jupyter.widget-view+json": {
       "model_id": "40e874e1a45b4401bc473a536b54b0df",
       "version_major": 2,
       "version_minor": 0
      },
      "text/plain": [
       "HBox(children=(HTML(value=''), FloatProgress(value=0.0, max=4.0), HTML(value='')))"
      ]
     },
     "metadata": {},
     "output_type": "display_data"
    },
    {
     "name": "stderr",
     "output_type": "stream",
     "text": [
      "<ipython-input-26-4a25245fc9cb>:37: DeprecationWarning: `np.float` is a deprecated alias for the builtin `float`. To silence this warning, use `float` by itself. Doing this will not modify any behavior and is safe. If you specifically wanted the numpy scalar type, use `np.float64` here.\n",
      "Deprecated in NumPy 1.20; for more details and guidance: https://numpy.org/devdocs/release/1.20.0-notes.html#deprecations\n",
      "  result = np.zeros((height, width, len(start_list)), dtype=np.float)\n",
      "<ipython-input-27-bc886dcdcd16>:321: DeprecationWarning: `np.int` is a deprecated alias for the builtin `int`. To silence this warning, use `int` by itself. Doing this will not modify any behavior and is safe. When replacing `np.int`, you may wish to use e.g. `np.int64` or `np.int32` to specify the precision. If you wish to review your current use, check the release note link for additional information.\n",
      "Deprecated in NumPy 1.20; for more details and guidance: https://numpy.org/devdocs/release/1.20.0-notes.html#deprecations\n",
      "  rects = [np.array(wordCharRects, dtype=np.int)[np.newaxis, :, :,:] for wordCharRects in self.annotation[\"wordsCharactersRects\"]]\n"
     ]
    },
    {
     "name": "stdout",
     "output_type": "stream",
     "text": [
      "D:\\Data\\Diploma\\generated//Validate_noAugModifiedFullBin//gt/111027-vector-livre-aquarela-xadrez-fundo-abstrato-grtis-vetor.jpg0_1CharMap.png\n",
      "D:\\Data\\Diploma\\generated//Validate_noAugModifiedFullBin//gt/111027-vector-livre-aquarela-xadrez-fundo-abstrato-grtis-vetor.jpg1_1CharMap.png\n",
      "\n"
     ]
    },
    {
     "name": "stderr",
     "output_type": "stream",
     "text": [
      "<ipython-input-26-4a25245fc9cb>:37: DeprecationWarning: `np.float` is a deprecated alias for the builtin `float`. To silence this warning, use `float` by itself. Doing this will not modify any behavior and is safe. If you specifically wanted the numpy scalar type, use `np.float64` here.\n",
      "Deprecated in NumPy 1.20; for more details and guidance: https://numpy.org/devdocs/release/1.20.0-notes.html#deprecations\n",
      "  result = np.zeros((height, width, len(start_list)), dtype=np.float)\n",
      "<ipython-input-125-f8ef12e38186>:16: TqdmDeprecationWarning: This function will be removed in tqdm==5.0.0\n",
      "Please use `tqdm.notebook.tqdm` instead of `tqdm.tqdm_notebook`\n",
      "  for i in tn(range(4)):\n"
     ]
    },
    {
     "data": {
      "application/vnd.jupyter.widget-view+json": {
       "model_id": "5e448b1e484a4099aec7c715b413d3ad",
       "version_major": 2,
       "version_minor": 0
      },
      "text/plain": [
       "HBox(children=(HTML(value=''), FloatProgress(value=0.0, max=4.0), HTML(value='')))"
      ]
     },
     "metadata": {},
     "output_type": "display_data"
    },
    {
     "name": "stderr",
     "output_type": "stream",
     "text": [
      "<ipython-input-27-bc886dcdcd16>:321: DeprecationWarning: `np.int` is a deprecated alias for the builtin `int`. To silence this warning, use `int` by itself. Doing this will not modify any behavior and is safe. When replacing `np.int`, you may wish to use e.g. `np.int64` or `np.int32` to specify the precision. If you wish to review your current use, check the release note link for additional information.\n",
      "Deprecated in NumPy 1.20; for more details and guidance: https://numpy.org/devdocs/release/1.20.0-notes.html#deprecations\n",
      "  rects = [np.array(wordCharRects, dtype=np.int)[np.newaxis, :, :,:] for wordCharRects in self.annotation[\"wordsCharactersRects\"]]\n"
     ]
    },
    {
     "name": "stdout",
     "output_type": "stream",
     "text": [
      "D:\\Data\\Diploma\\generated//Validate_noAugModifiedFullBin//gt/111027-vector-livre-aquarela-xadrez-fundo-abstrato-grtis-vetor.jpg0_2CharMap.png\n",
      "D:\\Data\\Diploma\\generated//Validate_noAugModifiedFullBin//gt/111027-vector-livre-aquarela-xadrez-fundo-abstrato-grtis-vetor.jpg1_2CharMap.png\n",
      "\n"
     ]
    },
    {
     "name": "stderr",
     "output_type": "stream",
     "text": [
      "<ipython-input-26-4a25245fc9cb>:37: DeprecationWarning: `np.float` is a deprecated alias for the builtin `float`. To silence this warning, use `float` by itself. Doing this will not modify any behavior and is safe. If you specifically wanted the numpy scalar type, use `np.float64` here.\n",
      "Deprecated in NumPy 1.20; for more details and guidance: https://numpy.org/devdocs/release/1.20.0-notes.html#deprecations\n",
      "  result = np.zeros((height, width, len(start_list)), dtype=np.float)\n",
      "<ipython-input-125-f8ef12e38186>:16: TqdmDeprecationWarning: This function will be removed in tqdm==5.0.0\n",
      "Please use `tqdm.notebook.tqdm` instead of `tqdm.tqdm_notebook`\n",
      "  for i in tn(range(4)):\n"
     ]
    },
    {
     "data": {
      "application/vnd.jupyter.widget-view+json": {
       "model_id": "1e8ceff07c9e49a7a496ef39cd752622",
       "version_major": 2,
       "version_minor": 0
      },
      "text/plain": [
       "HBox(children=(HTML(value=''), FloatProgress(value=0.0, max=4.0), HTML(value='')))"
      ]
     },
     "metadata": {},
     "output_type": "display_data"
    },
    {
     "name": "stderr",
     "output_type": "stream",
     "text": [
      "<ipython-input-27-bc886dcdcd16>:321: DeprecationWarning: `np.int` is a deprecated alias for the builtin `int`. To silence this warning, use `int` by itself. Doing this will not modify any behavior and is safe. When replacing `np.int`, you may wish to use e.g. `np.int64` or `np.int32` to specify the precision. If you wish to review your current use, check the release note link for additional information.\n",
      "Deprecated in NumPy 1.20; for more details and guidance: https://numpy.org/devdocs/release/1.20.0-notes.html#deprecations\n",
      "  rects = [np.array(wordCharRects, dtype=np.int)[np.newaxis, :, :,:] for wordCharRects in self.annotation[\"wordsCharactersRects\"]]\n"
     ]
    },
    {
     "name": "stdout",
     "output_type": "stream",
     "text": [
      "D:\\Data\\Diploma\\generated//Validate_noAugModifiedFullBin//gt/111027-vector-livre-aquarela-xadrez-fundo-abstrato-grtis-vetor.jpg0_3CharMap.png\n",
      "D:\\Data\\Diploma\\generated//Validate_noAugModifiedFullBin//gt/111027-vector-livre-aquarela-xadrez-fundo-abstrato-grtis-vetor.jpg1_3CharMap.png\n",
      "\n",
      "\n"
     ]
    },
    {
     "name": "stderr",
     "output_type": "stream",
     "text": [
      "<ipython-input-125-f8ef12e38186>:10: TqdmDeprecationWarning: This function will be removed in tqdm==5.0.0\n",
      "Please use `tqdm.notebook.tqdm` instead of `tqdm.tqdm_notebook`\n",
      "  for j in tn(range(4)):\n"
     ]
    },
    {
     "data": {
      "application/vnd.jupyter.widget-view+json": {
       "model_id": "8f4673c309ae46be9d95c324df0a3f00",
       "version_major": 2,
       "version_minor": 0
      },
      "text/plain": [
       "HBox(children=(HTML(value=''), FloatProgress(value=0.0, max=4.0), HTML(value='')))"
      ]
     },
     "metadata": {},
     "output_type": "display_data"
    },
    {
     "name": "stderr",
     "output_type": "stream",
     "text": [
      "<ipython-input-26-4a25245fc9cb>:37: DeprecationWarning: `np.float` is a deprecated alias for the builtin `float`. To silence this warning, use `float` by itself. Doing this will not modify any behavior and is safe. If you specifically wanted the numpy scalar type, use `np.float64` here.\n",
      "Deprecated in NumPy 1.20; for more details and guidance: https://numpy.org/devdocs/release/1.20.0-notes.html#deprecations\n",
      "  result = np.zeros((height, width, len(start_list)), dtype=np.float)\n",
      "<ipython-input-125-f8ef12e38186>:16: TqdmDeprecationWarning: This function will be removed in tqdm==5.0.0\n",
      "Please use `tqdm.notebook.tqdm` instead of `tqdm.tqdm_notebook`\n",
      "  for i in tn(range(4)):\n"
     ]
    },
    {
     "data": {
      "application/vnd.jupyter.widget-view+json": {
       "model_id": "bbe3a2dd99e94b52a1415fa7c8f1ea1c",
       "version_major": 2,
       "version_minor": 0
      },
      "text/plain": [
       "HBox(children=(HTML(value=''), FloatProgress(value=0.0, max=4.0), HTML(value='')))"
      ]
     },
     "metadata": {},
     "output_type": "display_data"
    },
    {
     "name": "stderr",
     "output_type": "stream",
     "text": [
      "<ipython-input-27-bc886dcdcd16>:321: DeprecationWarning: `np.int` is a deprecated alias for the builtin `int`. To silence this warning, use `int` by itself. Doing this will not modify any behavior and is safe. When replacing `np.int`, you may wish to use e.g. `np.int64` or `np.int32` to specify the precision. If you wish to review your current use, check the release note link for additional information.\n",
      "Deprecated in NumPy 1.20; for more details and guidance: https://numpy.org/devdocs/release/1.20.0-notes.html#deprecations\n",
      "  rects = [np.array(wordCharRects, dtype=np.int)[np.newaxis, :, :,:] for wordCharRects in self.annotation[\"wordsCharactersRects\"]]\n"
     ]
    },
    {
     "name": "stdout",
     "output_type": "stream",
     "text": [
      "D:\\Data\\Diploma\\generated//Validate_noAugModifiedFullBin//gt/13003646-A-light-blue-background.jpg0_0CharMap.png\n",
      "D:\\Data\\Diploma\\generated//Validate_noAugModifiedFullBin//gt/13003646-A-light-blue-background.jpg1_0CharMap.png\n",
      "\n"
     ]
    },
    {
     "name": "stderr",
     "output_type": "stream",
     "text": [
      "<ipython-input-125-f8ef12e38186>:16: TqdmDeprecationWarning: This function will be removed in tqdm==5.0.0\n",
      "Please use `tqdm.notebook.tqdm` instead of `tqdm.tqdm_notebook`\n",
      "  for i in tn(range(4)):\n"
     ]
    },
    {
     "data": {
      "application/vnd.jupyter.widget-view+json": {
       "model_id": "109d22e30a06403ebc220e0ef7682c2f",
       "version_major": 2,
       "version_minor": 0
      },
      "text/plain": [
       "HBox(children=(HTML(value=''), FloatProgress(value=0.0, max=4.0), HTML(value='')))"
      ]
     },
     "metadata": {},
     "output_type": "display_data"
    },
    {
     "name": "stderr",
     "output_type": "stream",
     "text": [
      "<ipython-input-27-bc886dcdcd16>:321: DeprecationWarning: `np.int` is a deprecated alias for the builtin `int`. To silence this warning, use `int` by itself. Doing this will not modify any behavior and is safe. When replacing `np.int`, you may wish to use e.g. `np.int64` or `np.int32` to specify the precision. If you wish to review your current use, check the release note link for additional information.\n",
      "Deprecated in NumPy 1.20; for more details and guidance: https://numpy.org/devdocs/release/1.20.0-notes.html#deprecations\n",
      "  rects = [np.array(wordCharRects, dtype=np.int)[np.newaxis, :, :,:] for wordCharRects in self.annotation[\"wordsCharactersRects\"]]\n"
     ]
    },
    {
     "name": "stdout",
     "output_type": "stream",
     "text": [
      "D:\\Data\\Diploma\\generated//Validate_noAugModifiedFullBin//gt/13003646-A-light-blue-background.jpg0_1CharMap.png\n",
      "D:\\Data\\Diploma\\generated//Validate_noAugModifiedFullBin//gt/13003646-A-light-blue-background.jpg1_1CharMap.png\n",
      "\n"
     ]
    },
    {
     "name": "stderr",
     "output_type": "stream",
     "text": [
      "<ipython-input-26-4a25245fc9cb>:37: DeprecationWarning: `np.float` is a deprecated alias for the builtin `float`. To silence this warning, use `float` by itself. Doing this will not modify any behavior and is safe. If you specifically wanted the numpy scalar type, use `np.float64` here.\n",
      "Deprecated in NumPy 1.20; for more details and guidance: https://numpy.org/devdocs/release/1.20.0-notes.html#deprecations\n",
      "  result = np.zeros((height, width, len(start_list)), dtype=np.float)\n"
     ]
    },
    {
     "data": {
      "application/vnd.jupyter.widget-view+json": {
       "model_id": "c58428e198274bcbbcabb89b718979b8",
       "version_major": 2,
       "version_minor": 0
      },
      "text/plain": [
       "HBox(children=(HTML(value=''), FloatProgress(value=0.0, max=4.0), HTML(value='')))"
      ]
     },
     "metadata": {},
     "output_type": "display_data"
    },
    {
     "name": "stdout",
     "output_type": "stream",
     "text": [
      "D:\\Data\\Diploma\\generated//Validate_noAugModifiedFullBin//gt/13003646-A-light-blue-background.jpg0_2CharMap.png\n",
      "D:\\Data\\Diploma\\generated//Validate_noAugModifiedFullBin//gt/13003646-A-light-blue-background.jpg1_2CharMap.png\n",
      "\n"
     ]
    },
    {
     "data": {
      "application/vnd.jupyter.widget-view+json": {
       "model_id": "8436dc8e98404b7f8f8e5968761093f0",
       "version_major": 2,
       "version_minor": 0
      },
      "text/plain": [
       "HBox(children=(HTML(value=''), FloatProgress(value=0.0, max=4.0), HTML(value='')))"
      ]
     },
     "metadata": {},
     "output_type": "display_data"
    },
    {
     "name": "stdout",
     "output_type": "stream",
     "text": [
      "D:\\Data\\Diploma\\generated//Validate_noAugModifiedFullBin//gt/13003646-A-light-blue-background.jpg0_3CharMap.png\n",
      "D:\\Data\\Diploma\\generated//Validate_noAugModifiedFullBin//gt/13003646-A-light-blue-background.jpg1_3CharMap.png\n",
      "\n",
      "\n"
     ]
    },
    {
     "name": "stderr",
     "output_type": "stream",
     "text": [
      "<ipython-input-125-f8ef12e38186>:10: TqdmDeprecationWarning: This function will be removed in tqdm==5.0.0\n",
      "Please use `tqdm.notebook.tqdm` instead of `tqdm.tqdm_notebook`\n",
      "  for j in tn(range(4)):\n"
     ]
    },
    {
     "data": {
      "application/vnd.jupyter.widget-view+json": {
       "model_id": "3e83dbc999434cb6b662518c2dfacaae",
       "version_major": 2,
       "version_minor": 0
      },
      "text/plain": [
       "HBox(children=(HTML(value=''), FloatProgress(value=0.0, max=4.0), HTML(value='')))"
      ]
     },
     "metadata": {},
     "output_type": "display_data"
    },
    {
     "data": {
      "application/vnd.jupyter.widget-view+json": {
       "model_id": "4c282461278646c6a839591f0e21cce0",
       "version_major": 2,
       "version_minor": 0
      },
      "text/plain": [
       "HBox(children=(HTML(value=''), FloatProgress(value=0.0, max=4.0), HTML(value='')))"
      ]
     },
     "metadata": {},
     "output_type": "display_data"
    },
    {
     "name": "stdout",
     "output_type": "stream",
     "text": [
      "D:\\Data\\Diploma\\generated//Validate_noAugModifiedFullBin//gt/2-20567_blue-id-card-background.jpg0_0CharMap.png\n",
      "D:\\Data\\Diploma\\generated//Validate_noAugModifiedFullBin//gt/2-20567_blue-id-card-background.jpg1_0CharMap.png\n",
      "\n"
     ]
    },
    {
     "name": "stderr",
     "output_type": "stream",
     "text": [
      "<ipython-input-26-4a25245fc9cb>:37: DeprecationWarning: `np.float` is a deprecated alias for the builtin `float`. To silence this warning, use `float` by itself. Doing this will not modify any behavior and is safe. If you specifically wanted the numpy scalar type, use `np.float64` here.\n",
      "Deprecated in NumPy 1.20; for more details and guidance: https://numpy.org/devdocs/release/1.20.0-notes.html#deprecations\n",
      "  result = np.zeros((height, width, len(start_list)), dtype=np.float)\n",
      "<ipython-input-125-f8ef12e38186>:16: TqdmDeprecationWarning: This function will be removed in tqdm==5.0.0\n",
      "Please use `tqdm.notebook.tqdm` instead of `tqdm.tqdm_notebook`\n",
      "  for i in tn(range(4)):\n"
     ]
    },
    {
     "data": {
      "application/vnd.jupyter.widget-view+json": {
       "model_id": "f3ef18de934646b2b303cdb4ca2651e3",
       "version_major": 2,
       "version_minor": 0
      },
      "text/plain": [
       "HBox(children=(HTML(value=''), FloatProgress(value=0.0, max=4.0), HTML(value='')))"
      ]
     },
     "metadata": {},
     "output_type": "display_data"
    },
    {
     "name": "stderr",
     "output_type": "stream",
     "text": [
      "<ipython-input-27-bc886dcdcd16>:321: DeprecationWarning: `np.int` is a deprecated alias for the builtin `int`. To silence this warning, use `int` by itself. Doing this will not modify any behavior and is safe. When replacing `np.int`, you may wish to use e.g. `np.int64` or `np.int32` to specify the precision. If you wish to review your current use, check the release note link for additional information.\n",
      "Deprecated in NumPy 1.20; for more details and guidance: https://numpy.org/devdocs/release/1.20.0-notes.html#deprecations\n",
      "  rects = [np.array(wordCharRects, dtype=np.int)[np.newaxis, :, :,:] for wordCharRects in self.annotation[\"wordsCharactersRects\"]]\n"
     ]
    },
    {
     "name": "stdout",
     "output_type": "stream",
     "text": [
      "D:\\Data\\Diploma\\generated//Validate_noAugModifiedFullBin//gt/2-20567_blue-id-card-background.jpg0_1CharMap.png\n",
      "D:\\Data\\Diploma\\generated//Validate_noAugModifiedFullBin//gt/2-20567_blue-id-card-background.jpg1_1CharMap.png\n",
      "\n"
     ]
    },
    {
     "data": {
      "application/vnd.jupyter.widget-view+json": {
       "model_id": "5f52c2719fbd415980ea39981df30740",
       "version_major": 2,
       "version_minor": 0
      },
      "text/plain": [
       "HBox(children=(HTML(value=''), FloatProgress(value=0.0, max=4.0), HTML(value='')))"
      ]
     },
     "metadata": {},
     "output_type": "display_data"
    },
    {
     "name": "stdout",
     "output_type": "stream",
     "text": [
      "D:\\Data\\Diploma\\generated//Validate_noAugModifiedFullBin//gt/2-20567_blue-id-card-background.jpg0_2CharMap.png\n",
      "D:\\Data\\Diploma\\generated//Validate_noAugModifiedFullBin//gt/2-20567_blue-id-card-background.jpg1_2CharMap.png\n",
      "\n"
     ]
    },
    {
     "data": {
      "application/vnd.jupyter.widget-view+json": {
       "model_id": "d8377f9071414c58924edf202476df67",
       "version_major": 2,
       "version_minor": 0
      },
      "text/plain": [
       "HBox(children=(HTML(value=''), FloatProgress(value=0.0, max=4.0), HTML(value='')))"
      ]
     },
     "metadata": {},
     "output_type": "display_data"
    },
    {
     "name": "stdout",
     "output_type": "stream",
     "text": [
      "D:\\Data\\Diploma\\generated//Validate_noAugModifiedFullBin//gt/2-20567_blue-id-card-background.jpg0_3CharMap.png\n",
      "D:\\Data\\Diploma\\generated//Validate_noAugModifiedFullBin//gt/2-20567_blue-id-card-background.jpg1_3CharMap.png\n",
      "\n",
      "\n"
     ]
    },
    {
     "name": "stderr",
     "output_type": "stream",
     "text": [
      "<ipython-input-125-f8ef12e38186>:10: TqdmDeprecationWarning: This function will be removed in tqdm==5.0.0\n",
      "Please use `tqdm.notebook.tqdm` instead of `tqdm.tqdm_notebook`\n",
      "  for j in tn(range(4)):\n"
     ]
    },
    {
     "data": {
      "application/vnd.jupyter.widget-view+json": {
       "model_id": "96622016cd5a40cb88039c1c7dd0eaeb",
       "version_major": 2,
       "version_minor": 0
      },
      "text/plain": [
       "HBox(children=(HTML(value=''), FloatProgress(value=0.0, max=4.0), HTML(value='')))"
      ]
     },
     "metadata": {},
     "output_type": "display_data"
    },
    {
     "data": {
      "application/vnd.jupyter.widget-view+json": {
       "model_id": "e6973f5acbc74b068f9ee32683c24739",
       "version_major": 2,
       "version_minor": 0
      },
      "text/plain": [
       "HBox(children=(HTML(value=''), FloatProgress(value=0.0, max=4.0), HTML(value='')))"
      ]
     },
     "metadata": {},
     "output_type": "display_data"
    },
    {
     "name": "stdout",
     "output_type": "stream",
     "text": [
      "D:\\Data\\Diploma\\generated//Validate_noAugModifiedFullBin//gt/2.png0_0CharMap.png\n",
      "D:\\Data\\Diploma\\generated//Validate_noAugModifiedFullBin//gt/2.png1_0CharMap.png\n",
      "\n"
     ]
    },
    {
     "name": "stderr",
     "output_type": "stream",
     "text": [
      "<ipython-input-125-f8ef12e38186>:16: TqdmDeprecationWarning: This function will be removed in tqdm==5.0.0\n",
      "Please use `tqdm.notebook.tqdm` instead of `tqdm.tqdm_notebook`\n",
      "  for i in tn(range(4)):\n"
     ]
    },
    {
     "data": {
      "application/vnd.jupyter.widget-view+json": {
       "model_id": "db97eabbe0b94c5d8ac70ececd5dc342",
       "version_major": 2,
       "version_minor": 0
      },
      "text/plain": [
       "HBox(children=(HTML(value=''), FloatProgress(value=0.0, max=4.0), HTML(value='')))"
      ]
     },
     "metadata": {},
     "output_type": "display_data"
    },
    {
     "name": "stderr",
     "output_type": "stream",
     "text": [
      "<ipython-input-27-bc886dcdcd16>:321: DeprecationWarning: `np.int` is a deprecated alias for the builtin `int`. To silence this warning, use `int` by itself. Doing this will not modify any behavior and is safe. When replacing `np.int`, you may wish to use e.g. `np.int64` or `np.int32` to specify the precision. If you wish to review your current use, check the release note link for additional information.\n",
      "Deprecated in NumPy 1.20; for more details and guidance: https://numpy.org/devdocs/release/1.20.0-notes.html#deprecations\n",
      "  rects = [np.array(wordCharRects, dtype=np.int)[np.newaxis, :, :,:] for wordCharRects in self.annotation[\"wordsCharactersRects\"]]\n"
     ]
    },
    {
     "name": "stdout",
     "output_type": "stream",
     "text": [
      "D:\\Data\\Diploma\\generated//Validate_noAugModifiedFullBin//gt/2.png0_1CharMap.png\n"
     ]
    },
    {
     "name": "stderr",
     "output_type": "stream",
     "text": [
      "<ipython-input-26-4a25245fc9cb>:37: DeprecationWarning: `np.float` is a deprecated alias for the builtin `float`. To silence this warning, use `float` by itself. Doing this will not modify any behavior and is safe. If you specifically wanted the numpy scalar type, use `np.float64` here.\n",
      "Deprecated in NumPy 1.20; for more details and guidance: https://numpy.org/devdocs/release/1.20.0-notes.html#deprecations\n",
      "  result = np.zeros((height, width, len(start_list)), dtype=np.float)\n"
     ]
    },
    {
     "name": "stdout",
     "output_type": "stream",
     "text": [
      "D:\\Data\\Diploma\\generated//Validate_noAugModifiedFullBin//gt/2.png1_1CharMap.png\n",
      "\n"
     ]
    },
    {
     "name": "stderr",
     "output_type": "stream",
     "text": [
      "<ipython-input-125-f8ef12e38186>:16: TqdmDeprecationWarning: This function will be removed in tqdm==5.0.0\n",
      "Please use `tqdm.notebook.tqdm` instead of `tqdm.tqdm_notebook`\n",
      "  for i in tn(range(4)):\n"
     ]
    },
    {
     "data": {
      "application/vnd.jupyter.widget-view+json": {
       "model_id": "647e16ba9373447b88f8cb0bbafb67cf",
       "version_major": 2,
       "version_minor": 0
      },
      "text/plain": [
       "HBox(children=(HTML(value=''), FloatProgress(value=0.0, max=4.0), HTML(value='')))"
      ]
     },
     "metadata": {},
     "output_type": "display_data"
    },
    {
     "name": "stderr",
     "output_type": "stream",
     "text": [
      "<ipython-input-27-bc886dcdcd16>:321: DeprecationWarning: `np.int` is a deprecated alias for the builtin `int`. To silence this warning, use `int` by itself. Doing this will not modify any behavior and is safe. When replacing `np.int`, you may wish to use e.g. `np.int64` or `np.int32` to specify the precision. If you wish to review your current use, check the release note link for additional information.\n",
      "Deprecated in NumPy 1.20; for more details and guidance: https://numpy.org/devdocs/release/1.20.0-notes.html#deprecations\n",
      "  rects = [np.array(wordCharRects, dtype=np.int)[np.newaxis, :, :,:] for wordCharRects in self.annotation[\"wordsCharactersRects\"]]\n"
     ]
    },
    {
     "name": "stdout",
     "output_type": "stream",
     "text": [
      "D:\\Data\\Diploma\\generated//Validate_noAugModifiedFullBin//gt/2.png0_2CharMap.png\n",
      "D:\\Data\\Diploma\\generated//Validate_noAugModifiedFullBin//gt/2.png1_2CharMap.png\n",
      "\n"
     ]
    },
    {
     "name": "stderr",
     "output_type": "stream",
     "text": [
      "<ipython-input-125-f8ef12e38186>:16: TqdmDeprecationWarning: This function will be removed in tqdm==5.0.0\n",
      "Please use `tqdm.notebook.tqdm` instead of `tqdm.tqdm_notebook`\n",
      "  for i in tn(range(4)):\n"
     ]
    },
    {
     "data": {
      "application/vnd.jupyter.widget-view+json": {
       "model_id": "5c579c402ef144c99ba5e18394634cf5",
       "version_major": 2,
       "version_minor": 0
      },
      "text/plain": [
       "HBox(children=(HTML(value=''), FloatProgress(value=0.0, max=4.0), HTML(value='')))"
      ]
     },
     "metadata": {},
     "output_type": "display_data"
    },
    {
     "name": "stderr",
     "output_type": "stream",
     "text": [
      "<ipython-input-27-bc886dcdcd16>:321: DeprecationWarning: `np.int` is a deprecated alias for the builtin `int`. To silence this warning, use `int` by itself. Doing this will not modify any behavior and is safe. When replacing `np.int`, you may wish to use e.g. `np.int64` or `np.int32` to specify the precision. If you wish to review your current use, check the release note link for additional information.\n",
      "Deprecated in NumPy 1.20; for more details and guidance: https://numpy.org/devdocs/release/1.20.0-notes.html#deprecations\n",
      "  rects = [np.array(wordCharRects, dtype=np.int)[np.newaxis, :, :,:] for wordCharRects in self.annotation[\"wordsCharactersRects\"]]\n"
     ]
    },
    {
     "name": "stdout",
     "output_type": "stream",
     "text": [
      "D:\\Data\\Diploma\\generated//Validate_noAugModifiedFullBin//gt/2.png0_3CharMap.png\n"
     ]
    },
    {
     "name": "stderr",
     "output_type": "stream",
     "text": [
      "<ipython-input-26-4a25245fc9cb>:37: DeprecationWarning: `np.float` is a deprecated alias for the builtin `float`. To silence this warning, use `float` by itself. Doing this will not modify any behavior and is safe. If you specifically wanted the numpy scalar type, use `np.float64` here.\n",
      "Deprecated in NumPy 1.20; for more details and guidance: https://numpy.org/devdocs/release/1.20.0-notes.html#deprecations\n",
      "  result = np.zeros((height, width, len(start_list)), dtype=np.float)\n"
     ]
    },
    {
     "name": "stdout",
     "output_type": "stream",
     "text": [
      "D:\\Data\\Diploma\\generated//Validate_noAugModifiedFullBin//gt/2.png1_3CharMap.png\n",
      "\n",
      "\n"
     ]
    },
    {
     "name": "stderr",
     "output_type": "stream",
     "text": [
      "<ipython-input-125-f8ef12e38186>:10: TqdmDeprecationWarning: This function will be removed in tqdm==5.0.0\n",
      "Please use `tqdm.notebook.tqdm` instead of `tqdm.tqdm_notebook`\n",
      "  for j in tn(range(4)):\n"
     ]
    },
    {
     "data": {
      "application/vnd.jupyter.widget-view+json": {
       "model_id": "38b5b6d0fbf94a54a5396015e1389c68",
       "version_major": 2,
       "version_minor": 0
      },
      "text/plain": [
       "HBox(children=(HTML(value=''), FloatProgress(value=0.0, max=4.0), HTML(value='')))"
      ]
     },
     "metadata": {},
     "output_type": "display_data"
    },
    {
     "name": "stderr",
     "output_type": "stream",
     "text": [
      "<ipython-input-26-4a25245fc9cb>:37: DeprecationWarning: `np.float` is a deprecated alias for the builtin `float`. To silence this warning, use `float` by itself. Doing this will not modify any behavior and is safe. If you specifically wanted the numpy scalar type, use `np.float64` here.\n",
      "Deprecated in NumPy 1.20; for more details and guidance: https://numpy.org/devdocs/release/1.20.0-notes.html#deprecations\n",
      "  result = np.zeros((height, width, len(start_list)), dtype=np.float)\n",
      "<ipython-input-125-f8ef12e38186>:16: TqdmDeprecationWarning: This function will be removed in tqdm==5.0.0\n",
      "Please use `tqdm.notebook.tqdm` instead of `tqdm.tqdm_notebook`\n",
      "  for i in tn(range(4)):\n"
     ]
    },
    {
     "data": {
      "application/vnd.jupyter.widget-view+json": {
       "model_id": "12cb7d1a177d48248ec8a5632ea058a6",
       "version_major": 2,
       "version_minor": 0
      },
      "text/plain": [
       "HBox(children=(HTML(value=''), FloatProgress(value=0.0, max=4.0), HTML(value='')))"
      ]
     },
     "metadata": {},
     "output_type": "display_data"
    },
    {
     "name": "stderr",
     "output_type": "stream",
     "text": [
      "<ipython-input-27-bc886dcdcd16>:321: DeprecationWarning: `np.int` is a deprecated alias for the builtin `int`. To silence this warning, use `int` by itself. Doing this will not modify any behavior and is safe. When replacing `np.int`, you may wish to use e.g. `np.int64` or `np.int32` to specify the precision. If you wish to review your current use, check the release note link for additional information.\n",
      "Deprecated in NumPy 1.20; for more details and guidance: https://numpy.org/devdocs/release/1.20.0-notes.html#deprecations\n",
      "  rects = [np.array(wordCharRects, dtype=np.int)[np.newaxis, :, :,:] for wordCharRects in self.annotation[\"wordsCharactersRects\"]]\n"
     ]
    },
    {
     "name": "stdout",
     "output_type": "stream",
     "text": [
      "D:\\Data\\Diploma\\generated//Validate_noAugModifiedFullBin//gt/233.png0_0CharMap.png\n",
      "D:\\Data\\Diploma\\generated//Validate_noAugModifiedFullBin//gt/233.png1_0CharMap.png\n",
      "\n"
     ]
    },
    {
     "data": {
      "application/vnd.jupyter.widget-view+json": {
       "model_id": "aaf2ca638fc8497fbde6814f8e13d0cf",
       "version_major": 2,
       "version_minor": 0
      },
      "text/plain": [
       "HBox(children=(HTML(value=''), FloatProgress(value=0.0, max=4.0), HTML(value='')))"
      ]
     },
     "metadata": {},
     "output_type": "display_data"
    },
    {
     "name": "stdout",
     "output_type": "stream",
     "text": [
      "D:\\Data\\Diploma\\generated//Validate_noAugModifiedFullBin//gt/233.png0_1CharMap.png\n",
      "D:\\Data\\Diploma\\generated//Validate_noAugModifiedFullBin//gt/233.png1_1CharMap.png\n",
      "\n"
     ]
    },
    {
     "data": {
      "application/vnd.jupyter.widget-view+json": {
       "model_id": "689f63402b964c398867ca817d150486",
       "version_major": 2,
       "version_minor": 0
      },
      "text/plain": [
       "HBox(children=(HTML(value=''), FloatProgress(value=0.0, max=4.0), HTML(value='')))"
      ]
     },
     "metadata": {},
     "output_type": "display_data"
    },
    {
     "name": "stdout",
     "output_type": "stream",
     "text": [
      "D:\\Data\\Diploma\\generated//Validate_noAugModifiedFullBin//gt/233.png0_2CharMap.png\n",
      "D:\\Data\\Diploma\\generated//Validate_noAugModifiedFullBin//gt/233.png1_2CharMap.png\n",
      "\n"
     ]
    },
    {
     "data": {
      "application/vnd.jupyter.widget-view+json": {
       "model_id": "fb8485255fa149e69c929f59def71966",
       "version_major": 2,
       "version_minor": 0
      },
      "text/plain": [
       "HBox(children=(HTML(value=''), FloatProgress(value=0.0, max=4.0), HTML(value='')))"
      ]
     },
     "metadata": {},
     "output_type": "display_data"
    },
    {
     "name": "stdout",
     "output_type": "stream",
     "text": [
      "D:\\Data\\Diploma\\generated//Validate_noAugModifiedFullBin//gt/233.png0_3CharMap.png\n",
      "D:\\Data\\Diploma\\generated//Validate_noAugModifiedFullBin//gt/233.png1_3CharMap.png\n",
      "\n",
      "\n"
     ]
    },
    {
     "name": "stderr",
     "output_type": "stream",
     "text": [
      "<ipython-input-125-f8ef12e38186>:10: TqdmDeprecationWarning: This function will be removed in tqdm==5.0.0\n",
      "Please use `tqdm.notebook.tqdm` instead of `tqdm.tqdm_notebook`\n",
      "  for j in tn(range(4)):\n"
     ]
    },
    {
     "data": {
      "application/vnd.jupyter.widget-view+json": {
       "model_id": "2772e62ed1c94fe48ca2b0efe8f78e6a",
       "version_major": 2,
       "version_minor": 0
      },
      "text/plain": [
       "HBox(children=(HTML(value=''), FloatProgress(value=0.0, max=4.0), HTML(value='')))"
      ]
     },
     "metadata": {},
     "output_type": "display_data"
    },
    {
     "data": {
      "application/vnd.jupyter.widget-view+json": {
       "model_id": "5a40380cf4af4608a6e20892ac56657f",
       "version_major": 2,
       "version_minor": 0
      },
      "text/plain": [
       "HBox(children=(HTML(value=''), FloatProgress(value=0.0, max=4.0), HTML(value='')))"
      ]
     },
     "metadata": {},
     "output_type": "display_data"
    },
    {
     "name": "stdout",
     "output_type": "stream",
     "text": [
      "D:\\Data\\Diploma\\generated//Validate_noAugModifiedFullBin//gt/23837013a9c1935fb1280cde268be040.png0_0CharMap.png\n",
      "D:\\Data\\Diploma\\generated//Validate_noAugModifiedFullBin//gt/23837013a9c1935fb1280cde268be040.png1_0CharMap.png\n",
      "\n"
     ]
    },
    {
     "name": "stderr",
     "output_type": "stream",
     "text": [
      "<ipython-input-26-4a25245fc9cb>:37: DeprecationWarning: `np.float` is a deprecated alias for the builtin `float`. To silence this warning, use `float` by itself. Doing this will not modify any behavior and is safe. If you specifically wanted the numpy scalar type, use `np.float64` here.\n",
      "Deprecated in NumPy 1.20; for more details and guidance: https://numpy.org/devdocs/release/1.20.0-notes.html#deprecations\n",
      "  result = np.zeros((height, width, len(start_list)), dtype=np.float)\n",
      "<ipython-input-125-f8ef12e38186>:16: TqdmDeprecationWarning: This function will be removed in tqdm==5.0.0\n",
      "Please use `tqdm.notebook.tqdm` instead of `tqdm.tqdm_notebook`\n",
      "  for i in tn(range(4)):\n"
     ]
    },
    {
     "data": {
      "application/vnd.jupyter.widget-view+json": {
       "model_id": "a199d2209fd049c6a812d2b8163be482",
       "version_major": 2,
       "version_minor": 0
      },
      "text/plain": [
       "HBox(children=(HTML(value=''), FloatProgress(value=0.0, max=4.0), HTML(value='')))"
      ]
     },
     "metadata": {},
     "output_type": "display_data"
    },
    {
     "name": "stderr",
     "output_type": "stream",
     "text": [
      "<ipython-input-27-bc886dcdcd16>:321: DeprecationWarning: `np.int` is a deprecated alias for the builtin `int`. To silence this warning, use `int` by itself. Doing this will not modify any behavior and is safe. When replacing `np.int`, you may wish to use e.g. `np.int64` or `np.int32` to specify the precision. If you wish to review your current use, check the release note link for additional information.\n",
      "Deprecated in NumPy 1.20; for more details and guidance: https://numpy.org/devdocs/release/1.20.0-notes.html#deprecations\n",
      "  rects = [np.array(wordCharRects, dtype=np.int)[np.newaxis, :, :,:] for wordCharRects in self.annotation[\"wordsCharactersRects\"]]\n"
     ]
    },
    {
     "name": "stdout",
     "output_type": "stream",
     "text": [
      "D:\\Data\\Diploma\\generated//Validate_noAugModifiedFullBin//gt/23837013a9c1935fb1280cde268be040.png0_1CharMap.png\n",
      "D:\\Data\\Diploma\\generated//Validate_noAugModifiedFullBin//gt/23837013a9c1935fb1280cde268be040.png1_1CharMap.png\n",
      "\n"
     ]
    },
    {
     "data": {
      "application/vnd.jupyter.widget-view+json": {
       "model_id": "eaf8aa61617c494d9089b41d6d4b1f4a",
       "version_major": 2,
       "version_minor": 0
      },
      "text/plain": [
       "HBox(children=(HTML(value=''), FloatProgress(value=0.0, max=4.0), HTML(value='')))"
      ]
     },
     "metadata": {},
     "output_type": "display_data"
    },
    {
     "name": "stdout",
     "output_type": "stream",
     "text": [
      "D:\\Data\\Diploma\\generated//Validate_noAugModifiedFullBin//gt/23837013a9c1935fb1280cde268be040.png0_2CharMap.png\n",
      "D:\\Data\\Diploma\\generated//Validate_noAugModifiedFullBin//gt/23837013a9c1935fb1280cde268be040.png1_2CharMap.png\n",
      "\n"
     ]
    },
    {
     "name": "stderr",
     "output_type": "stream",
     "text": [
      "<ipython-input-26-4a25245fc9cb>:37: DeprecationWarning: `np.float` is a deprecated alias for the builtin `float`. To silence this warning, use `float` by itself. Doing this will not modify any behavior and is safe. If you specifically wanted the numpy scalar type, use `np.float64` here.\n",
      "Deprecated in NumPy 1.20; for more details and guidance: https://numpy.org/devdocs/release/1.20.0-notes.html#deprecations\n",
      "  result = np.zeros((height, width, len(start_list)), dtype=np.float)\n",
      "<ipython-input-125-f8ef12e38186>:16: TqdmDeprecationWarning: This function will be removed in tqdm==5.0.0\n",
      "Please use `tqdm.notebook.tqdm` instead of `tqdm.tqdm_notebook`\n",
      "  for i in tn(range(4)):\n"
     ]
    },
    {
     "data": {
      "application/vnd.jupyter.widget-view+json": {
       "model_id": "0ca579d0f3d14240aed350435d67cecd",
       "version_major": 2,
       "version_minor": 0
      },
      "text/plain": [
       "HBox(children=(HTML(value=''), FloatProgress(value=0.0, max=4.0), HTML(value='')))"
      ]
     },
     "metadata": {},
     "output_type": "display_data"
    },
    {
     "name": "stderr",
     "output_type": "stream",
     "text": [
      "<ipython-input-27-bc886dcdcd16>:321: DeprecationWarning: `np.int` is a deprecated alias for the builtin `int`. To silence this warning, use `int` by itself. Doing this will not modify any behavior and is safe. When replacing `np.int`, you may wish to use e.g. `np.int64` or `np.int32` to specify the precision. If you wish to review your current use, check the release note link for additional information.\n",
      "Deprecated in NumPy 1.20; for more details and guidance: https://numpy.org/devdocs/release/1.20.0-notes.html#deprecations\n",
      "  rects = [np.array(wordCharRects, dtype=np.int)[np.newaxis, :, :,:] for wordCharRects in self.annotation[\"wordsCharactersRects\"]]\n"
     ]
    },
    {
     "name": "stdout",
     "output_type": "stream",
     "text": [
      "D:\\Data\\Diploma\\generated//Validate_noAugModifiedFullBin//gt/23837013a9c1935fb1280cde268be040.png0_3CharMap.png\n",
      "D:\\Data\\Diploma\\generated//Validate_noAugModifiedFullBin//gt/23837013a9c1935fb1280cde268be040.png1_3CharMap.png\n",
      "\n",
      "\n"
     ]
    },
    {
     "name": "stderr",
     "output_type": "stream",
     "text": [
      "<ipython-input-125-f8ef12e38186>:10: TqdmDeprecationWarning: This function will be removed in tqdm==5.0.0\n",
      "Please use `tqdm.notebook.tqdm` instead of `tqdm.tqdm_notebook`\n",
      "  for j in tn(range(4)):\n"
     ]
    },
    {
     "data": {
      "application/vnd.jupyter.widget-view+json": {
       "model_id": "e03ed987520443a3ae47be27f4937cfa",
       "version_major": 2,
       "version_minor": 0
      },
      "text/plain": [
       "HBox(children=(HTML(value=''), FloatProgress(value=0.0, max=4.0), HTML(value='')))"
      ]
     },
     "metadata": {},
     "output_type": "display_data"
    },
    {
     "data": {
      "application/vnd.jupyter.widget-view+json": {
       "model_id": "cdbea72cd6eb4d1f8f948fe225b67ca7",
       "version_major": 2,
       "version_minor": 0
      },
      "text/plain": [
       "HBox(children=(HTML(value=''), FloatProgress(value=0.0, max=4.0), HTML(value='')))"
      ]
     },
     "metadata": {},
     "output_type": "display_data"
    },
    {
     "name": "stdout",
     "output_type": "stream",
     "text": [
      "D:\\Data\\Diploma\\generated//Validate_noAugModifiedFullBin//gt/360_F_129584099_FB6MnqOwkLqfk5TIyn75UFK9ttxfJVfO.jpg0_0CharMap.png\n",
      "D:\\Data\\Diploma\\generated//Validate_noAugModifiedFullBin//gt/360_F_129584099_FB6MnqOwkLqfk5TIyn75UFK9ttxfJVfO.jpg1_0CharMap.png\n",
      "\n"
     ]
    },
    {
     "data": {
      "application/vnd.jupyter.widget-view+json": {
       "model_id": "2616a345c3ce4a4e81cfed5c02970e60",
       "version_major": 2,
       "version_minor": 0
      },
      "text/plain": [
       "HBox(children=(HTML(value=''), FloatProgress(value=0.0, max=4.0), HTML(value='')))"
      ]
     },
     "metadata": {},
     "output_type": "display_data"
    },
    {
     "name": "stdout",
     "output_type": "stream",
     "text": [
      "D:\\Data\\Diploma\\generated//Validate_noAugModifiedFullBin//gt/360_F_129584099_FB6MnqOwkLqfk5TIyn75UFK9ttxfJVfO.jpg0_1CharMap.png\n",
      "D:\\Data\\Diploma\\generated//Validate_noAugModifiedFullBin//gt/360_F_129584099_FB6MnqOwkLqfk5TIyn75UFK9ttxfJVfO.jpg1_1CharMap.png\n",
      "\n"
     ]
    },
    {
     "name": "stderr",
     "output_type": "stream",
     "text": [
      "<ipython-input-26-4a25245fc9cb>:37: DeprecationWarning: `np.float` is a deprecated alias for the builtin `float`. To silence this warning, use `float` by itself. Doing this will not modify any behavior and is safe. If you specifically wanted the numpy scalar type, use `np.float64` here.\n",
      "Deprecated in NumPy 1.20; for more details and guidance: https://numpy.org/devdocs/release/1.20.0-notes.html#deprecations\n",
      "  result = np.zeros((height, width, len(start_list)), dtype=np.float)\n",
      "<ipython-input-125-f8ef12e38186>:16: TqdmDeprecationWarning: This function will be removed in tqdm==5.0.0\n",
      "Please use `tqdm.notebook.tqdm` instead of `tqdm.tqdm_notebook`\n",
      "  for i in tn(range(4)):\n"
     ]
    },
    {
     "data": {
      "application/vnd.jupyter.widget-view+json": {
       "model_id": "0c90cef15e60400c8a149411effaef61",
       "version_major": 2,
       "version_minor": 0
      },
      "text/plain": [
       "HBox(children=(HTML(value=''), FloatProgress(value=0.0, max=4.0), HTML(value='')))"
      ]
     },
     "metadata": {},
     "output_type": "display_data"
    },
    {
     "name": "stderr",
     "output_type": "stream",
     "text": [
      "<ipython-input-27-bc886dcdcd16>:321: DeprecationWarning: `np.int` is a deprecated alias for the builtin `int`. To silence this warning, use `int` by itself. Doing this will not modify any behavior and is safe. When replacing `np.int`, you may wish to use e.g. `np.int64` or `np.int32` to specify the precision. If you wish to review your current use, check the release note link for additional information.\n",
      "Deprecated in NumPy 1.20; for more details and guidance: https://numpy.org/devdocs/release/1.20.0-notes.html#deprecations\n",
      "  rects = [np.array(wordCharRects, dtype=np.int)[np.newaxis, :, :,:] for wordCharRects in self.annotation[\"wordsCharactersRects\"]]\n"
     ]
    },
    {
     "name": "stdout",
     "output_type": "stream",
     "text": [
      "D:\\Data\\Diploma\\generated//Validate_noAugModifiedFullBin//gt/360_F_129584099_FB6MnqOwkLqfk5TIyn75UFK9ttxfJVfO.jpg0_2CharMap.png\n",
      "D:\\Data\\Diploma\\generated//Validate_noAugModifiedFullBin//gt/360_F_129584099_FB6MnqOwkLqfk5TIyn75UFK9ttxfJVfO.jpg1_2CharMap.png\n",
      "\n"
     ]
    },
    {
     "data": {
      "application/vnd.jupyter.widget-view+json": {
       "model_id": "7d28d87b9cf7407f80ed3e1f6ed59a02",
       "version_major": 2,
       "version_minor": 0
      },
      "text/plain": [
       "HBox(children=(HTML(value=''), FloatProgress(value=0.0, max=4.0), HTML(value='')))"
      ]
     },
     "metadata": {},
     "output_type": "display_data"
    },
    {
     "name": "stdout",
     "output_type": "stream",
     "text": [
      "D:\\Data\\Diploma\\generated//Validate_noAugModifiedFullBin//gt/360_F_129584099_FB6MnqOwkLqfk5TIyn75UFK9ttxfJVfO.jpg0_3CharMap.png\n",
      "D:\\Data\\Diploma\\generated//Validate_noAugModifiedFullBin//gt/360_F_129584099_FB6MnqOwkLqfk5TIyn75UFK9ttxfJVfO.jpg1_3CharMap.png\n",
      "\n",
      "\n"
     ]
    },
    {
     "name": "stderr",
     "output_type": "stream",
     "text": [
      "<ipython-input-125-f8ef12e38186>:10: TqdmDeprecationWarning: This function will be removed in tqdm==5.0.0\n",
      "Please use `tqdm.notebook.tqdm` instead of `tqdm.tqdm_notebook`\n",
      "  for j in tn(range(4)):\n"
     ]
    },
    {
     "data": {
      "application/vnd.jupyter.widget-view+json": {
       "model_id": "291a172fcf064ac7a99eb7014c228b13",
       "version_major": 2,
       "version_minor": 0
      },
      "text/plain": [
       "HBox(children=(HTML(value=''), FloatProgress(value=0.0, max=4.0), HTML(value='')))"
      ]
     },
     "metadata": {},
     "output_type": "display_data"
    },
    {
     "name": "stderr",
     "output_type": "stream",
     "text": [
      "<ipython-input-26-4a25245fc9cb>:37: DeprecationWarning: `np.float` is a deprecated alias for the builtin `float`. To silence this warning, use `float` by itself. Doing this will not modify any behavior and is safe. If you specifically wanted the numpy scalar type, use `np.float64` here.\n",
      "Deprecated in NumPy 1.20; for more details and guidance: https://numpy.org/devdocs/release/1.20.0-notes.html#deprecations\n",
      "  result = np.zeros((height, width, len(start_list)), dtype=np.float)\n",
      "<ipython-input-125-f8ef12e38186>:16: TqdmDeprecationWarning: This function will be removed in tqdm==5.0.0\n",
      "Please use `tqdm.notebook.tqdm` instead of `tqdm.tqdm_notebook`\n",
      "  for i in tn(range(4)):\n"
     ]
    },
    {
     "data": {
      "application/vnd.jupyter.widget-view+json": {
       "model_id": "786f4e4164c545b6a574b49197055d78",
       "version_major": 2,
       "version_minor": 0
      },
      "text/plain": [
       "HBox(children=(HTML(value=''), FloatProgress(value=0.0, max=4.0), HTML(value='')))"
      ]
     },
     "metadata": {},
     "output_type": "display_data"
    },
    {
     "name": "stderr",
     "output_type": "stream",
     "text": [
      "<ipython-input-27-bc886dcdcd16>:321: DeprecationWarning: `np.int` is a deprecated alias for the builtin `int`. To silence this warning, use `int` by itself. Doing this will not modify any behavior and is safe. When replacing `np.int`, you may wish to use e.g. `np.int64` or `np.int32` to specify the precision. If you wish to review your current use, check the release note link for additional information.\n",
      "Deprecated in NumPy 1.20; for more details and guidance: https://numpy.org/devdocs/release/1.20.0-notes.html#deprecations\n",
      "  rects = [np.array(wordCharRects, dtype=np.int)[np.newaxis, :, :,:] for wordCharRects in self.annotation[\"wordsCharactersRects\"]]\n"
     ]
    },
    {
     "name": "stdout",
     "output_type": "stream",
     "text": [
      "D:\\Data\\Diploma\\generated//Validate_noAugModifiedFullBin//gt/360_F_81324520_dQfJYO4F5DlStr5V8XNasgt008533EWW.jpg0_0CharMap.png\n",
      "D:\\Data\\Diploma\\generated//Validate_noAugModifiedFullBin//gt/360_F_81324520_dQfJYO4F5DlStr5V8XNasgt008533EWW.jpg1_0CharMap.png\n",
      "\n"
     ]
    },
    {
     "data": {
      "application/vnd.jupyter.widget-view+json": {
       "model_id": "4454917b1ef6449ba5331b8ec85df37c",
       "version_major": 2,
       "version_minor": 0
      },
      "text/plain": [
       "HBox(children=(HTML(value=''), FloatProgress(value=0.0, max=4.0), HTML(value='')))"
      ]
     },
     "metadata": {},
     "output_type": "display_data"
    },
    {
     "name": "stdout",
     "output_type": "stream",
     "text": [
      "D:\\Data\\Diploma\\generated//Validate_noAugModifiedFullBin//gt/360_F_81324520_dQfJYO4F5DlStr5V8XNasgt008533EWW.jpg0_1CharMap.png\n",
      "D:\\Data\\Diploma\\generated//Validate_noAugModifiedFullBin//gt/360_F_81324520_dQfJYO4F5DlStr5V8XNasgt008533EWW.jpg1_1CharMap.png\n",
      "\n"
     ]
    },
    {
     "data": {
      "application/vnd.jupyter.widget-view+json": {
       "model_id": "727b68a1beaf448ea74e9b7aa13cdf1d",
       "version_major": 2,
       "version_minor": 0
      },
      "text/plain": [
       "HBox(children=(HTML(value=''), FloatProgress(value=0.0, max=4.0), HTML(value='')))"
      ]
     },
     "metadata": {},
     "output_type": "display_data"
    },
    {
     "name": "stdout",
     "output_type": "stream",
     "text": [
      "D:\\Data\\Diploma\\generated//Validate_noAugModifiedFullBin//gt/360_F_81324520_dQfJYO4F5DlStr5V8XNasgt008533EWW.jpg0_2CharMap.png\n",
      "D:\\Data\\Diploma\\generated//Validate_noAugModifiedFullBin//gt/360_F_81324520_dQfJYO4F5DlStr5V8XNasgt008533EWW.jpg1_2CharMap.png\n",
      "\n"
     ]
    },
    {
     "data": {
      "application/vnd.jupyter.widget-view+json": {
       "model_id": "6da2fe601674402189762fc6f83ff366",
       "version_major": 2,
       "version_minor": 0
      },
      "text/plain": [
       "HBox(children=(HTML(value=''), FloatProgress(value=0.0, max=4.0), HTML(value='')))"
      ]
     },
     "metadata": {},
     "output_type": "display_data"
    },
    {
     "name": "stdout",
     "output_type": "stream",
     "text": [
      "D:\\Data\\Diploma\\generated//Validate_noAugModifiedFullBin//gt/360_F_81324520_dQfJYO4F5DlStr5V8XNasgt008533EWW.jpg0_3CharMap.png\n",
      "D:\\Data\\Diploma\\generated//Validate_noAugModifiedFullBin//gt/360_F_81324520_dQfJYO4F5DlStr5V8XNasgt008533EWW.jpg1_3CharMap.png\n",
      "\n",
      "\n"
     ]
    },
    {
     "name": "stderr",
     "output_type": "stream",
     "text": [
      "<ipython-input-125-f8ef12e38186>:10: TqdmDeprecationWarning: This function will be removed in tqdm==5.0.0\n",
      "Please use `tqdm.notebook.tqdm` instead of `tqdm.tqdm_notebook`\n",
      "  for j in tn(range(4)):\n"
     ]
    },
    {
     "data": {
      "application/vnd.jupyter.widget-view+json": {
       "model_id": "5bb1d4b7c6104de790964c92f11b8a66",
       "version_major": 2,
       "version_minor": 0
      },
      "text/plain": [
       "HBox(children=(HTML(value=''), FloatProgress(value=0.0, max=4.0), HTML(value='')))"
      ]
     },
     "metadata": {},
     "output_type": "display_data"
    },
    {
     "data": {
      "application/vnd.jupyter.widget-view+json": {
       "model_id": "e6fce7dcdb42418b82872202687a3b92",
       "version_major": 2,
       "version_minor": 0
      },
      "text/plain": [
       "HBox(children=(HTML(value=''), FloatProgress(value=0.0, max=4.0), HTML(value='')))"
      ]
     },
     "metadata": {},
     "output_type": "display_data"
    },
    {
     "name": "stdout",
     "output_type": "stream",
     "text": [
      "D:\\Data\\Diploma\\generated//Validate_noAugModifiedFullBin//gt/360_F_81353111_RHDo5ABCfUCnQpiSqJmAI6bzrIiF11rI.jpg0_0CharMap.png\n",
      "D:\\Data\\Diploma\\generated//Validate_noAugModifiedFullBin//gt/360_F_81353111_RHDo5ABCfUCnQpiSqJmAI6bzrIiF11rI.jpg1_0CharMap.png\n",
      "\n"
     ]
    },
    {
     "name": "stderr",
     "output_type": "stream",
     "text": [
      "<ipython-input-26-4a25245fc9cb>:37: DeprecationWarning: `np.float` is a deprecated alias for the builtin `float`. To silence this warning, use `float` by itself. Doing this will not modify any behavior and is safe. If you specifically wanted the numpy scalar type, use `np.float64` here.\n",
      "Deprecated in NumPy 1.20; for more details and guidance: https://numpy.org/devdocs/release/1.20.0-notes.html#deprecations\n",
      "  result = np.zeros((height, width, len(start_list)), dtype=np.float)\n",
      "<ipython-input-125-f8ef12e38186>:16: TqdmDeprecationWarning: This function will be removed in tqdm==5.0.0\n",
      "Please use `tqdm.notebook.tqdm` instead of `tqdm.tqdm_notebook`\n",
      "  for i in tn(range(4)):\n"
     ]
    },
    {
     "data": {
      "application/vnd.jupyter.widget-view+json": {
       "model_id": "b4e1d1abe4ba41fba82de5c48d3f1c63",
       "version_major": 2,
       "version_minor": 0
      },
      "text/plain": [
       "HBox(children=(HTML(value=''), FloatProgress(value=0.0, max=4.0), HTML(value='')))"
      ]
     },
     "metadata": {},
     "output_type": "display_data"
    },
    {
     "name": "stderr",
     "output_type": "stream",
     "text": [
      "<ipython-input-27-bc886dcdcd16>:321: DeprecationWarning: `np.int` is a deprecated alias for the builtin `int`. To silence this warning, use `int` by itself. Doing this will not modify any behavior and is safe. When replacing `np.int`, you may wish to use e.g. `np.int64` or `np.int32` to specify the precision. If you wish to review your current use, check the release note link for additional information.\n",
      "Deprecated in NumPy 1.20; for more details and guidance: https://numpy.org/devdocs/release/1.20.0-notes.html#deprecations\n",
      "  rects = [np.array(wordCharRects, dtype=np.int)[np.newaxis, :, :,:] for wordCharRects in self.annotation[\"wordsCharactersRects\"]]\n"
     ]
    },
    {
     "name": "stdout",
     "output_type": "stream",
     "text": [
      "D:\\Data\\Diploma\\generated//Validate_noAugModifiedFullBin//gt/360_F_81353111_RHDo5ABCfUCnQpiSqJmAI6bzrIiF11rI.jpg0_1CharMap.png\n",
      "D:\\Data\\Diploma\\generated//Validate_noAugModifiedFullBin//gt/360_F_81353111_RHDo5ABCfUCnQpiSqJmAI6bzrIiF11rI.jpg1_1CharMap.png\n",
      "\n"
     ]
    },
    {
     "data": {
      "application/vnd.jupyter.widget-view+json": {
       "model_id": "47338f403391403d90748ec97c39ae1d",
       "version_major": 2,
       "version_minor": 0
      },
      "text/plain": [
       "HBox(children=(HTML(value=''), FloatProgress(value=0.0, max=4.0), HTML(value='')))"
      ]
     },
     "metadata": {},
     "output_type": "display_data"
    },
    {
     "name": "stdout",
     "output_type": "stream",
     "text": [
      "D:\\Data\\Diploma\\generated//Validate_noAugModifiedFullBin//gt/360_F_81353111_RHDo5ABCfUCnQpiSqJmAI6bzrIiF11rI.jpg0_2CharMap.png\n",
      "D:\\Data\\Diploma\\generated//Validate_noAugModifiedFullBin//gt/360_F_81353111_RHDo5ABCfUCnQpiSqJmAI6bzrIiF11rI.jpg1_2CharMap.png\n",
      "\n"
     ]
    },
    {
     "name": "stderr",
     "output_type": "stream",
     "text": [
      "<ipython-input-26-4a25245fc9cb>:37: DeprecationWarning: `np.float` is a deprecated alias for the builtin `float`. To silence this warning, use `float` by itself. Doing this will not modify any behavior and is safe. If you specifically wanted the numpy scalar type, use `np.float64` here.\n",
      "Deprecated in NumPy 1.20; for more details and guidance: https://numpy.org/devdocs/release/1.20.0-notes.html#deprecations\n",
      "  result = np.zeros((height, width, len(start_list)), dtype=np.float)\n",
      "<ipython-input-125-f8ef12e38186>:16: TqdmDeprecationWarning: This function will be removed in tqdm==5.0.0\n",
      "Please use `tqdm.notebook.tqdm` instead of `tqdm.tqdm_notebook`\n",
      "  for i in tn(range(4)):\n"
     ]
    },
    {
     "data": {
      "application/vnd.jupyter.widget-view+json": {
       "model_id": "cc25b2d3fc704769831052feab74feb6",
       "version_major": 2,
       "version_minor": 0
      },
      "text/plain": [
       "HBox(children=(HTML(value=''), FloatProgress(value=0.0, max=4.0), HTML(value='')))"
      ]
     },
     "metadata": {},
     "output_type": "display_data"
    },
    {
     "name": "stderr",
     "output_type": "stream",
     "text": [
      "<ipython-input-27-bc886dcdcd16>:321: DeprecationWarning: `np.int` is a deprecated alias for the builtin `int`. To silence this warning, use `int` by itself. Doing this will not modify any behavior and is safe. When replacing `np.int`, you may wish to use e.g. `np.int64` or `np.int32` to specify the precision. If you wish to review your current use, check the release note link for additional information.\n",
      "Deprecated in NumPy 1.20; for more details and guidance: https://numpy.org/devdocs/release/1.20.0-notes.html#deprecations\n",
      "  rects = [np.array(wordCharRects, dtype=np.int)[np.newaxis, :, :,:] for wordCharRects in self.annotation[\"wordsCharactersRects\"]]\n"
     ]
    },
    {
     "name": "stdout",
     "output_type": "stream",
     "text": [
      "D:\\Data\\Diploma\\generated//Validate_noAugModifiedFullBin//gt/360_F_81353111_RHDo5ABCfUCnQpiSqJmAI6bzrIiF11rI.jpg0_3CharMap.png\n",
      "D:\\Data\\Diploma\\generated//Validate_noAugModifiedFullBin//gt/360_F_81353111_RHDo5ABCfUCnQpiSqJmAI6bzrIiF11rI.jpg1_3CharMap.png\n",
      "\n",
      "\n"
     ]
    },
    {
     "name": "stderr",
     "output_type": "stream",
     "text": [
      "<ipython-input-125-f8ef12e38186>:10: TqdmDeprecationWarning: This function will be removed in tqdm==5.0.0\n",
      "Please use `tqdm.notebook.tqdm` instead of `tqdm.tqdm_notebook`\n",
      "  for j in tn(range(4)):\n"
     ]
    },
    {
     "data": {
      "application/vnd.jupyter.widget-view+json": {
       "model_id": "e5ef5df7c3724dfd9de0360ec134f588",
       "version_major": 2,
       "version_minor": 0
      },
      "text/plain": [
       "HBox(children=(HTML(value=''), FloatProgress(value=0.0, max=4.0), HTML(value='')))"
      ]
     },
     "metadata": {},
     "output_type": "display_data"
    },
    {
     "name": "stderr",
     "output_type": "stream",
     "text": [
      "<ipython-input-26-4a25245fc9cb>:37: DeprecationWarning: `np.float` is a deprecated alias for the builtin `float`. To silence this warning, use `float` by itself. Doing this will not modify any behavior and is safe. If you specifically wanted the numpy scalar type, use `np.float64` here.\n",
      "Deprecated in NumPy 1.20; for more details and guidance: https://numpy.org/devdocs/release/1.20.0-notes.html#deprecations\n",
      "  result = np.zeros((height, width, len(start_list)), dtype=np.float)\n",
      "<ipython-input-125-f8ef12e38186>:16: TqdmDeprecationWarning: This function will be removed in tqdm==5.0.0\n",
      "Please use `tqdm.notebook.tqdm` instead of `tqdm.tqdm_notebook`\n",
      "  for i in tn(range(4)):\n"
     ]
    },
    {
     "data": {
      "application/vnd.jupyter.widget-view+json": {
       "model_id": "de179cf81f54483c90fd6d4c09ba296a",
       "version_major": 2,
       "version_minor": 0
      },
      "text/plain": [
       "HBox(children=(HTML(value=''), FloatProgress(value=0.0, max=4.0), HTML(value='')))"
      ]
     },
     "metadata": {},
     "output_type": "display_data"
    },
    {
     "name": "stderr",
     "output_type": "stream",
     "text": [
      "<ipython-input-27-bc886dcdcd16>:321: DeprecationWarning: `np.int` is a deprecated alias for the builtin `int`. To silence this warning, use `int` by itself. Doing this will not modify any behavior and is safe. When replacing `np.int`, you may wish to use e.g. `np.int64` or `np.int32` to specify the precision. If you wish to review your current use, check the release note link for additional information.\n",
      "Deprecated in NumPy 1.20; for more details and guidance: https://numpy.org/devdocs/release/1.20.0-notes.html#deprecations\n",
      "  rects = [np.array(wordCharRects, dtype=np.int)[np.newaxis, :, :,:] for wordCharRects in self.annotation[\"wordsCharactersRects\"]]\n"
     ]
    },
    {
     "name": "stdout",
     "output_type": "stream",
     "text": [
      "D:\\Data\\Diploma\\generated//Validate_noAugModifiedFullBin//gt/403b35b6158c7cae6e32dcf7a1342b7d.jpg0_0CharMap.png\n",
      "D:\\Data\\Diploma\\generated//Validate_noAugModifiedFullBin//gt/403b35b6158c7cae6e32dcf7a1342b7d.jpg1_0CharMap.png\n",
      "\n"
     ]
    },
    {
     "data": {
      "application/vnd.jupyter.widget-view+json": {
       "model_id": "87d689c0cad74c35ad58a6424810e9c1",
       "version_major": 2,
       "version_minor": 0
      },
      "text/plain": [
       "HBox(children=(HTML(value=''), FloatProgress(value=0.0, max=4.0), HTML(value='')))"
      ]
     },
     "metadata": {},
     "output_type": "display_data"
    },
    {
     "name": "stdout",
     "output_type": "stream",
     "text": [
      "D:\\Data\\Diploma\\generated//Validate_noAugModifiedFullBin//gt/403b35b6158c7cae6e32dcf7a1342b7d.jpg0_1CharMap.png\n",
      "D:\\Data\\Diploma\\generated//Validate_noAugModifiedFullBin//gt/403b35b6158c7cae6e32dcf7a1342b7d.jpg1_1CharMap.png\n",
      "\n"
     ]
    },
    {
     "data": {
      "application/vnd.jupyter.widget-view+json": {
       "model_id": "7097e681e688442b9a35402954e27e38",
       "version_major": 2,
       "version_minor": 0
      },
      "text/plain": [
       "HBox(children=(HTML(value=''), FloatProgress(value=0.0, max=4.0), HTML(value='')))"
      ]
     },
     "metadata": {},
     "output_type": "display_data"
    },
    {
     "name": "stdout",
     "output_type": "stream",
     "text": [
      "D:\\Data\\Diploma\\generated//Validate_noAugModifiedFullBin//gt/403b35b6158c7cae6e32dcf7a1342b7d.jpg0_2CharMap.png\n",
      "D:\\Data\\Diploma\\generated//Validate_noAugModifiedFullBin//gt/403b35b6158c7cae6e32dcf7a1342b7d.jpg1_2CharMap.png\n",
      "\n"
     ]
    },
    {
     "data": {
      "application/vnd.jupyter.widget-view+json": {
       "model_id": "65bcdcaad72541caad8cbe38e9d9f7e0",
       "version_major": 2,
       "version_minor": 0
      },
      "text/plain": [
       "HBox(children=(HTML(value=''), FloatProgress(value=0.0, max=4.0), HTML(value='')))"
      ]
     },
     "metadata": {},
     "output_type": "display_data"
    },
    {
     "name": "stdout",
     "output_type": "stream",
     "text": [
      "D:\\Data\\Diploma\\generated//Validate_noAugModifiedFullBin//gt/403b35b6158c7cae6e32dcf7a1342b7d.jpg0_3CharMap.png\n",
      "D:\\Data\\Diploma\\generated//Validate_noAugModifiedFullBin//gt/403b35b6158c7cae6e32dcf7a1342b7d.jpg1_3CharMap.png\n",
      "\n",
      "\n"
     ]
    },
    {
     "name": "stderr",
     "output_type": "stream",
     "text": [
      "<ipython-input-125-f8ef12e38186>:10: TqdmDeprecationWarning: This function will be removed in tqdm==5.0.0\n",
      "Please use `tqdm.notebook.tqdm` instead of `tqdm.tqdm_notebook`\n",
      "  for j in tn(range(4)):\n"
     ]
    },
    {
     "data": {
      "application/vnd.jupyter.widget-view+json": {
       "model_id": "f4ef96ea93ef47ae884d09c30769b131",
       "version_major": 2,
       "version_minor": 0
      },
      "text/plain": [
       "HBox(children=(HTML(value=''), FloatProgress(value=0.0, max=4.0), HTML(value='')))"
      ]
     },
     "metadata": {},
     "output_type": "display_data"
    },
    {
     "name": "stderr",
     "output_type": "stream",
     "text": [
      "<ipython-input-125-f8ef12e38186>:16: TqdmDeprecationWarning: This function will be removed in tqdm==5.0.0\n",
      "Please use `tqdm.notebook.tqdm` instead of `tqdm.tqdm_notebook`\n",
      "  for i in tn(range(4)):\n"
     ]
    },
    {
     "data": {
      "application/vnd.jupyter.widget-view+json": {
       "model_id": "4f42afc4a6a24ee8a78cbed658bc3aa7",
       "version_major": 2,
       "version_minor": 0
      },
      "text/plain": [
       "HBox(children=(HTML(value=''), FloatProgress(value=0.0, max=4.0), HTML(value='')))"
      ]
     },
     "metadata": {},
     "output_type": "display_data"
    },
    {
     "name": "stderr",
     "output_type": "stream",
     "text": [
      "<ipython-input-27-bc886dcdcd16>:321: DeprecationWarning: `np.int` is a deprecated alias for the builtin `int`. To silence this warning, use `int` by itself. Doing this will not modify any behavior and is safe. When replacing `np.int`, you may wish to use e.g. `np.int64` or `np.int32` to specify the precision. If you wish to review your current use, check the release note link for additional information.\n",
      "Deprecated in NumPy 1.20; for more details and guidance: https://numpy.org/devdocs/release/1.20.0-notes.html#deprecations\n",
      "  rects = [np.array(wordCharRects, dtype=np.int)[np.newaxis, :, :,:] for wordCharRects in self.annotation[\"wordsCharactersRects\"]]\n"
     ]
    },
    {
     "name": "stdout",
     "output_type": "stream",
     "text": [
      "D:\\Data\\Diploma\\generated//Validate_noAugModifiedFullBin//gt/53-535811_abstract-blue-background7-best-background-for-id-card.jpg0_0CharMap.png\n",
      "D:\\Data\\Diploma\\generated//Validate_noAugModifiedFullBin//gt/53-535811_abstract-blue-background7-best-background-for-id-card.jpg1_0CharMap.png\n",
      "\n"
     ]
    },
    {
     "data": {
      "application/vnd.jupyter.widget-view+json": {
       "model_id": "c981da83a9b34f2bb93a4a90a4c37b35",
       "version_major": 2,
       "version_minor": 0
      },
      "text/plain": [
       "HBox(children=(HTML(value=''), FloatProgress(value=0.0, max=4.0), HTML(value='')))"
      ]
     },
     "metadata": {},
     "output_type": "display_data"
    },
    {
     "name": "stdout",
     "output_type": "stream",
     "text": [
      "D:\\Data\\Diploma\\generated//Validate_noAugModifiedFullBin//gt/53-535811_abstract-blue-background7-best-background-for-id-card.jpg0_1CharMap.png\n",
      "D:\\Data\\Diploma\\generated//Validate_noAugModifiedFullBin//gt/53-535811_abstract-blue-background7-best-background-for-id-card.jpg1_1CharMap.png\n",
      "\n"
     ]
    },
    {
     "name": "stderr",
     "output_type": "stream",
     "text": [
      "<ipython-input-26-4a25245fc9cb>:37: DeprecationWarning: `np.float` is a deprecated alias for the builtin `float`. To silence this warning, use `float` by itself. Doing this will not modify any behavior and is safe. If you specifically wanted the numpy scalar type, use `np.float64` here.\n",
      "Deprecated in NumPy 1.20; for more details and guidance: https://numpy.org/devdocs/release/1.20.0-notes.html#deprecations\n",
      "  result = np.zeros((height, width, len(start_list)), dtype=np.float)\n",
      "<ipython-input-125-f8ef12e38186>:16: TqdmDeprecationWarning: This function will be removed in tqdm==5.0.0\n",
      "Please use `tqdm.notebook.tqdm` instead of `tqdm.tqdm_notebook`\n",
      "  for i in tn(range(4)):\n"
     ]
    },
    {
     "data": {
      "application/vnd.jupyter.widget-view+json": {
       "model_id": "05209a25fa5b4e36985e7c8e33c5884e",
       "version_major": 2,
       "version_minor": 0
      },
      "text/plain": [
       "HBox(children=(HTML(value=''), FloatProgress(value=0.0, max=4.0), HTML(value='')))"
      ]
     },
     "metadata": {},
     "output_type": "display_data"
    },
    {
     "name": "stderr",
     "output_type": "stream",
     "text": [
      "<ipython-input-27-bc886dcdcd16>:321: DeprecationWarning: `np.int` is a deprecated alias for the builtin `int`. To silence this warning, use `int` by itself. Doing this will not modify any behavior and is safe. When replacing `np.int`, you may wish to use e.g. `np.int64` or `np.int32` to specify the precision. If you wish to review your current use, check the release note link for additional information.\n",
      "Deprecated in NumPy 1.20; for more details and guidance: https://numpy.org/devdocs/release/1.20.0-notes.html#deprecations\n",
      "  rects = [np.array(wordCharRects, dtype=np.int)[np.newaxis, :, :,:] for wordCharRects in self.annotation[\"wordsCharactersRects\"]]\n"
     ]
    },
    {
     "name": "stdout",
     "output_type": "stream",
     "text": [
      "D:\\Data\\Diploma\\generated//Validate_noAugModifiedFullBin//gt/53-535811_abstract-blue-background7-best-background-for-id-card.jpg0_2CharMap.png\n",
      "D:\\Data\\Diploma\\generated//Validate_noAugModifiedFullBin//gt/53-535811_abstract-blue-background7-best-background-for-id-card.jpg1_2CharMap.png\n",
      "\n"
     ]
    },
    {
     "name": "stderr",
     "output_type": "stream",
     "text": [
      "<ipython-input-26-4a25245fc9cb>:37: DeprecationWarning: `np.float` is a deprecated alias for the builtin `float`. To silence this warning, use `float` by itself. Doing this will not modify any behavior and is safe. If you specifically wanted the numpy scalar type, use `np.float64` here.\n",
      "Deprecated in NumPy 1.20; for more details and guidance: https://numpy.org/devdocs/release/1.20.0-notes.html#deprecations\n",
      "  result = np.zeros((height, width, len(start_list)), dtype=np.float)\n",
      "<ipython-input-125-f8ef12e38186>:16: TqdmDeprecationWarning: This function will be removed in tqdm==5.0.0\n",
      "Please use `tqdm.notebook.tqdm` instead of `tqdm.tqdm_notebook`\n",
      "  for i in tn(range(4)):\n"
     ]
    },
    {
     "data": {
      "application/vnd.jupyter.widget-view+json": {
       "model_id": "8a3bd0670dde412f81713ba482d060e0",
       "version_major": 2,
       "version_minor": 0
      },
      "text/plain": [
       "HBox(children=(HTML(value=''), FloatProgress(value=0.0, max=4.0), HTML(value='')))"
      ]
     },
     "metadata": {},
     "output_type": "display_data"
    },
    {
     "name": "stderr",
     "output_type": "stream",
     "text": [
      "<ipython-input-27-bc886dcdcd16>:321: DeprecationWarning: `np.int` is a deprecated alias for the builtin `int`. To silence this warning, use `int` by itself. Doing this will not modify any behavior and is safe. When replacing `np.int`, you may wish to use e.g. `np.int64` or `np.int32` to specify the precision. If you wish to review your current use, check the release note link for additional information.\n",
      "Deprecated in NumPy 1.20; for more details and guidance: https://numpy.org/devdocs/release/1.20.0-notes.html#deprecations\n",
      "  rects = [np.array(wordCharRects, dtype=np.int)[np.newaxis, :, :,:] for wordCharRects in self.annotation[\"wordsCharactersRects\"]]\n"
     ]
    },
    {
     "name": "stdout",
     "output_type": "stream",
     "text": [
      "D:\\Data\\Diploma\\generated//Validate_noAugModifiedFullBin//gt/53-535811_abstract-blue-background7-best-background-for-id-card.jpg0_3CharMap.png\n",
      "D:\\Data\\Diploma\\generated//Validate_noAugModifiedFullBin//gt/53-535811_abstract-blue-background7-best-background-for-id-card.jpg1_3CharMap.png\n",
      "\n",
      "\n"
     ]
    },
    {
     "name": "stderr",
     "output_type": "stream",
     "text": [
      "<ipython-input-125-f8ef12e38186>:10: TqdmDeprecationWarning: This function will be removed in tqdm==5.0.0\n",
      "Please use `tqdm.notebook.tqdm` instead of `tqdm.tqdm_notebook`\n",
      "  for j in tn(range(4)):\n"
     ]
    },
    {
     "data": {
      "application/vnd.jupyter.widget-view+json": {
       "model_id": "287598a5ea2e4a38b67e2a8f922b03f8",
       "version_major": 2,
       "version_minor": 0
      },
      "text/plain": [
       "HBox(children=(HTML(value=''), FloatProgress(value=0.0, max=4.0), HTML(value='')))"
      ]
     },
     "metadata": {},
     "output_type": "display_data"
    },
    {
     "name": "stderr",
     "output_type": "stream",
     "text": [
      "<ipython-input-26-4a25245fc9cb>:37: DeprecationWarning: `np.float` is a deprecated alias for the builtin `float`. To silence this warning, use `float` by itself. Doing this will not modify any behavior and is safe. If you specifically wanted the numpy scalar type, use `np.float64` here.\n",
      "Deprecated in NumPy 1.20; for more details and guidance: https://numpy.org/devdocs/release/1.20.0-notes.html#deprecations\n",
      "  result = np.zeros((height, width, len(start_list)), dtype=np.float)\n",
      "<ipython-input-125-f8ef12e38186>:16: TqdmDeprecationWarning: This function will be removed in tqdm==5.0.0\n",
      "Please use `tqdm.notebook.tqdm` instead of `tqdm.tqdm_notebook`\n",
      "  for i in tn(range(4)):\n"
     ]
    },
    {
     "data": {
      "application/vnd.jupyter.widget-view+json": {
       "model_id": "1861fc4f0b1c404cb726dc8cb9237877",
       "version_major": 2,
       "version_minor": 0
      },
      "text/plain": [
       "HBox(children=(HTML(value=''), FloatProgress(value=0.0, max=4.0), HTML(value='')))"
      ]
     },
     "metadata": {},
     "output_type": "display_data"
    },
    {
     "name": "stderr",
     "output_type": "stream",
     "text": [
      "<ipython-input-27-bc886dcdcd16>:321: DeprecationWarning: `np.int` is a deprecated alias for the builtin `int`. To silence this warning, use `int` by itself. Doing this will not modify any behavior and is safe. When replacing `np.int`, you may wish to use e.g. `np.int64` or `np.int32` to specify the precision. If you wish to review your current use, check the release note link for additional information.\n",
      "Deprecated in NumPy 1.20; for more details and guidance: https://numpy.org/devdocs/release/1.20.0-notes.html#deprecations\n",
      "  rects = [np.array(wordCharRects, dtype=np.int)[np.newaxis, :, :,:] for wordCharRects in self.annotation[\"wordsCharactersRects\"]]\n"
     ]
    },
    {
     "name": "stdout",
     "output_type": "stream",
     "text": [
      "D:\\Data\\Diploma\\generated//Validate_noAugModifiedFullBin//gt/53tg.png0_0CharMap.png\n",
      "D:\\Data\\Diploma\\generated//Validate_noAugModifiedFullBin//gt/53tg.png1_0CharMap.png\n",
      "\n"
     ]
    },
    {
     "data": {
      "application/vnd.jupyter.widget-view+json": {
       "model_id": "d3ce7692aa1b455fbf6091a16d9a89b9",
       "version_major": 2,
       "version_minor": 0
      },
      "text/plain": [
       "HBox(children=(HTML(value=''), FloatProgress(value=0.0, max=4.0), HTML(value='')))"
      ]
     },
     "metadata": {},
     "output_type": "display_data"
    },
    {
     "name": "stdout",
     "output_type": "stream",
     "text": [
      "D:\\Data\\Diploma\\generated//Validate_noAugModifiedFullBin//gt/53tg.png0_1CharMap.png\n",
      "D:\\Data\\Diploma\\generated//Validate_noAugModifiedFullBin//gt/53tg.png1_1CharMap.png\n",
      "\n"
     ]
    },
    {
     "name": "stderr",
     "output_type": "stream",
     "text": [
      "<ipython-input-26-4a25245fc9cb>:37: DeprecationWarning: `np.float` is a deprecated alias for the builtin `float`. To silence this warning, use `float` by itself. Doing this will not modify any behavior and is safe. If you specifically wanted the numpy scalar type, use `np.float64` here.\n",
      "Deprecated in NumPy 1.20; for more details and guidance: https://numpy.org/devdocs/release/1.20.0-notes.html#deprecations\n",
      "  result = np.zeros((height, width, len(start_list)), dtype=np.float)\n",
      "<ipython-input-125-f8ef12e38186>:16: TqdmDeprecationWarning: This function will be removed in tqdm==5.0.0\n",
      "Please use `tqdm.notebook.tqdm` instead of `tqdm.tqdm_notebook`\n",
      "  for i in tn(range(4)):\n"
     ]
    },
    {
     "data": {
      "application/vnd.jupyter.widget-view+json": {
       "model_id": "2243a1d08f524798ae0e1ce145a9b7a5",
       "version_major": 2,
       "version_minor": 0
      },
      "text/plain": [
       "HBox(children=(HTML(value=''), FloatProgress(value=0.0, max=4.0), HTML(value='')))"
      ]
     },
     "metadata": {},
     "output_type": "display_data"
    },
    {
     "name": "stderr",
     "output_type": "stream",
     "text": [
      "<ipython-input-27-bc886dcdcd16>:321: DeprecationWarning: `np.int` is a deprecated alias for the builtin `int`. To silence this warning, use `int` by itself. Doing this will not modify any behavior and is safe. When replacing `np.int`, you may wish to use e.g. `np.int64` or `np.int32` to specify the precision. If you wish to review your current use, check the release note link for additional information.\n",
      "Deprecated in NumPy 1.20; for more details and guidance: https://numpy.org/devdocs/release/1.20.0-notes.html#deprecations\n",
      "  rects = [np.array(wordCharRects, dtype=np.int)[np.newaxis, :, :,:] for wordCharRects in self.annotation[\"wordsCharactersRects\"]]\n"
     ]
    },
    {
     "name": "stdout",
     "output_type": "stream",
     "text": [
      "D:\\Data\\Diploma\\generated//Validate_noAugModifiedFullBin//gt/53tg.png0_2CharMap.png\n",
      "D:\\Data\\Diploma\\generated//Validate_noAugModifiedFullBin//gt/53tg.png1_2CharMap.png\n",
      "\n"
     ]
    },
    {
     "name": "stderr",
     "output_type": "stream",
     "text": [
      "<ipython-input-125-f8ef12e38186>:16: TqdmDeprecationWarning: This function will be removed in tqdm==5.0.0\n",
      "Please use `tqdm.notebook.tqdm` instead of `tqdm.tqdm_notebook`\n",
      "  for i in tn(range(4)):\n"
     ]
    },
    {
     "data": {
      "application/vnd.jupyter.widget-view+json": {
       "model_id": "487b762366f54f949a483fd777d35222",
       "version_major": 2,
       "version_minor": 0
      },
      "text/plain": [
       "HBox(children=(HTML(value=''), FloatProgress(value=0.0, max=4.0), HTML(value='')))"
      ]
     },
     "metadata": {},
     "output_type": "display_data"
    },
    {
     "name": "stderr",
     "output_type": "stream",
     "text": [
      "<ipython-input-27-bc886dcdcd16>:321: DeprecationWarning: `np.int` is a deprecated alias for the builtin `int`. To silence this warning, use `int` by itself. Doing this will not modify any behavior and is safe. When replacing `np.int`, you may wish to use e.g. `np.int64` or `np.int32` to specify the precision. If you wish to review your current use, check the release note link for additional information.\n",
      "Deprecated in NumPy 1.20; for more details and guidance: https://numpy.org/devdocs/release/1.20.0-notes.html#deprecations\n",
      "  rects = [np.array(wordCharRects, dtype=np.int)[np.newaxis, :, :,:] for wordCharRects in self.annotation[\"wordsCharactersRects\"]]\n"
     ]
    },
    {
     "name": "stdout",
     "output_type": "stream",
     "text": [
      "D:\\Data\\Diploma\\generated//Validate_noAugModifiedFullBin//gt/53tg.png0_3CharMap.png\n",
      "D:\\Data\\Diploma\\generated//Validate_noAugModifiedFullBin//gt/53tg.png1_3CharMap.png\n",
      "\n",
      "\n"
     ]
    },
    {
     "name": "stderr",
     "output_type": "stream",
     "text": [
      "<ipython-input-125-f8ef12e38186>:10: TqdmDeprecationWarning: This function will be removed in tqdm==5.0.0\n",
      "Please use `tqdm.notebook.tqdm` instead of `tqdm.tqdm_notebook`\n",
      "  for j in tn(range(4)):\n"
     ]
    },
    {
     "data": {
      "application/vnd.jupyter.widget-view+json": {
       "model_id": "1d2fd7ed2dde47e6982cb4b2948ef893",
       "version_major": 2,
       "version_minor": 0
      },
      "text/plain": [
       "HBox(children=(HTML(value=''), FloatProgress(value=0.0, max=4.0), HTML(value='')))"
      ]
     },
     "metadata": {},
     "output_type": "display_data"
    },
    {
     "name": "stderr",
     "output_type": "stream",
     "text": [
      "<ipython-input-125-f8ef12e38186>:16: TqdmDeprecationWarning: This function will be removed in tqdm==5.0.0\n",
      "Please use `tqdm.notebook.tqdm` instead of `tqdm.tqdm_notebook`\n",
      "  for i in tn(range(4)):\n"
     ]
    },
    {
     "data": {
      "application/vnd.jupyter.widget-view+json": {
       "model_id": "e2840ac7689f4705945ad6451e8d8885",
       "version_major": 2,
       "version_minor": 0
      },
      "text/plain": [
       "HBox(children=(HTML(value=''), FloatProgress(value=0.0, max=4.0), HTML(value='')))"
      ]
     },
     "metadata": {},
     "output_type": "display_data"
    },
    {
     "name": "stderr",
     "output_type": "stream",
     "text": [
      "<ipython-input-27-bc886dcdcd16>:321: DeprecationWarning: `np.int` is a deprecated alias for the builtin `int`. To silence this warning, use `int` by itself. Doing this will not modify any behavior and is safe. When replacing `np.int`, you may wish to use e.g. `np.int64` or `np.int32` to specify the precision. If you wish to review your current use, check the release note link for additional information.\n",
      "Deprecated in NumPy 1.20; for more details and guidance: https://numpy.org/devdocs/release/1.20.0-notes.html#deprecations\n",
      "  rects = [np.array(wordCharRects, dtype=np.int)[np.newaxis, :, :,:] for wordCharRects in self.annotation[\"wordsCharactersRects\"]]\n"
     ]
    },
    {
     "name": "stdout",
     "output_type": "stream",
     "text": [
      "D:\\Data\\Diploma\\generated//Validate_noAugModifiedFullBin//gt/5400576-blue-elephant-readystart-smart-card-landscape-front-700x700.jpg0_0CharMap.png\n",
      "D:\\Data\\Diploma\\generated//Validate_noAugModifiedFullBin//gt/5400576-blue-elephant-readystart-smart-card-landscape-front-700x700.jpg1_0CharMap.png\n",
      "\n"
     ]
    },
    {
     "name": "stderr",
     "output_type": "stream",
     "text": [
      "<ipython-input-26-4a25245fc9cb>:37: DeprecationWarning: `np.float` is a deprecated alias for the builtin `float`. To silence this warning, use `float` by itself. Doing this will not modify any behavior and is safe. If you specifically wanted the numpy scalar type, use `np.float64` here.\n",
      "Deprecated in NumPy 1.20; for more details and guidance: https://numpy.org/devdocs/release/1.20.0-notes.html#deprecations\n",
      "  result = np.zeros((height, width, len(start_list)), dtype=np.float)\n",
      "<ipython-input-125-f8ef12e38186>:16: TqdmDeprecationWarning: This function will be removed in tqdm==5.0.0\n",
      "Please use `tqdm.notebook.tqdm` instead of `tqdm.tqdm_notebook`\n",
      "  for i in tn(range(4)):\n"
     ]
    },
    {
     "data": {
      "application/vnd.jupyter.widget-view+json": {
       "model_id": "1c762b85d3434cedb39afe6f0cc0ce52",
       "version_major": 2,
       "version_minor": 0
      },
      "text/plain": [
       "HBox(children=(HTML(value=''), FloatProgress(value=0.0, max=4.0), HTML(value='')))"
      ]
     },
     "metadata": {},
     "output_type": "display_data"
    },
    {
     "name": "stderr",
     "output_type": "stream",
     "text": [
      "<ipython-input-27-bc886dcdcd16>:321: DeprecationWarning: `np.int` is a deprecated alias for the builtin `int`. To silence this warning, use `int` by itself. Doing this will not modify any behavior and is safe. When replacing `np.int`, you may wish to use e.g. `np.int64` or `np.int32` to specify the precision. If you wish to review your current use, check the release note link for additional information.\n",
      "Deprecated in NumPy 1.20; for more details and guidance: https://numpy.org/devdocs/release/1.20.0-notes.html#deprecations\n",
      "  rects = [np.array(wordCharRects, dtype=np.int)[np.newaxis, :, :,:] for wordCharRects in self.annotation[\"wordsCharactersRects\"]]\n"
     ]
    },
    {
     "name": "stdout",
     "output_type": "stream",
     "text": [
      "D:\\Data\\Diploma\\generated//Validate_noAugModifiedFullBin//gt/5400576-blue-elephant-readystart-smart-card-landscape-front-700x700.jpg0_1CharMap.png\n",
      "D:\\Data\\Diploma\\generated//Validate_noAugModifiedFullBin//gt/5400576-blue-elephant-readystart-smart-card-landscape-front-700x700.jpg1_1CharMap.png\n",
      "\n"
     ]
    },
    {
     "name": "stderr",
     "output_type": "stream",
     "text": [
      "<ipython-input-26-4a25245fc9cb>:37: DeprecationWarning: `np.float` is a deprecated alias for the builtin `float`. To silence this warning, use `float` by itself. Doing this will not modify any behavior and is safe. If you specifically wanted the numpy scalar type, use `np.float64` here.\n",
      "Deprecated in NumPy 1.20; for more details and guidance: https://numpy.org/devdocs/release/1.20.0-notes.html#deprecations\n",
      "  result = np.zeros((height, width, len(start_list)), dtype=np.float)\n",
      "<ipython-input-125-f8ef12e38186>:16: TqdmDeprecationWarning: This function will be removed in tqdm==5.0.0\n",
      "Please use `tqdm.notebook.tqdm` instead of `tqdm.tqdm_notebook`\n",
      "  for i in tn(range(4)):\n"
     ]
    },
    {
     "data": {
      "application/vnd.jupyter.widget-view+json": {
       "model_id": "d955b29b522643cf9796daaa38bb264d",
       "version_major": 2,
       "version_minor": 0
      },
      "text/plain": [
       "HBox(children=(HTML(value=''), FloatProgress(value=0.0, max=4.0), HTML(value='')))"
      ]
     },
     "metadata": {},
     "output_type": "display_data"
    },
    {
     "name": "stderr",
     "output_type": "stream",
     "text": [
      "<ipython-input-27-bc886dcdcd16>:321: DeprecationWarning: `np.int` is a deprecated alias for the builtin `int`. To silence this warning, use `int` by itself. Doing this will not modify any behavior and is safe. When replacing `np.int`, you may wish to use e.g. `np.int64` or `np.int32` to specify the precision. If you wish to review your current use, check the release note link for additional information.\n",
      "Deprecated in NumPy 1.20; for more details and guidance: https://numpy.org/devdocs/release/1.20.0-notes.html#deprecations\n",
      "  rects = [np.array(wordCharRects, dtype=np.int)[np.newaxis, :, :,:] for wordCharRects in self.annotation[\"wordsCharactersRects\"]]\n"
     ]
    },
    {
     "name": "stdout",
     "output_type": "stream",
     "text": [
      "D:\\Data\\Diploma\\generated//Validate_noAugModifiedFullBin//gt/5400576-blue-elephant-readystart-smart-card-landscape-front-700x700.jpg0_2CharMap.png\n",
      "D:\\Data\\Diploma\\generated//Validate_noAugModifiedFullBin//gt/5400576-blue-elephant-readystart-smart-card-landscape-front-700x700.jpg1_2CharMap.png\n",
      "\n"
     ]
    },
    {
     "name": "stderr",
     "output_type": "stream",
     "text": [
      "<ipython-input-26-4a25245fc9cb>:37: DeprecationWarning: `np.float` is a deprecated alias for the builtin `float`. To silence this warning, use `float` by itself. Doing this will not modify any behavior and is safe. If you specifically wanted the numpy scalar type, use `np.float64` here.\n",
      "Deprecated in NumPy 1.20; for more details and guidance: https://numpy.org/devdocs/release/1.20.0-notes.html#deprecations\n",
      "  result = np.zeros((height, width, len(start_list)), dtype=np.float)\n",
      "<ipython-input-125-f8ef12e38186>:16: TqdmDeprecationWarning: This function will be removed in tqdm==5.0.0\n",
      "Please use `tqdm.notebook.tqdm` instead of `tqdm.tqdm_notebook`\n",
      "  for i in tn(range(4)):\n"
     ]
    },
    {
     "data": {
      "application/vnd.jupyter.widget-view+json": {
       "model_id": "b0c5f5b91c6547e5a13bb9a9c10183b1",
       "version_major": 2,
       "version_minor": 0
      },
      "text/plain": [
       "HBox(children=(HTML(value=''), FloatProgress(value=0.0, max=4.0), HTML(value='')))"
      ]
     },
     "metadata": {},
     "output_type": "display_data"
    },
    {
     "name": "stderr",
     "output_type": "stream",
     "text": [
      "<ipython-input-27-bc886dcdcd16>:321: DeprecationWarning: `np.int` is a deprecated alias for the builtin `int`. To silence this warning, use `int` by itself. Doing this will not modify any behavior and is safe. When replacing `np.int`, you may wish to use e.g. `np.int64` or `np.int32` to specify the precision. If you wish to review your current use, check the release note link for additional information.\n",
      "Deprecated in NumPy 1.20; for more details and guidance: https://numpy.org/devdocs/release/1.20.0-notes.html#deprecations\n",
      "  rects = [np.array(wordCharRects, dtype=np.int)[np.newaxis, :, :,:] for wordCharRects in self.annotation[\"wordsCharactersRects\"]]\n"
     ]
    },
    {
     "name": "stdout",
     "output_type": "stream",
     "text": [
      "D:\\Data\\Diploma\\generated//Validate_noAugModifiedFullBin//gt/5400576-blue-elephant-readystart-smart-card-landscape-front-700x700.jpg0_3CharMap.png\n",
      "D:\\Data\\Diploma\\generated//Validate_noAugModifiedFullBin//gt/5400576-blue-elephant-readystart-smart-card-landscape-front-700x700.jpg1_3CharMap.png\n",
      "\n",
      "\n"
     ]
    },
    {
     "name": "stderr",
     "output_type": "stream",
     "text": [
      "<ipython-input-125-f8ef12e38186>:10: TqdmDeprecationWarning: This function will be removed in tqdm==5.0.0\n",
      "Please use `tqdm.notebook.tqdm` instead of `tqdm.tqdm_notebook`\n",
      "  for j in tn(range(4)):\n"
     ]
    },
    {
     "data": {
      "application/vnd.jupyter.widget-view+json": {
       "model_id": "b94f0a0093d648e39576e90a353a3360",
       "version_major": 2,
       "version_minor": 0
      },
      "text/plain": [
       "HBox(children=(HTML(value=''), FloatProgress(value=0.0, max=4.0), HTML(value='')))"
      ]
     },
     "metadata": {},
     "output_type": "display_data"
    },
    {
     "name": "stderr",
     "output_type": "stream",
     "text": [
      "<ipython-input-125-f8ef12e38186>:16: TqdmDeprecationWarning: This function will be removed in tqdm==5.0.0\n",
      "Please use `tqdm.notebook.tqdm` instead of `tqdm.tqdm_notebook`\n",
      "  for i in tn(range(4)):\n"
     ]
    },
    {
     "data": {
      "application/vnd.jupyter.widget-view+json": {
       "model_id": "21547260a3b64e5dba22f33393db0938",
       "version_major": 2,
       "version_minor": 0
      },
      "text/plain": [
       "HBox(children=(HTML(value=''), FloatProgress(value=0.0, max=4.0), HTML(value='')))"
      ]
     },
     "metadata": {},
     "output_type": "display_data"
    },
    {
     "name": "stderr",
     "output_type": "stream",
     "text": [
      "<ipython-input-27-bc886dcdcd16>:321: DeprecationWarning: `np.int` is a deprecated alias for the builtin `int`. To silence this warning, use `int` by itself. Doing this will not modify any behavior and is safe. When replacing `np.int`, you may wish to use e.g. `np.int64` or `np.int32` to specify the precision. If you wish to review your current use, check the release note link for additional information.\n",
      "Deprecated in NumPy 1.20; for more details and guidance: https://numpy.org/devdocs/release/1.20.0-notes.html#deprecations\n",
      "  rects = [np.array(wordCharRects, dtype=np.int)[np.newaxis, :, :,:] for wordCharRects in self.annotation[\"wordsCharactersRects\"]]\n"
     ]
    },
    {
     "name": "stdout",
     "output_type": "stream",
     "text": [
      "D:\\Data\\Diploma\\generated//Validate_noAugModifiedFullBin//gt/68892054-stock-vector-guilloche-seamless-background-monochrome-guilloche-texture-with-waves-for-certificate-voucher-bankno.jpg0_0CharMap.png\n",
      "D:\\Data\\Diploma\\generated//Validate_noAugModifiedFullBin//gt/68892054-stock-vector-guilloche-seamless-background-monochrome-guilloche-texture-with-waves-for-certificate-voucher-bankno.jpg1_0CharMap.png\n",
      "\n"
     ]
    },
    {
     "name": "stderr",
     "output_type": "stream",
     "text": [
      "<ipython-input-26-4a25245fc9cb>:37: DeprecationWarning: `np.float` is a deprecated alias for the builtin `float`. To silence this warning, use `float` by itself. Doing this will not modify any behavior and is safe. If you specifically wanted the numpy scalar type, use `np.float64` here.\n",
      "Deprecated in NumPy 1.20; for more details and guidance: https://numpy.org/devdocs/release/1.20.0-notes.html#deprecations\n",
      "  result = np.zeros((height, width, len(start_list)), dtype=np.float)\n"
     ]
    },
    {
     "data": {
      "application/vnd.jupyter.widget-view+json": {
       "model_id": "f4fa9922ef3141f8883ef1a67eba08e9",
       "version_major": 2,
       "version_minor": 0
      },
      "text/plain": [
       "HBox(children=(HTML(value=''), FloatProgress(value=0.0, max=4.0), HTML(value='')))"
      ]
     },
     "metadata": {},
     "output_type": "display_data"
    },
    {
     "name": "stdout",
     "output_type": "stream",
     "text": [
      "D:\\Data\\Diploma\\generated//Validate_noAugModifiedFullBin//gt/68892054-stock-vector-guilloche-seamless-background-monochrome-guilloche-texture-with-waves-for-certificate-voucher-bankno.jpg0_1CharMap.png\n",
      "D:\\Data\\Diploma\\generated//Validate_noAugModifiedFullBin//gt/68892054-stock-vector-guilloche-seamless-background-monochrome-guilloche-texture-with-waves-for-certificate-voucher-bankno.jpg1_1CharMap.png\n",
      "\n"
     ]
    },
    {
     "data": {
      "application/vnd.jupyter.widget-view+json": {
       "model_id": "4467f2f40143450484385f05b49f50fa",
       "version_major": 2,
       "version_minor": 0
      },
      "text/plain": [
       "HBox(children=(HTML(value=''), FloatProgress(value=0.0, max=4.0), HTML(value='')))"
      ]
     },
     "metadata": {},
     "output_type": "display_data"
    },
    {
     "name": "stdout",
     "output_type": "stream",
     "text": [
      "D:\\Data\\Diploma\\generated//Validate_noAugModifiedFullBin//gt/68892054-stock-vector-guilloche-seamless-background-monochrome-guilloche-texture-with-waves-for-certificate-voucher-bankno.jpg0_2CharMap.png\n",
      "D:\\Data\\Diploma\\generated//Validate_noAugModifiedFullBin//gt/68892054-stock-vector-guilloche-seamless-background-monochrome-guilloche-texture-with-waves-for-certificate-voucher-bankno.jpg1_2CharMap.png\n",
      "\n"
     ]
    },
    {
     "name": "stderr",
     "output_type": "stream",
     "text": [
      "<ipython-input-26-4a25245fc9cb>:37: DeprecationWarning: `np.float` is a deprecated alias for the builtin `float`. To silence this warning, use `float` by itself. Doing this will not modify any behavior and is safe. If you specifically wanted the numpy scalar type, use `np.float64` here.\n",
      "Deprecated in NumPy 1.20; for more details and guidance: https://numpy.org/devdocs/release/1.20.0-notes.html#deprecations\n",
      "  result = np.zeros((height, width, len(start_list)), dtype=np.float)\n",
      "<ipython-input-125-f8ef12e38186>:16: TqdmDeprecationWarning: This function will be removed in tqdm==5.0.0\n",
      "Please use `tqdm.notebook.tqdm` instead of `tqdm.tqdm_notebook`\n",
      "  for i in tn(range(4)):\n"
     ]
    },
    {
     "data": {
      "application/vnd.jupyter.widget-view+json": {
       "model_id": "de03ce0936d7485a995daa296957e2e2",
       "version_major": 2,
       "version_minor": 0
      },
      "text/plain": [
       "HBox(children=(HTML(value=''), FloatProgress(value=0.0, max=4.0), HTML(value='')))"
      ]
     },
     "metadata": {},
     "output_type": "display_data"
    },
    {
     "name": "stderr",
     "output_type": "stream",
     "text": [
      "<ipython-input-27-bc886dcdcd16>:321: DeprecationWarning: `np.int` is a deprecated alias for the builtin `int`. To silence this warning, use `int` by itself. Doing this will not modify any behavior and is safe. When replacing `np.int`, you may wish to use e.g. `np.int64` or `np.int32` to specify the precision. If you wish to review your current use, check the release note link for additional information.\n",
      "Deprecated in NumPy 1.20; for more details and guidance: https://numpy.org/devdocs/release/1.20.0-notes.html#deprecations\n",
      "  rects = [np.array(wordCharRects, dtype=np.int)[np.newaxis, :, :,:] for wordCharRects in self.annotation[\"wordsCharactersRects\"]]\n"
     ]
    },
    {
     "name": "stdout",
     "output_type": "stream",
     "text": [
      "D:\\Data\\Diploma\\generated//Validate_noAugModifiedFullBin//gt/68892054-stock-vector-guilloche-seamless-background-monochrome-guilloche-texture-with-waves-for-certificate-voucher-bankno.jpg0_3CharMap.png\n",
      "D:\\Data\\Diploma\\generated//Validate_noAugModifiedFullBin//gt/68892054-stock-vector-guilloche-seamless-background-monochrome-guilloche-texture-with-waves-for-certificate-voucher-bankno.jpg1_3CharMap.png\n",
      "\n",
      "\n"
     ]
    },
    {
     "name": "stderr",
     "output_type": "stream",
     "text": [
      "<ipython-input-125-f8ef12e38186>:10: TqdmDeprecationWarning: This function will be removed in tqdm==5.0.0\n",
      "Please use `tqdm.notebook.tqdm` instead of `tqdm.tqdm_notebook`\n",
      "  for j in tn(range(4)):\n"
     ]
    },
    {
     "data": {
      "application/vnd.jupyter.widget-view+json": {
       "model_id": "67674adfa9bb4dfd8deb7124c4aae66b",
       "version_major": 2,
       "version_minor": 0
      },
      "text/plain": [
       "HBox(children=(HTML(value=''), FloatProgress(value=0.0, max=4.0), HTML(value='')))"
      ]
     },
     "metadata": {},
     "output_type": "display_data"
    },
    {
     "name": "stderr",
     "output_type": "stream",
     "text": [
      "<ipython-input-26-4a25245fc9cb>:37: DeprecationWarning: `np.float` is a deprecated alias for the builtin `float`. To silence this warning, use `float` by itself. Doing this will not modify any behavior and is safe. If you specifically wanted the numpy scalar type, use `np.float64` here.\n",
      "Deprecated in NumPy 1.20; for more details and guidance: https://numpy.org/devdocs/release/1.20.0-notes.html#deprecations\n",
      "  result = np.zeros((height, width, len(start_list)), dtype=np.float)\n",
      "<ipython-input-125-f8ef12e38186>:16: TqdmDeprecationWarning: This function will be removed in tqdm==5.0.0\n",
      "Please use `tqdm.notebook.tqdm` instead of `tqdm.tqdm_notebook`\n",
      "  for i in tn(range(4)):\n"
     ]
    },
    {
     "data": {
      "application/vnd.jupyter.widget-view+json": {
       "model_id": "092fad76f6bf4218bc7b36e13245dcc2",
       "version_major": 2,
       "version_minor": 0
      },
      "text/plain": [
       "HBox(children=(HTML(value=''), FloatProgress(value=0.0, max=4.0), HTML(value='')))"
      ]
     },
     "metadata": {},
     "output_type": "display_data"
    },
    {
     "name": "stderr",
     "output_type": "stream",
     "text": [
      "<ipython-input-27-bc886dcdcd16>:321: DeprecationWarning: `np.int` is a deprecated alias for the builtin `int`. To silence this warning, use `int` by itself. Doing this will not modify any behavior and is safe. When replacing `np.int`, you may wish to use e.g. `np.int64` or `np.int32` to specify the precision. If you wish to review your current use, check the release note link for additional information.\n",
      "Deprecated in NumPy 1.20; for more details and guidance: https://numpy.org/devdocs/release/1.20.0-notes.html#deprecations\n",
      "  rects = [np.array(wordCharRects, dtype=np.int)[np.newaxis, :, :,:] for wordCharRects in self.annotation[\"wordsCharactersRects\"]]\n"
     ]
    },
    {
     "name": "stdout",
     "output_type": "stream",
     "text": [
      "D:\\Data\\Diploma\\generated//Validate_noAugModifiedFullBin//gt/69113052-guilloche-seamless-background-monochrome-guilloche-texture-with-waves-for-certificate-voucher-bankno.jpg0_0CharMap.png\n",
      "D:\\Data\\Diploma\\generated//Validate_noAugModifiedFullBin//gt/69113052-guilloche-seamless-background-monochrome-guilloche-texture-with-waves-for-certificate-voucher-bankno.jpg1_0CharMap.png\n",
      "\n"
     ]
    },
    {
     "data": {
      "application/vnd.jupyter.widget-view+json": {
       "model_id": "ba03ad283e5045d6856c4049e4977c6b",
       "version_major": 2,
       "version_minor": 0
      },
      "text/plain": [
       "HBox(children=(HTML(value=''), FloatProgress(value=0.0, max=4.0), HTML(value='')))"
      ]
     },
     "metadata": {},
     "output_type": "display_data"
    },
    {
     "name": "stdout",
     "output_type": "stream",
     "text": [
      "D:\\Data\\Diploma\\generated//Validate_noAugModifiedFullBin//gt/69113052-guilloche-seamless-background-monochrome-guilloche-texture-with-waves-for-certificate-voucher-bankno.jpg0_1CharMap.png\n",
      "D:\\Data\\Diploma\\generated//Validate_noAugModifiedFullBin//gt/69113052-guilloche-seamless-background-monochrome-guilloche-texture-with-waves-for-certificate-voucher-bankno.jpg1_1CharMap.png\n",
      "\n"
     ]
    },
    {
     "data": {
      "application/vnd.jupyter.widget-view+json": {
       "model_id": "aa854338a0d640e798c0fa4e18da618f",
       "version_major": 2,
       "version_minor": 0
      },
      "text/plain": [
       "HBox(children=(HTML(value=''), FloatProgress(value=0.0, max=4.0), HTML(value='')))"
      ]
     },
     "metadata": {},
     "output_type": "display_data"
    },
    {
     "name": "stdout",
     "output_type": "stream",
     "text": [
      "D:\\Data\\Diploma\\generated//Validate_noAugModifiedFullBin//gt/69113052-guilloche-seamless-background-monochrome-guilloche-texture-with-waves-for-certificate-voucher-bankno.jpg0_2CharMap.png\n",
      "D:\\Data\\Diploma\\generated//Validate_noAugModifiedFullBin//gt/69113052-guilloche-seamless-background-monochrome-guilloche-texture-with-waves-for-certificate-voucher-bankno.jpg1_2CharMap.png\n",
      "\n"
     ]
    },
    {
     "name": "stderr",
     "output_type": "stream",
     "text": [
      "<ipython-input-125-f8ef12e38186>:16: TqdmDeprecationWarning: This function will be removed in tqdm==5.0.0\n",
      "Please use `tqdm.notebook.tqdm` instead of `tqdm.tqdm_notebook`\n",
      "  for i in tn(range(4)):\n"
     ]
    },
    {
     "data": {
      "application/vnd.jupyter.widget-view+json": {
       "model_id": "b0a5cb6ad6f34473be7e944d889c26a2",
       "version_major": 2,
       "version_minor": 0
      },
      "text/plain": [
       "HBox(children=(HTML(value=''), FloatProgress(value=0.0, max=4.0), HTML(value='')))"
      ]
     },
     "metadata": {},
     "output_type": "display_data"
    },
    {
     "name": "stderr",
     "output_type": "stream",
     "text": [
      "<ipython-input-27-bc886dcdcd16>:321: DeprecationWarning: `np.int` is a deprecated alias for the builtin `int`. To silence this warning, use `int` by itself. Doing this will not modify any behavior and is safe. When replacing `np.int`, you may wish to use e.g. `np.int64` or `np.int32` to specify the precision. If you wish to review your current use, check the release note link for additional information.\n",
      "Deprecated in NumPy 1.20; for more details and guidance: https://numpy.org/devdocs/release/1.20.0-notes.html#deprecations\n",
      "  rects = [np.array(wordCharRects, dtype=np.int)[np.newaxis, :, :,:] for wordCharRects in self.annotation[\"wordsCharactersRects\"]]\n"
     ]
    },
    {
     "name": "stdout",
     "output_type": "stream",
     "text": [
      "D:\\Data\\Diploma\\generated//Validate_noAugModifiedFullBin//gt/69113052-guilloche-seamless-background-monochrome-guilloche-texture-with-waves-for-certificate-voucher-bankno.jpg0_3CharMap.png\n",
      "D:\\Data\\Diploma\\generated//Validate_noAugModifiedFullBin//gt/69113052-guilloche-seamless-background-monochrome-guilloche-texture-with-waves-for-certificate-voucher-bankno.jpg1_3CharMap.png\n",
      "\n",
      "\n"
     ]
    },
    {
     "name": "stderr",
     "output_type": "stream",
     "text": [
      "<ipython-input-125-f8ef12e38186>:10: TqdmDeprecationWarning: This function will be removed in tqdm==5.0.0\n",
      "Please use `tqdm.notebook.tqdm` instead of `tqdm.tqdm_notebook`\n",
      "  for j in tn(range(4)):\n"
     ]
    },
    {
     "data": {
      "application/vnd.jupyter.widget-view+json": {
       "model_id": "3be3ce6f198f461f96dc76fc0eaec588",
       "version_major": 2,
       "version_minor": 0
      },
      "text/plain": [
       "HBox(children=(HTML(value=''), FloatProgress(value=0.0, max=4.0), HTML(value='')))"
      ]
     },
     "metadata": {},
     "output_type": "display_data"
    },
    {
     "name": "stderr",
     "output_type": "stream",
     "text": [
      "<ipython-input-26-4a25245fc9cb>:37: DeprecationWarning: `np.float` is a deprecated alias for the builtin `float`. To silence this warning, use `float` by itself. Doing this will not modify any behavior and is safe. If you specifically wanted the numpy scalar type, use `np.float64` here.\n",
      "Deprecated in NumPy 1.20; for more details and guidance: https://numpy.org/devdocs/release/1.20.0-notes.html#deprecations\n",
      "  result = np.zeros((height, width, len(start_list)), dtype=np.float)\n"
     ]
    },
    {
     "data": {
      "application/vnd.jupyter.widget-view+json": {
       "model_id": "392fcacec7fd409a963ba6b5749cd39a",
       "version_major": 2,
       "version_minor": 0
      },
      "text/plain": [
       "HBox(children=(HTML(value=''), FloatProgress(value=0.0, max=4.0), HTML(value='')))"
      ]
     },
     "metadata": {},
     "output_type": "display_data"
    },
    {
     "name": "stdout",
     "output_type": "stream",
     "text": [
      "D:\\Data\\Diploma\\generated//Validate_noAugModifiedFullBin//gt/6a00d83451cff869e2014e607aece0970c-500wi.jpg0_0CharMap.png\n",
      "D:\\Data\\Diploma\\generated//Validate_noAugModifiedFullBin//gt/6a00d83451cff869e2014e607aece0970c-500wi.jpg1_0CharMap.png\n",
      "\n"
     ]
    },
    {
     "data": {
      "application/vnd.jupyter.widget-view+json": {
       "model_id": "12e26686157e42fba4b18a8ba52ad2b6",
       "version_major": 2,
       "version_minor": 0
      },
      "text/plain": [
       "HBox(children=(HTML(value=''), FloatProgress(value=0.0, max=4.0), HTML(value='')))"
      ]
     },
     "metadata": {},
     "output_type": "display_data"
    },
    {
     "name": "stdout",
     "output_type": "stream",
     "text": [
      "D:\\Data\\Diploma\\generated//Validate_noAugModifiedFullBin//gt/6a00d83451cff869e2014e607aece0970c-500wi.jpg0_1CharMap.png\n",
      "D:\\Data\\Diploma\\generated//Validate_noAugModifiedFullBin//gt/6a00d83451cff869e2014e607aece0970c-500wi.jpg1_1CharMap.png\n",
      "\n"
     ]
    },
    {
     "data": {
      "application/vnd.jupyter.widget-view+json": {
       "model_id": "2c72b7925d2945ff9b5bc4a6731b5b7e",
       "version_major": 2,
       "version_minor": 0
      },
      "text/plain": [
       "HBox(children=(HTML(value=''), FloatProgress(value=0.0, max=4.0), HTML(value='')))"
      ]
     },
     "metadata": {},
     "output_type": "display_data"
    },
    {
     "name": "stdout",
     "output_type": "stream",
     "text": [
      "D:\\Data\\Diploma\\generated//Validate_noAugModifiedFullBin//gt/6a00d83451cff869e2014e607aece0970c-500wi.jpg0_2CharMap.png\n",
      "D:\\Data\\Diploma\\generated//Validate_noAugModifiedFullBin//gt/6a00d83451cff869e2014e607aece0970c-500wi.jpg1_2CharMap.png\n",
      "\n"
     ]
    },
    {
     "name": "stderr",
     "output_type": "stream",
     "text": [
      "<ipython-input-26-4a25245fc9cb>:37: DeprecationWarning: `np.float` is a deprecated alias for the builtin `float`. To silence this warning, use `float` by itself. Doing this will not modify any behavior and is safe. If you specifically wanted the numpy scalar type, use `np.float64` here.\n",
      "Deprecated in NumPy 1.20; for more details and guidance: https://numpy.org/devdocs/release/1.20.0-notes.html#deprecations\n",
      "  result = np.zeros((height, width, len(start_list)), dtype=np.float)\n",
      "<ipython-input-125-f8ef12e38186>:16: TqdmDeprecationWarning: This function will be removed in tqdm==5.0.0\n",
      "Please use `tqdm.notebook.tqdm` instead of `tqdm.tqdm_notebook`\n",
      "  for i in tn(range(4)):\n"
     ]
    },
    {
     "data": {
      "application/vnd.jupyter.widget-view+json": {
       "model_id": "cd6a28aede0c453089d7fc9f9d25fe54",
       "version_major": 2,
       "version_minor": 0
      },
      "text/plain": [
       "HBox(children=(HTML(value=''), FloatProgress(value=0.0, max=4.0), HTML(value='')))"
      ]
     },
     "metadata": {},
     "output_type": "display_data"
    },
    {
     "name": "stderr",
     "output_type": "stream",
     "text": [
      "<ipython-input-27-bc886dcdcd16>:321: DeprecationWarning: `np.int` is a deprecated alias for the builtin `int`. To silence this warning, use `int` by itself. Doing this will not modify any behavior and is safe. When replacing `np.int`, you may wish to use e.g. `np.int64` or `np.int32` to specify the precision. If you wish to review your current use, check the release note link for additional information.\n",
      "Deprecated in NumPy 1.20; for more details and guidance: https://numpy.org/devdocs/release/1.20.0-notes.html#deprecations\n",
      "  rects = [np.array(wordCharRects, dtype=np.int)[np.newaxis, :, :,:] for wordCharRects in self.annotation[\"wordsCharactersRects\"]]\n"
     ]
    },
    {
     "name": "stdout",
     "output_type": "stream",
     "text": [
      "D:\\Data\\Diploma\\generated//Validate_noAugModifiedFullBin//gt/6a00d83451cff869e2014e607aece0970c-500wi.jpg0_3CharMap.png\n",
      "D:\\Data\\Diploma\\generated//Validate_noAugModifiedFullBin//gt/6a00d83451cff869e2014e607aece0970c-500wi.jpg1_3CharMap.png\n",
      "\n",
      "\n"
     ]
    },
    {
     "name": "stderr",
     "output_type": "stream",
     "text": [
      "<ipython-input-125-f8ef12e38186>:10: TqdmDeprecationWarning: This function will be removed in tqdm==5.0.0\n",
      "Please use `tqdm.notebook.tqdm` instead of `tqdm.tqdm_notebook`\n",
      "  for j in tn(range(4)):\n"
     ]
    },
    {
     "data": {
      "application/vnd.jupyter.widget-view+json": {
       "model_id": "7251a368576945acbd292ff81e81c498",
       "version_major": 2,
       "version_minor": 0
      },
      "text/plain": [
       "HBox(children=(HTML(value=''), FloatProgress(value=0.0, max=4.0), HTML(value='')))"
      ]
     },
     "metadata": {},
     "output_type": "display_data"
    },
    {
     "name": "stderr",
     "output_type": "stream",
     "text": [
      "<ipython-input-26-4a25245fc9cb>:37: DeprecationWarning: `np.float` is a deprecated alias for the builtin `float`. To silence this warning, use `float` by itself. Doing this will not modify any behavior and is safe. If you specifically wanted the numpy scalar type, use `np.float64` here.\n",
      "Deprecated in NumPy 1.20; for more details and guidance: https://numpy.org/devdocs/release/1.20.0-notes.html#deprecations\n",
      "  result = np.zeros((height, width, len(start_list)), dtype=np.float)\n",
      "<ipython-input-125-f8ef12e38186>:16: TqdmDeprecationWarning: This function will be removed in tqdm==5.0.0\n",
      "Please use `tqdm.notebook.tqdm` instead of `tqdm.tqdm_notebook`\n",
      "  for i in tn(range(4)):\n"
     ]
    },
    {
     "data": {
      "application/vnd.jupyter.widget-view+json": {
       "model_id": "81ea825dfd27414c8bf87e85310ea0cd",
       "version_major": 2,
       "version_minor": 0
      },
      "text/plain": [
       "HBox(children=(HTML(value=''), FloatProgress(value=0.0, max=4.0), HTML(value='')))"
      ]
     },
     "metadata": {},
     "output_type": "display_data"
    },
    {
     "name": "stderr",
     "output_type": "stream",
     "text": [
      "<ipython-input-27-bc886dcdcd16>:321: DeprecationWarning: `np.int` is a deprecated alias for the builtin `int`. To silence this warning, use `int` by itself. Doing this will not modify any behavior and is safe. When replacing `np.int`, you may wish to use e.g. `np.int64` or `np.int32` to specify the precision. If you wish to review your current use, check the release note link for additional information.\n",
      "Deprecated in NumPy 1.20; for more details and guidance: https://numpy.org/devdocs/release/1.20.0-notes.html#deprecations\n",
      "  rects = [np.array(wordCharRects, dtype=np.int)[np.newaxis, :, :,:] for wordCharRects in self.annotation[\"wordsCharactersRects\"]]\n"
     ]
    },
    {
     "name": "stdout",
     "output_type": "stream",
     "text": [
      "D:\\Data\\Diploma\\generated//Validate_noAugModifiedFullBin//gt/78539638-guilloche-background-texture-green-zig-zag-for-certificate-voucher-banknote-voucher-money-design-cur.jpg0_0CharMap.png\n",
      "D:\\Data\\Diploma\\generated//Validate_noAugModifiedFullBin//gt/78539638-guilloche-background-texture-green-zig-zag-for-certificate-voucher-banknote-voucher-money-design-cur.jpg1_0CharMap.png\n",
      "\n"
     ]
    },
    {
     "data": {
      "application/vnd.jupyter.widget-view+json": {
       "model_id": "ffcd038daa164dd1b24c51bc250650b7",
       "version_major": 2,
       "version_minor": 0
      },
      "text/plain": [
       "HBox(children=(HTML(value=''), FloatProgress(value=0.0, max=4.0), HTML(value='')))"
      ]
     },
     "metadata": {},
     "output_type": "display_data"
    },
    {
     "name": "stdout",
     "output_type": "stream",
     "text": [
      "D:\\Data\\Diploma\\generated//Validate_noAugModifiedFullBin//gt/78539638-guilloche-background-texture-green-zig-zag-for-certificate-voucher-banknote-voucher-money-design-cur.jpg0_1CharMap.png\n",
      "D:\\Data\\Diploma\\generated//Validate_noAugModifiedFullBin//gt/78539638-guilloche-background-texture-green-zig-zag-for-certificate-voucher-banknote-voucher-money-design-cur.jpg1_1CharMap.png\n",
      "\n"
     ]
    },
    {
     "data": {
      "application/vnd.jupyter.widget-view+json": {
       "model_id": "50231614117849cb969bb9d8e119dfe0",
       "version_major": 2,
       "version_minor": 0
      },
      "text/plain": [
       "HBox(children=(HTML(value=''), FloatProgress(value=0.0, max=4.0), HTML(value='')))"
      ]
     },
     "metadata": {},
     "output_type": "display_data"
    },
    {
     "name": "stdout",
     "output_type": "stream",
     "text": [
      "D:\\Data\\Diploma\\generated//Validate_noAugModifiedFullBin//gt/78539638-guilloche-background-texture-green-zig-zag-for-certificate-voucher-banknote-voucher-money-design-cur.jpg0_2CharMap.png\n",
      "D:\\Data\\Diploma\\generated//Validate_noAugModifiedFullBin//gt/78539638-guilloche-background-texture-green-zig-zag-for-certificate-voucher-banknote-voucher-money-design-cur.jpg1_2CharMap.png\n",
      "\n"
     ]
    },
    {
     "name": "stderr",
     "output_type": "stream",
     "text": [
      "<ipython-input-26-4a25245fc9cb>:37: DeprecationWarning: `np.float` is a deprecated alias for the builtin `float`. To silence this warning, use `float` by itself. Doing this will not modify any behavior and is safe. If you specifically wanted the numpy scalar type, use `np.float64` here.\n",
      "Deprecated in NumPy 1.20; for more details and guidance: https://numpy.org/devdocs/release/1.20.0-notes.html#deprecations\n",
      "  result = np.zeros((height, width, len(start_list)), dtype=np.float)\n",
      "<ipython-input-125-f8ef12e38186>:16: TqdmDeprecationWarning: This function will be removed in tqdm==5.0.0\n",
      "Please use `tqdm.notebook.tqdm` instead of `tqdm.tqdm_notebook`\n",
      "  for i in tn(range(4)):\n"
     ]
    },
    {
     "data": {
      "application/vnd.jupyter.widget-view+json": {
       "model_id": "a6f481fcb32b4d40bd5ae580f624a7a4",
       "version_major": 2,
       "version_minor": 0
      },
      "text/plain": [
       "HBox(children=(HTML(value=''), FloatProgress(value=0.0, max=4.0), HTML(value='')))"
      ]
     },
     "metadata": {},
     "output_type": "display_data"
    },
    {
     "name": "stderr",
     "output_type": "stream",
     "text": [
      "<ipython-input-27-bc886dcdcd16>:321: DeprecationWarning: `np.int` is a deprecated alias for the builtin `int`. To silence this warning, use `int` by itself. Doing this will not modify any behavior and is safe. When replacing `np.int`, you may wish to use e.g. `np.int64` or `np.int32` to specify the precision. If you wish to review your current use, check the release note link for additional information.\n",
      "Deprecated in NumPy 1.20; for more details and guidance: https://numpy.org/devdocs/release/1.20.0-notes.html#deprecations\n",
      "  rects = [np.array(wordCharRects, dtype=np.int)[np.newaxis, :, :,:] for wordCharRects in self.annotation[\"wordsCharactersRects\"]]\n"
     ]
    },
    {
     "name": "stdout",
     "output_type": "stream",
     "text": [
      "D:\\Data\\Diploma\\generated//Validate_noAugModifiedFullBin//gt/78539638-guilloche-background-texture-green-zig-zag-for-certificate-voucher-banknote-voucher-money-design-cur.jpg0_3CharMap.png\n",
      "D:\\Data\\Diploma\\generated//Validate_noAugModifiedFullBin//gt/78539638-guilloche-background-texture-green-zig-zag-for-certificate-voucher-banknote-voucher-money-design-cur.jpg1_3CharMap.png\n",
      "\n",
      "\n"
     ]
    },
    {
     "name": "stderr",
     "output_type": "stream",
     "text": [
      "<ipython-input-125-f8ef12e38186>:10: TqdmDeprecationWarning: This function will be removed in tqdm==5.0.0\n",
      "Please use `tqdm.notebook.tqdm` instead of `tqdm.tqdm_notebook`\n",
      "  for j in tn(range(4)):\n"
     ]
    },
    {
     "data": {
      "application/vnd.jupyter.widget-view+json": {
       "model_id": "32ebaddfc3134dd58de5fc45c40ad8b3",
       "version_major": 2,
       "version_minor": 0
      },
      "text/plain": [
       "HBox(children=(HTML(value=''), FloatProgress(value=0.0, max=4.0), HTML(value='')))"
      ]
     },
     "metadata": {},
     "output_type": "display_data"
    },
    {
     "name": "stderr",
     "output_type": "stream",
     "text": [
      "<ipython-input-26-4a25245fc9cb>:37: DeprecationWarning: `np.float` is a deprecated alias for the builtin `float`. To silence this warning, use `float` by itself. Doing this will not modify any behavior and is safe. If you specifically wanted the numpy scalar type, use `np.float64` here.\n",
      "Deprecated in NumPy 1.20; for more details and guidance: https://numpy.org/devdocs/release/1.20.0-notes.html#deprecations\n",
      "  result = np.zeros((height, width, len(start_list)), dtype=np.float)\n",
      "<ipython-input-125-f8ef12e38186>:16: TqdmDeprecationWarning: This function will be removed in tqdm==5.0.0\n",
      "Please use `tqdm.notebook.tqdm` instead of `tqdm.tqdm_notebook`\n",
      "  for i in tn(range(4)):\n"
     ]
    },
    {
     "data": {
      "application/vnd.jupyter.widget-view+json": {
       "model_id": "aaaebde7d11042bc88abb6cb95164f5d",
       "version_major": 2,
       "version_minor": 0
      },
      "text/plain": [
       "HBox(children=(HTML(value=''), FloatProgress(value=0.0, max=4.0), HTML(value='')))"
      ]
     },
     "metadata": {},
     "output_type": "display_data"
    },
    {
     "name": "stderr",
     "output_type": "stream",
     "text": [
      "<ipython-input-27-bc886dcdcd16>:321: DeprecationWarning: `np.int` is a deprecated alias for the builtin `int`. To silence this warning, use `int` by itself. Doing this will not modify any behavior and is safe. When replacing `np.int`, you may wish to use e.g. `np.int64` or `np.int32` to specify the precision. If you wish to review your current use, check the release note link for additional information.\n",
      "Deprecated in NumPy 1.20; for more details and guidance: https://numpy.org/devdocs/release/1.20.0-notes.html#deprecations\n",
      "  rects = [np.array(wordCharRects, dtype=np.int)[np.newaxis, :, :,:] for wordCharRects in self.annotation[\"wordsCharactersRects\"]]\n"
     ]
    },
    {
     "name": "stdout",
     "output_type": "stream",
     "text": [
      "D:\\Data\\Diploma\\generated//Validate_noAugModifiedFullBin//gt/91aa482c20a4405253a08158cdb9dcf5.jpg0_0CharMap.png\n",
      "D:\\Data\\Diploma\\generated//Validate_noAugModifiedFullBin//gt/91aa482c20a4405253a08158cdb9dcf5.jpg1_0CharMap.png\n",
      "\n"
     ]
    },
    {
     "name": "stderr",
     "output_type": "stream",
     "text": [
      "<ipython-input-125-f8ef12e38186>:16: TqdmDeprecationWarning: This function will be removed in tqdm==5.0.0\n",
      "Please use `tqdm.notebook.tqdm` instead of `tqdm.tqdm_notebook`\n",
      "  for i in tn(range(4)):\n"
     ]
    },
    {
     "data": {
      "application/vnd.jupyter.widget-view+json": {
       "model_id": "71ce480416bf4985a0fc1dae56ca3f95",
       "version_major": 2,
       "version_minor": 0
      },
      "text/plain": [
       "HBox(children=(HTML(value=''), FloatProgress(value=0.0, max=4.0), HTML(value='')))"
      ]
     },
     "metadata": {},
     "output_type": "display_data"
    },
    {
     "name": "stderr",
     "output_type": "stream",
     "text": [
      "<ipython-input-26-4a25245fc9cb>:37: DeprecationWarning: `np.float` is a deprecated alias for the builtin `float`. To silence this warning, use `float` by itself. Doing this will not modify any behavior and is safe. If you specifically wanted the numpy scalar type, use `np.float64` here.\n",
      "Deprecated in NumPy 1.20; for more details and guidance: https://numpy.org/devdocs/release/1.20.0-notes.html#deprecations\n",
      "  result = np.zeros((height, width, len(start_list)), dtype=np.float)\n",
      "<ipython-input-27-bc886dcdcd16>:321: DeprecationWarning: `np.int` is a deprecated alias for the builtin `int`. To silence this warning, use `int` by itself. Doing this will not modify any behavior and is safe. When replacing `np.int`, you may wish to use e.g. `np.int64` or `np.int32` to specify the precision. If you wish to review your current use, check the release note link for additional information.\n",
      "Deprecated in NumPy 1.20; for more details and guidance: https://numpy.org/devdocs/release/1.20.0-notes.html#deprecations\n",
      "  rects = [np.array(wordCharRects, dtype=np.int)[np.newaxis, :, :,:] for wordCharRects in self.annotation[\"wordsCharactersRects\"]]\n"
     ]
    },
    {
     "name": "stdout",
     "output_type": "stream",
     "text": [
      "D:\\Data\\Diploma\\generated//Validate_noAugModifiedFullBin//gt/91aa482c20a4405253a08158cdb9dcf5.jpg0_1CharMap.png\n",
      "D:\\Data\\Diploma\\generated//Validate_noAugModifiedFullBin//gt/91aa482c20a4405253a08158cdb9dcf5.jpg1_1CharMap.png\n",
      "\n"
     ]
    },
    {
     "data": {
      "application/vnd.jupyter.widget-view+json": {
       "model_id": "ec4c4131a6394dfeabae90027d0d7f44",
       "version_major": 2,
       "version_minor": 0
      },
      "text/plain": [
       "HBox(children=(HTML(value=''), FloatProgress(value=0.0, max=4.0), HTML(value='')))"
      ]
     },
     "metadata": {},
     "output_type": "display_data"
    },
    {
     "name": "stdout",
     "output_type": "stream",
     "text": [
      "D:\\Data\\Diploma\\generated//Validate_noAugModifiedFullBin//gt/91aa482c20a4405253a08158cdb9dcf5.jpg0_2CharMap.png\n",
      "D:\\Data\\Diploma\\generated//Validate_noAugModifiedFullBin//gt/91aa482c20a4405253a08158cdb9dcf5.jpg1_2CharMap.png\n",
      "\n"
     ]
    },
    {
     "data": {
      "application/vnd.jupyter.widget-view+json": {
       "model_id": "91c1bc7503b64fbfa3f3cb99ec255aa5",
       "version_major": 2,
       "version_minor": 0
      },
      "text/plain": [
       "HBox(children=(HTML(value=''), FloatProgress(value=0.0, max=4.0), HTML(value='')))"
      ]
     },
     "metadata": {},
     "output_type": "display_data"
    },
    {
     "name": "stdout",
     "output_type": "stream",
     "text": [
      "D:\\Data\\Diploma\\generated//Validate_noAugModifiedFullBin//gt/91aa482c20a4405253a08158cdb9dcf5.jpg0_3CharMap.png\n",
      "D:\\Data\\Diploma\\generated//Validate_noAugModifiedFullBin//gt/91aa482c20a4405253a08158cdb9dcf5.jpg1_3CharMap.png\n",
      "\n",
      "\n"
     ]
    },
    {
     "name": "stderr",
     "output_type": "stream",
     "text": [
      "<ipython-input-125-f8ef12e38186>:10: TqdmDeprecationWarning: This function will be removed in tqdm==5.0.0\n",
      "Please use `tqdm.notebook.tqdm` instead of `tqdm.tqdm_notebook`\n",
      "  for j in tn(range(4)):\n"
     ]
    },
    {
     "data": {
      "application/vnd.jupyter.widget-view+json": {
       "model_id": "5d80e198b6e0447c9e5e106d1a050416",
       "version_major": 2,
       "version_minor": 0
      },
      "text/plain": [
       "HBox(children=(HTML(value=''), FloatProgress(value=0.0, max=4.0), HTML(value='')))"
      ]
     },
     "metadata": {},
     "output_type": "display_data"
    },
    {
     "data": {
      "application/vnd.jupyter.widget-view+json": {
       "model_id": "d2f1dea83cbe4a6296b750adbc76f59c",
       "version_major": 2,
       "version_minor": 0
      },
      "text/plain": [
       "HBox(children=(HTML(value=''), FloatProgress(value=0.0, max=4.0), HTML(value='')))"
      ]
     },
     "metadata": {},
     "output_type": "display_data"
    },
    {
     "name": "stdout",
     "output_type": "stream",
     "text": [
      "D:\\Data\\Diploma\\generated//Validate_noAugModifiedFullBin//gt/abstract_background_313071.jpg0_0CharMap.png\n",
      "D:\\Data\\Diploma\\generated//Validate_noAugModifiedFullBin//gt/abstract_background_313071.jpg1_0CharMap.png\n",
      "\n"
     ]
    },
    {
     "name": "stderr",
     "output_type": "stream",
     "text": [
      "<ipython-input-125-f8ef12e38186>:16: TqdmDeprecationWarning: This function will be removed in tqdm==5.0.0\n",
      "Please use `tqdm.notebook.tqdm` instead of `tqdm.tqdm_notebook`\n",
      "  for i in tn(range(4)):\n"
     ]
    },
    {
     "data": {
      "application/vnd.jupyter.widget-view+json": {
       "model_id": "0d2cf004c172440aaf6273f3d932d0d5",
       "version_major": 2,
       "version_minor": 0
      },
      "text/plain": [
       "HBox(children=(HTML(value=''), FloatProgress(value=0.0, max=4.0), HTML(value='')))"
      ]
     },
     "metadata": {},
     "output_type": "display_data"
    },
    {
     "name": "stderr",
     "output_type": "stream",
     "text": [
      "<ipython-input-27-bc886dcdcd16>:321: DeprecationWarning: `np.int` is a deprecated alias for the builtin `int`. To silence this warning, use `int` by itself. Doing this will not modify any behavior and is safe. When replacing `np.int`, you may wish to use e.g. `np.int64` or `np.int32` to specify the precision. If you wish to review your current use, check the release note link for additional information.\n",
      "Deprecated in NumPy 1.20; for more details and guidance: https://numpy.org/devdocs/release/1.20.0-notes.html#deprecations\n",
      "  rects = [np.array(wordCharRects, dtype=np.int)[np.newaxis, :, :,:] for wordCharRects in self.annotation[\"wordsCharactersRects\"]]\n"
     ]
    },
    {
     "name": "stdout",
     "output_type": "stream",
     "text": [
      "D:\\Data\\Diploma\\generated//Validate_noAugModifiedFullBin//gt/abstract_background_313071.jpg0_1CharMap.png\n",
      "D:\\Data\\Diploma\\generated//Validate_noAugModifiedFullBin//gt/abstract_background_313071.jpg1_1CharMap.png\n",
      "\n"
     ]
    },
    {
     "name": "stderr",
     "output_type": "stream",
     "text": [
      "<ipython-input-26-4a25245fc9cb>:37: DeprecationWarning: `np.float` is a deprecated alias for the builtin `float`. To silence this warning, use `float` by itself. Doing this will not modify any behavior and is safe. If you specifically wanted the numpy scalar type, use `np.float64` here.\n",
      "Deprecated in NumPy 1.20; for more details and guidance: https://numpy.org/devdocs/release/1.20.0-notes.html#deprecations\n",
      "  result = np.zeros((height, width, len(start_list)), dtype=np.float)\n"
     ]
    },
    {
     "data": {
      "application/vnd.jupyter.widget-view+json": {
       "model_id": "e32ecb26edbe4c6d83fc2090fddb65fe",
       "version_major": 2,
       "version_minor": 0
      },
      "text/plain": [
       "HBox(children=(HTML(value=''), FloatProgress(value=0.0, max=4.0), HTML(value='')))"
      ]
     },
     "metadata": {},
     "output_type": "display_data"
    },
    {
     "name": "stdout",
     "output_type": "stream",
     "text": [
      "D:\\Data\\Diploma\\generated//Validate_noAugModifiedFullBin//gt/abstract_background_313071.jpg0_2CharMap.png\n",
      "D:\\Data\\Diploma\\generated//Validate_noAugModifiedFullBin//gt/abstract_background_313071.jpg1_2CharMap.png\n",
      "\n"
     ]
    },
    {
     "name": "stderr",
     "output_type": "stream",
     "text": [
      "<ipython-input-125-f8ef12e38186>:16: TqdmDeprecationWarning: This function will be removed in tqdm==5.0.0\n",
      "Please use `tqdm.notebook.tqdm` instead of `tqdm.tqdm_notebook`\n",
      "  for i in tn(range(4)):\n"
     ]
    },
    {
     "data": {
      "application/vnd.jupyter.widget-view+json": {
       "model_id": "1b4607462b5f4e1aa9598b80b31e8008",
       "version_major": 2,
       "version_minor": 0
      },
      "text/plain": [
       "HBox(children=(HTML(value=''), FloatProgress(value=0.0, max=4.0), HTML(value='')))"
      ]
     },
     "metadata": {},
     "output_type": "display_data"
    },
    {
     "name": "stderr",
     "output_type": "stream",
     "text": [
      "<ipython-input-27-bc886dcdcd16>:321: DeprecationWarning: `np.int` is a deprecated alias for the builtin `int`. To silence this warning, use `int` by itself. Doing this will not modify any behavior and is safe. When replacing `np.int`, you may wish to use e.g. `np.int64` or `np.int32` to specify the precision. If you wish to review your current use, check the release note link for additional information.\n",
      "Deprecated in NumPy 1.20; for more details and guidance: https://numpy.org/devdocs/release/1.20.0-notes.html#deprecations\n",
      "  rects = [np.array(wordCharRects, dtype=np.int)[np.newaxis, :, :,:] for wordCharRects in self.annotation[\"wordsCharactersRects\"]]\n"
     ]
    },
    {
     "name": "stdout",
     "output_type": "stream",
     "text": [
      "D:\\Data\\Diploma\\generated//Validate_noAugModifiedFullBin//gt/abstract_background_313071.jpg0_3CharMap.png\n",
      "D:\\Data\\Diploma\\generated//Validate_noAugModifiedFullBin//gt/abstract_background_313071.jpg1_3CharMap.png\n",
      "\n",
      "\n"
     ]
    },
    {
     "name": "stderr",
     "output_type": "stream",
     "text": [
      "<ipython-input-125-f8ef12e38186>:10: TqdmDeprecationWarning: This function will be removed in tqdm==5.0.0\n",
      "Please use `tqdm.notebook.tqdm` instead of `tqdm.tqdm_notebook`\n",
      "  for j in tn(range(4)):\n"
     ]
    },
    {
     "data": {
      "application/vnd.jupyter.widget-view+json": {
       "model_id": "13632fa21c894741844540992b003f11",
       "version_major": 2,
       "version_minor": 0
      },
      "text/plain": [
       "HBox(children=(HTML(value=''), FloatProgress(value=0.0, max=4.0), HTML(value='')))"
      ]
     },
     "metadata": {},
     "output_type": "display_data"
    },
    {
     "name": "stderr",
     "output_type": "stream",
     "text": [
      "<ipython-input-125-f8ef12e38186>:16: TqdmDeprecationWarning: This function will be removed in tqdm==5.0.0\n",
      "Please use `tqdm.notebook.tqdm` instead of `tqdm.tqdm_notebook`\n",
      "  for i in tn(range(4)):\n"
     ]
    },
    {
     "data": {
      "application/vnd.jupyter.widget-view+json": {
       "model_id": "992d6311dc744c72b2cfd9250cdb8f97",
       "version_major": 2,
       "version_minor": 0
      },
      "text/plain": [
       "HBox(children=(HTML(value=''), FloatProgress(value=0.0, max=4.0), HTML(value='')))"
      ]
     },
     "metadata": {},
     "output_type": "display_data"
    },
    {
     "name": "stderr",
     "output_type": "stream",
     "text": [
      "<ipython-input-27-bc886dcdcd16>:321: DeprecationWarning: `np.int` is a deprecated alias for the builtin `int`. To silence this warning, use `int` by itself. Doing this will not modify any behavior and is safe. When replacing `np.int`, you may wish to use e.g. `np.int64` or `np.int32` to specify the precision. If you wish to review your current use, check the release note link for additional information.\n",
      "Deprecated in NumPy 1.20; for more details and guidance: https://numpy.org/devdocs/release/1.20.0-notes.html#deprecations\n",
      "  rects = [np.array(wordCharRects, dtype=np.int)[np.newaxis, :, :,:] for wordCharRects in self.annotation[\"wordsCharactersRects\"]]\n"
     ]
    },
    {
     "name": "stdout",
     "output_type": "stream",
     "text": [
      "D:\\Data\\Diploma\\generated//Validate_noAugModifiedFullBin//gt/ad42f8c1cb666d8fe436ca37742891cb--background-paper-background-designs.jpg0_0CharMap.png\n"
     ]
    },
    {
     "name": "stderr",
     "output_type": "stream",
     "text": [
      "<ipython-input-26-4a25245fc9cb>:37: DeprecationWarning: `np.float` is a deprecated alias for the builtin `float`. To silence this warning, use `float` by itself. Doing this will not modify any behavior and is safe. If you specifically wanted the numpy scalar type, use `np.float64` here.\n",
      "Deprecated in NumPy 1.20; for more details and guidance: https://numpy.org/devdocs/release/1.20.0-notes.html#deprecations\n",
      "  result = np.zeros((height, width, len(start_list)), dtype=np.float)\n"
     ]
    },
    {
     "name": "stdout",
     "output_type": "stream",
     "text": [
      "D:\\Data\\Diploma\\generated//Validate_noAugModifiedFullBin//gt/ad42f8c1cb666d8fe436ca37742891cb--background-paper-background-designs.jpg1_0CharMap.png\n",
      "\n"
     ]
    },
    {
     "data": {
      "application/vnd.jupyter.widget-view+json": {
       "model_id": "148b1bb3bb91444b8c2d97e0a884470b",
       "version_major": 2,
       "version_minor": 0
      },
      "text/plain": [
       "HBox(children=(HTML(value=''), FloatProgress(value=0.0, max=4.0), HTML(value='')))"
      ]
     },
     "metadata": {},
     "output_type": "display_data"
    },
    {
     "name": "stdout",
     "output_type": "stream",
     "text": [
      "D:\\Data\\Diploma\\generated//Validate_noAugModifiedFullBin//gt/ad42f8c1cb666d8fe436ca37742891cb--background-paper-background-designs.jpg0_1CharMap.png\n",
      "D:\\Data\\Diploma\\generated//Validate_noAugModifiedFullBin//gt/ad42f8c1cb666d8fe436ca37742891cb--background-paper-background-designs.jpg1_1CharMap.png\n",
      "\n"
     ]
    },
    {
     "data": {
      "application/vnd.jupyter.widget-view+json": {
       "model_id": "ef99f0840e484b39978639832d7610ef",
       "version_major": 2,
       "version_minor": 0
      },
      "text/plain": [
       "HBox(children=(HTML(value=''), FloatProgress(value=0.0, max=4.0), HTML(value='')))"
      ]
     },
     "metadata": {},
     "output_type": "display_data"
    },
    {
     "name": "stdout",
     "output_type": "stream",
     "text": [
      "D:\\Data\\Diploma\\generated//Validate_noAugModifiedFullBin//gt/ad42f8c1cb666d8fe436ca37742891cb--background-paper-background-designs.jpg0_2CharMap.png\n",
      "D:\\Data\\Diploma\\generated//Validate_noAugModifiedFullBin//gt/ad42f8c1cb666d8fe436ca37742891cb--background-paper-background-designs.jpg1_2CharMap.png\n",
      "\n"
     ]
    },
    {
     "name": "stderr",
     "output_type": "stream",
     "text": [
      "<ipython-input-125-f8ef12e38186>:16: TqdmDeprecationWarning: This function will be removed in tqdm==5.0.0\n",
      "Please use `tqdm.notebook.tqdm` instead of `tqdm.tqdm_notebook`\n",
      "  for i in tn(range(4)):\n"
     ]
    },
    {
     "data": {
      "application/vnd.jupyter.widget-view+json": {
       "model_id": "1d18c68339cc4bc5924bb45c80eb201f",
       "version_major": 2,
       "version_minor": 0
      },
      "text/plain": [
       "HBox(children=(HTML(value=''), FloatProgress(value=0.0, max=4.0), HTML(value='')))"
      ]
     },
     "metadata": {},
     "output_type": "display_data"
    },
    {
     "name": "stderr",
     "output_type": "stream",
     "text": [
      "<ipython-input-27-bc886dcdcd16>:321: DeprecationWarning: `np.int` is a deprecated alias for the builtin `int`. To silence this warning, use `int` by itself. Doing this will not modify any behavior and is safe. When replacing `np.int`, you may wish to use e.g. `np.int64` or `np.int32` to specify the precision. If you wish to review your current use, check the release note link for additional information.\n",
      "Deprecated in NumPy 1.20; for more details and guidance: https://numpy.org/devdocs/release/1.20.0-notes.html#deprecations\n",
      "  rects = [np.array(wordCharRects, dtype=np.int)[np.newaxis, :, :,:] for wordCharRects in self.annotation[\"wordsCharactersRects\"]]\n"
     ]
    },
    {
     "name": "stdout",
     "output_type": "stream",
     "text": [
      "D:\\Data\\Diploma\\generated//Validate_noAugModifiedFullBin//gt/ad42f8c1cb666d8fe436ca37742891cb--background-paper-background-designs.jpg0_3CharMap.png\n",
      "D:\\Data\\Diploma\\generated//Validate_noAugModifiedFullBin//gt/ad42f8c1cb666d8fe436ca37742891cb--background-paper-background-designs.jpg1_3CharMap.png\n",
      "\n",
      "\n"
     ]
    },
    {
     "name": "stderr",
     "output_type": "stream",
     "text": [
      "<ipython-input-125-f8ef12e38186>:10: TqdmDeprecationWarning: This function will be removed in tqdm==5.0.0\n",
      "Please use `tqdm.notebook.tqdm` instead of `tqdm.tqdm_notebook`\n",
      "  for j in tn(range(4)):\n"
     ]
    },
    {
     "data": {
      "application/vnd.jupyter.widget-view+json": {
       "model_id": "a68a76b1ce4241ea9c5cadd2c3416cc1",
       "version_major": 2,
       "version_minor": 0
      },
      "text/plain": [
       "HBox(children=(HTML(value=''), FloatProgress(value=0.0, max=4.0), HTML(value='')))"
      ]
     },
     "metadata": {},
     "output_type": "display_data"
    },
    {
     "data": {
      "application/vnd.jupyter.widget-view+json": {
       "model_id": "2eab8971ab274f86a44c01adbcc65d36",
       "version_major": 2,
       "version_minor": 0
      },
      "text/plain": [
       "HBox(children=(HTML(value=''), FloatProgress(value=0.0, max=4.0), HTML(value='')))"
      ]
     },
     "metadata": {},
     "output_type": "display_data"
    },
    {
     "name": "stdout",
     "output_type": "stream",
     "text": [
      "D:\\Data\\Diploma\\generated//Validate_noAugModifiedFullBin//gt/crumpled-brown-recycled-paper-texture-background-copy-space_92397-1818.jpg0_0CharMap.png\n",
      "D:\\Data\\Diploma\\generated//Validate_noAugModifiedFullBin//gt/crumpled-brown-recycled-paper-texture-background-copy-space_92397-1818.jpg1_0CharMap.png\n",
      "\n"
     ]
    },
    {
     "name": "stderr",
     "output_type": "stream",
     "text": [
      "<ipython-input-26-4a25245fc9cb>:37: DeprecationWarning: `np.float` is a deprecated alias for the builtin `float`. To silence this warning, use `float` by itself. Doing this will not modify any behavior and is safe. If you specifically wanted the numpy scalar type, use `np.float64` here.\n",
      "Deprecated in NumPy 1.20; for more details and guidance: https://numpy.org/devdocs/release/1.20.0-notes.html#deprecations\n",
      "  result = np.zeros((height, width, len(start_list)), dtype=np.float)\n"
     ]
    },
    {
     "data": {
      "application/vnd.jupyter.widget-view+json": {
       "model_id": "e2fe5a42dda740b99b25aa56594914eb",
       "version_major": 2,
       "version_minor": 0
      },
      "text/plain": [
       "HBox(children=(HTML(value=''), FloatProgress(value=0.0, max=4.0), HTML(value='')))"
      ]
     },
     "metadata": {},
     "output_type": "display_data"
    },
    {
     "name": "stdout",
     "output_type": "stream",
     "text": [
      "D:\\Data\\Diploma\\generated//Validate_noAugModifiedFullBin//gt/crumpled-brown-recycled-paper-texture-background-copy-space_92397-1818.jpg0_1CharMap.png\n",
      "D:\\Data\\Diploma\\generated//Validate_noAugModifiedFullBin//gt/crumpled-brown-recycled-paper-texture-background-copy-space_92397-1818.jpg1_1CharMap.png\n",
      "\n"
     ]
    },
    {
     "name": "stderr",
     "output_type": "stream",
     "text": [
      "<ipython-input-26-4a25245fc9cb>:37: DeprecationWarning: `np.float` is a deprecated alias for the builtin `float`. To silence this warning, use `float` by itself. Doing this will not modify any behavior and is safe. If you specifically wanted the numpy scalar type, use `np.float64` here.\n",
      "Deprecated in NumPy 1.20; for more details and guidance: https://numpy.org/devdocs/release/1.20.0-notes.html#deprecations\n",
      "  result = np.zeros((height, width, len(start_list)), dtype=np.float)\n",
      "<ipython-input-125-f8ef12e38186>:16: TqdmDeprecationWarning: This function will be removed in tqdm==5.0.0\n",
      "Please use `tqdm.notebook.tqdm` instead of `tqdm.tqdm_notebook`\n",
      "  for i in tn(range(4)):\n"
     ]
    },
    {
     "data": {
      "application/vnd.jupyter.widget-view+json": {
       "model_id": "5705e48f29fe4bb49a9a20e2f0f9c291",
       "version_major": 2,
       "version_minor": 0
      },
      "text/plain": [
       "HBox(children=(HTML(value=''), FloatProgress(value=0.0, max=4.0), HTML(value='')))"
      ]
     },
     "metadata": {},
     "output_type": "display_data"
    },
    {
     "name": "stderr",
     "output_type": "stream",
     "text": [
      "<ipython-input-27-bc886dcdcd16>:321: DeprecationWarning: `np.int` is a deprecated alias for the builtin `int`. To silence this warning, use `int` by itself. Doing this will not modify any behavior and is safe. When replacing `np.int`, you may wish to use e.g. `np.int64` or `np.int32` to specify the precision. If you wish to review your current use, check the release note link for additional information.\n",
      "Deprecated in NumPy 1.20; for more details and guidance: https://numpy.org/devdocs/release/1.20.0-notes.html#deprecations\n",
      "  rects = [np.array(wordCharRects, dtype=np.int)[np.newaxis, :, :,:] for wordCharRects in self.annotation[\"wordsCharactersRects\"]]\n"
     ]
    },
    {
     "name": "stdout",
     "output_type": "stream",
     "text": [
      "D:\\Data\\Diploma\\generated//Validate_noAugModifiedFullBin//gt/crumpled-brown-recycled-paper-texture-background-copy-space_92397-1818.jpg0_2CharMap.png\n",
      "D:\\Data\\Diploma\\generated//Validate_noAugModifiedFullBin//gt/crumpled-brown-recycled-paper-texture-background-copy-space_92397-1818.jpg1_2CharMap.png\n",
      "\n"
     ]
    },
    {
     "data": {
      "application/vnd.jupyter.widget-view+json": {
       "model_id": "271e68416ee5446faa9ba1b75ce89f76",
       "version_major": 2,
       "version_minor": 0
      },
      "text/plain": [
       "HBox(children=(HTML(value=''), FloatProgress(value=0.0, max=4.0), HTML(value='')))"
      ]
     },
     "metadata": {},
     "output_type": "display_data"
    },
    {
     "name": "stdout",
     "output_type": "stream",
     "text": [
      "D:\\Data\\Diploma\\generated//Validate_noAugModifiedFullBin//gt/crumpled-brown-recycled-paper-texture-background-copy-space_92397-1818.jpg0_3CharMap.png\n",
      "D:\\Data\\Diploma\\generated//Validate_noAugModifiedFullBin//gt/crumpled-brown-recycled-paper-texture-background-copy-space_92397-1818.jpg1_3CharMap.png\n",
      "\n",
      "\n"
     ]
    },
    {
     "name": "stderr",
     "output_type": "stream",
     "text": [
      "<ipython-input-125-f8ef12e38186>:10: TqdmDeprecationWarning: This function will be removed in tqdm==5.0.0\n",
      "Please use `tqdm.notebook.tqdm` instead of `tqdm.tqdm_notebook`\n",
      "  for j in tn(range(4)):\n"
     ]
    },
    {
     "data": {
      "application/vnd.jupyter.widget-view+json": {
       "model_id": "c1a26d9003cd4badb0d47bb1b16e8d2d",
       "version_major": 2,
       "version_minor": 0
      },
      "text/plain": [
       "HBox(children=(HTML(value=''), FloatProgress(value=0.0, max=4.0), HTML(value='')))"
      ]
     },
     "metadata": {},
     "output_type": "display_data"
    },
    {
     "name": "stderr",
     "output_type": "stream",
     "text": [
      "<ipython-input-26-4a25245fc9cb>:37: DeprecationWarning: `np.float` is a deprecated alias for the builtin `float`. To silence this warning, use `float` by itself. Doing this will not modify any behavior and is safe. If you specifically wanted the numpy scalar type, use `np.float64` here.\n",
      "Deprecated in NumPy 1.20; for more details and guidance: https://numpy.org/devdocs/release/1.20.0-notes.html#deprecations\n",
      "  result = np.zeros((height, width, len(start_list)), dtype=np.float)\n",
      "<ipython-input-125-f8ef12e38186>:16: TqdmDeprecationWarning: This function will be removed in tqdm==5.0.0\n",
      "Please use `tqdm.notebook.tqdm` instead of `tqdm.tqdm_notebook`\n",
      "  for i in tn(range(4)):\n"
     ]
    },
    {
     "data": {
      "application/vnd.jupyter.widget-view+json": {
       "model_id": "2dd820e5945e49bdb3b033b7ff719b01",
       "version_major": 2,
       "version_minor": 0
      },
      "text/plain": [
       "HBox(children=(HTML(value=''), FloatProgress(value=0.0, max=4.0), HTML(value='')))"
      ]
     },
     "metadata": {},
     "output_type": "display_data"
    },
    {
     "name": "stderr",
     "output_type": "stream",
     "text": [
      "<ipython-input-27-bc886dcdcd16>:321: DeprecationWarning: `np.int` is a deprecated alias for the builtin `int`. To silence this warning, use `int` by itself. Doing this will not modify any behavior and is safe. When replacing `np.int`, you may wish to use e.g. `np.int64` or `np.int32` to specify the precision. If you wish to review your current use, check the release note link for additional information.\n",
      "Deprecated in NumPy 1.20; for more details and guidance: https://numpy.org/devdocs/release/1.20.0-notes.html#deprecations\n",
      "  rects = [np.array(wordCharRects, dtype=np.int)[np.newaxis, :, :,:] for wordCharRects in self.annotation[\"wordsCharactersRects\"]]\n"
     ]
    },
    {
     "name": "stdout",
     "output_type": "stream",
     "text": [
      "D:\\Data\\Diploma\\generated//Validate_noAugModifiedFullBin//gt/depositphotos_52491899-stock-illustration-guilloche-background.jpg0_0CharMap.png\n",
      "D:\\Data\\Diploma\\generated//Validate_noAugModifiedFullBin//gt/depositphotos_52491899-stock-illustration-guilloche-background.jpg1_0CharMap.png\n",
      "\n"
     ]
    },
    {
     "data": {
      "application/vnd.jupyter.widget-view+json": {
       "model_id": "27a0d40f3bd0485eaf896b87cddcf3d7",
       "version_major": 2,
       "version_minor": 0
      },
      "text/plain": [
       "HBox(children=(HTML(value=''), FloatProgress(value=0.0, max=4.0), HTML(value='')))"
      ]
     },
     "metadata": {},
     "output_type": "display_data"
    },
    {
     "name": "stdout",
     "output_type": "stream",
     "text": [
      "D:\\Data\\Diploma\\generated//Validate_noAugModifiedFullBin//gt/depositphotos_52491899-stock-illustration-guilloche-background.jpg0_1CharMap.png\n",
      "D:\\Data\\Diploma\\generated//Validate_noAugModifiedFullBin//gt/depositphotos_52491899-stock-illustration-guilloche-background.jpg1_1CharMap.png\n",
      "\n"
     ]
    },
    {
     "data": {
      "application/vnd.jupyter.widget-view+json": {
       "model_id": "5cf43f4233a9465fa9f443c5ade002dc",
       "version_major": 2,
       "version_minor": 0
      },
      "text/plain": [
       "HBox(children=(HTML(value=''), FloatProgress(value=0.0, max=4.0), HTML(value='')))"
      ]
     },
     "metadata": {},
     "output_type": "display_data"
    },
    {
     "name": "stdout",
     "output_type": "stream",
     "text": [
      "D:\\Data\\Diploma\\generated//Validate_noAugModifiedFullBin//gt/depositphotos_52491899-stock-illustration-guilloche-background.jpg0_2CharMap.png\n",
      "D:\\Data\\Diploma\\generated//Validate_noAugModifiedFullBin//gt/depositphotos_52491899-stock-illustration-guilloche-background.jpg1_2CharMap.png\n",
      "\n"
     ]
    },
    {
     "name": "stderr",
     "output_type": "stream",
     "text": [
      "<ipython-input-26-4a25245fc9cb>:37: DeprecationWarning: `np.float` is a deprecated alias for the builtin `float`. To silence this warning, use `float` by itself. Doing this will not modify any behavior and is safe. If you specifically wanted the numpy scalar type, use `np.float64` here.\n",
      "Deprecated in NumPy 1.20; for more details and guidance: https://numpy.org/devdocs/release/1.20.0-notes.html#deprecations\n",
      "  result = np.zeros((height, width, len(start_list)), dtype=np.float)\n",
      "<ipython-input-125-f8ef12e38186>:16: TqdmDeprecationWarning: This function will be removed in tqdm==5.0.0\n",
      "Please use `tqdm.notebook.tqdm` instead of `tqdm.tqdm_notebook`\n",
      "  for i in tn(range(4)):\n"
     ]
    },
    {
     "data": {
      "application/vnd.jupyter.widget-view+json": {
       "model_id": "2904017279e645b8a6b1aed67620a016",
       "version_major": 2,
       "version_minor": 0
      },
      "text/plain": [
       "HBox(children=(HTML(value=''), FloatProgress(value=0.0, max=4.0), HTML(value='')))"
      ]
     },
     "metadata": {},
     "output_type": "display_data"
    },
    {
     "name": "stderr",
     "output_type": "stream",
     "text": [
      "<ipython-input-27-bc886dcdcd16>:321: DeprecationWarning: `np.int` is a deprecated alias for the builtin `int`. To silence this warning, use `int` by itself. Doing this will not modify any behavior and is safe. When replacing `np.int`, you may wish to use e.g. `np.int64` or `np.int32` to specify the precision. If you wish to review your current use, check the release note link for additional information.\n",
      "Deprecated in NumPy 1.20; for more details and guidance: https://numpy.org/devdocs/release/1.20.0-notes.html#deprecations\n",
      "  rects = [np.array(wordCharRects, dtype=np.int)[np.newaxis, :, :,:] for wordCharRects in self.annotation[\"wordsCharactersRects\"]]\n"
     ]
    },
    {
     "name": "stdout",
     "output_type": "stream",
     "text": [
      "D:\\Data\\Diploma\\generated//Validate_noAugModifiedFullBin//gt/depositphotos_52491899-stock-illustration-guilloche-background.jpg0_3CharMap.png\n",
      "D:\\Data\\Diploma\\generated//Validate_noAugModifiedFullBin//gt/depositphotos_52491899-stock-illustration-guilloche-background.jpg1_3CharMap.png\n",
      "\n",
      "\n"
     ]
    },
    {
     "name": "stderr",
     "output_type": "stream",
     "text": [
      "<ipython-input-125-f8ef12e38186>:10: TqdmDeprecationWarning: This function will be removed in tqdm==5.0.0\n",
      "Please use `tqdm.notebook.tqdm` instead of `tqdm.tqdm_notebook`\n",
      "  for j in tn(range(4)):\n"
     ]
    },
    {
     "data": {
      "application/vnd.jupyter.widget-view+json": {
       "model_id": "684539cb98ce4356a408beac26dd5148",
       "version_major": 2,
       "version_minor": 0
      },
      "text/plain": [
       "HBox(children=(HTML(value=''), FloatProgress(value=0.0, max=4.0), HTML(value='')))"
      ]
     },
     "metadata": {},
     "output_type": "display_data"
    },
    {
     "name": "stderr",
     "output_type": "stream",
     "text": [
      "<ipython-input-26-4a25245fc9cb>:37: DeprecationWarning: `np.float` is a deprecated alias for the builtin `float`. To silence this warning, use `float` by itself. Doing this will not modify any behavior and is safe. If you specifically wanted the numpy scalar type, use `np.float64` here.\n",
      "Deprecated in NumPy 1.20; for more details and guidance: https://numpy.org/devdocs/release/1.20.0-notes.html#deprecations\n",
      "  result = np.zeros((height, width, len(start_list)), dtype=np.float)\n",
      "<ipython-input-125-f8ef12e38186>:16: TqdmDeprecationWarning: This function will be removed in tqdm==5.0.0\n",
      "Please use `tqdm.notebook.tqdm` instead of `tqdm.tqdm_notebook`\n",
      "  for i in tn(range(4)):\n"
     ]
    },
    {
     "data": {
      "application/vnd.jupyter.widget-view+json": {
       "model_id": "3d9d14b7a76043ac8412a6e5b4e917c0",
       "version_major": 2,
       "version_minor": 0
      },
      "text/plain": [
       "HBox(children=(HTML(value=''), FloatProgress(value=0.0, max=4.0), HTML(value='')))"
      ]
     },
     "metadata": {},
     "output_type": "display_data"
    },
    {
     "name": "stderr",
     "output_type": "stream",
     "text": [
      "<ipython-input-27-bc886dcdcd16>:321: DeprecationWarning: `np.int` is a deprecated alias for the builtin `int`. To silence this warning, use `int` by itself. Doing this will not modify any behavior and is safe. When replacing `np.int`, you may wish to use e.g. `np.int64` or `np.int32` to specify the precision. If you wish to review your current use, check the release note link for additional information.\n",
      "Deprecated in NumPy 1.20; for more details and guidance: https://numpy.org/devdocs/release/1.20.0-notes.html#deprecations\n",
      "  rects = [np.array(wordCharRects, dtype=np.int)[np.newaxis, :, :,:] for wordCharRects in self.annotation[\"wordsCharactersRects\"]]\n"
     ]
    },
    {
     "name": "stdout",
     "output_type": "stream",
     "text": [
      "D:\\Data\\Diploma\\generated//Validate_noAugModifiedFullBin//gt/ebc0adc4c28c56a5ce7a740c30e89b89.jpg0_0CharMap.png\n",
      "D:\\Data\\Diploma\\generated//Validate_noAugModifiedFullBin//gt/ebc0adc4c28c56a5ce7a740c30e89b89.jpg1_0CharMap.png\n",
      "\n"
     ]
    },
    {
     "data": {
      "application/vnd.jupyter.widget-view+json": {
       "model_id": "894553d629ff45c5968999f0fa864bbe",
       "version_major": 2,
       "version_minor": 0
      },
      "text/plain": [
       "HBox(children=(HTML(value=''), FloatProgress(value=0.0, max=4.0), HTML(value='')))"
      ]
     },
     "metadata": {},
     "output_type": "display_data"
    },
    {
     "name": "stdout",
     "output_type": "stream",
     "text": [
      "D:\\Data\\Diploma\\generated//Validate_noAugModifiedFullBin//gt/ebc0adc4c28c56a5ce7a740c30e89b89.jpg0_1CharMap.png\n",
      "D:\\Data\\Diploma\\generated//Validate_noAugModifiedFullBin//gt/ebc0adc4c28c56a5ce7a740c30e89b89.jpg1_1CharMap.png\n",
      "\n"
     ]
    },
    {
     "data": {
      "application/vnd.jupyter.widget-view+json": {
       "model_id": "7739bae8baba4f45821147ad2e9512cb",
       "version_major": 2,
       "version_minor": 0
      },
      "text/plain": [
       "HBox(children=(HTML(value=''), FloatProgress(value=0.0, max=4.0), HTML(value='')))"
      ]
     },
     "metadata": {},
     "output_type": "display_data"
    },
    {
     "name": "stdout",
     "output_type": "stream",
     "text": [
      "D:\\Data\\Diploma\\generated//Validate_noAugModifiedFullBin//gt/ebc0adc4c28c56a5ce7a740c30e89b89.jpg0_2CharMap.png\n",
      "D:\\Data\\Diploma\\generated//Validate_noAugModifiedFullBin//gt/ebc0adc4c28c56a5ce7a740c30e89b89.jpg1_2CharMap.png\n",
      "\n"
     ]
    },
    {
     "name": "stderr",
     "output_type": "stream",
     "text": [
      "<ipython-input-125-f8ef12e38186>:16: TqdmDeprecationWarning: This function will be removed in tqdm==5.0.0\n",
      "Please use `tqdm.notebook.tqdm` instead of `tqdm.tqdm_notebook`\n",
      "  for i in tn(range(4)):\n"
     ]
    },
    {
     "data": {
      "application/vnd.jupyter.widget-view+json": {
       "model_id": "a03f8d2b8cae49e7b2e3f0fdaea7db4f",
       "version_major": 2,
       "version_minor": 0
      },
      "text/plain": [
       "HBox(children=(HTML(value=''), FloatProgress(value=0.0, max=4.0), HTML(value='')))"
      ]
     },
     "metadata": {},
     "output_type": "display_data"
    },
    {
     "name": "stderr",
     "output_type": "stream",
     "text": [
      "<ipython-input-27-bc886dcdcd16>:321: DeprecationWarning: `np.int` is a deprecated alias for the builtin `int`. To silence this warning, use `int` by itself. Doing this will not modify any behavior and is safe. When replacing `np.int`, you may wish to use e.g. `np.int64` or `np.int32` to specify the precision. If you wish to review your current use, check the release note link for additional information.\n",
      "Deprecated in NumPy 1.20; for more details and guidance: https://numpy.org/devdocs/release/1.20.0-notes.html#deprecations\n",
      "  rects = [np.array(wordCharRects, dtype=np.int)[np.newaxis, :, :,:] for wordCharRects in self.annotation[\"wordsCharactersRects\"]]\n"
     ]
    },
    {
     "name": "stdout",
     "output_type": "stream",
     "text": [
      "D:\\Data\\Diploma\\generated//Validate_noAugModifiedFullBin//gt/ebc0adc4c28c56a5ce7a740c30e89b89.jpg0_3CharMap.png\n",
      "D:\\Data\\Diploma\\generated//Validate_noAugModifiedFullBin//gt/ebc0adc4c28c56a5ce7a740c30e89b89.jpg1_3CharMap.png\n",
      "\n",
      "\n"
     ]
    },
    {
     "name": "stderr",
     "output_type": "stream",
     "text": [
      "<ipython-input-125-f8ef12e38186>:10: TqdmDeprecationWarning: This function will be removed in tqdm==5.0.0\n",
      "Please use `tqdm.notebook.tqdm` instead of `tqdm.tqdm_notebook`\n",
      "  for j in tn(range(4)):\n"
     ]
    },
    {
     "data": {
      "application/vnd.jupyter.widget-view+json": {
       "model_id": "186b13e49a6e478d802c2655a9a3e57c",
       "version_major": 2,
       "version_minor": 0
      },
      "text/plain": [
       "HBox(children=(HTML(value=''), FloatProgress(value=0.0, max=4.0), HTML(value='')))"
      ]
     },
     "metadata": {},
     "output_type": "display_data"
    },
    {
     "name": "stderr",
     "output_type": "stream",
     "text": [
      "<ipython-input-125-f8ef12e38186>:16: TqdmDeprecationWarning: This function will be removed in tqdm==5.0.0\n",
      "Please use `tqdm.notebook.tqdm` instead of `tqdm.tqdm_notebook`\n",
      "  for i in tn(range(4)):\n"
     ]
    },
    {
     "data": {
      "application/vnd.jupyter.widget-view+json": {
       "model_id": "4c32f2e66a494ebf89151dad92b903ae",
       "version_major": 2,
       "version_minor": 0
      },
      "text/plain": [
       "HBox(children=(HTML(value=''), FloatProgress(value=0.0, max=4.0), HTML(value='')))"
      ]
     },
     "metadata": {},
     "output_type": "display_data"
    },
    {
     "name": "stderr",
     "output_type": "stream",
     "text": [
      "<ipython-input-27-bc886dcdcd16>:321: DeprecationWarning: `np.int` is a deprecated alias for the builtin `int`. To silence this warning, use `int` by itself. Doing this will not modify any behavior and is safe. When replacing `np.int`, you may wish to use e.g. `np.int64` or `np.int32` to specify the precision. If you wish to review your current use, check the release note link for additional information.\n",
      "Deprecated in NumPy 1.20; for more details and guidance: https://numpy.org/devdocs/release/1.20.0-notes.html#deprecations\n",
      "  rects = [np.array(wordCharRects, dtype=np.int)[np.newaxis, :, :,:] for wordCharRects in self.annotation[\"wordsCharactersRects\"]]\n"
     ]
    },
    {
     "name": "stdout",
     "output_type": "stream",
     "text": [
      "D:\\Data\\Diploma\\generated//Validate_noAugModifiedFullBin//gt/ew345.png0_0CharMap.png\n",
      "D:\\Data\\Diploma\\generated//Validate_noAugModifiedFullBin//gt/ew345.png1_0CharMap.png\n",
      "\n"
     ]
    },
    {
     "name": "stderr",
     "output_type": "stream",
     "text": [
      "<ipython-input-26-4a25245fc9cb>:37: DeprecationWarning: `np.float` is a deprecated alias for the builtin `float`. To silence this warning, use `float` by itself. Doing this will not modify any behavior and is safe. If you specifically wanted the numpy scalar type, use `np.float64` here.\n",
      "Deprecated in NumPy 1.20; for more details and guidance: https://numpy.org/devdocs/release/1.20.0-notes.html#deprecations\n",
      "  result = np.zeros((height, width, len(start_list)), dtype=np.float)\n"
     ]
    },
    {
     "data": {
      "application/vnd.jupyter.widget-view+json": {
       "model_id": "c9489d717dab4310ab3d64a07a36cbf8",
       "version_major": 2,
       "version_minor": 0
      },
      "text/plain": [
       "HBox(children=(HTML(value=''), FloatProgress(value=0.0, max=4.0), HTML(value='')))"
      ]
     },
     "metadata": {},
     "output_type": "display_data"
    },
    {
     "name": "stdout",
     "output_type": "stream",
     "text": [
      "D:\\Data\\Diploma\\generated//Validate_noAugModifiedFullBin//gt/ew345.png0_1CharMap.png\n",
      "D:\\Data\\Diploma\\generated//Validate_noAugModifiedFullBin//gt/ew345.png1_1CharMap.png\n",
      "\n"
     ]
    },
    {
     "name": "stderr",
     "output_type": "stream",
     "text": [
      "<ipython-input-26-4a25245fc9cb>:37: DeprecationWarning: `np.float` is a deprecated alias for the builtin `float`. To silence this warning, use `float` by itself. Doing this will not modify any behavior and is safe. If you specifically wanted the numpy scalar type, use `np.float64` here.\n",
      "Deprecated in NumPy 1.20; for more details and guidance: https://numpy.org/devdocs/release/1.20.0-notes.html#deprecations\n",
      "  result = np.zeros((height, width, len(start_list)), dtype=np.float)\n",
      "<ipython-input-125-f8ef12e38186>:16: TqdmDeprecationWarning: This function will be removed in tqdm==5.0.0\n",
      "Please use `tqdm.notebook.tqdm` instead of `tqdm.tqdm_notebook`\n",
      "  for i in tn(range(4)):\n"
     ]
    },
    {
     "data": {
      "application/vnd.jupyter.widget-view+json": {
       "model_id": "2ea6d0405e124f209ab9654980eda443",
       "version_major": 2,
       "version_minor": 0
      },
      "text/plain": [
       "HBox(children=(HTML(value=''), FloatProgress(value=0.0, max=4.0), HTML(value='')))"
      ]
     },
     "metadata": {},
     "output_type": "display_data"
    },
    {
     "name": "stderr",
     "output_type": "stream",
     "text": [
      "<ipython-input-27-bc886dcdcd16>:321: DeprecationWarning: `np.int` is a deprecated alias for the builtin `int`. To silence this warning, use `int` by itself. Doing this will not modify any behavior and is safe. When replacing `np.int`, you may wish to use e.g. `np.int64` or `np.int32` to specify the precision. If you wish to review your current use, check the release note link for additional information.\n",
      "Deprecated in NumPy 1.20; for more details and guidance: https://numpy.org/devdocs/release/1.20.0-notes.html#deprecations\n",
      "  rects = [np.array(wordCharRects, dtype=np.int)[np.newaxis, :, :,:] for wordCharRects in self.annotation[\"wordsCharactersRects\"]]\n"
     ]
    },
    {
     "name": "stdout",
     "output_type": "stream",
     "text": [
      "D:\\Data\\Diploma\\generated//Validate_noAugModifiedFullBin//gt/ew345.png0_2CharMap.png\n",
      "D:\\Data\\Diploma\\generated//Validate_noAugModifiedFullBin//gt/ew345.png1_2CharMap.png\n",
      "\n"
     ]
    },
    {
     "data": {
      "application/vnd.jupyter.widget-view+json": {
       "model_id": "11a372c6fcd44dccb3ab1add22965934",
       "version_major": 2,
       "version_minor": 0
      },
      "text/plain": [
       "HBox(children=(HTML(value=''), FloatProgress(value=0.0, max=4.0), HTML(value='')))"
      ]
     },
     "metadata": {},
     "output_type": "display_data"
    },
    {
     "name": "stdout",
     "output_type": "stream",
     "text": [
      "D:\\Data\\Diploma\\generated//Validate_noAugModifiedFullBin//gt/ew345.png0_3CharMap.png\n",
      "D:\\Data\\Diploma\\generated//Validate_noAugModifiedFullBin//gt/ew345.png1_3CharMap.png\n",
      "\n",
      "\n"
     ]
    },
    {
     "name": "stderr",
     "output_type": "stream",
     "text": [
      "<ipython-input-125-f8ef12e38186>:10: TqdmDeprecationWarning: This function will be removed in tqdm==5.0.0\n",
      "Please use `tqdm.notebook.tqdm` instead of `tqdm.tqdm_notebook`\n",
      "  for j in tn(range(4)):\n"
     ]
    },
    {
     "data": {
      "application/vnd.jupyter.widget-view+json": {
       "model_id": "ac4e6736fa074fb89f858772e9810b3b",
       "version_major": 2,
       "version_minor": 0
      },
      "text/plain": [
       "HBox(children=(HTML(value=''), FloatProgress(value=0.0, max=4.0), HTML(value='')))"
      ]
     },
     "metadata": {},
     "output_type": "display_data"
    },
    {
     "name": "stderr",
     "output_type": "stream",
     "text": [
      "<ipython-input-26-4a25245fc9cb>:37: DeprecationWarning: `np.float` is a deprecated alias for the builtin `float`. To silence this warning, use `float` by itself. Doing this will not modify any behavior and is safe. If you specifically wanted the numpy scalar type, use `np.float64` here.\n",
      "Deprecated in NumPy 1.20; for more details and guidance: https://numpy.org/devdocs/release/1.20.0-notes.html#deprecations\n",
      "  result = np.zeros((height, width, len(start_list)), dtype=np.float)\n",
      "<ipython-input-125-f8ef12e38186>:16: TqdmDeprecationWarning: This function will be removed in tqdm==5.0.0\n",
      "Please use `tqdm.notebook.tqdm` instead of `tqdm.tqdm_notebook`\n",
      "  for i in tn(range(4)):\n"
     ]
    },
    {
     "data": {
      "application/vnd.jupyter.widget-view+json": {
       "model_id": "69728c58ac5748fcbba2835289920d39",
       "version_major": 2,
       "version_minor": 0
      },
      "text/plain": [
       "HBox(children=(HTML(value=''), FloatProgress(value=0.0, max=4.0), HTML(value='')))"
      ]
     },
     "metadata": {},
     "output_type": "display_data"
    },
    {
     "name": "stderr",
     "output_type": "stream",
     "text": [
      "<ipython-input-27-bc886dcdcd16>:321: DeprecationWarning: `np.int` is a deprecated alias for the builtin `int`. To silence this warning, use `int` by itself. Doing this will not modify any behavior and is safe. When replacing `np.int`, you may wish to use e.g. `np.int64` or `np.int32` to specify the precision. If you wish to review your current use, check the release note link for additional information.\n",
      "Deprecated in NumPy 1.20; for more details and guidance: https://numpy.org/devdocs/release/1.20.0-notes.html#deprecations\n",
      "  rects = [np.array(wordCharRects, dtype=np.int)[np.newaxis, :, :,:] for wordCharRects in self.annotation[\"wordsCharactersRects\"]]\n"
     ]
    },
    {
     "name": "stdout",
     "output_type": "stream",
     "text": [
      "D:\\Data\\Diploma\\generated//Validate_noAugModifiedFullBin//gt/GDeichmann-BackgroundsGDeichmann-Decor-AbstractGDeichmann-background-Fine-Art-Decor111.jpg0_0CharMap.png\n",
      "D:\\Data\\Diploma\\generated//Validate_noAugModifiedFullBin//gt/GDeichmann-BackgroundsGDeichmann-Decor-AbstractGDeichmann-background-Fine-Art-Decor111.jpg1_0CharMap.png\n",
      "\n"
     ]
    },
    {
     "name": "stderr",
     "output_type": "stream",
     "text": [
      "<ipython-input-125-f8ef12e38186>:16: TqdmDeprecationWarning: This function will be removed in tqdm==5.0.0\n",
      "Please use `tqdm.notebook.tqdm` instead of `tqdm.tqdm_notebook`\n",
      "  for i in tn(range(4)):\n"
     ]
    },
    {
     "data": {
      "application/vnd.jupyter.widget-view+json": {
       "model_id": "6ec2a638c5d944af9d3d8463d2cd0897",
       "version_major": 2,
       "version_minor": 0
      },
      "text/plain": [
       "HBox(children=(HTML(value=''), FloatProgress(value=0.0, max=4.0), HTML(value='')))"
      ]
     },
     "metadata": {},
     "output_type": "display_data"
    },
    {
     "name": "stderr",
     "output_type": "stream",
     "text": [
      "<ipython-input-27-bc886dcdcd16>:321: DeprecationWarning: `np.int` is a deprecated alias for the builtin `int`. To silence this warning, use `int` by itself. Doing this will not modify any behavior and is safe. When replacing `np.int`, you may wish to use e.g. `np.int64` or `np.int32` to specify the precision. If you wish to review your current use, check the release note link for additional information.\n",
      "Deprecated in NumPy 1.20; for more details and guidance: https://numpy.org/devdocs/release/1.20.0-notes.html#deprecations\n",
      "  rects = [np.array(wordCharRects, dtype=np.int)[np.newaxis, :, :,:] for wordCharRects in self.annotation[\"wordsCharactersRects\"]]\n"
     ]
    },
    {
     "name": "stdout",
     "output_type": "stream",
     "text": [
      "D:\\Data\\Diploma\\generated//Validate_noAugModifiedFullBin//gt/GDeichmann-BackgroundsGDeichmann-Decor-AbstractGDeichmann-background-Fine-Art-Decor111.jpg0_1CharMap.png\n",
      "D:\\Data\\Diploma\\generated//Validate_noAugModifiedFullBin//gt/GDeichmann-BackgroundsGDeichmann-Decor-AbstractGDeichmann-background-Fine-Art-Decor111.jpg1_1CharMap.png\n",
      "\n"
     ]
    },
    {
     "name": "stderr",
     "output_type": "stream",
     "text": [
      "<ipython-input-125-f8ef12e38186>:16: TqdmDeprecationWarning: This function will be removed in tqdm==5.0.0\n",
      "Please use `tqdm.notebook.tqdm` instead of `tqdm.tqdm_notebook`\n",
      "  for i in tn(range(4)):\n"
     ]
    },
    {
     "data": {
      "application/vnd.jupyter.widget-view+json": {
       "model_id": "ec3a79f0835a426e8b247183d878174d",
       "version_major": 2,
       "version_minor": 0
      },
      "text/plain": [
       "HBox(children=(HTML(value=''), FloatProgress(value=0.0, max=4.0), HTML(value='')))"
      ]
     },
     "metadata": {},
     "output_type": "display_data"
    },
    {
     "name": "stderr",
     "output_type": "stream",
     "text": [
      "<ipython-input-27-bc886dcdcd16>:321: DeprecationWarning: `np.int` is a deprecated alias for the builtin `int`. To silence this warning, use `int` by itself. Doing this will not modify any behavior and is safe. When replacing `np.int`, you may wish to use e.g. `np.int64` or `np.int32` to specify the precision. If you wish to review your current use, check the release note link for additional information.\n",
      "Deprecated in NumPy 1.20; for more details and guidance: https://numpy.org/devdocs/release/1.20.0-notes.html#deprecations\n",
      "  rects = [np.array(wordCharRects, dtype=np.int)[np.newaxis, :, :,:] for wordCharRects in self.annotation[\"wordsCharactersRects\"]]\n"
     ]
    },
    {
     "name": "stdout",
     "output_type": "stream",
     "text": [
      "D:\\Data\\Diploma\\generated//Validate_noAugModifiedFullBin//gt/GDeichmann-BackgroundsGDeichmann-Decor-AbstractGDeichmann-background-Fine-Art-Decor111.jpg0_2CharMap.png\n",
      "D:\\Data\\Diploma\\generated//Validate_noAugModifiedFullBin//gt/GDeichmann-BackgroundsGDeichmann-Decor-AbstractGDeichmann-background-Fine-Art-Decor111.jpg1_2CharMap.png\n",
      "\n"
     ]
    },
    {
     "data": {
      "application/vnd.jupyter.widget-view+json": {
       "model_id": "d8aaecd05a7d4781b89237023a2bec63",
       "version_major": 2,
       "version_minor": 0
      },
      "text/plain": [
       "HBox(children=(HTML(value=''), FloatProgress(value=0.0, max=4.0), HTML(value='')))"
      ]
     },
     "metadata": {},
     "output_type": "display_data"
    },
    {
     "name": "stdout",
     "output_type": "stream",
     "text": [
      "D:\\Data\\Diploma\\generated//Validate_noAugModifiedFullBin//gt/GDeichmann-BackgroundsGDeichmann-Decor-AbstractGDeichmann-background-Fine-Art-Decor111.jpg0_3CharMap.png\n",
      "D:\\Data\\Diploma\\generated//Validate_noAugModifiedFullBin//gt/GDeichmann-BackgroundsGDeichmann-Decor-AbstractGDeichmann-background-Fine-Art-Decor111.jpg1_3CharMap.png\n",
      "\n",
      "\n"
     ]
    },
    {
     "name": "stderr",
     "output_type": "stream",
     "text": [
      "<ipython-input-125-f8ef12e38186>:10: TqdmDeprecationWarning: This function will be removed in tqdm==5.0.0\n",
      "Please use `tqdm.notebook.tqdm` instead of `tqdm.tqdm_notebook`\n",
      "  for j in tn(range(4)):\n"
     ]
    },
    {
     "data": {
      "application/vnd.jupyter.widget-view+json": {
       "model_id": "be43e4f9132044a0a68ef1181e3f02dc",
       "version_major": 2,
       "version_minor": 0
      },
      "text/plain": [
       "HBox(children=(HTML(value=''), FloatProgress(value=0.0, max=4.0), HTML(value='')))"
      ]
     },
     "metadata": {},
     "output_type": "display_data"
    },
    {
     "name": "stderr",
     "output_type": "stream",
     "text": [
      "<ipython-input-26-4a25245fc9cb>:37: DeprecationWarning: `np.float` is a deprecated alias for the builtin `float`. To silence this warning, use `float` by itself. Doing this will not modify any behavior and is safe. If you specifically wanted the numpy scalar type, use `np.float64` here.\n",
      "Deprecated in NumPy 1.20; for more details and guidance: https://numpy.org/devdocs/release/1.20.0-notes.html#deprecations\n",
      "  result = np.zeros((height, width, len(start_list)), dtype=np.float)\n",
      "<ipython-input-125-f8ef12e38186>:16: TqdmDeprecationWarning: This function will be removed in tqdm==5.0.0\n",
      "Please use `tqdm.notebook.tqdm` instead of `tqdm.tqdm_notebook`\n",
      "  for i in tn(range(4)):\n"
     ]
    },
    {
     "data": {
      "application/vnd.jupyter.widget-view+json": {
       "model_id": "f453dc035ab942afb6328649734af414",
       "version_major": 2,
       "version_minor": 0
      },
      "text/plain": [
       "HBox(children=(HTML(value=''), FloatProgress(value=0.0, max=4.0), HTML(value='')))"
      ]
     },
     "metadata": {},
     "output_type": "display_data"
    },
    {
     "name": "stderr",
     "output_type": "stream",
     "text": [
      "<ipython-input-27-bc886dcdcd16>:321: DeprecationWarning: `np.int` is a deprecated alias for the builtin `int`. To silence this warning, use `int` by itself. Doing this will not modify any behavior and is safe. When replacing `np.int`, you may wish to use e.g. `np.int64` or `np.int32` to specify the precision. If you wish to review your current use, check the release note link for additional information.\n",
      "Deprecated in NumPy 1.20; for more details and guidance: https://numpy.org/devdocs/release/1.20.0-notes.html#deprecations\n",
      "  rects = [np.array(wordCharRects, dtype=np.int)[np.newaxis, :, :,:] for wordCharRects in self.annotation[\"wordsCharactersRects\"]]\n"
     ]
    },
    {
     "name": "stdout",
     "output_type": "stream",
     "text": [
      "D:\\Data\\Diploma\\generated//Validate_noAugModifiedFullBin//gt/GSc7V1.jpg0_0CharMap.png\n",
      "D:\\Data\\Diploma\\generated//Validate_noAugModifiedFullBin//gt/GSc7V1.jpg1_0CharMap.png\n",
      "\n"
     ]
    },
    {
     "name": "stderr",
     "output_type": "stream",
     "text": [
      "<ipython-input-26-4a25245fc9cb>:37: DeprecationWarning: `np.float` is a deprecated alias for the builtin `float`. To silence this warning, use `float` by itself. Doing this will not modify any behavior and is safe. If you specifically wanted the numpy scalar type, use `np.float64` here.\n",
      "Deprecated in NumPy 1.20; for more details and guidance: https://numpy.org/devdocs/release/1.20.0-notes.html#deprecations\n",
      "  result = np.zeros((height, width, len(start_list)), dtype=np.float)\n",
      "<ipython-input-125-f8ef12e38186>:16: TqdmDeprecationWarning: This function will be removed in tqdm==5.0.0\n",
      "Please use `tqdm.notebook.tqdm` instead of `tqdm.tqdm_notebook`\n",
      "  for i in tn(range(4)):\n"
     ]
    },
    {
     "data": {
      "application/vnd.jupyter.widget-view+json": {
       "model_id": "7a45713126f74ab7bf0979f547fa4f7a",
       "version_major": 2,
       "version_minor": 0
      },
      "text/plain": [
       "HBox(children=(HTML(value=''), FloatProgress(value=0.0, max=4.0), HTML(value='')))"
      ]
     },
     "metadata": {},
     "output_type": "display_data"
    },
    {
     "name": "stderr",
     "output_type": "stream",
     "text": [
      "<ipython-input-27-bc886dcdcd16>:321: DeprecationWarning: `np.int` is a deprecated alias for the builtin `int`. To silence this warning, use `int` by itself. Doing this will not modify any behavior and is safe. When replacing `np.int`, you may wish to use e.g. `np.int64` or `np.int32` to specify the precision. If you wish to review your current use, check the release note link for additional information.\n",
      "Deprecated in NumPy 1.20; for more details and guidance: https://numpy.org/devdocs/release/1.20.0-notes.html#deprecations\n",
      "  rects = [np.array(wordCharRects, dtype=np.int)[np.newaxis, :, :,:] for wordCharRects in self.annotation[\"wordsCharactersRects\"]]\n"
     ]
    },
    {
     "name": "stdout",
     "output_type": "stream",
     "text": [
      "D:\\Data\\Diploma\\generated//Validate_noAugModifiedFullBin//gt/GSc7V1.jpg0_1CharMap.png\n",
      "D:\\Data\\Diploma\\generated//Validate_noAugModifiedFullBin//gt/GSc7V1.jpg1_1CharMap.png\n",
      "\n"
     ]
    },
    {
     "data": {
      "application/vnd.jupyter.widget-view+json": {
       "model_id": "866e5539e9734f1b84de49412ca9c052",
       "version_major": 2,
       "version_minor": 0
      },
      "text/plain": [
       "HBox(children=(HTML(value=''), FloatProgress(value=0.0, max=4.0), HTML(value='')))"
      ]
     },
     "metadata": {},
     "output_type": "display_data"
    },
    {
     "name": "stdout",
     "output_type": "stream",
     "text": [
      "D:\\Data\\Diploma\\generated//Validate_noAugModifiedFullBin//gt/GSc7V1.jpg0_2CharMap.png\n",
      "D:\\Data\\Diploma\\generated//Validate_noAugModifiedFullBin//gt/GSc7V1.jpg1_2CharMap.png\n",
      "\n"
     ]
    },
    {
     "data": {
      "application/vnd.jupyter.widget-view+json": {
       "model_id": "86dced52f53645cd88b0f05c759d5a81",
       "version_major": 2,
       "version_minor": 0
      },
      "text/plain": [
       "HBox(children=(HTML(value=''), FloatProgress(value=0.0, max=4.0), HTML(value='')))"
      ]
     },
     "metadata": {},
     "output_type": "display_data"
    },
    {
     "name": "stdout",
     "output_type": "stream",
     "text": [
      "D:\\Data\\Diploma\\generated//Validate_noAugModifiedFullBin//gt/GSc7V1.jpg0_3CharMap.png\n",
      "D:\\Data\\Diploma\\generated//Validate_noAugModifiedFullBin//gt/GSc7V1.jpg1_3CharMap.png\n",
      "\n",
      "\n"
     ]
    },
    {
     "name": "stderr",
     "output_type": "stream",
     "text": [
      "<ipython-input-125-f8ef12e38186>:10: TqdmDeprecationWarning: This function will be removed in tqdm==5.0.0\n",
      "Please use `tqdm.notebook.tqdm` instead of `tqdm.tqdm_notebook`\n",
      "  for j in tn(range(4)):\n"
     ]
    },
    {
     "data": {
      "application/vnd.jupyter.widget-view+json": {
       "model_id": "f15f3f9e73904cbc8bc52d53935414f8",
       "version_major": 2,
       "version_minor": 0
      },
      "text/plain": [
       "HBox(children=(HTML(value=''), FloatProgress(value=0.0, max=4.0), HTML(value='')))"
      ]
     },
     "metadata": {},
     "output_type": "display_data"
    },
    {
     "name": "stderr",
     "output_type": "stream",
     "text": [
      "<ipython-input-26-4a25245fc9cb>:37: DeprecationWarning: `np.float` is a deprecated alias for the builtin `float`. To silence this warning, use `float` by itself. Doing this will not modify any behavior and is safe. If you specifically wanted the numpy scalar type, use `np.float64` here.\n",
      "Deprecated in NumPy 1.20; for more details and guidance: https://numpy.org/devdocs/release/1.20.0-notes.html#deprecations\n",
      "  result = np.zeros((height, width, len(start_list)), dtype=np.float)\n",
      "<ipython-input-125-f8ef12e38186>:16: TqdmDeprecationWarning: This function will be removed in tqdm==5.0.0\n",
      "Please use `tqdm.notebook.tqdm` instead of `tqdm.tqdm_notebook`\n",
      "  for i in tn(range(4)):\n"
     ]
    },
    {
     "data": {
      "application/vnd.jupyter.widget-view+json": {
       "model_id": "a45855309431455f942b05ac8348319d",
       "version_major": 2,
       "version_minor": 0
      },
      "text/plain": [
       "HBox(children=(HTML(value=''), FloatProgress(value=0.0, max=4.0), HTML(value='')))"
      ]
     },
     "metadata": {},
     "output_type": "display_data"
    },
    {
     "name": "stderr",
     "output_type": "stream",
     "text": [
      "<ipython-input-27-bc886dcdcd16>:321: DeprecationWarning: `np.int` is a deprecated alias for the builtin `int`. To silence this warning, use `int` by itself. Doing this will not modify any behavior and is safe. When replacing `np.int`, you may wish to use e.g. `np.int64` or `np.int32` to specify the precision. If you wish to review your current use, check the release note link for additional information.\n",
      "Deprecated in NumPy 1.20; for more details and guidance: https://numpy.org/devdocs/release/1.20.0-notes.html#deprecations\n",
      "  rects = [np.array(wordCharRects, dtype=np.int)[np.newaxis, :, :,:] for wordCharRects in self.annotation[\"wordsCharactersRects\"]]\n"
     ]
    },
    {
     "name": "stdout",
     "output_type": "stream",
     "text": [
      "D:\\Data\\Diploma\\generated//Validate_noAugModifiedFullBin//gt/guilloche-background-simple-pattern-wavy-lines-moire-ornament-monochrome-guilloche-texture-waves-original-money-112899936.jpg0_0CharMap.png\n",
      "D:\\Data\\Diploma\\generated//Validate_noAugModifiedFullBin//gt/guilloche-background-simple-pattern-wavy-lines-moire-ornament-monochrome-guilloche-texture-waves-original-money-112899936.jpg1_0CharMap.png\n",
      "\n"
     ]
    },
    {
     "data": {
      "application/vnd.jupyter.widget-view+json": {
       "model_id": "7b36e1f25e674a4aa72e3a6850f1681e",
       "version_major": 2,
       "version_minor": 0
      },
      "text/plain": [
       "HBox(children=(HTML(value=''), FloatProgress(value=0.0, max=4.0), HTML(value='')))"
      ]
     },
     "metadata": {},
     "output_type": "display_data"
    },
    {
     "name": "stdout",
     "output_type": "stream",
     "text": [
      "D:\\Data\\Diploma\\generated//Validate_noAugModifiedFullBin//gt/guilloche-background-simple-pattern-wavy-lines-moire-ornament-monochrome-guilloche-texture-waves-original-money-112899936.jpg0_1CharMap.png\n",
      "D:\\Data\\Diploma\\generated//Validate_noAugModifiedFullBin//gt/guilloche-background-simple-pattern-wavy-lines-moire-ornament-monochrome-guilloche-texture-waves-original-money-112899936.jpg1_1CharMap.png\n",
      "\n"
     ]
    },
    {
     "name": "stderr",
     "output_type": "stream",
     "text": [
      "<ipython-input-125-f8ef12e38186>:16: TqdmDeprecationWarning: This function will be removed in tqdm==5.0.0\n",
      "Please use `tqdm.notebook.tqdm` instead of `tqdm.tqdm_notebook`\n",
      "  for i in tn(range(4)):\n"
     ]
    },
    {
     "data": {
      "application/vnd.jupyter.widget-view+json": {
       "model_id": "b215b44284044df4a68e4e6038da5586",
       "version_major": 2,
       "version_minor": 0
      },
      "text/plain": [
       "HBox(children=(HTML(value=''), FloatProgress(value=0.0, max=4.0), HTML(value='')))"
      ]
     },
     "metadata": {},
     "output_type": "display_data"
    },
    {
     "name": "stderr",
     "output_type": "stream",
     "text": [
      "<ipython-input-27-bc886dcdcd16>:321: DeprecationWarning: `np.int` is a deprecated alias for the builtin `int`. To silence this warning, use `int` by itself. Doing this will not modify any behavior and is safe. When replacing `np.int`, you may wish to use e.g. `np.int64` or `np.int32` to specify the precision. If you wish to review your current use, check the release note link for additional information.\n",
      "Deprecated in NumPy 1.20; for more details and guidance: https://numpy.org/devdocs/release/1.20.0-notes.html#deprecations\n",
      "  rects = [np.array(wordCharRects, dtype=np.int)[np.newaxis, :, :,:] for wordCharRects in self.annotation[\"wordsCharactersRects\"]]\n"
     ]
    },
    {
     "name": "stdout",
     "output_type": "stream",
     "text": [
      "D:\\Data\\Diploma\\generated//Validate_noAugModifiedFullBin//gt/guilloche-background-simple-pattern-wavy-lines-moire-ornament-monochrome-guilloche-texture-waves-original-money-112899936.jpg0_2CharMap.png\n"
     ]
    },
    {
     "name": "stderr",
     "output_type": "stream",
     "text": [
      "<ipython-input-26-4a25245fc9cb>:37: DeprecationWarning: `np.float` is a deprecated alias for the builtin `float`. To silence this warning, use `float` by itself. Doing this will not modify any behavior and is safe. If you specifically wanted the numpy scalar type, use `np.float64` here.\n",
      "Deprecated in NumPy 1.20; for more details and guidance: https://numpy.org/devdocs/release/1.20.0-notes.html#deprecations\n",
      "  result = np.zeros((height, width, len(start_list)), dtype=np.float)\n"
     ]
    },
    {
     "name": "stdout",
     "output_type": "stream",
     "text": [
      "D:\\Data\\Diploma\\generated//Validate_noAugModifiedFullBin//gt/guilloche-background-simple-pattern-wavy-lines-moire-ornament-monochrome-guilloche-texture-waves-original-money-112899936.jpg1_2CharMap.png\n",
      "\n"
     ]
    },
    {
     "data": {
      "application/vnd.jupyter.widget-view+json": {
       "model_id": "9447d1d5ea8148449566bf9a800190e9",
       "version_major": 2,
       "version_minor": 0
      },
      "text/plain": [
       "HBox(children=(HTML(value=''), FloatProgress(value=0.0, max=4.0), HTML(value='')))"
      ]
     },
     "metadata": {},
     "output_type": "display_data"
    },
    {
     "name": "stdout",
     "output_type": "stream",
     "text": [
      "D:\\Data\\Diploma\\generated//Validate_noAugModifiedFullBin//gt/guilloche-background-simple-pattern-wavy-lines-moire-ornament-monochrome-guilloche-texture-waves-original-money-112899936.jpg0_3CharMap.png\n",
      "D:\\Data\\Diploma\\generated//Validate_noAugModifiedFullBin//gt/guilloche-background-simple-pattern-wavy-lines-moire-ornament-monochrome-guilloche-texture-waves-original-money-112899936.jpg1_3CharMap.png\n",
      "\n",
      "\n"
     ]
    },
    {
     "name": "stderr",
     "output_type": "stream",
     "text": [
      "<ipython-input-125-f8ef12e38186>:10: TqdmDeprecationWarning: This function will be removed in tqdm==5.0.0\n",
      "Please use `tqdm.notebook.tqdm` instead of `tqdm.tqdm_notebook`\n",
      "  for j in tn(range(4)):\n"
     ]
    },
    {
     "data": {
      "application/vnd.jupyter.widget-view+json": {
       "model_id": "10060d0d55054e49a1722a26245fe5f6",
       "version_major": 2,
       "version_minor": 0
      },
      "text/plain": [
       "HBox(children=(HTML(value=''), FloatProgress(value=0.0, max=4.0), HTML(value='')))"
      ]
     },
     "metadata": {},
     "output_type": "display_data"
    },
    {
     "data": {
      "application/vnd.jupyter.widget-view+json": {
       "model_id": "06fe2484916443d396e29aa19f293cc4",
       "version_major": 2,
       "version_minor": 0
      },
      "text/plain": [
       "HBox(children=(HTML(value=''), FloatProgress(value=0.0, max=4.0), HTML(value='')))"
      ]
     },
     "metadata": {},
     "output_type": "display_data"
    },
    {
     "name": "stdout",
     "output_type": "stream",
     "text": [
      "D:\\Data\\Diploma\\generated//Validate_noAugModifiedFullBin//gt/guilloche-money-pattern-background-monochrome-texture-waves-original-certificate-voucher-banknote-design-82919936.jpg0_0CharMap.png\n",
      "D:\\Data\\Diploma\\generated//Validate_noAugModifiedFullBin//gt/guilloche-money-pattern-background-monochrome-texture-waves-original-certificate-voucher-banknote-design-82919936.jpg1_0CharMap.png\n",
      "\n"
     ]
    },
    {
     "name": "stderr",
     "output_type": "stream",
     "text": [
      "<ipython-input-125-f8ef12e38186>:16: TqdmDeprecationWarning: This function will be removed in tqdm==5.0.0\n",
      "Please use `tqdm.notebook.tqdm` instead of `tqdm.tqdm_notebook`\n",
      "  for i in tn(range(4)):\n"
     ]
    },
    {
     "data": {
      "application/vnd.jupyter.widget-view+json": {
       "model_id": "4e82f63d1fdc4d9686801fe59d1a04b5",
       "version_major": 2,
       "version_minor": 0
      },
      "text/plain": [
       "HBox(children=(HTML(value=''), FloatProgress(value=0.0, max=4.0), HTML(value='')))"
      ]
     },
     "metadata": {},
     "output_type": "display_data"
    },
    {
     "name": "stderr",
     "output_type": "stream",
     "text": [
      "<ipython-input-27-bc886dcdcd16>:321: DeprecationWarning: `np.int` is a deprecated alias for the builtin `int`. To silence this warning, use `int` by itself. Doing this will not modify any behavior and is safe. When replacing `np.int`, you may wish to use e.g. `np.int64` or `np.int32` to specify the precision. If you wish to review your current use, check the release note link for additional information.\n",
      "Deprecated in NumPy 1.20; for more details and guidance: https://numpy.org/devdocs/release/1.20.0-notes.html#deprecations\n",
      "  rects = [np.array(wordCharRects, dtype=np.int)[np.newaxis, :, :,:] for wordCharRects in self.annotation[\"wordsCharactersRects\"]]\n"
     ]
    },
    {
     "name": "stdout",
     "output_type": "stream",
     "text": [
      "D:\\Data\\Diploma\\generated//Validate_noAugModifiedFullBin//gt/guilloche-money-pattern-background-monochrome-texture-waves-original-certificate-voucher-banknote-design-82919936.jpg0_1CharMap.png\n",
      "D:\\Data\\Diploma\\generated//Validate_noAugModifiedFullBin//gt/guilloche-money-pattern-background-monochrome-texture-waves-original-certificate-voucher-banknote-design-82919936.jpg1_1CharMap.png\n",
      "\n"
     ]
    },
    {
     "name": "stderr",
     "output_type": "stream",
     "text": [
      "<ipython-input-26-4a25245fc9cb>:37: DeprecationWarning: `np.float` is a deprecated alias for the builtin `float`. To silence this warning, use `float` by itself. Doing this will not modify any behavior and is safe. If you specifically wanted the numpy scalar type, use `np.float64` here.\n",
      "Deprecated in NumPy 1.20; for more details and guidance: https://numpy.org/devdocs/release/1.20.0-notes.html#deprecations\n",
      "  result = np.zeros((height, width, len(start_list)), dtype=np.float)\n"
     ]
    },
    {
     "data": {
      "application/vnd.jupyter.widget-view+json": {
       "model_id": "f98ecee983d04a7a87e97e4b4e5bebf6",
       "version_major": 2,
       "version_minor": 0
      },
      "text/plain": [
       "HBox(children=(HTML(value=''), FloatProgress(value=0.0, max=4.0), HTML(value='')))"
      ]
     },
     "metadata": {},
     "output_type": "display_data"
    },
    {
     "name": "stdout",
     "output_type": "stream",
     "text": [
      "D:\\Data\\Diploma\\generated//Validate_noAugModifiedFullBin//gt/guilloche-money-pattern-background-monochrome-texture-waves-original-certificate-voucher-banknote-design-82919936.jpg0_2CharMap.png\n",
      "D:\\Data\\Diploma\\generated//Validate_noAugModifiedFullBin//gt/guilloche-money-pattern-background-monochrome-texture-waves-original-certificate-voucher-banknote-design-82919936.jpg1_2CharMap.png\n",
      "\n"
     ]
    },
    {
     "data": {
      "application/vnd.jupyter.widget-view+json": {
       "model_id": "23a5344bc4264904a1cfcd13821144a6",
       "version_major": 2,
       "version_minor": 0
      },
      "text/plain": [
       "HBox(children=(HTML(value=''), FloatProgress(value=0.0, max=4.0), HTML(value='')))"
      ]
     },
     "metadata": {},
     "output_type": "display_data"
    },
    {
     "name": "stdout",
     "output_type": "stream",
     "text": [
      "D:\\Data\\Diploma\\generated//Validate_noAugModifiedFullBin//gt/guilloche-money-pattern-background-monochrome-texture-waves-original-certificate-voucher-banknote-design-82919936.jpg0_3CharMap.png\n",
      "D:\\Data\\Diploma\\generated//Validate_noAugModifiedFullBin//gt/guilloche-money-pattern-background-monochrome-texture-waves-original-certificate-voucher-banknote-design-82919936.jpg1_3CharMap.png\n",
      "\n",
      "\n"
     ]
    },
    {
     "name": "stderr",
     "output_type": "stream",
     "text": [
      "<ipython-input-125-f8ef12e38186>:10: TqdmDeprecationWarning: This function will be removed in tqdm==5.0.0\n",
      "Please use `tqdm.notebook.tqdm` instead of `tqdm.tqdm_notebook`\n",
      "  for j in tn(range(4)):\n"
     ]
    },
    {
     "data": {
      "application/vnd.jupyter.widget-view+json": {
       "model_id": "60a1473a8d8c42dcb01737dd3ef32a70",
       "version_major": 2,
       "version_minor": 0
      },
      "text/plain": [
       "HBox(children=(HTML(value=''), FloatProgress(value=0.0, max=4.0), HTML(value='')))"
      ]
     },
     "metadata": {},
     "output_type": "display_data"
    },
    {
     "name": "stderr",
     "output_type": "stream",
     "text": [
      "<ipython-input-26-4a25245fc9cb>:37: DeprecationWarning: `np.float` is a deprecated alias for the builtin `float`. To silence this warning, use `float` by itself. Doing this will not modify any behavior and is safe. If you specifically wanted the numpy scalar type, use `np.float64` here.\n",
      "Deprecated in NumPy 1.20; for more details and guidance: https://numpy.org/devdocs/release/1.20.0-notes.html#deprecations\n",
      "  result = np.zeros((height, width, len(start_list)), dtype=np.float)\n",
      "<ipython-input-125-f8ef12e38186>:16: TqdmDeprecationWarning: This function will be removed in tqdm==5.0.0\n",
      "Please use `tqdm.notebook.tqdm` instead of `tqdm.tqdm_notebook`\n",
      "  for i in tn(range(4)):\n"
     ]
    },
    {
     "data": {
      "application/vnd.jupyter.widget-view+json": {
       "model_id": "2fe6aa4039d94c2ba7ed4d7e06336ee8",
       "version_major": 2,
       "version_minor": 0
      },
      "text/plain": [
       "HBox(children=(HTML(value=''), FloatProgress(value=0.0, max=4.0), HTML(value='')))"
      ]
     },
     "metadata": {},
     "output_type": "display_data"
    },
    {
     "name": "stderr",
     "output_type": "stream",
     "text": [
      "<ipython-input-27-bc886dcdcd16>:321: DeprecationWarning: `np.int` is a deprecated alias for the builtin `int`. To silence this warning, use `int` by itself. Doing this will not modify any behavior and is safe. When replacing `np.int`, you may wish to use e.g. `np.int64` or `np.int32` to specify the precision. If you wish to review your current use, check the release note link for additional information.\n",
      "Deprecated in NumPy 1.20; for more details and guidance: https://numpy.org/devdocs/release/1.20.0-notes.html#deprecations\n",
      "  rects = [np.array(wordCharRects, dtype=np.int)[np.newaxis, :, :,:] for wordCharRects in self.annotation[\"wordsCharactersRects\"]]\n"
     ]
    },
    {
     "name": "stdout",
     "output_type": "stream",
     "text": [
      "D:\\Data\\Diploma\\generated//Validate_noAugModifiedFullBin//gt/images (1).jpg0_0CharMap.png\n",
      "D:\\Data\\Diploma\\generated//Validate_noAugModifiedFullBin//gt/images (1).jpg1_0CharMap.png\n",
      "\n"
     ]
    },
    {
     "name": "stderr",
     "output_type": "stream",
     "text": [
      "<ipython-input-26-4a25245fc9cb>:37: DeprecationWarning: `np.float` is a deprecated alias for the builtin `float`. To silence this warning, use `float` by itself. Doing this will not modify any behavior and is safe. If you specifically wanted the numpy scalar type, use `np.float64` here.\n",
      "Deprecated in NumPy 1.20; for more details and guidance: https://numpy.org/devdocs/release/1.20.0-notes.html#deprecations\n",
      "  result = np.zeros((height, width, len(start_list)), dtype=np.float)\n",
      "<ipython-input-125-f8ef12e38186>:16: TqdmDeprecationWarning: This function will be removed in tqdm==5.0.0\n",
      "Please use `tqdm.notebook.tqdm` instead of `tqdm.tqdm_notebook`\n",
      "  for i in tn(range(4)):\n"
     ]
    },
    {
     "data": {
      "application/vnd.jupyter.widget-view+json": {
       "model_id": "3ec36847a3d447dab69813ecb268fb8e",
       "version_major": 2,
       "version_minor": 0
      },
      "text/plain": [
       "HBox(children=(HTML(value=''), FloatProgress(value=0.0, max=4.0), HTML(value='')))"
      ]
     },
     "metadata": {},
     "output_type": "display_data"
    },
    {
     "name": "stderr",
     "output_type": "stream",
     "text": [
      "<ipython-input-27-bc886dcdcd16>:321: DeprecationWarning: `np.int` is a deprecated alias for the builtin `int`. To silence this warning, use `int` by itself. Doing this will not modify any behavior and is safe. When replacing `np.int`, you may wish to use e.g. `np.int64` or `np.int32` to specify the precision. If you wish to review your current use, check the release note link for additional information.\n",
      "Deprecated in NumPy 1.20; for more details and guidance: https://numpy.org/devdocs/release/1.20.0-notes.html#deprecations\n",
      "  rects = [np.array(wordCharRects, dtype=np.int)[np.newaxis, :, :,:] for wordCharRects in self.annotation[\"wordsCharactersRects\"]]\n"
     ]
    },
    {
     "name": "stdout",
     "output_type": "stream",
     "text": [
      "D:\\Data\\Diploma\\generated//Validate_noAugModifiedFullBin//gt/images (1).jpg0_1CharMap.png\n",
      "D:\\Data\\Diploma\\generated//Validate_noAugModifiedFullBin//gt/images (1).jpg1_1CharMap.png\n",
      "\n"
     ]
    },
    {
     "data": {
      "application/vnd.jupyter.widget-view+json": {
       "model_id": "512fa3bd7a81441daa53d21644a03ee9",
       "version_major": 2,
       "version_minor": 0
      },
      "text/plain": [
       "HBox(children=(HTML(value=''), FloatProgress(value=0.0, max=4.0), HTML(value='')))"
      ]
     },
     "metadata": {},
     "output_type": "display_data"
    },
    {
     "name": "stdout",
     "output_type": "stream",
     "text": [
      "D:\\Data\\Diploma\\generated//Validate_noAugModifiedFullBin//gt/images (1).jpg0_2CharMap.png\n",
      "D:\\Data\\Diploma\\generated//Validate_noAugModifiedFullBin//gt/images (1).jpg1_2CharMap.png\n",
      "\n"
     ]
    },
    {
     "data": {
      "application/vnd.jupyter.widget-view+json": {
       "model_id": "cecc9fb6cdf44d5ebb6d15cccaf6f1d5",
       "version_major": 2,
       "version_minor": 0
      },
      "text/plain": [
       "HBox(children=(HTML(value=''), FloatProgress(value=0.0, max=4.0), HTML(value='')))"
      ]
     },
     "metadata": {},
     "output_type": "display_data"
    },
    {
     "name": "stdout",
     "output_type": "stream",
     "text": [
      "D:\\Data\\Diploma\\generated//Validate_noAugModifiedFullBin//gt/images (1).jpg0_3CharMap.png\n",
      "D:\\Data\\Diploma\\generated//Validate_noAugModifiedFullBin//gt/images (1).jpg1_3CharMap.png\n",
      "\n",
      "\n"
     ]
    },
    {
     "name": "stderr",
     "output_type": "stream",
     "text": [
      "<ipython-input-125-f8ef12e38186>:10: TqdmDeprecationWarning: This function will be removed in tqdm==5.0.0\n",
      "Please use `tqdm.notebook.tqdm` instead of `tqdm.tqdm_notebook`\n",
      "  for j in tn(range(4)):\n"
     ]
    },
    {
     "data": {
      "application/vnd.jupyter.widget-view+json": {
       "model_id": "f63dcb0a13e0449aa89694ccae616dc4",
       "version_major": 2,
       "version_minor": 0
      },
      "text/plain": [
       "HBox(children=(HTML(value=''), FloatProgress(value=0.0, max=4.0), HTML(value='')))"
      ]
     },
     "metadata": {},
     "output_type": "display_data"
    },
    {
     "name": "stderr",
     "output_type": "stream",
     "text": [
      "<ipython-input-125-f8ef12e38186>:16: TqdmDeprecationWarning: This function will be removed in tqdm==5.0.0\n",
      "Please use `tqdm.notebook.tqdm` instead of `tqdm.tqdm_notebook`\n",
      "  for i in tn(range(4)):\n"
     ]
    },
    {
     "data": {
      "application/vnd.jupyter.widget-view+json": {
       "model_id": "36af0299d017489483cc2235d4f360cc",
       "version_major": 2,
       "version_minor": 0
      },
      "text/plain": [
       "HBox(children=(HTML(value=''), FloatProgress(value=0.0, max=4.0), HTML(value='')))"
      ]
     },
     "metadata": {},
     "output_type": "display_data"
    },
    {
     "name": "stderr",
     "output_type": "stream",
     "text": [
      "<ipython-input-27-bc886dcdcd16>:321: DeprecationWarning: `np.int` is a deprecated alias for the builtin `int`. To silence this warning, use `int` by itself. Doing this will not modify any behavior and is safe. When replacing `np.int`, you may wish to use e.g. `np.int64` or `np.int32` to specify the precision. If you wish to review your current use, check the release note link for additional information.\n",
      "Deprecated in NumPy 1.20; for more details and guidance: https://numpy.org/devdocs/release/1.20.0-notes.html#deprecations\n",
      "  rects = [np.array(wordCharRects, dtype=np.int)[np.newaxis, :, :,:] for wordCharRects in self.annotation[\"wordsCharactersRects\"]]\n"
     ]
    },
    {
     "name": "stdout",
     "output_type": "stream",
     "text": [
      "D:\\Data\\Diploma\\generated//Validate_noAugModifiedFullBin//gt/images.jpg0_0CharMap.png\n",
      "D:\\Data\\Diploma\\generated//Validate_noAugModifiedFullBin//gt/images.jpg1_0CharMap.png\n",
      "\n"
     ]
    },
    {
     "name": "stderr",
     "output_type": "stream",
     "text": [
      "<ipython-input-26-4a25245fc9cb>:37: DeprecationWarning: `np.float` is a deprecated alias for the builtin `float`. To silence this warning, use `float` by itself. Doing this will not modify any behavior and is safe. If you specifically wanted the numpy scalar type, use `np.float64` here.\n",
      "Deprecated in NumPy 1.20; for more details and guidance: https://numpy.org/devdocs/release/1.20.0-notes.html#deprecations\n",
      "  result = np.zeros((height, width, len(start_list)), dtype=np.float)\n"
     ]
    },
    {
     "data": {
      "application/vnd.jupyter.widget-view+json": {
       "model_id": "698712fcc2fa4a789e776f9519715527",
       "version_major": 2,
       "version_minor": 0
      },
      "text/plain": [
       "HBox(children=(HTML(value=''), FloatProgress(value=0.0, max=4.0), HTML(value='')))"
      ]
     },
     "metadata": {},
     "output_type": "display_data"
    },
    {
     "name": "stdout",
     "output_type": "stream",
     "text": [
      "D:\\Data\\Diploma\\generated//Validate_noAugModifiedFullBin//gt/images.jpg0_1CharMap.png\n",
      "D:\\Data\\Diploma\\generated//Validate_noAugModifiedFullBin//gt/images.jpg1_1CharMap.png\n",
      "\n"
     ]
    },
    {
     "name": "stderr",
     "output_type": "stream",
     "text": [
      "<ipython-input-125-f8ef12e38186>:16: TqdmDeprecationWarning: This function will be removed in tqdm==5.0.0\n",
      "Please use `tqdm.notebook.tqdm` instead of `tqdm.tqdm_notebook`\n",
      "  for i in tn(range(4)):\n"
     ]
    },
    {
     "data": {
      "application/vnd.jupyter.widget-view+json": {
       "model_id": "bde48498a512492cad86cb91bc13ad5d",
       "version_major": 2,
       "version_minor": 0
      },
      "text/plain": [
       "HBox(children=(HTML(value=''), FloatProgress(value=0.0, max=4.0), HTML(value='')))"
      ]
     },
     "metadata": {},
     "output_type": "display_data"
    },
    {
     "name": "stderr",
     "output_type": "stream",
     "text": [
      "<ipython-input-26-4a25245fc9cb>:37: DeprecationWarning: `np.float` is a deprecated alias for the builtin `float`. To silence this warning, use `float` by itself. Doing this will not modify any behavior and is safe. If you specifically wanted the numpy scalar type, use `np.float64` here.\n",
      "Deprecated in NumPy 1.20; for more details and guidance: https://numpy.org/devdocs/release/1.20.0-notes.html#deprecations\n",
      "  result = np.zeros((height, width, len(start_list)), dtype=np.float)\n",
      "<ipython-input-27-bc886dcdcd16>:321: DeprecationWarning: `np.int` is a deprecated alias for the builtin `int`. To silence this warning, use `int` by itself. Doing this will not modify any behavior and is safe. When replacing `np.int`, you may wish to use e.g. `np.int64` or `np.int32` to specify the precision. If you wish to review your current use, check the release note link for additional information.\n",
      "Deprecated in NumPy 1.20; for more details and guidance: https://numpy.org/devdocs/release/1.20.0-notes.html#deprecations\n",
      "  rects = [np.array(wordCharRects, dtype=np.int)[np.newaxis, :, :,:] for wordCharRects in self.annotation[\"wordsCharactersRects\"]]\n"
     ]
    },
    {
     "name": "stdout",
     "output_type": "stream",
     "text": [
      "D:\\Data\\Diploma\\generated//Validate_noAugModifiedFullBin//gt/images.jpg0_2CharMap.png\n",
      "D:\\Data\\Diploma\\generated//Validate_noAugModifiedFullBin//gt/images.jpg1_2CharMap.png\n",
      "\n"
     ]
    },
    {
     "data": {
      "application/vnd.jupyter.widget-view+json": {
       "model_id": "e765ccfb1d0840e4a05620529d153670",
       "version_major": 2,
       "version_minor": 0
      },
      "text/plain": [
       "HBox(children=(HTML(value=''), FloatProgress(value=0.0, max=4.0), HTML(value='')))"
      ]
     },
     "metadata": {},
     "output_type": "display_data"
    },
    {
     "name": "stdout",
     "output_type": "stream",
     "text": [
      "D:\\Data\\Diploma\\generated//Validate_noAugModifiedFullBin//gt/images.jpg0_3CharMap.png\n",
      "D:\\Data\\Diploma\\generated//Validate_noAugModifiedFullBin//gt/images.jpg1_3CharMap.png\n",
      "\n",
      "\n"
     ]
    },
    {
     "name": "stderr",
     "output_type": "stream",
     "text": [
      "<ipython-input-125-f8ef12e38186>:10: TqdmDeprecationWarning: This function will be removed in tqdm==5.0.0\n",
      "Please use `tqdm.notebook.tqdm` instead of `tqdm.tqdm_notebook`\n",
      "  for j in tn(range(4)):\n"
     ]
    },
    {
     "data": {
      "application/vnd.jupyter.widget-view+json": {
       "model_id": "3f4021691cb74ec5a744e97876edfe90",
       "version_major": 2,
       "version_minor": 0
      },
      "text/plain": [
       "HBox(children=(HTML(value=''), FloatProgress(value=0.0, max=4.0), HTML(value='')))"
      ]
     },
     "metadata": {},
     "output_type": "display_data"
    },
    {
     "data": {
      "application/vnd.jupyter.widget-view+json": {
       "model_id": "6cd502b66f07467ebf8488e74bdba8da",
       "version_major": 2,
       "version_minor": 0
      },
      "text/plain": [
       "HBox(children=(HTML(value=''), FloatProgress(value=0.0, max=4.0), HTML(value='')))"
      ]
     },
     "metadata": {},
     "output_type": "display_data"
    },
    {
     "name": "stdout",
     "output_type": "stream",
     "text": [
      "D:\\Data\\Diploma\\generated//Validate_noAugModifiedFullBin//gt/istockphoto-842642764-612x612.jpg0_0CharMap.png\n",
      "D:\\Data\\Diploma\\generated//Validate_noAugModifiedFullBin//gt/istockphoto-842642764-612x612.jpg1_0CharMap.png\n",
      "\n"
     ]
    },
    {
     "name": "stderr",
     "output_type": "stream",
     "text": [
      "<ipython-input-125-f8ef12e38186>:16: TqdmDeprecationWarning: This function will be removed in tqdm==5.0.0\n",
      "Please use `tqdm.notebook.tqdm` instead of `tqdm.tqdm_notebook`\n",
      "  for i in tn(range(4)):\n"
     ]
    },
    {
     "data": {
      "application/vnd.jupyter.widget-view+json": {
       "model_id": "c412c681d233488483fb0b6bf5253e73",
       "version_major": 2,
       "version_minor": 0
      },
      "text/plain": [
       "HBox(children=(HTML(value=''), FloatProgress(value=0.0, max=4.0), HTML(value='')))"
      ]
     },
     "metadata": {},
     "output_type": "display_data"
    },
    {
     "name": "stderr",
     "output_type": "stream",
     "text": [
      "<ipython-input-26-4a25245fc9cb>:37: DeprecationWarning: `np.float` is a deprecated alias for the builtin `float`. To silence this warning, use `float` by itself. Doing this will not modify any behavior and is safe. If you specifically wanted the numpy scalar type, use `np.float64` here.\n",
      "Deprecated in NumPy 1.20; for more details and guidance: https://numpy.org/devdocs/release/1.20.0-notes.html#deprecations\n",
      "  result = np.zeros((height, width, len(start_list)), dtype=np.float)\n",
      "<ipython-input-27-bc886dcdcd16>:321: DeprecationWarning: `np.int` is a deprecated alias for the builtin `int`. To silence this warning, use `int` by itself. Doing this will not modify any behavior and is safe. When replacing `np.int`, you may wish to use e.g. `np.int64` or `np.int32` to specify the precision. If you wish to review your current use, check the release note link for additional information.\n",
      "Deprecated in NumPy 1.20; for more details and guidance: https://numpy.org/devdocs/release/1.20.0-notes.html#deprecations\n",
      "  rects = [np.array(wordCharRects, dtype=np.int)[np.newaxis, :, :,:] for wordCharRects in self.annotation[\"wordsCharactersRects\"]]\n"
     ]
    },
    {
     "name": "stdout",
     "output_type": "stream",
     "text": [
      "D:\\Data\\Diploma\\generated//Validate_noAugModifiedFullBin//gt/istockphoto-842642764-612x612.jpg0_1CharMap.png\n",
      "D:\\Data\\Diploma\\generated//Validate_noAugModifiedFullBin//gt/istockphoto-842642764-612x612.jpg1_1CharMap.png\n",
      "\n"
     ]
    },
    {
     "data": {
      "application/vnd.jupyter.widget-view+json": {
       "model_id": "169752fc472447929830b15ef3a2b3cc",
       "version_major": 2,
       "version_minor": 0
      },
      "text/plain": [
       "HBox(children=(HTML(value=''), FloatProgress(value=0.0, max=4.0), HTML(value='')))"
      ]
     },
     "metadata": {},
     "output_type": "display_data"
    },
    {
     "name": "stdout",
     "output_type": "stream",
     "text": [
      "D:\\Data\\Diploma\\generated//Validate_noAugModifiedFullBin//gt/istockphoto-842642764-612x612.jpg0_2CharMap.png\n",
      "D:\\Data\\Diploma\\generated//Validate_noAugModifiedFullBin//gt/istockphoto-842642764-612x612.jpg1_2CharMap.png\n",
      "\n"
     ]
    },
    {
     "data": {
      "application/vnd.jupyter.widget-view+json": {
       "model_id": "e15f430f5dbb49ef8fa0ea1b16efb505",
       "version_major": 2,
       "version_minor": 0
      },
      "text/plain": [
       "HBox(children=(HTML(value=''), FloatProgress(value=0.0, max=4.0), HTML(value='')))"
      ]
     },
     "metadata": {},
     "output_type": "display_data"
    },
    {
     "name": "stdout",
     "output_type": "stream",
     "text": [
      "D:\\Data\\Diploma\\generated//Validate_noAugModifiedFullBin//gt/istockphoto-842642764-612x612.jpg0_3CharMap.png\n",
      "D:\\Data\\Diploma\\generated//Validate_noAugModifiedFullBin//gt/istockphoto-842642764-612x612.jpg1_3CharMap.png\n",
      "\n",
      "\n"
     ]
    },
    {
     "name": "stderr",
     "output_type": "stream",
     "text": [
      "<ipython-input-125-f8ef12e38186>:10: TqdmDeprecationWarning: This function will be removed in tqdm==5.0.0\n",
      "Please use `tqdm.notebook.tqdm` instead of `tqdm.tqdm_notebook`\n",
      "  for j in tn(range(4)):\n"
     ]
    },
    {
     "data": {
      "application/vnd.jupyter.widget-view+json": {
       "model_id": "3116cef7766b4648a7d5545904f1d126",
       "version_major": 2,
       "version_minor": 0
      },
      "text/plain": [
       "HBox(children=(HTML(value=''), FloatProgress(value=0.0, max=4.0), HTML(value='')))"
      ]
     },
     "metadata": {},
     "output_type": "display_data"
    },
    {
     "name": "stderr",
     "output_type": "stream",
     "text": [
      "<ipython-input-26-4a25245fc9cb>:37: DeprecationWarning: `np.float` is a deprecated alias for the builtin `float`. To silence this warning, use `float` by itself. Doing this will not modify any behavior and is safe. If you specifically wanted the numpy scalar type, use `np.float64` here.\n",
      "Deprecated in NumPy 1.20; for more details and guidance: https://numpy.org/devdocs/release/1.20.0-notes.html#deprecations\n",
      "  result = np.zeros((height, width, len(start_list)), dtype=np.float)\n",
      "<ipython-input-125-f8ef12e38186>:16: TqdmDeprecationWarning: This function will be removed in tqdm==5.0.0\n",
      "Please use `tqdm.notebook.tqdm` instead of `tqdm.tqdm_notebook`\n",
      "  for i in tn(range(4)):\n"
     ]
    },
    {
     "data": {
      "application/vnd.jupyter.widget-view+json": {
       "model_id": "930034a14c474098b293b64484279d00",
       "version_major": 2,
       "version_minor": 0
      },
      "text/plain": [
       "HBox(children=(HTML(value=''), FloatProgress(value=0.0, max=4.0), HTML(value='')))"
      ]
     },
     "metadata": {},
     "output_type": "display_data"
    },
    {
     "name": "stderr",
     "output_type": "stream",
     "text": [
      "<ipython-input-27-bc886dcdcd16>:321: DeprecationWarning: `np.int` is a deprecated alias for the builtin `int`. To silence this warning, use `int` by itself. Doing this will not modify any behavior and is safe. When replacing `np.int`, you may wish to use e.g. `np.int64` or `np.int32` to specify the precision. If you wish to review your current use, check the release note link for additional information.\n",
      "Deprecated in NumPy 1.20; for more details and guidance: https://numpy.org/devdocs/release/1.20.0-notes.html#deprecations\n",
      "  rects = [np.array(wordCharRects, dtype=np.int)[np.newaxis, :, :,:] for wordCharRects in self.annotation[\"wordsCharactersRects\"]]\n"
     ]
    },
    {
     "name": "stdout",
     "output_type": "stream",
     "text": [
      "D:\\Data\\Diploma\\generated//Validate_noAugModifiedFullBin//gt/old-vintage-scrapped-paper-background-21338644.jpg0_0CharMap.png\n",
      "D:\\Data\\Diploma\\generated//Validate_noAugModifiedFullBin//gt/old-vintage-scrapped-paper-background-21338644.jpg1_0CharMap.png\n",
      "\n"
     ]
    },
    {
     "name": "stderr",
     "output_type": "stream",
     "text": [
      "<ipython-input-125-f8ef12e38186>:16: TqdmDeprecationWarning: This function will be removed in tqdm==5.0.0\n",
      "Please use `tqdm.notebook.tqdm` instead of `tqdm.tqdm_notebook`\n",
      "  for i in tn(range(4)):\n"
     ]
    },
    {
     "data": {
      "application/vnd.jupyter.widget-view+json": {
       "model_id": "dff9ba1ef1974b33ae1ed020c899a543",
       "version_major": 2,
       "version_minor": 0
      },
      "text/plain": [
       "HBox(children=(HTML(value=''), FloatProgress(value=0.0, max=4.0), HTML(value='')))"
      ]
     },
     "metadata": {},
     "output_type": "display_data"
    },
    {
     "name": "stderr",
     "output_type": "stream",
     "text": [
      "<ipython-input-26-4a25245fc9cb>:37: DeprecationWarning: `np.float` is a deprecated alias for the builtin `float`. To silence this warning, use `float` by itself. Doing this will not modify any behavior and is safe. If you specifically wanted the numpy scalar type, use `np.float64` here.\n",
      "Deprecated in NumPy 1.20; for more details and guidance: https://numpy.org/devdocs/release/1.20.0-notes.html#deprecations\n",
      "  result = np.zeros((height, width, len(start_list)), dtype=np.float)\n",
      "<ipython-input-27-bc886dcdcd16>:321: DeprecationWarning: `np.int` is a deprecated alias for the builtin `int`. To silence this warning, use `int` by itself. Doing this will not modify any behavior and is safe. When replacing `np.int`, you may wish to use e.g. `np.int64` or `np.int32` to specify the precision. If you wish to review your current use, check the release note link for additional information.\n",
      "Deprecated in NumPy 1.20; for more details and guidance: https://numpy.org/devdocs/release/1.20.0-notes.html#deprecations\n",
      "  rects = [np.array(wordCharRects, dtype=np.int)[np.newaxis, :, :,:] for wordCharRects in self.annotation[\"wordsCharactersRects\"]]\n"
     ]
    },
    {
     "name": "stdout",
     "output_type": "stream",
     "text": [
      "D:\\Data\\Diploma\\generated//Validate_noAugModifiedFullBin//gt/old-vintage-scrapped-paper-background-21338644.jpg0_1CharMap.png\n",
      "D:\\Data\\Diploma\\generated//Validate_noAugModifiedFullBin//gt/old-vintage-scrapped-paper-background-21338644.jpg1_1CharMap.png\n",
      "\n"
     ]
    },
    {
     "name": "stderr",
     "output_type": "stream",
     "text": [
      "<ipython-input-125-f8ef12e38186>:16: TqdmDeprecationWarning: This function will be removed in tqdm==5.0.0\n",
      "Please use `tqdm.notebook.tqdm` instead of `tqdm.tqdm_notebook`\n",
      "  for i in tn(range(4)):\n"
     ]
    },
    {
     "data": {
      "application/vnd.jupyter.widget-view+json": {
       "model_id": "302b2d25475f4f8aa5740a2b0146b30a",
       "version_major": 2,
       "version_minor": 0
      },
      "text/plain": [
       "HBox(children=(HTML(value=''), FloatProgress(value=0.0, max=4.0), HTML(value='')))"
      ]
     },
     "metadata": {},
     "output_type": "display_data"
    },
    {
     "name": "stderr",
     "output_type": "stream",
     "text": [
      "<ipython-input-27-bc886dcdcd16>:321: DeprecationWarning: `np.int` is a deprecated alias for the builtin `int`. To silence this warning, use `int` by itself. Doing this will not modify any behavior and is safe. When replacing `np.int`, you may wish to use e.g. `np.int64` or `np.int32` to specify the precision. If you wish to review your current use, check the release note link for additional information.\n",
      "Deprecated in NumPy 1.20; for more details and guidance: https://numpy.org/devdocs/release/1.20.0-notes.html#deprecations\n",
      "  rects = [np.array(wordCharRects, dtype=np.int)[np.newaxis, :, :,:] for wordCharRects in self.annotation[\"wordsCharactersRects\"]]\n"
     ]
    },
    {
     "name": "stdout",
     "output_type": "stream",
     "text": [
      "D:\\Data\\Diploma\\generated//Validate_noAugModifiedFullBin//gt/old-vintage-scrapped-paper-background-21338644.jpg0_2CharMap.png\n",
      "D:\\Data\\Diploma\\generated//Validate_noAugModifiedFullBin//gt/old-vintage-scrapped-paper-background-21338644.jpg1_2CharMap.png\n",
      "\n"
     ]
    },
    {
     "name": "stderr",
     "output_type": "stream",
     "text": [
      "<ipython-input-26-4a25245fc9cb>:37: DeprecationWarning: `np.float` is a deprecated alias for the builtin `float`. To silence this warning, use `float` by itself. Doing this will not modify any behavior and is safe. If you specifically wanted the numpy scalar type, use `np.float64` here.\n",
      "Deprecated in NumPy 1.20; for more details and guidance: https://numpy.org/devdocs/release/1.20.0-notes.html#deprecations\n",
      "  result = np.zeros((height, width, len(start_list)), dtype=np.float)\n",
      "<ipython-input-125-f8ef12e38186>:16: TqdmDeprecationWarning: This function will be removed in tqdm==5.0.0\n",
      "Please use `tqdm.notebook.tqdm` instead of `tqdm.tqdm_notebook`\n",
      "  for i in tn(range(4)):\n"
     ]
    },
    {
     "data": {
      "application/vnd.jupyter.widget-view+json": {
       "model_id": "3b026144742b45f4a7481b574dd69cd4",
       "version_major": 2,
       "version_minor": 0
      },
      "text/plain": [
       "HBox(children=(HTML(value=''), FloatProgress(value=0.0, max=4.0), HTML(value='')))"
      ]
     },
     "metadata": {},
     "output_type": "display_data"
    },
    {
     "name": "stderr",
     "output_type": "stream",
     "text": [
      "<ipython-input-27-bc886dcdcd16>:321: DeprecationWarning: `np.int` is a deprecated alias for the builtin `int`. To silence this warning, use `int` by itself. Doing this will not modify any behavior and is safe. When replacing `np.int`, you may wish to use e.g. `np.int64` or `np.int32` to specify the precision. If you wish to review your current use, check the release note link for additional information.\n",
      "Deprecated in NumPy 1.20; for more details and guidance: https://numpy.org/devdocs/release/1.20.0-notes.html#deprecations\n",
      "  rects = [np.array(wordCharRects, dtype=np.int)[np.newaxis, :, :,:] for wordCharRects in self.annotation[\"wordsCharactersRects\"]]\n"
     ]
    },
    {
     "name": "stdout",
     "output_type": "stream",
     "text": [
      "D:\\Data\\Diploma\\generated//Validate_noAugModifiedFullBin//gt/old-vintage-scrapped-paper-background-21338644.jpg0_3CharMap.png\n",
      "D:\\Data\\Diploma\\generated//Validate_noAugModifiedFullBin//gt/old-vintage-scrapped-paper-background-21338644.jpg1_3CharMap.png\n",
      "\n",
      "\n"
     ]
    },
    {
     "name": "stderr",
     "output_type": "stream",
     "text": [
      "<ipython-input-125-f8ef12e38186>:10: TqdmDeprecationWarning: This function will be removed in tqdm==5.0.0\n",
      "Please use `tqdm.notebook.tqdm` instead of `tqdm.tqdm_notebook`\n",
      "  for j in tn(range(4)):\n"
     ]
    },
    {
     "data": {
      "application/vnd.jupyter.widget-view+json": {
       "model_id": "98f53c38d101413e8e8658a84fb86926",
       "version_major": 2,
       "version_minor": 0
      },
      "text/plain": [
       "HBox(children=(HTML(value=''), FloatProgress(value=0.0, max=4.0), HTML(value='')))"
      ]
     },
     "metadata": {},
     "output_type": "display_data"
    },
    {
     "data": {
      "application/vnd.jupyter.widget-view+json": {
       "model_id": "3945a63564594613843363a78bec299e",
       "version_major": 2,
       "version_minor": 0
      },
      "text/plain": [
       "HBox(children=(HTML(value=''), FloatProgress(value=0.0, max=4.0), HTML(value='')))"
      ]
     },
     "metadata": {},
     "output_type": "display_data"
    },
    {
     "name": "stdout",
     "output_type": "stream",
     "text": [
      "D:\\Data\\Diploma\\generated//Validate_noAugModifiedFullBin//gt/old-vintage-scrapped-paper-background-21343914.jpg0_0CharMap.png\n",
      "D:\\Data\\Diploma\\generated//Validate_noAugModifiedFullBin//gt/old-vintage-scrapped-paper-background-21343914.jpg1_0CharMap.png\n",
      "\n"
     ]
    },
    {
     "name": "stderr",
     "output_type": "stream",
     "text": [
      "<ipython-input-26-4a25245fc9cb>:37: DeprecationWarning: `np.float` is a deprecated alias for the builtin `float`. To silence this warning, use `float` by itself. Doing this will not modify any behavior and is safe. If you specifically wanted the numpy scalar type, use `np.float64` here.\n",
      "Deprecated in NumPy 1.20; for more details and guidance: https://numpy.org/devdocs/release/1.20.0-notes.html#deprecations\n",
      "  result = np.zeros((height, width, len(start_list)), dtype=np.float)\n",
      "<ipython-input-125-f8ef12e38186>:16: TqdmDeprecationWarning: This function will be removed in tqdm==5.0.0\n",
      "Please use `tqdm.notebook.tqdm` instead of `tqdm.tqdm_notebook`\n",
      "  for i in tn(range(4)):\n"
     ]
    },
    {
     "data": {
      "application/vnd.jupyter.widget-view+json": {
       "model_id": "ed7f202ceef3416f87f7735ef68a7ff9",
       "version_major": 2,
       "version_minor": 0
      },
      "text/plain": [
       "HBox(children=(HTML(value=''), FloatProgress(value=0.0, max=4.0), HTML(value='')))"
      ]
     },
     "metadata": {},
     "output_type": "display_data"
    },
    {
     "name": "stderr",
     "output_type": "stream",
     "text": [
      "<ipython-input-27-bc886dcdcd16>:321: DeprecationWarning: `np.int` is a deprecated alias for the builtin `int`. To silence this warning, use `int` by itself. Doing this will not modify any behavior and is safe. When replacing `np.int`, you may wish to use e.g. `np.int64` or `np.int32` to specify the precision. If you wish to review your current use, check the release note link for additional information.\n",
      "Deprecated in NumPy 1.20; for more details and guidance: https://numpy.org/devdocs/release/1.20.0-notes.html#deprecations\n",
      "  rects = [np.array(wordCharRects, dtype=np.int)[np.newaxis, :, :,:] for wordCharRects in self.annotation[\"wordsCharactersRects\"]]\n"
     ]
    },
    {
     "name": "stdout",
     "output_type": "stream",
     "text": [
      "D:\\Data\\Diploma\\generated//Validate_noAugModifiedFullBin//gt/old-vintage-scrapped-paper-background-21343914.jpg0_1CharMap.png\n",
      "D:\\Data\\Diploma\\generated//Validate_noAugModifiedFullBin//gt/old-vintage-scrapped-paper-background-21343914.jpg1_1CharMap.png\n",
      "\n"
     ]
    },
    {
     "data": {
      "application/vnd.jupyter.widget-view+json": {
       "model_id": "4d002e2492714b3686a4ba74aeaebea5",
       "version_major": 2,
       "version_minor": 0
      },
      "text/plain": [
       "HBox(children=(HTML(value=''), FloatProgress(value=0.0, max=4.0), HTML(value='')))"
      ]
     },
     "metadata": {},
     "output_type": "display_data"
    },
    {
     "name": "stdout",
     "output_type": "stream",
     "text": [
      "D:\\Data\\Diploma\\generated//Validate_noAugModifiedFullBin//gt/old-vintage-scrapped-paper-background-21343914.jpg0_2CharMap.png\n",
      "D:\\Data\\Diploma\\generated//Validate_noAugModifiedFullBin//gt/old-vintage-scrapped-paper-background-21343914.jpg1_2CharMap.png\n",
      "\n"
     ]
    },
    {
     "data": {
      "application/vnd.jupyter.widget-view+json": {
       "model_id": "748fd7c45b854743aad20465d7496a9c",
       "version_major": 2,
       "version_minor": 0
      },
      "text/plain": [
       "HBox(children=(HTML(value=''), FloatProgress(value=0.0, max=4.0), HTML(value='')))"
      ]
     },
     "metadata": {},
     "output_type": "display_data"
    },
    {
     "name": "stdout",
     "output_type": "stream",
     "text": [
      "D:\\Data\\Diploma\\generated//Validate_noAugModifiedFullBin//gt/old-vintage-scrapped-paper-background-21343914.jpg0_3CharMap.png\n",
      "D:\\Data\\Diploma\\generated//Validate_noAugModifiedFullBin//gt/old-vintage-scrapped-paper-background-21343914.jpg1_3CharMap.png\n",
      "\n",
      "\n"
     ]
    },
    {
     "name": "stderr",
     "output_type": "stream",
     "text": [
      "<ipython-input-125-f8ef12e38186>:10: TqdmDeprecationWarning: This function will be removed in tqdm==5.0.0\n",
      "Please use `tqdm.notebook.tqdm` instead of `tqdm.tqdm_notebook`\n",
      "  for j in tn(range(4)):\n"
     ]
    },
    {
     "data": {
      "application/vnd.jupyter.widget-view+json": {
       "model_id": "f14ae28d23004c10a80f606276442ee4",
       "version_major": 2,
       "version_minor": 0
      },
      "text/plain": [
       "HBox(children=(HTML(value=''), FloatProgress(value=0.0, max=4.0), HTML(value='')))"
      ]
     },
     "metadata": {},
     "output_type": "display_data"
    },
    {
     "data": {
      "application/vnd.jupyter.widget-view+json": {
       "model_id": "5133271b783f450392a2bad29081fdb5",
       "version_major": 2,
       "version_minor": 0
      },
      "text/plain": [
       "HBox(children=(HTML(value=''), FloatProgress(value=0.0, max=4.0), HTML(value='')))"
      ]
     },
     "metadata": {},
     "output_type": "display_data"
    },
    {
     "name": "stdout",
     "output_type": "stream",
     "text": [
      "D:\\Data\\Diploma\\generated//Validate_noAugModifiedFullBin//gt/Papier-zabezpieczony_1-1.jpg0_0CharMap.png\n",
      "D:\\Data\\Diploma\\generated//Validate_noAugModifiedFullBin//gt/Papier-zabezpieczony_1-1.jpg1_0CharMap.png\n",
      "\n"
     ]
    },
    {
     "name": "stderr",
     "output_type": "stream",
     "text": [
      "<ipython-input-125-f8ef12e38186>:16: TqdmDeprecationWarning: This function will be removed in tqdm==5.0.0\n",
      "Please use `tqdm.notebook.tqdm` instead of `tqdm.tqdm_notebook`\n",
      "  for i in tn(range(4)):\n"
     ]
    },
    {
     "data": {
      "application/vnd.jupyter.widget-view+json": {
       "model_id": "bbd4aea43eb34c3c82884e23c55a674a",
       "version_major": 2,
       "version_minor": 0
      },
      "text/plain": [
       "HBox(children=(HTML(value=''), FloatProgress(value=0.0, max=4.0), HTML(value='')))"
      ]
     },
     "metadata": {},
     "output_type": "display_data"
    },
    {
     "name": "stderr",
     "output_type": "stream",
     "text": [
      "<ipython-input-27-bc886dcdcd16>:321: DeprecationWarning: `np.int` is a deprecated alias for the builtin `int`. To silence this warning, use `int` by itself. Doing this will not modify any behavior and is safe. When replacing `np.int`, you may wish to use e.g. `np.int64` or `np.int32` to specify the precision. If you wish to review your current use, check the release note link for additional information.\n",
      "Deprecated in NumPy 1.20; for more details and guidance: https://numpy.org/devdocs/release/1.20.0-notes.html#deprecations\n",
      "  rects = [np.array(wordCharRects, dtype=np.int)[np.newaxis, :, :,:] for wordCharRects in self.annotation[\"wordsCharactersRects\"]]\n"
     ]
    },
    {
     "name": "stdout",
     "output_type": "stream",
     "text": [
      "D:\\Data\\Diploma\\generated//Validate_noAugModifiedFullBin//gt/Papier-zabezpieczony_1-1.jpg0_1CharMap.png\n",
      "D:\\Data\\Diploma\\generated//Validate_noAugModifiedFullBin//gt/Papier-zabezpieczony_1-1.jpg1_1CharMap.png\n",
      "\n"
     ]
    },
    {
     "name": "stderr",
     "output_type": "stream",
     "text": [
      "<ipython-input-26-4a25245fc9cb>:37: DeprecationWarning: `np.float` is a deprecated alias for the builtin `float`. To silence this warning, use `float` by itself. Doing this will not modify any behavior and is safe. If you specifically wanted the numpy scalar type, use `np.float64` here.\n",
      "Deprecated in NumPy 1.20; for more details and guidance: https://numpy.org/devdocs/release/1.20.0-notes.html#deprecations\n",
      "  result = np.zeros((height, width, len(start_list)), dtype=np.float)\n",
      "<ipython-input-125-f8ef12e38186>:16: TqdmDeprecationWarning: This function will be removed in tqdm==5.0.0\n",
      "Please use `tqdm.notebook.tqdm` instead of `tqdm.tqdm_notebook`\n",
      "  for i in tn(range(4)):\n"
     ]
    },
    {
     "data": {
      "application/vnd.jupyter.widget-view+json": {
       "model_id": "96507b39c0d5410d81cc2d0b88fe222b",
       "version_major": 2,
       "version_minor": 0
      },
      "text/plain": [
       "HBox(children=(HTML(value=''), FloatProgress(value=0.0, max=4.0), HTML(value='')))"
      ]
     },
     "metadata": {},
     "output_type": "display_data"
    },
    {
     "name": "stderr",
     "output_type": "stream",
     "text": [
      "<ipython-input-27-bc886dcdcd16>:321: DeprecationWarning: `np.int` is a deprecated alias for the builtin `int`. To silence this warning, use `int` by itself. Doing this will not modify any behavior and is safe. When replacing `np.int`, you may wish to use e.g. `np.int64` or `np.int32` to specify the precision. If you wish to review your current use, check the release note link for additional information.\n",
      "Deprecated in NumPy 1.20; for more details and guidance: https://numpy.org/devdocs/release/1.20.0-notes.html#deprecations\n",
      "  rects = [np.array(wordCharRects, dtype=np.int)[np.newaxis, :, :,:] for wordCharRects in self.annotation[\"wordsCharactersRects\"]]\n"
     ]
    },
    {
     "name": "stdout",
     "output_type": "stream",
     "text": [
      "D:\\Data\\Diploma\\generated//Validate_noAugModifiedFullBin//gt/Papier-zabezpieczony_1-1.jpg0_2CharMap.png\n",
      "D:\\Data\\Diploma\\generated//Validate_noAugModifiedFullBin//gt/Papier-zabezpieczony_1-1.jpg1_2CharMap.png\n",
      "\n"
     ]
    },
    {
     "name": "stderr",
     "output_type": "stream",
     "text": [
      "<ipython-input-26-4a25245fc9cb>:37: DeprecationWarning: `np.float` is a deprecated alias for the builtin `float`. To silence this warning, use `float` by itself. Doing this will not modify any behavior and is safe. If you specifically wanted the numpy scalar type, use `np.float64` here.\n",
      "Deprecated in NumPy 1.20; for more details and guidance: https://numpy.org/devdocs/release/1.20.0-notes.html#deprecations\n",
      "  result = np.zeros((height, width, len(start_list)), dtype=np.float)\n",
      "<ipython-input-125-f8ef12e38186>:16: TqdmDeprecationWarning: This function will be removed in tqdm==5.0.0\n",
      "Please use `tqdm.notebook.tqdm` instead of `tqdm.tqdm_notebook`\n",
      "  for i in tn(range(4)):\n"
     ]
    },
    {
     "data": {
      "application/vnd.jupyter.widget-view+json": {
       "model_id": "9e57309e3a6c4108b4aec04029aa7882",
       "version_major": 2,
       "version_minor": 0
      },
      "text/plain": [
       "HBox(children=(HTML(value=''), FloatProgress(value=0.0, max=4.0), HTML(value='')))"
      ]
     },
     "metadata": {},
     "output_type": "display_data"
    },
    {
     "name": "stderr",
     "output_type": "stream",
     "text": [
      "<ipython-input-27-bc886dcdcd16>:321: DeprecationWarning: `np.int` is a deprecated alias for the builtin `int`. To silence this warning, use `int` by itself. Doing this will not modify any behavior and is safe. When replacing `np.int`, you may wish to use e.g. `np.int64` or `np.int32` to specify the precision. If you wish to review your current use, check the release note link for additional information.\n",
      "Deprecated in NumPy 1.20; for more details and guidance: https://numpy.org/devdocs/release/1.20.0-notes.html#deprecations\n",
      "  rects = [np.array(wordCharRects, dtype=np.int)[np.newaxis, :, :,:] for wordCharRects in self.annotation[\"wordsCharactersRects\"]]\n"
     ]
    },
    {
     "name": "stdout",
     "output_type": "stream",
     "text": [
      "D:\\Data\\Diploma\\generated//Validate_noAugModifiedFullBin//gt/Papier-zabezpieczony_1-1.jpg0_3CharMap.png\n",
      "D:\\Data\\Diploma\\generated//Validate_noAugModifiedFullBin//gt/Papier-zabezpieczony_1-1.jpg1_3CharMap.png\n",
      "\n",
      "\n"
     ]
    },
    {
     "name": "stderr",
     "output_type": "stream",
     "text": [
      "<ipython-input-125-f8ef12e38186>:10: TqdmDeprecationWarning: This function will be removed in tqdm==5.0.0\n",
      "Please use `tqdm.notebook.tqdm` instead of `tqdm.tqdm_notebook`\n",
      "  for j in tn(range(4)):\n"
     ]
    },
    {
     "data": {
      "application/vnd.jupyter.widget-view+json": {
       "model_id": "5c9f78f36cd74e4a8c0d433f1570e798",
       "version_major": 2,
       "version_minor": 0
      },
      "text/plain": [
       "HBox(children=(HTML(value=''), FloatProgress(value=0.0, max=4.0), HTML(value='')))"
      ]
     },
     "metadata": {},
     "output_type": "display_data"
    },
    {
     "data": {
      "application/vnd.jupyter.widget-view+json": {
       "model_id": "4aeebf4dcf914e94a3cbc5db1bad1eab",
       "version_major": 2,
       "version_minor": 0
      },
      "text/plain": [
       "HBox(children=(HTML(value=''), FloatProgress(value=0.0, max=4.0), HTML(value='')))"
      ]
     },
     "metadata": {},
     "output_type": "display_data"
    },
    {
     "name": "stdout",
     "output_type": "stream",
     "text": [
      "D:\\Data\\Diploma\\generated//Validate_noAugModifiedFullBin//gt/papier_ze_znakiem_wodnym.jpg0_0CharMap.png\n",
      "D:\\Data\\Diploma\\generated//Validate_noAugModifiedFullBin//gt/papier_ze_znakiem_wodnym.jpg1_0CharMap.png\n",
      "\n"
     ]
    },
    {
     "name": "stderr",
     "output_type": "stream",
     "text": [
      "<ipython-input-125-f8ef12e38186>:16: TqdmDeprecationWarning: This function will be removed in tqdm==5.0.0\n",
      "Please use `tqdm.notebook.tqdm` instead of `tqdm.tqdm_notebook`\n",
      "  for i in tn(range(4)):\n"
     ]
    },
    {
     "data": {
      "application/vnd.jupyter.widget-view+json": {
       "model_id": "36534b4f3a16451e96529e3cd7717590",
       "version_major": 2,
       "version_minor": 0
      },
      "text/plain": [
       "HBox(children=(HTML(value=''), FloatProgress(value=0.0, max=4.0), HTML(value='')))"
      ]
     },
     "metadata": {},
     "output_type": "display_data"
    },
    {
     "name": "stderr",
     "output_type": "stream",
     "text": [
      "<ipython-input-27-bc886dcdcd16>:321: DeprecationWarning: `np.int` is a deprecated alias for the builtin `int`. To silence this warning, use `int` by itself. Doing this will not modify any behavior and is safe. When replacing `np.int`, you may wish to use e.g. `np.int64` or `np.int32` to specify the precision. If you wish to review your current use, check the release note link for additional information.\n",
      "Deprecated in NumPy 1.20; for more details and guidance: https://numpy.org/devdocs/release/1.20.0-notes.html#deprecations\n",
      "  rects = [np.array(wordCharRects, dtype=np.int)[np.newaxis, :, :,:] for wordCharRects in self.annotation[\"wordsCharactersRects\"]]\n"
     ]
    },
    {
     "name": "stdout",
     "output_type": "stream",
     "text": [
      "D:\\Data\\Diploma\\generated//Validate_noAugModifiedFullBin//gt/papier_ze_znakiem_wodnym.jpg0_1CharMap.png\n"
     ]
    },
    {
     "name": "stderr",
     "output_type": "stream",
     "text": [
      "<ipython-input-26-4a25245fc9cb>:37: DeprecationWarning: `np.float` is a deprecated alias for the builtin `float`. To silence this warning, use `float` by itself. Doing this will not modify any behavior and is safe. If you specifically wanted the numpy scalar type, use `np.float64` here.\n",
      "Deprecated in NumPy 1.20; for more details and guidance: https://numpy.org/devdocs/release/1.20.0-notes.html#deprecations\n",
      "  result = np.zeros((height, width, len(start_list)), dtype=np.float)\n"
     ]
    },
    {
     "name": "stdout",
     "output_type": "stream",
     "text": [
      "D:\\Data\\Diploma\\generated//Validate_noAugModifiedFullBin//gt/papier_ze_znakiem_wodnym.jpg1_1CharMap.png\n",
      "\n"
     ]
    },
    {
     "data": {
      "application/vnd.jupyter.widget-view+json": {
       "model_id": "a8de30d354ca4ba3af68181aced4f362",
       "version_major": 2,
       "version_minor": 0
      },
      "text/plain": [
       "HBox(children=(HTML(value=''), FloatProgress(value=0.0, max=4.0), HTML(value='')))"
      ]
     },
     "metadata": {},
     "output_type": "display_data"
    },
    {
     "name": "stdout",
     "output_type": "stream",
     "text": [
      "D:\\Data\\Diploma\\generated//Validate_noAugModifiedFullBin//gt/papier_ze_znakiem_wodnym.jpg0_2CharMap.png\n",
      "D:\\Data\\Diploma\\generated//Validate_noAugModifiedFullBin//gt/papier_ze_znakiem_wodnym.jpg1_2CharMap.png\n",
      "\n"
     ]
    },
    {
     "name": "stderr",
     "output_type": "stream",
     "text": [
      "<ipython-input-26-4a25245fc9cb>:37: DeprecationWarning: `np.float` is a deprecated alias for the builtin `float`. To silence this warning, use `float` by itself. Doing this will not modify any behavior and is safe. If you specifically wanted the numpy scalar type, use `np.float64` here.\n",
      "Deprecated in NumPy 1.20; for more details and guidance: https://numpy.org/devdocs/release/1.20.0-notes.html#deprecations\n",
      "  result = np.zeros((height, width, len(start_list)), dtype=np.float)\n",
      "<ipython-input-125-f8ef12e38186>:16: TqdmDeprecationWarning: This function will be removed in tqdm==5.0.0\n",
      "Please use `tqdm.notebook.tqdm` instead of `tqdm.tqdm_notebook`\n",
      "  for i in tn(range(4)):\n"
     ]
    },
    {
     "data": {
      "application/vnd.jupyter.widget-view+json": {
       "model_id": "12cf38691b5e400cb5c108a85f4be22f",
       "version_major": 2,
       "version_minor": 0
      },
      "text/plain": [
       "HBox(children=(HTML(value=''), FloatProgress(value=0.0, max=4.0), HTML(value='')))"
      ]
     },
     "metadata": {},
     "output_type": "display_data"
    },
    {
     "name": "stderr",
     "output_type": "stream",
     "text": [
      "<ipython-input-27-bc886dcdcd16>:321: DeprecationWarning: `np.int` is a deprecated alias for the builtin `int`. To silence this warning, use `int` by itself. Doing this will not modify any behavior and is safe. When replacing `np.int`, you may wish to use e.g. `np.int64` or `np.int32` to specify the precision. If you wish to review your current use, check the release note link for additional information.\n",
      "Deprecated in NumPy 1.20; for more details and guidance: https://numpy.org/devdocs/release/1.20.0-notes.html#deprecations\n",
      "  rects = [np.array(wordCharRects, dtype=np.int)[np.newaxis, :, :,:] for wordCharRects in self.annotation[\"wordsCharactersRects\"]]\n"
     ]
    },
    {
     "name": "stdout",
     "output_type": "stream",
     "text": [
      "D:\\Data\\Diploma\\generated//Validate_noAugModifiedFullBin//gt/papier_ze_znakiem_wodnym.jpg0_3CharMap.png\n",
      "D:\\Data\\Diploma\\generated//Validate_noAugModifiedFullBin//gt/papier_ze_znakiem_wodnym.jpg1_3CharMap.png\n",
      "\n",
      "\n"
     ]
    },
    {
     "name": "stderr",
     "output_type": "stream",
     "text": [
      "<ipython-input-125-f8ef12e38186>:10: TqdmDeprecationWarning: This function will be removed in tqdm==5.0.0\n",
      "Please use `tqdm.notebook.tqdm` instead of `tqdm.tqdm_notebook`\n",
      "  for j in tn(range(4)):\n"
     ]
    },
    {
     "data": {
      "application/vnd.jupyter.widget-view+json": {
       "model_id": "831afb152c674d6982d436d9df03793f",
       "version_major": 2,
       "version_minor": 0
      },
      "text/plain": [
       "HBox(children=(HTML(value=''), FloatProgress(value=0.0, max=4.0), HTML(value='')))"
      ]
     },
     "metadata": {},
     "output_type": "display_data"
    },
    {
     "data": {
      "application/vnd.jupyter.widget-view+json": {
       "model_id": "4422eb4e4dc449b48de78616fcaaf956",
       "version_major": 2,
       "version_minor": 0
      },
      "text/plain": [
       "HBox(children=(HTML(value=''), FloatProgress(value=0.0, max=4.0), HTML(value='')))"
      ]
     },
     "metadata": {},
     "output_type": "display_data"
    },
    {
     "name": "stdout",
     "output_type": "stream",
     "text": [
      "D:\\Data\\Diploma\\generated//Validate_noAugModifiedFullBin//gt/pre-print-basic-before.png0_0CharMap.png\n",
      "D:\\Data\\Diploma\\generated//Validate_noAugModifiedFullBin//gt/pre-print-basic-before.png1_0CharMap.png\n",
      "\n"
     ]
    },
    {
     "name": "stderr",
     "output_type": "stream",
     "text": [
      "<ipython-input-125-f8ef12e38186>:16: TqdmDeprecationWarning: This function will be removed in tqdm==5.0.0\n",
      "Please use `tqdm.notebook.tqdm` instead of `tqdm.tqdm_notebook`\n",
      "  for i in tn(range(4)):\n"
     ]
    },
    {
     "data": {
      "application/vnd.jupyter.widget-view+json": {
       "model_id": "10b4ff7da5c148f4a1b6182ad4d6fb3d",
       "version_major": 2,
       "version_minor": 0
      },
      "text/plain": [
       "HBox(children=(HTML(value=''), FloatProgress(value=0.0, max=4.0), HTML(value='')))"
      ]
     },
     "metadata": {},
     "output_type": "display_data"
    },
    {
     "name": "stderr",
     "output_type": "stream",
     "text": [
      "<ipython-input-27-bc886dcdcd16>:321: DeprecationWarning: `np.int` is a deprecated alias for the builtin `int`. To silence this warning, use `int` by itself. Doing this will not modify any behavior and is safe. When replacing `np.int`, you may wish to use e.g. `np.int64` or `np.int32` to specify the precision. If you wish to review your current use, check the release note link for additional information.\n",
      "Deprecated in NumPy 1.20; for more details and guidance: https://numpy.org/devdocs/release/1.20.0-notes.html#deprecations\n",
      "  rects = [np.array(wordCharRects, dtype=np.int)[np.newaxis, :, :,:] for wordCharRects in self.annotation[\"wordsCharactersRects\"]]\n"
     ]
    },
    {
     "name": "stdout",
     "output_type": "stream",
     "text": [
      "D:\\Data\\Diploma\\generated//Validate_noAugModifiedFullBin//gt/pre-print-basic-before.png0_1CharMap.png\n",
      "D:\\Data\\Diploma\\generated//Validate_noAugModifiedFullBin//gt/pre-print-basic-before.png1_1CharMap.png\n",
      "\n"
     ]
    },
    {
     "data": {
      "application/vnd.jupyter.widget-view+json": {
       "model_id": "2b58782ea5ec45b787744c4ed8d9c95b",
       "version_major": 2,
       "version_minor": 0
      },
      "text/plain": [
       "HBox(children=(HTML(value=''), FloatProgress(value=0.0, max=4.0), HTML(value='')))"
      ]
     },
     "metadata": {},
     "output_type": "display_data"
    },
    {
     "name": "stdout",
     "output_type": "stream",
     "text": [
      "D:\\Data\\Diploma\\generated//Validate_noAugModifiedFullBin//gt/pre-print-basic-before.png0_2CharMap.png\n",
      "D:\\Data\\Diploma\\generated//Validate_noAugModifiedFullBin//gt/pre-print-basic-before.png1_2CharMap.png\n",
      "\n"
     ]
    },
    {
     "name": "stderr",
     "output_type": "stream",
     "text": [
      "<ipython-input-26-4a25245fc9cb>:37: DeprecationWarning: `np.float` is a deprecated alias for the builtin `float`. To silence this warning, use `float` by itself. Doing this will not modify any behavior and is safe. If you specifically wanted the numpy scalar type, use `np.float64` here.\n",
      "Deprecated in NumPy 1.20; for more details and guidance: https://numpy.org/devdocs/release/1.20.0-notes.html#deprecations\n",
      "  result = np.zeros((height, width, len(start_list)), dtype=np.float)\n"
     ]
    },
    {
     "data": {
      "application/vnd.jupyter.widget-view+json": {
       "model_id": "435c90e73fbc4ca1820ab0df5eab60e2",
       "version_major": 2,
       "version_minor": 0
      },
      "text/plain": [
       "HBox(children=(HTML(value=''), FloatProgress(value=0.0, max=4.0), HTML(value='')))"
      ]
     },
     "metadata": {},
     "output_type": "display_data"
    },
    {
     "name": "stdout",
     "output_type": "stream",
     "text": [
      "D:\\Data\\Diploma\\generated//Validate_noAugModifiedFullBin//gt/pre-print-basic-before.png0_3CharMap.png\n",
      "D:\\Data\\Diploma\\generated//Validate_noAugModifiedFullBin//gt/pre-print-basic-before.png1_3CharMap.png\n",
      "\n",
      "\n"
     ]
    },
    {
     "name": "stderr",
     "output_type": "stream",
     "text": [
      "<ipython-input-125-f8ef12e38186>:10: TqdmDeprecationWarning: This function will be removed in tqdm==5.0.0\n",
      "Please use `tqdm.notebook.tqdm` instead of `tqdm.tqdm_notebook`\n",
      "  for j in tn(range(4)):\n"
     ]
    },
    {
     "data": {
      "application/vnd.jupyter.widget-view+json": {
       "model_id": "d7ec95df4ce74895b48df8d60ccb59f3",
       "version_major": 2,
       "version_minor": 0
      },
      "text/plain": [
       "HBox(children=(HTML(value=''), FloatProgress(value=0.0, max=4.0), HTML(value='')))"
      ]
     },
     "metadata": {},
     "output_type": "display_data"
    },
    {
     "data": {
      "application/vnd.jupyter.widget-view+json": {
       "model_id": "dac6aa038b954d4e875d7530fb7701c0",
       "version_major": 2,
       "version_minor": 0
      },
      "text/plain": [
       "HBox(children=(HTML(value=''), FloatProgress(value=0.0, max=4.0), HTML(value='')))"
      ]
     },
     "metadata": {},
     "output_type": "display_data"
    },
    {
     "name": "stdout",
     "output_type": "stream",
     "text": [
      "D:\\Data\\Diploma\\generated//Validate_noAugModifiedFullBin//gt/retro-abstract-star-burst-flyer-background-template-vector-document-background-graphic-from-radial-stripes_1164-1546.jpg0_0CharMap.png\n",
      "D:\\Data\\Diploma\\generated//Validate_noAugModifiedFullBin//gt/retro-abstract-star-burst-flyer-background-template-vector-document-background-graphic-from-radial-stripes_1164-1546.jpg1_0CharMap.png\n",
      "\n"
     ]
    },
    {
     "data": {
      "application/vnd.jupyter.widget-view+json": {
       "model_id": "ce95e44a001c4a01bfb3b63da3b41f07",
       "version_major": 2,
       "version_minor": 0
      },
      "text/plain": [
       "HBox(children=(HTML(value=''), FloatProgress(value=0.0, max=4.0), HTML(value='')))"
      ]
     },
     "metadata": {},
     "output_type": "display_data"
    },
    {
     "name": "stdout",
     "output_type": "stream",
     "text": [
      "D:\\Data\\Diploma\\generated//Validate_noAugModifiedFullBin//gt/retro-abstract-star-burst-flyer-background-template-vector-document-background-graphic-from-radial-stripes_1164-1546.jpg0_1CharMap.png\n",
      "D:\\Data\\Diploma\\generated//Validate_noAugModifiedFullBin//gt/retro-abstract-star-burst-flyer-background-template-vector-document-background-graphic-from-radial-stripes_1164-1546.jpg1_1CharMap.png\n",
      "\n"
     ]
    },
    {
     "name": "stderr",
     "output_type": "stream",
     "text": [
      "<ipython-input-26-4a25245fc9cb>:37: DeprecationWarning: `np.float` is a deprecated alias for the builtin `float`. To silence this warning, use `float` by itself. Doing this will not modify any behavior and is safe. If you specifically wanted the numpy scalar type, use `np.float64` here.\n",
      "Deprecated in NumPy 1.20; for more details and guidance: https://numpy.org/devdocs/release/1.20.0-notes.html#deprecations\n",
      "  result = np.zeros((height, width, len(start_list)), dtype=np.float)\n",
      "<ipython-input-125-f8ef12e38186>:16: TqdmDeprecationWarning: This function will be removed in tqdm==5.0.0\n",
      "Please use `tqdm.notebook.tqdm` instead of `tqdm.tqdm_notebook`\n",
      "  for i in tn(range(4)):\n"
     ]
    },
    {
     "data": {
      "application/vnd.jupyter.widget-view+json": {
       "model_id": "be6b392fca91410d8300644e3f5d30a9",
       "version_major": 2,
       "version_minor": 0
      },
      "text/plain": [
       "HBox(children=(HTML(value=''), FloatProgress(value=0.0, max=4.0), HTML(value='')))"
      ]
     },
     "metadata": {},
     "output_type": "display_data"
    },
    {
     "name": "stderr",
     "output_type": "stream",
     "text": [
      "<ipython-input-27-bc886dcdcd16>:321: DeprecationWarning: `np.int` is a deprecated alias for the builtin `int`. To silence this warning, use `int` by itself. Doing this will not modify any behavior and is safe. When replacing `np.int`, you may wish to use e.g. `np.int64` or `np.int32` to specify the precision. If you wish to review your current use, check the release note link for additional information.\n",
      "Deprecated in NumPy 1.20; for more details and guidance: https://numpy.org/devdocs/release/1.20.0-notes.html#deprecations\n",
      "  rects = [np.array(wordCharRects, dtype=np.int)[np.newaxis, :, :,:] for wordCharRects in self.annotation[\"wordsCharactersRects\"]]\n"
     ]
    },
    {
     "name": "stdout",
     "output_type": "stream",
     "text": [
      "D:\\Data\\Diploma\\generated//Validate_noAugModifiedFullBin//gt/retro-abstract-star-burst-flyer-background-template-vector-document-background-graphic-from-radial-stripes_1164-1546.jpg0_2CharMap.png\n",
      "D:\\Data\\Diploma\\generated//Validate_noAugModifiedFullBin//gt/retro-abstract-star-burst-flyer-background-template-vector-document-background-graphic-from-radial-stripes_1164-1546.jpg1_2CharMap.png\n",
      "\n"
     ]
    },
    {
     "data": {
      "application/vnd.jupyter.widget-view+json": {
       "model_id": "37ac97ac5ebe44cea64c720cc42b08b6",
       "version_major": 2,
       "version_minor": 0
      },
      "text/plain": [
       "HBox(children=(HTML(value=''), FloatProgress(value=0.0, max=4.0), HTML(value='')))"
      ]
     },
     "metadata": {},
     "output_type": "display_data"
    },
    {
     "name": "stdout",
     "output_type": "stream",
     "text": [
      "D:\\Data\\Diploma\\generated//Validate_noAugModifiedFullBin//gt/retro-abstract-star-burst-flyer-background-template-vector-document-background-graphic-from-radial-stripes_1164-1546.jpg0_3CharMap.png\n",
      "D:\\Data\\Diploma\\generated//Validate_noAugModifiedFullBin//gt/retro-abstract-star-burst-flyer-background-template-vector-document-background-graphic-from-radial-stripes_1164-1546.jpg1_3CharMap.png\n",
      "\n",
      "\n"
     ]
    },
    {
     "name": "stderr",
     "output_type": "stream",
     "text": [
      "<ipython-input-125-f8ef12e38186>:10: TqdmDeprecationWarning: This function will be removed in tqdm==5.0.0\n",
      "Please use `tqdm.notebook.tqdm` instead of `tqdm.tqdm_notebook`\n",
      "  for j in tn(range(4)):\n"
     ]
    },
    {
     "data": {
      "application/vnd.jupyter.widget-view+json": {
       "model_id": "01bf4247e87b4c34b8e1bf4347adfe6e",
       "version_major": 2,
       "version_minor": 0
      },
      "text/plain": [
       "HBox(children=(HTML(value=''), FloatProgress(value=0.0, max=4.0), HTML(value='')))"
      ]
     },
     "metadata": {},
     "output_type": "display_data"
    },
    {
     "name": "stderr",
     "output_type": "stream",
     "text": [
      "<ipython-input-125-f8ef12e38186>:16: TqdmDeprecationWarning: This function will be removed in tqdm==5.0.0\n",
      "Please use `tqdm.notebook.tqdm` instead of `tqdm.tqdm_notebook`\n",
      "  for i in tn(range(4)):\n"
     ]
    },
    {
     "data": {
      "application/vnd.jupyter.widget-view+json": {
       "model_id": "c9465f3e152e46ccab169f28609d522e",
       "version_major": 2,
       "version_minor": 0
      },
      "text/plain": [
       "HBox(children=(HTML(value=''), FloatProgress(value=0.0, max=4.0), HTML(value='')))"
      ]
     },
     "metadata": {},
     "output_type": "display_data"
    },
    {
     "name": "stderr",
     "output_type": "stream",
     "text": [
      "<ipython-input-27-bc886dcdcd16>:321: DeprecationWarning: `np.int` is a deprecated alias for the builtin `int`. To silence this warning, use `int` by itself. Doing this will not modify any behavior and is safe. When replacing `np.int`, you may wish to use e.g. `np.int64` or `np.int32` to specify the precision. If you wish to review your current use, check the release note link for additional information.\n",
      "Deprecated in NumPy 1.20; for more details and guidance: https://numpy.org/devdocs/release/1.20.0-notes.html#deprecations\n",
      "  rects = [np.array(wordCharRects, dtype=np.int)[np.newaxis, :, :,:] for wordCharRects in self.annotation[\"wordsCharactersRects\"]]\n"
     ]
    },
    {
     "name": "stdout",
     "output_type": "stream",
     "text": [
      "D:\\Data\\Diploma\\generated//Validate_noAugModifiedFullBin//gt/th.jpg0_0CharMap.png\n",
      "D:\\Data\\Diploma\\generated//Validate_noAugModifiedFullBin//gt/th.jpg1_0CharMap.png\n",
      "\n"
     ]
    },
    {
     "data": {
      "application/vnd.jupyter.widget-view+json": {
       "model_id": "a3afef9e79e740f9b35348240e71ebd1",
       "version_major": 2,
       "version_minor": 0
      },
      "text/plain": [
       "HBox(children=(HTML(value=''), FloatProgress(value=0.0, max=4.0), HTML(value='')))"
      ]
     },
     "metadata": {},
     "output_type": "display_data"
    },
    {
     "name": "stdout",
     "output_type": "stream",
     "text": [
      "D:\\Data\\Diploma\\generated//Validate_noAugModifiedFullBin//gt/th.jpg0_1CharMap.png\n",
      "D:\\Data\\Diploma\\generated//Validate_noAugModifiedFullBin//gt/th.jpg1_1CharMap.png\n",
      "\n"
     ]
    },
    {
     "name": "stderr",
     "output_type": "stream",
     "text": [
      "<ipython-input-125-f8ef12e38186>:16: TqdmDeprecationWarning: This function will be removed in tqdm==5.0.0\n",
      "Please use `tqdm.notebook.tqdm` instead of `tqdm.tqdm_notebook`\n",
      "  for i in tn(range(4)):\n"
     ]
    },
    {
     "data": {
      "application/vnd.jupyter.widget-view+json": {
       "model_id": "124a0507b97145a995b1d01fb0c3eb68",
       "version_major": 2,
       "version_minor": 0
      },
      "text/plain": [
       "HBox(children=(HTML(value=''), FloatProgress(value=0.0, max=4.0), HTML(value='')))"
      ]
     },
     "metadata": {},
     "output_type": "display_data"
    },
    {
     "name": "stderr",
     "output_type": "stream",
     "text": [
      "<ipython-input-27-bc886dcdcd16>:321: DeprecationWarning: `np.int` is a deprecated alias for the builtin `int`. To silence this warning, use `int` by itself. Doing this will not modify any behavior and is safe. When replacing `np.int`, you may wish to use e.g. `np.int64` or `np.int32` to specify the precision. If you wish to review your current use, check the release note link for additional information.\n",
      "Deprecated in NumPy 1.20; for more details and guidance: https://numpy.org/devdocs/release/1.20.0-notes.html#deprecations\n",
      "  rects = [np.array(wordCharRects, dtype=np.int)[np.newaxis, :, :,:] for wordCharRects in self.annotation[\"wordsCharactersRects\"]]\n"
     ]
    },
    {
     "name": "stdout",
     "output_type": "stream",
     "text": [
      "D:\\Data\\Diploma\\generated//Validate_noAugModifiedFullBin//gt/th.jpg0_2CharMap.png\n",
      "D:\\Data\\Diploma\\generated//Validate_noAugModifiedFullBin//gt/th.jpg1_2CharMap.png\n",
      "\n"
     ]
    },
    {
     "name": "stderr",
     "output_type": "stream",
     "text": [
      "<ipython-input-26-4a25245fc9cb>:37: DeprecationWarning: `np.float` is a deprecated alias for the builtin `float`. To silence this warning, use `float` by itself. Doing this will not modify any behavior and is safe. If you specifically wanted the numpy scalar type, use `np.float64` here.\n",
      "Deprecated in NumPy 1.20; for more details and guidance: https://numpy.org/devdocs/release/1.20.0-notes.html#deprecations\n",
      "  result = np.zeros((height, width, len(start_list)), dtype=np.float)\n"
     ]
    },
    {
     "data": {
      "application/vnd.jupyter.widget-view+json": {
       "model_id": "37ffaf16209347549484cd59d4900e53",
       "version_major": 2,
       "version_minor": 0
      },
      "text/plain": [
       "HBox(children=(HTML(value=''), FloatProgress(value=0.0, max=4.0), HTML(value='')))"
      ]
     },
     "metadata": {},
     "output_type": "display_data"
    },
    {
     "name": "stdout",
     "output_type": "stream",
     "text": [
      "D:\\Data\\Diploma\\generated//Validate_noAugModifiedFullBin//gt/th.jpg0_3CharMap.png\n",
      "D:\\Data\\Diploma\\generated//Validate_noAugModifiedFullBin//gt/th.jpg1_3CharMap.png\n",
      "\n",
      "\n"
     ]
    },
    {
     "name": "stderr",
     "output_type": "stream",
     "text": [
      "<ipython-input-125-f8ef12e38186>:10: TqdmDeprecationWarning: This function will be removed in tqdm==5.0.0\n",
      "Please use `tqdm.notebook.tqdm` instead of `tqdm.tqdm_notebook`\n",
      "  for j in tn(range(4)):\n"
     ]
    },
    {
     "data": {
      "application/vnd.jupyter.widget-view+json": {
       "model_id": "f85a8822b630415fb9b470849e3c435d",
       "version_major": 2,
       "version_minor": 0
      },
      "text/plain": [
       "HBox(children=(HTML(value=''), FloatProgress(value=0.0, max=4.0), HTML(value='')))"
      ]
     },
     "metadata": {},
     "output_type": "display_data"
    },
    {
     "data": {
      "application/vnd.jupyter.widget-view+json": {
       "model_id": "9685857f21a24f84baae9ffc33343ccb",
       "version_major": 2,
       "version_minor": 0
      },
      "text/plain": [
       "HBox(children=(HTML(value=''), FloatProgress(value=0.0, max=4.0), HTML(value='')))"
      ]
     },
     "metadata": {},
     "output_type": "display_data"
    },
    {
     "name": "stdout",
     "output_type": "stream",
     "text": [
      "D:\\Data\\Diploma\\generated//Validate_noAugModifiedFullBin//gt/unnamed.gif0_0CharMap.png\n",
      "D:\\Data\\Diploma\\generated//Validate_noAugModifiedFullBin//gt/unnamed.gif1_0CharMap.png\n",
      "\n"
     ]
    },
    {
     "data": {
      "application/vnd.jupyter.widget-view+json": {
       "model_id": "c62c11e3c835403c908cb2ee4368f5ef",
       "version_major": 2,
       "version_minor": 0
      },
      "text/plain": [
       "HBox(children=(HTML(value=''), FloatProgress(value=0.0, max=4.0), HTML(value='')))"
      ]
     },
     "metadata": {},
     "output_type": "display_data"
    },
    {
     "name": "stdout",
     "output_type": "stream",
     "text": [
      "D:\\Data\\Diploma\\generated//Validate_noAugModifiedFullBin//gt/unnamed.gif0_1CharMap.png\n",
      "D:\\Data\\Diploma\\generated//Validate_noAugModifiedFullBin//gt/unnamed.gif1_1CharMap.png\n",
      "\n"
     ]
    },
    {
     "name": "stderr",
     "output_type": "stream",
     "text": [
      "<ipython-input-125-f8ef12e38186>:16: TqdmDeprecationWarning: This function will be removed in tqdm==5.0.0\n",
      "Please use `tqdm.notebook.tqdm` instead of `tqdm.tqdm_notebook`\n",
      "  for i in tn(range(4)):\n"
     ]
    },
    {
     "data": {
      "application/vnd.jupyter.widget-view+json": {
       "model_id": "3fd491b6a3a44d23aacbdac47ffaf743",
       "version_major": 2,
       "version_minor": 0
      },
      "text/plain": [
       "HBox(children=(HTML(value=''), FloatProgress(value=0.0, max=4.0), HTML(value='')))"
      ]
     },
     "metadata": {},
     "output_type": "display_data"
    },
    {
     "name": "stderr",
     "output_type": "stream",
     "text": [
      "<ipython-input-27-bc886dcdcd16>:321: DeprecationWarning: `np.int` is a deprecated alias for the builtin `int`. To silence this warning, use `int` by itself. Doing this will not modify any behavior and is safe. When replacing `np.int`, you may wish to use e.g. `np.int64` or `np.int32` to specify the precision. If you wish to review your current use, check the release note link for additional information.\n",
      "Deprecated in NumPy 1.20; for more details and guidance: https://numpy.org/devdocs/release/1.20.0-notes.html#deprecations\n",
      "  rects = [np.array(wordCharRects, dtype=np.int)[np.newaxis, :, :,:] for wordCharRects in self.annotation[\"wordsCharactersRects\"]]\n"
     ]
    },
    {
     "name": "stdout",
     "output_type": "stream",
     "text": [
      "D:\\Data\\Diploma\\generated//Validate_noAugModifiedFullBin//gt/unnamed.gif0_2CharMap.png\n",
      "D:\\Data\\Diploma\\generated//Validate_noAugModifiedFullBin//gt/unnamed.gif1_2CharMap.png\n",
      "\n"
     ]
    },
    {
     "name": "stderr",
     "output_type": "stream",
     "text": [
      "<ipython-input-26-4a25245fc9cb>:37: DeprecationWarning: `np.float` is a deprecated alias for the builtin `float`. To silence this warning, use `float` by itself. Doing this will not modify any behavior and is safe. If you specifically wanted the numpy scalar type, use `np.float64` here.\n",
      "Deprecated in NumPy 1.20; for more details and guidance: https://numpy.org/devdocs/release/1.20.0-notes.html#deprecations\n",
      "  result = np.zeros((height, width, len(start_list)), dtype=np.float)\n",
      "<ipython-input-125-f8ef12e38186>:16: TqdmDeprecationWarning: This function will be removed in tqdm==5.0.0\n",
      "Please use `tqdm.notebook.tqdm` instead of `tqdm.tqdm_notebook`\n",
      "  for i in tn(range(4)):\n"
     ]
    },
    {
     "data": {
      "application/vnd.jupyter.widget-view+json": {
       "model_id": "579f4b12f8224c19a7ae9eb4e787ab12",
       "version_major": 2,
       "version_minor": 0
      },
      "text/plain": [
       "HBox(children=(HTML(value=''), FloatProgress(value=0.0, max=4.0), HTML(value='')))"
      ]
     },
     "metadata": {},
     "output_type": "display_data"
    },
    {
     "name": "stderr",
     "output_type": "stream",
     "text": [
      "<ipython-input-27-bc886dcdcd16>:321: DeprecationWarning: `np.int` is a deprecated alias for the builtin `int`. To silence this warning, use `int` by itself. Doing this will not modify any behavior and is safe. When replacing `np.int`, you may wish to use e.g. `np.int64` or `np.int32` to specify the precision. If you wish to review your current use, check the release note link for additional information.\n",
      "Deprecated in NumPy 1.20; for more details and guidance: https://numpy.org/devdocs/release/1.20.0-notes.html#deprecations\n",
      "  rects = [np.array(wordCharRects, dtype=np.int)[np.newaxis, :, :,:] for wordCharRects in self.annotation[\"wordsCharactersRects\"]]\n"
     ]
    },
    {
     "name": "stdout",
     "output_type": "stream",
     "text": [
      "D:\\Data\\Diploma\\generated//Validate_noAugModifiedFullBin//gt/unnamed.gif0_3CharMap.png\n",
      "D:\\Data\\Diploma\\generated//Validate_noAugModifiedFullBin//gt/unnamed.gif1_3CharMap.png\n",
      "\n",
      "\n"
     ]
    },
    {
     "name": "stderr",
     "output_type": "stream",
     "text": [
      "<ipython-input-125-f8ef12e38186>:10: TqdmDeprecationWarning: This function will be removed in tqdm==5.0.0\n",
      "Please use `tqdm.notebook.tqdm` instead of `tqdm.tqdm_notebook`\n",
      "  for j in tn(range(4)):\n"
     ]
    },
    {
     "data": {
      "application/vnd.jupyter.widget-view+json": {
       "model_id": "80d947271f13437e8e9ca11f0a1328b7",
       "version_major": 2,
       "version_minor": 0
      },
      "text/plain": [
       "HBox(children=(HTML(value=''), FloatProgress(value=0.0, max=4.0), HTML(value='')))"
      ]
     },
     "metadata": {},
     "output_type": "display_data"
    },
    {
     "data": {
      "application/vnd.jupyter.widget-view+json": {
       "model_id": "60a7bb821e7c4b1c90e8397e4fb41332",
       "version_major": 2,
       "version_minor": 0
      },
      "text/plain": [
       "HBox(children=(HTML(value=''), FloatProgress(value=0.0, max=4.0), HTML(value='')))"
      ]
     },
     "metadata": {},
     "output_type": "display_data"
    },
    {
     "name": "stdout",
     "output_type": "stream",
     "text": [
      "D:\\Data\\Diploma\\generated//Validate_noAugModifiedFullBin//gt/unnamed.jpg0_0CharMap.png\n",
      "D:\\Data\\Diploma\\generated//Validate_noAugModifiedFullBin//gt/unnamed.jpg1_0CharMap.png\n",
      "\n"
     ]
    },
    {
     "data": {
      "application/vnd.jupyter.widget-view+json": {
       "model_id": "6209c15a0f72428c97852e1ff3d89115",
       "version_major": 2,
       "version_minor": 0
      },
      "text/plain": [
       "HBox(children=(HTML(value=''), FloatProgress(value=0.0, max=4.0), HTML(value='')))"
      ]
     },
     "metadata": {},
     "output_type": "display_data"
    },
    {
     "name": "stdout",
     "output_type": "stream",
     "text": [
      "D:\\Data\\Diploma\\generated//Validate_noAugModifiedFullBin//gt/unnamed.jpg0_1CharMap.png\n",
      "D:\\Data\\Diploma\\generated//Validate_noAugModifiedFullBin//gt/unnamed.jpg1_1CharMap.png\n",
      "\n"
     ]
    },
    {
     "name": "stderr",
     "output_type": "stream",
     "text": [
      "<ipython-input-26-4a25245fc9cb>:37: DeprecationWarning: `np.float` is a deprecated alias for the builtin `float`. To silence this warning, use `float` by itself. Doing this will not modify any behavior and is safe. If you specifically wanted the numpy scalar type, use `np.float64` here.\n",
      "Deprecated in NumPy 1.20; for more details and guidance: https://numpy.org/devdocs/release/1.20.0-notes.html#deprecations\n",
      "  result = np.zeros((height, width, len(start_list)), dtype=np.float)\n",
      "<ipython-input-125-f8ef12e38186>:16: TqdmDeprecationWarning: This function will be removed in tqdm==5.0.0\n",
      "Please use `tqdm.notebook.tqdm` instead of `tqdm.tqdm_notebook`\n",
      "  for i in tn(range(4)):\n"
     ]
    },
    {
     "data": {
      "application/vnd.jupyter.widget-view+json": {
       "model_id": "5db2eb032be241cabf1db17bc52db572",
       "version_major": 2,
       "version_minor": 0
      },
      "text/plain": [
       "HBox(children=(HTML(value=''), FloatProgress(value=0.0, max=4.0), HTML(value='')))"
      ]
     },
     "metadata": {},
     "output_type": "display_data"
    },
    {
     "name": "stderr",
     "output_type": "stream",
     "text": [
      "<ipython-input-27-bc886dcdcd16>:321: DeprecationWarning: `np.int` is a deprecated alias for the builtin `int`. To silence this warning, use `int` by itself. Doing this will not modify any behavior and is safe. When replacing `np.int`, you may wish to use e.g. `np.int64` or `np.int32` to specify the precision. If you wish to review your current use, check the release note link for additional information.\n",
      "Deprecated in NumPy 1.20; for more details and guidance: https://numpy.org/devdocs/release/1.20.0-notes.html#deprecations\n",
      "  rects = [np.array(wordCharRects, dtype=np.int)[np.newaxis, :, :,:] for wordCharRects in self.annotation[\"wordsCharactersRects\"]]\n"
     ]
    },
    {
     "name": "stdout",
     "output_type": "stream",
     "text": [
      "D:\\Data\\Diploma\\generated//Validate_noAugModifiedFullBin//gt/unnamed.jpg0_2CharMap.png\n",
      "D:\\Data\\Diploma\\generated//Validate_noAugModifiedFullBin//gt/unnamed.jpg1_2CharMap.png\n",
      "\n"
     ]
    },
    {
     "name": "stderr",
     "output_type": "stream",
     "text": [
      "<ipython-input-125-f8ef12e38186>:16: TqdmDeprecationWarning: This function will be removed in tqdm==5.0.0\n",
      "Please use `tqdm.notebook.tqdm` instead of `tqdm.tqdm_notebook`\n",
      "  for i in tn(range(4)):\n"
     ]
    },
    {
     "data": {
      "application/vnd.jupyter.widget-view+json": {
       "model_id": "f235f4fae69d42e6832974bf7c6ced8f",
       "version_major": 2,
       "version_minor": 0
      },
      "text/plain": [
       "HBox(children=(HTML(value=''), FloatProgress(value=0.0, max=4.0), HTML(value='')))"
      ]
     },
     "metadata": {},
     "output_type": "display_data"
    },
    {
     "name": "stderr",
     "output_type": "stream",
     "text": [
      "<ipython-input-27-bc886dcdcd16>:321: DeprecationWarning: `np.int` is a deprecated alias for the builtin `int`. To silence this warning, use `int` by itself. Doing this will not modify any behavior and is safe. When replacing `np.int`, you may wish to use e.g. `np.int64` or `np.int32` to specify the precision. If you wish to review your current use, check the release note link for additional information.\n",
      "Deprecated in NumPy 1.20; for more details and guidance: https://numpy.org/devdocs/release/1.20.0-notes.html#deprecations\n",
      "  rects = [np.array(wordCharRects, dtype=np.int)[np.newaxis, :, :,:] for wordCharRects in self.annotation[\"wordsCharactersRects\"]]\n"
     ]
    },
    {
     "name": "stdout",
     "output_type": "stream",
     "text": [
      "D:\\Data\\Diploma\\generated//Validate_noAugModifiedFullBin//gt/unnamed.jpg0_3CharMap.png\n",
      "D:\\Data\\Diploma\\generated//Validate_noAugModifiedFullBin//gt/unnamed.jpg1_3CharMap.png\n",
      "\n",
      "\n"
     ]
    },
    {
     "name": "stderr",
     "output_type": "stream",
     "text": [
      "<ipython-input-125-f8ef12e38186>:10: TqdmDeprecationWarning: This function will be removed in tqdm==5.0.0\n",
      "Please use `tqdm.notebook.tqdm` instead of `tqdm.tqdm_notebook`\n",
      "  for j in tn(range(4)):\n"
     ]
    },
    {
     "data": {
      "application/vnd.jupyter.widget-view+json": {
       "model_id": "074b1dd5b47a41ad8fec9be06f46e44e",
       "version_major": 2,
       "version_minor": 0
      },
      "text/plain": [
       "HBox(children=(HTML(value=''), FloatProgress(value=0.0, max=4.0), HTML(value='')))"
      ]
     },
     "metadata": {},
     "output_type": "display_data"
    },
    {
     "data": {
      "application/vnd.jupyter.widget-view+json": {
       "model_id": "94bffa94986243e5bd34836baaa08935",
       "version_major": 2,
       "version_minor": 0
      },
      "text/plain": [
       "HBox(children=(HTML(value=''), FloatProgress(value=0.0, max=4.0), HTML(value='')))"
      ]
     },
     "metadata": {},
     "output_type": "display_data"
    },
    {
     "name": "stdout",
     "output_type": "stream",
     "text": [
      "D:\\Data\\Diploma\\generated//Validate_noAugModifiedFullBin//gt/unnamed.png0_0CharMap.png\n",
      "D:\\Data\\Diploma\\generated//Validate_noAugModifiedFullBin//gt/unnamed.png1_0CharMap.png\n",
      "\n"
     ]
    },
    {
     "name": "stderr",
     "output_type": "stream",
     "text": [
      "<ipython-input-125-f8ef12e38186>:16: TqdmDeprecationWarning: This function will be removed in tqdm==5.0.0\n",
      "Please use `tqdm.notebook.tqdm` instead of `tqdm.tqdm_notebook`\n",
      "  for i in tn(range(4)):\n"
     ]
    },
    {
     "data": {
      "application/vnd.jupyter.widget-view+json": {
       "model_id": "c832df46c4984ed2adec84c704fe0b3d",
       "version_major": 2,
       "version_minor": 0
      },
      "text/plain": [
       "HBox(children=(HTML(value=''), FloatProgress(value=0.0, max=4.0), HTML(value='')))"
      ]
     },
     "metadata": {},
     "output_type": "display_data"
    },
    {
     "name": "stderr",
     "output_type": "stream",
     "text": [
      "<ipython-input-27-bc886dcdcd16>:321: DeprecationWarning: `np.int` is a deprecated alias for the builtin `int`. To silence this warning, use `int` by itself. Doing this will not modify any behavior and is safe. When replacing `np.int`, you may wish to use e.g. `np.int64` or `np.int32` to specify the precision. If you wish to review your current use, check the release note link for additional information.\n",
      "Deprecated in NumPy 1.20; for more details and guidance: https://numpy.org/devdocs/release/1.20.0-notes.html#deprecations\n",
      "  rects = [np.array(wordCharRects, dtype=np.int)[np.newaxis, :, :,:] for wordCharRects in self.annotation[\"wordsCharactersRects\"]]\n"
     ]
    },
    {
     "name": "stdout",
     "output_type": "stream",
     "text": [
      "D:\\Data\\Diploma\\generated//Validate_noAugModifiedFullBin//gt/unnamed.png0_1CharMap.png\n",
      "D:\\Data\\Diploma\\generated//Validate_noAugModifiedFullBin//gt/unnamed.png1_1CharMap.png\n",
      "\n"
     ]
    },
    {
     "name": "stderr",
     "output_type": "stream",
     "text": [
      "<ipython-input-26-4a25245fc9cb>:37: DeprecationWarning: `np.float` is a deprecated alias for the builtin `float`. To silence this warning, use `float` by itself. Doing this will not modify any behavior and is safe. If you specifically wanted the numpy scalar type, use `np.float64` here.\n",
      "Deprecated in NumPy 1.20; for more details and guidance: https://numpy.org/devdocs/release/1.20.0-notes.html#deprecations\n",
      "  result = np.zeros((height, width, len(start_list)), dtype=np.float)\n",
      "<ipython-input-125-f8ef12e38186>:16: TqdmDeprecationWarning: This function will be removed in tqdm==5.0.0\n",
      "Please use `tqdm.notebook.tqdm` instead of `tqdm.tqdm_notebook`\n",
      "  for i in tn(range(4)):\n"
     ]
    },
    {
     "data": {
      "application/vnd.jupyter.widget-view+json": {
       "model_id": "2772aa43b36d42aaad128a80ec1c5ec7",
       "version_major": 2,
       "version_minor": 0
      },
      "text/plain": [
       "HBox(children=(HTML(value=''), FloatProgress(value=0.0, max=4.0), HTML(value='')))"
      ]
     },
     "metadata": {},
     "output_type": "display_data"
    },
    {
     "name": "stderr",
     "output_type": "stream",
     "text": [
      "<ipython-input-27-bc886dcdcd16>:321: DeprecationWarning: `np.int` is a deprecated alias for the builtin `int`. To silence this warning, use `int` by itself. Doing this will not modify any behavior and is safe. When replacing `np.int`, you may wish to use e.g. `np.int64` or `np.int32` to specify the precision. If you wish to review your current use, check the release note link for additional information.\n",
      "Deprecated in NumPy 1.20; for more details and guidance: https://numpy.org/devdocs/release/1.20.0-notes.html#deprecations\n",
      "  rects = [np.array(wordCharRects, dtype=np.int)[np.newaxis, :, :,:] for wordCharRects in self.annotation[\"wordsCharactersRects\"]]\n"
     ]
    },
    {
     "name": "stdout",
     "output_type": "stream",
     "text": [
      "D:\\Data\\Diploma\\generated//Validate_noAugModifiedFullBin//gt/unnamed.png0_2CharMap.png\n",
      "D:\\Data\\Diploma\\generated//Validate_noAugModifiedFullBin//gt/unnamed.png1_2CharMap.png\n",
      "\n"
     ]
    },
    {
     "data": {
      "application/vnd.jupyter.widget-view+json": {
       "model_id": "eb9bf8cc6aa7473d92bf8d5369a4883f",
       "version_major": 2,
       "version_minor": 0
      },
      "text/plain": [
       "HBox(children=(HTML(value=''), FloatProgress(value=0.0, max=4.0), HTML(value='')))"
      ]
     },
     "metadata": {},
     "output_type": "display_data"
    },
    {
     "name": "stdout",
     "output_type": "stream",
     "text": [
      "D:\\Data\\Diploma\\generated//Validate_noAugModifiedFullBin//gt/unnamed.png0_3CharMap.png\n",
      "D:\\Data\\Diploma\\generated//Validate_noAugModifiedFullBin//gt/unnamed.png1_3CharMap.png\n",
      "\n",
      "\n"
     ]
    },
    {
     "name": "stderr",
     "output_type": "stream",
     "text": [
      "<ipython-input-125-f8ef12e38186>:10: TqdmDeprecationWarning: This function will be removed in tqdm==5.0.0\n",
      "Please use `tqdm.notebook.tqdm` instead of `tqdm.tqdm_notebook`\n",
      "  for j in tn(range(4)):\n"
     ]
    },
    {
     "data": {
      "application/vnd.jupyter.widget-view+json": {
       "model_id": "0e11a0fc0da241129f8863d48dade158",
       "version_major": 2,
       "version_minor": 0
      },
      "text/plain": [
       "HBox(children=(HTML(value=''), FloatProgress(value=0.0, max=4.0), HTML(value='')))"
      ]
     },
     "metadata": {},
     "output_type": "display_data"
    },
    {
     "name": "stderr",
     "output_type": "stream",
     "text": [
      "<ipython-input-26-4a25245fc9cb>:37: DeprecationWarning: `np.float` is a deprecated alias for the builtin `float`. To silence this warning, use `float` by itself. Doing this will not modify any behavior and is safe. If you specifically wanted the numpy scalar type, use `np.float64` here.\n",
      "Deprecated in NumPy 1.20; for more details and guidance: https://numpy.org/devdocs/release/1.20.0-notes.html#deprecations\n",
      "  result = np.zeros((height, width, len(start_list)), dtype=np.float)\n",
      "<ipython-input-125-f8ef12e38186>:16: TqdmDeprecationWarning: This function will be removed in tqdm==5.0.0\n",
      "Please use `tqdm.notebook.tqdm` instead of `tqdm.tqdm_notebook`\n",
      "  for i in tn(range(4)):\n"
     ]
    },
    {
     "data": {
      "application/vnd.jupyter.widget-view+json": {
       "model_id": "7c5663f31a27496ca5812e32f54b51f9",
       "version_major": 2,
       "version_minor": 0
      },
      "text/plain": [
       "HBox(children=(HTML(value=''), FloatProgress(value=0.0, max=4.0), HTML(value='')))"
      ]
     },
     "metadata": {},
     "output_type": "display_data"
    },
    {
     "name": "stderr",
     "output_type": "stream",
     "text": [
      "<ipython-input-27-bc886dcdcd16>:321: DeprecationWarning: `np.int` is a deprecated alias for the builtin `int`. To silence this warning, use `int` by itself. Doing this will not modify any behavior and is safe. When replacing `np.int`, you may wish to use e.g. `np.int64` or `np.int32` to specify the precision. If you wish to review your current use, check the release note link for additional information.\n",
      "Deprecated in NumPy 1.20; for more details and guidance: https://numpy.org/devdocs/release/1.20.0-notes.html#deprecations\n",
      "  rects = [np.array(wordCharRects, dtype=np.int)[np.newaxis, :, :,:] for wordCharRects in self.annotation[\"wordsCharactersRects\"]]\n"
     ]
    },
    {
     "name": "stdout",
     "output_type": "stream",
     "text": [
      "D:\\Data\\Diploma\\generated//Validate_noAugModifiedFullBin//gt/Untitled.png0_0CharMap.png\n",
      "D:\\Data\\Diploma\\generated//Validate_noAugModifiedFullBin//gt/Untitled.png1_0CharMap.png\n",
      "\n"
     ]
    },
    {
     "data": {
      "application/vnd.jupyter.widget-view+json": {
       "model_id": "ae15fa9c0403464a8e93b29486767f01",
       "version_major": 2,
       "version_minor": 0
      },
      "text/plain": [
       "HBox(children=(HTML(value=''), FloatProgress(value=0.0, max=4.0), HTML(value='')))"
      ]
     },
     "metadata": {},
     "output_type": "display_data"
    },
    {
     "name": "stdout",
     "output_type": "stream",
     "text": [
      "D:\\Data\\Diploma\\generated//Validate_noAugModifiedFullBin//gt/Untitled.png0_1CharMap.png\n",
      "D:\\Data\\Diploma\\generated//Validate_noAugModifiedFullBin//gt/Untitled.png1_1CharMap.png\n",
      "\n"
     ]
    },
    {
     "data": {
      "application/vnd.jupyter.widget-view+json": {
       "model_id": "ed61e20c221c49efb7d383e160884118",
       "version_major": 2,
       "version_minor": 0
      },
      "text/plain": [
       "HBox(children=(HTML(value=''), FloatProgress(value=0.0, max=4.0), HTML(value='')))"
      ]
     },
     "metadata": {},
     "output_type": "display_data"
    },
    {
     "name": "stdout",
     "output_type": "stream",
     "text": [
      "D:\\Data\\Diploma\\generated//Validate_noAugModifiedFullBin//gt/Untitled.png0_2CharMap.png\n",
      "D:\\Data\\Diploma\\generated//Validate_noAugModifiedFullBin//gt/Untitled.png1_2CharMap.png\n",
      "\n"
     ]
    },
    {
     "name": "stderr",
     "output_type": "stream",
     "text": [
      "<ipython-input-125-f8ef12e38186>:16: TqdmDeprecationWarning: This function will be removed in tqdm==5.0.0\n",
      "Please use `tqdm.notebook.tqdm` instead of `tqdm.tqdm_notebook`\n",
      "  for i in tn(range(4)):\n"
     ]
    },
    {
     "data": {
      "application/vnd.jupyter.widget-view+json": {
       "model_id": "d4c7cc3883ed4100aec08b5d2a17455d",
       "version_major": 2,
       "version_minor": 0
      },
      "text/plain": [
       "HBox(children=(HTML(value=''), FloatProgress(value=0.0, max=4.0), HTML(value='')))"
      ]
     },
     "metadata": {},
     "output_type": "display_data"
    },
    {
     "name": "stderr",
     "output_type": "stream",
     "text": [
      "<ipython-input-27-bc886dcdcd16>:321: DeprecationWarning: `np.int` is a deprecated alias for the builtin `int`. To silence this warning, use `int` by itself. Doing this will not modify any behavior and is safe. When replacing `np.int`, you may wish to use e.g. `np.int64` or `np.int32` to specify the precision. If you wish to review your current use, check the release note link for additional information.\n",
      "Deprecated in NumPy 1.20; for more details and guidance: https://numpy.org/devdocs/release/1.20.0-notes.html#deprecations\n",
      "  rects = [np.array(wordCharRects, dtype=np.int)[np.newaxis, :, :,:] for wordCharRects in self.annotation[\"wordsCharactersRects\"]]\n"
     ]
    },
    {
     "name": "stdout",
     "output_type": "stream",
     "text": [
      "D:\\Data\\Diploma\\generated//Validate_noAugModifiedFullBin//gt/Untitled.png0_3CharMap.png\n",
      "D:\\Data\\Diploma\\generated//Validate_noAugModifiedFullBin//gt/Untitled.png1_3CharMap.png\n",
      "\n",
      "\n"
     ]
    },
    {
     "name": "stderr",
     "output_type": "stream",
     "text": [
      "<ipython-input-125-f8ef12e38186>:10: TqdmDeprecationWarning: This function will be removed in tqdm==5.0.0\n",
      "Please use `tqdm.notebook.tqdm` instead of `tqdm.tqdm_notebook`\n",
      "  for j in tn(range(4)):\n"
     ]
    },
    {
     "data": {
      "application/vnd.jupyter.widget-view+json": {
       "model_id": "1bf95c2d37504a20895aa64a328b3e90",
       "version_major": 2,
       "version_minor": 0
      },
      "text/plain": [
       "HBox(children=(HTML(value=''), FloatProgress(value=0.0, max=4.0), HTML(value='')))"
      ]
     },
     "metadata": {},
     "output_type": "display_data"
    },
    {
     "name": "stderr",
     "output_type": "stream",
     "text": [
      "<ipython-input-26-4a25245fc9cb>:37: DeprecationWarning: `np.float` is a deprecated alias for the builtin `float`. To silence this warning, use `float` by itself. Doing this will not modify any behavior and is safe. If you specifically wanted the numpy scalar type, use `np.float64` here.\n",
      "Deprecated in NumPy 1.20; for more details and guidance: https://numpy.org/devdocs/release/1.20.0-notes.html#deprecations\n",
      "  result = np.zeros((height, width, len(start_list)), dtype=np.float)\n",
      "<ipython-input-125-f8ef12e38186>:16: TqdmDeprecationWarning: This function will be removed in tqdm==5.0.0\n",
      "Please use `tqdm.notebook.tqdm` instead of `tqdm.tqdm_notebook`\n",
      "  for i in tn(range(4)):\n"
     ]
    },
    {
     "data": {
      "application/vnd.jupyter.widget-view+json": {
       "model_id": "6e93358a9ff04362bd2d2e65fb1a22c0",
       "version_major": 2,
       "version_minor": 0
      },
      "text/plain": [
       "HBox(children=(HTML(value=''), FloatProgress(value=0.0, max=4.0), HTML(value='')))"
      ]
     },
     "metadata": {},
     "output_type": "display_data"
    },
    {
     "name": "stderr",
     "output_type": "stream",
     "text": [
      "<ipython-input-27-bc886dcdcd16>:321: DeprecationWarning: `np.int` is a deprecated alias for the builtin `int`. To silence this warning, use `int` by itself. Doing this will not modify any behavior and is safe. When replacing `np.int`, you may wish to use e.g. `np.int64` or `np.int32` to specify the precision. If you wish to review your current use, check the release note link for additional information.\n",
      "Deprecated in NumPy 1.20; for more details and guidance: https://numpy.org/devdocs/release/1.20.0-notes.html#deprecations\n",
      "  rects = [np.array(wordCharRects, dtype=np.int)[np.newaxis, :, :,:] for wordCharRects in self.annotation[\"wordsCharactersRects\"]]\n"
     ]
    },
    {
     "name": "stdout",
     "output_type": "stream",
     "text": [
      "D:\\Data\\Diploma\\generated//Validate_noAugModifiedFullBin//gt/Vector-Illustration-of-Abstract-Waves-Design-Background_thumb.jpg0_0CharMap.png\n",
      "D:\\Data\\Diploma\\generated//Validate_noAugModifiedFullBin//gt/Vector-Illustration-of-Abstract-Waves-Design-Background_thumb.jpg1_0CharMap.png\n",
      "\n"
     ]
    },
    {
     "name": "stderr",
     "output_type": "stream",
     "text": [
      "<ipython-input-26-4a25245fc9cb>:37: DeprecationWarning: `np.float` is a deprecated alias for the builtin `float`. To silence this warning, use `float` by itself. Doing this will not modify any behavior and is safe. If you specifically wanted the numpy scalar type, use `np.float64` here.\n",
      "Deprecated in NumPy 1.20; for more details and guidance: https://numpy.org/devdocs/release/1.20.0-notes.html#deprecations\n",
      "  result = np.zeros((height, width, len(start_list)), dtype=np.float)\n",
      "<ipython-input-125-f8ef12e38186>:16: TqdmDeprecationWarning: This function will be removed in tqdm==5.0.0\n",
      "Please use `tqdm.notebook.tqdm` instead of `tqdm.tqdm_notebook`\n",
      "  for i in tn(range(4)):\n"
     ]
    },
    {
     "data": {
      "application/vnd.jupyter.widget-view+json": {
       "model_id": "6e6b2bfb6af2420786624c7c53eca6e9",
       "version_major": 2,
       "version_minor": 0
      },
      "text/plain": [
       "HBox(children=(HTML(value=''), FloatProgress(value=0.0, max=4.0), HTML(value='')))"
      ]
     },
     "metadata": {},
     "output_type": "display_data"
    },
    {
     "name": "stderr",
     "output_type": "stream",
     "text": [
      "<ipython-input-27-bc886dcdcd16>:321: DeprecationWarning: `np.int` is a deprecated alias for the builtin `int`. To silence this warning, use `int` by itself. Doing this will not modify any behavior and is safe. When replacing `np.int`, you may wish to use e.g. `np.int64` or `np.int32` to specify the precision. If you wish to review your current use, check the release note link for additional information.\n",
      "Deprecated in NumPy 1.20; for more details and guidance: https://numpy.org/devdocs/release/1.20.0-notes.html#deprecations\n",
      "  rects = [np.array(wordCharRects, dtype=np.int)[np.newaxis, :, :,:] for wordCharRects in self.annotation[\"wordsCharactersRects\"]]\n"
     ]
    },
    {
     "name": "stdout",
     "output_type": "stream",
     "text": [
      "D:\\Data\\Diploma\\generated//Validate_noAugModifiedFullBin//gt/Vector-Illustration-of-Abstract-Waves-Design-Background_thumb.jpg0_1CharMap.png\n",
      "D:\\Data\\Diploma\\generated//Validate_noAugModifiedFullBin//gt/Vector-Illustration-of-Abstract-Waves-Design-Background_thumb.jpg1_1CharMap.png\n",
      "\n"
     ]
    },
    {
     "name": "stderr",
     "output_type": "stream",
     "text": [
      "<ipython-input-26-4a25245fc9cb>:37: DeprecationWarning: `np.float` is a deprecated alias for the builtin `float`. To silence this warning, use `float` by itself. Doing this will not modify any behavior and is safe. If you specifically wanted the numpy scalar type, use `np.float64` here.\n",
      "Deprecated in NumPy 1.20; for more details and guidance: https://numpy.org/devdocs/release/1.20.0-notes.html#deprecations\n",
      "  result = np.zeros((height, width, len(start_list)), dtype=np.float)\n",
      "<ipython-input-125-f8ef12e38186>:16: TqdmDeprecationWarning: This function will be removed in tqdm==5.0.0\n",
      "Please use `tqdm.notebook.tqdm` instead of `tqdm.tqdm_notebook`\n",
      "  for i in tn(range(4)):\n"
     ]
    },
    {
     "data": {
      "application/vnd.jupyter.widget-view+json": {
       "model_id": "85b95930fc84478b95750b0b8baf9dc6",
       "version_major": 2,
       "version_minor": 0
      },
      "text/plain": [
       "HBox(children=(HTML(value=''), FloatProgress(value=0.0, max=4.0), HTML(value='')))"
      ]
     },
     "metadata": {},
     "output_type": "display_data"
    },
    {
     "name": "stderr",
     "output_type": "stream",
     "text": [
      "<ipython-input-27-bc886dcdcd16>:321: DeprecationWarning: `np.int` is a deprecated alias for the builtin `int`. To silence this warning, use `int` by itself. Doing this will not modify any behavior and is safe. When replacing `np.int`, you may wish to use e.g. `np.int64` or `np.int32` to specify the precision. If you wish to review your current use, check the release note link for additional information.\n",
      "Deprecated in NumPy 1.20; for more details and guidance: https://numpy.org/devdocs/release/1.20.0-notes.html#deprecations\n",
      "  rects = [np.array(wordCharRects, dtype=np.int)[np.newaxis, :, :,:] for wordCharRects in self.annotation[\"wordsCharactersRects\"]]\n"
     ]
    },
    {
     "name": "stdout",
     "output_type": "stream",
     "text": [
      "D:\\Data\\Diploma\\generated//Validate_noAugModifiedFullBin//gt/Vector-Illustration-of-Abstract-Waves-Design-Background_thumb.jpg0_2CharMap.png\n",
      "D:\\Data\\Diploma\\generated//Validate_noAugModifiedFullBin//gt/Vector-Illustration-of-Abstract-Waves-Design-Background_thumb.jpg1_2CharMap.png\n",
      "\n"
     ]
    },
    {
     "data": {
      "application/vnd.jupyter.widget-view+json": {
       "model_id": "d5c0085aba6240c394f2a642de61d1c8",
       "version_major": 2,
       "version_minor": 0
      },
      "text/plain": [
       "HBox(children=(HTML(value=''), FloatProgress(value=0.0, max=4.0), HTML(value='')))"
      ]
     },
     "metadata": {},
     "output_type": "display_data"
    },
    {
     "name": "stdout",
     "output_type": "stream",
     "text": [
      "D:\\Data\\Diploma\\generated//Validate_noAugModifiedFullBin//gt/Vector-Illustration-of-Abstract-Waves-Design-Background_thumb.jpg0_3CharMap.png\n",
      "D:\\Data\\Diploma\\generated//Validate_noAugModifiedFullBin//gt/Vector-Illustration-of-Abstract-Waves-Design-Background_thumb.jpg1_3CharMap.png\n",
      "\n",
      "\n"
     ]
    },
    {
     "name": "stderr",
     "output_type": "stream",
     "text": [
      "<ipython-input-125-f8ef12e38186>:10: TqdmDeprecationWarning: This function will be removed in tqdm==5.0.0\n",
      "Please use `tqdm.notebook.tqdm` instead of `tqdm.tqdm_notebook`\n",
      "  for j in tn(range(4)):\n"
     ]
    },
    {
     "data": {
      "application/vnd.jupyter.widget-view+json": {
       "model_id": "dd58dd8a75af4821ae9c8b422d5fe154",
       "version_major": 2,
       "version_minor": 0
      },
      "text/plain": [
       "HBox(children=(HTML(value=''), FloatProgress(value=0.0, max=4.0), HTML(value='')))"
      ]
     },
     "metadata": {},
     "output_type": "display_data"
    },
    {
     "data": {
      "application/vnd.jupyter.widget-view+json": {
       "model_id": "eeb9bcdcb1eb4b99880760a099fa3309",
       "version_major": 2,
       "version_minor": 0
      },
      "text/plain": [
       "HBox(children=(HTML(value=''), FloatProgress(value=0.0, max=4.0), HTML(value='')))"
      ]
     },
     "metadata": {},
     "output_type": "display_data"
    },
    {
     "name": "stdout",
     "output_type": "stream",
     "text": [
      "D:\\Data\\Diploma\\generated//Validate_noAugModifiedFullBin//gt/vector-tech-background-card-prev1-by-dragonart.png0_0CharMap.png\n",
      "D:\\Data\\Diploma\\generated//Validate_noAugModifiedFullBin//gt/vector-tech-background-card-prev1-by-dragonart.png1_0CharMap.png\n",
      "\n"
     ]
    },
    {
     "data": {
      "application/vnd.jupyter.widget-view+json": {
       "model_id": "1d233cd5e39f440f98b94aceb5dff797",
       "version_major": 2,
       "version_minor": 0
      },
      "text/plain": [
       "HBox(children=(HTML(value=''), FloatProgress(value=0.0, max=4.0), HTML(value='')))"
      ]
     },
     "metadata": {},
     "output_type": "display_data"
    },
    {
     "name": "stdout",
     "output_type": "stream",
     "text": [
      "D:\\Data\\Diploma\\generated//Validate_noAugModifiedFullBin//gt/vector-tech-background-card-prev1-by-dragonart.png0_1CharMap.png\n",
      "D:\\Data\\Diploma\\generated//Validate_noAugModifiedFullBin//gt/vector-tech-background-card-prev1-by-dragonart.png1_1CharMap.png\n",
      "\n"
     ]
    },
    {
     "name": "stderr",
     "output_type": "stream",
     "text": [
      "<ipython-input-26-4a25245fc9cb>:37: DeprecationWarning: `np.float` is a deprecated alias for the builtin `float`. To silence this warning, use `float` by itself. Doing this will not modify any behavior and is safe. If you specifically wanted the numpy scalar type, use `np.float64` here.\n",
      "Deprecated in NumPy 1.20; for more details and guidance: https://numpy.org/devdocs/release/1.20.0-notes.html#deprecations\n",
      "  result = np.zeros((height, width, len(start_list)), dtype=np.float)\n",
      "<ipython-input-125-f8ef12e38186>:16: TqdmDeprecationWarning: This function will be removed in tqdm==5.0.0\n",
      "Please use `tqdm.notebook.tqdm` instead of `tqdm.tqdm_notebook`\n",
      "  for i in tn(range(4)):\n"
     ]
    },
    {
     "data": {
      "application/vnd.jupyter.widget-view+json": {
       "model_id": "f93b5823151c4a8da2773b1a51e892b2",
       "version_major": 2,
       "version_minor": 0
      },
      "text/plain": [
       "HBox(children=(HTML(value=''), FloatProgress(value=0.0, max=4.0), HTML(value='')))"
      ]
     },
     "metadata": {},
     "output_type": "display_data"
    },
    {
     "name": "stderr",
     "output_type": "stream",
     "text": [
      "<ipython-input-27-bc886dcdcd16>:321: DeprecationWarning: `np.int` is a deprecated alias for the builtin `int`. To silence this warning, use `int` by itself. Doing this will not modify any behavior and is safe. When replacing `np.int`, you may wish to use e.g. `np.int64` or `np.int32` to specify the precision. If you wish to review your current use, check the release note link for additional information.\n",
      "Deprecated in NumPy 1.20; for more details and guidance: https://numpy.org/devdocs/release/1.20.0-notes.html#deprecations\n",
      "  rects = [np.array(wordCharRects, dtype=np.int)[np.newaxis, :, :,:] for wordCharRects in self.annotation[\"wordsCharactersRects\"]]\n"
     ]
    },
    {
     "name": "stdout",
     "output_type": "stream",
     "text": [
      "D:\\Data\\Diploma\\generated//Validate_noAugModifiedFullBin//gt/vector-tech-background-card-prev1-by-dragonart.png0_2CharMap.png\n",
      "D:\\Data\\Diploma\\generated//Validate_noAugModifiedFullBin//gt/vector-tech-background-card-prev1-by-dragonart.png1_2CharMap.png\n",
      "\n"
     ]
    },
    {
     "data": {
      "application/vnd.jupyter.widget-view+json": {
       "model_id": "c6941fab021a4b77b07ce4334cf83cae",
       "version_major": 2,
       "version_minor": 0
      },
      "text/plain": [
       "HBox(children=(HTML(value=''), FloatProgress(value=0.0, max=4.0), HTML(value='')))"
      ]
     },
     "metadata": {},
     "output_type": "display_data"
    },
    {
     "name": "stdout",
     "output_type": "stream",
     "text": [
      "D:\\Data\\Diploma\\generated//Validate_noAugModifiedFullBin//gt/vector-tech-background-card-prev1-by-dragonart.png0_3CharMap.png\n",
      "D:\\Data\\Diploma\\generated//Validate_noAugModifiedFullBin//gt/vector-tech-background-card-prev1-by-dragonart.png1_3CharMap.png\n",
      "\n",
      "\n",
      "\n"
     ]
    }
   ],
   "source": [
    "os.makedirs(pathToGenerated, exist_ok=True)\n",
    "os.makedirs(pathToGT, exist_ok=True)\n",
    "imgCount = 0\n",
    "\n",
    "dataList = []\n",
    "for file in tn(os.listdir(pathToBackGrounds)):\n",
    "#     if file != \"depositphotos_52491899-stock-illustration-guilloche-background.jpg\":\n",
    "#         continue\n",
    "\n",
    "    for j in tn(range(4)):\n",
    "        image = Image.open(os.path.join(pathToBackGrounds, file))\n",
    "        imageTextGenerator = OneImageTextGenerator(image)\n",
    "\n",
    "        imageTextGenerator.generate()\n",
    "\n",
    "        for i in tn(range(4)):\n",
    "            if i > 1:\n",
    "                break\n",
    "            imd = ImageDistorter(imageTextGenerator.image2, imageTextGenerator.textImage, imageTextGenerator.annotation, image)\n",
    "            imd.process()\n",
    "            distortedImage = imd.image\n",
    "            textImage = imd.textImage\n",
    "            name =  file + str(i) + \"_\"+ str(j)\n",
    "            name = name.encode(\"ascii\", \"ignore\").decode()\n",
    "            distoredImageName = \"/\"+ name +\".png\"\n",
    "            gtName = \"/\"+ name + \".png\"\n",
    "            charMapName = \"/\"+ name + \"CharMap.png\"\n",
    "            distortedImage.save(pathToGenerated + distoredImageName)\n",
    "            #textImage.save(pathToGT + gtName)\n",
    "            #plt.imshow(imd.characterMap)\n",
    "            #plt.show()\n",
    "            im = np.array(textImage)\n",
    "            if len(im.shape) == 3:\n",
    "                im = np.array(textImage)\n",
    "                im = im[:,:,0]\n",
    "                if np.max(im) == 1:\n",
    "                    im = im * 255\n",
    "                #im = (1-im)*255\n",
    "            zeroCount = np.sum(im==0)\n",
    "            nonZeroCount = np.sum(im == 255)\n",
    "            if zeroCount > nonZeroCount:\n",
    "                im = 255 - im\n",
    "            \n",
    "            im[im<255] = 0\n",
    "            assert(np.sum(im==0) < np.sum(im==255))\n",
    "            cv2.imwrite(pathToGT + gtName , np.array(im,dtype=np.uint8))\n",
    "            \n",
    "            cv2.imwrite(pathToGT + charMapName ,imd.characterMap)\n",
    "            with open(pathToGT + \"/\"+ name+ \".json\", mode=\"w\") as f:\n",
    "                json.dump(imageTextGenerator.annotation, f)\n",
    "            metadata = dict()\n",
    "            metadata[\"distortedImage\"] = \"generated\" + distoredImageName\n",
    "            metadata[\"gtImage\"] = \"gt\" + gtName\n",
    "            metadata[\"characterMap\"] = \"gt\" + charMapName\n",
    "            metadata[\"annotation\"] = \"gt/\" + name +\".json\"\n",
    "            dataList.append(metadata)\n",
    "            print(pathToGT + \"/\"+ name + \"CharMap.png\")\n",
    "            assert(os.path.exists(pathToGT + \"/\"+ name + \"CharMap.png\"))\n",
    "\n",
    "            imgCount += 1\n",
    "            #break\n",
    "        if imgCount > 10000:\n",
    "            break\n",
    "        #break \n",
    "    #break\n",
    "with open(pathToOutDir + \"dataList.txt\", mode=\"w\",) as f:\n",
    "    json.dump(dataList, f)\n",
    "        \n",
    "    \n",
    "# plt.figure(figsize=(50,50))\n",
    "# plt.imshow(np.array(imageTextGenerator.image2))\n",
    "\n",
    "\n",
    "# plt.figure(figsize=(50,50))\n",
    "\n",
    "# plt.imshow(imd.image)"
   ]
  },
  {
   "cell_type": "code",
   "execution_count": null,
   "metadata": {},
   "outputs": [],
   "source": [
    "fdfds"
   ]
  },
  {
   "cell_type": "code",
   "execution_count": 119,
   "metadata": {},
   "outputs": [
    {
     "data": {
      "image/png": "[encoded data removed]",
      "text/plain": [
       "<PIL.Image.Image image mode=RGB size=1116x717 at 0x1C4071592B0>"
      ]
     },
     "execution_count": 119,
     "metadata": {},
     "output_type": "execute_result"
    }
   ],
   "source": [
    "textImage"
   ]
  },
  {
   "cell_type": "code",
   "execution_count": 110,
   "metadata": {},
   "outputs": [],
   "source": [
    "im = np.array(textImage)\n",
    "im = (1-im)*255\n",
    "im[im<255] = 0"
   ]
  },
  {
   "cell_type": "code",
   "execution_count": 101,
   "metadata": {},
   "outputs": [
    {
     "data": {
      "text/plain": [
       "0"
      ]
     },
     "execution_count": 101,
     "metadata": {},
     "output_type": "execute_result"
    }
   ],
   "source": [
    "np.sum(im == 255)"
   ]
  },
  {
   "cell_type": "code",
   "execution_count": 120,
   "metadata": {},
   "outputs": [
    {
     "data": {
      "image/png": "[encoded data removed]",
      "text/plain": [
       "<PIL.Image.Image image mode=RGB size=1116x717 at 0x1C43D9C0E20>"
      ]
     },
     "execution_count": 120,
     "metadata": {},
     "output_type": "execute_result"
    }
   ],
   "source": [
    "\n",
    "Image.fromarray(im)"
   ]
  },
  {
   "cell_type": "code",
   "execution_count": 91,
   "metadata": {},
   "outputs": [
    {
     "name": "stderr",
     "output_type": "stream",
     "text": [
      "<ipython-input-91-362350d222a9>:2: UserWarning: Matplotlib is currently using agg, which is a non-GUI backend, so cannot show the figure.\n",
      "  plt.show()\n"
     ]
    }
   ],
   "source": [
    "plt.imshow(im)\n",
    "plt.show()"
   ]
  },
  {
   "cell_type": "code",
   "execution_count": 92,
   "metadata": {},
   "outputs": [
    {
     "data": {
      "image/png": "[encoded data removed]",
      "text/plain": [
       "<PIL.Image.Image image mode=L size=1116x865 at 0x1C4753FFA00>"
      ]
     },
     "execution_count": 92,
     "metadata": {},
     "output_type": "execute_result"
    }
   ],
   "source": []
  },
  {
   "cell_type": "code",
   "execution_count": 69,
   "metadata": {},
   "outputs": [
    {
     "data": {
      "text/plain": [
       "True"
      ]
     },
     "execution_count": 69,
     "metadata": {},
     "output_type": "execute_result"
    }
   ],
   "source": [
    "cv2.imwrite(pathToGT + gtName , np.array(np.array(textImage)[:,:,2] < 250,dtype=np.uint8))"
   ]
  },
  {
   "cell_type": "code",
   "execution_count": null,
   "metadata": {},
   "outputs": [],
   "source": []
  },
  {
   "cell_type": "code",
   "execution_count": 32,
   "metadata": {},
   "outputs": [
    {
     "data": {
      "text/plain": [
       "<matplotlib.image.AxesImage at 0x1c4741527c0>"
      ]
     },
     "execution_count": 32,
     "metadata": {},
     "output_type": "execute_result"
    }
   ],
   "source": [
    "plt.imshow(np.array(textImage))"
   ]
  },
  {
   "cell_type": "code",
   "execution_count": 34,
   "metadata": {},
   "outputs": [],
   "source": [
    "im = np.array(np.max(np.array(textImage) > 0, axis=-1),dtype=np.uint8)"
   ]
  },
  {
   "cell_type": "code",
   "execution_count": 35,
   "metadata": {},
   "outputs": [
    {
     "data": {
      "text/plain": [
       "dtype('uint8')"
      ]
     },
     "execution_count": 35,
     "metadata": {},
     "output_type": "execute_result"
    }
   ],
   "source": [
    "im.dtype"
   ]
  },
  {
   "cell_type": "code",
   "execution_count": 36,
   "metadata": {},
   "outputs": [
    {
     "data": {
      "text/plain": [
       "(571, 1116)"
      ]
     },
     "execution_count": 36,
     "metadata": {},
     "output_type": "execute_result"
    }
   ],
   "source": [
    "im.shape"
   ]
  },
  {
   "cell_type": "code",
   "execution_count": 37,
   "metadata": {},
   "outputs": [
    {
     "name": "stderr",
     "output_type": "stream",
     "text": [
      "<ipython-input-37-362350d222a9>:2: UserWarning: Matplotlib is currently using agg, which is a non-GUI backend, so cannot show the figure.\n",
      "  plt.show()\n"
     ]
    }
   ],
   "source": [
    "plt.imshow(im)\n",
    "plt.show()"
   ]
  },
  {
   "cell_type": "code",
   "execution_count": null,
   "metadata": {},
   "outputs": [],
   "source": []
  },
  {
   "cell_type": "code",
   "execution_count": 38,
   "metadata": {},
   "outputs": [
    {
     "data": {
      "image/png": "[encoded data removed]",
      "text/plain": [
       "<PIL.Image.Image image mode=1 size=1116x571 at 0x1C4741A6040>"
      ]
     },
     "execution_count": 38,
     "metadata": {},
     "output_type": "execute_result"
    }
   ],
   "source": [
    "textImage.convert(\"1\")"
   ]
  },
  {
   "cell_type": "code",
   "execution_count": 39,
   "metadata": {},
   "outputs": [
    {
     "data": {
      "text/plain": [
       "(571, 1116, 3)"
      ]
     },
     "execution_count": 39,
     "metadata": {},
     "output_type": "execute_result"
    }
   ],
   "source": [
    "np.array(np.array(textImage) > 0, dtype=np.int8).shape"
   ]
  },
  {
   "cell_type": "code",
   "execution_count": 40,
   "metadata": {},
   "outputs": [
    {
     "ename": "TypeError",
     "evalue": "imshow() missing 1 required positional argument: 'X'",
     "output_type": "error",
     "traceback": [
      "\u001b[1;31m---------------------------------------------------------------------------\u001b[0m",
      "\u001b[1;31mTypeError\u001b[0m                                 Traceback (most recent call last)",
      "\u001b[1;32m<ipython-input-40-e2a04aff946b>\u001b[0m in \u001b[0;36m<module>\u001b[1;34m\u001b[0m\n\u001b[1;32m----> 1\u001b[1;33m \u001b[0mplt\u001b[0m\u001b[1;33m.\u001b[0m\u001b[0mimshow\u001b[0m\u001b[1;33m(\u001b[0m\u001b[1;33m)\u001b[0m\u001b[1;33m\u001b[0m\u001b[1;33m\u001b[0m\u001b[0m\n\u001b[0m",
      "\u001b[1;32m~\\anaconda3\\envs\\diploma\\lib\\site-packages\\matplotlib\\_api\\deprecation.py\u001b[0m in \u001b[0;36mwrapper\u001b[1;34m(*args, **kwargs)\u001b[0m\n\u001b[0;32m    454\u001b[0m                 \u001b[1;34m\"parameter will become keyword-only %(removal)s.\"\u001b[0m\u001b[1;33m,\u001b[0m\u001b[1;33m\u001b[0m\u001b[1;33m\u001b[0m\u001b[0m\n\u001b[0;32m    455\u001b[0m                 name=name, obj_type=f\"parameter of {func.__name__}()\")\n\u001b[1;32m--> 456\u001b[1;33m         \u001b[1;32mreturn\u001b[0m \u001b[0mfunc\u001b[0m\u001b[1;33m(\u001b[0m\u001b[1;33m*\u001b[0m\u001b[0margs\u001b[0m\u001b[1;33m,\u001b[0m \u001b[1;33m**\u001b[0m\u001b[0mkwargs\u001b[0m\u001b[1;33m)\u001b[0m\u001b[1;33m\u001b[0m\u001b[1;33m\u001b[0m\u001b[0m\n\u001b[0m\u001b[0;32m    457\u001b[0m \u001b[1;33m\u001b[0m\u001b[0m\n\u001b[0;32m    458\u001b[0m     \u001b[1;31m# Don't modify *func*'s signature, as boilerplate.py needs it.\u001b[0m\u001b[1;33m\u001b[0m\u001b[1;33m\u001b[0m\u001b[1;33m\u001b[0m\u001b[0m\n",
      "\u001b[1;31mTypeError\u001b[0m: imshow() missing 1 required positional argument: 'X'"
     ]
    }
   ],
   "source": [
    "plt.imshow()"
   ]
  },
  {
   "cell_type": "code",
   "execution_count": null,
   "metadata": {},
   "outputs": [],
   "source": [
    "imd.annotation"
   ]
  },
  {
   "cell_type": "code",
   "execution_count": null,
   "metadata": {},
   "outputs": [],
   "source": [
    "plt.imshow(imd.characterMap)\n",
    "plt.show()"
   ]
  },
  {
   "cell_type": "code",
   "execution_count": null,
   "metadata": {},
   "outputs": [],
   "source": [
    "dssd"
   ]
  },
  {
   "cell_type": "code",
   "execution_count": null,
   "metadata": {},
   "outputs": [],
   "source": [
    "# img = Image.fromarray(imd.image).copy()\n",
    "# w, h = img.size\n",
    "# w, h = w // 2, h // 2\n",
    "# w1, h1 = imageTextGenerator.image2.size\n",
    "# w1, h1 = w1 // 2, h1 // 2\n",
    "\n",
    "# rotated = rotateRect([w-w1, h-h1, w+w1, h+h1], -imd.angle, h, w)\n",
    "\n",
    "\n",
    "# src_points = np.float32([[w-w1, h-h1], [w+w1, h-h1], [w+w1,h+h1], [w-w1,h+h1]])\n",
    "\n",
    "# dst_points = np.float32(rotated)\n",
    "# print([w,h,w1,h1])\n",
    "# print(src_points)\n",
    "# print(\"*/*/*/\")\n",
    "# print(dst_points)\n",
    "# projective_matrix = cv2.getPerspectiveTransform(src_points, dst_points)\n",
    "# w, h = img.size\n",
    "# img"
   ]
  },
  {
   "cell_type": "code",
   "execution_count": null,
   "metadata": {},
   "outputs": [],
   "source": [
    "(imd.image[:,:,-1] != 0).sum()"
   ]
  },
  {
   "cell_type": "code",
   "execution_count": null,
   "metadata": {},
   "outputs": [],
   "source": [
    "imd.image[:,:,-1].shape"
   ]
  },
  {
   "cell_type": "code",
   "execution_count": null,
   "metadata": {},
   "outputs": [],
   "source": [
    "983*1266"
   ]
  },
  {
   "cell_type": "code",
   "execution_count": null,
   "metadata": {},
   "outputs": [],
   "source": [
    "1244478 / 699733"
   ]
  },
  {
   "cell_type": "code",
   "execution_count": null,
   "metadata": {},
   "outputs": [],
   "source": [
    "img = Image.fromarray(imd.image).copy()\n",
    "for symbol in zip(imd.annotation[\"wordsCharactersRects\"]):\n",
    "\n",
    "    for k in symbol[0]:\n",
    "        rotated = np.array(k)\n",
    "        d = ImageDraw.Draw(img)\n",
    "        #rotated = rotateRect(k, imd.angle)\n",
    "    #     d.line((rotated[0], rotated[1], rotated[0], rotated[3]), fill=(100,100,100), width=2)\n",
    "    #     d.line((k[0], k[1], k[2], k[1]), fill=(100,100,100), width=2)\n",
    "    #     d.line((k[2], k[1], k[2], k[3]), fill=(100,100,100), width=2)\n",
    "    #     d.line((k[0], k[3], k[2], k[3]), fill=(100,100,100), width=2)\n",
    "        #rotated = k[0]\n",
    "        #k = k[0]\n",
    "#         rotated = k\n",
    "#         w, h = img.size\n",
    "#         w, h = w // 2, h // 2\n",
    "#         w1, h1 = imageTextGenerator.image2.size\n",
    "#         w1, h1 = w1 // 2, h1 // 2\n",
    "\n",
    "#         rotated = np.float32([ [k[0][0] + w-w1, k[0][1] + h-h1], [k[1][0] + w-w1, k[1][1]+ h-h1], \\\n",
    "#                             [k[2][0] + w-w1, k[2][1] + h-h1], [k[3][0] + w-w1, k[3][1] + h-h1]] )\n",
    "\n",
    "\n",
    "#     #     d.line((*rotated[0], *rotated[1]), fill=(195,0,0), width=1)\n",
    "#     #     d.line((*rotated[1], *rotated[2]), fill=(195,0,0), width=1)\n",
    "#     #     d.line((*rotated[2], *rotated[3]), fill=(195,0,0), width=1)\n",
    "#     #     d.line((*rotated[3], *rotated[0]), fill=(195,0,0), width=1)\n",
    "#     #     print(img.size)\n",
    "#         w, h = img.size\n",
    "#         rotated = cv2.perspectiveTransform(np.float32(rotated)[None, :, :], projective_matrix, (w,h))[0]\n",
    "#        # print(rotated)\n",
    "        #rotated = rotateRect(k,a)\n",
    "        d.line((*rotated[0], *rotated[1]), fill=(195,0,0), width=1)\n",
    "        d.line((*rotated[1], *rotated[2]), fill=(195,0,0), width=1)\n",
    "        d.line((*rotated[2], *rotated[3]), fill=(195,0,0), width=1)\n",
    "        d.line((*rotated[3], *rotated[0]), fill=(195,0,0), width=1)\n",
    "\n",
    "        #break\n",
    "img"
   ]
  },
  {
   "cell_type": "code",
   "execution_count": null,
   "metadata": {},
   "outputs": [],
   "source": []
  },
  {
   "cell_type": "code",
   "execution_count": null,
   "metadata": {},
   "outputs": [],
   "source": [
    "img = Image.fromarray(imd.image).copy()\n",
    "print(imd.annotation[\"wordRects\"][0])\n",
    "for k in zip(imd.annotation[\"wordRects\"]):\n",
    "    #print(k)\n",
    "    d = ImageDraw.Draw(img)\n",
    "    #rotated = rotateRect(k, imd.angle)\n",
    "#     d.line((rotated[0], rotated[1], rotated[0], rotated[3]), fill=(100,100,100), width=2)\n",
    "#     d.line((k[0], k[1], /k[2], k[1]), fill=(100,100,100), width=2)\n",
    "#     d.line((k[2], k[1], k[2], k[3]), fill=(100,100,100), width=2)\n",
    "#     d.line((k[0], k[3], k[2], k[3]), fill=(100,100,100), width=2)\n",
    "    rotated = k[0]\n",
    "    k = k[0]\n",
    "    rotated = k\n",
    "\n",
    "    \n",
    "    d.line((*rotated[0], *rotated[1]), fill=(195,0,0), width=1)\n",
    "    d.line((*rotated[1], *rotated[2]), fill=(195,0,0), width=1)\n",
    "    d.line((*rotated[2], *rotated[3]), fill=(195,0,0), width=1)\n",
    "    d.line((*rotated[3], *rotated[0]), fill=(195,0,0), width=1)\n",
    "\n",
    "   \n",
    "    #break\n",
    "img"
   ]
  },
  {
   "cell_type": "code",
   "execution_count": null,
   "metadata": {},
   "outputs": [],
   "source": [
    "imageTextGenerator.image2"
   ]
  },
  {
   "cell_type": "code",
   "execution_count": null,
   "metadata": {},
   "outputs": [],
   "source": [
    "imd.angle "
   ]
  },
  {
   "cell_type": "code",
   "execution_count": null,
   "metadata": {},
   "outputs": [],
   "source": [
    "angleRad = (imd.angle + 90) %180 * np.pi / 180"
   ]
  },
  {
   "cell_type": "code",
   "execution_count": null,
   "metadata": {},
   "outputs": [],
   "source": [
    "#angleRad = (-45+ 90) %180 * np.pi / 180"
   ]
  },
  {
   "cell_type": "code",
   "execution_count": null,
   "metadata": {},
   "outputs": [],
   "source": [
    "angleRad"
   ]
  },
  {
   "cell_type": "code",
   "execution_count": null,
   "metadata": {},
   "outputs": [],
   "source": [
    "h,w = imageTextGenerator.image2.size"
   ]
  },
  {
   "cell_type": "code",
   "execution_count": null,
   "metadata": {},
   "outputs": [],
   "source": [
    "!pip3 install PyQt5"
   ]
  },
  {
   "cell_type": "code",
   "execution_count": null,
   "metadata": {},
   "outputs": [],
   "source": [
    "import tkinter"
   ]
  },
  {
   "cell_type": "code",
   "execution_count": null,
   "metadata": {},
   "outputs": [],
   "source": []
  },
  {
   "cell_type": "code",
   "execution_count": null,
   "metadata": {},
   "outputs": [],
   "source": [
    "characters = set()\n",
    "for word in TextGeneratorGlobal.unicodeWords:\n",
    "    for c in word:\n",
    "        characters.add(c)\n",
    "for word in TextGeneratorGlobal.words:\n",
    "    for c in word:\n",
    "        characters.add(c)\n",
    "for word in TextGeneratorGlobal.cities:\n",
    "    for c in word:\n",
    "        characters.add(c)\n",
    "for word in TextGeneratorGlobal.digits:\n",
    "    for c in word:\n",
    "        characters.add(c)\n",
    "for word in TextGeneratorGlobal.names:\n",
    "    for c in word:\n",
    "        characters.add(c)\n",
    "        \n",
    "for word in TextGeneratorGlobal.streets:\n",
    "    for c in word:\n",
    "        characters.add(c)\n",
    "for word in TextGeneratorGlobal.surnames:\n",
    "    for c in word:\n",
    "        characters.add(c)\n",
    "for word in TextGeneratorGlobal.symbols:\n",
    "    for c in word:\n",
    "        characters.add(c)\n",
    "for c in string.punctuation:\n",
    "        characters.add(c)\n",
    "characters = list(characters)\n",
    "characters = sorted(characters)"
   ]
  },
  {
   "cell_type": "code",
   "execution_count": null,
   "metadata": {},
   "outputs": [],
   "source": [
    "string.punctuation"
   ]
  },
  {
   "cell_type": "code",
   "execution_count": null,
   "metadata": {},
   "outputs": [],
   "source": [
    "len(characters)"
   ]
  },
  {
   "cell_type": "code",
   "execution_count": null,
   "metadata": {
    "scrolled": false
   },
   "outputs": [],
   "source": [
    "#for font in [os.path.join(pathToFonts, font) for font in os.listdir(pathToFonts)]:\n",
    "for font in [os.path.join(pathToFontsUnicode, font) for font in os.listdir(pathToFontsUnicode)]:\n",
    "    print(font)\n",
    "    font = ImageFont.truetype(font, 50)\n",
    "    image =  Image.new(\"RGBA\", (10000,100), (255, 255, 255, 0))\n",
    "    draw = ImageDraw.Draw(image)\n",
    "    text = \"\".join(characters)#string.ascii_letters\n",
    "    text = '1907Z2748UY'\n",
    "    h,w = draw.textsize(text, font=font)[::-1]\n",
    "    color = (255,255,255,255)\n",
    "    txt = Image.new('L', (w,h))\n",
    "    d = ImageDraw.Draw(txt)\n",
    "    d.text((0, 0), text,  font=font, fill=255)\n",
    "    display(txt)\n"
   ]
  },
  {
   "cell_type": "code",
   "execution_count": null,
   "metadata": {},
   "outputs": [],
   "source": [
    "txt"
   ]
  },
  {
   "cell_type": "code",
   "execution_count": null,
   "metadata": {},
   "outputs": [],
   "source": [
    "import tkinter as tk"
   ]
  },
  {
   "cell_type": "code",
   "execution_count": null,
   "metadata": {},
   "outputs": [],
   "source": [
    "!pup"
   ]
  },
  {
   "cell_type": "code",
   "execution_count": null,
   "metadata": {},
   "outputs": [],
   "source": []
  }
 ],
 "metadata": {
  "kernelspec": {
   "display_name": "diploma",
   "language": "python",
   "name": "diploma"
  },
  "language_info": {
   "codemirror_mode": {
    "name": "ipython",
    "version": 3
   },
   "file_extension": ".py",
   "mimetype": "text/x-python",
   "name": "python",
   "nbconvert_exporter": "python",
   "pygments_lexer": "ipython3",
   "version": "3.8.12"
  }
 },
 "nbformat": 4,
 "nbformat_minor": 2
}
