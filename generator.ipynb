{
 "cells": [
  {
   "cell_type": "code",
   "execution_count": 1,
   "metadata": {},
   "outputs": [],
   "source": [
    "# !pip install squircle\n",
    "# !pip install imutils"
   ]
  },
  {
   "cell_type": "code",
   "execution_count": 2,
   "metadata": {},
   "outputs": [],
   "source": [
    "%config Completer.use_jedi = False"
   ]
  },
  {
   "cell_type": "code",
   "execution_count": 3,
   "metadata": {},
   "outputs": [],
   "source": [
    "import cv2\n",
    "import os\n",
    "import matplotlib.pyplot as plt\n",
    "import numpy as np\n",
    "import string\n",
    "from PIL import Image, ImageFont, ImageDraw\n",
    "import math"
   ]
  },
  {
   "cell_type": "code",
   "execution_count": 4,
   "metadata": {},
   "outputs": [],
   "source": [
    "pathToDataForGeneration = \"D:\\Data\\Diploma\\dataForGeneration/\"\n",
    "pathToBackGrounds = pathToDataForGeneration + \"Backgrounds\"\n",
    "pathToOutDir = \"D:\\Data\\Diploma\\generated/\"\n",
    "pathToGenerated = pathToOutDir + \"generated\"\n",
    "pathToGT = pathToOutDir + \"gt\"\n",
    "pathToFonts = pathToDataForGeneration + \"fonts\"\n",
    "pathToFontsUnicode = pathToDataForGeneration + \"fontsUnicode\"\n",
    "pathToPhoto = pathToDataForGeneration + \"person\"\n",
    "pathToHolograms = pathToDataForGeneration + \"hologram\"\n",
    "pathToTexts = pathToDataForGeneration + \"texts/\""
   ]
  },
  {
   "cell_type": "code",
   "execution_count": 5,
   "metadata": {},
   "outputs": [],
   "source": [
    "fonts = [os.path.join(pathToFonts, font) for font in os.listdir(pathToFonts)]\n",
    "fontsUnicode = [os.path.join(pathToFontsUnicode, font) for font in os.listdir(pathToFontsUnicode)]\n",
    "photos = [os.path.join(pathToPhoto, photo) for photo in os.listdir(pathToPhoto)]\n",
    "holograms = [os.path.join(pathToHolograms, photo) for photo in os.listdir(pathToHolograms)]"
   ]
  },
  {
   "cell_type": "code",
   "execution_count": 6,
   "metadata": {},
   "outputs": [
    {
     "data": {
      "text/plain": [
       "'D:\\\\Data\\\\Diploma\\\\dataForGeneration/Backgrounds'"
      ]
     },
     "execution_count": 6,
     "metadata": {},
     "output_type": "execute_result"
    }
   ],
   "source": [
    "pathToBackGrounds"
   ]
  },
  {
   "cell_type": "code",
   "execution_count": 7,
   "metadata": {},
   "outputs": [],
   "source": [
    "backGroundColor = np.array([0,0,0])"
   ]
  },
  {
   "cell_type": "code",
   "execution_count": 8,
   "metadata": {},
   "outputs": [],
   "source": [
    "def generateTextImage(text, font, fontScale, thickness, color):\n",
    "    (label_width, label_height), baseline = cv2.getTextSize(text, font, fontScale, thickness)\n",
    "    label_patch = np.zeros((label_height + baseline, label_width, 3), np.uint8)\n",
    "    label_patch[:,:] = 0\n",
    "    textImage = cv2.putText(label_patch, text, (0, label_height), font, fontScale, color, thickness)\n",
    "    return textImage"
   ]
  },
  {
   "cell_type": "code",
   "execution_count": 9,
   "metadata": {},
   "outputs": [],
   "source": [
    "#cv2.imwrite(pathToGenerated + \"/2.png\", cv2.cvtColor(image2, cv2.COLOR_RGB2BGR))"
   ]
  },
  {
   "cell_type": "code",
   "execution_count": null,
   "metadata": {},
   "outputs": [],
   "source": []
  },
  {
   "cell_type": "code",
   "execution_count": 10,
   "metadata": {},
   "outputs": [],
   "source": [
    "class TextGenerator:\n",
    "    def __init__(self):\n",
    "        self.symbols = list(string.ascii_lowercase)\n",
    "        self.digits = [str(i) for i in range(0,10)]\n",
    "        self.generatedWordsCount = -1\n",
    "        with open(pathToTexts+\"names.txt\") as f:\n",
    "            self.names = f.read().split()\n",
    "\n",
    "        with open(pathToTexts+\"surnames.txt\") as f:\n",
    "            self.surnames = f.read().split()\n",
    "\n",
    "        with open(pathToTexts+\"streets.txt\") as f:\n",
    "            self.streets = f.read().split()\n",
    "\n",
    "        with open(pathToTexts+\"cities.txt\") as f:\n",
    "            self.cities = f.read().split()\n",
    "            \n",
    "        self.words = []\n",
    "        self.unicodeWords = []\n",
    "\n",
    "        with open(pathToTexts+\"words.txt\") as f:\n",
    "            self.words = f.read().split()\n",
    "        \n",
    "        for language in [\"french\", \"italian\", \"spanish\", \"german\", \"czech\", \"danish\", \"dutch\", \"portuguese\" ]:\n",
    "            with open(pathToTexts+language + \".txt\", encoding =\"utf-8\") as f:\n",
    "                self.unicodeWords += f.read().split()\n",
    "\n",
    "    def getName(self):\n",
    "        k = np.random.randint(0, len(self.names))\n",
    "        return self.names[k]\n",
    "\n",
    "    def getSurname(self):\n",
    "        k = np.random.randint(0, len(self.surnames))\n",
    "        return self.surnames[k]\n",
    "\n",
    "    def getCity(self):\n",
    "        k = np.random.randint(0, len(self.cities))\n",
    "        return self.cities[k]\n",
    "\n",
    "    def getStreet(self):\n",
    "        k = np.random.randint(0, len(self.streets))\n",
    "        return self.streets[k]\n",
    "\n",
    "    def getWord(self):\n",
    "        k = np.random.randint(0, len(self.words))\n",
    "        return self.words[k]\n",
    "    def getUnicodeWord(self):\n",
    "        k = np.random.randint(0, len(self.unicodeWords))\n",
    "        return self.unicodeWords[k]\n",
    "\n",
    "    def getDate(self):\n",
    "        if np.random.randint(0,2) == 0:\n",
    "            sep = \"/\"\n",
    "        else:\n",
    "            sep = \".\"\n",
    "        day = str(np.random.randint(0,10)) + str(np.random.randint(0,10))\n",
    "        month = str(np.random.randint(0,10)) + str(np.random.randint(0,10))\n",
    "        year = str(np.random.randint(0,10)) + str(np.random.randint(0,10)) + str(np.random.randint(0,10)) + str(np.random.randint(0,10))\n",
    "        if np.random.randint(0,2) == 0:\n",
    "            return sep.join([day, month, year])\n",
    "        else:\n",
    "            return sep.join([year, month, day])\n",
    "\n",
    "    def getNumber(self):\n",
    "        length = np.random.randint(2, 15)\n",
    "        return \"\".join([np.random.choice(self.digits) for i in range(length)])\n",
    "    \n",
    "    def generetaAdditionalText(self):\n",
    "        text = \"\"\n",
    "        addDigit = np.random.randint(0, 2)\n",
    "        length = np.random.randint(addDigit == 0, 2)\n",
    "        if length > 0:\n",
    "            text += \"\".join([np.random.choice(self.digits) for i in range(length)])\n",
    "        length = np.random.randint(addDigit != 0, 2)\n",
    "        if length > 0:\n",
    "            text += \"\".join([np.random.choice(self.symbols) for i in range(length)])\n",
    "        return text + \":\"\n",
    "\n",
    "    def generateText(self):\n",
    "        self.generatedWordsCount += 1\n",
    "        if self.generatedWordsCount < 2:\n",
    "            return self.getName()\n",
    "        elif self.generatedWordsCount < 4:\n",
    "            return self.getSurname()\n",
    "        elif self.generatedWordsCount < 6:\n",
    "            return self.getCity()\n",
    "        elif self.generatedWordsCount < 8:\n",
    "            return self.getStreet()\n",
    "        elif self.generatedWordsCount < 10:\n",
    "            return self.getDate()\n",
    "        elif self.generatedWordsCount < 12:\n",
    "            return self.getNumber()\n",
    "        else:\n",
    "            return None\n",
    "\n",
    "    def generateWord(self, isUnicode):\n",
    "        if isUnicode:\n",
    "            return self.getUnicodeWord()\n",
    "        else:\n",
    "            return self.getWord()\n",
    "\n",
    "    def resetWords(self):\n",
    "        self.generatedWordsCount = -1\n",
    "        \n",
    "TextGeneratorGlobal = TextGenerator()"
   ]
  },
  {
   "cell_type": "code",
   "execution_count": 11,
   "metadata": {},
   "outputs": [],
   "source": [
    "#TextGeneratorGlobal.unicodeWords[:100]"
   ]
  },
  {
   "cell_type": "code",
   "execution_count": 12,
   "metadata": {},
   "outputs": [],
   "source": [
    "import matplotlib\n",
    "matplotlib.use('Agg')\n",
    "def addPlotToBackGround(image):\n",
    "    W,H = image.size\n",
    "    fig, ax = plt.subplots(figsize=(20,20))\n",
    "    ax.set_ylim([0,H])\n",
    "    ax.set_xlim([0,W])\n",
    "    ax.imshow(image)\n",
    "    x = np.linspace(1,W, W*3)\n",
    "    ax.set_axis_off()\n",
    "    if np.random.randint(0,5) == 0:\n",
    "        cnt = np.random.randint(1,10)\n",
    "        for i in range(cnt):\n",
    "            y = np.sin(x * np.exp(np.random.uniform(-5,-1))) * H // cnt + i * H // cnt + np.random.randint(-H // cnt,H // cnt)\n",
    "            ax.plot(x,y, color=np.random.rand(3,))\n",
    "    \n",
    "    if np.random.randint(0,5) ==0:\n",
    "        cnt = np.random.randint(1,50)\n",
    "        for i in range(cnt):\n",
    "            y = 1/(x)* H // cnt + i * H // cnt + np.random.randint(-H // cnt,H // cnt)\n",
    "            ax.plot(x + np.random.randint(-W, W),y, color=np.random.rand(3,))\n",
    "\n",
    "    if np.random.randint(0,5) == 0:\n",
    "        cnt = np.random.randint(1,100)\n",
    "        for i in range(cnt):\n",
    "            y = x**(np.random.uniform(0.2,3)) * np.exp(np.random.uniform(-5,1)) + np.random.randint(-H // cnt,H // cnt)\n",
    "            ax.plot(x + np.random.randint(-W, W),y, color=np.random.rand(3,))\n",
    "    fig.savefig(\"./i.png\",bbox_inches='tight', pad_inches=0)\n",
    "    plt.close(1)\n",
    "    return Image.open(\"./i.png\")"
   ]
  },
  {
   "cell_type": "code",
   "execution_count": null,
   "metadata": {},
   "outputs": [],
   "source": []
  },
  {
   "cell_type": "code",
   "execution_count": 13,
   "metadata": {},
   "outputs": [],
   "source": [
    "def rotatePoint(xy, theta):\n",
    "    theta = math.pi / 180 * theta\n",
    "    cos_theta, sin_theta = math.cos(theta), math.sin(theta)\n",
    "\n",
    "    return ( xy[0] * cos_theta - xy[1] * sin_theta, xy[0] * sin_theta + xy[1] * cos_theta )\n",
    "    \n",
    "def rotateRect(rect, theta):\n",
    "    h = rect[3] - rect[1]\n",
    "    w = rect[2] - rect[0]\n",
    "    hc = rect[1] + (h)//2 + 5\n",
    "    wc = rect[0] + (w)//2 \n",
    "    #h = 0\n",
    "    #w = 0\n",
    "#     x1, y1 = rotatePoint((rect[0] - w, rect[1] - h), theta)\n",
    "#     x2, y2 = rotatePoint((rect[2] - w, rect[1] - h), theta)\n",
    "#     x3, y3 = rotatePoint((rect[2] - w, rect[3] - h), theta)\n",
    "#     x4, y4 = rotatePoint((rect[0] - w, rect[3] - h), theta)\n",
    "    x1, y1 = rotatePoint((-rect[4]//2, -rect[5]//2), theta)\n",
    "    x2, y2 = rotatePoint((rect[4]//2, -rect[5]//2), theta)\n",
    "    x3, y3 = rotatePoint((rect[4]//2, rect[5]//2), theta)\n",
    "    x4, y4 = rotatePoint((-rect[4]//2, rect[5]//2), theta)\n",
    "    \n",
    "    #по часовой стрелке\n",
    "    #return [(x1+w,y1+h), (x2+w,y2+h), (x3+w,y3+h), (x4+w,y4+h)]\n",
    "    return [(x1+wc,y1+hc), (x2+wc,y2+hc), (x3+wc,y3+hc), (x4+wc,y4+hc)]\n",
    "\n",
    "def rotateRect(rect, theta, hc = None, wc = None):\n",
    "    h = rect[3] - rect[1]\n",
    "    w = rect[2] - rect[0]\n",
    "    if hc is None:\n",
    "        hc = rect[1] + (h)//2 + 5\n",
    "        wc = rect[0] + (w)//2 \n",
    "    x1, y1 = rotatePoint((rect[0] - wc, rect[1] - hc), theta)\n",
    "    x2, y2 = rotatePoint((rect[2] - wc, rect[1] - hc), theta)\n",
    "    x3, y3 = rotatePoint((rect[2] - wc, rect[3] - hc), theta)\n",
    "    x4, y4 = rotatePoint((rect[0] - wc, rect[3] - hc), theta) \n",
    "    \n",
    "    #по часовой стрелке\n",
    "    #return [(x1+w,y1+h), (x2+w,y2+h), (x3+w,y3+h), (x4+w,y4+h)]\n",
    "    return [(x1+wc,y1+hc), (x2+wc,y2+hc), (x3+wc,y3+hc), (x4+wc,y4+hc)]\n",
    "\n",
    "def rotateRegion(region, theta, wc, hc):\n",
    "    #h = 0\n",
    "    #w = 0\n",
    "#     x1, y1 = rotatePoint((rect[0] - w, rect[1] - h), theta)\n",
    "#     x2, y2 = rotatePoint((rect[2] - w, rect[1] - h), theta)\n",
    "#     x3, y3 = rotatePoint((rect[2] - w, rect[3] - h), theta)\n",
    "#     x4, y4 = rotatePoint((rect[0] - w, rect[3] - h), theta)\n",
    "    x1, y1 = rotatePoint((region[0][0] - wc, region[0][1] - hc), theta)\n",
    "    x2, y2 = rotatePoint((region[1][0] - wc, region[1][1] - hc), theta)\n",
    "    x3, y3 = rotatePoint((region[2][0] - wc, region[2][1] - hc), theta)\n",
    "    x4, y4 = rotatePoint((region[3][0] - wc, region[3][1] - hc), theta)\n",
    "    \n",
    "    #по часовой стрелке\n",
    "    #return [(x1+w,y1+h), (x2+w,y2+h), (x3+w,y3+h), (x4+w,y4+h)]\n",
    "    return [(x1+wc,y1+hc), (x2+wc,y2+hc), (x3+wc,y3+hc), (x4+wc,y4+hc)]\n",
    "\n",
    "def getCharactersRects(wordRegionData, rotated, charactersRects):\n",
    "    k = wordRegionData\n",
    "    cumW = 0\n",
    "    W =  rotated[1][0]- rotated[0][0]\n",
    "    H =  rotated[1][1] - rotated[0][1]\n",
    "    characersResultRects = []\n",
    "    for c in charactersRects:\n",
    "        w,h = c\n",
    "        cumW += w\n",
    "        characersResultRects.append([\n",
    "            (rotated[0][0] + (cumW - w) / k[6] * W, rotated[0][1] + (cumW - w)/k[6] * H), \\\n",
    "            (rotated[0][0] + cumW / k[6] * W, rotated[0][1] + (cumW) / k[6] * H), \\\n",
    "            (rotated[3][0] + cumW / k[6] * W, rotated[3][1] + (cumW) / k[6] * H),\\\n",
    "            (rotated[3][0] + (cumW - w) / k[6] * W, rotated[3][1] + (cumW-w) / k[6] * H)\\\n",
    "        ])\n",
    "        rotated[0][0] + cumW / k[6] * W, rotated[0][1] + (cumW) / k[6] * H\n",
    "    return characersResultRects"
   ]
  },
  {
   "cell_type": "code",
   "execution_count": 14,
   "metadata": {},
   "outputs": [],
   "source": [
    "import json"
   ]
  },
  {
   "cell_type": "code",
   "execution_count": 41,
   "metadata": {},
   "outputs": [],
   "source": [
    "class OneImageTextGenerator:\n",
    "    def __init__(self, image):\n",
    "        self.imageSize = [1500, 1500//1.5]\n",
    "        image = self.randomCropAndResize(image)\n",
    "        \n",
    "        image = addPlotToBackGround(image)\n",
    "        self.size = image.size[::-1]#image.shape[0:2]\n",
    "        self.image2 = image.copy().convert(\"RGBA\")\n",
    "        self.image = Image.new('RGBA', self.size[::-1], color=(255,255,255, 0))\n",
    "        self.freeBlocks = [(0,0,*self.size)]\n",
    "        self.textImage = Image.new('RGBA', self.size[::-1], color=(255,255,255, 0))\n",
    "        self.textGenerator = TextGeneratorGlobal\n",
    "        self.textGenerator.resetWords()\n",
    "        self.words = []\n",
    "        self.wordsRegion = []\n",
    "        self.angles = []\n",
    "        self.wordsCharacterRegion = []\n",
    "        img_fraction = 1/20\n",
    "        self.fontSizes = []\n",
    "        fontSize = 1\n",
    "        font = ImageFont.truetype(fonts[0], fontSize)\n",
    "        draw = ImageDraw.Draw(self.textImage)\n",
    "        while max(draw.textsize(\"H\", font=font)) < img_fraction * min(image.size):\n",
    "            # iterate until the text size is just larger than the criteria\n",
    "            fontSize += 1            \n",
    "            font = ImageFont.truetype(fonts[0], fontSize)\n",
    "        self.fontSizes.append(fontSize)\n",
    "       # self.fontSizes.append(min(1, fontSize//1.5))\n",
    "        self.fontSizes.append(fontSize*2)\n",
    "        \n",
    "        self.fonts = []\n",
    "        self.fontsUnicode = []\n",
    "        for i in range(np.random.randint(1, 3)):\n",
    "            self.fonts.append(np.random.choice(fonts))\n",
    "            \n",
    "        for i in range(np.random.randint(1, 3)):\n",
    "            self.fontsUnicode.append(np.random.choice(fontsUnicode))\n",
    "            #print(self.fontsUnicode[-1])\n",
    "            \n",
    "        self.textType = []\n",
    "        for i in range(np.random.randint(1, 3)):\n",
    "            self.textType.append(np.random.choice([0,1,2]))\n",
    "        self.colors = [(0,0,0,255)]\n",
    "        for i in range(np.random.randint(0,4)):\n",
    "            color = [0,0,0, 255]\n",
    "            color[np.random.randint(0,3)] = np.random.randint(128,200)\n",
    "            color[0] = min(color[0] + np.random.randint(0,255),255)\n",
    "            color[2] = min(color[2] + np.random.randint(0,255),255)\n",
    "            color[1] = min(color[1] + np.random.randint(0,255),255)\n",
    "            self.colors.append(color)\n",
    "            #self.colors.append(self.colors[0])\n",
    "        \n",
    "        self.possibleAngles = [0]\n",
    "        \n",
    "        for i in range(np.random.randint(0,3)):\n",
    "            self.possibleAngles.append(np.random.randint(-5,5))\n",
    "            self.possibleAngles.append(0)\n",
    "            \n",
    "    def randomCropAndResize(self, image):\n",
    "        size = self.imageSize\n",
    "        size[0] += np.random.randint(-200, 200)\n",
    "        size[1] += np.random.randint(-200, 200)\n",
    "        sizeCrop = size.copy()\n",
    "        size[0] = int(size[0] * np.random.uniform(1.1,2))\n",
    "        size[1] = int(size[1] * np.random.uniform(1.1,2))\n",
    "        image = image.resize(size)\n",
    "        assert(size != sizeCrop)\n",
    "        left = np.random.randint(0, size[0] - sizeCrop[0])\n",
    "        top = np.random.randint(0, size[1] - sizeCrop[1])\n",
    "        image = image.crop((left, top, left + sizeCrop[0], top + sizeCrop[1]))\n",
    "        \n",
    "        return image\n",
    "        \n",
    "    def findSmallestByHeightBlock(self, size):\n",
    "        blocks = []\n",
    "        p = []\n",
    "        for i, block in enumerate(self.freeBlocks):\n",
    "            y1,x1,y2,x2 = block\n",
    "            h = y2 - y1\n",
    "            w = x2 - x1\n",
    "            if h >= size[0] and w >= size[1]:\n",
    "                blocks.append(i)\n",
    "                p.append(h*w)\n",
    "        if len(blocks) == 0:\n",
    "            return None\n",
    "        return np.random.choice(blocks, p=np.array(p) / np.sum(p))\n",
    "        \n",
    "    def findFreeRectangeForText(self, size):\n",
    "        size = (size[0]*1.5, size[1]*1.5)\n",
    "        index = self.findSmallestByHeightBlock(size)\n",
    "        if index == None:\n",
    "            return None\n",
    "        h, w = size\n",
    "        h = h\n",
    "        w = w\n",
    "        rect = self.freeBlocks[index]\n",
    "        y1,x1,y2,x2 = rect\n",
    "        startX = np.random.randint(x1, x2 - w + 1)\n",
    "        startY = np.random.randint(y1, y2 - h + 1)\n",
    "        \n",
    "        self.freeBlocks.pop(index)\n",
    "        if startY > y1:\n",
    "            self.freeBlocks.append((y1, x1, startY, x2))\n",
    "        if startY + h < y2:\n",
    "            self.freeBlocks.append((startY+h, x1, y2, x2))\n",
    "        if x1 < startX:\n",
    "            self.freeBlocks.append((startY, x1, startY+h, startX))\n",
    "        if startX + w < x2:\n",
    "            self.freeBlocks.append((startY, startX+w, startY+h, x2))\n",
    "        \n",
    "        return (startY, startX)\n",
    "\n",
    "    def addPhoto(self):\n",
    "        photo = Image.open(np.random.choice(photos), 'r')\n",
    "        height, width = self.size\n",
    "        height = height // 4\n",
    "        width = width // 4\n",
    "        height, width = max(height, width), min(height, width)\n",
    "\n",
    "        photo1 = photo.resize((width,height), Image.ANTIALIAS)\n",
    "        if np.random.randint(0,20) == 0:\n",
    "            photo1 = photo1.convert('L')\n",
    "        \n",
    "        coords = self.findFreeRectangeForText((height, width))\n",
    "        if coords == None:\n",
    "            return None\n",
    "        startY, startX = coords\n",
    "        self.image.paste(photo1, (startX, startY))        \n",
    "        \n",
    "    def addText(self):\n",
    "        text = self.textGenerator.generateText()\n",
    "        if text is None:\n",
    "            isUnicode = np.random.randint(0,3) != 0\n",
    "            if isUnicode:\n",
    "                font = np.random.choice(self.fontsUnicode)\n",
    "            else:\n",
    "                font = np.random.choice(self.fonts)\n",
    "            text =self.textGenerator.generateWord(isUnicode)\n",
    "        else:\n",
    "            font = np.random.choice(self.fonts)\n",
    "        textType = np.random.choice(self.textType)\n",
    "        if textType == 0:\n",
    "            text = text.lower()\n",
    "        elif textType == 1:\n",
    "            text = text.upper()\n",
    "        else:\n",
    "            text = text.capitalize()\n",
    "            \n",
    "        if np.random.randint(0,5) == 0:\n",
    "            textType = np.random.choice(self.textType)\n",
    "            text2 = self.textGenerator.generetaAdditionalText()\n",
    "            if textType == 0:\n",
    "                text2 = text2.lower()\n",
    "            elif textType == 1:\n",
    "                text2 = text2.upper()\n",
    "            else:\n",
    "                text2 = text2.capitalize()\n",
    "            text = text2 + text\n",
    "#         print(text) \n",
    "#         print(font)\n",
    "\n",
    "        fontSize = max(10, np.random.choice(self.fontSizes, p=[0.7,0.3]) + np.random.randint(-5, 5))\n",
    "        if np.random.randint(0, 50) == 0:\n",
    "            fontSize += np.random.randint(16, 20)\n",
    "        font = ImageFont.truetype(font, fontSize)\n",
    "        \n",
    "        draw = ImageDraw.Draw(self.image)\n",
    "        drawImageText = ImageDraw.Draw(self.textImage)\n",
    "        alpha = np.random.choice(self.possibleAngles)\n",
    "        h,w = draw.textsize(text, font=font)[::-1]\n",
    "        angleRad = np.abs(alpha * np.pi / 180)\n",
    "        h1 = h * np.cos(angleRad) + w * np.sin(angleRad)\n",
    "        w1 = w * np.cos(angleRad) + h * np.sin(angleRad)\n",
    "        coords = self.findFreeRectangeForText((h1,w1))\n",
    "        if coords == None:\n",
    "            return None\n",
    "        startY, startX = coords\n",
    "        \n",
    "        color = self.colors[np.random.randint(0, len(self.colors))]\n",
    "        txt = Image.new('L', (w,h))\n",
    "        d = ImageDraw.Draw(txt)\n",
    "        d.text((0, 0), text,  font=font, fill=255)\n",
    "        #d.rectangle((startX, startY, startX + w,startY + h ),fill=(192), outline=(255))\n",
    "        #d.rectangle((startX + w, startY + h, startX,startY),fill=(192), outline=(255))\n",
    "        #d.line((startX, startY, startX, startY + h), fill=(255), width=2)\n",
    "        #d.line((startX, startY, startX + w, startY), fill=(255), width=2)\n",
    "        #d.line((startX + w, startY, startX + w, startY + h), fill=(255), width=20)\n",
    "        #d.line((startX, startY + h, startX + w, startY + h), fill=(255), width=20)\n",
    "        \n",
    "        #rotatedText=txt.rotate(alpha, expand=True)\n",
    "        rotatedText=txt.rotate(alpha, expand=True)\n",
    "        #rotatedText.show()\n",
    "        newW, newH = rotatedText.size\n",
    "        \n",
    "        self.textImage.paste( ImageOps.colorize(rotatedText, (0,0,0,255), (0,0,0, 255)), (startX, startY),  rotatedText)\n",
    "        self.image.paste( ImageOps.colorize(rotatedText, (0,0,0, 255), tuple(color)), (startX, startY),  rotatedText)\n",
    "        \n",
    "        self.words.append(text)\n",
    "        #self.wordsRegion.append(rotateRect([startX, startY, startX + w, startY + h], alpha))\n",
    "        self.wordsRegion.append([startX, startY, startX + w1, startY + h1, w+2, h+2, newW ,newH, w1, h1])\n",
    "        self.angles.append(alpha)\n",
    "        #print(alpha)\n",
    "        #draw.text((startX, startY), text,  font=font, fill=(tuple(color)))\n",
    "        #drawImageText.text((startX, startY), text,  font=font, fill=(0,0,0,255))\n",
    "        self.wordsCharacterRegion.append([])\n",
    "        for symbol in text:\n",
    "            h,w = draw.textsize(symbol, font=font)[::-1]\n",
    "            self.wordsCharacterRegion[-1].append([w,h])\n",
    "        return True\n",
    "        \n",
    "    def addTexts(self):\n",
    "        textCount = np.random.randint(40, 80)\n",
    "        cnt = 0\n",
    "        for i in range(textCount):\n",
    "            if self.addText() is not None :\n",
    "                cnt += 1\n",
    "        #print(cnt)\n",
    "        self.image2 = Image.alpha_composite(self.image2, self.image) \n",
    "#         img = ImageDraw.Draw(self.image2)\n",
    "#         for block in self.freeBlocks:\n",
    "            \n",
    "#             img.rectangle([block[1], block[0], block[3], block[2]])\n",
    "            \n",
    "#         self.image2.show()\n",
    "    \n",
    "    def rotateRects(self):\n",
    "        for i, (k,a, characters) in enumerate(zip(self.wordsRegion, self.angles, self.wordsCharacterRegion)):\n",
    "            self.wordsRegion[i] = rotateRect(k,-a, k[1] + k[-3]//2, k[0] + k[-4]//2)\n",
    "            \n",
    "            self.wordsCharacterRegion[i] = getCharactersRects(k, self.wordsRegion[i], characters)\n",
    "    \n",
    "    def createAnnotation(self):\n",
    "        self.annotation = dict()\n",
    "        self.annotation[\"wordRects\"] = self.wordsRegion\n",
    "        self.annotation[\"wordsCharactersRects\"] = self.wordsCharacterRegion\n",
    "        self.annotation[\"words\"] = self.words\n",
    "    \n",
    "    def generate(self):\n",
    "        self.addPhoto()\n",
    "        self.addTexts()\n",
    "        self.rotateRects()\n",
    "        self.createAnnotation()"
   ]
  },
  {
   "cell_type": "code",
   "execution_count": 42,
   "metadata": {},
   "outputs": [],
   "source": [
    "# imageTextGenerator = OneImageTextGenerator(image)\n",
    "# imageTextGenerator.generate()\n",
    "# img = imageTextGenerator.image2.copy()\n",
    "# for k in zip(imageTextGenerator.annotation[\"wordRects\"]):\n",
    "#     d = ImageDraw.Draw(img)\n",
    "#     #rotated = rotateRect(k, imd.angle)\n",
    "# #     d.line((rotated[0], rotated[1], rotated[0], rotated[3]), fill=(100,100,100), width=2)\n",
    "# #     d.line((k[0], k[1], k[2], k[1]), fill=(100,100,100), width=2)\n",
    "# #     d.line((k[2], k[1], k[2], k[3]), fill=(100,100,100), width=2)\n",
    "# #     d.line((k[0], k[3], k[2], k[3]), fill=(100,100,100), width=2)\n",
    "#     rotated = k[0]\n",
    "#     k = k[0]\n",
    "#     rotated = k\n",
    "\n",
    "    \n",
    "#     d.line((*rotated[0], *rotated[1]), fill=(195,0,0), width=1)\n",
    "#     d.line((*rotated[1], *rotated[2]), fill=(195,0,0), width=1)\n",
    "#     d.line((*rotated[2], *rotated[3]), fill=(195,0,0), width=1)\n",
    "#     d.line((*rotated[3], *rotated[0]), fill=(195,0,0), width=1)\n",
    "\n",
    "   \n",
    "#     #break\n",
    "# img"
   ]
  },
  {
   "cell_type": "code",
   "execution_count": null,
   "metadata": {},
   "outputs": [],
   "source": []
  },
  {
   "cell_type": "code",
   "execution_count": 43,
   "metadata": {},
   "outputs": [],
   "source": [
    "# img = imageTextGenerator.textImage.copy()\n",
    "# ind = 0\n",
    "# for k,a, characters in zip(imageTextGenerator.wordsRegion, imageTextGenerator.angles, imageTextGenerator.wordsCharacterRegion):\n",
    "#     d = ImageDraw.Draw(img)\n",
    "#     rotated = rotateRect(k,-a)\n",
    "#     ind = ind + 1\n",
    "#     #print(k)\n",
    "#     #print(a)\n",
    "#     #print(rotated)\n",
    "# #     d.line((rotated[0][0], rotated[0][1], rotated[1][0], rotated[1][1]), fill=(100,100,100), width=2)\n",
    "# #     d.line((rotated[1][0], rotated[1][1], rotated[2][0], rotated[2][1]), fill=(100,100,100), width=2)\n",
    "# #     d.line((rotated[2][0], rotated[2][1], rotated[3][0], rotated[3][1]), fill=(100,100,100), width=2)\n",
    "# #     d.line((rotated[3][0], rotated[3][1], rotated[0][0], rotated[0][1]), fill=(100,100,100), width=2)\n",
    "    \n",
    "# #     cumW = 0\n",
    "# #     W =  rotated[1][0]- rotated[0][0]\n",
    "# #     H =  rotated[1][1] - rotated[0][1]\n",
    "# #     for c in characters:\n",
    "# #         w,h = c\n",
    "# #         cumW += w\n",
    "# #         d.line((rotated[0][0] + (cumW - w) / k[6] * W, rotated[0][1] + (cumW - w) / k[6] * H, rotated[0][0] + cumW / k[6] * W, rotated[0][1] + (cumW) / k[6] * H), fill=(100,100,100), width=2)\n",
    "# #         d.line((rotated[0][0] + cumW / k[6] * W, rotated[0][1] + (cumW) / k[6] * H, rotated[3][0] + cumW / k[6] * W, rotated[3][1] + (cumW) / k[6] * H), fill=(100,100,100), width=2)\n",
    "# #         d.line((rotated[3][0] + cumW / k[6] * W, rotated[3][1] + (cumW) / k[6] * H, rotated[3][0] + (cumW -w)/ k[6] * W, rotated[3][1] + (cumW-w) / k[6] * H), fill=(100,100,100), width=2)\n",
    "# #         d.line((rotated[3][0] + (cumW - w) / k[6] * W, rotated[3][1] + (cumW-w) / k[6] * H, rotated[0][0] + (cumW - w) / k[6] * W, rotated[0][1] + (cumW - w) / k[6] * H), fill=(100,100,100), width=2)\n",
    "#     for c in getCharactersRects(k, rotated, characters):\n",
    "#         d.line((c[0][0], c[0][1], c[1][0], c[1][1]), fill=(100,100,100), width=1)\n",
    "#         d.line((c[1][0], c[1][1], c[2][0], c[2][1]), fill=(100,100,100), width=1)\n",
    "#         d.line((c[2][0], c[2][1], c[3][0], c[3][1]), fill=(100,100,100), width=1)\n",
    "#         d.line((c[3][0], c[3][1], c[0][0], c[0][1]), fill=(100,100,100), width=1)\n",
    "#     #break \n",
    "# img"
   ]
  },
  {
   "cell_type": "code",
   "execution_count": null,
   "metadata": {},
   "outputs": [],
   "source": []
  },
  {
   "cell_type": "code",
   "execution_count": 44,
   "metadata": {},
   "outputs": [],
   "source": [
    "# img = imageTextGenerator.textImage.copy()\n",
    "# ind = 0\n",
    "# for k,a  in zip(imageTextGenerator.wordsRegion, imageTextGenerator.angles):\n",
    "#     d = ImageDraw.Draw(img)\n",
    "#     rotated = rotateRect(k,-a)\n",
    "#     ind = ind + 1\n",
    "#     #print(k)\n",
    "#     #print(a)\n",
    "#     #print(rotated)\n",
    "#     d.line((rotated[0][0], rotated[0][1], rotated[1][0], rotated[1][1]), fill=(100,100,100), width=2)\n",
    "#     d.line((rotated[1][0], rotated[1][1], rotated[2][0], rotated[2][1]), fill=(100,100,100), width=2)\n",
    "#     d.line((rotated[2][0], rotated[2][1], rotated[3][0], rotated[3][1]), fill=(100,100,100), width=2)\n",
    "#     d.line((rotated[3][0], rotated[3][1], rotated[0][0], rotated[0][1]), fill=(100,100,100), width=2)\n",
    "    \n",
    "# #     d.line((k[0], k[1], k[0], k[3]), fill=(100,100,100), width=2)\n",
    "# #     d.line((k[0], k[1], k[2], k[1]), fill=(100,100,100), width=2)\n",
    "# #     d.line((k[2], k[1], k[2], k[3]), fill=(100,100,100), width=2)\n",
    "# #     d.line((k[0], k[3], k[2], k[3]), fill=(100,100,100), width=2)\n",
    "#     #break \n",
    "# img"
   ]
  },
  {
   "cell_type": "code",
   "execution_count": null,
   "metadata": {},
   "outputs": [],
   "source": []
  },
  {
   "cell_type": "code",
   "execution_count": 45,
   "metadata": {},
   "outputs": [],
   "source": [
    "#imageTextGenerator.textImage"
   ]
  },
  {
   "cell_type": "code",
   "execution_count": null,
   "metadata": {},
   "outputs": [],
   "source": []
  },
  {
   "cell_type": "code",
   "execution_count": null,
   "metadata": {},
   "outputs": [],
   "source": []
  },
  {
   "cell_type": "code",
   "execution_count": 46,
   "metadata": {},
   "outputs": [],
   "source": [
    "# img = imageTextGenerator.textImage.copy()\n",
    "# for k,a  in zip(imageTextGenerator.wordsRegion, imageTextGenerator.angles):\n",
    "#     d = ImageDraw.Draw(img)\n",
    "#     rotated = rotateRect(k,a)\n",
    "# #     d.line((rotated[0], rotated[1], rotated[0], rotated[3]), fill=(100,100,100), width=2)\n",
    "# #     d.line((k[0], k[1], k[2], k[1]), fill=(100,100,100), width=2)\n",
    "# #     d.line((k[2], k[1], k[2], k[3]), fill=(100,100,100), width=2)\n",
    "# #     d.line((k[0], k[3], k[2], k[3]), fill=(100,100,100), width=2)\n",
    "    \n",
    "    \n",
    "#     rotated = rotateRect(k,a)\n",
    "#     print(a)\n",
    "#     print(k)\n",
    "#     d.line((*rotated[0], *rotated[1]), fill=(195,195,195), width=1)\n",
    "#     d.line((*rotated[1], *rotated[2]), fill=(195,195,195), width=1)\n",
    "#     d.line((*rotated[2], *rotated[3]), fill=(195,195,195), width=1)\n",
    "#     d.line((*rotated[3], *rotated[0]), fill=(195,195,195), width=1)\n",
    "#     print(rotated)\n",
    "#     break\n",
    "# img"
   ]
  },
  {
   "cell_type": "code",
   "execution_count": null,
   "metadata": {},
   "outputs": [],
   "source": []
  },
  {
   "cell_type": "code",
   "execution_count": null,
   "metadata": {},
   "outputs": [],
   "source": []
  },
  {
   "cell_type": "code",
   "execution_count": 47,
   "metadata": {},
   "outputs": [],
   "source": [
    "import cv2\n",
    "import numpy as np\n",
    "import random\n",
    "from scipy.stats import norm\n",
    "\n",
    "def generate_spot_light_mask(mask_size,\n",
    "                             position=None,\n",
    "                             max_brightness=255,\n",
    "                             min_brightness=0,\n",
    "                             mode=\"gaussian\",\n",
    "                             linear_decay_rate=None,\n",
    "                             speedup=False):\n",
    "    \"\"\"\n",
    "    Generate decayed light mask generated by spot light given position, direction. Multiple spotlights are accepted.\n",
    "    Args:\n",
    "        mask_size: tuple of integers (w, h) defining generated mask size\n",
    "        position: list of tuple of integers (x, y) defining the center of spotlight light position,\n",
    "                  which is the reference point during rotating\n",
    "        max_brightness: integer that max brightness in the mask\n",
    "        min_brightness: integer that min brightness in the mask\n",
    "        mode: the way that brightness decay from max to min: linear or gaussian\n",
    "        linear_decay_rate: only valid in linear_static mode. Suggested value is within [0.2, 2]\n",
    "        speedup: use `shrinkage then expansion` strategy to speed up vale calculation\n",
    "    Return:\n",
    "        light_mask: ndarray in float type consisting value from max_brightness to min_brightness. If in 'linear' mode\n",
    "                    minimum value could be smaller than given min_brightness.\n",
    "    \"\"\"\n",
    "    if position is None:\n",
    "        position = [(random.randint(0, mask_size[0]), random.randint(0, mask_size[1]))]\n",
    "    if linear_decay_rate is None:\n",
    "        if mode == \"linear_static\":\n",
    "            linear_decay_rate = random.uniform(0.25, 1)\n",
    "    assert mode in [\"linear\", \"gaussian\"], \\\n",
    "        \"mode must be linear_dynamic, linear_static or gaussian\"\n",
    "    mask = np.zeros(shape=(mask_size[1], mask_size[0]), dtype=np.float32)\n",
    "    if mode == \"gaussian\":\n",
    "        mu = np.sqrt(mask.shape[0]**2+mask.shape[1]**2)\n",
    "        dev = mu / 3.5\n",
    "        mask = _decay_value_radically_norm_in_matrix(mask_size, position, max_brightness, min_brightness, dev)\n",
    "    mask = np.asarray(mask, dtype=np.uint8)\n",
    "    # add median blur\n",
    "    mask = cv2.medianBlur(mask, 5)\n",
    "    mask = 255 - mask\n",
    "    # cv2.imshow(\"mask\", mask)\n",
    "    # cv2.waitKey(0)\n",
    "    return mask\n",
    "\n",
    "def _decay_value_radically_norm_in_matrix(mask_size, centers, max_value, min_value, dev):\n",
    "    \"\"\"\n",
    "    _decay_value_radically_norm function in matrix format\n",
    "    \"\"\"\n",
    "    center_prob = norm.pdf(0, 0, dev)\n",
    "    x_value_rate = np.zeros((mask_size[1], mask_size[0]))\n",
    "    for center in centers:\n",
    "        coord_x = np.arange(mask_size[0])\n",
    "        coord_y = np.arange(mask_size[1])\n",
    "        xv, yv = np.meshgrid(coord_x, coord_y)\n",
    "        dist_x = xv - center[0]\n",
    "        dist_y = yv - center[1]\n",
    "        dist = np.sqrt(np.power(dist_x, 2) + np.power(dist_y, 2))\n",
    "        x_value_rate += norm.pdf(dist, 0, dev) / center_prob\n",
    "    mask = x_value_rate * (max_value - min_value) + min_value\n",
    "    mask[mask > 255] = 255\n",
    "    return mask\n",
    "\n",
    "def _decay_value_radically_norm(x, centers, max_value, min_value, dev):\n",
    "    \"\"\"\n",
    "    Calculate point value decayed from center following Gaussian decay. If multiple centers are given, value\n",
    "    from each center sums up while limiting the accumulated value into [0, 255]\n",
    "    NOTE: assuming light at each center is identical: same brightness and same decay rate\n",
    "    \"\"\"\n",
    "    center_prob = norm.pdf(0, 0, dev)\n",
    "    x_value_rate = 0\n",
    "    for center in centers:\n",
    "        distance = np.sqrt((center[0]-x[0])**2 + (center[1]-x[1])**2)\n",
    "        x_value_rate += norm.pdf(distance, 0, dev) / center_prob\n",
    "    x_value = x_value_rate * (max_value - min_value) + min_value\n",
    "    x_value = 255 if x_value > 255 else x_value\n",
    "    return x_value\n",
    "\n",
    "def add_spot_light(image, light_position=None, max_brightness=255, min_brightness=0,\n",
    "                   mode='gaussian', linear_decay_rate=None, transparency=None):\n",
    "    \"\"\"\n",
    "    Add mask generated from spot light to given image\n",
    "    \"\"\"\n",
    "    if transparency is None:\n",
    "        transparency = random.uniform(0.5, 0.85)\n",
    "    frame = image\n",
    "    height, width, _ = frame.shape\n",
    "    hsv = cv2.cvtColor(frame, cv2.COLOR_BGR2HSV)\n",
    "    mask = generate_spot_light_mask(mask_size=(width, height),\n",
    "                                    position=light_position,\n",
    "                                    max_brightness=max_brightness,\n",
    "                                    min_brightness=min_brightness,\n",
    "                                    mode=mode,\n",
    "                                    linear_decay_rate=linear_decay_rate)\n",
    "    hsv[:, :, 2] = hsv[:, :, 2] * transparency + (255 - mask) * (1 - transparency)\n",
    "    frame = cv2.cvtColor(hsv, cv2.COLOR_HSV2BGR)\n",
    "    frame[frame > 255] = 255\n",
    "    frame = np.asarray(frame, dtype=np.uint8)\n",
    "    return frame"
   ]
  },
  {
   "cell_type": "code",
   "execution_count": 48,
   "metadata": {},
   "outputs": [],
   "source": [
    "import cv2\n",
    "import numpy as np\n",
    "import random\n",
    "from scipy.stats import norm\n",
    "\n",
    "def _decayed_value_in_norm(x, max_value, min_value, center, range):\n",
    "    \"\"\"\n",
    "    decay from max value to min value following Gaussian/Normal distribution\n",
    "    \"\"\"\n",
    "    radius = range / 3\n",
    "    center_prob = norm.pdf(center, center, radius)\n",
    "    x_prob = norm.pdf(x, center, radius)\n",
    "    x_value = (x_prob / center_prob) * (max_value - min_value) + min_value\n",
    "    return x_value\n",
    "def _decayed_value_in_linear(x, max_value, padding_center, decay_rate):\n",
    "    \"\"\"\n",
    "    decay from max value to min value with static linear decay rate.\n",
    "    \"\"\"\n",
    "    x_value = max_value - abs(padding_center - x) * decay_rate\n",
    "    if x_value < 0:\n",
    "        x_value = 1\n",
    "    return x_value\n",
    "\n",
    "def generate_parallel_light_mask(mask_size,\n",
    "                                 position=None,\n",
    "                                 direction=None,\n",
    "                                 max_brightness=255,\n",
    "                                 min_brightness=0,\n",
    "                                 mode=\"gaussian\",\n",
    "                                 linear_decay_rate=None):\n",
    "    \"\"\"\n",
    "    Generate decayed light mask generated by light strip given its position, direction\n",
    "    Args:\n",
    "        mask_size: tuple of integers (w, h) defining generated mask size\n",
    "        position: tuple of integers (x, y) defining the center of light strip position,\n",
    "                  which is the reference point during rotating\n",
    "        direction: integer from 0 to 360 to indicate the rotation degree of light strip\n",
    "        max_brightness: integer that max brightness in the mask\n",
    "        min_brightness: integer that min brightness in the mask\n",
    "        mode: the way that brightness decay from max to min: linear or gaussian\n",
    "        linear_decay_rate: only valid in linear_static mode. Suggested value is within [0.2, 2]\n",
    "    Return:\n",
    "        light_mask: ndarray in float type consisting value from 0 to strength\n",
    "    \"\"\"\n",
    "    if position is None:\n",
    "        pos_x = random.randint(0, mask_size[0])\n",
    "        pos_y = random.randint(0, mask_size[1])\n",
    "    else:\n",
    "        pos_x = position[0]\n",
    "        pos_y = position[1]\n",
    "    if direction is None:\n",
    "        direction = random.randint(0, 360)\n",
    "        #print(\"Rotate degree: \", direction)\n",
    "    if linear_decay_rate is None:\n",
    "        if mode == \"linear_static\":\n",
    "            linear_decay_rate = random.uniform(0.2, 2)\n",
    "        if mode == \"linear_dynamic\":\n",
    "            linear_decay_rate = (max_brightness - min_brightness) / max(mask_size)\n",
    "    assert mode in [\"linear_dynamic\", \"linear_static\", \"gaussian\"], \\\n",
    "        \"mode must be linear_dynamic, linear_static or gaussian\"\n",
    "    padding = int(max(mask_size) * np.sqrt(2))\n",
    "    # add padding to satisfy cropping after rotating\n",
    "    canvas_x = padding * 2 + mask_size[0]\n",
    "    canvas_y = padding * 2 + mask_size[1]\n",
    "    mask = np.zeros(shape=(canvas_y, canvas_x), dtype=np.float32)\n",
    "    # initial mask's up left corner and bottom right corner coordinate\n",
    "    init_mask_ul = (int(padding), int(padding))\n",
    "    init_mask_br = (int(padding+mask_size[0]), int(padding+mask_size[1]))\n",
    "    init_light_pos = (padding + pos_x, padding + pos_y)\n",
    "    # fill in mask row by row with value decayed from center\n",
    "    for i in range(canvas_y):\n",
    "        if mode == \"linear\":\n",
    "            i_value = _decayed_value_in_linear(i, max_brightness, init_light_pos[1], linear_decay_rate)\n",
    "        elif mode == \"gaussian\":\n",
    "            i_value = _decayed_value_in_norm(i, max_brightness, min_brightness, init_light_pos[1], mask_size[1])\n",
    "        else:\n",
    "            i_value = 0\n",
    "        mask[i] = i_value\n",
    "    # rotate mask\n",
    "    rotate_M = cv2.getRotationMatrix2D(init_light_pos, direction, 1)\n",
    "    mask = cv2.warpAffine(mask, rotate_M, (canvas_x,  canvas_y))\n",
    "    # crop\n",
    "    mask = mask[init_mask_ul[1]:init_mask_br[1], init_mask_ul[0]:init_mask_br[0]]\n",
    "    mask = np.asarray(mask, dtype=np.uint8)\n",
    "    # add median blur\n",
    "    mask = cv2.medianBlur(mask, 9)\n",
    "    mask = 255 - mask\n",
    "    # cv2.circle(mask, init_light_pos, 1, (0, 0, 255))\n",
    "    # cv2.imshow(\"crop\", mask[init_mask_ul[1]:init_mask_br[1], init_mask_ul[0]:init_mask_br[0]])\n",
    "    # cv2.imshow(\"all\", mask)\n",
    "    # cv2.waitKey(0)\n",
    "    return mask\n",
    "\n",
    "def add_parallel_light(image, light_position=None, direction=None, max_brightness=255, min_brightness=0,\n",
    "                       mode=\"gaussian\", linear_decay_rate=None, transparency=None):\n",
    "    \"\"\"\n",
    "    Add mask generated from parallel light to given image\n",
    "    \"\"\"\n",
    "    if transparency is None:\n",
    "        transparency = random.uniform(0.5, 0.85)\n",
    "    frame = image\n",
    "    height, width, _ = frame.shape\n",
    "    hsv = cv2.cvtColor(frame, cv2.COLOR_BGR2HSV)\n",
    "    mask = generate_parallel_light_mask(mask_size=(width, height),\n",
    "                                        position=light_position,\n",
    "                                        direction=direction,\n",
    "                                        max_brightness=max_brightness,\n",
    "                                        min_brightness=min_brightness,\n",
    "                                        mode=mode,\n",
    "                                        linear_decay_rate=linear_decay_rate)\n",
    "    hsv[:, :, 2] = hsv[:, :, 2] * transparency + (255-mask) * (1 - transparency)\n",
    "    frame = cv2.cvtColor(hsv, cv2.COLOR_HSV2BGR)\n",
    "    frame[frame > 255] = 255\n",
    "    frame = np.asarray(frame, dtype=np.uint8)\n",
    "    return frame"
   ]
  },
  {
   "cell_type": "code",
   "execution_count": 49,
   "metadata": {},
   "outputs": [],
   "source": [
    "import numpy as np\n",
    "import cv2\n",
    "import math\n",
    "from math import exp\n",
    "\n",
    "\n",
    "def pointAngle(Apoint, Bpoint):\n",
    "    angle = (Bpoint[1] - Apoint[1]) / ((Bpoint[0] - Apoint[0]) + 10e-8)\n",
    "    return angle\n",
    "\n",
    "def pointDistance(Apoint, Bpoint):\n",
    "    return math.sqrt((Bpoint[1] - Apoint[1])**2 + (Bpoint[0] - Apoint[0])**2)\n",
    "\n",
    "def lineBiasAndK(Apoint, Bpoint):\n",
    "    K = pointAngle(Apoint, Bpoint)\n",
    "    B = Apoint[1] - K*Apoint[0]\n",
    "    return K, B\n",
    "\n",
    "def getX(K, B, Ypoint):\n",
    "    return int((Ypoint-B)/K)\n",
    "\n",
    "def sidePoint(Apoint, Bpoint, h, w, placehold):\n",
    "\n",
    "    K, B = lineBiasAndK(Apoint, Bpoint)\n",
    "    angle = abs(math.atan(pointAngle(Apoint, Bpoint)))\n",
    "    distance = pointDistance(Apoint, Bpoint)\n",
    "\n",
    "    halfIncreaseDistance = 0.5 * distance\n",
    "\n",
    "    XaxisIncreaseDistance = abs(math.cos(angle) * halfIncreaseDistance)\n",
    "    YaxisIncreaseDistance = abs(math.sin(angle) * halfIncreaseDistance)\n",
    "\n",
    "    if placehold == 'leftTop':\n",
    "        x1 = max(0, Apoint[0] - XaxisIncreaseDistance)\n",
    "        y1 = max(0, Apoint[1] - YaxisIncreaseDistance)\n",
    "    elif placehold == 'rightTop':\n",
    "        x1 = min(w, Bpoint[0] + XaxisIncreaseDistance)\n",
    "        y1 = max(0, Bpoint[1] - YaxisIncreaseDistance)\n",
    "    elif placehold == 'rightBottom':\n",
    "        x1 = min(w, Bpoint[0] + XaxisIncreaseDistance)\n",
    "        y1 = min(h, Bpoint[1] + YaxisIncreaseDistance)\n",
    "    elif placehold == 'leftBottom':\n",
    "        x1 = max(0, Apoint[0] - XaxisIncreaseDistance)\n",
    "        y1 = min(h, Apoint[1] + YaxisIncreaseDistance)\n",
    "\n",
    "    return int(x1), int(y1)\n",
    "\n",
    "# 将box扩大1.5倍\n",
    "def enlargebox(box, h, w):\n",
    "   # print(box)\n",
    "    # box = [Apoint, Bpoint, Cpoint, Dpoint]\n",
    "    Apoint, Bpoint, Cpoint, Dpoint = box\n",
    "    K1, B1 = lineBiasAndK(box[0], box[2])\n",
    "    K2, B2 = lineBiasAndK(box[3], box[1])\n",
    "    X = (B2 - B1)/(K1 - K2)\n",
    "    Y = K1 * X + B1\n",
    "    center = [X, Y]\n",
    "\n",
    "    x1, y1 = sidePoint(Apoint, center, h, w, 'leftTop')\n",
    "    x2, y2 = sidePoint(center, Bpoint, h, w, 'rightTop')\n",
    "    x3, y3 = sidePoint(center, Cpoint, h, w, 'rightBottom')\n",
    "    x4, y4 = sidePoint(Dpoint, center, h, w, 'leftBottom')\n",
    "    newcharbox = np.array([[x1, y1], [x2, y2], [x3, y3], [x4, y4]])\n",
    "    return newcharbox\n",
    "\n",
    "# coding=utf-8\n",
    "from math import exp\n",
    "import numpy as np\n",
    "import cv2\n",
    "import os\n",
    "import math\n",
    "#from gaussianMap import imgproc\n",
    "#from data.boxEnlarge import enlargebox\n",
    "\n",
    "\n",
    "class GaussianTransformer(object):\n",
    "\n",
    "    def __init__(self, imgSize=200, enlargeSize=1.50):\n",
    "        self.imgSize = imgSize\n",
    "        isotropicGrayscaleImage, isotropicGrayscaleImageColor = self.gen_gaussian_heatmap()\n",
    "        self.standardGaussianHeat = isotropicGrayscaleImage\n",
    "        self.enlargeSize = enlargeSize\n",
    "        # color_gaussian = cv2.applyColorMap(self.standardGaussianHeat, cv2.COLORMAP_JET)\n",
    "        # cv2.imshow(\"test\", color_gaussian)\n",
    "        # cv2.waitKey(0)\n",
    "        # self._test()\n",
    "\n",
    "    def gen_gaussian_heatmap(self):\n",
    "        circle_mask = self.gen_circle_mask()\n",
    "        imgSize = self.imgSize\n",
    "        isotropicGrayscaleImage = np.zeros((imgSize, imgSize), np.float32)\n",
    "\n",
    "        # scaledGaussian = lambda x: exp(-((x ** 2)/(2 * (40 **2)))) * (1 / sqrt(2 * pi * (40 **2)))\n",
    "        # scaledGaussian = lambda x: exp(-((x ** 2) / (2 * (40 ** 2))))\n",
    "\n",
    "        # 生成高斯图\n",
    "        for i in range(imgSize):\n",
    "            for j in range(imgSize):\n",
    "                isotropicGrayscaleImage[i, j] = 1 / 2 / np.pi / (40 ** 2) * np.exp(\n",
    "                    -1 / 2 * ((i - imgSize / 2) ** 2 / (40 ** 2) + (j - imgSize / 2) ** 2 / (40 ** 2)))\n",
    "        # 如果要可视化对比正方形和最大内切圆高斯图的区别，注释下面这行即可\n",
    "        isotropicGrayscaleImage = isotropicGrayscaleImage * circle_mask\n",
    "        isotropicGrayscaleImage = (isotropicGrayscaleImage / np.max(isotropicGrayscaleImage)).astype(np.float32)\n",
    "\n",
    "        isotropicGrayscaleImage = (isotropicGrayscaleImage / np.max(isotropicGrayscaleImage) * 255).astype(np.uint8)\n",
    "        isotropicGrayscaleImageColor = cv2.applyColorMap(isotropicGrayscaleImage, cv2.COLORMAP_JET)\n",
    "        return isotropicGrayscaleImage, isotropicGrayscaleImageColor\n",
    "\n",
    "    # 生成高斯图的mask，对于正方形的高斯图来说，只将最大内切圆作为字符的高斯图区域去学习\n",
    "    # 在初版开源的高斯图生成中，是将正方形完整区域作为高斯图的\n",
    "    # 新的方法可视化后与作者论文中展示的可视化效果是完全一致的\n",
    "    def gen_circle_mask(self):\n",
    "        imgSize = self.imgSize\n",
    "        circle_img = np.zeros((imgSize, imgSize), np.float32)\n",
    "        circle_mask = cv2.circle(circle_img, (imgSize//2, imgSize//2), imgSize//2, 1, -1)\n",
    "\n",
    "        # circle_mask = cv2.circle(circle_img, (imgSize//2, imgSize//2), imgSize//2, 255, -1)\n",
    "        # circle_mask = cv2.applyColorMap(circle_mask, cv2.COLORMAP_JET)\n",
    "        # cv2.imshow(\"circle\", circle_mask)\n",
    "        # cv2.waitKey(0)\n",
    "        return circle_mask\n",
    "\n",
    "    # 将原始的box扩大1.5倍\n",
    "    # 仅仅作用于正矩形，不规则四边形无效， 请参考data/boEnlarge文件\n",
    "    def enlargeBox(self, box, imgh, imgw):\n",
    "        boxw = box[1][0] - box[0][0]\n",
    "        boxh = box[2][1] - box[1][1]\n",
    "\n",
    "        if imgh <= boxh or imgw <= boxw:\n",
    "            return box\n",
    "\n",
    "        enlargew = boxw * 0.5\n",
    "        enlargeh = boxh * 0.5\n",
    "\n",
    "        # box扩大这部分为了清晰，code写的比较冗余\n",
    "        # 左上角顶点扩充后坐标， 剩下点顺时针以此类推\n",
    "        box[0][0], box[0][1] = max(0, box[0][0] - int(enlargew*0.5)), max(0, box[0][1] - int(enlargeh*0.5))\n",
    "        box[1][0], box[1][1] = min(imgw, box[1][0] + int(enlargew*0.5)), max(0, box[1][1] - int(enlargeh*0.5))\n",
    "        box[2][0], box[2][1] = min(imgw, box[2][0] + int(enlargew*0.5)), min(imgh, box[2][1] + int(enlargeh*0.5))\n",
    "        box[3][0], box[3][1] = max(0, box[3][0] - int(enlargew*0.5)), min(imgh, box[3][1] + int(enlargeh*0.5))\n",
    "\n",
    "        return box\n",
    "\n",
    "    def four_point_transform(self, target_bbox, save_dir=None):\n",
    "        '''\n",
    "        :param target_bbox:目标bbox\n",
    "        :param save_dir:如果不是None，则保存图片到save_dir中\n",
    "        :return:\n",
    "        '''\n",
    "        width, height = np.max(target_bbox[:, 0]).astype(np.int32), np.max(target_bbox[:, 1]).astype(np.int32)\n",
    "        right = self.standardGaussianHeat.shape[1] - 1\n",
    "        bottom = self.standardGaussianHeat.shape[0] - 1\n",
    "        ori = np.array([[0, 0], [right, 0],\n",
    "                        [right, bottom],\n",
    "                        [0, bottom]], dtype=\"float32\")\n",
    "        M = cv2.getPerspectiveTransform(ori, target_bbox)\n",
    "        warped = cv2.warpPerspective(self.standardGaussianHeat.copy(), M, (int(width), int(height)))\n",
    "        warped = np.array(warped, np.uint8)\n",
    "        if save_dir:\n",
    "            warped_color = cv2.applyColorMap(warped, cv2.COLORMAP_JET)\n",
    "            cv2.imwrite(os.path.join(save_dir, 'warped.jpg'), warped_color)\n",
    "\n",
    "        return warped, width, height\n",
    "\n",
    "    def add_character(self, image, bbox, singal = None):\n",
    "        # bbox = self.enlargeBox(bbox, image.shape[0], image.shape[1])\n",
    "        bbxo_copy = bbox.copy()\n",
    "        bbox = enlargebox(bbox, image.shape[0], image.shape[1])\n",
    "        if singal == \"affinity\":\n",
    "            bbox[0][0], bbox[1][0], bbox[2][0], bbox[3][0] = bbxo_copy[0][0], bbxo_copy[1][0], bbxo_copy[2][0], bbxo_copy[3][0]\n",
    "\n",
    "        # bbox = np.array([[45, 135], [135, 135], [135, 295], [45, 295]], dtype=np.float32)\n",
    "\n",
    "        if np.any(bbox < 0) or np.any(bbox[:, 0] > image.shape[1]) or np.any(bbox[:, 1] > image.shape[0]):\n",
    "            return image\n",
    "        ori_box = bbox\n",
    "        top_left = np.array([np.min(bbox[:, 0]), np.min(bbox[:, 1])]).astype(np.int32)\n",
    "        point = top_left\n",
    "        bbox -= top_left[None, :]\n",
    "        transformed, width, height = self.four_point_transform(bbox.astype(np.float32))\n",
    "        # if width * height < 10:\n",
    "        #     return image\n",
    "        try:\n",
    "            score_map = image[top_left[1]:top_left[1] + transformed.shape[0],\n",
    "                        top_left[0]:top_left[0] + transformed.shape[1]]\n",
    "            score_map = np.where(transformed > score_map, transformed, score_map)\n",
    "            image[top_left[1]:top_left[1] + transformed.shape[0],\n",
    "            top_left[0]:top_left[0] + transformed.shape[1]] = score_map\n",
    "        except Exception as e:\n",
    "            # print('tansformed shape:{}\\n image top_left shape:{}\\n top transformed shape:{}\\n width and hright:{}\\n ori box:{}\\n top left:{}\\n point:{}\\n min width height:{}\\n bbox:{}\\n'\n",
    "            #       .format(transformed.shape, image[top_left[1]:top_left[1],\n",
    "            # top_left[0]:top_left[0]].shape, image[top_left[1]:top_left[1] + transformed.shape[0],\n",
    "            # top_left[0]:top_left[0] + transformed.shape[1]].shape, (width, height), ori_box, top_left,point,\n",
    "            #       np.array([np.min(ori_box[:, 0]), np.min(ori_box[:, 1])]).astype(np.int32),\n",
    "            #       ori_box-np.array([np.min(ori_box[:, 0]), np.min(ori_box[:, 1])]).astype(np.int32)))\n",
    "            print('second filter {} {} {}'.format(width,height,singal))\n",
    "        return image\n",
    "\n",
    "    def add_affinity(self, image, bbox_1, bbox_2):\n",
    "        center_1, center_2 = np.mean(bbox_1, axis=0), np.mean(bbox_2, axis=0)\n",
    "        tl = (bbox_1[0:2].sum(0) + center_1) / 3\n",
    "        bl = (bbox_2[0:2].sum(0) + center_2) / 3\n",
    "        tr = (bbox_2[2:4].sum(0) + center_2) / 3\n",
    "        br = (bbox_1[2:4].sum(0) + center_1) / 3\n",
    "\n",
    "        affinity = np.array([tl, bl, tr, br]).astype(np.float32)\n",
    "        # tl = np.mean([bbox_1[0], bbox_1[1], center_1], axis=0)\n",
    "        # bl = np.mean([bbox_1[2], bbox_1[3], center_1], axis=0)\n",
    "        # tr = np.mean([bbox_2[0], bbox_2[1], center_2], axis=0)\n",
    "        # br = np.mean([bbox_2[2], bbox_2[3], center_2], axis=0)\n",
    "        #\n",
    "        # affinity = np.array([tl, tr, br, bl])\n",
    "\n",
    "        return self.add_character(image, affinity.copy(), singal='affinity'), np.expand_dims(affinity, axis=0)\n",
    "\n",
    "    def generate_region(self, image_size, bboxes):\n",
    "        height, width = image_size\n",
    "        target = np.zeros([height, width], dtype=np.float32)\n",
    "        for i in range(len(bboxes)):\n",
    "            character_bbox = np.array(bboxes[i])\n",
    "            for j in range(bboxes[i].shape[0]):\n",
    "                target = self.add_character(target, character_bbox[j], singal='region')\n",
    "\n",
    "        return target\n",
    "\n",
    "    def saveGaussianHeat(self):\n",
    "        images_folder = os.path.abspath(os.path.dirname(__file__)) + '/images'\n",
    "        cv2.imwrite(os.path.join(images_folder, 'standard.jpg'), self.standardGaussianHeat)\n",
    "        warped_color = cv2.applyColorMap(self.standardGaussianHeat, cv2.COLORMAP_JET)\n",
    "        cv2.imwrite(os.path.join(images_folder, 'standard_color.jpg'), warped_color)\n",
    "        standardGaussianHeat1 = self.standardGaussianHeat.copy()\n",
    "        standardGaussianHeat1[standardGaussianHeat1 < (0.4 * 255)] = 255\n",
    "        threshhold_guassian = cv2.applyColorMap(standardGaussianHeat1, cv2.COLORMAP_JET)\n",
    "        cv2.imwrite(os.path.join(images_folder, 'threshhold_guassian.jpg'), threshhold_guassian)\n",
    "\n",
    "    def generate_affinity(self, image_size, bboxes, words):\n",
    "        height, width = image_size\n",
    "        target = np.zeros([height, width], dtype=np.float32)\n",
    "        affinities = []\n",
    "        for i in range(len(words)):\n",
    "            character_bbox = np.array(bboxes[i])\n",
    "            total_letters = 0\n",
    "            for char_num in range(character_bbox.shape[0] - 1):\n",
    "                target, affinity = self.add_affinity(target, character_bbox[total_letters],\n",
    "                                                     character_bbox[total_letters + 1])\n",
    "                affinities.append(affinity)\n",
    "                total_letters += 1\n",
    "        if len(affinities) > 0:\n",
    "            affinities = np.concatenate(affinities, axis=0)\n",
    "        return target, affinities"
   ]
  },
  {
   "cell_type": "code",
   "execution_count": 50,
   "metadata": {},
   "outputs": [],
   "source": [
    "import numpy as np\n",
    "import pdb\n",
    "from matplotlib import pyplot as plt\n",
    "from scipy.stats import multivariate_normal\n",
    "import squircle\n",
    "import imutils\n",
    "from PIL import ImageOps\n",
    "\n",
    "def gauss2d(size=(200,200), square=False):\n",
    "    mu = [0, 0]\n",
    "    sigma = [1500, 1500]\n",
    "    w, h = size\n",
    "\n",
    "    std = [np.sqrt(sigma[0]), np.sqrt(sigma[1])]\n",
    "    x = np.linspace(-w//2, w//2, w)\n",
    "    y = np.linspace(-h//2, h//2, h)\n",
    "\n",
    "    x, y = np.meshgrid(x, y)\n",
    "\n",
    "    x_ = x.flatten()\n",
    "    y_ = y.flatten()\n",
    "    xy = np.vstack((x_, y_)).T\n",
    "\n",
    "    normal_rv = multivariate_normal(mu, sigma)\n",
    "    z = normal_rv.pdf(xy)\n",
    "    z = z.reshape(w, h, order='F')\n",
    "    z = z / np.max(z) * 255\n",
    "    #z[z>255] = 255\n",
    "    if square:\n",
    "        z = squircle.to_square(z, method=\"elliptical\")\n",
    "        z = squircle.to_square(z, method=\"elliptical\")\n",
    "    #plt.imshow(z, cmap=\"gray\")\n",
    "    return z\n",
    "\n",
    "\n",
    "def get_gradient_3d(width, height, start_list, stop_list, is_horizontal_list):\n",
    "    result = np.zeros((height, width, len(start_list)), dtype=np.float)\n",
    "\n",
    "    for i, (start, stop, is_horizontal) in enumerate(zip(start_list, stop_list, is_horizontal_list)):\n",
    "        result[:, :, i] = get_gradient_2d(start, stop, width, height, is_horizontal)\n",
    "\n",
    "    return result\n",
    "\n",
    "def get_gradient_2d(start, stop, width, height, is_horizontal):\n",
    "    if is_horizontal:\n",
    "        return np.tile(np.linspace(start, stop, width), (height, 1))\n",
    "    else:\n",
    "        return np.tile(np.linspace(start, stop, height), (width, 1)).T"
   ]
  },
  {
   "cell_type": "code",
   "execution_count": 51,
   "metadata": {},
   "outputs": [],
   "source": [
    "\n",
    "class ImageDistorter:\n",
    "    def __init__(self, image, textImage, annotation, background):\n",
    "        \n",
    "        self.minImageSize = min(*image.size)\n",
    "        self.image = np.array(image)\n",
    "        self.squareMask = gauss2d(square=True)\n",
    "        self.circleMask = gauss2d()\n",
    "        self.textImage = np.array(textImage)\n",
    "        self.annotation = annotation\n",
    "        self.angle = 0\n",
    "        self.background = background\n",
    "    \n",
    "    def applymotionBlur(self):\n",
    "        size = np.random.randint(-max(self.minImageSize//50,1)//2, max(self.minImageSize//50, 1))\n",
    "        if size <= 0:\n",
    "            return\n",
    "        angle = np.random.randint(0, 180)\n",
    "        k = np.zeros((size, size), dtype=np.float32)\n",
    "        k[(size-1)// 2, :] = np.ones(size, dtype=np.float32)\n",
    "        k = cv2.warpAffine(k, cv2.getRotationMatrix2D((size / 2 -0.5 , size / 2 -0.5 ) , angle, 1.0), (size, size))  \n",
    "        k = k * (1.0 / np.sum(k))       \n",
    "        self.image =  cv2.filter2D(self.image, -1, k)\n",
    "        \n",
    "    def applyGaussBlur(self):\n",
    "        size = np.random.randint(-5, 5) //2 * 2 + 1 \n",
    "        if size <= 0:\n",
    "            return\n",
    "        self.image = cv2.GaussianBlur(self.image,(5,5),0)\n",
    "        \n",
    "    def applyBlur(self):\n",
    "        if np.random.randint(0,2) == 0:\n",
    "            self.applyGaussBlur()\n",
    "        else:\n",
    "            self.applymotionBlur()\n",
    "\n",
    "    def applyShadow(self, brightness=0):\n",
    "        shadowCount = np.random.randint(5)\n",
    "        H,W, _ = self.image.shape\n",
    "        for i in range(1):\n",
    "            h = np.random.randint(self.image.shape[0], self.image.shape[0]*2)\n",
    "            w = np.random.randint(self.image.shape[1], self.image.shape[1]*2)\n",
    "            startX = np.random.randint(-w//2, W - w//2)\n",
    "            startY = np.random.randint(-h//2, H - h//2)\n",
    "            maskXBegin = 0\n",
    "            maskXEnd = w\n",
    "            if startX < 0:\n",
    "                maskXBegin = - startX\n",
    "            if startX + w > W:\n",
    "                maskXEnd =  (W - startX)\n",
    "            maskYBegin = 0\n",
    "            maskYEnd = h\n",
    "            if startY < 0:\n",
    "                maskYBegin = - startY\n",
    "            if startY + h > H:\n",
    "                maskYEnd =  (H - startY)\n",
    "            \n",
    "            pillImg = Image.fromarray(self.image)\n",
    "            imOut = self.image.copy()\n",
    "            cropped = pillImg.crop([max(startX,0),max(0,startY),min(startX + w, W) ,min(startY + h, H)])\n",
    "            factor = np.random.uniform(0.2 + brightness,0.5 + brightness) #darkens the image\n",
    "            enhancer = ImageEnhance.Brightness(cropped)\n",
    "            im_output = enhancer.enhance(factor)\n",
    "            imOut[max(0,startY):min(startY + h, H), max(0,startX):min(startX + w, W)] = np.array(im_output)\n",
    "            mask = cv2.resize(self.circleMask, (w,h))[maskYBegin:maskYEnd, maskXBegin:maskXEnd]\n",
    "            imOut[max(0,startY):min(startY + h, H), max(0,startX):min(startX + w, W), 3] = mask\n",
    "            \n",
    "            self.image = np.array(Image.alpha_composite(Image.fromarray(self.image), Image.fromarray(imOut)))\n",
    "    \n",
    "    def applyBrightness(self):\n",
    "        self.applyShadow(1)\n",
    "        \n",
    "    def applyGlare(self, center=None):\n",
    "        H,W, _ = self.image.shape\n",
    "        h = np.random.randint(H//5, H//2)\n",
    "        w = np.random.randint(W//5, W//2)\n",
    "        startX = np.random.randint(-w//2, W - w//2)\n",
    "        startY = np.random.randint(-h//2, H - h//2)\n",
    "        if center is not None:\n",
    "            startX = center[0] - w//2\n",
    "            startY = center[1] - h//2\n",
    "            assert(startX + w>= 0)\n",
    "            assert(startY + h>= 0)\n",
    "        maskXBegin = 0\n",
    "        maskXEnd = w\n",
    "        if startX < 0:\n",
    "            maskXBegin = - startX\n",
    "        if startX + w > W:\n",
    "            maskXEnd =  (W - startX)\n",
    "        maskYBegin = 0\n",
    "        maskYEnd = h\n",
    "        if startY < 0:\n",
    "            maskYBegin = - startY\n",
    "        if startY + h > H:\n",
    "            maskYEnd =  (H - startY)\n",
    "\n",
    "        h2, w2 = min(h, w), min(h, w)\n",
    "        im = Image.new(mode='RGB', size=(w2,h2), color=(255,255,255))\n",
    "\n",
    "        Y = np.linspace(-1, 1, h2)[None, :]*255\n",
    "        X = np.linspace(-1, 1, w2)[:, None]*255\n",
    "        alpha = np.sqrt(X**2 + Y**2)\n",
    "        alpha = 255 - np.clip(alpha,50,255)\n",
    "\n",
    "        im.putalpha(Image.fromarray(alpha.astype(np.uint8)))\n",
    "        im = np.array(im.resize((w, h)))\n",
    "        \n",
    "        imageToMerge = np.zeros_like(self.image)\n",
    "        imageToMerge[max(0,startY):min(startY + h, H), max(0,startX):min(startX + w, W)] = im[maskYBegin:maskYEnd, maskXBegin:maskXEnd]\n",
    "        \n",
    "        self.image = np.array(Image.alpha_composite(Image.fromarray(self.image), Image.fromarray(imageToMerge)))\n",
    "    \n",
    "    def applyUnevenLight(self):\n",
    "        if np.random.randint(0,20) == 0:\n",
    "            return\n",
    "        \n",
    "        H,W, _ = self.image.shape\n",
    "        if np.random.randint(0,2) == 0:\n",
    "            centerX = np.random.randint(0, W)\n",
    "            centerY = np.random.randint(0, H)\n",
    "            image = Image.fromarray(add_parallel_light(np.array(self.image), (centerX, centerY)))\n",
    "            image.putalpha(255)\n",
    "            self.image = np.array(image)\n",
    "            if np.random.randint(0,8) == 0:\n",
    "                self.applyGlare((centerX, centerY))\n",
    "        else:\n",
    "            count = np.random.randint(1, 5)\n",
    "            centers = []\n",
    "            for i in range(count):\n",
    "                centerX = np.random.randint(0, W)\n",
    "                centerY = np.random.randint(0, H)\n",
    "                centers.append((centerX, centerY))\n",
    "            image = Image.fromarray(add_spot_light(np.array(self.image), centers))\n",
    "            image.putalpha(255)\n",
    "            self.image = np.array(image)\n",
    "        \n",
    "\n",
    "    def applyRandomGamma(self):\n",
    "        gamma = np.random.uniform(0.5, 1.5)\n",
    "        invGamma = 1.0 / gamma\n",
    "        table = np.array([0,*[((i / 255.0) ** invGamma) * 255 for i in np.arange(1, 256)]]).astype(\"uint8\")\n",
    "        self.image = cv2.LUT(self.image, table)\n",
    "        \n",
    "    def applyLightHistogrammShift(self):\n",
    "        pass\n",
    "        \n",
    "    def applyNoise(self):\n",
    "        H, W, _ = self.image.shape\n",
    "        \n",
    "        if np.random.randint(0,10) == 0:\n",
    "            noise = np.random.normal(0, 32, (H,W, 4)).astype(np.int)\n",
    "            self.image = self.image.astype(np.int)\n",
    "            noise[:,:,3] = 0\n",
    "            self.image += noise\n",
    "            self.image[self.image > 255] = 255\n",
    "            self.image[self.image < 0] = 0\n",
    "            \n",
    "            self.image = self.image.astype(np.uint8)\n",
    "            return\n",
    "            \n",
    "            \n",
    "        if np.random.randint(0,20) == 0:\n",
    "            noise = np.random.normal(0, np.random.random()*0.5 +1e-8, (H,W, 4))\n",
    "            self.image = self.image.astype(np.int)\n",
    "            noise[:,:,3] = 0\n",
    "            self.image += (noise * self.image).astype(np.int)\n",
    "            self.image[self.image > 255] = 255\n",
    "            self.image[self.image < 0] = 0 \n",
    "            self.image = self.image.astype(np.uint8)\n",
    "            return\n",
    "        \n",
    "        if np.random.randint(0,8) == 0:\n",
    "            noiseMask = np.random.randint(0,50, size=(H,W)) == 0\n",
    "            noise = np.random.randint(0,255, size=(H,W))\n",
    "            self.image[noise > 240] = 255\n",
    "            self.image[noise <= 10] = 0\n",
    "            self.image[:,:,3] = 255\n",
    "            return\n",
    "    \n",
    "        if np.random.randint(0,5) == 0:\n",
    "            noiseMask = np.random.randint(0,20, size=(H,W)) == 0\n",
    "            noise = np.random.randint(0,255, size=(H,W, 4))\n",
    "            noise[:,:,3] = 255\n",
    "            self.image[noiseMask] = noise[noiseMask]\n",
    "            return\n",
    "        \n",
    "    def applyProjMatrix(self, projective_matrix, imgSize, oldImageSize):\n",
    "        H, W, _ = imgSize\n",
    "        h, w, _ = imgSize\n",
    "        w, h = w // 2, h // 2\n",
    "        h1, w1, _ = oldImageSize\n",
    "        w1, h1 = w1 // 2, h1 // 2\n",
    "\n",
    "        for i, symbols in enumerate(self.annotation[\"wordsCharactersRects\"]):\n",
    "            newCharactersRects = []\n",
    "            for k in symbols:\n",
    "                rotated = np.float32([[k[0][0] + w-w1, k[0][1] + h-h1], [k[1][0] + w-w1, k[1][1]+ h-h1], \\\n",
    "                                    [k[2][0] + w-w1, k[2][1] + h-h1], [k[3][0] + w-w1, k[3][1] + h-h1]] )\n",
    "\n",
    "                rotated = cv2.perspectiveTransform(np.float32(rotated)[None, :, :], projective_matrix, (W,H))[0]\n",
    "                newCharactersRects.append(rotated.tolist())\n",
    "            self.annotation[\"wordsCharactersRects\"][i] = newCharactersRects\n",
    "        for i, k in enumerate(self.annotation[\"wordRects\"]):\n",
    "            k = k\n",
    "            self.annotation[\"wordRects\"][i]\n",
    "            rotated = np.float32([ [k[0][0] + w-w1, k[0][1] + h-h1], [k[1][0] + w-w1, k[1][1]+ h-h1], \\\n",
    "                                    [k[2][0] + w-w1, k[2][1] + h-h1], [k[3][0] + w-w1, k[3][1] + h-h1]] )\n",
    "            rotated = cv2.perspectiveTransform(np.float32(rotated)[None, :, :], projective_matrix, (W,H))[0]\n",
    "            self.annotation[\"wordRects\"][i] = rotated.tolist()\n",
    "\n",
    "    def appplyProj(self):\n",
    "        if np.random.randint(0,10) != 0:\n",
    "            return\n",
    "        h, w, _ = self.image.shape\n",
    "        src_points = np.float32([[0,0], [w-1,0], [0,h-1], [w-1,h-1]])\n",
    "        cap = min(w,h)//40\n",
    "        dst_points = np.float32([[np.random.randint(1, cap),np.random.randint(1, cap)], [w - np.random.randint(1, cap),0], [0,h - np.random.randint(1, cap)], [w - np.random.randint(1, cap),h - np.random.randint(1, cap)]])\n",
    "        projective_matrix = cv2.getPerspectiveTransform(src_points, dst_points)\n",
    "        \n",
    "        oldImageSize = self.image.shape\n",
    "        self.image = cv2.warpPerspective(self.image, projective_matrix, (w,h))\n",
    "        self.textImage = cv2.warpPerspective(self.textImage, projective_matrix, (w,h))\n",
    "        \n",
    "        self.applyProjMatrix(projective_matrix, self.image.shape, oldImageSize)\n",
    "\n",
    "    \n",
    "    def applyRotation(self):\n",
    "        if np.random.randint(0,10) != 0:\n",
    "            return\n",
    "        h1, w1, _ = self.image.shape\n",
    "        w1, h1 = w1 // 2, h1 // 2\n",
    "    \n",
    "        angle = np.random.uniform(-3,3)\n",
    "        self.angle = angle\n",
    "        oldImageSize = self.image.shape\n",
    "        self.image = np.array(Image.fromarray(self.image).rotate(angle, expand=1))\n",
    "        self.textImage = np.array(Image.fromarray(self.textImage).rotate(angle, expand=1))\n",
    "        \n",
    "        H, W, _ = self.image.shape\n",
    "        h, w, _ = self.image.shape\n",
    "        w, h = w // 2, h // 2\n",
    "\n",
    "        rotated = rotateRect([w-w1, h-h1, w+w1, h+h1], -angle, h, w)\n",
    "\n",
    "        src_points = np.float32([[w-w1, h-h1], [w+w1, h-h1], [w+w1,h+h1], [w-w1,h+h1]])\n",
    "        dst_points = np.float32(rotated)\n",
    "        projective_matrix = cv2.getPerspectiveTransform(src_points, dst_points)\n",
    "        self.applyProjMatrix(projective_matrix, self.image.shape, oldImageSize)\n",
    "        self.projective_matrix = projective_matrix\n",
    "                \n",
    "\n",
    "    def addHologram(self):\n",
    "        if np.random.randint(0,10) != 0:\n",
    "            return\n",
    "        H, W,_ = self.image.shape\n",
    "\n",
    "        colors = []\n",
    "        for i in range(2):\n",
    "            color = [0,0,0, 255]\n",
    "            color[np.random.randint(0,3)] = np.random.randint(128,200)\n",
    "            color[0] = min(color[0] + np.random.randint(0,255),255)\n",
    "            color[2] = min(color[2] + np.random.randint(0,255),255)\n",
    "            color[1] = min(color[1] + np.random.randint(0,255),255)\n",
    "            colors.append(color)\n",
    "\n",
    "        isHor = np.random.randint(0,2,(3))\n",
    "\n",
    "        w = np.random.randint(W//10 , W//2)\n",
    "        h = np.random.randint(H//10, H//2)\n",
    "        array = get_gradient_3d(w, h, colors[0], colors[1], isHor)\n",
    "\n",
    "\n",
    "        im = Image.fromarray(np.uint8(array))\n",
    "        im.putalpha(np.random.randint(50,180))\n",
    "        im = np.array(im)\n",
    "        \n",
    "        if np.random.randint(0,3) == 0:\n",
    "            for i in range(1,20):\n",
    "                r = np.random.randint(min(w,h)//5,min(w,h)//2)//4\n",
    "                x = np.random.randint(r,w-r)\n",
    "                y = np.random.randint(r,h-r)\n",
    "\n",
    "                g = 255 - gauss2d((2*r,2*r))\n",
    "                im[y-r:y+r,x-r:x+r,3] = (im[y-r:y+r,x-r:x+r,3] * g / 256).astype(np.uint8)\n",
    "\n",
    "        if np.random.randint(0,2) == 0:\n",
    "            for i in range(0,min(w,h)//4):\n",
    "                rx = np.random.randint(2,w//2)\n",
    "                ry = np.random.randint(2,h//2)\n",
    "\n",
    "                if np.random.randint(0,2) == 0:\n",
    "                    rx = 2\n",
    "                else:    \n",
    "                    ry = 2\n",
    "\n",
    "                x = np.random.randint(rx,w-rx)\n",
    "                y = np.random.randint(ry,h-ry)\n",
    "\n",
    "                im[y-ry:y+ry,x-rx:x+rx,3] = 0\n",
    "\n",
    "        im = Image.fromarray(im)\n",
    "        distortedImage = Image.fromarray(self.image)\n",
    "\n",
    "\n",
    "        distortedImage.paste(im, (np.random.randint(0, W - w//2), np.random.randint(0, H - h//2)))\n",
    "        self.image= np.array(Image.alpha_composite(Image.fromarray(imd.image).copy(), distortedImage))\n",
    "        \n",
    "    def removeAlpha(self):\n",
    "        h,w,_ = self.image.shape\n",
    "        self.image = Image.fromarray(self.image)\n",
    "        background = self.background.copy().resize((w,h), PIL.Image.BILINEAR)\n",
    "        background.paste(self.image, (0,0), mask=self.image.split()[3])\n",
    "        self.image = background\n",
    "        \n",
    "        newImg = Image.new(self.image.mode, (w,h), (255,255,255))\n",
    "        self.textImage = Image.fromarray(self.textImage)\n",
    "        newImg.paste(self.textImage, (0,0), mask=self.textImage.split()[3])\n",
    "        self.textImage = newImg\n",
    "\n",
    "        \n",
    "    def generateGaussMap(self):\n",
    "        rects = [np.array(wordCharRects, dtype=np.int)[np.newaxis, :, :,:] for wordCharRects in self.annotation[\"wordsCharactersRects\"]]\n",
    "        rects = np.hstack(rects,)\n",
    "       # print(rects.shape)\n",
    "        gen = GaussianTransformer()\n",
    "        self.characterMap = gen.generate_region((self.textImage.size[1],self.textImage.size[0]), rects)\n",
    "        #affinity_image, affinities = gen.generate_affinity(image.shape, bbox, [[1,2]])\n",
    "        \n",
    "        \n",
    "    def process(self):\n",
    "        self.applyUnevenLight()\n",
    "        self.applyRandomGamma()\n",
    "        self.addHologram()\n",
    "        self.applyBlur()\n",
    "        self.applyNoise()\n",
    "        self.applyRotation()\n",
    "        self.appplyProj()\n",
    "        self.removeAlpha()\n",
    "        self.generateGaussMap()"
   ]
  },
  {
   "cell_type": "code",
   "execution_count": 52,
   "metadata": {},
   "outputs": [],
   "source": [
    "from tqdm import tqdm_notebook as tn\n",
    "import PIL"
   ]
  },
  {
   "cell_type": "code",
   "execution_count": 62,
   "metadata": {},
   "outputs": [],
   "source": [
    "part = \"Validate\"\n",
    "additionalName = \"_2\"\n",
    "pathToDataForGeneration = \"D:\\Data\\Diploma\\dataForGeneration/\"\n",
    "pathToBackGrounds = pathToDataForGeneration + \"Backgrounds\" + part\n",
    "pathToOutDir = \"D:\\Data\\Diploma\\generated//\" + part + additionalName +\"//\" #+\"noAug2//\"\n",
    "pathToGenerated = pathToOutDir + \"generated\"\n",
    "pathToGT = pathToOutDir + \"gt\"\n"
   ]
  },
  {
   "cell_type": "code",
   "execution_count": 76,
   "metadata": {},
   "outputs": [
    {
     "name": "stderr",
     "output_type": "stream",
     "text": [
      "<ipython-input-76-1913dadd0da9>:6: TqdmDeprecationWarning: This function will be removed in tqdm==5.0.0\n",
      "Please use `tqdm.notebook.tqdm` instead of `tqdm.tqdm_notebook`\n",
      "  for file in tn(os.listdir(pathToBackGrounds)):\n"
     ]
    },
    {
     "data": {
      "application/vnd.jupyter.widget-view+json": {
       "model_id": "fc3ccc82239a4fd28f7d08617b63f900",
       "version_major": 2,
       "version_minor": 0
      },
      "text/plain": [
       "HBox(children=(HTML(value=''), FloatProgress(value=0.0, max=45.0), HTML(value='')))"
      ]
     },
     "metadata": {},
     "output_type": "display_data"
    },
    {
     "name": "stderr",
     "output_type": "stream",
     "text": [
      "<ipython-input-76-1913dadd0da9>:10: TqdmDeprecationWarning: This function will be removed in tqdm==5.0.0\n",
      "Please use `tqdm.notebook.tqdm` instead of `tqdm.tqdm_notebook`\n",
      "  for j in tn(range(4)):\n"
     ]
    },
    {
     "data": {
      "application/vnd.jupyter.widget-view+json": {
       "model_id": "3a4c4dedc01e4f73bd074f636006c662",
       "version_major": 2,
       "version_minor": 0
      },
      "text/plain": [
       "HBox(children=(HTML(value=''), FloatProgress(value=0.0, max=4.0), HTML(value='')))"
      ]
     },
     "metadata": {},
     "output_type": "display_data"
    },
    {
     "name": "stderr",
     "output_type": "stream",
     "text": [
      "<ipython-input-76-1913dadd0da9>:16: TqdmDeprecationWarning: This function will be removed in tqdm==5.0.0\n",
      "Please use `tqdm.notebook.tqdm` instead of `tqdm.tqdm_notebook`\n",
      "  for i in tn(range(4)):\n"
     ]
    },
    {
     "data": {
      "application/vnd.jupyter.widget-view+json": {
       "model_id": "dd6552869e9145ff98e05782d3a7ee79",
       "version_major": 2,
       "version_minor": 0
      },
      "text/plain": [
       "HBox(children=(HTML(value=''), FloatProgress(value=0.0, max=4.0), HTML(value='')))"
      ]
     },
     "metadata": {},
     "output_type": "display_data"
    },
    {
     "name": "stderr",
     "output_type": "stream",
     "text": [
      "<ipython-input-51-38678290ec6b>:321: DeprecationWarning: `np.int` is a deprecated alias for the builtin `int`. To silence this warning, use `int` by itself. Doing this will not modify any behavior and is safe. When replacing `np.int`, you may wish to use e.g. `np.int64` or `np.int32` to specify the precision. If you wish to review your current use, check the release note link for additional information.\n",
      "Deprecated in NumPy 1.20; for more details and guidance: https://numpy.org/devdocs/release/1.20.0-notes.html#deprecations\n",
      "  rects = [np.array(wordCharRects, dtype=np.int)[np.newaxis, :, :,:] for wordCharRects in self.annotation[\"wordsCharactersRects\"]]\n",
      "<ipython-input-76-1913dadd0da9>:29: UserWarning: Matplotlib is currently using agg, which is a non-GUI backend, so cannot show the figure.\n",
      "  plt.show()\n"
     ]
    },
    {
     "name": "stdout",
     "output_type": "stream",
     "text": [
      "D:\\Data\\Diploma\\generated//Validate_2//gt/1.png0_0CharMap.png\n",
      "D:\\Data\\Diploma\\generated//Validate_2//gt/1.png1_0CharMap.png\n"
     ]
    },
    {
     "name": "stderr",
     "output_type": "stream",
     "text": [
      "<ipython-input-50-4a25245fc9cb>:37: DeprecationWarning: `np.float` is a deprecated alias for the builtin `float`. To silence this warning, use `float` by itself. Doing this will not modify any behavior and is safe. If you specifically wanted the numpy scalar type, use `np.float64` here.\n",
      "Deprecated in NumPy 1.20; for more details and guidance: https://numpy.org/devdocs/release/1.20.0-notes.html#deprecations\n",
      "  result = np.zeros((height, width, len(start_list)), dtype=np.float)\n"
     ]
    },
    {
     "name": "stdout",
     "output_type": "stream",
     "text": [
      "D:\\Data\\Diploma\\generated//Validate_2//gt/1.png2_0CharMap.png\n",
      "D:\\Data\\Diploma\\generated//Validate_2//gt/1.png3_0CharMap.png\n",
      "\n"
     ]
    },
    {
     "name": "stderr",
     "output_type": "stream",
     "text": [
      "<ipython-input-76-1913dadd0da9>:16: TqdmDeprecationWarning: This function will be removed in tqdm==5.0.0\n",
      "Please use `tqdm.notebook.tqdm` instead of `tqdm.tqdm_notebook`\n",
      "  for i in tn(range(4)):\n"
     ]
    },
    {
     "data": {
      "application/vnd.jupyter.widget-view+json": {
       "model_id": "84b8958c3c964c6eb6344eb92505ec09",
       "version_major": 2,
       "version_minor": 0
      },
      "text/plain": [
       "HBox(children=(HTML(value=''), FloatProgress(value=0.0, max=4.0), HTML(value='')))"
      ]
     },
     "metadata": {},
     "output_type": "display_data"
    },
    {
     "name": "stderr",
     "output_type": "stream",
     "text": [
      "<ipython-input-51-38678290ec6b>:321: DeprecationWarning: `np.int` is a deprecated alias for the builtin `int`. To silence this warning, use `int` by itself. Doing this will not modify any behavior and is safe. When replacing `np.int`, you may wish to use e.g. `np.int64` or `np.int32` to specify the precision. If you wish to review your current use, check the release note link for additional information.\n",
      "Deprecated in NumPy 1.20; for more details and guidance: https://numpy.org/devdocs/release/1.20.0-notes.html#deprecations\n",
      "  rects = [np.array(wordCharRects, dtype=np.int)[np.newaxis, :, :,:] for wordCharRects in self.annotation[\"wordsCharactersRects\"]]\n",
      "<ipython-input-76-1913dadd0da9>:29: UserWarning: Matplotlib is currently using agg, which is a non-GUI backend, so cannot show the figure.\n",
      "  plt.show()\n"
     ]
    },
    {
     "name": "stdout",
     "output_type": "stream",
     "text": [
      "D:\\Data\\Diploma\\generated//Validate_2//gt/1.png0_1CharMap.png\n",
      "D:\\Data\\Diploma\\generated//Validate_2//gt/1.png1_1CharMap.png\n",
      "D:\\Data\\Diploma\\generated//Validate_2//gt/1.png2_1CharMap.png\n"
     ]
    },
    {
     "name": "stderr",
     "output_type": "stream",
     "text": [
      "<ipython-input-51-38678290ec6b>:150: DeprecationWarning: `np.int` is a deprecated alias for the builtin `int`. To silence this warning, use `int` by itself. Doing this will not modify any behavior and is safe. When replacing `np.int`, you may wish to use e.g. `np.int64` or `np.int32` to specify the precision. If you wish to review your current use, check the release note link for additional information.\n",
      "Deprecated in NumPy 1.20; for more details and guidance: https://numpy.org/devdocs/release/1.20.0-notes.html#deprecations\n",
      "  noise = np.random.normal(0, 32, (H,W, 4)).astype(np.int)\n",
      "<ipython-input-51-38678290ec6b>:151: DeprecationWarning: `np.int` is a deprecated alias for the builtin `int`. To silence this warning, use `int` by itself. Doing this will not modify any behavior and is safe. When replacing `np.int`, you may wish to use e.g. `np.int64` or `np.int32` to specify the precision. If you wish to review your current use, check the release note link for additional information.\n",
      "Deprecated in NumPy 1.20; for more details and guidance: https://numpy.org/devdocs/release/1.20.0-notes.html#deprecations\n",
      "  self.image = self.image.astype(np.int)\n"
     ]
    },
    {
     "name": "stdout",
     "output_type": "stream",
     "text": [
      "D:\\Data\\Diploma\\generated//Validate_2//gt/1.png3_1CharMap.png\n",
      "\n"
     ]
    },
    {
     "data": {
      "application/vnd.jupyter.widget-view+json": {
       "model_id": "5dee7bc1068346209cd5b5b307e68e2a",
       "version_major": 2,
       "version_minor": 0
      },
      "text/plain": [
       "HBox(children=(HTML(value=''), FloatProgress(value=0.0, max=4.0), HTML(value='')))"
      ]
     },
     "metadata": {},
     "output_type": "display_data"
    },
    {
     "name": "stderr",
     "output_type": "stream",
     "text": [
      "<ipython-input-51-38678290ec6b>:163: DeprecationWarning: `np.int` is a deprecated alias for the builtin `int`. To silence this warning, use `int` by itself. Doing this will not modify any behavior and is safe. When replacing `np.int`, you may wish to use e.g. `np.int64` or `np.int32` to specify the precision. If you wish to review your current use, check the release note link for additional information.\n",
      "Deprecated in NumPy 1.20; for more details and guidance: https://numpy.org/devdocs/release/1.20.0-notes.html#deprecations\n",
      "  self.image = self.image.astype(np.int)\n",
      "<ipython-input-51-38678290ec6b>:165: DeprecationWarning: `np.int` is a deprecated alias for the builtin `int`. To silence this warning, use `int` by itself. Doing this will not modify any behavior and is safe. When replacing `np.int`, you may wish to use e.g. `np.int64` or `np.int32` to specify the precision. If you wish to review your current use, check the release note link for additional information.\n",
      "Deprecated in NumPy 1.20; for more details and guidance: https://numpy.org/devdocs/release/1.20.0-notes.html#deprecations\n",
      "  self.image += (noise * self.image).astype(np.int)\n"
     ]
    },
    {
     "name": "stdout",
     "output_type": "stream",
     "text": [
      "D:\\Data\\Diploma\\generated//Validate_2//gt/1.png0_2CharMap.png\n",
      "D:\\Data\\Diploma\\generated//Validate_2//gt/1.png1_2CharMap.png\n",
      "D:\\Data\\Diploma\\generated//Validate_2//gt/1.png2_2CharMap.png\n",
      "D:\\Data\\Diploma\\generated//Validate_2//gt/1.png3_2CharMap.png\n",
      "\n"
     ]
    },
    {
     "name": "stderr",
     "output_type": "stream",
     "text": [
      "<ipython-input-76-1913dadd0da9>:16: TqdmDeprecationWarning: This function will be removed in tqdm==5.0.0\n",
      "Please use `tqdm.notebook.tqdm` instead of `tqdm.tqdm_notebook`\n",
      "  for i in tn(range(4)):\n"
     ]
    },
    {
     "data": {
      "application/vnd.jupyter.widget-view+json": {
       "model_id": "e225d0dd98494cc2aec90f05d7ad1073",
       "version_major": 2,
       "version_minor": 0
      },
      "text/plain": [
       "HBox(children=(HTML(value=''), FloatProgress(value=0.0, max=4.0), HTML(value='')))"
      ]
     },
     "metadata": {},
     "output_type": "display_data"
    },
    {
     "name": "stderr",
     "output_type": "stream",
     "text": [
      "<ipython-input-51-38678290ec6b>:321: DeprecationWarning: `np.int` is a deprecated alias for the builtin `int`. To silence this warning, use `int` by itself. Doing this will not modify any behavior and is safe. When replacing `np.int`, you may wish to use e.g. `np.int64` or `np.int32` to specify the precision. If you wish to review your current use, check the release note link for additional information.\n",
      "Deprecated in NumPy 1.20; for more details and guidance: https://numpy.org/devdocs/release/1.20.0-notes.html#deprecations\n",
      "  rects = [np.array(wordCharRects, dtype=np.int)[np.newaxis, :, :,:] for wordCharRects in self.annotation[\"wordsCharactersRects\"]]\n",
      "<ipython-input-76-1913dadd0da9>:29: UserWarning: Matplotlib is currently using agg, which is a non-GUI backend, so cannot show the figure.\n",
      "  plt.show()\n"
     ]
    },
    {
     "name": "stdout",
     "output_type": "stream",
     "text": [
      "D:\\Data\\Diploma\\generated//Validate_2//gt/1.png0_3CharMap.png\n",
      "D:\\Data\\Diploma\\generated//Validate_2//gt/1.png1_3CharMap.png\n"
     ]
    },
    {
     "name": "stderr",
     "output_type": "stream",
     "text": [
      "<ipython-input-51-38678290ec6b>:150: DeprecationWarning: `np.int` is a deprecated alias for the builtin `int`. To silence this warning, use `int` by itself. Doing this will not modify any behavior and is safe. When replacing `np.int`, you may wish to use e.g. `np.int64` or `np.int32` to specify the precision. If you wish to review your current use, check the release note link for additional information.\n",
      "Deprecated in NumPy 1.20; for more details and guidance: https://numpy.org/devdocs/release/1.20.0-notes.html#deprecations\n",
      "  noise = np.random.normal(0, 32, (H,W, 4)).astype(np.int)\n",
      "<ipython-input-51-38678290ec6b>:151: DeprecationWarning: `np.int` is a deprecated alias for the builtin `int`. To silence this warning, use `int` by itself. Doing this will not modify any behavior and is safe. When replacing `np.int`, you may wish to use e.g. `np.int64` or `np.int32` to specify the precision. If you wish to review your current use, check the release note link for additional information.\n",
      "Deprecated in NumPy 1.20; for more details and guidance: https://numpy.org/devdocs/release/1.20.0-notes.html#deprecations\n",
      "  self.image = self.image.astype(np.int)\n"
     ]
    },
    {
     "name": "stdout",
     "output_type": "stream",
     "text": [
      "D:\\Data\\Diploma\\generated//Validate_2//gt/1.png2_3CharMap.png\n",
      "D:\\Data\\Diploma\\generated//Validate_2//gt/1.png3_3CharMap.png\n",
      "\n",
      "\n"
     ]
    },
    {
     "name": "stderr",
     "output_type": "stream",
     "text": [
      "<ipython-input-76-1913dadd0da9>:10: TqdmDeprecationWarning: This function will be removed in tqdm==5.0.0\n",
      "Please use `tqdm.notebook.tqdm` instead of `tqdm.tqdm_notebook`\n",
      "  for j in tn(range(4)):\n"
     ]
    },
    {
     "data": {
      "application/vnd.jupyter.widget-view+json": {
       "model_id": "588960b427874056b6bb997c077af936",
       "version_major": 2,
       "version_minor": 0
      },
      "text/plain": [
       "HBox(children=(HTML(value=''), FloatProgress(value=0.0, max=4.0), HTML(value='')))"
      ]
     },
     "metadata": {},
     "output_type": "display_data"
    },
    {
     "name": "stderr",
     "output_type": "stream",
     "text": [
      "<ipython-input-76-1913dadd0da9>:16: TqdmDeprecationWarning: This function will be removed in tqdm==5.0.0\n",
      "Please use `tqdm.notebook.tqdm` instead of `tqdm.tqdm_notebook`\n",
      "  for i in tn(range(4)):\n"
     ]
    },
    {
     "data": {
      "application/vnd.jupyter.widget-view+json": {
       "model_id": "c5f23900151645f9985fc3d5291112d6",
       "version_major": 2,
       "version_minor": 0
      },
      "text/plain": [
       "HBox(children=(HTML(value=''), FloatProgress(value=0.0, max=4.0), HTML(value='')))"
      ]
     },
     "metadata": {},
     "output_type": "display_data"
    },
    {
     "name": "stderr",
     "output_type": "stream",
     "text": [
      "<ipython-input-51-38678290ec6b>:321: DeprecationWarning: `np.int` is a deprecated alias for the builtin `int`. To silence this warning, use `int` by itself. Doing this will not modify any behavior and is safe. When replacing `np.int`, you may wish to use e.g. `np.int64` or `np.int32` to specify the precision. If you wish to review your current use, check the release note link for additional information.\n",
      "Deprecated in NumPy 1.20; for more details and guidance: https://numpy.org/devdocs/release/1.20.0-notes.html#deprecations\n",
      "  rects = [np.array(wordCharRects, dtype=np.int)[np.newaxis, :, :,:] for wordCharRects in self.annotation[\"wordsCharactersRects\"]]\n",
      "<ipython-input-76-1913dadd0da9>:29: UserWarning: Matplotlib is currently using agg, which is a non-GUI backend, so cannot show the figure.\n",
      "  plt.show()\n"
     ]
    },
    {
     "name": "stdout",
     "output_type": "stream",
     "text": [
      "D:\\Data\\Diploma\\generated//Validate_2//gt/111027-vector-livre-aquarela-xadrez-fundo-abstrato-grtis-vetor.jpg0_0CharMap.png\n",
      "D:\\Data\\Diploma\\generated//Validate_2//gt/111027-vector-livre-aquarela-xadrez-fundo-abstrato-grtis-vetor.jpg1_0CharMap.png\n",
      "D:\\Data\\Diploma\\generated//Validate_2//gt/111027-vector-livre-aquarela-xadrez-fundo-abstrato-grtis-vetor.jpg2_0CharMap.png\n",
      "D:\\Data\\Diploma\\generated//Validate_2//gt/111027-vector-livre-aquarela-xadrez-fundo-abstrato-grtis-vetor.jpg3_0CharMap.png\n",
      "\n"
     ]
    },
    {
     "name": "stderr",
     "output_type": "stream",
     "text": [
      "<ipython-input-76-1913dadd0da9>:16: TqdmDeprecationWarning: This function will be removed in tqdm==5.0.0\n",
      "Please use `tqdm.notebook.tqdm` instead of `tqdm.tqdm_notebook`\n",
      "  for i in tn(range(4)):\n"
     ]
    },
    {
     "data": {
      "application/vnd.jupyter.widget-view+json": {
       "model_id": "269010bac9bb4383b0dbf653cfc8067b",
       "version_major": 2,
       "version_minor": 0
      },
      "text/plain": [
       "HBox(children=(HTML(value=''), FloatProgress(value=0.0, max=4.0), HTML(value='')))"
      ]
     },
     "metadata": {},
     "output_type": "display_data"
    },
    {
     "name": "stderr",
     "output_type": "stream",
     "text": [
      "<ipython-input-51-38678290ec6b>:321: DeprecationWarning: `np.int` is a deprecated alias for the builtin `int`. To silence this warning, use `int` by itself. Doing this will not modify any behavior and is safe. When replacing `np.int`, you may wish to use e.g. `np.int64` or `np.int32` to specify the precision. If you wish to review your current use, check the release note link for additional information.\n",
      "Deprecated in NumPy 1.20; for more details and guidance: https://numpy.org/devdocs/release/1.20.0-notes.html#deprecations\n",
      "  rects = [np.array(wordCharRects, dtype=np.int)[np.newaxis, :, :,:] for wordCharRects in self.annotation[\"wordsCharactersRects\"]]\n",
      "<ipython-input-76-1913dadd0da9>:29: UserWarning: Matplotlib is currently using agg, which is a non-GUI backend, so cannot show the figure.\n",
      "  plt.show()\n"
     ]
    },
    {
     "name": "stdout",
     "output_type": "stream",
     "text": [
      "D:\\Data\\Diploma\\generated//Validate_2//gt/111027-vector-livre-aquarela-xadrez-fundo-abstrato-grtis-vetor.jpg0_1CharMap.png\n",
      "D:\\Data\\Diploma\\generated//Validate_2//gt/111027-vector-livre-aquarela-xadrez-fundo-abstrato-grtis-vetor.jpg1_1CharMap.png\n",
      "D:\\Data\\Diploma\\generated//Validate_2//gt/111027-vector-livre-aquarela-xadrez-fundo-abstrato-grtis-vetor.jpg2_1CharMap.png\n",
      "D:\\Data\\Diploma\\generated//Validate_2//gt/111027-vector-livre-aquarela-xadrez-fundo-abstrato-grtis-vetor.jpg3_1CharMap.png\n",
      "\n"
     ]
    },
    {
     "data": {
      "application/vnd.jupyter.widget-view+json": {
       "model_id": "9db596a422414e97a193da239e54c4ae",
       "version_major": 2,
       "version_minor": 0
      },
      "text/plain": [
       "HBox(children=(HTML(value=''), FloatProgress(value=0.0, max=4.0), HTML(value='')))"
      ]
     },
     "metadata": {},
     "output_type": "display_data"
    },
    {
     "name": "stdout",
     "output_type": "stream",
     "text": [
      "D:\\Data\\Diploma\\generated//Validate_2//gt/111027-vector-livre-aquarela-xadrez-fundo-abstrato-grtis-vetor.jpg0_2CharMap.png\n",
      "D:\\Data\\Diploma\\generated//Validate_2//gt/111027-vector-livre-aquarela-xadrez-fundo-abstrato-grtis-vetor.jpg1_2CharMap.png\n",
      "D:\\Data\\Diploma\\generated//Validate_2//gt/111027-vector-livre-aquarela-xadrez-fundo-abstrato-grtis-vetor.jpg2_2CharMap.png\n",
      "D:\\Data\\Diploma\\generated//Validate_2//gt/111027-vector-livre-aquarela-xadrez-fundo-abstrato-grtis-vetor.jpg3_2CharMap.png\n",
      "\n"
     ]
    },
    {
     "name": "stderr",
     "output_type": "stream",
     "text": [
      "<ipython-input-76-1913dadd0da9>:16: TqdmDeprecationWarning: This function will be removed in tqdm==5.0.0\n",
      "Please use `tqdm.notebook.tqdm` instead of `tqdm.tqdm_notebook`\n",
      "  for i in tn(range(4)):\n"
     ]
    },
    {
     "data": {
      "application/vnd.jupyter.widget-view+json": {
       "model_id": "3cf2513680364bc195478015ff1d3016",
       "version_major": 2,
       "version_minor": 0
      },
      "text/plain": [
       "HBox(children=(HTML(value=''), FloatProgress(value=0.0, max=4.0), HTML(value='')))"
      ]
     },
     "metadata": {},
     "output_type": "display_data"
    },
    {
     "name": "stderr",
     "output_type": "stream",
     "text": [
      "<ipython-input-51-38678290ec6b>:321: DeprecationWarning: `np.int` is a deprecated alias for the builtin `int`. To silence this warning, use `int` by itself. Doing this will not modify any behavior and is safe. When replacing `np.int`, you may wish to use e.g. `np.int64` or `np.int32` to specify the precision. If you wish to review your current use, check the release note link for additional information.\n",
      "Deprecated in NumPy 1.20; for more details and guidance: https://numpy.org/devdocs/release/1.20.0-notes.html#deprecations\n",
      "  rects = [np.array(wordCharRects, dtype=np.int)[np.newaxis, :, :,:] for wordCharRects in self.annotation[\"wordsCharactersRects\"]]\n",
      "<ipython-input-76-1913dadd0da9>:29: UserWarning: Matplotlib is currently using agg, which is a non-GUI backend, so cannot show the figure.\n",
      "  plt.show()\n"
     ]
    },
    {
     "name": "stdout",
     "output_type": "stream",
     "text": [
      "D:\\Data\\Diploma\\generated//Validate_2//gt/111027-vector-livre-aquarela-xadrez-fundo-abstrato-grtis-vetor.jpg0_3CharMap.png\n",
      "D:\\Data\\Diploma\\generated//Validate_2//gt/111027-vector-livre-aquarela-xadrez-fundo-abstrato-grtis-vetor.jpg1_3CharMap.png\n"
     ]
    },
    {
     "name": "stderr",
     "output_type": "stream",
     "text": [
      "<ipython-input-51-38678290ec6b>:163: DeprecationWarning: `np.int` is a deprecated alias for the builtin `int`. To silence this warning, use `int` by itself. Doing this will not modify any behavior and is safe. When replacing `np.int`, you may wish to use e.g. `np.int64` or `np.int32` to specify the precision. If you wish to review your current use, check the release note link for additional information.\n",
      "Deprecated in NumPy 1.20; for more details and guidance: https://numpy.org/devdocs/release/1.20.0-notes.html#deprecations\n",
      "  self.image = self.image.astype(np.int)\n",
      "<ipython-input-51-38678290ec6b>:165: DeprecationWarning: `np.int` is a deprecated alias for the builtin `int`. To silence this warning, use `int` by itself. Doing this will not modify any behavior and is safe. When replacing `np.int`, you may wish to use e.g. `np.int64` or `np.int32` to specify the precision. If you wish to review your current use, check the release note link for additional information.\n",
      "Deprecated in NumPy 1.20; for more details and guidance: https://numpy.org/devdocs/release/1.20.0-notes.html#deprecations\n",
      "  self.image += (noise * self.image).astype(np.int)\n"
     ]
    },
    {
     "name": "stdout",
     "output_type": "stream",
     "text": [
      "D:\\Data\\Diploma\\generated//Validate_2//gt/111027-vector-livre-aquarela-xadrez-fundo-abstrato-grtis-vetor.jpg2_3CharMap.png\n"
     ]
    },
    {
     "name": "stderr",
     "output_type": "stream",
     "text": [
      "<ipython-input-50-4a25245fc9cb>:37: DeprecationWarning: `np.float` is a deprecated alias for the builtin `float`. To silence this warning, use `float` by itself. Doing this will not modify any behavior and is safe. If you specifically wanted the numpy scalar type, use `np.float64` here.\n",
      "Deprecated in NumPy 1.20; for more details and guidance: https://numpy.org/devdocs/release/1.20.0-notes.html#deprecations\n",
      "  result = np.zeros((height, width, len(start_list)), dtype=np.float)\n"
     ]
    },
    {
     "name": "stdout",
     "output_type": "stream",
     "text": [
      "D:\\Data\\Diploma\\generated//Validate_2//gt/111027-vector-livre-aquarela-xadrez-fundo-abstrato-grtis-vetor.jpg3_3CharMap.png\n",
      "\n",
      "\n"
     ]
    },
    {
     "name": "stderr",
     "output_type": "stream",
     "text": [
      "<ipython-input-76-1913dadd0da9>:10: TqdmDeprecationWarning: This function will be removed in tqdm==5.0.0\n",
      "Please use `tqdm.notebook.tqdm` instead of `tqdm.tqdm_notebook`\n",
      "  for j in tn(range(4)):\n"
     ]
    },
    {
     "data": {
      "application/vnd.jupyter.widget-view+json": {
       "model_id": "b54a893023a44041b27976ab8699d674",
       "version_major": 2,
       "version_minor": 0
      },
      "text/plain": [
       "HBox(children=(HTML(value=''), FloatProgress(value=0.0, max=4.0), HTML(value='')))"
      ]
     },
     "metadata": {},
     "output_type": "display_data"
    },
    {
     "data": {
      "application/vnd.jupyter.widget-view+json": {
       "model_id": "46702a7c9c7645e6bd207f91af43c029",
       "version_major": 2,
       "version_minor": 0
      },
      "text/plain": [
       "HBox(children=(HTML(value=''), FloatProgress(value=0.0, max=4.0), HTML(value='')))"
      ]
     },
     "metadata": {},
     "output_type": "display_data"
    },
    {
     "name": "stdout",
     "output_type": "stream",
     "text": [
      "D:\\Data\\Diploma\\generated//Validate_2//gt/13003646-A-light-blue-background.jpg0_0CharMap.png\n",
      "D:\\Data\\Diploma\\generated//Validate_2//gt/13003646-A-light-blue-background.jpg1_0CharMap.png\n"
     ]
    },
    {
     "name": "stderr",
     "output_type": "stream",
     "text": [
      "<ipython-input-51-38678290ec6b>:150: DeprecationWarning: `np.int` is a deprecated alias for the builtin `int`. To silence this warning, use `int` by itself. Doing this will not modify any behavior and is safe. When replacing `np.int`, you may wish to use e.g. `np.int64` or `np.int32` to specify the precision. If you wish to review your current use, check the release note link for additional information.\n",
      "Deprecated in NumPy 1.20; for more details and guidance: https://numpy.org/devdocs/release/1.20.0-notes.html#deprecations\n",
      "  noise = np.random.normal(0, 32, (H,W, 4)).astype(np.int)\n",
      "<ipython-input-51-38678290ec6b>:151: DeprecationWarning: `np.int` is a deprecated alias for the builtin `int`. To silence this warning, use `int` by itself. Doing this will not modify any behavior and is safe. When replacing `np.int`, you may wish to use e.g. `np.int64` or `np.int32` to specify the precision. If you wish to review your current use, check the release note link for additional information.\n",
      "Deprecated in NumPy 1.20; for more details and guidance: https://numpy.org/devdocs/release/1.20.0-notes.html#deprecations\n",
      "  self.image = self.image.astype(np.int)\n"
     ]
    },
    {
     "name": "stdout",
     "output_type": "stream",
     "text": [
      "D:\\Data\\Diploma\\generated//Validate_2//gt/13003646-A-light-blue-background.jpg2_0CharMap.png\n",
      "D:\\Data\\Diploma\\generated//Validate_2//gt/13003646-A-light-blue-background.jpg3_0CharMap.png\n",
      "\n"
     ]
    },
    {
     "data": {
      "application/vnd.jupyter.widget-view+json": {
       "model_id": "f0e46b3abe0e47cd99917e1acb32a194",
       "version_major": 2,
       "version_minor": 0
      },
      "text/plain": [
       "HBox(children=(HTML(value=''), FloatProgress(value=0.0, max=4.0), HTML(value='')))"
      ]
     },
     "metadata": {},
     "output_type": "display_data"
    },
    {
     "name": "stdout",
     "output_type": "stream",
     "text": [
      "D:\\Data\\Diploma\\generated//Validate_2//gt/13003646-A-light-blue-background.jpg0_1CharMap.png\n",
      "D:\\Data\\Diploma\\generated//Validate_2//gt/13003646-A-light-blue-background.jpg1_1CharMap.png\n",
      "D:\\Data\\Diploma\\generated//Validate_2//gt/13003646-A-light-blue-background.jpg2_1CharMap.png\n",
      "D:\\Data\\Diploma\\generated//Validate_2//gt/13003646-A-light-blue-background.jpg3_1CharMap.png\n",
      "\n"
     ]
    },
    {
     "name": "stderr",
     "output_type": "stream",
     "text": [
      "<ipython-input-76-1913dadd0da9>:16: TqdmDeprecationWarning: This function will be removed in tqdm==5.0.0\n",
      "Please use `tqdm.notebook.tqdm` instead of `tqdm.tqdm_notebook`\n",
      "  for i in tn(range(4)):\n"
     ]
    },
    {
     "data": {
      "application/vnd.jupyter.widget-view+json": {
       "model_id": "5050c8ce0eb8409ea66e0bcf80c64518",
       "version_major": 2,
       "version_minor": 0
      },
      "text/plain": [
       "HBox(children=(HTML(value=''), FloatProgress(value=0.0, max=4.0), HTML(value='')))"
      ]
     },
     "metadata": {},
     "output_type": "display_data"
    },
    {
     "name": "stderr",
     "output_type": "stream",
     "text": [
      "<ipython-input-51-38678290ec6b>:321: DeprecationWarning: `np.int` is a deprecated alias for the builtin `int`. To silence this warning, use `int` by itself. Doing this will not modify any behavior and is safe. When replacing `np.int`, you may wish to use e.g. `np.int64` or `np.int32` to specify the precision. If you wish to review your current use, check the release note link for additional information.\n",
      "Deprecated in NumPy 1.20; for more details and guidance: https://numpy.org/devdocs/release/1.20.0-notes.html#deprecations\n",
      "  rects = [np.array(wordCharRects, dtype=np.int)[np.newaxis, :, :,:] for wordCharRects in self.annotation[\"wordsCharactersRects\"]]\n",
      "<ipython-input-76-1913dadd0da9>:29: UserWarning: Matplotlib is currently using agg, which is a non-GUI backend, so cannot show the figure.\n",
      "  plt.show()\n"
     ]
    },
    {
     "name": "stdout",
     "output_type": "stream",
     "text": [
      "D:\\Data\\Diploma\\generated//Validate_2//gt/13003646-A-light-blue-background.jpg0_2CharMap.png\n",
      "D:\\Data\\Diploma\\generated//Validate_2//gt/13003646-A-light-blue-background.jpg1_2CharMap.png\n",
      "D:\\Data\\Diploma\\generated//Validate_2//gt/13003646-A-light-blue-background.jpg2_2CharMap.png\n"
     ]
    },
    {
     "name": "stderr",
     "output_type": "stream",
     "text": [
      "<ipython-input-51-38678290ec6b>:150: DeprecationWarning: `np.int` is a deprecated alias for the builtin `int`. To silence this warning, use `int` by itself. Doing this will not modify any behavior and is safe. When replacing `np.int`, you may wish to use e.g. `np.int64` or `np.int32` to specify the precision. If you wish to review your current use, check the release note link for additional information.\n",
      "Deprecated in NumPy 1.20; for more details and guidance: https://numpy.org/devdocs/release/1.20.0-notes.html#deprecations\n",
      "  noise = np.random.normal(0, 32, (H,W, 4)).astype(np.int)\n",
      "<ipython-input-51-38678290ec6b>:151: DeprecationWarning: `np.int` is a deprecated alias for the builtin `int`. To silence this warning, use `int` by itself. Doing this will not modify any behavior and is safe. When replacing `np.int`, you may wish to use e.g. `np.int64` or `np.int32` to specify the precision. If you wish to review your current use, check the release note link for additional information.\n",
      "Deprecated in NumPy 1.20; for more details and guidance: https://numpy.org/devdocs/release/1.20.0-notes.html#deprecations\n",
      "  self.image = self.image.astype(np.int)\n"
     ]
    },
    {
     "name": "stdout",
     "output_type": "stream",
     "text": [
      "D:\\Data\\Diploma\\generated//Validate_2//gt/13003646-A-light-blue-background.jpg3_2CharMap.png\n",
      "\n"
     ]
    },
    {
     "name": "stderr",
     "output_type": "stream",
     "text": [
      "<ipython-input-76-1913dadd0da9>:16: TqdmDeprecationWarning: This function will be removed in tqdm==5.0.0\n",
      "Please use `tqdm.notebook.tqdm` instead of `tqdm.tqdm_notebook`\n",
      "  for i in tn(range(4)):\n"
     ]
    },
    {
     "data": {
      "application/vnd.jupyter.widget-view+json": {
       "model_id": "478fd134992945e484dcd7666544409e",
       "version_major": 2,
       "version_minor": 0
      },
      "text/plain": [
       "HBox(children=(HTML(value=''), FloatProgress(value=0.0, max=4.0), HTML(value='')))"
      ]
     },
     "metadata": {},
     "output_type": "display_data"
    },
    {
     "name": "stderr",
     "output_type": "stream",
     "text": [
      "<ipython-input-51-38678290ec6b>:321: DeprecationWarning: `np.int` is a deprecated alias for the builtin `int`. To silence this warning, use `int` by itself. Doing this will not modify any behavior and is safe. When replacing `np.int`, you may wish to use e.g. `np.int64` or `np.int32` to specify the precision. If you wish to review your current use, check the release note link for additional information.\n",
      "Deprecated in NumPy 1.20; for more details and guidance: https://numpy.org/devdocs/release/1.20.0-notes.html#deprecations\n",
      "  rects = [np.array(wordCharRects, dtype=np.int)[np.newaxis, :, :,:] for wordCharRects in self.annotation[\"wordsCharactersRects\"]]\n",
      "<ipython-input-76-1913dadd0da9>:29: UserWarning: Matplotlib is currently using agg, which is a non-GUI backend, so cannot show the figure.\n",
      "  plt.show()\n"
     ]
    },
    {
     "name": "stdout",
     "output_type": "stream",
     "text": [
      "D:\\Data\\Diploma\\generated//Validate_2//gt/13003646-A-light-blue-background.jpg0_3CharMap.png\n",
      "D:\\Data\\Diploma\\generated//Validate_2//gt/13003646-A-light-blue-background.jpg1_3CharMap.png\n",
      "D:\\Data\\Diploma\\generated//Validate_2//gt/13003646-A-light-blue-background.jpg2_3CharMap.png\n",
      "D:\\Data\\Diploma\\generated//Validate_2//gt/13003646-A-light-blue-background.jpg3_3CharMap.png\n",
      "\n",
      "\n"
     ]
    },
    {
     "name": "stderr",
     "output_type": "stream",
     "text": [
      "<ipython-input-76-1913dadd0da9>:10: TqdmDeprecationWarning: This function will be removed in tqdm==5.0.0\n",
      "Please use `tqdm.notebook.tqdm` instead of `tqdm.tqdm_notebook`\n",
      "  for j in tn(range(4)):\n"
     ]
    },
    {
     "data": {
      "application/vnd.jupyter.widget-view+json": {
       "model_id": "a2d48ce5ffb744a7bdfe60e1bc19b230",
       "version_major": 2,
       "version_minor": 0
      },
      "text/plain": [
       "HBox(children=(HTML(value=''), FloatProgress(value=0.0, max=4.0), HTML(value='')))"
      ]
     },
     "metadata": {},
     "output_type": "display_data"
    },
    {
     "data": {
      "application/vnd.jupyter.widget-view+json": {
       "model_id": "3988ef3ff9ac4ce1ab3771c1c5cd4d4b",
       "version_major": 2,
       "version_minor": 0
      },
      "text/plain": [
       "HBox(children=(HTML(value=''), FloatProgress(value=0.0, max=4.0), HTML(value='')))"
      ]
     },
     "metadata": {},
     "output_type": "display_data"
    },
    {
     "name": "stderr",
     "output_type": "stream",
     "text": [
      "<ipython-input-51-38678290ec6b>:150: DeprecationWarning: `np.int` is a deprecated alias for the builtin `int`. To silence this warning, use `int` by itself. Doing this will not modify any behavior and is safe. When replacing `np.int`, you may wish to use e.g. `np.int64` or `np.int32` to specify the precision. If you wish to review your current use, check the release note link for additional information.\n",
      "Deprecated in NumPy 1.20; for more details and guidance: https://numpy.org/devdocs/release/1.20.0-notes.html#deprecations\n",
      "  noise = np.random.normal(0, 32, (H,W, 4)).astype(np.int)\n",
      "<ipython-input-51-38678290ec6b>:151: DeprecationWarning: `np.int` is a deprecated alias for the builtin `int`. To silence this warning, use `int` by itself. Doing this will not modify any behavior and is safe. When replacing `np.int`, you may wish to use e.g. `np.int64` or `np.int32` to specify the precision. If you wish to review your current use, check the release note link for additional information.\n",
      "Deprecated in NumPy 1.20; for more details and guidance: https://numpy.org/devdocs/release/1.20.0-notes.html#deprecations\n",
      "  self.image = self.image.astype(np.int)\n"
     ]
    },
    {
     "name": "stdout",
     "output_type": "stream",
     "text": [
      "D:\\Data\\Diploma\\generated//Validate_2//gt/2-20567_blue-id-card-background.jpg0_0CharMap.png\n",
      "D:\\Data\\Diploma\\generated//Validate_2//gt/2-20567_blue-id-card-background.jpg1_0CharMap.png\n"
     ]
    },
    {
     "name": "stderr",
     "output_type": "stream",
     "text": [
      "<ipython-input-51-38678290ec6b>:163: DeprecationWarning: `np.int` is a deprecated alias for the builtin `int`. To silence this warning, use `int` by itself. Doing this will not modify any behavior and is safe. When replacing `np.int`, you may wish to use e.g. `np.int64` or `np.int32` to specify the precision. If you wish to review your current use, check the release note link for additional information.\n",
      "Deprecated in NumPy 1.20; for more details and guidance: https://numpy.org/devdocs/release/1.20.0-notes.html#deprecations\n",
      "  self.image = self.image.astype(np.int)\n",
      "<ipython-input-51-38678290ec6b>:165: DeprecationWarning: `np.int` is a deprecated alias for the builtin `int`. To silence this warning, use `int` by itself. Doing this will not modify any behavior and is safe. When replacing `np.int`, you may wish to use e.g. `np.int64` or `np.int32` to specify the precision. If you wish to review your current use, check the release note link for additional information.\n",
      "Deprecated in NumPy 1.20; for more details and guidance: https://numpy.org/devdocs/release/1.20.0-notes.html#deprecations\n",
      "  self.image += (noise * self.image).astype(np.int)\n"
     ]
    },
    {
     "name": "stdout",
     "output_type": "stream",
     "text": [
      "D:\\Data\\Diploma\\generated//Validate_2//gt/2-20567_blue-id-card-background.jpg2_0CharMap.png\n"
     ]
    },
    {
     "name": "stderr",
     "output_type": "stream",
     "text": [
      "<ipython-input-50-4a25245fc9cb>:37: DeprecationWarning: `np.float` is a deprecated alias for the builtin `float`. To silence this warning, use `float` by itself. Doing this will not modify any behavior and is safe. If you specifically wanted the numpy scalar type, use `np.float64` here.\n",
      "Deprecated in NumPy 1.20; for more details and guidance: https://numpy.org/devdocs/release/1.20.0-notes.html#deprecations\n",
      "  result = np.zeros((height, width, len(start_list)), dtype=np.float)\n"
     ]
    },
    {
     "name": "stdout",
     "output_type": "stream",
     "text": [
      "D:\\Data\\Diploma\\generated//Validate_2//gt/2-20567_blue-id-card-background.jpg3_0CharMap.png\n",
      "\n"
     ]
    },
    {
     "name": "stderr",
     "output_type": "stream",
     "text": [
      "<ipython-input-76-1913dadd0da9>:16: TqdmDeprecationWarning: This function will be removed in tqdm==5.0.0\n",
      "Please use `tqdm.notebook.tqdm` instead of `tqdm.tqdm_notebook`\n",
      "  for i in tn(range(4)):\n"
     ]
    },
    {
     "data": {
      "application/vnd.jupyter.widget-view+json": {
       "model_id": "59b66686bf1e4a2f81cfb6deb07f763a",
       "version_major": 2,
       "version_minor": 0
      },
      "text/plain": [
       "HBox(children=(HTML(value=''), FloatProgress(value=0.0, max=4.0), HTML(value='')))"
      ]
     },
     "metadata": {},
     "output_type": "display_data"
    },
    {
     "name": "stderr",
     "output_type": "stream",
     "text": [
      "<ipython-input-51-38678290ec6b>:150: DeprecationWarning: `np.int` is a deprecated alias for the builtin `int`. To silence this warning, use `int` by itself. Doing this will not modify any behavior and is safe. When replacing `np.int`, you may wish to use e.g. `np.int64` or `np.int32` to specify the precision. If you wish to review your current use, check the release note link for additional information.\n",
      "Deprecated in NumPy 1.20; for more details and guidance: https://numpy.org/devdocs/release/1.20.0-notes.html#deprecations\n",
      "  noise = np.random.normal(0, 32, (H,W, 4)).astype(np.int)\n",
      "<ipython-input-51-38678290ec6b>:151: DeprecationWarning: `np.int` is a deprecated alias for the builtin `int`. To silence this warning, use `int` by itself. Doing this will not modify any behavior and is safe. When replacing `np.int`, you may wish to use e.g. `np.int64` or `np.int32` to specify the precision. If you wish to review your current use, check the release note link for additional information.\n",
      "Deprecated in NumPy 1.20; for more details and guidance: https://numpy.org/devdocs/release/1.20.0-notes.html#deprecations\n",
      "  self.image = self.image.astype(np.int)\n",
      "<ipython-input-51-38678290ec6b>:321: DeprecationWarning: `np.int` is a deprecated alias for the builtin `int`. To silence this warning, use `int` by itself. Doing this will not modify any behavior and is safe. When replacing `np.int`, you may wish to use e.g. `np.int64` or `np.int32` to specify the precision. If you wish to review your current use, check the release note link for additional information.\n",
      "Deprecated in NumPy 1.20; for more details and guidance: https://numpy.org/devdocs/release/1.20.0-notes.html#deprecations\n",
      "  rects = [np.array(wordCharRects, dtype=np.int)[np.newaxis, :, :,:] for wordCharRects in self.annotation[\"wordsCharactersRects\"]]\n",
      "<ipython-input-76-1913dadd0da9>:29: UserWarning: Matplotlib is currently using agg, which is a non-GUI backend, so cannot show the figure.\n",
      "  plt.show()\n"
     ]
    },
    {
     "name": "stdout",
     "output_type": "stream",
     "text": [
      "D:\\Data\\Diploma\\generated//Validate_2//gt/2-20567_blue-id-card-background.jpg0_1CharMap.png\n",
      "D:\\Data\\Diploma\\generated//Validate_2//gt/2-20567_blue-id-card-background.jpg1_1CharMap.png\n",
      "D:\\Data\\Diploma\\generated//Validate_2//gt/2-20567_blue-id-card-background.jpg2_1CharMap.png\n",
      "D:\\Data\\Diploma\\generated//Validate_2//gt/2-20567_blue-id-card-background.jpg3_1CharMap.png\n",
      "\n"
     ]
    },
    {
     "name": "stderr",
     "output_type": "stream",
     "text": [
      "<ipython-input-76-1913dadd0da9>:16: TqdmDeprecationWarning: This function will be removed in tqdm==5.0.0\n",
      "Please use `tqdm.notebook.tqdm` instead of `tqdm.tqdm_notebook`\n",
      "  for i in tn(range(4)):\n"
     ]
    },
    {
     "data": {
      "application/vnd.jupyter.widget-view+json": {
       "model_id": "c5de4cf1fbce48459f819d175998a638",
       "version_major": 2,
       "version_minor": 0
      },
      "text/plain": [
       "HBox(children=(HTML(value=''), FloatProgress(value=0.0, max=4.0), HTML(value='')))"
      ]
     },
     "metadata": {},
     "output_type": "display_data"
    },
    {
     "name": "stderr",
     "output_type": "stream",
     "text": [
      "<ipython-input-51-38678290ec6b>:321: DeprecationWarning: `np.int` is a deprecated alias for the builtin `int`. To silence this warning, use `int` by itself. Doing this will not modify any behavior and is safe. When replacing `np.int`, you may wish to use e.g. `np.int64` or `np.int32` to specify the precision. If you wish to review your current use, check the release note link for additional information.\n",
      "Deprecated in NumPy 1.20; for more details and guidance: https://numpy.org/devdocs/release/1.20.0-notes.html#deprecations\n",
      "  rects = [np.array(wordCharRects, dtype=np.int)[np.newaxis, :, :,:] for wordCharRects in self.annotation[\"wordsCharactersRects\"]]\n",
      "<ipython-input-76-1913dadd0da9>:29: UserWarning: Matplotlib is currently using agg, which is a non-GUI backend, so cannot show the figure.\n",
      "  plt.show()\n"
     ]
    },
    {
     "name": "stdout",
     "output_type": "stream",
     "text": [
      "D:\\Data\\Diploma\\generated//Validate_2//gt/2-20567_blue-id-card-background.jpg0_2CharMap.png\n"
     ]
    },
    {
     "name": "stderr",
     "output_type": "stream",
     "text": [
      "<ipython-input-51-38678290ec6b>:150: DeprecationWarning: `np.int` is a deprecated alias for the builtin `int`. To silence this warning, use `int` by itself. Doing this will not modify any behavior and is safe. When replacing `np.int`, you may wish to use e.g. `np.int64` or `np.int32` to specify the precision. If you wish to review your current use, check the release note link for additional information.\n",
      "Deprecated in NumPy 1.20; for more details and guidance: https://numpy.org/devdocs/release/1.20.0-notes.html#deprecations\n",
      "  noise = np.random.normal(0, 32, (H,W, 4)).astype(np.int)\n",
      "<ipython-input-51-38678290ec6b>:151: DeprecationWarning: `np.int` is a deprecated alias for the builtin `int`. To silence this warning, use `int` by itself. Doing this will not modify any behavior and is safe. When replacing `np.int`, you may wish to use e.g. `np.int64` or `np.int32` to specify the precision. If you wish to review your current use, check the release note link for additional information.\n",
      "Deprecated in NumPy 1.20; for more details and guidance: https://numpy.org/devdocs/release/1.20.0-notes.html#deprecations\n",
      "  self.image = self.image.astype(np.int)\n"
     ]
    },
    {
     "name": "stdout",
     "output_type": "stream",
     "text": [
      "D:\\Data\\Diploma\\generated//Validate_2//gt/2-20567_blue-id-card-background.jpg1_2CharMap.png\n",
      "D:\\Data\\Diploma\\generated//Validate_2//gt/2-20567_blue-id-card-background.jpg2_2CharMap.png\n",
      "D:\\Data\\Diploma\\generated//Validate_2//gt/2-20567_blue-id-card-background.jpg3_2CharMap.png\n",
      "\n"
     ]
    },
    {
     "data": {
      "application/vnd.jupyter.widget-view+json": {
       "model_id": "5bfd984ef9044330b79a4adb85e00520",
       "version_major": 2,
       "version_minor": 0
      },
      "text/plain": [
       "HBox(children=(HTML(value=''), FloatProgress(value=0.0, max=4.0), HTML(value='')))"
      ]
     },
     "metadata": {},
     "output_type": "display_data"
    },
    {
     "name": "stdout",
     "output_type": "stream",
     "text": [
      "D:\\Data\\Diploma\\generated//Validate_2//gt/2-20567_blue-id-card-background.jpg0_3CharMap.png\n",
      "D:\\Data\\Diploma\\generated//Validate_2//gt/2-20567_blue-id-card-background.jpg1_3CharMap.png\n",
      "D:\\Data\\Diploma\\generated//Validate_2//gt/2-20567_blue-id-card-background.jpg2_3CharMap.png\n",
      "D:\\Data\\Diploma\\generated//Validate_2//gt/2-20567_blue-id-card-background.jpg3_3CharMap.png\n",
      "\n",
      "\n"
     ]
    },
    {
     "name": "stderr",
     "output_type": "stream",
     "text": [
      "<ipython-input-76-1913dadd0da9>:10: TqdmDeprecationWarning: This function will be removed in tqdm==5.0.0\n",
      "Please use `tqdm.notebook.tqdm` instead of `tqdm.tqdm_notebook`\n",
      "  for j in tn(range(4)):\n"
     ]
    },
    {
     "data": {
      "application/vnd.jupyter.widget-view+json": {
       "model_id": "2bbf6be39c5f4851a44b7ff1ff24bcc2",
       "version_major": 2,
       "version_minor": 0
      },
      "text/plain": [
       "HBox(children=(HTML(value=''), FloatProgress(value=0.0, max=4.0), HTML(value='')))"
      ]
     },
     "metadata": {},
     "output_type": "display_data"
    },
    {
     "data": {
      "application/vnd.jupyter.widget-view+json": {
       "model_id": "3eca8fe25fde43dd8852d60d09e17f57",
       "version_major": 2,
       "version_minor": 0
      },
      "text/plain": [
       "HBox(children=(HTML(value=''), FloatProgress(value=0.0, max=4.0), HTML(value='')))"
      ]
     },
     "metadata": {},
     "output_type": "display_data"
    },
    {
     "name": "stdout",
     "output_type": "stream",
     "text": [
      "D:\\Data\\Diploma\\generated//Validate_2//gt/2.png0_0CharMap.png\n",
      "D:\\Data\\Diploma\\generated//Validate_2//gt/2.png1_0CharMap.png\n",
      "D:\\Data\\Diploma\\generated//Validate_2//gt/2.png2_0CharMap.png\n",
      "D:\\Data\\Diploma\\generated//Validate_2//gt/2.png3_0CharMap.png\n",
      "\n"
     ]
    },
    {
     "name": "stderr",
     "output_type": "stream",
     "text": [
      "<ipython-input-76-1913dadd0da9>:16: TqdmDeprecationWarning: This function will be removed in tqdm==5.0.0\n",
      "Please use `tqdm.notebook.tqdm` instead of `tqdm.tqdm_notebook`\n",
      "  for i in tn(range(4)):\n"
     ]
    },
    {
     "data": {
      "application/vnd.jupyter.widget-view+json": {
       "model_id": "1226678e9cf747af97ef1d77f8961c36",
       "version_major": 2,
       "version_minor": 0
      },
      "text/plain": [
       "HBox(children=(HTML(value=''), FloatProgress(value=0.0, max=4.0), HTML(value='')))"
      ]
     },
     "metadata": {},
     "output_type": "display_data"
    },
    {
     "name": "stderr",
     "output_type": "stream",
     "text": [
      "<ipython-input-51-38678290ec6b>:321: DeprecationWarning: `np.int` is a deprecated alias for the builtin `int`. To silence this warning, use `int` by itself. Doing this will not modify any behavior and is safe. When replacing `np.int`, you may wish to use e.g. `np.int64` or `np.int32` to specify the precision. If you wish to review your current use, check the release note link for additional information.\n",
      "Deprecated in NumPy 1.20; for more details and guidance: https://numpy.org/devdocs/release/1.20.0-notes.html#deprecations\n",
      "  rects = [np.array(wordCharRects, dtype=np.int)[np.newaxis, :, :,:] for wordCharRects in self.annotation[\"wordsCharactersRects\"]]\n",
      "<ipython-input-76-1913dadd0da9>:29: UserWarning: Matplotlib is currently using agg, which is a non-GUI backend, so cannot show the figure.\n",
      "  plt.show()\n"
     ]
    },
    {
     "name": "stdout",
     "output_type": "stream",
     "text": [
      "D:\\Data\\Diploma\\generated//Validate_2//gt/2.png0_1CharMap.png\n",
      "D:\\Data\\Diploma\\generated//Validate_2//gt/2.png1_1CharMap.png\n",
      "D:\\Data\\Diploma\\generated//Validate_2//gt/2.png2_1CharMap.png\n",
      "D:\\Data\\Diploma\\generated//Validate_2//gt/2.png3_1CharMap.png\n",
      "\n"
     ]
    },
    {
     "data": {
      "application/vnd.jupyter.widget-view+json": {
       "model_id": "efcb2695c1124dd8bf9f2856dbef7af8",
       "version_major": 2,
       "version_minor": 0
      },
      "text/plain": [
       "HBox(children=(HTML(value=''), FloatProgress(value=0.0, max=4.0), HTML(value='')))"
      ]
     },
     "metadata": {},
     "output_type": "display_data"
    },
    {
     "name": "stdout",
     "output_type": "stream",
     "text": [
      "D:\\Data\\Diploma\\generated//Validate_2//gt/2.png0_2CharMap.png\n",
      "D:\\Data\\Diploma\\generated//Validate_2//gt/2.png1_2CharMap.png\n",
      "D:\\Data\\Diploma\\generated//Validate_2//gt/2.png2_2CharMap.png\n",
      "D:\\Data\\Diploma\\generated//Validate_2//gt/2.png3_2CharMap.png\n",
      "\n"
     ]
    },
    {
     "data": {
      "application/vnd.jupyter.widget-view+json": {
       "model_id": "68073879332d42d69e232e74ef3ddb7a",
       "version_major": 2,
       "version_minor": 0
      },
      "text/plain": [
       "HBox(children=(HTML(value=''), FloatProgress(value=0.0, max=4.0), HTML(value='')))"
      ]
     },
     "metadata": {},
     "output_type": "display_data"
    },
    {
     "name": "stdout",
     "output_type": "stream",
     "text": [
      "D:\\Data\\Diploma\\generated//Validate_2//gt/2.png0_3CharMap.png\n",
      "D:\\Data\\Diploma\\generated//Validate_2//gt/2.png1_3CharMap.png\n",
      "D:\\Data\\Diploma\\generated//Validate_2//gt/2.png2_3CharMap.png\n",
      "D:\\Data\\Diploma\\generated//Validate_2//gt/2.png3_3CharMap.png\n",
      "\n",
      "\n"
     ]
    },
    {
     "name": "stderr",
     "output_type": "stream",
     "text": [
      "<ipython-input-76-1913dadd0da9>:10: TqdmDeprecationWarning: This function will be removed in tqdm==5.0.0\n",
      "Please use `tqdm.notebook.tqdm` instead of `tqdm.tqdm_notebook`\n",
      "  for j in tn(range(4)):\n"
     ]
    },
    {
     "data": {
      "application/vnd.jupyter.widget-view+json": {
       "model_id": "1005787771be44519050b98f28d9a957",
       "version_major": 2,
       "version_minor": 0
      },
      "text/plain": [
       "HBox(children=(HTML(value=''), FloatProgress(value=0.0, max=4.0), HTML(value='')))"
      ]
     },
     "metadata": {},
     "output_type": "display_data"
    },
    {
     "name": "stderr",
     "output_type": "stream",
     "text": [
      "<ipython-input-76-1913dadd0da9>:16: TqdmDeprecationWarning: This function will be removed in tqdm==5.0.0\n",
      "Please use `tqdm.notebook.tqdm` instead of `tqdm.tqdm_notebook`\n",
      "  for i in tn(range(4)):\n"
     ]
    },
    {
     "data": {
      "application/vnd.jupyter.widget-view+json": {
       "model_id": "80390f97dfb74a4fad94cbe18c53f803",
       "version_major": 2,
       "version_minor": 0
      },
      "text/plain": [
       "HBox(children=(HTML(value=''), FloatProgress(value=0.0, max=4.0), HTML(value='')))"
      ]
     },
     "metadata": {},
     "output_type": "display_data"
    },
    {
     "name": "stderr",
     "output_type": "stream",
     "text": [
      "<ipython-input-51-38678290ec6b>:321: DeprecationWarning: `np.int` is a deprecated alias for the builtin `int`. To silence this warning, use `int` by itself. Doing this will not modify any behavior and is safe. When replacing `np.int`, you may wish to use e.g. `np.int64` or `np.int32` to specify the precision. If you wish to review your current use, check the release note link for additional information.\n",
      "Deprecated in NumPy 1.20; for more details and guidance: https://numpy.org/devdocs/release/1.20.0-notes.html#deprecations\n",
      "  rects = [np.array(wordCharRects, dtype=np.int)[np.newaxis, :, :,:] for wordCharRects in self.annotation[\"wordsCharactersRects\"]]\n",
      "<ipython-input-76-1913dadd0da9>:29: UserWarning: Matplotlib is currently using agg, which is a non-GUI backend, so cannot show the figure.\n",
      "  plt.show()\n"
     ]
    },
    {
     "name": "stdout",
     "output_type": "stream",
     "text": [
      "D:\\Data\\Diploma\\generated//Validate_2//gt/233.png0_0CharMap.png\n"
     ]
    },
    {
     "name": "stderr",
     "output_type": "stream",
     "text": [
      "<ipython-input-50-4a25245fc9cb>:37: DeprecationWarning: `np.float` is a deprecated alias for the builtin `float`. To silence this warning, use `float` by itself. Doing this will not modify any behavior and is safe. If you specifically wanted the numpy scalar type, use `np.float64` here.\n",
      "Deprecated in NumPy 1.20; for more details and guidance: https://numpy.org/devdocs/release/1.20.0-notes.html#deprecations\n",
      "  result = np.zeros((height, width, len(start_list)), dtype=np.float)\n"
     ]
    },
    {
     "name": "stdout",
     "output_type": "stream",
     "text": [
      "D:\\Data\\Diploma\\generated//Validate_2//gt/233.png1_0CharMap.png\n",
      "D:\\Data\\Diploma\\generated//Validate_2//gt/233.png2_0CharMap.png\n",
      "D:\\Data\\Diploma\\generated//Validate_2//gt/233.png3_0CharMap.png\n",
      "\n"
     ]
    },
    {
     "data": {
      "application/vnd.jupyter.widget-view+json": {
       "model_id": "ca0688b3007343759570104939c2fd2c",
       "version_major": 2,
       "version_minor": 0
      },
      "text/plain": [
       "HBox(children=(HTML(value=''), FloatProgress(value=0.0, max=4.0), HTML(value='')))"
      ]
     },
     "metadata": {},
     "output_type": "display_data"
    },
    {
     "name": "stdout",
     "output_type": "stream",
     "text": [
      "D:\\Data\\Diploma\\generated//Validate_2//gt/233.png0_1CharMap.png\n"
     ]
    },
    {
     "name": "stderr",
     "output_type": "stream",
     "text": [
      "<ipython-input-51-38678290ec6b>:150: DeprecationWarning: `np.int` is a deprecated alias for the builtin `int`. To silence this warning, use `int` by itself. Doing this will not modify any behavior and is safe. When replacing `np.int`, you may wish to use e.g. `np.int64` or `np.int32` to specify the precision. If you wish to review your current use, check the release note link for additional information.\n",
      "Deprecated in NumPy 1.20; for more details and guidance: https://numpy.org/devdocs/release/1.20.0-notes.html#deprecations\n",
      "  noise = np.random.normal(0, 32, (H,W, 4)).astype(np.int)\n",
      "<ipython-input-51-38678290ec6b>:151: DeprecationWarning: `np.int` is a deprecated alias for the builtin `int`. To silence this warning, use `int` by itself. Doing this will not modify any behavior and is safe. When replacing `np.int`, you may wish to use e.g. `np.int64` or `np.int32` to specify the precision. If you wish to review your current use, check the release note link for additional information.\n",
      "Deprecated in NumPy 1.20; for more details and guidance: https://numpy.org/devdocs/release/1.20.0-notes.html#deprecations\n",
      "  self.image = self.image.astype(np.int)\n"
     ]
    },
    {
     "name": "stdout",
     "output_type": "stream",
     "text": [
      "D:\\Data\\Diploma\\generated//Validate_2//gt/233.png1_1CharMap.png\n",
      "D:\\Data\\Diploma\\generated//Validate_2//gt/233.png2_1CharMap.png\n",
      "D:\\Data\\Diploma\\generated//Validate_2//gt/233.png3_1CharMap.png\n",
      "\n"
     ]
    },
    {
     "name": "stderr",
     "output_type": "stream",
     "text": [
      "<ipython-input-76-1913dadd0da9>:16: TqdmDeprecationWarning: This function will be removed in tqdm==5.0.0\n",
      "Please use `tqdm.notebook.tqdm` instead of `tqdm.tqdm_notebook`\n",
      "  for i in tn(range(4)):\n"
     ]
    },
    {
     "data": {
      "application/vnd.jupyter.widget-view+json": {
       "model_id": "ae227d3777f7458cab934283fc9894e0",
       "version_major": 2,
       "version_minor": 0
      },
      "text/plain": [
       "HBox(children=(HTML(value=''), FloatProgress(value=0.0, max=4.0), HTML(value='')))"
      ]
     },
     "metadata": {},
     "output_type": "display_data"
    },
    {
     "name": "stderr",
     "output_type": "stream",
     "text": [
      "<ipython-input-51-38678290ec6b>:321: DeprecationWarning: `np.int` is a deprecated alias for the builtin `int`. To silence this warning, use `int` by itself. Doing this will not modify any behavior and is safe. When replacing `np.int`, you may wish to use e.g. `np.int64` or `np.int32` to specify the precision. If you wish to review your current use, check the release note link for additional information.\n",
      "Deprecated in NumPy 1.20; for more details and guidance: https://numpy.org/devdocs/release/1.20.0-notes.html#deprecations\n",
      "  rects = [np.array(wordCharRects, dtype=np.int)[np.newaxis, :, :,:] for wordCharRects in self.annotation[\"wordsCharactersRects\"]]\n",
      "<ipython-input-76-1913dadd0da9>:29: UserWarning: Matplotlib is currently using agg, which is a non-GUI backend, so cannot show the figure.\n",
      "  plt.show()\n"
     ]
    },
    {
     "name": "stdout",
     "output_type": "stream",
     "text": [
      "D:\\Data\\Diploma\\generated//Validate_2//gt/233.png0_2CharMap.png\n",
      "D:\\Data\\Diploma\\generated//Validate_2//gt/233.png1_2CharMap.png\n",
      "D:\\Data\\Diploma\\generated//Validate_2//gt/233.png2_2CharMap.png\n",
      "D:\\Data\\Diploma\\generated//Validate_2//gt/233.png3_2CharMap.png\n",
      "\n"
     ]
    },
    {
     "data": {
      "application/vnd.jupyter.widget-view+json": {
       "model_id": "26a1a51c97b04f7092acb10b85c3e100",
       "version_major": 2,
       "version_minor": 0
      },
      "text/plain": [
       "HBox(children=(HTML(value=''), FloatProgress(value=0.0, max=4.0), HTML(value='')))"
      ]
     },
     "metadata": {},
     "output_type": "display_data"
    },
    {
     "name": "stdout",
     "output_type": "stream",
     "text": [
      "D:\\Data\\Diploma\\generated//Validate_2//gt/233.png0_3CharMap.png\n",
      "D:\\Data\\Diploma\\generated//Validate_2//gt/233.png1_3CharMap.png\n",
      "D:\\Data\\Diploma\\generated//Validate_2//gt/233.png2_3CharMap.png\n",
      "D:\\Data\\Diploma\\generated//Validate_2//gt/233.png3_3CharMap.png\n",
      "\n",
      "\n"
     ]
    },
    {
     "name": "stderr",
     "output_type": "stream",
     "text": [
      "<ipython-input-76-1913dadd0da9>:10: TqdmDeprecationWarning: This function will be removed in tqdm==5.0.0\n",
      "Please use `tqdm.notebook.tqdm` instead of `tqdm.tqdm_notebook`\n",
      "  for j in tn(range(4)):\n"
     ]
    },
    {
     "data": {
      "application/vnd.jupyter.widget-view+json": {
       "model_id": "dada95a37a6e41a094b449f26280e547",
       "version_major": 2,
       "version_minor": 0
      },
      "text/plain": [
       "HBox(children=(HTML(value=''), FloatProgress(value=0.0, max=4.0), HTML(value='')))"
      ]
     },
     "metadata": {},
     "output_type": "display_data"
    },
    {
     "data": {
      "application/vnd.jupyter.widget-view+json": {
       "model_id": "e382848f4f8d445d950b4f86fa07e870",
       "version_major": 2,
       "version_minor": 0
      },
      "text/plain": [
       "HBox(children=(HTML(value=''), FloatProgress(value=0.0, max=4.0), HTML(value='')))"
      ]
     },
     "metadata": {},
     "output_type": "display_data"
    },
    {
     "name": "stderr",
     "output_type": "stream",
     "text": [
      "<ipython-input-50-4a25245fc9cb>:37: DeprecationWarning: `np.float` is a deprecated alias for the builtin `float`. To silence this warning, use `float` by itself. Doing this will not modify any behavior and is safe. If you specifically wanted the numpy scalar type, use `np.float64` here.\n",
      "Deprecated in NumPy 1.20; for more details and guidance: https://numpy.org/devdocs/release/1.20.0-notes.html#deprecations\n",
      "  result = np.zeros((height, width, len(start_list)), dtype=np.float)\n"
     ]
    },
    {
     "name": "stdout",
     "output_type": "stream",
     "text": [
      "D:\\Data\\Diploma\\generated//Validate_2//gt/23837013a9c1935fb1280cde268be040.png0_0CharMap.png\n",
      "D:\\Data\\Diploma\\generated//Validate_2//gt/23837013a9c1935fb1280cde268be040.png1_0CharMap.png\n"
     ]
    },
    {
     "name": "stderr",
     "output_type": "stream",
     "text": [
      "<ipython-input-51-38678290ec6b>:150: DeprecationWarning: `np.int` is a deprecated alias for the builtin `int`. To silence this warning, use `int` by itself. Doing this will not modify any behavior and is safe. When replacing `np.int`, you may wish to use e.g. `np.int64` or `np.int32` to specify the precision. If you wish to review your current use, check the release note link for additional information.\n",
      "Deprecated in NumPy 1.20; for more details and guidance: https://numpy.org/devdocs/release/1.20.0-notes.html#deprecations\n",
      "  noise = np.random.normal(0, 32, (H,W, 4)).astype(np.int)\n",
      "<ipython-input-51-38678290ec6b>:151: DeprecationWarning: `np.int` is a deprecated alias for the builtin `int`. To silence this warning, use `int` by itself. Doing this will not modify any behavior and is safe. When replacing `np.int`, you may wish to use e.g. `np.int64` or `np.int32` to specify the precision. If you wish to review your current use, check the release note link for additional information.\n",
      "Deprecated in NumPy 1.20; for more details and guidance: https://numpy.org/devdocs/release/1.20.0-notes.html#deprecations\n",
      "  self.image = self.image.astype(np.int)\n"
     ]
    },
    {
     "name": "stdout",
     "output_type": "stream",
     "text": [
      "D:\\Data\\Diploma\\generated//Validate_2//gt/23837013a9c1935fb1280cde268be040.png2_0CharMap.png\n",
      "D:\\Data\\Diploma\\generated//Validate_2//gt/23837013a9c1935fb1280cde268be040.png3_0CharMap.png\n",
      "\n"
     ]
    },
    {
     "data": {
      "application/vnd.jupyter.widget-view+json": {
       "model_id": "249ae02fe26d41848b4d43f919c10545",
       "version_major": 2,
       "version_minor": 0
      },
      "text/plain": [
       "HBox(children=(HTML(value=''), FloatProgress(value=0.0, max=4.0), HTML(value='')))"
      ]
     },
     "metadata": {},
     "output_type": "display_data"
    },
    {
     "name": "stdout",
     "output_type": "stream",
     "text": [
      "D:\\Data\\Diploma\\generated//Validate_2//gt/23837013a9c1935fb1280cde268be040.png0_1CharMap.png\n",
      "D:\\Data\\Diploma\\generated//Validate_2//gt/23837013a9c1935fb1280cde268be040.png1_1CharMap.png\n",
      "D:\\Data\\Diploma\\generated//Validate_2//gt/23837013a9c1935fb1280cde268be040.png2_1CharMap.png\n",
      "D:\\Data\\Diploma\\generated//Validate_2//gt/23837013a9c1935fb1280cde268be040.png3_1CharMap.png\n",
      "\n"
     ]
    },
    {
     "data": {
      "application/vnd.jupyter.widget-view+json": {
       "model_id": "2e10062b44d14849b52684460b7fe961",
       "version_major": 2,
       "version_minor": 0
      },
      "text/plain": [
       "HBox(children=(HTML(value=''), FloatProgress(value=0.0, max=4.0), HTML(value='')))"
      ]
     },
     "metadata": {},
     "output_type": "display_data"
    },
    {
     "name": "stdout",
     "output_type": "stream",
     "text": [
      "D:\\Data\\Diploma\\generated//Validate_2//gt/23837013a9c1935fb1280cde268be040.png0_2CharMap.png\n",
      "D:\\Data\\Diploma\\generated//Validate_2//gt/23837013a9c1935fb1280cde268be040.png1_2CharMap.png\n",
      "D:\\Data\\Diploma\\generated//Validate_2//gt/23837013a9c1935fb1280cde268be040.png2_2CharMap.png\n",
      "D:\\Data\\Diploma\\generated//Validate_2//gt/23837013a9c1935fb1280cde268be040.png3_2CharMap.png\n",
      "\n"
     ]
    },
    {
     "name": "stderr",
     "output_type": "stream",
     "text": [
      "<ipython-input-76-1913dadd0da9>:16: TqdmDeprecationWarning: This function will be removed in tqdm==5.0.0\n",
      "Please use `tqdm.notebook.tqdm` instead of `tqdm.tqdm_notebook`\n",
      "  for i in tn(range(4)):\n"
     ]
    },
    {
     "data": {
      "application/vnd.jupyter.widget-view+json": {
       "model_id": "114cc1151fe5480ebc293f3059299c21",
       "version_major": 2,
       "version_minor": 0
      },
      "text/plain": [
       "HBox(children=(HTML(value=''), FloatProgress(value=0.0, max=4.0), HTML(value='')))"
      ]
     },
     "metadata": {},
     "output_type": "display_data"
    },
    {
     "name": "stderr",
     "output_type": "stream",
     "text": [
      "<ipython-input-51-38678290ec6b>:321: DeprecationWarning: `np.int` is a deprecated alias for the builtin `int`. To silence this warning, use `int` by itself. Doing this will not modify any behavior and is safe. When replacing `np.int`, you may wish to use e.g. `np.int64` or `np.int32` to specify the precision. If you wish to review your current use, check the release note link for additional information.\n",
      "Deprecated in NumPy 1.20; for more details and guidance: https://numpy.org/devdocs/release/1.20.0-notes.html#deprecations\n",
      "  rects = [np.array(wordCharRects, dtype=np.int)[np.newaxis, :, :,:] for wordCharRects in self.annotation[\"wordsCharactersRects\"]]\n",
      "<ipython-input-76-1913dadd0da9>:29: UserWarning: Matplotlib is currently using agg, which is a non-GUI backend, so cannot show the figure.\n",
      "  plt.show()\n"
     ]
    },
    {
     "name": "stdout",
     "output_type": "stream",
     "text": [
      "D:\\Data\\Diploma\\generated//Validate_2//gt/23837013a9c1935fb1280cde268be040.png0_3CharMap.png\n"
     ]
    },
    {
     "name": "stderr",
     "output_type": "stream",
     "text": [
      "<ipython-input-50-4a25245fc9cb>:37: DeprecationWarning: `np.float` is a deprecated alias for the builtin `float`. To silence this warning, use `float` by itself. Doing this will not modify any behavior and is safe. If you specifically wanted the numpy scalar type, use `np.float64` here.\n",
      "Deprecated in NumPy 1.20; for more details and guidance: https://numpy.org/devdocs/release/1.20.0-notes.html#deprecations\n",
      "  result = np.zeros((height, width, len(start_list)), dtype=np.float)\n"
     ]
    },
    {
     "name": "stdout",
     "output_type": "stream",
     "text": [
      "D:\\Data\\Diploma\\generated//Validate_2//gt/23837013a9c1935fb1280cde268be040.png1_3CharMap.png\n",
      "D:\\Data\\Diploma\\generated//Validate_2//gt/23837013a9c1935fb1280cde268be040.png2_3CharMap.png\n",
      "D:\\Data\\Diploma\\generated//Validate_2//gt/23837013a9c1935fb1280cde268be040.png3_3CharMap.png\n",
      "\n",
      "\n"
     ]
    },
    {
     "name": "stderr",
     "output_type": "stream",
     "text": [
      "<ipython-input-76-1913dadd0da9>:10: TqdmDeprecationWarning: This function will be removed in tqdm==5.0.0\n",
      "Please use `tqdm.notebook.tqdm` instead of `tqdm.tqdm_notebook`\n",
      "  for j in tn(range(4)):\n"
     ]
    },
    {
     "data": {
      "application/vnd.jupyter.widget-view+json": {
       "model_id": "acb665bdd5574b01895c6a41f6cfc1ed",
       "version_major": 2,
       "version_minor": 0
      },
      "text/plain": [
       "HBox(children=(HTML(value=''), FloatProgress(value=0.0, max=4.0), HTML(value='')))"
      ]
     },
     "metadata": {},
     "output_type": "display_data"
    },
    {
     "data": {
      "application/vnd.jupyter.widget-view+json": {
       "model_id": "6fc2a4ae1dab4732a9683130d5d2a60b",
       "version_major": 2,
       "version_minor": 0
      },
      "text/plain": [
       "HBox(children=(HTML(value=''), FloatProgress(value=0.0, max=4.0), HTML(value='')))"
      ]
     },
     "metadata": {},
     "output_type": "display_data"
    },
    {
     "name": "stdout",
     "output_type": "stream",
     "text": [
      "D:\\Data\\Diploma\\generated//Validate_2//gt/360_F_129584099_FB6MnqOwkLqfk5TIyn75UFK9ttxfJVfO.jpg0_0CharMap.png\n"
     ]
    },
    {
     "name": "stderr",
     "output_type": "stream",
     "text": [
      "<ipython-input-51-38678290ec6b>:150: DeprecationWarning: `np.int` is a deprecated alias for the builtin `int`. To silence this warning, use `int` by itself. Doing this will not modify any behavior and is safe. When replacing `np.int`, you may wish to use e.g. `np.int64` or `np.int32` to specify the precision. If you wish to review your current use, check the release note link for additional information.\n",
      "Deprecated in NumPy 1.20; for more details and guidance: https://numpy.org/devdocs/release/1.20.0-notes.html#deprecations\n",
      "  noise = np.random.normal(0, 32, (H,W, 4)).astype(np.int)\n",
      "<ipython-input-51-38678290ec6b>:151: DeprecationWarning: `np.int` is a deprecated alias for the builtin `int`. To silence this warning, use `int` by itself. Doing this will not modify any behavior and is safe. When replacing `np.int`, you may wish to use e.g. `np.int64` or `np.int32` to specify the precision. If you wish to review your current use, check the release note link for additional information.\n",
      "Deprecated in NumPy 1.20; for more details and guidance: https://numpy.org/devdocs/release/1.20.0-notes.html#deprecations\n",
      "  self.image = self.image.astype(np.int)\n"
     ]
    },
    {
     "name": "stdout",
     "output_type": "stream",
     "text": [
      "D:\\Data\\Diploma\\generated//Validate_2//gt/360_F_129584099_FB6MnqOwkLqfk5TIyn75UFK9ttxfJVfO.jpg1_0CharMap.png\n",
      "D:\\Data\\Diploma\\generated//Validate_2//gt/360_F_129584099_FB6MnqOwkLqfk5TIyn75UFK9ttxfJVfO.jpg2_0CharMap.png\n",
      "D:\\Data\\Diploma\\generated//Validate_2//gt/360_F_129584099_FB6MnqOwkLqfk5TIyn75UFK9ttxfJVfO.jpg3_0CharMap.png\n",
      "\n"
     ]
    },
    {
     "name": "stderr",
     "output_type": "stream",
     "text": [
      "<ipython-input-76-1913dadd0da9>:16: TqdmDeprecationWarning: This function will be removed in tqdm==5.0.0\n",
      "Please use `tqdm.notebook.tqdm` instead of `tqdm.tqdm_notebook`\n",
      "  for i in tn(range(4)):\n"
     ]
    },
    {
     "data": {
      "application/vnd.jupyter.widget-view+json": {
       "model_id": "b4649023f99b45448df9ed00336ebc63",
       "version_major": 2,
       "version_minor": 0
      },
      "text/plain": [
       "HBox(children=(HTML(value=''), FloatProgress(value=0.0, max=4.0), HTML(value='')))"
      ]
     },
     "metadata": {},
     "output_type": "display_data"
    },
    {
     "name": "stderr",
     "output_type": "stream",
     "text": [
      "<ipython-input-51-38678290ec6b>:321: DeprecationWarning: `np.int` is a deprecated alias for the builtin `int`. To silence this warning, use `int` by itself. Doing this will not modify any behavior and is safe. When replacing `np.int`, you may wish to use e.g. `np.int64` or `np.int32` to specify the precision. If you wish to review your current use, check the release note link for additional information.\n",
      "Deprecated in NumPy 1.20; for more details and guidance: https://numpy.org/devdocs/release/1.20.0-notes.html#deprecations\n",
      "  rects = [np.array(wordCharRects, dtype=np.int)[np.newaxis, :, :,:] for wordCharRects in self.annotation[\"wordsCharactersRects\"]]\n",
      "<ipython-input-76-1913dadd0da9>:29: UserWarning: Matplotlib is currently using agg, which is a non-GUI backend, so cannot show the figure.\n",
      "  plt.show()\n"
     ]
    },
    {
     "name": "stdout",
     "output_type": "stream",
     "text": [
      "D:\\Data\\Diploma\\generated//Validate_2//gt/360_F_129584099_FB6MnqOwkLqfk5TIyn75UFK9ttxfJVfO.jpg0_1CharMap.png\n"
     ]
    },
    {
     "name": "stderr",
     "output_type": "stream",
     "text": [
      "<ipython-input-51-38678290ec6b>:150: DeprecationWarning: `np.int` is a deprecated alias for the builtin `int`. To silence this warning, use `int` by itself. Doing this will not modify any behavior and is safe. When replacing `np.int`, you may wish to use e.g. `np.int64` or `np.int32` to specify the precision. If you wish to review your current use, check the release note link for additional information.\n",
      "Deprecated in NumPy 1.20; for more details and guidance: https://numpy.org/devdocs/release/1.20.0-notes.html#deprecations\n",
      "  noise = np.random.normal(0, 32, (H,W, 4)).astype(np.int)\n",
      "<ipython-input-51-38678290ec6b>:151: DeprecationWarning: `np.int` is a deprecated alias for the builtin `int`. To silence this warning, use `int` by itself. Doing this will not modify any behavior and is safe. When replacing `np.int`, you may wish to use e.g. `np.int64` or `np.int32` to specify the precision. If you wish to review your current use, check the release note link for additional information.\n",
      "Deprecated in NumPy 1.20; for more details and guidance: https://numpy.org/devdocs/release/1.20.0-notes.html#deprecations\n",
      "  self.image = self.image.astype(np.int)\n"
     ]
    },
    {
     "name": "stdout",
     "output_type": "stream",
     "text": [
      "D:\\Data\\Diploma\\generated//Validate_2//gt/360_F_129584099_FB6MnqOwkLqfk5TIyn75UFK9ttxfJVfO.jpg1_1CharMap.png\n",
      "D:\\Data\\Diploma\\generated//Validate_2//gt/360_F_129584099_FB6MnqOwkLqfk5TIyn75UFK9ttxfJVfO.jpg2_1CharMap.png\n",
      "D:\\Data\\Diploma\\generated//Validate_2//gt/360_F_129584099_FB6MnqOwkLqfk5TIyn75UFK9ttxfJVfO.jpg3_1CharMap.png\n",
      "\n"
     ]
    },
    {
     "name": "stderr",
     "output_type": "stream",
     "text": [
      "<ipython-input-76-1913dadd0da9>:16: TqdmDeprecationWarning: This function will be removed in tqdm==5.0.0\n",
      "Please use `tqdm.notebook.tqdm` instead of `tqdm.tqdm_notebook`\n",
      "  for i in tn(range(4)):\n"
     ]
    },
    {
     "data": {
      "application/vnd.jupyter.widget-view+json": {
       "model_id": "2403ba9f9ae1424f948cde38b5256326",
       "version_major": 2,
       "version_minor": 0
      },
      "text/plain": [
       "HBox(children=(HTML(value=''), FloatProgress(value=0.0, max=4.0), HTML(value='')))"
      ]
     },
     "metadata": {},
     "output_type": "display_data"
    },
    {
     "name": "stderr",
     "output_type": "stream",
     "text": [
      "<ipython-input-50-4a25245fc9cb>:37: DeprecationWarning: `np.float` is a deprecated alias for the builtin `float`. To silence this warning, use `float` by itself. Doing this will not modify any behavior and is safe. If you specifically wanted the numpy scalar type, use `np.float64` here.\n",
      "Deprecated in NumPy 1.20; for more details and guidance: https://numpy.org/devdocs/release/1.20.0-notes.html#deprecations\n",
      "  result = np.zeros((height, width, len(start_list)), dtype=np.float)\n",
      "<ipython-input-51-38678290ec6b>:321: DeprecationWarning: `np.int` is a deprecated alias for the builtin `int`. To silence this warning, use `int` by itself. Doing this will not modify any behavior and is safe. When replacing `np.int`, you may wish to use e.g. `np.int64` or `np.int32` to specify the precision. If you wish to review your current use, check the release note link for additional information.\n",
      "Deprecated in NumPy 1.20; for more details and guidance: https://numpy.org/devdocs/release/1.20.0-notes.html#deprecations\n",
      "  rects = [np.array(wordCharRects, dtype=np.int)[np.newaxis, :, :,:] for wordCharRects in self.annotation[\"wordsCharactersRects\"]]\n",
      "<ipython-input-76-1913dadd0da9>:29: UserWarning: Matplotlib is currently using agg, which is a non-GUI backend, so cannot show the figure.\n",
      "  plt.show()\n"
     ]
    },
    {
     "name": "stdout",
     "output_type": "stream",
     "text": [
      "D:\\Data\\Diploma\\generated//Validate_2//gt/360_F_129584099_FB6MnqOwkLqfk5TIyn75UFK9ttxfJVfO.jpg0_2CharMap.png\n",
      "D:\\Data\\Diploma\\generated//Validate_2//gt/360_F_129584099_FB6MnqOwkLqfk5TIyn75UFK9ttxfJVfO.jpg1_2CharMap.png\n"
     ]
    },
    {
     "name": "stderr",
     "output_type": "stream",
     "text": [
      "<ipython-input-51-38678290ec6b>:163: DeprecationWarning: `np.int` is a deprecated alias for the builtin `int`. To silence this warning, use `int` by itself. Doing this will not modify any behavior and is safe. When replacing `np.int`, you may wish to use e.g. `np.int64` or `np.int32` to specify the precision. If you wish to review your current use, check the release note link for additional information.\n",
      "Deprecated in NumPy 1.20; for more details and guidance: https://numpy.org/devdocs/release/1.20.0-notes.html#deprecations\n",
      "  self.image = self.image.astype(np.int)\n",
      "<ipython-input-51-38678290ec6b>:165: DeprecationWarning: `np.int` is a deprecated alias for the builtin `int`. To silence this warning, use `int` by itself. Doing this will not modify any behavior and is safe. When replacing `np.int`, you may wish to use e.g. `np.int64` or `np.int32` to specify the precision. If you wish to review your current use, check the release note link for additional information.\n",
      "Deprecated in NumPy 1.20; for more details and guidance: https://numpy.org/devdocs/release/1.20.0-notes.html#deprecations\n",
      "  self.image += (noise * self.image).astype(np.int)\n"
     ]
    },
    {
     "name": "stdout",
     "output_type": "stream",
     "text": [
      "D:\\Data\\Diploma\\generated//Validate_2//gt/360_F_129584099_FB6MnqOwkLqfk5TIyn75UFK9ttxfJVfO.jpg2_2CharMap.png\n",
      "D:\\Data\\Diploma\\generated//Validate_2//gt/360_F_129584099_FB6MnqOwkLqfk5TIyn75UFK9ttxfJVfO.jpg3_2CharMap.png\n",
      "\n"
     ]
    },
    {
     "data": {
      "application/vnd.jupyter.widget-view+json": {
       "model_id": "8f3467e2b7404b949571e7abd451a83b",
       "version_major": 2,
       "version_minor": 0
      },
      "text/plain": [
       "HBox(children=(HTML(value=''), FloatProgress(value=0.0, max=4.0), HTML(value='')))"
      ]
     },
     "metadata": {},
     "output_type": "display_data"
    },
    {
     "name": "stdout",
     "output_type": "stream",
     "text": [
      "D:\\Data\\Diploma\\generated//Validate_2//gt/360_F_129584099_FB6MnqOwkLqfk5TIyn75UFK9ttxfJVfO.jpg0_3CharMap.png\n",
      "D:\\Data\\Diploma\\generated//Validate_2//gt/360_F_129584099_FB6MnqOwkLqfk5TIyn75UFK9ttxfJVfO.jpg1_3CharMap.png\n",
      "D:\\Data\\Diploma\\generated//Validate_2//gt/360_F_129584099_FB6MnqOwkLqfk5TIyn75UFK9ttxfJVfO.jpg2_3CharMap.png\n",
      "D:\\Data\\Diploma\\generated//Validate_2//gt/360_F_129584099_FB6MnqOwkLqfk5TIyn75UFK9ttxfJVfO.jpg3_3CharMap.png\n",
      "\n",
      "\n"
     ]
    },
    {
     "name": "stderr",
     "output_type": "stream",
     "text": [
      "<ipython-input-76-1913dadd0da9>:10: TqdmDeprecationWarning: This function will be removed in tqdm==5.0.0\n",
      "Please use `tqdm.notebook.tqdm` instead of `tqdm.tqdm_notebook`\n",
      "  for j in tn(range(4)):\n"
     ]
    },
    {
     "data": {
      "application/vnd.jupyter.widget-view+json": {
       "model_id": "1db339550a524ff7ade04859ed65b30f",
       "version_major": 2,
       "version_minor": 0
      },
      "text/plain": [
       "HBox(children=(HTML(value=''), FloatProgress(value=0.0, max=4.0), HTML(value='')))"
      ]
     },
     "metadata": {},
     "output_type": "display_data"
    },
    {
     "name": "stderr",
     "output_type": "stream",
     "text": [
      "<ipython-input-76-1913dadd0da9>:16: TqdmDeprecationWarning: This function will be removed in tqdm==5.0.0\n",
      "Please use `tqdm.notebook.tqdm` instead of `tqdm.tqdm_notebook`\n",
      "  for i in tn(range(4)):\n"
     ]
    },
    {
     "data": {
      "application/vnd.jupyter.widget-view+json": {
       "model_id": "901a595a2afb4788ac80be971f4eb2b1",
       "version_major": 2,
       "version_minor": 0
      },
      "text/plain": [
       "HBox(children=(HTML(value=''), FloatProgress(value=0.0, max=4.0), HTML(value='')))"
      ]
     },
     "metadata": {},
     "output_type": "display_data"
    },
    {
     "name": "stderr",
     "output_type": "stream",
     "text": [
      "<ipython-input-51-38678290ec6b>:150: DeprecationWarning: `np.int` is a deprecated alias for the builtin `int`. To silence this warning, use `int` by itself. Doing this will not modify any behavior and is safe. When replacing `np.int`, you may wish to use e.g. `np.int64` or `np.int32` to specify the precision. If you wish to review your current use, check the release note link for additional information.\n",
      "Deprecated in NumPy 1.20; for more details and guidance: https://numpy.org/devdocs/release/1.20.0-notes.html#deprecations\n",
      "  noise = np.random.normal(0, 32, (H,W, 4)).astype(np.int)\n",
      "<ipython-input-51-38678290ec6b>:151: DeprecationWarning: `np.int` is a deprecated alias for the builtin `int`. To silence this warning, use `int` by itself. Doing this will not modify any behavior and is safe. When replacing `np.int`, you may wish to use e.g. `np.int64` or `np.int32` to specify the precision. If you wish to review your current use, check the release note link for additional information.\n",
      "Deprecated in NumPy 1.20; for more details and guidance: https://numpy.org/devdocs/release/1.20.0-notes.html#deprecations\n",
      "  self.image = self.image.astype(np.int)\n",
      "<ipython-input-51-38678290ec6b>:321: DeprecationWarning: `np.int` is a deprecated alias for the builtin `int`. To silence this warning, use `int` by itself. Doing this will not modify any behavior and is safe. When replacing `np.int`, you may wish to use e.g. `np.int64` or `np.int32` to specify the precision. If you wish to review your current use, check the release note link for additional information.\n",
      "Deprecated in NumPy 1.20; for more details and guidance: https://numpy.org/devdocs/release/1.20.0-notes.html#deprecations\n",
      "  rects = [np.array(wordCharRects, dtype=np.int)[np.newaxis, :, :,:] for wordCharRects in self.annotation[\"wordsCharactersRects\"]]\n",
      "<ipython-input-76-1913dadd0da9>:29: UserWarning: Matplotlib is currently using agg, which is a non-GUI backend, so cannot show the figure.\n",
      "  plt.show()\n"
     ]
    },
    {
     "name": "stdout",
     "output_type": "stream",
     "text": [
      "D:\\Data\\Diploma\\generated//Validate_2//gt/360_F_81324520_dQfJYO4F5DlStr5V8XNasgt008533EWW.jpg0_0CharMap.png\n",
      "D:\\Data\\Diploma\\generated//Validate_2//gt/360_F_81324520_dQfJYO4F5DlStr5V8XNasgt008533EWW.jpg1_0CharMap.png\n",
      "D:\\Data\\Diploma\\generated//Validate_2//gt/360_F_81324520_dQfJYO4F5DlStr5V8XNasgt008533EWW.jpg2_0CharMap.png\n"
     ]
    },
    {
     "name": "stderr",
     "output_type": "stream",
     "text": [
      "<ipython-input-50-4a25245fc9cb>:37: DeprecationWarning: `np.float` is a deprecated alias for the builtin `float`. To silence this warning, use `float` by itself. Doing this will not modify any behavior and is safe. If you specifically wanted the numpy scalar type, use `np.float64` here.\n",
      "Deprecated in NumPy 1.20; for more details and guidance: https://numpy.org/devdocs/release/1.20.0-notes.html#deprecations\n",
      "  result = np.zeros((height, width, len(start_list)), dtype=np.float)\n"
     ]
    },
    {
     "name": "stdout",
     "output_type": "stream",
     "text": [
      "D:\\Data\\Diploma\\generated//Validate_2//gt/360_F_81324520_dQfJYO4F5DlStr5V8XNasgt008533EWW.jpg3_0CharMap.png\n",
      "\n"
     ]
    },
    {
     "data": {
      "application/vnd.jupyter.widget-view+json": {
       "model_id": "8159b8bc90cd4a18a90ba955f134d330",
       "version_major": 2,
       "version_minor": 0
      },
      "text/plain": [
       "HBox(children=(HTML(value=''), FloatProgress(value=0.0, max=4.0), HTML(value='')))"
      ]
     },
     "metadata": {},
     "output_type": "display_data"
    },
    {
     "name": "stdout",
     "output_type": "stream",
     "text": [
      "D:\\Data\\Diploma\\generated//Validate_2//gt/360_F_81324520_dQfJYO4F5DlStr5V8XNasgt008533EWW.jpg0_1CharMap.png\n",
      "D:\\Data\\Diploma\\generated//Validate_2//gt/360_F_81324520_dQfJYO4F5DlStr5V8XNasgt008533EWW.jpg1_1CharMap.png\n",
      "D:\\Data\\Diploma\\generated//Validate_2//gt/360_F_81324520_dQfJYO4F5DlStr5V8XNasgt008533EWW.jpg2_1CharMap.png\n",
      "D:\\Data\\Diploma\\generated//Validate_2//gt/360_F_81324520_dQfJYO4F5DlStr5V8XNasgt008533EWW.jpg3_1CharMap.png\n",
      "\n"
     ]
    },
    {
     "name": "stderr",
     "output_type": "stream",
     "text": [
      "<ipython-input-76-1913dadd0da9>:16: TqdmDeprecationWarning: This function will be removed in tqdm==5.0.0\n",
      "Please use `tqdm.notebook.tqdm` instead of `tqdm.tqdm_notebook`\n",
      "  for i in tn(range(4)):\n"
     ]
    },
    {
     "data": {
      "application/vnd.jupyter.widget-view+json": {
       "model_id": "610fbc62e9764b2aa05519e22bc40d37",
       "version_major": 2,
       "version_minor": 0
      },
      "text/plain": [
       "HBox(children=(HTML(value=''), FloatProgress(value=0.0, max=4.0), HTML(value='')))"
      ]
     },
     "metadata": {},
     "output_type": "display_data"
    },
    {
     "name": "stderr",
     "output_type": "stream",
     "text": [
      "<ipython-input-51-38678290ec6b>:321: DeprecationWarning: `np.int` is a deprecated alias for the builtin `int`. To silence this warning, use `int` by itself. Doing this will not modify any behavior and is safe. When replacing `np.int`, you may wish to use e.g. `np.int64` or `np.int32` to specify the precision. If you wish to review your current use, check the release note link for additional information.\n",
      "Deprecated in NumPy 1.20; for more details and guidance: https://numpy.org/devdocs/release/1.20.0-notes.html#deprecations\n",
      "  rects = [np.array(wordCharRects, dtype=np.int)[np.newaxis, :, :,:] for wordCharRects in self.annotation[\"wordsCharactersRects\"]]\n",
      "<ipython-input-76-1913dadd0da9>:29: UserWarning: Matplotlib is currently using agg, which is a non-GUI backend, so cannot show the figure.\n",
      "  plt.show()\n"
     ]
    },
    {
     "name": "stdout",
     "output_type": "stream",
     "text": [
      "D:\\Data\\Diploma\\generated//Validate_2//gt/360_F_81324520_dQfJYO4F5DlStr5V8XNasgt008533EWW.jpg0_2CharMap.png\n",
      "D:\\Data\\Diploma\\generated//Validate_2//gt/360_F_81324520_dQfJYO4F5DlStr5V8XNasgt008533EWW.jpg1_2CharMap.png\n"
     ]
    },
    {
     "name": "stderr",
     "output_type": "stream",
     "text": [
      "<ipython-input-50-4a25245fc9cb>:37: DeprecationWarning: `np.float` is a deprecated alias for the builtin `float`. To silence this warning, use `float` by itself. Doing this will not modify any behavior and is safe. If you specifically wanted the numpy scalar type, use `np.float64` here.\n",
      "Deprecated in NumPy 1.20; for more details and guidance: https://numpy.org/devdocs/release/1.20.0-notes.html#deprecations\n",
      "  result = np.zeros((height, width, len(start_list)), dtype=np.float)\n"
     ]
    },
    {
     "name": "stdout",
     "output_type": "stream",
     "text": [
      "D:\\Data\\Diploma\\generated//Validate_2//gt/360_F_81324520_dQfJYO4F5DlStr5V8XNasgt008533EWW.jpg2_2CharMap.png\n",
      "D:\\Data\\Diploma\\generated//Validate_2//gt/360_F_81324520_dQfJYO4F5DlStr5V8XNasgt008533EWW.jpg3_2CharMap.png\n",
      "\n"
     ]
    },
    {
     "data": {
      "application/vnd.jupyter.widget-view+json": {
       "model_id": "eddf65fd42cc484ba2f565afdee30f80",
       "version_major": 2,
       "version_minor": 0
      },
      "text/plain": [
       "HBox(children=(HTML(value=''), FloatProgress(value=0.0, max=4.0), HTML(value='')))"
      ]
     },
     "metadata": {},
     "output_type": "display_data"
    },
    {
     "name": "stdout",
     "output_type": "stream",
     "text": [
      "D:\\Data\\Diploma\\generated//Validate_2//gt/360_F_81324520_dQfJYO4F5DlStr5V8XNasgt008533EWW.jpg0_3CharMap.png\n"
     ]
    },
    {
     "name": "stderr",
     "output_type": "stream",
     "text": [
      "<ipython-input-51-38678290ec6b>:150: DeprecationWarning: `np.int` is a deprecated alias for the builtin `int`. To silence this warning, use `int` by itself. Doing this will not modify any behavior and is safe. When replacing `np.int`, you may wish to use e.g. `np.int64` or `np.int32` to specify the precision. If you wish to review your current use, check the release note link for additional information.\n",
      "Deprecated in NumPy 1.20; for more details and guidance: https://numpy.org/devdocs/release/1.20.0-notes.html#deprecations\n",
      "  noise = np.random.normal(0, 32, (H,W, 4)).astype(np.int)\n",
      "<ipython-input-51-38678290ec6b>:151: DeprecationWarning: `np.int` is a deprecated alias for the builtin `int`. To silence this warning, use `int` by itself. Doing this will not modify any behavior and is safe. When replacing `np.int`, you may wish to use e.g. `np.int64` or `np.int32` to specify the precision. If you wish to review your current use, check the release note link for additional information.\n",
      "Deprecated in NumPy 1.20; for more details and guidance: https://numpy.org/devdocs/release/1.20.0-notes.html#deprecations\n",
      "  self.image = self.image.astype(np.int)\n"
     ]
    },
    {
     "name": "stdout",
     "output_type": "stream",
     "text": [
      "D:\\Data\\Diploma\\generated//Validate_2//gt/360_F_81324520_dQfJYO4F5DlStr5V8XNasgt008533EWW.jpg1_3CharMap.png\n",
      "D:\\Data\\Diploma\\generated//Validate_2//gt/360_F_81324520_dQfJYO4F5DlStr5V8XNasgt008533EWW.jpg2_3CharMap.png\n",
      "D:\\Data\\Diploma\\generated//Validate_2//gt/360_F_81324520_dQfJYO4F5DlStr5V8XNasgt008533EWW.jpg3_3CharMap.png\n",
      "\n",
      "\n"
     ]
    },
    {
     "name": "stderr",
     "output_type": "stream",
     "text": [
      "<ipython-input-76-1913dadd0da9>:10: TqdmDeprecationWarning: This function will be removed in tqdm==5.0.0\n",
      "Please use `tqdm.notebook.tqdm` instead of `tqdm.tqdm_notebook`\n",
      "  for j in tn(range(4)):\n"
     ]
    },
    {
     "data": {
      "application/vnd.jupyter.widget-view+json": {
       "model_id": "c35ae20b206546d3afc11af57393df16",
       "version_major": 2,
       "version_minor": 0
      },
      "text/plain": [
       "HBox(children=(HTML(value=''), FloatProgress(value=0.0, max=4.0), HTML(value='')))"
      ]
     },
     "metadata": {},
     "output_type": "display_data"
    },
    {
     "data": {
      "application/vnd.jupyter.widget-view+json": {
       "model_id": "6d7687197ca841bbbcb31b9de6aca9bd",
       "version_major": 2,
       "version_minor": 0
      },
      "text/plain": [
       "HBox(children=(HTML(value=''), FloatProgress(value=0.0, max=4.0), HTML(value='')))"
      ]
     },
     "metadata": {},
     "output_type": "display_data"
    },
    {
     "name": "stdout",
     "output_type": "stream",
     "text": [
      "D:\\Data\\Diploma\\generated//Validate_2//gt/360_F_81353111_RHDo5ABCfUCnQpiSqJmAI6bzrIiF11rI.jpg0_0CharMap.png\n",
      "D:\\Data\\Diploma\\generated//Validate_2//gt/360_F_81353111_RHDo5ABCfUCnQpiSqJmAI6bzrIiF11rI.jpg1_0CharMap.png\n",
      "D:\\Data\\Diploma\\generated//Validate_2//gt/360_F_81353111_RHDo5ABCfUCnQpiSqJmAI6bzrIiF11rI.jpg2_0CharMap.png\n",
      "D:\\Data\\Diploma\\generated//Validate_2//gt/360_F_81353111_RHDo5ABCfUCnQpiSqJmAI6bzrIiF11rI.jpg3_0CharMap.png\n",
      "\n"
     ]
    },
    {
     "name": "stderr",
     "output_type": "stream",
     "text": [
      "<ipython-input-76-1913dadd0da9>:16: TqdmDeprecationWarning: This function will be removed in tqdm==5.0.0\n",
      "Please use `tqdm.notebook.tqdm` instead of `tqdm.tqdm_notebook`\n",
      "  for i in tn(range(4)):\n"
     ]
    },
    {
     "data": {
      "application/vnd.jupyter.widget-view+json": {
       "model_id": "888bd4cc72c94adf84bc4611847073f7",
       "version_major": 2,
       "version_minor": 0
      },
      "text/plain": [
       "HBox(children=(HTML(value=''), FloatProgress(value=0.0, max=4.0), HTML(value='')))"
      ]
     },
     "metadata": {},
     "output_type": "display_data"
    },
    {
     "name": "stderr",
     "output_type": "stream",
     "text": [
      "<ipython-input-51-38678290ec6b>:321: DeprecationWarning: `np.int` is a deprecated alias for the builtin `int`. To silence this warning, use `int` by itself. Doing this will not modify any behavior and is safe. When replacing `np.int`, you may wish to use e.g. `np.int64` or `np.int32` to specify the precision. If you wish to review your current use, check the release note link for additional information.\n",
      "Deprecated in NumPy 1.20; for more details and guidance: https://numpy.org/devdocs/release/1.20.0-notes.html#deprecations\n",
      "  rects = [np.array(wordCharRects, dtype=np.int)[np.newaxis, :, :,:] for wordCharRects in self.annotation[\"wordsCharactersRects\"]]\n",
      "<ipython-input-76-1913dadd0da9>:29: UserWarning: Matplotlib is currently using agg, which is a non-GUI backend, so cannot show the figure.\n",
      "  plt.show()\n"
     ]
    },
    {
     "name": "stdout",
     "output_type": "stream",
     "text": [
      "D:\\Data\\Diploma\\generated//Validate_2//gt/360_F_81353111_RHDo5ABCfUCnQpiSqJmAI6bzrIiF11rI.jpg0_1CharMap.png\n"
     ]
    },
    {
     "name": "stderr",
     "output_type": "stream",
     "text": [
      "<ipython-input-50-4a25245fc9cb>:37: DeprecationWarning: `np.float` is a deprecated alias for the builtin `float`. To silence this warning, use `float` by itself. Doing this will not modify any behavior and is safe. If you specifically wanted the numpy scalar type, use `np.float64` here.\n",
      "Deprecated in NumPy 1.20; for more details and guidance: https://numpy.org/devdocs/release/1.20.0-notes.html#deprecations\n",
      "  result = np.zeros((height, width, len(start_list)), dtype=np.float)\n"
     ]
    },
    {
     "name": "stdout",
     "output_type": "stream",
     "text": [
      "D:\\Data\\Diploma\\generated//Validate_2//gt/360_F_81353111_RHDo5ABCfUCnQpiSqJmAI6bzrIiF11rI.jpg1_1CharMap.png\n",
      "D:\\Data\\Diploma\\generated//Validate_2//gt/360_F_81353111_RHDo5ABCfUCnQpiSqJmAI6bzrIiF11rI.jpg2_1CharMap.png\n",
      "D:\\Data\\Diploma\\generated//Validate_2//gt/360_F_81353111_RHDo5ABCfUCnQpiSqJmAI6bzrIiF11rI.jpg3_1CharMap.png\n",
      "\n"
     ]
    },
    {
     "name": "stderr",
     "output_type": "stream",
     "text": [
      "<ipython-input-76-1913dadd0da9>:16: TqdmDeprecationWarning: This function will be removed in tqdm==5.0.0\n",
      "Please use `tqdm.notebook.tqdm` instead of `tqdm.tqdm_notebook`\n",
      "  for i in tn(range(4)):\n"
     ]
    },
    {
     "data": {
      "application/vnd.jupyter.widget-view+json": {
       "model_id": "9467b0b60b2e47c09c9e2ff9eec230b3",
       "version_major": 2,
       "version_minor": 0
      },
      "text/plain": [
       "HBox(children=(HTML(value=''), FloatProgress(value=0.0, max=4.0), HTML(value='')))"
      ]
     },
     "metadata": {},
     "output_type": "display_data"
    },
    {
     "name": "stderr",
     "output_type": "stream",
     "text": [
      "<ipython-input-51-38678290ec6b>:321: DeprecationWarning: `np.int` is a deprecated alias for the builtin `int`. To silence this warning, use `int` by itself. Doing this will not modify any behavior and is safe. When replacing `np.int`, you may wish to use e.g. `np.int64` or `np.int32` to specify the precision. If you wish to review your current use, check the release note link for additional information.\n",
      "Deprecated in NumPy 1.20; for more details and guidance: https://numpy.org/devdocs/release/1.20.0-notes.html#deprecations\n",
      "  rects = [np.array(wordCharRects, dtype=np.int)[np.newaxis, :, :,:] for wordCharRects in self.annotation[\"wordsCharactersRects\"]]\n",
      "<ipython-input-76-1913dadd0da9>:29: UserWarning: Matplotlib is currently using agg, which is a non-GUI backend, so cannot show the figure.\n",
      "  plt.show()\n"
     ]
    },
    {
     "name": "stdout",
     "output_type": "stream",
     "text": [
      "D:\\Data\\Diploma\\generated//Validate_2//gt/360_F_81353111_RHDo5ABCfUCnQpiSqJmAI6bzrIiF11rI.jpg0_2CharMap.png\n",
      "D:\\Data\\Diploma\\generated//Validate_2//gt/360_F_81353111_RHDo5ABCfUCnQpiSqJmAI6bzrIiF11rI.jpg1_2CharMap.png\n",
      "D:\\Data\\Diploma\\generated//Validate_2//gt/360_F_81353111_RHDo5ABCfUCnQpiSqJmAI6bzrIiF11rI.jpg2_2CharMap.png\n",
      "D:\\Data\\Diploma\\generated//Validate_2//gt/360_F_81353111_RHDo5ABCfUCnQpiSqJmAI6bzrIiF11rI.jpg3_2CharMap.png\n",
      "\n"
     ]
    },
    {
     "data": {
      "application/vnd.jupyter.widget-view+json": {
       "model_id": "6afd65e1ea70419396848248be2c7805",
       "version_major": 2,
       "version_minor": 0
      },
      "text/plain": [
       "HBox(children=(HTML(value=''), FloatProgress(value=0.0, max=4.0), HTML(value='')))"
      ]
     },
     "metadata": {},
     "output_type": "display_data"
    },
    {
     "name": "stdout",
     "output_type": "stream",
     "text": [
      "D:\\Data\\Diploma\\generated//Validate_2//gt/360_F_81353111_RHDo5ABCfUCnQpiSqJmAI6bzrIiF11rI.jpg0_3CharMap.png\n",
      "D:\\Data\\Diploma\\generated//Validate_2//gt/360_F_81353111_RHDo5ABCfUCnQpiSqJmAI6bzrIiF11rI.jpg1_3CharMap.png\n",
      "D:\\Data\\Diploma\\generated//Validate_2//gt/360_F_81353111_RHDo5ABCfUCnQpiSqJmAI6bzrIiF11rI.jpg2_3CharMap.png\n",
      "D:\\Data\\Diploma\\generated//Validate_2//gt/360_F_81353111_RHDo5ABCfUCnQpiSqJmAI6bzrIiF11rI.jpg3_3CharMap.png\n",
      "\n",
      "\n"
     ]
    },
    {
     "name": "stderr",
     "output_type": "stream",
     "text": [
      "<ipython-input-76-1913dadd0da9>:10: TqdmDeprecationWarning: This function will be removed in tqdm==5.0.0\n",
      "Please use `tqdm.notebook.tqdm` instead of `tqdm.tqdm_notebook`\n",
      "  for j in tn(range(4)):\n"
     ]
    },
    {
     "data": {
      "application/vnd.jupyter.widget-view+json": {
       "model_id": "73f6316077254f47a59d65794ac5c6ae",
       "version_major": 2,
       "version_minor": 0
      },
      "text/plain": [
       "HBox(children=(HTML(value=''), FloatProgress(value=0.0, max=4.0), HTML(value='')))"
      ]
     },
     "metadata": {},
     "output_type": "display_data"
    },
    {
     "name": "stderr",
     "output_type": "stream",
     "text": [
      "<ipython-input-76-1913dadd0da9>:16: TqdmDeprecationWarning: This function will be removed in tqdm==5.0.0\n",
      "Please use `tqdm.notebook.tqdm` instead of `tqdm.tqdm_notebook`\n",
      "  for i in tn(range(4)):\n"
     ]
    },
    {
     "data": {
      "application/vnd.jupyter.widget-view+json": {
       "model_id": "f8c3249b9d2f4e11b75f447f986f984d",
       "version_major": 2,
       "version_minor": 0
      },
      "text/plain": [
       "HBox(children=(HTML(value=''), FloatProgress(value=0.0, max=4.0), HTML(value='')))"
      ]
     },
     "metadata": {},
     "output_type": "display_data"
    },
    {
     "name": "stderr",
     "output_type": "stream",
     "text": [
      "<ipython-input-51-38678290ec6b>:321: DeprecationWarning: `np.int` is a deprecated alias for the builtin `int`. To silence this warning, use `int` by itself. Doing this will not modify any behavior and is safe. When replacing `np.int`, you may wish to use e.g. `np.int64` or `np.int32` to specify the precision. If you wish to review your current use, check the release note link for additional information.\n",
      "Deprecated in NumPy 1.20; for more details and guidance: https://numpy.org/devdocs/release/1.20.0-notes.html#deprecations\n",
      "  rects = [np.array(wordCharRects, dtype=np.int)[np.newaxis, :, :,:] for wordCharRects in self.annotation[\"wordsCharactersRects\"]]\n",
      "<ipython-input-76-1913dadd0da9>:29: UserWarning: Matplotlib is currently using agg, which is a non-GUI backend, so cannot show the figure.\n",
      "  plt.show()\n"
     ]
    },
    {
     "name": "stdout",
     "output_type": "stream",
     "text": [
      "D:\\Data\\Diploma\\generated//Validate_2//gt/403b35b6158c7cae6e32dcf7a1342b7d.jpg0_0CharMap.png\n",
      "D:\\Data\\Diploma\\generated//Validate_2//gt/403b35b6158c7cae6e32dcf7a1342b7d.jpg1_0CharMap.png\n"
     ]
    },
    {
     "name": "stderr",
     "output_type": "stream",
     "text": [
      "<ipython-input-51-38678290ec6b>:150: DeprecationWarning: `np.int` is a deprecated alias for the builtin `int`. To silence this warning, use `int` by itself. Doing this will not modify any behavior and is safe. When replacing `np.int`, you may wish to use e.g. `np.int64` or `np.int32` to specify the precision. If you wish to review your current use, check the release note link for additional information.\n",
      "Deprecated in NumPy 1.20; for more details and guidance: https://numpy.org/devdocs/release/1.20.0-notes.html#deprecations\n",
      "  noise = np.random.normal(0, 32, (H,W, 4)).astype(np.int)\n",
      "<ipython-input-51-38678290ec6b>:151: DeprecationWarning: `np.int` is a deprecated alias for the builtin `int`. To silence this warning, use `int` by itself. Doing this will not modify any behavior and is safe. When replacing `np.int`, you may wish to use e.g. `np.int64` or `np.int32` to specify the precision. If you wish to review your current use, check the release note link for additional information.\n",
      "Deprecated in NumPy 1.20; for more details and guidance: https://numpy.org/devdocs/release/1.20.0-notes.html#deprecations\n",
      "  self.image = self.image.astype(np.int)\n"
     ]
    },
    {
     "name": "stdout",
     "output_type": "stream",
     "text": [
      "D:\\Data\\Diploma\\generated//Validate_2//gt/403b35b6158c7cae6e32dcf7a1342b7d.jpg2_0CharMap.png\n",
      "D:\\Data\\Diploma\\generated//Validate_2//gt/403b35b6158c7cae6e32dcf7a1342b7d.jpg3_0CharMap.png\n",
      "\n"
     ]
    },
    {
     "name": "stderr",
     "output_type": "stream",
     "text": [
      "<ipython-input-76-1913dadd0da9>:16: TqdmDeprecationWarning: This function will be removed in tqdm==5.0.0\n",
      "Please use `tqdm.notebook.tqdm` instead of `tqdm.tqdm_notebook`\n",
      "  for i in tn(range(4)):\n"
     ]
    },
    {
     "data": {
      "application/vnd.jupyter.widget-view+json": {
       "model_id": "1e886fbe70784acfbfc52cc0bdcd2677",
       "version_major": 2,
       "version_minor": 0
      },
      "text/plain": [
       "HBox(children=(HTML(value=''), FloatProgress(value=0.0, max=4.0), HTML(value='')))"
      ]
     },
     "metadata": {},
     "output_type": "display_data"
    },
    {
     "name": "stderr",
     "output_type": "stream",
     "text": [
      "<ipython-input-51-38678290ec6b>:321: DeprecationWarning: `np.int` is a deprecated alias for the builtin `int`. To silence this warning, use `int` by itself. Doing this will not modify any behavior and is safe. When replacing `np.int`, you may wish to use e.g. `np.int64` or `np.int32` to specify the precision. If you wish to review your current use, check the release note link for additional information.\n",
      "Deprecated in NumPy 1.20; for more details and guidance: https://numpy.org/devdocs/release/1.20.0-notes.html#deprecations\n",
      "  rects = [np.array(wordCharRects, dtype=np.int)[np.newaxis, :, :,:] for wordCharRects in self.annotation[\"wordsCharactersRects\"]]\n",
      "<ipython-input-76-1913dadd0da9>:29: UserWarning: Matplotlib is currently using agg, which is a non-GUI backend, so cannot show the figure.\n",
      "  plt.show()\n"
     ]
    },
    {
     "name": "stdout",
     "output_type": "stream",
     "text": [
      "D:\\Data\\Diploma\\generated//Validate_2//gt/403b35b6158c7cae6e32dcf7a1342b7d.jpg0_1CharMap.png\n",
      "D:\\Data\\Diploma\\generated//Validate_2//gt/403b35b6158c7cae6e32dcf7a1342b7d.jpg1_1CharMap.png\n",
      "D:\\Data\\Diploma\\generated//Validate_2//gt/403b35b6158c7cae6e32dcf7a1342b7d.jpg2_1CharMap.png\n"
     ]
    },
    {
     "name": "stderr",
     "output_type": "stream",
     "text": [
      "<ipython-input-51-38678290ec6b>:150: DeprecationWarning: `np.int` is a deprecated alias for the builtin `int`. To silence this warning, use `int` by itself. Doing this will not modify any behavior and is safe. When replacing `np.int`, you may wish to use e.g. `np.int64` or `np.int32` to specify the precision. If you wish to review your current use, check the release note link for additional information.\n",
      "Deprecated in NumPy 1.20; for more details and guidance: https://numpy.org/devdocs/release/1.20.0-notes.html#deprecations\n",
      "  noise = np.random.normal(0, 32, (H,W, 4)).astype(np.int)\n",
      "<ipython-input-51-38678290ec6b>:151: DeprecationWarning: `np.int` is a deprecated alias for the builtin `int`. To silence this warning, use `int` by itself. Doing this will not modify any behavior and is safe. When replacing `np.int`, you may wish to use e.g. `np.int64` or `np.int32` to specify the precision. If you wish to review your current use, check the release note link for additional information.\n",
      "Deprecated in NumPy 1.20; for more details and guidance: https://numpy.org/devdocs/release/1.20.0-notes.html#deprecations\n",
      "  self.image = self.image.astype(np.int)\n"
     ]
    },
    {
     "name": "stdout",
     "output_type": "stream",
     "text": [
      "D:\\Data\\Diploma\\generated//Validate_2//gt/403b35b6158c7cae6e32dcf7a1342b7d.jpg3_1CharMap.png\n",
      "\n"
     ]
    },
    {
     "data": {
      "application/vnd.jupyter.widget-view+json": {
       "model_id": "8017c043553946dd906bc769073db93b",
       "version_major": 2,
       "version_minor": 0
      },
      "text/plain": [
       "HBox(children=(HTML(value=''), FloatProgress(value=0.0, max=4.0), HTML(value='')))"
      ]
     },
     "metadata": {},
     "output_type": "display_data"
    },
    {
     "name": "stdout",
     "output_type": "stream",
     "text": [
      "D:\\Data\\Diploma\\generated//Validate_2//gt/403b35b6158c7cae6e32dcf7a1342b7d.jpg0_2CharMap.png\n",
      "D:\\Data\\Diploma\\generated//Validate_2//gt/403b35b6158c7cae6e32dcf7a1342b7d.jpg1_2CharMap.png\n",
      "D:\\Data\\Diploma\\generated//Validate_2//gt/403b35b6158c7cae6e32dcf7a1342b7d.jpg2_2CharMap.png\n",
      "D:\\Data\\Diploma\\generated//Validate_2//gt/403b35b6158c7cae6e32dcf7a1342b7d.jpg3_2CharMap.png\n",
      "\n"
     ]
    },
    {
     "name": "stderr",
     "output_type": "stream",
     "text": [
      "<ipython-input-76-1913dadd0da9>:16: TqdmDeprecationWarning: This function will be removed in tqdm==5.0.0\n",
      "Please use `tqdm.notebook.tqdm` instead of `tqdm.tqdm_notebook`\n",
      "  for i in tn(range(4)):\n"
     ]
    },
    {
     "data": {
      "application/vnd.jupyter.widget-view+json": {
       "model_id": "fdcce647a9f64b7d9841720f5505ea92",
       "version_major": 2,
       "version_minor": 0
      },
      "text/plain": [
       "HBox(children=(HTML(value=''), FloatProgress(value=0.0, max=4.0), HTML(value='')))"
      ]
     },
     "metadata": {},
     "output_type": "display_data"
    },
    {
     "name": "stderr",
     "output_type": "stream",
     "text": [
      "<ipython-input-51-38678290ec6b>:321: DeprecationWarning: `np.int` is a deprecated alias for the builtin `int`. To silence this warning, use `int` by itself. Doing this will not modify any behavior and is safe. When replacing `np.int`, you may wish to use e.g. `np.int64` or `np.int32` to specify the precision. If you wish to review your current use, check the release note link for additional information.\n",
      "Deprecated in NumPy 1.20; for more details and guidance: https://numpy.org/devdocs/release/1.20.0-notes.html#deprecations\n",
      "  rects = [np.array(wordCharRects, dtype=np.int)[np.newaxis, :, :,:] for wordCharRects in self.annotation[\"wordsCharactersRects\"]]\n",
      "<ipython-input-76-1913dadd0da9>:29: UserWarning: Matplotlib is currently using agg, which is a non-GUI backend, so cannot show the figure.\n",
      "  plt.show()\n"
     ]
    },
    {
     "name": "stdout",
     "output_type": "stream",
     "text": [
      "D:\\Data\\Diploma\\generated//Validate_2//gt/403b35b6158c7cae6e32dcf7a1342b7d.jpg0_3CharMap.png\n",
      "D:\\Data\\Diploma\\generated//Validate_2//gt/403b35b6158c7cae6e32dcf7a1342b7d.jpg1_3CharMap.png\n",
      "D:\\Data\\Diploma\\generated//Validate_2//gt/403b35b6158c7cae6e32dcf7a1342b7d.jpg2_3CharMap.png\n",
      "D:\\Data\\Diploma\\generated//Validate_2//gt/403b35b6158c7cae6e32dcf7a1342b7d.jpg3_3CharMap.png\n",
      "\n",
      "\n"
     ]
    },
    {
     "name": "stderr",
     "output_type": "stream",
     "text": [
      "<ipython-input-76-1913dadd0da9>:10: TqdmDeprecationWarning: This function will be removed in tqdm==5.0.0\n",
      "Please use `tqdm.notebook.tqdm` instead of `tqdm.tqdm_notebook`\n",
      "  for j in tn(range(4)):\n"
     ]
    },
    {
     "data": {
      "application/vnd.jupyter.widget-view+json": {
       "model_id": "2b0e959ff69a4f0f94f5c50e7e427dd8",
       "version_major": 2,
       "version_minor": 0
      },
      "text/plain": [
       "HBox(children=(HTML(value=''), FloatProgress(value=0.0, max=4.0), HTML(value='')))"
      ]
     },
     "metadata": {},
     "output_type": "display_data"
    },
    {
     "data": {
      "application/vnd.jupyter.widget-view+json": {
       "model_id": "c7dffc6679ac4442b18cba67ef14d963",
       "version_major": 2,
       "version_minor": 0
      },
      "text/plain": [
       "HBox(children=(HTML(value=''), FloatProgress(value=0.0, max=4.0), HTML(value='')))"
      ]
     },
     "metadata": {},
     "output_type": "display_data"
    },
    {
     "name": "stderr",
     "output_type": "stream",
     "text": [
      "<ipython-input-51-38678290ec6b>:150: DeprecationWarning: `np.int` is a deprecated alias for the builtin `int`. To silence this warning, use `int` by itself. Doing this will not modify any behavior and is safe. When replacing `np.int`, you may wish to use e.g. `np.int64` or `np.int32` to specify the precision. If you wish to review your current use, check the release note link for additional information.\n",
      "Deprecated in NumPy 1.20; for more details and guidance: https://numpy.org/devdocs/release/1.20.0-notes.html#deprecations\n",
      "  noise = np.random.normal(0, 32, (H,W, 4)).astype(np.int)\n",
      "<ipython-input-51-38678290ec6b>:151: DeprecationWarning: `np.int` is a deprecated alias for the builtin `int`. To silence this warning, use `int` by itself. Doing this will not modify any behavior and is safe. When replacing `np.int`, you may wish to use e.g. `np.int64` or `np.int32` to specify the precision. If you wish to review your current use, check the release note link for additional information.\n",
      "Deprecated in NumPy 1.20; for more details and guidance: https://numpy.org/devdocs/release/1.20.0-notes.html#deprecations\n",
      "  self.image = self.image.astype(np.int)\n"
     ]
    },
    {
     "name": "stdout",
     "output_type": "stream",
     "text": [
      "D:\\Data\\Diploma\\generated//Validate_2//gt/53-535811_abstract-blue-background7-best-background-for-id-card.jpg0_0CharMap.png\n",
      "D:\\Data\\Diploma\\generated//Validate_2//gt/53-535811_abstract-blue-background7-best-background-for-id-card.jpg1_0CharMap.png\n",
      "D:\\Data\\Diploma\\generated//Validate_2//gt/53-535811_abstract-blue-background7-best-background-for-id-card.jpg2_0CharMap.png\n",
      "D:\\Data\\Diploma\\generated//Validate_2//gt/53-535811_abstract-blue-background7-best-background-for-id-card.jpg3_0CharMap.png\n",
      "\n"
     ]
    },
    {
     "data": {
      "application/vnd.jupyter.widget-view+json": {
       "model_id": "b27c5d5b81cc4f16b1d089974926f09d",
       "version_major": 2,
       "version_minor": 0
      },
      "text/plain": [
       "HBox(children=(HTML(value=''), FloatProgress(value=0.0, max=4.0), HTML(value='')))"
      ]
     },
     "metadata": {},
     "output_type": "display_data"
    },
    {
     "name": "stderr",
     "output_type": "stream",
     "text": [
      "<ipython-input-51-38678290ec6b>:163: DeprecationWarning: `np.int` is a deprecated alias for the builtin `int`. To silence this warning, use `int` by itself. Doing this will not modify any behavior and is safe. When replacing `np.int`, you may wish to use e.g. `np.int64` or `np.int32` to specify the precision. If you wish to review your current use, check the release note link for additional information.\n",
      "Deprecated in NumPy 1.20; for more details and guidance: https://numpy.org/devdocs/release/1.20.0-notes.html#deprecations\n",
      "  self.image = self.image.astype(np.int)\n",
      "<ipython-input-51-38678290ec6b>:165: DeprecationWarning: `np.int` is a deprecated alias for the builtin `int`. To silence this warning, use `int` by itself. Doing this will not modify any behavior and is safe. When replacing `np.int`, you may wish to use e.g. `np.int64` or `np.int32` to specify the precision. If you wish to review your current use, check the release note link for additional information.\n",
      "Deprecated in NumPy 1.20; for more details and guidance: https://numpy.org/devdocs/release/1.20.0-notes.html#deprecations\n",
      "  self.image += (noise * self.image).astype(np.int)\n"
     ]
    },
    {
     "name": "stdout",
     "output_type": "stream",
     "text": [
      "D:\\Data\\Diploma\\generated//Validate_2//gt/53-535811_abstract-blue-background7-best-background-for-id-card.jpg0_1CharMap.png\n",
      "D:\\Data\\Diploma\\generated//Validate_2//gt/53-535811_abstract-blue-background7-best-background-for-id-card.jpg1_1CharMap.png\n",
      "D:\\Data\\Diploma\\generated//Validate_2//gt/53-535811_abstract-blue-background7-best-background-for-id-card.jpg2_1CharMap.png\n",
      "D:\\Data\\Diploma\\generated//Validate_2//gt/53-535811_abstract-blue-background7-best-background-for-id-card.jpg3_1CharMap.png\n",
      "\n"
     ]
    },
    {
     "data": {
      "application/vnd.jupyter.widget-view+json": {
       "model_id": "a1445052d3eb4965a5c0d3016bea00db",
       "version_major": 2,
       "version_minor": 0
      },
      "text/plain": [
       "HBox(children=(HTML(value=''), FloatProgress(value=0.0, max=4.0), HTML(value='')))"
      ]
     },
     "metadata": {},
     "output_type": "display_data"
    },
    {
     "name": "stdout",
     "output_type": "stream",
     "text": [
      "D:\\Data\\Diploma\\generated//Validate_2//gt/53-535811_abstract-blue-background7-best-background-for-id-card.jpg0_2CharMap.png\n",
      "D:\\Data\\Diploma\\generated//Validate_2//gt/53-535811_abstract-blue-background7-best-background-for-id-card.jpg1_2CharMap.png\n",
      "D:\\Data\\Diploma\\generated//Validate_2//gt/53-535811_abstract-blue-background7-best-background-for-id-card.jpg2_2CharMap.png\n",
      "D:\\Data\\Diploma\\generated//Validate_2//gt/53-535811_abstract-blue-background7-best-background-for-id-card.jpg3_2CharMap.png\n",
      "\n"
     ]
    },
    {
     "name": "stderr",
     "output_type": "stream",
     "text": [
      "<ipython-input-76-1913dadd0da9>:16: TqdmDeprecationWarning: This function will be removed in tqdm==5.0.0\n",
      "Please use `tqdm.notebook.tqdm` instead of `tqdm.tqdm_notebook`\n",
      "  for i in tn(range(4)):\n"
     ]
    },
    {
     "data": {
      "application/vnd.jupyter.widget-view+json": {
       "model_id": "3981ad694607448ab4d881ffd2274330",
       "version_major": 2,
       "version_minor": 0
      },
      "text/plain": [
       "HBox(children=(HTML(value=''), FloatProgress(value=0.0, max=4.0), HTML(value='')))"
      ]
     },
     "metadata": {},
     "output_type": "display_data"
    },
    {
     "name": "stderr",
     "output_type": "stream",
     "text": [
      "<ipython-input-51-38678290ec6b>:321: DeprecationWarning: `np.int` is a deprecated alias for the builtin `int`. To silence this warning, use `int` by itself. Doing this will not modify any behavior and is safe. When replacing `np.int`, you may wish to use e.g. `np.int64` or `np.int32` to specify the precision. If you wish to review your current use, check the release note link for additional information.\n",
      "Deprecated in NumPy 1.20; for more details and guidance: https://numpy.org/devdocs/release/1.20.0-notes.html#deprecations\n",
      "  rects = [np.array(wordCharRects, dtype=np.int)[np.newaxis, :, :,:] for wordCharRects in self.annotation[\"wordsCharactersRects\"]]\n",
      "<ipython-input-76-1913dadd0da9>:29: UserWarning: Matplotlib is currently using agg, which is a non-GUI backend, so cannot show the figure.\n",
      "  plt.show()\n"
     ]
    },
    {
     "name": "stdout",
     "output_type": "stream",
     "text": [
      "D:\\Data\\Diploma\\generated//Validate_2//gt/53-535811_abstract-blue-background7-best-background-for-id-card.jpg0_3CharMap.png\n",
      "D:\\Data\\Diploma\\generated//Validate_2//gt/53-535811_abstract-blue-background7-best-background-for-id-card.jpg1_3CharMap.png\n",
      "D:\\Data\\Diploma\\generated//Validate_2//gt/53-535811_abstract-blue-background7-best-background-for-id-card.jpg2_3CharMap.png\n"
     ]
    },
    {
     "name": "stderr",
     "output_type": "stream",
     "text": [
      "<ipython-input-50-4a25245fc9cb>:37: DeprecationWarning: `np.float` is a deprecated alias for the builtin `float`. To silence this warning, use `float` by itself. Doing this will not modify any behavior and is safe. If you specifically wanted the numpy scalar type, use `np.float64` here.\n",
      "Deprecated in NumPy 1.20; for more details and guidance: https://numpy.org/devdocs/release/1.20.0-notes.html#deprecations\n",
      "  result = np.zeros((height, width, len(start_list)), dtype=np.float)\n"
     ]
    },
    {
     "name": "stdout",
     "output_type": "stream",
     "text": [
      "D:\\Data\\Diploma\\generated//Validate_2//gt/53-535811_abstract-blue-background7-best-background-for-id-card.jpg3_3CharMap.png\n",
      "\n",
      "\n"
     ]
    },
    {
     "name": "stderr",
     "output_type": "stream",
     "text": [
      "<ipython-input-76-1913dadd0da9>:10: TqdmDeprecationWarning: This function will be removed in tqdm==5.0.0\n",
      "Please use `tqdm.notebook.tqdm` instead of `tqdm.tqdm_notebook`\n",
      "  for j in tn(range(4)):\n"
     ]
    },
    {
     "data": {
      "application/vnd.jupyter.widget-view+json": {
       "model_id": "b846d86dd3544e9291458d0968e55450",
       "version_major": 2,
       "version_minor": 0
      },
      "text/plain": [
       "HBox(children=(HTML(value=''), FloatProgress(value=0.0, max=4.0), HTML(value='')))"
      ]
     },
     "metadata": {},
     "output_type": "display_data"
    },
    {
     "data": {
      "application/vnd.jupyter.widget-view+json": {
       "model_id": "196416cb372c4029bfc6235d4cc122f0",
       "version_major": 2,
       "version_minor": 0
      },
      "text/plain": [
       "HBox(children=(HTML(value=''), FloatProgress(value=0.0, max=4.0), HTML(value='')))"
      ]
     },
     "metadata": {},
     "output_type": "display_data"
    },
    {
     "name": "stdout",
     "output_type": "stream",
     "text": [
      "D:\\Data\\Diploma\\generated//Validate_2//gt/53tg.png0_0CharMap.png\n",
      "D:\\Data\\Diploma\\generated//Validate_2//gt/53tg.png1_0CharMap.png\n",
      "D:\\Data\\Diploma\\generated//Validate_2//gt/53tg.png2_0CharMap.png\n",
      "D:\\Data\\Diploma\\generated//Validate_2//gt/53tg.png3_0CharMap.png\n",
      "\n"
     ]
    },
    {
     "data": {
      "application/vnd.jupyter.widget-view+json": {
       "model_id": "4facc8854ccf46afae4fdb6c48827f87",
       "version_major": 2,
       "version_minor": 0
      },
      "text/plain": [
       "HBox(children=(HTML(value=''), FloatProgress(value=0.0, max=4.0), HTML(value='')))"
      ]
     },
     "metadata": {},
     "output_type": "display_data"
    },
    {
     "name": "stdout",
     "output_type": "stream",
     "text": [
      "D:\\Data\\Diploma\\generated//Validate_2//gt/53tg.png0_1CharMap.png\n",
      "D:\\Data\\Diploma\\generated//Validate_2//gt/53tg.png1_1CharMap.png\n",
      "D:\\Data\\Diploma\\generated//Validate_2//gt/53tg.png2_1CharMap.png\n",
      "D:\\Data\\Diploma\\generated//Validate_2//gt/53tg.png3_1CharMap.png\n",
      "\n"
     ]
    },
    {
     "name": "stderr",
     "output_type": "stream",
     "text": [
      "<ipython-input-76-1913dadd0da9>:16: TqdmDeprecationWarning: This function will be removed in tqdm==5.0.0\n",
      "Please use `tqdm.notebook.tqdm` instead of `tqdm.tqdm_notebook`\n",
      "  for i in tn(range(4)):\n"
     ]
    },
    {
     "data": {
      "application/vnd.jupyter.widget-view+json": {
       "model_id": "706aade9ab23470f8544c4c2fcfc6791",
       "version_major": 2,
       "version_minor": 0
      },
      "text/plain": [
       "HBox(children=(HTML(value=''), FloatProgress(value=0.0, max=4.0), HTML(value='')))"
      ]
     },
     "metadata": {},
     "output_type": "display_data"
    },
    {
     "name": "stderr",
     "output_type": "stream",
     "text": [
      "<ipython-input-51-38678290ec6b>:321: DeprecationWarning: `np.int` is a deprecated alias for the builtin `int`. To silence this warning, use `int` by itself. Doing this will not modify any behavior and is safe. When replacing `np.int`, you may wish to use e.g. `np.int64` or `np.int32` to specify the precision. If you wish to review your current use, check the release note link for additional information.\n",
      "Deprecated in NumPy 1.20; for more details and guidance: https://numpy.org/devdocs/release/1.20.0-notes.html#deprecations\n",
      "  rects = [np.array(wordCharRects, dtype=np.int)[np.newaxis, :, :,:] for wordCharRects in self.annotation[\"wordsCharactersRects\"]]\n",
      "<ipython-input-76-1913dadd0da9>:29: UserWarning: Matplotlib is currently using agg, which is a non-GUI backend, so cannot show the figure.\n",
      "  plt.show()\n"
     ]
    },
    {
     "name": "stdout",
     "output_type": "stream",
     "text": [
      "D:\\Data\\Diploma\\generated//Validate_2//gt/53tg.png0_2CharMap.png\n"
     ]
    },
    {
     "name": "stderr",
     "output_type": "stream",
     "text": [
      "<ipython-input-50-4a25245fc9cb>:37: DeprecationWarning: `np.float` is a deprecated alias for the builtin `float`. To silence this warning, use `float` by itself. Doing this will not modify any behavior and is safe. If you specifically wanted the numpy scalar type, use `np.float64` here.\n",
      "Deprecated in NumPy 1.20; for more details and guidance: https://numpy.org/devdocs/release/1.20.0-notes.html#deprecations\n",
      "  result = np.zeros((height, width, len(start_list)), dtype=np.float)\n"
     ]
    },
    {
     "name": "stdout",
     "output_type": "stream",
     "text": [
      "second filter 16 0 region\n",
      "second filter 14 0 region\n",
      "second filter 15 0 region\n",
      "second filter 8 0 region\n",
      "second filter 15 0 region\n",
      "second filter 16 0 region\n",
      "D:\\Data\\Diploma\\generated//Validate_2//gt/53tg.png1_2CharMap.png\n",
      "second filter 16 0 region\n",
      "second filter 14 0 region\n",
      "second filter 15 0 region\n",
      "second filter 8 0 region\n",
      "second filter 15 0 region\n",
      "second filter 16 0 region\n",
      "D:\\Data\\Diploma\\generated//Validate_2//gt/53tg.png2_2CharMap.png\n",
      "D:\\Data\\Diploma\\generated//Validate_2//gt/53tg.png3_2CharMap.png\n",
      "\n"
     ]
    },
    {
     "data": {
      "application/vnd.jupyter.widget-view+json": {
       "model_id": "b3e46f7c2b8b4b31aa3840944987c820",
       "version_major": 2,
       "version_minor": 0
      },
      "text/plain": [
       "HBox(children=(HTML(value=''), FloatProgress(value=0.0, max=4.0), HTML(value='')))"
      ]
     },
     "metadata": {},
     "output_type": "display_data"
    },
    {
     "name": "stdout",
     "output_type": "stream",
     "text": [
      "D:\\Data\\Diploma\\generated//Validate_2//gt/53tg.png0_3CharMap.png\n",
      "D:\\Data\\Diploma\\generated//Validate_2//gt/53tg.png1_3CharMap.png\n",
      "D:\\Data\\Diploma\\generated//Validate_2//gt/53tg.png2_3CharMap.png\n",
      "D:\\Data\\Diploma\\generated//Validate_2//gt/53tg.png3_3CharMap.png\n",
      "\n",
      "\n"
     ]
    },
    {
     "name": "stderr",
     "output_type": "stream",
     "text": [
      "<ipython-input-76-1913dadd0da9>:10: TqdmDeprecationWarning: This function will be removed in tqdm==5.0.0\n",
      "Please use `tqdm.notebook.tqdm` instead of `tqdm.tqdm_notebook`\n",
      "  for j in tn(range(4)):\n"
     ]
    },
    {
     "data": {
      "application/vnd.jupyter.widget-view+json": {
       "model_id": "a4c7b9292dc24f91ab0de3bb000f9549",
       "version_major": 2,
       "version_minor": 0
      },
      "text/plain": [
       "HBox(children=(HTML(value=''), FloatProgress(value=0.0, max=4.0), HTML(value='')))"
      ]
     },
     "metadata": {},
     "output_type": "display_data"
    },
    {
     "name": "stderr",
     "output_type": "stream",
     "text": [
      "<ipython-input-76-1913dadd0da9>:16: TqdmDeprecationWarning: This function will be removed in tqdm==5.0.0\n",
      "Please use `tqdm.notebook.tqdm` instead of `tqdm.tqdm_notebook`\n",
      "  for i in tn(range(4)):\n"
     ]
    },
    {
     "data": {
      "application/vnd.jupyter.widget-view+json": {
       "model_id": "955df64f9d774fceae85b449dab3e556",
       "version_major": 2,
       "version_minor": 0
      },
      "text/plain": [
       "HBox(children=(HTML(value=''), FloatProgress(value=0.0, max=4.0), HTML(value='')))"
      ]
     },
     "metadata": {},
     "output_type": "display_data"
    },
    {
     "name": "stderr",
     "output_type": "stream",
     "text": [
      "<ipython-input-51-38678290ec6b>:321: DeprecationWarning: `np.int` is a deprecated alias for the builtin `int`. To silence this warning, use `int` by itself. Doing this will not modify any behavior and is safe. When replacing `np.int`, you may wish to use e.g. `np.int64` or `np.int32` to specify the precision. If you wish to review your current use, check the release note link for additional information.\n",
      "Deprecated in NumPy 1.20; for more details and guidance: https://numpy.org/devdocs/release/1.20.0-notes.html#deprecations\n",
      "  rects = [np.array(wordCharRects, dtype=np.int)[np.newaxis, :, :,:] for wordCharRects in self.annotation[\"wordsCharactersRects\"]]\n",
      "<ipython-input-76-1913dadd0da9>:29: UserWarning: Matplotlib is currently using agg, which is a non-GUI backend, so cannot show the figure.\n",
      "  plt.show()\n"
     ]
    },
    {
     "name": "stdout",
     "output_type": "stream",
     "text": [
      "D:\\Data\\Diploma\\generated//Validate_2//gt/5400576-blue-elephant-readystart-smart-card-landscape-front-700x700.jpg0_0CharMap.png\n",
      "D:\\Data\\Diploma\\generated//Validate_2//gt/5400576-blue-elephant-readystart-smart-card-landscape-front-700x700.jpg1_0CharMap.png\n",
      "D:\\Data\\Diploma\\generated//Validate_2//gt/5400576-blue-elephant-readystart-smart-card-landscape-front-700x700.jpg2_0CharMap.png\n",
      "D:\\Data\\Diploma\\generated//Validate_2//gt/5400576-blue-elephant-readystart-smart-card-landscape-front-700x700.jpg3_0CharMap.png\n",
      "\n"
     ]
    },
    {
     "data": {
      "application/vnd.jupyter.widget-view+json": {
       "model_id": "16f7f603b0254162ae20fd910b4d6a62",
       "version_major": 2,
       "version_minor": 0
      },
      "text/plain": [
       "HBox(children=(HTML(value=''), FloatProgress(value=0.0, max=4.0), HTML(value='')))"
      ]
     },
     "metadata": {},
     "output_type": "display_data"
    },
    {
     "name": "stdout",
     "output_type": "stream",
     "text": [
      "D:\\Data\\Diploma\\generated//Validate_2//gt/5400576-blue-elephant-readystart-smart-card-landscape-front-700x700.jpg0_1CharMap.png\n",
      "D:\\Data\\Diploma\\generated//Validate_2//gt/5400576-blue-elephant-readystart-smart-card-landscape-front-700x700.jpg1_1CharMap.png\n",
      "D:\\Data\\Diploma\\generated//Validate_2//gt/5400576-blue-elephant-readystart-smart-card-landscape-front-700x700.jpg2_1CharMap.png\n",
      "D:\\Data\\Diploma\\generated//Validate_2//gt/5400576-blue-elephant-readystart-smart-card-landscape-front-700x700.jpg3_1CharMap.png\n",
      "\n"
     ]
    },
    {
     "name": "stderr",
     "output_type": "stream",
     "text": [
      "<ipython-input-76-1913dadd0da9>:16: TqdmDeprecationWarning: This function will be removed in tqdm==5.0.0\n",
      "Please use `tqdm.notebook.tqdm` instead of `tqdm.tqdm_notebook`\n",
      "  for i in tn(range(4)):\n"
     ]
    },
    {
     "data": {
      "application/vnd.jupyter.widget-view+json": {
       "model_id": "e7c4c376892e4042bea5967833b8a2bb",
       "version_major": 2,
       "version_minor": 0
      },
      "text/plain": [
       "HBox(children=(HTML(value=''), FloatProgress(value=0.0, max=4.0), HTML(value='')))"
      ]
     },
     "metadata": {},
     "output_type": "display_data"
    },
    {
     "name": "stderr",
     "output_type": "stream",
     "text": [
      "<ipython-input-51-38678290ec6b>:321: DeprecationWarning: `np.int` is a deprecated alias for the builtin `int`. To silence this warning, use `int` by itself. Doing this will not modify any behavior and is safe. When replacing `np.int`, you may wish to use e.g. `np.int64` or `np.int32` to specify the precision. If you wish to review your current use, check the release note link for additional information.\n",
      "Deprecated in NumPy 1.20; for more details and guidance: https://numpy.org/devdocs/release/1.20.0-notes.html#deprecations\n",
      "  rects = [np.array(wordCharRects, dtype=np.int)[np.newaxis, :, :,:] for wordCharRects in self.annotation[\"wordsCharactersRects\"]]\n",
      "<ipython-input-76-1913dadd0da9>:29: UserWarning: Matplotlib is currently using agg, which is a non-GUI backend, so cannot show the figure.\n",
      "  plt.show()\n"
     ]
    },
    {
     "name": "stdout",
     "output_type": "stream",
     "text": [
      "D:\\Data\\Diploma\\generated//Validate_2//gt/5400576-blue-elephant-readystart-smart-card-landscape-front-700x700.jpg0_2CharMap.png\n",
      "D:\\Data\\Diploma\\generated//Validate_2//gt/5400576-blue-elephant-readystart-smart-card-landscape-front-700x700.jpg1_2CharMap.png\n"
     ]
    },
    {
     "name": "stderr",
     "output_type": "stream",
     "text": [
      "<ipython-input-50-4a25245fc9cb>:37: DeprecationWarning: `np.float` is a deprecated alias for the builtin `float`. To silence this warning, use `float` by itself. Doing this will not modify any behavior and is safe. If you specifically wanted the numpy scalar type, use `np.float64` here.\n",
      "Deprecated in NumPy 1.20; for more details and guidance: https://numpy.org/devdocs/release/1.20.0-notes.html#deprecations\n",
      "  result = np.zeros((height, width, len(start_list)), dtype=np.float)\n"
     ]
    },
    {
     "name": "stdout",
     "output_type": "stream",
     "text": [
      "D:\\Data\\Diploma\\generated//Validate_2//gt/5400576-blue-elephant-readystart-smart-card-landscape-front-700x700.jpg2_2CharMap.png\n",
      "D:\\Data\\Diploma\\generated//Validate_2//gt/5400576-blue-elephant-readystart-smart-card-landscape-front-700x700.jpg3_2CharMap.png\n",
      "\n"
     ]
    },
    {
     "data": {
      "application/vnd.jupyter.widget-view+json": {
       "model_id": "4f8b68a4c73a4091a6097bbfb61efa7f",
       "version_major": 2,
       "version_minor": 0
      },
      "text/plain": [
       "HBox(children=(HTML(value=''), FloatProgress(value=0.0, max=4.0), HTML(value='')))"
      ]
     },
     "metadata": {},
     "output_type": "display_data"
    },
    {
     "name": "stdout",
     "output_type": "stream",
     "text": [
      "D:\\Data\\Diploma\\generated//Validate_2//gt/5400576-blue-elephant-readystart-smart-card-landscape-front-700x700.jpg0_3CharMap.png\n",
      "D:\\Data\\Diploma\\generated//Validate_2//gt/5400576-blue-elephant-readystart-smart-card-landscape-front-700x700.jpg1_3CharMap.png\n",
      "D:\\Data\\Diploma\\generated//Validate_2//gt/5400576-blue-elephant-readystart-smart-card-landscape-front-700x700.jpg2_3CharMap.png\n",
      "D:\\Data\\Diploma\\generated//Validate_2//gt/5400576-blue-elephant-readystart-smart-card-landscape-front-700x700.jpg3_3CharMap.png\n",
      "\n",
      "\n"
     ]
    },
    {
     "name": "stderr",
     "output_type": "stream",
     "text": [
      "<ipython-input-76-1913dadd0da9>:10: TqdmDeprecationWarning: This function will be removed in tqdm==5.0.0\n",
      "Please use `tqdm.notebook.tqdm` instead of `tqdm.tqdm_notebook`\n",
      "  for j in tn(range(4)):\n"
     ]
    },
    {
     "data": {
      "application/vnd.jupyter.widget-view+json": {
       "model_id": "73f41800f59b46c89225c5de357e96d0",
       "version_major": 2,
       "version_minor": 0
      },
      "text/plain": [
       "HBox(children=(HTML(value=''), FloatProgress(value=0.0, max=4.0), HTML(value='')))"
      ]
     },
     "metadata": {},
     "output_type": "display_data"
    },
    {
     "name": "stderr",
     "output_type": "stream",
     "text": [
      "<ipython-input-76-1913dadd0da9>:16: TqdmDeprecationWarning: This function will be removed in tqdm==5.0.0\n",
      "Please use `tqdm.notebook.tqdm` instead of `tqdm.tqdm_notebook`\n",
      "  for i in tn(range(4)):\n"
     ]
    },
    {
     "data": {
      "application/vnd.jupyter.widget-view+json": {
       "model_id": "e1259f4c31c34b5a806b47aff088e9e7",
       "version_major": 2,
       "version_minor": 0
      },
      "text/plain": [
       "HBox(children=(HTML(value=''), FloatProgress(value=0.0, max=4.0), HTML(value='')))"
      ]
     },
     "metadata": {},
     "output_type": "display_data"
    },
    {
     "name": "stderr",
     "output_type": "stream",
     "text": [
      "<ipython-input-51-38678290ec6b>:321: DeprecationWarning: `np.int` is a deprecated alias for the builtin `int`. To silence this warning, use `int` by itself. Doing this will not modify any behavior and is safe. When replacing `np.int`, you may wish to use e.g. `np.int64` or `np.int32` to specify the precision. If you wish to review your current use, check the release note link for additional information.\n",
      "Deprecated in NumPy 1.20; for more details and guidance: https://numpy.org/devdocs/release/1.20.0-notes.html#deprecations\n",
      "  rects = [np.array(wordCharRects, dtype=np.int)[np.newaxis, :, :,:] for wordCharRects in self.annotation[\"wordsCharactersRects\"]]\n",
      "<ipython-input-76-1913dadd0da9>:29: UserWarning: Matplotlib is currently using agg, which is a non-GUI backend, so cannot show the figure.\n",
      "  plt.show()\n"
     ]
    },
    {
     "name": "stdout",
     "output_type": "stream",
     "text": [
      "D:\\Data\\Diploma\\generated//Validate_2//gt/68892054-stock-vector-guilloche-seamless-background-monochrome-guilloche-texture-with-waves-for-certificate-voucher-bankno.jpg0_0CharMap.png\n",
      "D:\\Data\\Diploma\\generated//Validate_2//gt/68892054-stock-vector-guilloche-seamless-background-monochrome-guilloche-texture-with-waves-for-certificate-voucher-bankno.jpg1_0CharMap.png\n",
      "D:\\Data\\Diploma\\generated//Validate_2//gt/68892054-stock-vector-guilloche-seamless-background-monochrome-guilloche-texture-with-waves-for-certificate-voucher-bankno.jpg2_0CharMap.png\n",
      "D:\\Data\\Diploma\\generated//Validate_2//gt/68892054-stock-vector-guilloche-seamless-background-monochrome-guilloche-texture-with-waves-for-certificate-voucher-bankno.jpg3_0CharMap.png\n",
      "\n"
     ]
    },
    {
     "name": "stderr",
     "output_type": "stream",
     "text": [
      "<ipython-input-76-1913dadd0da9>:16: TqdmDeprecationWarning: This function will be removed in tqdm==5.0.0\n",
      "Please use `tqdm.notebook.tqdm` instead of `tqdm.tqdm_notebook`\n",
      "  for i in tn(range(4)):\n"
     ]
    },
    {
     "data": {
      "application/vnd.jupyter.widget-view+json": {
       "model_id": "c477326f1def4e1c9ecbb9346d4cb219",
       "version_major": 2,
       "version_minor": 0
      },
      "text/plain": [
       "HBox(children=(HTML(value=''), FloatProgress(value=0.0, max=4.0), HTML(value='')))"
      ]
     },
     "metadata": {},
     "output_type": "display_data"
    },
    {
     "name": "stderr",
     "output_type": "stream",
     "text": [
      "<ipython-input-51-38678290ec6b>:321: DeprecationWarning: `np.int` is a deprecated alias for the builtin `int`. To silence this warning, use `int` by itself. Doing this will not modify any behavior and is safe. When replacing `np.int`, you may wish to use e.g. `np.int64` or `np.int32` to specify the precision. If you wish to review your current use, check the release note link for additional information.\n",
      "Deprecated in NumPy 1.20; for more details and guidance: https://numpy.org/devdocs/release/1.20.0-notes.html#deprecations\n",
      "  rects = [np.array(wordCharRects, dtype=np.int)[np.newaxis, :, :,:] for wordCharRects in self.annotation[\"wordsCharactersRects\"]]\n",
      "<ipython-input-76-1913dadd0da9>:29: UserWarning: Matplotlib is currently using agg, which is a non-GUI backend, so cannot show the figure.\n",
      "  plt.show()\n"
     ]
    },
    {
     "name": "stdout",
     "output_type": "stream",
     "text": [
      "D:\\Data\\Diploma\\generated//Validate_2//gt/68892054-stock-vector-guilloche-seamless-background-monochrome-guilloche-texture-with-waves-for-certificate-voucher-bankno.jpg0_1CharMap.png\n",
      "D:\\Data\\Diploma\\generated//Validate_2//gt/68892054-stock-vector-guilloche-seamless-background-monochrome-guilloche-texture-with-waves-for-certificate-voucher-bankno.jpg1_1CharMap.png\n",
      "D:\\Data\\Diploma\\generated//Validate_2//gt/68892054-stock-vector-guilloche-seamless-background-monochrome-guilloche-texture-with-waves-for-certificate-voucher-bankno.jpg2_1CharMap.png\n",
      "D:\\Data\\Diploma\\generated//Validate_2//gt/68892054-stock-vector-guilloche-seamless-background-monochrome-guilloche-texture-with-waves-for-certificate-voucher-bankno.jpg3_1CharMap.png\n",
      "\n"
     ]
    },
    {
     "data": {
      "application/vnd.jupyter.widget-view+json": {
       "model_id": "af77956249f6407d914ffdc9b993fcf6",
       "version_major": 2,
       "version_minor": 0
      },
      "text/plain": [
       "HBox(children=(HTML(value=''), FloatProgress(value=0.0, max=4.0), HTML(value='')))"
      ]
     },
     "metadata": {},
     "output_type": "display_data"
    },
    {
     "name": "stdout",
     "output_type": "stream",
     "text": [
      "D:\\Data\\Diploma\\generated//Validate_2//gt/68892054-stock-vector-guilloche-seamless-background-monochrome-guilloche-texture-with-waves-for-certificate-voucher-bankno.jpg0_2CharMap.png\n"
     ]
    },
    {
     "name": "stderr",
     "output_type": "stream",
     "text": [
      "<ipython-input-50-4a25245fc9cb>:37: DeprecationWarning: `np.float` is a deprecated alias for the builtin `float`. To silence this warning, use `float` by itself. Doing this will not modify any behavior and is safe. If you specifically wanted the numpy scalar type, use `np.float64` here.\n",
      "Deprecated in NumPy 1.20; for more details and guidance: https://numpy.org/devdocs/release/1.20.0-notes.html#deprecations\n",
      "  result = np.zeros((height, width, len(start_list)), dtype=np.float)\n"
     ]
    },
    {
     "name": "stdout",
     "output_type": "stream",
     "text": [
      "D:\\Data\\Diploma\\generated//Validate_2//gt/68892054-stock-vector-guilloche-seamless-background-monochrome-guilloche-texture-with-waves-for-certificate-voucher-bankno.jpg1_2CharMap.png\n",
      "D:\\Data\\Diploma\\generated//Validate_2//gt/68892054-stock-vector-guilloche-seamless-background-monochrome-guilloche-texture-with-waves-for-certificate-voucher-bankno.jpg2_2CharMap.png\n",
      "D:\\Data\\Diploma\\generated//Validate_2//gt/68892054-stock-vector-guilloche-seamless-background-monochrome-guilloche-texture-with-waves-for-certificate-voucher-bankno.jpg3_2CharMap.png\n",
      "\n"
     ]
    },
    {
     "name": "stderr",
     "output_type": "stream",
     "text": [
      "<ipython-input-76-1913dadd0da9>:16: TqdmDeprecationWarning: This function will be removed in tqdm==5.0.0\n",
      "Please use `tqdm.notebook.tqdm` instead of `tqdm.tqdm_notebook`\n",
      "  for i in tn(range(4)):\n"
     ]
    },
    {
     "data": {
      "application/vnd.jupyter.widget-view+json": {
       "model_id": "28f9df861b1f4294b20308b9d2be3165",
       "version_major": 2,
       "version_minor": 0
      },
      "text/plain": [
       "HBox(children=(HTML(value=''), FloatProgress(value=0.0, max=4.0), HTML(value='')))"
      ]
     },
     "metadata": {},
     "output_type": "display_data"
    },
    {
     "name": "stderr",
     "output_type": "stream",
     "text": [
      "<ipython-input-51-38678290ec6b>:321: DeprecationWarning: `np.int` is a deprecated alias for the builtin `int`. To silence this warning, use `int` by itself. Doing this will not modify any behavior and is safe. When replacing `np.int`, you may wish to use e.g. `np.int64` or `np.int32` to specify the precision. If you wish to review your current use, check the release note link for additional information.\n",
      "Deprecated in NumPy 1.20; for more details and guidance: https://numpy.org/devdocs/release/1.20.0-notes.html#deprecations\n",
      "  rects = [np.array(wordCharRects, dtype=np.int)[np.newaxis, :, :,:] for wordCharRects in self.annotation[\"wordsCharactersRects\"]]\n",
      "<ipython-input-76-1913dadd0da9>:29: UserWarning: Matplotlib is currently using agg, which is a non-GUI backend, so cannot show the figure.\n",
      "  plt.show()\n"
     ]
    },
    {
     "name": "stdout",
     "output_type": "stream",
     "text": [
      "D:\\Data\\Diploma\\generated//Validate_2//gt/68892054-stock-vector-guilloche-seamless-background-monochrome-guilloche-texture-with-waves-for-certificate-voucher-bankno.jpg0_3CharMap.png\n",
      "D:\\Data\\Diploma\\generated//Validate_2//gt/68892054-stock-vector-guilloche-seamless-background-monochrome-guilloche-texture-with-waves-for-certificate-voucher-bankno.jpg1_3CharMap.png\n"
     ]
    },
    {
     "name": "stderr",
     "output_type": "stream",
     "text": [
      "<ipython-input-51-38678290ec6b>:150: DeprecationWarning: `np.int` is a deprecated alias for the builtin `int`. To silence this warning, use `int` by itself. Doing this will not modify any behavior and is safe. When replacing `np.int`, you may wish to use e.g. `np.int64` or `np.int32` to specify the precision. If you wish to review your current use, check the release note link for additional information.\n",
      "Deprecated in NumPy 1.20; for more details and guidance: https://numpy.org/devdocs/release/1.20.0-notes.html#deprecations\n",
      "  noise = np.random.normal(0, 32, (H,W, 4)).astype(np.int)\n",
      "<ipython-input-51-38678290ec6b>:151: DeprecationWarning: `np.int` is a deprecated alias for the builtin `int`. To silence this warning, use `int` by itself. Doing this will not modify any behavior and is safe. When replacing `np.int`, you may wish to use e.g. `np.int64` or `np.int32` to specify the precision. If you wish to review your current use, check the release note link for additional information.\n",
      "Deprecated in NumPy 1.20; for more details and guidance: https://numpy.org/devdocs/release/1.20.0-notes.html#deprecations\n",
      "  self.image = self.image.astype(np.int)\n"
     ]
    },
    {
     "name": "stdout",
     "output_type": "stream",
     "text": [
      "D:\\Data\\Diploma\\generated//Validate_2//gt/68892054-stock-vector-guilloche-seamless-background-monochrome-guilloche-texture-with-waves-for-certificate-voucher-bankno.jpg2_3CharMap.png\n"
     ]
    },
    {
     "name": "stderr",
     "output_type": "stream",
     "text": [
      "<ipython-input-50-4a25245fc9cb>:37: DeprecationWarning: `np.float` is a deprecated alias for the builtin `float`. To silence this warning, use `float` by itself. Doing this will not modify any behavior and is safe. If you specifically wanted the numpy scalar type, use `np.float64` here.\n",
      "Deprecated in NumPy 1.20; for more details and guidance: https://numpy.org/devdocs/release/1.20.0-notes.html#deprecations\n",
      "  result = np.zeros((height, width, len(start_list)), dtype=np.float)\n"
     ]
    },
    {
     "name": "stdout",
     "output_type": "stream",
     "text": [
      "D:\\Data\\Diploma\\generated//Validate_2//gt/68892054-stock-vector-guilloche-seamless-background-monochrome-guilloche-texture-with-waves-for-certificate-voucher-bankno.jpg3_3CharMap.png\n",
      "\n",
      "\n"
     ]
    },
    {
     "name": "stderr",
     "output_type": "stream",
     "text": [
      "<ipython-input-76-1913dadd0da9>:10: TqdmDeprecationWarning: This function will be removed in tqdm==5.0.0\n",
      "Please use `tqdm.notebook.tqdm` instead of `tqdm.tqdm_notebook`\n",
      "  for j in tn(range(4)):\n"
     ]
    },
    {
     "data": {
      "application/vnd.jupyter.widget-view+json": {
       "model_id": "906b0dcd973747c9857be20e81d830ac",
       "version_major": 2,
       "version_minor": 0
      },
      "text/plain": [
       "HBox(children=(HTML(value=''), FloatProgress(value=0.0, max=4.0), HTML(value='')))"
      ]
     },
     "metadata": {},
     "output_type": "display_data"
    },
    {
     "data": {
      "application/vnd.jupyter.widget-view+json": {
       "model_id": "0d3b37d136614f6a8a536d26625c995d",
       "version_major": 2,
       "version_minor": 0
      },
      "text/plain": [
       "HBox(children=(HTML(value=''), FloatProgress(value=0.0, max=4.0), HTML(value='')))"
      ]
     },
     "metadata": {},
     "output_type": "display_data"
    },
    {
     "name": "stdout",
     "output_type": "stream",
     "text": [
      "D:\\Data\\Diploma\\generated//Validate_2//gt/69113052-guilloche-seamless-background-monochrome-guilloche-texture-with-waves-for-certificate-voucher-bankno.jpg0_0CharMap.png\n",
      "D:\\Data\\Diploma\\generated//Validate_2//gt/69113052-guilloche-seamless-background-monochrome-guilloche-texture-with-waves-for-certificate-voucher-bankno.jpg1_0CharMap.png\n"
     ]
    },
    {
     "name": "stderr",
     "output_type": "stream",
     "text": [
      "<ipython-input-51-38678290ec6b>:163: DeprecationWarning: `np.int` is a deprecated alias for the builtin `int`. To silence this warning, use `int` by itself. Doing this will not modify any behavior and is safe. When replacing `np.int`, you may wish to use e.g. `np.int64` or `np.int32` to specify the precision. If you wish to review your current use, check the release note link for additional information.\n",
      "Deprecated in NumPy 1.20; for more details and guidance: https://numpy.org/devdocs/release/1.20.0-notes.html#deprecations\n",
      "  self.image = self.image.astype(np.int)\n",
      "<ipython-input-51-38678290ec6b>:165: DeprecationWarning: `np.int` is a deprecated alias for the builtin `int`. To silence this warning, use `int` by itself. Doing this will not modify any behavior and is safe. When replacing `np.int`, you may wish to use e.g. `np.int64` or `np.int32` to specify the precision. If you wish to review your current use, check the release note link for additional information.\n",
      "Deprecated in NumPy 1.20; for more details and guidance: https://numpy.org/devdocs/release/1.20.0-notes.html#deprecations\n",
      "  self.image += (noise * self.image).astype(np.int)\n"
     ]
    },
    {
     "name": "stdout",
     "output_type": "stream",
     "text": [
      "D:\\Data\\Diploma\\generated//Validate_2//gt/69113052-guilloche-seamless-background-monochrome-guilloche-texture-with-waves-for-certificate-voucher-bankno.jpg2_0CharMap.png\n",
      "D:\\Data\\Diploma\\generated//Validate_2//gt/69113052-guilloche-seamless-background-monochrome-guilloche-texture-with-waves-for-certificate-voucher-bankno.jpg3_0CharMap.png\n",
      "\n"
     ]
    },
    {
     "name": "stderr",
     "output_type": "stream",
     "text": [
      "<ipython-input-76-1913dadd0da9>:16: TqdmDeprecationWarning: This function will be removed in tqdm==5.0.0\n",
      "Please use `tqdm.notebook.tqdm` instead of `tqdm.tqdm_notebook`\n",
      "  for i in tn(range(4)):\n"
     ]
    },
    {
     "data": {
      "application/vnd.jupyter.widget-view+json": {
       "model_id": "59d88510d1f54dff9f66c9a662509db9",
       "version_major": 2,
       "version_minor": 0
      },
      "text/plain": [
       "HBox(children=(HTML(value=''), FloatProgress(value=0.0, max=4.0), HTML(value='')))"
      ]
     },
     "metadata": {},
     "output_type": "display_data"
    },
    {
     "name": "stderr",
     "output_type": "stream",
     "text": [
      "<ipython-input-51-38678290ec6b>:321: DeprecationWarning: `np.int` is a deprecated alias for the builtin `int`. To silence this warning, use `int` by itself. Doing this will not modify any behavior and is safe. When replacing `np.int`, you may wish to use e.g. `np.int64` or `np.int32` to specify the precision. If you wish to review your current use, check the release note link for additional information.\n",
      "Deprecated in NumPy 1.20; for more details and guidance: https://numpy.org/devdocs/release/1.20.0-notes.html#deprecations\n",
      "  rects = [np.array(wordCharRects, dtype=np.int)[np.newaxis, :, :,:] for wordCharRects in self.annotation[\"wordsCharactersRects\"]]\n",
      "<ipython-input-76-1913dadd0da9>:29: UserWarning: Matplotlib is currently using agg, which is a non-GUI backend, so cannot show the figure.\n",
      "  plt.show()\n"
     ]
    },
    {
     "name": "stdout",
     "output_type": "stream",
     "text": [
      "D:\\Data\\Diploma\\generated//Validate_2//gt/69113052-guilloche-seamless-background-monochrome-guilloche-texture-with-waves-for-certificate-voucher-bankno.jpg0_1CharMap.png\n",
      "D:\\Data\\Diploma\\generated//Validate_2//gt/69113052-guilloche-seamless-background-monochrome-guilloche-texture-with-waves-for-certificate-voucher-bankno.jpg1_1CharMap.png\n",
      "D:\\Data\\Diploma\\generated//Validate_2//gt/69113052-guilloche-seamless-background-monochrome-guilloche-texture-with-waves-for-certificate-voucher-bankno.jpg2_1CharMap.png\n",
      "D:\\Data\\Diploma\\generated//Validate_2//gt/69113052-guilloche-seamless-background-monochrome-guilloche-texture-with-waves-for-certificate-voucher-bankno.jpg3_1CharMap.png\n",
      "\n"
     ]
    },
    {
     "data": {
      "application/vnd.jupyter.widget-view+json": {
       "model_id": "3822ccfa53544b66b0e684c8eb15632a",
       "version_major": 2,
       "version_minor": 0
      },
      "text/plain": [
       "HBox(children=(HTML(value=''), FloatProgress(value=0.0, max=4.0), HTML(value='')))"
      ]
     },
     "metadata": {},
     "output_type": "display_data"
    },
    {
     "name": "stdout",
     "output_type": "stream",
     "text": [
      "D:\\Data\\Diploma\\generated//Validate_2//gt/69113052-guilloche-seamless-background-monochrome-guilloche-texture-with-waves-for-certificate-voucher-bankno.jpg0_2CharMap.png\n",
      "D:\\Data\\Diploma\\generated//Validate_2//gt/69113052-guilloche-seamless-background-monochrome-guilloche-texture-with-waves-for-certificate-voucher-bankno.jpg1_2CharMap.png\n",
      "D:\\Data\\Diploma\\generated//Validate_2//gt/69113052-guilloche-seamless-background-monochrome-guilloche-texture-with-waves-for-certificate-voucher-bankno.jpg2_2CharMap.png\n",
      "D:\\Data\\Diploma\\generated//Validate_2//gt/69113052-guilloche-seamless-background-monochrome-guilloche-texture-with-waves-for-certificate-voucher-bankno.jpg3_2CharMap.png\n",
      "\n"
     ]
    },
    {
     "data": {
      "application/vnd.jupyter.widget-view+json": {
       "model_id": "4f87fa0b91514983bb72a864f9d7781f",
       "version_major": 2,
       "version_minor": 0
      },
      "text/plain": [
       "HBox(children=(HTML(value=''), FloatProgress(value=0.0, max=4.0), HTML(value='')))"
      ]
     },
     "metadata": {},
     "output_type": "display_data"
    },
    {
     "name": "stderr",
     "output_type": "stream",
     "text": [
      "<ipython-input-50-4a25245fc9cb>:37: DeprecationWarning: `np.float` is a deprecated alias for the builtin `float`. To silence this warning, use `float` by itself. Doing this will not modify any behavior and is safe. If you specifically wanted the numpy scalar type, use `np.float64` here.\n",
      "Deprecated in NumPy 1.20; for more details and guidance: https://numpy.org/devdocs/release/1.20.0-notes.html#deprecations\n",
      "  result = np.zeros((height, width, len(start_list)), dtype=np.float)\n"
     ]
    },
    {
     "name": "stdout",
     "output_type": "stream",
     "text": [
      "D:\\Data\\Diploma\\generated//Validate_2//gt/69113052-guilloche-seamless-background-monochrome-guilloche-texture-with-waves-for-certificate-voucher-bankno.jpg0_3CharMap.png\n",
      "D:\\Data\\Diploma\\generated//Validate_2//gt/69113052-guilloche-seamless-background-monochrome-guilloche-texture-with-waves-for-certificate-voucher-bankno.jpg1_3CharMap.png\n",
      "D:\\Data\\Diploma\\generated//Validate_2//gt/69113052-guilloche-seamless-background-monochrome-guilloche-texture-with-waves-for-certificate-voucher-bankno.jpg2_3CharMap.png\n",
      "D:\\Data\\Diploma\\generated//Validate_2//gt/69113052-guilloche-seamless-background-monochrome-guilloche-texture-with-waves-for-certificate-voucher-bankno.jpg3_3CharMap.png\n",
      "\n",
      "\n"
     ]
    },
    {
     "name": "stderr",
     "output_type": "stream",
     "text": [
      "<ipython-input-76-1913dadd0da9>:10: TqdmDeprecationWarning: This function will be removed in tqdm==5.0.0\n",
      "Please use `tqdm.notebook.tqdm` instead of `tqdm.tqdm_notebook`\n",
      "  for j in tn(range(4)):\n"
     ]
    },
    {
     "data": {
      "application/vnd.jupyter.widget-view+json": {
       "model_id": "e5d693c7c3a241a18de19c17c729fad0",
       "version_major": 2,
       "version_minor": 0
      },
      "text/plain": [
       "HBox(children=(HTML(value=''), FloatProgress(value=0.0, max=4.0), HTML(value='')))"
      ]
     },
     "metadata": {},
     "output_type": "display_data"
    },
    {
     "name": "stderr",
     "output_type": "stream",
     "text": [
      "<ipython-input-76-1913dadd0da9>:16: TqdmDeprecationWarning: This function will be removed in tqdm==5.0.0\n",
      "Please use `tqdm.notebook.tqdm` instead of `tqdm.tqdm_notebook`\n",
      "  for i in tn(range(4)):\n"
     ]
    },
    {
     "data": {
      "application/vnd.jupyter.widget-view+json": {
       "model_id": "b21b2e0b891d4417926d6d6795c04335",
       "version_major": 2,
       "version_minor": 0
      },
      "text/plain": [
       "HBox(children=(HTML(value=''), FloatProgress(value=0.0, max=4.0), HTML(value='')))"
      ]
     },
     "metadata": {},
     "output_type": "display_data"
    },
    {
     "name": "stderr",
     "output_type": "stream",
     "text": [
      "<ipython-input-51-38678290ec6b>:150: DeprecationWarning: `np.int` is a deprecated alias for the builtin `int`. To silence this warning, use `int` by itself. Doing this will not modify any behavior and is safe. When replacing `np.int`, you may wish to use e.g. `np.int64` or `np.int32` to specify the precision. If you wish to review your current use, check the release note link for additional information.\n",
      "Deprecated in NumPy 1.20; for more details and guidance: https://numpy.org/devdocs/release/1.20.0-notes.html#deprecations\n",
      "  noise = np.random.normal(0, 32, (H,W, 4)).astype(np.int)\n",
      "<ipython-input-51-38678290ec6b>:151: DeprecationWarning: `np.int` is a deprecated alias for the builtin `int`. To silence this warning, use `int` by itself. Doing this will not modify any behavior and is safe. When replacing `np.int`, you may wish to use e.g. `np.int64` or `np.int32` to specify the precision. If you wish to review your current use, check the release note link for additional information.\n",
      "Deprecated in NumPy 1.20; for more details and guidance: https://numpy.org/devdocs/release/1.20.0-notes.html#deprecations\n",
      "  self.image = self.image.astype(np.int)\n",
      "<ipython-input-51-38678290ec6b>:321: DeprecationWarning: `np.int` is a deprecated alias for the builtin `int`. To silence this warning, use `int` by itself. Doing this will not modify any behavior and is safe. When replacing `np.int`, you may wish to use e.g. `np.int64` or `np.int32` to specify the precision. If you wish to review your current use, check the release note link for additional information.\n",
      "Deprecated in NumPy 1.20; for more details and guidance: https://numpy.org/devdocs/release/1.20.0-notes.html#deprecations\n",
      "  rects = [np.array(wordCharRects, dtype=np.int)[np.newaxis, :, :,:] for wordCharRects in self.annotation[\"wordsCharactersRects\"]]\n",
      "<ipython-input-76-1913dadd0da9>:29: UserWarning: Matplotlib is currently using agg, which is a non-GUI backend, so cannot show the figure.\n",
      "  plt.show()\n"
     ]
    },
    {
     "name": "stdout",
     "output_type": "stream",
     "text": [
      "D:\\Data\\Diploma\\generated//Validate_2//gt/6a00d83451cff869e2014e607aece0970c-500wi.jpg0_0CharMap.png\n",
      "D:\\Data\\Diploma\\generated//Validate_2//gt/6a00d83451cff869e2014e607aece0970c-500wi.jpg1_0CharMap.png\n",
      "D:\\Data\\Diploma\\generated//Validate_2//gt/6a00d83451cff869e2014e607aece0970c-500wi.jpg2_0CharMap.png\n",
      "D:\\Data\\Diploma\\generated//Validate_2//gt/6a00d83451cff869e2014e607aece0970c-500wi.jpg3_0CharMap.png\n",
      "\n"
     ]
    },
    {
     "name": "stderr",
     "output_type": "stream",
     "text": [
      "<ipython-input-76-1913dadd0da9>:16: TqdmDeprecationWarning: This function will be removed in tqdm==5.0.0\n",
      "Please use `tqdm.notebook.tqdm` instead of `tqdm.tqdm_notebook`\n",
      "  for i in tn(range(4)):\n"
     ]
    },
    {
     "data": {
      "application/vnd.jupyter.widget-view+json": {
       "model_id": "f7bfe8c1c93748e4b486aafac65d78df",
       "version_major": 2,
       "version_minor": 0
      },
      "text/plain": [
       "HBox(children=(HTML(value=''), FloatProgress(value=0.0, max=4.0), HTML(value='')))"
      ]
     },
     "metadata": {},
     "output_type": "display_data"
    },
    {
     "name": "stderr",
     "output_type": "stream",
     "text": [
      "<ipython-input-51-38678290ec6b>:321: DeprecationWarning: `np.int` is a deprecated alias for the builtin `int`. To silence this warning, use `int` by itself. Doing this will not modify any behavior and is safe. When replacing `np.int`, you may wish to use e.g. `np.int64` or `np.int32` to specify the precision. If you wish to review your current use, check the release note link for additional information.\n",
      "Deprecated in NumPy 1.20; for more details and guidance: https://numpy.org/devdocs/release/1.20.0-notes.html#deprecations\n",
      "  rects = [np.array(wordCharRects, dtype=np.int)[np.newaxis, :, :,:] for wordCharRects in self.annotation[\"wordsCharactersRects\"]]\n",
      "<ipython-input-76-1913dadd0da9>:29: UserWarning: Matplotlib is currently using agg, which is a non-GUI backend, so cannot show the figure.\n",
      "  plt.show()\n"
     ]
    },
    {
     "name": "stdout",
     "output_type": "stream",
     "text": [
      "D:\\Data\\Diploma\\generated//Validate_2//gt/6a00d83451cff869e2014e607aece0970c-500wi.jpg0_1CharMap.png\n",
      "D:\\Data\\Diploma\\generated//Validate_2//gt/6a00d83451cff869e2014e607aece0970c-500wi.jpg1_1CharMap.png\n",
      "D:\\Data\\Diploma\\generated//Validate_2//gt/6a00d83451cff869e2014e607aece0970c-500wi.jpg2_1CharMap.png\n",
      "D:\\Data\\Diploma\\generated//Validate_2//gt/6a00d83451cff869e2014e607aece0970c-500wi.jpg3_1CharMap.png\n",
      "\n"
     ]
    },
    {
     "name": "stderr",
     "output_type": "stream",
     "text": [
      "<ipython-input-76-1913dadd0da9>:16: TqdmDeprecationWarning: This function will be removed in tqdm==5.0.0\n",
      "Please use `tqdm.notebook.tqdm` instead of `tqdm.tqdm_notebook`\n",
      "  for i in tn(range(4)):\n"
     ]
    },
    {
     "data": {
      "application/vnd.jupyter.widget-view+json": {
       "model_id": "8eec31b92a6842e48bb65e00ed4db8fb",
       "version_major": 2,
       "version_minor": 0
      },
      "text/plain": [
       "HBox(children=(HTML(value=''), FloatProgress(value=0.0, max=4.0), HTML(value='')))"
      ]
     },
     "metadata": {},
     "output_type": "display_data"
    },
    {
     "name": "stderr",
     "output_type": "stream",
     "text": [
      "<ipython-input-51-38678290ec6b>:321: DeprecationWarning: `np.int` is a deprecated alias for the builtin `int`. To silence this warning, use `int` by itself. Doing this will not modify any behavior and is safe. When replacing `np.int`, you may wish to use e.g. `np.int64` or `np.int32` to specify the precision. If you wish to review your current use, check the release note link for additional information.\n",
      "Deprecated in NumPy 1.20; for more details and guidance: https://numpy.org/devdocs/release/1.20.0-notes.html#deprecations\n",
      "  rects = [np.array(wordCharRects, dtype=np.int)[np.newaxis, :, :,:] for wordCharRects in self.annotation[\"wordsCharactersRects\"]]\n",
      "<ipython-input-76-1913dadd0da9>:29: UserWarning: Matplotlib is currently using agg, which is a non-GUI backend, so cannot show the figure.\n",
      "  plt.show()\n"
     ]
    },
    {
     "name": "stdout",
     "output_type": "stream",
     "text": [
      "D:\\Data\\Diploma\\generated//Validate_2//gt/6a00d83451cff869e2014e607aece0970c-500wi.jpg0_2CharMap.png\n"
     ]
    },
    {
     "name": "stderr",
     "output_type": "stream",
     "text": [
      "<ipython-input-51-38678290ec6b>:150: DeprecationWarning: `np.int` is a deprecated alias for the builtin `int`. To silence this warning, use `int` by itself. Doing this will not modify any behavior and is safe. When replacing `np.int`, you may wish to use e.g. `np.int64` or `np.int32` to specify the precision. If you wish to review your current use, check the release note link for additional information.\n",
      "Deprecated in NumPy 1.20; for more details and guidance: https://numpy.org/devdocs/release/1.20.0-notes.html#deprecations\n",
      "  noise = np.random.normal(0, 32, (H,W, 4)).astype(np.int)\n",
      "<ipython-input-51-38678290ec6b>:151: DeprecationWarning: `np.int` is a deprecated alias for the builtin `int`. To silence this warning, use `int` by itself. Doing this will not modify any behavior and is safe. When replacing `np.int`, you may wish to use e.g. `np.int64` or `np.int32` to specify the precision. If you wish to review your current use, check the release note link for additional information.\n",
      "Deprecated in NumPy 1.20; for more details and guidance: https://numpy.org/devdocs/release/1.20.0-notes.html#deprecations\n",
      "  self.image = self.image.astype(np.int)\n"
     ]
    },
    {
     "name": "stdout",
     "output_type": "stream",
     "text": [
      "D:\\Data\\Diploma\\generated//Validate_2//gt/6a00d83451cff869e2014e607aece0970c-500wi.jpg1_2CharMap.png\n",
      "D:\\Data\\Diploma\\generated//Validate_2//gt/6a00d83451cff869e2014e607aece0970c-500wi.jpg2_2CharMap.png\n",
      "D:\\Data\\Diploma\\generated//Validate_2//gt/6a00d83451cff869e2014e607aece0970c-500wi.jpg3_2CharMap.png\n",
      "\n"
     ]
    },
    {
     "data": {
      "application/vnd.jupyter.widget-view+json": {
       "model_id": "f0e14f935495422bb4fd25de4c9a1097",
       "version_major": 2,
       "version_minor": 0
      },
      "text/plain": [
       "HBox(children=(HTML(value=''), FloatProgress(value=0.0, max=4.0), HTML(value='')))"
      ]
     },
     "metadata": {},
     "output_type": "display_data"
    },
    {
     "name": "stdout",
     "output_type": "stream",
     "text": [
      "D:\\Data\\Diploma\\generated//Validate_2//gt/6a00d83451cff869e2014e607aece0970c-500wi.jpg0_3CharMap.png\n",
      "D:\\Data\\Diploma\\generated//Validate_2//gt/6a00d83451cff869e2014e607aece0970c-500wi.jpg1_3CharMap.png\n",
      "D:\\Data\\Diploma\\generated//Validate_2//gt/6a00d83451cff869e2014e607aece0970c-500wi.jpg2_3CharMap.png\n"
     ]
    },
    {
     "name": "stderr",
     "output_type": "stream",
     "text": [
      "<ipython-input-50-4a25245fc9cb>:37: DeprecationWarning: `np.float` is a deprecated alias for the builtin `float`. To silence this warning, use `float` by itself. Doing this will not modify any behavior and is safe. If you specifically wanted the numpy scalar type, use `np.float64` here.\n",
      "Deprecated in NumPy 1.20; for more details and guidance: https://numpy.org/devdocs/release/1.20.0-notes.html#deprecations\n",
      "  result = np.zeros((height, width, len(start_list)), dtype=np.float)\n",
      "<ipython-input-51-38678290ec6b>:163: DeprecationWarning: `np.int` is a deprecated alias for the builtin `int`. To silence this warning, use `int` by itself. Doing this will not modify any behavior and is safe. When replacing `np.int`, you may wish to use e.g. `np.int64` or `np.int32` to specify the precision. If you wish to review your current use, check the release note link for additional information.\n",
      "Deprecated in NumPy 1.20; for more details and guidance: https://numpy.org/devdocs/release/1.20.0-notes.html#deprecations\n",
      "  self.image = self.image.astype(np.int)\n",
      "<ipython-input-51-38678290ec6b>:165: DeprecationWarning: `np.int` is a deprecated alias for the builtin `int`. To silence this warning, use `int` by itself. Doing this will not modify any behavior and is safe. When replacing `np.int`, you may wish to use e.g. `np.int64` or `np.int32` to specify the precision. If you wish to review your current use, check the release note link for additional information.\n",
      "Deprecated in NumPy 1.20; for more details and guidance: https://numpy.org/devdocs/release/1.20.0-notes.html#deprecations\n",
      "  self.image += (noise * self.image).astype(np.int)\n"
     ]
    },
    {
     "name": "stdout",
     "output_type": "stream",
     "text": [
      "D:\\Data\\Diploma\\generated//Validate_2//gt/6a00d83451cff869e2014e607aece0970c-500wi.jpg3_3CharMap.png\n",
      "\n",
      "\n"
     ]
    },
    {
     "name": "stderr",
     "output_type": "stream",
     "text": [
      "<ipython-input-76-1913dadd0da9>:10: TqdmDeprecationWarning: This function will be removed in tqdm==5.0.0\n",
      "Please use `tqdm.notebook.tqdm` instead of `tqdm.tqdm_notebook`\n",
      "  for j in tn(range(4)):\n"
     ]
    },
    {
     "data": {
      "application/vnd.jupyter.widget-view+json": {
       "model_id": "4e97728afc7c4c889bd96eb93f4333c5",
       "version_major": 2,
       "version_minor": 0
      },
      "text/plain": [
       "HBox(children=(HTML(value=''), FloatProgress(value=0.0, max=4.0), HTML(value='')))"
      ]
     },
     "metadata": {},
     "output_type": "display_data"
    },
    {
     "name": "stderr",
     "output_type": "stream",
     "text": [
      "<ipython-input-76-1913dadd0da9>:16: TqdmDeprecationWarning: This function will be removed in tqdm==5.0.0\n",
      "Please use `tqdm.notebook.tqdm` instead of `tqdm.tqdm_notebook`\n",
      "  for i in tn(range(4)):\n"
     ]
    },
    {
     "data": {
      "application/vnd.jupyter.widget-view+json": {
       "model_id": "775d5d8fd48043029f1ee3b7ee3c5bcb",
       "version_major": 2,
       "version_minor": 0
      },
      "text/plain": [
       "HBox(children=(HTML(value=''), FloatProgress(value=0.0, max=4.0), HTML(value='')))"
      ]
     },
     "metadata": {},
     "output_type": "display_data"
    },
    {
     "name": "stderr",
     "output_type": "stream",
     "text": [
      "<ipython-input-51-38678290ec6b>:321: DeprecationWarning: `np.int` is a deprecated alias for the builtin `int`. To silence this warning, use `int` by itself. Doing this will not modify any behavior and is safe. When replacing `np.int`, you may wish to use e.g. `np.int64` or `np.int32` to specify the precision. If you wish to review your current use, check the release note link for additional information.\n",
      "Deprecated in NumPy 1.20; for more details and guidance: https://numpy.org/devdocs/release/1.20.0-notes.html#deprecations\n",
      "  rects = [np.array(wordCharRects, dtype=np.int)[np.newaxis, :, :,:] for wordCharRects in self.annotation[\"wordsCharactersRects\"]]\n",
      "<ipython-input-76-1913dadd0da9>:29: UserWarning: Matplotlib is currently using agg, which is a non-GUI backend, so cannot show the figure.\n",
      "  plt.show()\n"
     ]
    },
    {
     "name": "stdout",
     "output_type": "stream",
     "text": [
      "D:\\Data\\Diploma\\generated//Validate_2//gt/78539638-guilloche-background-texture-green-zig-zag-for-certificate-voucher-banknote-voucher-money-design-cur.jpg0_0CharMap.png\n"
     ]
    },
    {
     "name": "stderr",
     "output_type": "stream",
     "text": [
      "<ipython-input-51-38678290ec6b>:150: DeprecationWarning: `np.int` is a deprecated alias for the builtin `int`. To silence this warning, use `int` by itself. Doing this will not modify any behavior and is safe. When replacing `np.int`, you may wish to use e.g. `np.int64` or `np.int32` to specify the precision. If you wish to review your current use, check the release note link for additional information.\n",
      "Deprecated in NumPy 1.20; for more details and guidance: https://numpy.org/devdocs/release/1.20.0-notes.html#deprecations\n",
      "  noise = np.random.normal(0, 32, (H,W, 4)).astype(np.int)\n",
      "<ipython-input-51-38678290ec6b>:151: DeprecationWarning: `np.int` is a deprecated alias for the builtin `int`. To silence this warning, use `int` by itself. Doing this will not modify any behavior and is safe. When replacing `np.int`, you may wish to use e.g. `np.int64` or `np.int32` to specify the precision. If you wish to review your current use, check the release note link for additional information.\n",
      "Deprecated in NumPy 1.20; for more details and guidance: https://numpy.org/devdocs/release/1.20.0-notes.html#deprecations\n",
      "  self.image = self.image.astype(np.int)\n"
     ]
    },
    {
     "name": "stdout",
     "output_type": "stream",
     "text": [
      "D:\\Data\\Diploma\\generated//Validate_2//gt/78539638-guilloche-background-texture-green-zig-zag-for-certificate-voucher-banknote-voucher-money-design-cur.jpg1_0CharMap.png\n"
     ]
    },
    {
     "name": "stderr",
     "output_type": "stream",
     "text": [
      "<ipython-input-51-38678290ec6b>:163: DeprecationWarning: `np.int` is a deprecated alias for the builtin `int`. To silence this warning, use `int` by itself. Doing this will not modify any behavior and is safe. When replacing `np.int`, you may wish to use e.g. `np.int64` or `np.int32` to specify the precision. If you wish to review your current use, check the release note link for additional information.\n",
      "Deprecated in NumPy 1.20; for more details and guidance: https://numpy.org/devdocs/release/1.20.0-notes.html#deprecations\n",
      "  self.image = self.image.astype(np.int)\n",
      "<ipython-input-51-38678290ec6b>:165: DeprecationWarning: `np.int` is a deprecated alias for the builtin `int`. To silence this warning, use `int` by itself. Doing this will not modify any behavior and is safe. When replacing `np.int`, you may wish to use e.g. `np.int64` or `np.int32` to specify the precision. If you wish to review your current use, check the release note link for additional information.\n",
      "Deprecated in NumPy 1.20; for more details and guidance: https://numpy.org/devdocs/release/1.20.0-notes.html#deprecations\n",
      "  self.image += (noise * self.image).astype(np.int)\n"
     ]
    },
    {
     "name": "stdout",
     "output_type": "stream",
     "text": [
      "D:\\Data\\Diploma\\generated//Validate_2//gt/78539638-guilloche-background-texture-green-zig-zag-for-certificate-voucher-banknote-voucher-money-design-cur.jpg2_0CharMap.png\n",
      "D:\\Data\\Diploma\\generated//Validate_2//gt/78539638-guilloche-background-texture-green-zig-zag-for-certificate-voucher-banknote-voucher-money-design-cur.jpg3_0CharMap.png\n",
      "\n"
     ]
    },
    {
     "data": {
      "application/vnd.jupyter.widget-view+json": {
       "model_id": "8a6bdd0096d241d3b5078a86b8bd9f89",
       "version_major": 2,
       "version_minor": 0
      },
      "text/plain": [
       "HBox(children=(HTML(value=''), FloatProgress(value=0.0, max=4.0), HTML(value='')))"
      ]
     },
     "metadata": {},
     "output_type": "display_data"
    },
    {
     "name": "stdout",
     "output_type": "stream",
     "text": [
      "D:\\Data\\Diploma\\generated//Validate_2//gt/78539638-guilloche-background-texture-green-zig-zag-for-certificate-voucher-banknote-voucher-money-design-cur.jpg0_1CharMap.png\n",
      "D:\\Data\\Diploma\\generated//Validate_2//gt/78539638-guilloche-background-texture-green-zig-zag-for-certificate-voucher-banknote-voucher-money-design-cur.jpg1_1CharMap.png\n",
      "D:\\Data\\Diploma\\generated//Validate_2//gt/78539638-guilloche-background-texture-green-zig-zag-for-certificate-voucher-banknote-voucher-money-design-cur.jpg2_1CharMap.png\n",
      "D:\\Data\\Diploma\\generated//Validate_2//gt/78539638-guilloche-background-texture-green-zig-zag-for-certificate-voucher-banknote-voucher-money-design-cur.jpg3_1CharMap.png\n",
      "\n"
     ]
    },
    {
     "name": "stderr",
     "output_type": "stream",
     "text": [
      "<ipython-input-76-1913dadd0da9>:16: TqdmDeprecationWarning: This function will be removed in tqdm==5.0.0\n",
      "Please use `tqdm.notebook.tqdm` instead of `tqdm.tqdm_notebook`\n",
      "  for i in tn(range(4)):\n"
     ]
    },
    {
     "data": {
      "application/vnd.jupyter.widget-view+json": {
       "model_id": "87414a2a16974f149a00b404422bba4d",
       "version_major": 2,
       "version_minor": 0
      },
      "text/plain": [
       "HBox(children=(HTML(value=''), FloatProgress(value=0.0, max=4.0), HTML(value='')))"
      ]
     },
     "metadata": {},
     "output_type": "display_data"
    },
    {
     "name": "stderr",
     "output_type": "stream",
     "text": [
      "<ipython-input-51-38678290ec6b>:321: DeprecationWarning: `np.int` is a deprecated alias for the builtin `int`. To silence this warning, use `int` by itself. Doing this will not modify any behavior and is safe. When replacing `np.int`, you may wish to use e.g. `np.int64` or `np.int32` to specify the precision. If you wish to review your current use, check the release note link for additional information.\n",
      "Deprecated in NumPy 1.20; for more details and guidance: https://numpy.org/devdocs/release/1.20.0-notes.html#deprecations\n",
      "  rects = [np.array(wordCharRects, dtype=np.int)[np.newaxis, :, :,:] for wordCharRects in self.annotation[\"wordsCharactersRects\"]]\n",
      "<ipython-input-76-1913dadd0da9>:29: UserWarning: Matplotlib is currently using agg, which is a non-GUI backend, so cannot show the figure.\n",
      "  plt.show()\n"
     ]
    },
    {
     "name": "stdout",
     "output_type": "stream",
     "text": [
      "D:\\Data\\Diploma\\generated//Validate_2//gt/78539638-guilloche-background-texture-green-zig-zag-for-certificate-voucher-banknote-voucher-money-design-cur.jpg0_2CharMap.png\n",
      "D:\\Data\\Diploma\\generated//Validate_2//gt/78539638-guilloche-background-texture-green-zig-zag-for-certificate-voucher-banknote-voucher-money-design-cur.jpg1_2CharMap.png\n",
      "D:\\Data\\Diploma\\generated//Validate_2//gt/78539638-guilloche-background-texture-green-zig-zag-for-certificate-voucher-banknote-voucher-money-design-cur.jpg2_2CharMap.png\n",
      "D:\\Data\\Diploma\\generated//Validate_2//gt/78539638-guilloche-background-texture-green-zig-zag-for-certificate-voucher-banknote-voucher-money-design-cur.jpg3_2CharMap.png\n",
      "\n"
     ]
    },
    {
     "name": "stderr",
     "output_type": "stream",
     "text": [
      "<ipython-input-76-1913dadd0da9>:16: TqdmDeprecationWarning: This function will be removed in tqdm==5.0.0\n",
      "Please use `tqdm.notebook.tqdm` instead of `tqdm.tqdm_notebook`\n",
      "  for i in tn(range(4)):\n"
     ]
    },
    {
     "data": {
      "application/vnd.jupyter.widget-view+json": {
       "model_id": "7ece020c300e47ab96265c1989e3d40d",
       "version_major": 2,
       "version_minor": 0
      },
      "text/plain": [
       "HBox(children=(HTML(value=''), FloatProgress(value=0.0, max=4.0), HTML(value='')))"
      ]
     },
     "metadata": {},
     "output_type": "display_data"
    },
    {
     "name": "stderr",
     "output_type": "stream",
     "text": [
      "<ipython-input-51-38678290ec6b>:321: DeprecationWarning: `np.int` is a deprecated alias for the builtin `int`. To silence this warning, use `int` by itself. Doing this will not modify any behavior and is safe. When replacing `np.int`, you may wish to use e.g. `np.int64` or `np.int32` to specify the precision. If you wish to review your current use, check the release note link for additional information.\n",
      "Deprecated in NumPy 1.20; for more details and guidance: https://numpy.org/devdocs/release/1.20.0-notes.html#deprecations\n",
      "  rects = [np.array(wordCharRects, dtype=np.int)[np.newaxis, :, :,:] for wordCharRects in self.annotation[\"wordsCharactersRects\"]]\n",
      "<ipython-input-76-1913dadd0da9>:29: UserWarning: Matplotlib is currently using agg, which is a non-GUI backend, so cannot show the figure.\n",
      "  plt.show()\n"
     ]
    },
    {
     "name": "stdout",
     "output_type": "stream",
     "text": [
      "D:\\Data\\Diploma\\generated//Validate_2//gt/78539638-guilloche-background-texture-green-zig-zag-for-certificate-voucher-banknote-voucher-money-design-cur.jpg0_3CharMap.png\n",
      "D:\\Data\\Diploma\\generated//Validate_2//gt/78539638-guilloche-background-texture-green-zig-zag-for-certificate-voucher-banknote-voucher-money-design-cur.jpg1_3CharMap.png\n",
      "D:\\Data\\Diploma\\generated//Validate_2//gt/78539638-guilloche-background-texture-green-zig-zag-for-certificate-voucher-banknote-voucher-money-design-cur.jpg2_3CharMap.png\n",
      "D:\\Data\\Diploma\\generated//Validate_2//gt/78539638-guilloche-background-texture-green-zig-zag-for-certificate-voucher-banknote-voucher-money-design-cur.jpg3_3CharMap.png\n",
      "\n",
      "\n"
     ]
    },
    {
     "name": "stderr",
     "output_type": "stream",
     "text": [
      "<ipython-input-76-1913dadd0da9>:10: TqdmDeprecationWarning: This function will be removed in tqdm==5.0.0\n",
      "Please use `tqdm.notebook.tqdm` instead of `tqdm.tqdm_notebook`\n",
      "  for j in tn(range(4)):\n"
     ]
    },
    {
     "data": {
      "application/vnd.jupyter.widget-view+json": {
       "model_id": "a741f9ff4d644adf8dd41ad72a14b0d6",
       "version_major": 2,
       "version_minor": 0
      },
      "text/plain": [
       "HBox(children=(HTML(value=''), FloatProgress(value=0.0, max=4.0), HTML(value='')))"
      ]
     },
     "metadata": {},
     "output_type": "display_data"
    },
    {
     "data": {
      "application/vnd.jupyter.widget-view+json": {
       "model_id": "2ae0214619ec4dfb98adf776dc2be37d",
       "version_major": 2,
       "version_minor": 0
      },
      "text/plain": [
       "HBox(children=(HTML(value=''), FloatProgress(value=0.0, max=4.0), HTML(value='')))"
      ]
     },
     "metadata": {},
     "output_type": "display_data"
    },
    {
     "name": "stderr",
     "output_type": "stream",
     "text": [
      "<ipython-input-51-38678290ec6b>:150: DeprecationWarning: `np.int` is a deprecated alias for the builtin `int`. To silence this warning, use `int` by itself. Doing this will not modify any behavior and is safe. When replacing `np.int`, you may wish to use e.g. `np.int64` or `np.int32` to specify the precision. If you wish to review your current use, check the release note link for additional information.\n",
      "Deprecated in NumPy 1.20; for more details and guidance: https://numpy.org/devdocs/release/1.20.0-notes.html#deprecations\n",
      "  noise = np.random.normal(0, 32, (H,W, 4)).astype(np.int)\n",
      "<ipython-input-51-38678290ec6b>:151: DeprecationWarning: `np.int` is a deprecated alias for the builtin `int`. To silence this warning, use `int` by itself. Doing this will not modify any behavior and is safe. When replacing `np.int`, you may wish to use e.g. `np.int64` or `np.int32` to specify the precision. If you wish to review your current use, check the release note link for additional information.\n",
      "Deprecated in NumPy 1.20; for more details and guidance: https://numpy.org/devdocs/release/1.20.0-notes.html#deprecations\n",
      "  self.image = self.image.astype(np.int)\n"
     ]
    },
    {
     "name": "stdout",
     "output_type": "stream",
     "text": [
      "D:\\Data\\Diploma\\generated//Validate_2//gt/91aa482c20a4405253a08158cdb9dcf5.jpg0_0CharMap.png\n",
      "D:\\Data\\Diploma\\generated//Validate_2//gt/91aa482c20a4405253a08158cdb9dcf5.jpg1_0CharMap.png\n",
      "D:\\Data\\Diploma\\generated//Validate_2//gt/91aa482c20a4405253a08158cdb9dcf5.jpg2_0CharMap.png\n"
     ]
    },
    {
     "name": "stderr",
     "output_type": "stream",
     "text": [
      "<ipython-input-51-38678290ec6b>:163: DeprecationWarning: `np.int` is a deprecated alias for the builtin `int`. To silence this warning, use `int` by itself. Doing this will not modify any behavior and is safe. When replacing `np.int`, you may wish to use e.g. `np.int64` or `np.int32` to specify the precision. If you wish to review your current use, check the release note link for additional information.\n",
      "Deprecated in NumPy 1.20; for more details and guidance: https://numpy.org/devdocs/release/1.20.0-notes.html#deprecations\n",
      "  self.image = self.image.astype(np.int)\n",
      "<ipython-input-51-38678290ec6b>:165: DeprecationWarning: `np.int` is a deprecated alias for the builtin `int`. To silence this warning, use `int` by itself. Doing this will not modify any behavior and is safe. When replacing `np.int`, you may wish to use e.g. `np.int64` or `np.int32` to specify the precision. If you wish to review your current use, check the release note link for additional information.\n",
      "Deprecated in NumPy 1.20; for more details and guidance: https://numpy.org/devdocs/release/1.20.0-notes.html#deprecations\n",
      "  self.image += (noise * self.image).astype(np.int)\n"
     ]
    },
    {
     "name": "stdout",
     "output_type": "stream",
     "text": [
      "D:\\Data\\Diploma\\generated//Validate_2//gt/91aa482c20a4405253a08158cdb9dcf5.jpg3_0CharMap.png\n",
      "\n"
     ]
    },
    {
     "name": "stderr",
     "output_type": "stream",
     "text": [
      "<ipython-input-76-1913dadd0da9>:16: TqdmDeprecationWarning: This function will be removed in tqdm==5.0.0\n",
      "Please use `tqdm.notebook.tqdm` instead of `tqdm.tqdm_notebook`\n",
      "  for i in tn(range(4)):\n"
     ]
    },
    {
     "data": {
      "application/vnd.jupyter.widget-view+json": {
       "model_id": "abfd24c6286e4b7ebffda7f758e44565",
       "version_major": 2,
       "version_minor": 0
      },
      "text/plain": [
       "HBox(children=(HTML(value=''), FloatProgress(value=0.0, max=4.0), HTML(value='')))"
      ]
     },
     "metadata": {},
     "output_type": "display_data"
    },
    {
     "name": "stderr",
     "output_type": "stream",
     "text": [
      "<ipython-input-51-38678290ec6b>:321: DeprecationWarning: `np.int` is a deprecated alias for the builtin `int`. To silence this warning, use `int` by itself. Doing this will not modify any behavior and is safe. When replacing `np.int`, you may wish to use e.g. `np.int64` or `np.int32` to specify the precision. If you wish to review your current use, check the release note link for additional information.\n",
      "Deprecated in NumPy 1.20; for more details and guidance: https://numpy.org/devdocs/release/1.20.0-notes.html#deprecations\n",
      "  rects = [np.array(wordCharRects, dtype=np.int)[np.newaxis, :, :,:] for wordCharRects in self.annotation[\"wordsCharactersRects\"]]\n",
      "<ipython-input-76-1913dadd0da9>:29: UserWarning: Matplotlib is currently using agg, which is a non-GUI backend, so cannot show the figure.\n",
      "  plt.show()\n"
     ]
    },
    {
     "name": "stdout",
     "output_type": "stream",
     "text": [
      "D:\\Data\\Diploma\\generated//Validate_2//gt/91aa482c20a4405253a08158cdb9dcf5.jpg0_1CharMap.png\n",
      "D:\\Data\\Diploma\\generated//Validate_2//gt/91aa482c20a4405253a08158cdb9dcf5.jpg1_1CharMap.png\n"
     ]
    },
    {
     "name": "stderr",
     "output_type": "stream",
     "text": [
      "<ipython-input-50-4a25245fc9cb>:37: DeprecationWarning: `np.float` is a deprecated alias for the builtin `float`. To silence this warning, use `float` by itself. Doing this will not modify any behavior and is safe. If you specifically wanted the numpy scalar type, use `np.float64` here.\n",
      "Deprecated in NumPy 1.20; for more details and guidance: https://numpy.org/devdocs/release/1.20.0-notes.html#deprecations\n",
      "  result = np.zeros((height, width, len(start_list)), dtype=np.float)\n"
     ]
    },
    {
     "name": "stdout",
     "output_type": "stream",
     "text": [
      "D:\\Data\\Diploma\\generated//Validate_2//gt/91aa482c20a4405253a08158cdb9dcf5.jpg2_1CharMap.png\n",
      "D:\\Data\\Diploma\\generated//Validate_2//gt/91aa482c20a4405253a08158cdb9dcf5.jpg3_1CharMap.png\n",
      "\n"
     ]
    },
    {
     "data": {
      "application/vnd.jupyter.widget-view+json": {
       "model_id": "da6e4d4f372b487a8b44baa648edc32d",
       "version_major": 2,
       "version_minor": 0
      },
      "text/plain": [
       "HBox(children=(HTML(value=''), FloatProgress(value=0.0, max=4.0), HTML(value='')))"
      ]
     },
     "metadata": {},
     "output_type": "display_data"
    },
    {
     "name": "stdout",
     "output_type": "stream",
     "text": [
      "D:\\Data\\Diploma\\generated//Validate_2//gt/91aa482c20a4405253a08158cdb9dcf5.jpg0_2CharMap.png\n",
      "D:\\Data\\Diploma\\generated//Validate_2//gt/91aa482c20a4405253a08158cdb9dcf5.jpg1_2CharMap.png\n",
      "D:\\Data\\Diploma\\generated//Validate_2//gt/91aa482c20a4405253a08158cdb9dcf5.jpg2_2CharMap.png\n"
     ]
    },
    {
     "name": "stderr",
     "output_type": "stream",
     "text": [
      "<ipython-input-51-38678290ec6b>:163: DeprecationWarning: `np.int` is a deprecated alias for the builtin `int`. To silence this warning, use `int` by itself. Doing this will not modify any behavior and is safe. When replacing `np.int`, you may wish to use e.g. `np.int64` or `np.int32` to specify the precision. If you wish to review your current use, check the release note link for additional information.\n",
      "Deprecated in NumPy 1.20; for more details and guidance: https://numpy.org/devdocs/release/1.20.0-notes.html#deprecations\n",
      "  self.image = self.image.astype(np.int)\n",
      "<ipython-input-51-38678290ec6b>:165: DeprecationWarning: `np.int` is a deprecated alias for the builtin `int`. To silence this warning, use `int` by itself. Doing this will not modify any behavior and is safe. When replacing `np.int`, you may wish to use e.g. `np.int64` or `np.int32` to specify the precision. If you wish to review your current use, check the release note link for additional information.\n",
      "Deprecated in NumPy 1.20; for more details and guidance: https://numpy.org/devdocs/release/1.20.0-notes.html#deprecations\n",
      "  self.image += (noise * self.image).astype(np.int)\n"
     ]
    },
    {
     "name": "stdout",
     "output_type": "stream",
     "text": [
      "D:\\Data\\Diploma\\generated//Validate_2//gt/91aa482c20a4405253a08158cdb9dcf5.jpg3_2CharMap.png\n",
      "\n"
     ]
    },
    {
     "data": {
      "application/vnd.jupyter.widget-view+json": {
       "model_id": "e8da45ca2fb74ed1803a901576aa4381",
       "version_major": 2,
       "version_minor": 0
      },
      "text/plain": [
       "HBox(children=(HTML(value=''), FloatProgress(value=0.0, max=4.0), HTML(value='')))"
      ]
     },
     "metadata": {},
     "output_type": "display_data"
    },
    {
     "name": "stdout",
     "output_type": "stream",
     "text": [
      "D:\\Data\\Diploma\\generated//Validate_2//gt/91aa482c20a4405253a08158cdb9dcf5.jpg0_3CharMap.png\n",
      "D:\\Data\\Diploma\\generated//Validate_2//gt/91aa482c20a4405253a08158cdb9dcf5.jpg1_3CharMap.png\n"
     ]
    },
    {
     "name": "stderr",
     "output_type": "stream",
     "text": [
      "<ipython-input-51-38678290ec6b>:150: DeprecationWarning: `np.int` is a deprecated alias for the builtin `int`. To silence this warning, use `int` by itself. Doing this will not modify any behavior and is safe. When replacing `np.int`, you may wish to use e.g. `np.int64` or `np.int32` to specify the precision. If you wish to review your current use, check the release note link for additional information.\n",
      "Deprecated in NumPy 1.20; for more details and guidance: https://numpy.org/devdocs/release/1.20.0-notes.html#deprecations\n",
      "  noise = np.random.normal(0, 32, (H,W, 4)).astype(np.int)\n",
      "<ipython-input-51-38678290ec6b>:151: DeprecationWarning: `np.int` is a deprecated alias for the builtin `int`. To silence this warning, use `int` by itself. Doing this will not modify any behavior and is safe. When replacing `np.int`, you may wish to use e.g. `np.int64` or `np.int32` to specify the precision. If you wish to review your current use, check the release note link for additional information.\n",
      "Deprecated in NumPy 1.20; for more details and guidance: https://numpy.org/devdocs/release/1.20.0-notes.html#deprecations\n",
      "  self.image = self.image.astype(np.int)\n"
     ]
    },
    {
     "name": "stdout",
     "output_type": "stream",
     "text": [
      "D:\\Data\\Diploma\\generated//Validate_2//gt/91aa482c20a4405253a08158cdb9dcf5.jpg2_3CharMap.png\n",
      "D:\\Data\\Diploma\\generated//Validate_2//gt/91aa482c20a4405253a08158cdb9dcf5.jpg3_3CharMap.png\n",
      "\n",
      "\n"
     ]
    },
    {
     "name": "stderr",
     "output_type": "stream",
     "text": [
      "<ipython-input-76-1913dadd0da9>:10: TqdmDeprecationWarning: This function will be removed in tqdm==5.0.0\n",
      "Please use `tqdm.notebook.tqdm` instead of `tqdm.tqdm_notebook`\n",
      "  for j in tn(range(4)):\n"
     ]
    },
    {
     "data": {
      "application/vnd.jupyter.widget-view+json": {
       "model_id": "a3dabcf5fc194f1bbad72f767ab7b735",
       "version_major": 2,
       "version_minor": 0
      },
      "text/plain": [
       "HBox(children=(HTML(value=''), FloatProgress(value=0.0, max=4.0), HTML(value='')))"
      ]
     },
     "metadata": {},
     "output_type": "display_data"
    },
    {
     "name": "stderr",
     "output_type": "stream",
     "text": [
      "<ipython-input-76-1913dadd0da9>:16: TqdmDeprecationWarning: This function will be removed in tqdm==5.0.0\n",
      "Please use `tqdm.notebook.tqdm` instead of `tqdm.tqdm_notebook`\n",
      "  for i in tn(range(4)):\n"
     ]
    },
    {
     "data": {
      "application/vnd.jupyter.widget-view+json": {
       "model_id": "c62b994628ae440c98aff45538b8867d",
       "version_major": 2,
       "version_minor": 0
      },
      "text/plain": [
       "HBox(children=(HTML(value=''), FloatProgress(value=0.0, max=4.0), HTML(value='')))"
      ]
     },
     "metadata": {},
     "output_type": "display_data"
    },
    {
     "name": "stderr",
     "output_type": "stream",
     "text": [
      "<ipython-input-51-38678290ec6b>:321: DeprecationWarning: `np.int` is a deprecated alias for the builtin `int`. To silence this warning, use `int` by itself. Doing this will not modify any behavior and is safe. When replacing `np.int`, you may wish to use e.g. `np.int64` or `np.int32` to specify the precision. If you wish to review your current use, check the release note link for additional information.\n",
      "Deprecated in NumPy 1.20; for more details and guidance: https://numpy.org/devdocs/release/1.20.0-notes.html#deprecations\n",
      "  rects = [np.array(wordCharRects, dtype=np.int)[np.newaxis, :, :,:] for wordCharRects in self.annotation[\"wordsCharactersRects\"]]\n",
      "<ipython-input-76-1913dadd0da9>:29: UserWarning: Matplotlib is currently using agg, which is a non-GUI backend, so cannot show the figure.\n",
      "  plt.show()\n"
     ]
    },
    {
     "name": "stdout",
     "output_type": "stream",
     "text": [
      "D:\\Data\\Diploma\\generated//Validate_2//gt/abstract_background_313071.jpg0_0CharMap.png\n",
      "D:\\Data\\Diploma\\generated//Validate_2//gt/abstract_background_313071.jpg1_0CharMap.png\n",
      "D:\\Data\\Diploma\\generated//Validate_2//gt/abstract_background_313071.jpg2_0CharMap.png\n",
      "D:\\Data\\Diploma\\generated//Validate_2//gt/abstract_background_313071.jpg3_0CharMap.png\n",
      "\n"
     ]
    },
    {
     "data": {
      "application/vnd.jupyter.widget-view+json": {
       "model_id": "e65d2cde3cec456a9ff3462fd43f8eb0",
       "version_major": 2,
       "version_minor": 0
      },
      "text/plain": [
       "HBox(children=(HTML(value=''), FloatProgress(value=0.0, max=4.0), HTML(value='')))"
      ]
     },
     "metadata": {},
     "output_type": "display_data"
    },
    {
     "name": "stdout",
     "output_type": "stream",
     "text": [
      "D:\\Data\\Diploma\\generated//Validate_2//gt/abstract_background_313071.jpg0_1CharMap.png\n",
      "D:\\Data\\Diploma\\generated//Validate_2//gt/abstract_background_313071.jpg1_1CharMap.png\n"
     ]
    },
    {
     "name": "stderr",
     "output_type": "stream",
     "text": [
      "<ipython-input-51-38678290ec6b>:150: DeprecationWarning: `np.int` is a deprecated alias for the builtin `int`. To silence this warning, use `int` by itself. Doing this will not modify any behavior and is safe. When replacing `np.int`, you may wish to use e.g. `np.int64` or `np.int32` to specify the precision. If you wish to review your current use, check the release note link for additional information.\n",
      "Deprecated in NumPy 1.20; for more details and guidance: https://numpy.org/devdocs/release/1.20.0-notes.html#deprecations\n",
      "  noise = np.random.normal(0, 32, (H,W, 4)).astype(np.int)\n",
      "<ipython-input-51-38678290ec6b>:151: DeprecationWarning: `np.int` is a deprecated alias for the builtin `int`. To silence this warning, use `int` by itself. Doing this will not modify any behavior and is safe. When replacing `np.int`, you may wish to use e.g. `np.int64` or `np.int32` to specify the precision. If you wish to review your current use, check the release note link for additional information.\n",
      "Deprecated in NumPy 1.20; for more details and guidance: https://numpy.org/devdocs/release/1.20.0-notes.html#deprecations\n",
      "  self.image = self.image.astype(np.int)\n"
     ]
    },
    {
     "name": "stdout",
     "output_type": "stream",
     "text": [
      "D:\\Data\\Diploma\\generated//Validate_2//gt/abstract_background_313071.jpg2_1CharMap.png\n",
      "D:\\Data\\Diploma\\generated//Validate_2//gt/abstract_background_313071.jpg3_1CharMap.png\n",
      "\n"
     ]
    },
    {
     "name": "stderr",
     "output_type": "stream",
     "text": [
      "<ipython-input-76-1913dadd0da9>:16: TqdmDeprecationWarning: This function will be removed in tqdm==5.0.0\n",
      "Please use `tqdm.notebook.tqdm` instead of `tqdm.tqdm_notebook`\n",
      "  for i in tn(range(4)):\n"
     ]
    },
    {
     "data": {
      "application/vnd.jupyter.widget-view+json": {
       "model_id": "781a8d78bb9141dc82a7b509f78ea654",
       "version_major": 2,
       "version_minor": 0
      },
      "text/plain": [
       "HBox(children=(HTML(value=''), FloatProgress(value=0.0, max=4.0), HTML(value='')))"
      ]
     },
     "metadata": {},
     "output_type": "display_data"
    },
    {
     "name": "stderr",
     "output_type": "stream",
     "text": [
      "<ipython-input-51-38678290ec6b>:321: DeprecationWarning: `np.int` is a deprecated alias for the builtin `int`. To silence this warning, use `int` by itself. Doing this will not modify any behavior and is safe. When replacing `np.int`, you may wish to use e.g. `np.int64` or `np.int32` to specify the precision. If you wish to review your current use, check the release note link for additional information.\n",
      "Deprecated in NumPy 1.20; for more details and guidance: https://numpy.org/devdocs/release/1.20.0-notes.html#deprecations\n",
      "  rects = [np.array(wordCharRects, dtype=np.int)[np.newaxis, :, :,:] for wordCharRects in self.annotation[\"wordsCharactersRects\"]]\n",
      "<ipython-input-76-1913dadd0da9>:29: UserWarning: Matplotlib is currently using agg, which is a non-GUI backend, so cannot show the figure.\n",
      "  plt.show()\n"
     ]
    },
    {
     "name": "stdout",
     "output_type": "stream",
     "text": [
      "D:\\Data\\Diploma\\generated//Validate_2//gt/abstract_background_313071.jpg0_2CharMap.png\n",
      "D:\\Data\\Diploma\\generated//Validate_2//gt/abstract_background_313071.jpg1_2CharMap.png\n",
      "D:\\Data\\Diploma\\generated//Validate_2//gt/abstract_background_313071.jpg2_2CharMap.png\n",
      "D:\\Data\\Diploma\\generated//Validate_2//gt/abstract_background_313071.jpg3_2CharMap.png\n",
      "\n"
     ]
    },
    {
     "data": {
      "application/vnd.jupyter.widget-view+json": {
       "model_id": "88ed78369055486eaf7599a925fd321f",
       "version_major": 2,
       "version_minor": 0
      },
      "text/plain": [
       "HBox(children=(HTML(value=''), FloatProgress(value=0.0, max=4.0), HTML(value='')))"
      ]
     },
     "metadata": {},
     "output_type": "display_data"
    },
    {
     "name": "stdout",
     "output_type": "stream",
     "text": [
      "D:\\Data\\Diploma\\generated//Validate_2//gt/abstract_background_313071.jpg0_3CharMap.png\n"
     ]
    },
    {
     "name": "stderr",
     "output_type": "stream",
     "text": [
      "<ipython-input-51-38678290ec6b>:163: DeprecationWarning: `np.int` is a deprecated alias for the builtin `int`. To silence this warning, use `int` by itself. Doing this will not modify any behavior and is safe. When replacing `np.int`, you may wish to use e.g. `np.int64` or `np.int32` to specify the precision. If you wish to review your current use, check the release note link for additional information.\n",
      "Deprecated in NumPy 1.20; for more details and guidance: https://numpy.org/devdocs/release/1.20.0-notes.html#deprecations\n",
      "  self.image = self.image.astype(np.int)\n",
      "<ipython-input-51-38678290ec6b>:165: DeprecationWarning: `np.int` is a deprecated alias for the builtin `int`. To silence this warning, use `int` by itself. Doing this will not modify any behavior and is safe. When replacing `np.int`, you may wish to use e.g. `np.int64` or `np.int32` to specify the precision. If you wish to review your current use, check the release note link for additional information.\n",
      "Deprecated in NumPy 1.20; for more details and guidance: https://numpy.org/devdocs/release/1.20.0-notes.html#deprecations\n",
      "  self.image += (noise * self.image).astype(np.int)\n"
     ]
    },
    {
     "name": "stdout",
     "output_type": "stream",
     "text": [
      "D:\\Data\\Diploma\\generated//Validate_2//gt/abstract_background_313071.jpg1_3CharMap.png\n",
      "D:\\Data\\Diploma\\generated//Validate_2//gt/abstract_background_313071.jpg2_3CharMap.png\n",
      "D:\\Data\\Diploma\\generated//Validate_2//gt/abstract_background_313071.jpg3_3CharMap.png\n",
      "\n",
      "\n"
     ]
    },
    {
     "name": "stderr",
     "output_type": "stream",
     "text": [
      "<ipython-input-76-1913dadd0da9>:10: TqdmDeprecationWarning: This function will be removed in tqdm==5.0.0\n",
      "Please use `tqdm.notebook.tqdm` instead of `tqdm.tqdm_notebook`\n",
      "  for j in tn(range(4)):\n"
     ]
    },
    {
     "data": {
      "application/vnd.jupyter.widget-view+json": {
       "model_id": "38b1ff808a2846d98bed8b5b4c5d4086",
       "version_major": 2,
       "version_minor": 0
      },
      "text/plain": [
       "HBox(children=(HTML(value=''), FloatProgress(value=0.0, max=4.0), HTML(value='')))"
      ]
     },
     "metadata": {},
     "output_type": "display_data"
    },
    {
     "name": "stderr",
     "output_type": "stream",
     "text": [
      "<ipython-input-76-1913dadd0da9>:16: TqdmDeprecationWarning: This function will be removed in tqdm==5.0.0\n",
      "Please use `tqdm.notebook.tqdm` instead of `tqdm.tqdm_notebook`\n",
      "  for i in tn(range(4)):\n"
     ]
    },
    {
     "data": {
      "application/vnd.jupyter.widget-view+json": {
       "model_id": "be7a458e73324a4daae9f7e5103a9e25",
       "version_major": 2,
       "version_minor": 0
      },
      "text/plain": [
       "HBox(children=(HTML(value=''), FloatProgress(value=0.0, max=4.0), HTML(value='')))"
      ]
     },
     "metadata": {},
     "output_type": "display_data"
    },
    {
     "name": "stderr",
     "output_type": "stream",
     "text": [
      "<ipython-input-51-38678290ec6b>:321: DeprecationWarning: `np.int` is a deprecated alias for the builtin `int`. To silence this warning, use `int` by itself. Doing this will not modify any behavior and is safe. When replacing `np.int`, you may wish to use e.g. `np.int64` or `np.int32` to specify the precision. If you wish to review your current use, check the release note link for additional information.\n",
      "Deprecated in NumPy 1.20; for more details and guidance: https://numpy.org/devdocs/release/1.20.0-notes.html#deprecations\n",
      "  rects = [np.array(wordCharRects, dtype=np.int)[np.newaxis, :, :,:] for wordCharRects in self.annotation[\"wordsCharactersRects\"]]\n",
      "<ipython-input-76-1913dadd0da9>:29: UserWarning: Matplotlib is currently using agg, which is a non-GUI backend, so cannot show the figure.\n",
      "  plt.show()\n"
     ]
    },
    {
     "name": "stdout",
     "output_type": "stream",
     "text": [
      "D:\\Data\\Diploma\\generated//Validate_2//gt/ad42f8c1cb666d8fe436ca37742891cb--background-paper-background-designs.jpg0_0CharMap.png\n",
      "D:\\Data\\Diploma\\generated//Validate_2//gt/ad42f8c1cb666d8fe436ca37742891cb--background-paper-background-designs.jpg1_0CharMap.png\n",
      "D:\\Data\\Diploma\\generated//Validate_2//gt/ad42f8c1cb666d8fe436ca37742891cb--background-paper-background-designs.jpg2_0CharMap.png\n"
     ]
    },
    {
     "name": "stderr",
     "output_type": "stream",
     "text": [
      "<ipython-input-50-4a25245fc9cb>:37: DeprecationWarning: `np.float` is a deprecated alias for the builtin `float`. To silence this warning, use `float` by itself. Doing this will not modify any behavior and is safe. If you specifically wanted the numpy scalar type, use `np.float64` here.\n",
      "Deprecated in NumPy 1.20; for more details and guidance: https://numpy.org/devdocs/release/1.20.0-notes.html#deprecations\n",
      "  result = np.zeros((height, width, len(start_list)), dtype=np.float)\n"
     ]
    },
    {
     "name": "stdout",
     "output_type": "stream",
     "text": [
      "D:\\Data\\Diploma\\generated//Validate_2//gt/ad42f8c1cb666d8fe436ca37742891cb--background-paper-background-designs.jpg3_0CharMap.png\n",
      "\n"
     ]
    },
    {
     "name": "stderr",
     "output_type": "stream",
     "text": [
      "<ipython-input-76-1913dadd0da9>:16: TqdmDeprecationWarning: This function will be removed in tqdm==5.0.0\n",
      "Please use `tqdm.notebook.tqdm` instead of `tqdm.tqdm_notebook`\n",
      "  for i in tn(range(4)):\n"
     ]
    },
    {
     "data": {
      "application/vnd.jupyter.widget-view+json": {
       "model_id": "09728abd48dc4270b33ad3f157409431",
       "version_major": 2,
       "version_minor": 0
      },
      "text/plain": [
       "HBox(children=(HTML(value=''), FloatProgress(value=0.0, max=4.0), HTML(value='')))"
      ]
     },
     "metadata": {},
     "output_type": "display_data"
    },
    {
     "name": "stderr",
     "output_type": "stream",
     "text": [
      "<ipython-input-51-38678290ec6b>:150: DeprecationWarning: `np.int` is a deprecated alias for the builtin `int`. To silence this warning, use `int` by itself. Doing this will not modify any behavior and is safe. When replacing `np.int`, you may wish to use e.g. `np.int64` or `np.int32` to specify the precision. If you wish to review your current use, check the release note link for additional information.\n",
      "Deprecated in NumPy 1.20; for more details and guidance: https://numpy.org/devdocs/release/1.20.0-notes.html#deprecations\n",
      "  noise = np.random.normal(0, 32, (H,W, 4)).astype(np.int)\n",
      "<ipython-input-51-38678290ec6b>:151: DeprecationWarning: `np.int` is a deprecated alias for the builtin `int`. To silence this warning, use `int` by itself. Doing this will not modify any behavior and is safe. When replacing `np.int`, you may wish to use e.g. `np.int64` or `np.int32` to specify the precision. If you wish to review your current use, check the release note link for additional information.\n",
      "Deprecated in NumPy 1.20; for more details and guidance: https://numpy.org/devdocs/release/1.20.0-notes.html#deprecations\n",
      "  self.image = self.image.astype(np.int)\n",
      "<ipython-input-51-38678290ec6b>:321: DeprecationWarning: `np.int` is a deprecated alias for the builtin `int`. To silence this warning, use `int` by itself. Doing this will not modify any behavior and is safe. When replacing `np.int`, you may wish to use e.g. `np.int64` or `np.int32` to specify the precision. If you wish to review your current use, check the release note link for additional information.\n",
      "Deprecated in NumPy 1.20; for more details and guidance: https://numpy.org/devdocs/release/1.20.0-notes.html#deprecations\n",
      "  rects = [np.array(wordCharRects, dtype=np.int)[np.newaxis, :, :,:] for wordCharRects in self.annotation[\"wordsCharactersRects\"]]\n",
      "<ipython-input-76-1913dadd0da9>:29: UserWarning: Matplotlib is currently using agg, which is a non-GUI backend, so cannot show the figure.\n",
      "  plt.show()\n"
     ]
    },
    {
     "name": "stdout",
     "output_type": "stream",
     "text": [
      "D:\\Data\\Diploma\\generated//Validate_2//gt/ad42f8c1cb666d8fe436ca37742891cb--background-paper-background-designs.jpg0_1CharMap.png\n",
      "D:\\Data\\Diploma\\generated//Validate_2//gt/ad42f8c1cb666d8fe436ca37742891cb--background-paper-background-designs.jpg1_1CharMap.png\n",
      "D:\\Data\\Diploma\\generated//Validate_2//gt/ad42f8c1cb666d8fe436ca37742891cb--background-paper-background-designs.jpg2_1CharMap.png\n"
     ]
    },
    {
     "name": "stderr",
     "output_type": "stream",
     "text": [
      "<ipython-input-50-4a25245fc9cb>:37: DeprecationWarning: `np.float` is a deprecated alias for the builtin `float`. To silence this warning, use `float` by itself. Doing this will not modify any behavior and is safe. If you specifically wanted the numpy scalar type, use `np.float64` here.\n",
      "Deprecated in NumPy 1.20; for more details and guidance: https://numpy.org/devdocs/release/1.20.0-notes.html#deprecations\n",
      "  result = np.zeros((height, width, len(start_list)), dtype=np.float)\n"
     ]
    },
    {
     "name": "stdout",
     "output_type": "stream",
     "text": [
      "D:\\Data\\Diploma\\generated//Validate_2//gt/ad42f8c1cb666d8fe436ca37742891cb--background-paper-background-designs.jpg3_1CharMap.png\n",
      "\n"
     ]
    },
    {
     "name": "stderr",
     "output_type": "stream",
     "text": [
      "<ipython-input-76-1913dadd0da9>:16: TqdmDeprecationWarning: This function will be removed in tqdm==5.0.0\n",
      "Please use `tqdm.notebook.tqdm` instead of `tqdm.tqdm_notebook`\n",
      "  for i in tn(range(4)):\n"
     ]
    },
    {
     "data": {
      "application/vnd.jupyter.widget-view+json": {
       "model_id": "3d20158b67744ad38271db86decb247f",
       "version_major": 2,
       "version_minor": 0
      },
      "text/plain": [
       "HBox(children=(HTML(value=''), FloatProgress(value=0.0, max=4.0), HTML(value='')))"
      ]
     },
     "metadata": {},
     "output_type": "display_data"
    },
    {
     "name": "stderr",
     "output_type": "stream",
     "text": [
      "<ipython-input-50-4a25245fc9cb>:37: DeprecationWarning: `np.float` is a deprecated alias for the builtin `float`. To silence this warning, use `float` by itself. Doing this will not modify any behavior and is safe. If you specifically wanted the numpy scalar type, use `np.float64` here.\n",
      "Deprecated in NumPy 1.20; for more details and guidance: https://numpy.org/devdocs/release/1.20.0-notes.html#deprecations\n",
      "  result = np.zeros((height, width, len(start_list)), dtype=np.float)\n",
      "<ipython-input-51-38678290ec6b>:321: DeprecationWarning: `np.int` is a deprecated alias for the builtin `int`. To silence this warning, use `int` by itself. Doing this will not modify any behavior and is safe. When replacing `np.int`, you may wish to use e.g. `np.int64` or `np.int32` to specify the precision. If you wish to review your current use, check the release note link for additional information.\n",
      "Deprecated in NumPy 1.20; for more details and guidance: https://numpy.org/devdocs/release/1.20.0-notes.html#deprecations\n",
      "  rects = [np.array(wordCharRects, dtype=np.int)[np.newaxis, :, :,:] for wordCharRects in self.annotation[\"wordsCharactersRects\"]]\n",
      "<ipython-input-76-1913dadd0da9>:29: UserWarning: Matplotlib is currently using agg, which is a non-GUI backend, so cannot show the figure.\n",
      "  plt.show()\n"
     ]
    },
    {
     "name": "stdout",
     "output_type": "stream",
     "text": [
      "D:\\Data\\Diploma\\generated//Validate_2//gt/ad42f8c1cb666d8fe436ca37742891cb--background-paper-background-designs.jpg0_2CharMap.png\n"
     ]
    },
    {
     "name": "stderr",
     "output_type": "stream",
     "text": [
      "<ipython-input-51-38678290ec6b>:163: DeprecationWarning: `np.int` is a deprecated alias for the builtin `int`. To silence this warning, use `int` by itself. Doing this will not modify any behavior and is safe. When replacing `np.int`, you may wish to use e.g. `np.int64` or `np.int32` to specify the precision. If you wish to review your current use, check the release note link for additional information.\n",
      "Deprecated in NumPy 1.20; for more details and guidance: https://numpy.org/devdocs/release/1.20.0-notes.html#deprecations\n",
      "  self.image = self.image.astype(np.int)\n",
      "<ipython-input-51-38678290ec6b>:165: DeprecationWarning: `np.int` is a deprecated alias for the builtin `int`. To silence this warning, use `int` by itself. Doing this will not modify any behavior and is safe. When replacing `np.int`, you may wish to use e.g. `np.int64` or `np.int32` to specify the precision. If you wish to review your current use, check the release note link for additional information.\n",
      "Deprecated in NumPy 1.20; for more details and guidance: https://numpy.org/devdocs/release/1.20.0-notes.html#deprecations\n",
      "  self.image += (noise * self.image).astype(np.int)\n"
     ]
    },
    {
     "name": "stdout",
     "output_type": "stream",
     "text": [
      "D:\\Data\\Diploma\\generated//Validate_2//gt/ad42f8c1cb666d8fe436ca37742891cb--background-paper-background-designs.jpg1_2CharMap.png\n",
      "D:\\Data\\Diploma\\generated//Validate_2//gt/ad42f8c1cb666d8fe436ca37742891cb--background-paper-background-designs.jpg2_2CharMap.png\n",
      "D:\\Data\\Diploma\\generated//Validate_2//gt/ad42f8c1cb666d8fe436ca37742891cb--background-paper-background-designs.jpg3_2CharMap.png\n",
      "\n"
     ]
    },
    {
     "data": {
      "application/vnd.jupyter.widget-view+json": {
       "model_id": "c88f5622382d47e58d7d103eb305d924",
       "version_major": 2,
       "version_minor": 0
      },
      "text/plain": [
       "HBox(children=(HTML(value=''), FloatProgress(value=0.0, max=4.0), HTML(value='')))"
      ]
     },
     "metadata": {},
     "output_type": "display_data"
    },
    {
     "name": "stdout",
     "output_type": "stream",
     "text": [
      "D:\\Data\\Diploma\\generated//Validate_2//gt/ad42f8c1cb666d8fe436ca37742891cb--background-paper-background-designs.jpg0_3CharMap.png\n",
      "D:\\Data\\Diploma\\generated//Validate_2//gt/ad42f8c1cb666d8fe436ca37742891cb--background-paper-background-designs.jpg1_3CharMap.png\n",
      "D:\\Data\\Diploma\\generated//Validate_2//gt/ad42f8c1cb666d8fe436ca37742891cb--background-paper-background-designs.jpg2_3CharMap.png\n"
     ]
    },
    {
     "name": "stderr",
     "output_type": "stream",
     "text": [
      "<ipython-input-51-38678290ec6b>:150: DeprecationWarning: `np.int` is a deprecated alias for the builtin `int`. To silence this warning, use `int` by itself. Doing this will not modify any behavior and is safe. When replacing `np.int`, you may wish to use e.g. `np.int64` or `np.int32` to specify the precision. If you wish to review your current use, check the release note link for additional information.\n",
      "Deprecated in NumPy 1.20; for more details and guidance: https://numpy.org/devdocs/release/1.20.0-notes.html#deprecations\n",
      "  noise = np.random.normal(0, 32, (H,W, 4)).astype(np.int)\n",
      "<ipython-input-51-38678290ec6b>:151: DeprecationWarning: `np.int` is a deprecated alias for the builtin `int`. To silence this warning, use `int` by itself. Doing this will not modify any behavior and is safe. When replacing `np.int`, you may wish to use e.g. `np.int64` or `np.int32` to specify the precision. If you wish to review your current use, check the release note link for additional information.\n",
      "Deprecated in NumPy 1.20; for more details and guidance: https://numpy.org/devdocs/release/1.20.0-notes.html#deprecations\n",
      "  self.image = self.image.astype(np.int)\n"
     ]
    },
    {
     "name": "stdout",
     "output_type": "stream",
     "text": [
      "D:\\Data\\Diploma\\generated//Validate_2//gt/ad42f8c1cb666d8fe436ca37742891cb--background-paper-background-designs.jpg3_3CharMap.png\n",
      "\n",
      "\n"
     ]
    },
    {
     "name": "stderr",
     "output_type": "stream",
     "text": [
      "<ipython-input-76-1913dadd0da9>:10: TqdmDeprecationWarning: This function will be removed in tqdm==5.0.0\n",
      "Please use `tqdm.notebook.tqdm` instead of `tqdm.tqdm_notebook`\n",
      "  for j in tn(range(4)):\n"
     ]
    },
    {
     "data": {
      "application/vnd.jupyter.widget-view+json": {
       "model_id": "7027ded82b3446e780cc44955af9f165",
       "version_major": 2,
       "version_minor": 0
      },
      "text/plain": [
       "HBox(children=(HTML(value=''), FloatProgress(value=0.0, max=4.0), HTML(value='')))"
      ]
     },
     "metadata": {},
     "output_type": "display_data"
    },
    {
     "data": {
      "application/vnd.jupyter.widget-view+json": {
       "model_id": "99eb72ad602d421087d81aac10e2706a",
       "version_major": 2,
       "version_minor": 0
      },
      "text/plain": [
       "HBox(children=(HTML(value=''), FloatProgress(value=0.0, max=4.0), HTML(value='')))"
      ]
     },
     "metadata": {},
     "output_type": "display_data"
    },
    {
     "name": "stdout",
     "output_type": "stream",
     "text": [
      "D:\\Data\\Diploma\\generated//Validate_2//gt/crumpled-brown-recycled-paper-texture-background-copy-space_92397-1818.jpg0_0CharMap.png\n",
      "D:\\Data\\Diploma\\generated//Validate_2//gt/crumpled-brown-recycled-paper-texture-background-copy-space_92397-1818.jpg1_0CharMap.png\n",
      "D:\\Data\\Diploma\\generated//Validate_2//gt/crumpled-brown-recycled-paper-texture-background-copy-space_92397-1818.jpg2_0CharMap.png\n",
      "D:\\Data\\Diploma\\generated//Validate_2//gt/crumpled-brown-recycled-paper-texture-background-copy-space_92397-1818.jpg3_0CharMap.png\n",
      "\n"
     ]
    },
    {
     "name": "stderr",
     "output_type": "stream",
     "text": [
      "<ipython-input-76-1913dadd0da9>:16: TqdmDeprecationWarning: This function will be removed in tqdm==5.0.0\n",
      "Please use `tqdm.notebook.tqdm` instead of `tqdm.tqdm_notebook`\n",
      "  for i in tn(range(4)):\n"
     ]
    },
    {
     "data": {
      "application/vnd.jupyter.widget-view+json": {
       "model_id": "4144f09f7ff44ca49526cb2e26713890",
       "version_major": 2,
       "version_minor": 0
      },
      "text/plain": [
       "HBox(children=(HTML(value=''), FloatProgress(value=0.0, max=4.0), HTML(value='')))"
      ]
     },
     "metadata": {},
     "output_type": "display_data"
    },
    {
     "name": "stderr",
     "output_type": "stream",
     "text": [
      "<ipython-input-51-38678290ec6b>:321: DeprecationWarning: `np.int` is a deprecated alias for the builtin `int`. To silence this warning, use `int` by itself. Doing this will not modify any behavior and is safe. When replacing `np.int`, you may wish to use e.g. `np.int64` or `np.int32` to specify the precision. If you wish to review your current use, check the release note link for additional information.\n",
      "Deprecated in NumPy 1.20; for more details and guidance: https://numpy.org/devdocs/release/1.20.0-notes.html#deprecations\n",
      "  rects = [np.array(wordCharRects, dtype=np.int)[np.newaxis, :, :,:] for wordCharRects in self.annotation[\"wordsCharactersRects\"]]\n",
      "<ipython-input-76-1913dadd0da9>:29: UserWarning: Matplotlib is currently using agg, which is a non-GUI backend, so cannot show the figure.\n",
      "  plt.show()\n"
     ]
    },
    {
     "name": "stdout",
     "output_type": "stream",
     "text": [
      "D:\\Data\\Diploma\\generated//Validate_2//gt/crumpled-brown-recycled-paper-texture-background-copy-space_92397-1818.jpg0_1CharMap.png\n",
      "D:\\Data\\Diploma\\generated//Validate_2//gt/crumpled-brown-recycled-paper-texture-background-copy-space_92397-1818.jpg1_1CharMap.png\n",
      "D:\\Data\\Diploma\\generated//Validate_2//gt/crumpled-brown-recycled-paper-texture-background-copy-space_92397-1818.jpg2_1CharMap.png\n",
      "D:\\Data\\Diploma\\generated//Validate_2//gt/crumpled-brown-recycled-paper-texture-background-copy-space_92397-1818.jpg3_1CharMap.png\n",
      "\n"
     ]
    },
    {
     "data": {
      "application/vnd.jupyter.widget-view+json": {
       "model_id": "4f1c4ec42da04f8381f042263411b114",
       "version_major": 2,
       "version_minor": 0
      },
      "text/plain": [
       "HBox(children=(HTML(value=''), FloatProgress(value=0.0, max=4.0), HTML(value='')))"
      ]
     },
     "metadata": {},
     "output_type": "display_data"
    },
    {
     "name": "stdout",
     "output_type": "stream",
     "text": [
      "D:\\Data\\Diploma\\generated//Validate_2//gt/crumpled-brown-recycled-paper-texture-background-copy-space_92397-1818.jpg0_2CharMap.png\n"
     ]
    },
    {
     "name": "stderr",
     "output_type": "stream",
     "text": [
      "<ipython-input-50-4a25245fc9cb>:37: DeprecationWarning: `np.float` is a deprecated alias for the builtin `float`. To silence this warning, use `float` by itself. Doing this will not modify any behavior and is safe. If you specifically wanted the numpy scalar type, use `np.float64` here.\n",
      "Deprecated in NumPy 1.20; for more details and guidance: https://numpy.org/devdocs/release/1.20.0-notes.html#deprecations\n",
      "  result = np.zeros((height, width, len(start_list)), dtype=np.float)\n",
      "<ipython-input-51-38678290ec6b>:150: DeprecationWarning: `np.int` is a deprecated alias for the builtin `int`. To silence this warning, use `int` by itself. Doing this will not modify any behavior and is safe. When replacing `np.int`, you may wish to use e.g. `np.int64` or `np.int32` to specify the precision. If you wish to review your current use, check the release note link for additional information.\n",
      "Deprecated in NumPy 1.20; for more details and guidance: https://numpy.org/devdocs/release/1.20.0-notes.html#deprecations\n",
      "  noise = np.random.normal(0, 32, (H,W, 4)).astype(np.int)\n",
      "<ipython-input-51-38678290ec6b>:151: DeprecationWarning: `np.int` is a deprecated alias for the builtin `int`. To silence this warning, use `int` by itself. Doing this will not modify any behavior and is safe. When replacing `np.int`, you may wish to use e.g. `np.int64` or `np.int32` to specify the precision. If you wish to review your current use, check the release note link for additional information.\n",
      "Deprecated in NumPy 1.20; for more details and guidance: https://numpy.org/devdocs/release/1.20.0-notes.html#deprecations\n",
      "  self.image = self.image.astype(np.int)\n"
     ]
    },
    {
     "name": "stdout",
     "output_type": "stream",
     "text": [
      "D:\\Data\\Diploma\\generated//Validate_2//gt/crumpled-brown-recycled-paper-texture-background-copy-space_92397-1818.jpg1_2CharMap.png\n",
      "D:\\Data\\Diploma\\generated//Validate_2//gt/crumpled-brown-recycled-paper-texture-background-copy-space_92397-1818.jpg2_2CharMap.png\n",
      "D:\\Data\\Diploma\\generated//Validate_2//gt/crumpled-brown-recycled-paper-texture-background-copy-space_92397-1818.jpg3_2CharMap.png\n",
      "\n"
     ]
    },
    {
     "name": "stderr",
     "output_type": "stream",
     "text": [
      "<ipython-input-76-1913dadd0da9>:16: TqdmDeprecationWarning: This function will be removed in tqdm==5.0.0\n",
      "Please use `tqdm.notebook.tqdm` instead of `tqdm.tqdm_notebook`\n",
      "  for i in tn(range(4)):\n"
     ]
    },
    {
     "data": {
      "application/vnd.jupyter.widget-view+json": {
       "model_id": "ec59c9820a0e401e800bc1a56259da5a",
       "version_major": 2,
       "version_minor": 0
      },
      "text/plain": [
       "HBox(children=(HTML(value=''), FloatProgress(value=0.0, max=4.0), HTML(value='')))"
      ]
     },
     "metadata": {},
     "output_type": "display_data"
    },
    {
     "name": "stderr",
     "output_type": "stream",
     "text": [
      "<ipython-input-51-38678290ec6b>:321: DeprecationWarning: `np.int` is a deprecated alias for the builtin `int`. To silence this warning, use `int` by itself. Doing this will not modify any behavior and is safe. When replacing `np.int`, you may wish to use e.g. `np.int64` or `np.int32` to specify the precision. If you wish to review your current use, check the release note link for additional information.\n",
      "Deprecated in NumPy 1.20; for more details and guidance: https://numpy.org/devdocs/release/1.20.0-notes.html#deprecations\n",
      "  rects = [np.array(wordCharRects, dtype=np.int)[np.newaxis, :, :,:] for wordCharRects in self.annotation[\"wordsCharactersRects\"]]\n",
      "<ipython-input-76-1913dadd0da9>:29: UserWarning: Matplotlib is currently using agg, which is a non-GUI backend, so cannot show the figure.\n",
      "  plt.show()\n"
     ]
    },
    {
     "name": "stdout",
     "output_type": "stream",
     "text": [
      "D:\\Data\\Diploma\\generated//Validate_2//gt/crumpled-brown-recycled-paper-texture-background-copy-space_92397-1818.jpg0_3CharMap.png\n"
     ]
    },
    {
     "name": "stderr",
     "output_type": "stream",
     "text": [
      "<ipython-input-51-38678290ec6b>:163: DeprecationWarning: `np.int` is a deprecated alias for the builtin `int`. To silence this warning, use `int` by itself. Doing this will not modify any behavior and is safe. When replacing `np.int`, you may wish to use e.g. `np.int64` or `np.int32` to specify the precision. If you wish to review your current use, check the release note link for additional information.\n",
      "Deprecated in NumPy 1.20; for more details and guidance: https://numpy.org/devdocs/release/1.20.0-notes.html#deprecations\n",
      "  self.image = self.image.astype(np.int)\n",
      "<ipython-input-51-38678290ec6b>:165: DeprecationWarning: `np.int` is a deprecated alias for the builtin `int`. To silence this warning, use `int` by itself. Doing this will not modify any behavior and is safe. When replacing `np.int`, you may wish to use e.g. `np.int64` or `np.int32` to specify the precision. If you wish to review your current use, check the release note link for additional information.\n",
      "Deprecated in NumPy 1.20; for more details and guidance: https://numpy.org/devdocs/release/1.20.0-notes.html#deprecations\n",
      "  self.image += (noise * self.image).astype(np.int)\n"
     ]
    },
    {
     "name": "stdout",
     "output_type": "stream",
     "text": [
      "D:\\Data\\Diploma\\generated//Validate_2//gt/crumpled-brown-recycled-paper-texture-background-copy-space_92397-1818.jpg1_3CharMap.png\n",
      "D:\\Data\\Diploma\\generated//Validate_2//gt/crumpled-brown-recycled-paper-texture-background-copy-space_92397-1818.jpg2_3CharMap.png\n",
      "D:\\Data\\Diploma\\generated//Validate_2//gt/crumpled-brown-recycled-paper-texture-background-copy-space_92397-1818.jpg3_3CharMap.png\n",
      "\n",
      "\n"
     ]
    },
    {
     "name": "stderr",
     "output_type": "stream",
     "text": [
      "<ipython-input-76-1913dadd0da9>:10: TqdmDeprecationWarning: This function will be removed in tqdm==5.0.0\n",
      "Please use `tqdm.notebook.tqdm` instead of `tqdm.tqdm_notebook`\n",
      "  for j in tn(range(4)):\n"
     ]
    },
    {
     "data": {
      "application/vnd.jupyter.widget-view+json": {
       "model_id": "03600ee0e62f45258916e4d1ab4387a7",
       "version_major": 2,
       "version_minor": 0
      },
      "text/plain": [
       "HBox(children=(HTML(value=''), FloatProgress(value=0.0, max=4.0), HTML(value='')))"
      ]
     },
     "metadata": {},
     "output_type": "display_data"
    },
    {
     "data": {
      "application/vnd.jupyter.widget-view+json": {
       "model_id": "0ed07ebd59914694b2273838f24c5d33",
       "version_major": 2,
       "version_minor": 0
      },
      "text/plain": [
       "HBox(children=(HTML(value=''), FloatProgress(value=0.0, max=4.0), HTML(value='')))"
      ]
     },
     "metadata": {},
     "output_type": "display_data"
    },
    {
     "name": "stdout",
     "output_type": "stream",
     "text": [
      "D:\\Data\\Diploma\\generated//Validate_2//gt/depositphotos_52491899-stock-illustration-guilloche-background.jpg0_0CharMap.png\n",
      "D:\\Data\\Diploma\\generated//Validate_2//gt/depositphotos_52491899-stock-illustration-guilloche-background.jpg1_0CharMap.png\n",
      "D:\\Data\\Diploma\\generated//Validate_2//gt/depositphotos_52491899-stock-illustration-guilloche-background.jpg2_0CharMap.png\n",
      "D:\\Data\\Diploma\\generated//Validate_2//gt/depositphotos_52491899-stock-illustration-guilloche-background.jpg3_0CharMap.png\n",
      "\n"
     ]
    },
    {
     "data": {
      "application/vnd.jupyter.widget-view+json": {
       "model_id": "c0020f14d1854ab2abfe62174295f175",
       "version_major": 2,
       "version_minor": 0
      },
      "text/plain": [
       "HBox(children=(HTML(value=''), FloatProgress(value=0.0, max=4.0), HTML(value='')))"
      ]
     },
     "metadata": {},
     "output_type": "display_data"
    },
    {
     "name": "stdout",
     "output_type": "stream",
     "text": [
      "D:\\Data\\Diploma\\generated//Validate_2//gt/depositphotos_52491899-stock-illustration-guilloche-background.jpg0_1CharMap.png\n",
      "D:\\Data\\Diploma\\generated//Validate_2//gt/depositphotos_52491899-stock-illustration-guilloche-background.jpg1_1CharMap.png\n",
      "D:\\Data\\Diploma\\generated//Validate_2//gt/depositphotos_52491899-stock-illustration-guilloche-background.jpg2_1CharMap.png\n",
      "D:\\Data\\Diploma\\generated//Validate_2//gt/depositphotos_52491899-stock-illustration-guilloche-background.jpg3_1CharMap.png\n",
      "\n"
     ]
    },
    {
     "data": {
      "application/vnd.jupyter.widget-view+json": {
       "model_id": "8b81b5ea36b24882bb55cf268254de56",
       "version_major": 2,
       "version_minor": 0
      },
      "text/plain": [
       "HBox(children=(HTML(value=''), FloatProgress(value=0.0, max=4.0), HTML(value='')))"
      ]
     },
     "metadata": {},
     "output_type": "display_data"
    },
    {
     "name": "stdout",
     "output_type": "stream",
     "text": [
      "D:\\Data\\Diploma\\generated//Validate_2//gt/depositphotos_52491899-stock-illustration-guilloche-background.jpg0_2CharMap.png\n",
      "D:\\Data\\Diploma\\generated//Validate_2//gt/depositphotos_52491899-stock-illustration-guilloche-background.jpg1_2CharMap.png\n"
     ]
    },
    {
     "name": "stderr",
     "output_type": "stream",
     "text": [
      "<ipython-input-51-38678290ec6b>:150: DeprecationWarning: `np.int` is a deprecated alias for the builtin `int`. To silence this warning, use `int` by itself. Doing this will not modify any behavior and is safe. When replacing `np.int`, you may wish to use e.g. `np.int64` or `np.int32` to specify the precision. If you wish to review your current use, check the release note link for additional information.\n",
      "Deprecated in NumPy 1.20; for more details and guidance: https://numpy.org/devdocs/release/1.20.0-notes.html#deprecations\n",
      "  noise = np.random.normal(0, 32, (H,W, 4)).astype(np.int)\n",
      "<ipython-input-51-38678290ec6b>:151: DeprecationWarning: `np.int` is a deprecated alias for the builtin `int`. To silence this warning, use `int` by itself. Doing this will not modify any behavior and is safe. When replacing `np.int`, you may wish to use e.g. `np.int64` or `np.int32` to specify the precision. If you wish to review your current use, check the release note link for additional information.\n",
      "Deprecated in NumPy 1.20; for more details and guidance: https://numpy.org/devdocs/release/1.20.0-notes.html#deprecations\n",
      "  self.image = self.image.astype(np.int)\n"
     ]
    },
    {
     "name": "stdout",
     "output_type": "stream",
     "text": [
      "D:\\Data\\Diploma\\generated//Validate_2//gt/depositphotos_52491899-stock-illustration-guilloche-background.jpg2_2CharMap.png\n",
      "D:\\Data\\Diploma\\generated//Validate_2//gt/depositphotos_52491899-stock-illustration-guilloche-background.jpg3_2CharMap.png\n",
      "\n"
     ]
    },
    {
     "name": "stderr",
     "output_type": "stream",
     "text": [
      "<ipython-input-76-1913dadd0da9>:16: TqdmDeprecationWarning: This function will be removed in tqdm==5.0.0\n",
      "Please use `tqdm.notebook.tqdm` instead of `tqdm.tqdm_notebook`\n",
      "  for i in tn(range(4)):\n"
     ]
    },
    {
     "data": {
      "application/vnd.jupyter.widget-view+json": {
       "model_id": "9bf5ee3f88404e07a027d08c24bd962f",
       "version_major": 2,
       "version_minor": 0
      },
      "text/plain": [
       "HBox(children=(HTML(value=''), FloatProgress(value=0.0, max=4.0), HTML(value='')))"
      ]
     },
     "metadata": {},
     "output_type": "display_data"
    },
    {
     "name": "stderr",
     "output_type": "stream",
     "text": [
      "<ipython-input-51-38678290ec6b>:321: DeprecationWarning: `np.int` is a deprecated alias for the builtin `int`. To silence this warning, use `int` by itself. Doing this will not modify any behavior and is safe. When replacing `np.int`, you may wish to use e.g. `np.int64` or `np.int32` to specify the precision. If you wish to review your current use, check the release note link for additional information.\n",
      "Deprecated in NumPy 1.20; for more details and guidance: https://numpy.org/devdocs/release/1.20.0-notes.html#deprecations\n",
      "  rects = [np.array(wordCharRects, dtype=np.int)[np.newaxis, :, :,:] for wordCharRects in self.annotation[\"wordsCharactersRects\"]]\n",
      "<ipython-input-76-1913dadd0da9>:29: UserWarning: Matplotlib is currently using agg, which is a non-GUI backend, so cannot show the figure.\n",
      "  plt.show()\n"
     ]
    },
    {
     "name": "stdout",
     "output_type": "stream",
     "text": [
      "D:\\Data\\Diploma\\generated//Validate_2//gt/depositphotos_52491899-stock-illustration-guilloche-background.jpg0_3CharMap.png\n",
      "D:\\Data\\Diploma\\generated//Validate_2//gt/depositphotos_52491899-stock-illustration-guilloche-background.jpg1_3CharMap.png\n",
      "D:\\Data\\Diploma\\generated//Validate_2//gt/depositphotos_52491899-stock-illustration-guilloche-background.jpg2_3CharMap.png\n",
      "D:\\Data\\Diploma\\generated//Validate_2//gt/depositphotos_52491899-stock-illustration-guilloche-background.jpg3_3CharMap.png\n",
      "\n",
      "\n"
     ]
    },
    {
     "name": "stderr",
     "output_type": "stream",
     "text": [
      "<ipython-input-76-1913dadd0da9>:10: TqdmDeprecationWarning: This function will be removed in tqdm==5.0.0\n",
      "Please use `tqdm.notebook.tqdm` instead of `tqdm.tqdm_notebook`\n",
      "  for j in tn(range(4)):\n"
     ]
    },
    {
     "data": {
      "application/vnd.jupyter.widget-view+json": {
       "model_id": "470cab8680494f63b150f1f026a589b8",
       "version_major": 2,
       "version_minor": 0
      },
      "text/plain": [
       "HBox(children=(HTML(value=''), FloatProgress(value=0.0, max=4.0), HTML(value='')))"
      ]
     },
     "metadata": {},
     "output_type": "display_data"
    },
    {
     "name": "stderr",
     "output_type": "stream",
     "text": [
      "<ipython-input-76-1913dadd0da9>:16: TqdmDeprecationWarning: This function will be removed in tqdm==5.0.0\n",
      "Please use `tqdm.notebook.tqdm` instead of `tqdm.tqdm_notebook`\n",
      "  for i in tn(range(4)):\n"
     ]
    },
    {
     "data": {
      "application/vnd.jupyter.widget-view+json": {
       "model_id": "5aa9ae9169db4311b2277dee3548b4c5",
       "version_major": 2,
       "version_minor": 0
      },
      "text/plain": [
       "HBox(children=(HTML(value=''), FloatProgress(value=0.0, max=4.0), HTML(value='')))"
      ]
     },
     "metadata": {},
     "output_type": "display_data"
    },
    {
     "name": "stderr",
     "output_type": "stream",
     "text": [
      "<ipython-input-51-38678290ec6b>:321: DeprecationWarning: `np.int` is a deprecated alias for the builtin `int`. To silence this warning, use `int` by itself. Doing this will not modify any behavior and is safe. When replacing `np.int`, you may wish to use e.g. `np.int64` or `np.int32` to specify the precision. If you wish to review your current use, check the release note link for additional information.\n",
      "Deprecated in NumPy 1.20; for more details and guidance: https://numpy.org/devdocs/release/1.20.0-notes.html#deprecations\n",
      "  rects = [np.array(wordCharRects, dtype=np.int)[np.newaxis, :, :,:] for wordCharRects in self.annotation[\"wordsCharactersRects\"]]\n",
      "<ipython-input-76-1913dadd0da9>:29: UserWarning: Matplotlib is currently using agg, which is a non-GUI backend, so cannot show the figure.\n",
      "  plt.show()\n"
     ]
    },
    {
     "name": "stdout",
     "output_type": "stream",
     "text": [
      "D:\\Data\\Diploma\\generated//Validate_2//gt/ebc0adc4c28c56a5ce7a740c30e89b89.jpg0_0CharMap.png\n",
      "D:\\Data\\Diploma\\generated//Validate_2//gt/ebc0adc4c28c56a5ce7a740c30e89b89.jpg1_0CharMap.png\n",
      "D:\\Data\\Diploma\\generated//Validate_2//gt/ebc0adc4c28c56a5ce7a740c30e89b89.jpg2_0CharMap.png\n",
      "D:\\Data\\Diploma\\generated//Validate_2//gt/ebc0adc4c28c56a5ce7a740c30e89b89.jpg3_0CharMap.png\n",
      "\n"
     ]
    },
    {
     "name": "stderr",
     "output_type": "stream",
     "text": [
      "<ipython-input-76-1913dadd0da9>:16: TqdmDeprecationWarning: This function will be removed in tqdm==5.0.0\n",
      "Please use `tqdm.notebook.tqdm` instead of `tqdm.tqdm_notebook`\n",
      "  for i in tn(range(4)):\n"
     ]
    },
    {
     "data": {
      "application/vnd.jupyter.widget-view+json": {
       "model_id": "e9a0054d20cd40e7bb127902d1cf9693",
       "version_major": 2,
       "version_minor": 0
      },
      "text/plain": [
       "HBox(children=(HTML(value=''), FloatProgress(value=0.0, max=4.0), HTML(value='')))"
      ]
     },
     "metadata": {},
     "output_type": "display_data"
    },
    {
     "name": "stderr",
     "output_type": "stream",
     "text": [
      "<ipython-input-51-38678290ec6b>:321: DeprecationWarning: `np.int` is a deprecated alias for the builtin `int`. To silence this warning, use `int` by itself. Doing this will not modify any behavior and is safe. When replacing `np.int`, you may wish to use e.g. `np.int64` or `np.int32` to specify the precision. If you wish to review your current use, check the release note link for additional information.\n",
      "Deprecated in NumPy 1.20; for more details and guidance: https://numpy.org/devdocs/release/1.20.0-notes.html#deprecations\n",
      "  rects = [np.array(wordCharRects, dtype=np.int)[np.newaxis, :, :,:] for wordCharRects in self.annotation[\"wordsCharactersRects\"]]\n",
      "<ipython-input-76-1913dadd0da9>:29: UserWarning: Matplotlib is currently using agg, which is a non-GUI backend, so cannot show the figure.\n",
      "  plt.show()\n"
     ]
    },
    {
     "name": "stdout",
     "output_type": "stream",
     "text": [
      "D:\\Data\\Diploma\\generated//Validate_2//gt/ebc0adc4c28c56a5ce7a740c30e89b89.jpg0_1CharMap.png\n",
      "D:\\Data\\Diploma\\generated//Validate_2//gt/ebc0adc4c28c56a5ce7a740c30e89b89.jpg1_1CharMap.png\n",
      "D:\\Data\\Diploma\\generated//Validate_2//gt/ebc0adc4c28c56a5ce7a740c30e89b89.jpg2_1CharMap.png\n",
      "D:\\Data\\Diploma\\generated//Validate_2//gt/ebc0adc4c28c56a5ce7a740c30e89b89.jpg3_1CharMap.png\n",
      "\n"
     ]
    },
    {
     "name": "stderr",
     "output_type": "stream",
     "text": [
      "<ipython-input-76-1913dadd0da9>:16: TqdmDeprecationWarning: This function will be removed in tqdm==5.0.0\n",
      "Please use `tqdm.notebook.tqdm` instead of `tqdm.tqdm_notebook`\n",
      "  for i in tn(range(4)):\n"
     ]
    },
    {
     "data": {
      "application/vnd.jupyter.widget-view+json": {
       "model_id": "29d288b919f949bca8ff3e492a686933",
       "version_major": 2,
       "version_minor": 0
      },
      "text/plain": [
       "HBox(children=(HTML(value=''), FloatProgress(value=0.0, max=4.0), HTML(value='')))"
      ]
     },
     "metadata": {},
     "output_type": "display_data"
    },
    {
     "name": "stderr",
     "output_type": "stream",
     "text": [
      "<ipython-input-51-38678290ec6b>:321: DeprecationWarning: `np.int` is a deprecated alias for the builtin `int`. To silence this warning, use `int` by itself. Doing this will not modify any behavior and is safe. When replacing `np.int`, you may wish to use e.g. `np.int64` or `np.int32` to specify the precision. If you wish to review your current use, check the release note link for additional information.\n",
      "Deprecated in NumPy 1.20; for more details and guidance: https://numpy.org/devdocs/release/1.20.0-notes.html#deprecations\n",
      "  rects = [np.array(wordCharRects, dtype=np.int)[np.newaxis, :, :,:] for wordCharRects in self.annotation[\"wordsCharactersRects\"]]\n",
      "<ipython-input-76-1913dadd0da9>:29: UserWarning: Matplotlib is currently using agg, which is a non-GUI backend, so cannot show the figure.\n",
      "  plt.show()\n"
     ]
    },
    {
     "name": "stdout",
     "output_type": "stream",
     "text": [
      "D:\\Data\\Diploma\\generated//Validate_2//gt/ebc0adc4c28c56a5ce7a740c30e89b89.jpg0_2CharMap.png\n",
      "D:\\Data\\Diploma\\generated//Validate_2//gt/ebc0adc4c28c56a5ce7a740c30e89b89.jpg1_2CharMap.png\n",
      "D:\\Data\\Diploma\\generated//Validate_2//gt/ebc0adc4c28c56a5ce7a740c30e89b89.jpg2_2CharMap.png\n",
      "D:\\Data\\Diploma\\generated//Validate_2//gt/ebc0adc4c28c56a5ce7a740c30e89b89.jpg3_2CharMap.png\n",
      "\n"
     ]
    },
    {
     "data": {
      "application/vnd.jupyter.widget-view+json": {
       "model_id": "37003d75b4924749b12beb45dead62cf",
       "version_major": 2,
       "version_minor": 0
      },
      "text/plain": [
       "HBox(children=(HTML(value=''), FloatProgress(value=0.0, max=4.0), HTML(value='')))"
      ]
     },
     "metadata": {},
     "output_type": "display_data"
    },
    {
     "name": "stdout",
     "output_type": "stream",
     "text": [
      "D:\\Data\\Diploma\\generated//Validate_2//gt/ebc0adc4c28c56a5ce7a740c30e89b89.jpg0_3CharMap.png\n",
      "D:\\Data\\Diploma\\generated//Validate_2//gt/ebc0adc4c28c56a5ce7a740c30e89b89.jpg1_3CharMap.png\n"
     ]
    },
    {
     "name": "stderr",
     "output_type": "stream",
     "text": [
      "<ipython-input-51-38678290ec6b>:150: DeprecationWarning: `np.int` is a deprecated alias for the builtin `int`. To silence this warning, use `int` by itself. Doing this will not modify any behavior and is safe. When replacing `np.int`, you may wish to use e.g. `np.int64` or `np.int32` to specify the precision. If you wish to review your current use, check the release note link for additional information.\n",
      "Deprecated in NumPy 1.20; for more details and guidance: https://numpy.org/devdocs/release/1.20.0-notes.html#deprecations\n",
      "  noise = np.random.normal(0, 32, (H,W, 4)).astype(np.int)\n",
      "<ipython-input-51-38678290ec6b>:151: DeprecationWarning: `np.int` is a deprecated alias for the builtin `int`. To silence this warning, use `int` by itself. Doing this will not modify any behavior and is safe. When replacing `np.int`, you may wish to use e.g. `np.int64` or `np.int32` to specify the precision. If you wish to review your current use, check the release note link for additional information.\n",
      "Deprecated in NumPy 1.20; for more details and guidance: https://numpy.org/devdocs/release/1.20.0-notes.html#deprecations\n",
      "  self.image = self.image.astype(np.int)\n"
     ]
    },
    {
     "name": "stdout",
     "output_type": "stream",
     "text": [
      "D:\\Data\\Diploma\\generated//Validate_2//gt/ebc0adc4c28c56a5ce7a740c30e89b89.jpg2_3CharMap.png\n",
      "D:\\Data\\Diploma\\generated//Validate_2//gt/ebc0adc4c28c56a5ce7a740c30e89b89.jpg3_3CharMap.png\n",
      "\n",
      "\n"
     ]
    },
    {
     "name": "stderr",
     "output_type": "stream",
     "text": [
      "<ipython-input-76-1913dadd0da9>:10: TqdmDeprecationWarning: This function will be removed in tqdm==5.0.0\n",
      "Please use `tqdm.notebook.tqdm` instead of `tqdm.tqdm_notebook`\n",
      "  for j in tn(range(4)):\n"
     ]
    },
    {
     "data": {
      "application/vnd.jupyter.widget-view+json": {
       "model_id": "d117c21797f649b3b75375a841556cb4",
       "version_major": 2,
       "version_minor": 0
      },
      "text/plain": [
       "HBox(children=(HTML(value=''), FloatProgress(value=0.0, max=4.0), HTML(value='')))"
      ]
     },
     "metadata": {},
     "output_type": "display_data"
    },
    {
     "data": {
      "application/vnd.jupyter.widget-view+json": {
       "model_id": "9eb3ccf396844e5bb13dc8bc88ede345",
       "version_major": 2,
       "version_minor": 0
      },
      "text/plain": [
       "HBox(children=(HTML(value=''), FloatProgress(value=0.0, max=4.0), HTML(value='')))"
      ]
     },
     "metadata": {},
     "output_type": "display_data"
    },
    {
     "name": "stdout",
     "output_type": "stream",
     "text": [
      "D:\\Data\\Diploma\\generated//Validate_2//gt/ew345.png0_0CharMap.png\n",
      "D:\\Data\\Diploma\\generated//Validate_2//gt/ew345.png1_0CharMap.png\n",
      "D:\\Data\\Diploma\\generated//Validate_2//gt/ew345.png2_0CharMap.png\n",
      "D:\\Data\\Diploma\\generated//Validate_2//gt/ew345.png3_0CharMap.png\n",
      "\n"
     ]
    },
    {
     "data": {
      "application/vnd.jupyter.widget-view+json": {
       "model_id": "7b140c2988c6464f99a0a2f3898da353",
       "version_major": 2,
       "version_minor": 0
      },
      "text/plain": [
       "HBox(children=(HTML(value=''), FloatProgress(value=0.0, max=4.0), HTML(value='')))"
      ]
     },
     "metadata": {},
     "output_type": "display_data"
    },
    {
     "name": "stdout",
     "output_type": "stream",
     "text": [
      "D:\\Data\\Diploma\\generated//Validate_2//gt/ew345.png0_1CharMap.png\n",
      "D:\\Data\\Diploma\\generated//Validate_2//gt/ew345.png1_1CharMap.png\n",
      "D:\\Data\\Diploma\\generated//Validate_2//gt/ew345.png2_1CharMap.png\n"
     ]
    },
    {
     "name": "stderr",
     "output_type": "stream",
     "text": [
      "<ipython-input-50-4a25245fc9cb>:37: DeprecationWarning: `np.float` is a deprecated alias for the builtin `float`. To silence this warning, use `float` by itself. Doing this will not modify any behavior and is safe. If you specifically wanted the numpy scalar type, use `np.float64` here.\n",
      "Deprecated in NumPy 1.20; for more details and guidance: https://numpy.org/devdocs/release/1.20.0-notes.html#deprecations\n",
      "  result = np.zeros((height, width, len(start_list)), dtype=np.float)\n"
     ]
    },
    {
     "name": "stdout",
     "output_type": "stream",
     "text": [
      "D:\\Data\\Diploma\\generated//Validate_2//gt/ew345.png3_1CharMap.png\n",
      "\n"
     ]
    },
    {
     "name": "stderr",
     "output_type": "stream",
     "text": [
      "<ipython-input-76-1913dadd0da9>:16: TqdmDeprecationWarning: This function will be removed in tqdm==5.0.0\n",
      "Please use `tqdm.notebook.tqdm` instead of `tqdm.tqdm_notebook`\n",
      "  for i in tn(range(4)):\n"
     ]
    },
    {
     "data": {
      "application/vnd.jupyter.widget-view+json": {
       "model_id": "e34c3a8457074f8fb1202700c85f368e",
       "version_major": 2,
       "version_minor": 0
      },
      "text/plain": [
       "HBox(children=(HTML(value=''), FloatProgress(value=0.0, max=4.0), HTML(value='')))"
      ]
     },
     "metadata": {},
     "output_type": "display_data"
    },
    {
     "name": "stderr",
     "output_type": "stream",
     "text": [
      "<ipython-input-51-38678290ec6b>:321: DeprecationWarning: `np.int` is a deprecated alias for the builtin `int`. To silence this warning, use `int` by itself. Doing this will not modify any behavior and is safe. When replacing `np.int`, you may wish to use e.g. `np.int64` or `np.int32` to specify the precision. If you wish to review your current use, check the release note link for additional information.\n",
      "Deprecated in NumPy 1.20; for more details and guidance: https://numpy.org/devdocs/release/1.20.0-notes.html#deprecations\n",
      "  rects = [np.array(wordCharRects, dtype=np.int)[np.newaxis, :, :,:] for wordCharRects in self.annotation[\"wordsCharactersRects\"]]\n",
      "<ipython-input-76-1913dadd0da9>:29: UserWarning: Matplotlib is currently using agg, which is a non-GUI backend, so cannot show the figure.\n",
      "  plt.show()\n"
     ]
    },
    {
     "name": "stdout",
     "output_type": "stream",
     "text": [
      "D:\\Data\\Diploma\\generated//Validate_2//gt/ew345.png0_2CharMap.png\n",
      "D:\\Data\\Diploma\\generated//Validate_2//gt/ew345.png1_2CharMap.png\n",
      "D:\\Data\\Diploma\\generated//Validate_2//gt/ew345.png2_2CharMap.png\n",
      "D:\\Data\\Diploma\\generated//Validate_2//gt/ew345.png3_2CharMap.png\n",
      "\n"
     ]
    },
    {
     "name": "stderr",
     "output_type": "stream",
     "text": [
      "<ipython-input-76-1913dadd0da9>:16: TqdmDeprecationWarning: This function will be removed in tqdm==5.0.0\n",
      "Please use `tqdm.notebook.tqdm` instead of `tqdm.tqdm_notebook`\n",
      "  for i in tn(range(4)):\n"
     ]
    },
    {
     "data": {
      "application/vnd.jupyter.widget-view+json": {
       "model_id": "61d247aeeefb4f4aba7a1d9b64da59c7",
       "version_major": 2,
       "version_minor": 0
      },
      "text/plain": [
       "HBox(children=(HTML(value=''), FloatProgress(value=0.0, max=4.0), HTML(value='')))"
      ]
     },
     "metadata": {},
     "output_type": "display_data"
    },
    {
     "name": "stderr",
     "output_type": "stream",
     "text": [
      "<ipython-input-50-4a25245fc9cb>:37: DeprecationWarning: `np.float` is a deprecated alias for the builtin `float`. To silence this warning, use `float` by itself. Doing this will not modify any behavior and is safe. If you specifically wanted the numpy scalar type, use `np.float64` here.\n",
      "Deprecated in NumPy 1.20; for more details and guidance: https://numpy.org/devdocs/release/1.20.0-notes.html#deprecations\n",
      "  result = np.zeros((height, width, len(start_list)), dtype=np.float)\n",
      "<ipython-input-51-38678290ec6b>:321: DeprecationWarning: `np.int` is a deprecated alias for the builtin `int`. To silence this warning, use `int` by itself. Doing this will not modify any behavior and is safe. When replacing `np.int`, you may wish to use e.g. `np.int64` or `np.int32` to specify the precision. If you wish to review your current use, check the release note link for additional information.\n",
      "Deprecated in NumPy 1.20; for more details and guidance: https://numpy.org/devdocs/release/1.20.0-notes.html#deprecations\n",
      "  rects = [np.array(wordCharRects, dtype=np.int)[np.newaxis, :, :,:] for wordCharRects in self.annotation[\"wordsCharactersRects\"]]\n",
      "<ipython-input-76-1913dadd0da9>:29: UserWarning: Matplotlib is currently using agg, which is a non-GUI backend, so cannot show the figure.\n",
      "  plt.show()\n"
     ]
    },
    {
     "name": "stdout",
     "output_type": "stream",
     "text": [
      "D:\\Data\\Diploma\\generated//Validate_2//gt/ew345.png0_3CharMap.png\n",
      "D:\\Data\\Diploma\\generated//Validate_2//gt/ew345.png1_3CharMap.png\n",
      "D:\\Data\\Diploma\\generated//Validate_2//gt/ew345.png2_3CharMap.png\n",
      "D:\\Data\\Diploma\\generated//Validate_2//gt/ew345.png3_3CharMap.png\n",
      "\n",
      "\n"
     ]
    },
    {
     "name": "stderr",
     "output_type": "stream",
     "text": [
      "<ipython-input-76-1913dadd0da9>:10: TqdmDeprecationWarning: This function will be removed in tqdm==5.0.0\n",
      "Please use `tqdm.notebook.tqdm` instead of `tqdm.tqdm_notebook`\n",
      "  for j in tn(range(4)):\n"
     ]
    },
    {
     "data": {
      "application/vnd.jupyter.widget-view+json": {
       "model_id": "b68129057c0b4808b7703fdd0e761a31",
       "version_major": 2,
       "version_minor": 0
      },
      "text/plain": [
       "HBox(children=(HTML(value=''), FloatProgress(value=0.0, max=4.0), HTML(value='')))"
      ]
     },
     "metadata": {},
     "output_type": "display_data"
    },
    {
     "data": {
      "application/vnd.jupyter.widget-view+json": {
       "model_id": "09e0dff3486c4ca1a732178d42bcf3cc",
       "version_major": 2,
       "version_minor": 0
      },
      "text/plain": [
       "HBox(children=(HTML(value=''), FloatProgress(value=0.0, max=4.0), HTML(value='')))"
      ]
     },
     "metadata": {},
     "output_type": "display_data"
    },
    {
     "name": "stdout",
     "output_type": "stream",
     "text": [
      "D:\\Data\\Diploma\\generated//Validate_2//gt/GDeichmann-BackgroundsGDeichmann-Decor-AbstractGDeichmann-background-Fine-Art-Decor111.jpg0_0CharMap.png\n",
      "D:\\Data\\Diploma\\generated//Validate_2//gt/GDeichmann-BackgroundsGDeichmann-Decor-AbstractGDeichmann-background-Fine-Art-Decor111.jpg1_0CharMap.png\n",
      "D:\\Data\\Diploma\\generated//Validate_2//gt/GDeichmann-BackgroundsGDeichmann-Decor-AbstractGDeichmann-background-Fine-Art-Decor111.jpg2_0CharMap.png\n",
      "D:\\Data\\Diploma\\generated//Validate_2//gt/GDeichmann-BackgroundsGDeichmann-Decor-AbstractGDeichmann-background-Fine-Art-Decor111.jpg3_0CharMap.png\n",
      "\n"
     ]
    },
    {
     "name": "stderr",
     "output_type": "stream",
     "text": [
      "<ipython-input-76-1913dadd0da9>:16: TqdmDeprecationWarning: This function will be removed in tqdm==5.0.0\n",
      "Please use `tqdm.notebook.tqdm` instead of `tqdm.tqdm_notebook`\n",
      "  for i in tn(range(4)):\n"
     ]
    },
    {
     "data": {
      "application/vnd.jupyter.widget-view+json": {
       "model_id": "acf5d3605f2841cb80a80f5e5cd4ce76",
       "version_major": 2,
       "version_minor": 0
      },
      "text/plain": [
       "HBox(children=(HTML(value=''), FloatProgress(value=0.0, max=4.0), HTML(value='')))"
      ]
     },
     "metadata": {},
     "output_type": "display_data"
    },
    {
     "name": "stderr",
     "output_type": "stream",
     "text": [
      "<ipython-input-51-38678290ec6b>:163: DeprecationWarning: `np.int` is a deprecated alias for the builtin `int`. To silence this warning, use `int` by itself. Doing this will not modify any behavior and is safe. When replacing `np.int`, you may wish to use e.g. `np.int64` or `np.int32` to specify the precision. If you wish to review your current use, check the release note link for additional information.\n",
      "Deprecated in NumPy 1.20; for more details and guidance: https://numpy.org/devdocs/release/1.20.0-notes.html#deprecations\n",
      "  self.image = self.image.astype(np.int)\n",
      "<ipython-input-51-38678290ec6b>:165: DeprecationWarning: `np.int` is a deprecated alias for the builtin `int`. To silence this warning, use `int` by itself. Doing this will not modify any behavior and is safe. When replacing `np.int`, you may wish to use e.g. `np.int64` or `np.int32` to specify the precision. If you wish to review your current use, check the release note link for additional information.\n",
      "Deprecated in NumPy 1.20; for more details and guidance: https://numpy.org/devdocs/release/1.20.0-notes.html#deprecations\n",
      "  self.image += (noise * self.image).astype(np.int)\n",
      "<ipython-input-51-38678290ec6b>:321: DeprecationWarning: `np.int` is a deprecated alias for the builtin `int`. To silence this warning, use `int` by itself. Doing this will not modify any behavior and is safe. When replacing `np.int`, you may wish to use e.g. `np.int64` or `np.int32` to specify the precision. If you wish to review your current use, check the release note link for additional information.\n",
      "Deprecated in NumPy 1.20; for more details and guidance: https://numpy.org/devdocs/release/1.20.0-notes.html#deprecations\n",
      "  rects = [np.array(wordCharRects, dtype=np.int)[np.newaxis, :, :,:] for wordCharRects in self.annotation[\"wordsCharactersRects\"]]\n",
      "<ipython-input-76-1913dadd0da9>:29: UserWarning: Matplotlib is currently using agg, which is a non-GUI backend, so cannot show the figure.\n",
      "  plt.show()\n"
     ]
    },
    {
     "name": "stdout",
     "output_type": "stream",
     "text": [
      "D:\\Data\\Diploma\\generated//Validate_2//gt/GDeichmann-BackgroundsGDeichmann-Decor-AbstractGDeichmann-background-Fine-Art-Decor111.jpg0_1CharMap.png\n"
     ]
    },
    {
     "name": "stderr",
     "output_type": "stream",
     "text": [
      "<ipython-input-50-4a25245fc9cb>:37: DeprecationWarning: `np.float` is a deprecated alias for the builtin `float`. To silence this warning, use `float` by itself. Doing this will not modify any behavior and is safe. If you specifically wanted the numpy scalar type, use `np.float64` here.\n",
      "Deprecated in NumPy 1.20; for more details and guidance: https://numpy.org/devdocs/release/1.20.0-notes.html#deprecations\n",
      "  result = np.zeros((height, width, len(start_list)), dtype=np.float)\n",
      "<ipython-input-51-38678290ec6b>:150: DeprecationWarning: `np.int` is a deprecated alias for the builtin `int`. To silence this warning, use `int` by itself. Doing this will not modify any behavior and is safe. When replacing `np.int`, you may wish to use e.g. `np.int64` or `np.int32` to specify the precision. If you wish to review your current use, check the release note link for additional information.\n",
      "Deprecated in NumPy 1.20; for more details and guidance: https://numpy.org/devdocs/release/1.20.0-notes.html#deprecations\n",
      "  noise = np.random.normal(0, 32, (H,W, 4)).astype(np.int)\n",
      "<ipython-input-51-38678290ec6b>:151: DeprecationWarning: `np.int` is a deprecated alias for the builtin `int`. To silence this warning, use `int` by itself. Doing this will not modify any behavior and is safe. When replacing `np.int`, you may wish to use e.g. `np.int64` or `np.int32` to specify the precision. If you wish to review your current use, check the release note link for additional information.\n",
      "Deprecated in NumPy 1.20; for more details and guidance: https://numpy.org/devdocs/release/1.20.0-notes.html#deprecations\n",
      "  self.image = self.image.astype(np.int)\n"
     ]
    },
    {
     "name": "stdout",
     "output_type": "stream",
     "text": [
      "D:\\Data\\Diploma\\generated//Validate_2//gt/GDeichmann-BackgroundsGDeichmann-Decor-AbstractGDeichmann-background-Fine-Art-Decor111.jpg1_1CharMap.png\n",
      "D:\\Data\\Diploma\\generated//Validate_2//gt/GDeichmann-BackgroundsGDeichmann-Decor-AbstractGDeichmann-background-Fine-Art-Decor111.jpg2_1CharMap.png\n",
      "D:\\Data\\Diploma\\generated//Validate_2//gt/GDeichmann-BackgroundsGDeichmann-Decor-AbstractGDeichmann-background-Fine-Art-Decor111.jpg3_1CharMap.png\n",
      "\n"
     ]
    },
    {
     "name": "stderr",
     "output_type": "stream",
     "text": [
      "<ipython-input-76-1913dadd0da9>:16: TqdmDeprecationWarning: This function will be removed in tqdm==5.0.0\n",
      "Please use `tqdm.notebook.tqdm` instead of `tqdm.tqdm_notebook`\n",
      "  for i in tn(range(4)):\n"
     ]
    },
    {
     "data": {
      "application/vnd.jupyter.widget-view+json": {
       "model_id": "1b6b40de92c74c16ba82ca0077876efa",
       "version_major": 2,
       "version_minor": 0
      },
      "text/plain": [
       "HBox(children=(HTML(value=''), FloatProgress(value=0.0, max=4.0), HTML(value='')))"
      ]
     },
     "metadata": {},
     "output_type": "display_data"
    },
    {
     "name": "stderr",
     "output_type": "stream",
     "text": [
      "<ipython-input-51-38678290ec6b>:321: DeprecationWarning: `np.int` is a deprecated alias for the builtin `int`. To silence this warning, use `int` by itself. Doing this will not modify any behavior and is safe. When replacing `np.int`, you may wish to use e.g. `np.int64` or `np.int32` to specify the precision. If you wish to review your current use, check the release note link for additional information.\n",
      "Deprecated in NumPy 1.20; for more details and guidance: https://numpy.org/devdocs/release/1.20.0-notes.html#deprecations\n",
      "  rects = [np.array(wordCharRects, dtype=np.int)[np.newaxis, :, :,:] for wordCharRects in self.annotation[\"wordsCharactersRects\"]]\n",
      "<ipython-input-76-1913dadd0da9>:29: UserWarning: Matplotlib is currently using agg, which is a non-GUI backend, so cannot show the figure.\n",
      "  plt.show()\n"
     ]
    },
    {
     "name": "stdout",
     "output_type": "stream",
     "text": [
      "D:\\Data\\Diploma\\generated//Validate_2//gt/GDeichmann-BackgroundsGDeichmann-Decor-AbstractGDeichmann-background-Fine-Art-Decor111.jpg0_2CharMap.png\n"
     ]
    },
    {
     "name": "stderr",
     "output_type": "stream",
     "text": [
      "<ipython-input-51-38678290ec6b>:150: DeprecationWarning: `np.int` is a deprecated alias for the builtin `int`. To silence this warning, use `int` by itself. Doing this will not modify any behavior and is safe. When replacing `np.int`, you may wish to use e.g. `np.int64` or `np.int32` to specify the precision. If you wish to review your current use, check the release note link for additional information.\n",
      "Deprecated in NumPy 1.20; for more details and guidance: https://numpy.org/devdocs/release/1.20.0-notes.html#deprecations\n",
      "  noise = np.random.normal(0, 32, (H,W, 4)).astype(np.int)\n",
      "<ipython-input-51-38678290ec6b>:151: DeprecationWarning: `np.int` is a deprecated alias for the builtin `int`. To silence this warning, use `int` by itself. Doing this will not modify any behavior and is safe. When replacing `np.int`, you may wish to use e.g. `np.int64` or `np.int32` to specify the precision. If you wish to review your current use, check the release note link for additional information.\n",
      "Deprecated in NumPy 1.20; for more details and guidance: https://numpy.org/devdocs/release/1.20.0-notes.html#deprecations\n",
      "  self.image = self.image.astype(np.int)\n"
     ]
    },
    {
     "name": "stdout",
     "output_type": "stream",
     "text": [
      "D:\\Data\\Diploma\\generated//Validate_2//gt/GDeichmann-BackgroundsGDeichmann-Decor-AbstractGDeichmann-background-Fine-Art-Decor111.jpg1_2CharMap.png\n",
      "D:\\Data\\Diploma\\generated//Validate_2//gt/GDeichmann-BackgroundsGDeichmann-Decor-AbstractGDeichmann-background-Fine-Art-Decor111.jpg2_2CharMap.png\n",
      "D:\\Data\\Diploma\\generated//Validate_2//gt/GDeichmann-BackgroundsGDeichmann-Decor-AbstractGDeichmann-background-Fine-Art-Decor111.jpg3_2CharMap.png\n",
      "\n"
     ]
    },
    {
     "name": "stderr",
     "output_type": "stream",
     "text": [
      "<ipython-input-76-1913dadd0da9>:16: TqdmDeprecationWarning: This function will be removed in tqdm==5.0.0\n",
      "Please use `tqdm.notebook.tqdm` instead of `tqdm.tqdm_notebook`\n",
      "  for i in tn(range(4)):\n"
     ]
    },
    {
     "data": {
      "application/vnd.jupyter.widget-view+json": {
       "model_id": "54bed491121c481ab8fff2ee8dc19d9d",
       "version_major": 2,
       "version_minor": 0
      },
      "text/plain": [
       "HBox(children=(HTML(value=''), FloatProgress(value=0.0, max=4.0), HTML(value='')))"
      ]
     },
     "metadata": {},
     "output_type": "display_data"
    },
    {
     "name": "stderr",
     "output_type": "stream",
     "text": [
      "<ipython-input-51-38678290ec6b>:321: DeprecationWarning: `np.int` is a deprecated alias for the builtin `int`. To silence this warning, use `int` by itself. Doing this will not modify any behavior and is safe. When replacing `np.int`, you may wish to use e.g. `np.int64` or `np.int32` to specify the precision. If you wish to review your current use, check the release note link for additional information.\n",
      "Deprecated in NumPy 1.20; for more details and guidance: https://numpy.org/devdocs/release/1.20.0-notes.html#deprecations\n",
      "  rects = [np.array(wordCharRects, dtype=np.int)[np.newaxis, :, :,:] for wordCharRects in self.annotation[\"wordsCharactersRects\"]]\n",
      "<ipython-input-76-1913dadd0da9>:29: UserWarning: Matplotlib is currently using agg, which is a non-GUI backend, so cannot show the figure.\n",
      "  plt.show()\n"
     ]
    },
    {
     "name": "stdout",
     "output_type": "stream",
     "text": [
      "D:\\Data\\Diploma\\generated//Validate_2//gt/GDeichmann-BackgroundsGDeichmann-Decor-AbstractGDeichmann-background-Fine-Art-Decor111.jpg0_3CharMap.png\n"
     ]
    },
    {
     "name": "stderr",
     "output_type": "stream",
     "text": [
      "<ipython-input-51-38678290ec6b>:150: DeprecationWarning: `np.int` is a deprecated alias for the builtin `int`. To silence this warning, use `int` by itself. Doing this will not modify any behavior and is safe. When replacing `np.int`, you may wish to use e.g. `np.int64` or `np.int32` to specify the precision. If you wish to review your current use, check the release note link for additional information.\n",
      "Deprecated in NumPy 1.20; for more details and guidance: https://numpy.org/devdocs/release/1.20.0-notes.html#deprecations\n",
      "  noise = np.random.normal(0, 32, (H,W, 4)).astype(np.int)\n",
      "<ipython-input-51-38678290ec6b>:151: DeprecationWarning: `np.int` is a deprecated alias for the builtin `int`. To silence this warning, use `int` by itself. Doing this will not modify any behavior and is safe. When replacing `np.int`, you may wish to use e.g. `np.int64` or `np.int32` to specify the precision. If you wish to review your current use, check the release note link for additional information.\n",
      "Deprecated in NumPy 1.20; for more details and guidance: https://numpy.org/devdocs/release/1.20.0-notes.html#deprecations\n",
      "  self.image = self.image.astype(np.int)\n"
     ]
    },
    {
     "name": "stdout",
     "output_type": "stream",
     "text": [
      "D:\\Data\\Diploma\\generated//Validate_2//gt/GDeichmann-BackgroundsGDeichmann-Decor-AbstractGDeichmann-background-Fine-Art-Decor111.jpg1_3CharMap.png\n",
      "D:\\Data\\Diploma\\generated//Validate_2//gt/GDeichmann-BackgroundsGDeichmann-Decor-AbstractGDeichmann-background-Fine-Art-Decor111.jpg2_3CharMap.png\n",
      "D:\\Data\\Diploma\\generated//Validate_2//gt/GDeichmann-BackgroundsGDeichmann-Decor-AbstractGDeichmann-background-Fine-Art-Decor111.jpg3_3CharMap.png\n",
      "\n",
      "\n"
     ]
    },
    {
     "name": "stderr",
     "output_type": "stream",
     "text": [
      "<ipython-input-76-1913dadd0da9>:10: TqdmDeprecationWarning: This function will be removed in tqdm==5.0.0\n",
      "Please use `tqdm.notebook.tqdm` instead of `tqdm.tqdm_notebook`\n",
      "  for j in tn(range(4)):\n"
     ]
    },
    {
     "data": {
      "application/vnd.jupyter.widget-view+json": {
       "model_id": "2be61ceea21b4e6cbc5ff3b5c97c634a",
       "version_major": 2,
       "version_minor": 0
      },
      "text/plain": [
       "HBox(children=(HTML(value=''), FloatProgress(value=0.0, max=4.0), HTML(value='')))"
      ]
     },
     "metadata": {},
     "output_type": "display_data"
    },
    {
     "name": "stderr",
     "output_type": "stream",
     "text": [
      "<ipython-input-76-1913dadd0da9>:16: TqdmDeprecationWarning: This function will be removed in tqdm==5.0.0\n",
      "Please use `tqdm.notebook.tqdm` instead of `tqdm.tqdm_notebook`\n",
      "  for i in tn(range(4)):\n"
     ]
    },
    {
     "data": {
      "application/vnd.jupyter.widget-view+json": {
       "model_id": "ce7b0143206343b38d62372d9bb429bf",
       "version_major": 2,
       "version_minor": 0
      },
      "text/plain": [
       "HBox(children=(HTML(value=''), FloatProgress(value=0.0, max=4.0), HTML(value='')))"
      ]
     },
     "metadata": {},
     "output_type": "display_data"
    },
    {
     "name": "stderr",
     "output_type": "stream",
     "text": [
      "<ipython-input-51-38678290ec6b>:321: DeprecationWarning: `np.int` is a deprecated alias for the builtin `int`. To silence this warning, use `int` by itself. Doing this will not modify any behavior and is safe. When replacing `np.int`, you may wish to use e.g. `np.int64` or `np.int32` to specify the precision. If you wish to review your current use, check the release note link for additional information.\n",
      "Deprecated in NumPy 1.20; for more details and guidance: https://numpy.org/devdocs/release/1.20.0-notes.html#deprecations\n",
      "  rects = [np.array(wordCharRects, dtype=np.int)[np.newaxis, :, :,:] for wordCharRects in self.annotation[\"wordsCharactersRects\"]]\n",
      "<ipython-input-76-1913dadd0da9>:29: UserWarning: Matplotlib is currently using agg, which is a non-GUI backend, so cannot show the figure.\n",
      "  plt.show()\n"
     ]
    },
    {
     "name": "stdout",
     "output_type": "stream",
     "text": [
      "D:\\Data\\Diploma\\generated//Validate_2//gt/GSc7V1.jpg0_0CharMap.png\n"
     ]
    },
    {
     "name": "stderr",
     "output_type": "stream",
     "text": [
      "<ipython-input-51-38678290ec6b>:150: DeprecationWarning: `np.int` is a deprecated alias for the builtin `int`. To silence this warning, use `int` by itself. Doing this will not modify any behavior and is safe. When replacing `np.int`, you may wish to use e.g. `np.int64` or `np.int32` to specify the precision. If you wish to review your current use, check the release note link for additional information.\n",
      "Deprecated in NumPy 1.20; for more details and guidance: https://numpy.org/devdocs/release/1.20.0-notes.html#deprecations\n",
      "  noise = np.random.normal(0, 32, (H,W, 4)).astype(np.int)\n",
      "<ipython-input-51-38678290ec6b>:151: DeprecationWarning: `np.int` is a deprecated alias for the builtin `int`. To silence this warning, use `int` by itself. Doing this will not modify any behavior and is safe. When replacing `np.int`, you may wish to use e.g. `np.int64` or `np.int32` to specify the precision. If you wish to review your current use, check the release note link for additional information.\n",
      "Deprecated in NumPy 1.20; for more details and guidance: https://numpy.org/devdocs/release/1.20.0-notes.html#deprecations\n",
      "  self.image = self.image.astype(np.int)\n"
     ]
    },
    {
     "name": "stdout",
     "output_type": "stream",
     "text": [
      "D:\\Data\\Diploma\\generated//Validate_2//gt/GSc7V1.jpg1_0CharMap.png\n",
      "D:\\Data\\Diploma\\generated//Validate_2//gt/GSc7V1.jpg2_0CharMap.png\n",
      "D:\\Data\\Diploma\\generated//Validate_2//gt/GSc7V1.jpg3_0CharMap.png\n",
      "\n"
     ]
    },
    {
     "data": {
      "application/vnd.jupyter.widget-view+json": {
       "model_id": "d29d7f187f00456ab18a5a5bc1392719",
       "version_major": 2,
       "version_minor": 0
      },
      "text/plain": [
       "HBox(children=(HTML(value=''), FloatProgress(value=0.0, max=4.0), HTML(value='')))"
      ]
     },
     "metadata": {},
     "output_type": "display_data"
    },
    {
     "name": "stdout",
     "output_type": "stream",
     "text": [
      "D:\\Data\\Diploma\\generated//Validate_2//gt/GSc7V1.jpg0_1CharMap.png\n",
      "D:\\Data\\Diploma\\generated//Validate_2//gt/GSc7V1.jpg1_1CharMap.png\n",
      "D:\\Data\\Diploma\\generated//Validate_2//gt/GSc7V1.jpg2_1CharMap.png\n",
      "D:\\Data\\Diploma\\generated//Validate_2//gt/GSc7V1.jpg3_1CharMap.png\n",
      "\n"
     ]
    },
    {
     "data": {
      "application/vnd.jupyter.widget-view+json": {
       "model_id": "c3a6051718df45d48d5fc394bfb8fc05",
       "version_major": 2,
       "version_minor": 0
      },
      "text/plain": [
       "HBox(children=(HTML(value=''), FloatProgress(value=0.0, max=4.0), HTML(value='')))"
      ]
     },
     "metadata": {},
     "output_type": "display_data"
    },
    {
     "name": "stdout",
     "output_type": "stream",
     "text": [
      "D:\\Data\\Diploma\\generated//Validate_2//gt/GSc7V1.jpg0_2CharMap.png\n",
      "D:\\Data\\Diploma\\generated//Validate_2//gt/GSc7V1.jpg1_2CharMap.png\n",
      "D:\\Data\\Diploma\\generated//Validate_2//gt/GSc7V1.jpg2_2CharMap.png\n",
      "D:\\Data\\Diploma\\generated//Validate_2//gt/GSc7V1.jpg3_2CharMap.png\n",
      "\n"
     ]
    },
    {
     "name": "stderr",
     "output_type": "stream",
     "text": [
      "<ipython-input-76-1913dadd0da9>:16: TqdmDeprecationWarning: This function will be removed in tqdm==5.0.0\n",
      "Please use `tqdm.notebook.tqdm` instead of `tqdm.tqdm_notebook`\n",
      "  for i in tn(range(4)):\n"
     ]
    },
    {
     "data": {
      "application/vnd.jupyter.widget-view+json": {
       "model_id": "f0a01d7b750a47c59578012213cb3c91",
       "version_major": 2,
       "version_minor": 0
      },
      "text/plain": [
       "HBox(children=(HTML(value=''), FloatProgress(value=0.0, max=4.0), HTML(value='')))"
      ]
     },
     "metadata": {},
     "output_type": "display_data"
    },
    {
     "name": "stderr",
     "output_type": "stream",
     "text": [
      "<ipython-input-51-38678290ec6b>:321: DeprecationWarning: `np.int` is a deprecated alias for the builtin `int`. To silence this warning, use `int` by itself. Doing this will not modify any behavior and is safe. When replacing `np.int`, you may wish to use e.g. `np.int64` or `np.int32` to specify the precision. If you wish to review your current use, check the release note link for additional information.\n",
      "Deprecated in NumPy 1.20; for more details and guidance: https://numpy.org/devdocs/release/1.20.0-notes.html#deprecations\n",
      "  rects = [np.array(wordCharRects, dtype=np.int)[np.newaxis, :, :,:] for wordCharRects in self.annotation[\"wordsCharactersRects\"]]\n",
      "<ipython-input-76-1913dadd0da9>:29: UserWarning: Matplotlib is currently using agg, which is a non-GUI backend, so cannot show the figure.\n",
      "  plt.show()\n"
     ]
    },
    {
     "name": "stdout",
     "output_type": "stream",
     "text": [
      "D:\\Data\\Diploma\\generated//Validate_2//gt/GSc7V1.jpg0_3CharMap.png\n",
      "D:\\Data\\Diploma\\generated//Validate_2//gt/GSc7V1.jpg1_3CharMap.png\n",
      "D:\\Data\\Diploma\\generated//Validate_2//gt/GSc7V1.jpg2_3CharMap.png\n"
     ]
    },
    {
     "name": "stderr",
     "output_type": "stream",
     "text": [
      "<ipython-input-50-4a25245fc9cb>:37: DeprecationWarning: `np.float` is a deprecated alias for the builtin `float`. To silence this warning, use `float` by itself. Doing this will not modify any behavior and is safe. If you specifically wanted the numpy scalar type, use `np.float64` here.\n",
      "Deprecated in NumPy 1.20; for more details and guidance: https://numpy.org/devdocs/release/1.20.0-notes.html#deprecations\n",
      "  result = np.zeros((height, width, len(start_list)), dtype=np.float)\n",
      "<ipython-input-51-38678290ec6b>:163: DeprecationWarning: `np.int` is a deprecated alias for the builtin `int`. To silence this warning, use `int` by itself. Doing this will not modify any behavior and is safe. When replacing `np.int`, you may wish to use e.g. `np.int64` or `np.int32` to specify the precision. If you wish to review your current use, check the release note link for additional information.\n",
      "Deprecated in NumPy 1.20; for more details and guidance: https://numpy.org/devdocs/release/1.20.0-notes.html#deprecations\n",
      "  self.image = self.image.astype(np.int)\n",
      "<ipython-input-51-38678290ec6b>:165: DeprecationWarning: `np.int` is a deprecated alias for the builtin `int`. To silence this warning, use `int` by itself. Doing this will not modify any behavior and is safe. When replacing `np.int`, you may wish to use e.g. `np.int64` or `np.int32` to specify the precision. If you wish to review your current use, check the release note link for additional information.\n",
      "Deprecated in NumPy 1.20; for more details and guidance: https://numpy.org/devdocs/release/1.20.0-notes.html#deprecations\n",
      "  self.image += (noise * self.image).astype(np.int)\n"
     ]
    },
    {
     "name": "stdout",
     "output_type": "stream",
     "text": [
      "D:\\Data\\Diploma\\generated//Validate_2//gt/GSc7V1.jpg3_3CharMap.png\n",
      "\n",
      "\n"
     ]
    },
    {
     "name": "stderr",
     "output_type": "stream",
     "text": [
      "<ipython-input-76-1913dadd0da9>:10: TqdmDeprecationWarning: This function will be removed in tqdm==5.0.0\n",
      "Please use `tqdm.notebook.tqdm` instead of `tqdm.tqdm_notebook`\n",
      "  for j in tn(range(4)):\n"
     ]
    },
    {
     "data": {
      "application/vnd.jupyter.widget-view+json": {
       "model_id": "8867f40f810441f29f7dc978cc537f3b",
       "version_major": 2,
       "version_minor": 0
      },
      "text/plain": [
       "HBox(children=(HTML(value=''), FloatProgress(value=0.0, max=4.0), HTML(value='')))"
      ]
     },
     "metadata": {},
     "output_type": "display_data"
    },
    {
     "name": "stderr",
     "output_type": "stream",
     "text": [
      "<ipython-input-76-1913dadd0da9>:16: TqdmDeprecationWarning: This function will be removed in tqdm==5.0.0\n",
      "Please use `tqdm.notebook.tqdm` instead of `tqdm.tqdm_notebook`\n",
      "  for i in tn(range(4)):\n"
     ]
    },
    {
     "data": {
      "application/vnd.jupyter.widget-view+json": {
       "model_id": "44bc02294e954f9db500eaee58c97729",
       "version_major": 2,
       "version_minor": 0
      },
      "text/plain": [
       "HBox(children=(HTML(value=''), FloatProgress(value=0.0, max=4.0), HTML(value='')))"
      ]
     },
     "metadata": {},
     "output_type": "display_data"
    },
    {
     "name": "stderr",
     "output_type": "stream",
     "text": [
      "<ipython-input-51-38678290ec6b>:321: DeprecationWarning: `np.int` is a deprecated alias for the builtin `int`. To silence this warning, use `int` by itself. Doing this will not modify any behavior and is safe. When replacing `np.int`, you may wish to use e.g. `np.int64` or `np.int32` to specify the precision. If you wish to review your current use, check the release note link for additional information.\n",
      "Deprecated in NumPy 1.20; for more details and guidance: https://numpy.org/devdocs/release/1.20.0-notes.html#deprecations\n",
      "  rects = [np.array(wordCharRects, dtype=np.int)[np.newaxis, :, :,:] for wordCharRects in self.annotation[\"wordsCharactersRects\"]]\n",
      "<ipython-input-76-1913dadd0da9>:29: UserWarning: Matplotlib is currently using agg, which is a non-GUI backend, so cannot show the figure.\n",
      "  plt.show()\n"
     ]
    },
    {
     "name": "stdout",
     "output_type": "stream",
     "text": [
      "D:\\Data\\Diploma\\generated//Validate_2//gt/guilloche-background-simple-pattern-wavy-lines-moire-ornament-monochrome-guilloche-texture-waves-original-money-112899936.jpg0_0CharMap.png\n",
      "D:\\Data\\Diploma\\generated//Validate_2//gt/guilloche-background-simple-pattern-wavy-lines-moire-ornament-monochrome-guilloche-texture-waves-original-money-112899936.jpg1_0CharMap.png\n",
      "D:\\Data\\Diploma\\generated//Validate_2//gt/guilloche-background-simple-pattern-wavy-lines-moire-ornament-monochrome-guilloche-texture-waves-original-money-112899936.jpg2_0CharMap.png\n"
     ]
    },
    {
     "name": "stderr",
     "output_type": "stream",
     "text": [
      "<ipython-input-51-38678290ec6b>:150: DeprecationWarning: `np.int` is a deprecated alias for the builtin `int`. To silence this warning, use `int` by itself. Doing this will not modify any behavior and is safe. When replacing `np.int`, you may wish to use e.g. `np.int64` or `np.int32` to specify the precision. If you wish to review your current use, check the release note link for additional information.\n",
      "Deprecated in NumPy 1.20; for more details and guidance: https://numpy.org/devdocs/release/1.20.0-notes.html#deprecations\n",
      "  noise = np.random.normal(0, 32, (H,W, 4)).astype(np.int)\n",
      "<ipython-input-51-38678290ec6b>:151: DeprecationWarning: `np.int` is a deprecated alias for the builtin `int`. To silence this warning, use `int` by itself. Doing this will not modify any behavior and is safe. When replacing `np.int`, you may wish to use e.g. `np.int64` or `np.int32` to specify the precision. If you wish to review your current use, check the release note link for additional information.\n",
      "Deprecated in NumPy 1.20; for more details and guidance: https://numpy.org/devdocs/release/1.20.0-notes.html#deprecations\n",
      "  self.image = self.image.astype(np.int)\n"
     ]
    },
    {
     "name": "stdout",
     "output_type": "stream",
     "text": [
      "D:\\Data\\Diploma\\generated//Validate_2//gt/guilloche-background-simple-pattern-wavy-lines-moire-ornament-monochrome-guilloche-texture-waves-original-money-112899936.jpg3_0CharMap.png\n",
      "\n"
     ]
    },
    {
     "name": "stderr",
     "output_type": "stream",
     "text": [
      "<ipython-input-76-1913dadd0da9>:16: TqdmDeprecationWarning: This function will be removed in tqdm==5.0.0\n",
      "Please use `tqdm.notebook.tqdm` instead of `tqdm.tqdm_notebook`\n",
      "  for i in tn(range(4)):\n"
     ]
    },
    {
     "data": {
      "application/vnd.jupyter.widget-view+json": {
       "model_id": "de0340d546924ba1aa3c554d32a3f4b7",
       "version_major": 2,
       "version_minor": 0
      },
      "text/plain": [
       "HBox(children=(HTML(value=''), FloatProgress(value=0.0, max=4.0), HTML(value='')))"
      ]
     },
     "metadata": {},
     "output_type": "display_data"
    },
    {
     "name": "stderr",
     "output_type": "stream",
     "text": [
      "<ipython-input-50-4a25245fc9cb>:37: DeprecationWarning: `np.float` is a deprecated alias for the builtin `float`. To silence this warning, use `float` by itself. Doing this will not modify any behavior and is safe. If you specifically wanted the numpy scalar type, use `np.float64` here.\n",
      "Deprecated in NumPy 1.20; for more details and guidance: https://numpy.org/devdocs/release/1.20.0-notes.html#deprecations\n",
      "  result = np.zeros((height, width, len(start_list)), dtype=np.float)\n",
      "<ipython-input-51-38678290ec6b>:321: DeprecationWarning: `np.int` is a deprecated alias for the builtin `int`. To silence this warning, use `int` by itself. Doing this will not modify any behavior and is safe. When replacing `np.int`, you may wish to use e.g. `np.int64` or `np.int32` to specify the precision. If you wish to review your current use, check the release note link for additional information.\n",
      "Deprecated in NumPy 1.20; for more details and guidance: https://numpy.org/devdocs/release/1.20.0-notes.html#deprecations\n",
      "  rects = [np.array(wordCharRects, dtype=np.int)[np.newaxis, :, :,:] for wordCharRects in self.annotation[\"wordsCharactersRects\"]]\n",
      "<ipython-input-76-1913dadd0da9>:29: UserWarning: Matplotlib is currently using agg, which is a non-GUI backend, so cannot show the figure.\n",
      "  plt.show()\n"
     ]
    },
    {
     "name": "stdout",
     "output_type": "stream",
     "text": [
      "D:\\Data\\Diploma\\generated//Validate_2//gt/guilloche-background-simple-pattern-wavy-lines-moire-ornament-monochrome-guilloche-texture-waves-original-money-112899936.jpg0_1CharMap.png\n",
      "D:\\Data\\Diploma\\generated//Validate_2//gt/guilloche-background-simple-pattern-wavy-lines-moire-ornament-monochrome-guilloche-texture-waves-original-money-112899936.jpg1_1CharMap.png\n",
      "D:\\Data\\Diploma\\generated//Validate_2//gt/guilloche-background-simple-pattern-wavy-lines-moire-ornament-monochrome-guilloche-texture-waves-original-money-112899936.jpg2_1CharMap.png\n",
      "D:\\Data\\Diploma\\generated//Validate_2//gt/guilloche-background-simple-pattern-wavy-lines-moire-ornament-monochrome-guilloche-texture-waves-original-money-112899936.jpg3_1CharMap.png\n",
      "\n"
     ]
    },
    {
     "name": "stderr",
     "output_type": "stream",
     "text": [
      "<ipython-input-76-1913dadd0da9>:16: TqdmDeprecationWarning: This function will be removed in tqdm==5.0.0\n",
      "Please use `tqdm.notebook.tqdm` instead of `tqdm.tqdm_notebook`\n",
      "  for i in tn(range(4)):\n"
     ]
    },
    {
     "data": {
      "application/vnd.jupyter.widget-view+json": {
       "model_id": "e9717b05e67b4a9da01ca778a50ee9de",
       "version_major": 2,
       "version_minor": 0
      },
      "text/plain": [
       "HBox(children=(HTML(value=''), FloatProgress(value=0.0, max=4.0), HTML(value='')))"
      ]
     },
     "metadata": {},
     "output_type": "display_data"
    },
    {
     "name": "stderr",
     "output_type": "stream",
     "text": [
      "<ipython-input-51-38678290ec6b>:321: DeprecationWarning: `np.int` is a deprecated alias for the builtin `int`. To silence this warning, use `int` by itself. Doing this will not modify any behavior and is safe. When replacing `np.int`, you may wish to use e.g. `np.int64` or `np.int32` to specify the precision. If you wish to review your current use, check the release note link for additional information.\n",
      "Deprecated in NumPy 1.20; for more details and guidance: https://numpy.org/devdocs/release/1.20.0-notes.html#deprecations\n",
      "  rects = [np.array(wordCharRects, dtype=np.int)[np.newaxis, :, :,:] for wordCharRects in self.annotation[\"wordsCharactersRects\"]]\n",
      "<ipython-input-76-1913dadd0da9>:29: UserWarning: Matplotlib is currently using agg, which is a non-GUI backend, so cannot show the figure.\n",
      "  plt.show()\n"
     ]
    },
    {
     "name": "stdout",
     "output_type": "stream",
     "text": [
      "D:\\Data\\Diploma\\generated//Validate_2//gt/guilloche-background-simple-pattern-wavy-lines-moire-ornament-monochrome-guilloche-texture-waves-original-money-112899936.jpg0_2CharMap.png\n",
      "D:\\Data\\Diploma\\generated//Validate_2//gt/guilloche-background-simple-pattern-wavy-lines-moire-ornament-monochrome-guilloche-texture-waves-original-money-112899936.jpg1_2CharMap.png\n",
      "D:\\Data\\Diploma\\generated//Validate_2//gt/guilloche-background-simple-pattern-wavy-lines-moire-ornament-monochrome-guilloche-texture-waves-original-money-112899936.jpg2_2CharMap.png\n",
      "D:\\Data\\Diploma\\generated//Validate_2//gt/guilloche-background-simple-pattern-wavy-lines-moire-ornament-monochrome-guilloche-texture-waves-original-money-112899936.jpg3_2CharMap.png\n",
      "\n"
     ]
    },
    {
     "data": {
      "application/vnd.jupyter.widget-view+json": {
       "model_id": "15fe705540354aa5a2d8862cfce6e059",
       "version_major": 2,
       "version_minor": 0
      },
      "text/plain": [
       "HBox(children=(HTML(value=''), FloatProgress(value=0.0, max=4.0), HTML(value='')))"
      ]
     },
     "metadata": {},
     "output_type": "display_data"
    },
    {
     "name": "stderr",
     "output_type": "stream",
     "text": [
      "<ipython-input-51-38678290ec6b>:150: DeprecationWarning: `np.int` is a deprecated alias for the builtin `int`. To silence this warning, use `int` by itself. Doing this will not modify any behavior and is safe. When replacing `np.int`, you may wish to use e.g. `np.int64` or `np.int32` to specify the precision. If you wish to review your current use, check the release note link for additional information.\n",
      "Deprecated in NumPy 1.20; for more details and guidance: https://numpy.org/devdocs/release/1.20.0-notes.html#deprecations\n",
      "  noise = np.random.normal(0, 32, (H,W, 4)).astype(np.int)\n",
      "<ipython-input-51-38678290ec6b>:151: DeprecationWarning: `np.int` is a deprecated alias for the builtin `int`. To silence this warning, use `int` by itself. Doing this will not modify any behavior and is safe. When replacing `np.int`, you may wish to use e.g. `np.int64` or `np.int32` to specify the precision. If you wish to review your current use, check the release note link for additional information.\n",
      "Deprecated in NumPy 1.20; for more details and guidance: https://numpy.org/devdocs/release/1.20.0-notes.html#deprecations\n",
      "  self.image = self.image.astype(np.int)\n"
     ]
    },
    {
     "name": "stdout",
     "output_type": "stream",
     "text": [
      "D:\\Data\\Diploma\\generated//Validate_2//gt/guilloche-background-simple-pattern-wavy-lines-moire-ornament-monochrome-guilloche-texture-waves-original-money-112899936.jpg0_3CharMap.png\n"
     ]
    },
    {
     "name": "stderr",
     "output_type": "stream",
     "text": [
      "<ipython-input-50-4a25245fc9cb>:37: DeprecationWarning: `np.float` is a deprecated alias for the builtin `float`. To silence this warning, use `float` by itself. Doing this will not modify any behavior and is safe. If you specifically wanted the numpy scalar type, use `np.float64` here.\n",
      "Deprecated in NumPy 1.20; for more details and guidance: https://numpy.org/devdocs/release/1.20.0-notes.html#deprecations\n",
      "  result = np.zeros((height, width, len(start_list)), dtype=np.float)\n"
     ]
    },
    {
     "name": "stdout",
     "output_type": "stream",
     "text": [
      "D:\\Data\\Diploma\\generated//Validate_2//gt/guilloche-background-simple-pattern-wavy-lines-moire-ornament-monochrome-guilloche-texture-waves-original-money-112899936.jpg1_3CharMap.png\n",
      "D:\\Data\\Diploma\\generated//Validate_2//gt/guilloche-background-simple-pattern-wavy-lines-moire-ornament-monochrome-guilloche-texture-waves-original-money-112899936.jpg2_3CharMap.png\n",
      "D:\\Data\\Diploma\\generated//Validate_2//gt/guilloche-background-simple-pattern-wavy-lines-moire-ornament-monochrome-guilloche-texture-waves-original-money-112899936.jpg3_3CharMap.png\n",
      "\n",
      "\n"
     ]
    },
    {
     "name": "stderr",
     "output_type": "stream",
     "text": [
      "<ipython-input-76-1913dadd0da9>:10: TqdmDeprecationWarning: This function will be removed in tqdm==5.0.0\n",
      "Please use `tqdm.notebook.tqdm` instead of `tqdm.tqdm_notebook`\n",
      "  for j in tn(range(4)):\n"
     ]
    },
    {
     "data": {
      "application/vnd.jupyter.widget-view+json": {
       "model_id": "0019b6d7336b4a07a449dc1fb5fec701",
       "version_major": 2,
       "version_minor": 0
      },
      "text/plain": [
       "HBox(children=(HTML(value=''), FloatProgress(value=0.0, max=4.0), HTML(value='')))"
      ]
     },
     "metadata": {},
     "output_type": "display_data"
    },
    {
     "name": "stderr",
     "output_type": "stream",
     "text": [
      "<ipython-input-76-1913dadd0da9>:16: TqdmDeprecationWarning: This function will be removed in tqdm==5.0.0\n",
      "Please use `tqdm.notebook.tqdm` instead of `tqdm.tqdm_notebook`\n",
      "  for i in tn(range(4)):\n"
     ]
    },
    {
     "data": {
      "application/vnd.jupyter.widget-view+json": {
       "model_id": "b446d529419f4a47b9af6a283532e939",
       "version_major": 2,
       "version_minor": 0
      },
      "text/plain": [
       "HBox(children=(HTML(value=''), FloatProgress(value=0.0, max=4.0), HTML(value='')))"
      ]
     },
     "metadata": {},
     "output_type": "display_data"
    },
    {
     "name": "stderr",
     "output_type": "stream",
     "text": [
      "<ipython-input-51-38678290ec6b>:321: DeprecationWarning: `np.int` is a deprecated alias for the builtin `int`. To silence this warning, use `int` by itself. Doing this will not modify any behavior and is safe. When replacing `np.int`, you may wish to use e.g. `np.int64` or `np.int32` to specify the precision. If you wish to review your current use, check the release note link for additional information.\n",
      "Deprecated in NumPy 1.20; for more details and guidance: https://numpy.org/devdocs/release/1.20.0-notes.html#deprecations\n",
      "  rects = [np.array(wordCharRects, dtype=np.int)[np.newaxis, :, :,:] for wordCharRects in self.annotation[\"wordsCharactersRects\"]]\n",
      "<ipython-input-76-1913dadd0da9>:29: UserWarning: Matplotlib is currently using agg, which is a non-GUI backend, so cannot show the figure.\n",
      "  plt.show()\n"
     ]
    },
    {
     "name": "stdout",
     "output_type": "stream",
     "text": [
      "D:\\Data\\Diploma\\generated//Validate_2//gt/guilloche-money-pattern-background-monochrome-texture-waves-original-certificate-voucher-banknote-design-82919936.jpg0_0CharMap.png\n",
      "D:\\Data\\Diploma\\generated//Validate_2//gt/guilloche-money-pattern-background-monochrome-texture-waves-original-certificate-voucher-banknote-design-82919936.jpg1_0CharMap.png\n",
      "D:\\Data\\Diploma\\generated//Validate_2//gt/guilloche-money-pattern-background-monochrome-texture-waves-original-certificate-voucher-banknote-design-82919936.jpg2_0CharMap.png\n",
      "D:\\Data\\Diploma\\generated//Validate_2//gt/guilloche-money-pattern-background-monochrome-texture-waves-original-certificate-voucher-banknote-design-82919936.jpg3_0CharMap.png\n",
      "\n"
     ]
    },
    {
     "name": "stderr",
     "output_type": "stream",
     "text": [
      "<ipython-input-76-1913dadd0da9>:16: TqdmDeprecationWarning: This function will be removed in tqdm==5.0.0\n",
      "Please use `tqdm.notebook.tqdm` instead of `tqdm.tqdm_notebook`\n",
      "  for i in tn(range(4)):\n"
     ]
    },
    {
     "data": {
      "application/vnd.jupyter.widget-view+json": {
       "model_id": "33281d9f576041cfa1e341b3b3f72e2a",
       "version_major": 2,
       "version_minor": 0
      },
      "text/plain": [
       "HBox(children=(HTML(value=''), FloatProgress(value=0.0, max=4.0), HTML(value='')))"
      ]
     },
     "metadata": {},
     "output_type": "display_data"
    },
    {
     "name": "stderr",
     "output_type": "stream",
     "text": [
      "<ipython-input-51-38678290ec6b>:321: DeprecationWarning: `np.int` is a deprecated alias for the builtin `int`. To silence this warning, use `int` by itself. Doing this will not modify any behavior and is safe. When replacing `np.int`, you may wish to use e.g. `np.int64` or `np.int32` to specify the precision. If you wish to review your current use, check the release note link for additional information.\n",
      "Deprecated in NumPy 1.20; for more details and guidance: https://numpy.org/devdocs/release/1.20.0-notes.html#deprecations\n",
      "  rects = [np.array(wordCharRects, dtype=np.int)[np.newaxis, :, :,:] for wordCharRects in self.annotation[\"wordsCharactersRects\"]]\n",
      "<ipython-input-76-1913dadd0da9>:29: UserWarning: Matplotlib is currently using agg, which is a non-GUI backend, so cannot show the figure.\n",
      "  plt.show()\n"
     ]
    },
    {
     "name": "stdout",
     "output_type": "stream",
     "text": [
      "D:\\Data\\Diploma\\generated//Validate_2//gt/guilloche-money-pattern-background-monochrome-texture-waves-original-certificate-voucher-banknote-design-82919936.jpg0_1CharMap.png\n",
      "D:\\Data\\Diploma\\generated//Validate_2//gt/guilloche-money-pattern-background-monochrome-texture-waves-original-certificate-voucher-banknote-design-82919936.jpg1_1CharMap.png\n"
     ]
    },
    {
     "name": "stderr",
     "output_type": "stream",
     "text": [
      "<ipython-input-51-38678290ec6b>:150: DeprecationWarning: `np.int` is a deprecated alias for the builtin `int`. To silence this warning, use `int` by itself. Doing this will not modify any behavior and is safe. When replacing `np.int`, you may wish to use e.g. `np.int64` or `np.int32` to specify the precision. If you wish to review your current use, check the release note link for additional information.\n",
      "Deprecated in NumPy 1.20; for more details and guidance: https://numpy.org/devdocs/release/1.20.0-notes.html#deprecations\n",
      "  noise = np.random.normal(0, 32, (H,W, 4)).astype(np.int)\n",
      "<ipython-input-51-38678290ec6b>:151: DeprecationWarning: `np.int` is a deprecated alias for the builtin `int`. To silence this warning, use `int` by itself. Doing this will not modify any behavior and is safe. When replacing `np.int`, you may wish to use e.g. `np.int64` or `np.int32` to specify the precision. If you wish to review your current use, check the release note link for additional information.\n",
      "Deprecated in NumPy 1.20; for more details and guidance: https://numpy.org/devdocs/release/1.20.0-notes.html#deprecations\n",
      "  self.image = self.image.astype(np.int)\n"
     ]
    },
    {
     "name": "stdout",
     "output_type": "stream",
     "text": [
      "D:\\Data\\Diploma\\generated//Validate_2//gt/guilloche-money-pattern-background-monochrome-texture-waves-original-certificate-voucher-banknote-design-82919936.jpg2_1CharMap.png\n",
      "D:\\Data\\Diploma\\generated//Validate_2//gt/guilloche-money-pattern-background-monochrome-texture-waves-original-certificate-voucher-banknote-design-82919936.jpg3_1CharMap.png\n",
      "\n"
     ]
    },
    {
     "data": {
      "application/vnd.jupyter.widget-view+json": {
       "model_id": "1990a909c9a245b28c3b3094c17d7a85",
       "version_major": 2,
       "version_minor": 0
      },
      "text/plain": [
       "HBox(children=(HTML(value=''), FloatProgress(value=0.0, max=4.0), HTML(value='')))"
      ]
     },
     "metadata": {},
     "output_type": "display_data"
    },
    {
     "name": "stdout",
     "output_type": "stream",
     "text": [
      "D:\\Data\\Diploma\\generated//Validate_2//gt/guilloche-money-pattern-background-monochrome-texture-waves-original-certificate-voucher-banknote-design-82919936.jpg0_2CharMap.png\n",
      "D:\\Data\\Diploma\\generated//Validate_2//gt/guilloche-money-pattern-background-monochrome-texture-waves-original-certificate-voucher-banknote-design-82919936.jpg1_2CharMap.png\n"
     ]
    },
    {
     "name": "stderr",
     "output_type": "stream",
     "text": [
      "<ipython-input-50-4a25245fc9cb>:37: DeprecationWarning: `np.float` is a deprecated alias for the builtin `float`. To silence this warning, use `float` by itself. Doing this will not modify any behavior and is safe. If you specifically wanted the numpy scalar type, use `np.float64` here.\n",
      "Deprecated in NumPy 1.20; for more details and guidance: https://numpy.org/devdocs/release/1.20.0-notes.html#deprecations\n",
      "  result = np.zeros((height, width, len(start_list)), dtype=np.float)\n"
     ]
    },
    {
     "name": "stdout",
     "output_type": "stream",
     "text": [
      "D:\\Data\\Diploma\\generated//Validate_2//gt/guilloche-money-pattern-background-monochrome-texture-waves-original-certificate-voucher-banknote-design-82919936.jpg2_2CharMap.png\n",
      "D:\\Data\\Diploma\\generated//Validate_2//gt/guilloche-money-pattern-background-monochrome-texture-waves-original-certificate-voucher-banknote-design-82919936.jpg3_2CharMap.png\n",
      "\n"
     ]
    },
    {
     "data": {
      "application/vnd.jupyter.widget-view+json": {
       "model_id": "82138b10718a4850a488cb9b2264186e",
       "version_major": 2,
       "version_minor": 0
      },
      "text/plain": [
       "HBox(children=(HTML(value=''), FloatProgress(value=0.0, max=4.0), HTML(value='')))"
      ]
     },
     "metadata": {},
     "output_type": "display_data"
    },
    {
     "name": "stdout",
     "output_type": "stream",
     "text": [
      "D:\\Data\\Diploma\\generated//Validate_2//gt/guilloche-money-pattern-background-monochrome-texture-waves-original-certificate-voucher-banknote-design-82919936.jpg0_3CharMap.png\n",
      "D:\\Data\\Diploma\\generated//Validate_2//gt/guilloche-money-pattern-background-monochrome-texture-waves-original-certificate-voucher-banknote-design-82919936.jpg1_3CharMap.png\n",
      "D:\\Data\\Diploma\\generated//Validate_2//gt/guilloche-money-pattern-background-monochrome-texture-waves-original-certificate-voucher-banknote-design-82919936.jpg2_3CharMap.png\n",
      "D:\\Data\\Diploma\\generated//Validate_2//gt/guilloche-money-pattern-background-monochrome-texture-waves-original-certificate-voucher-banknote-design-82919936.jpg3_3CharMap.png\n",
      "\n",
      "\n"
     ]
    },
    {
     "name": "stderr",
     "output_type": "stream",
     "text": [
      "<ipython-input-76-1913dadd0da9>:10: TqdmDeprecationWarning: This function will be removed in tqdm==5.0.0\n",
      "Please use `tqdm.notebook.tqdm` instead of `tqdm.tqdm_notebook`\n",
      "  for j in tn(range(4)):\n"
     ]
    },
    {
     "data": {
      "application/vnd.jupyter.widget-view+json": {
       "model_id": "2dbd2375d822490db9a21e71c40b922a",
       "version_major": 2,
       "version_minor": 0
      },
      "text/plain": [
       "HBox(children=(HTML(value=''), FloatProgress(value=0.0, max=4.0), HTML(value='')))"
      ]
     },
     "metadata": {},
     "output_type": "display_data"
    },
    {
     "name": "stderr",
     "output_type": "stream",
     "text": [
      "<ipython-input-76-1913dadd0da9>:16: TqdmDeprecationWarning: This function will be removed in tqdm==5.0.0\n",
      "Please use `tqdm.notebook.tqdm` instead of `tqdm.tqdm_notebook`\n",
      "  for i in tn(range(4)):\n"
     ]
    },
    {
     "data": {
      "application/vnd.jupyter.widget-view+json": {
       "model_id": "ead1b66f38bf439da66d51ef1061b779",
       "version_major": 2,
       "version_minor": 0
      },
      "text/plain": [
       "HBox(children=(HTML(value=''), FloatProgress(value=0.0, max=4.0), HTML(value='')))"
      ]
     },
     "metadata": {},
     "output_type": "display_data"
    },
    {
     "name": "stderr",
     "output_type": "stream",
     "text": [
      "<ipython-input-51-38678290ec6b>:321: DeprecationWarning: `np.int` is a deprecated alias for the builtin `int`. To silence this warning, use `int` by itself. Doing this will not modify any behavior and is safe. When replacing `np.int`, you may wish to use e.g. `np.int64` or `np.int32` to specify the precision. If you wish to review your current use, check the release note link for additional information.\n",
      "Deprecated in NumPy 1.20; for more details and guidance: https://numpy.org/devdocs/release/1.20.0-notes.html#deprecations\n",
      "  rects = [np.array(wordCharRects, dtype=np.int)[np.newaxis, :, :,:] for wordCharRects in self.annotation[\"wordsCharactersRects\"]]\n",
      "<ipython-input-76-1913dadd0da9>:29: UserWarning: Matplotlib is currently using agg, which is a non-GUI backend, so cannot show the figure.\n",
      "  plt.show()\n"
     ]
    },
    {
     "name": "stdout",
     "output_type": "stream",
     "text": [
      "D:\\Data\\Diploma\\generated//Validate_2//gt/images (1).jpg0_0CharMap.png\n"
     ]
    },
    {
     "name": "stderr",
     "output_type": "stream",
     "text": [
      "<ipython-input-51-38678290ec6b>:163: DeprecationWarning: `np.int` is a deprecated alias for the builtin `int`. To silence this warning, use `int` by itself. Doing this will not modify any behavior and is safe. When replacing `np.int`, you may wish to use e.g. `np.int64` or `np.int32` to specify the precision. If you wish to review your current use, check the release note link for additional information.\n",
      "Deprecated in NumPy 1.20; for more details and guidance: https://numpy.org/devdocs/release/1.20.0-notes.html#deprecations\n",
      "  self.image = self.image.astype(np.int)\n",
      "<ipython-input-51-38678290ec6b>:165: DeprecationWarning: `np.int` is a deprecated alias for the builtin `int`. To silence this warning, use `int` by itself. Doing this will not modify any behavior and is safe. When replacing `np.int`, you may wish to use e.g. `np.int64` or `np.int32` to specify the precision. If you wish to review your current use, check the release note link for additional information.\n",
      "Deprecated in NumPy 1.20; for more details and guidance: https://numpy.org/devdocs/release/1.20.0-notes.html#deprecations\n",
      "  self.image += (noise * self.image).astype(np.int)\n"
     ]
    },
    {
     "name": "stdout",
     "output_type": "stream",
     "text": [
      "D:\\Data\\Diploma\\generated//Validate_2//gt/images (1).jpg1_0CharMap.png\n",
      "D:\\Data\\Diploma\\generated//Validate_2//gt/images (1).jpg2_0CharMap.png\n",
      "D:\\Data\\Diploma\\generated//Validate_2//gt/images (1).jpg3_0CharMap.png\n",
      "\n"
     ]
    },
    {
     "data": {
      "application/vnd.jupyter.widget-view+json": {
       "model_id": "4f97b44fe7a34d1bb241f8592b5f1fd4",
       "version_major": 2,
       "version_minor": 0
      },
      "text/plain": [
       "HBox(children=(HTML(value=''), FloatProgress(value=0.0, max=4.0), HTML(value='')))"
      ]
     },
     "metadata": {},
     "output_type": "display_data"
    },
    {
     "name": "stderr",
     "output_type": "stream",
     "text": [
      "<ipython-input-50-4a25245fc9cb>:37: DeprecationWarning: `np.float` is a deprecated alias for the builtin `float`. To silence this warning, use `float` by itself. Doing this will not modify any behavior and is safe. If you specifically wanted the numpy scalar type, use `np.float64` here.\n",
      "Deprecated in NumPy 1.20; for more details and guidance: https://numpy.org/devdocs/release/1.20.0-notes.html#deprecations\n",
      "  result = np.zeros((height, width, len(start_list)), dtype=np.float)\n"
     ]
    },
    {
     "name": "stdout",
     "output_type": "stream",
     "text": [
      "D:\\Data\\Diploma\\generated//Validate_2//gt/images (1).jpg0_1CharMap.png\n",
      "D:\\Data\\Diploma\\generated//Validate_2//gt/images (1).jpg1_1CharMap.png\n",
      "D:\\Data\\Diploma\\generated//Validate_2//gt/images (1).jpg2_1CharMap.png\n",
      "D:\\Data\\Diploma\\generated//Validate_2//gt/images (1).jpg3_1CharMap.png\n",
      "\n"
     ]
    },
    {
     "name": "stderr",
     "output_type": "stream",
     "text": [
      "<ipython-input-76-1913dadd0da9>:16: TqdmDeprecationWarning: This function will be removed in tqdm==5.0.0\n",
      "Please use `tqdm.notebook.tqdm` instead of `tqdm.tqdm_notebook`\n",
      "  for i in tn(range(4)):\n"
     ]
    },
    {
     "data": {
      "application/vnd.jupyter.widget-view+json": {
       "model_id": "edbf75772ec64116b018048288714e1d",
       "version_major": 2,
       "version_minor": 0
      },
      "text/plain": [
       "HBox(children=(HTML(value=''), FloatProgress(value=0.0, max=4.0), HTML(value='')))"
      ]
     },
     "metadata": {},
     "output_type": "display_data"
    },
    {
     "name": "stderr",
     "output_type": "stream",
     "text": [
      "<ipython-input-51-38678290ec6b>:321: DeprecationWarning: `np.int` is a deprecated alias for the builtin `int`. To silence this warning, use `int` by itself. Doing this will not modify any behavior and is safe. When replacing `np.int`, you may wish to use e.g. `np.int64` or `np.int32` to specify the precision. If you wish to review your current use, check the release note link for additional information.\n",
      "Deprecated in NumPy 1.20; for more details and guidance: https://numpy.org/devdocs/release/1.20.0-notes.html#deprecations\n",
      "  rects = [np.array(wordCharRects, dtype=np.int)[np.newaxis, :, :,:] for wordCharRects in self.annotation[\"wordsCharactersRects\"]]\n",
      "<ipython-input-76-1913dadd0da9>:29: UserWarning: Matplotlib is currently using agg, which is a non-GUI backend, so cannot show the figure.\n",
      "  plt.show()\n"
     ]
    },
    {
     "name": "stdout",
     "output_type": "stream",
     "text": [
      "D:\\Data\\Diploma\\generated//Validate_2//gt/images (1).jpg0_2CharMap.png\n",
      "D:\\Data\\Diploma\\generated//Validate_2//gt/images (1).jpg1_2CharMap.png\n"
     ]
    },
    {
     "name": "stderr",
     "output_type": "stream",
     "text": [
      "<ipython-input-50-4a25245fc9cb>:37: DeprecationWarning: `np.float` is a deprecated alias for the builtin `float`. To silence this warning, use `float` by itself. Doing this will not modify any behavior and is safe. If you specifically wanted the numpy scalar type, use `np.float64` here.\n",
      "Deprecated in NumPy 1.20; for more details and guidance: https://numpy.org/devdocs/release/1.20.0-notes.html#deprecations\n",
      "  result = np.zeros((height, width, len(start_list)), dtype=np.float)\n"
     ]
    },
    {
     "name": "stdout",
     "output_type": "stream",
     "text": [
      "D:\\Data\\Diploma\\generated//Validate_2//gt/images (1).jpg2_2CharMap.png\n",
      "D:\\Data\\Diploma\\generated//Validate_2//gt/images (1).jpg3_2CharMap.png\n",
      "\n"
     ]
    },
    {
     "data": {
      "application/vnd.jupyter.widget-view+json": {
       "model_id": "838f4fbcd6bc4e41a526277cc2d5d75a",
       "version_major": 2,
       "version_minor": 0
      },
      "text/plain": [
       "HBox(children=(HTML(value=''), FloatProgress(value=0.0, max=4.0), HTML(value='')))"
      ]
     },
     "metadata": {},
     "output_type": "display_data"
    },
    {
     "name": "stdout",
     "output_type": "stream",
     "text": [
      "D:\\Data\\Diploma\\generated//Validate_2//gt/images (1).jpg0_3CharMap.png\n",
      "D:\\Data\\Diploma\\generated//Validate_2//gt/images (1).jpg1_3CharMap.png\n",
      "D:\\Data\\Diploma\\generated//Validate_2//gt/images (1).jpg2_3CharMap.png\n",
      "D:\\Data\\Diploma\\generated//Validate_2//gt/images (1).jpg3_3CharMap.png\n",
      "\n",
      "\n"
     ]
    },
    {
     "name": "stderr",
     "output_type": "stream",
     "text": [
      "<ipython-input-76-1913dadd0da9>:10: TqdmDeprecationWarning: This function will be removed in tqdm==5.0.0\n",
      "Please use `tqdm.notebook.tqdm` instead of `tqdm.tqdm_notebook`\n",
      "  for j in tn(range(4)):\n"
     ]
    },
    {
     "data": {
      "application/vnd.jupyter.widget-view+json": {
       "model_id": "f4ff6a7c203e40bfa17b7dbc15ee5636",
       "version_major": 2,
       "version_minor": 0
      },
      "text/plain": [
       "HBox(children=(HTML(value=''), FloatProgress(value=0.0, max=4.0), HTML(value='')))"
      ]
     },
     "metadata": {},
     "output_type": "display_data"
    },
    {
     "data": {
      "application/vnd.jupyter.widget-view+json": {
       "model_id": "dbed2a8d56994b4d96c66dfbc71bc9f2",
       "version_major": 2,
       "version_minor": 0
      },
      "text/plain": [
       "HBox(children=(HTML(value=''), FloatProgress(value=0.0, max=4.0), HTML(value='')))"
      ]
     },
     "metadata": {},
     "output_type": "display_data"
    },
    {
     "name": "stdout",
     "output_type": "stream",
     "text": [
      "D:\\Data\\Diploma\\generated//Validate_2//gt/images.jpg0_0CharMap.png\n",
      "D:\\Data\\Diploma\\generated//Validate_2//gt/images.jpg1_0CharMap.png\n",
      "D:\\Data\\Diploma\\generated//Validate_2//gt/images.jpg2_0CharMap.png\n",
      "D:\\Data\\Diploma\\generated//Validate_2//gt/images.jpg3_0CharMap.png\n",
      "\n"
     ]
    },
    {
     "data": {
      "application/vnd.jupyter.widget-view+json": {
       "model_id": "9835eb42517e46c9b2a627a3e1a218be",
       "version_major": 2,
       "version_minor": 0
      },
      "text/plain": [
       "HBox(children=(HTML(value=''), FloatProgress(value=0.0, max=4.0), HTML(value='')))"
      ]
     },
     "metadata": {},
     "output_type": "display_data"
    },
    {
     "name": "stdout",
     "output_type": "stream",
     "text": [
      "D:\\Data\\Diploma\\generated//Validate_2//gt/images.jpg0_1CharMap.png\n",
      "D:\\Data\\Diploma\\generated//Validate_2//gt/images.jpg1_1CharMap.png\n",
      "D:\\Data\\Diploma\\generated//Validate_2//gt/images.jpg2_1CharMap.png\n",
      "D:\\Data\\Diploma\\generated//Validate_2//gt/images.jpg3_1CharMap.png\n",
      "\n"
     ]
    },
    {
     "data": {
      "application/vnd.jupyter.widget-view+json": {
       "model_id": "d225dc5a06dd41e88bd336907079e13b",
       "version_major": 2,
       "version_minor": 0
      },
      "text/plain": [
       "HBox(children=(HTML(value=''), FloatProgress(value=0.0, max=4.0), HTML(value='')))"
      ]
     },
     "metadata": {},
     "output_type": "display_data"
    },
    {
     "name": "stdout",
     "output_type": "stream",
     "text": [
      "D:\\Data\\Diploma\\generated//Validate_2//gt/images.jpg0_2CharMap.png\n",
      "D:\\Data\\Diploma\\generated//Validate_2//gt/images.jpg1_2CharMap.png\n",
      "D:\\Data\\Diploma\\generated//Validate_2//gt/images.jpg2_2CharMap.png\n",
      "D:\\Data\\Diploma\\generated//Validate_2//gt/images.jpg3_2CharMap.png\n",
      "\n"
     ]
    },
    {
     "data": {
      "application/vnd.jupyter.widget-view+json": {
       "model_id": "7badbaa0a7434b5abcab4f770fe21e69",
       "version_major": 2,
       "version_minor": 0
      },
      "text/plain": [
       "HBox(children=(HTML(value=''), FloatProgress(value=0.0, max=4.0), HTML(value='')))"
      ]
     },
     "metadata": {},
     "output_type": "display_data"
    },
    {
     "name": "stderr",
     "output_type": "stream",
     "text": [
      "<ipython-input-51-38678290ec6b>:150: DeprecationWarning: `np.int` is a deprecated alias for the builtin `int`. To silence this warning, use `int` by itself. Doing this will not modify any behavior and is safe. When replacing `np.int`, you may wish to use e.g. `np.int64` or `np.int32` to specify the precision. If you wish to review your current use, check the release note link for additional information.\n",
      "Deprecated in NumPy 1.20; for more details and guidance: https://numpy.org/devdocs/release/1.20.0-notes.html#deprecations\n",
      "  noise = np.random.normal(0, 32, (H,W, 4)).astype(np.int)\n",
      "<ipython-input-51-38678290ec6b>:151: DeprecationWarning: `np.int` is a deprecated alias for the builtin `int`. To silence this warning, use `int` by itself. Doing this will not modify any behavior and is safe. When replacing `np.int`, you may wish to use e.g. `np.int64` or `np.int32` to specify the precision. If you wish to review your current use, check the release note link for additional information.\n",
      "Deprecated in NumPy 1.20; for more details and guidance: https://numpy.org/devdocs/release/1.20.0-notes.html#deprecations\n",
      "  self.image = self.image.astype(np.int)\n"
     ]
    },
    {
     "name": "stdout",
     "output_type": "stream",
     "text": [
      "D:\\Data\\Diploma\\generated//Validate_2//gt/images.jpg0_3CharMap.png\n",
      "D:\\Data\\Diploma\\generated//Validate_2//gt/images.jpg1_3CharMap.png\n",
      "D:\\Data\\Diploma\\generated//Validate_2//gt/images.jpg2_3CharMap.png\n",
      "D:\\Data\\Diploma\\generated//Validate_2//gt/images.jpg3_3CharMap.png\n",
      "\n",
      "\n"
     ]
    },
    {
     "data": {
      "application/vnd.jupyter.widget-view+json": {
       "model_id": "6657eaaa68984fd89460c5ecc24623a9",
       "version_major": 2,
       "version_minor": 0
      },
      "text/plain": [
       "HBox(children=(HTML(value=''), FloatProgress(value=0.0, max=4.0), HTML(value='')))"
      ]
     },
     "metadata": {},
     "output_type": "display_data"
    },
    {
     "name": "stderr",
     "output_type": "stream",
     "text": [
      "<ipython-input-76-1913dadd0da9>:16: TqdmDeprecationWarning: This function will be removed in tqdm==5.0.0\n",
      "Please use `tqdm.notebook.tqdm` instead of `tqdm.tqdm_notebook`\n",
      "  for i in tn(range(4)):\n"
     ]
    },
    {
     "data": {
      "application/vnd.jupyter.widget-view+json": {
       "model_id": "bc6bedbc53994a409b596315755ea2db",
       "version_major": 2,
       "version_minor": 0
      },
      "text/plain": [
       "HBox(children=(HTML(value=''), FloatProgress(value=0.0, max=4.0), HTML(value='')))"
      ]
     },
     "metadata": {},
     "output_type": "display_data"
    },
    {
     "name": "stderr",
     "output_type": "stream",
     "text": [
      "<ipython-input-51-38678290ec6b>:321: DeprecationWarning: `np.int` is a deprecated alias for the builtin `int`. To silence this warning, use `int` by itself. Doing this will not modify any behavior and is safe. When replacing `np.int`, you may wish to use e.g. `np.int64` or `np.int32` to specify the precision. If you wish to review your current use, check the release note link for additional information.\n",
      "Deprecated in NumPy 1.20; for more details and guidance: https://numpy.org/devdocs/release/1.20.0-notes.html#deprecations\n",
      "  rects = [np.array(wordCharRects, dtype=np.int)[np.newaxis, :, :,:] for wordCharRects in self.annotation[\"wordsCharactersRects\"]]\n",
      "<ipython-input-76-1913dadd0da9>:29: UserWarning: Matplotlib is currently using agg, which is a non-GUI backend, so cannot show the figure.\n",
      "  plt.show()\n"
     ]
    },
    {
     "name": "stdout",
     "output_type": "stream",
     "text": [
      "D:\\Data\\Diploma\\generated//Validate_2//gt/istockphoto-842642764-612x612.jpg0_0CharMap.png\n",
      "D:\\Data\\Diploma\\generated//Validate_2//gt/istockphoto-842642764-612x612.jpg1_0CharMap.png\n"
     ]
    },
    {
     "name": "stderr",
     "output_type": "stream",
     "text": [
      "<ipython-input-51-38678290ec6b>:150: DeprecationWarning: `np.int` is a deprecated alias for the builtin `int`. To silence this warning, use `int` by itself. Doing this will not modify any behavior and is safe. When replacing `np.int`, you may wish to use e.g. `np.int64` or `np.int32` to specify the precision. If you wish to review your current use, check the release note link for additional information.\n",
      "Deprecated in NumPy 1.20; for more details and guidance: https://numpy.org/devdocs/release/1.20.0-notes.html#deprecations\n",
      "  noise = np.random.normal(0, 32, (H,W, 4)).astype(np.int)\n",
      "<ipython-input-51-38678290ec6b>:151: DeprecationWarning: `np.int` is a deprecated alias for the builtin `int`. To silence this warning, use `int` by itself. Doing this will not modify any behavior and is safe. When replacing `np.int`, you may wish to use e.g. `np.int64` or `np.int32` to specify the precision. If you wish to review your current use, check the release note link for additional information.\n",
      "Deprecated in NumPy 1.20; for more details and guidance: https://numpy.org/devdocs/release/1.20.0-notes.html#deprecations\n",
      "  self.image = self.image.astype(np.int)\n"
     ]
    },
    {
     "name": "stdout",
     "output_type": "stream",
     "text": [
      "D:\\Data\\Diploma\\generated//Validate_2//gt/istockphoto-842642764-612x612.jpg2_0CharMap.png\n",
      "D:\\Data\\Diploma\\generated//Validate_2//gt/istockphoto-842642764-612x612.jpg3_0CharMap.png\n",
      "\n"
     ]
    },
    {
     "data": {
      "application/vnd.jupyter.widget-view+json": {
       "model_id": "ec29fa4731f047b587c03dccc8bd63cd",
       "version_major": 2,
       "version_minor": 0
      },
      "text/plain": [
       "HBox(children=(HTML(value=''), FloatProgress(value=0.0, max=4.0), HTML(value='')))"
      ]
     },
     "metadata": {},
     "output_type": "display_data"
    },
    {
     "name": "stdout",
     "output_type": "stream",
     "text": [
      "D:\\Data\\Diploma\\generated//Validate_2//gt/istockphoto-842642764-612x612.jpg0_1CharMap.png\n",
      "D:\\Data\\Diploma\\generated//Validate_2//gt/istockphoto-842642764-612x612.jpg1_1CharMap.png\n"
     ]
    },
    {
     "name": "stderr",
     "output_type": "stream",
     "text": [
      "<ipython-input-51-38678290ec6b>:163: DeprecationWarning: `np.int` is a deprecated alias for the builtin `int`. To silence this warning, use `int` by itself. Doing this will not modify any behavior and is safe. When replacing `np.int`, you may wish to use e.g. `np.int64` or `np.int32` to specify the precision. If you wish to review your current use, check the release note link for additional information.\n",
      "Deprecated in NumPy 1.20; for more details and guidance: https://numpy.org/devdocs/release/1.20.0-notes.html#deprecations\n",
      "  self.image = self.image.astype(np.int)\n",
      "<ipython-input-51-38678290ec6b>:165: DeprecationWarning: `np.int` is a deprecated alias for the builtin `int`. To silence this warning, use `int` by itself. Doing this will not modify any behavior and is safe. When replacing `np.int`, you may wish to use e.g. `np.int64` or `np.int32` to specify the precision. If you wish to review your current use, check the release note link for additional information.\n",
      "Deprecated in NumPy 1.20; for more details and guidance: https://numpy.org/devdocs/release/1.20.0-notes.html#deprecations\n",
      "  self.image += (noise * self.image).astype(np.int)\n"
     ]
    },
    {
     "name": "stdout",
     "output_type": "stream",
     "text": [
      "D:\\Data\\Diploma\\generated//Validate_2//gt/istockphoto-842642764-612x612.jpg2_1CharMap.png\n",
      "D:\\Data\\Diploma\\generated//Validate_2//gt/istockphoto-842642764-612x612.jpg3_1CharMap.png\n",
      "\n"
     ]
    },
    {
     "data": {
      "application/vnd.jupyter.widget-view+json": {
       "model_id": "296af3cf86b0408fac5e808df896fed9",
       "version_major": 2,
       "version_minor": 0
      },
      "text/plain": [
       "HBox(children=(HTML(value=''), FloatProgress(value=0.0, max=4.0), HTML(value='')))"
      ]
     },
     "metadata": {},
     "output_type": "display_data"
    },
    {
     "name": "stderr",
     "output_type": "stream",
     "text": [
      "<ipython-input-50-4a25245fc9cb>:37: DeprecationWarning: `np.float` is a deprecated alias for the builtin `float`. To silence this warning, use `float` by itself. Doing this will not modify any behavior and is safe. If you specifically wanted the numpy scalar type, use `np.float64` here.\n",
      "Deprecated in NumPy 1.20; for more details and guidance: https://numpy.org/devdocs/release/1.20.0-notes.html#deprecations\n",
      "  result = np.zeros((height, width, len(start_list)), dtype=np.float)\n"
     ]
    },
    {
     "name": "stdout",
     "output_type": "stream",
     "text": [
      "D:\\Data\\Diploma\\generated//Validate_2//gt/istockphoto-842642764-612x612.jpg0_2CharMap.png\n",
      "D:\\Data\\Diploma\\generated//Validate_2//gt/istockphoto-842642764-612x612.jpg1_2CharMap.png\n",
      "D:\\Data\\Diploma\\generated//Validate_2//gt/istockphoto-842642764-612x612.jpg2_2CharMap.png\n",
      "D:\\Data\\Diploma\\generated//Validate_2//gt/istockphoto-842642764-612x612.jpg3_2CharMap.png\n",
      "\n"
     ]
    },
    {
     "name": "stderr",
     "output_type": "stream",
     "text": [
      "<ipython-input-76-1913dadd0da9>:16: TqdmDeprecationWarning: This function will be removed in tqdm==5.0.0\n",
      "Please use `tqdm.notebook.tqdm` instead of `tqdm.tqdm_notebook`\n",
      "  for i in tn(range(4)):\n"
     ]
    },
    {
     "data": {
      "application/vnd.jupyter.widget-view+json": {
       "model_id": "b36d7072412e43d9bc86c42016f9e035",
       "version_major": 2,
       "version_minor": 0
      },
      "text/plain": [
       "HBox(children=(HTML(value=''), FloatProgress(value=0.0, max=4.0), HTML(value='')))"
      ]
     },
     "metadata": {},
     "output_type": "display_data"
    },
    {
     "name": "stderr",
     "output_type": "stream",
     "text": [
      "<ipython-input-51-38678290ec6b>:150: DeprecationWarning: `np.int` is a deprecated alias for the builtin `int`. To silence this warning, use `int` by itself. Doing this will not modify any behavior and is safe. When replacing `np.int`, you may wish to use e.g. `np.int64` or `np.int32` to specify the precision. If you wish to review your current use, check the release note link for additional information.\n",
      "Deprecated in NumPy 1.20; for more details and guidance: https://numpy.org/devdocs/release/1.20.0-notes.html#deprecations\n",
      "  noise = np.random.normal(0, 32, (H,W, 4)).astype(np.int)\n",
      "<ipython-input-51-38678290ec6b>:151: DeprecationWarning: `np.int` is a deprecated alias for the builtin `int`. To silence this warning, use `int` by itself. Doing this will not modify any behavior and is safe. When replacing `np.int`, you may wish to use e.g. `np.int64` or `np.int32` to specify the precision. If you wish to review your current use, check the release note link for additional information.\n",
      "Deprecated in NumPy 1.20; for more details and guidance: https://numpy.org/devdocs/release/1.20.0-notes.html#deprecations\n",
      "  self.image = self.image.astype(np.int)\n",
      "<ipython-input-51-38678290ec6b>:321: DeprecationWarning: `np.int` is a deprecated alias for the builtin `int`. To silence this warning, use `int` by itself. Doing this will not modify any behavior and is safe. When replacing `np.int`, you may wish to use e.g. `np.int64` or `np.int32` to specify the precision. If you wish to review your current use, check the release note link for additional information.\n",
      "Deprecated in NumPy 1.20; for more details and guidance: https://numpy.org/devdocs/release/1.20.0-notes.html#deprecations\n",
      "  rects = [np.array(wordCharRects, dtype=np.int)[np.newaxis, :, :,:] for wordCharRects in self.annotation[\"wordsCharactersRects\"]]\n",
      "<ipython-input-76-1913dadd0da9>:29: UserWarning: Matplotlib is currently using agg, which is a non-GUI backend, so cannot show the figure.\n",
      "  plt.show()\n"
     ]
    },
    {
     "name": "stdout",
     "output_type": "stream",
     "text": [
      "D:\\Data\\Diploma\\generated//Validate_2//gt/istockphoto-842642764-612x612.jpg0_3CharMap.png\n",
      "D:\\Data\\Diploma\\generated//Validate_2//gt/istockphoto-842642764-612x612.jpg1_3CharMap.png\n",
      "D:\\Data\\Diploma\\generated//Validate_2//gt/istockphoto-842642764-612x612.jpg2_3CharMap.png\n"
     ]
    },
    {
     "name": "stderr",
     "output_type": "stream",
     "text": [
      "<ipython-input-50-4a25245fc9cb>:37: DeprecationWarning: `np.float` is a deprecated alias for the builtin `float`. To silence this warning, use `float` by itself. Doing this will not modify any behavior and is safe. If you specifically wanted the numpy scalar type, use `np.float64` here.\n",
      "Deprecated in NumPy 1.20; for more details and guidance: https://numpy.org/devdocs/release/1.20.0-notes.html#deprecations\n",
      "  result = np.zeros((height, width, len(start_list)), dtype=np.float)\n"
     ]
    },
    {
     "name": "stdout",
     "output_type": "stream",
     "text": [
      "D:\\Data\\Diploma\\generated//Validate_2//gt/istockphoto-842642764-612x612.jpg3_3CharMap.png\n",
      "\n",
      "\n"
     ]
    },
    {
     "name": "stderr",
     "output_type": "stream",
     "text": [
      "<ipython-input-76-1913dadd0da9>:10: TqdmDeprecationWarning: This function will be removed in tqdm==5.0.0\n",
      "Please use `tqdm.notebook.tqdm` instead of `tqdm.tqdm_notebook`\n",
      "  for j in tn(range(4)):\n"
     ]
    },
    {
     "data": {
      "application/vnd.jupyter.widget-view+json": {
       "model_id": "02e22544685542f7ad0432778d29c39b",
       "version_major": 2,
       "version_minor": 0
      },
      "text/plain": [
       "HBox(children=(HTML(value=''), FloatProgress(value=0.0, max=4.0), HTML(value='')))"
      ]
     },
     "metadata": {},
     "output_type": "display_data"
    },
    {
     "name": "stderr",
     "output_type": "stream",
     "text": [
      "<ipython-input-76-1913dadd0da9>:16: TqdmDeprecationWarning: This function will be removed in tqdm==5.0.0\n",
      "Please use `tqdm.notebook.tqdm` instead of `tqdm.tqdm_notebook`\n",
      "  for i in tn(range(4)):\n"
     ]
    },
    {
     "data": {
      "application/vnd.jupyter.widget-view+json": {
       "model_id": "7524c66d69114ac98a4f955202a6305e",
       "version_major": 2,
       "version_minor": 0
      },
      "text/plain": [
       "HBox(children=(HTML(value=''), FloatProgress(value=0.0, max=4.0), HTML(value='')))"
      ]
     },
     "metadata": {},
     "output_type": "display_data"
    },
    {
     "name": "stderr",
     "output_type": "stream",
     "text": [
      "<ipython-input-51-38678290ec6b>:321: DeprecationWarning: `np.int` is a deprecated alias for the builtin `int`. To silence this warning, use `int` by itself. Doing this will not modify any behavior and is safe. When replacing `np.int`, you may wish to use e.g. `np.int64` or `np.int32` to specify the precision. If you wish to review your current use, check the release note link for additional information.\n",
      "Deprecated in NumPy 1.20; for more details and guidance: https://numpy.org/devdocs/release/1.20.0-notes.html#deprecations\n",
      "  rects = [np.array(wordCharRects, dtype=np.int)[np.newaxis, :, :,:] for wordCharRects in self.annotation[\"wordsCharactersRects\"]]\n",
      "<ipython-input-76-1913dadd0da9>:29: UserWarning: Matplotlib is currently using agg, which is a non-GUI backend, so cannot show the figure.\n",
      "  plt.show()\n"
     ]
    },
    {
     "name": "stdout",
     "output_type": "stream",
     "text": [
      "D:\\Data\\Diploma\\generated//Validate_2//gt/old-vintage-scrapped-paper-background-21338644.jpg0_0CharMap.png\n"
     ]
    },
    {
     "name": "stderr",
     "output_type": "stream",
     "text": [
      "<ipython-input-51-38678290ec6b>:163: DeprecationWarning: `np.int` is a deprecated alias for the builtin `int`. To silence this warning, use `int` by itself. Doing this will not modify any behavior and is safe. When replacing `np.int`, you may wish to use e.g. `np.int64` or `np.int32` to specify the precision. If you wish to review your current use, check the release note link for additional information.\n",
      "Deprecated in NumPy 1.20; for more details and guidance: https://numpy.org/devdocs/release/1.20.0-notes.html#deprecations\n",
      "  self.image = self.image.astype(np.int)\n",
      "<ipython-input-51-38678290ec6b>:165: DeprecationWarning: `np.int` is a deprecated alias for the builtin `int`. To silence this warning, use `int` by itself. Doing this will not modify any behavior and is safe. When replacing `np.int`, you may wish to use e.g. `np.int64` or `np.int32` to specify the precision. If you wish to review your current use, check the release note link for additional information.\n",
      "Deprecated in NumPy 1.20; for more details and guidance: https://numpy.org/devdocs/release/1.20.0-notes.html#deprecations\n",
      "  self.image += (noise * self.image).astype(np.int)\n"
     ]
    },
    {
     "name": "stdout",
     "output_type": "stream",
     "text": [
      "D:\\Data\\Diploma\\generated//Validate_2//gt/old-vintage-scrapped-paper-background-21338644.jpg1_0CharMap.png\n",
      "D:\\Data\\Diploma\\generated//Validate_2//gt/old-vintage-scrapped-paper-background-21338644.jpg2_0CharMap.png\n",
      "D:\\Data\\Diploma\\generated//Validate_2//gt/old-vintage-scrapped-paper-background-21338644.jpg3_0CharMap.png\n",
      "\n"
     ]
    },
    {
     "name": "stderr",
     "output_type": "stream",
     "text": [
      "<ipython-input-76-1913dadd0da9>:16: TqdmDeprecationWarning: This function will be removed in tqdm==5.0.0\n",
      "Please use `tqdm.notebook.tqdm` instead of `tqdm.tqdm_notebook`\n",
      "  for i in tn(range(4)):\n"
     ]
    },
    {
     "data": {
      "application/vnd.jupyter.widget-view+json": {
       "model_id": "98565a8f8bad48ddb3d095a77ccbe2fa",
       "version_major": 2,
       "version_minor": 0
      },
      "text/plain": [
       "HBox(children=(HTML(value=''), FloatProgress(value=0.0, max=4.0), HTML(value='')))"
      ]
     },
     "metadata": {},
     "output_type": "display_data"
    },
    {
     "name": "stderr",
     "output_type": "stream",
     "text": [
      "<ipython-input-51-38678290ec6b>:321: DeprecationWarning: `np.int` is a deprecated alias for the builtin `int`. To silence this warning, use `int` by itself. Doing this will not modify any behavior and is safe. When replacing `np.int`, you may wish to use e.g. `np.int64` or `np.int32` to specify the precision. If you wish to review your current use, check the release note link for additional information.\n",
      "Deprecated in NumPy 1.20; for more details and guidance: https://numpy.org/devdocs/release/1.20.0-notes.html#deprecations\n",
      "  rects = [np.array(wordCharRects, dtype=np.int)[np.newaxis, :, :,:] for wordCharRects in self.annotation[\"wordsCharactersRects\"]]\n",
      "<ipython-input-76-1913dadd0da9>:29: UserWarning: Matplotlib is currently using agg, which is a non-GUI backend, so cannot show the figure.\n",
      "  plt.show()\n"
     ]
    },
    {
     "name": "stdout",
     "output_type": "stream",
     "text": [
      "D:\\Data\\Diploma\\generated//Validate_2//gt/old-vintage-scrapped-paper-background-21338644.jpg0_1CharMap.png\n"
     ]
    },
    {
     "name": "stderr",
     "output_type": "stream",
     "text": [
      "<ipython-input-51-38678290ec6b>:150: DeprecationWarning: `np.int` is a deprecated alias for the builtin `int`. To silence this warning, use `int` by itself. Doing this will not modify any behavior and is safe. When replacing `np.int`, you may wish to use e.g. `np.int64` or `np.int32` to specify the precision. If you wish to review your current use, check the release note link for additional information.\n",
      "Deprecated in NumPy 1.20; for more details and guidance: https://numpy.org/devdocs/release/1.20.0-notes.html#deprecations\n",
      "  noise = np.random.normal(0, 32, (H,W, 4)).astype(np.int)\n",
      "<ipython-input-51-38678290ec6b>:151: DeprecationWarning: `np.int` is a deprecated alias for the builtin `int`. To silence this warning, use `int` by itself. Doing this will not modify any behavior and is safe. When replacing `np.int`, you may wish to use e.g. `np.int64` or `np.int32` to specify the precision. If you wish to review your current use, check the release note link for additional information.\n",
      "Deprecated in NumPy 1.20; for more details and guidance: https://numpy.org/devdocs/release/1.20.0-notes.html#deprecations\n",
      "  self.image = self.image.astype(np.int)\n"
     ]
    },
    {
     "name": "stdout",
     "output_type": "stream",
     "text": [
      "D:\\Data\\Diploma\\generated//Validate_2//gt/old-vintage-scrapped-paper-background-21338644.jpg1_1CharMap.png\n",
      "D:\\Data\\Diploma\\generated//Validate_2//gt/old-vintage-scrapped-paper-background-21338644.jpg2_1CharMap.png\n",
      "D:\\Data\\Diploma\\generated//Validate_2//gt/old-vintage-scrapped-paper-background-21338644.jpg3_1CharMap.png\n",
      "\n"
     ]
    },
    {
     "name": "stderr",
     "output_type": "stream",
     "text": [
      "<ipython-input-76-1913dadd0da9>:16: TqdmDeprecationWarning: This function will be removed in tqdm==5.0.0\n",
      "Please use `tqdm.notebook.tqdm` instead of `tqdm.tqdm_notebook`\n",
      "  for i in tn(range(4)):\n"
     ]
    },
    {
     "data": {
      "application/vnd.jupyter.widget-view+json": {
       "model_id": "c21f79ce986c45dbbfa9bbd46bb8e742",
       "version_major": 2,
       "version_minor": 0
      },
      "text/plain": [
       "HBox(children=(HTML(value=''), FloatProgress(value=0.0, max=4.0), HTML(value='')))"
      ]
     },
     "metadata": {},
     "output_type": "display_data"
    },
    {
     "name": "stderr",
     "output_type": "stream",
     "text": [
      "<ipython-input-51-38678290ec6b>:321: DeprecationWarning: `np.int` is a deprecated alias for the builtin `int`. To silence this warning, use `int` by itself. Doing this will not modify any behavior and is safe. When replacing `np.int`, you may wish to use e.g. `np.int64` or `np.int32` to specify the precision. If you wish to review your current use, check the release note link for additional information.\n",
      "Deprecated in NumPy 1.20; for more details and guidance: https://numpy.org/devdocs/release/1.20.0-notes.html#deprecations\n",
      "  rects = [np.array(wordCharRects, dtype=np.int)[np.newaxis, :, :,:] for wordCharRects in self.annotation[\"wordsCharactersRects\"]]\n",
      "<ipython-input-76-1913dadd0da9>:29: UserWarning: Matplotlib is currently using agg, which is a non-GUI backend, so cannot show the figure.\n",
      "  plt.show()\n"
     ]
    },
    {
     "name": "stdout",
     "output_type": "stream",
     "text": [
      "D:\\Data\\Diploma\\generated//Validate_2//gt/old-vintage-scrapped-paper-background-21338644.jpg0_2CharMap.png\n",
      "D:\\Data\\Diploma\\generated//Validate_2//gt/old-vintage-scrapped-paper-background-21338644.jpg1_2CharMap.png\n",
      "D:\\Data\\Diploma\\generated//Validate_2//gt/old-vintage-scrapped-paper-background-21338644.jpg2_2CharMap.png\n",
      "D:\\Data\\Diploma\\generated//Validate_2//gt/old-vintage-scrapped-paper-background-21338644.jpg3_2CharMap.png\n",
      "\n"
     ]
    },
    {
     "data": {
      "application/vnd.jupyter.widget-view+json": {
       "model_id": "b740db26b5ce424884a7476e52ab7ee2",
       "version_major": 2,
       "version_minor": 0
      },
      "text/plain": [
       "HBox(children=(HTML(value=''), FloatProgress(value=0.0, max=4.0), HTML(value='')))"
      ]
     },
     "metadata": {},
     "output_type": "display_data"
    },
    {
     "name": "stdout",
     "output_type": "stream",
     "text": [
      "D:\\Data\\Diploma\\generated//Validate_2//gt/old-vintage-scrapped-paper-background-21338644.jpg0_3CharMap.png\n"
     ]
    },
    {
     "name": "stderr",
     "output_type": "stream",
     "text": [
      "<ipython-input-51-38678290ec6b>:150: DeprecationWarning: `np.int` is a deprecated alias for the builtin `int`. To silence this warning, use `int` by itself. Doing this will not modify any behavior and is safe. When replacing `np.int`, you may wish to use e.g. `np.int64` or `np.int32` to specify the precision. If you wish to review your current use, check the release note link for additional information.\n",
      "Deprecated in NumPy 1.20; for more details and guidance: https://numpy.org/devdocs/release/1.20.0-notes.html#deprecations\n",
      "  noise = np.random.normal(0, 32, (H,W, 4)).astype(np.int)\n",
      "<ipython-input-51-38678290ec6b>:151: DeprecationWarning: `np.int` is a deprecated alias for the builtin `int`. To silence this warning, use `int` by itself. Doing this will not modify any behavior and is safe. When replacing `np.int`, you may wish to use e.g. `np.int64` or `np.int32` to specify the precision. If you wish to review your current use, check the release note link for additional information.\n",
      "Deprecated in NumPy 1.20; for more details and guidance: https://numpy.org/devdocs/release/1.20.0-notes.html#deprecations\n",
      "  self.image = self.image.astype(np.int)\n"
     ]
    },
    {
     "name": "stdout",
     "output_type": "stream",
     "text": [
      "D:\\Data\\Diploma\\generated//Validate_2//gt/old-vintage-scrapped-paper-background-21338644.jpg1_3CharMap.png\n",
      "D:\\Data\\Diploma\\generated//Validate_2//gt/old-vintage-scrapped-paper-background-21338644.jpg2_3CharMap.png\n",
      "D:\\Data\\Diploma\\generated//Validate_2//gt/old-vintage-scrapped-paper-background-21338644.jpg3_3CharMap.png\n",
      "\n",
      "\n"
     ]
    },
    {
     "name": "stderr",
     "output_type": "stream",
     "text": [
      "<ipython-input-76-1913dadd0da9>:10: TqdmDeprecationWarning: This function will be removed in tqdm==5.0.0\n",
      "Please use `tqdm.notebook.tqdm` instead of `tqdm.tqdm_notebook`\n",
      "  for j in tn(range(4)):\n"
     ]
    },
    {
     "data": {
      "application/vnd.jupyter.widget-view+json": {
       "model_id": "2431f22d07a0497c83f7bcdba0a69e4b",
       "version_major": 2,
       "version_minor": 0
      },
      "text/plain": [
       "HBox(children=(HTML(value=''), FloatProgress(value=0.0, max=4.0), HTML(value='')))"
      ]
     },
     "metadata": {},
     "output_type": "display_data"
    },
    {
     "data": {
      "application/vnd.jupyter.widget-view+json": {
       "model_id": "763ef4c2f76d4a37bcbbde5d3ee8e066",
       "version_major": 2,
       "version_minor": 0
      },
      "text/plain": [
       "HBox(children=(HTML(value=''), FloatProgress(value=0.0, max=4.0), HTML(value='')))"
      ]
     },
     "metadata": {},
     "output_type": "display_data"
    },
    {
     "name": "stdout",
     "output_type": "stream",
     "text": [
      "D:\\Data\\Diploma\\generated//Validate_2//gt/old-vintage-scrapped-paper-background-21343914.jpg0_0CharMap.png\n"
     ]
    },
    {
     "name": "stderr",
     "output_type": "stream",
     "text": [
      "<ipython-input-50-4a25245fc9cb>:37: DeprecationWarning: `np.float` is a deprecated alias for the builtin `float`. To silence this warning, use `float` by itself. Doing this will not modify any behavior and is safe. If you specifically wanted the numpy scalar type, use `np.float64` here.\n",
      "Deprecated in NumPy 1.20; for more details and guidance: https://numpy.org/devdocs/release/1.20.0-notes.html#deprecations\n",
      "  result = np.zeros((height, width, len(start_list)), dtype=np.float)\n"
     ]
    },
    {
     "name": "stdout",
     "output_type": "stream",
     "text": [
      "D:\\Data\\Diploma\\generated//Validate_2//gt/old-vintage-scrapped-paper-background-21343914.jpg1_0CharMap.png\n",
      "D:\\Data\\Diploma\\generated//Validate_2//gt/old-vintage-scrapped-paper-background-21343914.jpg2_0CharMap.png\n",
      "D:\\Data\\Diploma\\generated//Validate_2//gt/old-vintage-scrapped-paper-background-21343914.jpg3_0CharMap.png\n",
      "\n"
     ]
    },
    {
     "name": "stderr",
     "output_type": "stream",
     "text": [
      "<ipython-input-76-1913dadd0da9>:16: TqdmDeprecationWarning: This function will be removed in tqdm==5.0.0\n",
      "Please use `tqdm.notebook.tqdm` instead of `tqdm.tqdm_notebook`\n",
      "  for i in tn(range(4)):\n"
     ]
    },
    {
     "data": {
      "application/vnd.jupyter.widget-view+json": {
       "model_id": "6d08e0daefcc4250aedfbe774e4bd444",
       "version_major": 2,
       "version_minor": 0
      },
      "text/plain": [
       "HBox(children=(HTML(value=''), FloatProgress(value=0.0, max=4.0), HTML(value='')))"
      ]
     },
     "metadata": {},
     "output_type": "display_data"
    },
    {
     "name": "stderr",
     "output_type": "stream",
     "text": [
      "<ipython-input-51-38678290ec6b>:321: DeprecationWarning: `np.int` is a deprecated alias for the builtin `int`. To silence this warning, use `int` by itself. Doing this will not modify any behavior and is safe. When replacing `np.int`, you may wish to use e.g. `np.int64` or `np.int32` to specify the precision. If you wish to review your current use, check the release note link for additional information.\n",
      "Deprecated in NumPy 1.20; for more details and guidance: https://numpy.org/devdocs/release/1.20.0-notes.html#deprecations\n",
      "  rects = [np.array(wordCharRects, dtype=np.int)[np.newaxis, :, :,:] for wordCharRects in self.annotation[\"wordsCharactersRects\"]]\n",
      "<ipython-input-76-1913dadd0da9>:29: UserWarning: Matplotlib is currently using agg, which is a non-GUI backend, so cannot show the figure.\n",
      "  plt.show()\n"
     ]
    },
    {
     "name": "stdout",
     "output_type": "stream",
     "text": [
      "D:\\Data\\Diploma\\generated//Validate_2//gt/old-vintage-scrapped-paper-background-21343914.jpg0_1CharMap.png\n"
     ]
    },
    {
     "name": "stderr",
     "output_type": "stream",
     "text": [
      "<ipython-input-50-4a25245fc9cb>:37: DeprecationWarning: `np.float` is a deprecated alias for the builtin `float`. To silence this warning, use `float` by itself. Doing this will not modify any behavior and is safe. If you specifically wanted the numpy scalar type, use `np.float64` here.\n",
      "Deprecated in NumPy 1.20; for more details and guidance: https://numpy.org/devdocs/release/1.20.0-notes.html#deprecations\n",
      "  result = np.zeros((height, width, len(start_list)), dtype=np.float)\n"
     ]
    },
    {
     "name": "stdout",
     "output_type": "stream",
     "text": [
      "D:\\Data\\Diploma\\generated//Validate_2//gt/old-vintage-scrapped-paper-background-21343914.jpg1_1CharMap.png\n",
      "D:\\Data\\Diploma\\generated//Validate_2//gt/old-vintage-scrapped-paper-background-21343914.jpg2_1CharMap.png\n",
      "D:\\Data\\Diploma\\generated//Validate_2//gt/old-vintage-scrapped-paper-background-21343914.jpg3_1CharMap.png\n",
      "\n"
     ]
    },
    {
     "name": "stderr",
     "output_type": "stream",
     "text": [
      "<ipython-input-76-1913dadd0da9>:16: TqdmDeprecationWarning: This function will be removed in tqdm==5.0.0\n",
      "Please use `tqdm.notebook.tqdm` instead of `tqdm.tqdm_notebook`\n",
      "  for i in tn(range(4)):\n"
     ]
    },
    {
     "data": {
      "application/vnd.jupyter.widget-view+json": {
       "model_id": "61f18c66e16c439882d5aee729c2466d",
       "version_major": 2,
       "version_minor": 0
      },
      "text/plain": [
       "HBox(children=(HTML(value=''), FloatProgress(value=0.0, max=4.0), HTML(value='')))"
      ]
     },
     "metadata": {},
     "output_type": "display_data"
    },
    {
     "name": "stderr",
     "output_type": "stream",
     "text": [
      "<ipython-input-51-38678290ec6b>:321: DeprecationWarning: `np.int` is a deprecated alias for the builtin `int`. To silence this warning, use `int` by itself. Doing this will not modify any behavior and is safe. When replacing `np.int`, you may wish to use e.g. `np.int64` or `np.int32` to specify the precision. If you wish to review your current use, check the release note link for additional information.\n",
      "Deprecated in NumPy 1.20; for more details and guidance: https://numpy.org/devdocs/release/1.20.0-notes.html#deprecations\n",
      "  rects = [np.array(wordCharRects, dtype=np.int)[np.newaxis, :, :,:] for wordCharRects in self.annotation[\"wordsCharactersRects\"]]\n",
      "<ipython-input-76-1913dadd0da9>:29: UserWarning: Matplotlib is currently using agg, which is a non-GUI backend, so cannot show the figure.\n",
      "  plt.show()\n"
     ]
    },
    {
     "name": "stdout",
     "output_type": "stream",
     "text": [
      "D:\\Data\\Diploma\\generated//Validate_2//gt/old-vintage-scrapped-paper-background-21343914.jpg0_2CharMap.png\n"
     ]
    },
    {
     "name": "stderr",
     "output_type": "stream",
     "text": [
      "<ipython-input-51-38678290ec6b>:150: DeprecationWarning: `np.int` is a deprecated alias for the builtin `int`. To silence this warning, use `int` by itself. Doing this will not modify any behavior and is safe. When replacing `np.int`, you may wish to use e.g. `np.int64` or `np.int32` to specify the precision. If you wish to review your current use, check the release note link for additional information.\n",
      "Deprecated in NumPy 1.20; for more details and guidance: https://numpy.org/devdocs/release/1.20.0-notes.html#deprecations\n",
      "  noise = np.random.normal(0, 32, (H,W, 4)).astype(np.int)\n",
      "<ipython-input-51-38678290ec6b>:151: DeprecationWarning: `np.int` is a deprecated alias for the builtin `int`. To silence this warning, use `int` by itself. Doing this will not modify any behavior and is safe. When replacing `np.int`, you may wish to use e.g. `np.int64` or `np.int32` to specify the precision. If you wish to review your current use, check the release note link for additional information.\n",
      "Deprecated in NumPy 1.20; for more details and guidance: https://numpy.org/devdocs/release/1.20.0-notes.html#deprecations\n",
      "  self.image = self.image.astype(np.int)\n"
     ]
    },
    {
     "name": "stdout",
     "output_type": "stream",
     "text": [
      "D:\\Data\\Diploma\\generated//Validate_2//gt/old-vintage-scrapped-paper-background-21343914.jpg1_2CharMap.png\n",
      "D:\\Data\\Diploma\\generated//Validate_2//gt/old-vintage-scrapped-paper-background-21343914.jpg2_2CharMap.png\n"
     ]
    },
    {
     "name": "stderr",
     "output_type": "stream",
     "text": [
      "<ipython-input-51-38678290ec6b>:163: DeprecationWarning: `np.int` is a deprecated alias for the builtin `int`. To silence this warning, use `int` by itself. Doing this will not modify any behavior and is safe. When replacing `np.int`, you may wish to use e.g. `np.int64` or `np.int32` to specify the precision. If you wish to review your current use, check the release note link for additional information.\n",
      "Deprecated in NumPy 1.20; for more details and guidance: https://numpy.org/devdocs/release/1.20.0-notes.html#deprecations\n",
      "  self.image = self.image.astype(np.int)\n",
      "<ipython-input-51-38678290ec6b>:165: DeprecationWarning: `np.int` is a deprecated alias for the builtin `int`. To silence this warning, use `int` by itself. Doing this will not modify any behavior and is safe. When replacing `np.int`, you may wish to use e.g. `np.int64` or `np.int32` to specify the precision. If you wish to review your current use, check the release note link for additional information.\n",
      "Deprecated in NumPy 1.20; for more details and guidance: https://numpy.org/devdocs/release/1.20.0-notes.html#deprecations\n",
      "  self.image += (noise * self.image).astype(np.int)\n"
     ]
    },
    {
     "name": "stdout",
     "output_type": "stream",
     "text": [
      "D:\\Data\\Diploma\\generated//Validate_2//gt/old-vintage-scrapped-paper-background-21343914.jpg3_2CharMap.png\n",
      "\n"
     ]
    },
    {
     "name": "stderr",
     "output_type": "stream",
     "text": [
      "<ipython-input-76-1913dadd0da9>:16: TqdmDeprecationWarning: This function will be removed in tqdm==5.0.0\n",
      "Please use `tqdm.notebook.tqdm` instead of `tqdm.tqdm_notebook`\n",
      "  for i in tn(range(4)):\n"
     ]
    },
    {
     "data": {
      "application/vnd.jupyter.widget-view+json": {
       "model_id": "ece51c9769d94c98a0d446153f093b1e",
       "version_major": 2,
       "version_minor": 0
      },
      "text/plain": [
       "HBox(children=(HTML(value=''), FloatProgress(value=0.0, max=4.0), HTML(value='')))"
      ]
     },
     "metadata": {},
     "output_type": "display_data"
    },
    {
     "name": "stderr",
     "output_type": "stream",
     "text": [
      "<ipython-input-51-38678290ec6b>:321: DeprecationWarning: `np.int` is a deprecated alias for the builtin `int`. To silence this warning, use `int` by itself. Doing this will not modify any behavior and is safe. When replacing `np.int`, you may wish to use e.g. `np.int64` or `np.int32` to specify the precision. If you wish to review your current use, check the release note link for additional information.\n",
      "Deprecated in NumPy 1.20; for more details and guidance: https://numpy.org/devdocs/release/1.20.0-notes.html#deprecations\n",
      "  rects = [np.array(wordCharRects, dtype=np.int)[np.newaxis, :, :,:] for wordCharRects in self.annotation[\"wordsCharactersRects\"]]\n",
      "<ipython-input-76-1913dadd0da9>:29: UserWarning: Matplotlib is currently using agg, which is a non-GUI backend, so cannot show the figure.\n",
      "  plt.show()\n"
     ]
    },
    {
     "name": "stdout",
     "output_type": "stream",
     "text": [
      "D:\\Data\\Diploma\\generated//Validate_2//gt/old-vintage-scrapped-paper-background-21343914.jpg0_3CharMap.png\n",
      "D:\\Data\\Diploma\\generated//Validate_2//gt/old-vintage-scrapped-paper-background-21343914.jpg1_3CharMap.png\n",
      "D:\\Data\\Diploma\\generated//Validate_2//gt/old-vintage-scrapped-paper-background-21343914.jpg2_3CharMap.png\n",
      "D:\\Data\\Diploma\\generated//Validate_2//gt/old-vintage-scrapped-paper-background-21343914.jpg3_3CharMap.png\n",
      "\n",
      "\n"
     ]
    },
    {
     "name": "stderr",
     "output_type": "stream",
     "text": [
      "<ipython-input-76-1913dadd0da9>:10: TqdmDeprecationWarning: This function will be removed in tqdm==5.0.0\n",
      "Please use `tqdm.notebook.tqdm` instead of `tqdm.tqdm_notebook`\n",
      "  for j in tn(range(4)):\n"
     ]
    },
    {
     "data": {
      "application/vnd.jupyter.widget-view+json": {
       "model_id": "fa156976c7ff4fdd9f7d50656b04ca22",
       "version_major": 2,
       "version_minor": 0
      },
      "text/plain": [
       "HBox(children=(HTML(value=''), FloatProgress(value=0.0, max=4.0), HTML(value='')))"
      ]
     },
     "metadata": {},
     "output_type": "display_data"
    },
    {
     "name": "stderr",
     "output_type": "stream",
     "text": [
      "<ipython-input-76-1913dadd0da9>:16: TqdmDeprecationWarning: This function will be removed in tqdm==5.0.0\n",
      "Please use `tqdm.notebook.tqdm` instead of `tqdm.tqdm_notebook`\n",
      "  for i in tn(range(4)):\n"
     ]
    },
    {
     "data": {
      "application/vnd.jupyter.widget-view+json": {
       "model_id": "5c0ea5684a9a491f8fbb80ac60f70137",
       "version_major": 2,
       "version_minor": 0
      },
      "text/plain": [
       "HBox(children=(HTML(value=''), FloatProgress(value=0.0, max=4.0), HTML(value='')))"
      ]
     },
     "metadata": {},
     "output_type": "display_data"
    },
    {
     "name": "stderr",
     "output_type": "stream",
     "text": [
      "<ipython-input-51-38678290ec6b>:321: DeprecationWarning: `np.int` is a deprecated alias for the builtin `int`. To silence this warning, use `int` by itself. Doing this will not modify any behavior and is safe. When replacing `np.int`, you may wish to use e.g. `np.int64` or `np.int32` to specify the precision. If you wish to review your current use, check the release note link for additional information.\n",
      "Deprecated in NumPy 1.20; for more details and guidance: https://numpy.org/devdocs/release/1.20.0-notes.html#deprecations\n",
      "  rects = [np.array(wordCharRects, dtype=np.int)[np.newaxis, :, :,:] for wordCharRects in self.annotation[\"wordsCharactersRects\"]]\n",
      "<ipython-input-76-1913dadd0da9>:29: UserWarning: Matplotlib is currently using agg, which is a non-GUI backend, so cannot show the figure.\n",
      "  plt.show()\n"
     ]
    },
    {
     "name": "stdout",
     "output_type": "stream",
     "text": [
      "D:\\Data\\Diploma\\generated//Validate_2//gt/Papier-zabezpieczony_1-1.jpg0_0CharMap.png\n"
     ]
    },
    {
     "name": "stderr",
     "output_type": "stream",
     "text": [
      "<ipython-input-51-38678290ec6b>:163: DeprecationWarning: `np.int` is a deprecated alias for the builtin `int`. To silence this warning, use `int` by itself. Doing this will not modify any behavior and is safe. When replacing `np.int`, you may wish to use e.g. `np.int64` or `np.int32` to specify the precision. If you wish to review your current use, check the release note link for additional information.\n",
      "Deprecated in NumPy 1.20; for more details and guidance: https://numpy.org/devdocs/release/1.20.0-notes.html#deprecations\n",
      "  self.image = self.image.astype(np.int)\n",
      "<ipython-input-51-38678290ec6b>:165: DeprecationWarning: `np.int` is a deprecated alias for the builtin `int`. To silence this warning, use `int` by itself. Doing this will not modify any behavior and is safe. When replacing `np.int`, you may wish to use e.g. `np.int64` or `np.int32` to specify the precision. If you wish to review your current use, check the release note link for additional information.\n",
      "Deprecated in NumPy 1.20; for more details and guidance: https://numpy.org/devdocs/release/1.20.0-notes.html#deprecations\n",
      "  self.image += (noise * self.image).astype(np.int)\n"
     ]
    },
    {
     "name": "stdout",
     "output_type": "stream",
     "text": [
      "D:\\Data\\Diploma\\generated//Validate_2//gt/Papier-zabezpieczony_1-1.jpg1_0CharMap.png\n",
      "D:\\Data\\Diploma\\generated//Validate_2//gt/Papier-zabezpieczony_1-1.jpg2_0CharMap.png\n",
      "D:\\Data\\Diploma\\generated//Validate_2//gt/Papier-zabezpieczony_1-1.jpg3_0CharMap.png\n",
      "\n"
     ]
    },
    {
     "data": {
      "application/vnd.jupyter.widget-view+json": {
       "model_id": "c5645df3c0ad48739b4ba2d9c75c199e",
       "version_major": 2,
       "version_minor": 0
      },
      "text/plain": [
       "HBox(children=(HTML(value=''), FloatProgress(value=0.0, max=4.0), HTML(value='')))"
      ]
     },
     "metadata": {},
     "output_type": "display_data"
    },
    {
     "name": "stdout",
     "output_type": "stream",
     "text": [
      "D:\\Data\\Diploma\\generated//Validate_2//gt/Papier-zabezpieczony_1-1.jpg0_1CharMap.png\n",
      "D:\\Data\\Diploma\\generated//Validate_2//gt/Papier-zabezpieczony_1-1.jpg1_1CharMap.png\n"
     ]
    },
    {
     "name": "stderr",
     "output_type": "stream",
     "text": [
      "<ipython-input-51-38678290ec6b>:150: DeprecationWarning: `np.int` is a deprecated alias for the builtin `int`. To silence this warning, use `int` by itself. Doing this will not modify any behavior and is safe. When replacing `np.int`, you may wish to use e.g. `np.int64` or `np.int32` to specify the precision. If you wish to review your current use, check the release note link for additional information.\n",
      "Deprecated in NumPy 1.20; for more details and guidance: https://numpy.org/devdocs/release/1.20.0-notes.html#deprecations\n",
      "  noise = np.random.normal(0, 32, (H,W, 4)).astype(np.int)\n",
      "<ipython-input-51-38678290ec6b>:151: DeprecationWarning: `np.int` is a deprecated alias for the builtin `int`. To silence this warning, use `int` by itself. Doing this will not modify any behavior and is safe. When replacing `np.int`, you may wish to use e.g. `np.int64` or `np.int32` to specify the precision. If you wish to review your current use, check the release note link for additional information.\n",
      "Deprecated in NumPy 1.20; for more details and guidance: https://numpy.org/devdocs/release/1.20.0-notes.html#deprecations\n",
      "  self.image = self.image.astype(np.int)\n"
     ]
    },
    {
     "name": "stdout",
     "output_type": "stream",
     "text": [
      "D:\\Data\\Diploma\\generated//Validate_2//gt/Papier-zabezpieczony_1-1.jpg2_1CharMap.png\n",
      "D:\\Data\\Diploma\\generated//Validate_2//gt/Papier-zabezpieczony_1-1.jpg3_1CharMap.png\n",
      "\n"
     ]
    },
    {
     "data": {
      "application/vnd.jupyter.widget-view+json": {
       "model_id": "408d8b9466d040d2963d839ac2da5de1",
       "version_major": 2,
       "version_minor": 0
      },
      "text/plain": [
       "HBox(children=(HTML(value=''), FloatProgress(value=0.0, max=4.0), HTML(value='')))"
      ]
     },
     "metadata": {},
     "output_type": "display_data"
    },
    {
     "name": "stdout",
     "output_type": "stream",
     "text": [
      "D:\\Data\\Diploma\\generated//Validate_2//gt/Papier-zabezpieczony_1-1.jpg0_2CharMap.png\n",
      "D:\\Data\\Diploma\\generated//Validate_2//gt/Papier-zabezpieczony_1-1.jpg1_2CharMap.png\n",
      "D:\\Data\\Diploma\\generated//Validate_2//gt/Papier-zabezpieczony_1-1.jpg2_2CharMap.png\n"
     ]
    },
    {
     "name": "stderr",
     "output_type": "stream",
     "text": [
      "<ipython-input-50-4a25245fc9cb>:37: DeprecationWarning: `np.float` is a deprecated alias for the builtin `float`. To silence this warning, use `float` by itself. Doing this will not modify any behavior and is safe. If you specifically wanted the numpy scalar type, use `np.float64` here.\n",
      "Deprecated in NumPy 1.20; for more details and guidance: https://numpy.org/devdocs/release/1.20.0-notes.html#deprecations\n",
      "  result = np.zeros((height, width, len(start_list)), dtype=np.float)\n"
     ]
    },
    {
     "name": "stdout",
     "output_type": "stream",
     "text": [
      "D:\\Data\\Diploma\\generated//Validate_2//gt/Papier-zabezpieczony_1-1.jpg3_2CharMap.png\n",
      "\n"
     ]
    },
    {
     "data": {
      "application/vnd.jupyter.widget-view+json": {
       "model_id": "32277f6d0c7946c68d6748d94e51dc50",
       "version_major": 2,
       "version_minor": 0
      },
      "text/plain": [
       "HBox(children=(HTML(value=''), FloatProgress(value=0.0, max=4.0), HTML(value='')))"
      ]
     },
     "metadata": {},
     "output_type": "display_data"
    },
    {
     "name": "stdout",
     "output_type": "stream",
     "text": [
      "D:\\Data\\Diploma\\generated//Validate_2//gt/Papier-zabezpieczony_1-1.jpg0_3CharMap.png\n",
      "D:\\Data\\Diploma\\generated//Validate_2//gt/Papier-zabezpieczony_1-1.jpg1_3CharMap.png\n",
      "D:\\Data\\Diploma\\generated//Validate_2//gt/Papier-zabezpieczony_1-1.jpg2_3CharMap.png\n",
      "D:\\Data\\Diploma\\generated//Validate_2//gt/Papier-zabezpieczony_1-1.jpg3_3CharMap.png\n",
      "\n",
      "\n"
     ]
    },
    {
     "name": "stderr",
     "output_type": "stream",
     "text": [
      "<ipython-input-76-1913dadd0da9>:10: TqdmDeprecationWarning: This function will be removed in tqdm==5.0.0\n",
      "Please use `tqdm.notebook.tqdm` instead of `tqdm.tqdm_notebook`\n",
      "  for j in tn(range(4)):\n"
     ]
    },
    {
     "data": {
      "application/vnd.jupyter.widget-view+json": {
       "model_id": "790e41a1ba9e432da3f38b117cbdff10",
       "version_major": 2,
       "version_minor": 0
      },
      "text/plain": [
       "HBox(children=(HTML(value=''), FloatProgress(value=0.0, max=4.0), HTML(value='')))"
      ]
     },
     "metadata": {},
     "output_type": "display_data"
    },
    {
     "data": {
      "application/vnd.jupyter.widget-view+json": {
       "model_id": "87542712da764ec782b6040ce2d34b41",
       "version_major": 2,
       "version_minor": 0
      },
      "text/plain": [
       "HBox(children=(HTML(value=''), FloatProgress(value=0.0, max=4.0), HTML(value='')))"
      ]
     },
     "metadata": {},
     "output_type": "display_data"
    },
    {
     "name": "stdout",
     "output_type": "stream",
     "text": [
      "D:\\Data\\Diploma\\generated//Validate_2//gt/papier_ze_znakiem_wodnym.jpg0_0CharMap.png\n",
      "D:\\Data\\Diploma\\generated//Validate_2//gt/papier_ze_znakiem_wodnym.jpg1_0CharMap.png\n",
      "D:\\Data\\Diploma\\generated//Validate_2//gt/papier_ze_znakiem_wodnym.jpg2_0CharMap.png\n",
      "D:\\Data\\Diploma\\generated//Validate_2//gt/papier_ze_znakiem_wodnym.jpg3_0CharMap.png\n",
      "\n"
     ]
    },
    {
     "data": {
      "application/vnd.jupyter.widget-view+json": {
       "model_id": "79fcb87a1c724cf499629d2741ab76d2",
       "version_major": 2,
       "version_minor": 0
      },
      "text/plain": [
       "HBox(children=(HTML(value=''), FloatProgress(value=0.0, max=4.0), HTML(value='')))"
      ]
     },
     "metadata": {},
     "output_type": "display_data"
    },
    {
     "name": "stdout",
     "output_type": "stream",
     "text": [
      "D:\\Data\\Diploma\\generated//Validate_2//gt/papier_ze_znakiem_wodnym.jpg0_1CharMap.png\n",
      "D:\\Data\\Diploma\\generated//Validate_2//gt/papier_ze_znakiem_wodnym.jpg1_1CharMap.png\n",
      "D:\\Data\\Diploma\\generated//Validate_2//gt/papier_ze_znakiem_wodnym.jpg2_1CharMap.png\n",
      "D:\\Data\\Diploma\\generated//Validate_2//gt/papier_ze_znakiem_wodnym.jpg3_1CharMap.png\n",
      "\n"
     ]
    },
    {
     "data": {
      "application/vnd.jupyter.widget-view+json": {
       "model_id": "db433e8115c14ec397d19bf49bfcf8e4",
       "version_major": 2,
       "version_minor": 0
      },
      "text/plain": [
       "HBox(children=(HTML(value=''), FloatProgress(value=0.0, max=4.0), HTML(value='')))"
      ]
     },
     "metadata": {},
     "output_type": "display_data"
    },
    {
     "name": "stdout",
     "output_type": "stream",
     "text": [
      "D:\\Data\\Diploma\\generated//Validate_2//gt/papier_ze_znakiem_wodnym.jpg0_2CharMap.png\n",
      "D:\\Data\\Diploma\\generated//Validate_2//gt/papier_ze_znakiem_wodnym.jpg1_2CharMap.png\n",
      "D:\\Data\\Diploma\\generated//Validate_2//gt/papier_ze_znakiem_wodnym.jpg2_2CharMap.png\n",
      "D:\\Data\\Diploma\\generated//Validate_2//gt/papier_ze_znakiem_wodnym.jpg3_2CharMap.png\n",
      "\n"
     ]
    },
    {
     "data": {
      "application/vnd.jupyter.widget-view+json": {
       "model_id": "5b5fc47b31004277a8d96acdf99ecbc5",
       "version_major": 2,
       "version_minor": 0
      },
      "text/plain": [
       "HBox(children=(HTML(value=''), FloatProgress(value=0.0, max=4.0), HTML(value='')))"
      ]
     },
     "metadata": {},
     "output_type": "display_data"
    },
    {
     "name": "stdout",
     "output_type": "stream",
     "text": [
      "D:\\Data\\Diploma\\generated//Validate_2//gt/papier_ze_znakiem_wodnym.jpg0_3CharMap.png\n",
      "D:\\Data\\Diploma\\generated//Validate_2//gt/papier_ze_znakiem_wodnym.jpg1_3CharMap.png\n",
      "D:\\Data\\Diploma\\generated//Validate_2//gt/papier_ze_znakiem_wodnym.jpg2_3CharMap.png\n",
      "D:\\Data\\Diploma\\generated//Validate_2//gt/papier_ze_znakiem_wodnym.jpg3_3CharMap.png\n",
      "\n",
      "\n"
     ]
    },
    {
     "data": {
      "application/vnd.jupyter.widget-view+json": {
       "model_id": "b9e32094bcdd4360a4e2a608cb0d97e0",
       "version_major": 2,
       "version_minor": 0
      },
      "text/plain": [
       "HBox(children=(HTML(value=''), FloatProgress(value=0.0, max=4.0), HTML(value='')))"
      ]
     },
     "metadata": {},
     "output_type": "display_data"
    },
    {
     "name": "stderr",
     "output_type": "stream",
     "text": [
      "<ipython-input-76-1913dadd0da9>:16: TqdmDeprecationWarning: This function will be removed in tqdm==5.0.0\n",
      "Please use `tqdm.notebook.tqdm` instead of `tqdm.tqdm_notebook`\n",
      "  for i in tn(range(4)):\n"
     ]
    },
    {
     "data": {
      "application/vnd.jupyter.widget-view+json": {
       "model_id": "47e5e49d97384a32b49c3047b091b11b",
       "version_major": 2,
       "version_minor": 0
      },
      "text/plain": [
       "HBox(children=(HTML(value=''), FloatProgress(value=0.0, max=4.0), HTML(value='')))"
      ]
     },
     "metadata": {},
     "output_type": "display_data"
    },
    {
     "name": "stderr",
     "output_type": "stream",
     "text": [
      "<ipython-input-51-38678290ec6b>:150: DeprecationWarning: `np.int` is a deprecated alias for the builtin `int`. To silence this warning, use `int` by itself. Doing this will not modify any behavior and is safe. When replacing `np.int`, you may wish to use e.g. `np.int64` or `np.int32` to specify the precision. If you wish to review your current use, check the release note link for additional information.\n",
      "Deprecated in NumPy 1.20; for more details and guidance: https://numpy.org/devdocs/release/1.20.0-notes.html#deprecations\n",
      "  noise = np.random.normal(0, 32, (H,W, 4)).astype(np.int)\n",
      "<ipython-input-51-38678290ec6b>:151: DeprecationWarning: `np.int` is a deprecated alias for the builtin `int`. To silence this warning, use `int` by itself. Doing this will not modify any behavior and is safe. When replacing `np.int`, you may wish to use e.g. `np.int64` or `np.int32` to specify the precision. If you wish to review your current use, check the release note link for additional information.\n",
      "Deprecated in NumPy 1.20; for more details and guidance: https://numpy.org/devdocs/release/1.20.0-notes.html#deprecations\n",
      "  self.image = self.image.astype(np.int)\n",
      "<ipython-input-51-38678290ec6b>:321: DeprecationWarning: `np.int` is a deprecated alias for the builtin `int`. To silence this warning, use `int` by itself. Doing this will not modify any behavior and is safe. When replacing `np.int`, you may wish to use e.g. `np.int64` or `np.int32` to specify the precision. If you wish to review your current use, check the release note link for additional information.\n",
      "Deprecated in NumPy 1.20; for more details and guidance: https://numpy.org/devdocs/release/1.20.0-notes.html#deprecations\n",
      "  rects = [np.array(wordCharRects, dtype=np.int)[np.newaxis, :, :,:] for wordCharRects in self.annotation[\"wordsCharactersRects\"]]\n",
      "<ipython-input-76-1913dadd0da9>:29: UserWarning: Matplotlib is currently using agg, which is a non-GUI backend, so cannot show the figure.\n",
      "  plt.show()\n"
     ]
    },
    {
     "name": "stdout",
     "output_type": "stream",
     "text": [
      "D:\\Data\\Diploma\\generated//Validate_2//gt/pre-print-basic-before.png0_0CharMap.png\n"
     ]
    },
    {
     "name": "stderr",
     "output_type": "stream",
     "text": [
      "<ipython-input-50-4a25245fc9cb>:37: DeprecationWarning: `np.float` is a deprecated alias for the builtin `float`. To silence this warning, use `float` by itself. Doing this will not modify any behavior and is safe. If you specifically wanted the numpy scalar type, use `np.float64` here.\n",
      "Deprecated in NumPy 1.20; for more details and guidance: https://numpy.org/devdocs/release/1.20.0-notes.html#deprecations\n",
      "  result = np.zeros((height, width, len(start_list)), dtype=np.float)\n"
     ]
    },
    {
     "name": "stdout",
     "output_type": "stream",
     "text": [
      "D:\\Data\\Diploma\\generated//Validate_2//gt/pre-print-basic-before.png1_0CharMap.png\n",
      "D:\\Data\\Diploma\\generated//Validate_2//gt/pre-print-basic-before.png2_0CharMap.png\n",
      "D:\\Data\\Diploma\\generated//Validate_2//gt/pre-print-basic-before.png3_0CharMap.png\n",
      "\n"
     ]
    },
    {
     "name": "stderr",
     "output_type": "stream",
     "text": [
      "<ipython-input-76-1913dadd0da9>:16: TqdmDeprecationWarning: This function will be removed in tqdm==5.0.0\n",
      "Please use `tqdm.notebook.tqdm` instead of `tqdm.tqdm_notebook`\n",
      "  for i in tn(range(4)):\n"
     ]
    },
    {
     "data": {
      "application/vnd.jupyter.widget-view+json": {
       "model_id": "171a882032a0435d8c7695558bdcb802",
       "version_major": 2,
       "version_minor": 0
      },
      "text/plain": [
       "HBox(children=(HTML(value=''), FloatProgress(value=0.0, max=4.0), HTML(value='')))"
      ]
     },
     "metadata": {},
     "output_type": "display_data"
    },
    {
     "name": "stderr",
     "output_type": "stream",
     "text": [
      "<ipython-input-51-38678290ec6b>:321: DeprecationWarning: `np.int` is a deprecated alias for the builtin `int`. To silence this warning, use `int` by itself. Doing this will not modify any behavior and is safe. When replacing `np.int`, you may wish to use e.g. `np.int64` or `np.int32` to specify the precision. If you wish to review your current use, check the release note link for additional information.\n",
      "Deprecated in NumPy 1.20; for more details and guidance: https://numpy.org/devdocs/release/1.20.0-notes.html#deprecations\n",
      "  rects = [np.array(wordCharRects, dtype=np.int)[np.newaxis, :, :,:] for wordCharRects in self.annotation[\"wordsCharactersRects\"]]\n",
      "<ipython-input-76-1913dadd0da9>:29: UserWarning: Matplotlib is currently using agg, which is a non-GUI backend, so cannot show the figure.\n",
      "  plt.show()\n"
     ]
    },
    {
     "name": "stdout",
     "output_type": "stream",
     "text": [
      "D:\\Data\\Diploma\\generated//Validate_2//gt/pre-print-basic-before.png0_1CharMap.png\n"
     ]
    },
    {
     "name": "stderr",
     "output_type": "stream",
     "text": [
      "<ipython-input-50-4a25245fc9cb>:37: DeprecationWarning: `np.float` is a deprecated alias for the builtin `float`. To silence this warning, use `float` by itself. Doing this will not modify any behavior and is safe. If you specifically wanted the numpy scalar type, use `np.float64` here.\n",
      "Deprecated in NumPy 1.20; for more details and guidance: https://numpy.org/devdocs/release/1.20.0-notes.html#deprecations\n",
      "  result = np.zeros((height, width, len(start_list)), dtype=np.float)\n"
     ]
    },
    {
     "name": "stdout",
     "output_type": "stream",
     "text": [
      "D:\\Data\\Diploma\\generated//Validate_2//gt/pre-print-basic-before.png1_1CharMap.png\n",
      "D:\\Data\\Diploma\\generated//Validate_2//gt/pre-print-basic-before.png2_1CharMap.png\n",
      "D:\\Data\\Diploma\\generated//Validate_2//gt/pre-print-basic-before.png3_1CharMap.png\n",
      "\n"
     ]
    },
    {
     "data": {
      "application/vnd.jupyter.widget-view+json": {
       "model_id": "c7cd8a8a4c0e4e7ba4a43f718eb056d2",
       "version_major": 2,
       "version_minor": 0
      },
      "text/plain": [
       "HBox(children=(HTML(value=''), FloatProgress(value=0.0, max=4.0), HTML(value='')))"
      ]
     },
     "metadata": {},
     "output_type": "display_data"
    },
    {
     "name": "stdout",
     "output_type": "stream",
     "text": [
      "D:\\Data\\Diploma\\generated//Validate_2//gt/pre-print-basic-before.png0_2CharMap.png\n",
      "D:\\Data\\Diploma\\generated//Validate_2//gt/pre-print-basic-before.png1_2CharMap.png\n",
      "D:\\Data\\Diploma\\generated//Validate_2//gt/pre-print-basic-before.png2_2CharMap.png\n",
      "D:\\Data\\Diploma\\generated//Validate_2//gt/pre-print-basic-before.png3_2CharMap.png\n",
      "\n"
     ]
    },
    {
     "data": {
      "application/vnd.jupyter.widget-view+json": {
       "model_id": "0d2eb3aebe374cba9f7463cbfb4705bf",
       "version_major": 2,
       "version_minor": 0
      },
      "text/plain": [
       "HBox(children=(HTML(value=''), FloatProgress(value=0.0, max=4.0), HTML(value='')))"
      ]
     },
     "metadata": {},
     "output_type": "display_data"
    },
    {
     "name": "stdout",
     "output_type": "stream",
     "text": [
      "D:\\Data\\Diploma\\generated//Validate_2//gt/pre-print-basic-before.png0_3CharMap.png\n",
      "D:\\Data\\Diploma\\generated//Validate_2//gt/pre-print-basic-before.png1_3CharMap.png\n"
     ]
    },
    {
     "name": "stderr",
     "output_type": "stream",
     "text": [
      "<ipython-input-51-38678290ec6b>:163: DeprecationWarning: `np.int` is a deprecated alias for the builtin `int`. To silence this warning, use `int` by itself. Doing this will not modify any behavior and is safe. When replacing `np.int`, you may wish to use e.g. `np.int64` or `np.int32` to specify the precision. If you wish to review your current use, check the release note link for additional information.\n",
      "Deprecated in NumPy 1.20; for more details and guidance: https://numpy.org/devdocs/release/1.20.0-notes.html#deprecations\n",
      "  self.image = self.image.astype(np.int)\n",
      "<ipython-input-51-38678290ec6b>:165: DeprecationWarning: `np.int` is a deprecated alias for the builtin `int`. To silence this warning, use `int` by itself. Doing this will not modify any behavior and is safe. When replacing `np.int`, you may wish to use e.g. `np.int64` or `np.int32` to specify the precision. If you wish to review your current use, check the release note link for additional information.\n",
      "Deprecated in NumPy 1.20; for more details and guidance: https://numpy.org/devdocs/release/1.20.0-notes.html#deprecations\n",
      "  self.image += (noise * self.image).astype(np.int)\n"
     ]
    },
    {
     "name": "stdout",
     "output_type": "stream",
     "text": [
      "D:\\Data\\Diploma\\generated//Validate_2//gt/pre-print-basic-before.png2_3CharMap.png\n",
      "D:\\Data\\Diploma\\generated//Validate_2//gt/pre-print-basic-before.png3_3CharMap.png\n",
      "\n",
      "\n"
     ]
    },
    {
     "name": "stderr",
     "output_type": "stream",
     "text": [
      "<ipython-input-76-1913dadd0da9>:10: TqdmDeprecationWarning: This function will be removed in tqdm==5.0.0\n",
      "Please use `tqdm.notebook.tqdm` instead of `tqdm.tqdm_notebook`\n",
      "  for j in tn(range(4)):\n"
     ]
    },
    {
     "data": {
      "application/vnd.jupyter.widget-view+json": {
       "model_id": "5433d2191dc140e0a8c821e6419f6a10",
       "version_major": 2,
       "version_minor": 0
      },
      "text/plain": [
       "HBox(children=(HTML(value=''), FloatProgress(value=0.0, max=4.0), HTML(value='')))"
      ]
     },
     "metadata": {},
     "output_type": "display_data"
    },
    {
     "name": "stderr",
     "output_type": "stream",
     "text": [
      "<ipython-input-76-1913dadd0da9>:16: TqdmDeprecationWarning: This function will be removed in tqdm==5.0.0\n",
      "Please use `tqdm.notebook.tqdm` instead of `tqdm.tqdm_notebook`\n",
      "  for i in tn(range(4)):\n"
     ]
    },
    {
     "data": {
      "application/vnd.jupyter.widget-view+json": {
       "model_id": "e66b59d846b64f3688a2660f092ab6da",
       "version_major": 2,
       "version_minor": 0
      },
      "text/plain": [
       "HBox(children=(HTML(value=''), FloatProgress(value=0.0, max=4.0), HTML(value='')))"
      ]
     },
     "metadata": {},
     "output_type": "display_data"
    },
    {
     "name": "stderr",
     "output_type": "stream",
     "text": [
      "<ipython-input-51-38678290ec6b>:321: DeprecationWarning: `np.int` is a deprecated alias for the builtin `int`. To silence this warning, use `int` by itself. Doing this will not modify any behavior and is safe. When replacing `np.int`, you may wish to use e.g. `np.int64` or `np.int32` to specify the precision. If you wish to review your current use, check the release note link for additional information.\n",
      "Deprecated in NumPy 1.20; for more details and guidance: https://numpy.org/devdocs/release/1.20.0-notes.html#deprecations\n",
      "  rects = [np.array(wordCharRects, dtype=np.int)[np.newaxis, :, :,:] for wordCharRects in self.annotation[\"wordsCharactersRects\"]]\n",
      "<ipython-input-76-1913dadd0da9>:29: UserWarning: Matplotlib is currently using agg, which is a non-GUI backend, so cannot show the figure.\n",
      "  plt.show()\n"
     ]
    },
    {
     "name": "stdout",
     "output_type": "stream",
     "text": [
      "D:\\Data\\Diploma\\generated//Validate_2//gt/retro-abstract-star-burst-flyer-background-template-vector-document-background-graphic-from-radial-stripes_1164-1546.jpg0_0CharMap.png\n",
      "D:\\Data\\Diploma\\generated//Validate_2//gt/retro-abstract-star-burst-flyer-background-template-vector-document-background-graphic-from-radial-stripes_1164-1546.jpg1_0CharMap.png\n",
      "D:\\Data\\Diploma\\generated//Validate_2//gt/retro-abstract-star-burst-flyer-background-template-vector-document-background-graphic-from-radial-stripes_1164-1546.jpg2_0CharMap.png\n",
      "D:\\Data\\Diploma\\generated//Validate_2//gt/retro-abstract-star-burst-flyer-background-template-vector-document-background-graphic-from-radial-stripes_1164-1546.jpg3_0CharMap.png\n",
      "\n"
     ]
    },
    {
     "data": {
      "application/vnd.jupyter.widget-view+json": {
       "model_id": "9c8486e5f4264234bc6a8652f2798e54",
       "version_major": 2,
       "version_minor": 0
      },
      "text/plain": [
       "HBox(children=(HTML(value=''), FloatProgress(value=0.0, max=4.0), HTML(value='')))"
      ]
     },
     "metadata": {},
     "output_type": "display_data"
    },
    {
     "name": "stdout",
     "output_type": "stream",
     "text": [
      "D:\\Data\\Diploma\\generated//Validate_2//gt/retro-abstract-star-burst-flyer-background-template-vector-document-background-graphic-from-radial-stripes_1164-1546.jpg0_1CharMap.png\n",
      "D:\\Data\\Diploma\\generated//Validate_2//gt/retro-abstract-star-burst-flyer-background-template-vector-document-background-graphic-from-radial-stripes_1164-1546.jpg1_1CharMap.png\n",
      "D:\\Data\\Diploma\\generated//Validate_2//gt/retro-abstract-star-burst-flyer-background-template-vector-document-background-graphic-from-radial-stripes_1164-1546.jpg2_1CharMap.png\n",
      "D:\\Data\\Diploma\\generated//Validate_2//gt/retro-abstract-star-burst-flyer-background-template-vector-document-background-graphic-from-radial-stripes_1164-1546.jpg3_1CharMap.png\n",
      "\n"
     ]
    },
    {
     "name": "stderr",
     "output_type": "stream",
     "text": [
      "<ipython-input-76-1913dadd0da9>:16: TqdmDeprecationWarning: This function will be removed in tqdm==5.0.0\n",
      "Please use `tqdm.notebook.tqdm` instead of `tqdm.tqdm_notebook`\n",
      "  for i in tn(range(4)):\n"
     ]
    },
    {
     "data": {
      "application/vnd.jupyter.widget-view+json": {
       "model_id": "89fb1ae7e0314a07aed59ae198abae4e",
       "version_major": 2,
       "version_minor": 0
      },
      "text/plain": [
       "HBox(children=(HTML(value=''), FloatProgress(value=0.0, max=4.0), HTML(value='')))"
      ]
     },
     "metadata": {},
     "output_type": "display_data"
    },
    {
     "name": "stderr",
     "output_type": "stream",
     "text": [
      "<ipython-input-51-38678290ec6b>:150: DeprecationWarning: `np.int` is a deprecated alias for the builtin `int`. To silence this warning, use `int` by itself. Doing this will not modify any behavior and is safe. When replacing `np.int`, you may wish to use e.g. `np.int64` or `np.int32` to specify the precision. If you wish to review your current use, check the release note link for additional information.\n",
      "Deprecated in NumPy 1.20; for more details and guidance: https://numpy.org/devdocs/release/1.20.0-notes.html#deprecations\n",
      "  noise = np.random.normal(0, 32, (H,W, 4)).astype(np.int)\n",
      "<ipython-input-51-38678290ec6b>:151: DeprecationWarning: `np.int` is a deprecated alias for the builtin `int`. To silence this warning, use `int` by itself. Doing this will not modify any behavior and is safe. When replacing `np.int`, you may wish to use e.g. `np.int64` or `np.int32` to specify the precision. If you wish to review your current use, check the release note link for additional information.\n",
      "Deprecated in NumPy 1.20; for more details and guidance: https://numpy.org/devdocs/release/1.20.0-notes.html#deprecations\n",
      "  self.image = self.image.astype(np.int)\n",
      "<ipython-input-51-38678290ec6b>:321: DeprecationWarning: `np.int` is a deprecated alias for the builtin `int`. To silence this warning, use `int` by itself. Doing this will not modify any behavior and is safe. When replacing `np.int`, you may wish to use e.g. `np.int64` or `np.int32` to specify the precision. If you wish to review your current use, check the release note link for additional information.\n",
      "Deprecated in NumPy 1.20; for more details and guidance: https://numpy.org/devdocs/release/1.20.0-notes.html#deprecations\n",
      "  rects = [np.array(wordCharRects, dtype=np.int)[np.newaxis, :, :,:] for wordCharRects in self.annotation[\"wordsCharactersRects\"]]\n",
      "<ipython-input-76-1913dadd0da9>:29: UserWarning: Matplotlib is currently using agg, which is a non-GUI backend, so cannot show the figure.\n",
      "  plt.show()\n"
     ]
    },
    {
     "name": "stdout",
     "output_type": "stream",
     "text": [
      "D:\\Data\\Diploma\\generated//Validate_2//gt/retro-abstract-star-burst-flyer-background-template-vector-document-background-graphic-from-radial-stripes_1164-1546.jpg0_2CharMap.png\n",
      "D:\\Data\\Diploma\\generated//Validate_2//gt/retro-abstract-star-burst-flyer-background-template-vector-document-background-graphic-from-radial-stripes_1164-1546.jpg1_2CharMap.png\n",
      "D:\\Data\\Diploma\\generated//Validate_2//gt/retro-abstract-star-burst-flyer-background-template-vector-document-background-graphic-from-radial-stripes_1164-1546.jpg2_2CharMap.png\n",
      "D:\\Data\\Diploma\\generated//Validate_2//gt/retro-abstract-star-burst-flyer-background-template-vector-document-background-graphic-from-radial-stripes_1164-1546.jpg3_2CharMap.png\n",
      "\n"
     ]
    },
    {
     "data": {
      "application/vnd.jupyter.widget-view+json": {
       "model_id": "41c5a5185826432abb68c2c743b7905b",
       "version_major": 2,
       "version_minor": 0
      },
      "text/plain": [
       "HBox(children=(HTML(value=''), FloatProgress(value=0.0, max=4.0), HTML(value='')))"
      ]
     },
     "metadata": {},
     "output_type": "display_data"
    },
    {
     "name": "stdout",
     "output_type": "stream",
     "text": [
      "D:\\Data\\Diploma\\generated//Validate_2//gt/retro-abstract-star-burst-flyer-background-template-vector-document-background-graphic-from-radial-stripes_1164-1546.jpg0_3CharMap.png\n"
     ]
    },
    {
     "name": "stderr",
     "output_type": "stream",
     "text": [
      "<ipython-input-51-38678290ec6b>:163: DeprecationWarning: `np.int` is a deprecated alias for the builtin `int`. To silence this warning, use `int` by itself. Doing this will not modify any behavior and is safe. When replacing `np.int`, you may wish to use e.g. `np.int64` or `np.int32` to specify the precision. If you wish to review your current use, check the release note link for additional information.\n",
      "Deprecated in NumPy 1.20; for more details and guidance: https://numpy.org/devdocs/release/1.20.0-notes.html#deprecations\n",
      "  self.image = self.image.astype(np.int)\n",
      "<ipython-input-51-38678290ec6b>:165: DeprecationWarning: `np.int` is a deprecated alias for the builtin `int`. To silence this warning, use `int` by itself. Doing this will not modify any behavior and is safe. When replacing `np.int`, you may wish to use e.g. `np.int64` or `np.int32` to specify the precision. If you wish to review your current use, check the release note link for additional information.\n",
      "Deprecated in NumPy 1.20; for more details and guidance: https://numpy.org/devdocs/release/1.20.0-notes.html#deprecations\n",
      "  self.image += (noise * self.image).astype(np.int)\n"
     ]
    },
    {
     "name": "stdout",
     "output_type": "stream",
     "text": [
      "D:\\Data\\Diploma\\generated//Validate_2//gt/retro-abstract-star-burst-flyer-background-template-vector-document-background-graphic-from-radial-stripes_1164-1546.jpg1_3CharMap.png\n",
      "D:\\Data\\Diploma\\generated//Validate_2//gt/retro-abstract-star-burst-flyer-background-template-vector-document-background-graphic-from-radial-stripes_1164-1546.jpg2_3CharMap.png\n",
      "D:\\Data\\Diploma\\generated//Validate_2//gt/retro-abstract-star-burst-flyer-background-template-vector-document-background-graphic-from-radial-stripes_1164-1546.jpg3_3CharMap.png\n",
      "\n",
      "\n"
     ]
    },
    {
     "name": "stderr",
     "output_type": "stream",
     "text": [
      "<ipython-input-76-1913dadd0da9>:10: TqdmDeprecationWarning: This function will be removed in tqdm==5.0.0\n",
      "Please use `tqdm.notebook.tqdm` instead of `tqdm.tqdm_notebook`\n",
      "  for j in tn(range(4)):\n"
     ]
    },
    {
     "data": {
      "application/vnd.jupyter.widget-view+json": {
       "model_id": "7ada702caff74b7f9d2a5268a6df48c9",
       "version_major": 2,
       "version_minor": 0
      },
      "text/plain": [
       "HBox(children=(HTML(value=''), FloatProgress(value=0.0, max=4.0), HTML(value='')))"
      ]
     },
     "metadata": {},
     "output_type": "display_data"
    },
    {
     "name": "stderr",
     "output_type": "stream",
     "text": [
      "<ipython-input-76-1913dadd0da9>:16: TqdmDeprecationWarning: This function will be removed in tqdm==5.0.0\n",
      "Please use `tqdm.notebook.tqdm` instead of `tqdm.tqdm_notebook`\n",
      "  for i in tn(range(4)):\n"
     ]
    },
    {
     "data": {
      "application/vnd.jupyter.widget-view+json": {
       "model_id": "8bef1ae4d8604aa9bc1c0f8e0c28237d",
       "version_major": 2,
       "version_minor": 0
      },
      "text/plain": [
       "HBox(children=(HTML(value=''), FloatProgress(value=0.0, max=4.0), HTML(value='')))"
      ]
     },
     "metadata": {},
     "output_type": "display_data"
    },
    {
     "name": "stderr",
     "output_type": "stream",
     "text": [
      "<ipython-input-51-38678290ec6b>:321: DeprecationWarning: `np.int` is a deprecated alias for the builtin `int`. To silence this warning, use `int` by itself. Doing this will not modify any behavior and is safe. When replacing `np.int`, you may wish to use e.g. `np.int64` or `np.int32` to specify the precision. If you wish to review your current use, check the release note link for additional information.\n",
      "Deprecated in NumPy 1.20; for more details and guidance: https://numpy.org/devdocs/release/1.20.0-notes.html#deprecations\n",
      "  rects = [np.array(wordCharRects, dtype=np.int)[np.newaxis, :, :,:] for wordCharRects in self.annotation[\"wordsCharactersRects\"]]\n",
      "<ipython-input-76-1913dadd0da9>:29: UserWarning: Matplotlib is currently using agg, which is a non-GUI backend, so cannot show the figure.\n",
      "  plt.show()\n"
     ]
    },
    {
     "name": "stdout",
     "output_type": "stream",
     "text": [
      "D:\\Data\\Diploma\\generated//Validate_2//gt/th.jpg0_0CharMap.png\n",
      "D:\\Data\\Diploma\\generated//Validate_2//gt/th.jpg1_0CharMap.png\n",
      "D:\\Data\\Diploma\\generated//Validate_2//gt/th.jpg2_0CharMap.png\n",
      "D:\\Data\\Diploma\\generated//Validate_2//gt/th.jpg3_0CharMap.png\n",
      "\n"
     ]
    },
    {
     "data": {
      "application/vnd.jupyter.widget-view+json": {
       "model_id": "0e02afc53ce449828388a477d51b8ac8",
       "version_major": 2,
       "version_minor": 0
      },
      "text/plain": [
       "HBox(children=(HTML(value=''), FloatProgress(value=0.0, max=4.0), HTML(value='')))"
      ]
     },
     "metadata": {},
     "output_type": "display_data"
    },
    {
     "name": "stderr",
     "output_type": "stream",
     "text": [
      "<ipython-input-51-38678290ec6b>:150: DeprecationWarning: `np.int` is a deprecated alias for the builtin `int`. To silence this warning, use `int` by itself. Doing this will not modify any behavior and is safe. When replacing `np.int`, you may wish to use e.g. `np.int64` or `np.int32` to specify the precision. If you wish to review your current use, check the release note link for additional information.\n",
      "Deprecated in NumPy 1.20; for more details and guidance: https://numpy.org/devdocs/release/1.20.0-notes.html#deprecations\n",
      "  noise = np.random.normal(0, 32, (H,W, 4)).astype(np.int)\n",
      "<ipython-input-51-38678290ec6b>:151: DeprecationWarning: `np.int` is a deprecated alias for the builtin `int`. To silence this warning, use `int` by itself. Doing this will not modify any behavior and is safe. When replacing `np.int`, you may wish to use e.g. `np.int64` or `np.int32` to specify the precision. If you wish to review your current use, check the release note link for additional information.\n",
      "Deprecated in NumPy 1.20; for more details and guidance: https://numpy.org/devdocs/release/1.20.0-notes.html#deprecations\n",
      "  self.image = self.image.astype(np.int)\n"
     ]
    },
    {
     "name": "stdout",
     "output_type": "stream",
     "text": [
      "D:\\Data\\Diploma\\generated//Validate_2//gt/th.jpg0_1CharMap.png\n",
      "D:\\Data\\Diploma\\generated//Validate_2//gt/th.jpg1_1CharMap.png\n",
      "D:\\Data\\Diploma\\generated//Validate_2//gt/th.jpg2_1CharMap.png\n",
      "D:\\Data\\Diploma\\generated//Validate_2//gt/th.jpg3_1CharMap.png\n",
      "\n"
     ]
    },
    {
     "name": "stderr",
     "output_type": "stream",
     "text": [
      "<ipython-input-76-1913dadd0da9>:16: TqdmDeprecationWarning: This function will be removed in tqdm==5.0.0\n",
      "Please use `tqdm.notebook.tqdm` instead of `tqdm.tqdm_notebook`\n",
      "  for i in tn(range(4)):\n"
     ]
    },
    {
     "data": {
      "application/vnd.jupyter.widget-view+json": {
       "model_id": "7aedc8df38b84ff19f8900cf99eeb5d0",
       "version_major": 2,
       "version_minor": 0
      },
      "text/plain": [
       "HBox(children=(HTML(value=''), FloatProgress(value=0.0, max=4.0), HTML(value='')))"
      ]
     },
     "metadata": {},
     "output_type": "display_data"
    },
    {
     "name": "stderr",
     "output_type": "stream",
     "text": [
      "<ipython-input-51-38678290ec6b>:150: DeprecationWarning: `np.int` is a deprecated alias for the builtin `int`. To silence this warning, use `int` by itself. Doing this will not modify any behavior and is safe. When replacing `np.int`, you may wish to use e.g. `np.int64` or `np.int32` to specify the precision. If you wish to review your current use, check the release note link for additional information.\n",
      "Deprecated in NumPy 1.20; for more details and guidance: https://numpy.org/devdocs/release/1.20.0-notes.html#deprecations\n",
      "  noise = np.random.normal(0, 32, (H,W, 4)).astype(np.int)\n",
      "<ipython-input-51-38678290ec6b>:151: DeprecationWarning: `np.int` is a deprecated alias for the builtin `int`. To silence this warning, use `int` by itself. Doing this will not modify any behavior and is safe. When replacing `np.int`, you may wish to use e.g. `np.int64` or `np.int32` to specify the precision. If you wish to review your current use, check the release note link for additional information.\n",
      "Deprecated in NumPy 1.20; for more details and guidance: https://numpy.org/devdocs/release/1.20.0-notes.html#deprecations\n",
      "  self.image = self.image.astype(np.int)\n",
      "<ipython-input-51-38678290ec6b>:321: DeprecationWarning: `np.int` is a deprecated alias for the builtin `int`. To silence this warning, use `int` by itself. Doing this will not modify any behavior and is safe. When replacing `np.int`, you may wish to use e.g. `np.int64` or `np.int32` to specify the precision. If you wish to review your current use, check the release note link for additional information.\n",
      "Deprecated in NumPy 1.20; for more details and guidance: https://numpy.org/devdocs/release/1.20.0-notes.html#deprecations\n",
      "  rects = [np.array(wordCharRects, dtype=np.int)[np.newaxis, :, :,:] for wordCharRects in self.annotation[\"wordsCharactersRects\"]]\n",
      "<ipython-input-76-1913dadd0da9>:29: UserWarning: Matplotlib is currently using agg, which is a non-GUI backend, so cannot show the figure.\n",
      "  plt.show()\n"
     ]
    },
    {
     "name": "stdout",
     "output_type": "stream",
     "text": [
      "D:\\Data\\Diploma\\generated//Validate_2//gt/th.jpg0_2CharMap.png\n",
      "D:\\Data\\Diploma\\generated//Validate_2//gt/th.jpg1_2CharMap.png\n",
      "D:\\Data\\Diploma\\generated//Validate_2//gt/th.jpg2_2CharMap.png\n",
      "D:\\Data\\Diploma\\generated//Validate_2//gt/th.jpg3_2CharMap.png\n",
      "\n"
     ]
    },
    {
     "name": "stderr",
     "output_type": "stream",
     "text": [
      "<ipython-input-76-1913dadd0da9>:16: TqdmDeprecationWarning: This function will be removed in tqdm==5.0.0\n",
      "Please use `tqdm.notebook.tqdm` instead of `tqdm.tqdm_notebook`\n",
      "  for i in tn(range(4)):\n"
     ]
    },
    {
     "data": {
      "application/vnd.jupyter.widget-view+json": {
       "model_id": "36026edd4d3341468b377a831169d9d4",
       "version_major": 2,
       "version_minor": 0
      },
      "text/plain": [
       "HBox(children=(HTML(value=''), FloatProgress(value=0.0, max=4.0), HTML(value='')))"
      ]
     },
     "metadata": {},
     "output_type": "display_data"
    },
    {
     "name": "stderr",
     "output_type": "stream",
     "text": [
      "<ipython-input-51-38678290ec6b>:321: DeprecationWarning: `np.int` is a deprecated alias for the builtin `int`. To silence this warning, use `int` by itself. Doing this will not modify any behavior and is safe. When replacing `np.int`, you may wish to use e.g. `np.int64` or `np.int32` to specify the precision. If you wish to review your current use, check the release note link for additional information.\n",
      "Deprecated in NumPy 1.20; for more details and guidance: https://numpy.org/devdocs/release/1.20.0-notes.html#deprecations\n",
      "  rects = [np.array(wordCharRects, dtype=np.int)[np.newaxis, :, :,:] for wordCharRects in self.annotation[\"wordsCharactersRects\"]]\n",
      "<ipython-input-76-1913dadd0da9>:29: UserWarning: Matplotlib is currently using agg, which is a non-GUI backend, so cannot show the figure.\n",
      "  plt.show()\n"
     ]
    },
    {
     "name": "stdout",
     "output_type": "stream",
     "text": [
      "D:\\Data\\Diploma\\generated//Validate_2//gt/th.jpg0_3CharMap.png\n",
      "D:\\Data\\Diploma\\generated//Validate_2//gt/th.jpg1_3CharMap.png\n",
      "D:\\Data\\Diploma\\generated//Validate_2//gt/th.jpg2_3CharMap.png\n",
      "D:\\Data\\Diploma\\generated//Validate_2//gt/th.jpg3_3CharMap.png\n",
      "\n",
      "\n"
     ]
    },
    {
     "name": "stderr",
     "output_type": "stream",
     "text": [
      "<ipython-input-76-1913dadd0da9>:10: TqdmDeprecationWarning: This function will be removed in tqdm==5.0.0\n",
      "Please use `tqdm.notebook.tqdm` instead of `tqdm.tqdm_notebook`\n",
      "  for j in tn(range(4)):\n"
     ]
    },
    {
     "data": {
      "application/vnd.jupyter.widget-view+json": {
       "model_id": "cb8c25de2cc041bd8da02ee5c0d740e2",
       "version_major": 2,
       "version_minor": 0
      },
      "text/plain": [
       "HBox(children=(HTML(value=''), FloatProgress(value=0.0, max=4.0), HTML(value='')))"
      ]
     },
     "metadata": {},
     "output_type": "display_data"
    },
    {
     "name": "stderr",
     "output_type": "stream",
     "text": [
      "<ipython-input-76-1913dadd0da9>:16: TqdmDeprecationWarning: This function will be removed in tqdm==5.0.0\n",
      "Please use `tqdm.notebook.tqdm` instead of `tqdm.tqdm_notebook`\n",
      "  for i in tn(range(4)):\n"
     ]
    },
    {
     "data": {
      "application/vnd.jupyter.widget-view+json": {
       "model_id": "5ac818b2d92449bfa8df9899a6532e71",
       "version_major": 2,
       "version_minor": 0
      },
      "text/plain": [
       "HBox(children=(HTML(value=''), FloatProgress(value=0.0, max=4.0), HTML(value='')))"
      ]
     },
     "metadata": {},
     "output_type": "display_data"
    },
    {
     "name": "stderr",
     "output_type": "stream",
     "text": [
      "<ipython-input-51-38678290ec6b>:163: DeprecationWarning: `np.int` is a deprecated alias for the builtin `int`. To silence this warning, use `int` by itself. Doing this will not modify any behavior and is safe. When replacing `np.int`, you may wish to use e.g. `np.int64` or `np.int32` to specify the precision. If you wish to review your current use, check the release note link for additional information.\n",
      "Deprecated in NumPy 1.20; for more details and guidance: https://numpy.org/devdocs/release/1.20.0-notes.html#deprecations\n",
      "  self.image = self.image.astype(np.int)\n",
      "<ipython-input-51-38678290ec6b>:165: DeprecationWarning: `np.int` is a deprecated alias for the builtin `int`. To silence this warning, use `int` by itself. Doing this will not modify any behavior and is safe. When replacing `np.int`, you may wish to use e.g. `np.int64` or `np.int32` to specify the precision. If you wish to review your current use, check the release note link for additional information.\n",
      "Deprecated in NumPy 1.20; for more details and guidance: https://numpy.org/devdocs/release/1.20.0-notes.html#deprecations\n",
      "  self.image += (noise * self.image).astype(np.int)\n",
      "<ipython-input-51-38678290ec6b>:321: DeprecationWarning: `np.int` is a deprecated alias for the builtin `int`. To silence this warning, use `int` by itself. Doing this will not modify any behavior and is safe. When replacing `np.int`, you may wish to use e.g. `np.int64` or `np.int32` to specify the precision. If you wish to review your current use, check the release note link for additional information.\n",
      "Deprecated in NumPy 1.20; for more details and guidance: https://numpy.org/devdocs/release/1.20.0-notes.html#deprecations\n",
      "  rects = [np.array(wordCharRects, dtype=np.int)[np.newaxis, :, :,:] for wordCharRects in self.annotation[\"wordsCharactersRects\"]]\n",
      "<ipython-input-76-1913dadd0da9>:29: UserWarning: Matplotlib is currently using agg, which is a non-GUI backend, so cannot show the figure.\n",
      "  plt.show()\n"
     ]
    },
    {
     "name": "stdout",
     "output_type": "stream",
     "text": [
      "D:\\Data\\Diploma\\generated//Validate_2//gt/unnamed.gif0_0CharMap.png\n"
     ]
    },
    {
     "name": "stderr",
     "output_type": "stream",
     "text": [
      "<ipython-input-50-4a25245fc9cb>:37: DeprecationWarning: `np.float` is a deprecated alias for the builtin `float`. To silence this warning, use `float` by itself. Doing this will not modify any behavior and is safe. If you specifically wanted the numpy scalar type, use `np.float64` here.\n",
      "Deprecated in NumPy 1.20; for more details and guidance: https://numpy.org/devdocs/release/1.20.0-notes.html#deprecations\n",
      "  result = np.zeros((height, width, len(start_list)), dtype=np.float)\n"
     ]
    },
    {
     "name": "stdout",
     "output_type": "stream",
     "text": [
      "D:\\Data\\Diploma\\generated//Validate_2//gt/unnamed.gif1_0CharMap.png\n",
      "D:\\Data\\Diploma\\generated//Validate_2//gt/unnamed.gif2_0CharMap.png\n",
      "D:\\Data\\Diploma\\generated//Validate_2//gt/unnamed.gif3_0CharMap.png\n",
      "\n"
     ]
    },
    {
     "name": "stderr",
     "output_type": "stream",
     "text": [
      "<ipython-input-76-1913dadd0da9>:16: TqdmDeprecationWarning: This function will be removed in tqdm==5.0.0\n",
      "Please use `tqdm.notebook.tqdm` instead of `tqdm.tqdm_notebook`\n",
      "  for i in tn(range(4)):\n"
     ]
    },
    {
     "data": {
      "application/vnd.jupyter.widget-view+json": {
       "model_id": "d4536676b65f4cba8029bd19ae4b54e6",
       "version_major": 2,
       "version_minor": 0
      },
      "text/plain": [
       "HBox(children=(HTML(value=''), FloatProgress(value=0.0, max=4.0), HTML(value='')))"
      ]
     },
     "metadata": {},
     "output_type": "display_data"
    },
    {
     "name": "stderr",
     "output_type": "stream",
     "text": [
      "<ipython-input-51-38678290ec6b>:321: DeprecationWarning: `np.int` is a deprecated alias for the builtin `int`. To silence this warning, use `int` by itself. Doing this will not modify any behavior and is safe. When replacing `np.int`, you may wish to use e.g. `np.int64` or `np.int32` to specify the precision. If you wish to review your current use, check the release note link for additional information.\n",
      "Deprecated in NumPy 1.20; for more details and guidance: https://numpy.org/devdocs/release/1.20.0-notes.html#deprecations\n",
      "  rects = [np.array(wordCharRects, dtype=np.int)[np.newaxis, :, :,:] for wordCharRects in self.annotation[\"wordsCharactersRects\"]]\n",
      "<ipython-input-76-1913dadd0da9>:29: UserWarning: Matplotlib is currently using agg, which is a non-GUI backend, so cannot show the figure.\n",
      "  plt.show()\n"
     ]
    },
    {
     "name": "stdout",
     "output_type": "stream",
     "text": [
      "D:\\Data\\Diploma\\generated//Validate_2//gt/unnamed.gif0_1CharMap.png\n",
      "D:\\Data\\Diploma\\generated//Validate_2//gt/unnamed.gif1_1CharMap.png\n"
     ]
    },
    {
     "name": "stderr",
     "output_type": "stream",
     "text": [
      "<ipython-input-50-4a25245fc9cb>:37: DeprecationWarning: `np.float` is a deprecated alias for the builtin `float`. To silence this warning, use `float` by itself. Doing this will not modify any behavior and is safe. If you specifically wanted the numpy scalar type, use `np.float64` here.\n",
      "Deprecated in NumPy 1.20; for more details and guidance: https://numpy.org/devdocs/release/1.20.0-notes.html#deprecations\n",
      "  result = np.zeros((height, width, len(start_list)), dtype=np.float)\n"
     ]
    },
    {
     "name": "stdout",
     "output_type": "stream",
     "text": [
      "D:\\Data\\Diploma\\generated//Validate_2//gt/unnamed.gif2_1CharMap.png\n"
     ]
    },
    {
     "name": "stderr",
     "output_type": "stream",
     "text": [
      "<ipython-input-51-38678290ec6b>:150: DeprecationWarning: `np.int` is a deprecated alias for the builtin `int`. To silence this warning, use `int` by itself. Doing this will not modify any behavior and is safe. When replacing `np.int`, you may wish to use e.g. `np.int64` or `np.int32` to specify the precision. If you wish to review your current use, check the release note link for additional information.\n",
      "Deprecated in NumPy 1.20; for more details and guidance: https://numpy.org/devdocs/release/1.20.0-notes.html#deprecations\n",
      "  noise = np.random.normal(0, 32, (H,W, 4)).astype(np.int)\n",
      "<ipython-input-51-38678290ec6b>:151: DeprecationWarning: `np.int` is a deprecated alias for the builtin `int`. To silence this warning, use `int` by itself. Doing this will not modify any behavior and is safe. When replacing `np.int`, you may wish to use e.g. `np.int64` or `np.int32` to specify the precision. If you wish to review your current use, check the release note link for additional information.\n",
      "Deprecated in NumPy 1.20; for more details and guidance: https://numpy.org/devdocs/release/1.20.0-notes.html#deprecations\n",
      "  self.image = self.image.astype(np.int)\n"
     ]
    },
    {
     "name": "stdout",
     "output_type": "stream",
     "text": [
      "D:\\Data\\Diploma\\generated//Validate_2//gt/unnamed.gif3_1CharMap.png\n",
      "\n"
     ]
    },
    {
     "name": "stderr",
     "output_type": "stream",
     "text": [
      "<ipython-input-76-1913dadd0da9>:16: TqdmDeprecationWarning: This function will be removed in tqdm==5.0.0\n",
      "Please use `tqdm.notebook.tqdm` instead of `tqdm.tqdm_notebook`\n",
      "  for i in tn(range(4)):\n"
     ]
    },
    {
     "data": {
      "application/vnd.jupyter.widget-view+json": {
       "model_id": "e16789864db34372bdf653c42fc4e26d",
       "version_major": 2,
       "version_minor": 0
      },
      "text/plain": [
       "HBox(children=(HTML(value=''), FloatProgress(value=0.0, max=4.0), HTML(value='')))"
      ]
     },
     "metadata": {},
     "output_type": "display_data"
    },
    {
     "name": "stderr",
     "output_type": "stream",
     "text": [
      "<ipython-input-51-38678290ec6b>:321: DeprecationWarning: `np.int` is a deprecated alias for the builtin `int`. To silence this warning, use `int` by itself. Doing this will not modify any behavior and is safe. When replacing `np.int`, you may wish to use e.g. `np.int64` or `np.int32` to specify the precision. If you wish to review your current use, check the release note link for additional information.\n",
      "Deprecated in NumPy 1.20; for more details and guidance: https://numpy.org/devdocs/release/1.20.0-notes.html#deprecations\n",
      "  rects = [np.array(wordCharRects, dtype=np.int)[np.newaxis, :, :,:] for wordCharRects in self.annotation[\"wordsCharactersRects\"]]\n",
      "<ipython-input-76-1913dadd0da9>:29: UserWarning: Matplotlib is currently using agg, which is a non-GUI backend, so cannot show the figure.\n",
      "  plt.show()\n"
     ]
    },
    {
     "name": "stdout",
     "output_type": "stream",
     "text": [
      "D:\\Data\\Diploma\\generated//Validate_2//gt/unnamed.gif0_2CharMap.png\n"
     ]
    },
    {
     "name": "stderr",
     "output_type": "stream",
     "text": [
      "<ipython-input-51-38678290ec6b>:150: DeprecationWarning: `np.int` is a deprecated alias for the builtin `int`. To silence this warning, use `int` by itself. Doing this will not modify any behavior and is safe. When replacing `np.int`, you may wish to use e.g. `np.int64` or `np.int32` to specify the precision. If you wish to review your current use, check the release note link for additional information.\n",
      "Deprecated in NumPy 1.20; for more details and guidance: https://numpy.org/devdocs/release/1.20.0-notes.html#deprecations\n",
      "  noise = np.random.normal(0, 32, (H,W, 4)).astype(np.int)\n",
      "<ipython-input-51-38678290ec6b>:151: DeprecationWarning: `np.int` is a deprecated alias for the builtin `int`. To silence this warning, use `int` by itself. Doing this will not modify any behavior and is safe. When replacing `np.int`, you may wish to use e.g. `np.int64` or `np.int32` to specify the precision. If you wish to review your current use, check the release note link for additional information.\n",
      "Deprecated in NumPy 1.20; for more details and guidance: https://numpy.org/devdocs/release/1.20.0-notes.html#deprecations\n",
      "  self.image = self.image.astype(np.int)\n"
     ]
    },
    {
     "name": "stdout",
     "output_type": "stream",
     "text": [
      "D:\\Data\\Diploma\\generated//Validate_2//gt/unnamed.gif1_2CharMap.png\n",
      "D:\\Data\\Diploma\\generated//Validate_2//gt/unnamed.gif2_2CharMap.png\n"
     ]
    },
    {
     "name": "stderr",
     "output_type": "stream",
     "text": [
      "<ipython-input-50-4a25245fc9cb>:37: DeprecationWarning: `np.float` is a deprecated alias for the builtin `float`. To silence this warning, use `float` by itself. Doing this will not modify any behavior and is safe. If you specifically wanted the numpy scalar type, use `np.float64` here.\n",
      "Deprecated in NumPy 1.20; for more details and guidance: https://numpy.org/devdocs/release/1.20.0-notes.html#deprecations\n",
      "  result = np.zeros((height, width, len(start_list)), dtype=np.float)\n"
     ]
    },
    {
     "name": "stdout",
     "output_type": "stream",
     "text": [
      "D:\\Data\\Diploma\\generated//Validate_2//gt/unnamed.gif3_2CharMap.png\n",
      "\n"
     ]
    },
    {
     "data": {
      "application/vnd.jupyter.widget-view+json": {
       "model_id": "9264026efff5494380ad4b62ae74e3d1",
       "version_major": 2,
       "version_minor": 0
      },
      "text/plain": [
       "HBox(children=(HTML(value=''), FloatProgress(value=0.0, max=4.0), HTML(value='')))"
      ]
     },
     "metadata": {},
     "output_type": "display_data"
    },
    {
     "name": "stdout",
     "output_type": "stream",
     "text": [
      "D:\\Data\\Diploma\\generated//Validate_2//gt/unnamed.gif0_3CharMap.png\n"
     ]
    },
    {
     "name": "stderr",
     "output_type": "stream",
     "text": [
      "<ipython-input-51-38678290ec6b>:163: DeprecationWarning: `np.int` is a deprecated alias for the builtin `int`. To silence this warning, use `int` by itself. Doing this will not modify any behavior and is safe. When replacing `np.int`, you may wish to use e.g. `np.int64` or `np.int32` to specify the precision. If you wish to review your current use, check the release note link for additional information.\n",
      "Deprecated in NumPy 1.20; for more details and guidance: https://numpy.org/devdocs/release/1.20.0-notes.html#deprecations\n",
      "  self.image = self.image.astype(np.int)\n",
      "<ipython-input-51-38678290ec6b>:165: DeprecationWarning: `np.int` is a deprecated alias for the builtin `int`. To silence this warning, use `int` by itself. Doing this will not modify any behavior and is safe. When replacing `np.int`, you may wish to use e.g. `np.int64` or `np.int32` to specify the precision. If you wish to review your current use, check the release note link for additional information.\n",
      "Deprecated in NumPy 1.20; for more details and guidance: https://numpy.org/devdocs/release/1.20.0-notes.html#deprecations\n",
      "  self.image += (noise * self.image).astype(np.int)\n"
     ]
    },
    {
     "name": "stdout",
     "output_type": "stream",
     "text": [
      "D:\\Data\\Diploma\\generated//Validate_2//gt/unnamed.gif1_3CharMap.png\n",
      "D:\\Data\\Diploma\\generated//Validate_2//gt/unnamed.gif2_3CharMap.png\n",
      "D:\\Data\\Diploma\\generated//Validate_2//gt/unnamed.gif3_3CharMap.png\n",
      "\n",
      "\n"
     ]
    },
    {
     "name": "stderr",
     "output_type": "stream",
     "text": [
      "<ipython-input-76-1913dadd0da9>:10: TqdmDeprecationWarning: This function will be removed in tqdm==5.0.0\n",
      "Please use `tqdm.notebook.tqdm` instead of `tqdm.tqdm_notebook`\n",
      "  for j in tn(range(4)):\n"
     ]
    },
    {
     "data": {
      "application/vnd.jupyter.widget-view+json": {
       "model_id": "3fac2be3f384435d9a832ae5c69ba383",
       "version_major": 2,
       "version_minor": 0
      },
      "text/plain": [
       "HBox(children=(HTML(value=''), FloatProgress(value=0.0, max=4.0), HTML(value='')))"
      ]
     },
     "metadata": {},
     "output_type": "display_data"
    },
    {
     "data": {
      "application/vnd.jupyter.widget-view+json": {
       "model_id": "860812ab30534348ab621733b48ada70",
       "version_major": 2,
       "version_minor": 0
      },
      "text/plain": [
       "HBox(children=(HTML(value=''), FloatProgress(value=0.0, max=4.0), HTML(value='')))"
      ]
     },
     "metadata": {},
     "output_type": "display_data"
    },
    {
     "name": "stdout",
     "output_type": "stream",
     "text": [
      "D:\\Data\\Diploma\\generated//Validate_2//gt/unnamed.jpg0_0CharMap.png\n",
      "D:\\Data\\Diploma\\generated//Validate_2//gt/unnamed.jpg1_0CharMap.png\n",
      "D:\\Data\\Diploma\\generated//Validate_2//gt/unnamed.jpg2_0CharMap.png\n",
      "D:\\Data\\Diploma\\generated//Validate_2//gt/unnamed.jpg3_0CharMap.png\n",
      "\n"
     ]
    },
    {
     "data": {
      "application/vnd.jupyter.widget-view+json": {
       "model_id": "4942bf56f8b6453c9f20ac2b8fdd061f",
       "version_major": 2,
       "version_minor": 0
      },
      "text/plain": [
       "HBox(children=(HTML(value=''), FloatProgress(value=0.0, max=4.0), HTML(value='')))"
      ]
     },
     "metadata": {},
     "output_type": "display_data"
    },
    {
     "name": "stdout",
     "output_type": "stream",
     "text": [
      "D:\\Data\\Diploma\\generated//Validate_2//gt/unnamed.jpg0_1CharMap.png\n",
      "D:\\Data\\Diploma\\generated//Validate_2//gt/unnamed.jpg1_1CharMap.png\n",
      "D:\\Data\\Diploma\\generated//Validate_2//gt/unnamed.jpg2_1CharMap.png\n",
      "D:\\Data\\Diploma\\generated//Validate_2//gt/unnamed.jpg3_1CharMap.png\n",
      "\n"
     ]
    },
    {
     "name": "stderr",
     "output_type": "stream",
     "text": [
      "<ipython-input-76-1913dadd0da9>:16: TqdmDeprecationWarning: This function will be removed in tqdm==5.0.0\n",
      "Please use `tqdm.notebook.tqdm` instead of `tqdm.tqdm_notebook`\n",
      "  for i in tn(range(4)):\n"
     ]
    },
    {
     "data": {
      "application/vnd.jupyter.widget-view+json": {
       "model_id": "4c8ac7a3e34a4fe191c4aa4515ee6253",
       "version_major": 2,
       "version_minor": 0
      },
      "text/plain": [
       "HBox(children=(HTML(value=''), FloatProgress(value=0.0, max=4.0), HTML(value='')))"
      ]
     },
     "metadata": {},
     "output_type": "display_data"
    },
    {
     "name": "stderr",
     "output_type": "stream",
     "text": [
      "<ipython-input-51-38678290ec6b>:321: DeprecationWarning: `np.int` is a deprecated alias for the builtin `int`. To silence this warning, use `int` by itself. Doing this will not modify any behavior and is safe. When replacing `np.int`, you may wish to use e.g. `np.int64` or `np.int32` to specify the precision. If you wish to review your current use, check the release note link for additional information.\n",
      "Deprecated in NumPy 1.20; for more details and guidance: https://numpy.org/devdocs/release/1.20.0-notes.html#deprecations\n",
      "  rects = [np.array(wordCharRects, dtype=np.int)[np.newaxis, :, :,:] for wordCharRects in self.annotation[\"wordsCharactersRects\"]]\n",
      "<ipython-input-76-1913dadd0da9>:29: UserWarning: Matplotlib is currently using agg, which is a non-GUI backend, so cannot show the figure.\n",
      "  plt.show()\n"
     ]
    },
    {
     "name": "stdout",
     "output_type": "stream",
     "text": [
      "D:\\Data\\Diploma\\generated//Validate_2//gt/unnamed.jpg0_2CharMap.png\n",
      "D:\\Data\\Diploma\\generated//Validate_2//gt/unnamed.jpg1_2CharMap.png\n",
      "D:\\Data\\Diploma\\generated//Validate_2//gt/unnamed.jpg2_2CharMap.png\n",
      "D:\\Data\\Diploma\\generated//Validate_2//gt/unnamed.jpg3_2CharMap.png\n",
      "\n"
     ]
    },
    {
     "data": {
      "application/vnd.jupyter.widget-view+json": {
       "model_id": "68e1cfc742d44775b6a70c33625de281",
       "version_major": 2,
       "version_minor": 0
      },
      "text/plain": [
       "HBox(children=(HTML(value=''), FloatProgress(value=0.0, max=4.0), HTML(value='')))"
      ]
     },
     "metadata": {},
     "output_type": "display_data"
    },
    {
     "name": "stderr",
     "output_type": "stream",
     "text": [
      "<ipython-input-51-38678290ec6b>:163: DeprecationWarning: `np.int` is a deprecated alias for the builtin `int`. To silence this warning, use `int` by itself. Doing this will not modify any behavior and is safe. When replacing `np.int`, you may wish to use e.g. `np.int64` or `np.int32` to specify the precision. If you wish to review your current use, check the release note link for additional information.\n",
      "Deprecated in NumPy 1.20; for more details and guidance: https://numpy.org/devdocs/release/1.20.0-notes.html#deprecations\n",
      "  self.image = self.image.astype(np.int)\n",
      "<ipython-input-51-38678290ec6b>:165: DeprecationWarning: `np.int` is a deprecated alias for the builtin `int`. To silence this warning, use `int` by itself. Doing this will not modify any behavior and is safe. When replacing `np.int`, you may wish to use e.g. `np.int64` or `np.int32` to specify the precision. If you wish to review your current use, check the release note link for additional information.\n",
      "Deprecated in NumPy 1.20; for more details and guidance: https://numpy.org/devdocs/release/1.20.0-notes.html#deprecations\n",
      "  self.image += (noise * self.image).astype(np.int)\n"
     ]
    },
    {
     "name": "stdout",
     "output_type": "stream",
     "text": [
      "D:\\Data\\Diploma\\generated//Validate_2//gt/unnamed.jpg0_3CharMap.png\n",
      "D:\\Data\\Diploma\\generated//Validate_2//gt/unnamed.jpg1_3CharMap.png\n",
      "D:\\Data\\Diploma\\generated//Validate_2//gt/unnamed.jpg2_3CharMap.png\n",
      "D:\\Data\\Diploma\\generated//Validate_2//gt/unnamed.jpg3_3CharMap.png\n",
      "\n",
      "\n"
     ]
    },
    {
     "name": "stderr",
     "output_type": "stream",
     "text": [
      "<ipython-input-76-1913dadd0da9>:10: TqdmDeprecationWarning: This function will be removed in tqdm==5.0.0\n",
      "Please use `tqdm.notebook.tqdm` instead of `tqdm.tqdm_notebook`\n",
      "  for j in tn(range(4)):\n"
     ]
    },
    {
     "data": {
      "application/vnd.jupyter.widget-view+json": {
       "model_id": "8599a3adfe8c4c48a3d16cc21483b9b4",
       "version_major": 2,
       "version_minor": 0
      },
      "text/plain": [
       "HBox(children=(HTML(value=''), FloatProgress(value=0.0, max=4.0), HTML(value='')))"
      ]
     },
     "metadata": {},
     "output_type": "display_data"
    },
    {
     "data": {
      "application/vnd.jupyter.widget-view+json": {
       "model_id": "17d0e974d1be42d8b3cda7646cb110e7",
       "version_major": 2,
       "version_minor": 0
      },
      "text/plain": [
       "HBox(children=(HTML(value=''), FloatProgress(value=0.0, max=4.0), HTML(value='')))"
      ]
     },
     "metadata": {},
     "output_type": "display_data"
    },
    {
     "name": "stdout",
     "output_type": "stream",
     "text": [
      "D:\\Data\\Diploma\\generated//Validate_2//gt/unnamed.png0_0CharMap.png\n"
     ]
    },
    {
     "name": "stderr",
     "output_type": "stream",
     "text": [
      "<ipython-input-50-4a25245fc9cb>:37: DeprecationWarning: `np.float` is a deprecated alias for the builtin `float`. To silence this warning, use `float` by itself. Doing this will not modify any behavior and is safe. If you specifically wanted the numpy scalar type, use `np.float64` here.\n",
      "Deprecated in NumPy 1.20; for more details and guidance: https://numpy.org/devdocs/release/1.20.0-notes.html#deprecations\n",
      "  result = np.zeros((height, width, len(start_list)), dtype=np.float)\n"
     ]
    },
    {
     "name": "stdout",
     "output_type": "stream",
     "text": [
      "D:\\Data\\Diploma\\generated//Validate_2//gt/unnamed.png1_0CharMap.png\n",
      "D:\\Data\\Diploma\\generated//Validate_2//gt/unnamed.png2_0CharMap.png\n",
      "D:\\Data\\Diploma\\generated//Validate_2//gt/unnamed.png3_0CharMap.png\n",
      "\n"
     ]
    },
    {
     "data": {
      "application/vnd.jupyter.widget-view+json": {
       "model_id": "85c6aa8440d1414291e378d6e449b1cf",
       "version_major": 2,
       "version_minor": 0
      },
      "text/plain": [
       "HBox(children=(HTML(value=''), FloatProgress(value=0.0, max=4.0), HTML(value='')))"
      ]
     },
     "metadata": {},
     "output_type": "display_data"
    },
    {
     "name": "stdout",
     "output_type": "stream",
     "text": [
      "D:\\Data\\Diploma\\generated//Validate_2//gt/unnamed.png0_1CharMap.png\n",
      "D:\\Data\\Diploma\\generated//Validate_2//gt/unnamed.png1_1CharMap.png\n",
      "D:\\Data\\Diploma\\generated//Validate_2//gt/unnamed.png2_1CharMap.png\n"
     ]
    },
    {
     "name": "stderr",
     "output_type": "stream",
     "text": [
      "<ipython-input-51-38678290ec6b>:150: DeprecationWarning: `np.int` is a deprecated alias for the builtin `int`. To silence this warning, use `int` by itself. Doing this will not modify any behavior and is safe. When replacing `np.int`, you may wish to use e.g. `np.int64` or `np.int32` to specify the precision. If you wish to review your current use, check the release note link for additional information.\n",
      "Deprecated in NumPy 1.20; for more details and guidance: https://numpy.org/devdocs/release/1.20.0-notes.html#deprecations\n",
      "  noise = np.random.normal(0, 32, (H,W, 4)).astype(np.int)\n",
      "<ipython-input-51-38678290ec6b>:151: DeprecationWarning: `np.int` is a deprecated alias for the builtin `int`. To silence this warning, use `int` by itself. Doing this will not modify any behavior and is safe. When replacing `np.int`, you may wish to use e.g. `np.int64` or `np.int32` to specify the precision. If you wish to review your current use, check the release note link for additional information.\n",
      "Deprecated in NumPy 1.20; for more details and guidance: https://numpy.org/devdocs/release/1.20.0-notes.html#deprecations\n",
      "  self.image = self.image.astype(np.int)\n"
     ]
    },
    {
     "name": "stdout",
     "output_type": "stream",
     "text": [
      "D:\\Data\\Diploma\\generated//Validate_2//gt/unnamed.png3_1CharMap.png\n",
      "\n"
     ]
    },
    {
     "data": {
      "application/vnd.jupyter.widget-view+json": {
       "model_id": "6587a28eb8024deb888800151610a5d2",
       "version_major": 2,
       "version_minor": 0
      },
      "text/plain": [
       "HBox(children=(HTML(value=''), FloatProgress(value=0.0, max=4.0), HTML(value='')))"
      ]
     },
     "metadata": {},
     "output_type": "display_data"
    },
    {
     "name": "stdout",
     "output_type": "stream",
     "text": [
      "D:\\Data\\Diploma\\generated//Validate_2//gt/unnamed.png0_2CharMap.png\n",
      "D:\\Data\\Diploma\\generated//Validate_2//gt/unnamed.png1_2CharMap.png\n",
      "D:\\Data\\Diploma\\generated//Validate_2//gt/unnamed.png2_2CharMap.png\n",
      "D:\\Data\\Diploma\\generated//Validate_2//gt/unnamed.png3_2CharMap.png\n",
      "\n"
     ]
    },
    {
     "data": {
      "application/vnd.jupyter.widget-view+json": {
       "model_id": "3bb87df94788419b983f99fa4b5a0516",
       "version_major": 2,
       "version_minor": 0
      },
      "text/plain": [
       "HBox(children=(HTML(value=''), FloatProgress(value=0.0, max=4.0), HTML(value='')))"
      ]
     },
     "metadata": {},
     "output_type": "display_data"
    },
    {
     "name": "stdout",
     "output_type": "stream",
     "text": [
      "D:\\Data\\Diploma\\generated//Validate_2//gt/unnamed.png0_3CharMap.png\n",
      "D:\\Data\\Diploma\\generated//Validate_2//gt/unnamed.png1_3CharMap.png\n",
      "D:\\Data\\Diploma\\generated//Validate_2//gt/unnamed.png2_3CharMap.png\n",
      "D:\\Data\\Diploma\\generated//Validate_2//gt/unnamed.png3_3CharMap.png\n",
      "\n",
      "\n"
     ]
    },
    {
     "data": {
      "application/vnd.jupyter.widget-view+json": {
       "model_id": "a3e1fdcf48d44a2f8ec000111438387f",
       "version_major": 2,
       "version_minor": 0
      },
      "text/plain": [
       "HBox(children=(HTML(value=''), FloatProgress(value=0.0, max=4.0), HTML(value='')))"
      ]
     },
     "metadata": {},
     "output_type": "display_data"
    },
    {
     "data": {
      "application/vnd.jupyter.widget-view+json": {
       "model_id": "d6de482c061e4d728490fe540b780cd1",
       "version_major": 2,
       "version_minor": 0
      },
      "text/plain": [
       "HBox(children=(HTML(value=''), FloatProgress(value=0.0, max=4.0), HTML(value='')))"
      ]
     },
     "metadata": {},
     "output_type": "display_data"
    },
    {
     "name": "stdout",
     "output_type": "stream",
     "text": [
      "D:\\Data\\Diploma\\generated//Validate_2//gt/Untitled.png0_0CharMap.png\n",
      "D:\\Data\\Diploma\\generated//Validate_2//gt/Untitled.png1_0CharMap.png\n",
      "D:\\Data\\Diploma\\generated//Validate_2//gt/Untitled.png2_0CharMap.png\n",
      "D:\\Data\\Diploma\\generated//Validate_2//gt/Untitled.png3_0CharMap.png\n",
      "\n"
     ]
    },
    {
     "name": "stderr",
     "output_type": "stream",
     "text": [
      "<ipython-input-76-1913dadd0da9>:16: TqdmDeprecationWarning: This function will be removed in tqdm==5.0.0\n",
      "Please use `tqdm.notebook.tqdm` instead of `tqdm.tqdm_notebook`\n",
      "  for i in tn(range(4)):\n"
     ]
    },
    {
     "data": {
      "application/vnd.jupyter.widget-view+json": {
       "model_id": "02f2f2f67f6d43b4adb42604a2557104",
       "version_major": 2,
       "version_minor": 0
      },
      "text/plain": [
       "HBox(children=(HTML(value=''), FloatProgress(value=0.0, max=4.0), HTML(value='')))"
      ]
     },
     "metadata": {},
     "output_type": "display_data"
    },
    {
     "name": "stderr",
     "output_type": "stream",
     "text": [
      "<ipython-input-50-4a25245fc9cb>:37: DeprecationWarning: `np.float` is a deprecated alias for the builtin `float`. To silence this warning, use `float` by itself. Doing this will not modify any behavior and is safe. If you specifically wanted the numpy scalar type, use `np.float64` here.\n",
      "Deprecated in NumPy 1.20; for more details and guidance: https://numpy.org/devdocs/release/1.20.0-notes.html#deprecations\n",
      "  result = np.zeros((height, width, len(start_list)), dtype=np.float)\n",
      "<ipython-input-51-38678290ec6b>:321: DeprecationWarning: `np.int` is a deprecated alias for the builtin `int`. To silence this warning, use `int` by itself. Doing this will not modify any behavior and is safe. When replacing `np.int`, you may wish to use e.g. `np.int64` or `np.int32` to specify the precision. If you wish to review your current use, check the release note link for additional information.\n",
      "Deprecated in NumPy 1.20; for more details and guidance: https://numpy.org/devdocs/release/1.20.0-notes.html#deprecations\n",
      "  rects = [np.array(wordCharRects, dtype=np.int)[np.newaxis, :, :,:] for wordCharRects in self.annotation[\"wordsCharactersRects\"]]\n",
      "<ipython-input-76-1913dadd0da9>:29: UserWarning: Matplotlib is currently using agg, which is a non-GUI backend, so cannot show the figure.\n",
      "  plt.show()\n"
     ]
    },
    {
     "name": "stdout",
     "output_type": "stream",
     "text": [
      "D:\\Data\\Diploma\\generated//Validate_2//gt/Untitled.png0_1CharMap.png\n",
      "D:\\Data\\Diploma\\generated//Validate_2//gt/Untitled.png1_1CharMap.png\n",
      "D:\\Data\\Diploma\\generated//Validate_2//gt/Untitled.png2_1CharMap.png\n",
      "D:\\Data\\Diploma\\generated//Validate_2//gt/Untitled.png3_1CharMap.png\n",
      "\n"
     ]
    },
    {
     "data": {
      "application/vnd.jupyter.widget-view+json": {
       "model_id": "12bf3a1aacc74368b6d5838a1230b463",
       "version_major": 2,
       "version_minor": 0
      },
      "text/plain": [
       "HBox(children=(HTML(value=''), FloatProgress(value=0.0, max=4.0), HTML(value='')))"
      ]
     },
     "metadata": {},
     "output_type": "display_data"
    },
    {
     "name": "stdout",
     "output_type": "stream",
     "text": [
      "D:\\Data\\Diploma\\generated//Validate_2//gt/Untitled.png0_2CharMap.png\n",
      "D:\\Data\\Diploma\\generated//Validate_2//gt/Untitled.png1_2CharMap.png\n",
      "D:\\Data\\Diploma\\generated//Validate_2//gt/Untitled.png2_2CharMap.png\n",
      "D:\\Data\\Diploma\\generated//Validate_2//gt/Untitled.png3_2CharMap.png\n",
      "\n"
     ]
    },
    {
     "data": {
      "application/vnd.jupyter.widget-view+json": {
       "model_id": "42fa2430ba5d47408c52051d9931f2b4",
       "version_major": 2,
       "version_minor": 0
      },
      "text/plain": [
       "HBox(children=(HTML(value=''), FloatProgress(value=0.0, max=4.0), HTML(value='')))"
      ]
     },
     "metadata": {},
     "output_type": "display_data"
    },
    {
     "name": "stderr",
     "output_type": "stream",
     "text": [
      "<ipython-input-51-38678290ec6b>:150: DeprecationWarning: `np.int` is a deprecated alias for the builtin `int`. To silence this warning, use `int` by itself. Doing this will not modify any behavior and is safe. When replacing `np.int`, you may wish to use e.g. `np.int64` or `np.int32` to specify the precision. If you wish to review your current use, check the release note link for additional information.\n",
      "Deprecated in NumPy 1.20; for more details and guidance: https://numpy.org/devdocs/release/1.20.0-notes.html#deprecations\n",
      "  noise = np.random.normal(0, 32, (H,W, 4)).astype(np.int)\n",
      "<ipython-input-51-38678290ec6b>:151: DeprecationWarning: `np.int` is a deprecated alias for the builtin `int`. To silence this warning, use `int` by itself. Doing this will not modify any behavior and is safe. When replacing `np.int`, you may wish to use e.g. `np.int64` or `np.int32` to specify the precision. If you wish to review your current use, check the release note link for additional information.\n",
      "Deprecated in NumPy 1.20; for more details and guidance: https://numpy.org/devdocs/release/1.20.0-notes.html#deprecations\n",
      "  self.image = self.image.astype(np.int)\n"
     ]
    },
    {
     "name": "stdout",
     "output_type": "stream",
     "text": [
      "D:\\Data\\Diploma\\generated//Validate_2//gt/Untitled.png0_3CharMap.png\n",
      "D:\\Data\\Diploma\\generated//Validate_2//gt/Untitled.png1_3CharMap.png\n",
      "D:\\Data\\Diploma\\generated//Validate_2//gt/Untitled.png2_3CharMap.png\n",
      "D:\\Data\\Diploma\\generated//Validate_2//gt/Untitled.png3_3CharMap.png\n",
      "\n",
      "\n"
     ]
    },
    {
     "name": "stderr",
     "output_type": "stream",
     "text": [
      "<ipython-input-76-1913dadd0da9>:10: TqdmDeprecationWarning: This function will be removed in tqdm==5.0.0\n",
      "Please use `tqdm.notebook.tqdm` instead of `tqdm.tqdm_notebook`\n",
      "  for j in tn(range(4)):\n"
     ]
    },
    {
     "data": {
      "application/vnd.jupyter.widget-view+json": {
       "model_id": "d979daee4b4c421eb59ae7202d94346a",
       "version_major": 2,
       "version_minor": 0
      },
      "text/plain": [
       "HBox(children=(HTML(value=''), FloatProgress(value=0.0, max=4.0), HTML(value='')))"
      ]
     },
     "metadata": {},
     "output_type": "display_data"
    },
    {
     "name": "stderr",
     "output_type": "stream",
     "text": [
      "<ipython-input-76-1913dadd0da9>:16: TqdmDeprecationWarning: This function will be removed in tqdm==5.0.0\n",
      "Please use `tqdm.notebook.tqdm` instead of `tqdm.tqdm_notebook`\n",
      "  for i in tn(range(4)):\n"
     ]
    },
    {
     "data": {
      "application/vnd.jupyter.widget-view+json": {
       "model_id": "322239f2ce2d4f9e84c46e186e48089a",
       "version_major": 2,
       "version_minor": 0
      },
      "text/plain": [
       "HBox(children=(HTML(value=''), FloatProgress(value=0.0, max=4.0), HTML(value='')))"
      ]
     },
     "metadata": {},
     "output_type": "display_data"
    },
    {
     "name": "stderr",
     "output_type": "stream",
     "text": [
      "<ipython-input-51-38678290ec6b>:321: DeprecationWarning: `np.int` is a deprecated alias for the builtin `int`. To silence this warning, use `int` by itself. Doing this will not modify any behavior and is safe. When replacing `np.int`, you may wish to use e.g. `np.int64` or `np.int32` to specify the precision. If you wish to review your current use, check the release note link for additional information.\n",
      "Deprecated in NumPy 1.20; for more details and guidance: https://numpy.org/devdocs/release/1.20.0-notes.html#deprecations\n",
      "  rects = [np.array(wordCharRects, dtype=np.int)[np.newaxis, :, :,:] for wordCharRects in self.annotation[\"wordsCharactersRects\"]]\n",
      "<ipython-input-76-1913dadd0da9>:29: UserWarning: Matplotlib is currently using agg, which is a non-GUI backend, so cannot show the figure.\n",
      "  plt.show()\n"
     ]
    },
    {
     "name": "stdout",
     "output_type": "stream",
     "text": [
      "D:\\Data\\Diploma\\generated//Validate_2//gt/Vector-Illustration-of-Abstract-Waves-Design-Background_thumb.jpg0_0CharMap.png\n",
      "D:\\Data\\Diploma\\generated//Validate_2//gt/Vector-Illustration-of-Abstract-Waves-Design-Background_thumb.jpg1_0CharMap.png\n",
      "D:\\Data\\Diploma\\generated//Validate_2//gt/Vector-Illustration-of-Abstract-Waves-Design-Background_thumb.jpg2_0CharMap.png\n",
      "D:\\Data\\Diploma\\generated//Validate_2//gt/Vector-Illustration-of-Abstract-Waves-Design-Background_thumb.jpg3_0CharMap.png\n",
      "\n"
     ]
    },
    {
     "data": {
      "application/vnd.jupyter.widget-view+json": {
       "model_id": "0611d0b466f54ceea747f586a645e5de",
       "version_major": 2,
       "version_minor": 0
      },
      "text/plain": [
       "HBox(children=(HTML(value=''), FloatProgress(value=0.0, max=4.0), HTML(value='')))"
      ]
     },
     "metadata": {},
     "output_type": "display_data"
    },
    {
     "name": "stdout",
     "output_type": "stream",
     "text": [
      "D:\\Data\\Diploma\\generated//Validate_2//gt/Vector-Illustration-of-Abstract-Waves-Design-Background_thumb.jpg0_1CharMap.png\n",
      "D:\\Data\\Diploma\\generated//Validate_2//gt/Vector-Illustration-of-Abstract-Waves-Design-Background_thumb.jpg1_1CharMap.png\n"
     ]
    },
    {
     "name": "stderr",
     "output_type": "stream",
     "text": [
      "<ipython-input-51-38678290ec6b>:150: DeprecationWarning: `np.int` is a deprecated alias for the builtin `int`. To silence this warning, use `int` by itself. Doing this will not modify any behavior and is safe. When replacing `np.int`, you may wish to use e.g. `np.int64` or `np.int32` to specify the precision. If you wish to review your current use, check the release note link for additional information.\n",
      "Deprecated in NumPy 1.20; for more details and guidance: https://numpy.org/devdocs/release/1.20.0-notes.html#deprecations\n",
      "  noise = np.random.normal(0, 32, (H,W, 4)).astype(np.int)\n",
      "<ipython-input-51-38678290ec6b>:151: DeprecationWarning: `np.int` is a deprecated alias for the builtin `int`. To silence this warning, use `int` by itself. Doing this will not modify any behavior and is safe. When replacing `np.int`, you may wish to use e.g. `np.int64` or `np.int32` to specify the precision. If you wish to review your current use, check the release note link for additional information.\n",
      "Deprecated in NumPy 1.20; for more details and guidance: https://numpy.org/devdocs/release/1.20.0-notes.html#deprecations\n",
      "  self.image = self.image.astype(np.int)\n"
     ]
    },
    {
     "name": "stdout",
     "output_type": "stream",
     "text": [
      "D:\\Data\\Diploma\\generated//Validate_2//gt/Vector-Illustration-of-Abstract-Waves-Design-Background_thumb.jpg2_1CharMap.png\n",
      "D:\\Data\\Diploma\\generated//Validate_2//gt/Vector-Illustration-of-Abstract-Waves-Design-Background_thumb.jpg3_1CharMap.png\n",
      "\n"
     ]
    },
    {
     "name": "stderr",
     "output_type": "stream",
     "text": [
      "<ipython-input-76-1913dadd0da9>:16: TqdmDeprecationWarning: This function will be removed in tqdm==5.0.0\n",
      "Please use `tqdm.notebook.tqdm` instead of `tqdm.tqdm_notebook`\n",
      "  for i in tn(range(4)):\n"
     ]
    },
    {
     "data": {
      "application/vnd.jupyter.widget-view+json": {
       "model_id": "9d242911d28f4b25b1c3fb82cf51445f",
       "version_major": 2,
       "version_minor": 0
      },
      "text/plain": [
       "HBox(children=(HTML(value=''), FloatProgress(value=0.0, max=4.0), HTML(value='')))"
      ]
     },
     "metadata": {},
     "output_type": "display_data"
    },
    {
     "name": "stderr",
     "output_type": "stream",
     "text": [
      "<ipython-input-51-38678290ec6b>:321: DeprecationWarning: `np.int` is a deprecated alias for the builtin `int`. To silence this warning, use `int` by itself. Doing this will not modify any behavior and is safe. When replacing `np.int`, you may wish to use e.g. `np.int64` or `np.int32` to specify the precision. If you wish to review your current use, check the release note link for additional information.\n",
      "Deprecated in NumPy 1.20; for more details and guidance: https://numpy.org/devdocs/release/1.20.0-notes.html#deprecations\n",
      "  rects = [np.array(wordCharRects, dtype=np.int)[np.newaxis, :, :,:] for wordCharRects in self.annotation[\"wordsCharactersRects\"]]\n",
      "<ipython-input-76-1913dadd0da9>:29: UserWarning: Matplotlib is currently using agg, which is a non-GUI backend, so cannot show the figure.\n",
      "  plt.show()\n"
     ]
    },
    {
     "name": "stdout",
     "output_type": "stream",
     "text": [
      "D:\\Data\\Diploma\\generated//Validate_2//gt/Vector-Illustration-of-Abstract-Waves-Design-Background_thumb.jpg0_2CharMap.png\n",
      "D:\\Data\\Diploma\\generated//Validate_2//gt/Vector-Illustration-of-Abstract-Waves-Design-Background_thumb.jpg1_2CharMap.png\n",
      "D:\\Data\\Diploma\\generated//Validate_2//gt/Vector-Illustration-of-Abstract-Waves-Design-Background_thumb.jpg2_2CharMap.png\n"
     ]
    },
    {
     "name": "stderr",
     "output_type": "stream",
     "text": [
      "<ipython-input-50-4a25245fc9cb>:37: DeprecationWarning: `np.float` is a deprecated alias for the builtin `float`. To silence this warning, use `float` by itself. Doing this will not modify any behavior and is safe. If you specifically wanted the numpy scalar type, use `np.float64` here.\n",
      "Deprecated in NumPy 1.20; for more details and guidance: https://numpy.org/devdocs/release/1.20.0-notes.html#deprecations\n",
      "  result = np.zeros((height, width, len(start_list)), dtype=np.float)\n"
     ]
    },
    {
     "name": "stdout",
     "output_type": "stream",
     "text": [
      "D:\\Data\\Diploma\\generated//Validate_2//gt/Vector-Illustration-of-Abstract-Waves-Design-Background_thumb.jpg3_2CharMap.png\n",
      "\n"
     ]
    },
    {
     "name": "stderr",
     "output_type": "stream",
     "text": [
      "<ipython-input-76-1913dadd0da9>:16: TqdmDeprecationWarning: This function will be removed in tqdm==5.0.0\n",
      "Please use `tqdm.notebook.tqdm` instead of `tqdm.tqdm_notebook`\n",
      "  for i in tn(range(4)):\n"
     ]
    },
    {
     "data": {
      "application/vnd.jupyter.widget-view+json": {
       "model_id": "a9bf12c2b51e4b51bcb5d8e5f212fa4e",
       "version_major": 2,
       "version_minor": 0
      },
      "text/plain": [
       "HBox(children=(HTML(value=''), FloatProgress(value=0.0, max=4.0), HTML(value='')))"
      ]
     },
     "metadata": {},
     "output_type": "display_data"
    },
    {
     "name": "stderr",
     "output_type": "stream",
     "text": [
      "<ipython-input-51-38678290ec6b>:321: DeprecationWarning: `np.int` is a deprecated alias for the builtin `int`. To silence this warning, use `int` by itself. Doing this will not modify any behavior and is safe. When replacing `np.int`, you may wish to use e.g. `np.int64` or `np.int32` to specify the precision. If you wish to review your current use, check the release note link for additional information.\n",
      "Deprecated in NumPy 1.20; for more details and guidance: https://numpy.org/devdocs/release/1.20.0-notes.html#deprecations\n",
      "  rects = [np.array(wordCharRects, dtype=np.int)[np.newaxis, :, :,:] for wordCharRects in self.annotation[\"wordsCharactersRects\"]]\n",
      "<ipython-input-76-1913dadd0da9>:29: UserWarning: Matplotlib is currently using agg, which is a non-GUI backend, so cannot show the figure.\n",
      "  plt.show()\n"
     ]
    },
    {
     "name": "stdout",
     "output_type": "stream",
     "text": [
      "D:\\Data\\Diploma\\generated//Validate_2//gt/Vector-Illustration-of-Abstract-Waves-Design-Background_thumb.jpg0_3CharMap.png\n",
      "D:\\Data\\Diploma\\generated//Validate_2//gt/Vector-Illustration-of-Abstract-Waves-Design-Background_thumb.jpg1_3CharMap.png\n"
     ]
    },
    {
     "name": "stderr",
     "output_type": "stream",
     "text": [
      "<ipython-input-50-4a25245fc9cb>:37: DeprecationWarning: `np.float` is a deprecated alias for the builtin `float`. To silence this warning, use `float` by itself. Doing this will not modify any behavior and is safe. If you specifically wanted the numpy scalar type, use `np.float64` here.\n",
      "Deprecated in NumPy 1.20; for more details and guidance: https://numpy.org/devdocs/release/1.20.0-notes.html#deprecations\n",
      "  result = np.zeros((height, width, len(start_list)), dtype=np.float)\n"
     ]
    },
    {
     "name": "stdout",
     "output_type": "stream",
     "text": [
      "D:\\Data\\Diploma\\generated//Validate_2//gt/Vector-Illustration-of-Abstract-Waves-Design-Background_thumb.jpg2_3CharMap.png\n",
      "D:\\Data\\Diploma\\generated//Validate_2//gt/Vector-Illustration-of-Abstract-Waves-Design-Background_thumb.jpg3_3CharMap.png\n",
      "\n",
      "\n"
     ]
    },
    {
     "name": "stderr",
     "output_type": "stream",
     "text": [
      "<ipython-input-76-1913dadd0da9>:10: TqdmDeprecationWarning: This function will be removed in tqdm==5.0.0\n",
      "Please use `tqdm.notebook.tqdm` instead of `tqdm.tqdm_notebook`\n",
      "  for j in tn(range(4)):\n"
     ]
    },
    {
     "data": {
      "application/vnd.jupyter.widget-view+json": {
       "model_id": "827dbbe988234cf6b9c7ca8da2e4692c",
       "version_major": 2,
       "version_minor": 0
      },
      "text/plain": [
       "HBox(children=(HTML(value=''), FloatProgress(value=0.0, max=4.0), HTML(value='')))"
      ]
     },
     "metadata": {},
     "output_type": "display_data"
    },
    {
     "data": {
      "application/vnd.jupyter.widget-view+json": {
       "model_id": "22b6be138c614b838ec898633d0834fb",
       "version_major": 2,
       "version_minor": 0
      },
      "text/plain": [
       "HBox(children=(HTML(value=''), FloatProgress(value=0.0, max=4.0), HTML(value='')))"
      ]
     },
     "metadata": {},
     "output_type": "display_data"
    },
    {
     "name": "stdout",
     "output_type": "stream",
     "text": [
      "D:\\Data\\Diploma\\generated//Validate_2//gt/vector-tech-background-card-prev1-by-dragonart.png0_0CharMap.png\n",
      "D:\\Data\\Diploma\\generated//Validate_2//gt/vector-tech-background-card-prev1-by-dragonart.png1_0CharMap.png\n",
      "D:\\Data\\Diploma\\generated//Validate_2//gt/vector-tech-background-card-prev1-by-dragonart.png2_0CharMap.png\n",
      "D:\\Data\\Diploma\\generated//Validate_2//gt/vector-tech-background-card-prev1-by-dragonart.png3_0CharMap.png\n",
      "\n"
     ]
    },
    {
     "name": "stderr",
     "output_type": "stream",
     "text": [
      "<ipython-input-76-1913dadd0da9>:16: TqdmDeprecationWarning: This function will be removed in tqdm==5.0.0\n",
      "Please use `tqdm.notebook.tqdm` instead of `tqdm.tqdm_notebook`\n",
      "  for i in tn(range(4)):\n"
     ]
    },
    {
     "data": {
      "application/vnd.jupyter.widget-view+json": {
       "model_id": "6a663c7460da4ab684fad327cbed5aa9",
       "version_major": 2,
       "version_minor": 0
      },
      "text/plain": [
       "HBox(children=(HTML(value=''), FloatProgress(value=0.0, max=4.0), HTML(value='')))"
      ]
     },
     "metadata": {},
     "output_type": "display_data"
    },
    {
     "name": "stderr",
     "output_type": "stream",
     "text": [
      "<ipython-input-51-38678290ec6b>:321: DeprecationWarning: `np.int` is a deprecated alias for the builtin `int`. To silence this warning, use `int` by itself. Doing this will not modify any behavior and is safe. When replacing `np.int`, you may wish to use e.g. `np.int64` or `np.int32` to specify the precision. If you wish to review your current use, check the release note link for additional information.\n",
      "Deprecated in NumPy 1.20; for more details and guidance: https://numpy.org/devdocs/release/1.20.0-notes.html#deprecations\n",
      "  rects = [np.array(wordCharRects, dtype=np.int)[np.newaxis, :, :,:] for wordCharRects in self.annotation[\"wordsCharactersRects\"]]\n",
      "<ipython-input-76-1913dadd0da9>:29: UserWarning: Matplotlib is currently using agg, which is a non-GUI backend, so cannot show the figure.\n",
      "  plt.show()\n"
     ]
    },
    {
     "name": "stdout",
     "output_type": "stream",
     "text": [
      "D:\\Data\\Diploma\\generated//Validate_2//gt/vector-tech-background-card-prev1-by-dragonart.png0_1CharMap.png\n",
      "D:\\Data\\Diploma\\generated//Validate_2//gt/vector-tech-background-card-prev1-by-dragonart.png1_1CharMap.png\n",
      "D:\\Data\\Diploma\\generated//Validate_2//gt/vector-tech-background-card-prev1-by-dragonart.png2_1CharMap.png\n",
      "D:\\Data\\Diploma\\generated//Validate_2//gt/vector-tech-background-card-prev1-by-dragonart.png3_1CharMap.png\n",
      "\n"
     ]
    },
    {
     "name": "stderr",
     "output_type": "stream",
     "text": [
      "<ipython-input-76-1913dadd0da9>:16: TqdmDeprecationWarning: This function will be removed in tqdm==5.0.0\n",
      "Please use `tqdm.notebook.tqdm` instead of `tqdm.tqdm_notebook`\n",
      "  for i in tn(range(4)):\n"
     ]
    },
    {
     "data": {
      "application/vnd.jupyter.widget-view+json": {
       "model_id": "14bd7de7d0434c7397b779cae5842c49",
       "version_major": 2,
       "version_minor": 0
      },
      "text/plain": [
       "HBox(children=(HTML(value=''), FloatProgress(value=0.0, max=4.0), HTML(value='')))"
      ]
     },
     "metadata": {},
     "output_type": "display_data"
    },
    {
     "name": "stderr",
     "output_type": "stream",
     "text": [
      "<ipython-input-51-38678290ec6b>:321: DeprecationWarning: `np.int` is a deprecated alias for the builtin `int`. To silence this warning, use `int` by itself. Doing this will not modify any behavior and is safe. When replacing `np.int`, you may wish to use e.g. `np.int64` or `np.int32` to specify the precision. If you wish to review your current use, check the release note link for additional information.\n",
      "Deprecated in NumPy 1.20; for more details and guidance: https://numpy.org/devdocs/release/1.20.0-notes.html#deprecations\n",
      "  rects = [np.array(wordCharRects, dtype=np.int)[np.newaxis, :, :,:] for wordCharRects in self.annotation[\"wordsCharactersRects\"]]\n",
      "<ipython-input-76-1913dadd0da9>:29: UserWarning: Matplotlib is currently using agg, which is a non-GUI backend, so cannot show the figure.\n",
      "  plt.show()\n"
     ]
    },
    {
     "name": "stdout",
     "output_type": "stream",
     "text": [
      "D:\\Data\\Diploma\\generated//Validate_2//gt/vector-tech-background-card-prev1-by-dragonart.png0_2CharMap.png\n",
      "D:\\Data\\Diploma\\generated//Validate_2//gt/vector-tech-background-card-prev1-by-dragonart.png1_2CharMap.png\n",
      "D:\\Data\\Diploma\\generated//Validate_2//gt/vector-tech-background-card-prev1-by-dragonart.png2_2CharMap.png\n",
      "D:\\Data\\Diploma\\generated//Validate_2//gt/vector-tech-background-card-prev1-by-dragonart.png3_2CharMap.png\n",
      "\n"
     ]
    },
    {
     "data": {
      "application/vnd.jupyter.widget-view+json": {
       "model_id": "d59635ff0eaf4fde863f271826a05c37",
       "version_major": 2,
       "version_minor": 0
      },
      "text/plain": [
       "HBox(children=(HTML(value=''), FloatProgress(value=0.0, max=4.0), HTML(value='')))"
      ]
     },
     "metadata": {},
     "output_type": "display_data"
    },
    {
     "name": "stdout",
     "output_type": "stream",
     "text": [
      "D:\\Data\\Diploma\\generated//Validate_2//gt/vector-tech-background-card-prev1-by-dragonart.png0_3CharMap.png\n"
     ]
    },
    {
     "name": "stderr",
     "output_type": "stream",
     "text": [
      "<ipython-input-50-4a25245fc9cb>:37: DeprecationWarning: `np.float` is a deprecated alias for the builtin `float`. To silence this warning, use `float` by itself. Doing this will not modify any behavior and is safe. If you specifically wanted the numpy scalar type, use `np.float64` here.\n",
      "Deprecated in NumPy 1.20; for more details and guidance: https://numpy.org/devdocs/release/1.20.0-notes.html#deprecations\n",
      "  result = np.zeros((height, width, len(start_list)), dtype=np.float)\n"
     ]
    },
    {
     "name": "stdout",
     "output_type": "stream",
     "text": [
      "D:\\Data\\Diploma\\generated//Validate_2//gt/vector-tech-background-card-prev1-by-dragonart.png1_3CharMap.png\n",
      "D:\\Data\\Diploma\\generated//Validate_2//gt/vector-tech-background-card-prev1-by-dragonart.png2_3CharMap.png\n",
      "D:\\Data\\Diploma\\generated//Validate_2//gt/vector-tech-background-card-prev1-by-dragonart.png3_3CharMap.png\n",
      "\n",
      "\n",
      "\n"
     ]
    }
   ],
   "source": [
    "os.makedirs(pathToGenerated, exist_ok=True)\n",
    "os.makedirs(pathToGT, exist_ok=True)\n",
    "imgCount = 0\n",
    "\n",
    "dataList = []\n",
    "for file in tn(os.listdir(pathToBackGrounds)):\n",
    "#     if file != \"depositphotos_52491899-stock-illustration-guilloche-background.jpg\":\n",
    "#         continue\n",
    "\n",
    "    for j in tn(range(4)):\n",
    "        image = Image.open(os.path.join(pathToBackGrounds, file))\n",
    "        imageTextGenerator = OneImageTextGenerator(image)\n",
    "\n",
    "        imageTextGenerator.generate()\n",
    "\n",
    "        for i in tn(range(4)):\n",
    "            imd = ImageDistorter(imageTextGenerator.image2, imageTextGenerator.textImage, imageTextGenerator.annotation, image)\n",
    "            imd.process()\n",
    "            distortedImage = imd.image\n",
    "            textImage = imd.textImage\n",
    "            name =  file + str(i) + \"_\"+ str(j)\n",
    "            name = name.encode(\"ascii\", \"ignore\").decode()\n",
    "            distoredImageName = \"/\"+ name +\".png\"\n",
    "            gtName = \"/\"+ name + \".png\"\n",
    "            charMapName = \"/\"+ name + \"CharMap.png\"\n",
    "            distortedImage.save(pathToGenerated + distoredImageName)\n",
    "            textImage.save(pathToGT + gtName)\n",
    "            plt.imshow(imd.characterMap)\n",
    "            plt.show()\n",
    "            \n",
    "            cv2.imwrite(pathToGT + charMapName ,imd.characterMap)\n",
    "            with open(pathToGT + \"/\"+ name+ \".json\", mode=\"w\") as f:\n",
    "                json.dump(imageTextGenerator.annotation, f)\n",
    "            metadata = dict()\n",
    "            metadata[\"distortedImage\"] = \"generated\" + distoredImageName\n",
    "            metadata[\"gtImage\"] = \"gt\" + gtName\n",
    "            metadata[\"characterMap\"] = \"gt\" + charMapName\n",
    "            metadata[\"annotation\"] = \"gt/\" + name +\".json\"\n",
    "            dataList.append(metadata)\n",
    "            print(pathToGT + \"/\"+ name + \"CharMap.png\")\n",
    "            assert(os.path.exists(pathToGT + \"/\"+ name + \"CharMap.png\"))\n",
    "\n",
    "            imgCount += 1\n",
    "            #break\n",
    "        if imgCount > 10000:\n",
    "            break\n",
    "        #break \n",
    "    #break\n",
    "with open(pathToOutDir + \"dataList.txt\", mode=\"w\",) as f:\n",
    "    json.dump(dataList, f)\n",
    "        \n",
    "    \n",
    "# plt.figure(figsize=(50,50))\n",
    "# plt.imshow(np.array(imageTextGenerator.image2))\n",
    "\n",
    "\n",
    "# plt.figure(figsize=(50,50))\n",
    "\n",
    "# plt.imshow(imd.image)"
   ]
  },
  {
   "cell_type": "code",
   "execution_count": 75,
   "metadata": {},
   "outputs": [
    {
     "name": "stderr",
     "output_type": "stream",
     "text": [
      "<ipython-input-75-d3df4c3aa318>:2: UserWarning: Matplotlib is currently using agg, which is a non-GUI backend, so cannot show the figure.\n",
      "  plt.show()\n"
     ]
    }
   ],
   "source": [
    "plt.imshow(imd.characterMap)\n",
    "plt.show()"
   ]
  },
  {
   "cell_type": "code",
   "execution_count": 30,
   "metadata": {},
   "outputs": [
    {
     "ename": "NameError",
     "evalue": "name 'dssd' is not defined",
     "output_type": "error",
     "traceback": [
      "\u001b[1;31m---------------------------------------------------------------------------\u001b[0m",
      "\u001b[1;31mNameError\u001b[0m                                 Traceback (most recent call last)",
      "\u001b[1;32m<ipython-input-30-f08ed94ede23>\u001b[0m in \u001b[0;36m<module>\u001b[1;34m\u001b[0m\n\u001b[1;32m----> 1\u001b[1;33m \u001b[0mdssd\u001b[0m\u001b[1;33m\u001b[0m\u001b[1;33m\u001b[0m\u001b[0m\n\u001b[0m",
      "\u001b[1;31mNameError\u001b[0m: name 'dssd' is not defined"
     ]
    }
   ],
   "source": [
    "dssd"
   ]
  },
  {
   "cell_type": "code",
   "execution_count": null,
   "metadata": {},
   "outputs": [],
   "source": [
    "# img = Image.fromarray(imd.image).copy()\n",
    "# w, h = img.size\n",
    "# w, h = w // 2, h // 2\n",
    "# w1, h1 = imageTextGenerator.image2.size\n",
    "# w1, h1 = w1 // 2, h1 // 2\n",
    "\n",
    "# rotated = rotateRect([w-w1, h-h1, w+w1, h+h1], -imd.angle, h, w)\n",
    "\n",
    "\n",
    "# src_points = np.float32([[w-w1, h-h1], [w+w1, h-h1], [w+w1,h+h1], [w-w1,h+h1]])\n",
    "\n",
    "# dst_points = np.float32(rotated)\n",
    "# print([w,h,w1,h1])\n",
    "# print(src_points)\n",
    "# print(\"*/*/*/\")\n",
    "# print(dst_points)\n",
    "# projective_matrix = cv2.getPerspectiveTransform(src_points, dst_points)\n",
    "# w, h = img.size\n",
    "# img"
   ]
  },
  {
   "cell_type": "code",
   "execution_count": null,
   "metadata": {},
   "outputs": [],
   "source": [
    "(imd.image[:,:,-1] != 0).sum()"
   ]
  },
  {
   "cell_type": "code",
   "execution_count": null,
   "metadata": {},
   "outputs": [],
   "source": [
    "imd.image[:,:,-1].shape"
   ]
  },
  {
   "cell_type": "code",
   "execution_count": null,
   "metadata": {},
   "outputs": [],
   "source": [
    "983*1266"
   ]
  },
  {
   "cell_type": "code",
   "execution_count": null,
   "metadata": {},
   "outputs": [],
   "source": [
    "1244478 / 699733"
   ]
  },
  {
   "cell_type": "code",
   "execution_count": null,
   "metadata": {},
   "outputs": [],
   "source": [
    "img = Image.fromarray(imd.image).copy()\n",
    "for symbol in zip(imd.annotation[\"wordsCharactersRects\"]):\n",
    "\n",
    "    for k in symbol[0]:\n",
    "        rotated = np.array(k)\n",
    "        d = ImageDraw.Draw(img)\n",
    "        #rotated = rotateRect(k, imd.angle)\n",
    "    #     d.line((rotated[0], rotated[1], rotated[0], rotated[3]), fill=(100,100,100), width=2)\n",
    "    #     d.line((k[0], k[1], k[2], k[1]), fill=(100,100,100), width=2)\n",
    "    #     d.line((k[2], k[1], k[2], k[3]), fill=(100,100,100), width=2)\n",
    "    #     d.line((k[0], k[3], k[2], k[3]), fill=(100,100,100), width=2)\n",
    "        #rotated = k[0]\n",
    "        #k = k[0]\n",
    "#         rotated = k\n",
    "#         w, h = img.size\n",
    "#         w, h = w // 2, h // 2\n",
    "#         w1, h1 = imageTextGenerator.image2.size\n",
    "#         w1, h1 = w1 // 2, h1 // 2\n",
    "\n",
    "#         rotated = np.float32([ [k[0][0] + w-w1, k[0][1] + h-h1], [k[1][0] + w-w1, k[1][1]+ h-h1], \\\n",
    "#                             [k[2][0] + w-w1, k[2][1] + h-h1], [k[3][0] + w-w1, k[3][1] + h-h1]] )\n",
    "\n",
    "\n",
    "#     #     d.line((*rotated[0], *rotated[1]), fill=(195,0,0), width=1)\n",
    "#     #     d.line((*rotated[1], *rotated[2]), fill=(195,0,0), width=1)\n",
    "#     #     d.line((*rotated[2], *rotated[3]), fill=(195,0,0), width=1)\n",
    "#     #     d.line((*rotated[3], *rotated[0]), fill=(195,0,0), width=1)\n",
    "#     #     print(img.size)\n",
    "#         w, h = img.size\n",
    "#         rotated = cv2.perspectiveTransform(np.float32(rotated)[None, :, :], projective_matrix, (w,h))[0]\n",
    "#        # print(rotated)\n",
    "        #rotated = rotateRect(k,a)\n",
    "        d.line((*rotated[0], *rotated[1]), fill=(195,0,0), width=1)\n",
    "        d.line((*rotated[1], *rotated[2]), fill=(195,0,0), width=1)\n",
    "        d.line((*rotated[2], *rotated[3]), fill=(195,0,0), width=1)\n",
    "        d.line((*rotated[3], *rotated[0]), fill=(195,0,0), width=1)\n",
    "\n",
    "        #break\n",
    "img"
   ]
  },
  {
   "cell_type": "code",
   "execution_count": null,
   "metadata": {},
   "outputs": [],
   "source": []
  },
  {
   "cell_type": "code",
   "execution_count": null,
   "metadata": {},
   "outputs": [],
   "source": [
    "img = Image.fromarray(imd.image).copy()\n",
    "print(imd.annotation[\"wordRects\"][0])\n",
    "for k in zip(imd.annotation[\"wordRects\"]):\n",
    "    #print(k)\n",
    "    d = ImageDraw.Draw(img)\n",
    "    #rotated = rotateRect(k, imd.angle)\n",
    "#     d.line((rotated[0], rotated[1], rotated[0], rotated[3]), fill=(100,100,100), width=2)\n",
    "#     d.line((k[0], k[1], /k[2], k[1]), fill=(100,100,100), width=2)\n",
    "#     d.line((k[2], k[1], k[2], k[3]), fill=(100,100,100), width=2)\n",
    "#     d.line((k[0], k[3], k[2], k[3]), fill=(100,100,100), width=2)\n",
    "    rotated = k[0]\n",
    "    k = k[0]\n",
    "    rotated = k\n",
    "\n",
    "    \n",
    "    d.line((*rotated[0], *rotated[1]), fill=(195,0,0), width=1)\n",
    "    d.line((*rotated[1], *rotated[2]), fill=(195,0,0), width=1)\n",
    "    d.line((*rotated[2], *rotated[3]), fill=(195,0,0), width=1)\n",
    "    d.line((*rotated[3], *rotated[0]), fill=(195,0,0), width=1)\n",
    "\n",
    "   \n",
    "    #break\n",
    "img"
   ]
  },
  {
   "cell_type": "code",
   "execution_count": null,
   "metadata": {},
   "outputs": [],
   "source": [
    "imageTextGenerator.image2"
   ]
  },
  {
   "cell_type": "code",
   "execution_count": null,
   "metadata": {},
   "outputs": [],
   "source": [
    "imd.angle "
   ]
  },
  {
   "cell_type": "code",
   "execution_count": null,
   "metadata": {},
   "outputs": [],
   "source": [
    "angleRad = (imd.angle + 90) %180 * np.pi / 180"
   ]
  },
  {
   "cell_type": "code",
   "execution_count": null,
   "metadata": {},
   "outputs": [],
   "source": [
    "#angleRad = (-45+ 90) %180 * np.pi / 180"
   ]
  },
  {
   "cell_type": "code",
   "execution_count": null,
   "metadata": {},
   "outputs": [],
   "source": [
    "angleRad"
   ]
  },
  {
   "cell_type": "code",
   "execution_count": null,
   "metadata": {},
   "outputs": [],
   "source": [
    "h,w = imageTextGenerator.image2.size"
   ]
  },
  {
   "cell_type": "code",
   "execution_count": null,
   "metadata": {},
   "outputs": [],
   "source": [
    "!pip3 install PyQt5"
   ]
  },
  {
   "cell_type": "code",
   "execution_count": null,
   "metadata": {},
   "outputs": [],
   "source": [
    "import tkinter"
   ]
  },
  {
   "cell_type": "code",
   "execution_count": null,
   "metadata": {},
   "outputs": [],
   "source": [
    "string.Š\n"
   ]
  },
  {
   "cell_type": "code",
   "execution_count": null,
   "metadata": {
    "scrolled": false
   },
   "outputs": [],
   "source": [
    "#for font in [os.path.join(pathToFonts, font) for font in os.listdir(pathToFonts)]:\n",
    "for font in [os.path.join(pathToFontsUnicode, font) for font in os.listdir(pathToFontsUnicode)]:\n",
    "    print(font)\n",
    "    font = ImageFont.truetype(font, 50)\n",
    "    image =  Image.new(\"RGBA\", (1000,100), (255, 255, 255, 0))\n",
    "    draw = ImageDraw.Draw(image)\n",
    "    text = \"některé\"#string.ascii_letters\n",
    "    h,w = draw.textsize(text, font=font)[::-1]\n",
    "    color = (255,255,255,255)\n",
    "    txt = Image.new('L', (w,h))\n",
    "    d = ImageDraw.Draw(txt)\n",
    "    d.text((0, 0), text,  font=font, fill=255)\n",
    "    display(txt)\n"
   ]
  },
  {
   "cell_type": "code",
   "execution_count": null,
   "metadata": {},
   "outputs": [],
   "source": [
    "txt"
   ]
  },
  {
   "cell_type": "code",
   "execution_count": null,
   "metadata": {},
   "outputs": [],
   "source": [
    "import tkinter as tk"
   ]
  },
  {
   "cell_type": "code",
   "execution_count": null,
   "metadata": {},
   "outputs": [],
   "source": [
    "!pup"
   ]
  },
  {
   "cell_type": "code",
   "execution_count": null,
   "metadata": {},
   "outputs": [],
   "source": []
  }
 ],
 "metadata": {
  "kernelspec": {
   "display_name": "diploma",
   "language": "python",
   "name": "diploma"
  },
  "language_info": {
   "codemirror_mode": {
    "name": "ipython",
    "version": 3
   },
   "file_extension": ".py",
   "mimetype": "text/x-python",
   "name": "python",
   "nbconvert_exporter": "python",
   "pygments_lexer": "ipython3",
   "version": "3.8.12"
  }
 },
 "nbformat": 4,
 "nbformat_minor": 2
}
