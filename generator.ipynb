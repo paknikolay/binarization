{
 "cells": [
  {
   "cell_type": "code",
   "execution_count": 1,
   "metadata": {},
   "outputs": [],
   "source": [
    "# !pip install squircle\n",
    "# !pip install imutils"
   ]
  },
  {
   "cell_type": "code",
   "execution_count": 2,
   "metadata": {},
   "outputs": [],
   "source": [
    "%config Completer.use_jedi = False"
   ]
  },
  {
   "cell_type": "code",
   "execution_count": 3,
   "metadata": {},
   "outputs": [],
   "source": [
    "import cv2\n",
    "import os\n",
    "import matplotlib.pyplot as plt\n",
    "import numpy as np\n",
    "import string\n",
    "from PIL import Image, ImageFont, ImageDraw\n",
    "import math"
   ]
  },
  {
   "cell_type": "code",
   "execution_count": 4,
   "metadata": {},
   "outputs": [],
   "source": [
    "pathToDataForGeneration = \"D:\\Data\\Diploma\\dataForGeneration/\"\n",
    "pathToBackGrounds = pathToDataForGeneration + \"Backgrounds\"\n",
    "pathToOutDir = \"D:\\Data\\Diploma\\generated/\"\n",
    "pathToGenerated = pathToOutDir + \"generated\"\n",
    "pathToGT = pathToOutDir + \"gt\"\n",
    "pathToFonts = pathToDataForGeneration + \"fonts\"\n",
    "pathToFontsTitle = pathToDataForGeneration + \"fontsTitle\"\n",
    "pathToFontsUnicode = pathToDataForGeneration + \"fontsUnicode\"\n",
    "pathToPhoto = pathToDataForGeneration + \"person\"\n",
    "pathToHolograms = pathToDataForGeneration + \"hologram\"\n",
    "pathToTexts = pathToDataForGeneration + \"texts/\""
   ]
  },
  {
   "cell_type": "code",
   "execution_count": 5,
   "metadata": {},
   "outputs": [],
   "source": [
    "fontsTitle = [os.path.join(pathToFontsTitle, font) for font in os.listdir(pathToFontsTitle)]\n",
    "fonts = [os.path.join(pathToFonts, font) for font in os.listdir(pathToFonts)]\n",
    "fontsUnicode = [os.path.join(pathToFontsUnicode, font) for font in os.listdir(pathToFontsUnicode)]\n",
    "photos = [os.path.join(pathToPhoto, photo) for photo in os.listdir(pathToPhoto)]\n",
    "holograms = [os.path.join(pathToHolograms, photo) for photo in os.listdir(pathToHolograms)]"
   ]
  },
  {
   "cell_type": "code",
   "execution_count": 6,
   "metadata": {},
   "outputs": [
    {
     "data": {
      "text/plain": [
       "'D:\\\\Data\\\\Diploma\\\\dataForGeneration/Backgrounds'"
      ]
     },
     "execution_count": 6,
     "metadata": {},
     "output_type": "execute_result"
    }
   ],
   "source": [
    "pathToBackGrounds"
   ]
  },
  {
   "cell_type": "code",
   "execution_count": 7,
   "metadata": {},
   "outputs": [],
   "source": [
    "backGroundColor = np.array([0,0,0])"
   ]
  },
  {
   "cell_type": "code",
   "execution_count": 8,
   "metadata": {},
   "outputs": [],
   "source": [
    "def generateTextImage(text, font, fontScale, thickness, color):\n",
    "    (label_width, label_height), baseline = cv2.getTextSize(text, font, fontScale, thickness)\n",
    "    label_patch = np.zeros((label_height + baseline, label_width, 3), np.uint8)\n",
    "    label_patch[:,:] = 0\n",
    "    textImage = cv2.putText(label_patch, text, (0, label_height), font, fontScale, color, thickness)\n",
    "    return textImage"
   ]
  },
  {
   "cell_type": "code",
   "execution_count": 9,
   "metadata": {},
   "outputs": [],
   "source": [
    "#cv2.imwrite(pathToGenerated + \"/2.png\", cv2.cvtColor(image2, cv2.COLOR_RGB2BGR))"
   ]
  },
  {
   "cell_type": "code",
   "execution_count": null,
   "metadata": {},
   "outputs": [],
   "source": []
  },
  {
   "cell_type": "code",
   "execution_count": 10,
   "metadata": {},
   "outputs": [],
   "source": [
    "class TextGenerator:\n",
    "    def __init__(self):\n",
    "        self.symbols = list(string.ascii_lowercase)\n",
    "        self.punct = list(string.punctuation)\n",
    "        self.digits = [str(i) for i in range(0,10)]\n",
    "        self.generatedWordsCount = -1\n",
    "        with open(pathToTexts+\"names.txt\") as f:\n",
    "            self.names = f.read().split()\n",
    "\n",
    "        with open(pathToTexts+\"surnames.txt\") as f:\n",
    "            self.surnames = f.read().split()\n",
    "\n",
    "        with open(pathToTexts+\"streets.txt\") as f:\n",
    "            self.streets = f.read().split()\n",
    "\n",
    "        with open(pathToTexts+\"cities.txt\") as f:\n",
    "            self.cities = f.read().split()\n",
    "            \n",
    "        self.words = []\n",
    "        self.unicodeWords = []\n",
    "\n",
    "        with open(pathToTexts+\"words.txt\") as f:\n",
    "            self.words = f.read().split()\n",
    "        \n",
    "        for language in [\"french\", \"italian\", \"spanish\", \"german\", \"czech\", \"danish\", \"dutch\", \"portuguese\" ]:\n",
    "            with open(pathToTexts+language + \".txt\", encoding =\"utf-8\") as f:\n",
    "                self.unicodeWords += f.read().split()\n",
    "\n",
    "    def getName(self):\n",
    "        k = np.random.randint(0, len(self.names))\n",
    "        return self.names[k]\n",
    "\n",
    "    def getSurname(self):\n",
    "        k = np.random.randint(0, len(self.surnames))\n",
    "        return self.surnames[k]\n",
    "\n",
    "    def getCity(self):\n",
    "        k = np.random.randint(0, len(self.cities))\n",
    "        return self.cities[k]\n",
    "\n",
    "    def getStreet(self):\n",
    "        k = np.random.randint(0, len(self.streets))\n",
    "        return self.streets[k]\n",
    "\n",
    "    def getWord(self):\n",
    "        k = np.random.randint(0, len(self.words))\n",
    "        return self.words[k]\n",
    "    def getUnicodeWord(self):\n",
    "        k = np.random.randint(0, len(self.unicodeWords))\n",
    "        return self.unicodeWords[k]\n",
    "\n",
    "    def getDate(self):\n",
    "        sep = np.random.choice(self.punct)\n",
    "        day = str(np.random.randint(0,10)) + str(np.random.randint(0,10))\n",
    "        month = str(np.random.randint(0,10)) + str(np.random.randint(0,10))\n",
    "        year = str(np.random.randint(0,10)) + str(np.random.randint(0,10)) + str(np.random.randint(0,10)) + str(np.random.randint(0,10))\n",
    "        if np.random.randint(0,2) == 0:\n",
    "            return sep.join([day, month, year])\n",
    "        else:\n",
    "            return sep.join([year, month, day])\n",
    "\n",
    "    def getNumber(self):\n",
    "        length = np.random.randint(2, 15)\n",
    "        return \"\".join([np.random.choice(self.digits) for i in range(length)])\n",
    "    \n",
    "    def generetaAdditionalText(self):\n",
    "        text = \"\"\n",
    "        addDigit = np.random.randint(0, 2)\n",
    "        length = np.random.randint(addDigit == 0, 5)\n",
    "        if length > 0:\n",
    "            text += \"\".join([np.random.choice(self.digits) for i in range(length)])\n",
    "        length = np.random.randint(addDigit != 0, 5)\n",
    "        if length > 0:\n",
    "            text += \"\".join([np.random.choice(self.symbols) for i in range(length)])\n",
    "        if np.random.randint(0, 5) == 1:\n",
    "            text += np.random.choice(self.punct)\n",
    "        return text\n",
    "\n",
    "    def _generateText(self):\n",
    "        self.generatedWordsCount += 1\n",
    "        if self.generatedWordsCount < 2:\n",
    "            return self.getName()\n",
    "        elif self.generatedWordsCount < 4:\n",
    "            return self.getSurname()\n",
    "        elif self.generatedWordsCount < 6:\n",
    "            return self.getCity()\n",
    "        elif self.generatedWordsCount < 8:\n",
    "            return self.getStreet()\n",
    "        elif self.generatedWordsCount < 10:\n",
    "            return self.getDate()\n",
    "        elif self.generatedWordsCount < 12:\n",
    "            return self.getNumber()\n",
    "        elif self.generatedWordsCount < 25:\n",
    "            return self.generetaAdditionalText()\n",
    "        else:\n",
    "            return None\n",
    "        \n",
    "        \n",
    "    def generateText(self):\n",
    "        text = self._generateText()\n",
    "        if text is None:\n",
    "            return None\n",
    "#         for c in text:\n",
    "#             if c not in characters:\n",
    "#                 print(text)\n",
    "#                 print(c)\n",
    "#             assert(c in characters)\n",
    "        return text\n",
    "        \n",
    "    \n",
    "    def generateWord(self, isUnicode):\n",
    "        if isUnicode:\n",
    "            return self.getUnicodeWord()\n",
    "        else:\n",
    "            return self.getWord()\n",
    "\n",
    "    def resetWords(self):\n",
    "        self.generatedWordsCount = -1\n",
    "        \n",
    "TextGeneratorGlobal = TextGenerator()"
   ]
  },
  {
   "cell_type": "code",
   "execution_count": 11,
   "metadata": {},
   "outputs": [],
   "source": [
    "characters = set()\n",
    "for word in TextGeneratorGlobal.unicodeWords:\n",
    "    for c in word:\n",
    "        characters.add(c)\n",
    "for word in TextGeneratorGlobal.words:\n",
    "    for c in word:\n",
    "        characters.add(c)\n",
    "for word in TextGeneratorGlobal.cities:\n",
    "    for c in word:\n",
    "        characters.add(c)\n",
    "for word in TextGeneratorGlobal.digits:\n",
    "    for c in word:\n",
    "        characters.add(c)\n",
    "for word in TextGeneratorGlobal.names:\n",
    "    for c in word:\n",
    "        characters.add(c)\n",
    "        \n",
    "for word in TextGeneratorGlobal.streets:\n",
    "    for c in word:\n",
    "        characters.add(c)\n",
    "for word in TextGeneratorGlobal.surnames:\n",
    "    for c in word:\n",
    "        characters.add(c)\n",
    "for word in TextGeneratorGlobal.symbols:\n",
    "    for c in word:\n",
    "        characters.add(c)\n",
    "for c in string.punctuation:\n",
    "        characters.add(c)\n",
    "characters = list(characters)"
   ]
  },
  {
   "cell_type": "code",
   "execution_count": 12,
   "metadata": {},
   "outputs": [],
   "source": [
    "#TextGeneratorGlobal.unicodeWords[:100]"
   ]
  },
  {
   "cell_type": "code",
   "execution_count": 13,
   "metadata": {},
   "outputs": [],
   "source": [
    "import matplotlib\n",
    "matplotlib.use('Agg')\n",
    "def addPlotToBackGround(image):\n",
    "    W,H = image.size\n",
    "    fig, ax = plt.subplots(figsize=(20,20))\n",
    "    ax.set_ylim([0,H])\n",
    "    ax.set_xlim([0,W])\n",
    "    ax.imshow(image)\n",
    "    x = np.linspace(1,W, W*3)\n",
    "    ax.set_axis_off()\n",
    "    if np.random.randint(0,5) == 0:\n",
    "        cnt = np.random.randint(1,10)\n",
    "        for i in range(cnt):\n",
    "            y = np.sin(x * np.exp(np.random.uniform(-5,-1))) * H // cnt + i * H // cnt + np.random.randint(-H // cnt,H // cnt)\n",
    "            ax.plot(x,y, color=np.random.rand(3,))\n",
    "    \n",
    "    if np.random.randint(0,5) ==0:\n",
    "        cnt = np.random.randint(1,50)\n",
    "        for i in range(cnt):\n",
    "            y = 1/(x)* H // cnt + i * H // cnt + np.random.randint(-H // cnt,H // cnt)\n",
    "            ax.plot(x + np.random.randint(-W, W),y, color=np.random.rand(3,))\n",
    "\n",
    "    if np.random.randint(0,5) == 0:\n",
    "        cnt = np.random.randint(1,100)\n",
    "        for i in range(cnt):\n",
    "            y = x**(np.random.uniform(0.2,3)) * np.exp(np.random.uniform(-5,1)) + np.random.randint(-H // cnt,H // cnt)\n",
    "            ax.plot(x + np.random.randint(-W, W),y, color=np.random.rand(3,))            \n",
    "    \n",
    "    fig.savefig(\"./i.png\",bbox_inches='tight', pad_inches=0)\n",
    "    plt.close(1)\n",
    "    return Image.open(\"./i.png\")"
   ]
  },
  {
   "cell_type": "code",
   "execution_count": 14,
   "metadata": {},
   "outputs": [],
   "source": [
    "# imageTextGenerator = OneImageTextGenerator(image)\n",
    "# imageTextGenerator.generate()\n",
    "# imageTextGenerator.image2"
   ]
  },
  {
   "cell_type": "code",
   "execution_count": null,
   "metadata": {},
   "outputs": [],
   "source": []
  },
  {
   "cell_type": "code",
   "execution_count": null,
   "metadata": {},
   "outputs": [],
   "source": []
  },
  {
   "cell_type": "code",
   "execution_count": null,
   "metadata": {},
   "outputs": [],
   "source": []
  },
  {
   "cell_type": "code",
   "execution_count": 15,
   "metadata": {},
   "outputs": [],
   "source": [
    "def rotatePoint(xy, theta):\n",
    "    theta = math.pi / 180 * theta\n",
    "    cos_theta, sin_theta = math.cos(theta), math.sin(theta)\n",
    "\n",
    "    return ( xy[0] * cos_theta - xy[1] * sin_theta, xy[0] * sin_theta + xy[1] * cos_theta )\n",
    "    \n",
    "def rotateRect(rect, theta):\n",
    "    h = rect[3] - rect[1]\n",
    "    w = rect[2] - rect[0]\n",
    "    hc = rect[1] + (h)//2 + 5\n",
    "    wc = rect[0] + (w)//2 \n",
    "    #h = 0\n",
    "    #w = 0\n",
    "#     x1, y1 = rotatePoint((rect[0] - w, rect[1] - h), theta)\n",
    "#     x2, y2 = rotatePoint((rect[2] - w, rect[1] - h), theta)\n",
    "#     x3, y3 = rotatePoint((rect[2] - w, rect[3] - h), theta)\n",
    "#     x4, y4 = rotatePoint((rect[0] - w, rect[3] - h), theta)\n",
    "    x1, y1 = rotatePoint((-rect[4]//2, -rect[5]//2), theta)\n",
    "    x2, y2 = rotatePoint((rect[4]//2, -rect[5]//2), theta)\n",
    "    x3, y3 = rotatePoint((rect[4]//2, rect[5]//2), theta)\n",
    "    x4, y4 = rotatePoint((-rect[4]//2, rect[5]//2), theta)\n",
    "    \n",
    "    #по часовой стрелке\n",
    "    #return [(x1+w,y1+h), (x2+w,y2+h), (x3+w,y3+h), (x4+w,y4+h)]\n",
    "    return [(x1+wc,y1+hc), (x2+wc,y2+hc), (x3+wc,y3+hc), (x4+wc,y4+hc)]\n",
    "\n",
    "def rotateRect(rect, theta, hc = None, wc = None):\n",
    "    h = rect[3] - rect[1]\n",
    "    w = rect[2] - rect[0]\n",
    "    if hc is None:\n",
    "        hc = rect[1] + (h)//2 + 5\n",
    "        wc = rect[0] + (w)//2 \n",
    "    x1, y1 = rotatePoint((rect[0] - wc, rect[1] - hc), theta)\n",
    "    x2, y2 = rotatePoint((rect[2] - wc, rect[1] - hc), theta)\n",
    "    x3, y3 = rotatePoint((rect[2] - wc, rect[3] - hc), theta)\n",
    "    x4, y4 = rotatePoint((rect[0] - wc, rect[3] - hc), theta) \n",
    "    \n",
    "    #по часовой стрелке\n",
    "    #return [(x1+w,y1+h), (x2+w,y2+h), (x3+w,y3+h), (x4+w,y4+h)]\n",
    "    return [(x1+wc,y1+hc), (x2+wc,y2+hc), (x3+wc,y3+hc), (x4+wc,y4+hc)]\n",
    "\n",
    "def rotateRegion(region, theta, wc, hc):\n",
    "    #h = 0\n",
    "    #w = 0\n",
    "#     x1, y1 = rotatePoint((rect[0] - w, rect[1] - h), theta)\n",
    "#     x2, y2 = rotatePoint((rect[2] - w, rect[1] - h), theta)\n",
    "#     x3, y3 = rotatePoint((rect[2] - w, rect[3] - h), theta)\n",
    "#     x4, y4 = rotatePoint((rect[0] - w, rect[3] - h), theta)\n",
    "    x1, y1 = rotatePoint((region[0][0] - wc, region[0][1] - hc), theta)\n",
    "    x2, y2 = rotatePoint((region[1][0] - wc, region[1][1] - hc), theta)\n",
    "    x3, y3 = rotatePoint((region[2][0] - wc, region[2][1] - hc), theta)\n",
    "    x4, y4 = rotatePoint((region[3][0] - wc, region[3][1] - hc), theta)\n",
    "    \n",
    "    #по часовой стрелке\n",
    "    #return [(x1+w,y1+h), (x2+w,y2+h), (x3+w,y3+h), (x4+w,y4+h)]\n",
    "    return [(x1+wc,y1+hc), (x2+wc,y2+hc), (x3+wc,y3+hc), (x4+wc,y4+hc)]\n",
    "\n",
    "def getCharactersRects(wordRegionData, rotated, charactersRects):\n",
    "    k = wordRegionData\n",
    "    cumW = 0\n",
    "    W =  rotated[1][0]- rotated[0][0]\n",
    "    H =  rotated[1][1] - rotated[0][1]\n",
    "    characersResultRects = []\n",
    "    for c in charactersRects:\n",
    "        w,h = c\n",
    "        cumW += w\n",
    "        characersResultRects.append([\n",
    "            (rotated[0][0] + (cumW - w) / k[6] * W, rotated[0][1] + (cumW - w)/k[6] * H), \\\n",
    "            (rotated[0][0] + cumW / k[6] * W, rotated[0][1] + (cumW) / k[6] * H), \\\n",
    "            (rotated[3][0] + cumW / k[6] * W, rotated[3][1] + (cumW) / k[6] * H),\\\n",
    "            (rotated[3][0] + (cumW - w) / k[6] * W, rotated[3][1] + (cumW-w) / k[6] * H)\\\n",
    "        ])\n",
    "        rotated[0][0] + cumW / k[6] * W, rotated[0][1] + (cumW) / k[6] * H\n",
    "    return characersResultRects"
   ]
  },
  {
   "cell_type": "code",
   "execution_count": null,
   "metadata": {},
   "outputs": [],
   "source": []
  },
  {
   "cell_type": "code",
   "execution_count": null,
   "metadata": {},
   "outputs": [],
   "source": []
  },
  {
   "cell_type": "code",
   "execution_count": null,
   "metadata": {},
   "outputs": [],
   "source": []
  },
  {
   "cell_type": "code",
   "execution_count": 16,
   "metadata": {},
   "outputs": [],
   "source": [
    "import json"
   ]
  },
  {
   "cell_type": "code",
   "execution_count": 17,
   "metadata": {},
   "outputs": [],
   "source": [
    "class OneImageTextGenerator:\n",
    "    def __init__(self, image):\n",
    "        self.imageSize = [1500, 1500//1.5]\n",
    "        image = self.randomCropAndResize(image)\n",
    "        \n",
    "        image = addPlotToBackGround(image)\n",
    "        image = self.addHologram(image)\n",
    "        self.size = image.size[::-1]#image.shape[0:2]\n",
    "        self.image2 = image.copy().convert(\"RGBA\")\n",
    "        self.image = Image.new('RGBA', self.size[::-1], color=(255,255,255, 0))\n",
    "        self.freeBlocks = [(0,0,*self.size)]\n",
    "        self.textImage = Image.new('RGBA', self.size[::-1], color=(255,255,255, 0))\n",
    "        self.textGenerator = TextGeneratorGlobal\n",
    "        self.textGenerator.resetWords()\n",
    "        self.words = []\n",
    "        self.wordsRegion = []\n",
    "        self.angles = []\n",
    "        self.wordsCharacterRegion = []\n",
    "        img_fraction = 1/20\n",
    "        self.fontSizes = []\n",
    "        self.hasTitle = False\n",
    "        fontSize = 1\n",
    "        font = ImageFont.truetype(fonts[0], fontSize)\n",
    "        draw = ImageDraw.Draw(self.textImage)\n",
    "        while max(draw.textsize(\"H\", font=font)) < img_fraction * min(image.size):\n",
    "            # iterate until the text size is just larger than the criteria\n",
    "            fontSize += 1            \n",
    "            font = ImageFont.truetype(fonts[0], fontSize)\n",
    "        self.fontSizes.append(fontSize)\n",
    "        \n",
    "        font = ImageFont.truetype(fonts[0], 1)\n",
    "        self.titleSize = 1\n",
    "        img_fraction = 1/10\n",
    "        while max(draw.textsize(\"H\", font=font)) < img_fraction * min(image.size):\n",
    "            # iterate until the text size is just larger than the criteria\n",
    "            self.titleSize += 1            \n",
    "            font = ImageFont.truetype(fonts[0], self.titleSize)\n",
    "       # self.fontSizes.append(min(1, fontSize//1.5))\n",
    "        self.fontSizes.append(fontSize*2)\n",
    "        \n",
    "        self.fonts = []\n",
    "        self.fontsUnicode = []\n",
    "        for i in range(np.random.randint(1, 3)):\n",
    "            self.fonts.append(np.random.choice(fonts))\n",
    "            \n",
    "        for i in range(np.random.randint(1, 3)):\n",
    "            self.fontsUnicode.append(np.random.choice(fontsUnicode))\n",
    "            #print(self.fontsUnicode[-1])\n",
    "            \n",
    "        self.textType = []\n",
    "        for i in range(np.random.randint(1, 3)):\n",
    "            self.textType.append(np.random.choice([0,1,2]))\n",
    "        self.colors = [(0,0,0,255)]\n",
    "        for i in range(np.random.randint(0,4)):\n",
    "            color = [0,0,0, 255]\n",
    "            color[np.random.randint(0,3)] = np.random.randint(128,200)\n",
    "            color[0] = min(color[0] + np.random.randint(0,255),255)\n",
    "            color[2] = min(color[2] + np.random.randint(0,255),255)\n",
    "            color[1] = min(color[1] + np.random.randint(0,255),255)\n",
    "            self.colors.append(color)\n",
    "            #self.colors.append(self.colors[0])\n",
    "        \n",
    "        self.possibleAngles = [0]\n",
    "        \n",
    "        for i in range(np.random.randint(0,3)):\n",
    "            self.possibleAngles.append(np.random.randint(-5,5))\n",
    "            self.possibleAngles.append(0)\n",
    "    \n",
    "    def addHologram(self, image):\n",
    "        k = np.random.randint(0,3)\n",
    "        if k == 0:\n",
    "            return image\n",
    "        cnt = np.random.randint(0, k*10)\n",
    "        for i in range(cnt):\n",
    "            image = np.array(image)\n",
    "            H, W,_ = image.shape\n",
    "\n",
    "            colors = []\n",
    "            for i in range(2):\n",
    "                color = [0,0,0, 255]\n",
    "                color[np.random.randint(0,3)] = np.random.randint(128,200)\n",
    "                color[0] = min(color[0] + np.random.randint(0,255),255)\n",
    "                color[2] = min(color[2] + np.random.randint(0,255),255)\n",
    "                color[1] = min(color[1] + np.random.randint(0,255),255)\n",
    "                colors.append(color)\n",
    "\n",
    "            isHor = np.random.randint(0,2,(3))\n",
    "\n",
    "            w = np.random.randint(W//10 , W//2)\n",
    "            h = np.random.randint(H//10, H//2)\n",
    "            array = get_gradient_3d(w, h, colors[0], colors[1], isHor)\n",
    "\n",
    "\n",
    "            im = Image.fromarray(np.uint8(array))\n",
    "            im.putalpha(np.random.randint(50,180))\n",
    "            im = np.array(im)\n",
    "\n",
    "            if np.random.randint(0,3) == 0:\n",
    "                for i in range(1,20):\n",
    "                    r = np.random.randint(min(w,h)//5,min(w,h)//2)//4\n",
    "                    x = np.random.randint(r,w-r)\n",
    "                    y = np.random.randint(r,h-r)\n",
    "\n",
    "                    g = 255\n",
    "                    im[y-r:y+r,x-r:x+r,3] = (im[y-r:y+r,x-r:x+r,3] * g / 256).astype(np.uint8)\n",
    "\n",
    "            if np.random.randint(0,2) == 0:\n",
    "                for i in range(0,min(w,h)//4):\n",
    "                    rx = np.random.randint(2,w//2)\n",
    "                    ry = np.random.randint(2,h//2)\n",
    "\n",
    "                    if np.random.randint(0,2) == 0:\n",
    "                        rx = 2\n",
    "                    else:    \n",
    "                        ry = 2\n",
    "\n",
    "                    x = np.random.randint(rx,w-rx)\n",
    "                    y = np.random.randint(ry,h-ry)\n",
    "\n",
    "                    im[y-ry:y+ry,x-rx:x+rx,3] = 0\n",
    "\n",
    "            im = Image.fromarray(im)\n",
    "            distortedImage = Image.fromarray(image)\n",
    "\n",
    "\n",
    "            distortedImage.paste(im, (np.random.randint(0, W - w//2), np.random.randint(0, H - h//2)))\n",
    "            image= Image.alpha_composite(Image.fromarray(image).copy(), distortedImage)\n",
    "        return image\n",
    "    \n",
    "    def randomCropAndResize(self, image):\n",
    "        size = self.imageSize\n",
    "        size[0] += np.random.randint(-200, 200)\n",
    "        size[1] += np.random.randint(-200, 200)\n",
    "        sizeCrop = size.copy()\n",
    "        size[0] = int(size[0] * np.random.uniform(1.1,2))\n",
    "        size[1] = int(size[1] * np.random.uniform(1.1,2))\n",
    "        image = image.resize(size)\n",
    "        assert(size != sizeCrop)\n",
    "        left = np.random.randint(0, size[0] - sizeCrop[0])\n",
    "        top = np.random.randint(0, size[1] - sizeCrop[1])\n",
    "        image = image.crop((left, top, left + sizeCrop[0], top + sizeCrop[1]))\n",
    "        \n",
    "        return image\n",
    "        \n",
    "    def findSmallestByHeightBlock(self, size):\n",
    "        blocks = []\n",
    "        p = []\n",
    "        for i, block in enumerate(self.freeBlocks):\n",
    "            y1,x1,y2,x2 = block\n",
    "            h = y2 - y1\n",
    "            w = x2 - x1\n",
    "            if h >= size[0] and w >= size[1]:\n",
    "                blocks.append(i)\n",
    "                p.append(h*w)\n",
    "        if len(blocks) == 0:\n",
    "            return None\n",
    "        return np.random.choice(blocks, p=np.array(p) / np.sum(p))\n",
    "        \n",
    "    def findFreeRectangeForText(self, size):\n",
    "        size = (size[0]*1.5, size[1]*1.5)\n",
    "        index = self.findSmallestByHeightBlock(size)\n",
    "        if index == None:\n",
    "            return None\n",
    "        h, w = size\n",
    "        h = h\n",
    "        w = w\n",
    "        rect = self.freeBlocks[index]\n",
    "        y1,x1,y2,x2 = rect\n",
    "        startX = np.random.randint(x1, x2 - w + 1)\n",
    "        startY = np.random.randint(y1, y2 - h + 1)\n",
    "        \n",
    "        self.freeBlocks.pop(index)\n",
    "        if startY > y1:\n",
    "            self.freeBlocks.append((y1, x1, startY, x2))\n",
    "        if startY + h < y2:\n",
    "            self.freeBlocks.append((startY+h, x1, y2, x2))\n",
    "        if x1 < startX:\n",
    "            self.freeBlocks.append((startY, x1, startY+h, startX))\n",
    "        if startX + w < x2:\n",
    "            self.freeBlocks.append((startY, startX+w, startY+h, x2))\n",
    "        \n",
    "        return (startY, startX)\n",
    "\n",
    "    def addPhoto(self):\n",
    "        photo = Image.open(np.random.choice(photos), 'r')\n",
    "        height, width = self.size\n",
    "        height = height // 4\n",
    "        width = width // 4\n",
    "        height, width = max(height, width), min(height, width)\n",
    "\n",
    "        photo1 = photo.resize((width,height), Image.ANTIALIAS)\n",
    "        if np.random.randint(0,20) == 0:\n",
    "            photo1 = photo1.convert('L')\n",
    "        \n",
    "        coords = self.findFreeRectangeForText((height, width))\n",
    "        if coords == None:\n",
    "            return None\n",
    "        startY, startX = coords\n",
    "        self.image.paste(photo1, (startX, startY))        \n",
    "        \n",
    "    def addText(self):\n",
    "        text = self.textGenerator.generateText()\n",
    "        isTitle = False\n",
    "        if text is None:\n",
    "            isUnicode = np.random.randint(0,3) != 0\n",
    "            if isUnicode:\n",
    "                font = np.random.choice(self.fontsUnicode)\n",
    "            else:\n",
    "                font = np.random.choice(self.fonts)\n",
    "            text = self.textGenerator.generateWord(isUnicode)\n",
    "        else:\n",
    "            font = np.random.choice(self.fonts)\n",
    "            if not self.hasTitle:# and np.random.randint(0,3) == 0:\n",
    "                isTitle = True\n",
    "                self.hasTitle = True\n",
    "                font = np.random.choice(fontsTitle)\n",
    "        if isTitle:\n",
    "            textType = 1\n",
    "        else:\n",
    "            textType = np.random.choice(self.textType)\n",
    "            \n",
    "        if textType == 0:\n",
    "            text = text.lower()\n",
    "        elif textType == 1:\n",
    "            text = text.upper()\n",
    "        else:\n",
    "            text = text.capitalize()\n",
    "            \n",
    "        if np.random.randint(0,5) == 0:\n",
    "            textType = np.random.choice(self.textType)\n",
    "            text2 = self.textGenerator.generetaAdditionalText()\n",
    "            if textType == 0:\n",
    "                text2 = text2.lower()\n",
    "            elif textType == 1:\n",
    "                text2 = text2.upper()\n",
    "            else:\n",
    "                text2 = text2.capitalize()\n",
    "            text = text2 + text\n",
    "#         print(text) \n",
    "#         print(font)\n",
    "\n",
    "        fontSize = max(10, np.random.choice(self.fontSizes, p=[0.7,0.3]) + np.random.randint(-5, 5))\n",
    "        if np.random.randint(0, 10) == 0:\n",
    "            fontSize += np.random.randint(16, 20)\n",
    "        if isTitle:\n",
    "            fontSize = self.titleSize\n",
    "            fontSize += np.random.randint(0, 80)\n",
    "        font = ImageFont.truetype(font, fontSize)\n",
    "        \n",
    "        draw = ImageDraw.Draw(self.image)\n",
    "        drawImageText = ImageDraw.Draw(self.textImage)\n",
    "        alpha = np.random.choice(self.possibleAngles)\n",
    "        h,w = draw.textsize(text, font=font)[::-1]\n",
    "        angleRad = np.abs(alpha * np.pi / 180)\n",
    "        h1 = h * np.cos(angleRad) + w * np.sin(angleRad)\n",
    "        w1 = w * np.cos(angleRad) + h * np.sin(angleRad)\n",
    "        coords = self.findFreeRectangeForText((h1,w1))\n",
    "        if coords == None:\n",
    "            return None\n",
    "        startY, startX = coords\n",
    "        \n",
    "        color = self.colors[np.random.randint(0, len(self.colors))]\n",
    "        txt = Image.new('L', (w,h))\n",
    "        d = ImageDraw.Draw(txt)\n",
    "        d.text((0, 0), text,  font=font, fill=255)\n",
    "        #d.rectangle((startX, startY, startX + w,startY + h ),fill=(192), outline=(255))\n",
    "        #d.rectangle((startX + w, startY + h, startX,startY),fill=(192), outline=(255))\n",
    "        #d.line((startX, startY, startX, startY + h), fill=(255), width=2)\n",
    "        #d.line((startX, startY, startX + w, startY), fill=(255), width=2)\n",
    "        #d.line((startX + w, startY, startX + w, startY + h), fill=(255), width=20)\n",
    "        #d.line((startX, startY + h, startX + w, startY + h), fill=(255), width=20)\n",
    "        \n",
    "        #rotatedText=txt.rotate(alpha, expand=True)\n",
    "        rotatedText=txt.rotate(alpha, expand=True)\n",
    "        #rotatedText.show()\n",
    "        newW, newH = rotatedText.size\n",
    "        \n",
    "        self.textImage.paste( ImageOps.colorize(rotatedText, (0,0,0,255), (0,0,0, 255)), (startX, startY),  rotatedText)\n",
    "        self.image.paste( ImageOps.colorize(rotatedText, (0,0,0, 255), tuple(color)), (startX, startY),  rotatedText)\n",
    "        \n",
    "        self.words.append(text)\n",
    "        #self.wordsRegion.append(rotateRect([startX, startY, startX + w, startY + h], alpha))\n",
    "        self.wordsRegion.append([startX, startY, startX + w1, startY + h1, w+2, h+2, newW ,newH, w1, h1])\n",
    "        self.angles.append(alpha)\n",
    "        #print(alpha)\n",
    "        #draw.text((startX, startY), text,  font=font, fill=(tuple(color)))\n",
    "        #drawImageText.text((startX, startY), text,  font=font, fill=(0,0,0,255))\n",
    "        self.wordsCharacterRegion.append([])\n",
    "        for symbol in text:\n",
    "            h,w = draw.textsize(symbol, font=font)[::-1]\n",
    "            self.wordsCharacterRegion[-1].append([w,h])\n",
    "        return True\n",
    "        \n",
    "    def addTexts(self):\n",
    "        textCount = np.random.randint(40, 80)\n",
    "        cnt = 0\n",
    "        for i in range(textCount):\n",
    "            if self.addText() is not None :\n",
    "                cnt += 1\n",
    "        #print(cnt)\n",
    "        self.image2 = Image.alpha_composite(self.image2, self.image)\n",
    "       # assert(self.hasTitle)\n",
    "#         img = ImageDraw.Draw(self.image2)\n",
    "#         for block in self.freeBlocks:\n",
    "            \n",
    "#             img.rectangle([block[1], block[0], block[3], block[2]])\n",
    "            \n",
    "#         self.image2.show()\n",
    "    \n",
    "    def rotateRects(self):\n",
    "        for i, (k,a, characters) in enumerate(zip(self.wordsRegion, self.angles, self.wordsCharacterRegion)):\n",
    "            self.wordsRegion[i] = rotateRect(k,-a, k[1] + k[-3]//2, k[0] + k[-4]//2)\n",
    "            \n",
    "            self.wordsCharacterRegion[i] = getCharactersRects(k, self.wordsRegion[i], characters)\n",
    "    \n",
    "    def createAnnotation(self):\n",
    "        self.annotation = dict()\n",
    "        self.annotation[\"wordRects\"] = self.wordsRegion\n",
    "        self.annotation[\"wordsCharactersRects\"] = self.wordsCharacterRegion\n",
    "        self.annotation[\"words\"] = self.words\n",
    "    \n",
    "    def generate(self):\n",
    "        self.addPhoto()\n",
    "        self.addTexts()\n",
    "        self.rotateRects()\n",
    "        self.createAnnotation()"
   ]
  },
  {
   "cell_type": "code",
   "execution_count": 18,
   "metadata": {},
   "outputs": [],
   "source": [
    "# imageTextGenerator = OneImageTextGenerator(image)\n",
    "# imageTextGenerator.generate()\n",
    "# img = imageTextGenerator.image2.copy()\n",
    "# for k in zip(imageTextGenerator.annotation[\"wordRects\"]):\n",
    "#     d = ImageDraw.Draw(img)\n",
    "#     #rotated = rotateRect(k, imd.angle)\n",
    "# #     d.line((rotated[0], rotated[1], rotated[0], rotated[3]), fill=(100,100,100), width=2)\n",
    "# #     d.line((k[0], k[1], k[2], k[1]), fill=(100,100,100), width=2)\n",
    "# #     d.line((k[2], k[1], k[2], k[3]), fill=(100,100,100), width=2)\n",
    "# #     d.line((k[0], k[3], k[2], k[3]), fill=(100,100,100), width=2)\n",
    "#     rotated = k[0]\n",
    "#     k = k[0]\n",
    "#     rotated = k\n",
    "\n",
    "    \n",
    "#     d.line((*rotated[0], *rotated[1]), fill=(195,0,0), width=1)\n",
    "#     d.line((*rotated[1], *rotated[2]), fill=(195,0,0), width=1)\n",
    "#     d.line((*rotated[2], *rotated[3]), fill=(195,0,0), width=1)\n",
    "#     d.line((*rotated[3], *rotated[0]), fill=(195,0,0), width=1)\n",
    "\n",
    "   \n",
    "#     #break\n",
    "# img"
   ]
  },
  {
   "cell_type": "code",
   "execution_count": null,
   "metadata": {},
   "outputs": [],
   "source": []
  },
  {
   "cell_type": "code",
   "execution_count": 19,
   "metadata": {},
   "outputs": [],
   "source": [
    "# img = imageTextGenerator.textImage.copy()\n",
    "# ind = 0\n",
    "# for k,a, characters in zip(imageTextGenerator.wordsRegion, imageTextGenerator.angles, imageTextGenerator.wordsCharacterRegion):\n",
    "#     d = ImageDraw.Draw(img)\n",
    "#     rotated = rotateRect(k,-a)\n",
    "#     ind = ind + 1\n",
    "#     #print(k)\n",
    "#     #print(a)\n",
    "#     #print(rotated)\n",
    "# #     d.line((rotated[0][0], rotated[0][1], rotated[1][0], rotated[1][1]), fill=(100,100,100), width=2)\n",
    "# #     d.line((rotated[1][0], rotated[1][1], rotated[2][0], rotated[2][1]), fill=(100,100,100), width=2)\n",
    "# #     d.line((rotated[2][0], rotated[2][1], rotated[3][0], rotated[3][1]), fill=(100,100,100), width=2)\n",
    "# #     d.line((rotated[3][0], rotated[3][1], rotated[0][0], rotated[0][1]), fill=(100,100,100), width=2)\n",
    "    \n",
    "# #     cumW = 0\n",
    "# #     W =  rotated[1][0]- rotated[0][0]\n",
    "# #     H =  rotated[1][1] - rotated[0][1]\n",
    "# #     for c in characters:\n",
    "# #         w,h = c\n",
    "# #         cumW += w\n",
    "# #         d.line((rotated[0][0] + (cumW - w) / k[6] * W, rotated[0][1] + (cumW - w) / k[6] * H, rotated[0][0] + cumW / k[6] * W, rotated[0][1] + (cumW) / k[6] * H), fill=(100,100,100), width=2)\n",
    "# #         d.line((rotated[0][0] + cumW / k[6] * W, rotated[0][1] + (cumW) / k[6] * H, rotated[3][0] + cumW / k[6] * W, rotated[3][1] + (cumW) / k[6] * H), fill=(100,100,100), width=2)\n",
    "# #         d.line((rotated[3][0] + cumW / k[6] * W, rotated[3][1] + (cumW) / k[6] * H, rotated[3][0] + (cumW -w)/ k[6] * W, rotated[3][1] + (cumW-w) / k[6] * H), fill=(100,100,100), width=2)\n",
    "# #         d.line((rotated[3][0] + (cumW - w) / k[6] * W, rotated[3][1] + (cumW-w) / k[6] * H, rotated[0][0] + (cumW - w) / k[6] * W, rotated[0][1] + (cumW - w) / k[6] * H), fill=(100,100,100), width=2)\n",
    "#     for c in getCharactersRects(k, rotated, characters):\n",
    "#         d.line((c[0][0], c[0][1], c[1][0], c[1][1]), fill=(100,100,100), width=1)\n",
    "#         d.line((c[1][0], c[1][1], c[2][0], c[2][1]), fill=(100,100,100), width=1)\n",
    "#         d.line((c[2][0], c[2][1], c[3][0], c[3][1]), fill=(100,100,100), width=1)\n",
    "#         d.line((c[3][0], c[3][1], c[0][0], c[0][1]), fill=(100,100,100), width=1)\n",
    "#     #break \n",
    "# img"
   ]
  },
  {
   "cell_type": "code",
   "execution_count": null,
   "metadata": {},
   "outputs": [],
   "source": []
  },
  {
   "cell_type": "code",
   "execution_count": 20,
   "metadata": {},
   "outputs": [],
   "source": [
    "# img = imageTextGenerator.textImage.copy()\n",
    "# ind = 0\n",
    "# for k,a  in zip(imageTextGenerator.wordsRegion, imageTextGenerator.angles):\n",
    "#     d = ImageDraw.Draw(img)\n",
    "#     rotated = rotateRect(k,-a)\n",
    "#     ind = ind + 1\n",
    "#     #print(k)\n",
    "#     #print(a)\n",
    "#     #print(rotated)\n",
    "#     d.line((rotated[0][0], rotated[0][1], rotated[1][0], rotated[1][1]), fill=(100,100,100), width=2)\n",
    "#     d.line((rotated[1][0], rotated[1][1], rotated[2][0], rotated[2][1]), fill=(100,100,100), width=2)\n",
    "#     d.line((rotated[2][0], rotated[2][1], rotated[3][0], rotated[3][1]), fill=(100,100,100), width=2)\n",
    "#     d.line((rotated[3][0], rotated[3][1], rotated[0][0], rotated[0][1]), fill=(100,100,100), width=2)\n",
    "    \n",
    "# #     d.line((k[0], k[1], k[0], k[3]), fill=(100,100,100), width=2)\n",
    "# #     d.line((k[0], k[1], k[2], k[1]), fill=(100,100,100), width=2)\n",
    "# #     d.line((k[2], k[1], k[2], k[3]), fill=(100,100,100), width=2)\n",
    "# #     d.line((k[0], k[3], k[2], k[3]), fill=(100,100,100), width=2)\n",
    "#     #break \n",
    "# img"
   ]
  },
  {
   "cell_type": "code",
   "execution_count": null,
   "metadata": {},
   "outputs": [],
   "source": []
  },
  {
   "cell_type": "code",
   "execution_count": 21,
   "metadata": {},
   "outputs": [],
   "source": [
    "#imageTextGenerator.textImage"
   ]
  },
  {
   "cell_type": "code",
   "execution_count": null,
   "metadata": {},
   "outputs": [],
   "source": []
  },
  {
   "cell_type": "code",
   "execution_count": null,
   "metadata": {},
   "outputs": [],
   "source": []
  },
  {
   "cell_type": "code",
   "execution_count": 22,
   "metadata": {},
   "outputs": [],
   "source": [
    "# img = imageTextGenerator.textImage.copy()\n",
    "# for k,a  in zip(imageTextGenerator.wordsRegion, imageTextGenerator.angles):\n",
    "#     d = ImageDraw.Draw(img)\n",
    "#     rotated = rotateRect(k,a)\n",
    "# #     d.line((rotated[0], rotated[1], rotated[0], rotated[3]), fill=(100,100,100), width=2)\n",
    "# #     d.line((k[0], k[1], k[2], k[1]), fill=(100,100,100), width=2)\n",
    "# #     d.line((k[2], k[1], k[2], k[3]), fill=(100,100,100), width=2)\n",
    "# #     d.line((k[0], k[3], k[2], k[3]), fill=(100,100,100), width=2)\n",
    "    \n",
    "    \n",
    "#     rotated = rotateRect(k,a)\n",
    "#     print(a)\n",
    "#     print(k)\n",
    "#     d.line((*rotated[0], *rotated[1]), fill=(195,195,195), width=1)\n",
    "#     d.line((*rotated[1], *rotated[2]), fill=(195,195,195), width=1)\n",
    "#     d.line((*rotated[2], *rotated[3]), fill=(195,195,195), width=1)\n",
    "#     d.line((*rotated[3], *rotated[0]), fill=(195,195,195), width=1)\n",
    "#     print(rotated)\n",
    "#     break\n",
    "# img"
   ]
  },
  {
   "cell_type": "code",
   "execution_count": null,
   "metadata": {},
   "outputs": [],
   "source": []
  },
  {
   "cell_type": "code",
   "execution_count": null,
   "metadata": {},
   "outputs": [],
   "source": []
  },
  {
   "cell_type": "code",
   "execution_count": 23,
   "metadata": {},
   "outputs": [],
   "source": [
    "import cv2\n",
    "import numpy as np\n",
    "import random\n",
    "from scipy.stats import norm\n",
    "\n",
    "def generate_spot_light_mask(mask_size,\n",
    "                             position=None,\n",
    "                             max_brightness=255,\n",
    "                             min_brightness=0,\n",
    "                             mode=\"gaussian\",\n",
    "                             linear_decay_rate=None,\n",
    "                             speedup=False):\n",
    "    \"\"\"\n",
    "    Generate decayed light mask generated by spot light given position, direction. Multiple spotlights are accepted.\n",
    "    Args:\n",
    "        mask_size: tuple of integers (w, h) defining generated mask size\n",
    "        position: list of tuple of integers (x, y) defining the center of spotlight light position,\n",
    "                  which is the reference point during rotating\n",
    "        max_brightness: integer that max brightness in the mask\n",
    "        min_brightness: integer that min brightness in the mask\n",
    "        mode: the way that brightness decay from max to min: linear or gaussian\n",
    "        linear_decay_rate: only valid in linear_static mode. Suggested value is within [0.2, 2]\n",
    "        speedup: use `shrinkage then expansion` strategy to speed up vale calculation\n",
    "    Return:\n",
    "        light_mask: ndarray in float type consisting value from max_brightness to min_brightness. If in 'linear' mode\n",
    "                    minimum value could be smaller than given min_brightness.\n",
    "    \"\"\"\n",
    "    if position is None:\n",
    "        position = [(random.randint(0, mask_size[0]), random.randint(0, mask_size[1]))]\n",
    "    if linear_decay_rate is None:\n",
    "        if mode == \"linear_static\":\n",
    "            linear_decay_rate = random.uniform(0.25, 1)\n",
    "    assert mode in [\"linear\", \"gaussian\"], \\\n",
    "        \"mode must be linear_dynamic, linear_static or gaussian\"\n",
    "    mask = np.zeros(shape=(mask_size[1], mask_size[0]), dtype=np.float32)\n",
    "    if mode == \"gaussian\":\n",
    "        mu = np.sqrt(mask.shape[0]**2+mask.shape[1]**2)\n",
    "        dev = mu / 3.5\n",
    "        mask = _decay_value_radically_norm_in_matrix(mask_size, position, max_brightness, min_brightness, dev)\n",
    "    mask = np.asarray(mask, dtype=np.uint8)\n",
    "    # add median blur\n",
    "    mask = cv2.medianBlur(mask, 5)\n",
    "    mask = 255 - mask\n",
    "    # cv2.imshow(\"mask\", mask)\n",
    "    # cv2.waitKey(0)\n",
    "    return mask\n",
    "\n",
    "def _decay_value_radically_norm_in_matrix(mask_size, centers, max_value, min_value, dev):\n",
    "    \"\"\"\n",
    "    _decay_value_radically_norm function in matrix format\n",
    "    \"\"\"\n",
    "    center_prob = norm.pdf(0, 0, dev)\n",
    "    x_value_rate = np.zeros((mask_size[1], mask_size[0]))\n",
    "    for center in centers:\n",
    "        coord_x = np.arange(mask_size[0])\n",
    "        coord_y = np.arange(mask_size[1])\n",
    "        xv, yv = np.meshgrid(coord_x, coord_y)\n",
    "        dist_x = xv - center[0]\n",
    "        dist_y = yv - center[1]\n",
    "        dist = np.sqrt(np.power(dist_x, 2) + np.power(dist_y, 2))\n",
    "        x_value_rate += norm.pdf(dist, 0, dev) / center_prob\n",
    "    mask = x_value_rate * (max_value - min_value) + min_value\n",
    "    mask[mask > 255] = 255\n",
    "    return mask\n",
    "\n",
    "def _decay_value_radically_norm(x, centers, max_value, min_value, dev):\n",
    "    \"\"\"\n",
    "    Calculate point value decayed from center following Gaussian decay. If multiple centers are given, value\n",
    "    from each center sums up while limiting the accumulated value into [0, 255]\n",
    "    NOTE: assuming light at each center is identical: same brightness and same decay rate\n",
    "    \"\"\"\n",
    "    center_prob = norm.pdf(0, 0, dev)\n",
    "    x_value_rate = 0\n",
    "    for center in centers:\n",
    "        distance = np.sqrt((center[0]-x[0])**2 + (center[1]-x[1])**2)\n",
    "        x_value_rate += norm.pdf(distance, 0, dev) / center_prob\n",
    "    x_value = x_value_rate * (max_value - min_value) + min_value\n",
    "    x_value = 255 if x_value > 255 else x_value\n",
    "    return x_value\n",
    "\n",
    "def add_spot_light(image, light_position=None, max_brightness=255, min_brightness=0,\n",
    "                   mode='gaussian', linear_decay_rate=None, transparency=None):\n",
    "    \"\"\"\n",
    "    Add mask generated from spot light to given image\n",
    "    \"\"\"\n",
    "    if transparency is None:\n",
    "        transparency = random.uniform(0.5, 0.85)\n",
    "    frame = image\n",
    "    height, width, _ = frame.shape\n",
    "    hsv = cv2.cvtColor(frame, cv2.COLOR_BGR2HSV)\n",
    "    mask = generate_spot_light_mask(mask_size=(width, height),\n",
    "                                    position=light_position,\n",
    "                                    max_brightness=max_brightness,\n",
    "                                    min_brightness=min_brightness,\n",
    "                                    mode=mode,\n",
    "                                    linear_decay_rate=linear_decay_rate)\n",
    "    hsv[:, :, 2] = hsv[:, :, 2] * transparency + (255 - mask) * (1 - transparency)\n",
    "    frame = cv2.cvtColor(hsv, cv2.COLOR_HSV2BGR)\n",
    "    frame[frame > 255] = 255\n",
    "    frame = np.asarray(frame, dtype=np.uint8)\n",
    "    return frame"
   ]
  },
  {
   "cell_type": "code",
   "execution_count": 24,
   "metadata": {},
   "outputs": [],
   "source": [
    "import cv2\n",
    "import numpy as np\n",
    "import random\n",
    "from scipy.stats import norm\n",
    "\n",
    "def _decayed_value_in_norm(x, max_value, min_value, center, range):\n",
    "    \"\"\"\n",
    "    decay from max value to min value following Gaussian/Normal distribution\n",
    "    \"\"\"\n",
    "    radius = range / 3\n",
    "    center_prob = norm.pdf(center, center, radius)\n",
    "    x_prob = norm.pdf(x, center, radius)\n",
    "    x_value = (x_prob / center_prob) * (max_value - min_value) + min_value\n",
    "    return x_value\n",
    "def _decayed_value_in_linear(x, max_value, padding_center, decay_rate):\n",
    "    \"\"\"\n",
    "    decay from max value to min value with static linear decay rate.\n",
    "    \"\"\"\n",
    "    x_value = max_value - abs(padding_center - x) * decay_rate\n",
    "    if x_value < 0:\n",
    "        x_value = 1\n",
    "    return x_value\n",
    "\n",
    "def generate_parallel_light_mask(mask_size,\n",
    "                                 position=None,\n",
    "                                 direction=None,\n",
    "                                 max_brightness=255,\n",
    "                                 min_brightness=0,\n",
    "                                 mode=\"gaussian\",\n",
    "                                 linear_decay_rate=None):\n",
    "    \"\"\"\n",
    "    Generate decayed light mask generated by light strip given its position, direction\n",
    "    Args:\n",
    "        mask_size: tuple of integers (w, h) defining generated mask size\n",
    "        position: tuple of integers (x, y) defining the center of light strip position,\n",
    "                  which is the reference point during rotating\n",
    "        direction: integer from 0 to 360 to indicate the rotation degree of light strip\n",
    "        max_brightness: integer that max brightness in the mask\n",
    "        min_brightness: integer that min brightness in the mask\n",
    "        mode: the way that brightness decay from max to min: linear or gaussian\n",
    "        linear_decay_rate: only valid in linear_static mode. Suggested value is within [0.2, 2]\n",
    "    Return:\n",
    "        light_mask: ndarray in float type consisting value from 0 to strength\n",
    "    \"\"\"\n",
    "    if position is None:\n",
    "        pos_x = random.randint(0, mask_size[0])\n",
    "        pos_y = random.randint(0, mask_size[1])\n",
    "    else:\n",
    "        pos_x = position[0]\n",
    "        pos_y = position[1]\n",
    "    if direction is None:\n",
    "        direction = random.randint(0, 360)\n",
    "        #print(\"Rotate degree: \", direction)\n",
    "    if linear_decay_rate is None:\n",
    "        if mode == \"linear_static\":\n",
    "            linear_decay_rate = random.uniform(0.2, 2)\n",
    "        if mode == \"linear_dynamic\":\n",
    "            linear_decay_rate = (max_brightness - min_brightness) / max(mask_size)\n",
    "    assert mode in [\"linear_dynamic\", \"linear_static\", \"gaussian\"], \\\n",
    "        \"mode must be linear_dynamic, linear_static or gaussian\"\n",
    "    padding = int(max(mask_size) * np.sqrt(2))\n",
    "    # add padding to satisfy cropping after rotating\n",
    "    canvas_x = padding * 2 + mask_size[0]\n",
    "    canvas_y = padding * 2 + mask_size[1]\n",
    "    mask = np.zeros(shape=(canvas_y, canvas_x), dtype=np.float32)\n",
    "    # initial mask's up left corner and bottom right corner coordinate\n",
    "    init_mask_ul = (int(padding), int(padding))\n",
    "    init_mask_br = (int(padding+mask_size[0]), int(padding+mask_size[1]))\n",
    "    init_light_pos = (padding + pos_x, padding + pos_y)\n",
    "    # fill in mask row by row with value decayed from center\n",
    "    for i in range(canvas_y):\n",
    "        if mode == \"linear\":\n",
    "            i_value = _decayed_value_in_linear(i, max_brightness, init_light_pos[1], linear_decay_rate)\n",
    "        elif mode == \"gaussian\":\n",
    "            i_value = _decayed_value_in_norm(i, max_brightness, min_brightness, init_light_pos[1], mask_size[1])\n",
    "        else:\n",
    "            i_value = 0\n",
    "        mask[i] = i_value\n",
    "    # rotate mask\n",
    "    rotate_M = cv2.getRotationMatrix2D(init_light_pos, direction, 1)\n",
    "    mask = cv2.warpAffine(mask, rotate_M, (canvas_x,  canvas_y))\n",
    "    # crop\n",
    "    mask = mask[init_mask_ul[1]:init_mask_br[1], init_mask_ul[0]:init_mask_br[0]]\n",
    "    mask = np.asarray(mask, dtype=np.uint8)\n",
    "    # add median blur\n",
    "    mask = cv2.medianBlur(mask, 9)\n",
    "    mask = 255 - mask\n",
    "    # cv2.circle(mask, init_light_pos, 1, (0, 0, 255))\n",
    "    # cv2.imshow(\"crop\", mask[init_mask_ul[1]:init_mask_br[1], init_mask_ul[0]:init_mask_br[0]])\n",
    "    # cv2.imshow(\"all\", mask)\n",
    "    # cv2.waitKey(0)\n",
    "    return mask\n",
    "\n",
    "def add_parallel_light(image, light_position=None, direction=None, max_brightness=255, min_brightness=0,\n",
    "                       mode=\"gaussian\", linear_decay_rate=None, transparency=None):\n",
    "    \"\"\"\n",
    "    Add mask generated from parallel light to given image\n",
    "    \"\"\"\n",
    "    if transparency is None:\n",
    "        transparency = random.uniform(0.5, 0.85)\n",
    "    frame = image\n",
    "    height, width, _ = frame.shape\n",
    "    hsv = cv2.cvtColor(frame, cv2.COLOR_BGR2HSV)\n",
    "    mask = generate_parallel_light_mask(mask_size=(width, height),\n",
    "                                        position=light_position,\n",
    "                                        direction=direction,\n",
    "                                        max_brightness=max_brightness,\n",
    "                                        min_brightness=min_brightness,\n",
    "                                        mode=mode,\n",
    "                                        linear_decay_rate=linear_decay_rate)\n",
    "    hsv[:, :, 2] = hsv[:, :, 2] * transparency + (255-mask) * (1 - transparency)\n",
    "    frame = cv2.cvtColor(hsv, cv2.COLOR_HSV2BGR)\n",
    "    frame[frame > 255] = 255\n",
    "    frame = np.asarray(frame, dtype=np.uint8)\n",
    "    return frame"
   ]
  },
  {
   "cell_type": "code",
   "execution_count": 25,
   "metadata": {},
   "outputs": [],
   "source": [
    "import numpy as np\n",
    "import cv2\n",
    "import math\n",
    "from math import exp\n",
    "\n",
    "\n",
    "def pointAngle(Apoint, Bpoint):\n",
    "    angle = (Bpoint[1] - Apoint[1]) / ((Bpoint[0] - Apoint[0]) + 10e-8)\n",
    "    return angle\n",
    "\n",
    "def pointDistance(Apoint, Bpoint):\n",
    "    return math.sqrt((Bpoint[1] - Apoint[1])**2 + (Bpoint[0] - Apoint[0])**2)\n",
    "\n",
    "def lineBiasAndK(Apoint, Bpoint):\n",
    "    K = pointAngle(Apoint, Bpoint)\n",
    "    B = Apoint[1] - K*Apoint[0]\n",
    "    return K, B\n",
    "\n",
    "def getX(K, B, Ypoint):\n",
    "    return int((Ypoint-B)/K)\n",
    "\n",
    "def sidePoint(Apoint, Bpoint, h, w, placehold):\n",
    "\n",
    "    K, B = lineBiasAndK(Apoint, Bpoint)\n",
    "    angle = abs(math.atan(pointAngle(Apoint, Bpoint)))\n",
    "    distance = pointDistance(Apoint, Bpoint)\n",
    "\n",
    "    halfIncreaseDistance = 0.5 * distance\n",
    "\n",
    "    XaxisIncreaseDistance = abs(math.cos(angle) * halfIncreaseDistance)\n",
    "    YaxisIncreaseDistance = abs(math.sin(angle) * halfIncreaseDistance)\n",
    "\n",
    "    if placehold == 'leftTop':\n",
    "        x1 = max(0, Apoint[0] - XaxisIncreaseDistance)\n",
    "        y1 = max(0, Apoint[1] - YaxisIncreaseDistance)\n",
    "    elif placehold == 'rightTop':\n",
    "        x1 = min(w, Bpoint[0] + XaxisIncreaseDistance)\n",
    "        y1 = max(0, Bpoint[1] - YaxisIncreaseDistance)\n",
    "    elif placehold == 'rightBottom':\n",
    "        x1 = min(w, Bpoint[0] + XaxisIncreaseDistance)\n",
    "        y1 = min(h, Bpoint[1] + YaxisIncreaseDistance)\n",
    "    elif placehold == 'leftBottom':\n",
    "        x1 = max(0, Apoint[0] - XaxisIncreaseDistance)\n",
    "        y1 = min(h, Apoint[1] + YaxisIncreaseDistance)\n",
    "\n",
    "    return int(x1), int(y1)\n",
    "\n",
    "# 将box扩大1.5倍\n",
    "def enlargebox(box, h, w):\n",
    "   # print(box)\n",
    "    # box = [Apoint, Bpoint, Cpoint, Dpoint]\n",
    "    Apoint, Bpoint, Cpoint, Dpoint = box\n",
    "    K1, B1 = lineBiasAndK(box[0], box[2])\n",
    "    K2, B2 = lineBiasAndK(box[3], box[1])\n",
    "    X = (B2 - B1)/(K1 - K2)\n",
    "    Y = K1 * X + B1\n",
    "    center = [X, Y]\n",
    "\n",
    "    x1, y1 = sidePoint(Apoint, center, h, w, 'leftTop')\n",
    "    x2, y2 = sidePoint(center, Bpoint, h, w, 'rightTop')\n",
    "    x3, y3 = sidePoint(center, Cpoint, h, w, 'rightBottom')\n",
    "    x4, y4 = sidePoint(Dpoint, center, h, w, 'leftBottom')\n",
    "    newcharbox = np.array([[x1, y1], [x2, y2], [x3, y3], [x4, y4]])\n",
    "    return newcharbox\n",
    "\n",
    "# coding=utf-8\n",
    "from math import exp\n",
    "import numpy as np\n",
    "import cv2\n",
    "import os\n",
    "import math\n",
    "#from gaussianMap import imgproc\n",
    "#from data.boxEnlarge import enlargebox\n",
    "\n",
    "\n",
    "class GaussianTransformer(object):\n",
    "\n",
    "    def __init__(self, imgSize=200, enlargeSize=1.50):\n",
    "        self.imgSize = imgSize\n",
    "        isotropicGrayscaleImage, isotropicGrayscaleImageColor = self.gen_gaussian_heatmap()\n",
    "        self.standardGaussianHeat = isotropicGrayscaleImage\n",
    "        self.enlargeSize = enlargeSize\n",
    "        # color_gaussian = cv2.applyColorMap(self.standardGaussianHeat, cv2.COLORMAP_JET)\n",
    "        # cv2.imshow(\"test\", color_gaussian)\n",
    "        # cv2.waitKey(0)\n",
    "        # self._test()\n",
    "\n",
    "    def gen_gaussian_heatmap(self):\n",
    "        circle_mask = self.gen_circle_mask()\n",
    "        imgSize = self.imgSize\n",
    "        isotropicGrayscaleImage = np.zeros((imgSize, imgSize), np.float32)\n",
    "\n",
    "        # scaledGaussian = lambda x: exp(-((x ** 2)/(2 * (40 **2)))) * (1 / sqrt(2 * pi * (40 **2)))\n",
    "        # scaledGaussian = lambda x: exp(-((x ** 2) / (2 * (40 ** 2))))\n",
    "\n",
    "        # 生成高斯图\n",
    "        for i in range(imgSize):\n",
    "            for j in range(imgSize):\n",
    "                isotropicGrayscaleImage[i, j] = 1 / 2 / np.pi / (40 ** 2) * np.exp(\n",
    "                    -1 / 2 * ((i - imgSize / 2) ** 2 / (40 ** 2) + (j - imgSize / 2) ** 2 / (40 ** 2)))\n",
    "        # 如果要可视化对比正方形和最大内切圆高斯图的区别，注释下面这行即可\n",
    "        isotropicGrayscaleImage = isotropicGrayscaleImage * circle_mask\n",
    "        isotropicGrayscaleImage = (isotropicGrayscaleImage / np.max(isotropicGrayscaleImage)).astype(np.float32)\n",
    "\n",
    "        isotropicGrayscaleImage = (isotropicGrayscaleImage / np.max(isotropicGrayscaleImage) * 255).astype(np.uint8)\n",
    "        isotropicGrayscaleImageColor = cv2.applyColorMap(isotropicGrayscaleImage, cv2.COLORMAP_JET)\n",
    "        return isotropicGrayscaleImage, isotropicGrayscaleImageColor\n",
    "\n",
    "    # 生成高斯图的mask，对于正方形的高斯图来说，只将最大内切圆作为字符的高斯图区域去学习\n",
    "    # 在初版开源的高斯图生成中，是将正方形完整区域作为高斯图的\n",
    "    # 新的方法可视化后与作者论文中展示的可视化效果是完全一致的\n",
    "    def gen_circle_mask(self):\n",
    "        imgSize = self.imgSize\n",
    "        circle_img = np.zeros((imgSize, imgSize), np.float32)\n",
    "        circle_mask = cv2.circle(circle_img, (imgSize//2, imgSize//2), imgSize//2, 1, -1)\n",
    "\n",
    "        # circle_mask = cv2.circle(circle_img, (imgSize//2, imgSize//2), imgSize//2, 255, -1)\n",
    "        # circle_mask = cv2.applyColorMap(circle_mask, cv2.COLORMAP_JET)\n",
    "        # cv2.imshow(\"circle\", circle_mask)\n",
    "        # cv2.waitKey(0)\n",
    "        return circle_mask\n",
    "\n",
    "    # 将原始的box扩大1.5倍\n",
    "    # 仅仅作用于正矩形，不规则四边形无效， 请参考data/boEnlarge文件\n",
    "    def enlargeBox(self, box, imgh, imgw):\n",
    "        boxw = box[1][0] - box[0][0]\n",
    "        boxh = box[2][1] - box[1][1]\n",
    "\n",
    "        if imgh <= boxh or imgw <= boxw:\n",
    "            return box\n",
    "\n",
    "        enlargew = boxw * 0.5\n",
    "        enlargeh = boxh * 0.5\n",
    "\n",
    "        # box扩大这部分为了清晰，code写的比较冗余\n",
    "        # 左上角顶点扩充后坐标， 剩下点顺时针以此类推\n",
    "        box[0][0], box[0][1] = max(0, box[0][0] - int(enlargew*0.5)), max(0, box[0][1] - int(enlargeh*0.5))\n",
    "        box[1][0], box[1][1] = min(imgw, box[1][0] + int(enlargew*0.5)), max(0, box[1][1] - int(enlargeh*0.5))\n",
    "        box[2][0], box[2][1] = min(imgw, box[2][0] + int(enlargew*0.5)), min(imgh, box[2][1] + int(enlargeh*0.5))\n",
    "        box[3][0], box[3][1] = max(0, box[3][0] - int(enlargew*0.5)), min(imgh, box[3][1] + int(enlargeh*0.5))\n",
    "\n",
    "        return box\n",
    "\n",
    "    def four_point_transform(self, target_bbox, save_dir=None):\n",
    "        '''\n",
    "        :param target_bbox:目标bbox\n",
    "        :param save_dir:如果不是None，则保存图片到save_dir中\n",
    "        :return:\n",
    "        '''\n",
    "        width, height = np.max(target_bbox[:, 0]).astype(np.int32), np.max(target_bbox[:, 1]).astype(np.int32)\n",
    "        right = self.standardGaussianHeat.shape[1] - 1\n",
    "        bottom = self.standardGaussianHeat.shape[0] - 1\n",
    "        ori = np.array([[0, 0], [right, 0],\n",
    "                        [right, bottom],\n",
    "                        [0, bottom]], dtype=\"float32\")\n",
    "        M = cv2.getPerspectiveTransform(ori, target_bbox)\n",
    "        warped = cv2.warpPerspective(self.standardGaussianHeat.copy(), M, (int(width), int(height)))\n",
    "        warped = np.array(warped, np.uint8)\n",
    "        if save_dir:\n",
    "            warped_color = cv2.applyColorMap(warped, cv2.COLORMAP_JET)\n",
    "            cv2.imwrite(os.path.join(save_dir, 'warped.jpg'), warped_color)\n",
    "\n",
    "        return warped, width, height\n",
    "\n",
    "    def add_character(self, image, bbox, singal = None):\n",
    "        # bbox = self.enlargeBox(bbox, image.shape[0], image.shape[1])\n",
    "        bbxo_copy = bbox.copy()\n",
    "        bbox = enlargebox(bbox, image.shape[0], image.shape[1])\n",
    "        if singal == \"affinity\":\n",
    "            bbox[0][0], bbox[1][0], bbox[2][0], bbox[3][0] = bbxo_copy[0][0], bbxo_copy[1][0], bbxo_copy[2][0], bbxo_copy[3][0]\n",
    "\n",
    "        # bbox = np.array([[45, 135], [135, 135], [135, 295], [45, 295]], dtype=np.float32)\n",
    "\n",
    "        if np.any(bbox < 0) or np.any(bbox[:, 0] > image.shape[1]) or np.any(bbox[:, 1] > image.shape[0]):\n",
    "            return image\n",
    "        ori_box = bbox\n",
    "        top_left = np.array([np.min(bbox[:, 0]), np.min(bbox[:, 1])]).astype(np.int32)\n",
    "        point = top_left\n",
    "        bbox -= top_left[None, :]\n",
    "        transformed, width, height = self.four_point_transform(bbox.astype(np.float32))\n",
    "        # if width * height < 10:\n",
    "        #     return image\n",
    "        try:\n",
    "            score_map = image[top_left[1]:top_left[1] + transformed.shape[0],\n",
    "                        top_left[0]:top_left[0] + transformed.shape[1]]\n",
    "            score_map = np.where(transformed > score_map, transformed, score_map)\n",
    "            image[top_left[1]:top_left[1] + transformed.shape[0],\n",
    "            top_left[0]:top_left[0] + transformed.shape[1]] = score_map\n",
    "        except Exception as e:\n",
    "            # print('tansformed shape:{}\\n image top_left shape:{}\\n top transformed shape:{}\\n width and hright:{}\\n ori box:{}\\n top left:{}\\n point:{}\\n min width height:{}\\n bbox:{}\\n'\n",
    "            #       .format(transformed.shape, image[top_left[1]:top_left[1],\n",
    "            # top_left[0]:top_left[0]].shape, image[top_left[1]:top_left[1] + transformed.shape[0],\n",
    "            # top_left[0]:top_left[0] + transformed.shape[1]].shape, (width, height), ori_box, top_left,point,\n",
    "            #       np.array([np.min(ori_box[:, 0]), np.min(ori_box[:, 1])]).astype(np.int32),\n",
    "            #       ori_box-np.array([np.min(ori_box[:, 0]), np.min(ori_box[:, 1])]).astype(np.int32)))\n",
    "            print('second filter {} {} {}'.format(width,height,singal))\n",
    "        return image\n",
    "\n",
    "    def add_affinity(self, image, bbox_1, bbox_2):\n",
    "        center_1, center_2 = np.mean(bbox_1, axis=0), np.mean(bbox_2, axis=0)\n",
    "        tl = (bbox_1[0:2].sum(0) + center_1) / 3\n",
    "        bl = (bbox_2[0:2].sum(0) + center_2) / 3\n",
    "        tr = (bbox_2[2:4].sum(0) + center_2) / 3\n",
    "        br = (bbox_1[2:4].sum(0) + center_1) / 3\n",
    "\n",
    "        affinity = np.array([tl, bl, tr, br]).astype(np.float32)\n",
    "        # tl = np.mean([bbox_1[0], bbox_1[1], center_1], axis=0)\n",
    "        # bl = np.mean([bbox_1[2], bbox_1[3], center_1], axis=0)\n",
    "        # tr = np.mean([bbox_2[0], bbox_2[1], center_2], axis=0)\n",
    "        # br = np.mean([bbox_2[2], bbox_2[3], center_2], axis=0)\n",
    "        #\n",
    "        # affinity = np.array([tl, tr, br, bl])\n",
    "\n",
    "        return self.add_character(image, affinity.copy(), singal='affinity'), np.expand_dims(affinity, axis=0)\n",
    "\n",
    "    def generate_region(self, image_size, bboxes):\n",
    "        height, width = image_size\n",
    "        target = np.zeros([height, width], dtype=np.float32)\n",
    "        for i in range(len(bboxes)):\n",
    "            character_bbox = np.array(bboxes[i])\n",
    "            for j in range(bboxes[i].shape[0]):\n",
    "                target = self.add_character(target, character_bbox[j], singal='region')\n",
    "\n",
    "        return target\n",
    "\n",
    "    def saveGaussianHeat(self):\n",
    "        images_folder = os.path.abspath(os.path.dirname(__file__)) + '/images'\n",
    "        cv2.imwrite(os.path.join(images_folder, 'standard.jpg'), self.standardGaussianHeat)\n",
    "        warped_color = cv2.applyColorMap(self.standardGaussianHeat, cv2.COLORMAP_JET)\n",
    "        cv2.imwrite(os.path.join(images_folder, 'standard_color.jpg'), warped_color)\n",
    "        standardGaussianHeat1 = self.standardGaussianHeat.copy()\n",
    "        standardGaussianHeat1[standardGaussianHeat1 < (0.4 * 255)] = 255\n",
    "        threshhold_guassian = cv2.applyColorMap(standardGaussianHeat1, cv2.COLORMAP_JET)\n",
    "        cv2.imwrite(os.path.join(images_folder, 'threshhold_guassian.jpg'), threshhold_guassian)\n",
    "\n",
    "    def generate_affinity(self, image_size, bboxes, words):\n",
    "        height, width = image_size\n",
    "        target = np.zeros([height, width], dtype=np.float32)\n",
    "        affinities = []\n",
    "        for i in range(len(words)):\n",
    "            character_bbox = np.array(bboxes[i])\n",
    "            total_letters = 0\n",
    "            for char_num in range(character_bbox.shape[0] - 1):\n",
    "                target, affinity = self.add_affinity(target, character_bbox[total_letters],\n",
    "                                                     character_bbox[total_letters + 1])\n",
    "                affinities.append(affinity)\n",
    "                total_letters += 1\n",
    "        if len(affinities) > 0:\n",
    "            affinities = np.concatenate(affinities, axis=0)\n",
    "        return target, affinities"
   ]
  },
  {
   "cell_type": "code",
   "execution_count": 26,
   "metadata": {},
   "outputs": [],
   "source": [
    "import numpy as np\n",
    "import pdb\n",
    "from matplotlib import pyplot as plt\n",
    "from scipy.stats import multivariate_normal\n",
    "import squircle\n",
    "import imutils\n",
    "from PIL import ImageOps\n",
    "\n",
    "def gauss2d(size=(200,200), square=False):\n",
    "    mu = [0, 0]\n",
    "    sigma = [1500, 1500]\n",
    "    w, h = size\n",
    "\n",
    "    std = [np.sqrt(sigma[0]), np.sqrt(sigma[1])]\n",
    "    x = np.linspace(-w//2, w//2, w)\n",
    "    y = np.linspace(-h//2, h//2, h)\n",
    "\n",
    "    x, y = np.meshgrid(x, y)\n",
    "\n",
    "    x_ = x.flatten()\n",
    "    y_ = y.flatten()\n",
    "    xy = np.vstack((x_, y_)).T\n",
    "\n",
    "    normal_rv = multivariate_normal(mu, sigma)\n",
    "    z = normal_rv.pdf(xy)\n",
    "    z = z.reshape(w, h, order='F')\n",
    "    z = z / np.max(z) * 255\n",
    "    #z[z>255] = 255\n",
    "    if square:\n",
    "        z = squircle.to_square(z, method=\"elliptical\")\n",
    "        z = squircle.to_square(z, method=\"elliptical\")\n",
    "    #plt.imshow(z, cmap=\"gray\")\n",
    "    return z\n",
    "\n",
    "\n",
    "def get_gradient_3d(width, height, start_list, stop_list, is_horizontal_list):\n",
    "    result = np.zeros((height, width, len(start_list)), dtype=np.float)\n",
    "\n",
    "    for i, (start, stop, is_horizontal) in enumerate(zip(start_list, stop_list, is_horizontal_list)):\n",
    "        result[:, :, i] = get_gradient_2d(start, stop, width, height, is_horizontal)\n",
    "\n",
    "    return result\n",
    "\n",
    "def get_gradient_2d(start, stop, width, height, is_horizontal):\n",
    "    if is_horizontal:\n",
    "        return np.tile(np.linspace(start, stop, width), (height, 1))\n",
    "    else:\n",
    "        return np.tile(np.linspace(start, stop, height), (width, 1)).T"
   ]
  },
  {
   "cell_type": "code",
   "execution_count": 27,
   "metadata": {},
   "outputs": [],
   "source": [
    "\n",
    "class ImageDistorter:\n",
    "    def __init__(self, image, textImage, annotation, background):\n",
    "        \n",
    "        self.minImageSize = min(*image.size)\n",
    "        self.image = np.array(image)\n",
    "        self.squareMask = gauss2d(square=True)\n",
    "        self.circleMask = gauss2d()\n",
    "        self.textImage = np.array(textImage)\n",
    "        self.annotation = annotation\n",
    "        self.angle = 0\n",
    "        self.background = background\n",
    "    \n",
    "    def applymotionBlur(self):\n",
    "        size = np.random.randint(-max(self.minImageSize//50,1)//2, max(self.minImageSize//50, 1))\n",
    "        if size <= 0:\n",
    "            return\n",
    "        angle = np.random.randint(0, 180)\n",
    "        k = np.zeros((size, size), dtype=np.float32)\n",
    "        k[(size-1)// 2, :] = np.ones(size, dtype=np.float32)\n",
    "        k = cv2.warpAffine(k, cv2.getRotationMatrix2D((size / 2 -0.5 , size / 2 -0.5 ) , angle, 1.0), (size, size))  \n",
    "        k = k * (1.0 / np.sum(k))       \n",
    "        self.image =  cv2.filter2D(self.image, -1, k)\n",
    "        \n",
    "    def applyGaussBlur(self):\n",
    "        size = np.random.randint(-5, 5) //2 * 2 + 1 \n",
    "        if size <= 0:\n",
    "            return\n",
    "        self.image = cv2.GaussianBlur(self.image,(5,5),0)\n",
    "        \n",
    "    def applyBlur(self):\n",
    "        if np.random.randint(0,2) == 0:\n",
    "            self.applyGaussBlur()\n",
    "        else:\n",
    "            self.applymotionBlur()\n",
    "\n",
    "    def applyShadow(self, brightness=0):\n",
    "        shadowCount = np.random.randint(5)\n",
    "        H,W, _ = self.image.shape\n",
    "        for i in range(1):\n",
    "            h = np.random.randint(self.image.shape[0], self.image.shape[0]*2)\n",
    "            w = np.random.randint(self.image.shape[1], self.image.shape[1]*2)\n",
    "            startX = np.random.randint(-w//2, W - w//2)\n",
    "            startY = np.random.randint(-h//2, H - h//2)\n",
    "            maskXBegin = 0\n",
    "            maskXEnd = w\n",
    "            if startX < 0:\n",
    "                maskXBegin = - startX\n",
    "            if startX + w > W:\n",
    "                maskXEnd =  (W - startX)\n",
    "            maskYBegin = 0\n",
    "            maskYEnd = h\n",
    "            if startY < 0:\n",
    "                maskYBegin = - startY\n",
    "            if startY + h > H:\n",
    "                maskYEnd =  (H - startY)\n",
    "            \n",
    "            pillImg = Image.fromarray(self.image)\n",
    "            imOut = self.image.copy()\n",
    "            cropped = pillImg.crop([max(startX,0),max(0,startY),min(startX + w, W) ,min(startY + h, H)])\n",
    "            factor = np.random.uniform(0.2 + brightness,0.5 + brightness) #darkens the image\n",
    "            enhancer = ImageEnhance.Brightness(cropped)\n",
    "            im_output = enhancer.enhance(factor)\n",
    "            imOut[max(0,startY):min(startY + h, H), max(0,startX):min(startX + w, W)] = np.array(im_output)\n",
    "            mask = cv2.resize(self.circleMask, (w,h))[maskYBegin:maskYEnd, maskXBegin:maskXEnd]\n",
    "            imOut[max(0,startY):min(startY + h, H), max(0,startX):min(startX + w, W), 3] = mask\n",
    "            \n",
    "            self.image = np.array(Image.alpha_composite(Image.fromarray(self.image), Image.fromarray(imOut)))\n",
    "    \n",
    "    def applyBrightness(self):\n",
    "        self.applyShadow(1)\n",
    "        \n",
    "    def applyGlare(self, center=None):\n",
    "        H,W, _ = self.image.shape\n",
    "        h = np.random.randint(H//5, H//2)\n",
    "        w = np.random.randint(W//5, W//2)\n",
    "        startX = np.random.randint(-w//2, W - w//2)\n",
    "        startY = np.random.randint(-h//2, H - h//2)\n",
    "        if center is not None:\n",
    "            startX = center[0] - w//2\n",
    "            startY = center[1] - h//2\n",
    "            assert(startX + w>= 0)\n",
    "            assert(startY + h>= 0)\n",
    "        maskXBegin = 0\n",
    "        maskXEnd = w\n",
    "        if startX < 0:\n",
    "            maskXBegin = - startX\n",
    "        if startX + w > W:\n",
    "            maskXEnd =  (W - startX)\n",
    "        maskYBegin = 0\n",
    "        maskYEnd = h\n",
    "        if startY < 0:\n",
    "            maskYBegin = - startY\n",
    "        if startY + h > H:\n",
    "            maskYEnd =  (H - startY)\n",
    "\n",
    "        h2, w2 = min(h, w), min(h, w)\n",
    "        im = Image.new(mode='RGB', size=(w2,h2), color=(255,255,255))\n",
    "\n",
    "        Y = np.linspace(-1, 1, h2)[None, :]*255\n",
    "        X = np.linspace(-1, 1, w2)[:, None]*255\n",
    "        alpha = np.sqrt(X**2 + Y**2)\n",
    "        alpha = 255 - np.clip(alpha,50,255)\n",
    "\n",
    "        im.putalpha(Image.fromarray(alpha.astype(np.uint8)))\n",
    "        im = np.array(im.resize((w, h)))\n",
    "        \n",
    "        imageToMerge = np.zeros_like(self.image)\n",
    "        imageToMerge[max(0,startY):min(startY + h, H), max(0,startX):min(startX + w, W)] = im[maskYBegin:maskYEnd, maskXBegin:maskXEnd]\n",
    "        \n",
    "        self.image = np.array(Image.alpha_composite(Image.fromarray(self.image), Image.fromarray(imageToMerge)))\n",
    "    \n",
    "    def applyUnevenLight(self):\n",
    "        if np.random.randint(0,20) == 0:\n",
    "            return\n",
    "        \n",
    "        H,W, _ = self.image.shape\n",
    "        if np.random.randint(0,2) == 0:\n",
    "            centerX = np.random.randint(0, W)\n",
    "            centerY = np.random.randint(0, H)\n",
    "            image = Image.fromarray(add_parallel_light(np.array(self.image), (centerX, centerY)))\n",
    "            image.putalpha(255)\n",
    "            self.image = np.array(image)\n",
    "            if np.random.randint(0,8) == 0:\n",
    "                self.applyGlare((centerX, centerY))\n",
    "        else:\n",
    "            count = np.random.randint(1, 5)\n",
    "            centers = []\n",
    "            for i in range(count):\n",
    "                centerX = np.random.randint(0, W)\n",
    "                centerY = np.random.randint(0, H)\n",
    "                centers.append((centerX, centerY))\n",
    "            image = Image.fromarray(add_spot_light(np.array(self.image), centers))\n",
    "            image.putalpha(255)\n",
    "            self.image = np.array(image)\n",
    "        \n",
    "\n",
    "    def applyRandomGamma(self):\n",
    "        gamma = np.random.uniform(0.5, 1.5)\n",
    "        invGamma = 1.0 / gamma\n",
    "        table = np.array([0,*[((i / 255.0) ** invGamma) * 255 for i in np.arange(1, 256)]]).astype(\"uint8\")\n",
    "        self.image = cv2.LUT(self.image, table)\n",
    "        \n",
    "    def applyLightHistogrammShift(self):\n",
    "        pass\n",
    "        \n",
    "    def applyNoise(self):\n",
    "        H, W, _ = self.image.shape\n",
    "        \n",
    "        if np.random.randint(0,10) == 0:\n",
    "            noise = np.random.normal(0, 32, (H,W, 4)).astype(np.int)\n",
    "            self.image = self.image.astype(np.int)\n",
    "            noise[:,:,3] = 0\n",
    "            self.image += noise\n",
    "            self.image[self.image > 255] = 255\n",
    "            self.image[self.image < 0] = 0\n",
    "            \n",
    "            self.image = self.image.astype(np.uint8)\n",
    "            return\n",
    "            \n",
    "            \n",
    "        if np.random.randint(0,20) == 0:\n",
    "            noise = np.random.normal(0, np.random.random()*0.5 +1e-8, (H,W, 4))\n",
    "            self.image = self.image.astype(np.int)\n",
    "            noise[:,:,3] = 0\n",
    "            self.image += (noise * self.image).astype(np.int)\n",
    "            self.image[self.image > 255] = 255\n",
    "            self.image[self.image < 0] = 0 \n",
    "            self.image = self.image.astype(np.uint8)\n",
    "            return\n",
    "        \n",
    "        if np.random.randint(0,8) == 0:\n",
    "            noiseMask = np.random.randint(0,50, size=(H,W)) == 0\n",
    "            noise = np.random.randint(0,255, size=(H,W))\n",
    "            self.image[noise > 240] = 255\n",
    "            self.image[noise <= 10] = 0\n",
    "            self.image[:,:,3] = 255\n",
    "            return\n",
    "    \n",
    "        if np.random.randint(0,5) == 0:\n",
    "            noiseMask = np.random.randint(0,20, size=(H,W)) == 0\n",
    "            noise = np.random.randint(0,255, size=(H,W, 4))\n",
    "            noise[:,:,3] = 255\n",
    "            self.image[noiseMask] = noise[noiseMask]\n",
    "            return\n",
    "        \n",
    "    def applyProjMatrix(self, projective_matrix, imgSize, oldImageSize):\n",
    "        H, W, _ = imgSize\n",
    "        h, w, _ = imgSize\n",
    "        w, h = w // 2, h // 2\n",
    "        h1, w1, _ = oldImageSize\n",
    "        w1, h1 = w1 // 2, h1 // 2\n",
    "\n",
    "        for i, symbols in enumerate(self.annotation[\"wordsCharactersRects\"]):\n",
    "            newCharactersRects = []\n",
    "            for k in symbols:\n",
    "                rotated = np.float32([[k[0][0] + w-w1, k[0][1] + h-h1], [k[1][0] + w-w1, k[1][1]+ h-h1], \\\n",
    "                                    [k[2][0] + w-w1, k[2][1] + h-h1], [k[3][0] + w-w1, k[3][1] + h-h1]] )\n",
    "\n",
    "                rotated = cv2.perspectiveTransform(np.float32(rotated)[None, :, :], projective_matrix, (W,H))[0]\n",
    "                newCharactersRects.append(rotated.tolist())\n",
    "            self.annotation[\"wordsCharactersRects\"][i] = newCharactersRects\n",
    "        for i, k in enumerate(self.annotation[\"wordRects\"]):\n",
    "            k = k\n",
    "            self.annotation[\"wordRects\"][i]\n",
    "            rotated = np.float32([ [k[0][0] + w-w1, k[0][1] + h-h1], [k[1][0] + w-w1, k[1][1]+ h-h1], \\\n",
    "                                    [k[2][0] + w-w1, k[2][1] + h-h1], [k[3][0] + w-w1, k[3][1] + h-h1]] )\n",
    "            rotated = cv2.perspectiveTransform(np.float32(rotated)[None, :, :], projective_matrix, (W,H))[0]\n",
    "            self.annotation[\"wordRects\"][i] = rotated.tolist()\n",
    "\n",
    "    def appplyProj(self):\n",
    "        if np.random.randint(0,10) != 0:\n",
    "            return\n",
    "        h, w, _ = self.image.shape\n",
    "        src_points = np.float32([[0,0], [w-1,0], [0,h-1], [w-1,h-1]])\n",
    "        cap = min(w,h)//40\n",
    "        dst_points = np.float32([[np.random.randint(1, cap),np.random.randint(1, cap)], [w - np.random.randint(1, cap),0], [0,h - np.random.randint(1, cap)], [w - np.random.randint(1, cap),h - np.random.randint(1, cap)]])\n",
    "        projective_matrix = cv2.getPerspectiveTransform(src_points, dst_points)\n",
    "        \n",
    "        oldImageSize = self.image.shape\n",
    "        self.image = cv2.warpPerspective(self.image, projective_matrix, (w,h))\n",
    "        self.textImage = cv2.warpPerspective(self.textImage, projective_matrix, (w,h))\n",
    "        \n",
    "        self.applyProjMatrix(projective_matrix, self.image.shape, oldImageSize)\n",
    "\n",
    "    \n",
    "    def applyRotation(self):\n",
    "        if np.random.randint(0,10) != 0:\n",
    "            return\n",
    "        h1, w1, _ = self.image.shape\n",
    "        w1, h1 = w1 // 2, h1 // 2\n",
    "    \n",
    "        angle = np.random.uniform(-3,3)\n",
    "        self.angle = angle\n",
    "        oldImageSize = self.image.shape\n",
    "        self.image = np.array(Image.fromarray(self.image).rotate(angle, expand=1))\n",
    "        self.textImage = np.array(Image.fromarray(self.textImage).rotate(angle, expand=1))\n",
    "        \n",
    "        H, W, _ = self.image.shape\n",
    "        h, w, _ = self.image.shape\n",
    "        w, h = w // 2, h // 2\n",
    "\n",
    "        rotated = rotateRect([w-w1, h-h1, w+w1, h+h1], -angle, h, w)\n",
    "\n",
    "        src_points = np.float32([[w-w1, h-h1], [w+w1, h-h1], [w+w1,h+h1], [w-w1,h+h1]])\n",
    "        dst_points = np.float32(rotated)\n",
    "        projective_matrix = cv2.getPerspectiveTransform(src_points, dst_points)\n",
    "        self.applyProjMatrix(projective_matrix, self.image.shape, oldImageSize)\n",
    "        self.projective_matrix = projective_matrix\n",
    "                \n",
    "\n",
    "    def addHologram(self):\n",
    "        if np.random.randint(0,10) != 0:\n",
    "            return\n",
    "        H, W,_ = self.image.shape\n",
    "\n",
    "        colors = []\n",
    "        for i in range(2):\n",
    "            color = [0,0,0, 255]\n",
    "            color[np.random.randint(0,3)] = np.random.randint(128,200)\n",
    "            color[0] = min(color[0] + np.random.randint(0,255),255)\n",
    "            color[2] = min(color[2] + np.random.randint(0,255),255)\n",
    "            color[1] = min(color[1] + np.random.randint(0,255),255)\n",
    "            colors.append(color)\n",
    "\n",
    "        isHor = np.random.randint(0,2,(3))\n",
    "\n",
    "        w = np.random.randint(W//10 , W//2)\n",
    "        h = np.random.randint(H//10, H//2)\n",
    "        array = get_gradient_3d(w, h, colors[0], colors[1], isHor)\n",
    "\n",
    "\n",
    "        im = Image.fromarray(np.uint8(array))\n",
    "        im.putalpha(np.random.randint(50,180))\n",
    "        im = np.array(im)\n",
    "        \n",
    "        if np.random.randint(0,3) == 0:\n",
    "            for i in range(1,20):\n",
    "                r = np.random.randint(min(w,h)//5,min(w,h)//2)//4\n",
    "                x = np.random.randint(r,w-r)\n",
    "                y = np.random.randint(r,h-r)\n",
    "\n",
    "                g = 255 - gauss2d((2*r,2*r))\n",
    "                im[y-r:y+r,x-r:x+r,3] = (im[y-r:y+r,x-r:x+r,3] * g / 256).astype(np.uint8)\n",
    "\n",
    "        if np.random.randint(0,2) == 0:\n",
    "            for i in range(0,min(w,h)//4):\n",
    "                rx = np.random.randint(2,w//2)\n",
    "                ry = np.random.randint(2,h//2)\n",
    "\n",
    "                if np.random.randint(0,2) == 0:\n",
    "                    rx = 2\n",
    "                else:    \n",
    "                    ry = 2\n",
    "\n",
    "                x = np.random.randint(rx,w-rx)\n",
    "                y = np.random.randint(ry,h-ry)\n",
    "\n",
    "                im[y-ry:y+ry,x-rx:x+rx,3] = 0\n",
    "\n",
    "        im = Image.fromarray(im)\n",
    "        distortedImage = Image.fromarray(self.image)\n",
    "\n",
    "\n",
    "        distortedImage.paste(im, (np.random.randint(0, W - w//2), np.random.randint(0, H - h//2)))\n",
    "        self.image= np.array(Image.alpha_composite(Image.fromarray(imd.image).copy(), distortedImage))\n",
    "        \n",
    "    def removeAlpha(self):\n",
    "        h,w,_ = self.image.shape\n",
    "        self.image = Image.fromarray(self.image)\n",
    "        background = self.background.copy().resize((w,h), PIL.Image.BILINEAR)\n",
    "        background.paste(self.image, (0,0), mask=self.image.split()[3])\n",
    "        self.image = background\n",
    "        \n",
    "        newImg = Image.new(self.image.mode, (w,h), (255,255,255))\n",
    "        self.textImage = Image.fromarray(self.textImage)\n",
    "        newImg.paste(self.textImage, (0,0), mask=self.textImage.split()[3])\n",
    "        self.textImage = newImg\n",
    "\n",
    "        \n",
    "    def generateGaussMap(self):\n",
    "        rects = [np.array(wordCharRects, dtype=np.int)[np.newaxis, :, :,:] for wordCharRects in self.annotation[\"wordsCharactersRects\"]]\n",
    "        rects = np.hstack(rects,)\n",
    "       # print(rects.shape)\n",
    "        gen = GaussianTransformer()\n",
    "        self.characterMap = gen.generate_region((self.textImage.size[1],self.textImage.size[0]), rects)\n",
    "        #affinity_image, affinities = gen.generate_affinity(image.shape, bbox, [[1,2]])\n",
    "        \n",
    "        \n",
    "    def process(self):\n",
    "#         self.applyUnevenLight()\n",
    "#         self.applyRandomGamma()\n",
    "        self.addHologram()\n",
    "#         self.applyBlur()\n",
    "#         self.applyNoise()\n",
    "        self.applyRotation()\n",
    "        self.appplyProj()\n",
    "        self.removeAlpha()\n",
    "        self.generateGaussMap()"
   ]
  },
  {
   "cell_type": "code",
   "execution_count": 28,
   "metadata": {},
   "outputs": [],
   "source": [
    "from tqdm import tqdm_notebook as tn\n",
    "import PIL"
   ]
  },
  {
   "cell_type": "code",
   "execution_count": 38,
   "metadata": {},
   "outputs": [],
   "source": [
    "part = \"Validate\"\n",
    "part = \"Train1\"\n",
    "part = \"Test\"\n",
    "#part = \"Train3\"\n",
    "additionalName = \"_noAugModified\"\n",
    "pathToDataForGeneration = \"D:\\Data\\Diploma\\dataForGeneration/\"\n",
    "pathToBackGrounds = pathToDataForGeneration + \"Backgrounds\" + part\n",
    "pathToOutDir = \"D:\\Data\\Diploma\\generated//\" + part + additionalName +\"//\" #+\"noAug2//\"\n",
    "pathToGenerated = pathToOutDir + \"generated\"\n",
    "pathToGT = pathToOutDir + \"gt\"\n"
   ]
  },
  {
   "cell_type": "code",
   "execution_count": 39,
   "metadata": {},
   "outputs": [],
   "source": [
    "import random\n",
    "\n",
    "random.seed(10)"
   ]
  },
  {
   "cell_type": "code",
   "execution_count": null,
   "metadata": {},
   "outputs": [
    {
     "name": "stderr",
     "output_type": "stream",
     "text": [
      "<ipython-input-40-04aad9b0baf8>:6: TqdmDeprecationWarning: This function will be removed in tqdm==5.0.0\n",
      "Please use `tqdm.notebook.tqdm` instead of `tqdm.tqdm_notebook`\n",
      "  for file in tn(os.listdir(pathToBackGrounds)):\n"
     ]
    },
    {
     "data": {
      "application/vnd.jupyter.widget-view+json": {
       "model_id": "468a364721784ce29a197a810bf2b015",
       "version_major": 2,
       "version_minor": 0
      },
      "text/plain": [
       "HBox(children=(HTML(value=''), FloatProgress(value=0.0, max=49.0), HTML(value='')))"
      ]
     },
     "metadata": {},
     "output_type": "display_data"
    },
    {
     "name": "stderr",
     "output_type": "stream",
     "text": [
      "<ipython-input-40-04aad9b0baf8>:10: TqdmDeprecationWarning: This function will be removed in tqdm==5.0.0\n",
      "Please use `tqdm.notebook.tqdm` instead of `tqdm.tqdm_notebook`\n",
      "  for j in tn(range(4)):\n"
     ]
    },
    {
     "data": {
      "application/vnd.jupyter.widget-view+json": {
       "model_id": "de140b1b184d423585ed75e3620488ca",
       "version_major": 2,
       "version_minor": 0
      },
      "text/plain": [
       "HBox(children=(HTML(value=''), FloatProgress(value=0.0, max=4.0), HTML(value='')))"
      ]
     },
     "metadata": {},
     "output_type": "display_data"
    },
    {
     "name": "stderr",
     "output_type": "stream",
     "text": [
      "<ipython-input-40-04aad9b0baf8>:16: TqdmDeprecationWarning: This function will be removed in tqdm==5.0.0\n",
      "Please use `tqdm.notebook.tqdm` instead of `tqdm.tqdm_notebook`\n",
      "  for i in tn(range(4)):\n"
     ]
    },
    {
     "data": {
      "application/vnd.jupyter.widget-view+json": {
       "model_id": "29ac93529ecb46a2a784c3108af57b0d",
       "version_major": 2,
       "version_minor": 0
      },
      "text/plain": [
       "HBox(children=(HTML(value=''), FloatProgress(value=0.0, max=4.0), HTML(value='')))"
      ]
     },
     "metadata": {},
     "output_type": "display_data"
    },
    {
     "name": "stderr",
     "output_type": "stream",
     "text": [
      "<ipython-input-27-bc886dcdcd16>:321: DeprecationWarning: `np.int` is a deprecated alias for the builtin `int`. To silence this warning, use `int` by itself. Doing this will not modify any behavior and is safe. When replacing `np.int`, you may wish to use e.g. `np.int64` or `np.int32` to specify the precision. If you wish to review your current use, check the release note link for additional information.\n",
      "Deprecated in NumPy 1.20; for more details and guidance: https://numpy.org/devdocs/release/1.20.0-notes.html#deprecations\n",
      "  rects = [np.array(wordCharRects, dtype=np.int)[np.newaxis, :, :,:] for wordCharRects in self.annotation[\"wordsCharactersRects\"]]\n",
      "<ipython-input-40-04aad9b0baf8>:31: UserWarning: Matplotlib is currently using agg, which is a non-GUI backend, so cannot show the figure.\n",
      "  plt.show()\n"
     ]
    },
    {
     "name": "stdout",
     "output_type": "stream",
     "text": [
      "D:\\Data\\Diploma\\generated//Test_noAugModified//gt/1579697608_7-p-foni-so-slozhnimi-geometricheskimi-figuram-16.jpg0_0CharMap.png\n",
      "D:\\Data\\Diploma\\generated//Test_noAugModified//gt/1579697608_7-p-foni-so-slozhnimi-geometricheskimi-figuram-16.jpg1_0CharMap.png\n",
      "\n"
     ]
    },
    {
     "name": "stderr",
     "output_type": "stream",
     "text": [
      "<ipython-input-40-04aad9b0baf8>:16: TqdmDeprecationWarning: This function will be removed in tqdm==5.0.0\n",
      "Please use `tqdm.notebook.tqdm` instead of `tqdm.tqdm_notebook`\n",
      "  for i in tn(range(4)):\n"
     ]
    },
    {
     "data": {
      "application/vnd.jupyter.widget-view+json": {
       "model_id": "a727ce3e89d14f7ebda9752a84e16752",
       "version_major": 2,
       "version_minor": 0
      },
      "text/plain": [
       "HBox(children=(HTML(value=''), FloatProgress(value=0.0, max=4.0), HTML(value='')))"
      ]
     },
     "metadata": {},
     "output_type": "display_data"
    },
    {
     "name": "stderr",
     "output_type": "stream",
     "text": [
      "<ipython-input-27-bc886dcdcd16>:321: DeprecationWarning: `np.int` is a deprecated alias for the builtin `int`. To silence this warning, use `int` by itself. Doing this will not modify any behavior and is safe. When replacing `np.int`, you may wish to use e.g. `np.int64` or `np.int32` to specify the precision. If you wish to review your current use, check the release note link for additional information.\n",
      "Deprecated in NumPy 1.20; for more details and guidance: https://numpy.org/devdocs/release/1.20.0-notes.html#deprecations\n",
      "  rects = [np.array(wordCharRects, dtype=np.int)[np.newaxis, :, :,:] for wordCharRects in self.annotation[\"wordsCharactersRects\"]]\n",
      "<ipython-input-40-04aad9b0baf8>:31: UserWarning: Matplotlib is currently using agg, which is a non-GUI backend, so cannot show the figure.\n",
      "  plt.show()\n"
     ]
    },
    {
     "name": "stdout",
     "output_type": "stream",
     "text": [
      "D:\\Data\\Diploma\\generated//Test_noAugModified//gt/1579697608_7-p-foni-so-slozhnimi-geometricheskimi-figuram-16.jpg0_1CharMap.png\n",
      "D:\\Data\\Diploma\\generated//Test_noAugModified//gt/1579697608_7-p-foni-so-slozhnimi-geometricheskimi-figuram-16.jpg1_1CharMap.png\n",
      "\n"
     ]
    },
    {
     "name": "stderr",
     "output_type": "stream",
     "text": [
      "<ipython-input-26-4a25245fc9cb>:37: DeprecationWarning: `np.float` is a deprecated alias for the builtin `float`. To silence this warning, use `float` by itself. Doing this will not modify any behavior and is safe. If you specifically wanted the numpy scalar type, use `np.float64` here.\n",
      "Deprecated in NumPy 1.20; for more details and guidance: https://numpy.org/devdocs/release/1.20.0-notes.html#deprecations\n",
      "  result = np.zeros((height, width, len(start_list)), dtype=np.float)\n",
      "<ipython-input-40-04aad9b0baf8>:16: TqdmDeprecationWarning: This function will be removed in tqdm==5.0.0\n",
      "Please use `tqdm.notebook.tqdm` instead of `tqdm.tqdm_notebook`\n",
      "  for i in tn(range(4)):\n"
     ]
    },
    {
     "data": {
      "application/vnd.jupyter.widget-view+json": {
       "model_id": "659bc1610eb042e7b6395c6cf7e74084",
       "version_major": 2,
       "version_minor": 0
      },
      "text/plain": [
       "HBox(children=(HTML(value=''), FloatProgress(value=0.0, max=4.0), HTML(value='')))"
      ]
     },
     "metadata": {},
     "output_type": "display_data"
    },
    {
     "name": "stderr",
     "output_type": "stream",
     "text": [
      "<ipython-input-27-bc886dcdcd16>:321: DeprecationWarning: `np.int` is a deprecated alias for the builtin `int`. To silence this warning, use `int` by itself. Doing this will not modify any behavior and is safe. When replacing `np.int`, you may wish to use e.g. `np.int64` or `np.int32` to specify the precision. If you wish to review your current use, check the release note link for additional information.\n",
      "Deprecated in NumPy 1.20; for more details and guidance: https://numpy.org/devdocs/release/1.20.0-notes.html#deprecations\n",
      "  rects = [np.array(wordCharRects, dtype=np.int)[np.newaxis, :, :,:] for wordCharRects in self.annotation[\"wordsCharactersRects\"]]\n",
      "<ipython-input-40-04aad9b0baf8>:31: UserWarning: Matplotlib is currently using agg, which is a non-GUI backend, so cannot show the figure.\n",
      "  plt.show()\n"
     ]
    },
    {
     "name": "stdout",
     "output_type": "stream",
     "text": [
      "D:\\Data\\Diploma\\generated//Test_noAugModified//gt/1579697608_7-p-foni-so-slozhnimi-geometricheskimi-figuram-16.jpg0_2CharMap.png\n",
      "D:\\Data\\Diploma\\generated//Test_noAugModified//gt/1579697608_7-p-foni-so-slozhnimi-geometricheskimi-figuram-16.jpg1_2CharMap.png\n",
      "\n"
     ]
    },
    {
     "data": {
      "application/vnd.jupyter.widget-view+json": {
       "model_id": "52ffc61dbeda41fea11b89366490c120",
       "version_major": 2,
       "version_minor": 0
      },
      "text/plain": [
       "HBox(children=(HTML(value=''), FloatProgress(value=0.0, max=4.0), HTML(value='')))"
      ]
     },
     "metadata": {},
     "output_type": "display_data"
    },
    {
     "name": "stdout",
     "output_type": "stream",
     "text": [
      "D:\\Data\\Diploma\\generated//Test_noAugModified//gt/1579697608_7-p-foni-so-slozhnimi-geometricheskimi-figuram-16.jpg0_3CharMap.png\n",
      "D:\\Data\\Diploma\\generated//Test_noAugModified//gt/1579697608_7-p-foni-so-slozhnimi-geometricheskimi-figuram-16.jpg1_3CharMap.png\n",
      "\n",
      "\n"
     ]
    },
    {
     "name": "stderr",
     "output_type": "stream",
     "text": [
      "<ipython-input-40-04aad9b0baf8>:10: TqdmDeprecationWarning: This function will be removed in tqdm==5.0.0\n",
      "Please use `tqdm.notebook.tqdm` instead of `tqdm.tqdm_notebook`\n",
      "  for j in tn(range(4)):\n"
     ]
    },
    {
     "data": {
      "application/vnd.jupyter.widget-view+json": {
       "model_id": "339f28cd8cbf4319a94f9105d90966cf",
       "version_major": 2,
       "version_minor": 0
      },
      "text/plain": [
       "HBox(children=(HTML(value=''), FloatProgress(value=0.0, max=4.0), HTML(value='')))"
      ]
     },
     "metadata": {},
     "output_type": "display_data"
    },
    {
     "data": {
      "application/vnd.jupyter.widget-view+json": {
       "model_id": "df55bfcb827343ad8750f78b6ba93a78",
       "version_major": 2,
       "version_minor": 0
      },
      "text/plain": [
       "HBox(children=(HTML(value=''), FloatProgress(value=0.0, max=4.0), HTML(value='')))"
      ]
     },
     "metadata": {},
     "output_type": "display_data"
    },
    {
     "name": "stdout",
     "output_type": "stream",
     "text": [
      "D:\\Data\\Diploma\\generated//Test_noAugModified//gt/1579697609_2-p-foni-so-slozhnimi-geometricheskimi-figuram-5.png0_0CharMap.png\n",
      "D:\\Data\\Diploma\\generated//Test_noAugModified//gt/1579697609_2-p-foni-so-slozhnimi-geometricheskimi-figuram-5.png1_0CharMap.png\n",
      "\n"
     ]
    },
    {
     "data": {
      "application/vnd.jupyter.widget-view+json": {
       "model_id": "fc06ee2c9aad445ab951b8f85eab95d5",
       "version_major": 2,
       "version_minor": 0
      },
      "text/plain": [
       "HBox(children=(HTML(value=''), FloatProgress(value=0.0, max=4.0), HTML(value='')))"
      ]
     },
     "metadata": {},
     "output_type": "display_data"
    },
    {
     "name": "stdout",
     "output_type": "stream",
     "text": [
      "D:\\Data\\Diploma\\generated//Test_noAugModified//gt/1579697609_2-p-foni-so-slozhnimi-geometricheskimi-figuram-5.png0_1CharMap.png\n",
      "D:\\Data\\Diploma\\generated//Test_noAugModified//gt/1579697609_2-p-foni-so-slozhnimi-geometricheskimi-figuram-5.png1_1CharMap.png\n",
      "\n"
     ]
    },
    {
     "data": {
      "application/vnd.jupyter.widget-view+json": {
       "model_id": "8cac4d8923fb49368740f8c7eacdfb04",
       "version_major": 2,
       "version_minor": 0
      },
      "text/plain": [
       "HBox(children=(HTML(value=''), FloatProgress(value=0.0, max=4.0), HTML(value='')))"
      ]
     },
     "metadata": {},
     "output_type": "display_data"
    },
    {
     "name": "stdout",
     "output_type": "stream",
     "text": [
      "D:\\Data\\Diploma\\generated//Test_noAugModified//gt/1579697609_2-p-foni-so-slozhnimi-geometricheskimi-figuram-5.png0_2CharMap.png\n",
      "D:\\Data\\Diploma\\generated//Test_noAugModified//gt/1579697609_2-p-foni-so-slozhnimi-geometricheskimi-figuram-5.png1_2CharMap.png\n",
      "\n"
     ]
    },
    {
     "data": {
      "application/vnd.jupyter.widget-view+json": {
       "model_id": "723269ed42464967bf5afdb7376a7160",
       "version_major": 2,
       "version_minor": 0
      },
      "text/plain": [
       "HBox(children=(HTML(value=''), FloatProgress(value=0.0, max=4.0), HTML(value='')))"
      ]
     },
     "metadata": {},
     "output_type": "display_data"
    },
    {
     "name": "stdout",
     "output_type": "stream",
     "text": [
      "D:\\Data\\Diploma\\generated//Test_noAugModified//gt/1579697609_2-p-foni-so-slozhnimi-geometricheskimi-figuram-5.png0_3CharMap.png\n",
      "D:\\Data\\Diploma\\generated//Test_noAugModified//gt/1579697609_2-p-foni-so-slozhnimi-geometricheskimi-figuram-5.png1_3CharMap.png\n",
      "\n",
      "\n"
     ]
    },
    {
     "data": {
      "application/vnd.jupyter.widget-view+json": {
       "model_id": "b26f463a32f04037be37302bee7a9b94",
       "version_major": 2,
       "version_minor": 0
      },
      "text/plain": [
       "HBox(children=(HTML(value=''), FloatProgress(value=0.0, max=4.0), HTML(value='')))"
      ]
     },
     "metadata": {},
     "output_type": "display_data"
    },
    {
     "data": {
      "application/vnd.jupyter.widget-view+json": {
       "model_id": "30a3c7c810964542b49f7aaf33938f48",
       "version_major": 2,
       "version_minor": 0
      },
      "text/plain": [
       "HBox(children=(HTML(value=''), FloatProgress(value=0.0, max=4.0), HTML(value='')))"
      ]
     },
     "metadata": {},
     "output_type": "display_data"
    },
    {
     "name": "stdout",
     "output_type": "stream",
     "text": [
      "D:\\Data\\Diploma\\generated//Test_noAugModified//gt/1579697616_12-p-foni-so-slozhnimi-geometricheskimi-figuram-34.jpg0_0CharMap.png\n",
      "D:\\Data\\Diploma\\generated//Test_noAugModified//gt/1579697616_12-p-foni-so-slozhnimi-geometricheskimi-figuram-34.jpg1_0CharMap.png\n",
      "\n"
     ]
    },
    {
     "data": {
      "application/vnd.jupyter.widget-view+json": {
       "model_id": "a7f28390e53e4a4cb6901d5b04717420",
       "version_major": 2,
       "version_minor": 0
      },
      "text/plain": [
       "HBox(children=(HTML(value=''), FloatProgress(value=0.0, max=4.0), HTML(value='')))"
      ]
     },
     "metadata": {},
     "output_type": "display_data"
    },
    {
     "name": "stdout",
     "output_type": "stream",
     "text": [
      "D:\\Data\\Diploma\\generated//Test_noAugModified//gt/1579697616_12-p-foni-so-slozhnimi-geometricheskimi-figuram-34.jpg0_1CharMap.png\n",
      "D:\\Data\\Diploma\\generated//Test_noAugModified//gt/1579697616_12-p-foni-so-slozhnimi-geometricheskimi-figuram-34.jpg1_1CharMap.png\n",
      "\n"
     ]
    },
    {
     "data": {
      "application/vnd.jupyter.widget-view+json": {
       "model_id": "9b97268ef30b4c3c88810d1b7c4b94ac",
       "version_major": 2,
       "version_minor": 0
      },
      "text/plain": [
       "HBox(children=(HTML(value=''), FloatProgress(value=0.0, max=4.0), HTML(value='')))"
      ]
     },
     "metadata": {},
     "output_type": "display_data"
    },
    {
     "name": "stdout",
     "output_type": "stream",
     "text": [
      "D:\\Data\\Diploma\\generated//Test_noAugModified//gt/1579697616_12-p-foni-so-slozhnimi-geometricheskimi-figuram-34.jpg0_2CharMap.png\n",
      "D:\\Data\\Diploma\\generated//Test_noAugModified//gt/1579697616_12-p-foni-so-slozhnimi-geometricheskimi-figuram-34.jpg1_2CharMap.png\n",
      "\n"
     ]
    },
    {
     "data": {
      "application/vnd.jupyter.widget-view+json": {
       "model_id": "10b0f553b8864e599fdfa765e37904de",
       "version_major": 2,
       "version_minor": 0
      },
      "text/plain": [
       "HBox(children=(HTML(value=''), FloatProgress(value=0.0, max=4.0), HTML(value='')))"
      ]
     },
     "metadata": {},
     "output_type": "display_data"
    },
    {
     "name": "stdout",
     "output_type": "stream",
     "text": [
      "D:\\Data\\Diploma\\generated//Test_noAugModified//gt/1579697616_12-p-foni-so-slozhnimi-geometricheskimi-figuram-34.jpg0_3CharMap.png\n",
      "D:\\Data\\Diploma\\generated//Test_noAugModified//gt/1579697616_12-p-foni-so-slozhnimi-geometricheskimi-figuram-34.jpg1_3CharMap.png\n",
      "\n",
      "\n"
     ]
    },
    {
     "data": {
      "application/vnd.jupyter.widget-view+json": {
       "model_id": "7fac0e8b785b4c579d00b3d669faa687",
       "version_major": 2,
       "version_minor": 0
      },
      "text/plain": [
       "HBox(children=(HTML(value=''), FloatProgress(value=0.0, max=4.0), HTML(value='')))"
      ]
     },
     "metadata": {},
     "output_type": "display_data"
    },
    {
     "data": {
      "application/vnd.jupyter.widget-view+json": {
       "model_id": "3347b54b4ffa481a824b353ef0cf5f81",
       "version_major": 2,
       "version_minor": 0
      },
      "text/plain": [
       "HBox(children=(HTML(value=''), FloatProgress(value=0.0, max=4.0), HTML(value='')))"
      ]
     },
     "metadata": {},
     "output_type": "display_data"
    },
    {
     "name": "stdout",
     "output_type": "stream",
     "text": [
      "D:\\Data\\Diploma\\generated//Test_noAugModified//gt/1579697625_23-p-foni-so-slozhnimi-geometricheskimi-figuram-56.jpg0_0CharMap.png\n",
      "D:\\Data\\Diploma\\generated//Test_noAugModified//gt/1579697625_23-p-foni-so-slozhnimi-geometricheskimi-figuram-56.jpg1_0CharMap.png\n",
      "\n"
     ]
    },
    {
     "data": {
      "application/vnd.jupyter.widget-view+json": {
       "model_id": "05d9d45a17a7485abf4cddb41951214a",
       "version_major": 2,
       "version_minor": 0
      },
      "text/plain": [
       "HBox(children=(HTML(value=''), FloatProgress(value=0.0, max=4.0), HTML(value='')))"
      ]
     },
     "metadata": {},
     "output_type": "display_data"
    },
    {
     "name": "stdout",
     "output_type": "stream",
     "text": [
      "D:\\Data\\Diploma\\generated//Test_noAugModified//gt/1579697625_23-p-foni-so-slozhnimi-geometricheskimi-figuram-56.jpg0_1CharMap.png\n",
      "D:\\Data\\Diploma\\generated//Test_noAugModified//gt/1579697625_23-p-foni-so-slozhnimi-geometricheskimi-figuram-56.jpg1_1CharMap.png\n",
      "\n"
     ]
    },
    {
     "data": {
      "application/vnd.jupyter.widget-view+json": {
       "model_id": "1b8702b8a2c34eae90568864e9924059",
       "version_major": 2,
       "version_minor": 0
      },
      "text/plain": [
       "HBox(children=(HTML(value=''), FloatProgress(value=0.0, max=4.0), HTML(value='')))"
      ]
     },
     "metadata": {},
     "output_type": "display_data"
    },
    {
     "name": "stdout",
     "output_type": "stream",
     "text": [
      "D:\\Data\\Diploma\\generated//Test_noAugModified//gt/1579697625_23-p-foni-so-slozhnimi-geometricheskimi-figuram-56.jpg0_2CharMap.png\n",
      "D:\\Data\\Diploma\\generated//Test_noAugModified//gt/1579697625_23-p-foni-so-slozhnimi-geometricheskimi-figuram-56.jpg1_2CharMap.png\n",
      "\n"
     ]
    },
    {
     "data": {
      "application/vnd.jupyter.widget-view+json": {
       "model_id": "a99eab97b0314b1e9b93548679779e41",
       "version_major": 2,
       "version_minor": 0
      },
      "text/plain": [
       "HBox(children=(HTML(value=''), FloatProgress(value=0.0, max=4.0), HTML(value='')))"
      ]
     },
     "metadata": {},
     "output_type": "display_data"
    },
    {
     "name": "stdout",
     "output_type": "stream",
     "text": [
      "D:\\Data\\Diploma\\generated//Test_noAugModified//gt/1579697625_23-p-foni-so-slozhnimi-geometricheskimi-figuram-56.jpg0_3CharMap.png\n",
      "D:\\Data\\Diploma\\generated//Test_noAugModified//gt/1579697625_23-p-foni-so-slozhnimi-geometricheskimi-figuram-56.jpg1_3CharMap.png\n",
      "\n",
      "\n"
     ]
    },
    {
     "data": {
      "application/vnd.jupyter.widget-view+json": {
       "model_id": "1ebd75c23d044c168f8259e659b6adb8",
       "version_major": 2,
       "version_minor": 0
      },
      "text/plain": [
       "HBox(children=(HTML(value=''), FloatProgress(value=0.0, max=4.0), HTML(value='')))"
      ]
     },
     "metadata": {},
     "output_type": "display_data"
    },
    {
     "name": "stderr",
     "output_type": "stream",
     "text": [
      "<ipython-input-40-04aad9b0baf8>:16: TqdmDeprecationWarning: This function will be removed in tqdm==5.0.0\n",
      "Please use `tqdm.notebook.tqdm` instead of `tqdm.tqdm_notebook`\n",
      "  for i in tn(range(4)):\n"
     ]
    },
    {
     "data": {
      "application/vnd.jupyter.widget-view+json": {
       "model_id": "010763eb4d924f1a982b135b226b6a19",
       "version_major": 2,
       "version_minor": 0
      },
      "text/plain": [
       "HBox(children=(HTML(value=''), FloatProgress(value=0.0, max=4.0), HTML(value='')))"
      ]
     },
     "metadata": {},
     "output_type": "display_data"
    },
    {
     "name": "stderr",
     "output_type": "stream",
     "text": [
      "<ipython-input-27-bc886dcdcd16>:321: DeprecationWarning: `np.int` is a deprecated alias for the builtin `int`. To silence this warning, use `int` by itself. Doing this will not modify any behavior and is safe. When replacing `np.int`, you may wish to use e.g. `np.int64` or `np.int32` to specify the precision. If you wish to review your current use, check the release note link for additional information.\n",
      "Deprecated in NumPy 1.20; for more details and guidance: https://numpy.org/devdocs/release/1.20.0-notes.html#deprecations\n",
      "  rects = [np.array(wordCharRects, dtype=np.int)[np.newaxis, :, :,:] for wordCharRects in self.annotation[\"wordsCharactersRects\"]]\n",
      "<ipython-input-40-04aad9b0baf8>:31: UserWarning: Matplotlib is currently using agg, which is a non-GUI backend, so cannot show the figure.\n",
      "  plt.show()\n"
     ]
    },
    {
     "name": "stdout",
     "output_type": "stream",
     "text": [
      "D:\\Data\\Diploma\\generated//Test_noAugModified//gt/1579697626_9-p-foni-so-slozhnimi-geometricheskimi-figuram-23.jpg0_0CharMap.png\n",
      "D:\\Data\\Diploma\\generated//Test_noAugModified//gt/1579697626_9-p-foni-so-slozhnimi-geometricheskimi-figuram-23.jpg1_0CharMap.png\n",
      "\n"
     ]
    },
    {
     "data": {
      "application/vnd.jupyter.widget-view+json": {
       "model_id": "6f5646597e2b4450978d565eedbafe1e",
       "version_major": 2,
       "version_minor": 0
      },
      "text/plain": [
       "HBox(children=(HTML(value=''), FloatProgress(value=0.0, max=4.0), HTML(value='')))"
      ]
     },
     "metadata": {},
     "output_type": "display_data"
    },
    {
     "name": "stderr",
     "output_type": "stream",
     "text": [
      "<ipython-input-26-4a25245fc9cb>:37: DeprecationWarning: `np.float` is a deprecated alias for the builtin `float`. To silence this warning, use `float` by itself. Doing this will not modify any behavior and is safe. If you specifically wanted the numpy scalar type, use `np.float64` here.\n",
      "Deprecated in NumPy 1.20; for more details and guidance: https://numpy.org/devdocs/release/1.20.0-notes.html#deprecations\n",
      "  result = np.zeros((height, width, len(start_list)), dtype=np.float)\n"
     ]
    },
    {
     "name": "stdout",
     "output_type": "stream",
     "text": [
      "D:\\Data\\Diploma\\generated//Test_noAugModified//gt/1579697626_9-p-foni-so-slozhnimi-geometricheskimi-figuram-23.jpg0_1CharMap.png\n",
      "D:\\Data\\Diploma\\generated//Test_noAugModified//gt/1579697626_9-p-foni-so-slozhnimi-geometricheskimi-figuram-23.jpg1_1CharMap.png\n",
      "\n"
     ]
    },
    {
     "name": "stderr",
     "output_type": "stream",
     "text": [
      "<ipython-input-40-04aad9b0baf8>:16: TqdmDeprecationWarning: This function will be removed in tqdm==5.0.0\n",
      "Please use `tqdm.notebook.tqdm` instead of `tqdm.tqdm_notebook`\n",
      "  for i in tn(range(4)):\n"
     ]
    },
    {
     "data": {
      "application/vnd.jupyter.widget-view+json": {
       "model_id": "22b9e4fe1dc64e33884af952eb411703",
       "version_major": 2,
       "version_minor": 0
      },
      "text/plain": [
       "HBox(children=(HTML(value=''), FloatProgress(value=0.0, max=4.0), HTML(value='')))"
      ]
     },
     "metadata": {},
     "output_type": "display_data"
    },
    {
     "name": "stderr",
     "output_type": "stream",
     "text": [
      "<ipython-input-27-bc886dcdcd16>:321: DeprecationWarning: `np.int` is a deprecated alias for the builtin `int`. To silence this warning, use `int` by itself. Doing this will not modify any behavior and is safe. When replacing `np.int`, you may wish to use e.g. `np.int64` or `np.int32` to specify the precision. If you wish to review your current use, check the release note link for additional information.\n",
      "Deprecated in NumPy 1.20; for more details and guidance: https://numpy.org/devdocs/release/1.20.0-notes.html#deprecations\n",
      "  rects = [np.array(wordCharRects, dtype=np.int)[np.newaxis, :, :,:] for wordCharRects in self.annotation[\"wordsCharactersRects\"]]\n",
      "<ipython-input-40-04aad9b0baf8>:31: UserWarning: Matplotlib is currently using agg, which is a non-GUI backend, so cannot show the figure.\n",
      "  plt.show()\n"
     ]
    },
    {
     "name": "stdout",
     "output_type": "stream",
     "text": [
      "D:\\Data\\Diploma\\generated//Test_noAugModified//gt/1579697626_9-p-foni-so-slozhnimi-geometricheskimi-figuram-23.jpg0_2CharMap.png\n",
      "D:\\Data\\Diploma\\generated//Test_noAugModified//gt/1579697626_9-p-foni-so-slozhnimi-geometricheskimi-figuram-23.jpg1_2CharMap.png\n",
      "\n"
     ]
    },
    {
     "name": "stderr",
     "output_type": "stream",
     "text": [
      "<ipython-input-40-04aad9b0baf8>:16: TqdmDeprecationWarning: This function will be removed in tqdm==5.0.0\n",
      "Please use `tqdm.notebook.tqdm` instead of `tqdm.tqdm_notebook`\n",
      "  for i in tn(range(4)):\n"
     ]
    },
    {
     "data": {
      "application/vnd.jupyter.widget-view+json": {
       "model_id": "093e4c3cab1d4f06b5467551205a5826",
       "version_major": 2,
       "version_minor": 0
      },
      "text/plain": [
       "HBox(children=(HTML(value=''), FloatProgress(value=0.0, max=4.0), HTML(value='')))"
      ]
     },
     "metadata": {},
     "output_type": "display_data"
    },
    {
     "name": "stderr",
     "output_type": "stream",
     "text": [
      "<ipython-input-27-bc886dcdcd16>:321: DeprecationWarning: `np.int` is a deprecated alias for the builtin `int`. To silence this warning, use `int` by itself. Doing this will not modify any behavior and is safe. When replacing `np.int`, you may wish to use e.g. `np.int64` or `np.int32` to specify the precision. If you wish to review your current use, check the release note link for additional information.\n",
      "Deprecated in NumPy 1.20; for more details and guidance: https://numpy.org/devdocs/release/1.20.0-notes.html#deprecations\n",
      "  rects = [np.array(wordCharRects, dtype=np.int)[np.newaxis, :, :,:] for wordCharRects in self.annotation[\"wordsCharactersRects\"]]\n",
      "<ipython-input-40-04aad9b0baf8>:31: UserWarning: Matplotlib is currently using agg, which is a non-GUI backend, so cannot show the figure.\n",
      "  plt.show()\n"
     ]
    },
    {
     "name": "stdout",
     "output_type": "stream",
     "text": [
      "D:\\Data\\Diploma\\generated//Test_noAugModified//gt/1579697626_9-p-foni-so-slozhnimi-geometricheskimi-figuram-23.jpg0_3CharMap.png\n",
      "D:\\Data\\Diploma\\generated//Test_noAugModified//gt/1579697626_9-p-foni-so-slozhnimi-geometricheskimi-figuram-23.jpg1_3CharMap.png\n",
      "\n",
      "\n"
     ]
    },
    {
     "name": "stderr",
     "output_type": "stream",
     "text": [
      "<ipython-input-40-04aad9b0baf8>:10: TqdmDeprecationWarning: This function will be removed in tqdm==5.0.0\n",
      "Please use `tqdm.notebook.tqdm` instead of `tqdm.tqdm_notebook`\n",
      "  for j in tn(range(4)):\n"
     ]
    },
    {
     "data": {
      "application/vnd.jupyter.widget-view+json": {
       "model_id": "ecea3999724e481595eb42d4beff5ff0",
       "version_major": 2,
       "version_minor": 0
      },
      "text/plain": [
       "HBox(children=(HTML(value=''), FloatProgress(value=0.0, max=4.0), HTML(value='')))"
      ]
     },
     "metadata": {},
     "output_type": "display_data"
    },
    {
     "name": "stderr",
     "output_type": "stream",
     "text": [
      "<ipython-input-40-04aad9b0baf8>:16: TqdmDeprecationWarning: This function will be removed in tqdm==5.0.0\n",
      "Please use `tqdm.notebook.tqdm` instead of `tqdm.tqdm_notebook`\n",
      "  for i in tn(range(4)):\n"
     ]
    },
    {
     "data": {
      "application/vnd.jupyter.widget-view+json": {
       "model_id": "50bd8aca99324baf8e9f1dff2ee4fd07",
       "version_major": 2,
       "version_minor": 0
      },
      "text/plain": [
       "HBox(children=(HTML(value=''), FloatProgress(value=0.0, max=4.0), HTML(value='')))"
      ]
     },
     "metadata": {},
     "output_type": "display_data"
    },
    {
     "name": "stderr",
     "output_type": "stream",
     "text": [
      "<ipython-input-27-bc886dcdcd16>:321: DeprecationWarning: `np.int` is a deprecated alias for the builtin `int`. To silence this warning, use `int` by itself. Doing this will not modify any behavior and is safe. When replacing `np.int`, you may wish to use e.g. `np.int64` or `np.int32` to specify the precision. If you wish to review your current use, check the release note link for additional information.\n",
      "Deprecated in NumPy 1.20; for more details and guidance: https://numpy.org/devdocs/release/1.20.0-notes.html#deprecations\n",
      "  rects = [np.array(wordCharRects, dtype=np.int)[np.newaxis, :, :,:] for wordCharRects in self.annotation[\"wordsCharactersRects\"]]\n",
      "<ipython-input-40-04aad9b0baf8>:31: UserWarning: Matplotlib is currently using agg, which is a non-GUI backend, so cannot show the figure.\n",
      "  plt.show()\n"
     ]
    },
    {
     "name": "stdout",
     "output_type": "stream",
     "text": [
      "D:\\Data\\Diploma\\generated//Test_noAugModified//gt/1579697629_18-p-foni-so-slozhnimi-geometricheskimi-figuram-46.jpg0_0CharMap.png\n",
      "D:\\Data\\Diploma\\generated//Test_noAugModified//gt/1579697629_18-p-foni-so-slozhnimi-geometricheskimi-figuram-46.jpg1_0CharMap.png\n",
      "\n"
     ]
    },
    {
     "data": {
      "application/vnd.jupyter.widget-view+json": {
       "model_id": "d5e7ad31a3b44be2b06359c6e59891b2",
       "version_major": 2,
       "version_minor": 0
      },
      "text/plain": [
       "HBox(children=(HTML(value=''), FloatProgress(value=0.0, max=4.0), HTML(value='')))"
      ]
     },
     "metadata": {},
     "output_type": "display_data"
    },
    {
     "name": "stdout",
     "output_type": "stream",
     "text": [
      "D:\\Data\\Diploma\\generated//Test_noAugModified//gt/1579697629_18-p-foni-so-slozhnimi-geometricheskimi-figuram-46.jpg0_1CharMap.png\n",
      "D:\\Data\\Diploma\\generated//Test_noAugModified//gt/1579697629_18-p-foni-so-slozhnimi-geometricheskimi-figuram-46.jpg1_1CharMap.png\n",
      "\n"
     ]
    },
    {
     "name": "stderr",
     "output_type": "stream",
     "text": [
      "<ipython-input-40-04aad9b0baf8>:16: TqdmDeprecationWarning: This function will be removed in tqdm==5.0.0\n",
      "Please use `tqdm.notebook.tqdm` instead of `tqdm.tqdm_notebook`\n",
      "  for i in tn(range(4)):\n"
     ]
    },
    {
     "data": {
      "application/vnd.jupyter.widget-view+json": {
       "model_id": "ed703125229149f085a3da710ab2cc9c",
       "version_major": 2,
       "version_minor": 0
      },
      "text/plain": [
       "HBox(children=(HTML(value=''), FloatProgress(value=0.0, max=4.0), HTML(value='')))"
      ]
     },
     "metadata": {},
     "output_type": "display_data"
    },
    {
     "name": "stderr",
     "output_type": "stream",
     "text": [
      "<ipython-input-27-bc886dcdcd16>:321: DeprecationWarning: `np.int` is a deprecated alias for the builtin `int`. To silence this warning, use `int` by itself. Doing this will not modify any behavior and is safe. When replacing `np.int`, you may wish to use e.g. `np.int64` or `np.int32` to specify the precision. If you wish to review your current use, check the release note link for additional information.\n",
      "Deprecated in NumPy 1.20; for more details and guidance: https://numpy.org/devdocs/release/1.20.0-notes.html#deprecations\n",
      "  rects = [np.array(wordCharRects, dtype=np.int)[np.newaxis, :, :,:] for wordCharRects in self.annotation[\"wordsCharactersRects\"]]\n",
      "<ipython-input-40-04aad9b0baf8>:31: UserWarning: Matplotlib is currently using agg, which is a non-GUI backend, so cannot show the figure.\n",
      "  plt.show()\n"
     ]
    },
    {
     "name": "stdout",
     "output_type": "stream",
     "text": [
      "D:\\Data\\Diploma\\generated//Test_noAugModified//gt/1579697629_18-p-foni-so-slozhnimi-geometricheskimi-figuram-46.jpg0_2CharMap.png\n",
      "D:\\Data\\Diploma\\generated//Test_noAugModified//gt/1579697629_18-p-foni-so-slozhnimi-geometricheskimi-figuram-46.jpg1_2CharMap.png\n",
      "\n"
     ]
    },
    {
     "name": "stderr",
     "output_type": "stream",
     "text": [
      "<ipython-input-40-04aad9b0baf8>:16: TqdmDeprecationWarning: This function will be removed in tqdm==5.0.0\n",
      "Please use `tqdm.notebook.tqdm` instead of `tqdm.tqdm_notebook`\n",
      "  for i in tn(range(4)):\n"
     ]
    },
    {
     "data": {
      "application/vnd.jupyter.widget-view+json": {
       "model_id": "0ce1436df4db4ab3b0ad00411f2d869a",
       "version_major": 2,
       "version_minor": 0
      },
      "text/plain": [
       "HBox(children=(HTML(value=''), FloatProgress(value=0.0, max=4.0), HTML(value='')))"
      ]
     },
     "metadata": {},
     "output_type": "display_data"
    },
    {
     "name": "stderr",
     "output_type": "stream",
     "text": [
      "<ipython-input-27-bc886dcdcd16>:321: DeprecationWarning: `np.int` is a deprecated alias for the builtin `int`. To silence this warning, use `int` by itself. Doing this will not modify any behavior and is safe. When replacing `np.int`, you may wish to use e.g. `np.int64` or `np.int32` to specify the precision. If you wish to review your current use, check the release note link for additional information.\n",
      "Deprecated in NumPy 1.20; for more details and guidance: https://numpy.org/devdocs/release/1.20.0-notes.html#deprecations\n",
      "  rects = [np.array(wordCharRects, dtype=np.int)[np.newaxis, :, :,:] for wordCharRects in self.annotation[\"wordsCharactersRects\"]]\n",
      "<ipython-input-40-04aad9b0baf8>:31: UserWarning: Matplotlib is currently using agg, which is a non-GUI backend, so cannot show the figure.\n",
      "  plt.show()\n"
     ]
    },
    {
     "name": "stdout",
     "output_type": "stream",
     "text": [
      "D:\\Data\\Diploma\\generated//Test_noAugModified//gt/1579697629_18-p-foni-so-slozhnimi-geometricheskimi-figuram-46.jpg0_3CharMap.png\n",
      "D:\\Data\\Diploma\\generated//Test_noAugModified//gt/1579697629_18-p-foni-so-slozhnimi-geometricheskimi-figuram-46.jpg1_3CharMap.png\n",
      "\n",
      "\n"
     ]
    },
    {
     "name": "stderr",
     "output_type": "stream",
     "text": [
      "<ipython-input-40-04aad9b0baf8>:10: TqdmDeprecationWarning: This function will be removed in tqdm==5.0.0\n",
      "Please use `tqdm.notebook.tqdm` instead of `tqdm.tqdm_notebook`\n",
      "  for j in tn(range(4)):\n"
     ]
    },
    {
     "data": {
      "application/vnd.jupyter.widget-view+json": {
       "model_id": "eb0cce13a6214ae4a5f0edf1327f4b16",
       "version_major": 2,
       "version_minor": 0
      },
      "text/plain": [
       "HBox(children=(HTML(value=''), FloatProgress(value=0.0, max=4.0), HTML(value='')))"
      ]
     },
     "metadata": {},
     "output_type": "display_data"
    },
    {
     "name": "stderr",
     "output_type": "stream",
     "text": [
      "<ipython-input-26-4a25245fc9cb>:37: DeprecationWarning: `np.float` is a deprecated alias for the builtin `float`. To silence this warning, use `float` by itself. Doing this will not modify any behavior and is safe. If you specifically wanted the numpy scalar type, use `np.float64` here.\n",
      "Deprecated in NumPy 1.20; for more details and guidance: https://numpy.org/devdocs/release/1.20.0-notes.html#deprecations\n",
      "  result = np.zeros((height, width, len(start_list)), dtype=np.float)\n"
     ]
    },
    {
     "data": {
      "application/vnd.jupyter.widget-view+json": {
       "model_id": "098f477af2df48ba8c5eaddc3077bf40",
       "version_major": 2,
       "version_minor": 0
      },
      "text/plain": [
       "HBox(children=(HTML(value=''), FloatProgress(value=0.0, max=4.0), HTML(value='')))"
      ]
     },
     "metadata": {},
     "output_type": "display_data"
    },
    {
     "name": "stdout",
     "output_type": "stream",
     "text": [
      "D:\\Data\\Diploma\\generated//Test_noAugModified//gt/1579697631_3-p-foni-so-slozhnimi-geometricheskimi-figuram-7.jpg0_0CharMap.png\n",
      "D:\\Data\\Diploma\\generated//Test_noAugModified//gt/1579697631_3-p-foni-so-slozhnimi-geometricheskimi-figuram-7.jpg1_0CharMap.png\n",
      "\n"
     ]
    },
    {
     "data": {
      "application/vnd.jupyter.widget-view+json": {
       "model_id": "f25a4a9779114029bf864822ece083ea",
       "version_major": 2,
       "version_minor": 0
      },
      "text/plain": [
       "HBox(children=(HTML(value=''), FloatProgress(value=0.0, max=4.0), HTML(value='')))"
      ]
     },
     "metadata": {},
     "output_type": "display_data"
    },
    {
     "name": "stdout",
     "output_type": "stream",
     "text": [
      "D:\\Data\\Diploma\\generated//Test_noAugModified//gt/1579697631_3-p-foni-so-slozhnimi-geometricheskimi-figuram-7.jpg0_1CharMap.png\n",
      "D:\\Data\\Diploma\\generated//Test_noAugModified//gt/1579697631_3-p-foni-so-slozhnimi-geometricheskimi-figuram-7.jpg1_1CharMap.png\n",
      "\n"
     ]
    },
    {
     "data": {
      "application/vnd.jupyter.widget-view+json": {
       "model_id": "2039bebe42b347bba7b6abcf03036522",
       "version_major": 2,
       "version_minor": 0
      },
      "text/plain": [
       "HBox(children=(HTML(value=''), FloatProgress(value=0.0, max=4.0), HTML(value='')))"
      ]
     },
     "metadata": {},
     "output_type": "display_data"
    },
    {
     "name": "stdout",
     "output_type": "stream",
     "text": [
      "D:\\Data\\Diploma\\generated//Test_noAugModified//gt/1579697631_3-p-foni-so-slozhnimi-geometricheskimi-figuram-7.jpg0_2CharMap.png\n",
      "D:\\Data\\Diploma\\generated//Test_noAugModified//gt/1579697631_3-p-foni-so-slozhnimi-geometricheskimi-figuram-7.jpg1_2CharMap.png\n",
      "\n"
     ]
    },
    {
     "data": {
      "application/vnd.jupyter.widget-view+json": {
       "model_id": "14ca687bddb94808bb239493f143729f",
       "version_major": 2,
       "version_minor": 0
      },
      "text/plain": [
       "HBox(children=(HTML(value=''), FloatProgress(value=0.0, max=4.0), HTML(value='')))"
      ]
     },
     "metadata": {},
     "output_type": "display_data"
    },
    {
     "name": "stdout",
     "output_type": "stream",
     "text": [
      "D:\\Data\\Diploma\\generated//Test_noAugModified//gt/1579697631_3-p-foni-so-slozhnimi-geometricheskimi-figuram-7.jpg0_3CharMap.png\n",
      "D:\\Data\\Diploma\\generated//Test_noAugModified//gt/1579697631_3-p-foni-so-slozhnimi-geometricheskimi-figuram-7.jpg1_3CharMap.png\n",
      "\n",
      "\n"
     ]
    },
    {
     "data": {
      "application/vnd.jupyter.widget-view+json": {
       "model_id": "5bd763edc276487f96c827cf7ac7efce",
       "version_major": 2,
       "version_minor": 0
      },
      "text/plain": [
       "HBox(children=(HTML(value=''), FloatProgress(value=0.0, max=4.0), HTML(value='')))"
      ]
     },
     "metadata": {},
     "output_type": "display_data"
    },
    {
     "name": "stderr",
     "output_type": "stream",
     "text": [
      "<ipython-input-26-4a25245fc9cb>:37: DeprecationWarning: `np.float` is a deprecated alias for the builtin `float`. To silence this warning, use `float` by itself. Doing this will not modify any behavior and is safe. If you specifically wanted the numpy scalar type, use `np.float64` here.\n",
      "Deprecated in NumPy 1.20; for more details and guidance: https://numpy.org/devdocs/release/1.20.0-notes.html#deprecations\n",
      "  result = np.zeros((height, width, len(start_list)), dtype=np.float)\n",
      "<ipython-input-40-04aad9b0baf8>:16: TqdmDeprecationWarning: This function will be removed in tqdm==5.0.0\n",
      "Please use `tqdm.notebook.tqdm` instead of `tqdm.tqdm_notebook`\n",
      "  for i in tn(range(4)):\n"
     ]
    },
    {
     "data": {
      "application/vnd.jupyter.widget-view+json": {
       "model_id": "0b563f2d499d4c3789a49a975492100b",
       "version_major": 2,
       "version_minor": 0
      },
      "text/plain": [
       "HBox(children=(HTML(value=''), FloatProgress(value=0.0, max=4.0), HTML(value='')))"
      ]
     },
     "metadata": {},
     "output_type": "display_data"
    },
    {
     "name": "stderr",
     "output_type": "stream",
     "text": [
      "<ipython-input-27-bc886dcdcd16>:321: DeprecationWarning: `np.int` is a deprecated alias for the builtin `int`. To silence this warning, use `int` by itself. Doing this will not modify any behavior and is safe. When replacing `np.int`, you may wish to use e.g. `np.int64` or `np.int32` to specify the precision. If you wish to review your current use, check the release note link for additional information.\n",
      "Deprecated in NumPy 1.20; for more details and guidance: https://numpy.org/devdocs/release/1.20.0-notes.html#deprecations\n",
      "  rects = [np.array(wordCharRects, dtype=np.int)[np.newaxis, :, :,:] for wordCharRects in self.annotation[\"wordsCharactersRects\"]]\n",
      "<ipython-input-40-04aad9b0baf8>:31: UserWarning: Matplotlib is currently using agg, which is a non-GUI backend, so cannot show the figure.\n",
      "  plt.show()\n"
     ]
    },
    {
     "name": "stdout",
     "output_type": "stream",
     "text": [
      "D:\\Data\\Diploma\\generated//Test_noAugModified//gt/1579697635_1-p-foni-so-slozhnimi-geometricheskimi-figuram-1.jpg0_0CharMap.png\n",
      "D:\\Data\\Diploma\\generated//Test_noAugModified//gt/1579697635_1-p-foni-so-slozhnimi-geometricheskimi-figuram-1.jpg1_0CharMap.png\n",
      "\n"
     ]
    },
    {
     "data": {
      "application/vnd.jupyter.widget-view+json": {
       "model_id": "922ee9b3048746ccbbdd181f35554470",
       "version_major": 2,
       "version_minor": 0
      },
      "text/plain": [
       "HBox(children=(HTML(value=''), FloatProgress(value=0.0, max=4.0), HTML(value='')))"
      ]
     },
     "metadata": {},
     "output_type": "display_data"
    },
    {
     "name": "stdout",
     "output_type": "stream",
     "text": [
      "D:\\Data\\Diploma\\generated//Test_noAugModified//gt/1579697635_1-p-foni-so-slozhnimi-geometricheskimi-figuram-1.jpg0_1CharMap.png\n",
      "D:\\Data\\Diploma\\generated//Test_noAugModified//gt/1579697635_1-p-foni-so-slozhnimi-geometricheskimi-figuram-1.jpg1_1CharMap.png\n",
      "\n"
     ]
    },
    {
     "name": "stderr",
     "output_type": "stream",
     "text": [
      "<ipython-input-40-04aad9b0baf8>:16: TqdmDeprecationWarning: This function will be removed in tqdm==5.0.0\n",
      "Please use `tqdm.notebook.tqdm` instead of `tqdm.tqdm_notebook`\n",
      "  for i in tn(range(4)):\n"
     ]
    },
    {
     "data": {
      "application/vnd.jupyter.widget-view+json": {
       "model_id": "70e7634eae0a49c0b852ca2aed44029f",
       "version_major": 2,
       "version_minor": 0
      },
      "text/plain": [
       "HBox(children=(HTML(value=''), FloatProgress(value=0.0, max=4.0), HTML(value='')))"
      ]
     },
     "metadata": {},
     "output_type": "display_data"
    },
    {
     "name": "stderr",
     "output_type": "stream",
     "text": [
      "<ipython-input-27-bc886dcdcd16>:321: DeprecationWarning: `np.int` is a deprecated alias for the builtin `int`. To silence this warning, use `int` by itself. Doing this will not modify any behavior and is safe. When replacing `np.int`, you may wish to use e.g. `np.int64` or `np.int32` to specify the precision. If you wish to review your current use, check the release note link for additional information.\n",
      "Deprecated in NumPy 1.20; for more details and guidance: https://numpy.org/devdocs/release/1.20.0-notes.html#deprecations\n",
      "  rects = [np.array(wordCharRects, dtype=np.int)[np.newaxis, :, :,:] for wordCharRects in self.annotation[\"wordsCharactersRects\"]]\n",
      "<ipython-input-40-04aad9b0baf8>:31: UserWarning: Matplotlib is currently using agg, which is a non-GUI backend, so cannot show the figure.\n",
      "  plt.show()\n"
     ]
    },
    {
     "name": "stdout",
     "output_type": "stream",
     "text": [
      "D:\\Data\\Diploma\\generated//Test_noAugModified//gt/1579697635_1-p-foni-so-slozhnimi-geometricheskimi-figuram-1.jpg0_2CharMap.png\n",
      "D:\\Data\\Diploma\\generated//Test_noAugModified//gt/1579697635_1-p-foni-so-slozhnimi-geometricheskimi-figuram-1.jpg1_2CharMap.png\n",
      "\n"
     ]
    },
    {
     "name": "stderr",
     "output_type": "stream",
     "text": [
      "<ipython-input-26-4a25245fc9cb>:37: DeprecationWarning: `np.float` is a deprecated alias for the builtin `float`. To silence this warning, use `float` by itself. Doing this will not modify any behavior and is safe. If you specifically wanted the numpy scalar type, use `np.float64` here.\n",
      "Deprecated in NumPy 1.20; for more details and guidance: https://numpy.org/devdocs/release/1.20.0-notes.html#deprecations\n",
      "  result = np.zeros((height, width, len(start_list)), dtype=np.float)\n",
      "<ipython-input-40-04aad9b0baf8>:16: TqdmDeprecationWarning: This function will be removed in tqdm==5.0.0\n",
      "Please use `tqdm.notebook.tqdm` instead of `tqdm.tqdm_notebook`\n",
      "  for i in tn(range(4)):\n"
     ]
    },
    {
     "data": {
      "application/vnd.jupyter.widget-view+json": {
       "model_id": "5db2253968c342679584bd4db5c70da5",
       "version_major": 2,
       "version_minor": 0
      },
      "text/plain": [
       "HBox(children=(HTML(value=''), FloatProgress(value=0.0, max=4.0), HTML(value='')))"
      ]
     },
     "metadata": {},
     "output_type": "display_data"
    },
    {
     "name": "stderr",
     "output_type": "stream",
     "text": [
      "<ipython-input-27-bc886dcdcd16>:321: DeprecationWarning: `np.int` is a deprecated alias for the builtin `int`. To silence this warning, use `int` by itself. Doing this will not modify any behavior and is safe. When replacing `np.int`, you may wish to use e.g. `np.int64` or `np.int32` to specify the precision. If you wish to review your current use, check the release note link for additional information.\n",
      "Deprecated in NumPy 1.20; for more details and guidance: https://numpy.org/devdocs/release/1.20.0-notes.html#deprecations\n",
      "  rects = [np.array(wordCharRects, dtype=np.int)[np.newaxis, :, :,:] for wordCharRects in self.annotation[\"wordsCharactersRects\"]]\n",
      "<ipython-input-40-04aad9b0baf8>:31: UserWarning: Matplotlib is currently using agg, which is a non-GUI backend, so cannot show the figure.\n",
      "  plt.show()\n"
     ]
    },
    {
     "name": "stdout",
     "output_type": "stream",
     "text": [
      "D:\\Data\\Diploma\\generated//Test_noAugModified//gt/1579697635_1-p-foni-so-slozhnimi-geometricheskimi-figuram-1.jpg0_3CharMap.png\n",
      "D:\\Data\\Diploma\\generated//Test_noAugModified//gt/1579697635_1-p-foni-so-slozhnimi-geometricheskimi-figuram-1.jpg1_3CharMap.png\n",
      "\n",
      "\n"
     ]
    },
    {
     "name": "stderr",
     "output_type": "stream",
     "text": [
      "<ipython-input-40-04aad9b0baf8>:10: TqdmDeprecationWarning: This function will be removed in tqdm==5.0.0\n",
      "Please use `tqdm.notebook.tqdm` instead of `tqdm.tqdm_notebook`\n",
      "  for j in tn(range(4)):\n"
     ]
    },
    {
     "data": {
      "application/vnd.jupyter.widget-view+json": {
       "model_id": "cc1d705b49ae40719ce8141c9d215e8d",
       "version_major": 2,
       "version_minor": 0
      },
      "text/plain": [
       "HBox(children=(HTML(value=''), FloatProgress(value=0.0, max=4.0), HTML(value='')))"
      ]
     },
     "metadata": {},
     "output_type": "display_data"
    },
    {
     "data": {
      "application/vnd.jupyter.widget-view+json": {
       "model_id": "177a92e0f0a445f6b1bfad235b645ca9",
       "version_major": 2,
       "version_minor": 0
      },
      "text/plain": [
       "HBox(children=(HTML(value=''), FloatProgress(value=0.0, max=4.0), HTML(value='')))"
      ]
     },
     "metadata": {},
     "output_type": "display_data"
    },
    {
     "name": "stdout",
     "output_type": "stream",
     "text": [
      "D:\\Data\\Diploma\\generated//Test_noAugModified//gt/1579697637_27-p-foni-so-slozhnimi-geometricheskimi-figuram-67.jpg0_0CharMap.png\n",
      "D:\\Data\\Diploma\\generated//Test_noAugModified//gt/1579697637_27-p-foni-so-slozhnimi-geometricheskimi-figuram-67.jpg1_0CharMap.png\n",
      "\n"
     ]
    },
    {
     "data": {
      "application/vnd.jupyter.widget-view+json": {
       "model_id": "c8b02ad94cd649a38718a2fbe7a35110",
       "version_major": 2,
       "version_minor": 0
      },
      "text/plain": [
       "HBox(children=(HTML(value=''), FloatProgress(value=0.0, max=4.0), HTML(value='')))"
      ]
     },
     "metadata": {},
     "output_type": "display_data"
    },
    {
     "name": "stdout",
     "output_type": "stream",
     "text": [
      "D:\\Data\\Diploma\\generated//Test_noAugModified//gt/1579697637_27-p-foni-so-slozhnimi-geometricheskimi-figuram-67.jpg0_1CharMap.png\n",
      "D:\\Data\\Diploma\\generated//Test_noAugModified//gt/1579697637_27-p-foni-so-slozhnimi-geometricheskimi-figuram-67.jpg1_1CharMap.png\n",
      "\n"
     ]
    },
    {
     "name": "stderr",
     "output_type": "stream",
     "text": [
      "<ipython-input-26-4a25245fc9cb>:37: DeprecationWarning: `np.float` is a deprecated alias for the builtin `float`. To silence this warning, use `float` by itself. Doing this will not modify any behavior and is safe. If you specifically wanted the numpy scalar type, use `np.float64` here.\n",
      "Deprecated in NumPy 1.20; for more details and guidance: https://numpy.org/devdocs/release/1.20.0-notes.html#deprecations\n",
      "  result = np.zeros((height, width, len(start_list)), dtype=np.float)\n",
      "<ipython-input-40-04aad9b0baf8>:16: TqdmDeprecationWarning: This function will be removed in tqdm==5.0.0\n",
      "Please use `tqdm.notebook.tqdm` instead of `tqdm.tqdm_notebook`\n",
      "  for i in tn(range(4)):\n"
     ]
    },
    {
     "data": {
      "application/vnd.jupyter.widget-view+json": {
       "model_id": "ab4b7d921e844597b1ff0378114dbe1a",
       "version_major": 2,
       "version_minor": 0
      },
      "text/plain": [
       "HBox(children=(HTML(value=''), FloatProgress(value=0.0, max=4.0), HTML(value='')))"
      ]
     },
     "metadata": {},
     "output_type": "display_data"
    },
    {
     "name": "stderr",
     "output_type": "stream",
     "text": [
      "<ipython-input-27-bc886dcdcd16>:321: DeprecationWarning: `np.int` is a deprecated alias for the builtin `int`. To silence this warning, use `int` by itself. Doing this will not modify any behavior and is safe. When replacing `np.int`, you may wish to use e.g. `np.int64` or `np.int32` to specify the precision. If you wish to review your current use, check the release note link for additional information.\n",
      "Deprecated in NumPy 1.20; for more details and guidance: https://numpy.org/devdocs/release/1.20.0-notes.html#deprecations\n",
      "  rects = [np.array(wordCharRects, dtype=np.int)[np.newaxis, :, :,:] for wordCharRects in self.annotation[\"wordsCharactersRects\"]]\n",
      "<ipython-input-40-04aad9b0baf8>:31: UserWarning: Matplotlib is currently using agg, which is a non-GUI backend, so cannot show the figure.\n",
      "  plt.show()\n"
     ]
    },
    {
     "name": "stdout",
     "output_type": "stream",
     "text": [
      "D:\\Data\\Diploma\\generated//Test_noAugModified//gt/1579697637_27-p-foni-so-slozhnimi-geometricheskimi-figuram-67.jpg0_2CharMap.png\n",
      "D:\\Data\\Diploma\\generated//Test_noAugModified//gt/1579697637_27-p-foni-so-slozhnimi-geometricheskimi-figuram-67.jpg1_2CharMap.png\n",
      "\n"
     ]
    },
    {
     "name": "stderr",
     "output_type": "stream",
     "text": [
      "<ipython-input-40-04aad9b0baf8>:16: TqdmDeprecationWarning: This function will be removed in tqdm==5.0.0\n",
      "Please use `tqdm.notebook.tqdm` instead of `tqdm.tqdm_notebook`\n",
      "  for i in tn(range(4)):\n"
     ]
    },
    {
     "data": {
      "application/vnd.jupyter.widget-view+json": {
       "model_id": "2d86d0fc29cf4fd6985b13e3eb188e7b",
       "version_major": 2,
       "version_minor": 0
      },
      "text/plain": [
       "HBox(children=(HTML(value=''), FloatProgress(value=0.0, max=4.0), HTML(value='')))"
      ]
     },
     "metadata": {},
     "output_type": "display_data"
    },
    {
     "name": "stderr",
     "output_type": "stream",
     "text": [
      "<ipython-input-27-bc886dcdcd16>:321: DeprecationWarning: `np.int` is a deprecated alias for the builtin `int`. To silence this warning, use `int` by itself. Doing this will not modify any behavior and is safe. When replacing `np.int`, you may wish to use e.g. `np.int64` or `np.int32` to specify the precision. If you wish to review your current use, check the release note link for additional information.\n",
      "Deprecated in NumPy 1.20; for more details and guidance: https://numpy.org/devdocs/release/1.20.0-notes.html#deprecations\n",
      "  rects = [np.array(wordCharRects, dtype=np.int)[np.newaxis, :, :,:] for wordCharRects in self.annotation[\"wordsCharactersRects\"]]\n",
      "<ipython-input-40-04aad9b0baf8>:31: UserWarning: Matplotlib is currently using agg, which is a non-GUI backend, so cannot show the figure.\n",
      "  plt.show()\n"
     ]
    },
    {
     "name": "stdout",
     "output_type": "stream",
     "text": [
      "D:\\Data\\Diploma\\generated//Test_noAugModified//gt/1579697637_27-p-foni-so-slozhnimi-geometricheskimi-figuram-67.jpg0_3CharMap.png\n",
      "D:\\Data\\Diploma\\generated//Test_noAugModified//gt/1579697637_27-p-foni-so-slozhnimi-geometricheskimi-figuram-67.jpg1_3CharMap.png\n",
      "\n",
      "\n"
     ]
    },
    {
     "name": "stderr",
     "output_type": "stream",
     "text": [
      "<ipython-input-40-04aad9b0baf8>:10: TqdmDeprecationWarning: This function will be removed in tqdm==5.0.0\n",
      "Please use `tqdm.notebook.tqdm` instead of `tqdm.tqdm_notebook`\n",
      "  for j in tn(range(4)):\n"
     ]
    },
    {
     "data": {
      "application/vnd.jupyter.widget-view+json": {
       "model_id": "b444298810e94e5eb13c4d4b0583f3d6",
       "version_major": 2,
       "version_minor": 0
      },
      "text/plain": [
       "HBox(children=(HTML(value=''), FloatProgress(value=0.0, max=4.0), HTML(value='')))"
      ]
     },
     "metadata": {},
     "output_type": "display_data"
    },
    {
     "name": "stderr",
     "output_type": "stream",
     "text": [
      "<ipython-input-26-4a25245fc9cb>:37: DeprecationWarning: `np.float` is a deprecated alias for the builtin `float`. To silence this warning, use `float` by itself. Doing this will not modify any behavior and is safe. If you specifically wanted the numpy scalar type, use `np.float64` here.\n",
      "Deprecated in NumPy 1.20; for more details and guidance: https://numpy.org/devdocs/release/1.20.0-notes.html#deprecations\n",
      "  result = np.zeros((height, width, len(start_list)), dtype=np.float)\n"
     ]
    },
    {
     "data": {
      "application/vnd.jupyter.widget-view+json": {
       "model_id": "473372c61af64810bd0a453226cc8182",
       "version_major": 2,
       "version_minor": 0
      },
      "text/plain": [
       "HBox(children=(HTML(value=''), FloatProgress(value=0.0, max=4.0), HTML(value='')))"
      ]
     },
     "metadata": {},
     "output_type": "display_data"
    },
    {
     "name": "stdout",
     "output_type": "stream",
     "text": [
      "D:\\Data\\Diploma\\generated//Test_noAugModified//gt/1579697638_4-p-foni-so-slozhnimi-geometricheskimi-figuram-10.png0_0CharMap.png\n",
      "D:\\Data\\Diploma\\generated//Test_noAugModified//gt/1579697638_4-p-foni-so-slozhnimi-geometricheskimi-figuram-10.png1_0CharMap.png\n",
      "\n"
     ]
    },
    {
     "data": {
      "application/vnd.jupyter.widget-view+json": {
       "model_id": "1f3d68afff514941afa1a30524f841c7",
       "version_major": 2,
       "version_minor": 0
      },
      "text/plain": [
       "HBox(children=(HTML(value=''), FloatProgress(value=0.0, max=4.0), HTML(value='')))"
      ]
     },
     "metadata": {},
     "output_type": "display_data"
    },
    {
     "name": "stdout",
     "output_type": "stream",
     "text": [
      "D:\\Data\\Diploma\\generated//Test_noAugModified//gt/1579697638_4-p-foni-so-slozhnimi-geometricheskimi-figuram-10.png0_1CharMap.png\n",
      "D:\\Data\\Diploma\\generated//Test_noAugModified//gt/1579697638_4-p-foni-so-slozhnimi-geometricheskimi-figuram-10.png1_1CharMap.png\n",
      "\n"
     ]
    },
    {
     "name": "stderr",
     "output_type": "stream",
     "text": [
      "<ipython-input-26-4a25245fc9cb>:37: DeprecationWarning: `np.float` is a deprecated alias for the builtin `float`. To silence this warning, use `float` by itself. Doing this will not modify any behavior and is safe. If you specifically wanted the numpy scalar type, use `np.float64` here.\n",
      "Deprecated in NumPy 1.20; for more details and guidance: https://numpy.org/devdocs/release/1.20.0-notes.html#deprecations\n",
      "  result = np.zeros((height, width, len(start_list)), dtype=np.float)\n",
      "<ipython-input-40-04aad9b0baf8>:16: TqdmDeprecationWarning: This function will be removed in tqdm==5.0.0\n",
      "Please use `tqdm.notebook.tqdm` instead of `tqdm.tqdm_notebook`\n",
      "  for i in tn(range(4)):\n"
     ]
    },
    {
     "data": {
      "application/vnd.jupyter.widget-view+json": {
       "model_id": "b68d77b0f1514e98a3fdd02da0264c27",
       "version_major": 2,
       "version_minor": 0
      },
      "text/plain": [
       "HBox(children=(HTML(value=''), FloatProgress(value=0.0, max=4.0), HTML(value='')))"
      ]
     },
     "metadata": {},
     "output_type": "display_data"
    },
    {
     "name": "stderr",
     "output_type": "stream",
     "text": [
      "<ipython-input-27-bc886dcdcd16>:321: DeprecationWarning: `np.int` is a deprecated alias for the builtin `int`. To silence this warning, use `int` by itself. Doing this will not modify any behavior and is safe. When replacing `np.int`, you may wish to use e.g. `np.int64` or `np.int32` to specify the precision. If you wish to review your current use, check the release note link for additional information.\n",
      "Deprecated in NumPy 1.20; for more details and guidance: https://numpy.org/devdocs/release/1.20.0-notes.html#deprecations\n",
      "  rects = [np.array(wordCharRects, dtype=np.int)[np.newaxis, :, :,:] for wordCharRects in self.annotation[\"wordsCharactersRects\"]]\n",
      "<ipython-input-40-04aad9b0baf8>:31: UserWarning: Matplotlib is currently using agg, which is a non-GUI backend, so cannot show the figure.\n",
      "  plt.show()\n"
     ]
    },
    {
     "name": "stdout",
     "output_type": "stream",
     "text": [
      "D:\\Data\\Diploma\\generated//Test_noAugModified//gt/1579697638_4-p-foni-so-slozhnimi-geometricheskimi-figuram-10.png0_2CharMap.png\n",
      "D:\\Data\\Diploma\\generated//Test_noAugModified//gt/1579697638_4-p-foni-so-slozhnimi-geometricheskimi-figuram-10.png1_2CharMap.png\n",
      "\n"
     ]
    },
    {
     "data": {
      "application/vnd.jupyter.widget-view+json": {
       "model_id": "e563d0126e5a413b8716fe0b0af6c985",
       "version_major": 2,
       "version_minor": 0
      },
      "text/plain": [
       "HBox(children=(HTML(value=''), FloatProgress(value=0.0, max=4.0), HTML(value='')))"
      ]
     },
     "metadata": {},
     "output_type": "display_data"
    },
    {
     "name": "stdout",
     "output_type": "stream",
     "text": [
      "D:\\Data\\Diploma\\generated//Test_noAugModified//gt/1579697638_4-p-foni-so-slozhnimi-geometricheskimi-figuram-10.png0_3CharMap.png\n",
      "D:\\Data\\Diploma\\generated//Test_noAugModified//gt/1579697638_4-p-foni-so-slozhnimi-geometricheskimi-figuram-10.png1_3CharMap.png\n",
      "\n",
      "\n"
     ]
    },
    {
     "name": "stderr",
     "output_type": "stream",
     "text": [
      "<ipython-input-40-04aad9b0baf8>:10: TqdmDeprecationWarning: This function will be removed in tqdm==5.0.0\n",
      "Please use `tqdm.notebook.tqdm` instead of `tqdm.tqdm_notebook`\n",
      "  for j in tn(range(4)):\n"
     ]
    },
    {
     "data": {
      "application/vnd.jupyter.widget-view+json": {
       "model_id": "e7075eb9e53b469aa8b39e3bbd0e924c",
       "version_major": 2,
       "version_minor": 0
      },
      "text/plain": [
       "HBox(children=(HTML(value=''), FloatProgress(value=0.0, max=4.0), HTML(value='')))"
      ]
     },
     "metadata": {},
     "output_type": "display_data"
    },
    {
     "name": "stderr",
     "output_type": "stream",
     "text": [
      "<ipython-input-26-4a25245fc9cb>:37: DeprecationWarning: `np.float` is a deprecated alias for the builtin `float`. To silence this warning, use `float` by itself. Doing this will not modify any behavior and is safe. If you specifically wanted the numpy scalar type, use `np.float64` here.\n",
      "Deprecated in NumPy 1.20; for more details and guidance: https://numpy.org/devdocs/release/1.20.0-notes.html#deprecations\n",
      "  result = np.zeros((height, width, len(start_list)), dtype=np.float)\n",
      "<ipython-input-40-04aad9b0baf8>:16: TqdmDeprecationWarning: This function will be removed in tqdm==5.0.0\n",
      "Please use `tqdm.notebook.tqdm` instead of `tqdm.tqdm_notebook`\n",
      "  for i in tn(range(4)):\n"
     ]
    },
    {
     "data": {
      "application/vnd.jupyter.widget-view+json": {
       "model_id": "d6ee1a2299e14d2e869262b42d2c0898",
       "version_major": 2,
       "version_minor": 0
      },
      "text/plain": [
       "HBox(children=(HTML(value=''), FloatProgress(value=0.0, max=4.0), HTML(value='')))"
      ]
     },
     "metadata": {},
     "output_type": "display_data"
    },
    {
     "name": "stderr",
     "output_type": "stream",
     "text": [
      "<ipython-input-27-bc886dcdcd16>:321: DeprecationWarning: `np.int` is a deprecated alias for the builtin `int`. To silence this warning, use `int` by itself. Doing this will not modify any behavior and is safe. When replacing `np.int`, you may wish to use e.g. `np.int64` or `np.int32` to specify the precision. If you wish to review your current use, check the release note link for additional information.\n",
      "Deprecated in NumPy 1.20; for more details and guidance: https://numpy.org/devdocs/release/1.20.0-notes.html#deprecations\n",
      "  rects = [np.array(wordCharRects, dtype=np.int)[np.newaxis, :, :,:] for wordCharRects in self.annotation[\"wordsCharactersRects\"]]\n",
      "<ipython-input-40-04aad9b0baf8>:31: UserWarning: Matplotlib is currently using agg, which is a non-GUI backend, so cannot show the figure.\n",
      "  plt.show()\n"
     ]
    },
    {
     "name": "stdout",
     "output_type": "stream",
     "text": [
      "D:\\Data\\Diploma\\generated//Test_noAugModified//gt/1579697645_13-p-foni-so-slozhnimi-geometricheskimi-figuram-38.jpg0_0CharMap.png\n",
      "D:\\Data\\Diploma\\generated//Test_noAugModified//gt/1579697645_13-p-foni-so-slozhnimi-geometricheskimi-figuram-38.jpg1_0CharMap.png\n",
      "\n"
     ]
    },
    {
     "name": "stderr",
     "output_type": "stream",
     "text": [
      "<ipython-input-40-04aad9b0baf8>:16: TqdmDeprecationWarning: This function will be removed in tqdm==5.0.0\n",
      "Please use `tqdm.notebook.tqdm` instead of `tqdm.tqdm_notebook`\n",
      "  for i in tn(range(4)):\n"
     ]
    },
    {
     "data": {
      "application/vnd.jupyter.widget-view+json": {
       "model_id": "b5a1557437de4257b9889eeecbc90743",
       "version_major": 2,
       "version_minor": 0
      },
      "text/plain": [
       "HBox(children=(HTML(value=''), FloatProgress(value=0.0, max=4.0), HTML(value='')))"
      ]
     },
     "metadata": {},
     "output_type": "display_data"
    },
    {
     "name": "stderr",
     "output_type": "stream",
     "text": [
      "<ipython-input-26-4a25245fc9cb>:37: DeprecationWarning: `np.float` is a deprecated alias for the builtin `float`. To silence this warning, use `float` by itself. Doing this will not modify any behavior and is safe. If you specifically wanted the numpy scalar type, use `np.float64` here.\n",
      "Deprecated in NumPy 1.20; for more details and guidance: https://numpy.org/devdocs/release/1.20.0-notes.html#deprecations\n",
      "  result = np.zeros((height, width, len(start_list)), dtype=np.float)\n",
      "<ipython-input-27-bc886dcdcd16>:321: DeprecationWarning: `np.int` is a deprecated alias for the builtin `int`. To silence this warning, use `int` by itself. Doing this will not modify any behavior and is safe. When replacing `np.int`, you may wish to use e.g. `np.int64` or `np.int32` to specify the precision. If you wish to review your current use, check the release note link for additional information.\n",
      "Deprecated in NumPy 1.20; for more details and guidance: https://numpy.org/devdocs/release/1.20.0-notes.html#deprecations\n",
      "  rects = [np.array(wordCharRects, dtype=np.int)[np.newaxis, :, :,:] for wordCharRects in self.annotation[\"wordsCharactersRects\"]]\n",
      "<ipython-input-40-04aad9b0baf8>:31: UserWarning: Matplotlib is currently using agg, which is a non-GUI backend, so cannot show the figure.\n",
      "  plt.show()\n"
     ]
    },
    {
     "name": "stdout",
     "output_type": "stream",
     "text": [
      "D:\\Data\\Diploma\\generated//Test_noAugModified//gt/1579697645_13-p-foni-so-slozhnimi-geometricheskimi-figuram-38.jpg0_1CharMap.png\n",
      "D:\\Data\\Diploma\\generated//Test_noAugModified//gt/1579697645_13-p-foni-so-slozhnimi-geometricheskimi-figuram-38.jpg1_1CharMap.png\n",
      "\n"
     ]
    },
    {
     "data": {
      "application/vnd.jupyter.widget-view+json": {
       "model_id": "7cc7132229634792984ed2c8e68de8f5",
       "version_major": 2,
       "version_minor": 0
      },
      "text/plain": [
       "HBox(children=(HTML(value=''), FloatProgress(value=0.0, max=4.0), HTML(value='')))"
      ]
     },
     "metadata": {},
     "output_type": "display_data"
    },
    {
     "name": "stdout",
     "output_type": "stream",
     "text": [
      "D:\\Data\\Diploma\\generated//Test_noAugModified//gt/1579697645_13-p-foni-so-slozhnimi-geometricheskimi-figuram-38.jpg0_2CharMap.png\n",
      "D:\\Data\\Diploma\\generated//Test_noAugModified//gt/1579697645_13-p-foni-so-slozhnimi-geometricheskimi-figuram-38.jpg1_2CharMap.png\n",
      "\n"
     ]
    },
    {
     "name": "stderr",
     "output_type": "stream",
     "text": [
      "<ipython-input-26-4a25245fc9cb>:37: DeprecationWarning: `np.float` is a deprecated alias for the builtin `float`. To silence this warning, use `float` by itself. Doing this will not modify any behavior and is safe. If you specifically wanted the numpy scalar type, use `np.float64` here.\n",
      "Deprecated in NumPy 1.20; for more details and guidance: https://numpy.org/devdocs/release/1.20.0-notes.html#deprecations\n",
      "  result = np.zeros((height, width, len(start_list)), dtype=np.float)\n",
      "<ipython-input-40-04aad9b0baf8>:16: TqdmDeprecationWarning: This function will be removed in tqdm==5.0.0\n",
      "Please use `tqdm.notebook.tqdm` instead of `tqdm.tqdm_notebook`\n",
      "  for i in tn(range(4)):\n"
     ]
    },
    {
     "data": {
      "application/vnd.jupyter.widget-view+json": {
       "model_id": "89be7fa75df448878b065cbcd4a1bdf3",
       "version_major": 2,
       "version_minor": 0
      },
      "text/plain": [
       "HBox(children=(HTML(value=''), FloatProgress(value=0.0, max=4.0), HTML(value='')))"
      ]
     },
     "metadata": {},
     "output_type": "display_data"
    },
    {
     "name": "stderr",
     "output_type": "stream",
     "text": [
      "<ipython-input-27-bc886dcdcd16>:321: DeprecationWarning: `np.int` is a deprecated alias for the builtin `int`. To silence this warning, use `int` by itself. Doing this will not modify any behavior and is safe. When replacing `np.int`, you may wish to use e.g. `np.int64` or `np.int32` to specify the precision. If you wish to review your current use, check the release note link for additional information.\n",
      "Deprecated in NumPy 1.20; for more details and guidance: https://numpy.org/devdocs/release/1.20.0-notes.html#deprecations\n",
      "  rects = [np.array(wordCharRects, dtype=np.int)[np.newaxis, :, :,:] for wordCharRects in self.annotation[\"wordsCharactersRects\"]]\n",
      "<ipython-input-40-04aad9b0baf8>:31: UserWarning: Matplotlib is currently using agg, which is a non-GUI backend, so cannot show the figure.\n",
      "  plt.show()\n"
     ]
    },
    {
     "name": "stdout",
     "output_type": "stream",
     "text": [
      "D:\\Data\\Diploma\\generated//Test_noAugModified//gt/1579697645_13-p-foni-so-slozhnimi-geometricheskimi-figuram-38.jpg0_3CharMap.png\n",
      "D:\\Data\\Diploma\\generated//Test_noAugModified//gt/1579697645_13-p-foni-so-slozhnimi-geometricheskimi-figuram-38.jpg1_3CharMap.png\n",
      "\n",
      "\n"
     ]
    },
    {
     "name": "stderr",
     "output_type": "stream",
     "text": [
      "<ipython-input-40-04aad9b0baf8>:10: TqdmDeprecationWarning: This function will be removed in tqdm==5.0.0\n",
      "Please use `tqdm.notebook.tqdm` instead of `tqdm.tqdm_notebook`\n",
      "  for j in tn(range(4)):\n"
     ]
    },
    {
     "data": {
      "application/vnd.jupyter.widget-view+json": {
       "model_id": "4f2e74bdd5f1410f8d3e6abea139103d",
       "version_major": 2,
       "version_minor": 0
      },
      "text/plain": [
       "HBox(children=(HTML(value=''), FloatProgress(value=0.0, max=4.0), HTML(value='')))"
      ]
     },
     "metadata": {},
     "output_type": "display_data"
    },
    {
     "name": "stderr",
     "output_type": "stream",
     "text": [
      "<ipython-input-26-4a25245fc9cb>:37: DeprecationWarning: `np.float` is a deprecated alias for the builtin `float`. To silence this warning, use `float` by itself. Doing this will not modify any behavior and is safe. If you specifically wanted the numpy scalar type, use `np.float64` here.\n",
      "Deprecated in NumPy 1.20; for more details and guidance: https://numpy.org/devdocs/release/1.20.0-notes.html#deprecations\n",
      "  result = np.zeros((height, width, len(start_list)), dtype=np.float)\n",
      "<ipython-input-40-04aad9b0baf8>:16: TqdmDeprecationWarning: This function will be removed in tqdm==5.0.0\n",
      "Please use `tqdm.notebook.tqdm` instead of `tqdm.tqdm_notebook`\n",
      "  for i in tn(range(4)):\n"
     ]
    },
    {
     "data": {
      "application/vnd.jupyter.widget-view+json": {
       "model_id": "c34d9e1322074fc086a887f1354eabd1",
       "version_major": 2,
       "version_minor": 0
      },
      "text/plain": [
       "HBox(children=(HTML(value=''), FloatProgress(value=0.0, max=4.0), HTML(value='')))"
      ]
     },
     "metadata": {},
     "output_type": "display_data"
    },
    {
     "name": "stderr",
     "output_type": "stream",
     "text": [
      "<ipython-input-27-bc886dcdcd16>:321: DeprecationWarning: `np.int` is a deprecated alias for the builtin `int`. To silence this warning, use `int` by itself. Doing this will not modify any behavior and is safe. When replacing `np.int`, you may wish to use e.g. `np.int64` or `np.int32` to specify the precision. If you wish to review your current use, check the release note link for additional information.\n",
      "Deprecated in NumPy 1.20; for more details and guidance: https://numpy.org/devdocs/release/1.20.0-notes.html#deprecations\n",
      "  rects = [np.array(wordCharRects, dtype=np.int)[np.newaxis, :, :,:] for wordCharRects in self.annotation[\"wordsCharactersRects\"]]\n",
      "<ipython-input-40-04aad9b0baf8>:31: UserWarning: Matplotlib is currently using agg, which is a non-GUI backend, so cannot show the figure.\n",
      "  plt.show()\n"
     ]
    },
    {
     "name": "stdout",
     "output_type": "stream",
     "text": [
      "D:\\Data\\Diploma\\generated//Test_noAugModified//gt/1579697649_42-p-foni-so-slozhnimi-geometricheskimi-figuram-96.jpg0_0CharMap.png\n",
      "D:\\Data\\Diploma\\generated//Test_noAugModified//gt/1579697649_42-p-foni-so-slozhnimi-geometricheskimi-figuram-96.jpg1_0CharMap.png\n",
      "\n"
     ]
    },
    {
     "data": {
      "application/vnd.jupyter.widget-view+json": {
       "model_id": "94fe0e892a3d49ea8421bbad5d4559bc",
       "version_major": 2,
       "version_minor": 0
      },
      "text/plain": [
       "HBox(children=(HTML(value=''), FloatProgress(value=0.0, max=4.0), HTML(value='')))"
      ]
     },
     "metadata": {},
     "output_type": "display_data"
    },
    {
     "name": "stdout",
     "output_type": "stream",
     "text": [
      "D:\\Data\\Diploma\\generated//Test_noAugModified//gt/1579697649_42-p-foni-so-slozhnimi-geometricheskimi-figuram-96.jpg0_1CharMap.png\n",
      "D:\\Data\\Diploma\\generated//Test_noAugModified//gt/1579697649_42-p-foni-so-slozhnimi-geometricheskimi-figuram-96.jpg1_1CharMap.png\n",
      "\n"
     ]
    },
    {
     "name": "stderr",
     "output_type": "stream",
     "text": [
      "<ipython-input-26-4a25245fc9cb>:37: DeprecationWarning: `np.float` is a deprecated alias for the builtin `float`. To silence this warning, use `float` by itself. Doing this will not modify any behavior and is safe. If you specifically wanted the numpy scalar type, use `np.float64` here.\n",
      "Deprecated in NumPy 1.20; for more details and guidance: https://numpy.org/devdocs/release/1.20.0-notes.html#deprecations\n",
      "  result = np.zeros((height, width, len(start_list)), dtype=np.float)\n",
      "<ipython-input-40-04aad9b0baf8>:16: TqdmDeprecationWarning: This function will be removed in tqdm==5.0.0\n",
      "Please use `tqdm.notebook.tqdm` instead of `tqdm.tqdm_notebook`\n",
      "  for i in tn(range(4)):\n"
     ]
    },
    {
     "data": {
      "application/vnd.jupyter.widget-view+json": {
       "model_id": "696d7126bb0d4510a972184732fbfefa",
       "version_major": 2,
       "version_minor": 0
      },
      "text/plain": [
       "HBox(children=(HTML(value=''), FloatProgress(value=0.0, max=4.0), HTML(value='')))"
      ]
     },
     "metadata": {},
     "output_type": "display_data"
    },
    {
     "name": "stderr",
     "output_type": "stream",
     "text": [
      "<ipython-input-27-bc886dcdcd16>:321: DeprecationWarning: `np.int` is a deprecated alias for the builtin `int`. To silence this warning, use `int` by itself. Doing this will not modify any behavior and is safe. When replacing `np.int`, you may wish to use e.g. `np.int64` or `np.int32` to specify the precision. If you wish to review your current use, check the release note link for additional information.\n",
      "Deprecated in NumPy 1.20; for more details and guidance: https://numpy.org/devdocs/release/1.20.0-notes.html#deprecations\n",
      "  rects = [np.array(wordCharRects, dtype=np.int)[np.newaxis, :, :,:] for wordCharRects in self.annotation[\"wordsCharactersRects\"]]\n",
      "<ipython-input-40-04aad9b0baf8>:31: UserWarning: Matplotlib is currently using agg, which is a non-GUI backend, so cannot show the figure.\n",
      "  plt.show()\n"
     ]
    },
    {
     "name": "stdout",
     "output_type": "stream",
     "text": [
      "D:\\Data\\Diploma\\generated//Test_noAugModified//gt/1579697649_42-p-foni-so-slozhnimi-geometricheskimi-figuram-96.jpg0_2CharMap.png\n",
      "D:\\Data\\Diploma\\generated//Test_noAugModified//gt/1579697649_42-p-foni-so-slozhnimi-geometricheskimi-figuram-96.jpg1_2CharMap.png\n",
      "\n"
     ]
    },
    {
     "data": {
      "application/vnd.jupyter.widget-view+json": {
       "model_id": "27f6a4913be443eb80a73553d6e9afa8",
       "version_major": 2,
       "version_minor": 0
      },
      "text/plain": [
       "HBox(children=(HTML(value=''), FloatProgress(value=0.0, max=4.0), HTML(value='')))"
      ]
     },
     "metadata": {},
     "output_type": "display_data"
    },
    {
     "name": "stdout",
     "output_type": "stream",
     "text": [
      "D:\\Data\\Diploma\\generated//Test_noAugModified//gt/1579697649_42-p-foni-so-slozhnimi-geometricheskimi-figuram-96.jpg0_3CharMap.png\n",
      "D:\\Data\\Diploma\\generated//Test_noAugModified//gt/1579697649_42-p-foni-so-slozhnimi-geometricheskimi-figuram-96.jpg1_3CharMap.png\n",
      "\n",
      "\n"
     ]
    },
    {
     "name": "stderr",
     "output_type": "stream",
     "text": [
      "<ipython-input-40-04aad9b0baf8>:10: TqdmDeprecationWarning: This function will be removed in tqdm==5.0.0\n",
      "Please use `tqdm.notebook.tqdm` instead of `tqdm.tqdm_notebook`\n",
      "  for j in tn(range(4)):\n"
     ]
    },
    {
     "data": {
      "application/vnd.jupyter.widget-view+json": {
       "model_id": "570e0e7cae324d08bc5000234532d048",
       "version_major": 2,
       "version_minor": 0
      },
      "text/plain": [
       "HBox(children=(HTML(value=''), FloatProgress(value=0.0, max=4.0), HTML(value='')))"
      ]
     },
     "metadata": {},
     "output_type": "display_data"
    },
    {
     "data": {
      "application/vnd.jupyter.widget-view+json": {
       "model_id": "9a6bfe4fb6964fe1a22a549ae3ec0167",
       "version_major": 2,
       "version_minor": 0
      },
      "text/plain": [
       "HBox(children=(HTML(value=''), FloatProgress(value=0.0, max=4.0), HTML(value='')))"
      ]
     },
     "metadata": {},
     "output_type": "display_data"
    },
    {
     "name": "stdout",
     "output_type": "stream",
     "text": [
      "D:\\Data\\Diploma\\generated//Test_noAugModified//gt/1579697650_31-p-foni-so-slozhnimi-geometricheskimi-figuram-78.png0_0CharMap.png\n",
      "D:\\Data\\Diploma\\generated//Test_noAugModified//gt/1579697650_31-p-foni-so-slozhnimi-geometricheskimi-figuram-78.png1_0CharMap.png\n",
      "\n"
     ]
    },
    {
     "name": "stderr",
     "output_type": "stream",
     "text": [
      "<ipython-input-26-4a25245fc9cb>:37: DeprecationWarning: `np.float` is a deprecated alias for the builtin `float`. To silence this warning, use `float` by itself. Doing this will not modify any behavior and is safe. If you specifically wanted the numpy scalar type, use `np.float64` here.\n",
      "Deprecated in NumPy 1.20; for more details and guidance: https://numpy.org/devdocs/release/1.20.0-notes.html#deprecations\n",
      "  result = np.zeros((height, width, len(start_list)), dtype=np.float)\n",
      "<ipython-input-40-04aad9b0baf8>:16: TqdmDeprecationWarning: This function will be removed in tqdm==5.0.0\n",
      "Please use `tqdm.notebook.tqdm` instead of `tqdm.tqdm_notebook`\n",
      "  for i in tn(range(4)):\n"
     ]
    },
    {
     "data": {
      "application/vnd.jupyter.widget-view+json": {
       "model_id": "5ab041b1ce5946f493a43246fd5e24b5",
       "version_major": 2,
       "version_minor": 0
      },
      "text/plain": [
       "HBox(children=(HTML(value=''), FloatProgress(value=0.0, max=4.0), HTML(value='')))"
      ]
     },
     "metadata": {},
     "output_type": "display_data"
    },
    {
     "name": "stderr",
     "output_type": "stream",
     "text": [
      "<ipython-input-27-bc886dcdcd16>:321: DeprecationWarning: `np.int` is a deprecated alias for the builtin `int`. To silence this warning, use `int` by itself. Doing this will not modify any behavior and is safe. When replacing `np.int`, you may wish to use e.g. `np.int64` or `np.int32` to specify the precision. If you wish to review your current use, check the release note link for additional information.\n",
      "Deprecated in NumPy 1.20; for more details and guidance: https://numpy.org/devdocs/release/1.20.0-notes.html#deprecations\n",
      "  rects = [np.array(wordCharRects, dtype=np.int)[np.newaxis, :, :,:] for wordCharRects in self.annotation[\"wordsCharactersRects\"]]\n",
      "<ipython-input-40-04aad9b0baf8>:31: UserWarning: Matplotlib is currently using agg, which is a non-GUI backend, so cannot show the figure.\n",
      "  plt.show()\n"
     ]
    },
    {
     "name": "stdout",
     "output_type": "stream",
     "text": [
      "D:\\Data\\Diploma\\generated//Test_noAugModified//gt/1579697650_31-p-foni-so-slozhnimi-geometricheskimi-figuram-78.png0_1CharMap.png\n",
      "D:\\Data\\Diploma\\generated//Test_noAugModified//gt/1579697650_31-p-foni-so-slozhnimi-geometricheskimi-figuram-78.png1_1CharMap.png\n",
      "\n"
     ]
    },
    {
     "name": "stderr",
     "output_type": "stream",
     "text": [
      "<ipython-input-26-4a25245fc9cb>:37: DeprecationWarning: `np.float` is a deprecated alias for the builtin `float`. To silence this warning, use `float` by itself. Doing this will not modify any behavior and is safe. If you specifically wanted the numpy scalar type, use `np.float64` here.\n",
      "Deprecated in NumPy 1.20; for more details and guidance: https://numpy.org/devdocs/release/1.20.0-notes.html#deprecations\n",
      "  result = np.zeros((height, width, len(start_list)), dtype=np.float)\n",
      "<ipython-input-40-04aad9b0baf8>:16: TqdmDeprecationWarning: This function will be removed in tqdm==5.0.0\n",
      "Please use `tqdm.notebook.tqdm` instead of `tqdm.tqdm_notebook`\n",
      "  for i in tn(range(4)):\n"
     ]
    },
    {
     "data": {
      "application/vnd.jupyter.widget-view+json": {
       "model_id": "346aecc9b2a84847a37d7eb337fa294c",
       "version_major": 2,
       "version_minor": 0
      },
      "text/plain": [
       "HBox(children=(HTML(value=''), FloatProgress(value=0.0, max=4.0), HTML(value='')))"
      ]
     },
     "metadata": {},
     "output_type": "display_data"
    },
    {
     "name": "stderr",
     "output_type": "stream",
     "text": [
      "<ipython-input-27-bc886dcdcd16>:321: DeprecationWarning: `np.int` is a deprecated alias for the builtin `int`. To silence this warning, use `int` by itself. Doing this will not modify any behavior and is safe. When replacing `np.int`, you may wish to use e.g. `np.int64` or `np.int32` to specify the precision. If you wish to review your current use, check the release note link for additional information.\n",
      "Deprecated in NumPy 1.20; for more details and guidance: https://numpy.org/devdocs/release/1.20.0-notes.html#deprecations\n",
      "  rects = [np.array(wordCharRects, dtype=np.int)[np.newaxis, :, :,:] for wordCharRects in self.annotation[\"wordsCharactersRects\"]]\n",
      "<ipython-input-40-04aad9b0baf8>:31: UserWarning: Matplotlib is currently using agg, which is a non-GUI backend, so cannot show the figure.\n",
      "  plt.show()\n"
     ]
    },
    {
     "name": "stdout",
     "output_type": "stream",
     "text": [
      "D:\\Data\\Diploma\\generated//Test_noAugModified//gt/1579697650_31-p-foni-so-slozhnimi-geometricheskimi-figuram-78.png0_2CharMap.png\n",
      "D:\\Data\\Diploma\\generated//Test_noAugModified//gt/1579697650_31-p-foni-so-slozhnimi-geometricheskimi-figuram-78.png1_2CharMap.png\n",
      "\n"
     ]
    },
    {
     "name": "stderr",
     "output_type": "stream",
     "text": [
      "<ipython-input-26-4a25245fc9cb>:37: DeprecationWarning: `np.float` is a deprecated alias for the builtin `float`. To silence this warning, use `float` by itself. Doing this will not modify any behavior and is safe. If you specifically wanted the numpy scalar type, use `np.float64` here.\n",
      "Deprecated in NumPy 1.20; for more details and guidance: https://numpy.org/devdocs/release/1.20.0-notes.html#deprecations\n",
      "  result = np.zeros((height, width, len(start_list)), dtype=np.float)\n",
      "<ipython-input-40-04aad9b0baf8>:16: TqdmDeprecationWarning: This function will be removed in tqdm==5.0.0\n",
      "Please use `tqdm.notebook.tqdm` instead of `tqdm.tqdm_notebook`\n",
      "  for i in tn(range(4)):\n"
     ]
    },
    {
     "data": {
      "application/vnd.jupyter.widget-view+json": {
       "model_id": "4ba670972793450b8d67745a1ab83096",
       "version_major": 2,
       "version_minor": 0
      },
      "text/plain": [
       "HBox(children=(HTML(value=''), FloatProgress(value=0.0, max=4.0), HTML(value='')))"
      ]
     },
     "metadata": {},
     "output_type": "display_data"
    },
    {
     "name": "stderr",
     "output_type": "stream",
     "text": [
      "<ipython-input-27-bc886dcdcd16>:321: DeprecationWarning: `np.int` is a deprecated alias for the builtin `int`. To silence this warning, use `int` by itself. Doing this will not modify any behavior and is safe. When replacing `np.int`, you may wish to use e.g. `np.int64` or `np.int32` to specify the precision. If you wish to review your current use, check the release note link for additional information.\n",
      "Deprecated in NumPy 1.20; for more details and guidance: https://numpy.org/devdocs/release/1.20.0-notes.html#deprecations\n",
      "  rects = [np.array(wordCharRects, dtype=np.int)[np.newaxis, :, :,:] for wordCharRects in self.annotation[\"wordsCharactersRects\"]]\n",
      "<ipython-input-40-04aad9b0baf8>:31: UserWarning: Matplotlib is currently using agg, which is a non-GUI backend, so cannot show the figure.\n",
      "  plt.show()\n"
     ]
    },
    {
     "name": "stdout",
     "output_type": "stream",
     "text": [
      "D:\\Data\\Diploma\\generated//Test_noAugModified//gt/1579697650_31-p-foni-so-slozhnimi-geometricheskimi-figuram-78.png0_3CharMap.png\n",
      "D:\\Data\\Diploma\\generated//Test_noAugModified//gt/1579697650_31-p-foni-so-slozhnimi-geometricheskimi-figuram-78.png1_3CharMap.png\n",
      "\n",
      "\n"
     ]
    },
    {
     "name": "stderr",
     "output_type": "stream",
     "text": [
      "<ipython-input-40-04aad9b0baf8>:10: TqdmDeprecationWarning: This function will be removed in tqdm==5.0.0\n",
      "Please use `tqdm.notebook.tqdm` instead of `tqdm.tqdm_notebook`\n",
      "  for j in tn(range(4)):\n"
     ]
    },
    {
     "data": {
      "application/vnd.jupyter.widget-view+json": {
       "model_id": "cf00d843a0dc4468ad08d37bba1bdeb1",
       "version_major": 2,
       "version_minor": 0
      },
      "text/plain": [
       "HBox(children=(HTML(value=''), FloatProgress(value=0.0, max=4.0), HTML(value='')))"
      ]
     },
     "metadata": {},
     "output_type": "display_data"
    },
    {
     "data": {
      "application/vnd.jupyter.widget-view+json": {
       "model_id": "2b0010943d3040f6b1cefd7568d06e14",
       "version_major": 2,
       "version_minor": 0
      },
      "text/plain": [
       "HBox(children=(HTML(value=''), FloatProgress(value=0.0, max=4.0), HTML(value='')))"
      ]
     },
     "metadata": {},
     "output_type": "display_data"
    },
    {
     "name": "stdout",
     "output_type": "stream",
     "text": [
      "D:\\Data\\Diploma\\generated//Test_noAugModified//gt/1579697653_35-p-foni-so-slozhnimi-geometricheskimi-figuram-85.png0_0CharMap.png\n",
      "D:\\Data\\Diploma\\generated//Test_noAugModified//gt/1579697653_35-p-foni-so-slozhnimi-geometricheskimi-figuram-85.png1_0CharMap.png\n",
      "\n"
     ]
    },
    {
     "data": {
      "application/vnd.jupyter.widget-view+json": {
       "model_id": "1599846c8b7648cabbfa284cef8d324c",
       "version_major": 2,
       "version_minor": 0
      },
      "text/plain": [
       "HBox(children=(HTML(value=''), FloatProgress(value=0.0, max=4.0), HTML(value='')))"
      ]
     },
     "metadata": {},
     "output_type": "display_data"
    },
    {
     "name": "stdout",
     "output_type": "stream",
     "text": [
      "D:\\Data\\Diploma\\generated//Test_noAugModified//gt/1579697653_35-p-foni-so-slozhnimi-geometricheskimi-figuram-85.png0_1CharMap.png\n",
      "D:\\Data\\Diploma\\generated//Test_noAugModified//gt/1579697653_35-p-foni-so-slozhnimi-geometricheskimi-figuram-85.png1_1CharMap.png\n",
      "\n"
     ]
    },
    {
     "name": "stderr",
     "output_type": "stream",
     "text": [
      "<ipython-input-26-4a25245fc9cb>:37: DeprecationWarning: `np.float` is a deprecated alias for the builtin `float`. To silence this warning, use `float` by itself. Doing this will not modify any behavior and is safe. If you specifically wanted the numpy scalar type, use `np.float64` here.\n",
      "Deprecated in NumPy 1.20; for more details and guidance: https://numpy.org/devdocs/release/1.20.0-notes.html#deprecations\n",
      "  result = np.zeros((height, width, len(start_list)), dtype=np.float)\n",
      "<ipython-input-40-04aad9b0baf8>:16: TqdmDeprecationWarning: This function will be removed in tqdm==5.0.0\n",
      "Please use `tqdm.notebook.tqdm` instead of `tqdm.tqdm_notebook`\n",
      "  for i in tn(range(4)):\n"
     ]
    },
    {
     "data": {
      "application/vnd.jupyter.widget-view+json": {
       "model_id": "08354dbc053d4371babf7776791b3bed",
       "version_major": 2,
       "version_minor": 0
      },
      "text/plain": [
       "HBox(children=(HTML(value=''), FloatProgress(value=0.0, max=4.0), HTML(value='')))"
      ]
     },
     "metadata": {},
     "output_type": "display_data"
    },
    {
     "name": "stderr",
     "output_type": "stream",
     "text": [
      "<ipython-input-27-bc886dcdcd16>:321: DeprecationWarning: `np.int` is a deprecated alias for the builtin `int`. To silence this warning, use `int` by itself. Doing this will not modify any behavior and is safe. When replacing `np.int`, you may wish to use e.g. `np.int64` or `np.int32` to specify the precision. If you wish to review your current use, check the release note link for additional information.\n",
      "Deprecated in NumPy 1.20; for more details and guidance: https://numpy.org/devdocs/release/1.20.0-notes.html#deprecations\n",
      "  rects = [np.array(wordCharRects, dtype=np.int)[np.newaxis, :, :,:] for wordCharRects in self.annotation[\"wordsCharactersRects\"]]\n",
      "<ipython-input-40-04aad9b0baf8>:31: UserWarning: Matplotlib is currently using agg, which is a non-GUI backend, so cannot show the figure.\n",
      "  plt.show()\n"
     ]
    },
    {
     "name": "stdout",
     "output_type": "stream",
     "text": [
      "D:\\Data\\Diploma\\generated//Test_noAugModified//gt/1579697653_35-p-foni-so-slozhnimi-geometricheskimi-figuram-85.png0_2CharMap.png\n",
      "D:\\Data\\Diploma\\generated//Test_noAugModified//gt/1579697653_35-p-foni-so-slozhnimi-geometricheskimi-figuram-85.png1_2CharMap.png\n",
      "\n"
     ]
    },
    {
     "name": "stderr",
     "output_type": "stream",
     "text": [
      "<ipython-input-40-04aad9b0baf8>:16: TqdmDeprecationWarning: This function will be removed in tqdm==5.0.0\n",
      "Please use `tqdm.notebook.tqdm` instead of `tqdm.tqdm_notebook`\n",
      "  for i in tn(range(4)):\n"
     ]
    },
    {
     "data": {
      "application/vnd.jupyter.widget-view+json": {
       "model_id": "967d4432680b4e67bb9363b73cfa8c1e",
       "version_major": 2,
       "version_minor": 0
      },
      "text/plain": [
       "HBox(children=(HTML(value=''), FloatProgress(value=0.0, max=4.0), HTML(value='')))"
      ]
     },
     "metadata": {},
     "output_type": "display_data"
    },
    {
     "name": "stderr",
     "output_type": "stream",
     "text": [
      "<ipython-input-27-bc886dcdcd16>:321: DeprecationWarning: `np.int` is a deprecated alias for the builtin `int`. To silence this warning, use `int` by itself. Doing this will not modify any behavior and is safe. When replacing `np.int`, you may wish to use e.g. `np.int64` or `np.int32` to specify the precision. If you wish to review your current use, check the release note link for additional information.\n",
      "Deprecated in NumPy 1.20; for more details and guidance: https://numpy.org/devdocs/release/1.20.0-notes.html#deprecations\n",
      "  rects = [np.array(wordCharRects, dtype=np.int)[np.newaxis, :, :,:] for wordCharRects in self.annotation[\"wordsCharactersRects\"]]\n",
      "<ipython-input-40-04aad9b0baf8>:31: UserWarning: Matplotlib is currently using agg, which is a non-GUI backend, so cannot show the figure.\n",
      "  plt.show()\n"
     ]
    },
    {
     "name": "stdout",
     "output_type": "stream",
     "text": [
      "D:\\Data\\Diploma\\generated//Test_noAugModified//gt/1579697653_35-p-foni-so-slozhnimi-geometricheskimi-figuram-85.png0_3CharMap.png\n",
      "D:\\Data\\Diploma\\generated//Test_noAugModified//gt/1579697653_35-p-foni-so-slozhnimi-geometricheskimi-figuram-85.png1_3CharMap.png\n",
      "\n",
      "\n"
     ]
    },
    {
     "name": "stderr",
     "output_type": "stream",
     "text": [
      "<ipython-input-40-04aad9b0baf8>:10: TqdmDeprecationWarning: This function will be removed in tqdm==5.0.0\n",
      "Please use `tqdm.notebook.tqdm` instead of `tqdm.tqdm_notebook`\n",
      "  for j in tn(range(4)):\n"
     ]
    },
    {
     "data": {
      "application/vnd.jupyter.widget-view+json": {
       "model_id": "a4184d25484641168a80a3e23971679e",
       "version_major": 2,
       "version_minor": 0
      },
      "text/plain": [
       "HBox(children=(HTML(value=''), FloatProgress(value=0.0, max=4.0), HTML(value='')))"
      ]
     },
     "metadata": {},
     "output_type": "display_data"
    },
    {
     "name": "stderr",
     "output_type": "stream",
     "text": [
      "<ipython-input-40-04aad9b0baf8>:16: TqdmDeprecationWarning: This function will be removed in tqdm==5.0.0\n",
      "Please use `tqdm.notebook.tqdm` instead of `tqdm.tqdm_notebook`\n",
      "  for i in tn(range(4)):\n"
     ]
    },
    {
     "data": {
      "application/vnd.jupyter.widget-view+json": {
       "model_id": "86ea2bca4f0f4a24b6029159a88c786a",
       "version_major": 2,
       "version_minor": 0
      },
      "text/plain": [
       "HBox(children=(HTML(value=''), FloatProgress(value=0.0, max=4.0), HTML(value='')))"
      ]
     },
     "metadata": {},
     "output_type": "display_data"
    },
    {
     "name": "stderr",
     "output_type": "stream",
     "text": [
      "<ipython-input-27-bc886dcdcd16>:321: DeprecationWarning: `np.int` is a deprecated alias for the builtin `int`. To silence this warning, use `int` by itself. Doing this will not modify any behavior and is safe. When replacing `np.int`, you may wish to use e.g. `np.int64` or `np.int32` to specify the precision. If you wish to review your current use, check the release note link for additional information.\n",
      "Deprecated in NumPy 1.20; for more details and guidance: https://numpy.org/devdocs/release/1.20.0-notes.html#deprecations\n",
      "  rects = [np.array(wordCharRects, dtype=np.int)[np.newaxis, :, :,:] for wordCharRects in self.annotation[\"wordsCharactersRects\"]]\n",
      "<ipython-input-40-04aad9b0baf8>:31: UserWarning: Matplotlib is currently using agg, which is a non-GUI backend, so cannot show the figure.\n",
      "  plt.show()\n"
     ]
    },
    {
     "name": "stdout",
     "output_type": "stream",
     "text": [
      "D:\\Data\\Diploma\\generated//Test_noAugModified//gt/1579697655_25-p-foni-so-slozhnimi-geometricheskimi-figuram-62.jpg0_0CharMap.png\n",
      "D:\\Data\\Diploma\\generated//Test_noAugModified//gt/1579697655_25-p-foni-so-slozhnimi-geometricheskimi-figuram-62.jpg1_0CharMap.png\n",
      "\n"
     ]
    },
    {
     "data": {
      "application/vnd.jupyter.widget-view+json": {
       "model_id": "b6333af8a3ac4f9b80a32dc18c3859b2",
       "version_major": 2,
       "version_minor": 0
      },
      "text/plain": [
       "HBox(children=(HTML(value=''), FloatProgress(value=0.0, max=4.0), HTML(value='')))"
      ]
     },
     "metadata": {},
     "output_type": "display_data"
    },
    {
     "name": "stdout",
     "output_type": "stream",
     "text": [
      "D:\\Data\\Diploma\\generated//Test_noAugModified//gt/1579697655_25-p-foni-so-slozhnimi-geometricheskimi-figuram-62.jpg0_1CharMap.png\n",
      "D:\\Data\\Diploma\\generated//Test_noAugModified//gt/1579697655_25-p-foni-so-slozhnimi-geometricheskimi-figuram-62.jpg1_1CharMap.png\n",
      "\n"
     ]
    },
    {
     "data": {
      "application/vnd.jupyter.widget-view+json": {
       "model_id": "fb85820a0c9c45f2b0c2b512a0ea73d8",
       "version_major": 2,
       "version_minor": 0
      },
      "text/plain": [
       "HBox(children=(HTML(value=''), FloatProgress(value=0.0, max=4.0), HTML(value='')))"
      ]
     },
     "metadata": {},
     "output_type": "display_data"
    },
    {
     "name": "stdout",
     "output_type": "stream",
     "text": [
      "D:\\Data\\Diploma\\generated//Test_noAugModified//gt/1579697655_25-p-foni-so-slozhnimi-geometricheskimi-figuram-62.jpg0_2CharMap.png\n",
      "D:\\Data\\Diploma\\generated//Test_noAugModified//gt/1579697655_25-p-foni-so-slozhnimi-geometricheskimi-figuram-62.jpg1_2CharMap.png\n",
      "\n"
     ]
    },
    {
     "name": "stderr",
     "output_type": "stream",
     "text": [
      "<ipython-input-26-4a25245fc9cb>:37: DeprecationWarning: `np.float` is a deprecated alias for the builtin `float`. To silence this warning, use `float` by itself. Doing this will not modify any behavior and is safe. If you specifically wanted the numpy scalar type, use `np.float64` here.\n",
      "Deprecated in NumPy 1.20; for more details and guidance: https://numpy.org/devdocs/release/1.20.0-notes.html#deprecations\n",
      "  result = np.zeros((height, width, len(start_list)), dtype=np.float)\n",
      "<ipython-input-40-04aad9b0baf8>:16: TqdmDeprecationWarning: This function will be removed in tqdm==5.0.0\n",
      "Please use `tqdm.notebook.tqdm` instead of `tqdm.tqdm_notebook`\n",
      "  for i in tn(range(4)):\n"
     ]
    },
    {
     "data": {
      "application/vnd.jupyter.widget-view+json": {
       "model_id": "15c05752e166423f8d074879501bd2e0",
       "version_major": 2,
       "version_minor": 0
      },
      "text/plain": [
       "HBox(children=(HTML(value=''), FloatProgress(value=0.0, max=4.0), HTML(value='')))"
      ]
     },
     "metadata": {},
     "output_type": "display_data"
    },
    {
     "name": "stderr",
     "output_type": "stream",
     "text": [
      "<ipython-input-27-bc886dcdcd16>:321: DeprecationWarning: `np.int` is a deprecated alias for the builtin `int`. To silence this warning, use `int` by itself. Doing this will not modify any behavior and is safe. When replacing `np.int`, you may wish to use e.g. `np.int64` or `np.int32` to specify the precision. If you wish to review your current use, check the release note link for additional information.\n",
      "Deprecated in NumPy 1.20; for more details and guidance: https://numpy.org/devdocs/release/1.20.0-notes.html#deprecations\n",
      "  rects = [np.array(wordCharRects, dtype=np.int)[np.newaxis, :, :,:] for wordCharRects in self.annotation[\"wordsCharactersRects\"]]\n",
      "<ipython-input-40-04aad9b0baf8>:31: UserWarning: Matplotlib is currently using agg, which is a non-GUI backend, so cannot show the figure.\n",
      "  plt.show()\n"
     ]
    },
    {
     "name": "stdout",
     "output_type": "stream",
     "text": [
      "D:\\Data\\Diploma\\generated//Test_noAugModified//gt/1579697655_25-p-foni-so-slozhnimi-geometricheskimi-figuram-62.jpg0_3CharMap.png\n",
      "D:\\Data\\Diploma\\generated//Test_noAugModified//gt/1579697655_25-p-foni-so-slozhnimi-geometricheskimi-figuram-62.jpg1_3CharMap.png\n",
      "\n",
      "\n"
     ]
    },
    {
     "name": "stderr",
     "output_type": "stream",
     "text": [
      "<ipython-input-40-04aad9b0baf8>:10: TqdmDeprecationWarning: This function will be removed in tqdm==5.0.0\n",
      "Please use `tqdm.notebook.tqdm` instead of `tqdm.tqdm_notebook`\n",
      "  for j in tn(range(4)):\n"
     ]
    },
    {
     "data": {
      "application/vnd.jupyter.widget-view+json": {
       "model_id": "3295b26282be4c1692938818459936f2",
       "version_major": 2,
       "version_minor": 0
      },
      "text/plain": [
       "HBox(children=(HTML(value=''), FloatProgress(value=0.0, max=4.0), HTML(value='')))"
      ]
     },
     "metadata": {},
     "output_type": "display_data"
    },
    {
     "data": {
      "application/vnd.jupyter.widget-view+json": {
       "model_id": "c351e15d3127441f81192e4d878c4b50",
       "version_major": 2,
       "version_minor": 0
      },
      "text/plain": [
       "HBox(children=(HTML(value=''), FloatProgress(value=0.0, max=4.0), HTML(value='')))"
      ]
     },
     "metadata": {},
     "output_type": "display_data"
    },
    {
     "name": "stdout",
     "output_type": "stream",
     "text": [
      "D:\\Data\\Diploma\\generated//Test_noAugModified//gt/1579697655_8-p-foni-so-slozhnimi-geometricheskimi-figuram-18.jpg0_0CharMap.png\n",
      "D:\\Data\\Diploma\\generated//Test_noAugModified//gt/1579697655_8-p-foni-so-slozhnimi-geometricheskimi-figuram-18.jpg1_0CharMap.png\n",
      "\n"
     ]
    },
    {
     "name": "stderr",
     "output_type": "stream",
     "text": [
      "<ipython-input-40-04aad9b0baf8>:16: TqdmDeprecationWarning: This function will be removed in tqdm==5.0.0\n",
      "Please use `tqdm.notebook.tqdm` instead of `tqdm.tqdm_notebook`\n",
      "  for i in tn(range(4)):\n"
     ]
    },
    {
     "data": {
      "application/vnd.jupyter.widget-view+json": {
       "model_id": "5f2d0aedbf3a4d6bae3f9f4b8083e711",
       "version_major": 2,
       "version_minor": 0
      },
      "text/plain": [
       "HBox(children=(HTML(value=''), FloatProgress(value=0.0, max=4.0), HTML(value='')))"
      ]
     },
     "metadata": {},
     "output_type": "display_data"
    },
    {
     "name": "stderr",
     "output_type": "stream",
     "text": [
      "<ipython-input-27-bc886dcdcd16>:321: DeprecationWarning: `np.int` is a deprecated alias for the builtin `int`. To silence this warning, use `int` by itself. Doing this will not modify any behavior and is safe. When replacing `np.int`, you may wish to use e.g. `np.int64` or `np.int32` to specify the precision. If you wish to review your current use, check the release note link for additional information.\n",
      "Deprecated in NumPy 1.20; for more details and guidance: https://numpy.org/devdocs/release/1.20.0-notes.html#deprecations\n",
      "  rects = [np.array(wordCharRects, dtype=np.int)[np.newaxis, :, :,:] for wordCharRects in self.annotation[\"wordsCharactersRects\"]]\n",
      "<ipython-input-40-04aad9b0baf8>:31: UserWarning: Matplotlib is currently using agg, which is a non-GUI backend, so cannot show the figure.\n",
      "  plt.show()\n"
     ]
    },
    {
     "name": "stdout",
     "output_type": "stream",
     "text": [
      "D:\\Data\\Diploma\\generated//Test_noAugModified//gt/1579697655_8-p-foni-so-slozhnimi-geometricheskimi-figuram-18.jpg0_1CharMap.png\n",
      "D:\\Data\\Diploma\\generated//Test_noAugModified//gt/1579697655_8-p-foni-so-slozhnimi-geometricheskimi-figuram-18.jpg1_1CharMap.png\n",
      "\n"
     ]
    },
    {
     "name": "stderr",
     "output_type": "stream",
     "text": [
      "<ipython-input-26-4a25245fc9cb>:37: DeprecationWarning: `np.float` is a deprecated alias for the builtin `float`. To silence this warning, use `float` by itself. Doing this will not modify any behavior and is safe. If you specifically wanted the numpy scalar type, use `np.float64` here.\n",
      "Deprecated in NumPy 1.20; for more details and guidance: https://numpy.org/devdocs/release/1.20.0-notes.html#deprecations\n",
      "  result = np.zeros((height, width, len(start_list)), dtype=np.float)\n",
      "<ipython-input-40-04aad9b0baf8>:16: TqdmDeprecationWarning: This function will be removed in tqdm==5.0.0\n",
      "Please use `tqdm.notebook.tqdm` instead of `tqdm.tqdm_notebook`\n",
      "  for i in tn(range(4)):\n"
     ]
    },
    {
     "data": {
      "application/vnd.jupyter.widget-view+json": {
       "model_id": "a296a4191d0d4f52bf08bd297a3d3435",
       "version_major": 2,
       "version_minor": 0
      },
      "text/plain": [
       "HBox(children=(HTML(value=''), FloatProgress(value=0.0, max=4.0), HTML(value='')))"
      ]
     },
     "metadata": {},
     "output_type": "display_data"
    },
    {
     "name": "stderr",
     "output_type": "stream",
     "text": [
      "<ipython-input-27-bc886dcdcd16>:321: DeprecationWarning: `np.int` is a deprecated alias for the builtin `int`. To silence this warning, use `int` by itself. Doing this will not modify any behavior and is safe. When replacing `np.int`, you may wish to use e.g. `np.int64` or `np.int32` to specify the precision. If you wish to review your current use, check the release note link for additional information.\n",
      "Deprecated in NumPy 1.20; for more details and guidance: https://numpy.org/devdocs/release/1.20.0-notes.html#deprecations\n",
      "  rects = [np.array(wordCharRects, dtype=np.int)[np.newaxis, :, :,:] for wordCharRects in self.annotation[\"wordsCharactersRects\"]]\n",
      "<ipython-input-40-04aad9b0baf8>:31: UserWarning: Matplotlib is currently using agg, which is a non-GUI backend, so cannot show the figure.\n",
      "  plt.show()\n"
     ]
    },
    {
     "name": "stdout",
     "output_type": "stream",
     "text": [
      "D:\\Data\\Diploma\\generated//Test_noAugModified//gt/1579697655_8-p-foni-so-slozhnimi-geometricheskimi-figuram-18.jpg0_2CharMap.png\n",
      "D:\\Data\\Diploma\\generated//Test_noAugModified//gt/1579697655_8-p-foni-so-slozhnimi-geometricheskimi-figuram-18.jpg1_2CharMap.png\n",
      "\n"
     ]
    },
    {
     "data": {
      "application/vnd.jupyter.widget-view+json": {
       "model_id": "e63af74da88e45cf9a03d99b0571181c",
       "version_major": 2,
       "version_minor": 0
      },
      "text/plain": [
       "HBox(children=(HTML(value=''), FloatProgress(value=0.0, max=4.0), HTML(value='')))"
      ]
     },
     "metadata": {},
     "output_type": "display_data"
    },
    {
     "name": "stdout",
     "output_type": "stream",
     "text": [
      "D:\\Data\\Diploma\\generated//Test_noAugModified//gt/1579697655_8-p-foni-so-slozhnimi-geometricheskimi-figuram-18.jpg0_3CharMap.png\n",
      "D:\\Data\\Diploma\\generated//Test_noAugModified//gt/1579697655_8-p-foni-so-slozhnimi-geometricheskimi-figuram-18.jpg1_3CharMap.png\n",
      "\n",
      "\n"
     ]
    },
    {
     "name": "stderr",
     "output_type": "stream",
     "text": [
      "<ipython-input-40-04aad9b0baf8>:10: TqdmDeprecationWarning: This function will be removed in tqdm==5.0.0\n",
      "Please use `tqdm.notebook.tqdm` instead of `tqdm.tqdm_notebook`\n",
      "  for j in tn(range(4)):\n"
     ]
    },
    {
     "data": {
      "application/vnd.jupyter.widget-view+json": {
       "model_id": "214b0f86100e4a4e814298e9ec432fa1",
       "version_major": 2,
       "version_minor": 0
      },
      "text/plain": [
       "HBox(children=(HTML(value=''), FloatProgress(value=0.0, max=4.0), HTML(value='')))"
      ]
     },
     "metadata": {},
     "output_type": "display_data"
    },
    {
     "data": {
      "application/vnd.jupyter.widget-view+json": {
       "model_id": "d8cd4dba154143a8806e659d6f270c09",
       "version_major": 2,
       "version_minor": 0
      },
      "text/plain": [
       "HBox(children=(HTML(value=''), FloatProgress(value=0.0, max=4.0), HTML(value='')))"
      ]
     },
     "metadata": {},
     "output_type": "display_data"
    },
    {
     "name": "stdout",
     "output_type": "stream",
     "text": [
      "D:\\Data\\Diploma\\generated//Test_noAugModified//gt/1579697656_21-p-foni-so-slozhnimi-geometricheskimi-figuram-54.jpg0_0CharMap.png\n",
      "D:\\Data\\Diploma\\generated//Test_noAugModified//gt/1579697656_21-p-foni-so-slozhnimi-geometricheskimi-figuram-54.jpg1_0CharMap.png\n",
      "\n"
     ]
    },
    {
     "data": {
      "application/vnd.jupyter.widget-view+json": {
       "model_id": "cf19c064625649d4a27ebec2ba33940b",
       "version_major": 2,
       "version_minor": 0
      },
      "text/plain": [
       "HBox(children=(HTML(value=''), FloatProgress(value=0.0, max=4.0), HTML(value='')))"
      ]
     },
     "metadata": {},
     "output_type": "display_data"
    },
    {
     "name": "stdout",
     "output_type": "stream",
     "text": [
      "D:\\Data\\Diploma\\generated//Test_noAugModified//gt/1579697656_21-p-foni-so-slozhnimi-geometricheskimi-figuram-54.jpg0_1CharMap.png\n",
      "D:\\Data\\Diploma\\generated//Test_noAugModified//gt/1579697656_21-p-foni-so-slozhnimi-geometricheskimi-figuram-54.jpg1_1CharMap.png\n",
      "\n"
     ]
    },
    {
     "data": {
      "application/vnd.jupyter.widget-view+json": {
       "model_id": "a56e358dd729468b85deaa366cd058c0",
       "version_major": 2,
       "version_minor": 0
      },
      "text/plain": [
       "HBox(children=(HTML(value=''), FloatProgress(value=0.0, max=4.0), HTML(value='')))"
      ]
     },
     "metadata": {},
     "output_type": "display_data"
    },
    {
     "name": "stdout",
     "output_type": "stream",
     "text": [
      "D:\\Data\\Diploma\\generated//Test_noAugModified//gt/1579697656_21-p-foni-so-slozhnimi-geometricheskimi-figuram-54.jpg0_2CharMap.png\n",
      "D:\\Data\\Diploma\\generated//Test_noAugModified//gt/1579697656_21-p-foni-so-slozhnimi-geometricheskimi-figuram-54.jpg1_2CharMap.png\n",
      "\n"
     ]
    },
    {
     "data": {
      "application/vnd.jupyter.widget-view+json": {
       "model_id": "371ae8bc4486454293a4114f166d7d45",
       "version_major": 2,
       "version_minor": 0
      },
      "text/plain": [
       "HBox(children=(HTML(value=''), FloatProgress(value=0.0, max=4.0), HTML(value='')))"
      ]
     },
     "metadata": {},
     "output_type": "display_data"
    },
    {
     "name": "stdout",
     "output_type": "stream",
     "text": [
      "D:\\Data\\Diploma\\generated//Test_noAugModified//gt/1579697656_21-p-foni-so-slozhnimi-geometricheskimi-figuram-54.jpg0_3CharMap.png\n",
      "D:\\Data\\Diploma\\generated//Test_noAugModified//gt/1579697656_21-p-foni-so-slozhnimi-geometricheskimi-figuram-54.jpg1_3CharMap.png\n",
      "\n",
      "\n"
     ]
    },
    {
     "data": {
      "application/vnd.jupyter.widget-view+json": {
       "model_id": "1a51ee3d4b834cca975a66850571dc0a",
       "version_major": 2,
       "version_minor": 0
      },
      "text/plain": [
       "HBox(children=(HTML(value=''), FloatProgress(value=0.0, max=4.0), HTML(value='')))"
      ]
     },
     "metadata": {},
     "output_type": "display_data"
    },
    {
     "data": {
      "application/vnd.jupyter.widget-view+json": {
       "model_id": "3cfbae7771964a948130e7b5556bd2a4",
       "version_major": 2,
       "version_minor": 0
      },
      "text/plain": [
       "HBox(children=(HTML(value=''), FloatProgress(value=0.0, max=4.0), HTML(value='')))"
      ]
     },
     "metadata": {},
     "output_type": "display_data"
    },
    {
     "name": "stdout",
     "output_type": "stream",
     "text": [
      "D:\\Data\\Diploma\\generated//Test_noAugModified//gt/1579697662_38-p-foni-so-slozhnimi-geometricheskimi-figuram-91.jpg0_0CharMap.png\n",
      "D:\\Data\\Diploma\\generated//Test_noAugModified//gt/1579697662_38-p-foni-so-slozhnimi-geometricheskimi-figuram-91.jpg1_0CharMap.png\n",
      "\n"
     ]
    },
    {
     "data": {
      "application/vnd.jupyter.widget-view+json": {
       "model_id": "65f4a444a2b546fa95feaf2d4c9a84c4",
       "version_major": 2,
       "version_minor": 0
      },
      "text/plain": [
       "HBox(children=(HTML(value=''), FloatProgress(value=0.0, max=4.0), HTML(value='')))"
      ]
     },
     "metadata": {},
     "output_type": "display_data"
    },
    {
     "name": "stdout",
     "output_type": "stream",
     "text": [
      "D:\\Data\\Diploma\\generated//Test_noAugModified//gt/1579697662_38-p-foni-so-slozhnimi-geometricheskimi-figuram-91.jpg0_1CharMap.png\n"
     ]
    }
   ],
   "source": [
    "os.makedirs(pathToGenerated, exist_ok=True)\n",
    "os.makedirs(pathToGT, exist_ok=True)\n",
    "imgCount = 0\n",
    "\n",
    "dataList = []\n",
    "for file in tn(os.listdir(pathToBackGrounds)):\n",
    "#     if file != \"depositphotos_52491899-stock-illustration-guilloche-background.jpg\":\n",
    "#         continue\n",
    "\n",
    "    for j in tn(range(4)):\n",
    "        image = Image.open(os.path.join(pathToBackGrounds, file))\n",
    "        imageTextGenerator = OneImageTextGenerator(image)\n",
    "\n",
    "        imageTextGenerator.generate()\n",
    "\n",
    "        for i in tn(range(4)):\n",
    "            if i > 1:\n",
    "                break\n",
    "            imd = ImageDistorter(imageTextGenerator.image2, imageTextGenerator.textImage, imageTextGenerator.annotation, image)\n",
    "            imd.process()\n",
    "            distortedImage = imd.image\n",
    "            textImage = imd.textImage\n",
    "            name =  file + str(i) + \"_\"+ str(j)\n",
    "            name = name.encode(\"ascii\", \"ignore\").decode()\n",
    "            distoredImageName = \"/\"+ name +\".png\"\n",
    "            gtName = \"/\"+ name + \".png\"\n",
    "            charMapName = \"/\"+ name + \"CharMap.png\"\n",
    "            distortedImage.save(pathToGenerated + distoredImageName)\n",
    "            textImage.save(pathToGT + gtName)\n",
    "            plt.imshow(imd.characterMap)\n",
    "            plt.show()\n",
    "            \n",
    "            cv2.imwrite(pathToGT + charMapName ,imd.characterMap)\n",
    "            with open(pathToGT + \"/\"+ name+ \".json\", mode=\"w\") as f:\n",
    "                json.dump(imageTextGenerator.annotation, f)\n",
    "            metadata = dict()\n",
    "            metadata[\"distortedImage\"] = \"generated\" + distoredImageName\n",
    "            metadata[\"gtImage\"] = \"gt\" + gtName\n",
    "            metadata[\"characterMap\"] = \"gt\" + charMapName\n",
    "            metadata[\"annotation\"] = \"gt/\" + name +\".json\"\n",
    "            dataList.append(metadata)\n",
    "            print(pathToGT + \"/\"+ name + \"CharMap.png\")\n",
    "            assert(os.path.exists(pathToGT + \"/\"+ name + \"CharMap.png\"))\n",
    "\n",
    "            imgCount += 1\n",
    "            #break\n",
    "        if imgCount > 10000:\n",
    "            break\n",
    "        #break \n",
    "    #break\n",
    "with open(pathToOutDir + \"dataList.txt\", mode=\"w\",) as f:\n",
    "    json.dump(dataList, f)\n",
    "        \n",
    "    \n",
    "# plt.figure(figsize=(50,50))\n",
    "# plt.imshow(np.array(imageTextGenerator.image2))\n",
    "\n",
    "\n",
    "# plt.figure(figsize=(50,50))\n",
    "\n",
    "# plt.imshow(imd.image)"
   ]
  },
  {
   "cell_type": "code",
   "execution_count": 32,
   "metadata": {},
   "outputs": [
    {
     "data": {
      "text/plain": [
       "{'wordRects': [[(271.0, 184.0),\n",
       "   (315.0, 184.0),\n",
       "   (315.0, 198.0),\n",
       "   (271.0, 198.0)],\n",
       "  [(960.0, 32.0), (1028.0, 32.0), (1028.0, 47.0), (960.0, 47.0)],\n",
       "  [(147.6911429569417, 338.2082552303143),\n",
       "   (198.49164293268143, 341.7605722387542),\n",
       "   (197.2045463940202, 360.1669102783176),\n",
       "   (146.40404641828047, 356.61459326987773)],\n",
       "  [(102.0, 309.0), (200.0, 309.0), (200.0, 323.0), (102.0, 323.0)],\n",
       "  [(156.31281153776473, 396.02790678132953),\n",
       "   (316.9702228337396, 410.0836089811491),\n",
       "   (312.89724426670585, 456.63796703037144),\n",
       "   (152.23983297073093, 442.58226483055194)],\n",
       "  [(904.3969016123244, 367.9979716181639),\n",
       "   (1020.8553255288856, 376.1415379266149),\n",
       "   (1018.2777295176049, 413.00287822857143),\n",
       "   (901.8193056010438, 404.85931192012043)],\n",
       "  [(206.00474299426548, 218.9876020229145),\n",
       "   (274.79056792918254, 225.0055819159986),\n",
       "   (272.9716701990956, 245.79567810426576),\n",
       "   (204.18584526417857, 239.7776982111817)],\n",
       "  [(190.0, 505.0), (430.0, 505.0), (430.0, 531.0), (190.0, 531.0)],\n",
       "  [(689.0, 400.0), (819.0, 400.0), (819.0, 417.0), (689.0, 417.0)],\n",
       "  [(214.0, 283.0), (313.0, 283.0), (313.0, 297.0), (214.0, 297.0)],\n",
       "  [(712.0, 176.0), (912.0, 176.0), (912.0, 207.0), (712.0, 207.0)],\n",
       "  [(12.946695423237415, 408.8901900783965),\n",
       "   (101.70146180602705, 415.096527936336),\n",
       "   (100.0902854724956, 438.1374229628822),\n",
       "   (11.335519089705954, 431.93108510494267)],\n",
       "  [(748.0, 114.0), (818.0, 114.0), (818.0, 129.0), (748.0, 129.0)],\n",
       "  [(827.0, 506.0), (901.0, 506.0), (901.0, 531.0), (827.0, 531.0)],\n",
       "  [(12.0, 122.0), (111.0, 122.0), (111.0, 139.0), (12.0, 139.0)],\n",
       "  [(694.0, 254.0), (903.0, 254.0), (903.0, 280.0), (694.0, 280.0)],\n",
       "  [(920.0, 322.0), (968.0, 322.0), (968.0, 338.0), (920.0, 338.0)],\n",
       "  [(238.0, 54.0), (260.0, 54.0), (260.0, 68.0), (238.0, 68.0)],\n",
       "  [(863.4910175834704, 430.30284283046285),\n",
       "   (998.8569881530765, 439.76855359803443),\n",
       "   (996.1869387948407, 477.95203835911155),\n",
       "   (860.8209682252345, 468.48632759154)],\n",
       "  [(398.15020687626844, 412.06238456342504),\n",
       "   (424.1210202155683, 413.8784407438223),\n",
       "   (421.91664052606615, 445.4025389864666),\n",
       "   (395.94582718676634, 443.5864828060694)],\n",
       "  [(611.0, 507.0), (658.0, 507.0), (658.0, 521.0), (611.0, 521.0)],\n",
       "  [(1019.0, 179.0), (1082.0, 179.0), (1082.0, 206.0), (1019.0, 206.0)],\n",
       "  [(220.94669542323743, 144.89019007839647),\n",
       "   (310.69659584039783, 151.16611448681604),\n",
       "   (309.0805535412371, 174.27659606384228),\n",
       "   (219.33065312407675, 168.00067165542274)],\n",
       "  [(670.2695684135371, 434.64431734996293),\n",
       "   (796.2618133709259, 443.45455336943894),\n",
       "   (794.0530770062334, 475.0409549699711),\n",
       "   (668.0608320488445, 466.2307189504951)],\n",
       "  [(53.12614645418744, 144.20700564009383),\n",
       "   (139.77524116621436, 151.7878191321803),\n",
       "   (137.81961321323732, 174.14074891944983),\n",
       "   (51.17051850121041, 166.5599354273634)],\n",
       "  [(300.0, 0.0), (465.0, 0.0), (465.0, 21.0), (300.0, 21.0)],\n",
       "  [(162.0, 253.0), (316.0, 253.0), (316.0, 270.0), (162.0, 270.0)],\n",
       "  [(89.0, 368.0), (173.0, 368.0), (173.0, 384.0), (89.0, 384.0)],\n",
       "  [(743.0, 297.0), (885.0, 297.0), (885.0, 312.0), (743.0, 312.0)],\n",
       "  [(882.0, 115.0), (938.0, 115.0), (938.0, 129.0), (882.0, 129.0)],\n",
       "  [(152.94425947349725, 82.9599465521406),\n",
       "   (239.77834433802533, 89.03197727474928),\n",
       "   (238.10731338527228, 112.92883323470623),\n",
       "   (151.27322852074417, 106.85680251209754)],\n",
       "  [(703.0002863175213, 134.35554765602572),\n",
       "   (835.3321905611854, 143.60909583819904),\n",
       "   (833.7156713914085, 166.72639698275432),\n",
       "   (701.3837671477445, 157.472848800581)],\n",
       "  [(661.0, 84.0), (732.0, 84.0), (732.0, 104.0), (661.0, 104.0)],\n",
       "  [(54.0, 506.0), (129.0, 506.0), (129.0, 530.0), (54.0, 530.0)],\n",
       "  [(23.0, 1.0), (164.0, 1.0), (164.0, 20.0), (23.0, 20.0)],\n",
       "  [(672.0, 3.0), (789.0, 3.0), (789.0, 18.0), (672.0, 18.0)],\n",
       "  [(917.0, 139.0), (1040.0, 139.0), (1040.0, 160.0), (917.0, 160.0)],\n",
       "  [(945.0, 230.0), (1015.0, 230.0), (1015.0, 242.0), (945.0, 242.0)],\n",
       "  [(209.0, 474.0), (292.0, 474.0), (292.0, 491.0), (209.0, 491.0)],\n",
       "  [(357.9628846732747, 148.94631519313876),\n",
       "   (405.0894725027244, 153.06935737887437),\n",
       "   (403.2640413118363, 173.93413136581756),\n",
       "   (356.13745348238655, 169.81108918008192)]],\n",
       " 'wordsCharactersRects': [[[(271.0, 184.0),\n",
       "    (282.0, 184.0),\n",
       "    (282.0, 198.0),\n",
       "    (271.0, 198.0)],\n",
       "   [(282.0, 184.0), (293.0, 184.0), (293.0, 198.0), (282.0, 198.0)],\n",
       "   [(293.0, 184.0), (304.0, 184.0), (304.0, 198.0), (293.0, 198.0)],\n",
       "   [(304.0, 184.0), (315.0, 184.0), (315.0, 198.0), (304.0, 198.0)]],\n",
       "  [[(960.0, 32.0), (973.0, 32.0), (973.0, 47.0), (960.0, 47.0)],\n",
       "   [(973.0, 32.0), (984.0, 32.0), (984.0, 47.0), (973.0, 47.0)],\n",
       "   [(984.0, 32.0), (995.0, 32.0), (995.0, 47.0), (984.0, 47.0)],\n",
       "   [(995.0, 32.0), (1006.0, 32.0), (1006.0, 47.0), (995.0, 47.0)],\n",
       "   [(1006.0, 32.0), (1017.0, 32.0), (1017.0, 47.0), (1006.0, 47.0)],\n",
       "   [(1017.0, 32.0), (1028.0, 32.0), (1028.0, 47.0), (1017.0, 47.0)]],\n",
       "  [[(147.6911429569417, 338.2082552303143),\n",
       "    (157.46046987535317, 338.89139311655276),\n",
       "    (156.17337333669195, 357.2977311561162),\n",
       "    (146.40404641828047, 356.61459326987773)],\n",
       "   [(157.46046987535317, 338.89139311655276),\n",
       "    (166.2528641019235, 339.50621721416735),\n",
       "    (164.9657675632623, 357.9125552537308),\n",
       "    (156.17337333669195, 357.2977311561162)],\n",
       "   [(166.2528641019235, 339.50621721416735),\n",
       "    (174.0683256366527, 340.0527275231581),\n",
       "    (172.78122909799148, 358.45906556272155),\n",
       "    (164.9657675632623, 357.9125552537308)],\n",
       "   [(174.0683256366527, 340.0527275231581),\n",
       "    (181.8837871713819, 340.59923783214884),\n",
       "    (180.59669063272068, 359.00557587171227),\n",
       "    (172.78122909799148, 358.45906556272155)],\n",
       "   [(181.8837871713819, 340.59923783214884),\n",
       "    (189.6992487061111, 341.1457481411396),\n",
       "    (188.41215216744988, 359.55208618070304),\n",
       "    (180.59669063272068, 359.00557587171227)],\n",
       "   [(189.6992487061111, 341.1457481411396),\n",
       "    (197.5147102408403, 341.69225845013034),\n",
       "    (196.22761370217907, 360.09859648969376),\n",
       "    (188.41215216744988, 359.55208618070304)]],\n",
       "  [[(102.0, 309.0), (114.0, 309.0), (114.0, 323.0), (102.0, 323.0)],\n",
       "   [(114.0, 309.0), (124.0, 309.0), (124.0, 323.0), (114.0, 323.0)],\n",
       "   [(124.0, 309.0), (133.0, 309.0), (133.0, 323.0), (124.0, 323.0)],\n",
       "   [(133.0, 309.0), (143.0, 309.0), (143.0, 323.0), (133.0, 323.0)],\n",
       "   [(143.0, 309.0), (155.0, 309.0), (155.0, 323.0), (143.0, 323.0)],\n",
       "   [(155.0, 309.0), (165.0, 309.0), (165.0, 323.0), (155.0, 323.0)],\n",
       "   [(165.0, 309.0), (174.0, 309.0), (174.0, 323.0), (165.0, 323.0)],\n",
       "   [(174.0, 309.0), (184.0, 309.0), (184.0, 323.0), (174.0, 323.0)],\n",
       "   [(184.0, 309.0), (192.0, 309.0), (192.0, 323.0), (184.0, 323.0)],\n",
       "   [(192.0, 309.0), (204.0, 309.0), (204.0, 323.0), (192.0, 323.0)]],\n",
       "  [[(156.31281153776473, 396.02790678132953),\n",
       "    (177.99663392127053, 397.924995421796),\n",
       "    (173.92365535423676, 444.4793534710184),\n",
       "    (152.23983297073093, 442.58226483055194)],\n",
       "   [(177.99663392127053, 397.924995421796),\n",
       "    (200.6660845949357, 399.9083153641018),\n",
       "    (196.5931060279019, 446.4626734133242),\n",
       "    (173.92365535423676, 444.4793534710184)],\n",
       "   [(200.6660845949357, 399.9083153641018),\n",
       "    (225.3067918489196, 402.0640979100864),\n",
       "    (221.2338132818858, 448.6184559593088),\n",
       "    (196.5931060279019, 446.4626734133242)],\n",
       "   [(225.3067918489196, 402.0640979100864),\n",
       "    (244.03372936194734, 403.7024926450347),\n",
       "    (239.96075079491354, 450.2568506942571),\n",
       "    (221.2338132818858, 448.6184559593088)],\n",
       "   [(244.03372936194734, 403.7024926450347),\n",
       "    (267.68880832577184, 405.7720438891799),\n",
       "    (263.6158297587381, 452.3264019384023),\n",
       "    (239.96075079491354, 450.2568506942571)],\n",
       "   [(267.68880832577184, 405.7720438891799),\n",
       "    (291.3438872895964, 407.84159513332514),\n",
       "    (287.2709087225626, 454.39595318254754),\n",
       "    (263.6158297587381, 452.3264019384023)],\n",
       "   [(291.3438872895964, 407.84159513332514),\n",
       "    (313.0277096731022, 409.73868377379154),\n",
       "    (308.9547311060684, 456.29304182301394),\n",
       "    (287.2709087225626, 454.39595318254754)]],\n",
       "  [[(904.3969016123244, 367.9979716181639),\n",
       "    (927.2904379378023, 369.5988436275175),\n",
       "    (924.7128419265216, 406.46018392947406),\n",
       "    (901.8193056010438, 404.85931192012043)],\n",
       "   [(927.2904379378023, 369.5988436275175),\n",
       "    (950.1839742632801, 371.19971563687113),\n",
       "    (947.6063782519994, 408.0610559388277),\n",
       "    (924.7128419265216, 406.46018392947406)],\n",
       "   [(950.1839742632801, 371.19971563687113),\n",
       "    (973.077510588758, 372.80058764622476),\n",
       "    (970.4999145774773, 409.6619279481813),\n",
       "    (947.6063782519994, 408.0610559388277)],\n",
       "   [(973.077510588758, 372.80058764622476),\n",
       "    (995.9710469142358, 374.4014596555783),\n",
       "    (993.3934509029551, 411.26279995753487),\n",
       "    (970.4999145774773, 409.6619279481813)],\n",
       "   [(995.9710469142358, 374.4014596555783),\n",
       "    (1018.8645832397136, 376.00233166493194),\n",
       "    (1016.286987228433, 412.8636719668885),\n",
       "    (993.3934509029551, 411.26279995753487)]],\n",
       "  [[(206.00474299426548, 218.9876020229145),\n",
       "    (219.7619079812489, 220.19119800153132),\n",
       "    (217.94301025116198, 240.98129418979852),\n",
       "    (204.18584526417857, 239.7776982111817)],\n",
       "   [(219.7619079812489, 220.19119800153132),\n",
       "    (230.57110904245016, 221.13688055615881),\n",
       "    (228.75221131236324, 241.926976744426),\n",
       "    (217.94301025116198, 240.98129418979852)],\n",
       "   [(230.57110904245016, 221.13688055615881),\n",
       "    (242.36296474557878, 222.1685342521161),\n",
       "    (240.54406701549186, 242.9586304403833),\n",
       "    (228.75221131236324, 241.926976744426)],\n",
       "   [(242.36296474557878, 222.1685342521161),\n",
       "    (251.20685652292525, 222.94227452408404),\n",
       "    (249.38795879283833, 243.73237071235124),\n",
       "    (240.54406701549186, 242.9586304403833)],\n",
       "   [(251.20685652292525, 222.94227452408404),\n",
       "    (264.96402150990866, 224.14587050270086),\n",
       "    (263.14512377982174, 244.93596669096806),\n",
       "    (249.38795879283833, 243.73237071235124)],\n",
       "   [(264.96402150990866, 224.14587050270086),\n",
       "    (275.77322257110995, 225.09155305732835),\n",
       "    (273.954324841023, 245.88164924559555),\n",
       "    (263.14512377982174, 244.93596669096806)]],\n",
       "  [[(190.0, 505.0), (210.0, 505.0), (210.0, 531.0), (190.0, 531.0)],\n",
       "   [(210.0, 505.0), (230.0, 505.0), (230.0, 531.0), (210.0, 531.0)],\n",
       "   [(230.0, 505.0), (250.0, 505.0), (250.0, 531.0), (230.0, 531.0)],\n",
       "   [(250.0, 505.0), (270.0, 505.0), (270.0, 531.0), (250.0, 531.0)],\n",
       "   [(270.0, 505.0), (290.0, 505.0), (290.0, 531.0), (270.0, 531.0)],\n",
       "   [(290.0, 505.0), (310.0, 505.0), (310.0, 531.0), (290.0, 531.0)],\n",
       "   [(310.0, 505.0), (330.0, 505.0), (330.0, 531.0), (310.0, 531.0)],\n",
       "   [(330.0, 505.0), (350.0, 505.0), (350.0, 531.0), (330.0, 531.0)],\n",
       "   [(350.0, 505.0), (370.0, 505.0), (370.0, 531.0), (350.0, 531.0)],\n",
       "   [(370.0, 505.0), (390.0, 505.0), (390.0, 531.0), (370.0, 531.0)],\n",
       "   [(390.0, 505.0), (410.0, 505.0), (410.0, 531.0), (390.0, 531.0)],\n",
       "   [(410.0, 505.0), (430.0, 505.0), (430.0, 531.0), (410.0, 531.0)]],\n",
       "  [[(689.0, 400.0), (702.0, 400.0), (702.0, 417.0), (689.0, 417.0)],\n",
       "   [(702.0, 400.0), (715.0, 400.0), (715.0, 417.0), (702.0, 417.0)],\n",
       "   [(715.0, 400.0), (728.0, 400.0), (728.0, 417.0), (715.0, 417.0)],\n",
       "   [(728.0, 400.0), (741.0, 400.0), (741.0, 417.0), (728.0, 417.0)],\n",
       "   [(741.0, 400.0), (754.0, 400.0), (754.0, 417.0), (741.0, 417.0)],\n",
       "   [(754.0, 400.0), (767.0, 400.0), (767.0, 417.0), (754.0, 417.0)],\n",
       "   [(767.0, 400.0), (780.0, 400.0), (780.0, 417.0), (767.0, 417.0)],\n",
       "   [(780.0, 400.0), (793.0, 400.0), (793.0, 417.0), (780.0, 417.0)],\n",
       "   [(793.0, 400.0), (806.0, 400.0), (806.0, 417.0), (793.0, 417.0)],\n",
       "   [(806.0, 400.0), (819.0, 400.0), (819.0, 417.0), (806.0, 417.0)]],\n",
       "  [[(214.0, 283.0), (225.0, 283.0), (225.0, 297.0), (214.0, 297.0)],\n",
       "   [(225.0, 283.0), (236.0, 283.0), (236.0, 297.0), (225.0, 297.0)],\n",
       "   [(236.0, 283.0), (247.0, 283.0), (247.0, 297.0), (236.0, 297.0)],\n",
       "   [(247.0, 283.0), (258.0, 283.0), (258.0, 297.0), (247.0, 297.0)],\n",
       "   [(258.0, 283.0), (269.0, 283.0), (269.0, 297.0), (258.0, 297.0)],\n",
       "   [(269.0, 283.0), (280.0, 283.0), (280.0, 297.0), (269.0, 297.0)],\n",
       "   [(280.0, 283.0), (291.0, 283.0), (291.0, 297.0), (280.0, 297.0)],\n",
       "   [(291.0, 283.0), (302.0, 283.0), (302.0, 297.0), (291.0, 297.0)],\n",
       "   [(302.0, 283.0), (313.0, 283.0), (313.0, 297.0), (302.0, 297.0)]],\n",
       "  [[(712.0, 176.0), (737.0, 176.0), (737.0, 207.0), (712.0, 207.0)],\n",
       "   [(737.0, 176.0), (762.0, 176.0), (762.0, 207.0), (737.0, 207.0)],\n",
       "   [(762.0, 176.0), (787.0, 176.0), (787.0, 207.0), (762.0, 207.0)],\n",
       "   [(787.0, 176.0), (812.0, 176.0), (812.0, 207.0), (787.0, 207.0)],\n",
       "   [(812.0, 176.0), (837.0, 176.0), (837.0, 207.0), (812.0, 207.0)],\n",
       "   [(837.0, 176.0), (862.0, 176.0), (862.0, 207.0), (837.0, 207.0)],\n",
       "   [(862.0, 176.0), (887.0, 176.0), (887.0, 207.0), (862.0, 207.0)],\n",
       "   [(887.0, 176.0), (912.0, 176.0), (912.0, 207.0), (887.0, 207.0)]],\n",
       "  [[(12.946695423237415, 408.8901900783965),\n",
       "    (25.76682834519592, 409.7866611023211),\n",
       "    (24.155652011664458, 432.8275561288673),\n",
       "    (11.335519089705954, 431.93108510494267)],\n",
       "   [(25.76682834519592, 409.7866611023211),\n",
       "    (38.58696126715442, 410.68313212624565),\n",
       "    (36.97578493362296, 433.72402715279185),\n",
       "    (24.155652011664458, 432.8275561288673)],\n",
       "   [(38.58696126715442, 410.68313212624565),\n",
       "    (51.407094189112925, 411.57960315017027),\n",
       "    (49.795917855581465, 434.62049817671647),\n",
       "    (36.97578493362296, 433.72402715279185)],\n",
       "   [(51.407094189112925, 411.57960315017027),\n",
       "    (64.22722711107141, 412.47607417409483),\n",
       "    (62.61605077753996, 435.51696920064103),\n",
       "    (49.795917855581465, 434.62049817671647)],\n",
       "   [(64.22722711107141, 412.47607417409483),\n",
       "    (76.06119596211005, 413.3035858884868),\n",
       "    (74.45001962857859, 436.344480915033),\n",
       "    (62.61605077753996, 435.51696920064103)],\n",
       "   [(76.06119596211005, 413.3035858884868),\n",
       "    (87.89516481314867, 414.1310976028787),\n",
       "    (86.28398847961721, 437.1719926294249),\n",
       "    (74.45001962857859, 436.344480915033)],\n",
       "   [(87.89516481314867, 414.1310976028787),\n",
       "    (99.72913366418729, 414.95860931727066),\n",
       "    (98.11795733065583, 437.99950434381685),\n",
       "    (86.28398847961721, 437.1719926294249)]],\n",
       "  [[(748.0, 114.0), (757.0, 114.0), (757.0, 129.0), (748.0, 129.0)],\n",
       "   [(757.0, 114.0), (766.0, 114.0), (766.0, 129.0), (757.0, 129.0)],\n",
       "   [(766.0, 114.0), (775.0, 114.0), (775.0, 129.0), (766.0, 129.0)],\n",
       "   [(775.0, 114.0), (784.0, 114.0), (784.0, 129.0), (775.0, 129.0)],\n",
       "   [(784.0, 114.0), (792.0, 114.0), (792.0, 129.0), (784.0, 129.0)],\n",
       "   [(792.0, 114.0), (800.0, 114.0), (800.0, 129.0), (792.0, 129.0)],\n",
       "   [(800.0, 114.0), (809.0, 114.0), (809.0, 129.0), (800.0, 129.0)],\n",
       "   [(809.0, 114.0), (818.0, 114.0), (818.0, 129.0), (809.0, 129.0)]],\n",
       "  [[(827.0, 506.0), (847.0, 506.0), (847.0, 531.0), (827.0, 531.0)],\n",
       "   [(847.0, 506.0), (867.0, 506.0), (867.0, 531.0), (847.0, 531.0)],\n",
       "   [(867.0, 506.0), (882.0, 506.0), (882.0, 531.0), (867.0, 531.0)],\n",
       "   [(882.0, 506.0), (901.0, 506.0), (901.0, 531.0), (882.0, 531.0)]],\n",
       "  [[(12.0, 122.0), (23.0, 122.0), (23.0, 139.0), (12.0, 139.0)],\n",
       "   [(23.0, 122.0), (34.0, 122.0), (34.0, 139.0), (23.0, 139.0)],\n",
       "   [(34.0, 122.0), (45.0, 122.0), (45.0, 139.0), (34.0, 139.0)],\n",
       "   [(45.0, 122.0), (56.0, 122.0), (56.0, 139.0), (45.0, 139.0)],\n",
       "   [(56.0, 122.0), (67.0, 122.0), (67.0, 139.0), (56.0, 139.0)],\n",
       "   [(67.0, 122.0), (78.0, 122.0), (78.0, 139.0), (67.0, 139.0)],\n",
       "   [(78.0, 122.0), (89.0, 122.0), (89.0, 139.0), (78.0, 139.0)],\n",
       "   [(89.0, 122.0), (100.0, 122.0), (100.0, 139.0), (89.0, 139.0)],\n",
       "   [(100.0, 122.0), (111.0, 122.0), (111.0, 139.0), (100.0, 139.0)]],\n",
       "  [[(694.0, 254.0), (714.0, 254.0), (714.0, 280.0), (694.0, 280.0)],\n",
       "   [(714.0, 254.0), (734.0, 254.0), (734.0, 280.0), (714.0, 280.0)],\n",
       "   [(734.0, 254.0), (754.0, 254.0), (754.0, 280.0), (734.0, 280.0)],\n",
       "   [(754.0, 254.0), (772.0, 254.0), (772.0, 280.0), (754.0, 280.0)],\n",
       "   [(772.0, 254.0), (791.0, 254.0), (791.0, 280.0), (772.0, 280.0)],\n",
       "   [(791.0, 254.0), (811.0, 254.0), (811.0, 280.0), (791.0, 280.0)],\n",
       "   [(811.0, 254.0), (831.0, 254.0), (831.0, 280.0), (811.0, 280.0)],\n",
       "   [(831.0, 254.0), (850.0, 254.0), (850.0, 280.0), (831.0, 280.0)],\n",
       "   [(850.0, 254.0), (869.0, 254.0), (869.0, 280.0), (850.0, 280.0)],\n",
       "   [(869.0, 254.0), (887.0, 254.0), (887.0, 280.0), (869.0, 280.0)],\n",
       "   [(887.0, 254.0), (903.0, 254.0), (903.0, 280.0), (887.0, 280.0)]],\n",
       "  [[(920.0, 322.0), (932.0, 322.0), (932.0, 338.0), (920.0, 338.0)],\n",
       "   [(932.0, 322.0), (944.0, 322.0), (944.0, 338.0), (932.0, 338.0)],\n",
       "   [(944.0, 322.0), (956.0, 322.0), (956.0, 338.0), (944.0, 338.0)],\n",
       "   [(956.0, 322.0), (968.0, 322.0), (968.0, 338.0), (956.0, 338.0)]],\n",
       "  [[(238.0, 54.0), (249.0, 54.0), (249.0, 68.0), (238.0, 68.0)],\n",
       "   [(249.0, 54.0), (260.0, 54.0), (260.0, 68.0), (249.0, 68.0)]],\n",
       "  [[(863.4910175834704, 430.30284283046285),\n",
       "    (886.383792018036, 431.9036615632139),\n",
       "    (883.7137426598002, 470.08714632429104),\n",
       "    (860.8209682252345, 468.48632759154)],\n",
       "   [(886.383792018036, 431.9036615632139),\n",
       "    (909.2765664526019, 433.504480295965),\n",
       "    (906.606517094366, 471.6879650570421),\n",
       "    (883.7137426598002, 470.08714632429104)],\n",
       "   [(909.2765664526019, 433.504480295965),\n",
       "    (932.1693408871676, 435.1052990287161),\n",
       "    (929.4992915289317, 473.28878378979323),\n",
       "    (906.606517094366, 471.6879650570421)],\n",
       "   [(932.1693408871676, 435.1052990287161),\n",
       "    (954.0667773028391, 436.63651694699973),\n",
       "    (951.3967279446033, 474.82000170807686),\n",
       "    (929.4992915289317, 473.28878378979323)],\n",
       "   [(954.0667773028391, 436.63651694699973),\n",
       "    (974.9688756996165, 438.09813405081593),\n",
       "    (972.2988263413807, 476.28161881189305),\n",
       "    (951.3967279446033, 474.82000170807686)],\n",
       "   [(974.9688756996165, 438.09813405081593),\n",
       "    (996.8663121152881, 439.62935196909956),\n",
       "    (994.1962627570524, 477.8128367301767),\n",
       "    (972.2988263413807, 476.28161881189305)]],\n",
       "  [[(398.15020687626844, 412.06238456342504),\n",
       "    (420.41090402423976, 413.6190041466227),\n",
       "    (418.20652433473765, 445.143102389267),\n",
       "    (395.94582718676634, 443.5864828060694)]],\n",
       "  [[(611.0, 507.0), (619.0, 507.0), (619.0, 521.0), (611.0, 521.0)],\n",
       "   [(619.0, 507.0), (627.0, 507.0), (627.0, 521.0), (619.0, 521.0)],\n",
       "   [(627.0, 507.0), (634.0, 507.0), (634.0, 521.0), (627.0, 521.0)],\n",
       "   [(634.0, 507.0), (642.0, 507.0), (642.0, 521.0), (634.0, 521.0)],\n",
       "   [(642.0, 507.0), (650.0, 507.0), (650.0, 521.0), (642.0, 521.0)],\n",
       "   [(650.0, 507.0), (658.0, 507.0), (658.0, 521.0), (650.0, 521.0)]],\n",
       "  [[(1019.0, 179.0), (1040.0, 179.0), (1040.0, 206.0), (1019.0, 206.0)],\n",
       "   [(1040.0, 179.0), (1061.0, 179.0), (1061.0, 206.0), (1040.0, 206.0)],\n",
       "   [(1061.0, 179.0), (1082.0, 179.0), (1082.0, 206.0), (1061.0, 206.0)]],\n",
       "  [[(220.94669542323743, 144.89019007839647),\n",
       "    (231.7955844846524, 145.64881830359005),\n",
       "    (230.17954218549175, 168.7592998806163),\n",
       "    (219.33065312407675, 168.00067165542274)],\n",
       "   [(231.7955844846524, 145.64881830359005),\n",
       "    (242.64447354606742, 146.40744652878362),\n",
       "    (241.02843124690673, 169.5179281058099),\n",
       "    (230.17954218549175, 168.7592998806163)],\n",
       "   [(242.64447354606742, 146.40744652878362),\n",
       "    (253.49336260748242, 147.1660747539772),\n",
       "    (251.8773203083217, 170.27655633100346),\n",
       "    (241.02843124690673, 169.5179281058099)],\n",
       "   [(253.49336260748242, 147.1660747539772),\n",
       "    (264.3422516688974, 147.92470297917077),\n",
       "    (262.7262093697367, 171.03518455619704),\n",
       "    (251.8773203083217, 170.27655633100346)],\n",
       "   [(264.3422516688974, 147.92470297917077),\n",
       "    (275.1911407303124, 148.68333120436435),\n",
       "    (273.57509843115173, 171.7938127813906),\n",
       "    (262.7262093697367, 171.03518455619704)],\n",
       "   [(275.1911407303124, 148.68333120436435),\n",
       "    (288.01255507562104, 149.57989183413858),\n",
       "    (286.3965127764603, 172.69037341116484),\n",
       "    (273.57509843115173, 171.7938127813906)],\n",
       "   [(288.01255507562104, 149.57989183413858),\n",
       "    (299.84770677898285, 150.40748626162247),\n",
       "    (298.23166447982214, 173.51796783864873),\n",
       "    (286.3965127764603, 172.69037341116484)],\n",
       "   [(299.84770677898285, 150.40748626162247),\n",
       "    (311.6828584823446, 151.23508068910635),\n",
       "    (310.06681618318396, 174.34556226613262),\n",
       "    (298.23166447982214, 173.51796783864873)]],\n",
       "  [[(670.2695684135371, 434.64431734996293),\n",
       "    (690.1108668320235, 436.0317560931875),\n",
       "    (687.902130467331, 467.61815769371964),\n",
       "    (668.0608320488445, 466.2307189504951)],\n",
       "   [(690.1108668320235, 436.0317560931875),\n",
       "    (710.9442301714342, 437.4885667735733),\n",
       "    (708.7354938067417, 469.0749683741055),\n",
       "    (687.902130467331, 467.61815769371964)],\n",
       "   [(710.9442301714342, 437.4885667735733),\n",
       "    (731.777593510845, 438.9453774539591),\n",
       "    (729.5688571461525, 470.53177905449127),\n",
       "    (708.7354938067417, 469.0749683741055)],\n",
       "   [(731.777593510845, 438.9453774539591),\n",
       "    (741.6982427200882, 439.63909682557136),\n",
       "    (739.4895063553956, 471.2254984261035),\n",
       "    (729.5688571461525, 470.53177905449127)],\n",
       "   [(741.6982427200882, 439.63909682557136),\n",
       "    (757.5712814548774, 440.749047820151),\n",
       "    (755.3625450901848, 472.3354494206832),\n",
       "    (739.4895063553956, 471.2254984261035)],\n",
       "   [(757.5712814548774, 440.749047820151),\n",
       "    (773.4443201896665, 441.8589988147307),\n",
       "    (771.235583824974, 473.44540041526284),\n",
       "    (755.3625450901848, 472.3354494206832)],\n",
       "   [(773.4443201896665, 441.8589988147307),\n",
       "    (794.2776835290772, 443.31580949511647),\n",
       "    (792.0689471643848, 474.9022110956486),\n",
       "    (771.235583824974, 473.44540041526284)]],\n",
       "  [[(53.12614645418744, 144.20700564009383),\n",
       "    (62.972634489645046, 145.06846171874002),\n",
       "    (61.01700653666801, 167.4213915060096),\n",
       "    (51.17051850121041, 166.5599354273634)],\n",
       "   [(62.972634489645046, 145.06846171874002),\n",
       "    (78.72701534637721, 146.4467914445739),\n",
       "    (76.77138739340018, 168.79972123184348),\n",
       "    (61.01700653666801, 167.4213915060096)],\n",
       "   [(78.72701534637721, 146.4467914445739),\n",
       "    (88.57350338183483, 147.3082475232201),\n",
       "    (86.61787542885779, 169.66117731048968),\n",
       "    (76.77138739340018, 168.79972123184348)],\n",
       "   [(88.57350338183483, 147.3082475232201),\n",
       "    (98.41999141729241, 148.1697036018663),\n",
       "    (96.46436346431538, 170.52263338913588),\n",
       "    (86.61787542885779, 169.66117731048968)],\n",
       "   [(98.41999141729241, 148.1697036018663),\n",
       "    (106.2971818456585, 148.85886846478326),\n",
       "    (104.34155389268147, 171.21179825205283),\n",
       "    (96.46436346431538, 170.52263338913588)],\n",
       "   [(106.2971818456585, 148.85886846478326),\n",
       "    (114.17437227402459, 149.5480333277002),\n",
       "    (112.21874432104755, 171.90096311496978),\n",
       "    (104.34155389268147, 171.21179825205283)],\n",
       "   [(114.17437227402459, 149.5480333277002),\n",
       "    (124.0208603094822, 150.40948940634638),\n",
       "    (122.06523235650516, 172.76241919361595),\n",
       "    (112.21874432104755, 171.90096311496978)],\n",
       "   [(124.0208603094822, 150.40948940634638),\n",
       "    (133.86734834493978, 151.27094548499258),\n",
       "    (131.91172039196275, 173.62387527226215),\n",
       "    (122.06523235650516, 172.76241919361595)],\n",
       "   [(133.86734834493978, 151.27094548499258),\n",
       "    (141.74453877330586, 151.96011034790953),\n",
       "    (139.78891082032885, 174.3130401351791),\n",
       "    (131.91172039196275, 173.62387527226215)]],\n",
       "  [[(300.0, 0.0), (316.0, 0.0), (316.0, 21.0), (300.0, 21.0)],\n",
       "   [(316.0, 0.0), (335.0, 0.0), (335.0, 21.0), (316.0, 21.0)],\n",
       "   [(335.0, 0.0), (350.0, 0.0), (350.0, 21.0), (335.0, 21.0)],\n",
       "   [(350.0, 0.0), (359.0, 0.0), (359.0, 21.0), (350.0, 21.0)],\n",
       "   [(359.0, 0.0), (375.0, 0.0), (375.0, 21.0), (359.0, 21.0)],\n",
       "   [(375.0, 0.0), (394.0, 0.0), (394.0, 21.0), (375.0, 21.0)],\n",
       "   [(394.0, 0.0), (408.0, 0.0), (408.0, 21.0), (394.0, 21.0)],\n",
       "   [(408.0, 0.0), (417.0, 0.0), (417.0, 21.0), (408.0, 21.0)],\n",
       "   [(417.0, 0.0), (435.0, 0.0), (435.0, 21.0), (417.0, 21.0)],\n",
       "   [(435.0, 0.0), (454.0, 0.0), (454.0, 21.0), (435.0, 21.0)],\n",
       "   [(454.0, 0.0), (472.0, 0.0), (472.0, 21.0), (454.0, 21.0)]],\n",
       "  [[(162.0, 253.0), (175.0, 253.0), (175.0, 270.0), (162.0, 270.0)],\n",
       "   [(175.0, 253.0), (186.0, 253.0), (186.0, 270.0), (175.0, 270.0)],\n",
       "   [(186.0, 253.0), (197.0, 253.0), (197.0, 270.0), (186.0, 270.0)],\n",
       "   [(197.0, 253.0), (209.0, 253.0), (209.0, 270.0), (197.0, 270.0)],\n",
       "   [(209.0, 253.0), (221.0, 253.0), (221.0, 270.0), (209.0, 270.0)],\n",
       "   [(221.0, 253.0), (233.0, 253.0), (233.0, 270.0), (221.0, 270.0)],\n",
       "   [(233.0, 253.0), (245.0, 253.0), (245.0, 270.0), (233.0, 270.0)],\n",
       "   [(245.0, 253.0), (258.0, 253.0), (258.0, 270.0), (245.0, 270.0)],\n",
       "   [(258.0, 253.0), (270.0, 253.0), (270.0, 270.0), (258.0, 270.0)],\n",
       "   [(270.0, 253.0), (281.0, 253.0), (281.0, 270.0), (270.0, 270.0)],\n",
       "   [(281.0, 253.0), (293.0, 253.0), (293.0, 270.0), (281.0, 270.0)],\n",
       "   [(293.0, 253.0), (305.0, 253.0), (305.0, 270.0), (293.0, 270.0)],\n",
       "   [(305.0, 253.0), (317.0, 253.0), (317.0, 270.0), (305.0, 270.0)]],\n",
       "  [[(89.0, 368.0), (101.0, 368.0), (101.0, 384.0), (89.0, 384.0)],\n",
       "   [(101.0, 368.0), (115.0, 368.0), (115.0, 384.0), (101.0, 384.0)],\n",
       "   [(115.0, 368.0), (127.0, 368.0), (127.0, 384.0), (115.0, 384.0)],\n",
       "   [(127.0, 368.0), (139.0, 368.0), (139.0, 384.0), (127.0, 384.0)],\n",
       "   [(139.0, 368.0), (151.0, 368.0), (151.0, 384.0), (139.0, 384.0)],\n",
       "   [(151.0, 368.0), (163.0, 368.0), (163.0, 384.0), (151.0, 384.0)],\n",
       "   [(163.0, 368.0), (175.0, 368.0), (175.0, 384.0), (163.0, 384.0)]],\n",
       "  [[(743.0, 297.0), (754.0, 297.0), (754.0, 312.0), (743.0, 312.0)],\n",
       "   [(754.0, 297.0), (764.0, 297.0), (764.0, 312.0), (754.0, 312.0)],\n",
       "   [(764.0, 297.0), (776.0, 297.0), (776.0, 312.0), (764.0, 312.0)],\n",
       "   [(776.0, 297.0), (790.0, 297.0), (790.0, 312.0), (776.0, 312.0)],\n",
       "   [(790.0, 297.0), (796.0, 297.0), (796.0, 312.0), (790.0, 312.0)],\n",
       "   [(796.0, 297.0), (809.0, 297.0), (809.0, 312.0), (796.0, 312.0)],\n",
       "   [(809.0, 297.0), (822.0, 297.0), (822.0, 312.0), (809.0, 312.0)],\n",
       "   [(822.0, 297.0), (832.0, 297.0), (832.0, 312.0), (822.0, 312.0)],\n",
       "   [(832.0, 297.0), (845.0, 297.0), (845.0, 312.0), (832.0, 312.0)],\n",
       "   [(845.0, 297.0), (858.0, 297.0), (858.0, 312.0), (845.0, 312.0)],\n",
       "   [(858.0, 297.0), (864.0, 297.0), (864.0, 312.0), (858.0, 312.0)],\n",
       "   [(864.0, 297.0), (875.0, 297.0), (875.0, 312.0), (864.0, 312.0)],\n",
       "   [(875.0, 297.0), (888.0, 297.0), (888.0, 312.0), (875.0, 312.0)]],\n",
       "  [[(882.0, 115.0), (890.0, 115.0), (890.0, 129.0), (882.0, 129.0)],\n",
       "   [(890.0, 115.0), (898.0, 115.0), (898.0, 129.0), (890.0, 129.0)],\n",
       "   [(898.0, 115.0), (906.0, 115.0), (906.0, 129.0), (898.0, 129.0)],\n",
       "   [(906.0, 115.0), (914.0, 115.0), (914.0, 129.0), (906.0, 129.0)],\n",
       "   [(914.0, 115.0), (922.0, 115.0), (922.0, 129.0), (914.0, 129.0)],\n",
       "   [(922.0, 115.0), (930.0, 115.0), (930.0, 129.0), (922.0, 129.0)],\n",
       "   [(930.0, 115.0), (938.0, 115.0), (938.0, 129.0), (930.0, 129.0)]],\n",
       "  [[(152.94425947349725, 82.9599465521406),\n",
       "    (164.78527104593292, 83.78795074158724),\n",
       "    (163.11424009317983, 107.68480670154419),\n",
       "    (151.27322852074417, 106.85680251209754)],\n",
       "   [(164.78527104593292, 83.78795074158724),\n",
       "    (181.56003744021675, 84.96095667663664),\n",
       "    (179.88900648746366, 108.8578126365936),\n",
       "    (163.11424009317983, 107.68480670154419)],\n",
       "   [(181.56003744021675, 84.96095667663664),\n",
       "    (197.3480528701309, 86.06496226256549),\n",
       "    (195.67702191737783, 109.96181822252244),\n",
       "    (179.88900648746366, 108.8578126365936)],\n",
       "   [(197.3480528701309, 86.06496226256549),\n",
       "    (214.12281926441477, 87.23796819761489),\n",
       "    (212.4517883116617, 111.13482415757184),\n",
       "    (195.67702191737783, 109.96181822252244)],\n",
       "   [(214.12281926441477, 87.23796819761489),\n",
       "    (226.95058180122004, 88.13497273618209),\n",
       "    (225.27955084846695, 112.03182869613904),\n",
       "    (212.4517883116617, 111.13482415757184)],\n",
       "   [(226.95058180122004, 88.13497273618209),\n",
       "    (241.7518462667646, 89.16997797299038),\n",
       "    (240.08081531401152, 113.06683393294733),\n",
       "    (225.27955084846695, 112.03182869613904)]],\n",
       "  [[(703.0002863175213, 134.35554765602572),\n",
       "    (713.8633530837922, 135.11516728292054),\n",
       "    (712.2468339140154, 158.23246842747582),\n",
       "    (701.3837671477445, 157.472848800581)],\n",
       "   [(713.8633530837922, 135.11516728292054),\n",
       "    (724.7264198500632, 135.87478690981536),\n",
       "    (723.1099006802864, 158.99208805437064),\n",
       "    (712.2468339140154, 158.23246842747582)],\n",
       "   [(724.7264198500632, 135.87478690981536),\n",
       "    (735.589486616334, 136.6344065367102),\n",
       "    (733.9729674465573, 159.7517076812655),\n",
       "    (723.1099006802864, 158.99208805437064)],\n",
       "   [(735.589486616334, 136.6344065367102),\n",
       "    (747.4401049068115, 137.46308249332273),\n",
       "    (745.8235857370347, 160.58038363787801),\n",
       "    (733.9729674465573, 159.7517076812655)],\n",
       "   [(747.4401049068115, 137.46308249332273),\n",
       "    (758.3031716730824, 138.22270212021755),\n",
       "    (756.6866525033056, 161.34000326477283),\n",
       "    (745.8235857370347, 160.58038363787801)],\n",
       "   [(758.3031716730824, 138.22270212021755),\n",
       "    (769.1662384393533, 138.9823217471124),\n",
       "    (767.5497192695766, 162.09962289166765),\n",
       "    (756.6866525033056, 161.34000326477283)],\n",
       "   [(769.1662384393533, 138.9823217471124),\n",
       "    (780.0293052056243, 139.7419413740072),\n",
       "    (778.4127860358475, 162.8592425185625),\n",
       "    (767.5497192695766, 162.09962289166765)],\n",
       "   [(780.0293052056243, 139.7419413740072),\n",
       "    (791.8799234961016, 140.57061733061974),\n",
       "    (790.2634043263249, 163.68791847517502),\n",
       "    (778.4127860358475, 162.8592425185625)],\n",
       "   [(791.8799234961016, 140.57061733061974),\n",
       "    (804.7180933107854, 141.46834961694998),\n",
       "    (803.1015741410087, 164.58565076150526),\n",
       "    (790.2634043263249, 163.68791847517502)],\n",
       "   [(804.7180933107854, 141.46834961694998),\n",
       "    (815.5811600770564, 142.22796924384483),\n",
       "    (813.9646409072797, 165.3452703884001),\n",
       "    (803.1015741410087, 164.58565076150526)],\n",
       "   [(815.5811600770564, 142.22796924384483),\n",
       "    (826.4442268433273, 142.98758887073964),\n",
       "    (824.8277076735505, 166.10489001529493),\n",
       "    (813.9646409072797, 165.3452703884001)],\n",
       "   [(826.4442268433273, 142.98758887073964),\n",
       "    (837.3072936095982, 143.74720849763446),\n",
       "    (835.6907744398216, 166.86450964218974),\n",
       "    (824.8277076735505, 166.10489001529493)]],\n",
       "  [[(661.0, 84.0), (668.0, 84.0), (668.0, 104.0), (661.0, 104.0)],\n",
       "   [(668.0, 84.0), (675.0, 84.0), (675.0, 104.0), (668.0, 104.0)],\n",
       "   [(675.0, 84.0), (689.0, 84.0), (689.0, 104.0), (675.0, 104.0)],\n",
       "   [(689.0, 84.0), (700.0, 84.0), (700.0, 104.0), (689.0, 104.0)],\n",
       "   [(700.0, 84.0), (711.0, 84.0), (711.0, 104.0), (700.0, 104.0)],\n",
       "   [(711.0, 84.0), (722.0, 84.0), (722.0, 104.0), (711.0, 104.0)],\n",
       "   [(722.0, 84.0), (733.0, 84.0), (733.0, 104.0), (722.0, 104.0)]],\n",
       "  [[(54.0, 506.0), (61.0, 506.0), (61.0, 530.0), (54.0, 530.0)],\n",
       "   [(61.0, 506.0), (74.0, 506.0), (74.0, 530.0), (61.0, 530.0)],\n",
       "   [(74.0, 506.0), (85.0, 506.0), (85.0, 530.0), (74.0, 530.0)],\n",
       "   [(85.0, 506.0), (92.0, 506.0), (92.0, 530.0), (85.0, 530.0)],\n",
       "   [(92.0, 506.0), (106.0, 506.0), (106.0, 530.0), (92.0, 530.0)],\n",
       "   [(106.0, 506.0), (118.0, 506.0), (118.0, 530.0), (106.0, 530.0)],\n",
       "   [(118.0, 506.0), (129.0, 506.0), (129.0, 530.0), (118.0, 530.0)]],\n",
       "  [[(23.0, 1.0), (35.0, 1.0), (35.0, 20.0), (23.0, 20.0)],\n",
       "   [(35.0, 1.0), (50.0, 1.0), (50.0, 20.0), (35.0, 20.0)],\n",
       "   [(50.0, 1.0), (64.0, 1.0), (64.0, 20.0), (50.0, 20.0)],\n",
       "   [(64.0, 1.0), (79.0, 1.0), (79.0, 20.0), (64.0, 20.0)],\n",
       "   [(79.0, 1.0), (92.0, 1.0), (92.0, 20.0), (79.0, 20.0)],\n",
       "   [(92.0, 1.0), (103.0, 1.0), (103.0, 20.0), (92.0, 20.0)],\n",
       "   [(103.0, 1.0),\n",
       "    (115.00000000000001, 1.0),\n",
       "    (115.00000000000001, 20.0),\n",
       "    (103.0, 20.0)],\n",
       "   [(115.00000000000001, 1.0),\n",
       "    (129.0, 1.0),\n",
       "    (129.0, 20.0),\n",
       "    (115.00000000000001, 20.0)],\n",
       "   [(129.0, 1.0), (140.0, 1.0), (140.0, 20.0), (129.0, 20.0)],\n",
       "   [(140.0, 1.0), (152.0, 1.0), (152.0, 20.0), (140.0, 20.0)],\n",
       "   [(152.0, 1.0), (168.0, 1.0), (168.0, 20.0), (152.0, 20.0)]],\n",
       "  [[(672.0, 3.0), (682.0, 3.0), (682.0, 18.0), (672.0, 18.0)],\n",
       "   [(682.0, 3.0), (692.0, 3.0), (692.0, 18.0), (682.0, 18.0)],\n",
       "   [(692.0, 3.0), (703.0, 3.0), (703.0, 18.0), (692.0, 18.0)],\n",
       "   [(703.0, 3.0), (714.0, 3.0), (714.0, 18.0), (703.0, 18.0)],\n",
       "   [(714.0, 3.0), (725.0, 3.0), (725.0, 18.0), (714.0, 18.0)],\n",
       "   [(725.0, 3.0), (735.0, 3.0), (735.0, 18.0), (725.0, 18.0)],\n",
       "   [(735.0, 3.0), (746.0, 3.0), (746.0, 18.0), (735.0, 18.0)],\n",
       "   [(746.0, 3.0), (757.0, 3.0), (757.0, 18.0), (746.0, 18.0)],\n",
       "   [(757.0, 3.0), (768.0, 3.0), (768.0, 18.0), (757.0, 18.0)],\n",
       "   [(768.0, 3.0), (779.0, 3.0), (779.0, 18.0), (768.0, 18.0)],\n",
       "   [(779.0, 3.0), (789.0, 3.0), (789.0, 18.0), (779.0, 18.0)]],\n",
       "  [[(917.0, 139.0), (931.0, 139.0), (931.0, 160.0), (917.0, 160.0)],\n",
       "   [(931.0, 139.0), (940.0, 139.0), (940.0, 160.0), (931.0, 160.0)],\n",
       "   [(940.0, 139.0), (961.0, 139.0), (961.0, 160.0), (940.0, 160.0)],\n",
       "   [(961.0, 139.0), (976.0, 139.0), (976.0, 160.0), (961.0, 160.0)],\n",
       "   [(976.0, 139.0), (985.0, 139.0), (985.0, 160.0), (976.0, 160.0)],\n",
       "   [(985.0, 139.0), (1003.0, 139.0), (1003.0, 160.0), (985.0, 160.0)],\n",
       "   [(1003.0, 139.0), (1017.0, 139.0), (1017.0, 160.0), (1003.0, 160.0)],\n",
       "   [(1017.0, 139.0), (1026.0, 139.0), (1026.0, 160.0), (1017.0, 160.0)],\n",
       "   [(1026.0, 139.0), (1040.0, 139.0), (1040.0, 160.0), (1026.0, 160.0)]],\n",
       "  [[(945.0, 230.0), (954.0, 230.0), (954.0, 242.0), (945.0, 242.0)],\n",
       "   [(954.0, 230.0), (964.0, 230.0), (964.0, 242.0), (954.0, 242.0)],\n",
       "   [(964.0, 230.0), (971.0, 230.0), (971.0, 242.0), (964.0, 242.0)],\n",
       "   [(971.0, 230.0), (980.0, 230.0), (980.0, 242.0), (971.0, 242.0)],\n",
       "   [(980.0, 230.0), (989.0, 230.0), (989.0, 242.0), (980.0, 242.0)],\n",
       "   [(989.0, 230.0), (998.0, 230.0), (998.0, 242.0), (989.0, 242.0)],\n",
       "   [(998.0, 230.0), (1007.0, 230.0), (1007.0, 242.0), (998.0, 242.0)],\n",
       "   [(1007.0, 230.0), (1016.0, 230.0), (1016.0, 242.0), (1007.0, 242.0)]],\n",
       "  [[(209.0, 474.0), (218.0, 474.0), (218.0, 491.0), (209.0, 491.0)],\n",
       "   [(218.0, 474.0), (226.0, 474.0), (226.0, 491.0), (218.0, 491.0)],\n",
       "   [(226.0, 474.0), (242.0, 474.0), (242.0, 491.0), (226.0, 491.0)],\n",
       "   [(242.0, 474.0), (248.0, 474.0), (248.0, 491.0), (242.0, 491.0)],\n",
       "   [(248.0, 474.0), (258.0, 474.0), (258.0, 491.0), (248.0, 491.0)],\n",
       "   [(258.0, 474.0), (268.0, 474.0), (268.0, 491.0), (258.0, 491.0)],\n",
       "   [(268.0, 474.0), (276.0, 474.0), (276.0, 491.0), (268.0, 491.0)],\n",
       "   [(276.0, 474.0), (286.0, 474.0), (286.0, 491.0), (276.0, 491.0)],\n",
       "   [(286.0, 474.0), (294.0, 474.0), (294.0, 491.0), (286.0, 491.0)]],\n",
       "  [[(357.9628846732747, 148.94631519313876),\n",
       "    (365.817315978183, 149.63348889076136),\n",
       "    (363.99188478729485, 170.49826287770452),\n",
       "    (356.13745348238655, 169.81108918008192)],\n",
       "   [(365.817315978183, 149.63348889076136),\n",
       "    (373.67174728309124, 150.32066258838395),\n",
       "    (371.8463160922031, 171.18543657532712),\n",
       "    (363.99188478729485, 170.49826287770452)],\n",
       "   [(373.67174728309124, 150.32066258838395),\n",
       "    (379.56257076177246, 150.8360428616009),\n",
       "    (377.7371395708843, 171.70081684854406),\n",
       "    (371.8463160922031, 171.18543657532712)],\n",
       "   [(379.56257076177246, 150.8360428616009),\n",
       "    (387.41700206668077, 151.52321655922353),\n",
       "    (385.5915708757926, 172.3879905461667),\n",
       "    (377.7371395708843, 171.70081684854406)],\n",
       "   [(387.41700206668077, 151.52321655922353),\n",
       "    (395.271433371589, 152.21039025684613),\n",
       "    (393.4460021807009, 173.0751642437893),\n",
       "    (385.5915708757926, 172.3879905461667)],\n",
       "   [(395.271433371589, 152.21039025684613),\n",
       "    (404.10766858961085, 152.98346066667153),\n",
       "    (402.2822373987227, 173.8482346536147),\n",
       "    (393.4460021807009, 173.0751642437893)]]],\n",
       " 'words': ['HOLT',\n",
       "  'meehan',\n",
       "  'moring',\n",
       "  'ALEXANDRIA',\n",
       "  'SPRINGS',\n",
       "  'DRIVE',\n",
       "  'AERIAL',\n",
       "  '527934{68{06',\n",
       "  '0166<00<95',\n",
       "  '846612716',\n",
       "  '06179672',\n",
       "  '5163rht',\n",
       "  '3200gtb+',\n",
       "  '41IG',\n",
       "  '3775slhj4',\n",
       "  '404BF76kaes',\n",
       "  'TGNO',\n",
       "  '74',\n",
       "  '811RLX',\n",
       "  '3',\n",
       "  '92ieog',\n",
       "  '525',\n",
       "  '74cl]AXU',\n",
       "  'NUDILLO',\n",
       "  'amancebar',\n",
       "  'CAPITALIDAD',\n",
       "  'discohexaster',\n",
       "  'PATENTE',\n",
       "  'TERMINOLÓGICO',\n",
       "  'dryfist',\n",
       "  'SAUVER',\n",
       "  'DEPARLIAMENT',\n",
       "  'livrées',\n",
       "  'laringe',\n",
       "  'CAVALIERISM',\n",
       "  'flatulences',\n",
       "  'SIMBIOSIS',\n",
       "  'TRIPLETT',\n",
       "  'gemiquear',\n",
       "  'rejero']}"
      ]
     },
     "execution_count": 32,
     "metadata": {},
     "output_type": "execute_result"
    }
   ],
   "source": [
    "imd.annotation"
   ]
  },
  {
   "cell_type": "code",
   "execution_count": null,
   "metadata": {},
   "outputs": [],
   "source": []
  },
  {
   "cell_type": "code",
   "execution_count": 33,
   "metadata": {},
   "outputs": [
    {
     "name": "stderr",
     "output_type": "stream",
     "text": [
      "<ipython-input-33-d3df4c3aa318>:2: UserWarning: Matplotlib is currently using agg, which is a non-GUI backend, so cannot show the figure.\n",
      "  plt.show()\n"
     ]
    }
   ],
   "source": [
    "plt.imshow(imd.characterMap)\n",
    "plt.show()"
   ]
  },
  {
   "cell_type": "code",
   "execution_count": 34,
   "metadata": {},
   "outputs": [
    {
     "ename": "NameError",
     "evalue": "name 'dssd' is not defined",
     "output_type": "error",
     "traceback": [
      "\u001b[1;31m---------------------------------------------------------------------------\u001b[0m",
      "\u001b[1;31mNameError\u001b[0m                                 Traceback (most recent call last)",
      "\u001b[1;32m<ipython-input-34-f08ed94ede23>\u001b[0m in \u001b[0;36m<module>\u001b[1;34m\u001b[0m\n\u001b[1;32m----> 1\u001b[1;33m \u001b[0mdssd\u001b[0m\u001b[1;33m\u001b[0m\u001b[1;33m\u001b[0m\u001b[0m\n\u001b[0m",
      "\u001b[1;31mNameError\u001b[0m: name 'dssd' is not defined"
     ]
    }
   ],
   "source": [
    "dssd"
   ]
  },
  {
   "cell_type": "code",
   "execution_count": null,
   "metadata": {},
   "outputs": [],
   "source": [
    "# img = Image.fromarray(imd.image).copy()\n",
    "# w, h = img.size\n",
    "# w, h = w // 2, h // 2\n",
    "# w1, h1 = imageTextGenerator.image2.size\n",
    "# w1, h1 = w1 // 2, h1 // 2\n",
    "\n",
    "# rotated = rotateRect([w-w1, h-h1, w+w1, h+h1], -imd.angle, h, w)\n",
    "\n",
    "\n",
    "# src_points = np.float32([[w-w1, h-h1], [w+w1, h-h1], [w+w1,h+h1], [w-w1,h+h1]])\n",
    "\n",
    "# dst_points = np.float32(rotated)\n",
    "# print([w,h,w1,h1])\n",
    "# print(src_points)\n",
    "# print(\"*/*/*/\")\n",
    "# print(dst_points)\n",
    "# projective_matrix = cv2.getPerspectiveTransform(src_points, dst_points)\n",
    "# w, h = img.size\n",
    "# img"
   ]
  },
  {
   "cell_type": "code",
   "execution_count": null,
   "metadata": {},
   "outputs": [],
   "source": [
    "(imd.image[:,:,-1] != 0).sum()"
   ]
  },
  {
   "cell_type": "code",
   "execution_count": null,
   "metadata": {},
   "outputs": [],
   "source": [
    "imd.image[:,:,-1].shape"
   ]
  },
  {
   "cell_type": "code",
   "execution_count": null,
   "metadata": {},
   "outputs": [],
   "source": [
    "983*1266"
   ]
  },
  {
   "cell_type": "code",
   "execution_count": null,
   "metadata": {},
   "outputs": [],
   "source": [
    "1244478 / 699733"
   ]
  },
  {
   "cell_type": "code",
   "execution_count": null,
   "metadata": {},
   "outputs": [],
   "source": [
    "img = Image.fromarray(imd.image).copy()\n",
    "for symbol in zip(imd.annotation[\"wordsCharactersRects\"]):\n",
    "\n",
    "    for k in symbol[0]:\n",
    "        rotated = np.array(k)\n",
    "        d = ImageDraw.Draw(img)\n",
    "        #rotated = rotateRect(k, imd.angle)\n",
    "    #     d.line((rotated[0], rotated[1], rotated[0], rotated[3]), fill=(100,100,100), width=2)\n",
    "    #     d.line((k[0], k[1], k[2], k[1]), fill=(100,100,100), width=2)\n",
    "    #     d.line((k[2], k[1], k[2], k[3]), fill=(100,100,100), width=2)\n",
    "    #     d.line((k[0], k[3], k[2], k[3]), fill=(100,100,100), width=2)\n",
    "        #rotated = k[0]\n",
    "        #k = k[0]\n",
    "#         rotated = k\n",
    "#         w, h = img.size\n",
    "#         w, h = w // 2, h // 2\n",
    "#         w1, h1 = imageTextGenerator.image2.size\n",
    "#         w1, h1 = w1 // 2, h1 // 2\n",
    "\n",
    "#         rotated = np.float32([ [k[0][0] + w-w1, k[0][1] + h-h1], [k[1][0] + w-w1, k[1][1]+ h-h1], \\\n",
    "#                             [k[2][0] + w-w1, k[2][1] + h-h1], [k[3][0] + w-w1, k[3][1] + h-h1]] )\n",
    "\n",
    "\n",
    "#     #     d.line((*rotated[0], *rotated[1]), fill=(195,0,0), width=1)\n",
    "#     #     d.line((*rotated[1], *rotated[2]), fill=(195,0,0), width=1)\n",
    "#     #     d.line((*rotated[2], *rotated[3]), fill=(195,0,0), width=1)\n",
    "#     #     d.line((*rotated[3], *rotated[0]), fill=(195,0,0), width=1)\n",
    "#     #     print(img.size)\n",
    "#         w, h = img.size\n",
    "#         rotated = cv2.perspectiveTransform(np.float32(rotated)[None, :, :], projective_matrix, (w,h))[0]\n",
    "#        # print(rotated)\n",
    "        #rotated = rotateRect(k,a)\n",
    "        d.line((*rotated[0], *rotated[1]), fill=(195,0,0), width=1)\n",
    "        d.line((*rotated[1], *rotated[2]), fill=(195,0,0), width=1)\n",
    "        d.line((*rotated[2], *rotated[3]), fill=(195,0,0), width=1)\n",
    "        d.line((*rotated[3], *rotated[0]), fill=(195,0,0), width=1)\n",
    "\n",
    "        #break\n",
    "img"
   ]
  },
  {
   "cell_type": "code",
   "execution_count": null,
   "metadata": {},
   "outputs": [],
   "source": []
  },
  {
   "cell_type": "code",
   "execution_count": null,
   "metadata": {},
   "outputs": [],
   "source": [
    "img = Image.fromarray(imd.image).copy()\n",
    "print(imd.annotation[\"wordRects\"][0])\n",
    "for k in zip(imd.annotation[\"wordRects\"]):\n",
    "    #print(k)\n",
    "    d = ImageDraw.Draw(img)\n",
    "    #rotated = rotateRect(k, imd.angle)\n",
    "#     d.line((rotated[0], rotated[1], rotated[0], rotated[3]), fill=(100,100,100), width=2)\n",
    "#     d.line((k[0], k[1], /k[2], k[1]), fill=(100,100,100), width=2)\n",
    "#     d.line((k[2], k[1], k[2], k[3]), fill=(100,100,100), width=2)\n",
    "#     d.line((k[0], k[3], k[2], k[3]), fill=(100,100,100), width=2)\n",
    "    rotated = k[0]\n",
    "    k = k[0]\n",
    "    rotated = k\n",
    "\n",
    "    \n",
    "    d.line((*rotated[0], *rotated[1]), fill=(195,0,0), width=1)\n",
    "    d.line((*rotated[1], *rotated[2]), fill=(195,0,0), width=1)\n",
    "    d.line((*rotated[2], *rotated[3]), fill=(195,0,0), width=1)\n",
    "    d.line((*rotated[3], *rotated[0]), fill=(195,0,0), width=1)\n",
    "\n",
    "   \n",
    "    #break\n",
    "img"
   ]
  },
  {
   "cell_type": "code",
   "execution_count": null,
   "metadata": {},
   "outputs": [],
   "source": [
    "imageTextGenerator.image2"
   ]
  },
  {
   "cell_type": "code",
   "execution_count": null,
   "metadata": {},
   "outputs": [],
   "source": [
    "imd.angle "
   ]
  },
  {
   "cell_type": "code",
   "execution_count": null,
   "metadata": {},
   "outputs": [],
   "source": [
    "angleRad = (imd.angle + 90) %180 * np.pi / 180"
   ]
  },
  {
   "cell_type": "code",
   "execution_count": null,
   "metadata": {},
   "outputs": [],
   "source": [
    "#angleRad = (-45+ 90) %180 * np.pi / 180"
   ]
  },
  {
   "cell_type": "code",
   "execution_count": null,
   "metadata": {},
   "outputs": [],
   "source": [
    "angleRad"
   ]
  },
  {
   "cell_type": "code",
   "execution_count": null,
   "metadata": {},
   "outputs": [],
   "source": [
    "h,w = imageTextGenerator.image2.size"
   ]
  },
  {
   "cell_type": "code",
   "execution_count": null,
   "metadata": {},
   "outputs": [],
   "source": [
    "!pip3 install PyQt5"
   ]
  },
  {
   "cell_type": "code",
   "execution_count": null,
   "metadata": {},
   "outputs": [],
   "source": [
    "import tkinter"
   ]
  },
  {
   "cell_type": "code",
   "execution_count": null,
   "metadata": {},
   "outputs": [],
   "source": []
  },
  {
   "cell_type": "code",
   "execution_count": null,
   "metadata": {},
   "outputs": [],
   "source": [
    "characters = set()\n",
    "for word in TextGeneratorGlobal.unicodeWords:\n",
    "    for c in word:\n",
    "        characters.add(c)\n",
    "for word in TextGeneratorGlobal.words:\n",
    "    for c in word:\n",
    "        characters.add(c)\n",
    "for word in TextGeneratorGlobal.cities:\n",
    "    for c in word:\n",
    "        characters.add(c)\n",
    "for word in TextGeneratorGlobal.digits:\n",
    "    for c in word:\n",
    "        characters.add(c)\n",
    "for word in TextGeneratorGlobal.names:\n",
    "    for c in word:\n",
    "        characters.add(c)\n",
    "        \n",
    "for word in TextGeneratorGlobal.streets:\n",
    "    for c in word:\n",
    "        characters.add(c)\n",
    "for word in TextGeneratorGlobal.surnames:\n",
    "    for c in word:\n",
    "        characters.add(c)\n",
    "for word in TextGeneratorGlobal.symbols:\n",
    "    for c in word:\n",
    "        characters.add(c)\n",
    "for c in string.punctuation:\n",
    "        characters.add(c)\n",
    "characters = list(characters)\n",
    "characters = sorted(characters)"
   ]
  },
  {
   "cell_type": "code",
   "execution_count": null,
   "metadata": {},
   "outputs": [],
   "source": [
    "string.punctuation"
   ]
  },
  {
   "cell_type": "code",
   "execution_count": null,
   "metadata": {},
   "outputs": [],
   "source": [
    "len(characters)"
   ]
  },
  {
   "cell_type": "code",
   "execution_count": null,
   "metadata": {
    "scrolled": false
   },
   "outputs": [],
   "source": [
    "#for font in [os.path.join(pathToFonts, font) for font in os.listdir(pathToFonts)]:\n",
    "for font in [os.path.join(pathToFontsUnicode, font) for font in os.listdir(pathToFontsUnicode)]:\n",
    "    print(font)\n",
    "    font = ImageFont.truetype(font, 50)\n",
    "    image =  Image.new(\"RGBA\", (10000,100), (255, 255, 255, 0))\n",
    "    draw = ImageDraw.Draw(image)\n",
    "    text = \"\".join(characters)#string.ascii_letters\n",
    "    text = '6D:21/92/0426'\n",
    "    h,w = draw.textsize(text, font=font)[::-1]\n",
    "    color = (255,255,255,255)\n",
    "    txt = Image.new('L', (w,h))\n",
    "    d = ImageDraw.Draw(txt)\n",
    "    d.text((0, 0), text,  font=font, fill=255)\n",
    "    display(txt)\n"
   ]
  },
  {
   "cell_type": "code",
   "execution_count": null,
   "metadata": {},
   "outputs": [],
   "source": [
    "txt"
   ]
  },
  {
   "cell_type": "code",
   "execution_count": null,
   "metadata": {},
   "outputs": [],
   "source": [
    "import tkinter as tk"
   ]
  },
  {
   "cell_type": "code",
   "execution_count": null,
   "metadata": {},
   "outputs": [],
   "source": [
    "!pup"
   ]
  },
  {
   "cell_type": "code",
   "execution_count": null,
   "metadata": {},
   "outputs": [],
   "source": []
  }
 ],
 "metadata": {
  "kernelspec": {
   "display_name": "diploma",
   "language": "python",
   "name": "diploma"
  },
  "language_info": {
   "codemirror_mode": {
    "name": "ipython",
    "version": 3
   },
   "file_extension": ".py",
   "mimetype": "text/x-python",
   "name": "python",
   "nbconvert_exporter": "python",
   "pygments_lexer": "ipython3",
   "version": "3.8.12"
  }
 },
 "nbformat": 4,
 "nbformat_minor": 2
}
