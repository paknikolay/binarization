{
 "cells": [
  {
   "cell_type": "code",
   "execution_count": 1,
   "id": "f501d248",
   "metadata": {},
   "outputs": [],
   "source": [
    "import xml.etree.ElementTree as ET\n",
    "import os\n",
    "import numpy as np\n",
    "import math\n",
    "import json\n",
    "import matplotlib.pyplot as plt"
   ]
  },
  {
   "cell_type": "code",
   "execution_count": 2,
   "id": "104ac907",
   "metadata": {},
   "outputs": [],
   "source": [
    "%config Completer.use_jedi = False"
   ]
  },
  {
   "cell_type": "code",
   "execution_count": 3,
   "id": "59202543",
   "metadata": {},
   "outputs": [],
   "source": [
    "# pathBatch = \"../real/real/real/ALASKA_photo\"\n",
    "# markupPath = os.path.join(pathBatch, \"Markup\")\n",
    "# imagePath = os.path.join(pathBatch, \"Image\")"
   ]
  },
  {
   "cell_type": "code",
   "execution_count": 4,
   "id": "92026641",
   "metadata": {},
   "outputs": [],
   "source": [
    "import numpy as np\n",
    "import cv2\n",
    "import math\n",
    "from math import exp\n",
    "\n",
    "\n",
    "def pointAngle(Apoint, Bpoint):\n",
    "    angle = (Bpoint[1] - Apoint[1]) / ((Bpoint[0] - Apoint[0]) + 10e-8)\n",
    "    return angle\n",
    "\n",
    "def pointDistance(Apoint, Bpoint):\n",
    "    return math.sqrt((Bpoint[1] - Apoint[1])**2 + (Bpoint[0] - Apoint[0])**2)\n",
    "\n",
    "def lineBiasAndK(Apoint, Bpoint):\n",
    "    K = pointAngle(Apoint, Bpoint)\n",
    "    B = Apoint[1] - K*Apoint[0]\n",
    "    return K, B\n",
    "\n",
    "def getX(K, B, Ypoint):\n",
    "    return int((Ypoint-B)/K)\n",
    "\n",
    "def sidePoint(Apoint, Bpoint, h, w, placehold):\n",
    "\n",
    "    K, B = lineBiasAndK(Apoint, Bpoint)\n",
    "    angle = abs(math.atan(pointAngle(Apoint, Bpoint)))\n",
    "    distance = pointDistance(Apoint, Bpoint)\n",
    "\n",
    "    halfIncreaseDistance = 0.5 * distance\n",
    "\n",
    "    XaxisIncreaseDistance = abs(math.cos(angle) * halfIncreaseDistance)\n",
    "    YaxisIncreaseDistance = abs(math.sin(angle) * halfIncreaseDistance)\n",
    "\n",
    "    if placehold == 'leftTop':\n",
    "        x1 = max(0, Apoint[0] - XaxisIncreaseDistance)\n",
    "        y1 = max(0, Apoint[1] - YaxisIncreaseDistance)\n",
    "    elif placehold == 'rightTop':\n",
    "        x1 = min(w, Bpoint[0] + XaxisIncreaseDistance)\n",
    "        y1 = max(0, Bpoint[1] - YaxisIncreaseDistance)\n",
    "    elif placehold == 'rightBottom':\n",
    "        x1 = min(w, Bpoint[0] + XaxisIncreaseDistance)\n",
    "        y1 = min(h, Bpoint[1] + YaxisIncreaseDistance)\n",
    "    elif placehold == 'leftBottom':\n",
    "        x1 = max(0, Apoint[0] - XaxisIncreaseDistance)\n",
    "        y1 = min(h, Apoint[1] + YaxisIncreaseDistance)\n",
    "\n",
    "    return int(x1), int(y1)\n",
    "\n",
    "# 将box扩大1.5倍\n",
    "def enlargebox(box, h, w):\n",
    "   # print(box)\n",
    "    # box = [Apoint, Bpoint, Cpoint, Dpoint]\n",
    "    Apoint, Bpoint, Cpoint, Dpoint = box\n",
    "    K1, B1 = lineBiasAndK(box[0], box[2])\n",
    "    K2, B2 = lineBiasAndK(box[3], box[1])\n",
    "    X = (B2 - B1)/(K1 - K2)\n",
    "    Y = K1 * X + B1\n",
    "    center = [X, Y]\n",
    "\n",
    "    x1, y1 = sidePoint(Apoint, center, h, w, 'leftTop')\n",
    "    x2, y2 = sidePoint(center, Bpoint, h, w, 'rightTop')\n",
    "    x3, y3 = sidePoint(center, Cpoint, h, w, 'rightBottom')\n",
    "    x4, y4 = sidePoint(Dpoint, center, h, w, 'leftBottom')\n",
    "    newcharbox = np.array([[x1, y1], [x2, y2], [x3, y3], [x4, y4]])\n",
    "    return newcharbox\n",
    "\n",
    "# coding=utf-8\n",
    "from math import exp\n",
    "import numpy as np\n",
    "import cv2\n",
    "import os\n",
    "import math\n",
    "#from gaussianMap import imgproc\n",
    "#from data.boxEnlarge import enlargebox\n",
    "\n",
    "\n",
    "class GaussianTransformer(object):\n",
    "\n",
    "    def __init__(self, imgSize=200, enlargeSize=1.50):\n",
    "        self.imgSize = imgSize\n",
    "        isotropicGrayscaleImage, isotropicGrayscaleImageColor = self.gen_gaussian_heatmap()\n",
    "        self.standardGaussianHeat = isotropicGrayscaleImage\n",
    "        self.enlargeSize = enlargeSize\n",
    "        # color_gaussian = cv2.applyColorMap(self.standardGaussianHeat, cv2.COLORMAP_JET)\n",
    "        # cv2.imshow(\"test\", color_gaussian)\n",
    "        # cv2.waitKey(0)\n",
    "        # self._test()\n",
    "\n",
    "    def gen_gaussian_heatmap(self):\n",
    "        circle_mask = self.gen_circle_mask()\n",
    "        imgSize = self.imgSize\n",
    "        isotropicGrayscaleImage = np.zeros((imgSize, imgSize), np.float32)\n",
    "\n",
    "        # scaledGaussian = lambda x: exp(-((x ** 2)/(2 * (40 **2)))) * (1 / sqrt(2 * pi * (40 **2)))\n",
    "        # scaledGaussian = lambda x: exp(-((x ** 2) / (2 * (40 ** 2))))\n",
    "\n",
    "        # 生成高斯图\n",
    "        for i in range(imgSize):\n",
    "            for j in range(imgSize):\n",
    "                isotropicGrayscaleImage[i, j] = 1 / 2 / np.pi / (40 ** 2) * np.exp(\n",
    "                    -1 / 2 * ((i - imgSize / 2) ** 2 / (40 ** 2) + (j - imgSize / 2) ** 2 / (40 ** 2)))\n",
    "        # 如果要可视化对比正方形和最大内切圆高斯图的区别，注释下面这行即可\n",
    "        isotropicGrayscaleImage = isotropicGrayscaleImage * circle_mask\n",
    "        isotropicGrayscaleImage = (isotropicGrayscaleImage / np.max(isotropicGrayscaleImage)).astype(np.float32)\n",
    "\n",
    "        isotropicGrayscaleImage = (isotropicGrayscaleImage / np.max(isotropicGrayscaleImage) * 255).astype(np.uint8)\n",
    "        isotropicGrayscaleImageColor = cv2.applyColorMap(isotropicGrayscaleImage, cv2.COLORMAP_JET)\n",
    "        return isotropicGrayscaleImage, isotropicGrayscaleImageColor\n",
    "\n",
    "    # 生成高斯图的mask，对于正方形的高斯图来说，只将最大内切圆作为字符的高斯图区域去学习\n",
    "    # 在初版开源的高斯图生成中，是将正方形完整区域作为高斯图的\n",
    "    # 新的方法可视化后与作者论文中展示的可视化效果是完全一致的\n",
    "    def gen_circle_mask(self):\n",
    "        imgSize = self.imgSize\n",
    "        circle_img = np.zeros((imgSize, imgSize), np.float32)\n",
    "        circle_mask = cv2.circle(circle_img, (imgSize//2, imgSize//2), imgSize//2, 1, -1)\n",
    "\n",
    "        # circle_mask = cv2.circle(circle_img, (imgSize//2, imgSize//2), imgSize//2, 255, -1)\n",
    "        # circle_mask = cv2.applyColorMap(circle_mask, cv2.COLORMAP_JET)\n",
    "        # cv2.imshow(\"circle\", circle_mask)\n",
    "        # cv2.waitKey(0)\n",
    "        return circle_mask\n",
    "\n",
    "    # 将原始的box扩大1.5倍\n",
    "    # 仅仅作用于正矩形，不规则四边形无效， 请参考data/boEnlarge文件\n",
    "    def enlargeBox(self, box, imgh, imgw):\n",
    "        boxw = box[1][0] - box[0][0]\n",
    "        boxh = box[2][1] - box[1][1]\n",
    "\n",
    "        if imgh <= boxh or imgw <= boxw:\n",
    "            return box\n",
    "\n",
    "        enlargew = boxw * 0.5\n",
    "        enlargeh = boxh * 0.5\n",
    "\n",
    "        # box扩大这部分为了清晰，code写的比较冗余\n",
    "        # 左上角顶点扩充后坐标， 剩下点顺时针以此类推\n",
    "        box[0][0], box[0][1] = max(0, box[0][0] - int(enlargew*0.5)), max(0, box[0][1] - int(enlargeh*0.5))\n",
    "        box[1][0], box[1][1] = min(imgw, box[1][0] + int(enlargew*0.5)), max(0, box[1][1] - int(enlargeh*0.5))\n",
    "        box[2][0], box[2][1] = min(imgw, box[2][0] + int(enlargew*0.5)), min(imgh, box[2][1] + int(enlargeh*0.5))\n",
    "        box[3][0], box[3][1] = max(0, box[3][0] - int(enlargew*0.5)), min(imgh, box[3][1] + int(enlargeh*0.5))\n",
    "\n",
    "        return box\n",
    "\n",
    "    def four_point_transform(self, target_bbox, save_dir=None):\n",
    "        '''\n",
    "        :param target_bbox:目标bbox\n",
    "        :param save_dir:如果不是None，则保存图片到save_dir中\n",
    "        :return:\n",
    "        '''\n",
    "        width, height = np.max(target_bbox[:, 0]).astype(np.int32), np.max(target_bbox[:, 1]).astype(np.int32)\n",
    "        right = self.standardGaussianHeat.shape[1] - 1\n",
    "        bottom = self.standardGaussianHeat.shape[0] - 1\n",
    "        ori = np.array([[0, 0], [right, 0],\n",
    "                        [right, bottom],\n",
    "                        [0, bottom]], dtype=\"float32\")\n",
    "        M = cv2.getPerspectiveTransform(ori, target_bbox)\n",
    "        warped = cv2.warpPerspective(self.standardGaussianHeat.copy(), M, (int(width), int(height)))\n",
    "        warped = np.array(warped, np.uint8)\n",
    "        if save_dir:\n",
    "            warped_color = cv2.applyColorMap(warped, cv2.COLORMAP_JET)\n",
    "            cv2.imwrite(os.path.join(save_dir, 'warped.jpg'), warped_color)\n",
    "\n",
    "        return warped, width, height\n",
    "\n",
    "    def add_character(self, image, bbox, singal = None):\n",
    "        # bbox = self.enlargeBox(bbox, image.shape[0], image.shape[1])\n",
    "        bbxo_copy = bbox.copy()\n",
    "        bbox = enlargebox(bbox, image.shape[0], image.shape[1])\n",
    "        if singal == \"affinity\":\n",
    "            bbox[0][0], bbox[1][0], bbox[2][0], bbox[3][0] = bbxo_copy[0][0], bbxo_copy[1][0], bbxo_copy[2][0], bbxo_copy[3][0]\n",
    "\n",
    "        # bbox = np.array([[45, 135], [135, 135], [135, 295], [45, 295]], dtype=np.float32)\n",
    "\n",
    "        if np.any(bbox < 0) or np.any(bbox[:, 0] > image.shape[1]) or np.any(bbox[:, 1] > image.shape[0]):\n",
    "            return image\n",
    "        ori_box = bbox\n",
    "        top_left = np.array([np.min(bbox[:, 0]), np.min(bbox[:, 1])]).astype(np.int32)\n",
    "        point = top_left\n",
    "        bbox -= top_left[None, :]\n",
    "        transformed, width, height = self.four_point_transform(bbox.astype(np.float32))\n",
    "        # if width * height < 10:\n",
    "        #     return image\n",
    "        try:\n",
    "            score_map = image[top_left[1]:top_left[1] + transformed.shape[0],\n",
    "                        top_left[0]:top_left[0] + transformed.shape[1]]\n",
    "            score_map = np.where(transformed > score_map, transformed, score_map)\n",
    "            image[top_left[1]:top_left[1] + transformed.shape[0],\n",
    "            top_left[0]:top_left[0] + transformed.shape[1]] = score_map\n",
    "        except Exception as e:\n",
    "            # print('tansformed shape:{}\\n image top_left shape:{}\\n top transformed shape:{}\\n width and hright:{}\\n ori box:{}\\n top left:{}\\n point:{}\\n min width height:{}\\n bbox:{}\\n'\n",
    "            #       .format(transformed.shape, image[top_left[1]:top_left[1],\n",
    "            # top_left[0]:top_left[0]].shape, image[top_left[1]:top_left[1] + transformed.shape[0],\n",
    "            # top_left[0]:top_left[0] + transformed.shape[1]].shape, (width, height), ori_box, top_left,point,\n",
    "            #       np.array([np.min(ori_box[:, 0]), np.min(ori_box[:, 1])]).astype(np.int32),\n",
    "            #       ori_box-np.array([np.min(ori_box[:, 0]), np.min(ori_box[:, 1])]).astype(np.int32)))\n",
    "            print('second filter {} {} {}'.format(width,height,singal))\n",
    "        return image\n",
    "\n",
    "    def add_affinity(self, image, bbox_1, bbox_2):\n",
    "        center_1, center_2 = np.mean(bbox_1, axis=0), np.mean(bbox_2, axis=0)\n",
    "        tl = (bbox_1[0:2].sum(0) + center_1) / 3\n",
    "        bl = (bbox_2[0:2].sum(0) + center_2) / 3\n",
    "        tr = (bbox_2[2:4].sum(0) + center_2) / 3\n",
    "        br = (bbox_1[2:4].sum(0) + center_1) / 3\n",
    "\n",
    "        affinity = np.array([tl, bl, tr, br]).astype(np.float32)\n",
    "        # tl = np.mean([bbox_1[0], bbox_1[1], center_1], axis=0)\n",
    "        # bl = np.mean([bbox_1[2], bbox_1[3], center_1], axis=0)\n",
    "        # tr = np.mean([bbox_2[0], bbox_2[1], center_2], axis=0)\n",
    "        # br = np.mean([bbox_2[2], bbox_2[3], center_2], axis=0)\n",
    "        #\n",
    "        # affinity = np.array([tl, tr, br, bl])\n",
    "\n",
    "        return self.add_character(image, affinity.copy(), singal='affinity'), np.expand_dims(affinity, axis=0)\n",
    "\n",
    "    def generate_region(self, image_size, bboxes):\n",
    "        height, width = image_size\n",
    "        target = np.zeros([height, width], dtype=np.float32)\n",
    "        for i in range(len(bboxes)):\n",
    "            character_bbox = np.array(bboxes[i])\n",
    "            for j in range(bboxes[i].shape[0]):\n",
    "                target = self.add_character(target, character_bbox[j], singal='region')\n",
    "\n",
    "        return target\n",
    "\n",
    "    def saveGaussianHeat(self):\n",
    "        images_folder = os.path.abspath(os.path.dirname(__file__)) + '/images'\n",
    "        cv2.imwrite(os.path.join(images_folder, 'standard.jpg'), self.standardGaussianHeat)\n",
    "        warped_color = cv2.applyColorMap(self.standardGaussianHeat, cv2.COLORMAP_JET)\n",
    "        cv2.imwrite(os.path.join(images_folder, 'standard_color.jpg'), warped_color)\n",
    "        standardGaussianHeat1 = self.standardGaussianHeat.copy()\n",
    "        standardGaussianHeat1[standardGaussianHeat1 < (0.4 * 255)] = 255\n",
    "        threshhold_guassian = cv2.applyColorMap(standardGaussianHeat1, cv2.COLORMAP_JET)\n",
    "        cv2.imwrite(os.path.join(images_folder, 'threshhold_guassian.jpg'), threshhold_guassian)\n",
    "\n",
    "    def generate_affinity(self, image_size, bboxes, words):\n",
    "        height, width = image_size\n",
    "        target = np.zeros([height, width], dtype=np.float32)\n",
    "        affinities = []\n",
    "        for i in range(len(words)):\n",
    "            character_bbox = np.array(bboxes[i])\n",
    "            total_letters = 0\n",
    "            for char_num in range(character_bbox.shape[0] - 1):\n",
    "                target, affinity = self.add_affinity(target, character_bbox[total_letters],\n",
    "                                                     character_bbox[total_letters + 1])\n",
    "                affinities.append(affinity)\n",
    "                total_letters += 1\n",
    "        if len(affinities) > 0:\n",
    "            affinities = np.concatenate(affinities, axis=0)\n",
    "        return target, affinities"
   ]
  },
  {
   "cell_type": "code",
   "execution_count": 5,
   "id": "86ce3fdb",
   "metadata": {},
   "outputs": [],
   "source": [
    "def calcClockWise(v1,v2):\n",
    "    return v1[0]*v2[1] - v1[1]*v2[0] >= 0"
   ]
  },
  {
   "cell_type": "code",
   "execution_count": 6,
   "id": "b4ed40e8",
   "metadata": {},
   "outputs": [],
   "source": [
    "# import the necessary packages\n",
    "from scipy.spatial import distance as dist\n",
    "import numpy as np\n",
    "import cv2\n",
    "def order_points(pts):\n",
    "    # sort the points based on their x-coordinates\n",
    "    xSorted = pts[np.argsort(pts[:, 0]), :]\n",
    "    # grab the left-most and right-most points from the sorted\n",
    "    # x-roodinate points\n",
    "    leftMost = xSorted[:2, :]\n",
    "    rightMost = xSorted[2:, :]\n",
    "    # now, sort the left-most coordinates according to their\n",
    "    # y-coordinates so we can grab the top-left and bottom-left\n",
    "    # points, respectively\n",
    "    leftMost = leftMost[np.argsort(leftMost[:, 1]), :]\n",
    "    (tl, bl) = leftMost\n",
    "    # now that we have the top-left coordinate, use it as an\n",
    "    # anchor to calculate the Euclidean distance between the\n",
    "    # top-left and right-most points; by the Pythagorean\n",
    "    # theorem, the point with the largest distance will be\n",
    "    # our bottom-right point\n",
    "    D = dist.cdist(tl[np.newaxis], rightMost, \"euclidean\")[0]\n",
    "    (br, tr) = rightMost[np.argsort(D)[::-1], :]\n",
    "    # return the coordinates in top-left, top-right,\n",
    "    # bottom-right, and bottom-left order\n",
    "    return np.array([tl, tr, br, bl], dtype=\"float32\")"
   ]
  },
  {
   "cell_type": "code",
   "execution_count": 7,
   "id": "7221c41b",
   "metadata": {},
   "outputs": [],
   "source": [
    "def sortPoint(points):\n",
    "#     print(\"!\")\n",
    "#     print(points)\n",
    "    size = len(points[0])\n",
    "    if (points[0][0] < points[1][0] or (points[0][0] == points[1][0] and points[0][1] > points[1][1])) \\\n",
    "        and (points[0][0] < points[2][0] or (points[0][0] == points[2][0] and points[0][1] > points[2][1])) \\\n",
    "        and (points[0][0] < points[3][0] or (points[0][0] == points[3][0] and points[0][1] > points[3][1])):\n",
    "        leftTopIndex = 0\n",
    "    elif (points[1][0] < points[0][0] or (points[1][0] == points[0][0] and points[1][1] > points[0][1])) \\\n",
    "        and (points[1][0] < points[2][0] or (points[1][0] == points[2][0] and points[1][1] > points[2][1])) \\\n",
    "        and (points[1][0] < points[3][0] or (points[1][0] == points[3][0] and points[1][1] > points[3][1])):\n",
    "        leftTopIndex = 1\n",
    "    elif (points[2][0] < points[1][0]  or (points[2][0] == points[1][0] and points[2][1] > points[1][1])) \\\n",
    "        and (points[2][0] < points[0][0] or (points[2][0] == points[0][0] and points[2][1] > points[0][1])) \\\n",
    "        and (points[2][0] < points[3][0] or (points[2][0] == points[3][0] and points[2][1] > points[3][1])):\n",
    "        leftTopIndex = 2\n",
    "    else:\n",
    "        leftTopIndex = 3\n",
    "#     print(\"left\" + str(leftTopIndex))\n",
    "    \n",
    "    inds = [0,1,2,3]\n",
    "    inds.remove(leftTopIndex)\n",
    "    \n",
    "    v1 = points[inds[0]] - points[leftTopIndex]\n",
    "    v2 = points[inds[1]] - points[inds[0]]\n",
    "    v3 = points[inds[2]] - points[inds[0]]\n",
    "    if calcClockWise(v1, v2) != calcClockWise(v1,v3):\n",
    "        nextNextIndex = inds[0]        \n",
    "    else:\n",
    "        v1 = points[inds[1]] - points[leftTopIndex]\n",
    "        v2 = points[inds[2]] - points[inds[1]]\n",
    "        v3 = points[inds[0]] - points[inds[1]]\n",
    "        if calcClockWise(v1, v2) != calcClockWise(v1,v3):\n",
    "            nextNextIndex = inds[1]\n",
    "        else:\n",
    "            v1 = points[inds[2]] - points[leftTopIndex]\n",
    "            v2 = points[inds[1]] - points[inds[2]]\n",
    "            v3 = points[inds[0]] - points[inds[2]]\n",
    "            print(v1)\n",
    "            print(v2)\n",
    "            print(v3)\n",
    "            print(calcClockWise(v1, v2))\n",
    "            print(calcClockWise(v1,v3))\n",
    "            assert(calcClockWise(v1, v2) != calcClockWise(v1,v3))\n",
    "            nextNextIndex = inds[2]\n",
    "#     print(\"diag\" + str(nextNextIndex))\n",
    "    v1 = points[nextNextIndex] - points[leftTopIndex]\n",
    "    v2 = points[inds[0]] - points[nextNextIndex]\n",
    "    v3 = points[inds[1]] - points[nextNextIndex]\n",
    "    if not calcClockWise(v1, v2):\n",
    "        nextClockWiseIndex = inds[0]\n",
    "        lastIndex = inds[1]\n",
    "    else:\n",
    "        assert(not calcClockWise(v1, v3))\n",
    "        nextClockWiseIndex = inds[1]\n",
    "        lastIndex = inds[0]\n",
    "        \n",
    "#     print(\"cclockw\" + str(nextClockWiseIndex))\n",
    "    return np.array((points[leftTopIndex],points[nextClockWiseIndex],points[nextNextIndex],points[lastIndex]))"
   ]
  },
  {
   "cell_type": "code",
   "execution_count": 8,
   "id": "c11e1905",
   "metadata": {},
   "outputs": [],
   "source": [
    "def check(points):\n",
    "    return\n",
    "#     assert ( (points[0][0] < points[1][0] or (points[0][0] == points[1][0] and points[0][1] > points[1][1])) \\\n",
    "#         and (points[0][0] < points[2][0] or (points[0][0] == points[2][0] and points[0][1] > points[2][1])) \\\n",
    "#         and (points[0][0] < points[3][0] or (points[0][0] == points[3][0] and points[0][1] > points[3][1])) )\n"
   ]
  },
  {
   "cell_type": "code",
   "execution_count": 9,
   "id": "0e7c02d2",
   "metadata": {},
   "outputs": [],
   "source": [
    "def getCharactersRects(rotated, word, imageW):\n",
    "    cumW = 0\n",
    "    W1 =  rotated[0][0] - rotated[1][0]\n",
    "    H1 =  rotated[0][1] - rotated[1][1]\n",
    "    \n",
    "    W2 =  0#rotated[0][0] - rotated[3][0]\n",
    "    H2 =  rotated[0][1] - rotated[1][1]\n",
    "    H3 = rotated[2][1] - rotated[3][1]\n",
    "    W = np.sqrt(W1**2 + H1**2)\n",
    "    HTop = -np.sqrt(W2**2 + H2**2)\n",
    "    HBottom = -(rotated[3][1] - rotated[2][1])\n",
    "    \n",
    "    W2 =  rotated[0][0] - rotated[3][0]\n",
    "    H2 =  rotated[0][1] - rotated[3][1]\n",
    "    HH = np.sqrt(W2**2 + H2**2)\n",
    "    if HH >= W and len(word) > 4:\n",
    "        return None #вертикальный текст\n",
    "    characersResultRects = []\n",
    "    cumW = 0\n",
    "    w = W  / len(word)\n",
    "    check(rotated)\n",
    "#     characersResultRects.append([(rotated[0][0], imageW -rotated[0][1]), \\\n",
    "#                                  (rotated[0][0]+W, imageW -(rotated[0][1]-H)),\\\n",
    "#                                  (rotated[0][0], imageW -rotated[0][1]), (rotated[0][0]+W, imageW -(rotated[0][1]-H))])\n",
    "    \n",
    "    for i in range(len(word)):\n",
    "        cumW += w\n",
    "        rect = np.array([\n",
    "            (rotated[0][0] + (cumW - w), imageW - (rotated[3][1] + (cumW - w)/ W * HBottom)), \\\n",
    "            (rotated[0][0] + (cumW - w), imageW - (rotated[1][1] + (cumW)/ W * HTop)), \\\n",
    "            (rotated[0][0] + cumW, imageW - (rotated[1][1] + (cumW)/ W* HTop)),\\\n",
    "            (rotated[0][0] + cumW, imageW - (rotated[3][1] + (cumW-w) / W * HBottom))\\\n",
    "        ])\n",
    "        rect = order_points(rect)\n",
    "        if isRectEmpty(rect):\n",
    "            continue\n",
    "        assert(not isRectEmpty(rect))\n",
    "        characersResultRects.append(rect.tolist())\n",
    "    if len(characersResultRects) == 0:\n",
    "        return None\n",
    "    return characersResultRects"
   ]
  },
  {
   "cell_type": "code",
   "execution_count": 10,
   "id": "148e2444",
   "metadata": {},
   "outputs": [],
   "source": [
    "def isRectEmpty(rect):\n",
    "    if rect[0][0] == rect[1][0] and rect[1][0] == rect[2][0] and rect[3][0] == rect[1][0]:\n",
    "        return True\n",
    "    if rect[0][1] == rect[1][1] and rect[1][1] == rect[2][1] and rect[3][1] == rect[1][1]:\n",
    "        return True\n",
    "    return False"
   ]
  },
  {
   "cell_type": "code",
   "execution_count": 11,
   "id": "4554147d",
   "metadata": {},
   "outputs": [],
   "source": [
    "def getAnnotation(root, W):\n",
    "    annotation = dict()\n",
    "    annotation[\"wordRects\"] = []\n",
    "    annotation[\"words\"] = []\n",
    "    annotation[\"wordsCharactersRects\"] = []\n",
    "    #print(root[0][0])\n",
    "    hasdata = False\n",
    "    for child in root[0][0]:\n",
    "#         if child[0].text != \"Eyes\":\n",
    "#             continue\n",
    "#         print(\"__\")\\\n",
    "        #print(child.attrib)\n",
    "        if child[0].text is None:\n",
    "            continue\n",
    "            \n",
    "                    \n",
    "        att = child.attrib\n",
    "        rect = [(att[\"x0\"], W - int(att[\"y0\"])), (att[\"x1\"], W -int(att[\"y1\"])), \\\n",
    "                (att[\"x2\"], W - int(att[\"y2\"])), (att[\"x3\"], W -int(att[\"y3\"]))]\n",
    "        \n",
    "        rect = np.array(rect, dtype=np.int)\n",
    "        rect = order_points(rect)#sortPoint(rect)\n",
    "        if isRectEmpty(rect):\n",
    "            continue\n",
    "#         print(rect)\n",
    "#         print(\"*******************\")\n",
    "        text = child[0].text\n",
    "        charRects = getCharactersRects(rect, text, W)\n",
    "        if charRects is None:\n",
    "            continue\n",
    "        hasdata = True\n",
    "        annotation[\"wordRects\"].append([(rect[0][0], W - rect[0][1]), (rect[1][0], W - rect[1][1]), \\\n",
    "                                        (rect[2][0], W - rect[2][1]), (rect[3][0], W - rect[3][1])])\n",
    "        annotation[\"wordRects\"][-1] = np.array(annotation[\"wordRects\"][-1]).tolist()\n",
    "        \n",
    "        annotation[\"words\"].append(text)\n",
    "        annotation[\"wordsCharactersRects\"].append(charRects)\n",
    "        #print(text)\n",
    "        for charR in charRects:\n",
    "            assert(not isRectEmpty(charR))\n",
    "    if hasdata:\n",
    "        return annotation\n",
    "    return None"
   ]
  },
  {
   "cell_type": "code",
   "execution_count": 12,
   "id": "80d8dfcd",
   "metadata": {},
   "outputs": [],
   "source": [
    "from PIL import Image, ImageFont, ImageDraw\n",
    "def getAnnotationImage(image, annotation):\n",
    "    img = image.copy()\n",
    "    d = ImageDraw.Draw(img)\n",
    "    ind = 0\n",
    "    d.line((0,0,100,100), fill=(255,255,255), width=20)\n",
    "    for rotated, characters, text in zip(annotation[\"wordRects\"], annotation[\"wordsCharactersRects\"], annotation[\"words\"]):\n",
    "        d = ImageDraw.Draw(img)\n",
    "        ind = ind + 1\n",
    "#         print(text)\n",
    "#         print(rotated)\n",
    "#         d.line((rotated[0][0], rotated[0][1], rotated[1][0], rotated[1][1]), fill=(0,0,0), width=2)\n",
    "#         d.line((rotated[1][0], rotated[1][1], rotated[2][0], rotated[2][1]), fill=(0,0,255), width=5)\n",
    "#         d.line((rotated[2][0], rotated[2][1], rotated[3][0], rotated[3][1]), fill=(0,255,0), width=10)\n",
    "#         d.line((rotated[3][0], rotated[3][1], rotated[0][0], rotated[0][1]), fill=(255,0,0), width=20)\n",
    "        if characters is not None:\n",
    "            for c in characters:\n",
    "\n",
    "                c = np.array(c, dtype=np.int)\n",
    "                #print(c)\n",
    "                d.line((c[0][0], c[0][1], c[1][0], c[1][1]), fill=(0,0,255), width=2)\n",
    "                d.line((c[1][0], c[1][1], c[2][0], c[2][1]), fill=(255,0,255), width=2)\n",
    "                d.line((c[2][0], c[2][1], c[3][0], c[3][1]), fill=(255,0,255), width=2)\n",
    "                d.line((c[3][0], c[3][1], c[0][0], c[0][1]), fill=(255,0,255), width=2)\n",
    "    return img"
   ]
  },
  {
   "cell_type": "code",
   "execution_count": null,
   "id": "d2271c53",
   "metadata": {},
   "outputs": [],
   "source": []
  },
  {
   "cell_type": "code",
   "execution_count": 13,
   "id": "94c1af0a",
   "metadata": {},
   "outputs": [],
   "source": [
    "pathToOutDir = R\"D:\\Data\\Diploma\\real\\dataset//\"\n",
    "pathToGenerated = pathToOutDir + \"generated\"\n",
    "pathToGT = pathToOutDir + \"gt\""
   ]
  },
  {
   "cell_type": "code",
   "execution_count": null,
   "id": "2db95898",
   "metadata": {},
   "outputs": [],
   "source": []
  },
  {
   "cell_type": "code",
   "execution_count": 14,
   "id": "64aa28f3",
   "metadata": {},
   "outputs": [],
   "source": [
    "from tqdm import tqdm_notebook as tn"
   ]
  },
  {
   "cell_type": "code",
   "execution_count": 15,
   "id": "1950a85c",
   "metadata": {
    "scrolled": true
   },
   "outputs": [
    {
     "name": "stderr",
     "output_type": "stream",
     "text": [
      "<ipython-input-15-21e8eccc2956>:7: TqdmDeprecationWarning: This function will be removed in tqdm==5.0.0\n",
      "Please use `tqdm.notebook.tqdm` instead of `tqdm.tqdm_notebook`\n",
      "  for batch in tn(os.listdir(pathToData)):\n"
     ]
    },
    {
     "data": {
      "application/vnd.jupyter.widget-view+json": {
       "model_id": "0d42f67e191c4a80b3409c609144bfa1",
       "version_major": 2,
       "version_minor": 0
      },
      "text/plain": [
       "HBox(children=(HTML(value=''), FloatProgress(value=0.0, max=92.0), HTML(value='')))"
      ]
     },
     "metadata": {},
     "output_type": "display_data"
    },
    {
     "name": "stderr",
     "output_type": "stream",
     "text": [
      "<ipython-input-15-21e8eccc2956>:14: TqdmDeprecationWarning: This function will be removed in tqdm==5.0.0\n",
      "Please use `tqdm.notebook.tqdm` instead of `tqdm.tqdm_notebook`\n",
      "  for file in tn(os.listdir(markupPath)):\n"
     ]
    },
    {
     "data": {
      "application/vnd.jupyter.widget-view+json": {
       "model_id": "53885f052a88470991578005408948ec",
       "version_major": 2,
       "version_minor": 0
      },
      "text/plain": [
       "HBox(children=(HTML(value=''), FloatProgress(value=0.0, max=10.0), HTML(value='')))"
      ]
     },
     "metadata": {},
     "output_type": "display_data"
    },
    {
     "name": "stderr",
     "output_type": "stream",
     "text": [
      "<ipython-input-11-a6a878ae2cca>:21: DeprecationWarning: `np.int` is a deprecated alias for the builtin `int`. To silence this warning, use `int` by itself. Doing this will not modify any behavior and is safe. When replacing `np.int`, you may wish to use e.g. `np.int64` or `np.int32` to specify the precision. If you wish to review your current use, check the release note link for additional information.\n",
      "Deprecated in NumPy 1.20; for more details and guidance: https://numpy.org/devdocs/release/1.20.0-notes.html#deprecations\n",
      "  rect = np.array(rect, dtype=np.int)\n"
     ]
    },
    {
     "name": "stdout",
     "output_type": "stream",
     "text": [
      "D:\\Data\\Diploma\\real\\real\\real\\Train_V2\\\\ALASKA_photo\\Markup\\0000000.xml\n",
      "D:\\Data\\Diploma\\real\\dataset//gt/ALASKA_photo0000000.xmlCharMap.png\n",
      "D:\\Data\\Diploma\\real\\real\\real\\Train_V2\\\\ALASKA_photo\\Markup\\0000001.xml\n",
      "D:\\Data\\Diploma\\real\\dataset//gt/ALASKA_photo0000001.xmlCharMap.png\n",
      "D:\\Data\\Diploma\\real\\real\\real\\Train_V2\\\\ALASKA_photo\\Markup\\0000002.xml\n",
      "D:\\Data\\Diploma\\real\\dataset//gt/ALASKA_photo0000002.xmlCharMap.png\n",
      "D:\\Data\\Diploma\\real\\real\\real\\Train_V2\\\\ALASKA_photo\\Markup\\0000003.xml\n",
      "D:\\Data\\Diploma\\real\\dataset//gt/ALASKA_photo0000003.xmlCharMap.png\n",
      "D:\\Data\\Diploma\\real\\real\\real\\Train_V2\\\\ALASKA_photo\\Markup\\0000004.xml\n",
      "D:\\Data\\Diploma\\real\\dataset//gt/ALASKA_photo0000004.xmlCharMap.png\n",
      "D:\\Data\\Diploma\\real\\real\\real\\Train_V2\\\\ALASKA_photo\\Markup\\0000005.xml\n",
      "D:\\Data\\Diploma\\real\\dataset//gt/ALASKA_photo0000005.xmlCharMap.png\n",
      "D:\\Data\\Diploma\\real\\real\\real\\Train_V2\\\\ALASKA_photo\\Markup\\0000006.xml\n",
      "D:\\Data\\Diploma\\real\\dataset//gt/ALASKA_photo0000006.xmlCharMap.png\n",
      "D:\\Data\\Diploma\\real\\real\\real\\Train_V2\\\\ALASKA_photo\\Markup\\0000007.xml\n",
      "D:\\Data\\Diploma\\real\\dataset//gt/ALASKA_photo0000007.xmlCharMap.png\n",
      "D:\\Data\\Diploma\\real\\real\\real\\Train_V2\\\\ALASKA_photo\\Markup\\0000008.xml\n",
      "D:\\Data\\Diploma\\real\\dataset//gt/ALASKA_photo0000008.xmlCharMap.png\n",
      "D:\\Data\\Diploma\\real\\real\\real\\Train_V2\\\\ALASKA_photo\\Markup\\0000009.xml\n",
      "D:\\Data\\Diploma\\real\\dataset//gt/ALASKA_photo0000009.xmlCharMap.png\n",
      "\n"
     ]
    },
    {
     "data": {
      "application/vnd.jupyter.widget-view+json": {
       "model_id": "5882568a740a4b7b99d86519b0021df9",
       "version_major": 2,
       "version_minor": 0
      },
      "text/plain": [
       "HBox(children=(HTML(value=''), FloatProgress(value=0.0, max=10.0), HTML(value='')))"
      ]
     },
     "metadata": {},
     "output_type": "display_data"
    },
    {
     "name": "stdout",
     "output_type": "stream",
     "text": [
      "D:\\Data\\Diploma\\real\\real\\real\\Train_V2\\\\ALASKA_scan\\Markup\\0000000.xml\n",
      "D:\\Data\\Diploma\\real\\real\\real\\Train_V2\\\\ALASKA_scan\\Markup\\0000001.xml\n",
      "D:\\Data\\Diploma\\real\\real\\real\\Train_V2\\\\ALASKA_scan\\Markup\\0000002.xml\n",
      "D:\\Data\\Diploma\\real\\real\\real\\Train_V2\\\\ALASKA_scan\\Markup\\0000003.xml\n",
      "D:\\Data\\Diploma\\real\\real\\real\\Train_V2\\\\ALASKA_scan\\Markup\\0000004.xml\n",
      "D:\\Data\\Diploma\\real\\real\\real\\Train_V2\\\\ALASKA_scan\\Markup\\0000005.xml\n",
      "D:\\Data\\Diploma\\real\\real\\real\\Train_V2\\\\ALASKA_scan\\Markup\\0000006.xml\n",
      "D:\\Data\\Diploma\\real\\real\\real\\Train_V2\\\\ALASKA_scan\\Markup\\0000007.xml\n",
      "D:\\Data\\Diploma\\real\\real\\real\\Train_V2\\\\ALASKA_scan\\Markup\\0000008.xml\n",
      "D:\\Data\\Diploma\\real\\real\\real\\Train_V2\\\\ALASKA_scan\\Markup\\0000009.xml\n",
      "\n"
     ]
    },
    {
     "data": {
      "application/vnd.jupyter.widget-view+json": {
       "model_id": "586fea55a6d24543ab102c0f3fadb002",
       "version_major": 2,
       "version_minor": 0
      },
      "text/plain": [
       "HBox(children=(HTML(value=''), FloatProgress(value=0.0, max=20.0), HTML(value='')))"
      ]
     },
     "metadata": {},
     "output_type": "display_data"
    },
    {
     "name": "stdout",
     "output_type": "stream",
     "text": [
      "D:\\Data\\Diploma\\real\\real\\real\\Train_V2\\\\American.ID_photo\\Markup\\0000000.xml\n",
      "D:\\Data\\Diploma\\real\\dataset//gt/American.ID_photo0000000.xmlCharMap.png\n",
      "D:\\Data\\Diploma\\real\\real\\real\\Train_V2\\\\American.ID_photo\\Markup\\0000001.xml\n",
      "D:\\Data\\Diploma\\real\\dataset//gt/American.ID_photo0000001.xmlCharMap.png\n",
      "D:\\Data\\Diploma\\real\\real\\real\\Train_V2\\\\American.ID_photo\\Markup\\0000002.xml\n",
      "D:\\Data\\Diploma\\real\\dataset//gt/American.ID_photo0000002.xmlCharMap.png\n",
      "D:\\Data\\Diploma\\real\\real\\real\\Train_V2\\\\American.ID_photo\\Markup\\0000003.xml\n",
      "D:\\Data\\Diploma\\real\\dataset//gt/American.ID_photo0000003.xmlCharMap.png\n",
      "D:\\Data\\Diploma\\real\\real\\real\\Train_V2\\\\American.ID_photo\\Markup\\0000004.xml\n",
      "D:\\Data\\Diploma\\real\\dataset//gt/American.ID_photo0000004.xmlCharMap.png\n",
      "D:\\Data\\Diploma\\real\\real\\real\\Train_V2\\\\American.ID_photo\\Markup\\0000005.xml\n",
      "D:\\Data\\Diploma\\real\\dataset//gt/American.ID_photo0000005.xmlCharMap.png\n",
      "D:\\Data\\Diploma\\real\\real\\real\\Train_V2\\\\American.ID_photo\\Markup\\0000006.xml\n",
      "D:\\Data\\Diploma\\real\\dataset//gt/American.ID_photo0000006.xmlCharMap.png\n",
      "D:\\Data\\Diploma\\real\\real\\real\\Train_V2\\\\American.ID_photo\\Markup\\0000007.xml\n",
      "D:\\Data\\Diploma\\real\\dataset//gt/American.ID_photo0000007.xmlCharMap.png\n",
      "D:\\Data\\Diploma\\real\\real\\real\\Train_V2\\\\American.ID_photo\\Markup\\0000008.xml\n",
      "D:\\Data\\Diploma\\real\\dataset//gt/American.ID_photo0000008.xmlCharMap.png\n",
      "D:\\Data\\Diploma\\real\\real\\real\\Train_V2\\\\American.ID_photo\\Markup\\0000009.xml\n",
      "D:\\Data\\Diploma\\real\\dataset//gt/American.ID_photo0000009.xmlCharMap.png\n",
      "D:\\Data\\Diploma\\real\\real\\real\\Train_V2\\\\American.ID_photo\\Markup\\0000010.xml\n",
      "D:\\Data\\Diploma\\real\\dataset//gt/American.ID_photo0000010.xmlCharMap.png\n",
      "D:\\Data\\Diploma\\real\\real\\real\\Train_V2\\\\American.ID_photo\\Markup\\0000011.xml\n",
      "D:\\Data\\Diploma\\real\\dataset//gt/American.ID_photo0000011.xmlCharMap.png\n",
      "D:\\Data\\Diploma\\real\\real\\real\\Train_V2\\\\American.ID_photo\\Markup\\0000012.xml\n",
      "D:\\Data\\Diploma\\real\\dataset//gt/American.ID_photo0000012.xmlCharMap.png\n",
      "D:\\Data\\Diploma\\real\\real\\real\\Train_V2\\\\American.ID_photo\\Markup\\0000013.xml\n",
      "D:\\Data\\Diploma\\real\\dataset//gt/American.ID_photo0000013.xmlCharMap.png\n",
      "D:\\Data\\Diploma\\real\\real\\real\\Train_V2\\\\American.ID_photo\\Markup\\0000014.xml\n",
      "D:\\Data\\Diploma\\real\\dataset//gt/American.ID_photo0000014.xmlCharMap.png\n",
      "D:\\Data\\Diploma\\real\\real\\real\\Train_V2\\\\American.ID_photo\\Markup\\0000015.xml\n",
      "D:\\Data\\Diploma\\real\\dataset//gt/American.ID_photo0000015.xmlCharMap.png\n",
      "D:\\Data\\Diploma\\real\\real\\real\\Train_V2\\\\American.ID_photo\\Markup\\0000016.xml\n",
      "D:\\Data\\Diploma\\real\\dataset//gt/American.ID_photo0000016.xmlCharMap.png\n",
      "D:\\Data\\Diploma\\real\\real\\real\\Train_V2\\\\American.ID_photo\\Markup\\0000017.xml\n",
      "D:\\Data\\Diploma\\real\\dataset//gt/American.ID_photo0000017.xmlCharMap.png\n",
      "D:\\Data\\Diploma\\real\\real\\real\\Train_V2\\\\American.ID_photo\\Markup\\0000018.xml\n",
      "D:\\Data\\Diploma\\real\\dataset//gt/American.ID_photo0000018.xmlCharMap.png\n",
      "D:\\Data\\Diploma\\real\\real\\real\\Train_V2\\\\American.ID_photo\\Markup\\0000019.xml\n",
      "D:\\Data\\Diploma\\real\\dataset//gt/American.ID_photo0000019.xmlCharMap.png\n",
      "\n"
     ]
    },
    {
     "data": {
      "application/vnd.jupyter.widget-view+json": {
       "model_id": "e7e28827e97b4f70904c0c10832839d7",
       "version_major": 2,
       "version_minor": 0
      },
      "text/plain": [
       "HBox(children=(HTML(value=''), FloatProgress(value=0.0, max=14.0), HTML(value='')))"
      ]
     },
     "metadata": {},
     "output_type": "display_data"
    },
    {
     "name": "stdout",
     "output_type": "stream",
     "text": [
      "D:\\Data\\Diploma\\real\\real\\real\\Train_V2\\\\Arabic.Passport\\Markup\\0000000.xml\n",
      "D:\\Data\\Diploma\\real\\real\\real\\Train_V2\\\\Arabic.Passport\\Markup\\0000001.xml\n",
      "D:\\Data\\Diploma\\real\\real\\real\\Train_V2\\\\Arabic.Passport\\Markup\\0000002.xml\n",
      "D:\\Data\\Diploma\\real\\real\\real\\Train_V2\\\\Arabic.Passport\\Markup\\0000003.xml\n",
      "D:\\Data\\Diploma\\real\\real\\real\\Train_V2\\\\Arabic.Passport\\Markup\\0000004.xml\n",
      "D:\\Data\\Diploma\\real\\real\\real\\Train_V2\\\\Arabic.Passport\\Markup\\0000005.xml\n",
      "D:\\Data\\Diploma\\real\\real\\real\\Train_V2\\\\Arabic.Passport\\Markup\\0000006.xml\n",
      "D:\\Data\\Diploma\\real\\real\\real\\Train_V2\\\\Arabic.Passport\\Markup\\0000007.xml\n",
      "D:\\Data\\Diploma\\real\\real\\real\\Train_V2\\\\Arabic.Passport\\Markup\\0000008.xml\n",
      "D:\\Data\\Diploma\\real\\real\\real\\Train_V2\\\\Arabic.Passport\\Markup\\0000009.xml\n",
      "D:\\Data\\Diploma\\real\\real\\real\\Train_V2\\\\Arabic.Passport\\Markup\\0000010.xml\n",
      "D:\\Data\\Diploma\\real\\real\\real\\Train_V2\\\\Arabic.Passport\\Markup\\0000011.xml\n",
      "D:\\Data\\Diploma\\real\\real\\real\\Train_V2\\\\Arabic.Passport\\Markup\\0000012.xml\n",
      "D:\\Data\\Diploma\\real\\real\\real\\Train_V2\\\\Arabic.Passport\\Markup\\0000013.xml\n",
      "\n"
     ]
    },
    {
     "data": {
      "application/vnd.jupyter.widget-view+json": {
       "model_id": "4eefe335d58d458db250f55910a23d67",
       "version_major": 2,
       "version_minor": 0
      },
      "text/plain": [
       "HBox(children=(HTML(value=''), FloatProgress(value=0.0, max=125.0), HTML(value='')))"
      ]
     },
     "metadata": {},
     "output_type": "display_data"
    },
    {
     "name": "stdout",
     "output_type": "stream",
     "text": [
      "D:\\Data\\Diploma\\real\\real\\real\\Train_V2\\\\ArgentinaID\\Markup\\0000000.xml\n",
      "D:\\Data\\Diploma\\real\\dataset//gt/ArgentinaID0000000.xmlCharMap.png\n",
      "D:\\Data\\Diploma\\real\\real\\real\\Train_V2\\\\ArgentinaID\\Markup\\0000001.xml\n",
      "D:\\Data\\Diploma\\real\\dataset//gt/ArgentinaID0000001.xmlCharMap.png\n",
      "D:\\Data\\Diploma\\real\\real\\real\\Train_V2\\\\ArgentinaID\\Markup\\0000002.xml\n",
      "D:\\Data\\Diploma\\real\\dataset//gt/ArgentinaID0000002.xmlCharMap.png\n",
      "D:\\Data\\Diploma\\real\\real\\real\\Train_V2\\\\ArgentinaID\\Markup\\0000003.xml\n",
      "D:\\Data\\Diploma\\real\\dataset//gt/ArgentinaID0000003.xmlCharMap.png\n",
      "D:\\Data\\Diploma\\real\\real\\real\\Train_V2\\\\ArgentinaID\\Markup\\0000004.xml\n",
      "D:\\Data\\Diploma\\real\\dataset//gt/ArgentinaID0000004.xmlCharMap.png\n",
      "D:\\Data\\Diploma\\real\\real\\real\\Train_V2\\\\ArgentinaID\\Markup\\0000005.xml\n",
      "D:\\Data\\Diploma\\real\\dataset//gt/ArgentinaID0000005.xmlCharMap.png\n",
      "D:\\Data\\Diploma\\real\\real\\real\\Train_V2\\\\ArgentinaID\\Markup\\0000006.xml\n",
      "D:\\Data\\Diploma\\real\\dataset//gt/ArgentinaID0000006.xmlCharMap.png\n",
      "D:\\Data\\Diploma\\real\\real\\real\\Train_V2\\\\ArgentinaID\\Markup\\0000007.xml\n",
      "D:\\Data\\Diploma\\real\\dataset//gt/ArgentinaID0000007.xmlCharMap.png\n",
      "D:\\Data\\Diploma\\real\\real\\real\\Train_V2\\\\ArgentinaID\\Markup\\0000008.xml\n",
      "D:\\Data\\Diploma\\real\\dataset//gt/ArgentinaID0000008.xmlCharMap.png\n",
      "D:\\Data\\Diploma\\real\\real\\real\\Train_V2\\\\ArgentinaID\\Markup\\0000009.xml\n",
      "D:\\Data\\Diploma\\real\\dataset//gt/ArgentinaID0000009.xmlCharMap.png\n",
      "D:\\Data\\Diploma\\real\\real\\real\\Train_V2\\\\ArgentinaID\\Markup\\0000010.xml\n",
      "D:\\Data\\Diploma\\real\\dataset//gt/ArgentinaID0000010.xmlCharMap.png\n",
      "D:\\Data\\Diploma\\real\\real\\real\\Train_V2\\\\ArgentinaID\\Markup\\0000011.xml\n",
      "D:\\Data\\Diploma\\real\\dataset//gt/ArgentinaID0000011.xmlCharMap.png\n",
      "D:\\Data\\Diploma\\real\\real\\real\\Train_V2\\\\ArgentinaID\\Markup\\0000012.xml\n",
      "D:\\Data\\Diploma\\real\\dataset//gt/ArgentinaID0000012.xmlCharMap.png\n",
      "D:\\Data\\Diploma\\real\\real\\real\\Train_V2\\\\ArgentinaID\\Markup\\0000013.xml\n",
      "D:\\Data\\Diploma\\real\\dataset//gt/ArgentinaID0000013.xmlCharMap.png\n",
      "D:\\Data\\Diploma\\real\\real\\real\\Train_V2\\\\ArgentinaID\\Markup\\0000014.xml\n",
      "D:\\Data\\Diploma\\real\\dataset//gt/ArgentinaID0000014.xmlCharMap.png\n",
      "D:\\Data\\Diploma\\real\\real\\real\\Train_V2\\\\ArgentinaID\\Markup\\0000015.xml\n",
      "D:\\Data\\Diploma\\real\\dataset//gt/ArgentinaID0000015.xmlCharMap.png\n",
      "D:\\Data\\Diploma\\real\\real\\real\\Train_V2\\\\ArgentinaID\\Markup\\0000016.xml\n",
      "D:\\Data\\Diploma\\real\\dataset//gt/ArgentinaID0000016.xmlCharMap.png\n",
      "D:\\Data\\Diploma\\real\\real\\real\\Train_V2\\\\ArgentinaID\\Markup\\0000017.xml\n",
      "D:\\Data\\Diploma\\real\\dataset//gt/ArgentinaID0000017.xmlCharMap.png\n",
      "D:\\Data\\Diploma\\real\\real\\real\\Train_V2\\\\ArgentinaID\\Markup\\0000018.xml\n",
      "D:\\Data\\Diploma\\real\\dataset//gt/ArgentinaID0000018.xmlCharMap.png\n",
      "D:\\Data\\Diploma\\real\\real\\real\\Train_V2\\\\ArgentinaID\\Markup\\0000019.xml\n",
      "D:\\Data\\Diploma\\real\\dataset//gt/ArgentinaID0000019.xmlCharMap.png\n",
      "D:\\Data\\Diploma\\real\\real\\real\\Train_V2\\\\ArgentinaID\\Markup\\0000020.xml\n",
      "D:\\Data\\Diploma\\real\\dataset//gt/ArgentinaID0000020.xmlCharMap.png\n",
      "D:\\Data\\Diploma\\real\\real\\real\\Train_V2\\\\ArgentinaID\\Markup\\0000021.xml\n",
      "D:\\Data\\Diploma\\real\\dataset//gt/ArgentinaID0000021.xmlCharMap.png\n",
      "D:\\Data\\Diploma\\real\\real\\real\\Train_V2\\\\ArgentinaID\\Markup\\0000022.xml\n",
      "D:\\Data\\Diploma\\real\\dataset//gt/ArgentinaID0000022.xmlCharMap.png\n",
      "D:\\Data\\Diploma\\real\\real\\real\\Train_V2\\\\ArgentinaID\\Markup\\0000023.xml\n",
      "D:\\Data\\Diploma\\real\\dataset//gt/ArgentinaID0000023.xmlCharMap.png\n",
      "D:\\Data\\Diploma\\real\\real\\real\\Train_V2\\\\ArgentinaID\\Markup\\0000024.xml\n",
      "D:\\Data\\Diploma\\real\\dataset//gt/ArgentinaID0000024.xmlCharMap.png\n",
      "D:\\Data\\Diploma\\real\\real\\real\\Train_V2\\\\ArgentinaID\\Markup\\0000025.xml\n",
      "D:\\Data\\Diploma\\real\\dataset//gt/ArgentinaID0000025.xmlCharMap.png\n",
      "D:\\Data\\Diploma\\real\\real\\real\\Train_V2\\\\ArgentinaID\\Markup\\0000026.xml\n",
      "D:\\Data\\Diploma\\real\\dataset//gt/ArgentinaID0000026.xmlCharMap.png\n",
      "D:\\Data\\Diploma\\real\\real\\real\\Train_V2\\\\ArgentinaID\\Markup\\0000027.xml\n",
      "D:\\Data\\Diploma\\real\\dataset//gt/ArgentinaID0000027.xmlCharMap.png\n",
      "D:\\Data\\Diploma\\real\\real\\real\\Train_V2\\\\ArgentinaID\\Markup\\0000028.xml\n",
      "D:\\Data\\Diploma\\real\\dataset//gt/ArgentinaID0000028.xmlCharMap.png\n",
      "D:\\Data\\Diploma\\real\\real\\real\\Train_V2\\\\ArgentinaID\\Markup\\0000029.xml\n",
      "D:\\Data\\Diploma\\real\\dataset//gt/ArgentinaID0000029.xmlCharMap.png\n",
      "D:\\Data\\Diploma\\real\\real\\real\\Train_V2\\\\ArgentinaID\\Markup\\0000030.xml\n",
      "D:\\Data\\Diploma\\real\\dataset//gt/ArgentinaID0000030.xmlCharMap.png\n",
      "D:\\Data\\Diploma\\real\\real\\real\\Train_V2\\\\ArgentinaID\\Markup\\0000031.xml\n",
      "second filter 31 0 region\n",
      "second filter 30 0 region\n",
      "D:\\Data\\Diploma\\real\\dataset//gt/ArgentinaID0000031.xmlCharMap.png\n",
      "D:\\Data\\Diploma\\real\\real\\real\\Train_V2\\\\ArgentinaID\\Markup\\0000032.xml\n",
      "D:\\Data\\Diploma\\real\\dataset//gt/ArgentinaID0000032.xmlCharMap.png\n",
      "D:\\Data\\Diploma\\real\\real\\real\\Train_V2\\\\ArgentinaID\\Markup\\0000033.xml\n",
      "D:\\Data\\Diploma\\real\\dataset//gt/ArgentinaID0000033.xmlCharMap.png\n",
      "D:\\Data\\Diploma\\real\\real\\real\\Train_V2\\\\ArgentinaID\\Markup\\0000034.xml\n",
      "D:\\Data\\Diploma\\real\\dataset//gt/ArgentinaID0000034.xmlCharMap.png\n",
      "D:\\Data\\Diploma\\real\\real\\real\\Train_V2\\\\ArgentinaID\\Markup\\0000035.xml\n",
      "D:\\Data\\Diploma\\real\\dataset//gt/ArgentinaID0000035.xmlCharMap.png\n",
      "D:\\Data\\Diploma\\real\\real\\real\\Train_V2\\\\ArgentinaID\\Markup\\0000036.xml\n",
      "D:\\Data\\Diploma\\real\\dataset//gt/ArgentinaID0000036.xmlCharMap.png\n",
      "D:\\Data\\Diploma\\real\\real\\real\\Train_V2\\\\ArgentinaID\\Markup\\0000037.xml\n",
      "D:\\Data\\Diploma\\real\\dataset//gt/ArgentinaID0000037.xmlCharMap.png\n",
      "D:\\Data\\Diploma\\real\\real\\real\\Train_V2\\\\ArgentinaID\\Markup\\0000038.xml\n",
      "D:\\Data\\Diploma\\real\\dataset//gt/ArgentinaID0000038.xmlCharMap.png\n",
      "D:\\Data\\Diploma\\real\\real\\real\\Train_V2\\\\ArgentinaID\\Markup\\0000039.xml\n",
      "D:\\Data\\Diploma\\real\\dataset//gt/ArgentinaID0000039.xmlCharMap.png\n",
      "D:\\Data\\Diploma\\real\\real\\real\\Train_V2\\\\ArgentinaID\\Markup\\0000040.xml\n",
      "D:\\Data\\Diploma\\real\\dataset//gt/ArgentinaID0000040.xmlCharMap.png\n",
      "D:\\Data\\Diploma\\real\\real\\real\\Train_V2\\\\ArgentinaID\\Markup\\0000041.xml\n",
      "D:\\Data\\Diploma\\real\\dataset//gt/ArgentinaID0000041.xmlCharMap.png\n",
      "D:\\Data\\Diploma\\real\\real\\real\\Train_V2\\\\ArgentinaID\\Markup\\0000042.xml\n",
      "D:\\Data\\Diploma\\real\\dataset//gt/ArgentinaID0000042.xmlCharMap.png\n",
      "D:\\Data\\Diploma\\real\\real\\real\\Train_V2\\\\ArgentinaID\\Markup\\0000043.xml\n",
      "D:\\Data\\Diploma\\real\\dataset//gt/ArgentinaID0000043.xmlCharMap.png\n",
      "D:\\Data\\Diploma\\real\\real\\real\\Train_V2\\\\ArgentinaID\\Markup\\0000044.xml\n",
      "D:\\Data\\Diploma\\real\\dataset//gt/ArgentinaID0000044.xmlCharMap.png\n",
      "D:\\Data\\Diploma\\real\\real\\real\\Train_V2\\\\ArgentinaID\\Markup\\0000045.xml\n",
      "D:\\Data\\Diploma\\real\\dataset//gt/ArgentinaID0000045.xmlCharMap.png\n",
      "D:\\Data\\Diploma\\real\\real\\real\\Train_V2\\\\ArgentinaID\\Markup\\0000046.xml\n",
      "D:\\Data\\Diploma\\real\\dataset//gt/ArgentinaID0000046.xmlCharMap.png\n",
      "D:\\Data\\Diploma\\real\\real\\real\\Train_V2\\\\ArgentinaID\\Markup\\0000047.xml\n",
      "D:\\Data\\Diploma\\real\\dataset//gt/ArgentinaID0000047.xmlCharMap.png\n",
      "D:\\Data\\Diploma\\real\\real\\real\\Train_V2\\\\ArgentinaID\\Markup\\0000048.xml\n",
      "D:\\Data\\Diploma\\real\\dataset//gt/ArgentinaID0000048.xmlCharMap.png\n",
      "D:\\Data\\Diploma\\real\\real\\real\\Train_V2\\\\ArgentinaID\\Markup\\0000049.xml\n",
      "D:\\Data\\Diploma\\real\\dataset//gt/ArgentinaID0000049.xmlCharMap.png\n",
      "D:\\Data\\Diploma\\real\\real\\real\\Train_V2\\\\ArgentinaID\\Markup\\0000050.xml\n",
      "D:\\Data\\Diploma\\real\\dataset//gt/ArgentinaID0000050.xmlCharMap.png\n",
      "D:\\Data\\Diploma\\real\\real\\real\\Train_V2\\\\ArgentinaID\\Markup\\0000051.xml\n",
      "D:\\Data\\Diploma\\real\\dataset//gt/ArgentinaID0000051.xmlCharMap.png\n",
      "D:\\Data\\Diploma\\real\\real\\real\\Train_V2\\\\ArgentinaID\\Markup\\0000052.xml\n",
      "D:\\Data\\Diploma\\real\\dataset//gt/ArgentinaID0000052.xmlCharMap.png\n",
      "D:\\Data\\Diploma\\real\\real\\real\\Train_V2\\\\ArgentinaID\\Markup\\0000053.xml\n",
      "D:\\Data\\Diploma\\real\\dataset//gt/ArgentinaID0000053.xmlCharMap.png\n",
      "D:\\Data\\Diploma\\real\\real\\real\\Train_V2\\\\ArgentinaID\\Markup\\0000054.xml\n",
      "D:\\Data\\Diploma\\real\\dataset//gt/ArgentinaID0000054.xmlCharMap.png\n",
      "D:\\Data\\Diploma\\real\\real\\real\\Train_V2\\\\ArgentinaID\\Markup\\0000055.xml\n",
      "D:\\Data\\Diploma\\real\\dataset//gt/ArgentinaID0000055.xmlCharMap.png\n",
      "D:\\Data\\Diploma\\real\\real\\real\\Train_V2\\\\ArgentinaID\\Markup\\0000056.xml\n",
      "D:\\Data\\Diploma\\real\\dataset//gt/ArgentinaID0000056.xmlCharMap.png\n",
      "D:\\Data\\Diploma\\real\\real\\real\\Train_V2\\\\ArgentinaID\\Markup\\0000057.xml\n",
      "D:\\Data\\Diploma\\real\\dataset//gt/ArgentinaID0000057.xmlCharMap.png\n",
      "D:\\Data\\Diploma\\real\\real\\real\\Train_V2\\\\ArgentinaID\\Markup\\0000058.xml\n",
      "D:\\Data\\Diploma\\real\\dataset//gt/ArgentinaID0000058.xmlCharMap.png\n",
      "D:\\Data\\Diploma\\real\\real\\real\\Train_V2\\\\ArgentinaID\\Markup\\0000059.xml\n"
     ]
    },
    {
     "name": "stdout",
     "output_type": "stream",
     "text": [
      "D:\\Data\\Diploma\\real\\dataset//gt/ArgentinaID0000059.xmlCharMap.png\n",
      "D:\\Data\\Diploma\\real\\real\\real\\Train_V2\\\\ArgentinaID\\Markup\\0000060.xml\n",
      "D:\\Data\\Diploma\\real\\dataset//gt/ArgentinaID0000060.xmlCharMap.png\n",
      "D:\\Data\\Diploma\\real\\real\\real\\Train_V2\\\\ArgentinaID\\Markup\\0000061.xml\n",
      "second filter 30 0 region\n",
      "second filter 30 0 region\n",
      "second filter 30 0 region\n",
      "second filter 30 0 region\n",
      "second filter 29 0 region\n",
      "second filter 30 0 region\n",
      "D:\\Data\\Diploma\\real\\dataset//gt/ArgentinaID0000061.xmlCharMap.png\n",
      "D:\\Data\\Diploma\\real\\real\\real\\Train_V2\\\\ArgentinaID\\Markup\\0000062.xml\n",
      "D:\\Data\\Diploma\\real\\dataset//gt/ArgentinaID0000062.xmlCharMap.png\n",
      "D:\\Data\\Diploma\\real\\real\\real\\Train_V2\\\\ArgentinaID\\Markup\\0000063.xml\n",
      "D:\\Data\\Diploma\\real\\dataset//gt/ArgentinaID0000063.xmlCharMap.png\n",
      "D:\\Data\\Diploma\\real\\real\\real\\Train_V2\\\\ArgentinaID\\Markup\\0000064.xml\n",
      "D:\\Data\\Diploma\\real\\dataset//gt/ArgentinaID0000064.xmlCharMap.png\n",
      "D:\\Data\\Diploma\\real\\real\\real\\Train_V2\\\\ArgentinaID\\Markup\\0000065.xml\n",
      "D:\\Data\\Diploma\\real\\dataset//gt/ArgentinaID0000065.xmlCharMap.png\n",
      "D:\\Data\\Diploma\\real\\real\\real\\Train_V2\\\\ArgentinaID\\Markup\\0000066.xml\n",
      "D:\\Data\\Diploma\\real\\dataset//gt/ArgentinaID0000066.xmlCharMap.png\n",
      "D:\\Data\\Diploma\\real\\real\\real\\Train_V2\\\\ArgentinaID\\Markup\\0000067.xml\n",
      "D:\\Data\\Diploma\\real\\dataset//gt/ArgentinaID0000067.xmlCharMap.png\n",
      "D:\\Data\\Diploma\\real\\real\\real\\Train_V2\\\\ArgentinaID\\Markup\\0000068.xml\n",
      "D:\\Data\\Diploma\\real\\dataset//gt/ArgentinaID0000068.xmlCharMap.png\n",
      "D:\\Data\\Diploma\\real\\real\\real\\Train_V2\\\\ArgentinaID\\Markup\\0000069.xml\n",
      "D:\\Data\\Diploma\\real\\dataset//gt/ArgentinaID0000069.xmlCharMap.png\n",
      "D:\\Data\\Diploma\\real\\real\\real\\Train_V2\\\\ArgentinaID\\Markup\\0000070.xml\n",
      "D:\\Data\\Diploma\\real\\dataset//gt/ArgentinaID0000070.xmlCharMap.png\n",
      "D:\\Data\\Diploma\\real\\real\\real\\Train_V2\\\\ArgentinaID\\Markup\\0000071.xml\n",
      "D:\\Data\\Diploma\\real\\dataset//gt/ArgentinaID0000071.xmlCharMap.png\n",
      "D:\\Data\\Diploma\\real\\real\\real\\Train_V2\\\\ArgentinaID\\Markup\\0000072.xml\n",
      "D:\\Data\\Diploma\\real\\dataset//gt/ArgentinaID0000072.xmlCharMap.png\n",
      "D:\\Data\\Diploma\\real\\real\\real\\Train_V2\\\\ArgentinaID\\Markup\\0000073.xml\n",
      "D:\\Data\\Diploma\\real\\dataset//gt/ArgentinaID0000073.xmlCharMap.png\n",
      "D:\\Data\\Diploma\\real\\real\\real\\Train_V2\\\\ArgentinaID\\Markup\\0000074.xml\n",
      "D:\\Data\\Diploma\\real\\dataset//gt/ArgentinaID0000074.xmlCharMap.png\n",
      "D:\\Data\\Diploma\\real\\real\\real\\Train_V2\\\\ArgentinaID\\Markup\\0000075.xml\n",
      "D:\\Data\\Diploma\\real\\dataset//gt/ArgentinaID0000075.xmlCharMap.png\n",
      "D:\\Data\\Diploma\\real\\real\\real\\Train_V2\\\\ArgentinaID\\Markup\\0000076.xml\n",
      "D:\\Data\\Diploma\\real\\dataset//gt/ArgentinaID0000076.xmlCharMap.png\n",
      "D:\\Data\\Diploma\\real\\real\\real\\Train_V2\\\\ArgentinaID\\Markup\\0000077.xml\n",
      "D:\\Data\\Diploma\\real\\dataset//gt/ArgentinaID0000077.xmlCharMap.png\n",
      "D:\\Data\\Diploma\\real\\real\\real\\Train_V2\\\\ArgentinaID\\Markup\\0000078.xml\n",
      "D:\\Data\\Diploma\\real\\dataset//gt/ArgentinaID0000078.xmlCharMap.png\n",
      "D:\\Data\\Diploma\\real\\real\\real\\Train_V2\\\\ArgentinaID\\Markup\\0000079.xml\n",
      "D:\\Data\\Diploma\\real\\dataset//gt/ArgentinaID0000079.xmlCharMap.png\n",
      "D:\\Data\\Diploma\\real\\real\\real\\Train_V2\\\\ArgentinaID\\Markup\\0000080.xml\n",
      "D:\\Data\\Diploma\\real\\dataset//gt/ArgentinaID0000080.xmlCharMap.png\n",
      "D:\\Data\\Diploma\\real\\real\\real\\Train_V2\\\\ArgentinaID\\Markup\\0000081.xml\n",
      "D:\\Data\\Diploma\\real\\dataset//gt/ArgentinaID0000081.xmlCharMap.png\n",
      "D:\\Data\\Diploma\\real\\real\\real\\Train_V2\\\\ArgentinaID\\Markup\\0000082.xml\n",
      "D:\\Data\\Diploma\\real\\dataset//gt/ArgentinaID0000082.xmlCharMap.png\n",
      "D:\\Data\\Diploma\\real\\real\\real\\Train_V2\\\\ArgentinaID\\Markup\\0000083.xml\n",
      "D:\\Data\\Diploma\\real\\dataset//gt/ArgentinaID0000083.xmlCharMap.png\n",
      "D:\\Data\\Diploma\\real\\real\\real\\Train_V2\\\\ArgentinaID\\Markup\\0000084.xml\n",
      "D:\\Data\\Diploma\\real\\dataset//gt/ArgentinaID0000084.xmlCharMap.png\n",
      "D:\\Data\\Diploma\\real\\real\\real\\Train_V2\\\\ArgentinaID\\Markup\\0000085.xml\n",
      "D:\\Data\\Diploma\\real\\dataset//gt/ArgentinaID0000085.xmlCharMap.png\n",
      "D:\\Data\\Diploma\\real\\real\\real\\Train_V2\\\\ArgentinaID\\Markup\\0000086.xml\n",
      "D:\\Data\\Diploma\\real\\dataset//gt/ArgentinaID0000086.xmlCharMap.png\n",
      "D:\\Data\\Diploma\\real\\real\\real\\Train_V2\\\\ArgentinaID\\Markup\\0000087.xml\n",
      "D:\\Data\\Diploma\\real\\dataset//gt/ArgentinaID0000087.xmlCharMap.png\n",
      "D:\\Data\\Diploma\\real\\real\\real\\Train_V2\\\\ArgentinaID\\Markup\\0000088.xml\n",
      "D:\\Data\\Diploma\\real\\dataset//gt/ArgentinaID0000088.xmlCharMap.png\n",
      "D:\\Data\\Diploma\\real\\real\\real\\Train_V2\\\\ArgentinaID\\Markup\\0000089.xml\n",
      "D:\\Data\\Diploma\\real\\dataset//gt/ArgentinaID0000089.xmlCharMap.png\n",
      "D:\\Data\\Diploma\\real\\real\\real\\Train_V2\\\\ArgentinaID\\Markup\\0000090.xml\n",
      "D:\\Data\\Diploma\\real\\dataset//gt/ArgentinaID0000090.xmlCharMap.png\n",
      "D:\\Data\\Diploma\\real\\real\\real\\Train_V2\\\\ArgentinaID\\Markup\\0000091.xml\n",
      "D:\\Data\\Diploma\\real\\dataset//gt/ArgentinaID0000091.xmlCharMap.png\n",
      "D:\\Data\\Diploma\\real\\real\\real\\Train_V2\\\\ArgentinaID\\Markup\\0000092.xml\n",
      "D:\\Data\\Diploma\\real\\dataset//gt/ArgentinaID0000092.xmlCharMap.png\n",
      "D:\\Data\\Diploma\\real\\real\\real\\Train_V2\\\\ArgentinaID\\Markup\\0000093.xml\n",
      "D:\\Data\\Diploma\\real\\dataset//gt/ArgentinaID0000093.xmlCharMap.png\n",
      "D:\\Data\\Diploma\\real\\real\\real\\Train_V2\\\\ArgentinaID\\Markup\\0000094.xml\n",
      "D:\\Data\\Diploma\\real\\dataset//gt/ArgentinaID0000094.xmlCharMap.png\n",
      "D:\\Data\\Diploma\\real\\real\\real\\Train_V2\\\\ArgentinaID\\Markup\\0000095.xml\n",
      "D:\\Data\\Diploma\\real\\dataset//gt/ArgentinaID0000095.xmlCharMap.png\n",
      "D:\\Data\\Diploma\\real\\real\\real\\Train_V2\\\\ArgentinaID\\Markup\\0000096.xml\n",
      "D:\\Data\\Diploma\\real\\dataset//gt/ArgentinaID0000096.xmlCharMap.png\n",
      "D:\\Data\\Diploma\\real\\real\\real\\Train_V2\\\\ArgentinaID\\Markup\\0000097.xml\n",
      "D:\\Data\\Diploma\\real\\dataset//gt/ArgentinaID0000097.xmlCharMap.png\n",
      "D:\\Data\\Diploma\\real\\real\\real\\Train_V2\\\\ArgentinaID\\Markup\\0000098.xml\n",
      "D:\\Data\\Diploma\\real\\dataset//gt/ArgentinaID0000098.xmlCharMap.png\n",
      "D:\\Data\\Diploma\\real\\real\\real\\Train_V2\\\\ArgentinaID\\Markup\\0000099.xml\n",
      "D:\\Data\\Diploma\\real\\dataset//gt/ArgentinaID0000099.xmlCharMap.png\n",
      "D:\\Data\\Diploma\\real\\real\\real\\Train_V2\\\\ArgentinaID\\Markup\\0000100.xml\n",
      "D:\\Data\\Diploma\\real\\dataset//gt/ArgentinaID0000100.xmlCharMap.png\n",
      "D:\\Data\\Diploma\\real\\real\\real\\Train_V2\\\\ArgentinaID\\Markup\\0000101.xml\n",
      "D:\\Data\\Diploma\\real\\dataset//gt/ArgentinaID0000101.xmlCharMap.png\n",
      "D:\\Data\\Diploma\\real\\real\\real\\Train_V2\\\\ArgentinaID\\Markup\\0000102.xml\n",
      "D:\\Data\\Diploma\\real\\dataset//gt/ArgentinaID0000102.xmlCharMap.png\n",
      "D:\\Data\\Diploma\\real\\real\\real\\Train_V2\\\\ArgentinaID\\Markup\\0000103.xml\n",
      "D:\\Data\\Diploma\\real\\dataset//gt/ArgentinaID0000103.xmlCharMap.png\n",
      "D:\\Data\\Diploma\\real\\real\\real\\Train_V2\\\\ArgentinaID\\Markup\\0000104.xml\n",
      "D:\\Data\\Diploma\\real\\dataset//gt/ArgentinaID0000104.xmlCharMap.png\n",
      "D:\\Data\\Diploma\\real\\real\\real\\Train_V2\\\\ArgentinaID\\Markup\\0000105.xml\n",
      "D:\\Data\\Diploma\\real\\dataset//gt/ArgentinaID0000105.xmlCharMap.png\n",
      "D:\\Data\\Diploma\\real\\real\\real\\Train_V2\\\\ArgentinaID\\Markup\\0000106.xml\n",
      "D:\\Data\\Diploma\\real\\dataset//gt/ArgentinaID0000106.xmlCharMap.png\n",
      "D:\\Data\\Diploma\\real\\real\\real\\Train_V2\\\\ArgentinaID\\Markup\\0000107.xml\n",
      "D:\\Data\\Diploma\\real\\dataset//gt/ArgentinaID0000107.xmlCharMap.png\n",
      "D:\\Data\\Diploma\\real\\real\\real\\Train_V2\\\\ArgentinaID\\Markup\\0000108.xml\n",
      "D:\\Data\\Diploma\\real\\dataset//gt/ArgentinaID0000108.xmlCharMap.png\n",
      "D:\\Data\\Diploma\\real\\real\\real\\Train_V2\\\\ArgentinaID\\Markup\\0000109.xml\n",
      "D:\\Data\\Diploma\\real\\dataset//gt/ArgentinaID0000109.xmlCharMap.png\n",
      "D:\\Data\\Diploma\\real\\real\\real\\Train_V2\\\\ArgentinaID\\Markup\\0000110.xml\n",
      "D:\\Data\\Diploma\\real\\dataset//gt/ArgentinaID0000110.xmlCharMap.png\n",
      "D:\\Data\\Diploma\\real\\real\\real\\Train_V2\\\\ArgentinaID\\Markup\\0000111.xml\n",
      "D:\\Data\\Diploma\\real\\dataset//gt/ArgentinaID0000111.xmlCharMap.png\n",
      "D:\\Data\\Diploma\\real\\real\\real\\Train_V2\\\\ArgentinaID\\Markup\\0000112.xml\n",
      "D:\\Data\\Diploma\\real\\dataset//gt/ArgentinaID0000112.xmlCharMap.png\n",
      "D:\\Data\\Diploma\\real\\real\\real\\Train_V2\\\\ArgentinaID\\Markup\\0000113.xml\n",
      "D:\\Data\\Diploma\\real\\dataset//gt/ArgentinaID0000113.xmlCharMap.png\n",
      "D:\\Data\\Diploma\\real\\real\\real\\Train_V2\\\\ArgentinaID\\Markup\\0000114.xml\n",
      "D:\\Data\\Diploma\\real\\dataset//gt/ArgentinaID0000114.xmlCharMap.png\n",
      "D:\\Data\\Diploma\\real\\real\\real\\Train_V2\\\\ArgentinaID\\Markup\\0000115.xml\n",
      "second filter 30 0 region\n",
      "second filter 30 0 region\n",
      "second filter 30 0 region\n",
      "D:\\Data\\Diploma\\real\\dataset//gt/ArgentinaID0000115.xmlCharMap.png\n",
      "D:\\Data\\Diploma\\real\\real\\real\\Train_V2\\\\ArgentinaID\\Markup\\0000116.xml\n",
      "D:\\Data\\Diploma\\real\\dataset//gt/ArgentinaID0000116.xmlCharMap.png\n",
      "D:\\Data\\Diploma\\real\\real\\real\\Train_V2\\\\ArgentinaID\\Markup\\0000117.xml\n"
     ]
    },
    {
     "name": "stdout",
     "output_type": "stream",
     "text": [
      "D:\\Data\\Diploma\\real\\dataset//gt/ArgentinaID0000117.xmlCharMap.png\n",
      "D:\\Data\\Diploma\\real\\real\\real\\Train_V2\\\\ArgentinaID\\Markup\\0000118.xml\n",
      "D:\\Data\\Diploma\\real\\dataset//gt/ArgentinaID0000118.xmlCharMap.png\n",
      "D:\\Data\\Diploma\\real\\real\\real\\Train_V2\\\\ArgentinaID\\Markup\\0000119.xml\n",
      "D:\\Data\\Diploma\\real\\dataset//gt/ArgentinaID0000119.xmlCharMap.png\n",
      "D:\\Data\\Diploma\\real\\real\\real\\Train_V2\\\\ArgentinaID\\Markup\\0000120.xml\n",
      "D:\\Data\\Diploma\\real\\dataset//gt/ArgentinaID0000120.xmlCharMap.png\n",
      "D:\\Data\\Diploma\\real\\real\\real\\Train_V2\\\\ArgentinaID\\Markup\\0000121.xml\n",
      "D:\\Data\\Diploma\\real\\dataset//gt/ArgentinaID0000121.xmlCharMap.png\n",
      "D:\\Data\\Diploma\\real\\real\\real\\Train_V2\\\\ArgentinaID\\Markup\\0000122.xml\n",
      "D:\\Data\\Diploma\\real\\dataset//gt/ArgentinaID0000122.xmlCharMap.png\n",
      "D:\\Data\\Diploma\\real\\real\\real\\Train_V2\\\\ArgentinaID\\Markup\\0000123.xml\n",
      "D:\\Data\\Diploma\\real\\dataset//gt/ArgentinaID0000123.xmlCharMap.png\n",
      "D:\\Data\\Diploma\\real\\real\\real\\Train_V2\\\\ArgentinaID\\Markup\\0000124.xml\n",
      "D:\\Data\\Diploma\\real\\dataset//gt/ArgentinaID0000124.xmlCharMap.png\n",
      "\n"
     ]
    },
    {
     "data": {
      "application/vnd.jupyter.widget-view+json": {
       "model_id": "6b2181b25a9c496f96106019bef9e072",
       "version_major": 2,
       "version_minor": 0
      },
      "text/plain": [
       "HBox(children=(HTML(value=''), FloatProgress(value=0.0, max=1.0), HTML(value='')))"
      ]
     },
     "metadata": {},
     "output_type": "display_data"
    },
    {
     "name": "stdout",
     "output_type": "stream",
     "text": [
      "D:\\Data\\Diploma\\real\\real\\real\\Train_V2\\\\Australia.DL_photo\\Markup\\0000000.xml\n",
      "D:\\Data\\Diploma\\real\\dataset//gt/Australia.DL_photo0000000.xmlCharMap.png\n",
      "\n"
     ]
    },
    {
     "data": {
      "application/vnd.jupyter.widget-view+json": {
       "model_id": "c50d128a48fb4c22a1c828ad5f0235a4",
       "version_major": 2,
       "version_minor": 0
      },
      "text/plain": [
       "HBox(children=(HTML(value=''), FloatProgress(value=0.0, max=10.0), HTML(value='')))"
      ]
     },
     "metadata": {},
     "output_type": "display_data"
    },
    {
     "name": "stdout",
     "output_type": "stream",
     "text": [
      "D:\\Data\\Diploma\\real\\real\\real\\Train_V2\\\\CALIFORNIA_photo\\Markup\\0000000.xml\n",
      "D:\\Data\\Diploma\\real\\dataset//gt/CALIFORNIA_photo0000000.xmlCharMap.png\n",
      "D:\\Data\\Diploma\\real\\real\\real\\Train_V2\\\\CALIFORNIA_photo\\Markup\\0000001.xml\n",
      "D:\\Data\\Diploma\\real\\dataset//gt/CALIFORNIA_photo0000001.xmlCharMap.png\n",
      "D:\\Data\\Diploma\\real\\real\\real\\Train_V2\\\\CALIFORNIA_photo\\Markup\\0000002.xml\n",
      "D:\\Data\\Diploma\\real\\dataset//gt/CALIFORNIA_photo0000002.xmlCharMap.png\n",
      "D:\\Data\\Diploma\\real\\real\\real\\Train_V2\\\\CALIFORNIA_photo\\Markup\\0000003.xml\n",
      "D:\\Data\\Diploma\\real\\dataset//gt/CALIFORNIA_photo0000003.xmlCharMap.png\n",
      "D:\\Data\\Diploma\\real\\real\\real\\Train_V2\\\\CALIFORNIA_photo\\Markup\\0000004.xml\n",
      "D:\\Data\\Diploma\\real\\dataset//gt/CALIFORNIA_photo0000004.xmlCharMap.png\n",
      "D:\\Data\\Diploma\\real\\real\\real\\Train_V2\\\\CALIFORNIA_photo\\Markup\\0000005.xml\n",
      "D:\\Data\\Diploma\\real\\dataset//gt/CALIFORNIA_photo0000005.xmlCharMap.png\n",
      "D:\\Data\\Diploma\\real\\real\\real\\Train_V2\\\\CALIFORNIA_photo\\Markup\\0000006.xml\n",
      "D:\\Data\\Diploma\\real\\dataset//gt/CALIFORNIA_photo0000006.xmlCharMap.png\n",
      "D:\\Data\\Diploma\\real\\real\\real\\Train_V2\\\\CALIFORNIA_photo\\Markup\\0000007.xml\n",
      "D:\\Data\\Diploma\\real\\dataset//gt/CALIFORNIA_photo0000007.xmlCharMap.png\n",
      "D:\\Data\\Diploma\\real\\real\\real\\Train_V2\\\\CALIFORNIA_photo\\Markup\\0000008.xml\n",
      "D:\\Data\\Diploma\\real\\dataset//gt/CALIFORNIA_photo0000008.xmlCharMap.png\n",
      "D:\\Data\\Diploma\\real\\real\\real\\Train_V2\\\\CALIFORNIA_photo\\Markup\\0000009.xml\n",
      "D:\\Data\\Diploma\\real\\dataset//gt/CALIFORNIA_photo0000009.xmlCharMap.png\n",
      "\n"
     ]
    },
    {
     "data": {
      "application/vnd.jupyter.widget-view+json": {
       "model_id": "19984523b9104e478216186dfc2e6bb4",
       "version_major": 2,
       "version_minor": 0
      },
      "text/plain": [
       "HBox(children=(HTML(value=''), FloatProgress(value=0.0, max=10.0), HTML(value='')))"
      ]
     },
     "metadata": {},
     "output_type": "display_data"
    },
    {
     "name": "stdout",
     "output_type": "stream",
     "text": [
      "D:\\Data\\Diploma\\real\\real\\real\\Train_V2\\\\CALIFORNIA_scan\\Markup\\0000000.xml\n",
      "D:\\Data\\Diploma\\real\\dataset//gt/CALIFORNIA_scan0000000.xmlCharMap.png\n",
      "D:\\Data\\Diploma\\real\\real\\real\\Train_V2\\\\CALIFORNIA_scan\\Markup\\0000001.xml\n",
      "D:\\Data\\Diploma\\real\\dataset//gt/CALIFORNIA_scan0000001.xmlCharMap.png\n",
      "D:\\Data\\Diploma\\real\\real\\real\\Train_V2\\\\CALIFORNIA_scan\\Markup\\0000002.xml\n",
      "D:\\Data\\Diploma\\real\\dataset//gt/CALIFORNIA_scan0000002.xmlCharMap.png\n",
      "D:\\Data\\Diploma\\real\\real\\real\\Train_V2\\\\CALIFORNIA_scan\\Markup\\0000003.xml\n",
      "D:\\Data\\Diploma\\real\\dataset//gt/CALIFORNIA_scan0000003.xmlCharMap.png\n",
      "D:\\Data\\Diploma\\real\\real\\real\\Train_V2\\\\CALIFORNIA_scan\\Markup\\0000004.xml\n",
      "D:\\Data\\Diploma\\real\\dataset//gt/CALIFORNIA_scan0000004.xmlCharMap.png\n",
      "D:\\Data\\Diploma\\real\\real\\real\\Train_V2\\\\CALIFORNIA_scan\\Markup\\0000005.xml\n",
      "D:\\Data\\Diploma\\real\\dataset//gt/CALIFORNIA_scan0000005.xmlCharMap.png\n",
      "D:\\Data\\Diploma\\real\\real\\real\\Train_V2\\\\CALIFORNIA_scan\\Markup\\0000006.xml\n",
      "D:\\Data\\Diploma\\real\\dataset//gt/CALIFORNIA_scan0000006.xmlCharMap.png\n",
      "D:\\Data\\Diploma\\real\\real\\real\\Train_V2\\\\CALIFORNIA_scan\\Markup\\0000007.xml\n",
      "D:\\Data\\Diploma\\real\\dataset//gt/CALIFORNIA_scan0000007.xmlCharMap.png\n",
      "D:\\Data\\Diploma\\real\\real\\real\\Train_V2\\\\CALIFORNIA_scan\\Markup\\0000008.xml\n",
      "D:\\Data\\Diploma\\real\\dataset//gt/CALIFORNIA_scan0000008.xmlCharMap.png\n",
      "D:\\Data\\Diploma\\real\\real\\real\\Train_V2\\\\CALIFORNIA_scan\\Markup\\0000009.xml\n",
      "D:\\Data\\Diploma\\real\\dataset//gt/CALIFORNIA_scan0000009.xmlCharMap.png\n",
      "\n"
     ]
    },
    {
     "data": {
      "application/vnd.jupyter.widget-view+json": {
       "model_id": "a2e2f80763334bf2ba21fbe64349cd99",
       "version_major": 2,
       "version_minor": 0
      },
      "text/plain": [
       "HBox(children=(HTML(value=''), FloatProgress(value=0.0, max=47.0), HTML(value='')))"
      ]
     },
     "metadata": {},
     "output_type": "display_data"
    },
    {
     "name": "stdout",
     "output_type": "stream",
     "text": [
      "D:\\Data\\Diploma\\real\\real\\real\\Train_V2\\\\Chinese.ID_different\\Markup\\0000000.xml\n",
      "D:\\Data\\Diploma\\real\\real\\real\\Train_V2\\\\Chinese.ID_different\\Markup\\0000001.xml\n",
      "D:\\Data\\Diploma\\real\\real\\real\\Train_V2\\\\Chinese.ID_different\\Markup\\0000002.xml\n",
      "D:\\Data\\Diploma\\real\\real\\real\\Train_V2\\\\Chinese.ID_different\\Markup\\0000003.xml\n",
      "D:\\Data\\Diploma\\real\\real\\real\\Train_V2\\\\Chinese.ID_different\\Markup\\0000004.xml\n",
      "D:\\Data\\Diploma\\real\\real\\real\\Train_V2\\\\Chinese.ID_different\\Markup\\0000005.xml\n",
      "D:\\Data\\Diploma\\real\\real\\real\\Train_V2\\\\Chinese.ID_different\\Markup\\0000006.xml\n",
      "D:\\Data\\Diploma\\real\\real\\real\\Train_V2\\\\Chinese.ID_different\\Markup\\0000007.xml\n",
      "D:\\Data\\Diploma\\real\\real\\real\\Train_V2\\\\Chinese.ID_different\\Markup\\0000008.xml\n",
      "D:\\Data\\Diploma\\real\\real\\real\\Train_V2\\\\Chinese.ID_different\\Markup\\0000009.xml\n",
      "D:\\Data\\Diploma\\real\\real\\real\\Train_V2\\\\Chinese.ID_different\\Markup\\0000010.xml\n",
      "D:\\Data\\Diploma\\real\\real\\real\\Train_V2\\\\Chinese.ID_different\\Markup\\0000011.xml\n",
      "D:\\Data\\Diploma\\real\\real\\real\\Train_V2\\\\Chinese.ID_different\\Markup\\0000012.xml\n",
      "D:\\Data\\Diploma\\real\\real\\real\\Train_V2\\\\Chinese.ID_different\\Markup\\0000013.xml\n",
      "D:\\Data\\Diploma\\real\\real\\real\\Train_V2\\\\Chinese.ID_different\\Markup\\0000014.xml\n",
      "D:\\Data\\Diploma\\real\\real\\real\\Train_V2\\\\Chinese.ID_different\\Markup\\0000015.xml\n",
      "D:\\Data\\Diploma\\real\\real\\real\\Train_V2\\\\Chinese.ID_different\\Markup\\0000016.xml\n",
      "D:\\Data\\Diploma\\real\\real\\real\\Train_V2\\\\Chinese.ID_different\\Markup\\0000017.xml\n",
      "D:\\Data\\Diploma\\real\\real\\real\\Train_V2\\\\Chinese.ID_different\\Markup\\0000018.xml\n",
      "D:\\Data\\Diploma\\real\\real\\real\\Train_V2\\\\Chinese.ID_different\\Markup\\0000019.xml\n",
      "D:\\Data\\Diploma\\real\\real\\real\\Train_V2\\\\Chinese.ID_different\\Markup\\0000020.xml\n",
      "D:\\Data\\Diploma\\real\\real\\real\\Train_V2\\\\Chinese.ID_different\\Markup\\0000021.xml\n",
      "D:\\Data\\Diploma\\real\\real\\real\\Train_V2\\\\Chinese.ID_different\\Markup\\0000022.xml\n",
      "D:\\Data\\Diploma\\real\\real\\real\\Train_V2\\\\Chinese.ID_different\\Markup\\0000023.xml\n",
      "D:\\Data\\Diploma\\real\\real\\real\\Train_V2\\\\Chinese.ID_different\\Markup\\0000024.xml\n",
      "D:\\Data\\Diploma\\real\\real\\real\\Train_V2\\\\Chinese.ID_different\\Markup\\0000025.xml\n",
      "D:\\Data\\Diploma\\real\\real\\real\\Train_V2\\\\Chinese.ID_different\\Markup\\0000026.xml\n",
      "D:\\Data\\Diploma\\real\\real\\real\\Train_V2\\\\Chinese.ID_different\\Markup\\0000027.xml\n",
      "D:\\Data\\Diploma\\real\\real\\real\\Train_V2\\\\Chinese.ID_different\\Markup\\0000028.xml\n",
      "D:\\Data\\Diploma\\real\\real\\real\\Train_V2\\\\Chinese.ID_different\\Markup\\0000029.xml\n",
      "D:\\Data\\Diploma\\real\\real\\real\\Train_V2\\\\Chinese.ID_different\\Markup\\0000030.xml\n",
      "D:\\Data\\Diploma\\real\\real\\real\\Train_V2\\\\Chinese.ID_different\\Markup\\0000031.xml\n",
      "D:\\Data\\Diploma\\real\\real\\real\\Train_V2\\\\Chinese.ID_different\\Markup\\0000032.xml\n",
      "D:\\Data\\Diploma\\real\\real\\real\\Train_V2\\\\Chinese.ID_different\\Markup\\0000033.xml\n",
      "D:\\Data\\Diploma\\real\\real\\real\\Train_V2\\\\Chinese.ID_different\\Markup\\0000034.xml\n",
      "D:\\Data\\Diploma\\real\\real\\real\\Train_V2\\\\Chinese.ID_different\\Markup\\0000035.xml\n",
      "D:\\Data\\Diploma\\real\\real\\real\\Train_V2\\\\Chinese.ID_different\\Markup\\0000036.xml\n",
      "D:\\Data\\Diploma\\real\\real\\real\\Train_V2\\\\Chinese.ID_different\\Markup\\0000037.xml\n",
      "D:\\Data\\Diploma\\real\\real\\real\\Train_V2\\\\Chinese.ID_different\\Markup\\0000038.xml\n",
      "D:\\Data\\Diploma\\real\\real\\real\\Train_V2\\\\Chinese.ID_different\\Markup\\0000039.xml\n",
      "D:\\Data\\Diploma\\real\\real\\real\\Train_V2\\\\Chinese.ID_different\\Markup\\0000040.xml\n",
      "D:\\Data\\Diploma\\real\\real\\real\\Train_V2\\\\Chinese.ID_different\\Markup\\0000041.xml\n",
      "D:\\Data\\Diploma\\real\\real\\real\\Train_V2\\\\Chinese.ID_different\\Markup\\0000042.xml\n",
      "D:\\Data\\Diploma\\real\\real\\real\\Train_V2\\\\Chinese.ID_different\\Markup\\0000043.xml\n",
      "D:\\Data\\Diploma\\real\\real\\real\\Train_V2\\\\Chinese.ID_different\\Markup\\0000044.xml\n",
      "D:\\Data\\Diploma\\real\\real\\real\\Train_V2\\\\Chinese.ID_different\\Markup\\0000045.xml\n",
      "D:\\Data\\Diploma\\real\\real\\real\\Train_V2\\\\Chinese.ID_different\\Markup\\0000046.xml\n",
      "\n"
     ]
    },
    {
     "data": {
      "application/vnd.jupyter.widget-view+json": {
       "model_id": "b48c9880bbbe418ea373c8b7cc332374",
       "version_major": 2,
       "version_minor": 0
      },
      "text/plain": [
       "HBox(children=(HTML(value=''), FloatProgress(value=0.0, max=33.0), HTML(value='')))"
      ]
     },
     "metadata": {},
     "output_type": "display_data"
    },
    {
     "name": "stdout",
     "output_type": "stream",
     "text": [
      "D:\\Data\\Diploma\\real\\real\\real\\Train_V2\\\\CTC_1\\Markup\\0000000.xml\n",
      "D:\\Data\\Diploma\\real\\real\\real\\Train_V2\\\\CTC_1\\Markup\\0000001.xml\n",
      "D:\\Data\\Diploma\\real\\real\\real\\Train_V2\\\\CTC_1\\Markup\\0000002.xml\n",
      "D:\\Data\\Diploma\\real\\real\\real\\Train_V2\\\\CTC_1\\Markup\\0000003.xml\n",
      "D:\\Data\\Diploma\\real\\real\\real\\Train_V2\\\\CTC_1\\Markup\\0000004.xml\n",
      "D:\\Data\\Diploma\\real\\real\\real\\Train_V2\\\\CTC_1\\Markup\\0000005.xml\n",
      "D:\\Data\\Diploma\\real\\real\\real\\Train_V2\\\\CTC_1\\Markup\\0000006.xml\n",
      "D:\\Data\\Diploma\\real\\real\\real\\Train_V2\\\\CTC_1\\Markup\\0000007.xml\n",
      "D:\\Data\\Diploma\\real\\real\\real\\Train_V2\\\\CTC_1\\Markup\\0000008.xml\n",
      "D:\\Data\\Diploma\\real\\real\\real\\Train_V2\\\\CTC_1\\Markup\\0000009.xml\n",
      "D:\\Data\\Diploma\\real\\real\\real\\Train_V2\\\\CTC_1\\Markup\\0000010.xml\n",
      "D:\\Data\\Diploma\\real\\real\\real\\Train_V2\\\\CTC_1\\Markup\\0000011.xml\n",
      "D:\\Data\\Diploma\\real\\real\\real\\Train_V2\\\\CTC_1\\Markup\\0000012.xml\n",
      "D:\\Data\\Diploma\\real\\real\\real\\Train_V2\\\\CTC_1\\Markup\\0000013.xml\n",
      "D:\\Data\\Diploma\\real\\real\\real\\Train_V2\\\\CTC_1\\Markup\\0000014.xml\n",
      "D:\\Data\\Diploma\\real\\real\\real\\Train_V2\\\\CTC_1\\Markup\\0000015.xml\n",
      "D:\\Data\\Diploma\\real\\real\\real\\Train_V2\\\\CTC_1\\Markup\\0000016.xml\n",
      "D:\\Data\\Diploma\\real\\real\\real\\Train_V2\\\\CTC_1\\Markup\\0000017.xml\n",
      "D:\\Data\\Diploma\\real\\real\\real\\Train_V2\\\\CTC_1\\Markup\\0000018.xml\n",
      "D:\\Data\\Diploma\\real\\real\\real\\Train_V2\\\\CTC_1\\Markup\\0000019.xml\n",
      "D:\\Data\\Diploma\\real\\real\\real\\Train_V2\\\\CTC_1\\Markup\\0000020.xml\n",
      "D:\\Data\\Diploma\\real\\real\\real\\Train_V2\\\\CTC_1\\Markup\\0000021.xml\n",
      "D:\\Data\\Diploma\\real\\real\\real\\Train_V2\\\\CTC_1\\Markup\\0000022.xml\n",
      "D:\\Data\\Diploma\\real\\real\\real\\Train_V2\\\\CTC_1\\Markup\\0000023.xml\n",
      "D:\\Data\\Diploma\\real\\real\\real\\Train_V2\\\\CTC_1\\Markup\\0000024.xml\n",
      "D:\\Data\\Diploma\\real\\real\\real\\Train_V2\\\\CTC_1\\Markup\\0000025.xml\n",
      "D:\\Data\\Diploma\\real\\real\\real\\Train_V2\\\\CTC_1\\Markup\\0000026.xml\n",
      "D:\\Data\\Diploma\\real\\real\\real\\Train_V2\\\\CTC_1\\Markup\\0000027.xml\n",
      "D:\\Data\\Diploma\\real\\real\\real\\Train_V2\\\\CTC_1\\Markup\\0000028.xml\n",
      "D:\\Data\\Diploma\\real\\real\\real\\Train_V2\\\\CTC_1\\Markup\\0000029.xml\n",
      "D:\\Data\\Diploma\\real\\real\\real\\Train_V2\\\\CTC_1\\Markup\\0000030.xml\n",
      "D:\\Data\\Diploma\\real\\real\\real\\Train_V2\\\\CTC_1\\Markup\\0000031.xml\n",
      "D:\\Data\\Diploma\\real\\real\\real\\Train_V2\\\\CTC_1\\Markup\\0000032.xml\n",
      "\n"
     ]
    },
    {
     "data": {
      "application/vnd.jupyter.widget-view+json": {
       "model_id": "8664e0e78f3c4cab89359a7151c35423",
       "version_major": 2,
       "version_minor": 0
      },
      "text/plain": [
       "HBox(children=(HTML(value=''), FloatProgress(value=0.0, max=52.0), HTML(value='')))"
      ]
     },
     "metadata": {},
     "output_type": "display_data"
    },
    {
     "name": "stdout",
     "output_type": "stream",
     "text": [
      "D:\\Data\\Diploma\\real\\real\\real\\Train_V2\\\\CTC_2\\Markup\\0000000.xml\n",
      "D:\\Data\\Diploma\\real\\real\\real\\Train_V2\\\\CTC_2\\Markup\\0000001.xml\n",
      "D:\\Data\\Diploma\\real\\real\\real\\Train_V2\\\\CTC_2\\Markup\\0000002.xml\n",
      "D:\\Data\\Diploma\\real\\real\\real\\Train_V2\\\\CTC_2\\Markup\\0000003.xml\n",
      "D:\\Data\\Diploma\\real\\real\\real\\Train_V2\\\\CTC_2\\Markup\\0000004.xml\n",
      "D:\\Data\\Diploma\\real\\real\\real\\Train_V2\\\\CTC_2\\Markup\\0000005.xml\n",
      "D:\\Data\\Diploma\\real\\real\\real\\Train_V2\\\\CTC_2\\Markup\\0000006.xml\n",
      "D:\\Data\\Diploma\\real\\real\\real\\Train_V2\\\\CTC_2\\Markup\\0000007.xml\n",
      "D:\\Data\\Diploma\\real\\real\\real\\Train_V2\\\\CTC_2\\Markup\\0000008.xml\n",
      "D:\\Data\\Diploma\\real\\real\\real\\Train_V2\\\\CTC_2\\Markup\\0000009.xml\n",
      "D:\\Data\\Diploma\\real\\real\\real\\Train_V2\\\\CTC_2\\Markup\\0000010.xml\n",
      "D:\\Data\\Diploma\\real\\real\\real\\Train_V2\\\\CTC_2\\Markup\\0000011.xml\n",
      "D:\\Data\\Diploma\\real\\real\\real\\Train_V2\\\\CTC_2\\Markup\\0000012.xml\n",
      "D:\\Data\\Diploma\\real\\real\\real\\Train_V2\\\\CTC_2\\Markup\\0000013.xml\n",
      "D:\\Data\\Diploma\\real\\real\\real\\Train_V2\\\\CTC_2\\Markup\\0000014.xml\n",
      "D:\\Data\\Diploma\\real\\real\\real\\Train_V2\\\\CTC_2\\Markup\\0000015.xml\n",
      "D:\\Data\\Diploma\\real\\real\\real\\Train_V2\\\\CTC_2\\Markup\\0000016.xml\n",
      "D:\\Data\\Diploma\\real\\real\\real\\Train_V2\\\\CTC_2\\Markup\\0000017.xml\n",
      "D:\\Data\\Diploma\\real\\real\\real\\Train_V2\\\\CTC_2\\Markup\\0000018.xml\n",
      "D:\\Data\\Diploma\\real\\real\\real\\Train_V2\\\\CTC_2\\Markup\\0000019.xml\n",
      "D:\\Data\\Diploma\\real\\real\\real\\Train_V2\\\\CTC_2\\Markup\\0000020.xml\n",
      "D:\\Data\\Diploma\\real\\real\\real\\Train_V2\\\\CTC_2\\Markup\\0000021.xml\n",
      "D:\\Data\\Diploma\\real\\real\\real\\Train_V2\\\\CTC_2\\Markup\\0000022.xml\n",
      "D:\\Data\\Diploma\\real\\real\\real\\Train_V2\\\\CTC_2\\Markup\\0000023.xml\n",
      "D:\\Data\\Diploma\\real\\real\\real\\Train_V2\\\\CTC_2\\Markup\\0000024.xml\n",
      "D:\\Data\\Diploma\\real\\real\\real\\Train_V2\\\\CTC_2\\Markup\\0000025.xml\n",
      "D:\\Data\\Diploma\\real\\real\\real\\Train_V2\\\\CTC_2\\Markup\\0000026.xml\n",
      "D:\\Data\\Diploma\\real\\real\\real\\Train_V2\\\\CTC_2\\Markup\\0000027.xml\n",
      "D:\\Data\\Diploma\\real\\real\\real\\Train_V2\\\\CTC_2\\Markup\\0000028.xml\n",
      "D:\\Data\\Diploma\\real\\real\\real\\Train_V2\\\\CTC_2\\Markup\\0000029.xml\n",
      "D:\\Data\\Diploma\\real\\real\\real\\Train_V2\\\\CTC_2\\Markup\\0000030.xml\n",
      "D:\\Data\\Diploma\\real\\real\\real\\Train_V2\\\\CTC_2\\Markup\\0000031.xml\n",
      "D:\\Data\\Diploma\\real\\real\\real\\Train_V2\\\\CTC_2\\Markup\\0000032.xml\n",
      "D:\\Data\\Diploma\\real\\real\\real\\Train_V2\\\\CTC_2\\Markup\\0000033.xml\n",
      "D:\\Data\\Diploma\\real\\real\\real\\Train_V2\\\\CTC_2\\Markup\\0000034.xml\n",
      "D:\\Data\\Diploma\\real\\real\\real\\Train_V2\\\\CTC_2\\Markup\\0000035.xml\n",
      "D:\\Data\\Diploma\\real\\real\\real\\Train_V2\\\\CTC_2\\Markup\\0000036.xml\n",
      "D:\\Data\\Diploma\\real\\real\\real\\Train_V2\\\\CTC_2\\Markup\\0000037.xml\n",
      "D:\\Data\\Diploma\\real\\real\\real\\Train_V2\\\\CTC_2\\Markup\\0000038.xml\n",
      "D:\\Data\\Diploma\\real\\real\\real\\Train_V2\\\\CTC_2\\Markup\\0000039.xml\n",
      "D:\\Data\\Diploma\\real\\real\\real\\Train_V2\\\\CTC_2\\Markup\\0000040.xml\n",
      "D:\\Data\\Diploma\\real\\real\\real\\Train_V2\\\\CTC_2\\Markup\\0000041.xml\n",
      "D:\\Data\\Diploma\\real\\real\\real\\Train_V2\\\\CTC_2\\Markup\\0000042.xml\n",
      "D:\\Data\\Diploma\\real\\real\\real\\Train_V2\\\\CTC_2\\Markup\\0000043.xml\n",
      "D:\\Data\\Diploma\\real\\real\\real\\Train_V2\\\\CTC_2\\Markup\\0000044.xml\n",
      "D:\\Data\\Diploma\\real\\real\\real\\Train_V2\\\\CTC_2\\Markup\\0000045.xml\n",
      "D:\\Data\\Diploma\\real\\real\\real\\Train_V2\\\\CTC_2\\Markup\\0000046.xml\n",
      "D:\\Data\\Diploma\\real\\real\\real\\Train_V2\\\\CTC_2\\Markup\\0000047.xml\n",
      "D:\\Data\\Diploma\\real\\real\\real\\Train_V2\\\\CTC_2\\Markup\\0000048.xml\n",
      "D:\\Data\\Diploma\\real\\real\\real\\Train_V2\\\\CTC_2\\Markup\\0000049.xml\n",
      "D:\\Data\\Diploma\\real\\real\\real\\Train_V2\\\\CTC_2\\Markup\\0000050.xml\n",
      "D:\\Data\\Diploma\\real\\real\\real\\Train_V2\\\\CTC_2\\Markup\\0000051.xml\n",
      "\n"
     ]
    },
    {
     "data": {
      "application/vnd.jupyter.widget-view+json": {
       "model_id": "760bcc6501da4aac966e18d57d0fa323",
       "version_major": 2,
       "version_minor": 0
      },
      "text/plain": [
       "HBox(children=(HTML(value=''), FloatProgress(value=0.0, max=70.0), HTML(value='')))"
      ]
     },
     "metadata": {},
     "output_type": "display_data"
    },
    {
     "name": "stdout",
     "output_type": "stream",
     "text": [
      "D:\\Data\\Diploma\\real\\real\\real\\Train_V2\\\\DriverLicense_mix\\Markup\\0000000.xml\n",
      "D:\\Data\\Diploma\\real\\dataset//gt/DriverLicense_mix0000000.xmlCharMap.png\n",
      "D:\\Data\\Diploma\\real\\real\\real\\Train_V2\\\\DriverLicense_mix\\Markup\\0000001.xml\n",
      "D:\\Data\\Diploma\\real\\dataset//gt/DriverLicense_mix0000001.xmlCharMap.png\n",
      "D:\\Data\\Diploma\\real\\real\\real\\Train_V2\\\\DriverLicense_mix\\Markup\\0000002.xml\n",
      "D:\\Data\\Diploma\\real\\dataset//gt/DriverLicense_mix0000002.xmlCharMap.png\n",
      "D:\\Data\\Diploma\\real\\real\\real\\Train_V2\\\\DriverLicense_mix\\Markup\\0000003.xml\n",
      "D:\\Data\\Diploma\\real\\dataset//gt/DriverLicense_mix0000003.xmlCharMap.png\n",
      "D:\\Data\\Diploma\\real\\real\\real\\Train_V2\\\\DriverLicense_mix\\Markup\\0000004.xml\n",
      "D:\\Data\\Diploma\\real\\dataset//gt/DriverLicense_mix0000004.xmlCharMap.png\n",
      "D:\\Data\\Diploma\\real\\real\\real\\Train_V2\\\\DriverLicense_mix\\Markup\\0000005.xml\n",
      "D:\\Data\\Diploma\\real\\dataset//gt/DriverLicense_mix0000005.xmlCharMap.png\n",
      "D:\\Data\\Diploma\\real\\real\\real\\Train_V2\\\\DriverLicense_mix\\Markup\\0000006.xml\n",
      "D:\\Data\\Diploma\\real\\dataset//gt/DriverLicense_mix0000006.xmlCharMap.png\n",
      "D:\\Data\\Diploma\\real\\real\\real\\Train_V2\\\\DriverLicense_mix\\Markup\\0000007.xml\n",
      "D:\\Data\\Diploma\\real\\dataset//gt/DriverLicense_mix0000007.xmlCharMap.png\n",
      "D:\\Data\\Diploma\\real\\real\\real\\Train_V2\\\\DriverLicense_mix\\Markup\\0000008.xml\n",
      "D:\\Data\\Diploma\\real\\dataset//gt/DriverLicense_mix0000008.xmlCharMap.png\n",
      "D:\\Data\\Diploma\\real\\real\\real\\Train_V2\\\\DriverLicense_mix\\Markup\\0000009.xml\n",
      "D:\\Data\\Diploma\\real\\real\\real\\Train_V2\\\\DriverLicense_mix\\Markup\\0000010.xml\n",
      "D:\\Data\\Diploma\\real\\dataset//gt/DriverLicense_mix0000010.xmlCharMap.png\n",
      "D:\\Data\\Diploma\\real\\real\\real\\Train_V2\\\\DriverLicense_mix\\Markup\\0000011.xml\n",
      "D:\\Data\\Diploma\\real\\dataset//gt/DriverLicense_mix0000011.xmlCharMap.png\n",
      "D:\\Data\\Diploma\\real\\real\\real\\Train_V2\\\\DriverLicense_mix\\Markup\\0000012.xml\n",
      "D:\\Data\\Diploma\\real\\dataset//gt/DriverLicense_mix0000012.xmlCharMap.png\n",
      "D:\\Data\\Diploma\\real\\real\\real\\Train_V2\\\\DriverLicense_mix\\Markup\\0000013.xml\n",
      "D:\\Data\\Diploma\\real\\dataset//gt/DriverLicense_mix0000013.xmlCharMap.png\n",
      "D:\\Data\\Diploma\\real\\real\\real\\Train_V2\\\\DriverLicense_mix\\Markup\\0000014.xml\n",
      "D:\\Data\\Diploma\\real\\dataset//gt/DriverLicense_mix0000014.xmlCharMap.png\n",
      "D:\\Data\\Diploma\\real\\real\\real\\Train_V2\\\\DriverLicense_mix\\Markup\\0000015.xml\n",
      "D:\\Data\\Diploma\\real\\dataset//gt/DriverLicense_mix0000015.xmlCharMap.png\n",
      "D:\\Data\\Diploma\\real\\real\\real\\Train_V2\\\\DriverLicense_mix\\Markup\\0000016.xml\n",
      "D:\\Data\\Diploma\\real\\dataset//gt/DriverLicense_mix0000016.xmlCharMap.png\n",
      "D:\\Data\\Diploma\\real\\real\\real\\Train_V2\\\\DriverLicense_mix\\Markup\\0000017.xml\n",
      "D:\\Data\\Diploma\\real\\dataset//gt/DriverLicense_mix0000017.xmlCharMap.png\n",
      "D:\\Data\\Diploma\\real\\real\\real\\Train_V2\\\\DriverLicense_mix\\Markup\\0000018.xml\n",
      "D:\\Data\\Diploma\\real\\dataset//gt/DriverLicense_mix0000018.xmlCharMap.png\n",
      "D:\\Data\\Diploma\\real\\real\\real\\Train_V2\\\\DriverLicense_mix\\Markup\\0000019.xml\n",
      "D:\\Data\\Diploma\\real\\dataset//gt/DriverLicense_mix0000019.xmlCharMap.png\n",
      "D:\\Data\\Diploma\\real\\real\\real\\Train_V2\\\\DriverLicense_mix\\Markup\\0000020.xml\n",
      "D:\\Data\\Diploma\\real\\dataset//gt/DriverLicense_mix0000020.xmlCharMap.png\n",
      "D:\\Data\\Diploma\\real\\real\\real\\Train_V2\\\\DriverLicense_mix\\Markup\\0000021.xml\n",
      "D:\\Data\\Diploma\\real\\dataset//gt/DriverLicense_mix0000021.xmlCharMap.png\n",
      "D:\\Data\\Diploma\\real\\real\\real\\Train_V2\\\\DriverLicense_mix\\Markup\\0000022.xml\n",
      "D:\\Data\\Diploma\\real\\dataset//gt/DriverLicense_mix0000022.xmlCharMap.png\n",
      "D:\\Data\\Diploma\\real\\real\\real\\Train_V2\\\\DriverLicense_mix\\Markup\\0000023.xml\n",
      "D:\\Data\\Diploma\\real\\dataset//gt/DriverLicense_mix0000023.xmlCharMap.png\n",
      "D:\\Data\\Diploma\\real\\real\\real\\Train_V2\\\\DriverLicense_mix\\Markup\\0000024.xml\n",
      "D:\\Data\\Diploma\\real\\dataset//gt/DriverLicense_mix0000024.xmlCharMap.png\n",
      "D:\\Data\\Diploma\\real\\real\\real\\Train_V2\\\\DriverLicense_mix\\Markup\\0000025.xml\n",
      "D:\\Data\\Diploma\\real\\dataset//gt/DriverLicense_mix0000025.xmlCharMap.png\n",
      "D:\\Data\\Diploma\\real\\real\\real\\Train_V2\\\\DriverLicense_mix\\Markup\\0000026.xml\n",
      "D:\\Data\\Diploma\\real\\dataset//gt/DriverLicense_mix0000026.xmlCharMap.png\n",
      "D:\\Data\\Diploma\\real\\real\\real\\Train_V2\\\\DriverLicense_mix\\Markup\\0000027.xml\n",
      "D:\\Data\\Diploma\\real\\dataset//gt/DriverLicense_mix0000027.xmlCharMap.png\n",
      "D:\\Data\\Diploma\\real\\real\\real\\Train_V2\\\\DriverLicense_mix\\Markup\\0000028.xml\n",
      "D:\\Data\\Diploma\\real\\dataset//gt/DriverLicense_mix0000028.xmlCharMap.png\n",
      "D:\\Data\\Diploma\\real\\real\\real\\Train_V2\\\\DriverLicense_mix\\Markup\\0000029.xml\n",
      "D:\\Data\\Diploma\\real\\dataset//gt/DriverLicense_mix0000029.xmlCharMap.png\n",
      "D:\\Data\\Diploma\\real\\real\\real\\Train_V2\\\\DriverLicense_mix\\Markup\\0000030.xml\n",
      "D:\\Data\\Diploma\\real\\dataset//gt/DriverLicense_mix0000030.xmlCharMap.png\n",
      "D:\\Data\\Diploma\\real\\real\\real\\Train_V2\\\\DriverLicense_mix\\Markup\\0000031.xml\n",
      "D:\\Data\\Diploma\\real\\real\\real\\Train_V2\\\\DriverLicense_mix\\Markup\\0000032.xml\n",
      "D:\\Data\\Diploma\\real\\dataset//gt/DriverLicense_mix0000032.xmlCharMap.png\n",
      "D:\\Data\\Diploma\\real\\real\\real\\Train_V2\\\\DriverLicense_mix\\Markup\\0000033.xml\n",
      "D:\\Data\\Diploma\\real\\dataset//gt/DriverLicense_mix0000033.xmlCharMap.png\n",
      "D:\\Data\\Diploma\\real\\real\\real\\Train_V2\\\\DriverLicense_mix\\Markup\\0000034.xml\n",
      "D:\\Data\\Diploma\\real\\dataset//gt/DriverLicense_mix0000034.xmlCharMap.png\n",
      "D:\\Data\\Diploma\\real\\real\\real\\Train_V2\\\\DriverLicense_mix\\Markup\\0000035.xml\n",
      "D:\\Data\\Diploma\\real\\dataset//gt/DriverLicense_mix0000035.xmlCharMap.png\n",
      "D:\\Data\\Diploma\\real\\real\\real\\Train_V2\\\\DriverLicense_mix\\Markup\\0000036.xml\n",
      "D:\\Data\\Diploma\\real\\dataset//gt/DriverLicense_mix0000036.xmlCharMap.png\n",
      "D:\\Data\\Diploma\\real\\real\\real\\Train_V2\\\\DriverLicense_mix\\Markup\\0000037.xml\n",
      "D:\\Data\\Diploma\\real\\dataset//gt/DriverLicense_mix0000037.xmlCharMap.png\n",
      "D:\\Data\\Diploma\\real\\real\\real\\Train_V2\\\\DriverLicense_mix\\Markup\\0000038.xml\n",
      "D:\\Data\\Diploma\\real\\real\\real\\Train_V2\\\\DriverLicense_mix\\Markup\\0000039.xml\n",
      "D:\\Data\\Diploma\\real\\dataset//gt/DriverLicense_mix0000039.xmlCharMap.png\n",
      "D:\\Data\\Diploma\\real\\real\\real\\Train_V2\\\\DriverLicense_mix\\Markup\\0000040.xml\n",
      "D:\\Data\\Diploma\\real\\dataset//gt/DriverLicense_mix0000040.xmlCharMap.png\n",
      "D:\\Data\\Diploma\\real\\real\\real\\Train_V2\\\\DriverLicense_mix\\Markup\\0000041.xml\n",
      "D:\\Data\\Diploma\\real\\dataset//gt/DriverLicense_mix0000041.xmlCharMap.png\n",
      "D:\\Data\\Diploma\\real\\real\\real\\Train_V2\\\\DriverLicense_mix\\Markup\\0000042.xml\n",
      "D:\\Data\\Diploma\\real\\dataset//gt/DriverLicense_mix0000042.xmlCharMap.png\n",
      "D:\\Data\\Diploma\\real\\real\\real\\Train_V2\\\\DriverLicense_mix\\Markup\\0000043.xml\n",
      "D:\\Data\\Diploma\\real\\dataset//gt/DriverLicense_mix0000043.xmlCharMap.png\n",
      "D:\\Data\\Diploma\\real\\real\\real\\Train_V2\\\\DriverLicense_mix\\Markup\\0000044.xml\n",
      "D:\\Data\\Diploma\\real\\dataset//gt/DriverLicense_mix0000044.xmlCharMap.png\n",
      "D:\\Data\\Diploma\\real\\real\\real\\Train_V2\\\\DriverLicense_mix\\Markup\\0000045.xml\n",
      "D:\\Data\\Diploma\\real\\dataset//gt/DriverLicense_mix0000045.xmlCharMap.png\n",
      "D:\\Data\\Diploma\\real\\real\\real\\Train_V2\\\\DriverLicense_mix\\Markup\\0000046.xml\n",
      "D:\\Data\\Diploma\\real\\dataset//gt/DriverLicense_mix0000046.xmlCharMap.png\n",
      "D:\\Data\\Diploma\\real\\real\\real\\Train_V2\\\\DriverLicense_mix\\Markup\\0000047.xml\n",
      "D:\\Data\\Diploma\\real\\dataset//gt/DriverLicense_mix0000047.xmlCharMap.png\n",
      "D:\\Data\\Diploma\\real\\real\\real\\Train_V2\\\\DriverLicense_mix\\Markup\\0000048.xml\n",
      "D:\\Data\\Diploma\\real\\dataset//gt/DriverLicense_mix0000048.xmlCharMap.png\n",
      "D:\\Data\\Diploma\\real\\real\\real\\Train_V2\\\\DriverLicense_mix\\Markup\\0000049.xml\n",
      "D:\\Data\\Diploma\\real\\dataset//gt/DriverLicense_mix0000049.xmlCharMap.png\n",
      "D:\\Data\\Diploma\\real\\real\\real\\Train_V2\\\\DriverLicense_mix\\Markup\\0000050.xml\n",
      "D:\\Data\\Diploma\\real\\dataset//gt/DriverLicense_mix0000050.xmlCharMap.png\n",
      "D:\\Data\\Diploma\\real\\real\\real\\Train_V2\\\\DriverLicense_mix\\Markup\\0000051.xml\n",
      "D:\\Data\\Diploma\\real\\dataset//gt/DriverLicense_mix0000051.xmlCharMap.png\n",
      "D:\\Data\\Diploma\\real\\real\\real\\Train_V2\\\\DriverLicense_mix\\Markup\\0000052.xml\n",
      "D:\\Data\\Diploma\\real\\dataset//gt/DriverLicense_mix0000052.xmlCharMap.png\n",
      "D:\\Data\\Diploma\\real\\real\\real\\Train_V2\\\\DriverLicense_mix\\Markup\\0000053.xml\n",
      "D:\\Data\\Diploma\\real\\dataset//gt/DriverLicense_mix0000053.xmlCharMap.png\n",
      "D:\\Data\\Diploma\\real\\real\\real\\Train_V2\\\\DriverLicense_mix\\Markup\\0000054.xml\n",
      "D:\\Data\\Diploma\\real\\dataset//gt/DriverLicense_mix0000054.xmlCharMap.png\n",
      "D:\\Data\\Diploma\\real\\real\\real\\Train_V2\\\\DriverLicense_mix\\Markup\\0000055.xml\n",
      "D:\\Data\\Diploma\\real\\dataset//gt/DriverLicense_mix0000055.xmlCharMap.png\n",
      "D:\\Data\\Diploma\\real\\real\\real\\Train_V2\\\\DriverLicense_mix\\Markup\\0000056.xml\n"
     ]
    },
    {
     "name": "stdout",
     "output_type": "stream",
     "text": [
      "D:\\Data\\Diploma\\real\\dataset//gt/DriverLicense_mix0000056.xmlCharMap.png\n",
      "D:\\Data\\Diploma\\real\\real\\real\\Train_V2\\\\DriverLicense_mix\\Markup\\0000057.xml\n",
      "D:\\Data\\Diploma\\real\\dataset//gt/DriverLicense_mix0000057.xmlCharMap.png\n",
      "D:\\Data\\Diploma\\real\\real\\real\\Train_V2\\\\DriverLicense_mix\\Markup\\0000058.xml\n",
      "D:\\Data\\Diploma\\real\\dataset//gt/DriverLicense_mix0000058.xmlCharMap.png\n",
      "D:\\Data\\Diploma\\real\\real\\real\\Train_V2\\\\DriverLicense_mix\\Markup\\0000059.xml\n",
      "D:\\Data\\Diploma\\real\\dataset//gt/DriverLicense_mix0000059.xmlCharMap.png\n",
      "D:\\Data\\Diploma\\real\\real\\real\\Train_V2\\\\DriverLicense_mix\\Markup\\0000060.xml\n",
      "D:\\Data\\Diploma\\real\\dataset//gt/DriverLicense_mix0000060.xmlCharMap.png\n",
      "D:\\Data\\Diploma\\real\\real\\real\\Train_V2\\\\DriverLicense_mix\\Markup\\0000061.xml\n",
      "D:\\Data\\Diploma\\real\\dataset//gt/DriverLicense_mix0000061.xmlCharMap.png\n",
      "D:\\Data\\Diploma\\real\\real\\real\\Train_V2\\\\DriverLicense_mix\\Markup\\0000062.xml\n",
      "D:\\Data\\Diploma\\real\\dataset//gt/DriverLicense_mix0000062.xmlCharMap.png\n",
      "D:\\Data\\Diploma\\real\\real\\real\\Train_V2\\\\DriverLicense_mix\\Markup\\0000063.xml\n",
      "D:\\Data\\Diploma\\real\\dataset//gt/DriverLicense_mix0000063.xmlCharMap.png\n",
      "D:\\Data\\Diploma\\real\\real\\real\\Train_V2\\\\DriverLicense_mix\\Markup\\0000064.xml\n",
      "D:\\Data\\Diploma\\real\\dataset//gt/DriverLicense_mix0000064.xmlCharMap.png\n",
      "D:\\Data\\Diploma\\real\\real\\real\\Train_V2\\\\DriverLicense_mix\\Markup\\0000065.xml\n",
      "D:\\Data\\Diploma\\real\\dataset//gt/DriverLicense_mix0000065.xmlCharMap.png\n",
      "D:\\Data\\Diploma\\real\\real\\real\\Train_V2\\\\DriverLicense_mix\\Markup\\0000066.xml\n",
      "D:\\Data\\Diploma\\real\\dataset//gt/DriverLicense_mix0000066.xmlCharMap.png\n",
      "D:\\Data\\Diploma\\real\\real\\real\\Train_V2\\\\DriverLicense_mix\\Markup\\0000067.xml\n",
      "D:\\Data\\Diploma\\real\\dataset//gt/DriverLicense_mix0000067.xmlCharMap.png\n",
      "D:\\Data\\Diploma\\real\\real\\real\\Train_V2\\\\DriverLicense_mix\\Markup\\0000068.xml\n",
      "D:\\Data\\Diploma\\real\\dataset//gt/DriverLicense_mix0000068.xmlCharMap.png\n",
      "D:\\Data\\Diploma\\real\\real\\real\\Train_V2\\\\DriverLicense_mix\\Markup\\0000069.xml\n",
      "D:\\Data\\Diploma\\real\\dataset//gt/DriverLicense_mix0000069.xmlCharMap.png\n",
      "\n"
     ]
    },
    {
     "data": {
      "application/vnd.jupyter.widget-view+json": {
       "model_id": "4162911392f34bf4ba41c1e105bd0209",
       "version_major": 2,
       "version_minor": 0
      },
      "text/plain": [
       "HBox(children=(HTML(value=''), FloatProgress(value=0.0, max=40.0), HTML(value='')))"
      ]
     },
     "metadata": {},
     "output_type": "display_data"
    },
    {
     "name": "stdout",
     "output_type": "stream",
     "text": [
      "D:\\Data\\Diploma\\real\\real\\real\\Train_V2\\\\EgyptianID\\Markup\\0000000.xml\n",
      "D:\\Data\\Diploma\\real\\real\\real\\Train_V2\\\\EgyptianID\\Markup\\0000001.xml\n",
      "D:\\Data\\Diploma\\real\\real\\real\\Train_V2\\\\EgyptianID\\Markup\\0000002.xml\n",
      "D:\\Data\\Diploma\\real\\real\\real\\Train_V2\\\\EgyptianID\\Markup\\0000003.xml\n",
      "D:\\Data\\Diploma\\real\\real\\real\\Train_V2\\\\EgyptianID\\Markup\\0000004.xml\n",
      "D:\\Data\\Diploma\\real\\real\\real\\Train_V2\\\\EgyptianID\\Markup\\0000005.xml\n",
      "D:\\Data\\Diploma\\real\\real\\real\\Train_V2\\\\EgyptianID\\Markup\\0000006.xml\n",
      "D:\\Data\\Diploma\\real\\real\\real\\Train_V2\\\\EgyptianID\\Markup\\0000007.xml\n",
      "D:\\Data\\Diploma\\real\\real\\real\\Train_V2\\\\EgyptianID\\Markup\\0000008.xml\n",
      "D:\\Data\\Diploma\\real\\real\\real\\Train_V2\\\\EgyptianID\\Markup\\0000009.xml\n",
      "D:\\Data\\Diploma\\real\\real\\real\\Train_V2\\\\EgyptianID\\Markup\\0000010.xml\n",
      "D:\\Data\\Diploma\\real\\real\\real\\Train_V2\\\\EgyptianID\\Markup\\0000011.xml\n",
      "D:\\Data\\Diploma\\real\\real\\real\\Train_V2\\\\EgyptianID\\Markup\\0000012.xml\n",
      "D:\\Data\\Diploma\\real\\real\\real\\Train_V2\\\\EgyptianID\\Markup\\0000013.xml\n",
      "D:\\Data\\Diploma\\real\\real\\real\\Train_V2\\\\EgyptianID\\Markup\\0000014.xml\n",
      "D:\\Data\\Diploma\\real\\real\\real\\Train_V2\\\\EgyptianID\\Markup\\0000015.xml\n",
      "D:\\Data\\Diploma\\real\\real\\real\\Train_V2\\\\EgyptianID\\Markup\\0000016.xml\n",
      "D:\\Data\\Diploma\\real\\real\\real\\Train_V2\\\\EgyptianID\\Markup\\0000017.xml\n",
      "D:\\Data\\Diploma\\real\\real\\real\\Train_V2\\\\EgyptianID\\Markup\\0000018.xml\n",
      "D:\\Data\\Diploma\\real\\real\\real\\Train_V2\\\\EgyptianID\\Markup\\0000019.xml\n",
      "D:\\Data\\Diploma\\real\\real\\real\\Train_V2\\\\EgyptianID\\Markup\\0000020.xml\n",
      "D:\\Data\\Diploma\\real\\real\\real\\Train_V2\\\\EgyptianID\\Markup\\0000021.xml\n",
      "D:\\Data\\Diploma\\real\\real\\real\\Train_V2\\\\EgyptianID\\Markup\\0000022.xml\n",
      "D:\\Data\\Diploma\\real\\real\\real\\Train_V2\\\\EgyptianID\\Markup\\0000023.xml\n",
      "D:\\Data\\Diploma\\real\\real\\real\\Train_V2\\\\EgyptianID\\Markup\\0000024.xml\n",
      "D:\\Data\\Diploma\\real\\real\\real\\Train_V2\\\\EgyptianID\\Markup\\0000025.xml\n",
      "D:\\Data\\Diploma\\real\\real\\real\\Train_V2\\\\EgyptianID\\Markup\\0000026.xml\n",
      "D:\\Data\\Diploma\\real\\real\\real\\Train_V2\\\\EgyptianID\\Markup\\0000027.xml\n",
      "D:\\Data\\Diploma\\real\\real\\real\\Train_V2\\\\EgyptianID\\Markup\\0000028.xml\n",
      "D:\\Data\\Diploma\\real\\real\\real\\Train_V2\\\\EgyptianID\\Markup\\0000029.xml\n",
      "D:\\Data\\Diploma\\real\\real\\real\\Train_V2\\\\EgyptianID\\Markup\\0000030.xml\n",
      "D:\\Data\\Diploma\\real\\real\\real\\Train_V2\\\\EgyptianID\\Markup\\0000031.xml\n",
      "D:\\Data\\Diploma\\real\\real\\real\\Train_V2\\\\EgyptianID\\Markup\\0000032.xml\n",
      "D:\\Data\\Diploma\\real\\real\\real\\Train_V2\\\\EgyptianID\\Markup\\0000033.xml\n",
      "D:\\Data\\Diploma\\real\\real\\real\\Train_V2\\\\EgyptianID\\Markup\\0000034.xml\n",
      "D:\\Data\\Diploma\\real\\real\\real\\Train_V2\\\\EgyptianID\\Markup\\0000035.xml\n",
      "D:\\Data\\Diploma\\real\\real\\real\\Train_V2\\\\EgyptianID\\Markup\\0000036.xml\n",
      "D:\\Data\\Diploma\\real\\real\\real\\Train_V2\\\\EgyptianID\\Markup\\0000037.xml\n",
      "D:\\Data\\Diploma\\real\\real\\real\\Train_V2\\\\EgyptianID\\Markup\\0000038.xml\n",
      "D:\\Data\\Diploma\\real\\real\\real\\Train_V2\\\\EgyptianID\\Markup\\0000039.xml\n",
      "\n"
     ]
    },
    {
     "data": {
      "application/vnd.jupyter.widget-view+json": {
       "model_id": "9afe543191954d8a91dc436fb43e0dee",
       "version_major": 2,
       "version_minor": 0
      },
      "text/plain": [
       "HBox(children=(HTML(value=''), FloatProgress(value=0.0, max=40.0), HTML(value='')))"
      ]
     },
     "metadata": {},
     "output_type": "display_data"
    },
    {
     "name": "stdout",
     "output_type": "stream",
     "text": [
      "D:\\Data\\Diploma\\real\\real\\real\\Train_V2\\\\EU_driver_license\\Markup\\0000000.xml\n",
      "D:\\Data\\Diploma\\real\\dataset//gt/EU_driver_license0000000.xmlCharMap.png\n",
      "D:\\Data\\Diploma\\real\\real\\real\\Train_V2\\\\EU_driver_license\\Markup\\0000001.xml\n",
      "D:\\Data\\Diploma\\real\\dataset//gt/EU_driver_license0000001.xmlCharMap.png\n",
      "D:\\Data\\Diploma\\real\\real\\real\\Train_V2\\\\EU_driver_license\\Markup\\0000002.xml\n",
      "D:\\Data\\Diploma\\real\\dataset//gt/EU_driver_license0000002.xmlCharMap.png\n",
      "D:\\Data\\Diploma\\real\\real\\real\\Train_V2\\\\EU_driver_license\\Markup\\0000003.xml\n",
      "D:\\Data\\Diploma\\real\\dataset//gt/EU_driver_license0000003.xmlCharMap.png\n",
      "D:\\Data\\Diploma\\real\\real\\real\\Train_V2\\\\EU_driver_license\\Markup\\0000004.xml\n",
      "D:\\Data\\Diploma\\real\\dataset//gt/EU_driver_license0000004.xmlCharMap.png\n",
      "D:\\Data\\Diploma\\real\\real\\real\\Train_V2\\\\EU_driver_license\\Markup\\0000005.xml\n",
      "D:\\Data\\Diploma\\real\\dataset//gt/EU_driver_license0000005.xmlCharMap.png\n",
      "D:\\Data\\Diploma\\real\\real\\real\\Train_V2\\\\EU_driver_license\\Markup\\0000006.xml\n",
      "D:\\Data\\Diploma\\real\\dataset//gt/EU_driver_license0000006.xmlCharMap.png\n",
      "D:\\Data\\Diploma\\real\\real\\real\\Train_V2\\\\EU_driver_license\\Markup\\0000007.xml\n",
      "D:\\Data\\Diploma\\real\\dataset//gt/EU_driver_license0000007.xmlCharMap.png\n",
      "D:\\Data\\Diploma\\real\\real\\real\\Train_V2\\\\EU_driver_license\\Markup\\0000008.xml\n",
      "D:\\Data\\Diploma\\real\\dataset//gt/EU_driver_license0000008.xmlCharMap.png\n",
      "D:\\Data\\Diploma\\real\\real\\real\\Train_V2\\\\EU_driver_license\\Markup\\0000009.xml\n",
      "D:\\Data\\Diploma\\real\\dataset//gt/EU_driver_license0000009.xmlCharMap.png\n",
      "D:\\Data\\Diploma\\real\\real\\real\\Train_V2\\\\EU_driver_license\\Markup\\0000010.xml\n",
      "D:\\Data\\Diploma\\real\\dataset//gt/EU_driver_license0000010.xmlCharMap.png\n",
      "D:\\Data\\Diploma\\real\\real\\real\\Train_V2\\\\EU_driver_license\\Markup\\0000011.xml\n",
      "D:\\Data\\Diploma\\real\\dataset//gt/EU_driver_license0000011.xmlCharMap.png\n",
      "D:\\Data\\Diploma\\real\\real\\real\\Train_V2\\\\EU_driver_license\\Markup\\0000012.xml\n",
      "D:\\Data\\Diploma\\real\\dataset//gt/EU_driver_license0000012.xmlCharMap.png\n",
      "D:\\Data\\Diploma\\real\\real\\real\\Train_V2\\\\EU_driver_license\\Markup\\0000013.xml\n",
      "D:\\Data\\Diploma\\real\\dataset//gt/EU_driver_license0000013.xmlCharMap.png\n",
      "D:\\Data\\Diploma\\real\\real\\real\\Train_V2\\\\EU_driver_license\\Markup\\0000014.xml\n",
      "D:\\Data\\Diploma\\real\\dataset//gt/EU_driver_license0000014.xmlCharMap.png\n",
      "D:\\Data\\Diploma\\real\\real\\real\\Train_V2\\\\EU_driver_license\\Markup\\0000015.xml\n",
      "D:\\Data\\Diploma\\real\\dataset//gt/EU_driver_license0000015.xmlCharMap.png\n",
      "D:\\Data\\Diploma\\real\\real\\real\\Train_V2\\\\EU_driver_license\\Markup\\0000016.xml\n",
      "D:\\Data\\Diploma\\real\\dataset//gt/EU_driver_license0000016.xmlCharMap.png\n",
      "D:\\Data\\Diploma\\real\\real\\real\\Train_V2\\\\EU_driver_license\\Markup\\0000017.xml\n",
      "D:\\Data\\Diploma\\real\\dataset//gt/EU_driver_license0000017.xmlCharMap.png\n",
      "D:\\Data\\Diploma\\real\\real\\real\\Train_V2\\\\EU_driver_license\\Markup\\0000018.xml\n",
      "D:\\Data\\Diploma\\real\\dataset//gt/EU_driver_license0000018.xmlCharMap.png\n",
      "D:\\Data\\Diploma\\real\\real\\real\\Train_V2\\\\EU_driver_license\\Markup\\0000019.xml\n",
      "D:\\Data\\Diploma\\real\\dataset//gt/EU_driver_license0000019.xmlCharMap.png\n",
      "D:\\Data\\Diploma\\real\\real\\real\\Train_V2\\\\EU_driver_license\\Markup\\0000020.xml\n",
      "D:\\Data\\Diploma\\real\\dataset//gt/EU_driver_license0000020.xmlCharMap.png\n",
      "D:\\Data\\Diploma\\real\\real\\real\\Train_V2\\\\EU_driver_license\\Markup\\0000021.xml\n",
      "D:\\Data\\Diploma\\real\\dataset//gt/EU_driver_license0000021.xmlCharMap.png\n",
      "D:\\Data\\Diploma\\real\\real\\real\\Train_V2\\\\EU_driver_license\\Markup\\0000022.xml\n",
      "D:\\Data\\Diploma\\real\\dataset//gt/EU_driver_license0000022.xmlCharMap.png\n",
      "D:\\Data\\Diploma\\real\\real\\real\\Train_V2\\\\EU_driver_license\\Markup\\0000023.xml\n",
      "D:\\Data\\Diploma\\real\\dataset//gt/EU_driver_license0000023.xmlCharMap.png\n",
      "D:\\Data\\Diploma\\real\\real\\real\\Train_V2\\\\EU_driver_license\\Markup\\0000024.xml\n",
      "D:\\Data\\Diploma\\real\\dataset//gt/EU_driver_license0000024.xmlCharMap.png\n",
      "D:\\Data\\Diploma\\real\\real\\real\\Train_V2\\\\EU_driver_license\\Markup\\0000025.xml\n",
      "D:\\Data\\Diploma\\real\\dataset//gt/EU_driver_license0000025.xmlCharMap.png\n",
      "D:\\Data\\Diploma\\real\\real\\real\\Train_V2\\\\EU_driver_license\\Markup\\0000026.xml\n",
      "second filter 0 94 region\n",
      "D:\\Data\\Diploma\\real\\dataset//gt/EU_driver_license0000026.xmlCharMap.png\n",
      "D:\\Data\\Diploma\\real\\real\\real\\Train_V2\\\\EU_driver_license\\Markup\\0000027.xml\n",
      "D:\\Data\\Diploma\\real\\dataset//gt/EU_driver_license0000027.xmlCharMap.png\n",
      "D:\\Data\\Diploma\\real\\real\\real\\Train_V2\\\\EU_driver_license\\Markup\\0000028.xml\n",
      "D:\\Data\\Diploma\\real\\dataset//gt/EU_driver_license0000028.xmlCharMap.png\n",
      "D:\\Data\\Diploma\\real\\real\\real\\Train_V2\\\\EU_driver_license\\Markup\\0000029.xml\n",
      "D:\\Data\\Diploma\\real\\dataset//gt/EU_driver_license0000029.xmlCharMap.png\n",
      "D:\\Data\\Diploma\\real\\real\\real\\Train_V2\\\\EU_driver_license\\Markup\\0000030.xml\n",
      "D:\\Data\\Diploma\\real\\dataset//gt/EU_driver_license0000030.xmlCharMap.png\n",
      "D:\\Data\\Diploma\\real\\real\\real\\Train_V2\\\\EU_driver_license\\Markup\\0000031.xml\n",
      "D:\\Data\\Diploma\\real\\dataset//gt/EU_driver_license0000031.xmlCharMap.png\n",
      "D:\\Data\\Diploma\\real\\real\\real\\Train_V2\\\\EU_driver_license\\Markup\\0000032.xml\n",
      "D:\\Data\\Diploma\\real\\dataset//gt/EU_driver_license0000032.xmlCharMap.png\n",
      "D:\\Data\\Diploma\\real\\real\\real\\Train_V2\\\\EU_driver_license\\Markup\\0000033.xml\n",
      "D:\\Data\\Diploma\\real\\dataset//gt/EU_driver_license0000033.xmlCharMap.png\n",
      "D:\\Data\\Diploma\\real\\real\\real\\Train_V2\\\\EU_driver_license\\Markup\\0000034.xml\n",
      "D:\\Data\\Diploma\\real\\dataset//gt/EU_driver_license0000034.xmlCharMap.png\n",
      "D:\\Data\\Diploma\\real\\real\\real\\Train_V2\\\\EU_driver_license\\Markup\\0000035.xml\n",
      "D:\\Data\\Diploma\\real\\dataset//gt/EU_driver_license0000035.xmlCharMap.png\n",
      "D:\\Data\\Diploma\\real\\real\\real\\Train_V2\\\\EU_driver_license\\Markup\\0000036.xml\n",
      "D:\\Data\\Diploma\\real\\dataset//gt/EU_driver_license0000036.xmlCharMap.png\n",
      "D:\\Data\\Diploma\\real\\real\\real\\Train_V2\\\\EU_driver_license\\Markup\\0000037.xml\n",
      "D:\\Data\\Diploma\\real\\dataset//gt/EU_driver_license0000037.xmlCharMap.png\n",
      "D:\\Data\\Diploma\\real\\real\\real\\Train_V2\\\\EU_driver_license\\Markup\\0000038.xml\n",
      "D:\\Data\\Diploma\\real\\dataset//gt/EU_driver_license0000038.xmlCharMap.png\n",
      "D:\\Data\\Diploma\\real\\real\\real\\Train_V2\\\\EU_driver_license\\Markup\\0000039.xml\n",
      "D:\\Data\\Diploma\\real\\dataset//gt/EU_driver_license0000039.xmlCharMap.png\n",
      "\n"
     ]
    },
    {
     "data": {
      "application/vnd.jupyter.widget-view+json": {
       "model_id": "3d3ef3ef510d4b16a9d5e728aa9a8c39",
       "version_major": 2,
       "version_minor": 0
      },
      "text/plain": [
       "HBox(children=(HTML(value=''), FloatProgress(value=0.0, max=3.0), HTML(value='')))"
      ]
     },
     "metadata": {},
     "output_type": "display_data"
    },
    {
     "name": "stdout",
     "output_type": "stream",
     "text": [
      "D:\\Data\\Diploma\\real\\real\\real\\Train_V2\\\\FrenchID\\Markup\\0000000.xml\n",
      "D:\\Data\\Diploma\\real\\real\\real\\Train_V2\\\\FrenchID\\Markup\\0000001.xml\n",
      "D:\\Data\\Diploma\\real\\real\\real\\Train_V2\\\\FrenchID\\Markup\\0000002.xml\n",
      "\n"
     ]
    },
    {
     "data": {
      "application/vnd.jupyter.widget-view+json": {
       "model_id": "7b22ba818bd34e0d9ca8d25170344156",
       "version_major": 2,
       "version_minor": 0
      },
      "text/plain": [
       "HBox(children=(HTML(value=''), FloatProgress(value=0.0, max=3.0), HTML(value='')))"
      ]
     },
     "metadata": {},
     "output_type": "display_data"
    },
    {
     "name": "stdout",
     "output_type": "stream",
     "text": [
      "D:\\Data\\Diploma\\real\\real\\real\\Train_V2\\\\German.ID\\Markup\\0000000.xml\n",
      "D:\\Data\\Diploma\\real\\real\\real\\Train_V2\\\\German.ID\\Markup\\0000001.xml\n",
      "D:\\Data\\Diploma\\real\\real\\real\\Train_V2\\\\German.ID\\Markup\\0000002.xml\n",
      "\n"
     ]
    },
    {
     "data": {
      "application/vnd.jupyter.widget-view+json": {
       "model_id": "7c06f464adcd4babafe03f2045b6d767",
       "version_major": 2,
       "version_minor": 0
      },
      "text/plain": [
       "HBox(children=(HTML(value=''), FloatProgress(value=0.0, max=55.0), HTML(value='')))"
      ]
     },
     "metadata": {},
     "output_type": "display_data"
    },
    {
     "name": "stdout",
     "output_type": "stream",
     "text": [
      "D:\\Data\\Diploma\\real\\real\\real\\Train_V2\\\\IDForDA\\Markup\\0000000.xml\n",
      "D:\\Data\\Diploma\\real\\dataset//gt/IDForDA0000000.xmlCharMap.png\n",
      "D:\\Data\\Diploma\\real\\real\\real\\Train_V2\\\\IDForDA\\Markup\\0000001.xml\n",
      "D:\\Data\\Diploma\\real\\dataset//gt/IDForDA0000001.xmlCharMap.png\n",
      "D:\\Data\\Diploma\\real\\real\\real\\Train_V2\\\\IDForDA\\Markup\\0000002.xml\n",
      "D:\\Data\\Diploma\\real\\dataset//gt/IDForDA0000002.xmlCharMap.png\n",
      "D:\\Data\\Diploma\\real\\real\\real\\Train_V2\\\\IDForDA\\Markup\\0000003.xml\n",
      "D:\\Data\\Diploma\\real\\dataset//gt/IDForDA0000003.xmlCharMap.png\n",
      "D:\\Data\\Diploma\\real\\real\\real\\Train_V2\\\\IDForDA\\Markup\\0000004.xml\n",
      "D:\\Data\\Diploma\\real\\dataset//gt/IDForDA0000004.xmlCharMap.png\n",
      "D:\\Data\\Diploma\\real\\real\\real\\Train_V2\\\\IDForDA\\Markup\\0000005.xml\n",
      "D:\\Data\\Diploma\\real\\dataset//gt/IDForDA0000005.xmlCharMap.png\n",
      "D:\\Data\\Diploma\\real\\real\\real\\Train_V2\\\\IDForDA\\Markup\\0000006.xml\n",
      "D:\\Data\\Diploma\\real\\dataset//gt/IDForDA0000006.xmlCharMap.png\n",
      "D:\\Data\\Diploma\\real\\real\\real\\Train_V2\\\\IDForDA\\Markup\\0000007.xml\n",
      "D:\\Data\\Diploma\\real\\dataset//gt/IDForDA0000007.xmlCharMap.png\n",
      "D:\\Data\\Diploma\\real\\real\\real\\Train_V2\\\\IDForDA\\Markup\\0000008.xml\n",
      "D:\\Data\\Diploma\\real\\dataset//gt/IDForDA0000008.xmlCharMap.png\n",
      "D:\\Data\\Diploma\\real\\real\\real\\Train_V2\\\\IDForDA\\Markup\\0000009.xml\n",
      "D:\\Data\\Diploma\\real\\dataset//gt/IDForDA0000009.xmlCharMap.png\n",
      "D:\\Data\\Diploma\\real\\real\\real\\Train_V2\\\\IDForDA\\Markup\\0000010.xml\n",
      "D:\\Data\\Diploma\\real\\dataset//gt/IDForDA0000010.xmlCharMap.png\n",
      "D:\\Data\\Diploma\\real\\real\\real\\Train_V2\\\\IDForDA\\Markup\\0000011.xml\n",
      "D:\\Data\\Diploma\\real\\dataset//gt/IDForDA0000011.xmlCharMap.png\n",
      "D:\\Data\\Diploma\\real\\real\\real\\Train_V2\\\\IDForDA\\Markup\\0000012.xml\n",
      "D:\\Data\\Diploma\\real\\dataset//gt/IDForDA0000012.xmlCharMap.png\n",
      "D:\\Data\\Diploma\\real\\real\\real\\Train_V2\\\\IDForDA\\Markup\\0000013.xml\n",
      "D:\\Data\\Diploma\\real\\dataset//gt/IDForDA0000013.xmlCharMap.png\n",
      "D:\\Data\\Diploma\\real\\real\\real\\Train_V2\\\\IDForDA\\Markup\\0000014.xml\n",
      "D:\\Data\\Diploma\\real\\dataset//gt/IDForDA0000014.xmlCharMap.png\n",
      "D:\\Data\\Diploma\\real\\real\\real\\Train_V2\\\\IDForDA\\Markup\\0000015.xml\n",
      "D:\\Data\\Diploma\\real\\dataset//gt/IDForDA0000015.xmlCharMap.png\n",
      "D:\\Data\\Diploma\\real\\real\\real\\Train_V2\\\\IDForDA\\Markup\\0000016.xml\n",
      "D:\\Data\\Diploma\\real\\dataset//gt/IDForDA0000016.xmlCharMap.png\n",
      "D:\\Data\\Diploma\\real\\real\\real\\Train_V2\\\\IDForDA\\Markup\\0000017.xml\n",
      "D:\\Data\\Diploma\\real\\dataset//gt/IDForDA0000017.xmlCharMap.png\n",
      "D:\\Data\\Diploma\\real\\real\\real\\Train_V2\\\\IDForDA\\Markup\\0000018.xml\n",
      "D:\\Data\\Diploma\\real\\dataset//gt/IDForDA0000018.xmlCharMap.png\n",
      "D:\\Data\\Diploma\\real\\real\\real\\Train_V2\\\\IDForDA\\Markup\\0000019.xml\n",
      "D:\\Data\\Diploma\\real\\dataset//gt/IDForDA0000019.xmlCharMap.png\n",
      "D:\\Data\\Diploma\\real\\real\\real\\Train_V2\\\\IDForDA\\Markup\\0000020.xml\n",
      "D:\\Data\\Diploma\\real\\dataset//gt/IDForDA0000020.xmlCharMap.png\n",
      "D:\\Data\\Diploma\\real\\real\\real\\Train_V2\\\\IDForDA\\Markup\\0000021.xml\n",
      "D:\\Data\\Diploma\\real\\dataset//gt/IDForDA0000021.xmlCharMap.png\n",
      "D:\\Data\\Diploma\\real\\real\\real\\Train_V2\\\\IDForDA\\Markup\\0000022.xml\n",
      "D:\\Data\\Diploma\\real\\dataset//gt/IDForDA0000022.xmlCharMap.png\n",
      "D:\\Data\\Diploma\\real\\real\\real\\Train_V2\\\\IDForDA\\Markup\\0000023.xml\n",
      "D:\\Data\\Diploma\\real\\dataset//gt/IDForDA0000023.xmlCharMap.png\n",
      "D:\\Data\\Diploma\\real\\real\\real\\Train_V2\\\\IDForDA\\Markup\\0000024.xml\n",
      "D:\\Data\\Diploma\\real\\dataset//gt/IDForDA0000024.xmlCharMap.png\n",
      "D:\\Data\\Diploma\\real\\real\\real\\Train_V2\\\\IDForDA\\Markup\\0000025.xml\n",
      "D:\\Data\\Diploma\\real\\dataset//gt/IDForDA0000025.xmlCharMap.png\n",
      "D:\\Data\\Diploma\\real\\real\\real\\Train_V2\\\\IDForDA\\Markup\\0000026.xml\n",
      "D:\\Data\\Diploma\\real\\dataset//gt/IDForDA0000026.xmlCharMap.png\n",
      "D:\\Data\\Diploma\\real\\real\\real\\Train_V2\\\\IDForDA\\Markup\\0000027.xml\n",
      "D:\\Data\\Diploma\\real\\dataset//gt/IDForDA0000027.xmlCharMap.png\n",
      "D:\\Data\\Diploma\\real\\real\\real\\Train_V2\\\\IDForDA\\Markup\\0000028.xml\n",
      "D:\\Data\\Diploma\\real\\dataset//gt/IDForDA0000028.xmlCharMap.png\n",
      "D:\\Data\\Diploma\\real\\real\\real\\Train_V2\\\\IDForDA\\Markup\\0000029.xml\n",
      "D:\\Data\\Diploma\\real\\dataset//gt/IDForDA0000029.xmlCharMap.png\n",
      "D:\\Data\\Diploma\\real\\real\\real\\Train_V2\\\\IDForDA\\Markup\\0000030.xml\n",
      "D:\\Data\\Diploma\\real\\dataset//gt/IDForDA0000030.xmlCharMap.png\n",
      "D:\\Data\\Diploma\\real\\real\\real\\Train_V2\\\\IDForDA\\Markup\\0000031.xml\n",
      "D:\\Data\\Diploma\\real\\dataset//gt/IDForDA0000031.xmlCharMap.png\n",
      "D:\\Data\\Diploma\\real\\real\\real\\Train_V2\\\\IDForDA\\Markup\\0000032.xml\n",
      "D:\\Data\\Diploma\\real\\dataset//gt/IDForDA0000032.xmlCharMap.png\n",
      "D:\\Data\\Diploma\\real\\real\\real\\Train_V2\\\\IDForDA\\Markup\\0000033.xml\n",
      "D:\\Data\\Diploma\\real\\dataset//gt/IDForDA0000033.xmlCharMap.png\n",
      "D:\\Data\\Diploma\\real\\real\\real\\Train_V2\\\\IDForDA\\Markup\\0000034.xml\n",
      "D:\\Data\\Diploma\\real\\dataset//gt/IDForDA0000034.xmlCharMap.png\n",
      "D:\\Data\\Diploma\\real\\real\\real\\Train_V2\\\\IDForDA\\Markup\\0000035.xml\n",
      "D:\\Data\\Diploma\\real\\dataset//gt/IDForDA0000035.xmlCharMap.png\n",
      "D:\\Data\\Diploma\\real\\real\\real\\Train_V2\\\\IDForDA\\Markup\\0000036.xml\n",
      "D:\\Data\\Diploma\\real\\dataset//gt/IDForDA0000036.xmlCharMap.png\n",
      "D:\\Data\\Diploma\\real\\real\\real\\Train_V2\\\\IDForDA\\Markup\\0000037.xml\n",
      "D:\\Data\\Diploma\\real\\dataset//gt/IDForDA0000037.xmlCharMap.png\n",
      "D:\\Data\\Diploma\\real\\real\\real\\Train_V2\\\\IDForDA\\Markup\\0000038.xml\n",
      "D:\\Data\\Diploma\\real\\dataset//gt/IDForDA0000038.xmlCharMap.png\n",
      "D:\\Data\\Diploma\\real\\real\\real\\Train_V2\\\\IDForDA\\Markup\\0000039.xml\n",
      "D:\\Data\\Diploma\\real\\dataset//gt/IDForDA0000039.xmlCharMap.png\n",
      "D:\\Data\\Diploma\\real\\real\\real\\Train_V2\\\\IDForDA\\Markup\\0000040.xml\n",
      "D:\\Data\\Diploma\\real\\dataset//gt/IDForDA0000040.xmlCharMap.png\n",
      "D:\\Data\\Diploma\\real\\real\\real\\Train_V2\\\\IDForDA\\Markup\\0000041.xml\n",
      "D:\\Data\\Diploma\\real\\dataset//gt/IDForDA0000041.xmlCharMap.png\n",
      "D:\\Data\\Diploma\\real\\real\\real\\Train_V2\\\\IDForDA\\Markup\\0000042.xml\n",
      "D:\\Data\\Diploma\\real\\dataset//gt/IDForDA0000042.xmlCharMap.png\n",
      "D:\\Data\\Diploma\\real\\real\\real\\Train_V2\\\\IDForDA\\Markup\\0000043.xml\n",
      "D:\\Data\\Diploma\\real\\dataset//gt/IDForDA0000043.xmlCharMap.png\n",
      "D:\\Data\\Diploma\\real\\real\\real\\Train_V2\\\\IDForDA\\Markup\\0000044.xml\n",
      "D:\\Data\\Diploma\\real\\dataset//gt/IDForDA0000044.xmlCharMap.png\n",
      "D:\\Data\\Diploma\\real\\real\\real\\Train_V2\\\\IDForDA\\Markup\\0000045.xml\n",
      "D:\\Data\\Diploma\\real\\dataset//gt/IDForDA0000045.xmlCharMap.png\n",
      "D:\\Data\\Diploma\\real\\real\\real\\Train_V2\\\\IDForDA\\Markup\\0000046.xml\n",
      "D:\\Data\\Diploma\\real\\dataset//gt/IDForDA0000046.xmlCharMap.png\n",
      "D:\\Data\\Diploma\\real\\real\\real\\Train_V2\\\\IDForDA\\Markup\\0000047.xml\n",
      "D:\\Data\\Diploma\\real\\dataset//gt/IDForDA0000047.xmlCharMap.png\n",
      "D:\\Data\\Diploma\\real\\real\\real\\Train_V2\\\\IDForDA\\Markup\\0000048.xml\n",
      "D:\\Data\\Diploma\\real\\dataset//gt/IDForDA0000048.xmlCharMap.png\n",
      "D:\\Data\\Diploma\\real\\real\\real\\Train_V2\\\\IDForDA\\Markup\\0000049.xml\n",
      "D:\\Data\\Diploma\\real\\dataset//gt/IDForDA0000049.xmlCharMap.png\n",
      "D:\\Data\\Diploma\\real\\real\\real\\Train_V2\\\\IDForDA\\Markup\\0000050.xml\n",
      "D:\\Data\\Diploma\\real\\dataset//gt/IDForDA0000050.xmlCharMap.png\n",
      "D:\\Data\\Diploma\\real\\real\\real\\Train_V2\\\\IDForDA\\Markup\\0000051.xml\n",
      "D:\\Data\\Diploma\\real\\dataset//gt/IDForDA0000051.xmlCharMap.png\n",
      "D:\\Data\\Diploma\\real\\real\\real\\Train_V2\\\\IDForDA\\Markup\\0000052.xml\n",
      "D:\\Data\\Diploma\\real\\dataset//gt/IDForDA0000052.xmlCharMap.png\n",
      "D:\\Data\\Diploma\\real\\real\\real\\Train_V2\\\\IDForDA\\Markup\\0000053.xml\n",
      "D:\\Data\\Diploma\\real\\dataset//gt/IDForDA0000053.xmlCharMap.png\n",
      "D:\\Data\\Diploma\\real\\real\\real\\Train_V2\\\\IDForDA\\Markup\\0000054.xml\n",
      "D:\\Data\\Diploma\\real\\dataset//gt/IDForDA0000054.xmlCharMap.png\n",
      "\n"
     ]
    },
    {
     "data": {
      "application/vnd.jupyter.widget-view+json": {
       "model_id": "40841c926a1c40dba34f1d426ff57433",
       "version_major": 2,
       "version_minor": 0
      },
      "text/plain": [
       "HBox(children=(HTML(value=''), FloatProgress(value=0.0, max=30.0), HTML(value='')))"
      ]
     },
     "metadata": {},
     "output_type": "display_data"
    },
    {
     "name": "stdout",
     "output_type": "stream",
     "text": [
      "D:\\Data\\Diploma\\real\\real\\real\\Train_V2\\\\ILLINOIS_photo\\Markup\\0000000.xml\n",
      "D:\\Data\\Diploma\\real\\dataset//gt/ILLINOIS_photo0000000.xmlCharMap.png\n",
      "D:\\Data\\Diploma\\real\\real\\real\\Train_V2\\\\ILLINOIS_photo\\Markup\\0000001.xml\n",
      "D:\\Data\\Diploma\\real\\dataset//gt/ILLINOIS_photo0000001.xmlCharMap.png\n",
      "D:\\Data\\Diploma\\real\\real\\real\\Train_V2\\\\ILLINOIS_photo\\Markup\\0000002.xml\n",
      "D:\\Data\\Diploma\\real\\dataset//gt/ILLINOIS_photo0000002.xmlCharMap.png\n",
      "D:\\Data\\Diploma\\real\\real\\real\\Train_V2\\\\ILLINOIS_photo\\Markup\\0000003.xml\n",
      "D:\\Data\\Diploma\\real\\dataset//gt/ILLINOIS_photo0000003.xmlCharMap.png\n",
      "D:\\Data\\Diploma\\real\\real\\real\\Train_V2\\\\ILLINOIS_photo\\Markup\\0000004.xml\n",
      "D:\\Data\\Diploma\\real\\dataset//gt/ILLINOIS_photo0000004.xmlCharMap.png\n",
      "D:\\Data\\Diploma\\real\\real\\real\\Train_V2\\\\ILLINOIS_photo\\Markup\\0000005.xml\n",
      "D:\\Data\\Diploma\\real\\dataset//gt/ILLINOIS_photo0000005.xmlCharMap.png\n",
      "D:\\Data\\Diploma\\real\\real\\real\\Train_V2\\\\ILLINOIS_photo\\Markup\\0000006.xml\n",
      "D:\\Data\\Diploma\\real\\dataset//gt/ILLINOIS_photo0000006.xmlCharMap.png\n",
      "D:\\Data\\Diploma\\real\\real\\real\\Train_V2\\\\ILLINOIS_photo\\Markup\\0000007.xml\n",
      "D:\\Data\\Diploma\\real\\dataset//gt/ILLINOIS_photo0000007.xmlCharMap.png\n",
      "D:\\Data\\Diploma\\real\\real\\real\\Train_V2\\\\ILLINOIS_photo\\Markup\\0000008.xml\n",
      "D:\\Data\\Diploma\\real\\dataset//gt/ILLINOIS_photo0000008.xmlCharMap.png\n",
      "D:\\Data\\Diploma\\real\\real\\real\\Train_V2\\\\ILLINOIS_photo\\Markup\\0000009.xml\n",
      "D:\\Data\\Diploma\\real\\dataset//gt/ILLINOIS_photo0000009.xmlCharMap.png\n",
      "D:\\Data\\Diploma\\real\\real\\real\\Train_V2\\\\ILLINOIS_photo\\Markup\\0000010.xml\n",
      "D:\\Data\\Diploma\\real\\dataset//gt/ILLINOIS_photo0000010.xmlCharMap.png\n",
      "D:\\Data\\Diploma\\real\\real\\real\\Train_V2\\\\ILLINOIS_photo\\Markup\\0000011.xml\n",
      "second filter 18 0 region\n",
      "D:\\Data\\Diploma\\real\\dataset//gt/ILLINOIS_photo0000011.xmlCharMap.png\n",
      "D:\\Data\\Diploma\\real\\real\\real\\Train_V2\\\\ILLINOIS_photo\\Markup\\0000012.xml\n",
      "D:\\Data\\Diploma\\real\\dataset//gt/ILLINOIS_photo0000012.xmlCharMap.png\n",
      "D:\\Data\\Diploma\\real\\real\\real\\Train_V2\\\\ILLINOIS_photo\\Markup\\0000013.xml\n",
      "D:\\Data\\Diploma\\real\\dataset//gt/ILLINOIS_photo0000013.xmlCharMap.png\n",
      "D:\\Data\\Diploma\\real\\real\\real\\Train_V2\\\\ILLINOIS_photo\\Markup\\0000014.xml\n",
      "D:\\Data\\Diploma\\real\\dataset//gt/ILLINOIS_photo0000014.xmlCharMap.png\n",
      "D:\\Data\\Diploma\\real\\real\\real\\Train_V2\\\\ILLINOIS_photo\\Markup\\0000015.xml\n",
      "D:\\Data\\Diploma\\real\\dataset//gt/ILLINOIS_photo0000015.xmlCharMap.png\n",
      "D:\\Data\\Diploma\\real\\real\\real\\Train_V2\\\\ILLINOIS_photo\\Markup\\0000016.xml\n",
      "D:\\Data\\Diploma\\real\\dataset//gt/ILLINOIS_photo0000016.xmlCharMap.png\n",
      "D:\\Data\\Diploma\\real\\real\\real\\Train_V2\\\\ILLINOIS_photo\\Markup\\0000017.xml\n",
      "D:\\Data\\Diploma\\real\\dataset//gt/ILLINOIS_photo0000017.xmlCharMap.png\n",
      "D:\\Data\\Diploma\\real\\real\\real\\Train_V2\\\\ILLINOIS_photo\\Markup\\0000018.xml\n",
      "D:\\Data\\Diploma\\real\\dataset//gt/ILLINOIS_photo0000018.xmlCharMap.png\n",
      "D:\\Data\\Diploma\\real\\real\\real\\Train_V2\\\\ILLINOIS_photo\\Markup\\0000019.xml\n",
      "D:\\Data\\Diploma\\real\\dataset//gt/ILLINOIS_photo0000019.xmlCharMap.png\n",
      "D:\\Data\\Diploma\\real\\real\\real\\Train_V2\\\\ILLINOIS_photo\\Markup\\0000020.xml\n",
      "D:\\Data\\Diploma\\real\\dataset//gt/ILLINOIS_photo0000020.xmlCharMap.png\n",
      "D:\\Data\\Diploma\\real\\real\\real\\Train_V2\\\\ILLINOIS_photo\\Markup\\0000021.xml\n",
      "D:\\Data\\Diploma\\real\\dataset//gt/ILLINOIS_photo0000021.xmlCharMap.png\n",
      "D:\\Data\\Diploma\\real\\real\\real\\Train_V2\\\\ILLINOIS_photo\\Markup\\0000022.xml\n",
      "D:\\Data\\Diploma\\real\\dataset//gt/ILLINOIS_photo0000022.xmlCharMap.png\n",
      "D:\\Data\\Diploma\\real\\real\\real\\Train_V2\\\\ILLINOIS_photo\\Markup\\0000023.xml\n",
      "D:\\Data\\Diploma\\real\\dataset//gt/ILLINOIS_photo0000023.xmlCharMap.png\n",
      "D:\\Data\\Diploma\\real\\real\\real\\Train_V2\\\\ILLINOIS_photo\\Markup\\0000024.xml\n",
      "second filter 14 0 region\n",
      "second filter 17 0 region\n",
      "D:\\Data\\Diploma\\real\\dataset//gt/ILLINOIS_photo0000024.xmlCharMap.png\n",
      "D:\\Data\\Diploma\\real\\real\\real\\Train_V2\\\\ILLINOIS_photo\\Markup\\0000025.xml\n",
      "D:\\Data\\Diploma\\real\\dataset//gt/ILLINOIS_photo0000025.xmlCharMap.png\n",
      "D:\\Data\\Diploma\\real\\real\\real\\Train_V2\\\\ILLINOIS_photo\\Markup\\0000026.xml\n",
      "D:\\Data\\Diploma\\real\\dataset//gt/ILLINOIS_photo0000026.xmlCharMap.png\n",
      "D:\\Data\\Diploma\\real\\real\\real\\Train_V2\\\\ILLINOIS_photo\\Markup\\0000027.xml\n",
      "D:\\Data\\Diploma\\real\\dataset//gt/ILLINOIS_photo0000027.xmlCharMap.png\n",
      "D:\\Data\\Diploma\\real\\real\\real\\Train_V2\\\\ILLINOIS_photo\\Markup\\0000028.xml\n",
      "second filter 19 0 region\n",
      "second filter 19 0 region\n",
      "D:\\Data\\Diploma\\real\\dataset//gt/ILLINOIS_photo0000028.xmlCharMap.png\n",
      "D:\\Data\\Diploma\\real\\real\\real\\Train_V2\\\\ILLINOIS_photo\\Markup\\0000029.xml\n",
      "D:\\Data\\Diploma\\real\\dataset//gt/ILLINOIS_photo0000029.xmlCharMap.png\n",
      "\n"
     ]
    },
    {
     "data": {
      "application/vnd.jupyter.widget-view+json": {
       "model_id": "cb32c753f99b4bf5bd50cc9305220703",
       "version_major": 2,
       "version_minor": 0
      },
      "text/plain": [
       "HBox(children=(HTML(value=''), FloatProgress(value=0.0, max=20.0), HTML(value='')))"
      ]
     },
     "metadata": {},
     "output_type": "display_data"
    },
    {
     "name": "stdout",
     "output_type": "stream",
     "text": [
      "D:\\Data\\Diploma\\real\\real\\real\\Train_V2\\\\ILLINOIS_scan\\Markup\\0000000.xml\n",
      "D:\\Data\\Diploma\\real\\dataset//gt/ILLINOIS_scan0000000.xmlCharMap.png\n",
      "D:\\Data\\Diploma\\real\\real\\real\\Train_V2\\\\ILLINOIS_scan\\Markup\\0000001.xml\n",
      "D:\\Data\\Diploma\\real\\dataset//gt/ILLINOIS_scan0000001.xmlCharMap.png\n",
      "D:\\Data\\Diploma\\real\\real\\real\\Train_V2\\\\ILLINOIS_scan\\Markup\\0000002.xml\n",
      "D:\\Data\\Diploma\\real\\dataset//gt/ILLINOIS_scan0000002.xmlCharMap.png\n",
      "D:\\Data\\Diploma\\real\\real\\real\\Train_V2\\\\ILLINOIS_scan\\Markup\\0000003.xml\n",
      "D:\\Data\\Diploma\\real\\dataset//gt/ILLINOIS_scan0000003.xmlCharMap.png\n",
      "D:\\Data\\Diploma\\real\\real\\real\\Train_V2\\\\ILLINOIS_scan\\Markup\\0000004.xml\n",
      "D:\\Data\\Diploma\\real\\dataset//gt/ILLINOIS_scan0000004.xmlCharMap.png\n",
      "D:\\Data\\Diploma\\real\\real\\real\\Train_V2\\\\ILLINOIS_scan\\Markup\\0000005.xml\n",
      "D:\\Data\\Diploma\\real\\dataset//gt/ILLINOIS_scan0000005.xmlCharMap.png\n",
      "D:\\Data\\Diploma\\real\\real\\real\\Train_V2\\\\ILLINOIS_scan\\Markup\\0000006.xml\n",
      "D:\\Data\\Diploma\\real\\dataset//gt/ILLINOIS_scan0000006.xmlCharMap.png\n",
      "D:\\Data\\Diploma\\real\\real\\real\\Train_V2\\\\ILLINOIS_scan\\Markup\\0000007.xml\n",
      "D:\\Data\\Diploma\\real\\dataset//gt/ILLINOIS_scan0000007.xmlCharMap.png\n",
      "D:\\Data\\Diploma\\real\\real\\real\\Train_V2\\\\ILLINOIS_scan\\Markup\\0000008.xml\n",
      "D:\\Data\\Diploma\\real\\dataset//gt/ILLINOIS_scan0000008.xmlCharMap.png\n",
      "D:\\Data\\Diploma\\real\\real\\real\\Train_V2\\\\ILLINOIS_scan\\Markup\\0000009.xml\n",
      "D:\\Data\\Diploma\\real\\dataset//gt/ILLINOIS_scan0000009.xmlCharMap.png\n",
      "D:\\Data\\Diploma\\real\\real\\real\\Train_V2\\\\ILLINOIS_scan\\Markup\\0000010.xml\n",
      "D:\\Data\\Diploma\\real\\dataset//gt/ILLINOIS_scan0000010.xmlCharMap.png\n",
      "D:\\Data\\Diploma\\real\\real\\real\\Train_V2\\\\ILLINOIS_scan\\Markup\\0000011.xml\n",
      "D:\\Data\\Diploma\\real\\dataset//gt/ILLINOIS_scan0000011.xmlCharMap.png\n",
      "D:\\Data\\Diploma\\real\\real\\real\\Train_V2\\\\ILLINOIS_scan\\Markup\\0000012.xml\n",
      "D:\\Data\\Diploma\\real\\dataset//gt/ILLINOIS_scan0000012.xmlCharMap.png\n",
      "D:\\Data\\Diploma\\real\\real\\real\\Train_V2\\\\ILLINOIS_scan\\Markup\\0000013.xml\n",
      "D:\\Data\\Diploma\\real\\dataset//gt/ILLINOIS_scan0000013.xmlCharMap.png\n",
      "D:\\Data\\Diploma\\real\\real\\real\\Train_V2\\\\ILLINOIS_scan\\Markup\\0000014.xml\n",
      "D:\\Data\\Diploma\\real\\dataset//gt/ILLINOIS_scan0000014.xmlCharMap.png\n",
      "D:\\Data\\Diploma\\real\\real\\real\\Train_V2\\\\ILLINOIS_scan\\Markup\\0000015.xml\n",
      "D:\\Data\\Diploma\\real\\dataset//gt/ILLINOIS_scan0000015.xmlCharMap.png\n",
      "D:\\Data\\Diploma\\real\\real\\real\\Train_V2\\\\ILLINOIS_scan\\Markup\\0000016.xml\n",
      "D:\\Data\\Diploma\\real\\dataset//gt/ILLINOIS_scan0000016.xmlCharMap.png\n",
      "D:\\Data\\Diploma\\real\\real\\real\\Train_V2\\\\ILLINOIS_scan\\Markup\\0000017.xml\n",
      "D:\\Data\\Diploma\\real\\dataset//gt/ILLINOIS_scan0000017.xmlCharMap.png\n",
      "D:\\Data\\Diploma\\real\\real\\real\\Train_V2\\\\ILLINOIS_scan\\Markup\\0000018.xml\n",
      "D:\\Data\\Diploma\\real\\dataset//gt/ILLINOIS_scan0000018.xmlCharMap.png\n",
      "D:\\Data\\Diploma\\real\\real\\real\\Train_V2\\\\ILLINOIS_scan\\Markup\\0000019.xml\n",
      "D:\\Data\\Diploma\\real\\dataset//gt/ILLINOIS_scan0000019.xmlCharMap.png\n",
      "\n"
     ]
    },
    {
     "data": {
      "application/vnd.jupyter.widget-view+json": {
       "model_id": "208f353c9c604816bd8479f88d3a34f8",
       "version_major": 2,
       "version_minor": 0
      },
      "text/plain": [
       "HBox(children=(HTML(value=''), FloatProgress(value=0.0, max=10.0), HTML(value='')))"
      ]
     },
     "metadata": {},
     "output_type": "display_data"
    },
    {
     "name": "stdout",
     "output_type": "stream",
     "text": [
      "D:\\Data\\Diploma\\real\\real\\real\\Train_V2\\\\INDIANA_photo\\Markup\\0000000.xml\n",
      "D:\\Data\\Diploma\\real\\dataset//gt/INDIANA_photo0000000.xmlCharMap.png\n",
      "D:\\Data\\Diploma\\real\\real\\real\\Train_V2\\\\INDIANA_photo\\Markup\\0000001.xml\n",
      "D:\\Data\\Diploma\\real\\dataset//gt/INDIANA_photo0000001.xmlCharMap.png\n",
      "D:\\Data\\Diploma\\real\\real\\real\\Train_V2\\\\INDIANA_photo\\Markup\\0000002.xml\n",
      "D:\\Data\\Diploma\\real\\dataset//gt/INDIANA_photo0000002.xmlCharMap.png\n",
      "D:\\Data\\Diploma\\real\\real\\real\\Train_V2\\\\INDIANA_photo\\Markup\\0000003.xml\n",
      "D:\\Data\\Diploma\\real\\dataset//gt/INDIANA_photo0000003.xmlCharMap.png\n",
      "D:\\Data\\Diploma\\real\\real\\real\\Train_V2\\\\INDIANA_photo\\Markup\\0000004.xml\n",
      "D:\\Data\\Diploma\\real\\dataset//gt/INDIANA_photo0000004.xmlCharMap.png\n",
      "D:\\Data\\Diploma\\real\\real\\real\\Train_V2\\\\INDIANA_photo\\Markup\\0000005.xml\n",
      "D:\\Data\\Diploma\\real\\dataset//gt/INDIANA_photo0000005.xmlCharMap.png\n",
      "D:\\Data\\Diploma\\real\\real\\real\\Train_V2\\\\INDIANA_photo\\Markup\\0000006.xml\n",
      "D:\\Data\\Diploma\\real\\dataset//gt/INDIANA_photo0000006.xmlCharMap.png\n",
      "D:\\Data\\Diploma\\real\\real\\real\\Train_V2\\\\INDIANA_photo\\Markup\\0000007.xml\n",
      "D:\\Data\\Diploma\\real\\dataset//gt/INDIANA_photo0000007.xmlCharMap.png\n",
      "D:\\Data\\Diploma\\real\\real\\real\\Train_V2\\\\INDIANA_photo\\Markup\\0000008.xml\n",
      "D:\\Data\\Diploma\\real\\dataset//gt/INDIANA_photo0000008.xmlCharMap.png\n",
      "D:\\Data\\Diploma\\real\\real\\real\\Train_V2\\\\INDIANA_photo\\Markup\\0000009.xml\n",
      "D:\\Data\\Diploma\\real\\dataset//gt/INDIANA_photo0000009.xmlCharMap.png\n",
      "\n"
     ]
    },
    {
     "data": {
      "application/vnd.jupyter.widget-view+json": {
       "model_id": "453369c9d3f44d77a02a4a1d02b2069c",
       "version_major": 2,
       "version_minor": 0
      },
      "text/plain": [
       "HBox(children=(HTML(value=''), FloatProgress(value=0.0, max=10.0), HTML(value='')))"
      ]
     },
     "metadata": {},
     "output_type": "display_data"
    },
    {
     "name": "stdout",
     "output_type": "stream",
     "text": [
      "D:\\Data\\Diploma\\real\\real\\real\\Train_V2\\\\INDIANA_scan\\Markup\\0000000.xml\n",
      "D:\\Data\\Diploma\\real\\dataset//gt/INDIANA_scan0000000.xmlCharMap.png\n",
      "D:\\Data\\Diploma\\real\\real\\real\\Train_V2\\\\INDIANA_scan\\Markup\\0000001.xml\n",
      "D:\\Data\\Diploma\\real\\dataset//gt/INDIANA_scan0000001.xmlCharMap.png\n",
      "D:\\Data\\Diploma\\real\\real\\real\\Train_V2\\\\INDIANA_scan\\Markup\\0000002.xml\n",
      "D:\\Data\\Diploma\\real\\dataset//gt/INDIANA_scan0000002.xmlCharMap.png\n",
      "D:\\Data\\Diploma\\real\\real\\real\\Train_V2\\\\INDIANA_scan\\Markup\\0000003.xml\n",
      "D:\\Data\\Diploma\\real\\dataset//gt/INDIANA_scan0000003.xmlCharMap.png\n",
      "D:\\Data\\Diploma\\real\\real\\real\\Train_V2\\\\INDIANA_scan\\Markup\\0000004.xml\n",
      "D:\\Data\\Diploma\\real\\dataset//gt/INDIANA_scan0000004.xmlCharMap.png\n",
      "D:\\Data\\Diploma\\real\\real\\real\\Train_V2\\\\INDIANA_scan\\Markup\\0000005.xml\n",
      "D:\\Data\\Diploma\\real\\dataset//gt/INDIANA_scan0000005.xmlCharMap.png\n",
      "D:\\Data\\Diploma\\real\\real\\real\\Train_V2\\\\INDIANA_scan\\Markup\\0000006.xml\n",
      "D:\\Data\\Diploma\\real\\dataset//gt/INDIANA_scan0000006.xmlCharMap.png\n",
      "D:\\Data\\Diploma\\real\\real\\real\\Train_V2\\\\INDIANA_scan\\Markup\\0000007.xml\n",
      "D:\\Data\\Diploma\\real\\dataset//gt/INDIANA_scan0000007.xmlCharMap.png\n",
      "D:\\Data\\Diploma\\real\\real\\real\\Train_V2\\\\INDIANA_scan\\Markup\\0000008.xml\n",
      "D:\\Data\\Diploma\\real\\dataset//gt/INDIANA_scan0000008.xmlCharMap.png\n",
      "D:\\Data\\Diploma\\real\\real\\real\\Train_V2\\\\INDIANA_scan\\Markup\\0000009.xml\n",
      "D:\\Data\\Diploma\\real\\dataset//gt/INDIANA_scan0000009.xmlCharMap.png\n",
      "\n"
     ]
    },
    {
     "data": {
      "application/vnd.jupyter.widget-view+json": {
       "model_id": "2286e6bffb314233a01d3a8b11bed8bd",
       "version_major": 2,
       "version_minor": 0
      },
      "text/plain": [
       "HBox(children=(HTML(value=''), FloatProgress(value=0.0, max=10.0), HTML(value='')))"
      ]
     },
     "metadata": {},
     "output_type": "display_data"
    },
    {
     "name": "stdout",
     "output_type": "stream",
     "text": [
      "D:\\Data\\Diploma\\real\\real\\real\\Train_V2\\\\IOWA_photo\\Markup\\0000000.xml\n",
      "D:\\Data\\Diploma\\real\\dataset//gt/IOWA_photo0000000.xmlCharMap.png\n",
      "D:\\Data\\Diploma\\real\\real\\real\\Train_V2\\\\IOWA_photo\\Markup\\0000001.xml\n",
      "D:\\Data\\Diploma\\real\\dataset//gt/IOWA_photo0000001.xmlCharMap.png\n",
      "D:\\Data\\Diploma\\real\\real\\real\\Train_V2\\\\IOWA_photo\\Markup\\0000002.xml\n",
      "D:\\Data\\Diploma\\real\\dataset//gt/IOWA_photo0000002.xmlCharMap.png\n",
      "D:\\Data\\Diploma\\real\\real\\real\\Train_V2\\\\IOWA_photo\\Markup\\0000003.xml\n",
      "D:\\Data\\Diploma\\real\\dataset//gt/IOWA_photo0000003.xmlCharMap.png\n",
      "D:\\Data\\Diploma\\real\\real\\real\\Train_V2\\\\IOWA_photo\\Markup\\0000004.xml\n",
      "D:\\Data\\Diploma\\real\\dataset//gt/IOWA_photo0000004.xmlCharMap.png\n",
      "D:\\Data\\Diploma\\real\\real\\real\\Train_V2\\\\IOWA_photo\\Markup\\0000005.xml\n",
      "D:\\Data\\Diploma\\real\\dataset//gt/IOWA_photo0000005.xmlCharMap.png\n",
      "D:\\Data\\Diploma\\real\\real\\real\\Train_V2\\\\IOWA_photo\\Markup\\0000006.xml\n",
      "D:\\Data\\Diploma\\real\\dataset//gt/IOWA_photo0000006.xmlCharMap.png\n",
      "D:\\Data\\Diploma\\real\\real\\real\\Train_V2\\\\IOWA_photo\\Markup\\0000007.xml\n",
      "D:\\Data\\Diploma\\real\\dataset//gt/IOWA_photo0000007.xmlCharMap.png\n",
      "D:\\Data\\Diploma\\real\\real\\real\\Train_V2\\\\IOWA_photo\\Markup\\0000008.xml\n",
      "D:\\Data\\Diploma\\real\\dataset//gt/IOWA_photo0000008.xmlCharMap.png\n",
      "D:\\Data\\Diploma\\real\\real\\real\\Train_V2\\\\IOWA_photo\\Markup\\0000009.xml\n",
      "D:\\Data\\Diploma\\real\\dataset//gt/IOWA_photo0000009.xmlCharMap.png\n",
      "\n"
     ]
    },
    {
     "data": {
      "application/vnd.jupyter.widget-view+json": {
       "model_id": "6eaaa7924d484841a22712ee7c22caec",
       "version_major": 2,
       "version_minor": 0
      },
      "text/plain": [
       "HBox(children=(HTML(value=''), FloatProgress(value=0.0, max=10.0), HTML(value='')))"
      ]
     },
     "metadata": {},
     "output_type": "display_data"
    },
    {
     "name": "stdout",
     "output_type": "stream",
     "text": [
      "D:\\Data\\Diploma\\real\\real\\real\\Train_V2\\\\IOWA_scan\\Markup\\0000000.xml\n",
      "D:\\Data\\Diploma\\real\\dataset//gt/IOWA_scan0000000.xmlCharMap.png\n",
      "D:\\Data\\Diploma\\real\\real\\real\\Train_V2\\\\IOWA_scan\\Markup\\0000001.xml\n",
      "D:\\Data\\Diploma\\real\\dataset//gt/IOWA_scan0000001.xmlCharMap.png\n",
      "D:\\Data\\Diploma\\real\\real\\real\\Train_V2\\\\IOWA_scan\\Markup\\0000002.xml\n",
      "D:\\Data\\Diploma\\real\\dataset//gt/IOWA_scan0000002.xmlCharMap.png\n",
      "D:\\Data\\Diploma\\real\\real\\real\\Train_V2\\\\IOWA_scan\\Markup\\0000003.xml\n",
      "D:\\Data\\Diploma\\real\\dataset//gt/IOWA_scan0000003.xmlCharMap.png\n",
      "D:\\Data\\Diploma\\real\\real\\real\\Train_V2\\\\IOWA_scan\\Markup\\0000004.xml\n",
      "D:\\Data\\Diploma\\real\\dataset//gt/IOWA_scan0000004.xmlCharMap.png\n",
      "D:\\Data\\Diploma\\real\\real\\real\\Train_V2\\\\IOWA_scan\\Markup\\0000005.xml\n",
      "D:\\Data\\Diploma\\real\\dataset//gt/IOWA_scan0000005.xmlCharMap.png\n",
      "D:\\Data\\Diploma\\real\\real\\real\\Train_V2\\\\IOWA_scan\\Markup\\0000006.xml\n",
      "D:\\Data\\Diploma\\real\\dataset//gt/IOWA_scan0000006.xmlCharMap.png\n",
      "D:\\Data\\Diploma\\real\\real\\real\\Train_V2\\\\IOWA_scan\\Markup\\0000007.xml\n",
      "D:\\Data\\Diploma\\real\\dataset//gt/IOWA_scan0000007.xmlCharMap.png\n",
      "D:\\Data\\Diploma\\real\\real\\real\\Train_V2\\\\IOWA_scan\\Markup\\0000008.xml\n",
      "D:\\Data\\Diploma\\real\\dataset//gt/IOWA_scan0000008.xmlCharMap.png\n",
      "D:\\Data\\Diploma\\real\\real\\real\\Train_V2\\\\IOWA_scan\\Markup\\0000009.xml\n",
      "D:\\Data\\Diploma\\real\\dataset//gt/IOWA_scan0000009.xmlCharMap.png\n",
      "\n"
     ]
    },
    {
     "data": {
      "application/vnd.jupyter.widget-view+json": {
       "model_id": "a32965bde2f842a09bbaca6be2b79eb4",
       "version_major": 2,
       "version_minor": 0
      },
      "text/plain": [
       "HBox(children=(HTML(value=''), FloatProgress(value=0.0, max=10.0), HTML(value='')))"
      ]
     },
     "metadata": {},
     "output_type": "display_data"
    },
    {
     "name": "stdout",
     "output_type": "stream",
     "text": [
      "D:\\Data\\Diploma\\real\\real\\real\\Train_V2\\\\KANSAS_photo\\Markup\\0000000.xml\n",
      "D:\\Data\\Diploma\\real\\dataset//gt/KANSAS_photo0000000.xmlCharMap.png\n",
      "D:\\Data\\Diploma\\real\\real\\real\\Train_V2\\\\KANSAS_photo\\Markup\\0000001.xml\n",
      "D:\\Data\\Diploma\\real\\dataset//gt/KANSAS_photo0000001.xmlCharMap.png\n",
      "D:\\Data\\Diploma\\real\\real\\real\\Train_V2\\\\KANSAS_photo\\Markup\\0000002.xml\n",
      "D:\\Data\\Diploma\\real\\dataset//gt/KANSAS_photo0000002.xmlCharMap.png\n",
      "D:\\Data\\Diploma\\real\\real\\real\\Train_V2\\\\KANSAS_photo\\Markup\\0000003.xml\n",
      "D:\\Data\\Diploma\\real\\dataset//gt/KANSAS_photo0000003.xmlCharMap.png\n",
      "D:\\Data\\Diploma\\real\\real\\real\\Train_V2\\\\KANSAS_photo\\Markup\\0000004.xml\n",
      "D:\\Data\\Diploma\\real\\dataset//gt/KANSAS_photo0000004.xmlCharMap.png\n",
      "D:\\Data\\Diploma\\real\\real\\real\\Train_V2\\\\KANSAS_photo\\Markup\\0000005.xml\n",
      "D:\\Data\\Diploma\\real\\dataset//gt/KANSAS_photo0000005.xmlCharMap.png\n",
      "D:\\Data\\Diploma\\real\\real\\real\\Train_V2\\\\KANSAS_photo\\Markup\\0000006.xml\n",
      "D:\\Data\\Diploma\\real\\dataset//gt/KANSAS_photo0000006.xmlCharMap.png\n",
      "D:\\Data\\Diploma\\real\\real\\real\\Train_V2\\\\KANSAS_photo\\Markup\\0000007.xml\n",
      "D:\\Data\\Diploma\\real\\dataset//gt/KANSAS_photo0000007.xmlCharMap.png\n",
      "D:\\Data\\Diploma\\real\\real\\real\\Train_V2\\\\KANSAS_photo\\Markup\\0000008.xml\n",
      "D:\\Data\\Diploma\\real\\dataset//gt/KANSAS_photo0000008.xmlCharMap.png\n",
      "D:\\Data\\Diploma\\real\\real\\real\\Train_V2\\\\KANSAS_photo\\Markup\\0000009.xml\n",
      "D:\\Data\\Diploma\\real\\dataset//gt/KANSAS_photo0000009.xmlCharMap.png\n",
      "\n"
     ]
    },
    {
     "data": {
      "application/vnd.jupyter.widget-view+json": {
       "model_id": "7d6c076d5c8943ae8fede89a729b1bd8",
       "version_major": 2,
       "version_minor": 0
      },
      "text/plain": [
       "HBox(children=(HTML(value=''), FloatProgress(value=0.0, max=10.0), HTML(value='')))"
      ]
     },
     "metadata": {},
     "output_type": "display_data"
    },
    {
     "name": "stdout",
     "output_type": "stream",
     "text": [
      "D:\\Data\\Diploma\\real\\real\\real\\Train_V2\\\\KANSAS_scan\\Markup\\0000000.xml\n",
      "D:\\Data\\Diploma\\real\\dataset//gt/KANSAS_scan0000000.xmlCharMap.png\n",
      "D:\\Data\\Diploma\\real\\real\\real\\Train_V2\\\\KANSAS_scan\\Markup\\0000001.xml\n",
      "D:\\Data\\Diploma\\real\\dataset//gt/KANSAS_scan0000001.xmlCharMap.png\n",
      "D:\\Data\\Diploma\\real\\real\\real\\Train_V2\\\\KANSAS_scan\\Markup\\0000002.xml\n",
      "D:\\Data\\Diploma\\real\\dataset//gt/KANSAS_scan0000002.xmlCharMap.png\n",
      "D:\\Data\\Diploma\\real\\real\\real\\Train_V2\\\\KANSAS_scan\\Markup\\0000003.xml\n",
      "D:\\Data\\Diploma\\real\\dataset//gt/KANSAS_scan0000003.xmlCharMap.png\n",
      "D:\\Data\\Diploma\\real\\real\\real\\Train_V2\\\\KANSAS_scan\\Markup\\0000004.xml\n",
      "D:\\Data\\Diploma\\real\\dataset//gt/KANSAS_scan0000004.xmlCharMap.png\n",
      "D:\\Data\\Diploma\\real\\real\\real\\Train_V2\\\\KANSAS_scan\\Markup\\0000005.xml\n",
      "D:\\Data\\Diploma\\real\\dataset//gt/KANSAS_scan0000005.xmlCharMap.png\n",
      "D:\\Data\\Diploma\\real\\real\\real\\Train_V2\\\\KANSAS_scan\\Markup\\0000006.xml\n",
      "D:\\Data\\Diploma\\real\\dataset//gt/KANSAS_scan0000006.xmlCharMap.png\n",
      "D:\\Data\\Diploma\\real\\real\\real\\Train_V2\\\\KANSAS_scan\\Markup\\0000007.xml\n",
      "D:\\Data\\Diploma\\real\\dataset//gt/KANSAS_scan0000007.xmlCharMap.png\n",
      "D:\\Data\\Diploma\\real\\real\\real\\Train_V2\\\\KANSAS_scan\\Markup\\0000008.xml\n",
      "D:\\Data\\Diploma\\real\\dataset//gt/KANSAS_scan0000008.xmlCharMap.png\n",
      "D:\\Data\\Diploma\\real\\real\\real\\Train_V2\\\\KANSAS_scan\\Markup\\0000009.xml\n",
      "D:\\Data\\Diploma\\real\\dataset//gt/KANSAS_scan0000009.xmlCharMap.png\n",
      "\n"
     ]
    },
    {
     "data": {
      "application/vnd.jupyter.widget-view+json": {
       "model_id": "219c34afdd75404c9b900592edaf7fcf",
       "version_major": 2,
       "version_minor": 0
      },
      "text/plain": [
       "HBox(children=(HTML(value=''), FloatProgress(value=0.0, max=10.0), HTML(value='')))"
      ]
     },
     "metadata": {},
     "output_type": "display_data"
    },
    {
     "name": "stdout",
     "output_type": "stream",
     "text": [
      "D:\\Data\\Diploma\\real\\real\\real\\Train_V2\\\\KENTUCKY_photo\\Markup\\0000000.xml\n",
      "D:\\Data\\Diploma\\real\\dataset//gt/KENTUCKY_photo0000000.xmlCharMap.png\n",
      "D:\\Data\\Diploma\\real\\real\\real\\Train_V2\\\\KENTUCKY_photo\\Markup\\0000001.xml\n",
      "D:\\Data\\Diploma\\real\\dataset//gt/KENTUCKY_photo0000001.xmlCharMap.png\n",
      "D:\\Data\\Diploma\\real\\real\\real\\Train_V2\\\\KENTUCKY_photo\\Markup\\0000002.xml\n",
      "D:\\Data\\Diploma\\real\\dataset//gt/KENTUCKY_photo0000002.xmlCharMap.png\n",
      "D:\\Data\\Diploma\\real\\real\\real\\Train_V2\\\\KENTUCKY_photo\\Markup\\0000003.xml\n",
      "D:\\Data\\Diploma\\real\\dataset//gt/KENTUCKY_photo0000003.xmlCharMap.png\n",
      "D:\\Data\\Diploma\\real\\real\\real\\Train_V2\\\\KENTUCKY_photo\\Markup\\0000004.xml\n",
      "D:\\Data\\Diploma\\real\\dataset//gt/KENTUCKY_photo0000004.xmlCharMap.png\n",
      "D:\\Data\\Diploma\\real\\real\\real\\Train_V2\\\\KENTUCKY_photo\\Markup\\0000005.xml\n",
      "D:\\Data\\Diploma\\real\\dataset//gt/KENTUCKY_photo0000005.xmlCharMap.png\n",
      "D:\\Data\\Diploma\\real\\real\\real\\Train_V2\\\\KENTUCKY_photo\\Markup\\0000006.xml\n",
      "D:\\Data\\Diploma\\real\\dataset//gt/KENTUCKY_photo0000006.xmlCharMap.png\n",
      "D:\\Data\\Diploma\\real\\real\\real\\Train_V2\\\\KENTUCKY_photo\\Markup\\0000007.xml\n",
      "D:\\Data\\Diploma\\real\\dataset//gt/KENTUCKY_photo0000007.xmlCharMap.png\n",
      "D:\\Data\\Diploma\\real\\real\\real\\Train_V2\\\\KENTUCKY_photo\\Markup\\0000008.xml\n",
      "D:\\Data\\Diploma\\real\\dataset//gt/KENTUCKY_photo0000008.xmlCharMap.png\n",
      "D:\\Data\\Diploma\\real\\real\\real\\Train_V2\\\\KENTUCKY_photo\\Markup\\0000009.xml\n",
      "D:\\Data\\Diploma\\real\\dataset//gt/KENTUCKY_photo0000009.xmlCharMap.png\n",
      "\n"
     ]
    },
    {
     "data": {
      "application/vnd.jupyter.widget-view+json": {
       "model_id": "3ba5300bc5f84120a406cc616d5c922a",
       "version_major": 2,
       "version_minor": 0
      },
      "text/plain": [
       "HBox(children=(HTML(value=''), FloatProgress(value=0.0, max=10.0), HTML(value='')))"
      ]
     },
     "metadata": {},
     "output_type": "display_data"
    },
    {
     "name": "stdout",
     "output_type": "stream",
     "text": [
      "D:\\Data\\Diploma\\real\\real\\real\\Train_V2\\\\KENTUCKY_scan\\Markup\\0000000.xml\n",
      "D:\\Data\\Diploma\\real\\dataset//gt/KENTUCKY_scan0000000.xmlCharMap.png\n",
      "D:\\Data\\Diploma\\real\\real\\real\\Train_V2\\\\KENTUCKY_scan\\Markup\\0000001.xml\n",
      "D:\\Data\\Diploma\\real\\dataset//gt/KENTUCKY_scan0000001.xmlCharMap.png\n",
      "D:\\Data\\Diploma\\real\\real\\real\\Train_V2\\\\KENTUCKY_scan\\Markup\\0000002.xml\n",
      "D:\\Data\\Diploma\\real\\dataset//gt/KENTUCKY_scan0000002.xmlCharMap.png\n",
      "D:\\Data\\Diploma\\real\\real\\real\\Train_V2\\\\KENTUCKY_scan\\Markup\\0000003.xml\n",
      "D:\\Data\\Diploma\\real\\dataset//gt/KENTUCKY_scan0000003.xmlCharMap.png\n",
      "D:\\Data\\Diploma\\real\\real\\real\\Train_V2\\\\KENTUCKY_scan\\Markup\\0000004.xml\n",
      "D:\\Data\\Diploma\\real\\dataset//gt/KENTUCKY_scan0000004.xmlCharMap.png\n",
      "D:\\Data\\Diploma\\real\\real\\real\\Train_V2\\\\KENTUCKY_scan\\Markup\\0000005.xml\n",
      "D:\\Data\\Diploma\\real\\dataset//gt/KENTUCKY_scan0000005.xmlCharMap.png\n",
      "D:\\Data\\Diploma\\real\\real\\real\\Train_V2\\\\KENTUCKY_scan\\Markup\\0000006.xml\n",
      "D:\\Data\\Diploma\\real\\dataset//gt/KENTUCKY_scan0000006.xmlCharMap.png\n",
      "D:\\Data\\Diploma\\real\\real\\real\\Train_V2\\\\KENTUCKY_scan\\Markup\\0000007.xml\n",
      "D:\\Data\\Diploma\\real\\dataset//gt/KENTUCKY_scan0000007.xmlCharMap.png\n",
      "D:\\Data\\Diploma\\real\\real\\real\\Train_V2\\\\KENTUCKY_scan\\Markup\\0000008.xml\n",
      "D:\\Data\\Diploma\\real\\dataset//gt/KENTUCKY_scan0000008.xmlCharMap.png\n",
      "D:\\Data\\Diploma\\real\\real\\real\\Train_V2\\\\KENTUCKY_scan\\Markup\\0000009.xml\n",
      "D:\\Data\\Diploma\\real\\dataset//gt/KENTUCKY_scan0000009.xmlCharMap.png\n",
      "\n"
     ]
    },
    {
     "data": {
      "application/vnd.jupyter.widget-view+json": {
       "model_id": "11163c2c0732443d9d9c5f43e7b747ac",
       "version_major": 2,
       "version_minor": 0
      },
      "text/plain": [
       "HBox(children=(HTML(value=''), FloatProgress(value=0.0, max=11.0), HTML(value='')))"
      ]
     },
     "metadata": {},
     "output_type": "display_data"
    },
    {
     "name": "stdout",
     "output_type": "stream",
     "text": [
      "D:\\Data\\Diploma\\real\\real\\real\\Train_V2\\\\Korean.ID\\Markup\\0000000.xml\n",
      "D:\\Data\\Diploma\\real\\real\\real\\Train_V2\\\\Korean.ID\\Markup\\0000001.xml\n",
      "D:\\Data\\Diploma\\real\\real\\real\\Train_V2\\\\Korean.ID\\Markup\\0000002.xml\n",
      "D:\\Data\\Diploma\\real\\real\\real\\Train_V2\\\\Korean.ID\\Markup\\0000003.xml\n",
      "D:\\Data\\Diploma\\real\\real\\real\\Train_V2\\\\Korean.ID\\Markup\\0000004.xml\n",
      "D:\\Data\\Diploma\\real\\real\\real\\Train_V2\\\\Korean.ID\\Markup\\0000005.xml\n",
      "D:\\Data\\Diploma\\real\\real\\real\\Train_V2\\\\Korean.ID\\Markup\\0000006.xml\n",
      "D:\\Data\\Diploma\\real\\real\\real\\Train_V2\\\\Korean.ID\\Markup\\0000007.xml\n",
      "D:\\Data\\Diploma\\real\\real\\real\\Train_V2\\\\Korean.ID\\Markup\\0000008.xml\n",
      "D:\\Data\\Diploma\\real\\real\\real\\Train_V2\\\\Korean.ID\\Markup\\0000009.xml\n",
      "D:\\Data\\Diploma\\real\\real\\real\\Train_V2\\\\Korean.ID\\Markup\\0000010.xml\n",
      "\n"
     ]
    },
    {
     "data": {
      "application/vnd.jupyter.widget-view+json": {
       "model_id": "6092e580f11e4ac59661f669a4ff7c9e",
       "version_major": 2,
       "version_minor": 0
      },
      "text/plain": [
       "HBox(children=(HTML(value=''), FloatProgress(value=0.0, max=48.0), HTML(value='')))"
      ]
     },
     "metadata": {},
     "output_type": "display_data"
    },
    {
     "name": "stdout",
     "output_type": "stream",
     "text": [
      "D:\\Data\\Diploma\\real\\real\\real\\Train_V2\\\\LebaneseID\\Markup\\0000000.xml\n",
      "D:\\Data\\Diploma\\real\\real\\real\\Train_V2\\\\LebaneseID\\Markup\\0000001.xml\n",
      "D:\\Data\\Diploma\\real\\real\\real\\Train_V2\\\\LebaneseID\\Markup\\0000002.xml\n",
      "D:\\Data\\Diploma\\real\\real\\real\\Train_V2\\\\LebaneseID\\Markup\\0000003.xml\n",
      "D:\\Data\\Diploma\\real\\real\\real\\Train_V2\\\\LebaneseID\\Markup\\0000004.xml\n",
      "D:\\Data\\Diploma\\real\\real\\real\\Train_V2\\\\LebaneseID\\Markup\\0000005.xml\n",
      "D:\\Data\\Diploma\\real\\real\\real\\Train_V2\\\\LebaneseID\\Markup\\0000006.xml\n",
      "D:\\Data\\Diploma\\real\\real\\real\\Train_V2\\\\LebaneseID\\Markup\\0000007.xml\n",
      "D:\\Data\\Diploma\\real\\real\\real\\Train_V2\\\\LebaneseID\\Markup\\0000008.xml\n",
      "D:\\Data\\Diploma\\real\\real\\real\\Train_V2\\\\LebaneseID\\Markup\\0000009.xml\n",
      "D:\\Data\\Diploma\\real\\real\\real\\Train_V2\\\\LebaneseID\\Markup\\0000010.xml\n",
      "D:\\Data\\Diploma\\real\\real\\real\\Train_V2\\\\LebaneseID\\Markup\\0000011.xml\n",
      "D:\\Data\\Diploma\\real\\real\\real\\Train_V2\\\\LebaneseID\\Markup\\0000012.xml\n",
      "D:\\Data\\Diploma\\real\\real\\real\\Train_V2\\\\LebaneseID\\Markup\\0000013.xml\n",
      "D:\\Data\\Diploma\\real\\real\\real\\Train_V2\\\\LebaneseID\\Markup\\0000014.xml\n",
      "D:\\Data\\Diploma\\real\\real\\real\\Train_V2\\\\LebaneseID\\Markup\\0000015.xml\n",
      "D:\\Data\\Diploma\\real\\real\\real\\Train_V2\\\\LebaneseID\\Markup\\0000016.xml\n",
      "D:\\Data\\Diploma\\real\\real\\real\\Train_V2\\\\LebaneseID\\Markup\\0000017.xml\n",
      "D:\\Data\\Diploma\\real\\real\\real\\Train_V2\\\\LebaneseID\\Markup\\0000018.xml\n",
      "D:\\Data\\Diploma\\real\\real\\real\\Train_V2\\\\LebaneseID\\Markup\\0000019.xml\n",
      "D:\\Data\\Diploma\\real\\real\\real\\Train_V2\\\\LebaneseID\\Markup\\0000020.xml\n",
      "D:\\Data\\Diploma\\real\\real\\real\\Train_V2\\\\LebaneseID\\Markup\\0000021.xml\n",
      "D:\\Data\\Diploma\\real\\real\\real\\Train_V2\\\\LebaneseID\\Markup\\0000022.xml\n",
      "D:\\Data\\Diploma\\real\\real\\real\\Train_V2\\\\LebaneseID\\Markup\\0000023.xml\n",
      "D:\\Data\\Diploma\\real\\real\\real\\Train_V2\\\\LebaneseID\\Markup\\0000024.xml\n",
      "D:\\Data\\Diploma\\real\\real\\real\\Train_V2\\\\LebaneseID\\Markup\\0000025.xml\n",
      "D:\\Data\\Diploma\\real\\real\\real\\Train_V2\\\\LebaneseID\\Markup\\0000026.xml\n",
      "D:\\Data\\Diploma\\real\\real\\real\\Train_V2\\\\LebaneseID\\Markup\\0000027.xml\n",
      "D:\\Data\\Diploma\\real\\real\\real\\Train_V2\\\\LebaneseID\\Markup\\0000028.xml\n",
      "D:\\Data\\Diploma\\real\\real\\real\\Train_V2\\\\LebaneseID\\Markup\\0000029.xml\n",
      "D:\\Data\\Diploma\\real\\real\\real\\Train_V2\\\\LebaneseID\\Markup\\0000030.xml\n",
      "D:\\Data\\Diploma\\real\\real\\real\\Train_V2\\\\LebaneseID\\Markup\\0000031.xml\n",
      "D:\\Data\\Diploma\\real\\real\\real\\Train_V2\\\\LebaneseID\\Markup\\0000032.xml\n",
      "D:\\Data\\Diploma\\real\\real\\real\\Train_V2\\\\LebaneseID\\Markup\\0000033.xml\n",
      "D:\\Data\\Diploma\\real\\real\\real\\Train_V2\\\\LebaneseID\\Markup\\0000034.xml\n",
      "D:\\Data\\Diploma\\real\\real\\real\\Train_V2\\\\LebaneseID\\Markup\\0000035.xml\n",
      "D:\\Data\\Diploma\\real\\real\\real\\Train_V2\\\\LebaneseID\\Markup\\0000036.xml\n",
      "D:\\Data\\Diploma\\real\\real\\real\\Train_V2\\\\LebaneseID\\Markup\\0000037.xml\n",
      "D:\\Data\\Diploma\\real\\real\\real\\Train_V2\\\\LebaneseID\\Markup\\0000038.xml\n",
      "D:\\Data\\Diploma\\real\\real\\real\\Train_V2\\\\LebaneseID\\Markup\\0000039.xml\n",
      "D:\\Data\\Diploma\\real\\real\\real\\Train_V2\\\\LebaneseID\\Markup\\0000040.xml\n",
      "D:\\Data\\Diploma\\real\\real\\real\\Train_V2\\\\LebaneseID\\Markup\\0000041.xml\n",
      "D:\\Data\\Diploma\\real\\real\\real\\Train_V2\\\\LebaneseID\\Markup\\0000042.xml\n",
      "D:\\Data\\Diploma\\real\\real\\real\\Train_V2\\\\LebaneseID\\Markup\\0000043.xml\n",
      "D:\\Data\\Diploma\\real\\real\\real\\Train_V2\\\\LebaneseID\\Markup\\0000044.xml\n",
      "D:\\Data\\Diploma\\real\\real\\real\\Train_V2\\\\LebaneseID\\Markup\\0000045.xml\n",
      "D:\\Data\\Diploma\\real\\real\\real\\Train_V2\\\\LebaneseID\\Markup\\0000046.xml\n",
      "D:\\Data\\Diploma\\real\\real\\real\\Train_V2\\\\LebaneseID\\Markup\\0000047.xml\n",
      "\n"
     ]
    },
    {
     "data": {
      "application/vnd.jupyter.widget-view+json": {
       "model_id": "00679857d4354f26ad4adb5c8e629c58",
       "version_major": 2,
       "version_minor": 0
      },
      "text/plain": [
       "HBox(children=(HTML(value=''), FloatProgress(value=0.0, max=56.0), HTML(value='')))"
      ]
     },
     "metadata": {},
     "output_type": "display_data"
    },
    {
     "name": "stdout",
     "output_type": "stream",
     "text": [
      "D:\\Data\\Diploma\\real\\real\\real\\Train_V2\\\\Lebanon.ID\\Markup\\0000000.xml\n",
      "D:\\Data\\Diploma\\real\\real\\real\\Train_V2\\\\Lebanon.ID\\Markup\\0000001.xml\n",
      "D:\\Data\\Diploma\\real\\real\\real\\Train_V2\\\\Lebanon.ID\\Markup\\0000002.xml\n",
      "D:\\Data\\Diploma\\real\\real\\real\\Train_V2\\\\Lebanon.ID\\Markup\\0000003.xml\n",
      "D:\\Data\\Diploma\\real\\real\\real\\Train_V2\\\\Lebanon.ID\\Markup\\0000004.xml\n",
      "D:\\Data\\Diploma\\real\\real\\real\\Train_V2\\\\Lebanon.ID\\Markup\\0000005.xml\n",
      "D:\\Data\\Diploma\\real\\real\\real\\Train_V2\\\\Lebanon.ID\\Markup\\0000006.xml\n",
      "D:\\Data\\Diploma\\real\\real\\real\\Train_V2\\\\Lebanon.ID\\Markup\\0000007.xml\n",
      "D:\\Data\\Diploma\\real\\real\\real\\Train_V2\\\\Lebanon.ID\\Markup\\0000008.xml\n",
      "D:\\Data\\Diploma\\real\\real\\real\\Train_V2\\\\Lebanon.ID\\Markup\\0000009.xml\n",
      "D:\\Data\\Diploma\\real\\real\\real\\Train_V2\\\\Lebanon.ID\\Markup\\0000010.xml\n",
      "D:\\Data\\Diploma\\real\\real\\real\\Train_V2\\\\Lebanon.ID\\Markup\\0000011.xml\n",
      "D:\\Data\\Diploma\\real\\real\\real\\Train_V2\\\\Lebanon.ID\\Markup\\0000012.xml\n",
      "D:\\Data\\Diploma\\real\\real\\real\\Train_V2\\\\Lebanon.ID\\Markup\\0000013.xml\n",
      "D:\\Data\\Diploma\\real\\real\\real\\Train_V2\\\\Lebanon.ID\\Markup\\0000014.xml\n",
      "D:\\Data\\Diploma\\real\\real\\real\\Train_V2\\\\Lebanon.ID\\Markup\\0000015.xml\n",
      "D:\\Data\\Diploma\\real\\real\\real\\Train_V2\\\\Lebanon.ID\\Markup\\0000016.xml\n",
      "D:\\Data\\Diploma\\real\\real\\real\\Train_V2\\\\Lebanon.ID\\Markup\\0000017.xml\n",
      "D:\\Data\\Diploma\\real\\real\\real\\Train_V2\\\\Lebanon.ID\\Markup\\0000018.xml\n",
      "D:\\Data\\Diploma\\real\\real\\real\\Train_V2\\\\Lebanon.ID\\Markup\\0000019.xml\n",
      "D:\\Data\\Diploma\\real\\real\\real\\Train_V2\\\\Lebanon.ID\\Markup\\0000020.xml\n",
      "D:\\Data\\Diploma\\real\\real\\real\\Train_V2\\\\Lebanon.ID\\Markup\\0000021.xml\n",
      "D:\\Data\\Diploma\\real\\real\\real\\Train_V2\\\\Lebanon.ID\\Markup\\0000022.xml\n",
      "D:\\Data\\Diploma\\real\\real\\real\\Train_V2\\\\Lebanon.ID\\Markup\\0000023.xml\n",
      "D:\\Data\\Diploma\\real\\real\\real\\Train_V2\\\\Lebanon.ID\\Markup\\0000024.xml\n",
      "D:\\Data\\Diploma\\real\\real\\real\\Train_V2\\\\Lebanon.ID\\Markup\\0000025.xml\n",
      "D:\\Data\\Diploma\\real\\real\\real\\Train_V2\\\\Lebanon.ID\\Markup\\0000026.xml\n",
      "D:\\Data\\Diploma\\real\\real\\real\\Train_V2\\\\Lebanon.ID\\Markup\\0000027.xml\n",
      "D:\\Data\\Diploma\\real\\real\\real\\Train_V2\\\\Lebanon.ID\\Markup\\0000028.xml\n",
      "D:\\Data\\Diploma\\real\\real\\real\\Train_V2\\\\Lebanon.ID\\Markup\\0000029.xml\n",
      "D:\\Data\\Diploma\\real\\real\\real\\Train_V2\\\\Lebanon.ID\\Markup\\0000030.xml\n",
      "D:\\Data\\Diploma\\real\\real\\real\\Train_V2\\\\Lebanon.ID\\Markup\\0000031.xml\n",
      "D:\\Data\\Diploma\\real\\real\\real\\Train_V2\\\\Lebanon.ID\\Markup\\0000032.xml\n",
      "D:\\Data\\Diploma\\real\\real\\real\\Train_V2\\\\Lebanon.ID\\Markup\\0000033.xml\n",
      "D:\\Data\\Diploma\\real\\real\\real\\Train_V2\\\\Lebanon.ID\\Markup\\0000034.xml\n",
      "D:\\Data\\Diploma\\real\\real\\real\\Train_V2\\\\Lebanon.ID\\Markup\\0000035.xml\n",
      "D:\\Data\\Diploma\\real\\real\\real\\Train_V2\\\\Lebanon.ID\\Markup\\0000036.xml\n",
      "D:\\Data\\Diploma\\real\\real\\real\\Train_V2\\\\Lebanon.ID\\Markup\\0000037.xml\n",
      "D:\\Data\\Diploma\\real\\real\\real\\Train_V2\\\\Lebanon.ID\\Markup\\0000038.xml\n",
      "D:\\Data\\Diploma\\real\\real\\real\\Train_V2\\\\Lebanon.ID\\Markup\\0000039.xml\n",
      "D:\\Data\\Diploma\\real\\real\\real\\Train_V2\\\\Lebanon.ID\\Markup\\0000040.xml\n",
      "D:\\Data\\Diploma\\real\\real\\real\\Train_V2\\\\Lebanon.ID\\Markup\\0000041.xml\n",
      "D:\\Data\\Diploma\\real\\real\\real\\Train_V2\\\\Lebanon.ID\\Markup\\0000042.xml\n",
      "D:\\Data\\Diploma\\real\\real\\real\\Train_V2\\\\Lebanon.ID\\Markup\\0000043.xml\n",
      "D:\\Data\\Diploma\\real\\real\\real\\Train_V2\\\\Lebanon.ID\\Markup\\0000044.xml\n",
      "D:\\Data\\Diploma\\real\\real\\real\\Train_V2\\\\Lebanon.ID\\Markup\\0000045.xml\n",
      "D:\\Data\\Diploma\\real\\real\\real\\Train_V2\\\\Lebanon.ID\\Markup\\0000046.xml\n",
      "D:\\Data\\Diploma\\real\\real\\real\\Train_V2\\\\Lebanon.ID\\Markup\\0000047.xml\n",
      "D:\\Data\\Diploma\\real\\real\\real\\Train_V2\\\\Lebanon.ID\\Markup\\0000048.xml\n",
      "D:\\Data\\Diploma\\real\\real\\real\\Train_V2\\\\Lebanon.ID\\Markup\\0000049.xml\n",
      "D:\\Data\\Diploma\\real\\real\\real\\Train_V2\\\\Lebanon.ID\\Markup\\0000050.xml\n",
      "D:\\Data\\Diploma\\real\\real\\real\\Train_V2\\\\Lebanon.ID\\Markup\\0000051.xml\n",
      "D:\\Data\\Diploma\\real\\real\\real\\Train_V2\\\\Lebanon.ID\\Markup\\0000052.xml\n",
      "D:\\Data\\Diploma\\real\\real\\real\\Train_V2\\\\Lebanon.ID\\Markup\\0000053.xml\n",
      "D:\\Data\\Diploma\\real\\real\\real\\Train_V2\\\\Lebanon.ID\\Markup\\0000054.xml\n",
      "D:\\Data\\Diploma\\real\\real\\real\\Train_V2\\\\Lebanon.ID\\Markup\\0000055.xml\n",
      "\n"
     ]
    },
    {
     "data": {
      "application/vnd.jupyter.widget-view+json": {
       "model_id": "8ef818e3352c4759ae3b667e1fc350a3",
       "version_major": 2,
       "version_minor": 0
      },
      "text/plain": [
       "HBox(children=(HTML(value=''), FloatProgress(value=0.0, max=10.0), HTML(value='')))"
      ]
     },
     "metadata": {},
     "output_type": "display_data"
    },
    {
     "name": "stdout",
     "output_type": "stream",
     "text": [
      "D:\\Data\\Diploma\\real\\real\\real\\Train_V2\\\\LOUISIANA_photo\\Markup\\0000000.xml\n",
      "D:\\Data\\Diploma\\real\\dataset//gt/LOUISIANA_photo0000000.xmlCharMap.png\n",
      "D:\\Data\\Diploma\\real\\real\\real\\Train_V2\\\\LOUISIANA_photo\\Markup\\0000001.xml\n",
      "D:\\Data\\Diploma\\real\\dataset//gt/LOUISIANA_photo0000001.xmlCharMap.png\n",
      "D:\\Data\\Diploma\\real\\real\\real\\Train_V2\\\\LOUISIANA_photo\\Markup\\0000002.xml\n",
      "D:\\Data\\Diploma\\real\\dataset//gt/LOUISIANA_photo0000002.xmlCharMap.png\n",
      "D:\\Data\\Diploma\\real\\real\\real\\Train_V2\\\\LOUISIANA_photo\\Markup\\0000003.xml\n",
      "D:\\Data\\Diploma\\real\\dataset//gt/LOUISIANA_photo0000003.xmlCharMap.png\n",
      "D:\\Data\\Diploma\\real\\real\\real\\Train_V2\\\\LOUISIANA_photo\\Markup\\0000004.xml\n",
      "D:\\Data\\Diploma\\real\\dataset//gt/LOUISIANA_photo0000004.xmlCharMap.png\n",
      "D:\\Data\\Diploma\\real\\real\\real\\Train_V2\\\\LOUISIANA_photo\\Markup\\0000005.xml\n",
      "D:\\Data\\Diploma\\real\\dataset//gt/LOUISIANA_photo0000005.xmlCharMap.png\n",
      "D:\\Data\\Diploma\\real\\real\\real\\Train_V2\\\\LOUISIANA_photo\\Markup\\0000006.xml\n",
      "D:\\Data\\Diploma\\real\\dataset//gt/LOUISIANA_photo0000006.xmlCharMap.png\n",
      "D:\\Data\\Diploma\\real\\real\\real\\Train_V2\\\\LOUISIANA_photo\\Markup\\0000007.xml\n",
      "D:\\Data\\Diploma\\real\\dataset//gt/LOUISIANA_photo0000007.xmlCharMap.png\n",
      "D:\\Data\\Diploma\\real\\real\\real\\Train_V2\\\\LOUISIANA_photo\\Markup\\0000008.xml\n",
      "D:\\Data\\Diploma\\real\\dataset//gt/LOUISIANA_photo0000008.xmlCharMap.png\n",
      "D:\\Data\\Diploma\\real\\real\\real\\Train_V2\\\\LOUISIANA_photo\\Markup\\0000009.xml\n",
      "D:\\Data\\Diploma\\real\\dataset//gt/LOUISIANA_photo0000009.xmlCharMap.png\n",
      "\n"
     ]
    },
    {
     "data": {
      "application/vnd.jupyter.widget-view+json": {
       "model_id": "3fbda7eaa11f4f34b26b2d138b197ecb",
       "version_major": 2,
       "version_minor": 0
      },
      "text/plain": [
       "HBox(children=(HTML(value=''), FloatProgress(value=0.0, max=10.0), HTML(value='')))"
      ]
     },
     "metadata": {},
     "output_type": "display_data"
    },
    {
     "name": "stdout",
     "output_type": "stream",
     "text": [
      "D:\\Data\\Diploma\\real\\real\\real\\Train_V2\\\\LOUISIANA_scan\\Markup\\0000000.xml\n",
      "D:\\Data\\Diploma\\real\\dataset//gt/LOUISIANA_scan0000000.xmlCharMap.png\n",
      "D:\\Data\\Diploma\\real\\real\\real\\Train_V2\\\\LOUISIANA_scan\\Markup\\0000001.xml\n",
      "D:\\Data\\Diploma\\real\\dataset//gt/LOUISIANA_scan0000001.xmlCharMap.png\n",
      "D:\\Data\\Diploma\\real\\real\\real\\Train_V2\\\\LOUISIANA_scan\\Markup\\0000002.xml\n",
      "D:\\Data\\Diploma\\real\\dataset//gt/LOUISIANA_scan0000002.xmlCharMap.png\n",
      "D:\\Data\\Diploma\\real\\real\\real\\Train_V2\\\\LOUISIANA_scan\\Markup\\0000003.xml\n",
      "D:\\Data\\Diploma\\real\\dataset//gt/LOUISIANA_scan0000003.xmlCharMap.png\n",
      "D:\\Data\\Diploma\\real\\real\\real\\Train_V2\\\\LOUISIANA_scan\\Markup\\0000004.xml\n",
      "D:\\Data\\Diploma\\real\\dataset//gt/LOUISIANA_scan0000004.xmlCharMap.png\n",
      "D:\\Data\\Diploma\\real\\real\\real\\Train_V2\\\\LOUISIANA_scan\\Markup\\0000005.xml\n",
      "D:\\Data\\Diploma\\real\\dataset//gt/LOUISIANA_scan0000005.xmlCharMap.png\n",
      "D:\\Data\\Diploma\\real\\real\\real\\Train_V2\\\\LOUISIANA_scan\\Markup\\0000006.xml\n",
      "D:\\Data\\Diploma\\real\\dataset//gt/LOUISIANA_scan0000006.xmlCharMap.png\n",
      "D:\\Data\\Diploma\\real\\real\\real\\Train_V2\\\\LOUISIANA_scan\\Markup\\0000007.xml\n",
      "D:\\Data\\Diploma\\real\\dataset//gt/LOUISIANA_scan0000007.xmlCharMap.png\n",
      "D:\\Data\\Diploma\\real\\real\\real\\Train_V2\\\\LOUISIANA_scan\\Markup\\0000008.xml\n",
      "D:\\Data\\Diploma\\real\\dataset//gt/LOUISIANA_scan0000008.xmlCharMap.png\n",
      "D:\\Data\\Diploma\\real\\real\\real\\Train_V2\\\\LOUISIANA_scan\\Markup\\0000009.xml\n",
      "D:\\Data\\Diploma\\real\\dataset//gt/LOUISIANA_scan0000009.xmlCharMap.png\n",
      "\n"
     ]
    },
    {
     "data": {
      "application/vnd.jupyter.widget-view+json": {
       "model_id": "b5b5e89192be495e806a11ceb5ba31f8",
       "version_major": 2,
       "version_minor": 0
      },
      "text/plain": [
       "HBox(children=(HTML(value=''), FloatProgress(value=0.0, max=10.0), HTML(value='')))"
      ]
     },
     "metadata": {},
     "output_type": "display_data"
    },
    {
     "name": "stdout",
     "output_type": "stream",
     "text": [
      "D:\\Data\\Diploma\\real\\real\\real\\Train_V2\\\\MAINE_photo\\Markup\\0000000.xml\n",
      "D:\\Data\\Diploma\\real\\dataset//gt/MAINE_photo0000000.xmlCharMap.png\n",
      "D:\\Data\\Diploma\\real\\real\\real\\Train_V2\\\\MAINE_photo\\Markup\\0000001.xml\n",
      "D:\\Data\\Diploma\\real\\dataset//gt/MAINE_photo0000001.xmlCharMap.png\n",
      "D:\\Data\\Diploma\\real\\real\\real\\Train_V2\\\\MAINE_photo\\Markup\\0000002.xml\n",
      "D:\\Data\\Diploma\\real\\dataset//gt/MAINE_photo0000002.xmlCharMap.png\n",
      "D:\\Data\\Diploma\\real\\real\\real\\Train_V2\\\\MAINE_photo\\Markup\\0000003.xml\n",
      "D:\\Data\\Diploma\\real\\dataset//gt/MAINE_photo0000003.xmlCharMap.png\n",
      "D:\\Data\\Diploma\\real\\real\\real\\Train_V2\\\\MAINE_photo\\Markup\\0000004.xml\n",
      "D:\\Data\\Diploma\\real\\dataset//gt/MAINE_photo0000004.xmlCharMap.png\n",
      "D:\\Data\\Diploma\\real\\real\\real\\Train_V2\\\\MAINE_photo\\Markup\\0000005.xml\n",
      "D:\\Data\\Diploma\\real\\dataset//gt/MAINE_photo0000005.xmlCharMap.png\n",
      "D:\\Data\\Diploma\\real\\real\\real\\Train_V2\\\\MAINE_photo\\Markup\\0000006.xml\n",
      "D:\\Data\\Diploma\\real\\dataset//gt/MAINE_photo0000006.xmlCharMap.png\n",
      "D:\\Data\\Diploma\\real\\real\\real\\Train_V2\\\\MAINE_photo\\Markup\\0000007.xml\n",
      "D:\\Data\\Diploma\\real\\dataset//gt/MAINE_photo0000007.xmlCharMap.png\n",
      "D:\\Data\\Diploma\\real\\real\\real\\Train_V2\\\\MAINE_photo\\Markup\\0000008.xml\n",
      "D:\\Data\\Diploma\\real\\dataset//gt/MAINE_photo0000008.xmlCharMap.png\n",
      "D:\\Data\\Diploma\\real\\real\\real\\Train_V2\\\\MAINE_photo\\Markup\\0000009.xml\n",
      "D:\\Data\\Diploma\\real\\dataset//gt/MAINE_photo0000009.xmlCharMap.png\n",
      "\n"
     ]
    },
    {
     "data": {
      "application/vnd.jupyter.widget-view+json": {
       "model_id": "60a737694ee54e44842a6d6bbc0b4b1e",
       "version_major": 2,
       "version_minor": 0
      },
      "text/plain": [
       "HBox(children=(HTML(value=''), FloatProgress(value=0.0, max=10.0), HTML(value='')))"
      ]
     },
     "metadata": {},
     "output_type": "display_data"
    },
    {
     "name": "stdout",
     "output_type": "stream",
     "text": [
      "D:\\Data\\Diploma\\real\\real\\real\\Train_V2\\\\MAINE_scan\\Markup\\0000000.xml\n",
      "D:\\Data\\Diploma\\real\\dataset//gt/MAINE_scan0000000.xmlCharMap.png\n",
      "D:\\Data\\Diploma\\real\\real\\real\\Train_V2\\\\MAINE_scan\\Markup\\0000001.xml\n",
      "D:\\Data\\Diploma\\real\\dataset//gt/MAINE_scan0000001.xmlCharMap.png\n",
      "D:\\Data\\Diploma\\real\\real\\real\\Train_V2\\\\MAINE_scan\\Markup\\0000002.xml\n",
      "D:\\Data\\Diploma\\real\\dataset//gt/MAINE_scan0000002.xmlCharMap.png\n",
      "D:\\Data\\Diploma\\real\\real\\real\\Train_V2\\\\MAINE_scan\\Markup\\0000003.xml\n",
      "D:\\Data\\Diploma\\real\\dataset//gt/MAINE_scan0000003.xmlCharMap.png\n",
      "D:\\Data\\Diploma\\real\\real\\real\\Train_V2\\\\MAINE_scan\\Markup\\0000004.xml\n",
      "D:\\Data\\Diploma\\real\\dataset//gt/MAINE_scan0000004.xmlCharMap.png\n",
      "D:\\Data\\Diploma\\real\\real\\real\\Train_V2\\\\MAINE_scan\\Markup\\0000005.xml\n",
      "D:\\Data\\Diploma\\real\\dataset//gt/MAINE_scan0000005.xmlCharMap.png\n",
      "D:\\Data\\Diploma\\real\\real\\real\\Train_V2\\\\MAINE_scan\\Markup\\0000006.xml\n",
      "D:\\Data\\Diploma\\real\\dataset//gt/MAINE_scan0000006.xmlCharMap.png\n",
      "D:\\Data\\Diploma\\real\\real\\real\\Train_V2\\\\MAINE_scan\\Markup\\0000007.xml\n",
      "D:\\Data\\Diploma\\real\\dataset//gt/MAINE_scan0000007.xmlCharMap.png\n",
      "D:\\Data\\Diploma\\real\\real\\real\\Train_V2\\\\MAINE_scan\\Markup\\0000008.xml\n",
      "D:\\Data\\Diploma\\real\\dataset//gt/MAINE_scan0000008.xmlCharMap.png\n",
      "D:\\Data\\Diploma\\real\\real\\real\\Train_V2\\\\MAINE_scan\\Markup\\0000009.xml\n",
      "D:\\Data\\Diploma\\real\\dataset//gt/MAINE_scan0000009.xmlCharMap.png\n",
      "\n"
     ]
    },
    {
     "data": {
      "application/vnd.jupyter.widget-view+json": {
       "model_id": "2e092e2f72794910b8c681341e82b4f3",
       "version_major": 2,
       "version_minor": 0
      },
      "text/plain": [
       "HBox(children=(HTML(value=''), FloatProgress(value=0.0, max=10.0), HTML(value='')))"
      ]
     },
     "metadata": {},
     "output_type": "display_data"
    },
    {
     "name": "stdout",
     "output_type": "stream",
     "text": [
      "D:\\Data\\Diploma\\real\\real\\real\\Train_V2\\\\MARYLAND_photo\\Markup\\0000000.xml\n",
      "D:\\Data\\Diploma\\real\\dataset//gt/MARYLAND_photo0000000.xmlCharMap.png\n",
      "D:\\Data\\Diploma\\real\\real\\real\\Train_V2\\\\MARYLAND_photo\\Markup\\0000001.xml\n",
      "D:\\Data\\Diploma\\real\\dataset//gt/MARYLAND_photo0000001.xmlCharMap.png\n",
      "D:\\Data\\Diploma\\real\\real\\real\\Train_V2\\\\MARYLAND_photo\\Markup\\0000002.xml\n",
      "D:\\Data\\Diploma\\real\\dataset//gt/MARYLAND_photo0000002.xmlCharMap.png\n",
      "D:\\Data\\Diploma\\real\\real\\real\\Train_V2\\\\MARYLAND_photo\\Markup\\0000003.xml\n",
      "D:\\Data\\Diploma\\real\\dataset//gt/MARYLAND_photo0000003.xmlCharMap.png\n",
      "D:\\Data\\Diploma\\real\\real\\real\\Train_V2\\\\MARYLAND_photo\\Markup\\0000004.xml\n",
      "D:\\Data\\Diploma\\real\\dataset//gt/MARYLAND_photo0000004.xmlCharMap.png\n",
      "D:\\Data\\Diploma\\real\\real\\real\\Train_V2\\\\MARYLAND_photo\\Markup\\0000005.xml\n",
      "D:\\Data\\Diploma\\real\\dataset//gt/MARYLAND_photo0000005.xmlCharMap.png\n",
      "D:\\Data\\Diploma\\real\\real\\real\\Train_V2\\\\MARYLAND_photo\\Markup\\0000006.xml\n",
      "D:\\Data\\Diploma\\real\\dataset//gt/MARYLAND_photo0000006.xmlCharMap.png\n",
      "D:\\Data\\Diploma\\real\\real\\real\\Train_V2\\\\MARYLAND_photo\\Markup\\0000007.xml\n",
      "D:\\Data\\Diploma\\real\\dataset//gt/MARYLAND_photo0000007.xmlCharMap.png\n",
      "D:\\Data\\Diploma\\real\\real\\real\\Train_V2\\\\MARYLAND_photo\\Markup\\0000008.xml\n",
      "D:\\Data\\Diploma\\real\\dataset//gt/MARYLAND_photo0000008.xmlCharMap.png\n",
      "D:\\Data\\Diploma\\real\\real\\real\\Train_V2\\\\MARYLAND_photo\\Markup\\0000009.xml\n",
      "D:\\Data\\Diploma\\real\\dataset//gt/MARYLAND_photo0000009.xmlCharMap.png\n",
      "\n"
     ]
    },
    {
     "data": {
      "application/vnd.jupyter.widget-view+json": {
       "model_id": "8ed48d949c684d1c8df7526f775059c6",
       "version_major": 2,
       "version_minor": 0
      },
      "text/plain": [
       "HBox(children=(HTML(value=''), FloatProgress(value=0.0, max=10.0), HTML(value='')))"
      ]
     },
     "metadata": {},
     "output_type": "display_data"
    },
    {
     "name": "stdout",
     "output_type": "stream",
     "text": [
      "D:\\Data\\Diploma\\real\\real\\real\\Train_V2\\\\MARYLAND_scan\\Markup\\0000000.xml\n",
      "D:\\Data\\Diploma\\real\\dataset//gt/MARYLAND_scan0000000.xmlCharMap.png\n",
      "D:\\Data\\Diploma\\real\\real\\real\\Train_V2\\\\MARYLAND_scan\\Markup\\0000001.xml\n",
      "D:\\Data\\Diploma\\real\\dataset//gt/MARYLAND_scan0000001.xmlCharMap.png\n",
      "D:\\Data\\Diploma\\real\\real\\real\\Train_V2\\\\MARYLAND_scan\\Markup\\0000002.xml\n",
      "D:\\Data\\Diploma\\real\\dataset//gt/MARYLAND_scan0000002.xmlCharMap.png\n",
      "D:\\Data\\Diploma\\real\\real\\real\\Train_V2\\\\MARYLAND_scan\\Markup\\0000003.xml\n",
      "D:\\Data\\Diploma\\real\\dataset//gt/MARYLAND_scan0000003.xmlCharMap.png\n",
      "D:\\Data\\Diploma\\real\\real\\real\\Train_V2\\\\MARYLAND_scan\\Markup\\0000004.xml\n",
      "D:\\Data\\Diploma\\real\\dataset//gt/MARYLAND_scan0000004.xmlCharMap.png\n",
      "D:\\Data\\Diploma\\real\\real\\real\\Train_V2\\\\MARYLAND_scan\\Markup\\0000005.xml\n",
      "D:\\Data\\Diploma\\real\\dataset//gt/MARYLAND_scan0000005.xmlCharMap.png\n",
      "D:\\Data\\Diploma\\real\\real\\real\\Train_V2\\\\MARYLAND_scan\\Markup\\0000006.xml\n",
      "D:\\Data\\Diploma\\real\\dataset//gt/MARYLAND_scan0000006.xmlCharMap.png\n",
      "D:\\Data\\Diploma\\real\\real\\real\\Train_V2\\\\MARYLAND_scan\\Markup\\0000007.xml\n",
      "D:\\Data\\Diploma\\real\\dataset//gt/MARYLAND_scan0000007.xmlCharMap.png\n",
      "D:\\Data\\Diploma\\real\\real\\real\\Train_V2\\\\MARYLAND_scan\\Markup\\0000008.xml\n",
      "D:\\Data\\Diploma\\real\\dataset//gt/MARYLAND_scan0000008.xmlCharMap.png\n",
      "D:\\Data\\Diploma\\real\\real\\real\\Train_V2\\\\MARYLAND_scan\\Markup\\0000009.xml\n",
      "D:\\Data\\Diploma\\real\\dataset//gt/MARYLAND_scan0000009.xmlCharMap.png\n",
      "\n"
     ]
    },
    {
     "data": {
      "application/vnd.jupyter.widget-view+json": {
       "model_id": "2685a26cb8774add93ee528cbf96f641",
       "version_major": 2,
       "version_minor": 0
      },
      "text/plain": [
       "HBox(children=(HTML(value=''), FloatProgress(value=0.0, max=10.0), HTML(value='')))"
      ]
     },
     "metadata": {},
     "output_type": "display_data"
    },
    {
     "name": "stdout",
     "output_type": "stream",
     "text": [
      "D:\\Data\\Diploma\\real\\real\\real\\Train_V2\\\\MASSACHUSETTS_photo\\Markup\\0000000.xml\n",
      "D:\\Data\\Diploma\\real\\dataset//gt/MASSACHUSETTS_photo0000000.xmlCharMap.png\n",
      "D:\\Data\\Diploma\\real\\real\\real\\Train_V2\\\\MASSACHUSETTS_photo\\Markup\\0000001.xml\n",
      "D:\\Data\\Diploma\\real\\dataset//gt/MASSACHUSETTS_photo0000001.xmlCharMap.png\n",
      "D:\\Data\\Diploma\\real\\real\\real\\Train_V2\\\\MASSACHUSETTS_photo\\Markup\\0000002.xml\n",
      "D:\\Data\\Diploma\\real\\dataset//gt/MASSACHUSETTS_photo0000002.xmlCharMap.png\n",
      "D:\\Data\\Diploma\\real\\real\\real\\Train_V2\\\\MASSACHUSETTS_photo\\Markup\\0000003.xml\n",
      "D:\\Data\\Diploma\\real\\dataset//gt/MASSACHUSETTS_photo0000003.xmlCharMap.png\n",
      "D:\\Data\\Diploma\\real\\real\\real\\Train_V2\\\\MASSACHUSETTS_photo\\Markup\\0000004.xml\n",
      "D:\\Data\\Diploma\\real\\dataset//gt/MASSACHUSETTS_photo0000004.xmlCharMap.png\n",
      "D:\\Data\\Diploma\\real\\real\\real\\Train_V2\\\\MASSACHUSETTS_photo\\Markup\\0000005.xml\n",
      "D:\\Data\\Diploma\\real\\dataset//gt/MASSACHUSETTS_photo0000005.xmlCharMap.png\n",
      "D:\\Data\\Diploma\\real\\real\\real\\Train_V2\\\\MASSACHUSETTS_photo\\Markup\\0000006.xml\n",
      "D:\\Data\\Diploma\\real\\dataset//gt/MASSACHUSETTS_photo0000006.xmlCharMap.png\n",
      "D:\\Data\\Diploma\\real\\real\\real\\Train_V2\\\\MASSACHUSETTS_photo\\Markup\\0000007.xml\n",
      "D:\\Data\\Diploma\\real\\dataset//gt/MASSACHUSETTS_photo0000007.xmlCharMap.png\n",
      "D:\\Data\\Diploma\\real\\real\\real\\Train_V2\\\\MASSACHUSETTS_photo\\Markup\\0000008.xml\n",
      "D:\\Data\\Diploma\\real\\dataset//gt/MASSACHUSETTS_photo0000008.xmlCharMap.png\n",
      "D:\\Data\\Diploma\\real\\real\\real\\Train_V2\\\\MASSACHUSETTS_photo\\Markup\\0000009.xml\n",
      "D:\\Data\\Diploma\\real\\dataset//gt/MASSACHUSETTS_photo0000009.xmlCharMap.png\n",
      "\n"
     ]
    },
    {
     "data": {
      "application/vnd.jupyter.widget-view+json": {
       "model_id": "57f2ee0abfa94896b505f60cc88b3001",
       "version_major": 2,
       "version_minor": 0
      },
      "text/plain": [
       "HBox(children=(HTML(value=''), FloatProgress(value=0.0, max=10.0), HTML(value='')))"
      ]
     },
     "metadata": {},
     "output_type": "display_data"
    },
    {
     "name": "stdout",
     "output_type": "stream",
     "text": [
      "D:\\Data\\Diploma\\real\\real\\real\\Train_V2\\\\MASSACHUSETTS_scan\\Markup\\0000000.xml\n",
      "D:\\Data\\Diploma\\real\\dataset//gt/MASSACHUSETTS_scan0000000.xmlCharMap.png\n",
      "D:\\Data\\Diploma\\real\\real\\real\\Train_V2\\\\MASSACHUSETTS_scan\\Markup\\0000001.xml\n",
      "D:\\Data\\Diploma\\real\\dataset//gt/MASSACHUSETTS_scan0000001.xmlCharMap.png\n",
      "D:\\Data\\Diploma\\real\\real\\real\\Train_V2\\\\MASSACHUSETTS_scan\\Markup\\0000002.xml\n",
      "D:\\Data\\Diploma\\real\\dataset//gt/MASSACHUSETTS_scan0000002.xmlCharMap.png\n",
      "D:\\Data\\Diploma\\real\\real\\real\\Train_V2\\\\MASSACHUSETTS_scan\\Markup\\0000003.xml\n",
      "D:\\Data\\Diploma\\real\\dataset//gt/MASSACHUSETTS_scan0000003.xmlCharMap.png\n",
      "D:\\Data\\Diploma\\real\\real\\real\\Train_V2\\\\MASSACHUSETTS_scan\\Markup\\0000004.xml\n",
      "D:\\Data\\Diploma\\real\\dataset//gt/MASSACHUSETTS_scan0000004.xmlCharMap.png\n",
      "D:\\Data\\Diploma\\real\\real\\real\\Train_V2\\\\MASSACHUSETTS_scan\\Markup\\0000005.xml\n",
      "D:\\Data\\Diploma\\real\\dataset//gt/MASSACHUSETTS_scan0000005.xmlCharMap.png\n",
      "D:\\Data\\Diploma\\real\\real\\real\\Train_V2\\\\MASSACHUSETTS_scan\\Markup\\0000006.xml\n",
      "D:\\Data\\Diploma\\real\\dataset//gt/MASSACHUSETTS_scan0000006.xmlCharMap.png\n",
      "D:\\Data\\Diploma\\real\\real\\real\\Train_V2\\\\MASSACHUSETTS_scan\\Markup\\0000007.xml\n",
      "D:\\Data\\Diploma\\real\\dataset//gt/MASSACHUSETTS_scan0000007.xmlCharMap.png\n",
      "D:\\Data\\Diploma\\real\\real\\real\\Train_V2\\\\MASSACHUSETTS_scan\\Markup\\0000008.xml\n",
      "D:\\Data\\Diploma\\real\\dataset//gt/MASSACHUSETTS_scan0000008.xmlCharMap.png\n",
      "D:\\Data\\Diploma\\real\\real\\real\\Train_V2\\\\MASSACHUSETTS_scan\\Markup\\0000009.xml\n",
      "D:\\Data\\Diploma\\real\\dataset//gt/MASSACHUSETTS_scan0000009.xmlCharMap.png\n",
      "\n"
     ]
    },
    {
     "data": {
      "application/vnd.jupyter.widget-view+json": {
       "model_id": "5263a05f28e54f8f98051e6a26c294c7",
       "version_major": 2,
       "version_minor": 0
      },
      "text/plain": [
       "HBox(children=(HTML(value=''), FloatProgress(value=0.0, max=8.0), HTML(value='')))"
      ]
     },
     "metadata": {},
     "output_type": "display_data"
    },
    {
     "name": "stdout",
     "output_type": "stream",
     "text": [
      "D:\\Data\\Diploma\\real\\real\\real\\Train_V2\\\\Medical.ID\\Markup\\0000000.xml\n",
      "D:\\Data\\Diploma\\real\\real\\real\\Train_V2\\\\Medical.ID\\Markup\\0000001.xml\n",
      "D:\\Data\\Diploma\\real\\real\\real\\Train_V2\\\\Medical.ID\\Markup\\0000002.xml\n",
      "D:\\Data\\Diploma\\real\\real\\real\\Train_V2\\\\Medical.ID\\Markup\\0000003.xml\n",
      "D:\\Data\\Diploma\\real\\real\\real\\Train_V2\\\\Medical.ID\\Markup\\0000004.xml\n",
      "D:\\Data\\Diploma\\real\\real\\real\\Train_V2\\\\Medical.ID\\Markup\\0000005.xml\n",
      "D:\\Data\\Diploma\\real\\real\\real\\Train_V2\\\\Medical.ID\\Markup\\0000006.xml\n",
      "D:\\Data\\Diploma\\real\\real\\real\\Train_V2\\\\Medical.ID\\Markup\\0000007.xml\n",
      "\n"
     ]
    },
    {
     "data": {
      "application/vnd.jupyter.widget-view+json": {
       "model_id": "7cf80fdcb14c4eb9892641e5f9a2356d",
       "version_major": 2,
       "version_minor": 0
      },
      "text/plain": [
       "HBox(children=(HTML(value=''), FloatProgress(value=0.0, max=10.0), HTML(value='')))"
      ]
     },
     "metadata": {},
     "output_type": "display_data"
    },
    {
     "name": "stdout",
     "output_type": "stream",
     "text": [
      "D:\\Data\\Diploma\\real\\real\\real\\Train_V2\\\\MICHIGAN_photo\\Markup\\0000000.xml\n",
      "D:\\Data\\Diploma\\real\\dataset//gt/MICHIGAN_photo0000000.xmlCharMap.png\n",
      "D:\\Data\\Diploma\\real\\real\\real\\Train_V2\\\\MICHIGAN_photo\\Markup\\0000001.xml\n",
      "D:\\Data\\Diploma\\real\\dataset//gt/MICHIGAN_photo0000001.xmlCharMap.png\n",
      "D:\\Data\\Diploma\\real\\real\\real\\Train_V2\\\\MICHIGAN_photo\\Markup\\0000002.xml\n",
      "D:\\Data\\Diploma\\real\\dataset//gt/MICHIGAN_photo0000002.xmlCharMap.png\n",
      "D:\\Data\\Diploma\\real\\real\\real\\Train_V2\\\\MICHIGAN_photo\\Markup\\0000003.xml\n",
      "D:\\Data\\Diploma\\real\\dataset//gt/MICHIGAN_photo0000003.xmlCharMap.png\n",
      "D:\\Data\\Diploma\\real\\real\\real\\Train_V2\\\\MICHIGAN_photo\\Markup\\0000004.xml\n",
      "D:\\Data\\Diploma\\real\\dataset//gt/MICHIGAN_photo0000004.xmlCharMap.png\n",
      "D:\\Data\\Diploma\\real\\real\\real\\Train_V2\\\\MICHIGAN_photo\\Markup\\0000005.xml\n",
      "D:\\Data\\Diploma\\real\\dataset//gt/MICHIGAN_photo0000005.xmlCharMap.png\n",
      "D:\\Data\\Diploma\\real\\real\\real\\Train_V2\\\\MICHIGAN_photo\\Markup\\0000006.xml\n",
      "D:\\Data\\Diploma\\real\\dataset//gt/MICHIGAN_photo0000006.xmlCharMap.png\n",
      "D:\\Data\\Diploma\\real\\real\\real\\Train_V2\\\\MICHIGAN_photo\\Markup\\0000007.xml\n",
      "D:\\Data\\Diploma\\real\\dataset//gt/MICHIGAN_photo0000007.xmlCharMap.png\n",
      "D:\\Data\\Diploma\\real\\real\\real\\Train_V2\\\\MICHIGAN_photo\\Markup\\0000008.xml\n",
      "D:\\Data\\Diploma\\real\\dataset//gt/MICHIGAN_photo0000008.xmlCharMap.png\n",
      "D:\\Data\\Diploma\\real\\real\\real\\Train_V2\\\\MICHIGAN_photo\\Markup\\0000009.xml\n",
      "D:\\Data\\Diploma\\real\\dataset//gt/MICHIGAN_photo0000009.xmlCharMap.png\n",
      "\n"
     ]
    },
    {
     "data": {
      "application/vnd.jupyter.widget-view+json": {
       "model_id": "0146dc0df7ed4d12ac5e92e2c19a46fe",
       "version_major": 2,
       "version_minor": 0
      },
      "text/plain": [
       "HBox(children=(HTML(value=''), FloatProgress(value=0.0, max=10.0), HTML(value='')))"
      ]
     },
     "metadata": {},
     "output_type": "display_data"
    },
    {
     "name": "stdout",
     "output_type": "stream",
     "text": [
      "D:\\Data\\Diploma\\real\\real\\real\\Train_V2\\\\MICHIGAN_scan\\Markup\\0000000.xml\n",
      "D:\\Data\\Diploma\\real\\dataset//gt/MICHIGAN_scan0000000.xmlCharMap.png\n",
      "D:\\Data\\Diploma\\real\\real\\real\\Train_V2\\\\MICHIGAN_scan\\Markup\\0000001.xml\n",
      "D:\\Data\\Diploma\\real\\dataset//gt/MICHIGAN_scan0000001.xmlCharMap.png\n",
      "D:\\Data\\Diploma\\real\\real\\real\\Train_V2\\\\MICHIGAN_scan\\Markup\\0000002.xml\n",
      "D:\\Data\\Diploma\\real\\dataset//gt/MICHIGAN_scan0000002.xmlCharMap.png\n",
      "D:\\Data\\Diploma\\real\\real\\real\\Train_V2\\\\MICHIGAN_scan\\Markup\\0000003.xml\n",
      "D:\\Data\\Diploma\\real\\dataset//gt/MICHIGAN_scan0000003.xmlCharMap.png\n",
      "D:\\Data\\Diploma\\real\\real\\real\\Train_V2\\\\MICHIGAN_scan\\Markup\\0000004.xml\n",
      "D:\\Data\\Diploma\\real\\dataset//gt/MICHIGAN_scan0000004.xmlCharMap.png\n",
      "D:\\Data\\Diploma\\real\\real\\real\\Train_V2\\\\MICHIGAN_scan\\Markup\\0000005.xml\n",
      "D:\\Data\\Diploma\\real\\dataset//gt/MICHIGAN_scan0000005.xmlCharMap.png\n",
      "D:\\Data\\Diploma\\real\\real\\real\\Train_V2\\\\MICHIGAN_scan\\Markup\\0000006.xml\n",
      "D:\\Data\\Diploma\\real\\dataset//gt/MICHIGAN_scan0000006.xmlCharMap.png\n",
      "D:\\Data\\Diploma\\real\\real\\real\\Train_V2\\\\MICHIGAN_scan\\Markup\\0000007.xml\n",
      "D:\\Data\\Diploma\\real\\dataset//gt/MICHIGAN_scan0000007.xmlCharMap.png\n",
      "D:\\Data\\Diploma\\real\\real\\real\\Train_V2\\\\MICHIGAN_scan\\Markup\\0000008.xml\n",
      "D:\\Data\\Diploma\\real\\dataset//gt/MICHIGAN_scan0000008.xmlCharMap.png\n",
      "D:\\Data\\Diploma\\real\\real\\real\\Train_V2\\\\MICHIGAN_scan\\Markup\\0000009.xml\n",
      "D:\\Data\\Diploma\\real\\dataset//gt/MICHIGAN_scan0000009.xmlCharMap.png\n",
      "\n"
     ]
    },
    {
     "data": {
      "application/vnd.jupyter.widget-view+json": {
       "model_id": "41b4254bf5cb430785f6bb429bb38b54",
       "version_major": 2,
       "version_minor": 0
      },
      "text/plain": [
       "HBox(children=(HTML(value=''), FloatProgress(value=0.0, max=10.0), HTML(value='')))"
      ]
     },
     "metadata": {},
     "output_type": "display_data"
    },
    {
     "name": "stdout",
     "output_type": "stream",
     "text": [
      "D:\\Data\\Diploma\\real\\real\\real\\Train_V2\\\\MINNESOTA_photo\\Markup\\0000000.xml\n",
      "D:\\Data\\Diploma\\real\\dataset//gt/MINNESOTA_photo0000000.xmlCharMap.png\n",
      "D:\\Data\\Diploma\\real\\real\\real\\Train_V2\\\\MINNESOTA_photo\\Markup\\0000001.xml\n",
      "D:\\Data\\Diploma\\real\\dataset//gt/MINNESOTA_photo0000001.xmlCharMap.png\n",
      "D:\\Data\\Diploma\\real\\real\\real\\Train_V2\\\\MINNESOTA_photo\\Markup\\0000002.xml\n",
      "D:\\Data\\Diploma\\real\\dataset//gt/MINNESOTA_photo0000002.xmlCharMap.png\n",
      "D:\\Data\\Diploma\\real\\real\\real\\Train_V2\\\\MINNESOTA_photo\\Markup\\0000003.xml\n",
      "D:\\Data\\Diploma\\real\\dataset//gt/MINNESOTA_photo0000003.xmlCharMap.png\n",
      "D:\\Data\\Diploma\\real\\real\\real\\Train_V2\\\\MINNESOTA_photo\\Markup\\0000004.xml\n",
      "D:\\Data\\Diploma\\real\\dataset//gt/MINNESOTA_photo0000004.xmlCharMap.png\n",
      "D:\\Data\\Diploma\\real\\real\\real\\Train_V2\\\\MINNESOTA_photo\\Markup\\0000005.xml\n",
      "D:\\Data\\Diploma\\real\\dataset//gt/MINNESOTA_photo0000005.xmlCharMap.png\n",
      "D:\\Data\\Diploma\\real\\real\\real\\Train_V2\\\\MINNESOTA_photo\\Markup\\0000006.xml\n",
      "D:\\Data\\Diploma\\real\\dataset//gt/MINNESOTA_photo0000006.xmlCharMap.png\n",
      "D:\\Data\\Diploma\\real\\real\\real\\Train_V2\\\\MINNESOTA_photo\\Markup\\0000007.xml\n",
      "D:\\Data\\Diploma\\real\\dataset//gt/MINNESOTA_photo0000007.xmlCharMap.png\n",
      "D:\\Data\\Diploma\\real\\real\\real\\Train_V2\\\\MINNESOTA_photo\\Markup\\0000008.xml\n",
      "D:\\Data\\Diploma\\real\\dataset//gt/MINNESOTA_photo0000008.xmlCharMap.png\n",
      "D:\\Data\\Diploma\\real\\real\\real\\Train_V2\\\\MINNESOTA_photo\\Markup\\0000009.xml\n",
      "D:\\Data\\Diploma\\real\\dataset//gt/MINNESOTA_photo0000009.xmlCharMap.png\n",
      "\n"
     ]
    },
    {
     "data": {
      "application/vnd.jupyter.widget-view+json": {
       "model_id": "b472c11b25134b91a0ec973c99774930",
       "version_major": 2,
       "version_minor": 0
      },
      "text/plain": [
       "HBox(children=(HTML(value=''), FloatProgress(value=0.0, max=10.0), HTML(value='')))"
      ]
     },
     "metadata": {},
     "output_type": "display_data"
    },
    {
     "name": "stdout",
     "output_type": "stream",
     "text": [
      "D:\\Data\\Diploma\\real\\real\\real\\Train_V2\\\\MINNESOTA_scan\\Markup\\0000000.xml\n",
      "D:\\Data\\Diploma\\real\\dataset//gt/MINNESOTA_scan0000000.xmlCharMap.png\n",
      "D:\\Data\\Diploma\\real\\real\\real\\Train_V2\\\\MINNESOTA_scan\\Markup\\0000001.xml\n",
      "D:\\Data\\Diploma\\real\\dataset//gt/MINNESOTA_scan0000001.xmlCharMap.png\n",
      "D:\\Data\\Diploma\\real\\real\\real\\Train_V2\\\\MINNESOTA_scan\\Markup\\0000002.xml\n",
      "D:\\Data\\Diploma\\real\\dataset//gt/MINNESOTA_scan0000002.xmlCharMap.png\n",
      "D:\\Data\\Diploma\\real\\real\\real\\Train_V2\\\\MINNESOTA_scan\\Markup\\0000003.xml\n",
      "D:\\Data\\Diploma\\real\\dataset//gt/MINNESOTA_scan0000003.xmlCharMap.png\n",
      "D:\\Data\\Diploma\\real\\real\\real\\Train_V2\\\\MINNESOTA_scan\\Markup\\0000004.xml\n",
      "D:\\Data\\Diploma\\real\\dataset//gt/MINNESOTA_scan0000004.xmlCharMap.png\n",
      "D:\\Data\\Diploma\\real\\real\\real\\Train_V2\\\\MINNESOTA_scan\\Markup\\0000005.xml\n",
      "D:\\Data\\Diploma\\real\\dataset//gt/MINNESOTA_scan0000005.xmlCharMap.png\n",
      "D:\\Data\\Diploma\\real\\real\\real\\Train_V2\\\\MINNESOTA_scan\\Markup\\0000006.xml\n",
      "D:\\Data\\Diploma\\real\\dataset//gt/MINNESOTA_scan0000006.xmlCharMap.png\n",
      "D:\\Data\\Diploma\\real\\real\\real\\Train_V2\\\\MINNESOTA_scan\\Markup\\0000007.xml\n",
      "D:\\Data\\Diploma\\real\\dataset//gt/MINNESOTA_scan0000007.xmlCharMap.png\n",
      "D:\\Data\\Diploma\\real\\real\\real\\Train_V2\\\\MINNESOTA_scan\\Markup\\0000008.xml\n",
      "D:\\Data\\Diploma\\real\\dataset//gt/MINNESOTA_scan0000008.xmlCharMap.png\n",
      "D:\\Data\\Diploma\\real\\real\\real\\Train_V2\\\\MINNESOTA_scan\\Markup\\0000009.xml\n",
      "D:\\Data\\Diploma\\real\\dataset//gt/MINNESOTA_scan0000009.xmlCharMap.png\n",
      "\n"
     ]
    },
    {
     "data": {
      "application/vnd.jupyter.widget-view+json": {
       "model_id": "6c27d44fb7144b178656a10360ea8772",
       "version_major": 2,
       "version_minor": 0
      },
      "text/plain": [
       "HBox(children=(HTML(value=''), FloatProgress(value=0.0, max=10.0), HTML(value='')))"
      ]
     },
     "metadata": {},
     "output_type": "display_data"
    },
    {
     "name": "stdout",
     "output_type": "stream",
     "text": [
      "D:\\Data\\Diploma\\real\\real\\real\\Train_V2\\\\MISSISSIPPI_photo\\Markup\\0000000.xml\n",
      "D:\\Data\\Diploma\\real\\dataset//gt/MISSISSIPPI_photo0000000.xmlCharMap.png\n",
      "D:\\Data\\Diploma\\real\\real\\real\\Train_V2\\\\MISSISSIPPI_photo\\Markup\\0000001.xml\n",
      "D:\\Data\\Diploma\\real\\dataset//gt/MISSISSIPPI_photo0000001.xmlCharMap.png\n",
      "D:\\Data\\Diploma\\real\\real\\real\\Train_V2\\\\MISSISSIPPI_photo\\Markup\\0000002.xml\n",
      "D:\\Data\\Diploma\\real\\dataset//gt/MISSISSIPPI_photo0000002.xmlCharMap.png\n",
      "D:\\Data\\Diploma\\real\\real\\real\\Train_V2\\\\MISSISSIPPI_photo\\Markup\\0000003.xml\n",
      "D:\\Data\\Diploma\\real\\dataset//gt/MISSISSIPPI_photo0000003.xmlCharMap.png\n",
      "D:\\Data\\Diploma\\real\\real\\real\\Train_V2\\\\MISSISSIPPI_photo\\Markup\\0000004.xml\n",
      "D:\\Data\\Diploma\\real\\dataset//gt/MISSISSIPPI_photo0000004.xmlCharMap.png\n",
      "D:\\Data\\Diploma\\real\\real\\real\\Train_V2\\\\MISSISSIPPI_photo\\Markup\\0000005.xml\n",
      "D:\\Data\\Diploma\\real\\dataset//gt/MISSISSIPPI_photo0000005.xmlCharMap.png\n",
      "D:\\Data\\Diploma\\real\\real\\real\\Train_V2\\\\MISSISSIPPI_photo\\Markup\\0000006.xml\n",
      "D:\\Data\\Diploma\\real\\dataset//gt/MISSISSIPPI_photo0000006.xmlCharMap.png\n",
      "D:\\Data\\Diploma\\real\\real\\real\\Train_V2\\\\MISSISSIPPI_photo\\Markup\\0000007.xml\n",
      "D:\\Data\\Diploma\\real\\dataset//gt/MISSISSIPPI_photo0000007.xmlCharMap.png\n",
      "D:\\Data\\Diploma\\real\\real\\real\\Train_V2\\\\MISSISSIPPI_photo\\Markup\\0000008.xml\n",
      "D:\\Data\\Diploma\\real\\dataset//gt/MISSISSIPPI_photo0000008.xmlCharMap.png\n",
      "D:\\Data\\Diploma\\real\\real\\real\\Train_V2\\\\MISSISSIPPI_photo\\Markup\\0000009.xml\n",
      "D:\\Data\\Diploma\\real\\dataset//gt/MISSISSIPPI_photo0000009.xmlCharMap.png\n",
      "\n"
     ]
    },
    {
     "data": {
      "application/vnd.jupyter.widget-view+json": {
       "model_id": "4c20cabee4e743f89404a9757c7bd8d3",
       "version_major": 2,
       "version_minor": 0
      },
      "text/plain": [
       "HBox(children=(HTML(value=''), FloatProgress(value=0.0, max=10.0), HTML(value='')))"
      ]
     },
     "metadata": {},
     "output_type": "display_data"
    },
    {
     "name": "stdout",
     "output_type": "stream",
     "text": [
      "D:\\Data\\Diploma\\real\\real\\real\\Train_V2\\\\MISSISSIPPI_scan\\Markup\\0000000.xml\n",
      "D:\\Data\\Diploma\\real\\dataset//gt/MISSISSIPPI_scan0000000.xmlCharMap.png\n",
      "D:\\Data\\Diploma\\real\\real\\real\\Train_V2\\\\MISSISSIPPI_scan\\Markup\\0000001.xml\n",
      "D:\\Data\\Diploma\\real\\dataset//gt/MISSISSIPPI_scan0000001.xmlCharMap.png\n",
      "D:\\Data\\Diploma\\real\\real\\real\\Train_V2\\\\MISSISSIPPI_scan\\Markup\\0000002.xml\n",
      "D:\\Data\\Diploma\\real\\dataset//gt/MISSISSIPPI_scan0000002.xmlCharMap.png\n",
      "D:\\Data\\Diploma\\real\\real\\real\\Train_V2\\\\MISSISSIPPI_scan\\Markup\\0000003.xml\n",
      "D:\\Data\\Diploma\\real\\dataset//gt/MISSISSIPPI_scan0000003.xmlCharMap.png\n",
      "D:\\Data\\Diploma\\real\\real\\real\\Train_V2\\\\MISSISSIPPI_scan\\Markup\\0000004.xml\n",
      "D:\\Data\\Diploma\\real\\dataset//gt/MISSISSIPPI_scan0000004.xmlCharMap.png\n",
      "D:\\Data\\Diploma\\real\\real\\real\\Train_V2\\\\MISSISSIPPI_scan\\Markup\\0000005.xml\n",
      "D:\\Data\\Diploma\\real\\dataset//gt/MISSISSIPPI_scan0000005.xmlCharMap.png\n",
      "D:\\Data\\Diploma\\real\\real\\real\\Train_V2\\\\MISSISSIPPI_scan\\Markup\\0000006.xml\n",
      "D:\\Data\\Diploma\\real\\dataset//gt/MISSISSIPPI_scan0000006.xmlCharMap.png\n",
      "D:\\Data\\Diploma\\real\\real\\real\\Train_V2\\\\MISSISSIPPI_scan\\Markup\\0000007.xml\n",
      "D:\\Data\\Diploma\\real\\dataset//gt/MISSISSIPPI_scan0000007.xmlCharMap.png\n",
      "D:\\Data\\Diploma\\real\\real\\real\\Train_V2\\\\MISSISSIPPI_scan\\Markup\\0000008.xml\n",
      "D:\\Data\\Diploma\\real\\dataset//gt/MISSISSIPPI_scan0000008.xmlCharMap.png\n",
      "D:\\Data\\Diploma\\real\\real\\real\\Train_V2\\\\MISSISSIPPI_scan\\Markup\\0000009.xml\n",
      "D:\\Data\\Diploma\\real\\dataset//gt/MISSISSIPPI_scan0000009.xmlCharMap.png\n",
      "\n"
     ]
    },
    {
     "data": {
      "application/vnd.jupyter.widget-view+json": {
       "model_id": "6c4bb0d4780c4825b0e39bdd4bfac5aa",
       "version_major": 2,
       "version_minor": 0
      },
      "text/plain": [
       "HBox(children=(HTML(value=''), FloatProgress(value=0.0, max=10.0), HTML(value='')))"
      ]
     },
     "metadata": {},
     "output_type": "display_data"
    },
    {
     "name": "stdout",
     "output_type": "stream",
     "text": [
      "D:\\Data\\Diploma\\real\\real\\real\\Train_V2\\\\MISSOURI_photo\\Markup\\0000000.xml\n",
      "D:\\Data\\Diploma\\real\\dataset//gt/MISSOURI_photo0000000.xmlCharMap.png\n",
      "D:\\Data\\Diploma\\real\\real\\real\\Train_V2\\\\MISSOURI_photo\\Markup\\0000001.xml\n",
      "D:\\Data\\Diploma\\real\\dataset//gt/MISSOURI_photo0000001.xmlCharMap.png\n",
      "D:\\Data\\Diploma\\real\\real\\real\\Train_V2\\\\MISSOURI_photo\\Markup\\0000002.xml\n",
      "D:\\Data\\Diploma\\real\\dataset//gt/MISSOURI_photo0000002.xmlCharMap.png\n",
      "D:\\Data\\Diploma\\real\\real\\real\\Train_V2\\\\MISSOURI_photo\\Markup\\0000003.xml\n",
      "D:\\Data\\Diploma\\real\\dataset//gt/MISSOURI_photo0000003.xmlCharMap.png\n",
      "D:\\Data\\Diploma\\real\\real\\real\\Train_V2\\\\MISSOURI_photo\\Markup\\0000004.xml\n",
      "D:\\Data\\Diploma\\real\\dataset//gt/MISSOURI_photo0000004.xmlCharMap.png\n",
      "D:\\Data\\Diploma\\real\\real\\real\\Train_V2\\\\MISSOURI_photo\\Markup\\0000005.xml\n",
      "D:\\Data\\Diploma\\real\\dataset//gt/MISSOURI_photo0000005.xmlCharMap.png\n",
      "D:\\Data\\Diploma\\real\\real\\real\\Train_V2\\\\MISSOURI_photo\\Markup\\0000006.xml\n",
      "D:\\Data\\Diploma\\real\\dataset//gt/MISSOURI_photo0000006.xmlCharMap.png\n",
      "D:\\Data\\Diploma\\real\\real\\real\\Train_V2\\\\MISSOURI_photo\\Markup\\0000007.xml\n",
      "D:\\Data\\Diploma\\real\\dataset//gt/MISSOURI_photo0000007.xmlCharMap.png\n",
      "D:\\Data\\Diploma\\real\\real\\real\\Train_V2\\\\MISSOURI_photo\\Markup\\0000008.xml\n",
      "D:\\Data\\Diploma\\real\\dataset//gt/MISSOURI_photo0000008.xmlCharMap.png\n",
      "D:\\Data\\Diploma\\real\\real\\real\\Train_V2\\\\MISSOURI_photo\\Markup\\0000009.xml\n",
      "D:\\Data\\Diploma\\real\\dataset//gt/MISSOURI_photo0000009.xmlCharMap.png\n",
      "\n"
     ]
    },
    {
     "data": {
      "application/vnd.jupyter.widget-view+json": {
       "model_id": "afabfdb6709b4ad495cc24f65d4b51e4",
       "version_major": 2,
       "version_minor": 0
      },
      "text/plain": [
       "HBox(children=(HTML(value=''), FloatProgress(value=0.0, max=10.0), HTML(value='')))"
      ]
     },
     "metadata": {},
     "output_type": "display_data"
    },
    {
     "name": "stdout",
     "output_type": "stream",
     "text": [
      "D:\\Data\\Diploma\\real\\real\\real\\Train_V2\\\\MISSOURI_scan\\Markup\\0000000.xml\n",
      "D:\\Data\\Diploma\\real\\dataset//gt/MISSOURI_scan0000000.xmlCharMap.png\n",
      "D:\\Data\\Diploma\\real\\real\\real\\Train_V2\\\\MISSOURI_scan\\Markup\\0000001.xml\n",
      "D:\\Data\\Diploma\\real\\dataset//gt/MISSOURI_scan0000001.xmlCharMap.png\n",
      "D:\\Data\\Diploma\\real\\real\\real\\Train_V2\\\\MISSOURI_scan\\Markup\\0000002.xml\n",
      "D:\\Data\\Diploma\\real\\dataset//gt/MISSOURI_scan0000002.xmlCharMap.png\n",
      "D:\\Data\\Diploma\\real\\real\\real\\Train_V2\\\\MISSOURI_scan\\Markup\\0000003.xml\n",
      "D:\\Data\\Diploma\\real\\dataset//gt/MISSOURI_scan0000003.xmlCharMap.png\n",
      "D:\\Data\\Diploma\\real\\real\\real\\Train_V2\\\\MISSOURI_scan\\Markup\\0000004.xml\n",
      "D:\\Data\\Diploma\\real\\dataset//gt/MISSOURI_scan0000004.xmlCharMap.png\n",
      "D:\\Data\\Diploma\\real\\real\\real\\Train_V2\\\\MISSOURI_scan\\Markup\\0000005.xml\n",
      "D:\\Data\\Diploma\\real\\dataset//gt/MISSOURI_scan0000005.xmlCharMap.png\n",
      "D:\\Data\\Diploma\\real\\real\\real\\Train_V2\\\\MISSOURI_scan\\Markup\\0000006.xml\n",
      "D:\\Data\\Diploma\\real\\dataset//gt/MISSOURI_scan0000006.xmlCharMap.png\n",
      "D:\\Data\\Diploma\\real\\real\\real\\Train_V2\\\\MISSOURI_scan\\Markup\\0000007.xml\n",
      "D:\\Data\\Diploma\\real\\dataset//gt/MISSOURI_scan0000007.xmlCharMap.png\n",
      "D:\\Data\\Diploma\\real\\real\\real\\Train_V2\\\\MISSOURI_scan\\Markup\\0000008.xml\n",
      "D:\\Data\\Diploma\\real\\dataset//gt/MISSOURI_scan0000008.xmlCharMap.png\n",
      "D:\\Data\\Diploma\\real\\real\\real\\Train_V2\\\\MISSOURI_scan\\Markup\\0000009.xml\n",
      "D:\\Data\\Diploma\\real\\dataset//gt/MISSOURI_scan0000009.xmlCharMap.png\n",
      "\n"
     ]
    },
    {
     "data": {
      "application/vnd.jupyter.widget-view+json": {
       "model_id": "eed45d6f1593469c81a05bdefb14504b",
       "version_major": 2,
       "version_minor": 0
      },
      "text/plain": [
       "HBox(children=(HTML(value=''), FloatProgress(value=0.0), HTML(value='')))"
      ]
     },
     "metadata": {},
     "output_type": "display_data"
    },
    {
     "name": "stdout",
     "output_type": "stream",
     "text": [
      "D:\\Data\\Diploma\\real\\real\\real\\Train_V2\\\\Mix doc_1\\Markup\\0000000.xml\n",
      "D:\\Data\\Diploma\\real\\dataset//gt/Mix doc_10000000.xmlCharMap.png\n",
      "D:\\Data\\Diploma\\real\\real\\real\\Train_V2\\\\Mix doc_1\\Markup\\0000001.xml\n",
      "D:\\Data\\Diploma\\real\\dataset//gt/Mix doc_10000001.xmlCharMap.png\n",
      "D:\\Data\\Diploma\\real\\real\\real\\Train_V2\\\\Mix doc_1\\Markup\\0000002.xml\n",
      "D:\\Data\\Diploma\\real\\real\\real\\Train_V2\\\\Mix doc_1\\Markup\\0000003.xml\n",
      "D:\\Data\\Diploma\\real\\dataset//gt/Mix doc_10000003.xmlCharMap.png\n",
      "D:\\Data\\Diploma\\real\\real\\real\\Train_V2\\\\Mix doc_1\\Markup\\0000004.xml\n",
      "D:\\Data\\Diploma\\real\\dataset//gt/Mix doc_10000004.xmlCharMap.png\n",
      "D:\\Data\\Diploma\\real\\real\\real\\Train_V2\\\\Mix doc_1\\Markup\\0000005.xml\n",
      "second filter 47 0 region\n",
      "D:\\Data\\Diploma\\real\\dataset//gt/Mix doc_10000005.xmlCharMap.png\n",
      "D:\\Data\\Diploma\\real\\real\\real\\Train_V2\\\\Mix doc_1\\Markup\\0000006.xml\n",
      "D:\\Data\\Diploma\\real\\dataset//gt/Mix doc_10000006.xmlCharMap.png\n",
      "D:\\Data\\Diploma\\real\\real\\real\\Train_V2\\\\Mix doc_1\\Markup\\0000007.xml\n",
      "D:\\Data\\Diploma\\real\\dataset//gt/Mix doc_10000007.xmlCharMap.png\n",
      "D:\\Data\\Diploma\\real\\real\\real\\Train_V2\\\\Mix doc_1\\Markup\\0000008.xml\n",
      "D:\\Data\\Diploma\\real\\dataset//gt/Mix doc_10000008.xmlCharMap.png\n",
      "D:\\Data\\Diploma\\real\\real\\real\\Train_V2\\\\Mix doc_1\\Markup\\0000009.xml\n",
      "D:\\Data\\Diploma\\real\\dataset//gt/Mix doc_10000009.xmlCharMap.png\n",
      "D:\\Data\\Diploma\\real\\real\\real\\Train_V2\\\\Mix doc_1\\Markup\\0000010.xml\n",
      "D:\\Data\\Diploma\\real\\dataset//gt/Mix doc_10000010.xmlCharMap.png\n",
      "D:\\Data\\Diploma\\real\\real\\real\\Train_V2\\\\Mix doc_1\\Markup\\0000011.xml\n",
      "D:\\Data\\Diploma\\real\\dataset//gt/Mix doc_10000011.xmlCharMap.png\n",
      "D:\\Data\\Diploma\\real\\real\\real\\Train_V2\\\\Mix doc_1\\Markup\\0000012.xml\n",
      "D:\\Data\\Diploma\\real\\dataset//gt/Mix doc_10000012.xmlCharMap.png\n",
      "D:\\Data\\Diploma\\real\\real\\real\\Train_V2\\\\Mix doc_1\\Markup\\0000013.xml\n",
      "D:\\Data\\Diploma\\real\\dataset//gt/Mix doc_10000013.xmlCharMap.png\n",
      "D:\\Data\\Diploma\\real\\real\\real\\Train_V2\\\\Mix doc_1\\Markup\\0000014.xml\n",
      "D:\\Data\\Diploma\\real\\dataset//gt/Mix doc_10000014.xmlCharMap.png\n",
      "D:\\Data\\Diploma\\real\\real\\real\\Train_V2\\\\Mix doc_1\\Markup\\0000015.xml\n",
      "D:\\Data\\Diploma\\real\\dataset//gt/Mix doc_10000015.xmlCharMap.png\n",
      "D:\\Data\\Diploma\\real\\real\\real\\Train_V2\\\\Mix doc_1\\Markup\\0000016.xml\n",
      "D:\\Data\\Diploma\\real\\dataset//gt/Mix doc_10000016.xmlCharMap.png\n",
      "D:\\Data\\Diploma\\real\\real\\real\\Train_V2\\\\Mix doc_1\\Markup\\0000017.xml\n",
      "D:\\Data\\Diploma\\real\\dataset//gt/Mix doc_10000017.xmlCharMap.png\n",
      "D:\\Data\\Diploma\\real\\real\\real\\Train_V2\\\\Mix doc_1\\Markup\\0000018.xml\n",
      "D:\\Data\\Diploma\\real\\dataset//gt/Mix doc_10000018.xmlCharMap.png\n",
      "D:\\Data\\Diploma\\real\\real\\real\\Train_V2\\\\Mix doc_1\\Markup\\0000019.xml\n",
      "D:\\Data\\Diploma\\real\\dataset//gt/Mix doc_10000019.xmlCharMap.png\n",
      "D:\\Data\\Diploma\\real\\real\\real\\Train_V2\\\\Mix doc_1\\Markup\\0000020.xml\n",
      "D:\\Data\\Diploma\\real\\dataset//gt/Mix doc_10000020.xmlCharMap.png\n",
      "D:\\Data\\Diploma\\real\\real\\real\\Train_V2\\\\Mix doc_1\\Markup\\0000021.xml\n",
      "D:\\Data\\Diploma\\real\\dataset//gt/Mix doc_10000021.xmlCharMap.png\n",
      "D:\\Data\\Diploma\\real\\real\\real\\Train_V2\\\\Mix doc_1\\Markup\\0000022.xml\n",
      "D:\\Data\\Diploma\\real\\dataset//gt/Mix doc_10000022.xmlCharMap.png\n",
      "D:\\Data\\Diploma\\real\\real\\real\\Train_V2\\\\Mix doc_1\\Markup\\0000023.xml\n",
      "D:\\Data\\Diploma\\real\\dataset//gt/Mix doc_10000023.xmlCharMap.png\n",
      "D:\\Data\\Diploma\\real\\real\\real\\Train_V2\\\\Mix doc_1\\Markup\\0000024.xml\n",
      "D:\\Data\\Diploma\\real\\dataset//gt/Mix doc_10000024.xmlCharMap.png\n",
      "D:\\Data\\Diploma\\real\\real\\real\\Train_V2\\\\Mix doc_1\\Markup\\0000025.xml\n",
      "D:\\Data\\Diploma\\real\\dataset//gt/Mix doc_10000025.xmlCharMap.png\n",
      "D:\\Data\\Diploma\\real\\real\\real\\Train_V2\\\\Mix doc_1\\Markup\\0000026.xml\n",
      "D:\\Data\\Diploma\\real\\dataset//gt/Mix doc_10000026.xmlCharMap.png\n",
      "D:\\Data\\Diploma\\real\\real\\real\\Train_V2\\\\Mix doc_1\\Markup\\0000027.xml\n",
      "D:\\Data\\Diploma\\real\\dataset//gt/Mix doc_10000027.xmlCharMap.png\n",
      "D:\\Data\\Diploma\\real\\real\\real\\Train_V2\\\\Mix doc_1\\Markup\\0000028.xml\n",
      "D:\\Data\\Diploma\\real\\dataset//gt/Mix doc_10000028.xmlCharMap.png\n",
      "D:\\Data\\Diploma\\real\\real\\real\\Train_V2\\\\Mix doc_1\\Markup\\0000029.xml\n",
      "D:\\Data\\Diploma\\real\\dataset//gt/Mix doc_10000029.xmlCharMap.png\n",
      "D:\\Data\\Diploma\\real\\real\\real\\Train_V2\\\\Mix doc_1\\Markup\\0000030.xml\n",
      "D:\\Data\\Diploma\\real\\dataset//gt/Mix doc_10000030.xmlCharMap.png\n",
      "D:\\Data\\Diploma\\real\\real\\real\\Train_V2\\\\Mix doc_1\\Markup\\0000031.xml\n",
      "D:\\Data\\Diploma\\real\\dataset//gt/Mix doc_10000031.xmlCharMap.png\n",
      "D:\\Data\\Diploma\\real\\real\\real\\Train_V2\\\\Mix doc_1\\Markup\\0000032.xml\n",
      "D:\\Data\\Diploma\\real\\dataset//gt/Mix doc_10000032.xmlCharMap.png\n",
      "D:\\Data\\Diploma\\real\\real\\real\\Train_V2\\\\Mix doc_1\\Markup\\0000033.xml\n",
      "D:\\Data\\Diploma\\real\\dataset//gt/Mix doc_10000033.xmlCharMap.png\n",
      "D:\\Data\\Diploma\\real\\real\\real\\Train_V2\\\\Mix doc_1\\Markup\\0000034.xml\n",
      "D:\\Data\\Diploma\\real\\dataset//gt/Mix doc_10000034.xmlCharMap.png\n",
      "D:\\Data\\Diploma\\real\\real\\real\\Train_V2\\\\Mix doc_1\\Markup\\0000035.xml\n",
      "D:\\Data\\Diploma\\real\\dataset//gt/Mix doc_10000035.xmlCharMap.png\n",
      "D:\\Data\\Diploma\\real\\real\\real\\Train_V2\\\\Mix doc_1\\Markup\\0000036.xml\n",
      "D:\\Data\\Diploma\\real\\real\\real\\Train_V2\\\\Mix doc_1\\Markup\\0000037.xml\n",
      "D:\\Data\\Diploma\\real\\real\\real\\Train_V2\\\\Mix doc_1\\Markup\\0000038.xml\n",
      "D:\\Data\\Diploma\\real\\dataset//gt/Mix doc_10000038.xmlCharMap.png\n",
      "D:\\Data\\Diploma\\real\\real\\real\\Train_V2\\\\Mix doc_1\\Markup\\0000039.xml\n",
      "D:\\Data\\Diploma\\real\\dataset//gt/Mix doc_10000039.xmlCharMap.png\n",
      "D:\\Data\\Diploma\\real\\real\\real\\Train_V2\\\\Mix doc_1\\Markup\\0000040.xml\n",
      "D:\\Data\\Diploma\\real\\dataset//gt/Mix doc_10000040.xmlCharMap.png\n",
      "D:\\Data\\Diploma\\real\\real\\real\\Train_V2\\\\Mix doc_1\\Markup\\0000041.xml\n",
      "D:\\Data\\Diploma\\real\\dataset//gt/Mix doc_10000041.xmlCharMap.png\n",
      "D:\\Data\\Diploma\\real\\real\\real\\Train_V2\\\\Mix doc_1\\Markup\\0000042.xml\n",
      "D:\\Data\\Diploma\\real\\dataset//gt/Mix doc_10000042.xmlCharMap.png\n",
      "D:\\Data\\Diploma\\real\\real\\real\\Train_V2\\\\Mix doc_1\\Markup\\0000043.xml\n",
      "second filter 12 0 region\n",
      "second filter 11 0 region\n",
      "second filter 11 0 region\n",
      "D:\\Data\\Diploma\\real\\dataset//gt/Mix doc_10000043.xmlCharMap.png\n",
      "D:\\Data\\Diploma\\real\\real\\real\\Train_V2\\\\Mix doc_1\\Markup\\0000044.xml\n",
      "second filter 23 0 region\n",
      "D:\\Data\\Diploma\\real\\dataset//gt/Mix doc_10000044.xmlCharMap.png\n",
      "D:\\Data\\Diploma\\real\\real\\real\\Train_V2\\\\Mix doc_1\\Markup\\0000045.xml\n",
      "D:\\Data\\Diploma\\real\\dataset//gt/Mix doc_10000045.xmlCharMap.png\n",
      "D:\\Data\\Diploma\\real\\real\\real\\Train_V2\\\\Mix doc_1\\Markup\\0000046.xml\n",
      "D:\\Data\\Diploma\\real\\dataset//gt/Mix doc_10000046.xmlCharMap.png\n",
      "D:\\Data\\Diploma\\real\\real\\real\\Train_V2\\\\Mix doc_1\\Markup\\0000047.xml\n",
      "D:\\Data\\Diploma\\real\\dataset//gt/Mix doc_10000047.xmlCharMap.png\n",
      "D:\\Data\\Diploma\\real\\real\\real\\Train_V2\\\\Mix doc_1\\Markup\\0000048.xml\n",
      "D:\\Data\\Diploma\\real\\dataset//gt/Mix doc_10000048.xmlCharMap.png\n",
      "D:\\Data\\Diploma\\real\\real\\real\\Train_V2\\\\Mix doc_1\\Markup\\0000049.xml\n",
      "D:\\Data\\Diploma\\real\\dataset//gt/Mix doc_10000049.xmlCharMap.png\n",
      "D:\\Data\\Diploma\\real\\real\\real\\Train_V2\\\\Mix doc_1\\Markup\\0000050.xml\n",
      "D:\\Data\\Diploma\\real\\dataset//gt/Mix doc_10000050.xmlCharMap.png\n",
      "D:\\Data\\Diploma\\real\\real\\real\\Train_V2\\\\Mix doc_1\\Markup\\0000051.xml\n",
      "D:\\Data\\Diploma\\real\\dataset//gt/Mix doc_10000051.xmlCharMap.png\n",
      "D:\\Data\\Diploma\\real\\real\\real\\Train_V2\\\\Mix doc_1\\Markup\\0000052.xml\n",
      "D:\\Data\\Diploma\\real\\dataset//gt/Mix doc_10000052.xmlCharMap.png\n",
      "D:\\Data\\Diploma\\real\\real\\real\\Train_V2\\\\Mix doc_1\\Markup\\0000053.xml\n",
      "D:\\Data\\Diploma\\real\\dataset//gt/Mix doc_10000053.xmlCharMap.png\n",
      "D:\\Data\\Diploma\\real\\real\\real\\Train_V2\\\\Mix doc_1\\Markup\\0000054.xml\n",
      "D:\\Data\\Diploma\\real\\dataset//gt/Mix doc_10000054.xmlCharMap.png\n",
      "D:\\Data\\Diploma\\real\\real\\real\\Train_V2\\\\Mix doc_1\\Markup\\0000055.xml\n",
      "D:\\Data\\Diploma\\real\\dataset//gt/Mix doc_10000055.xmlCharMap.png\n",
      "D:\\Data\\Diploma\\real\\real\\real\\Train_V2\\\\Mix doc_1\\Markup\\0000056.xml\n",
      "D:\\Data\\Diploma\\real\\dataset//gt/Mix doc_10000056.xmlCharMap.png\n",
      "D:\\Data\\Diploma\\real\\real\\real\\Train_V2\\\\Mix doc_1\\Markup\\0000057.xml\n",
      "D:\\Data\\Diploma\\real\\dataset//gt/Mix doc_10000057.xmlCharMap.png\n",
      "D:\\Data\\Diploma\\real\\real\\real\\Train_V2\\\\Mix doc_1\\Markup\\0000058.xml\n",
      "D:\\Data\\Diploma\\real\\dataset//gt/Mix doc_10000058.xmlCharMap.png\n",
      "D:\\Data\\Diploma\\real\\real\\real\\Train_V2\\\\Mix doc_1\\Markup\\0000059.xml\n",
      "D:\\Data\\Diploma\\real\\dataset//gt/Mix doc_10000059.xmlCharMap.png\n",
      "D:\\Data\\Diploma\\real\\real\\real\\Train_V2\\\\Mix doc_1\\Markup\\0000060.xml\n",
      "D:\\Data\\Diploma\\real\\dataset//gt/Mix doc_10000060.xmlCharMap.png\n",
      "D:\\Data\\Diploma\\real\\real\\real\\Train_V2\\\\Mix doc_1\\Markup\\0000061.xml\n"
     ]
    },
    {
     "name": "stdout",
     "output_type": "stream",
     "text": [
      "D:\\Data\\Diploma\\real\\dataset//gt/Mix doc_10000061.xmlCharMap.png\n",
      "D:\\Data\\Diploma\\real\\real\\real\\Train_V2\\\\Mix doc_1\\Markup\\0000062.xml\n",
      "D:\\Data\\Diploma\\real\\dataset//gt/Mix doc_10000062.xmlCharMap.png\n",
      "D:\\Data\\Diploma\\real\\real\\real\\Train_V2\\\\Mix doc_1\\Markup\\0000063.xml\n",
      "D:\\Data\\Diploma\\real\\dataset//gt/Mix doc_10000063.xmlCharMap.png\n",
      "D:\\Data\\Diploma\\real\\real\\real\\Train_V2\\\\Mix doc_1\\Markup\\0000064.xml\n",
      "D:\\Data\\Diploma\\real\\dataset//gt/Mix doc_10000064.xmlCharMap.png\n",
      "D:\\Data\\Diploma\\real\\real\\real\\Train_V2\\\\Mix doc_1\\Markup\\0000065.xml\n",
      "D:\\Data\\Diploma\\real\\dataset//gt/Mix doc_10000065.xmlCharMap.png\n",
      "D:\\Data\\Diploma\\real\\real\\real\\Train_V2\\\\Mix doc_1\\Markup\\0000066.xml\n",
      "D:\\Data\\Diploma\\real\\dataset//gt/Mix doc_10000066.xmlCharMap.png\n",
      "D:\\Data\\Diploma\\real\\real\\real\\Train_V2\\\\Mix doc_1\\Markup\\0000067.xml\n",
      "D:\\Data\\Diploma\\real\\dataset//gt/Mix doc_10000067.xmlCharMap.png\n",
      "D:\\Data\\Diploma\\real\\real\\real\\Train_V2\\\\Mix doc_1\\Markup\\0000068.xml\n",
      "D:\\Data\\Diploma\\real\\dataset//gt/Mix doc_10000068.xmlCharMap.png\n",
      "D:\\Data\\Diploma\\real\\real\\real\\Train_V2\\\\Mix doc_1\\Markup\\0000069.xml\n",
      "D:\\Data\\Diploma\\real\\dataset//gt/Mix doc_10000069.xmlCharMap.png\n",
      "D:\\Data\\Diploma\\real\\real\\real\\Train_V2\\\\Mix doc_1\\Markup\\0000070.xml\n",
      "D:\\Data\\Diploma\\real\\dataset//gt/Mix doc_10000070.xmlCharMap.png\n",
      "D:\\Data\\Diploma\\real\\real\\real\\Train_V2\\\\Mix doc_1\\Markup\\0000071.xml\n",
      "D:\\Data\\Diploma\\real\\dataset//gt/Mix doc_10000071.xmlCharMap.png\n",
      "D:\\Data\\Diploma\\real\\real\\real\\Train_V2\\\\Mix doc_1\\Markup\\0000072.xml\n",
      "D:\\Data\\Diploma\\real\\dataset//gt/Mix doc_10000072.xmlCharMap.png\n",
      "D:\\Data\\Diploma\\real\\real\\real\\Train_V2\\\\Mix doc_1\\Markup\\0000073.xml\n",
      "D:\\Data\\Diploma\\real\\dataset//gt/Mix doc_10000073.xmlCharMap.png\n",
      "D:\\Data\\Diploma\\real\\real\\real\\Train_V2\\\\Mix doc_1\\Markup\\0000074.xml\n",
      "D:\\Data\\Diploma\\real\\dataset//gt/Mix doc_10000074.xmlCharMap.png\n",
      "D:\\Data\\Diploma\\real\\real\\real\\Train_V2\\\\Mix doc_1\\Markup\\0000075.xml\n",
      "D:\\Data\\Diploma\\real\\dataset//gt/Mix doc_10000075.xmlCharMap.png\n",
      "D:\\Data\\Diploma\\real\\real\\real\\Train_V2\\\\Mix doc_1\\Markup\\0000076.xml\n",
      "D:\\Data\\Diploma\\real\\dataset//gt/Mix doc_10000076.xmlCharMap.png\n",
      "D:\\Data\\Diploma\\real\\real\\real\\Train_V2\\\\Mix doc_1\\Markup\\0000077.xml\n",
      "D:\\Data\\Diploma\\real\\dataset//gt/Mix doc_10000077.xmlCharMap.png\n",
      "D:\\Data\\Diploma\\real\\real\\real\\Train_V2\\\\Mix doc_1\\Markup\\0000078.xml\n",
      "D:\\Data\\Diploma\\real\\dataset//gt/Mix doc_10000078.xmlCharMap.png\n",
      "D:\\Data\\Diploma\\real\\real\\real\\Train_V2\\\\Mix doc_1\\Markup\\0000079.xml\n",
      "D:\\Data\\Diploma\\real\\dataset//gt/Mix doc_10000079.xmlCharMap.png\n",
      "D:\\Data\\Diploma\\real\\real\\real\\Train_V2\\\\Mix doc_1\\Markup\\0000080.xml\n",
      "D:\\Data\\Diploma\\real\\dataset//gt/Mix doc_10000080.xmlCharMap.png\n",
      "D:\\Data\\Diploma\\real\\real\\real\\Train_V2\\\\Mix doc_1\\Markup\\0000081.xml\n",
      "D:\\Data\\Diploma\\real\\dataset//gt/Mix doc_10000081.xmlCharMap.png\n",
      "D:\\Data\\Diploma\\real\\real\\real\\Train_V2\\\\Mix doc_1\\Markup\\0000082.xml\n",
      "D:\\Data\\Diploma\\real\\dataset//gt/Mix doc_10000082.xmlCharMap.png\n",
      "D:\\Data\\Diploma\\real\\real\\real\\Train_V2\\\\Mix doc_1\\Markup\\0000083.xml\n",
      "D:\\Data\\Diploma\\real\\dataset//gt/Mix doc_10000083.xmlCharMap.png\n",
      "D:\\Data\\Diploma\\real\\real\\real\\Train_V2\\\\Mix doc_1\\Markup\\0000084.xml\n",
      "D:\\Data\\Diploma\\real\\dataset//gt/Mix doc_10000084.xmlCharMap.png\n",
      "D:\\Data\\Diploma\\real\\real\\real\\Train_V2\\\\Mix doc_1\\Markup\\0000085.xml\n",
      "D:\\Data\\Diploma\\real\\dataset//gt/Mix doc_10000085.xmlCharMap.png\n",
      "D:\\Data\\Diploma\\real\\real\\real\\Train_V2\\\\Mix doc_1\\Markup\\0000086.xml\n",
      "D:\\Data\\Diploma\\real\\dataset//gt/Mix doc_10000086.xmlCharMap.png\n",
      "D:\\Data\\Diploma\\real\\real\\real\\Train_V2\\\\Mix doc_1\\Markup\\0000087.xml\n",
      "D:\\Data\\Diploma\\real\\dataset//gt/Mix doc_10000087.xmlCharMap.png\n",
      "D:\\Data\\Diploma\\real\\real\\real\\Train_V2\\\\Mix doc_1\\Markup\\0000088.xml\n",
      "D:\\Data\\Diploma\\real\\dataset//gt/Mix doc_10000088.xmlCharMap.png\n",
      "D:\\Data\\Diploma\\real\\real\\real\\Train_V2\\\\Mix doc_1\\Markup\\0000089.xml\n",
      "D:\\Data\\Diploma\\real\\dataset//gt/Mix doc_10000089.xmlCharMap.png\n",
      "D:\\Data\\Diploma\\real\\real\\real\\Train_V2\\\\Mix doc_1\\Markup\\0000090.xml\n",
      "D:\\Data\\Diploma\\real\\dataset//gt/Mix doc_10000090.xmlCharMap.png\n",
      "D:\\Data\\Diploma\\real\\real\\real\\Train_V2\\\\Mix doc_1\\Markup\\0000091.xml\n",
      "D:\\Data\\Diploma\\real\\dataset//gt/Mix doc_10000091.xmlCharMap.png\n",
      "D:\\Data\\Diploma\\real\\real\\real\\Train_V2\\\\Mix doc_1\\Markup\\0000092.xml\n",
      "D:\\Data\\Diploma\\real\\dataset//gt/Mix doc_10000092.xmlCharMap.png\n",
      "D:\\Data\\Diploma\\real\\real\\real\\Train_V2\\\\Mix doc_1\\Markup\\0000093.xml\n",
      "D:\\Data\\Diploma\\real\\dataset//gt/Mix doc_10000093.xmlCharMap.png\n",
      "D:\\Data\\Diploma\\real\\real\\real\\Train_V2\\\\Mix doc_1\\Markup\\0000094.xml\n",
      "D:\\Data\\Diploma\\real\\dataset//gt/Mix doc_10000094.xmlCharMap.png\n",
      "D:\\Data\\Diploma\\real\\real\\real\\Train_V2\\\\Mix doc_1\\Markup\\0000095.xml\n",
      "D:\\Data\\Diploma\\real\\dataset//gt/Mix doc_10000095.xmlCharMap.png\n",
      "D:\\Data\\Diploma\\real\\real\\real\\Train_V2\\\\Mix doc_1\\Markup\\0000096.xml\n",
      "D:\\Data\\Diploma\\real\\dataset//gt/Mix doc_10000096.xmlCharMap.png\n",
      "D:\\Data\\Diploma\\real\\real\\real\\Train_V2\\\\Mix doc_1\\Markup\\0000097.xml\n",
      "D:\\Data\\Diploma\\real\\dataset//gt/Mix doc_10000097.xmlCharMap.png\n",
      "D:\\Data\\Diploma\\real\\real\\real\\Train_V2\\\\Mix doc_1\\Markup\\0000098.xml\n",
      "D:\\Data\\Diploma\\real\\dataset//gt/Mix doc_10000098.xmlCharMap.png\n",
      "D:\\Data\\Diploma\\real\\real\\real\\Train_V2\\\\Mix doc_1\\Markup\\0000099.xml\n",
      "D:\\Data\\Diploma\\real\\dataset//gt/Mix doc_10000099.xmlCharMap.png\n",
      "\n"
     ]
    },
    {
     "data": {
      "application/vnd.jupyter.widget-view+json": {
       "model_id": "62bead3b5f574001bc3d11eb4284891c",
       "version_major": 2,
       "version_minor": 0
      },
      "text/plain": [
       "HBox(children=(HTML(value=''), FloatProgress(value=0.0, max=10.0), HTML(value='')))"
      ]
     },
     "metadata": {},
     "output_type": "display_data"
    },
    {
     "name": "stdout",
     "output_type": "stream",
     "text": [
      "D:\\Data\\Diploma\\real\\real\\real\\Train_V2\\\\MONTANA_photo\\Markup\\0000000.xml\n",
      "D:\\Data\\Diploma\\real\\dataset//gt/MONTANA_photo0000000.xmlCharMap.png\n",
      "D:\\Data\\Diploma\\real\\real\\real\\Train_V2\\\\MONTANA_photo\\Markup\\0000001.xml\n",
      "D:\\Data\\Diploma\\real\\dataset//gt/MONTANA_photo0000001.xmlCharMap.png\n",
      "D:\\Data\\Diploma\\real\\real\\real\\Train_V2\\\\MONTANA_photo\\Markup\\0000002.xml\n",
      "D:\\Data\\Diploma\\real\\dataset//gt/MONTANA_photo0000002.xmlCharMap.png\n",
      "D:\\Data\\Diploma\\real\\real\\real\\Train_V2\\\\MONTANA_photo\\Markup\\0000003.xml\n",
      "D:\\Data\\Diploma\\real\\dataset//gt/MONTANA_photo0000003.xmlCharMap.png\n",
      "D:\\Data\\Diploma\\real\\real\\real\\Train_V2\\\\MONTANA_photo\\Markup\\0000004.xml\n",
      "D:\\Data\\Diploma\\real\\dataset//gt/MONTANA_photo0000004.xmlCharMap.png\n",
      "D:\\Data\\Diploma\\real\\real\\real\\Train_V2\\\\MONTANA_photo\\Markup\\0000005.xml\n",
      "D:\\Data\\Diploma\\real\\dataset//gt/MONTANA_photo0000005.xmlCharMap.png\n",
      "D:\\Data\\Diploma\\real\\real\\real\\Train_V2\\\\MONTANA_photo\\Markup\\0000006.xml\n",
      "D:\\Data\\Diploma\\real\\dataset//gt/MONTANA_photo0000006.xmlCharMap.png\n",
      "D:\\Data\\Diploma\\real\\real\\real\\Train_V2\\\\MONTANA_photo\\Markup\\0000007.xml\n",
      "D:\\Data\\Diploma\\real\\dataset//gt/MONTANA_photo0000007.xmlCharMap.png\n",
      "D:\\Data\\Diploma\\real\\real\\real\\Train_V2\\\\MONTANA_photo\\Markup\\0000008.xml\n",
      "D:\\Data\\Diploma\\real\\dataset//gt/MONTANA_photo0000008.xmlCharMap.png\n",
      "D:\\Data\\Diploma\\real\\real\\real\\Train_V2\\\\MONTANA_photo\\Markup\\0000009.xml\n",
      "D:\\Data\\Diploma\\real\\dataset//gt/MONTANA_photo0000009.xmlCharMap.png\n",
      "\n"
     ]
    },
    {
     "data": {
      "application/vnd.jupyter.widget-view+json": {
       "model_id": "ee49b4d96328453b9fd3f33440f586e0",
       "version_major": 2,
       "version_minor": 0
      },
      "text/plain": [
       "HBox(children=(HTML(value=''), FloatProgress(value=0.0, max=10.0), HTML(value='')))"
      ]
     },
     "metadata": {},
     "output_type": "display_data"
    },
    {
     "name": "stdout",
     "output_type": "stream",
     "text": [
      "D:\\Data\\Diploma\\real\\real\\real\\Train_V2\\\\MONTANA_scan\\Markup\\0000000.xml\n",
      "D:\\Data\\Diploma\\real\\dataset//gt/MONTANA_scan0000000.xmlCharMap.png\n",
      "D:\\Data\\Diploma\\real\\real\\real\\Train_V2\\\\MONTANA_scan\\Markup\\0000001.xml\n",
      "D:\\Data\\Diploma\\real\\dataset//gt/MONTANA_scan0000001.xmlCharMap.png\n",
      "D:\\Data\\Diploma\\real\\real\\real\\Train_V2\\\\MONTANA_scan\\Markup\\0000002.xml\n",
      "D:\\Data\\Diploma\\real\\dataset//gt/MONTANA_scan0000002.xmlCharMap.png\n",
      "D:\\Data\\Diploma\\real\\real\\real\\Train_V2\\\\MONTANA_scan\\Markup\\0000003.xml\n",
      "D:\\Data\\Diploma\\real\\dataset//gt/MONTANA_scan0000003.xmlCharMap.png\n",
      "D:\\Data\\Diploma\\real\\real\\real\\Train_V2\\\\MONTANA_scan\\Markup\\0000004.xml\n",
      "D:\\Data\\Diploma\\real\\dataset//gt/MONTANA_scan0000004.xmlCharMap.png\n",
      "D:\\Data\\Diploma\\real\\real\\real\\Train_V2\\\\MONTANA_scan\\Markup\\0000005.xml\n",
      "D:\\Data\\Diploma\\real\\dataset//gt/MONTANA_scan0000005.xmlCharMap.png\n",
      "D:\\Data\\Diploma\\real\\real\\real\\Train_V2\\\\MONTANA_scan\\Markup\\0000006.xml\n",
      "D:\\Data\\Diploma\\real\\dataset//gt/MONTANA_scan0000006.xmlCharMap.png\n",
      "D:\\Data\\Diploma\\real\\real\\real\\Train_V2\\\\MONTANA_scan\\Markup\\0000007.xml\n",
      "D:\\Data\\Diploma\\real\\dataset//gt/MONTANA_scan0000007.xmlCharMap.png\n",
      "D:\\Data\\Diploma\\real\\real\\real\\Train_V2\\\\MONTANA_scan\\Markup\\0000008.xml\n",
      "D:\\Data\\Diploma\\real\\dataset//gt/MONTANA_scan0000008.xmlCharMap.png\n",
      "D:\\Data\\Diploma\\real\\real\\real\\Train_V2\\\\MONTANA_scan\\Markup\\0000009.xml\n",
      "D:\\Data\\Diploma\\real\\dataset//gt/MONTANA_scan0000009.xmlCharMap.png\n",
      "\n"
     ]
    },
    {
     "data": {
      "application/vnd.jupyter.widget-view+json": {
       "model_id": "2bfebe802309447f9fa8eb12e8f8094d",
       "version_major": 2,
       "version_minor": 0
      },
      "text/plain": [
       "HBox(children=(HTML(value=''), FloatProgress(value=0.0, max=10.0), HTML(value='')))"
      ]
     },
     "metadata": {},
     "output_type": "display_data"
    },
    {
     "name": "stdout",
     "output_type": "stream",
     "text": [
      "D:\\Data\\Diploma\\real\\real\\real\\Train_V2\\\\NEBRASKA_photo\\Markup\\0000000.xml\n",
      "D:\\Data\\Diploma\\real\\dataset//gt/NEBRASKA_photo0000000.xmlCharMap.png\n",
      "D:\\Data\\Diploma\\real\\real\\real\\Train_V2\\\\NEBRASKA_photo\\Markup\\0000001.xml\n",
      "D:\\Data\\Diploma\\real\\dataset//gt/NEBRASKA_photo0000001.xmlCharMap.png\n",
      "D:\\Data\\Diploma\\real\\real\\real\\Train_V2\\\\NEBRASKA_photo\\Markup\\0000002.xml\n",
      "D:\\Data\\Diploma\\real\\dataset//gt/NEBRASKA_photo0000002.xmlCharMap.png\n",
      "D:\\Data\\Diploma\\real\\real\\real\\Train_V2\\\\NEBRASKA_photo\\Markup\\0000003.xml\n",
      "D:\\Data\\Diploma\\real\\dataset//gt/NEBRASKA_photo0000003.xmlCharMap.png\n",
      "D:\\Data\\Diploma\\real\\real\\real\\Train_V2\\\\NEBRASKA_photo\\Markup\\0000004.xml\n",
      "D:\\Data\\Diploma\\real\\dataset//gt/NEBRASKA_photo0000004.xmlCharMap.png\n",
      "D:\\Data\\Diploma\\real\\real\\real\\Train_V2\\\\NEBRASKA_photo\\Markup\\0000005.xml\n",
      "D:\\Data\\Diploma\\real\\dataset//gt/NEBRASKA_photo0000005.xmlCharMap.png\n",
      "D:\\Data\\Diploma\\real\\real\\real\\Train_V2\\\\NEBRASKA_photo\\Markup\\0000006.xml\n",
      "D:\\Data\\Diploma\\real\\dataset//gt/NEBRASKA_photo0000006.xmlCharMap.png\n",
      "D:\\Data\\Diploma\\real\\real\\real\\Train_V2\\\\NEBRASKA_photo\\Markup\\0000007.xml\n",
      "D:\\Data\\Diploma\\real\\dataset//gt/NEBRASKA_photo0000007.xmlCharMap.png\n",
      "D:\\Data\\Diploma\\real\\real\\real\\Train_V2\\\\NEBRASKA_photo\\Markup\\0000008.xml\n",
      "D:\\Data\\Diploma\\real\\dataset//gt/NEBRASKA_photo0000008.xmlCharMap.png\n",
      "D:\\Data\\Diploma\\real\\real\\real\\Train_V2\\\\NEBRASKA_photo\\Markup\\0000009.xml\n",
      "D:\\Data\\Diploma\\real\\dataset//gt/NEBRASKA_photo0000009.xmlCharMap.png\n",
      "\n"
     ]
    },
    {
     "data": {
      "application/vnd.jupyter.widget-view+json": {
       "model_id": "217b096d463c436e9482ee57664456cd",
       "version_major": 2,
       "version_minor": 0
      },
      "text/plain": [
       "HBox(children=(HTML(value=''), FloatProgress(value=0.0, max=10.0), HTML(value='')))"
      ]
     },
     "metadata": {},
     "output_type": "display_data"
    },
    {
     "name": "stdout",
     "output_type": "stream",
     "text": [
      "D:\\Data\\Diploma\\real\\real\\real\\Train_V2\\\\NEBRASKA_scan\\Markup\\0000000.xml\n",
      "D:\\Data\\Diploma\\real\\dataset//gt/NEBRASKA_scan0000000.xmlCharMap.png\n",
      "D:\\Data\\Diploma\\real\\real\\real\\Train_V2\\\\NEBRASKA_scan\\Markup\\0000001.xml\n",
      "D:\\Data\\Diploma\\real\\dataset//gt/NEBRASKA_scan0000001.xmlCharMap.png\n",
      "D:\\Data\\Diploma\\real\\real\\real\\Train_V2\\\\NEBRASKA_scan\\Markup\\0000002.xml\n",
      "D:\\Data\\Diploma\\real\\dataset//gt/NEBRASKA_scan0000002.xmlCharMap.png\n",
      "D:\\Data\\Diploma\\real\\real\\real\\Train_V2\\\\NEBRASKA_scan\\Markup\\0000003.xml\n",
      "D:\\Data\\Diploma\\real\\dataset//gt/NEBRASKA_scan0000003.xmlCharMap.png\n",
      "D:\\Data\\Diploma\\real\\real\\real\\Train_V2\\\\NEBRASKA_scan\\Markup\\0000004.xml\n",
      "D:\\Data\\Diploma\\real\\dataset//gt/NEBRASKA_scan0000004.xmlCharMap.png\n",
      "D:\\Data\\Diploma\\real\\real\\real\\Train_V2\\\\NEBRASKA_scan\\Markup\\0000005.xml\n",
      "D:\\Data\\Diploma\\real\\dataset//gt/NEBRASKA_scan0000005.xmlCharMap.png\n",
      "D:\\Data\\Diploma\\real\\real\\real\\Train_V2\\\\NEBRASKA_scan\\Markup\\0000006.xml\n",
      "D:\\Data\\Diploma\\real\\dataset//gt/NEBRASKA_scan0000006.xmlCharMap.png\n",
      "D:\\Data\\Diploma\\real\\real\\real\\Train_V2\\\\NEBRASKA_scan\\Markup\\0000007.xml\n",
      "D:\\Data\\Diploma\\real\\dataset//gt/NEBRASKA_scan0000007.xmlCharMap.png\n",
      "D:\\Data\\Diploma\\real\\real\\real\\Train_V2\\\\NEBRASKA_scan\\Markup\\0000008.xml\n",
      "D:\\Data\\Diploma\\real\\dataset//gt/NEBRASKA_scan0000008.xmlCharMap.png\n",
      "D:\\Data\\Diploma\\real\\real\\real\\Train_V2\\\\NEBRASKA_scan\\Markup\\0000009.xml\n",
      "D:\\Data\\Diploma\\real\\dataset//gt/NEBRASKA_scan0000009.xmlCharMap.png\n",
      "\n"
     ]
    },
    {
     "data": {
      "application/vnd.jupyter.widget-view+json": {
       "model_id": "9d7451b75af140bcbc4f6671f292d585",
       "version_major": 2,
       "version_minor": 0
      },
      "text/plain": [
       "HBox(children=(HTML(value=''), FloatProgress(value=0.0, max=10.0), HTML(value='')))"
      ]
     },
     "metadata": {},
     "output_type": "display_data"
    },
    {
     "name": "stdout",
     "output_type": "stream",
     "text": [
      "D:\\Data\\Diploma\\real\\real\\real\\Train_V2\\\\NEVADA_photo\\Markup\\0000000.xml\n",
      "D:\\Data\\Diploma\\real\\dataset//gt/NEVADA_photo0000000.xmlCharMap.png\n",
      "D:\\Data\\Diploma\\real\\real\\real\\Train_V2\\\\NEVADA_photo\\Markup\\0000001.xml\n",
      "D:\\Data\\Diploma\\real\\dataset//gt/NEVADA_photo0000001.xmlCharMap.png\n",
      "D:\\Data\\Diploma\\real\\real\\real\\Train_V2\\\\NEVADA_photo\\Markup\\0000002.xml\n",
      "D:\\Data\\Diploma\\real\\dataset//gt/NEVADA_photo0000002.xmlCharMap.png\n",
      "D:\\Data\\Diploma\\real\\real\\real\\Train_V2\\\\NEVADA_photo\\Markup\\0000003.xml\n",
      "D:\\Data\\Diploma\\real\\dataset//gt/NEVADA_photo0000003.xmlCharMap.png\n",
      "D:\\Data\\Diploma\\real\\real\\real\\Train_V2\\\\NEVADA_photo\\Markup\\0000004.xml\n",
      "D:\\Data\\Diploma\\real\\dataset//gt/NEVADA_photo0000004.xmlCharMap.png\n",
      "D:\\Data\\Diploma\\real\\real\\real\\Train_V2\\\\NEVADA_photo\\Markup\\0000005.xml\n",
      "D:\\Data\\Diploma\\real\\dataset//gt/NEVADA_photo0000005.xmlCharMap.png\n",
      "D:\\Data\\Diploma\\real\\real\\real\\Train_V2\\\\NEVADA_photo\\Markup\\0000006.xml\n",
      "D:\\Data\\Diploma\\real\\dataset//gt/NEVADA_photo0000006.xmlCharMap.png\n",
      "D:\\Data\\Diploma\\real\\real\\real\\Train_V2\\\\NEVADA_photo\\Markup\\0000007.xml\n",
      "D:\\Data\\Diploma\\real\\dataset//gt/NEVADA_photo0000007.xmlCharMap.png\n",
      "D:\\Data\\Diploma\\real\\real\\real\\Train_V2\\\\NEVADA_photo\\Markup\\0000008.xml\n",
      "D:\\Data\\Diploma\\real\\dataset//gt/NEVADA_photo0000008.xmlCharMap.png\n",
      "D:\\Data\\Diploma\\real\\real\\real\\Train_V2\\\\NEVADA_photo\\Markup\\0000009.xml\n",
      "D:\\Data\\Diploma\\real\\dataset//gt/NEVADA_photo0000009.xmlCharMap.png\n",
      "\n"
     ]
    },
    {
     "data": {
      "application/vnd.jupyter.widget-view+json": {
       "model_id": "d5f7d6c2a10b4847b8e7c7dbd3a00540",
       "version_major": 2,
       "version_minor": 0
      },
      "text/plain": [
       "HBox(children=(HTML(value=''), FloatProgress(value=0.0, max=10.0), HTML(value='')))"
      ]
     },
     "metadata": {},
     "output_type": "display_data"
    },
    {
     "name": "stdout",
     "output_type": "stream",
     "text": [
      "D:\\Data\\Diploma\\real\\real\\real\\Train_V2\\\\NEVADA_scan\\Markup\\0000000.xml\n",
      "D:\\Data\\Diploma\\real\\dataset//gt/NEVADA_scan0000000.xmlCharMap.png\n",
      "D:\\Data\\Diploma\\real\\real\\real\\Train_V2\\\\NEVADA_scan\\Markup\\0000001.xml\n",
      "D:\\Data\\Diploma\\real\\dataset//gt/NEVADA_scan0000001.xmlCharMap.png\n",
      "D:\\Data\\Diploma\\real\\real\\real\\Train_V2\\\\NEVADA_scan\\Markup\\0000002.xml\n",
      "D:\\Data\\Diploma\\real\\dataset//gt/NEVADA_scan0000002.xmlCharMap.png\n",
      "D:\\Data\\Diploma\\real\\real\\real\\Train_V2\\\\NEVADA_scan\\Markup\\0000003.xml\n",
      "D:\\Data\\Diploma\\real\\dataset//gt/NEVADA_scan0000003.xmlCharMap.png\n",
      "D:\\Data\\Diploma\\real\\real\\real\\Train_V2\\\\NEVADA_scan\\Markup\\0000004.xml\n",
      "D:\\Data\\Diploma\\real\\dataset//gt/NEVADA_scan0000004.xmlCharMap.png\n",
      "D:\\Data\\Diploma\\real\\real\\real\\Train_V2\\\\NEVADA_scan\\Markup\\0000005.xml\n",
      "D:\\Data\\Diploma\\real\\dataset//gt/NEVADA_scan0000005.xmlCharMap.png\n",
      "D:\\Data\\Diploma\\real\\real\\real\\Train_V2\\\\NEVADA_scan\\Markup\\0000006.xml\n",
      "D:\\Data\\Diploma\\real\\dataset//gt/NEVADA_scan0000006.xmlCharMap.png\n",
      "D:\\Data\\Diploma\\real\\real\\real\\Train_V2\\\\NEVADA_scan\\Markup\\0000007.xml\n",
      "D:\\Data\\Diploma\\real\\dataset//gt/NEVADA_scan0000007.xmlCharMap.png\n",
      "D:\\Data\\Diploma\\real\\real\\real\\Train_V2\\\\NEVADA_scan\\Markup\\0000008.xml\n",
      "D:\\Data\\Diploma\\real\\dataset//gt/NEVADA_scan0000008.xmlCharMap.png\n",
      "D:\\Data\\Diploma\\real\\real\\real\\Train_V2\\\\NEVADA_scan\\Markup\\0000009.xml\n",
      "D:\\Data\\Diploma\\real\\dataset//gt/NEVADA_scan0000009.xmlCharMap.png\n",
      "\n"
     ]
    },
    {
     "data": {
      "application/vnd.jupyter.widget-view+json": {
       "model_id": "6042fc2f48074cb3a028d14e6268c6c6",
       "version_major": 2,
       "version_minor": 0
      },
      "text/plain": [
       "HBox(children=(HTML(value=''), FloatProgress(value=0.0, max=10.0), HTML(value='')))"
      ]
     },
     "metadata": {},
     "output_type": "display_data"
    },
    {
     "name": "stdout",
     "output_type": "stream",
     "text": [
      "D:\\Data\\Diploma\\real\\real\\real\\Train_V2\\\\NEW HAMPSHIRE_photo\\Markup\\0000000.xml\n",
      "D:\\Data\\Diploma\\real\\dataset//gt/NEW HAMPSHIRE_photo0000000.xmlCharMap.png\n",
      "D:\\Data\\Diploma\\real\\real\\real\\Train_V2\\\\NEW HAMPSHIRE_photo\\Markup\\0000001.xml\n",
      "D:\\Data\\Diploma\\real\\dataset//gt/NEW HAMPSHIRE_photo0000001.xmlCharMap.png\n",
      "D:\\Data\\Diploma\\real\\real\\real\\Train_V2\\\\NEW HAMPSHIRE_photo\\Markup\\0000002.xml\n",
      "D:\\Data\\Diploma\\real\\dataset//gt/NEW HAMPSHIRE_photo0000002.xmlCharMap.png\n",
      "D:\\Data\\Diploma\\real\\real\\real\\Train_V2\\\\NEW HAMPSHIRE_photo\\Markup\\0000003.xml\n",
      "D:\\Data\\Diploma\\real\\dataset//gt/NEW HAMPSHIRE_photo0000003.xmlCharMap.png\n",
      "D:\\Data\\Diploma\\real\\real\\real\\Train_V2\\\\NEW HAMPSHIRE_photo\\Markup\\0000004.xml\n",
      "D:\\Data\\Diploma\\real\\dataset//gt/NEW HAMPSHIRE_photo0000004.xmlCharMap.png\n",
      "D:\\Data\\Diploma\\real\\real\\real\\Train_V2\\\\NEW HAMPSHIRE_photo\\Markup\\0000005.xml\n",
      "D:\\Data\\Diploma\\real\\dataset//gt/NEW HAMPSHIRE_photo0000005.xmlCharMap.png\n",
      "D:\\Data\\Diploma\\real\\real\\real\\Train_V2\\\\NEW HAMPSHIRE_photo\\Markup\\0000006.xml\n",
      "D:\\Data\\Diploma\\real\\dataset//gt/NEW HAMPSHIRE_photo0000006.xmlCharMap.png\n",
      "D:\\Data\\Diploma\\real\\real\\real\\Train_V2\\\\NEW HAMPSHIRE_photo\\Markup\\0000007.xml\n",
      "D:\\Data\\Diploma\\real\\dataset//gt/NEW HAMPSHIRE_photo0000007.xmlCharMap.png\n",
      "D:\\Data\\Diploma\\real\\real\\real\\Train_V2\\\\NEW HAMPSHIRE_photo\\Markup\\0000008.xml\n",
      "D:\\Data\\Diploma\\real\\dataset//gt/NEW HAMPSHIRE_photo0000008.xmlCharMap.png\n",
      "D:\\Data\\Diploma\\real\\real\\real\\Train_V2\\\\NEW HAMPSHIRE_photo\\Markup\\0000009.xml\n",
      "D:\\Data\\Diploma\\real\\dataset//gt/NEW HAMPSHIRE_photo0000009.xmlCharMap.png\n",
      "\n"
     ]
    },
    {
     "data": {
      "application/vnd.jupyter.widget-view+json": {
       "model_id": "dc9aa625c1da4b4cb710f33b0b5b9efd",
       "version_major": 2,
       "version_minor": 0
      },
      "text/plain": [
       "HBox(children=(HTML(value=''), FloatProgress(value=0.0, max=10.0), HTML(value='')))"
      ]
     },
     "metadata": {},
     "output_type": "display_data"
    },
    {
     "name": "stdout",
     "output_type": "stream",
     "text": [
      "D:\\Data\\Diploma\\real\\real\\real\\Train_V2\\\\NEW HAMPSHIRE_scan\\Markup\\0000000.xml\n",
      "D:\\Data\\Diploma\\real\\dataset//gt/NEW HAMPSHIRE_scan0000000.xmlCharMap.png\n",
      "D:\\Data\\Diploma\\real\\real\\real\\Train_V2\\\\NEW HAMPSHIRE_scan\\Markup\\0000001.xml\n",
      "D:\\Data\\Diploma\\real\\dataset//gt/NEW HAMPSHIRE_scan0000001.xmlCharMap.png\n",
      "D:\\Data\\Diploma\\real\\real\\real\\Train_V2\\\\NEW HAMPSHIRE_scan\\Markup\\0000002.xml\n",
      "D:\\Data\\Diploma\\real\\dataset//gt/NEW HAMPSHIRE_scan0000002.xmlCharMap.png\n",
      "D:\\Data\\Diploma\\real\\real\\real\\Train_V2\\\\NEW HAMPSHIRE_scan\\Markup\\0000003.xml\n",
      "D:\\Data\\Diploma\\real\\dataset//gt/NEW HAMPSHIRE_scan0000003.xmlCharMap.png\n",
      "D:\\Data\\Diploma\\real\\real\\real\\Train_V2\\\\NEW HAMPSHIRE_scan\\Markup\\0000004.xml\n",
      "D:\\Data\\Diploma\\real\\dataset//gt/NEW HAMPSHIRE_scan0000004.xmlCharMap.png\n",
      "D:\\Data\\Diploma\\real\\real\\real\\Train_V2\\\\NEW HAMPSHIRE_scan\\Markup\\0000005.xml\n",
      "D:\\Data\\Diploma\\real\\dataset//gt/NEW HAMPSHIRE_scan0000005.xmlCharMap.png\n",
      "D:\\Data\\Diploma\\real\\real\\real\\Train_V2\\\\NEW HAMPSHIRE_scan\\Markup\\0000006.xml\n",
      "D:\\Data\\Diploma\\real\\dataset//gt/NEW HAMPSHIRE_scan0000006.xmlCharMap.png\n",
      "D:\\Data\\Diploma\\real\\real\\real\\Train_V2\\\\NEW HAMPSHIRE_scan\\Markup\\0000007.xml\n",
      "D:\\Data\\Diploma\\real\\dataset//gt/NEW HAMPSHIRE_scan0000007.xmlCharMap.png\n",
      "D:\\Data\\Diploma\\real\\real\\real\\Train_V2\\\\NEW HAMPSHIRE_scan\\Markup\\0000008.xml\n",
      "D:\\Data\\Diploma\\real\\dataset//gt/NEW HAMPSHIRE_scan0000008.xmlCharMap.png\n",
      "D:\\Data\\Diploma\\real\\real\\real\\Train_V2\\\\NEW HAMPSHIRE_scan\\Markup\\0000009.xml\n",
      "D:\\Data\\Diploma\\real\\dataset//gt/NEW HAMPSHIRE_scan0000009.xmlCharMap.png\n",
      "\n"
     ]
    },
    {
     "data": {
      "application/vnd.jupyter.widget-view+json": {
       "model_id": "1e6e482157d84dd08be3d960878c4717",
       "version_major": 2,
       "version_minor": 0
      },
      "text/plain": [
       "HBox(children=(HTML(value=''), FloatProgress(value=0.0, max=10.0), HTML(value='')))"
      ]
     },
     "metadata": {},
     "output_type": "display_data"
    },
    {
     "name": "stdout",
     "output_type": "stream",
     "text": [
      "D:\\Data\\Diploma\\real\\real\\real\\Train_V2\\\\NEW JERSEY_photo\\Markup\\0000000.xml\n",
      "D:\\Data\\Diploma\\real\\dataset//gt/NEW JERSEY_photo0000000.xmlCharMap.png\n",
      "D:\\Data\\Diploma\\real\\real\\real\\Train_V2\\\\NEW JERSEY_photo\\Markup\\0000001.xml\n",
      "D:\\Data\\Diploma\\real\\dataset//gt/NEW JERSEY_photo0000001.xmlCharMap.png\n",
      "D:\\Data\\Diploma\\real\\real\\real\\Train_V2\\\\NEW JERSEY_photo\\Markup\\0000002.xml\n",
      "D:\\Data\\Diploma\\real\\dataset//gt/NEW JERSEY_photo0000002.xmlCharMap.png\n",
      "D:\\Data\\Diploma\\real\\real\\real\\Train_V2\\\\NEW JERSEY_photo\\Markup\\0000003.xml\n",
      "D:\\Data\\Diploma\\real\\dataset//gt/NEW JERSEY_photo0000003.xmlCharMap.png\n",
      "D:\\Data\\Diploma\\real\\real\\real\\Train_V2\\\\NEW JERSEY_photo\\Markup\\0000004.xml\n",
      "D:\\Data\\Diploma\\real\\dataset//gt/NEW JERSEY_photo0000004.xmlCharMap.png\n",
      "D:\\Data\\Diploma\\real\\real\\real\\Train_V2\\\\NEW JERSEY_photo\\Markup\\0000005.xml\n",
      "D:\\Data\\Diploma\\real\\dataset//gt/NEW JERSEY_photo0000005.xmlCharMap.png\n",
      "D:\\Data\\Diploma\\real\\real\\real\\Train_V2\\\\NEW JERSEY_photo\\Markup\\0000006.xml\n",
      "D:\\Data\\Diploma\\real\\dataset//gt/NEW JERSEY_photo0000006.xmlCharMap.png\n",
      "D:\\Data\\Diploma\\real\\real\\real\\Train_V2\\\\NEW JERSEY_photo\\Markup\\0000007.xml\n",
      "D:\\Data\\Diploma\\real\\dataset//gt/NEW JERSEY_photo0000007.xmlCharMap.png\n",
      "D:\\Data\\Diploma\\real\\real\\real\\Train_V2\\\\NEW JERSEY_photo\\Markup\\0000008.xml\n",
      "D:\\Data\\Diploma\\real\\dataset//gt/NEW JERSEY_photo0000008.xmlCharMap.png\n",
      "D:\\Data\\Diploma\\real\\real\\real\\Train_V2\\\\NEW JERSEY_photo\\Markup\\0000009.xml\n",
      "D:\\Data\\Diploma\\real\\dataset//gt/NEW JERSEY_photo0000009.xmlCharMap.png\n",
      "\n"
     ]
    },
    {
     "data": {
      "application/vnd.jupyter.widget-view+json": {
       "model_id": "8368b27e4b264e5c82d9d2b9cce38fe2",
       "version_major": 2,
       "version_minor": 0
      },
      "text/plain": [
       "HBox(children=(HTML(value=''), FloatProgress(value=0.0, max=10.0), HTML(value='')))"
      ]
     },
     "metadata": {},
     "output_type": "display_data"
    },
    {
     "name": "stdout",
     "output_type": "stream",
     "text": [
      "D:\\Data\\Diploma\\real\\real\\real\\Train_V2\\\\NEW JERSEY_scan\\Markup\\0000000.xml\n",
      "D:\\Data\\Diploma\\real\\dataset//gt/NEW JERSEY_scan0000000.xmlCharMap.png\n",
      "D:\\Data\\Diploma\\real\\real\\real\\Train_V2\\\\NEW JERSEY_scan\\Markup\\0000001.xml\n",
      "D:\\Data\\Diploma\\real\\dataset//gt/NEW JERSEY_scan0000001.xmlCharMap.png\n",
      "D:\\Data\\Diploma\\real\\real\\real\\Train_V2\\\\NEW JERSEY_scan\\Markup\\0000002.xml\n",
      "D:\\Data\\Diploma\\real\\dataset//gt/NEW JERSEY_scan0000002.xmlCharMap.png\n",
      "D:\\Data\\Diploma\\real\\real\\real\\Train_V2\\\\NEW JERSEY_scan\\Markup\\0000003.xml\n",
      "D:\\Data\\Diploma\\real\\dataset//gt/NEW JERSEY_scan0000003.xmlCharMap.png\n",
      "D:\\Data\\Diploma\\real\\real\\real\\Train_V2\\\\NEW JERSEY_scan\\Markup\\0000004.xml\n",
      "D:\\Data\\Diploma\\real\\dataset//gt/NEW JERSEY_scan0000004.xmlCharMap.png\n",
      "D:\\Data\\Diploma\\real\\real\\real\\Train_V2\\\\NEW JERSEY_scan\\Markup\\0000005.xml\n",
      "D:\\Data\\Diploma\\real\\dataset//gt/NEW JERSEY_scan0000005.xmlCharMap.png\n",
      "D:\\Data\\Diploma\\real\\real\\real\\Train_V2\\\\NEW JERSEY_scan\\Markup\\0000006.xml\n",
      "D:\\Data\\Diploma\\real\\dataset//gt/NEW JERSEY_scan0000006.xmlCharMap.png\n",
      "D:\\Data\\Diploma\\real\\real\\real\\Train_V2\\\\NEW JERSEY_scan\\Markup\\0000007.xml\n",
      "D:\\Data\\Diploma\\real\\dataset//gt/NEW JERSEY_scan0000007.xmlCharMap.png\n",
      "D:\\Data\\Diploma\\real\\real\\real\\Train_V2\\\\NEW JERSEY_scan\\Markup\\0000008.xml\n",
      "D:\\Data\\Diploma\\real\\dataset//gt/NEW JERSEY_scan0000008.xmlCharMap.png\n",
      "D:\\Data\\Diploma\\real\\real\\real\\Train_V2\\\\NEW JERSEY_scan\\Markup\\0000009.xml\n",
      "D:\\Data\\Diploma\\real\\dataset//gt/NEW JERSEY_scan0000009.xmlCharMap.png\n",
      "\n"
     ]
    },
    {
     "data": {
      "application/vnd.jupyter.widget-view+json": {
       "model_id": "f44baaaa7f1f4ac3bef809185e785a70",
       "version_major": 2,
       "version_minor": 0
      },
      "text/plain": [
       "HBox(children=(HTML(value=''), FloatProgress(value=0.0, max=10.0), HTML(value='')))"
      ]
     },
     "metadata": {},
     "output_type": "display_data"
    },
    {
     "name": "stdout",
     "output_type": "stream",
     "text": [
      "D:\\Data\\Diploma\\real\\real\\real\\Train_V2\\\\NEW MEXICO_photo\\Markup\\0000000.xml\n",
      "D:\\Data\\Diploma\\real\\dataset//gt/NEW MEXICO_photo0000000.xmlCharMap.png\n",
      "D:\\Data\\Diploma\\real\\real\\real\\Train_V2\\\\NEW MEXICO_photo\\Markup\\0000001.xml\n",
      "D:\\Data\\Diploma\\real\\dataset//gt/NEW MEXICO_photo0000001.xmlCharMap.png\n",
      "D:\\Data\\Diploma\\real\\real\\real\\Train_V2\\\\NEW MEXICO_photo\\Markup\\0000002.xml\n",
      "D:\\Data\\Diploma\\real\\dataset//gt/NEW MEXICO_photo0000002.xmlCharMap.png\n",
      "D:\\Data\\Diploma\\real\\real\\real\\Train_V2\\\\NEW MEXICO_photo\\Markup\\0000003.xml\n",
      "D:\\Data\\Diploma\\real\\dataset//gt/NEW MEXICO_photo0000003.xmlCharMap.png\n",
      "D:\\Data\\Diploma\\real\\real\\real\\Train_V2\\\\NEW MEXICO_photo\\Markup\\0000004.xml\n",
      "D:\\Data\\Diploma\\real\\dataset//gt/NEW MEXICO_photo0000004.xmlCharMap.png\n",
      "D:\\Data\\Diploma\\real\\real\\real\\Train_V2\\\\NEW MEXICO_photo\\Markup\\0000005.xml\n",
      "D:\\Data\\Diploma\\real\\dataset//gt/NEW MEXICO_photo0000005.xmlCharMap.png\n",
      "D:\\Data\\Diploma\\real\\real\\real\\Train_V2\\\\NEW MEXICO_photo\\Markup\\0000006.xml\n",
      "D:\\Data\\Diploma\\real\\dataset//gt/NEW MEXICO_photo0000006.xmlCharMap.png\n",
      "D:\\Data\\Diploma\\real\\real\\real\\Train_V2\\\\NEW MEXICO_photo\\Markup\\0000007.xml\n",
      "D:\\Data\\Diploma\\real\\dataset//gt/NEW MEXICO_photo0000007.xmlCharMap.png\n",
      "D:\\Data\\Diploma\\real\\real\\real\\Train_V2\\\\NEW MEXICO_photo\\Markup\\0000008.xml\n",
      "D:\\Data\\Diploma\\real\\dataset//gt/NEW MEXICO_photo0000008.xmlCharMap.png\n",
      "D:\\Data\\Diploma\\real\\real\\real\\Train_V2\\\\NEW MEXICO_photo\\Markup\\0000009.xml\n",
      "D:\\Data\\Diploma\\real\\dataset//gt/NEW MEXICO_photo0000009.xmlCharMap.png\n",
      "\n"
     ]
    },
    {
     "data": {
      "application/vnd.jupyter.widget-view+json": {
       "model_id": "5f4e4d2388a148c6a784fbea1fee9a07",
       "version_major": 2,
       "version_minor": 0
      },
      "text/plain": [
       "HBox(children=(HTML(value=''), FloatProgress(value=0.0, max=10.0), HTML(value='')))"
      ]
     },
     "metadata": {},
     "output_type": "display_data"
    },
    {
     "name": "stdout",
     "output_type": "stream",
     "text": [
      "D:\\Data\\Diploma\\real\\real\\real\\Train_V2\\\\NEW MEXICO_scan\\Markup\\0000000.xml\n",
      "D:\\Data\\Diploma\\real\\dataset//gt/NEW MEXICO_scan0000000.xmlCharMap.png\n",
      "D:\\Data\\Diploma\\real\\real\\real\\Train_V2\\\\NEW MEXICO_scan\\Markup\\0000001.xml\n",
      "D:\\Data\\Diploma\\real\\dataset//gt/NEW MEXICO_scan0000001.xmlCharMap.png\n",
      "D:\\Data\\Diploma\\real\\real\\real\\Train_V2\\\\NEW MEXICO_scan\\Markup\\0000002.xml\n",
      "D:\\Data\\Diploma\\real\\dataset//gt/NEW MEXICO_scan0000002.xmlCharMap.png\n",
      "D:\\Data\\Diploma\\real\\real\\real\\Train_V2\\\\NEW MEXICO_scan\\Markup\\0000003.xml\n",
      "D:\\Data\\Diploma\\real\\dataset//gt/NEW MEXICO_scan0000003.xmlCharMap.png\n",
      "D:\\Data\\Diploma\\real\\real\\real\\Train_V2\\\\NEW MEXICO_scan\\Markup\\0000004.xml\n",
      "D:\\Data\\Diploma\\real\\dataset//gt/NEW MEXICO_scan0000004.xmlCharMap.png\n",
      "D:\\Data\\Diploma\\real\\real\\real\\Train_V2\\\\NEW MEXICO_scan\\Markup\\0000005.xml\n",
      "D:\\Data\\Diploma\\real\\dataset//gt/NEW MEXICO_scan0000005.xmlCharMap.png\n",
      "D:\\Data\\Diploma\\real\\real\\real\\Train_V2\\\\NEW MEXICO_scan\\Markup\\0000006.xml\n",
      "D:\\Data\\Diploma\\real\\dataset//gt/NEW MEXICO_scan0000006.xmlCharMap.png\n",
      "D:\\Data\\Diploma\\real\\real\\real\\Train_V2\\\\NEW MEXICO_scan\\Markup\\0000007.xml\n",
      "D:\\Data\\Diploma\\real\\dataset//gt/NEW MEXICO_scan0000007.xmlCharMap.png\n",
      "D:\\Data\\Diploma\\real\\real\\real\\Train_V2\\\\NEW MEXICO_scan\\Markup\\0000008.xml\n",
      "D:\\Data\\Diploma\\real\\dataset//gt/NEW MEXICO_scan0000008.xmlCharMap.png\n",
      "D:\\Data\\Diploma\\real\\real\\real\\Train_V2\\\\NEW MEXICO_scan\\Markup\\0000009.xml\n",
      "D:\\Data\\Diploma\\real\\dataset//gt/NEW MEXICO_scan0000009.xmlCharMap.png\n",
      "\n"
     ]
    },
    {
     "data": {
      "application/vnd.jupyter.widget-view+json": {
       "model_id": "676a8bdfc80847de8e603ec3d872e9f2",
       "version_major": 2,
       "version_minor": 0
      },
      "text/plain": [
       "HBox(children=(HTML(value=''), FloatProgress(value=0.0, max=10.0), HTML(value='')))"
      ]
     },
     "metadata": {},
     "output_type": "display_data"
    },
    {
     "name": "stdout",
     "output_type": "stream",
     "text": [
      "D:\\Data\\Diploma\\real\\real\\real\\Train_V2\\\\NEW YORK_photo\\Markup\\0000000.xml\n",
      "D:\\Data\\Diploma\\real\\dataset//gt/NEW YORK_photo0000000.xmlCharMap.png\n",
      "D:\\Data\\Diploma\\real\\real\\real\\Train_V2\\\\NEW YORK_photo\\Markup\\0000001.xml\n",
      "D:\\Data\\Diploma\\real\\dataset//gt/NEW YORK_photo0000001.xmlCharMap.png\n",
      "D:\\Data\\Diploma\\real\\real\\real\\Train_V2\\\\NEW YORK_photo\\Markup\\0000002.xml\n",
      "D:\\Data\\Diploma\\real\\dataset//gt/NEW YORK_photo0000002.xmlCharMap.png\n",
      "D:\\Data\\Diploma\\real\\real\\real\\Train_V2\\\\NEW YORK_photo\\Markup\\0000003.xml\n",
      "D:\\Data\\Diploma\\real\\dataset//gt/NEW YORK_photo0000003.xmlCharMap.png\n",
      "D:\\Data\\Diploma\\real\\real\\real\\Train_V2\\\\NEW YORK_photo\\Markup\\0000004.xml\n",
      "D:\\Data\\Diploma\\real\\dataset//gt/NEW YORK_photo0000004.xmlCharMap.png\n",
      "D:\\Data\\Diploma\\real\\real\\real\\Train_V2\\\\NEW YORK_photo\\Markup\\0000005.xml\n",
      "D:\\Data\\Diploma\\real\\dataset//gt/NEW YORK_photo0000005.xmlCharMap.png\n",
      "D:\\Data\\Diploma\\real\\real\\real\\Train_V2\\\\NEW YORK_photo\\Markup\\0000006.xml\n",
      "D:\\Data\\Diploma\\real\\dataset//gt/NEW YORK_photo0000006.xmlCharMap.png\n",
      "D:\\Data\\Diploma\\real\\real\\real\\Train_V2\\\\NEW YORK_photo\\Markup\\0000007.xml\n",
      "D:\\Data\\Diploma\\real\\dataset//gt/NEW YORK_photo0000007.xmlCharMap.png\n",
      "D:\\Data\\Diploma\\real\\real\\real\\Train_V2\\\\NEW YORK_photo\\Markup\\0000008.xml\n",
      "D:\\Data\\Diploma\\real\\dataset//gt/NEW YORK_photo0000008.xmlCharMap.png\n",
      "D:\\Data\\Diploma\\real\\real\\real\\Train_V2\\\\NEW YORK_photo\\Markup\\0000009.xml\n",
      "D:\\Data\\Diploma\\real\\dataset//gt/NEW YORK_photo0000009.xmlCharMap.png\n",
      "\n"
     ]
    },
    {
     "data": {
      "application/vnd.jupyter.widget-view+json": {
       "model_id": "fac04e501dcb486f99c683eb4194a47d",
       "version_major": 2,
       "version_minor": 0
      },
      "text/plain": [
       "HBox(children=(HTML(value=''), FloatProgress(value=0.0, max=10.0), HTML(value='')))"
      ]
     },
     "metadata": {},
     "output_type": "display_data"
    },
    {
     "name": "stdout",
     "output_type": "stream",
     "text": [
      "D:\\Data\\Diploma\\real\\real\\real\\Train_V2\\\\NEW YORK_scan\\Markup\\0000000.xml\n",
      "D:\\Data\\Diploma\\real\\dataset//gt/NEW YORK_scan0000000.xmlCharMap.png\n",
      "D:\\Data\\Diploma\\real\\real\\real\\Train_V2\\\\NEW YORK_scan\\Markup\\0000001.xml\n",
      "D:\\Data\\Diploma\\real\\dataset//gt/NEW YORK_scan0000001.xmlCharMap.png\n",
      "D:\\Data\\Diploma\\real\\real\\real\\Train_V2\\\\NEW YORK_scan\\Markup\\0000002.xml\n",
      "D:\\Data\\Diploma\\real\\dataset//gt/NEW YORK_scan0000002.xmlCharMap.png\n",
      "D:\\Data\\Diploma\\real\\real\\real\\Train_V2\\\\NEW YORK_scan\\Markup\\0000003.xml\n",
      "D:\\Data\\Diploma\\real\\dataset//gt/NEW YORK_scan0000003.xmlCharMap.png\n",
      "D:\\Data\\Diploma\\real\\real\\real\\Train_V2\\\\NEW YORK_scan\\Markup\\0000004.xml\n",
      "D:\\Data\\Diploma\\real\\dataset//gt/NEW YORK_scan0000004.xmlCharMap.png\n",
      "D:\\Data\\Diploma\\real\\real\\real\\Train_V2\\\\NEW YORK_scan\\Markup\\0000005.xml\n",
      "D:\\Data\\Diploma\\real\\dataset//gt/NEW YORK_scan0000005.xmlCharMap.png\n",
      "D:\\Data\\Diploma\\real\\real\\real\\Train_V2\\\\NEW YORK_scan\\Markup\\0000006.xml\n",
      "D:\\Data\\Diploma\\real\\dataset//gt/NEW YORK_scan0000006.xmlCharMap.png\n",
      "D:\\Data\\Diploma\\real\\real\\real\\Train_V2\\\\NEW YORK_scan\\Markup\\0000007.xml\n",
      "D:\\Data\\Diploma\\real\\dataset//gt/NEW YORK_scan0000007.xmlCharMap.png\n",
      "D:\\Data\\Diploma\\real\\real\\real\\Train_V2\\\\NEW YORK_scan\\Markup\\0000008.xml\n",
      "D:\\Data\\Diploma\\real\\dataset//gt/NEW YORK_scan0000008.xmlCharMap.png\n",
      "D:\\Data\\Diploma\\real\\real\\real\\Train_V2\\\\NEW YORK_scan\\Markup\\0000009.xml\n",
      "D:\\Data\\Diploma\\real\\dataset//gt/NEW YORK_scan0000009.xmlCharMap.png\n",
      "\n"
     ]
    },
    {
     "data": {
      "application/vnd.jupyter.widget-view+json": {
       "model_id": "aaacf8079f8f45e38ffba9708a5f414f",
       "version_major": 2,
       "version_minor": 0
      },
      "text/plain": [
       "HBox(children=(HTML(value=''), FloatProgress(value=0.0, max=10.0), HTML(value='')))"
      ]
     },
     "metadata": {},
     "output_type": "display_data"
    },
    {
     "name": "stdout",
     "output_type": "stream",
     "text": [
      "D:\\Data\\Diploma\\real\\real\\real\\Train_V2\\\\NORTH CAROLINA_photo\\Markup\\0000000.xml\n",
      "D:\\Data\\Diploma\\real\\dataset//gt/NORTH CAROLINA_photo0000000.xmlCharMap.png\n",
      "D:\\Data\\Diploma\\real\\real\\real\\Train_V2\\\\NORTH CAROLINA_photo\\Markup\\0000001.xml\n",
      "D:\\Data\\Diploma\\real\\dataset//gt/NORTH CAROLINA_photo0000001.xmlCharMap.png\n",
      "D:\\Data\\Diploma\\real\\real\\real\\Train_V2\\\\NORTH CAROLINA_photo\\Markup\\0000002.xml\n",
      "D:\\Data\\Diploma\\real\\dataset//gt/NORTH CAROLINA_photo0000002.xmlCharMap.png\n",
      "D:\\Data\\Diploma\\real\\real\\real\\Train_V2\\\\NORTH CAROLINA_photo\\Markup\\0000003.xml\n",
      "D:\\Data\\Diploma\\real\\dataset//gt/NORTH CAROLINA_photo0000003.xmlCharMap.png\n",
      "D:\\Data\\Diploma\\real\\real\\real\\Train_V2\\\\NORTH CAROLINA_photo\\Markup\\0000004.xml\n",
      "D:\\Data\\Diploma\\real\\dataset//gt/NORTH CAROLINA_photo0000004.xmlCharMap.png\n",
      "D:\\Data\\Diploma\\real\\real\\real\\Train_V2\\\\NORTH CAROLINA_photo\\Markup\\0000005.xml\n",
      "D:\\Data\\Diploma\\real\\dataset//gt/NORTH CAROLINA_photo0000005.xmlCharMap.png\n",
      "D:\\Data\\Diploma\\real\\real\\real\\Train_V2\\\\NORTH CAROLINA_photo\\Markup\\0000006.xml\n",
      "D:\\Data\\Diploma\\real\\dataset//gt/NORTH CAROLINA_photo0000006.xmlCharMap.png\n",
      "D:\\Data\\Diploma\\real\\real\\real\\Train_V2\\\\NORTH CAROLINA_photo\\Markup\\0000007.xml\n",
      "D:\\Data\\Diploma\\real\\dataset//gt/NORTH CAROLINA_photo0000007.xmlCharMap.png\n",
      "D:\\Data\\Diploma\\real\\real\\real\\Train_V2\\\\NORTH CAROLINA_photo\\Markup\\0000008.xml\n",
      "D:\\Data\\Diploma\\real\\dataset//gt/NORTH CAROLINA_photo0000008.xmlCharMap.png\n",
      "D:\\Data\\Diploma\\real\\real\\real\\Train_V2\\\\NORTH CAROLINA_photo\\Markup\\0000009.xml\n",
      "D:\\Data\\Diploma\\real\\dataset//gt/NORTH CAROLINA_photo0000009.xmlCharMap.png\n",
      "\n"
     ]
    },
    {
     "data": {
      "application/vnd.jupyter.widget-view+json": {
       "model_id": "16ba1586460e40f6bcf008ee6bcdb607",
       "version_major": 2,
       "version_minor": 0
      },
      "text/plain": [
       "HBox(children=(HTML(value=''), FloatProgress(value=0.0, max=10.0), HTML(value='')))"
      ]
     },
     "metadata": {},
     "output_type": "display_data"
    },
    {
     "name": "stdout",
     "output_type": "stream",
     "text": [
      "D:\\Data\\Diploma\\real\\real\\real\\Train_V2\\\\NORTH CAROLINA_scan\\Markup\\0000000.xml\n",
      "D:\\Data\\Diploma\\real\\dataset//gt/NORTH CAROLINA_scan0000000.xmlCharMap.png\n",
      "D:\\Data\\Diploma\\real\\real\\real\\Train_V2\\\\NORTH CAROLINA_scan\\Markup\\0000001.xml\n",
      "D:\\Data\\Diploma\\real\\dataset//gt/NORTH CAROLINA_scan0000001.xmlCharMap.png\n",
      "D:\\Data\\Diploma\\real\\real\\real\\Train_V2\\\\NORTH CAROLINA_scan\\Markup\\0000002.xml\n",
      "D:\\Data\\Diploma\\real\\dataset//gt/NORTH CAROLINA_scan0000002.xmlCharMap.png\n",
      "D:\\Data\\Diploma\\real\\real\\real\\Train_V2\\\\NORTH CAROLINA_scan\\Markup\\0000003.xml\n",
      "D:\\Data\\Diploma\\real\\dataset//gt/NORTH CAROLINA_scan0000003.xmlCharMap.png\n",
      "D:\\Data\\Diploma\\real\\real\\real\\Train_V2\\\\NORTH CAROLINA_scan\\Markup\\0000004.xml\n",
      "D:\\Data\\Diploma\\real\\dataset//gt/NORTH CAROLINA_scan0000004.xmlCharMap.png\n",
      "D:\\Data\\Diploma\\real\\real\\real\\Train_V2\\\\NORTH CAROLINA_scan\\Markup\\0000005.xml\n",
      "D:\\Data\\Diploma\\real\\dataset//gt/NORTH CAROLINA_scan0000005.xmlCharMap.png\n",
      "D:\\Data\\Diploma\\real\\real\\real\\Train_V2\\\\NORTH CAROLINA_scan\\Markup\\0000006.xml\n",
      "D:\\Data\\Diploma\\real\\dataset//gt/NORTH CAROLINA_scan0000006.xmlCharMap.png\n",
      "D:\\Data\\Diploma\\real\\real\\real\\Train_V2\\\\NORTH CAROLINA_scan\\Markup\\0000007.xml\n",
      "D:\\Data\\Diploma\\real\\dataset//gt/NORTH CAROLINA_scan0000007.xmlCharMap.png\n",
      "D:\\Data\\Diploma\\real\\real\\real\\Train_V2\\\\NORTH CAROLINA_scan\\Markup\\0000008.xml\n",
      "D:\\Data\\Diploma\\real\\dataset//gt/NORTH CAROLINA_scan0000008.xmlCharMap.png\n",
      "D:\\Data\\Diploma\\real\\real\\real\\Train_V2\\\\NORTH CAROLINA_scan\\Markup\\0000009.xml\n",
      "D:\\Data\\Diploma\\real\\dataset//gt/NORTH CAROLINA_scan0000009.xmlCharMap.png\n",
      "\n"
     ]
    },
    {
     "data": {
      "application/vnd.jupyter.widget-view+json": {
       "model_id": "e7ecc1eecb1a44398bfff16216f54a62",
       "version_major": 2,
       "version_minor": 0
      },
      "text/plain": [
       "HBox(children=(HTML(value=''), FloatProgress(value=0.0, max=10.0), HTML(value='')))"
      ]
     },
     "metadata": {},
     "output_type": "display_data"
    },
    {
     "name": "stdout",
     "output_type": "stream",
     "text": [
      "D:\\Data\\Diploma\\real\\real\\real\\Train_V2\\\\NORTH DAKOTA_photo\\Markup\\0000000.xml\n",
      "D:\\Data\\Diploma\\real\\dataset//gt/NORTH DAKOTA_photo0000000.xmlCharMap.png\n",
      "D:\\Data\\Diploma\\real\\real\\real\\Train_V2\\\\NORTH DAKOTA_photo\\Markup\\0000001.xml\n",
      "D:\\Data\\Diploma\\real\\dataset//gt/NORTH DAKOTA_photo0000001.xmlCharMap.png\n",
      "D:\\Data\\Diploma\\real\\real\\real\\Train_V2\\\\NORTH DAKOTA_photo\\Markup\\0000002.xml\n",
      "D:\\Data\\Diploma\\real\\dataset//gt/NORTH DAKOTA_photo0000002.xmlCharMap.png\n",
      "D:\\Data\\Diploma\\real\\real\\real\\Train_V2\\\\NORTH DAKOTA_photo\\Markup\\0000003.xml\n",
      "D:\\Data\\Diploma\\real\\dataset//gt/NORTH DAKOTA_photo0000003.xmlCharMap.png\n",
      "D:\\Data\\Diploma\\real\\real\\real\\Train_V2\\\\NORTH DAKOTA_photo\\Markup\\0000004.xml\n",
      "D:\\Data\\Diploma\\real\\dataset//gt/NORTH DAKOTA_photo0000004.xmlCharMap.png\n",
      "D:\\Data\\Diploma\\real\\real\\real\\Train_V2\\\\NORTH DAKOTA_photo\\Markup\\0000005.xml\n",
      "D:\\Data\\Diploma\\real\\dataset//gt/NORTH DAKOTA_photo0000005.xmlCharMap.png\n",
      "D:\\Data\\Diploma\\real\\real\\real\\Train_V2\\\\NORTH DAKOTA_photo\\Markup\\0000006.xml\n",
      "D:\\Data\\Diploma\\real\\dataset//gt/NORTH DAKOTA_photo0000006.xmlCharMap.png\n",
      "D:\\Data\\Diploma\\real\\real\\real\\Train_V2\\\\NORTH DAKOTA_photo\\Markup\\0000007.xml\n",
      "D:\\Data\\Diploma\\real\\dataset//gt/NORTH DAKOTA_photo0000007.xmlCharMap.png\n",
      "D:\\Data\\Diploma\\real\\real\\real\\Train_V2\\\\NORTH DAKOTA_photo\\Markup\\0000008.xml\n",
      "D:\\Data\\Diploma\\real\\dataset//gt/NORTH DAKOTA_photo0000008.xmlCharMap.png\n",
      "D:\\Data\\Diploma\\real\\real\\real\\Train_V2\\\\NORTH DAKOTA_photo\\Markup\\0000009.xml\n",
      "D:\\Data\\Diploma\\real\\dataset//gt/NORTH DAKOTA_photo0000009.xmlCharMap.png\n",
      "\n"
     ]
    },
    {
     "data": {
      "application/vnd.jupyter.widget-view+json": {
       "model_id": "7c83f72b156240f4b8eff67d8be06a37",
       "version_major": 2,
       "version_minor": 0
      },
      "text/plain": [
       "HBox(children=(HTML(value=''), FloatProgress(value=0.0, max=10.0), HTML(value='')))"
      ]
     },
     "metadata": {},
     "output_type": "display_data"
    },
    {
     "name": "stdout",
     "output_type": "stream",
     "text": [
      "D:\\Data\\Diploma\\real\\real\\real\\Train_V2\\\\NORTH DAKOTA_scan\\Markup\\0000000.xml\n",
      "D:\\Data\\Diploma\\real\\dataset//gt/NORTH DAKOTA_scan0000000.xmlCharMap.png\n",
      "D:\\Data\\Diploma\\real\\real\\real\\Train_V2\\\\NORTH DAKOTA_scan\\Markup\\0000001.xml\n",
      "D:\\Data\\Diploma\\real\\dataset//gt/NORTH DAKOTA_scan0000001.xmlCharMap.png\n",
      "D:\\Data\\Diploma\\real\\real\\real\\Train_V2\\\\NORTH DAKOTA_scan\\Markup\\0000002.xml\n",
      "D:\\Data\\Diploma\\real\\dataset//gt/NORTH DAKOTA_scan0000002.xmlCharMap.png\n",
      "D:\\Data\\Diploma\\real\\real\\real\\Train_V2\\\\NORTH DAKOTA_scan\\Markup\\0000003.xml\n",
      "D:\\Data\\Diploma\\real\\dataset//gt/NORTH DAKOTA_scan0000003.xmlCharMap.png\n",
      "D:\\Data\\Diploma\\real\\real\\real\\Train_V2\\\\NORTH DAKOTA_scan\\Markup\\0000004.xml\n",
      "D:\\Data\\Diploma\\real\\dataset//gt/NORTH DAKOTA_scan0000004.xmlCharMap.png\n",
      "D:\\Data\\Diploma\\real\\real\\real\\Train_V2\\\\NORTH DAKOTA_scan\\Markup\\0000005.xml\n",
      "D:\\Data\\Diploma\\real\\dataset//gt/NORTH DAKOTA_scan0000005.xmlCharMap.png\n",
      "D:\\Data\\Diploma\\real\\real\\real\\Train_V2\\\\NORTH DAKOTA_scan\\Markup\\0000006.xml\n",
      "D:\\Data\\Diploma\\real\\dataset//gt/NORTH DAKOTA_scan0000006.xmlCharMap.png\n",
      "D:\\Data\\Diploma\\real\\real\\real\\Train_V2\\\\NORTH DAKOTA_scan\\Markup\\0000007.xml\n",
      "D:\\Data\\Diploma\\real\\dataset//gt/NORTH DAKOTA_scan0000007.xmlCharMap.png\n",
      "D:\\Data\\Diploma\\real\\real\\real\\Train_V2\\\\NORTH DAKOTA_scan\\Markup\\0000008.xml\n",
      "D:\\Data\\Diploma\\real\\dataset//gt/NORTH DAKOTA_scan0000008.xmlCharMap.png\n",
      "D:\\Data\\Diploma\\real\\real\\real\\Train_V2\\\\NORTH DAKOTA_scan\\Markup\\0000009.xml\n",
      "D:\\Data\\Diploma\\real\\dataset//gt/NORTH DAKOTA_scan0000009.xmlCharMap.png\n",
      "\n"
     ]
    },
    {
     "data": {
      "application/vnd.jupyter.widget-view+json": {
       "model_id": "3e2f812af4ad4adc8e5aa891e9c1d5a4",
       "version_major": 2,
       "version_minor": 0
      },
      "text/plain": [
       "HBox(children=(HTML(value=''), FloatProgress(value=0.0, max=10.0), HTML(value='')))"
      ]
     },
     "metadata": {},
     "output_type": "display_data"
    },
    {
     "name": "stdout",
     "output_type": "stream",
     "text": [
      "D:\\Data\\Diploma\\real\\real\\real\\Train_V2\\\\OHIO_photo\\Markup\\0000000.xml\n",
      "D:\\Data\\Diploma\\real\\dataset//gt/OHIO_photo0000000.xmlCharMap.png\n",
      "D:\\Data\\Diploma\\real\\real\\real\\Train_V2\\\\OHIO_photo\\Markup\\0000001.xml\n",
      "D:\\Data\\Diploma\\real\\dataset//gt/OHIO_photo0000001.xmlCharMap.png\n",
      "D:\\Data\\Diploma\\real\\real\\real\\Train_V2\\\\OHIO_photo\\Markup\\0000002.xml\n",
      "D:\\Data\\Diploma\\real\\dataset//gt/OHIO_photo0000002.xmlCharMap.png\n",
      "D:\\Data\\Diploma\\real\\real\\real\\Train_V2\\\\OHIO_photo\\Markup\\0000003.xml\n",
      "D:\\Data\\Diploma\\real\\dataset//gt/OHIO_photo0000003.xmlCharMap.png\n",
      "D:\\Data\\Diploma\\real\\real\\real\\Train_V2\\\\OHIO_photo\\Markup\\0000004.xml\n",
      "D:\\Data\\Diploma\\real\\dataset//gt/OHIO_photo0000004.xmlCharMap.png\n",
      "D:\\Data\\Diploma\\real\\real\\real\\Train_V2\\\\OHIO_photo\\Markup\\0000005.xml\n",
      "D:\\Data\\Diploma\\real\\dataset//gt/OHIO_photo0000005.xmlCharMap.png\n",
      "D:\\Data\\Diploma\\real\\real\\real\\Train_V2\\\\OHIO_photo\\Markup\\0000006.xml\n",
      "D:\\Data\\Diploma\\real\\dataset//gt/OHIO_photo0000006.xmlCharMap.png\n",
      "D:\\Data\\Diploma\\real\\real\\real\\Train_V2\\\\OHIO_photo\\Markup\\0000007.xml\n",
      "D:\\Data\\Diploma\\real\\dataset//gt/OHIO_photo0000007.xmlCharMap.png\n",
      "D:\\Data\\Diploma\\real\\real\\real\\Train_V2\\\\OHIO_photo\\Markup\\0000008.xml\n",
      "D:\\Data\\Diploma\\real\\dataset//gt/OHIO_photo0000008.xmlCharMap.png\n",
      "D:\\Data\\Diploma\\real\\real\\real\\Train_V2\\\\OHIO_photo\\Markup\\0000009.xml\n",
      "D:\\Data\\Diploma\\real\\dataset//gt/OHIO_photo0000009.xmlCharMap.png\n",
      "\n"
     ]
    },
    {
     "data": {
      "application/vnd.jupyter.widget-view+json": {
       "model_id": "965da05facb940f58a9225c21ca31c75",
       "version_major": 2,
       "version_minor": 0
      },
      "text/plain": [
       "HBox(children=(HTML(value=''), FloatProgress(value=0.0, max=10.0), HTML(value='')))"
      ]
     },
     "metadata": {},
     "output_type": "display_data"
    },
    {
     "name": "stdout",
     "output_type": "stream",
     "text": [
      "D:\\Data\\Diploma\\real\\real\\real\\Train_V2\\\\OHIO_scan\\Markup\\0000000.xml\n",
      "D:\\Data\\Diploma\\real\\dataset//gt/OHIO_scan0000000.xmlCharMap.png\n",
      "D:\\Data\\Diploma\\real\\real\\real\\Train_V2\\\\OHIO_scan\\Markup\\0000001.xml\n",
      "D:\\Data\\Diploma\\real\\dataset//gt/OHIO_scan0000001.xmlCharMap.png\n",
      "D:\\Data\\Diploma\\real\\real\\real\\Train_V2\\\\OHIO_scan\\Markup\\0000002.xml\n",
      "D:\\Data\\Diploma\\real\\dataset//gt/OHIO_scan0000002.xmlCharMap.png\n",
      "D:\\Data\\Diploma\\real\\real\\real\\Train_V2\\\\OHIO_scan\\Markup\\0000003.xml\n",
      "D:\\Data\\Diploma\\real\\dataset//gt/OHIO_scan0000003.xmlCharMap.png\n",
      "D:\\Data\\Diploma\\real\\real\\real\\Train_V2\\\\OHIO_scan\\Markup\\0000004.xml\n",
      "D:\\Data\\Diploma\\real\\dataset//gt/OHIO_scan0000004.xmlCharMap.png\n",
      "D:\\Data\\Diploma\\real\\real\\real\\Train_V2\\\\OHIO_scan\\Markup\\0000005.xml\n",
      "D:\\Data\\Diploma\\real\\dataset//gt/OHIO_scan0000005.xmlCharMap.png\n",
      "D:\\Data\\Diploma\\real\\real\\real\\Train_V2\\\\OHIO_scan\\Markup\\0000006.xml\n",
      "D:\\Data\\Diploma\\real\\dataset//gt/OHIO_scan0000006.xmlCharMap.png\n",
      "D:\\Data\\Diploma\\real\\real\\real\\Train_V2\\\\OHIO_scan\\Markup\\0000007.xml\n",
      "D:\\Data\\Diploma\\real\\dataset//gt/OHIO_scan0000007.xmlCharMap.png\n",
      "D:\\Data\\Diploma\\real\\real\\real\\Train_V2\\\\OHIO_scan\\Markup\\0000008.xml\n",
      "D:\\Data\\Diploma\\real\\dataset//gt/OHIO_scan0000008.xmlCharMap.png\n",
      "D:\\Data\\Diploma\\real\\real\\real\\Train_V2\\\\OHIO_scan\\Markup\\0000009.xml\n",
      "D:\\Data\\Diploma\\real\\dataset//gt/OHIO_scan0000009.xmlCharMap.png\n",
      "\n"
     ]
    },
    {
     "data": {
      "application/vnd.jupyter.widget-view+json": {
       "model_id": "cb83a9807be8490f8163db3afc208362",
       "version_major": 2,
       "version_minor": 0
      },
      "text/plain": [
       "HBox(children=(HTML(value=''), FloatProgress(value=0.0, max=10.0), HTML(value='')))"
      ]
     },
     "metadata": {},
     "output_type": "display_data"
    },
    {
     "name": "stdout",
     "output_type": "stream",
     "text": [
      "D:\\Data\\Diploma\\real\\real\\real\\Train_V2\\\\OKLAHOMA_photo\\Markup\\0000000.xml\n",
      "D:\\Data\\Diploma\\real\\dataset//gt/OKLAHOMA_photo0000000.xmlCharMap.png\n",
      "D:\\Data\\Diploma\\real\\real\\real\\Train_V2\\\\OKLAHOMA_photo\\Markup\\0000001.xml\n",
      "D:\\Data\\Diploma\\real\\dataset//gt/OKLAHOMA_photo0000001.xmlCharMap.png\n",
      "D:\\Data\\Diploma\\real\\real\\real\\Train_V2\\\\OKLAHOMA_photo\\Markup\\0000002.xml\n",
      "D:\\Data\\Diploma\\real\\dataset//gt/OKLAHOMA_photo0000002.xmlCharMap.png\n",
      "D:\\Data\\Diploma\\real\\real\\real\\Train_V2\\\\OKLAHOMA_photo\\Markup\\0000003.xml\n",
      "D:\\Data\\Diploma\\real\\dataset//gt/OKLAHOMA_photo0000003.xmlCharMap.png\n",
      "D:\\Data\\Diploma\\real\\real\\real\\Train_V2\\\\OKLAHOMA_photo\\Markup\\0000004.xml\n",
      "D:\\Data\\Diploma\\real\\dataset//gt/OKLAHOMA_photo0000004.xmlCharMap.png\n",
      "D:\\Data\\Diploma\\real\\real\\real\\Train_V2\\\\OKLAHOMA_photo\\Markup\\0000005.xml\n",
      "D:\\Data\\Diploma\\real\\dataset//gt/OKLAHOMA_photo0000005.xmlCharMap.png\n",
      "D:\\Data\\Diploma\\real\\real\\real\\Train_V2\\\\OKLAHOMA_photo\\Markup\\0000006.xml\n",
      "D:\\Data\\Diploma\\real\\dataset//gt/OKLAHOMA_photo0000006.xmlCharMap.png\n",
      "D:\\Data\\Diploma\\real\\real\\real\\Train_V2\\\\OKLAHOMA_photo\\Markup\\0000007.xml\n",
      "D:\\Data\\Diploma\\real\\dataset//gt/OKLAHOMA_photo0000007.xmlCharMap.png\n",
      "D:\\Data\\Diploma\\real\\real\\real\\Train_V2\\\\OKLAHOMA_photo\\Markup\\0000008.xml\n",
      "D:\\Data\\Diploma\\real\\dataset//gt/OKLAHOMA_photo0000008.xmlCharMap.png\n",
      "D:\\Data\\Diploma\\real\\real\\real\\Train_V2\\\\OKLAHOMA_photo\\Markup\\0000009.xml\n",
      "D:\\Data\\Diploma\\real\\dataset//gt/OKLAHOMA_photo0000009.xmlCharMap.png\n",
      "\n"
     ]
    },
    {
     "data": {
      "application/vnd.jupyter.widget-view+json": {
       "model_id": "30d4f92701204ca5a0687b44d0b23b95",
       "version_major": 2,
       "version_minor": 0
      },
      "text/plain": [
       "HBox(children=(HTML(value=''), FloatProgress(value=0.0, max=10.0), HTML(value='')))"
      ]
     },
     "metadata": {},
     "output_type": "display_data"
    },
    {
     "name": "stdout",
     "output_type": "stream",
     "text": [
      "D:\\Data\\Diploma\\real\\real\\real\\Train_V2\\\\OKLAHOMA_scan\\Markup\\0000000.xml\n",
      "D:\\Data\\Diploma\\real\\dataset//gt/OKLAHOMA_scan0000000.xmlCharMap.png\n",
      "D:\\Data\\Diploma\\real\\real\\real\\Train_V2\\\\OKLAHOMA_scan\\Markup\\0000001.xml\n",
      "D:\\Data\\Diploma\\real\\dataset//gt/OKLAHOMA_scan0000001.xmlCharMap.png\n",
      "D:\\Data\\Diploma\\real\\real\\real\\Train_V2\\\\OKLAHOMA_scan\\Markup\\0000002.xml\n",
      "D:\\Data\\Diploma\\real\\dataset//gt/OKLAHOMA_scan0000002.xmlCharMap.png\n",
      "D:\\Data\\Diploma\\real\\real\\real\\Train_V2\\\\OKLAHOMA_scan\\Markup\\0000003.xml\n",
      "D:\\Data\\Diploma\\real\\dataset//gt/OKLAHOMA_scan0000003.xmlCharMap.png\n",
      "D:\\Data\\Diploma\\real\\real\\real\\Train_V2\\\\OKLAHOMA_scan\\Markup\\0000004.xml\n",
      "D:\\Data\\Diploma\\real\\dataset//gt/OKLAHOMA_scan0000004.xmlCharMap.png\n",
      "D:\\Data\\Diploma\\real\\real\\real\\Train_V2\\\\OKLAHOMA_scan\\Markup\\0000005.xml\n",
      "D:\\Data\\Diploma\\real\\dataset//gt/OKLAHOMA_scan0000005.xmlCharMap.png\n",
      "D:\\Data\\Diploma\\real\\real\\real\\Train_V2\\\\OKLAHOMA_scan\\Markup\\0000006.xml\n",
      "D:\\Data\\Diploma\\real\\dataset//gt/OKLAHOMA_scan0000006.xmlCharMap.png\n",
      "D:\\Data\\Diploma\\real\\real\\real\\Train_V2\\\\OKLAHOMA_scan\\Markup\\0000007.xml\n",
      "D:\\Data\\Diploma\\real\\dataset//gt/OKLAHOMA_scan0000007.xmlCharMap.png\n",
      "D:\\Data\\Diploma\\real\\real\\real\\Train_V2\\\\OKLAHOMA_scan\\Markup\\0000008.xml\n",
      "D:\\Data\\Diploma\\real\\dataset//gt/OKLAHOMA_scan0000008.xmlCharMap.png\n",
      "D:\\Data\\Diploma\\real\\real\\real\\Train_V2\\\\OKLAHOMA_scan\\Markup\\0000009.xml\n",
      "D:\\Data\\Diploma\\real\\dataset//gt/OKLAHOMA_scan0000009.xmlCharMap.png\n",
      "\n"
     ]
    },
    {
     "data": {
      "application/vnd.jupyter.widget-view+json": {
       "model_id": "4543e27de537413c8cfef21d7913baae",
       "version_major": 2,
       "version_minor": 0
      },
      "text/plain": [
       "HBox(children=(HTML(value=''), FloatProgress(value=0.0, max=10.0), HTML(value='')))"
      ]
     },
     "metadata": {},
     "output_type": "display_data"
    },
    {
     "name": "stdout",
     "output_type": "stream",
     "text": [
      "D:\\Data\\Diploma\\real\\real\\real\\Train_V2\\\\OREGON_photo\\Markup\\0000000.xml\n",
      "D:\\Data\\Diploma\\real\\dataset//gt/OREGON_photo0000000.xmlCharMap.png\n",
      "D:\\Data\\Diploma\\real\\real\\real\\Train_V2\\\\OREGON_photo\\Markup\\0000001.xml\n",
      "D:\\Data\\Diploma\\real\\dataset//gt/OREGON_photo0000001.xmlCharMap.png\n",
      "D:\\Data\\Diploma\\real\\real\\real\\Train_V2\\\\OREGON_photo\\Markup\\0000002.xml\n",
      "D:\\Data\\Diploma\\real\\dataset//gt/OREGON_photo0000002.xmlCharMap.png\n",
      "D:\\Data\\Diploma\\real\\real\\real\\Train_V2\\\\OREGON_photo\\Markup\\0000003.xml\n",
      "D:\\Data\\Diploma\\real\\dataset//gt/OREGON_photo0000003.xmlCharMap.png\n",
      "D:\\Data\\Diploma\\real\\real\\real\\Train_V2\\\\OREGON_photo\\Markup\\0000004.xml\n",
      "D:\\Data\\Diploma\\real\\dataset//gt/OREGON_photo0000004.xmlCharMap.png\n",
      "D:\\Data\\Diploma\\real\\real\\real\\Train_V2\\\\OREGON_photo\\Markup\\0000005.xml\n",
      "D:\\Data\\Diploma\\real\\dataset//gt/OREGON_photo0000005.xmlCharMap.png\n",
      "D:\\Data\\Diploma\\real\\real\\real\\Train_V2\\\\OREGON_photo\\Markup\\0000006.xml\n",
      "D:\\Data\\Diploma\\real\\dataset//gt/OREGON_photo0000006.xmlCharMap.png\n",
      "D:\\Data\\Diploma\\real\\real\\real\\Train_V2\\\\OREGON_photo\\Markup\\0000007.xml\n",
      "D:\\Data\\Diploma\\real\\dataset//gt/OREGON_photo0000007.xmlCharMap.png\n",
      "D:\\Data\\Diploma\\real\\real\\real\\Train_V2\\\\OREGON_photo\\Markup\\0000008.xml\n",
      "D:\\Data\\Diploma\\real\\dataset//gt/OREGON_photo0000008.xmlCharMap.png\n",
      "D:\\Data\\Diploma\\real\\real\\real\\Train_V2\\\\OREGON_photo\\Markup\\0000009.xml\n",
      "D:\\Data\\Diploma\\real\\dataset//gt/OREGON_photo0000009.xmlCharMap.png\n",
      "\n"
     ]
    },
    {
     "data": {
      "application/vnd.jupyter.widget-view+json": {
       "model_id": "47b85da6dc954dffafe85d17fdec07ee",
       "version_major": 2,
       "version_minor": 0
      },
      "text/plain": [
       "HBox(children=(HTML(value=''), FloatProgress(value=0.0, max=10.0), HTML(value='')))"
      ]
     },
     "metadata": {},
     "output_type": "display_data"
    },
    {
     "name": "stdout",
     "output_type": "stream",
     "text": [
      "D:\\Data\\Diploma\\real\\real\\real\\Train_V2\\\\OREGON_scan\\Markup\\0000000.xml\n",
      "D:\\Data\\Diploma\\real\\dataset//gt/OREGON_scan0000000.xmlCharMap.png\n",
      "D:\\Data\\Diploma\\real\\real\\real\\Train_V2\\\\OREGON_scan\\Markup\\0000001.xml\n",
      "D:\\Data\\Diploma\\real\\dataset//gt/OREGON_scan0000001.xmlCharMap.png\n",
      "D:\\Data\\Diploma\\real\\real\\real\\Train_V2\\\\OREGON_scan\\Markup\\0000002.xml\n",
      "D:\\Data\\Diploma\\real\\dataset//gt/OREGON_scan0000002.xmlCharMap.png\n",
      "D:\\Data\\Diploma\\real\\real\\real\\Train_V2\\\\OREGON_scan\\Markup\\0000003.xml\n",
      "D:\\Data\\Diploma\\real\\dataset//gt/OREGON_scan0000003.xmlCharMap.png\n",
      "D:\\Data\\Diploma\\real\\real\\real\\Train_V2\\\\OREGON_scan\\Markup\\0000004.xml\n",
      "D:\\Data\\Diploma\\real\\dataset//gt/OREGON_scan0000004.xmlCharMap.png\n",
      "D:\\Data\\Diploma\\real\\real\\real\\Train_V2\\\\OREGON_scan\\Markup\\0000005.xml\n",
      "D:\\Data\\Diploma\\real\\dataset//gt/OREGON_scan0000005.xmlCharMap.png\n",
      "D:\\Data\\Diploma\\real\\real\\real\\Train_V2\\\\OREGON_scan\\Markup\\0000006.xml\n",
      "D:\\Data\\Diploma\\real\\dataset//gt/OREGON_scan0000006.xmlCharMap.png\n",
      "D:\\Data\\Diploma\\real\\real\\real\\Train_V2\\\\OREGON_scan\\Markup\\0000007.xml\n",
      "D:\\Data\\Diploma\\real\\dataset//gt/OREGON_scan0000007.xmlCharMap.png\n",
      "D:\\Data\\Diploma\\real\\real\\real\\Train_V2\\\\OREGON_scan\\Markup\\0000008.xml\n",
      "D:\\Data\\Diploma\\real\\dataset//gt/OREGON_scan0000008.xmlCharMap.png\n",
      "D:\\Data\\Diploma\\real\\real\\real\\Train_V2\\\\OREGON_scan\\Markup\\0000009.xml\n",
      "D:\\Data\\Diploma\\real\\dataset//gt/OREGON_scan0000009.xmlCharMap.png\n",
      "\n"
     ]
    },
    {
     "data": {
      "application/vnd.jupyter.widget-view+json": {
       "model_id": "c6e5cc1178bd46e98c33036569649cf1",
       "version_major": 2,
       "version_minor": 0
      },
      "text/plain": [
       "HBox(children=(HTML(value=''), FloatProgress(value=0.0, max=26.0), HTML(value='')))"
      ]
     },
     "metadata": {},
     "output_type": "display_data"
    },
    {
     "name": "stdout",
     "output_type": "stream",
     "text": [
      "D:\\Data\\Diploma\\real\\real\\real\\Train_V2\\\\Passport.Russian_photo\\Markup\\0000000.xml\n",
      "D:\\Data\\Diploma\\real\\real\\real\\Train_V2\\\\Passport.Russian_photo\\Markup\\0000001.xml\n",
      "D:\\Data\\Diploma\\real\\real\\real\\Train_V2\\\\Passport.Russian_photo\\Markup\\0000002.xml\n",
      "D:\\Data\\Diploma\\real\\real\\real\\Train_V2\\\\Passport.Russian_photo\\Markup\\0000003.xml\n",
      "D:\\Data\\Diploma\\real\\real\\real\\Train_V2\\\\Passport.Russian_photo\\Markup\\0000004.xml\n",
      "D:\\Data\\Diploma\\real\\real\\real\\Train_V2\\\\Passport.Russian_photo\\Markup\\0000005.xml\n",
      "D:\\Data\\Diploma\\real\\real\\real\\Train_V2\\\\Passport.Russian_photo\\Markup\\0000006.xml\n",
      "D:\\Data\\Diploma\\real\\real\\real\\Train_V2\\\\Passport.Russian_photo\\Markup\\0000007.xml\n",
      "D:\\Data\\Diploma\\real\\real\\real\\Train_V2\\\\Passport.Russian_photo\\Markup\\0000008.xml\n",
      "D:\\Data\\Diploma\\real\\real\\real\\Train_V2\\\\Passport.Russian_photo\\Markup\\0000009.xml\n",
      "D:\\Data\\Diploma\\real\\real\\real\\Train_V2\\\\Passport.Russian_photo\\Markup\\0000010.xml\n",
      "D:\\Data\\Diploma\\real\\real\\real\\Train_V2\\\\Passport.Russian_photo\\Markup\\0000011.xml\n",
      "D:\\Data\\Diploma\\real\\real\\real\\Train_V2\\\\Passport.Russian_photo\\Markup\\0000012.xml\n",
      "D:\\Data\\Diploma\\real\\real\\real\\Train_V2\\\\Passport.Russian_photo\\Markup\\0000013.xml\n",
      "D:\\Data\\Diploma\\real\\real\\real\\Train_V2\\\\Passport.Russian_photo\\Markup\\0000014.xml\n",
      "D:\\Data\\Diploma\\real\\real\\real\\Train_V2\\\\Passport.Russian_photo\\Markup\\0000015.xml\n",
      "D:\\Data\\Diploma\\real\\real\\real\\Train_V2\\\\Passport.Russian_photo\\Markup\\0000016.xml\n",
      "D:\\Data\\Diploma\\real\\real\\real\\Train_V2\\\\Passport.Russian_photo\\Markup\\0000017.xml\n",
      "D:\\Data\\Diploma\\real\\real\\real\\Train_V2\\\\Passport.Russian_photo\\Markup\\0000018.xml\n",
      "D:\\Data\\Diploma\\real\\real\\real\\Train_V2\\\\Passport.Russian_photo\\Markup\\0000019.xml\n",
      "D:\\Data\\Diploma\\real\\real\\real\\Train_V2\\\\Passport.Russian_photo\\Markup\\0000020.xml\n",
      "D:\\Data\\Diploma\\real\\real\\real\\Train_V2\\\\Passport.Russian_photo\\Markup\\0000021.xml\n",
      "D:\\Data\\Diploma\\real\\real\\real\\Train_V2\\\\Passport.Russian_photo\\Markup\\0000022.xml\n",
      "D:\\Data\\Diploma\\real\\real\\real\\Train_V2\\\\Passport.Russian_photo\\Markup\\0000023.xml\n",
      "D:\\Data\\Diploma\\real\\real\\real\\Train_V2\\\\Passport.Russian_photo\\Markup\\0000024.xml\n",
      "D:\\Data\\Diploma\\real\\real\\real\\Train_V2\\\\Passport.Russian_photo\\Markup\\0000025.xml\n",
      "\n"
     ]
    },
    {
     "data": {
      "application/vnd.jupyter.widget-view+json": {
       "model_id": "387eb1b2d4ef4b3aad7aa50f6152c2c9",
       "version_major": 2,
       "version_minor": 0
      },
      "text/plain": [
       "HBox(children=(HTML(value=''), FloatProgress(value=0.0, max=10.0), HTML(value='')))"
      ]
     },
     "metadata": {},
     "output_type": "display_data"
    },
    {
     "name": "stdout",
     "output_type": "stream",
     "text": [
      "D:\\Data\\Diploma\\real\\real\\real\\Train_V2\\\\PENSYLVANIA_photo\\Markup\\0000000.xml\n",
      "D:\\Data\\Diploma\\real\\dataset//gt/PENSYLVANIA_photo0000000.xmlCharMap.png\n",
      "D:\\Data\\Diploma\\real\\real\\real\\Train_V2\\\\PENSYLVANIA_photo\\Markup\\0000001.xml\n",
      "D:\\Data\\Diploma\\real\\dataset//gt/PENSYLVANIA_photo0000001.xmlCharMap.png\n",
      "D:\\Data\\Diploma\\real\\real\\real\\Train_V2\\\\PENSYLVANIA_photo\\Markup\\0000002.xml\n",
      "D:\\Data\\Diploma\\real\\dataset//gt/PENSYLVANIA_photo0000002.xmlCharMap.png\n",
      "D:\\Data\\Diploma\\real\\real\\real\\Train_V2\\\\PENSYLVANIA_photo\\Markup\\0000003.xml\n",
      "D:\\Data\\Diploma\\real\\dataset//gt/PENSYLVANIA_photo0000003.xmlCharMap.png\n",
      "D:\\Data\\Diploma\\real\\real\\real\\Train_V2\\\\PENSYLVANIA_photo\\Markup\\0000004.xml\n",
      "D:\\Data\\Diploma\\real\\dataset//gt/PENSYLVANIA_photo0000004.xmlCharMap.png\n",
      "D:\\Data\\Diploma\\real\\real\\real\\Train_V2\\\\PENSYLVANIA_photo\\Markup\\0000005.xml\n",
      "D:\\Data\\Diploma\\real\\dataset//gt/PENSYLVANIA_photo0000005.xmlCharMap.png\n",
      "D:\\Data\\Diploma\\real\\real\\real\\Train_V2\\\\PENSYLVANIA_photo\\Markup\\0000006.xml\n",
      "D:\\Data\\Diploma\\real\\dataset//gt/PENSYLVANIA_photo0000006.xmlCharMap.png\n",
      "D:\\Data\\Diploma\\real\\real\\real\\Train_V2\\\\PENSYLVANIA_photo\\Markup\\0000007.xml\n",
      "D:\\Data\\Diploma\\real\\dataset//gt/PENSYLVANIA_photo0000007.xmlCharMap.png\n",
      "D:\\Data\\Diploma\\real\\real\\real\\Train_V2\\\\PENSYLVANIA_photo\\Markup\\0000008.xml\n",
      "D:\\Data\\Diploma\\real\\dataset//gt/PENSYLVANIA_photo0000008.xmlCharMap.png\n",
      "D:\\Data\\Diploma\\real\\real\\real\\Train_V2\\\\PENSYLVANIA_photo\\Markup\\0000009.xml\n",
      "D:\\Data\\Diploma\\real\\dataset//gt/PENSYLVANIA_photo0000009.xmlCharMap.png\n",
      "\n"
     ]
    },
    {
     "data": {
      "application/vnd.jupyter.widget-view+json": {
       "model_id": "53a55e5a68964b289a00b6e5f29431b6",
       "version_major": 2,
       "version_minor": 0
      },
      "text/plain": [
       "HBox(children=(HTML(value=''), FloatProgress(value=0.0, max=10.0), HTML(value='')))"
      ]
     },
     "metadata": {},
     "output_type": "display_data"
    },
    {
     "name": "stdout",
     "output_type": "stream",
     "text": [
      "D:\\Data\\Diploma\\real\\real\\real\\Train_V2\\\\PENSYLVANIA_scan\\Markup\\0000000.xml\n",
      "D:\\Data\\Diploma\\real\\dataset//gt/PENSYLVANIA_scan0000000.xmlCharMap.png\n",
      "D:\\Data\\Diploma\\real\\real\\real\\Train_V2\\\\PENSYLVANIA_scan\\Markup\\0000001.xml\n",
      "D:\\Data\\Diploma\\real\\dataset//gt/PENSYLVANIA_scan0000001.xmlCharMap.png\n",
      "D:\\Data\\Diploma\\real\\real\\real\\Train_V2\\\\PENSYLVANIA_scan\\Markup\\0000002.xml\n",
      "D:\\Data\\Diploma\\real\\dataset//gt/PENSYLVANIA_scan0000002.xmlCharMap.png\n",
      "D:\\Data\\Diploma\\real\\real\\real\\Train_V2\\\\PENSYLVANIA_scan\\Markup\\0000003.xml\n",
      "D:\\Data\\Diploma\\real\\dataset//gt/PENSYLVANIA_scan0000003.xmlCharMap.png\n",
      "D:\\Data\\Diploma\\real\\real\\real\\Train_V2\\\\PENSYLVANIA_scan\\Markup\\0000004.xml\n",
      "D:\\Data\\Diploma\\real\\dataset//gt/PENSYLVANIA_scan0000004.xmlCharMap.png\n",
      "D:\\Data\\Diploma\\real\\real\\real\\Train_V2\\\\PENSYLVANIA_scan\\Markup\\0000005.xml\n",
      "D:\\Data\\Diploma\\real\\dataset//gt/PENSYLVANIA_scan0000005.xmlCharMap.png\n",
      "D:\\Data\\Diploma\\real\\real\\real\\Train_V2\\\\PENSYLVANIA_scan\\Markup\\0000006.xml\n",
      "D:\\Data\\Diploma\\real\\dataset//gt/PENSYLVANIA_scan0000006.xmlCharMap.png\n",
      "D:\\Data\\Diploma\\real\\real\\real\\Train_V2\\\\PENSYLVANIA_scan\\Markup\\0000007.xml\n",
      "D:\\Data\\Diploma\\real\\dataset//gt/PENSYLVANIA_scan0000007.xmlCharMap.png\n",
      "D:\\Data\\Diploma\\real\\real\\real\\Train_V2\\\\PENSYLVANIA_scan\\Markup\\0000008.xml\n",
      "D:\\Data\\Diploma\\real\\dataset//gt/PENSYLVANIA_scan0000008.xmlCharMap.png\n",
      "D:\\Data\\Diploma\\real\\real\\real\\Train_V2\\\\PENSYLVANIA_scan\\Markup\\0000009.xml\n",
      "D:\\Data\\Diploma\\real\\dataset//gt/PENSYLVANIA_scan0000009.xmlCharMap.png\n",
      "\n"
     ]
    },
    {
     "data": {
      "application/vnd.jupyter.widget-view+json": {
       "model_id": "f998cd54aee048038df34ec0ef5b5c99",
       "version_major": 2,
       "version_minor": 0
      },
      "text/plain": [
       "HBox(children=(HTML(value=''), FloatProgress(value=0.0, max=45.0), HTML(value='')))"
      ]
     },
     "metadata": {},
     "output_type": "display_data"
    },
    {
     "name": "stdout",
     "output_type": "stream",
     "text": [
      "D:\\Data\\Diploma\\real\\real\\real\\Train_V2\\\\QatarID\\Markup\\0000000.xml\n",
      "D:\\Data\\Diploma\\real\\real\\real\\Train_V2\\\\QatarID\\Markup\\0000001.xml\n",
      "D:\\Data\\Diploma\\real\\real\\real\\Train_V2\\\\QatarID\\Markup\\0000002.xml\n",
      "D:\\Data\\Diploma\\real\\real\\real\\Train_V2\\\\QatarID\\Markup\\0000003.xml\n",
      "D:\\Data\\Diploma\\real\\real\\real\\Train_V2\\\\QatarID\\Markup\\0000004.xml\n",
      "D:\\Data\\Diploma\\real\\real\\real\\Train_V2\\\\QatarID\\Markup\\0000005.xml\n",
      "D:\\Data\\Diploma\\real\\real\\real\\Train_V2\\\\QatarID\\Markup\\0000006.xml\n",
      "D:\\Data\\Diploma\\real\\real\\real\\Train_V2\\\\QatarID\\Markup\\0000007.xml\n",
      "D:\\Data\\Diploma\\real\\real\\real\\Train_V2\\\\QatarID\\Markup\\0000008.xml\n",
      "D:\\Data\\Diploma\\real\\real\\real\\Train_V2\\\\QatarID\\Markup\\0000009.xml\n",
      "D:\\Data\\Diploma\\real\\real\\real\\Train_V2\\\\QatarID\\Markup\\0000010.xml\n",
      "D:\\Data\\Diploma\\real\\real\\real\\Train_V2\\\\QatarID\\Markup\\0000011.xml\n",
      "D:\\Data\\Diploma\\real\\real\\real\\Train_V2\\\\QatarID\\Markup\\0000012.xml\n",
      "D:\\Data\\Diploma\\real\\real\\real\\Train_V2\\\\QatarID\\Markup\\0000013.xml\n",
      "D:\\Data\\Diploma\\real\\real\\real\\Train_V2\\\\QatarID\\Markup\\0000014.xml\n",
      "D:\\Data\\Diploma\\real\\real\\real\\Train_V2\\\\QatarID\\Markup\\0000015.xml\n",
      "D:\\Data\\Diploma\\real\\real\\real\\Train_V2\\\\QatarID\\Markup\\0000016.xml\n",
      "D:\\Data\\Diploma\\real\\real\\real\\Train_V2\\\\QatarID\\Markup\\0000017.xml\n",
      "D:\\Data\\Diploma\\real\\real\\real\\Train_V2\\\\QatarID\\Markup\\0000018.xml\n",
      "D:\\Data\\Diploma\\real\\real\\real\\Train_V2\\\\QatarID\\Markup\\0000019.xml\n",
      "D:\\Data\\Diploma\\real\\real\\real\\Train_V2\\\\QatarID\\Markup\\0000020.xml\n",
      "D:\\Data\\Diploma\\real\\real\\real\\Train_V2\\\\QatarID\\Markup\\0000021.xml\n",
      "D:\\Data\\Diploma\\real\\real\\real\\Train_V2\\\\QatarID\\Markup\\0000022.xml\n",
      "D:\\Data\\Diploma\\real\\real\\real\\Train_V2\\\\QatarID\\Markup\\0000023.xml\n",
      "D:\\Data\\Diploma\\real\\real\\real\\Train_V2\\\\QatarID\\Markup\\0000024.xml\n",
      "D:\\Data\\Diploma\\real\\real\\real\\Train_V2\\\\QatarID\\Markup\\0000025.xml\n",
      "D:\\Data\\Diploma\\real\\real\\real\\Train_V2\\\\QatarID\\Markup\\0000026.xml\n",
      "D:\\Data\\Diploma\\real\\real\\real\\Train_V2\\\\QatarID\\Markup\\0000027.xml\n",
      "D:\\Data\\Diploma\\real\\real\\real\\Train_V2\\\\QatarID\\Markup\\0000028.xml\n",
      "D:\\Data\\Diploma\\real\\real\\real\\Train_V2\\\\QatarID\\Markup\\0000029.xml\n",
      "D:\\Data\\Diploma\\real\\real\\real\\Train_V2\\\\QatarID\\Markup\\0000030.xml\n",
      "D:\\Data\\Diploma\\real\\real\\real\\Train_V2\\\\QatarID\\Markup\\0000031.xml\n",
      "D:\\Data\\Diploma\\real\\real\\real\\Train_V2\\\\QatarID\\Markup\\0000032.xml\n",
      "D:\\Data\\Diploma\\real\\real\\real\\Train_V2\\\\QatarID\\Markup\\0000033.xml\n",
      "D:\\Data\\Diploma\\real\\real\\real\\Train_V2\\\\QatarID\\Markup\\0000034.xml\n",
      "D:\\Data\\Diploma\\real\\real\\real\\Train_V2\\\\QatarID\\Markup\\0000035.xml\n",
      "D:\\Data\\Diploma\\real\\real\\real\\Train_V2\\\\QatarID\\Markup\\0000036.xml\n",
      "D:\\Data\\Diploma\\real\\real\\real\\Train_V2\\\\QatarID\\Markup\\0000037.xml\n",
      "D:\\Data\\Diploma\\real\\real\\real\\Train_V2\\\\QatarID\\Markup\\0000038.xml\n",
      "D:\\Data\\Diploma\\real\\real\\real\\Train_V2\\\\QatarID\\Markup\\0000039.xml\n",
      "D:\\Data\\Diploma\\real\\real\\real\\Train_V2\\\\QatarID\\Markup\\0000040.xml\n",
      "D:\\Data\\Diploma\\real\\real\\real\\Train_V2\\\\QatarID\\Markup\\0000041.xml\n",
      "D:\\Data\\Diploma\\real\\real\\real\\Train_V2\\\\QatarID\\Markup\\0000042.xml\n",
      "D:\\Data\\Diploma\\real\\real\\real\\Train_V2\\\\QatarID\\Markup\\0000043.xml\n",
      "D:\\Data\\Diploma\\real\\real\\real\\Train_V2\\\\QatarID\\Markup\\0000044.xml\n",
      "\n"
     ]
    },
    {
     "data": {
      "application/vnd.jupyter.widget-view+json": {
       "model_id": "94f002e7522d48af8b054d094e1ced73",
       "version_major": 2,
       "version_minor": 0
      },
      "text/plain": [
       "HBox(children=(HTML(value=''), FloatProgress(value=0.0, max=10.0), HTML(value='')))"
      ]
     },
     "metadata": {},
     "output_type": "display_data"
    },
    {
     "name": "stdout",
     "output_type": "stream",
     "text": [
      "D:\\Data\\Diploma\\real\\real\\real\\Train_V2\\\\RHODE ISLAND_photo\\Markup\\0000000.xml\n",
      "D:\\Data\\Diploma\\real\\dataset//gt/RHODE ISLAND_photo0000000.xmlCharMap.png\n",
      "D:\\Data\\Diploma\\real\\real\\real\\Train_V2\\\\RHODE ISLAND_photo\\Markup\\0000001.xml\n",
      "D:\\Data\\Diploma\\real\\dataset//gt/RHODE ISLAND_photo0000001.xmlCharMap.png\n",
      "D:\\Data\\Diploma\\real\\real\\real\\Train_V2\\\\RHODE ISLAND_photo\\Markup\\0000002.xml\n",
      "D:\\Data\\Diploma\\real\\dataset//gt/RHODE ISLAND_photo0000002.xmlCharMap.png\n",
      "D:\\Data\\Diploma\\real\\real\\real\\Train_V2\\\\RHODE ISLAND_photo\\Markup\\0000003.xml\n",
      "D:\\Data\\Diploma\\real\\dataset//gt/RHODE ISLAND_photo0000003.xmlCharMap.png\n",
      "D:\\Data\\Diploma\\real\\real\\real\\Train_V2\\\\RHODE ISLAND_photo\\Markup\\0000004.xml\n",
      "D:\\Data\\Diploma\\real\\dataset//gt/RHODE ISLAND_photo0000004.xmlCharMap.png\n",
      "D:\\Data\\Diploma\\real\\real\\real\\Train_V2\\\\RHODE ISLAND_photo\\Markup\\0000005.xml\n",
      "D:\\Data\\Diploma\\real\\dataset//gt/RHODE ISLAND_photo0000005.xmlCharMap.png\n",
      "D:\\Data\\Diploma\\real\\real\\real\\Train_V2\\\\RHODE ISLAND_photo\\Markup\\0000006.xml\n",
      "D:\\Data\\Diploma\\real\\dataset//gt/RHODE ISLAND_photo0000006.xmlCharMap.png\n",
      "D:\\Data\\Diploma\\real\\real\\real\\Train_V2\\\\RHODE ISLAND_photo\\Markup\\0000007.xml\n",
      "D:\\Data\\Diploma\\real\\dataset//gt/RHODE ISLAND_photo0000007.xmlCharMap.png\n",
      "D:\\Data\\Diploma\\real\\real\\real\\Train_V2\\\\RHODE ISLAND_photo\\Markup\\0000008.xml\n",
      "D:\\Data\\Diploma\\real\\dataset//gt/RHODE ISLAND_photo0000008.xmlCharMap.png\n",
      "D:\\Data\\Diploma\\real\\real\\real\\Train_V2\\\\RHODE ISLAND_photo\\Markup\\0000009.xml\n",
      "D:\\Data\\Diploma\\real\\dataset//gt/RHODE ISLAND_photo0000009.xmlCharMap.png\n",
      "\n"
     ]
    },
    {
     "data": {
      "application/vnd.jupyter.widget-view+json": {
       "model_id": "1b7bc26bd542409b89c383be5123fb4f",
       "version_major": 2,
       "version_minor": 0
      },
      "text/plain": [
       "HBox(children=(HTML(value=''), FloatProgress(value=0.0, max=10.0), HTML(value='')))"
      ]
     },
     "metadata": {},
     "output_type": "display_data"
    },
    {
     "name": "stdout",
     "output_type": "stream",
     "text": [
      "D:\\Data\\Diploma\\real\\real\\real\\Train_V2\\\\RHODE ISLAND_scan\\Markup\\0000000.xml\n",
      "D:\\Data\\Diploma\\real\\dataset//gt/RHODE ISLAND_scan0000000.xmlCharMap.png\n",
      "D:\\Data\\Diploma\\real\\real\\real\\Train_V2\\\\RHODE ISLAND_scan\\Markup\\0000001.xml\n",
      "D:\\Data\\Diploma\\real\\dataset//gt/RHODE ISLAND_scan0000001.xmlCharMap.png\n",
      "D:\\Data\\Diploma\\real\\real\\real\\Train_V2\\\\RHODE ISLAND_scan\\Markup\\0000002.xml\n",
      "D:\\Data\\Diploma\\real\\dataset//gt/RHODE ISLAND_scan0000002.xmlCharMap.png\n",
      "D:\\Data\\Diploma\\real\\real\\real\\Train_V2\\\\RHODE ISLAND_scan\\Markup\\0000003.xml\n",
      "D:\\Data\\Diploma\\real\\dataset//gt/RHODE ISLAND_scan0000003.xmlCharMap.png\n",
      "D:\\Data\\Diploma\\real\\real\\real\\Train_V2\\\\RHODE ISLAND_scan\\Markup\\0000004.xml\n",
      "D:\\Data\\Diploma\\real\\dataset//gt/RHODE ISLAND_scan0000004.xmlCharMap.png\n",
      "D:\\Data\\Diploma\\real\\real\\real\\Train_V2\\\\RHODE ISLAND_scan\\Markup\\0000005.xml\n",
      "D:\\Data\\Diploma\\real\\dataset//gt/RHODE ISLAND_scan0000005.xmlCharMap.png\n",
      "D:\\Data\\Diploma\\real\\real\\real\\Train_V2\\\\RHODE ISLAND_scan\\Markup\\0000006.xml\n",
      "D:\\Data\\Diploma\\real\\dataset//gt/RHODE ISLAND_scan0000006.xmlCharMap.png\n",
      "D:\\Data\\Diploma\\real\\real\\real\\Train_V2\\\\RHODE ISLAND_scan\\Markup\\0000007.xml\n",
      "D:\\Data\\Diploma\\real\\dataset//gt/RHODE ISLAND_scan0000007.xmlCharMap.png\n",
      "D:\\Data\\Diploma\\real\\real\\real\\Train_V2\\\\RHODE ISLAND_scan\\Markup\\0000008.xml\n",
      "D:\\Data\\Diploma\\real\\dataset//gt/RHODE ISLAND_scan0000008.xmlCharMap.png\n",
      "D:\\Data\\Diploma\\real\\real\\real\\Train_V2\\\\RHODE ISLAND_scan\\Markup\\0000009.xml\n",
      "D:\\Data\\Diploma\\real\\dataset//gt/RHODE ISLAND_scan0000009.xmlCharMap.png\n",
      "\n"
     ]
    },
    {
     "data": {
      "application/vnd.jupyter.widget-view+json": {
       "model_id": "f6f8d157b59646da8005753e94fad038",
       "version_major": 2,
       "version_minor": 0
      },
      "text/plain": [
       "HBox(children=(HTML(value=''), FloatProgress(value=0.0, max=24.0), HTML(value='')))"
      ]
     },
     "metadata": {},
     "output_type": "display_data"
    },
    {
     "name": "stdout",
     "output_type": "stream",
     "text": [
      "D:\\Data\\Diploma\\real\\real\\real\\Train_V2\\\\RU-ID\\Markup\\0000000.xml\n",
      "D:\\Data\\Diploma\\real\\real\\real\\Train_V2\\\\RU-ID\\Markup\\0000001.xml\n",
      "D:\\Data\\Diploma\\real\\real\\real\\Train_V2\\\\RU-ID\\Markup\\0000002.xml\n",
      "D:\\Data\\Diploma\\real\\real\\real\\Train_V2\\\\RU-ID\\Markup\\0000003.xml\n",
      "D:\\Data\\Diploma\\real\\real\\real\\Train_V2\\\\RU-ID\\Markup\\0000004.xml\n",
      "D:\\Data\\Diploma\\real\\real\\real\\Train_V2\\\\RU-ID\\Markup\\0000005.xml\n",
      "D:\\Data\\Diploma\\real\\real\\real\\Train_V2\\\\RU-ID\\Markup\\0000006.xml\n",
      "D:\\Data\\Diploma\\real\\real\\real\\Train_V2\\\\RU-ID\\Markup\\0000007.xml\n",
      "D:\\Data\\Diploma\\real\\real\\real\\Train_V2\\\\RU-ID\\Markup\\0000008.xml\n",
      "D:\\Data\\Diploma\\real\\real\\real\\Train_V2\\\\RU-ID\\Markup\\0000009.xml\n",
      "D:\\Data\\Diploma\\real\\real\\real\\Train_V2\\\\RU-ID\\Markup\\0000010.xml\n",
      "D:\\Data\\Diploma\\real\\real\\real\\Train_V2\\\\RU-ID\\Markup\\0000011.xml\n",
      "D:\\Data\\Diploma\\real\\real\\real\\Train_V2\\\\RU-ID\\Markup\\0000012.xml\n",
      "D:\\Data\\Diploma\\real\\real\\real\\Train_V2\\\\RU-ID\\Markup\\0000013.xml\n",
      "D:\\Data\\Diploma\\real\\real\\real\\Train_V2\\\\RU-ID\\Markup\\0000014.xml\n",
      "D:\\Data\\Diploma\\real\\real\\real\\Train_V2\\\\RU-ID\\Markup\\0000015.xml\n",
      "D:\\Data\\Diploma\\real\\real\\real\\Train_V2\\\\RU-ID\\Markup\\0000016.xml\n",
      "D:\\Data\\Diploma\\real\\real\\real\\Train_V2\\\\RU-ID\\Markup\\0000017.xml\n",
      "D:\\Data\\Diploma\\real\\real\\real\\Train_V2\\\\RU-ID\\Markup\\0000018.xml\n",
      "D:\\Data\\Diploma\\real\\real\\real\\Train_V2\\\\RU-ID\\Markup\\0000019.xml\n",
      "D:\\Data\\Diploma\\real\\real\\real\\Train_V2\\\\RU-ID\\Markup\\0000020.xml\n",
      "D:\\Data\\Diploma\\real\\real\\real\\Train_V2\\\\RU-ID\\Markup\\0000021.xml\n",
      "D:\\Data\\Diploma\\real\\real\\real\\Train_V2\\\\RU-ID\\Markup\\0000022.xml\n",
      "D:\\Data\\Diploma\\real\\real\\real\\Train_V2\\\\RU-ID\\Markup\\0000023.xml\n",
      "\n"
     ]
    },
    {
     "data": {
      "application/vnd.jupyter.widget-view+json": {
       "model_id": "1b07bd9bf30246afbc11185fa8998e96",
       "version_major": 2,
       "version_minor": 0
      },
      "text/plain": [
       "HBox(children=(HTML(value=''), FloatProgress(value=0.0, max=13.0), HTML(value='')))"
      ]
     },
     "metadata": {},
     "output_type": "display_data"
    },
    {
     "name": "stdout",
     "output_type": "stream",
     "text": [
      "D:\\Data\\Diploma\\real\\real\\real\\Train_V2\\\\Singapore.IC_photo\\Markup\\0000000.xml\n",
      "D:\\Data\\Diploma\\real\\real\\real\\Train_V2\\\\Singapore.IC_photo\\Markup\\0000001.xml\n",
      "D:\\Data\\Diploma\\real\\real\\real\\Train_V2\\\\Singapore.IC_photo\\Markup\\0000002.xml\n",
      "D:\\Data\\Diploma\\real\\real\\real\\Train_V2\\\\Singapore.IC_photo\\Markup\\0000003.xml\n",
      "D:\\Data\\Diploma\\real\\real\\real\\Train_V2\\\\Singapore.IC_photo\\Markup\\0000004.xml\n",
      "D:\\Data\\Diploma\\real\\real\\real\\Train_V2\\\\Singapore.IC_photo\\Markup\\0000005.xml\n",
      "D:\\Data\\Diploma\\real\\real\\real\\Train_V2\\\\Singapore.IC_photo\\Markup\\0000006.xml\n",
      "D:\\Data\\Diploma\\real\\real\\real\\Train_V2\\\\Singapore.IC_photo\\Markup\\0000007.xml\n",
      "D:\\Data\\Diploma\\real\\real\\real\\Train_V2\\\\Singapore.IC_photo\\Markup\\0000008.xml\n",
      "D:\\Data\\Diploma\\real\\real\\real\\Train_V2\\\\Singapore.IC_photo\\Markup\\0000009.xml\n",
      "D:\\Data\\Diploma\\real\\real\\real\\Train_V2\\\\Singapore.IC_photo\\Markup\\0000010.xml\n",
      "D:\\Data\\Diploma\\real\\real\\real\\Train_V2\\\\Singapore.IC_photo\\Markup\\0000011.xml\n",
      "D:\\Data\\Diploma\\real\\real\\real\\Train_V2\\\\Singapore.IC_photo\\Markup\\0000012.xml\n",
      "\n"
     ]
    },
    {
     "data": {
      "application/vnd.jupyter.widget-view+json": {
       "model_id": "fd331ca435eb4156a03ad9ed7e5396a4",
       "version_major": 2,
       "version_minor": 0
      },
      "text/plain": [
       "HBox(children=(HTML(value=''), FloatProgress(value=0.0, max=10.0), HTML(value='')))"
      ]
     },
     "metadata": {},
     "output_type": "display_data"
    },
    {
     "name": "stdout",
     "output_type": "stream",
     "text": [
      "D:\\Data\\Diploma\\real\\real\\real\\Train_V2\\\\SOUTH CAROLINA_photo\\Markup\\0000000.xml\n",
      "D:\\Data\\Diploma\\real\\dataset//gt/SOUTH CAROLINA_photo0000000.xmlCharMap.png\n",
      "D:\\Data\\Diploma\\real\\real\\real\\Train_V2\\\\SOUTH CAROLINA_photo\\Markup\\0000001.xml\n",
      "D:\\Data\\Diploma\\real\\dataset//gt/SOUTH CAROLINA_photo0000001.xmlCharMap.png\n",
      "D:\\Data\\Diploma\\real\\real\\real\\Train_V2\\\\SOUTH CAROLINA_photo\\Markup\\0000002.xml\n",
      "D:\\Data\\Diploma\\real\\dataset//gt/SOUTH CAROLINA_photo0000002.xmlCharMap.png\n",
      "D:\\Data\\Diploma\\real\\real\\real\\Train_V2\\\\SOUTH CAROLINA_photo\\Markup\\0000003.xml\n",
      "D:\\Data\\Diploma\\real\\dataset//gt/SOUTH CAROLINA_photo0000003.xmlCharMap.png\n",
      "D:\\Data\\Diploma\\real\\real\\real\\Train_V2\\\\SOUTH CAROLINA_photo\\Markup\\0000004.xml\n",
      "D:\\Data\\Diploma\\real\\dataset//gt/SOUTH CAROLINA_photo0000004.xmlCharMap.png\n",
      "D:\\Data\\Diploma\\real\\real\\real\\Train_V2\\\\SOUTH CAROLINA_photo\\Markup\\0000005.xml\n",
      "D:\\Data\\Diploma\\real\\dataset//gt/SOUTH CAROLINA_photo0000005.xmlCharMap.png\n",
      "D:\\Data\\Diploma\\real\\real\\real\\Train_V2\\\\SOUTH CAROLINA_photo\\Markup\\0000006.xml\n",
      "D:\\Data\\Diploma\\real\\dataset//gt/SOUTH CAROLINA_photo0000006.xmlCharMap.png\n",
      "D:\\Data\\Diploma\\real\\real\\real\\Train_V2\\\\SOUTH CAROLINA_photo\\Markup\\0000007.xml\n",
      "D:\\Data\\Diploma\\real\\dataset//gt/SOUTH CAROLINA_photo0000007.xmlCharMap.png\n",
      "D:\\Data\\Diploma\\real\\real\\real\\Train_V2\\\\SOUTH CAROLINA_photo\\Markup\\0000008.xml\n",
      "D:\\Data\\Diploma\\real\\dataset//gt/SOUTH CAROLINA_photo0000008.xmlCharMap.png\n",
      "D:\\Data\\Diploma\\real\\real\\real\\Train_V2\\\\SOUTH CAROLINA_photo\\Markup\\0000009.xml\n",
      "D:\\Data\\Diploma\\real\\dataset//gt/SOUTH CAROLINA_photo0000009.xmlCharMap.png\n",
      "\n"
     ]
    },
    {
     "data": {
      "application/vnd.jupyter.widget-view+json": {
       "model_id": "e12a120a49a44a4d8823c8aae717ec48",
       "version_major": 2,
       "version_minor": 0
      },
      "text/plain": [
       "HBox(children=(HTML(value=''), FloatProgress(value=0.0, max=10.0), HTML(value='')))"
      ]
     },
     "metadata": {},
     "output_type": "display_data"
    },
    {
     "name": "stdout",
     "output_type": "stream",
     "text": [
      "D:\\Data\\Diploma\\real\\real\\real\\Train_V2\\\\SOUTH CAROLINA_scan\\Markup\\0000000.xml\n",
      "D:\\Data\\Diploma\\real\\dataset//gt/SOUTH CAROLINA_scan0000000.xmlCharMap.png\n",
      "D:\\Data\\Diploma\\real\\real\\real\\Train_V2\\\\SOUTH CAROLINA_scan\\Markup\\0000001.xml\n",
      "D:\\Data\\Diploma\\real\\dataset//gt/SOUTH CAROLINA_scan0000001.xmlCharMap.png\n",
      "D:\\Data\\Diploma\\real\\real\\real\\Train_V2\\\\SOUTH CAROLINA_scan\\Markup\\0000002.xml\n",
      "D:\\Data\\Diploma\\real\\dataset//gt/SOUTH CAROLINA_scan0000002.xmlCharMap.png\n",
      "D:\\Data\\Diploma\\real\\real\\real\\Train_V2\\\\SOUTH CAROLINA_scan\\Markup\\0000003.xml\n",
      "D:\\Data\\Diploma\\real\\dataset//gt/SOUTH CAROLINA_scan0000003.xmlCharMap.png\n",
      "D:\\Data\\Diploma\\real\\real\\real\\Train_V2\\\\SOUTH CAROLINA_scan\\Markup\\0000004.xml\n",
      "D:\\Data\\Diploma\\real\\dataset//gt/SOUTH CAROLINA_scan0000004.xmlCharMap.png\n",
      "D:\\Data\\Diploma\\real\\real\\real\\Train_V2\\\\SOUTH CAROLINA_scan\\Markup\\0000005.xml\n",
      "D:\\Data\\Diploma\\real\\dataset//gt/SOUTH CAROLINA_scan0000005.xmlCharMap.png\n",
      "D:\\Data\\Diploma\\real\\real\\real\\Train_V2\\\\SOUTH CAROLINA_scan\\Markup\\0000006.xml\n",
      "D:\\Data\\Diploma\\real\\dataset//gt/SOUTH CAROLINA_scan0000006.xmlCharMap.png\n",
      "D:\\Data\\Diploma\\real\\real\\real\\Train_V2\\\\SOUTH CAROLINA_scan\\Markup\\0000007.xml\n",
      "D:\\Data\\Diploma\\real\\dataset//gt/SOUTH CAROLINA_scan0000007.xmlCharMap.png\n",
      "D:\\Data\\Diploma\\real\\real\\real\\Train_V2\\\\SOUTH CAROLINA_scan\\Markup\\0000008.xml\n",
      "D:\\Data\\Diploma\\real\\dataset//gt/SOUTH CAROLINA_scan0000008.xmlCharMap.png\n",
      "D:\\Data\\Diploma\\real\\real\\real\\Train_V2\\\\SOUTH CAROLINA_scan\\Markup\\0000009.xml\n",
      "D:\\Data\\Diploma\\real\\dataset//gt/SOUTH CAROLINA_scan0000009.xmlCharMap.png\n",
      "\n"
     ]
    },
    {
     "data": {
      "application/vnd.jupyter.widget-view+json": {
       "model_id": "53d9fc10b62444e6ba373ec50b734b17",
       "version_major": 2,
       "version_minor": 0
      },
      "text/plain": [
       "HBox(children=(HTML(value=''), FloatProgress(value=0.0, max=10.0), HTML(value='')))"
      ]
     },
     "metadata": {},
     "output_type": "display_data"
    },
    {
     "name": "stdout",
     "output_type": "stream",
     "text": [
      "D:\\Data\\Diploma\\real\\real\\real\\Train_V2\\\\TENNESSEE_photo\\Markup\\0000000.xml\n",
      "D:\\Data\\Diploma\\real\\dataset//gt/TENNESSEE_photo0000000.xmlCharMap.png\n",
      "D:\\Data\\Diploma\\real\\real\\real\\Train_V2\\\\TENNESSEE_photo\\Markup\\0000001.xml\n",
      "D:\\Data\\Diploma\\real\\dataset//gt/TENNESSEE_photo0000001.xmlCharMap.png\n",
      "D:\\Data\\Diploma\\real\\real\\real\\Train_V2\\\\TENNESSEE_photo\\Markup\\0000002.xml\n",
      "D:\\Data\\Diploma\\real\\dataset//gt/TENNESSEE_photo0000002.xmlCharMap.png\n",
      "D:\\Data\\Diploma\\real\\real\\real\\Train_V2\\\\TENNESSEE_photo\\Markup\\0000003.xml\n",
      "D:\\Data\\Diploma\\real\\dataset//gt/TENNESSEE_photo0000003.xmlCharMap.png\n",
      "D:\\Data\\Diploma\\real\\real\\real\\Train_V2\\\\TENNESSEE_photo\\Markup\\0000004.xml\n",
      "D:\\Data\\Diploma\\real\\dataset//gt/TENNESSEE_photo0000004.xmlCharMap.png\n",
      "D:\\Data\\Diploma\\real\\real\\real\\Train_V2\\\\TENNESSEE_photo\\Markup\\0000005.xml\n",
      "D:\\Data\\Diploma\\real\\dataset//gt/TENNESSEE_photo0000005.xmlCharMap.png\n",
      "D:\\Data\\Diploma\\real\\real\\real\\Train_V2\\\\TENNESSEE_photo\\Markup\\0000006.xml\n",
      "D:\\Data\\Diploma\\real\\dataset//gt/TENNESSEE_photo0000006.xmlCharMap.png\n",
      "D:\\Data\\Diploma\\real\\real\\real\\Train_V2\\\\TENNESSEE_photo\\Markup\\0000007.xml\n",
      "D:\\Data\\Diploma\\real\\dataset//gt/TENNESSEE_photo0000007.xmlCharMap.png\n",
      "D:\\Data\\Diploma\\real\\real\\real\\Train_V2\\\\TENNESSEE_photo\\Markup\\0000008.xml\n",
      "D:\\Data\\Diploma\\real\\dataset//gt/TENNESSEE_photo0000008.xmlCharMap.png\n",
      "D:\\Data\\Diploma\\real\\real\\real\\Train_V2\\\\TENNESSEE_photo\\Markup\\0000009.xml\n",
      "D:\\Data\\Diploma\\real\\dataset//gt/TENNESSEE_photo0000009.xmlCharMap.png\n",
      "\n"
     ]
    },
    {
     "data": {
      "application/vnd.jupyter.widget-view+json": {
       "model_id": "07bfeb5776b84ae09b8690721704a2e0",
       "version_major": 2,
       "version_minor": 0
      },
      "text/plain": [
       "HBox(children=(HTML(value=''), FloatProgress(value=0.0, max=10.0), HTML(value='')))"
      ]
     },
     "metadata": {},
     "output_type": "display_data"
    },
    {
     "name": "stdout",
     "output_type": "stream",
     "text": [
      "D:\\Data\\Diploma\\real\\real\\real\\Train_V2\\\\TENNESSEE_scan\\Markup\\0000000.xml\n",
      "D:\\Data\\Diploma\\real\\dataset//gt/TENNESSEE_scan0000000.xmlCharMap.png\n",
      "D:\\Data\\Diploma\\real\\real\\real\\Train_V2\\\\TENNESSEE_scan\\Markup\\0000001.xml\n",
      "D:\\Data\\Diploma\\real\\dataset//gt/TENNESSEE_scan0000001.xmlCharMap.png\n",
      "D:\\Data\\Diploma\\real\\real\\real\\Train_V2\\\\TENNESSEE_scan\\Markup\\0000002.xml\n",
      "D:\\Data\\Diploma\\real\\dataset//gt/TENNESSEE_scan0000002.xmlCharMap.png\n",
      "D:\\Data\\Diploma\\real\\real\\real\\Train_V2\\\\TENNESSEE_scan\\Markup\\0000003.xml\n",
      "D:\\Data\\Diploma\\real\\dataset//gt/TENNESSEE_scan0000003.xmlCharMap.png\n",
      "D:\\Data\\Diploma\\real\\real\\real\\Train_V2\\\\TENNESSEE_scan\\Markup\\0000004.xml\n",
      "D:\\Data\\Diploma\\real\\dataset//gt/TENNESSEE_scan0000004.xmlCharMap.png\n",
      "D:\\Data\\Diploma\\real\\real\\real\\Train_V2\\\\TENNESSEE_scan\\Markup\\0000005.xml\n",
      "D:\\Data\\Diploma\\real\\dataset//gt/TENNESSEE_scan0000005.xmlCharMap.png\n",
      "D:\\Data\\Diploma\\real\\real\\real\\Train_V2\\\\TENNESSEE_scan\\Markup\\0000006.xml\n",
      "D:\\Data\\Diploma\\real\\dataset//gt/TENNESSEE_scan0000006.xmlCharMap.png\n",
      "D:\\Data\\Diploma\\real\\real\\real\\Train_V2\\\\TENNESSEE_scan\\Markup\\0000007.xml\n",
      "D:\\Data\\Diploma\\real\\dataset//gt/TENNESSEE_scan0000007.xmlCharMap.png\n",
      "D:\\Data\\Diploma\\real\\real\\real\\Train_V2\\\\TENNESSEE_scan\\Markup\\0000008.xml\n",
      "D:\\Data\\Diploma\\real\\dataset//gt/TENNESSEE_scan0000008.xmlCharMap.png\n",
      "D:\\Data\\Diploma\\real\\real\\real\\Train_V2\\\\TENNESSEE_scan\\Markup\\0000009.xml\n",
      "D:\\Data\\Diploma\\real\\dataset//gt/TENNESSEE_scan0000009.xmlCharMap.png\n",
      "\n"
     ]
    },
    {
     "data": {
      "application/vnd.jupyter.widget-view+json": {
       "model_id": "470476a6f02c4528adbb16cd2d0d2156",
       "version_major": 2,
       "version_minor": 0
      },
      "text/plain": [
       "HBox(children=(HTML(value=''), FloatProgress(value=0.0, max=10.0), HTML(value='')))"
      ]
     },
     "metadata": {},
     "output_type": "display_data"
    },
    {
     "name": "stdout",
     "output_type": "stream",
     "text": [
      "D:\\Data\\Diploma\\real\\real\\real\\Train_V2\\\\TEXAS_photo\\Markup\\0000000.xml\n",
      "D:\\Data\\Diploma\\real\\dataset//gt/TEXAS_photo0000000.xmlCharMap.png\n",
      "D:\\Data\\Diploma\\real\\real\\real\\Train_V2\\\\TEXAS_photo\\Markup\\0000001.xml\n",
      "D:\\Data\\Diploma\\real\\dataset//gt/TEXAS_photo0000001.xmlCharMap.png\n",
      "D:\\Data\\Diploma\\real\\real\\real\\Train_V2\\\\TEXAS_photo\\Markup\\0000002.xml\n",
      "D:\\Data\\Diploma\\real\\dataset//gt/TEXAS_photo0000002.xmlCharMap.png\n",
      "D:\\Data\\Diploma\\real\\real\\real\\Train_V2\\\\TEXAS_photo\\Markup\\0000003.xml\n",
      "D:\\Data\\Diploma\\real\\dataset//gt/TEXAS_photo0000003.xmlCharMap.png\n",
      "D:\\Data\\Diploma\\real\\real\\real\\Train_V2\\\\TEXAS_photo\\Markup\\0000004.xml\n",
      "D:\\Data\\Diploma\\real\\dataset//gt/TEXAS_photo0000004.xmlCharMap.png\n",
      "D:\\Data\\Diploma\\real\\real\\real\\Train_V2\\\\TEXAS_photo\\Markup\\0000005.xml\n",
      "D:\\Data\\Diploma\\real\\dataset//gt/TEXAS_photo0000005.xmlCharMap.png\n",
      "D:\\Data\\Diploma\\real\\real\\real\\Train_V2\\\\TEXAS_photo\\Markup\\0000006.xml\n",
      "D:\\Data\\Diploma\\real\\dataset//gt/TEXAS_photo0000006.xmlCharMap.png\n",
      "D:\\Data\\Diploma\\real\\real\\real\\Train_V2\\\\TEXAS_photo\\Markup\\0000007.xml\n",
      "D:\\Data\\Diploma\\real\\dataset//gt/TEXAS_photo0000007.xmlCharMap.png\n",
      "D:\\Data\\Diploma\\real\\real\\real\\Train_V2\\\\TEXAS_photo\\Markup\\0000008.xml\n",
      "D:\\Data\\Diploma\\real\\dataset//gt/TEXAS_photo0000008.xmlCharMap.png\n",
      "D:\\Data\\Diploma\\real\\real\\real\\Train_V2\\\\TEXAS_photo\\Markup\\0000009.xml\n",
      "D:\\Data\\Diploma\\real\\dataset//gt/TEXAS_photo0000009.xmlCharMap.png\n",
      "\n"
     ]
    },
    {
     "data": {
      "application/vnd.jupyter.widget-view+json": {
       "model_id": "ef4263feb9884fe1b94b376dea8a83ab",
       "version_major": 2,
       "version_minor": 0
      },
      "text/plain": [
       "HBox(children=(HTML(value=''), FloatProgress(value=0.0, max=10.0), HTML(value='')))"
      ]
     },
     "metadata": {},
     "output_type": "display_data"
    },
    {
     "name": "stdout",
     "output_type": "stream",
     "text": [
      "D:\\Data\\Diploma\\real\\real\\real\\Train_V2\\\\TEXAS_scan\\Markup\\0000000.xml\n",
      "D:\\Data\\Diploma\\real\\dataset//gt/TEXAS_scan0000000.xmlCharMap.png\n",
      "D:\\Data\\Diploma\\real\\real\\real\\Train_V2\\\\TEXAS_scan\\Markup\\0000001.xml\n",
      "D:\\Data\\Diploma\\real\\dataset//gt/TEXAS_scan0000001.xmlCharMap.png\n",
      "D:\\Data\\Diploma\\real\\real\\real\\Train_V2\\\\TEXAS_scan\\Markup\\0000002.xml\n",
      "D:\\Data\\Diploma\\real\\dataset//gt/TEXAS_scan0000002.xmlCharMap.png\n",
      "D:\\Data\\Diploma\\real\\real\\real\\Train_V2\\\\TEXAS_scan\\Markup\\0000003.xml\n",
      "D:\\Data\\Diploma\\real\\dataset//gt/TEXAS_scan0000003.xmlCharMap.png\n",
      "D:\\Data\\Diploma\\real\\real\\real\\Train_V2\\\\TEXAS_scan\\Markup\\0000004.xml\n",
      "D:\\Data\\Diploma\\real\\dataset//gt/TEXAS_scan0000004.xmlCharMap.png\n",
      "D:\\Data\\Diploma\\real\\real\\real\\Train_V2\\\\TEXAS_scan\\Markup\\0000005.xml\n",
      "D:\\Data\\Diploma\\real\\dataset//gt/TEXAS_scan0000005.xmlCharMap.png\n",
      "D:\\Data\\Diploma\\real\\real\\real\\Train_V2\\\\TEXAS_scan\\Markup\\0000006.xml\n",
      "D:\\Data\\Diploma\\real\\dataset//gt/TEXAS_scan0000006.xmlCharMap.png\n",
      "D:\\Data\\Diploma\\real\\real\\real\\Train_V2\\\\TEXAS_scan\\Markup\\0000007.xml\n",
      "D:\\Data\\Diploma\\real\\dataset//gt/TEXAS_scan0000007.xmlCharMap.png\n",
      "D:\\Data\\Diploma\\real\\real\\real\\Train_V2\\\\TEXAS_scan\\Markup\\0000008.xml\n",
      "D:\\Data\\Diploma\\real\\dataset//gt/TEXAS_scan0000008.xmlCharMap.png\n",
      "D:\\Data\\Diploma\\real\\real\\real\\Train_V2\\\\TEXAS_scan\\Markup\\0000009.xml\n",
      "D:\\Data\\Diploma\\real\\dataset//gt/TEXAS_scan0000009.xmlCharMap.png\n",
      "\n"
     ]
    },
    {
     "data": {
      "application/vnd.jupyter.widget-view+json": {
       "model_id": "3443040ee2944e5a843ca22703def29c",
       "version_major": 2,
       "version_minor": 0
      },
      "text/plain": [
       "HBox(children=(HTML(value=''), FloatProgress(value=0.0, max=39.0), HTML(value='')))"
      ]
     },
     "metadata": {},
     "output_type": "display_data"
    },
    {
     "name": "stdout",
     "output_type": "stream",
     "text": [
      "D:\\Data\\Diploma\\real\\real\\real\\Train_V2\\\\UAEID\\Markup\\0000000.xml\n",
      "D:\\Data\\Diploma\\real\\real\\real\\Train_V2\\\\UAEID\\Markup\\0000001.xml\n",
      "D:\\Data\\Diploma\\real\\real\\real\\Train_V2\\\\UAEID\\Markup\\0000002.xml\n",
      "D:\\Data\\Diploma\\real\\real\\real\\Train_V2\\\\UAEID\\Markup\\0000003.xml\n",
      "D:\\Data\\Diploma\\real\\real\\real\\Train_V2\\\\UAEID\\Markup\\0000004.xml\n",
      "D:\\Data\\Diploma\\real\\real\\real\\Train_V2\\\\UAEID\\Markup\\0000005.xml\n",
      "D:\\Data\\Diploma\\real\\real\\real\\Train_V2\\\\UAEID\\Markup\\0000006.xml\n",
      "D:\\Data\\Diploma\\real\\real\\real\\Train_V2\\\\UAEID\\Markup\\0000007.xml\n",
      "D:\\Data\\Diploma\\real\\real\\real\\Train_V2\\\\UAEID\\Markup\\0000008.xml\n",
      "D:\\Data\\Diploma\\real\\real\\real\\Train_V2\\\\UAEID\\Markup\\0000009.xml\n",
      "D:\\Data\\Diploma\\real\\real\\real\\Train_V2\\\\UAEID\\Markup\\0000010.xml\n",
      "D:\\Data\\Diploma\\real\\real\\real\\Train_V2\\\\UAEID\\Markup\\0000011.xml\n",
      "D:\\Data\\Diploma\\real\\real\\real\\Train_V2\\\\UAEID\\Markup\\0000012.xml\n",
      "D:\\Data\\Diploma\\real\\real\\real\\Train_V2\\\\UAEID\\Markup\\0000013.xml\n",
      "D:\\Data\\Diploma\\real\\real\\real\\Train_V2\\\\UAEID\\Markup\\0000014.xml\n",
      "D:\\Data\\Diploma\\real\\real\\real\\Train_V2\\\\UAEID\\Markup\\0000015.xml\n",
      "D:\\Data\\Diploma\\real\\real\\real\\Train_V2\\\\UAEID\\Markup\\0000016.xml\n",
      "D:\\Data\\Diploma\\real\\real\\real\\Train_V2\\\\UAEID\\Markup\\0000017.xml\n",
      "D:\\Data\\Diploma\\real\\real\\real\\Train_V2\\\\UAEID\\Markup\\0000018.xml\n",
      "D:\\Data\\Diploma\\real\\real\\real\\Train_V2\\\\UAEID\\Markup\\0000019.xml\n",
      "D:\\Data\\Diploma\\real\\real\\real\\Train_V2\\\\UAEID\\Markup\\0000020.xml\n",
      "D:\\Data\\Diploma\\real\\real\\real\\Train_V2\\\\UAEID\\Markup\\0000021.xml\n",
      "D:\\Data\\Diploma\\real\\real\\real\\Train_V2\\\\UAEID\\Markup\\0000022.xml\n",
      "D:\\Data\\Diploma\\real\\real\\real\\Train_V2\\\\UAEID\\Markup\\0000023.xml\n",
      "D:\\Data\\Diploma\\real\\real\\real\\Train_V2\\\\UAEID\\Markup\\0000024.xml\n",
      "D:\\Data\\Diploma\\real\\real\\real\\Train_V2\\\\UAEID\\Markup\\0000025.xml\n",
      "D:\\Data\\Diploma\\real\\real\\real\\Train_V2\\\\UAEID\\Markup\\0000026.xml\n",
      "D:\\Data\\Diploma\\real\\real\\real\\Train_V2\\\\UAEID\\Markup\\0000027.xml\n",
      "D:\\Data\\Diploma\\real\\real\\real\\Train_V2\\\\UAEID\\Markup\\0000028.xml\n",
      "D:\\Data\\Diploma\\real\\real\\real\\Train_V2\\\\UAEID\\Markup\\0000029.xml\n",
      "D:\\Data\\Diploma\\real\\real\\real\\Train_V2\\\\UAEID\\Markup\\0000030.xml\n",
      "D:\\Data\\Diploma\\real\\real\\real\\Train_V2\\\\UAEID\\Markup\\0000031.xml\n",
      "D:\\Data\\Diploma\\real\\real\\real\\Train_V2\\\\UAEID\\Markup\\0000032.xml\n",
      "D:\\Data\\Diploma\\real\\real\\real\\Train_V2\\\\UAEID\\Markup\\0000033.xml\n",
      "D:\\Data\\Diploma\\real\\real\\real\\Train_V2\\\\UAEID\\Markup\\0000034.xml\n",
      "D:\\Data\\Diploma\\real\\real\\real\\Train_V2\\\\UAEID\\Markup\\0000035.xml\n",
      "D:\\Data\\Diploma\\real\\real\\real\\Train_V2\\\\UAEID\\Markup\\0000036.xml\n",
      "D:\\Data\\Diploma\\real\\real\\real\\Train_V2\\\\UAEID\\Markup\\0000037.xml\n",
      "D:\\Data\\Diploma\\real\\real\\real\\Train_V2\\\\UAEID\\Markup\\0000038.xml\n",
      "\n"
     ]
    },
    {
     "data": {
      "application/vnd.jupyter.widget-view+json": {
       "model_id": "e748c3b3126141e68b367084a2fd2f09",
       "version_major": 2,
       "version_minor": 0
      },
      "text/plain": [
       "HBox(children=(HTML(value=''), FloatProgress(value=0.0, max=10.0), HTML(value='')))"
      ]
     },
     "metadata": {},
     "output_type": "display_data"
    },
    {
     "name": "stdout",
     "output_type": "stream",
     "text": [
      "D:\\Data\\Diploma\\real\\real\\real\\Train_V2\\\\UTAH_photo\\Markup\\0000000.xml\n",
      "D:\\Data\\Diploma\\real\\dataset//gt/UTAH_photo0000000.xmlCharMap.png\n",
      "D:\\Data\\Diploma\\real\\real\\real\\Train_V2\\\\UTAH_photo\\Markup\\0000001.xml\n",
      "D:\\Data\\Diploma\\real\\dataset//gt/UTAH_photo0000001.xmlCharMap.png\n",
      "D:\\Data\\Diploma\\real\\real\\real\\Train_V2\\\\UTAH_photo\\Markup\\0000002.xml\n",
      "D:\\Data\\Diploma\\real\\dataset//gt/UTAH_photo0000002.xmlCharMap.png\n",
      "D:\\Data\\Diploma\\real\\real\\real\\Train_V2\\\\UTAH_photo\\Markup\\0000003.xml\n",
      "D:\\Data\\Diploma\\real\\dataset//gt/UTAH_photo0000003.xmlCharMap.png\n",
      "D:\\Data\\Diploma\\real\\real\\real\\Train_V2\\\\UTAH_photo\\Markup\\0000004.xml\n",
      "D:\\Data\\Diploma\\real\\dataset//gt/UTAH_photo0000004.xmlCharMap.png\n",
      "D:\\Data\\Diploma\\real\\real\\real\\Train_V2\\\\UTAH_photo\\Markup\\0000005.xml\n",
      "D:\\Data\\Diploma\\real\\dataset//gt/UTAH_photo0000005.xmlCharMap.png\n",
      "D:\\Data\\Diploma\\real\\real\\real\\Train_V2\\\\UTAH_photo\\Markup\\0000006.xml\n",
      "D:\\Data\\Diploma\\real\\dataset//gt/UTAH_photo0000006.xmlCharMap.png\n",
      "D:\\Data\\Diploma\\real\\real\\real\\Train_V2\\\\UTAH_photo\\Markup\\0000007.xml\n",
      "D:\\Data\\Diploma\\real\\dataset//gt/UTAH_photo0000007.xmlCharMap.png\n",
      "D:\\Data\\Diploma\\real\\real\\real\\Train_V2\\\\UTAH_photo\\Markup\\0000008.xml\n",
      "D:\\Data\\Diploma\\real\\dataset//gt/UTAH_photo0000008.xmlCharMap.png\n",
      "D:\\Data\\Diploma\\real\\real\\real\\Train_V2\\\\UTAH_photo\\Markup\\0000009.xml\n",
      "D:\\Data\\Diploma\\real\\dataset//gt/UTAH_photo0000009.xmlCharMap.png\n",
      "\n"
     ]
    },
    {
     "data": {
      "application/vnd.jupyter.widget-view+json": {
       "model_id": "f6e899edc15948be956f790936414ecd",
       "version_major": 2,
       "version_minor": 0
      },
      "text/plain": [
       "HBox(children=(HTML(value=''), FloatProgress(value=0.0, max=10.0), HTML(value='')))"
      ]
     },
     "metadata": {},
     "output_type": "display_data"
    },
    {
     "name": "stdout",
     "output_type": "stream",
     "text": [
      "D:\\Data\\Diploma\\real\\real\\real\\Train_V2\\\\UTAH_scan\\Markup\\0000000.xml\n",
      "D:\\Data\\Diploma\\real\\dataset//gt/UTAH_scan0000000.xmlCharMap.png\n",
      "D:\\Data\\Diploma\\real\\real\\real\\Train_V2\\\\UTAH_scan\\Markup\\0000001.xml\n",
      "D:\\Data\\Diploma\\real\\dataset//gt/UTAH_scan0000001.xmlCharMap.png\n",
      "D:\\Data\\Diploma\\real\\real\\real\\Train_V2\\\\UTAH_scan\\Markup\\0000002.xml\n",
      "D:\\Data\\Diploma\\real\\dataset//gt/UTAH_scan0000002.xmlCharMap.png\n",
      "D:\\Data\\Diploma\\real\\real\\real\\Train_V2\\\\UTAH_scan\\Markup\\0000003.xml\n",
      "D:\\Data\\Diploma\\real\\dataset//gt/UTAH_scan0000003.xmlCharMap.png\n",
      "D:\\Data\\Diploma\\real\\real\\real\\Train_V2\\\\UTAH_scan\\Markup\\0000004.xml\n",
      "D:\\Data\\Diploma\\real\\dataset//gt/UTAH_scan0000004.xmlCharMap.png\n",
      "D:\\Data\\Diploma\\real\\real\\real\\Train_V2\\\\UTAH_scan\\Markup\\0000005.xml\n",
      "D:\\Data\\Diploma\\real\\dataset//gt/UTAH_scan0000005.xmlCharMap.png\n",
      "D:\\Data\\Diploma\\real\\real\\real\\Train_V2\\\\UTAH_scan\\Markup\\0000006.xml\n",
      "D:\\Data\\Diploma\\real\\dataset//gt/UTAH_scan0000006.xmlCharMap.png\n",
      "D:\\Data\\Diploma\\real\\real\\real\\Train_V2\\\\UTAH_scan\\Markup\\0000007.xml\n",
      "D:\\Data\\Diploma\\real\\dataset//gt/UTAH_scan0000007.xmlCharMap.png\n",
      "D:\\Data\\Diploma\\real\\real\\real\\Train_V2\\\\UTAH_scan\\Markup\\0000008.xml\n",
      "D:\\Data\\Diploma\\real\\dataset//gt/UTAH_scan0000008.xmlCharMap.png\n",
      "D:\\Data\\Diploma\\real\\real\\real\\Train_V2\\\\UTAH_scan\\Markup\\0000009.xml\n",
      "D:\\Data\\Diploma\\real\\dataset//gt/UTAH_scan0000009.xmlCharMap.png\n",
      "\n"
     ]
    },
    {
     "data": {
      "application/vnd.jupyter.widget-view+json": {
       "model_id": "dbea850611554e39947a6336f9a198fc",
       "version_major": 2,
       "version_minor": 0
      },
      "text/plain": [
       "HBox(children=(HTML(value=''), FloatProgress(value=0.0, max=119.0), HTML(value='')))"
      ]
     },
     "metadata": {},
     "output_type": "display_data"
    },
    {
     "name": "stdout",
     "output_type": "stream",
     "text": [
      "D:\\Data\\Diploma\\real\\real\\real\\Train_V2\\\\Vietnamese\\Markup\\0000000.xml\n",
      "D:\\Data\\Diploma\\real\\real\\real\\Train_V2\\\\Vietnamese\\Markup\\0000001.xml\n",
      "D:\\Data\\Diploma\\real\\real\\real\\Train_V2\\\\Vietnamese\\Markup\\0000002.xml\n",
      "D:\\Data\\Diploma\\real\\real\\real\\Train_V2\\\\Vietnamese\\Markup\\0000003.xml\n",
      "D:\\Data\\Diploma\\real\\real\\real\\Train_V2\\\\Vietnamese\\Markup\\0000004.xml\n",
      "D:\\Data\\Diploma\\real\\real\\real\\Train_V2\\\\Vietnamese\\Markup\\0000005.xml\n",
      "D:\\Data\\Diploma\\real\\real\\real\\Train_V2\\\\Vietnamese\\Markup\\0000006.xml\n",
      "D:\\Data\\Diploma\\real\\real\\real\\Train_V2\\\\Vietnamese\\Markup\\0000007.xml\n",
      "D:\\Data\\Diploma\\real\\real\\real\\Train_V2\\\\Vietnamese\\Markup\\0000008.xml\n",
      "D:\\Data\\Diploma\\real\\real\\real\\Train_V2\\\\Vietnamese\\Markup\\0000009.xml\n",
      "D:\\Data\\Diploma\\real\\real\\real\\Train_V2\\\\Vietnamese\\Markup\\0000010.xml\n",
      "D:\\Data\\Diploma\\real\\real\\real\\Train_V2\\\\Vietnamese\\Markup\\0000011.xml\n",
      "D:\\Data\\Diploma\\real\\real\\real\\Train_V2\\\\Vietnamese\\Markup\\0000012.xml\n",
      "D:\\Data\\Diploma\\real\\real\\real\\Train_V2\\\\Vietnamese\\Markup\\0000013.xml\n",
      "D:\\Data\\Diploma\\real\\real\\real\\Train_V2\\\\Vietnamese\\Markup\\0000014.xml\n",
      "D:\\Data\\Diploma\\real\\real\\real\\Train_V2\\\\Vietnamese\\Markup\\0000015.xml\n",
      "D:\\Data\\Diploma\\real\\real\\real\\Train_V2\\\\Vietnamese\\Markup\\0000016.xml\n",
      "D:\\Data\\Diploma\\real\\real\\real\\Train_V2\\\\Vietnamese\\Markup\\0000017.xml\n",
      "D:\\Data\\Diploma\\real\\real\\real\\Train_V2\\\\Vietnamese\\Markup\\0000018.xml\n",
      "D:\\Data\\Diploma\\real\\real\\real\\Train_V2\\\\Vietnamese\\Markup\\0000019.xml\n",
      "D:\\Data\\Diploma\\real\\real\\real\\Train_V2\\\\Vietnamese\\Markup\\0000020.xml\n",
      "D:\\Data\\Diploma\\real\\real\\real\\Train_V2\\\\Vietnamese\\Markup\\0000021.xml\n",
      "D:\\Data\\Diploma\\real\\real\\real\\Train_V2\\\\Vietnamese\\Markup\\0000022.xml\n",
      "D:\\Data\\Diploma\\real\\real\\real\\Train_V2\\\\Vietnamese\\Markup\\0000023.xml\n",
      "D:\\Data\\Diploma\\real\\real\\real\\Train_V2\\\\Vietnamese\\Markup\\0000024.xml\n",
      "D:\\Data\\Diploma\\real\\real\\real\\Train_V2\\\\Vietnamese\\Markup\\0000025.xml\n",
      "D:\\Data\\Diploma\\real\\real\\real\\Train_V2\\\\Vietnamese\\Markup\\0000026.xml\n",
      "D:\\Data\\Diploma\\real\\real\\real\\Train_V2\\\\Vietnamese\\Markup\\0000027.xml\n",
      "D:\\Data\\Diploma\\real\\real\\real\\Train_V2\\\\Vietnamese\\Markup\\0000028.xml\n",
      "D:\\Data\\Diploma\\real\\real\\real\\Train_V2\\\\Vietnamese\\Markup\\0000029.xml\n",
      "D:\\Data\\Diploma\\real\\real\\real\\Train_V2\\\\Vietnamese\\Markup\\0000030.xml\n",
      "D:\\Data\\Diploma\\real\\real\\real\\Train_V2\\\\Vietnamese\\Markup\\0000031.xml\n",
      "D:\\Data\\Diploma\\real\\real\\real\\Train_V2\\\\Vietnamese\\Markup\\0000032.xml\n",
      "D:\\Data\\Diploma\\real\\real\\real\\Train_V2\\\\Vietnamese\\Markup\\0000033.xml\n",
      "D:\\Data\\Diploma\\real\\real\\real\\Train_V2\\\\Vietnamese\\Markup\\0000034.xml\n",
      "D:\\Data\\Diploma\\real\\real\\real\\Train_V2\\\\Vietnamese\\Markup\\0000035.xml\n",
      "D:\\Data\\Diploma\\real\\real\\real\\Train_V2\\\\Vietnamese\\Markup\\0000036.xml\n",
      "D:\\Data\\Diploma\\real\\real\\real\\Train_V2\\\\Vietnamese\\Markup\\0000037.xml\n",
      "D:\\Data\\Diploma\\real\\real\\real\\Train_V2\\\\Vietnamese\\Markup\\0000038.xml\n",
      "D:\\Data\\Diploma\\real\\real\\real\\Train_V2\\\\Vietnamese\\Markup\\0000039.xml\n",
      "D:\\Data\\Diploma\\real\\real\\real\\Train_V2\\\\Vietnamese\\Markup\\0000040.xml\n",
      "D:\\Data\\Diploma\\real\\real\\real\\Train_V2\\\\Vietnamese\\Markup\\0000041.xml\n",
      "D:\\Data\\Diploma\\real\\real\\real\\Train_V2\\\\Vietnamese\\Markup\\0000042.xml\n",
      "D:\\Data\\Diploma\\real\\real\\real\\Train_V2\\\\Vietnamese\\Markup\\0000043.xml\n",
      "D:\\Data\\Diploma\\real\\real\\real\\Train_V2\\\\Vietnamese\\Markup\\0000044.xml\n",
      "D:\\Data\\Diploma\\real\\real\\real\\Train_V2\\\\Vietnamese\\Markup\\0000045.xml\n",
      "D:\\Data\\Diploma\\real\\real\\real\\Train_V2\\\\Vietnamese\\Markup\\0000046.xml\n",
      "D:\\Data\\Diploma\\real\\real\\real\\Train_V2\\\\Vietnamese\\Markup\\0000047.xml\n",
      "D:\\Data\\Diploma\\real\\real\\real\\Train_V2\\\\Vietnamese\\Markup\\0000048.xml\n",
      "D:\\Data\\Diploma\\real\\real\\real\\Train_V2\\\\Vietnamese\\Markup\\0000049.xml\n",
      "D:\\Data\\Diploma\\real\\real\\real\\Train_V2\\\\Vietnamese\\Markup\\0000050.xml\n",
      "D:\\Data\\Diploma\\real\\real\\real\\Train_V2\\\\Vietnamese\\Markup\\0000051.xml\n",
      "D:\\Data\\Diploma\\real\\real\\real\\Train_V2\\\\Vietnamese\\Markup\\0000052.xml\n",
      "D:\\Data\\Diploma\\real\\real\\real\\Train_V2\\\\Vietnamese\\Markup\\0000053.xml\n",
      "D:\\Data\\Diploma\\real\\real\\real\\Train_V2\\\\Vietnamese\\Markup\\0000054.xml\n",
      "D:\\Data\\Diploma\\real\\real\\real\\Train_V2\\\\Vietnamese\\Markup\\0000055.xml\n",
      "D:\\Data\\Diploma\\real\\real\\real\\Train_V2\\\\Vietnamese\\Markup\\0000056.xml\n",
      "D:\\Data\\Diploma\\real\\real\\real\\Train_V2\\\\Vietnamese\\Markup\\0000057.xml\n",
      "D:\\Data\\Diploma\\real\\real\\real\\Train_V2\\\\Vietnamese\\Markup\\0000058.xml\n",
      "D:\\Data\\Diploma\\real\\real\\real\\Train_V2\\\\Vietnamese\\Markup\\0000059.xml\n",
      "D:\\Data\\Diploma\\real\\real\\real\\Train_V2\\\\Vietnamese\\Markup\\0000060.xml\n",
      "D:\\Data\\Diploma\\real\\real\\real\\Train_V2\\\\Vietnamese\\Markup\\0000061.xml\n",
      "D:\\Data\\Diploma\\real\\real\\real\\Train_V2\\\\Vietnamese\\Markup\\0000062.xml\n",
      "D:\\Data\\Diploma\\real\\real\\real\\Train_V2\\\\Vietnamese\\Markup\\0000063.xml\n",
      "D:\\Data\\Diploma\\real\\real\\real\\Train_V2\\\\Vietnamese\\Markup\\0000064.xml\n",
      "D:\\Data\\Diploma\\real\\real\\real\\Train_V2\\\\Vietnamese\\Markup\\0000065.xml\n",
      "D:\\Data\\Diploma\\real\\real\\real\\Train_V2\\\\Vietnamese\\Markup\\0000066.xml\n",
      "D:\\Data\\Diploma\\real\\real\\real\\Train_V2\\\\Vietnamese\\Markup\\0000067.xml\n",
      "D:\\Data\\Diploma\\real\\real\\real\\Train_V2\\\\Vietnamese\\Markup\\0000068.xml\n",
      "D:\\Data\\Diploma\\real\\real\\real\\Train_V2\\\\Vietnamese\\Markup\\0000069.xml\n",
      "D:\\Data\\Diploma\\real\\real\\real\\Train_V2\\\\Vietnamese\\Markup\\0000070.xml\n",
      "D:\\Data\\Diploma\\real\\real\\real\\Train_V2\\\\Vietnamese\\Markup\\0000071.xml\n",
      "D:\\Data\\Diploma\\real\\real\\real\\Train_V2\\\\Vietnamese\\Markup\\0000072.xml\n",
      "D:\\Data\\Diploma\\real\\real\\real\\Train_V2\\\\Vietnamese\\Markup\\0000073.xml\n",
      "D:\\Data\\Diploma\\real\\real\\real\\Train_V2\\\\Vietnamese\\Markup\\0000074.xml\n",
      "D:\\Data\\Diploma\\real\\real\\real\\Train_V2\\\\Vietnamese\\Markup\\0000075.xml\n",
      "D:\\Data\\Diploma\\real\\real\\real\\Train_V2\\\\Vietnamese\\Markup\\0000076.xml\n",
      "D:\\Data\\Diploma\\real\\real\\real\\Train_V2\\\\Vietnamese\\Markup\\0000077.xml\n",
      "D:\\Data\\Diploma\\real\\real\\real\\Train_V2\\\\Vietnamese\\Markup\\0000078.xml\n",
      "D:\\Data\\Diploma\\real\\real\\real\\Train_V2\\\\Vietnamese\\Markup\\0000079.xml\n",
      "D:\\Data\\Diploma\\real\\real\\real\\Train_V2\\\\Vietnamese\\Markup\\0000080.xml\n",
      "D:\\Data\\Diploma\\real\\real\\real\\Train_V2\\\\Vietnamese\\Markup\\0000081.xml\n",
      "D:\\Data\\Diploma\\real\\real\\real\\Train_V2\\\\Vietnamese\\Markup\\0000082.xml\n",
      "D:\\Data\\Diploma\\real\\real\\real\\Train_V2\\\\Vietnamese\\Markup\\0000083.xml\n",
      "D:\\Data\\Diploma\\real\\real\\real\\Train_V2\\\\Vietnamese\\Markup\\0000084.xml\n",
      "D:\\Data\\Diploma\\real\\real\\real\\Train_V2\\\\Vietnamese\\Markup\\0000085.xml\n",
      "D:\\Data\\Diploma\\real\\real\\real\\Train_V2\\\\Vietnamese\\Markup\\0000086.xml\n",
      "D:\\Data\\Diploma\\real\\real\\real\\Train_V2\\\\Vietnamese\\Markup\\0000087.xml\n",
      "D:\\Data\\Diploma\\real\\real\\real\\Train_V2\\\\Vietnamese\\Markup\\0000088.xml\n",
      "D:\\Data\\Diploma\\real\\real\\real\\Train_V2\\\\Vietnamese\\Markup\\0000089.xml\n",
      "D:\\Data\\Diploma\\real\\real\\real\\Train_V2\\\\Vietnamese\\Markup\\0000090.xml\n",
      "D:\\Data\\Diploma\\real\\real\\real\\Train_V2\\\\Vietnamese\\Markup\\0000091.xml\n",
      "D:\\Data\\Diploma\\real\\real\\real\\Train_V2\\\\Vietnamese\\Markup\\0000092.xml\n",
      "D:\\Data\\Diploma\\real\\real\\real\\Train_V2\\\\Vietnamese\\Markup\\0000093.xml\n",
      "D:\\Data\\Diploma\\real\\real\\real\\Train_V2\\\\Vietnamese\\Markup\\0000094.xml\n",
      "D:\\Data\\Diploma\\real\\real\\real\\Train_V2\\\\Vietnamese\\Markup\\0000095.xml\n",
      "D:\\Data\\Diploma\\real\\real\\real\\Train_V2\\\\Vietnamese\\Markup\\0000096.xml\n",
      "D:\\Data\\Diploma\\real\\real\\real\\Train_V2\\\\Vietnamese\\Markup\\0000097.xml\n",
      "D:\\Data\\Diploma\\real\\real\\real\\Train_V2\\\\Vietnamese\\Markup\\0000098.xml\n",
      "D:\\Data\\Diploma\\real\\real\\real\\Train_V2\\\\Vietnamese\\Markup\\0000099.xml\n",
      "D:\\Data\\Diploma\\real\\real\\real\\Train_V2\\\\Vietnamese\\Markup\\0000100.xml\n",
      "D:\\Data\\Diploma\\real\\real\\real\\Train_V2\\\\Vietnamese\\Markup\\0000101.xml\n",
      "D:\\Data\\Diploma\\real\\real\\real\\Train_V2\\\\Vietnamese\\Markup\\0000102.xml\n",
      "D:\\Data\\Diploma\\real\\real\\real\\Train_V2\\\\Vietnamese\\Markup\\0000103.xml\n",
      "D:\\Data\\Diploma\\real\\real\\real\\Train_V2\\\\Vietnamese\\Markup\\0000104.xml\n",
      "D:\\Data\\Diploma\\real\\real\\real\\Train_V2\\\\Vietnamese\\Markup\\0000105.xml\n",
      "D:\\Data\\Diploma\\real\\real\\real\\Train_V2\\\\Vietnamese\\Markup\\0000106.xml\n",
      "D:\\Data\\Diploma\\real\\real\\real\\Train_V2\\\\Vietnamese\\Markup\\0000107.xml\n",
      "D:\\Data\\Diploma\\real\\real\\real\\Train_V2\\\\Vietnamese\\Markup\\0000108.xml\n",
      "D:\\Data\\Diploma\\real\\real\\real\\Train_V2\\\\Vietnamese\\Markup\\0000109.xml\n",
      "D:\\Data\\Diploma\\real\\real\\real\\Train_V2\\\\Vietnamese\\Markup\\0000110.xml\n",
      "D:\\Data\\Diploma\\real\\real\\real\\Train_V2\\\\Vietnamese\\Markup\\0000111.xml\n",
      "D:\\Data\\Diploma\\real\\real\\real\\Train_V2\\\\Vietnamese\\Markup\\0000112.xml\n",
      "D:\\Data\\Diploma\\real\\real\\real\\Train_V2\\\\Vietnamese\\Markup\\0000113.xml\n",
      "D:\\Data\\Diploma\\real\\real\\real\\Train_V2\\\\Vietnamese\\Markup\\0000114.xml\n",
      "D:\\Data\\Diploma\\real\\real\\real\\Train_V2\\\\Vietnamese\\Markup\\0000115.xml\n",
      "D:\\Data\\Diploma\\real\\real\\real\\Train_V2\\\\Vietnamese\\Markup\\0000116.xml\n",
      "D:\\Data\\Diploma\\real\\real\\real\\Train_V2\\\\Vietnamese\\Markup\\0000117.xml\n"
     ]
    },
    {
     "name": "stdout",
     "output_type": "stream",
     "text": [
      "D:\\Data\\Diploma\\real\\real\\real\\Train_V2\\\\Vietnamese\\Markup\\0000118.xml\n",
      "\n"
     ]
    },
    {
     "data": {
      "application/vnd.jupyter.widget-view+json": {
       "model_id": "cb9c7677a0a543d0b40e44634b4a34bc",
       "version_major": 2,
       "version_minor": 0
      },
      "text/plain": [
       "HBox(children=(HTML(value=''), FloatProgress(value=0.0, max=45.0), HTML(value='')))"
      ]
     },
     "metadata": {},
     "output_type": "display_data"
    },
    {
     "name": "stdout",
     "output_type": "stream",
     "text": [
      "D:\\Data\\Diploma\\real\\real\\real\\Train_V2\\\\СНИЛС\\Markup\\0000000.xml\n",
      "D:\\Data\\Diploma\\real\\real\\real\\Train_V2\\\\СНИЛС\\Markup\\0000001.xml\n",
      "D:\\Data\\Diploma\\real\\real\\real\\Train_V2\\\\СНИЛС\\Markup\\0000002.xml\n",
      "D:\\Data\\Diploma\\real\\real\\real\\Train_V2\\\\СНИЛС\\Markup\\0000003.xml\n",
      "D:\\Data\\Diploma\\real\\real\\real\\Train_V2\\\\СНИЛС\\Markup\\0000004.xml\n",
      "D:\\Data\\Diploma\\real\\real\\real\\Train_V2\\\\СНИЛС\\Markup\\0000005.xml\n",
      "D:\\Data\\Diploma\\real\\real\\real\\Train_V2\\\\СНИЛС\\Markup\\0000006.xml\n",
      "D:\\Data\\Diploma\\real\\real\\real\\Train_V2\\\\СНИЛС\\Markup\\0000007.xml\n",
      "D:\\Data\\Diploma\\real\\real\\real\\Train_V2\\\\СНИЛС\\Markup\\0000008.xml\n",
      "D:\\Data\\Diploma\\real\\real\\real\\Train_V2\\\\СНИЛС\\Markup\\0000009.xml\n",
      "D:\\Data\\Diploma\\real\\real\\real\\Train_V2\\\\СНИЛС\\Markup\\0000010.xml\n",
      "D:\\Data\\Diploma\\real\\real\\real\\Train_V2\\\\СНИЛС\\Markup\\0000011.xml\n",
      "D:\\Data\\Diploma\\real\\real\\real\\Train_V2\\\\СНИЛС\\Markup\\0000012.xml\n",
      "D:\\Data\\Diploma\\real\\real\\real\\Train_V2\\\\СНИЛС\\Markup\\0000013.xml\n",
      "D:\\Data\\Diploma\\real\\real\\real\\Train_V2\\\\СНИЛС\\Markup\\0000014.xml\n",
      "D:\\Data\\Diploma\\real\\real\\real\\Train_V2\\\\СНИЛС\\Markup\\0000015.xml\n",
      "D:\\Data\\Diploma\\real\\real\\real\\Train_V2\\\\СНИЛС\\Markup\\0000016.xml\n",
      "D:\\Data\\Diploma\\real\\real\\real\\Train_V2\\\\СНИЛС\\Markup\\0000017.xml\n",
      "D:\\Data\\Diploma\\real\\real\\real\\Train_V2\\\\СНИЛС\\Markup\\0000018.xml\n",
      "D:\\Data\\Diploma\\real\\real\\real\\Train_V2\\\\СНИЛС\\Markup\\0000019.xml\n",
      "D:\\Data\\Diploma\\real\\real\\real\\Train_V2\\\\СНИЛС\\Markup\\0000020.xml\n",
      "D:\\Data\\Diploma\\real\\real\\real\\Train_V2\\\\СНИЛС\\Markup\\0000021.xml\n",
      "D:\\Data\\Diploma\\real\\real\\real\\Train_V2\\\\СНИЛС\\Markup\\0000022.xml\n",
      "D:\\Data\\Diploma\\real\\real\\real\\Train_V2\\\\СНИЛС\\Markup\\0000023.xml\n",
      "D:\\Data\\Diploma\\real\\real\\real\\Train_V2\\\\СНИЛС\\Markup\\0000024.xml\n",
      "D:\\Data\\Diploma\\real\\real\\real\\Train_V2\\\\СНИЛС\\Markup\\0000025.xml\n",
      "D:\\Data\\Diploma\\real\\real\\real\\Train_V2\\\\СНИЛС\\Markup\\0000026.xml\n",
      "D:\\Data\\Diploma\\real\\real\\real\\Train_V2\\\\СНИЛС\\Markup\\0000027.xml\n",
      "D:\\Data\\Diploma\\real\\real\\real\\Train_V2\\\\СНИЛС\\Markup\\0000028.xml\n",
      "D:\\Data\\Diploma\\real\\real\\real\\Train_V2\\\\СНИЛС\\Markup\\0000029.xml\n",
      "D:\\Data\\Diploma\\real\\real\\real\\Train_V2\\\\СНИЛС\\Markup\\0000030.xml\n",
      "D:\\Data\\Diploma\\real\\real\\real\\Train_V2\\\\СНИЛС\\Markup\\0000031.xml\n",
      "D:\\Data\\Diploma\\real\\real\\real\\Train_V2\\\\СНИЛС\\Markup\\0000032.xml\n",
      "D:\\Data\\Diploma\\real\\real\\real\\Train_V2\\\\СНИЛС\\Markup\\0000033.xml\n",
      "D:\\Data\\Diploma\\real\\real\\real\\Train_V2\\\\СНИЛС\\Markup\\0000034.xml\n",
      "D:\\Data\\Diploma\\real\\real\\real\\Train_V2\\\\СНИЛС\\Markup\\0000035.xml\n",
      "D:\\Data\\Diploma\\real\\real\\real\\Train_V2\\\\СНИЛС\\Markup\\0000036.xml\n",
      "D:\\Data\\Diploma\\real\\real\\real\\Train_V2\\\\СНИЛС\\Markup\\0000037.xml\n",
      "D:\\Data\\Diploma\\real\\real\\real\\Train_V2\\\\СНИЛС\\Markup\\0000038.xml\n",
      "D:\\Data\\Diploma\\real\\real\\real\\Train_V2\\\\СНИЛС\\Markup\\0000039.xml\n",
      "D:\\Data\\Diploma\\real\\real\\real\\Train_V2\\\\СНИЛС\\Markup\\0000040.xml\n",
      "D:\\Data\\Diploma\\real\\real\\real\\Train_V2\\\\СНИЛС\\Markup\\0000041.xml\n",
      "D:\\Data\\Diploma\\real\\real\\real\\Train_V2\\\\СНИЛС\\Markup\\0000042.xml\n",
      "D:\\Data\\Diploma\\real\\real\\real\\Train_V2\\\\СНИЛС\\Markup\\0000043.xml\n",
      "D:\\Data\\Diploma\\real\\real\\real\\Train_V2\\\\СНИЛС\\Markup\\0000044.xml\n",
      "\n"
     ]
    },
    {
     "data": {
      "application/vnd.jupyter.widget-view+json": {
       "model_id": "1a94e184549f4227ae9665a7130bab06",
       "version_major": 2,
       "version_minor": 0
      },
      "text/plain": [
       "HBox(children=(HTML(value=''), FloatProgress(value=0.0, max=59.0), HTML(value='')))"
      ]
     },
     "metadata": {},
     "output_type": "display_data"
    },
    {
     "name": "stdout",
     "output_type": "stream",
     "text": [
      "D:\\Data\\Diploma\\real\\real\\real\\Train_V2\\\\СНИЛС_2\\Markup\\0000000.xml\n",
      "D:\\Data\\Diploma\\real\\real\\real\\Train_V2\\\\СНИЛС_2\\Markup\\0000001.xml\n",
      "D:\\Data\\Diploma\\real\\real\\real\\Train_V2\\\\СНИЛС_2\\Markup\\0000002.xml\n",
      "D:\\Data\\Diploma\\real\\real\\real\\Train_V2\\\\СНИЛС_2\\Markup\\0000003.xml\n",
      "D:\\Data\\Diploma\\real\\real\\real\\Train_V2\\\\СНИЛС_2\\Markup\\0000004.xml\n",
      "D:\\Data\\Diploma\\real\\real\\real\\Train_V2\\\\СНИЛС_2\\Markup\\0000005.xml\n",
      "D:\\Data\\Diploma\\real\\real\\real\\Train_V2\\\\СНИЛС_2\\Markup\\0000006.xml\n",
      "D:\\Data\\Diploma\\real\\real\\real\\Train_V2\\\\СНИЛС_2\\Markup\\0000007.xml\n",
      "D:\\Data\\Diploma\\real\\real\\real\\Train_V2\\\\СНИЛС_2\\Markup\\0000008.xml\n",
      "D:\\Data\\Diploma\\real\\real\\real\\Train_V2\\\\СНИЛС_2\\Markup\\0000009.xml\n",
      "D:\\Data\\Diploma\\real\\real\\real\\Train_V2\\\\СНИЛС_2\\Markup\\0000010.xml\n",
      "D:\\Data\\Diploma\\real\\real\\real\\Train_V2\\\\СНИЛС_2\\Markup\\0000011.xml\n",
      "D:\\Data\\Diploma\\real\\real\\real\\Train_V2\\\\СНИЛС_2\\Markup\\0000012.xml\n",
      "D:\\Data\\Diploma\\real\\real\\real\\Train_V2\\\\СНИЛС_2\\Markup\\0000013.xml\n",
      "D:\\Data\\Diploma\\real\\real\\real\\Train_V2\\\\СНИЛС_2\\Markup\\0000014.xml\n",
      "D:\\Data\\Diploma\\real\\real\\real\\Train_V2\\\\СНИЛС_2\\Markup\\0000015.xml\n",
      "D:\\Data\\Diploma\\real\\real\\real\\Train_V2\\\\СНИЛС_2\\Markup\\0000016.xml\n",
      "D:\\Data\\Diploma\\real\\real\\real\\Train_V2\\\\СНИЛС_2\\Markup\\0000017.xml\n",
      "D:\\Data\\Diploma\\real\\real\\real\\Train_V2\\\\СНИЛС_2\\Markup\\0000018.xml\n",
      "D:\\Data\\Diploma\\real\\real\\real\\Train_V2\\\\СНИЛС_2\\Markup\\0000019.xml\n",
      "D:\\Data\\Diploma\\real\\real\\real\\Train_V2\\\\СНИЛС_2\\Markup\\0000020.xml\n",
      "D:\\Data\\Diploma\\real\\real\\real\\Train_V2\\\\СНИЛС_2\\Markup\\0000021.xml\n",
      "D:\\Data\\Diploma\\real\\real\\real\\Train_V2\\\\СНИЛС_2\\Markup\\0000022.xml\n",
      "D:\\Data\\Diploma\\real\\real\\real\\Train_V2\\\\СНИЛС_2\\Markup\\0000023.xml\n",
      "D:\\Data\\Diploma\\real\\real\\real\\Train_V2\\\\СНИЛС_2\\Markup\\0000024.xml\n",
      "D:\\Data\\Diploma\\real\\real\\real\\Train_V2\\\\СНИЛС_2\\Markup\\0000025.xml\n",
      "D:\\Data\\Diploma\\real\\real\\real\\Train_V2\\\\СНИЛС_2\\Markup\\0000026.xml\n",
      "D:\\Data\\Diploma\\real\\real\\real\\Train_V2\\\\СНИЛС_2\\Markup\\0000027.xml\n",
      "D:\\Data\\Diploma\\real\\real\\real\\Train_V2\\\\СНИЛС_2\\Markup\\0000028.xml\n",
      "D:\\Data\\Diploma\\real\\real\\real\\Train_V2\\\\СНИЛС_2\\Markup\\0000029.xml\n",
      "D:\\Data\\Diploma\\real\\real\\real\\Train_V2\\\\СНИЛС_2\\Markup\\0000030.xml\n",
      "D:\\Data\\Diploma\\real\\real\\real\\Train_V2\\\\СНИЛС_2\\Markup\\0000031.xml\n",
      "D:\\Data\\Diploma\\real\\real\\real\\Train_V2\\\\СНИЛС_2\\Markup\\0000032.xml\n",
      "D:\\Data\\Diploma\\real\\real\\real\\Train_V2\\\\СНИЛС_2\\Markup\\0000033.xml\n",
      "D:\\Data\\Diploma\\real\\real\\real\\Train_V2\\\\СНИЛС_2\\Markup\\0000034.xml\n",
      "D:\\Data\\Diploma\\real\\real\\real\\Train_V2\\\\СНИЛС_2\\Markup\\0000035.xml\n",
      "D:\\Data\\Diploma\\real\\real\\real\\Train_V2\\\\СНИЛС_2\\Markup\\0000036.xml\n",
      "D:\\Data\\Diploma\\real\\real\\real\\Train_V2\\\\СНИЛС_2\\Markup\\0000037.xml\n",
      "D:\\Data\\Diploma\\real\\real\\real\\Train_V2\\\\СНИЛС_2\\Markup\\0000038.xml\n",
      "D:\\Data\\Diploma\\real\\real\\real\\Train_V2\\\\СНИЛС_2\\Markup\\0000039.xml\n",
      "D:\\Data\\Diploma\\real\\real\\real\\Train_V2\\\\СНИЛС_2\\Markup\\0000040.xml\n",
      "D:\\Data\\Diploma\\real\\real\\real\\Train_V2\\\\СНИЛС_2\\Markup\\0000041.xml\n",
      "D:\\Data\\Diploma\\real\\real\\real\\Train_V2\\\\СНИЛС_2\\Markup\\0000042.xml\n",
      "D:\\Data\\Diploma\\real\\real\\real\\Train_V2\\\\СНИЛС_2\\Markup\\0000043.xml\n",
      "D:\\Data\\Diploma\\real\\real\\real\\Train_V2\\\\СНИЛС_2\\Markup\\0000044.xml\n",
      "D:\\Data\\Diploma\\real\\real\\real\\Train_V2\\\\СНИЛС_2\\Markup\\0000045.xml\n",
      "D:\\Data\\Diploma\\real\\real\\real\\Train_V2\\\\СНИЛС_2\\Markup\\0000046.xml\n",
      "D:\\Data\\Diploma\\real\\real\\real\\Train_V2\\\\СНИЛС_2\\Markup\\0000047.xml\n",
      "D:\\Data\\Diploma\\real\\real\\real\\Train_V2\\\\СНИЛС_2\\Markup\\0000048.xml\n",
      "D:\\Data\\Diploma\\real\\real\\real\\Train_V2\\\\СНИЛС_2\\Markup\\0000049.xml\n",
      "D:\\Data\\Diploma\\real\\real\\real\\Train_V2\\\\СНИЛС_2\\Markup\\0000050.xml\n",
      "D:\\Data\\Diploma\\real\\real\\real\\Train_V2\\\\СНИЛС_2\\Markup\\0000051.xml\n",
      "D:\\Data\\Diploma\\real\\real\\real\\Train_V2\\\\СНИЛС_2\\Markup\\0000052.xml\n",
      "D:\\Data\\Diploma\\real\\real\\real\\Train_V2\\\\СНИЛС_2\\Markup\\0000053.xml\n",
      "D:\\Data\\Diploma\\real\\real\\real\\Train_V2\\\\СНИЛС_2\\Markup\\0000054.xml\n",
      "D:\\Data\\Diploma\\real\\real\\real\\Train_V2\\\\СНИЛС_2\\Markup\\0000055.xml\n",
      "D:\\Data\\Diploma\\real\\real\\real\\Train_V2\\\\СНИЛС_2\\Markup\\0000056.xml\n",
      "D:\\Data\\Diploma\\real\\real\\real\\Train_V2\\\\СНИЛС_2\\Markup\\0000057.xml\n",
      "D:\\Data\\Diploma\\real\\real\\real\\Train_V2\\\\СНИЛС_2\\Markup\\0000058.xml\n",
      "\n",
      "\n"
     ]
    }
   ],
   "source": [
    "i = 0\n",
    "\n",
    "os.makedirs(pathToGenerated, exist_ok=True)\n",
    "os.makedirs(pathToGT, exist_ok=True)\n",
    "dataList = []\n",
    "pathToData = R\"D:\\Data\\Diploma\\real\\real\\real\\Train_V2\\\\\"\n",
    "for batch in tn(os.listdir(pathToData)):\n",
    "#     if batch != \"ArgentinaID\":\n",
    "#         continue\n",
    "    pathBatch = os.path.join(pathToData, batch)\n",
    "    #print(\"1\")\n",
    "    markupPath = os.path.join(pathBatch, \"Markup\")\n",
    "    imagePath = os.path.join(pathBatch, \"Image\")\n",
    "    for file in tn(os.listdir(markupPath)):\n",
    "#         if os.path.splitext(file)[0] != \"0000080\":\n",
    "#             continue\n",
    "        filePath = os.path.join(markupPath, file)\n",
    "        print(filePath)\n",
    "        tree = ET.parse(filePath)\n",
    "        root = tree.getroot()\n",
    "        image = None\n",
    "        try:\n",
    "            image = Image.open(os.path.join(imagePath, os.path.splitext(file)[0] + \".tif\"))\n",
    "        except:\n",
    "            pass\n",
    "        if image is None:\n",
    "            continue\n",
    "        annotation = getAnnotation(root, image.size[0])\n",
    "        if annotation is None:\n",
    "            continue\n",
    "        name =  batch + file\n",
    "        rects = []\n",
    "        \n",
    "        #rects = [np.array(wordCharRects, dtype=np.int)[:, :,:] for wordCharRects in annotation[\"wordsCharactersRects\"]]\n",
    "        for wordCharRects in annotation[\"wordsCharactersRects\"]:\n",
    "            for rect in wordCharRects:\n",
    "                assert(not isRectEmpty(rect))\n",
    "                rects.append(rect)\n",
    "        rects = np.array(rects)\n",
    "        rects = rects[np.newaxis, :, :, :]\n",
    "#         print(rects.shape)\n",
    "#         for i in range(rects.shape[0]):\n",
    "#             rects2 = rects[i:i+1]\n",
    "#             print(rects2)\n",
    "#             assert(not isRectEmpty(rects2[0]))\n",
    "           \n",
    "#             gen = GaussianTransformer()\n",
    "#             rects2 = rects2[np.newaxis, :, :, :] \n",
    "#             characterMap = gen.generate_region((image.size[1],image.size[0]), rects2)\n",
    "#             charMapName = \"/\"+ name + str(i)+\"CharMap.png\"\n",
    "#             cv2.imwrite(pathToGT + charMapName, characterMap)\n",
    "    #    # print(rects.shape)\n",
    "        gen = GaussianTransformer()\n",
    "        characterMap = gen.generate_region((image.size[1],image.size[0]), rects)\n",
    "        #getAnnotationImage(image, annotation).show()\n",
    "\n",
    "        gray = cv2.cvtColor(np.array(image), cv2.COLOR_BGR2GRAY)\n",
    "        blurred = cv2.GaussianBlur(gray, (7, 7), 0)\n",
    "        (T, threshInv) = cv2.threshold(blurred, 0, 255, cv2.THRESH_OTSU)\n",
    "\n",
    "        distortedImage = image\n",
    "        textImage = threshInv\n",
    "        name =  batch + file\n",
    "        name = name.encode(\"ascii\", \"ignore\").decode()\n",
    "        distoredImageName = \"/\"+ name +\".png\"\n",
    "        gtName = \"/\"+ name + \".png\"\n",
    "        charMapName = \"/\"+ name + \"CharMap.png\"\n",
    "        distortedImage.save(pathToGenerated + distoredImageName)\n",
    "        cv2.imwrite(pathToGT + gtName, textImage)\n",
    "        cv2.imwrite(pathToGT + charMapName, characterMap)\n",
    "\n",
    "        with open(pathToGT + \"/\"+ name+ \".json\", mode=\"w\") as f:\n",
    "            json.dump(annotation, f)\n",
    "            metadata = dict()\n",
    "            metadata[\"distortedImage\"] = \"generated\" + distoredImageName\n",
    "            metadata[\"gtImage\"] = \"gt\" + gtName\n",
    "            metadata[\"characterMap\"] = \"gt\" + charMapName\n",
    "            metadata[\"annotation\"] = \"gt/\" + name +\".json\"\n",
    "            dataList.append(metadata)\n",
    "            print(pathToGT + \"/\"+ name + \"CharMap.png\")\n",
    "            assert(os.path.exists(pathToGT + \"/\"+ name + \"CharMap.png\"))\n",
    "        #break\n",
    "    #break\n",
    "        \n",
    "with open(pathToOutDir + \"dataList.txt\", mode=\"w\",) as f:\n",
    "    json.dump(dataList, f)"
   ]
  },
  {
   "cell_type": "code",
   "execution_count": 16,
   "id": "c271a73e",
   "metadata": {},
   "outputs": [
    {
     "ename": "TypeError",
     "evalue": "'NoneType' object is not subscriptable",
     "output_type": "error",
     "traceback": [
      "\u001b[1;31m---------------------------------------------------------------------------\u001b[0m",
      "\u001b[1;31mTypeError\u001b[0m                                 Traceback (most recent call last)",
      "\u001b[1;32m<ipython-input-16-09cfb72cfe6e>\u001b[0m in \u001b[0;36m<module>\u001b[1;34m\u001b[0m\n\u001b[1;32m----> 1\u001b[1;33m \u001b[1;32mfor\u001b[0m \u001b[0mwordCharRects\u001b[0m \u001b[1;32min\u001b[0m \u001b[0mannotation\u001b[0m\u001b[1;33m[\u001b[0m\u001b[1;34m\"wordsCharactersRects\"\u001b[0m\u001b[1;33m]\u001b[0m\u001b[1;33m:\u001b[0m\u001b[1;33m\u001b[0m\u001b[1;33m\u001b[0m\u001b[0m\n\u001b[0m\u001b[0;32m      2\u001b[0m     \u001b[1;32mfor\u001b[0m \u001b[0mcrect\u001b[0m \u001b[1;32min\u001b[0m \u001b[0mwordCharRects\u001b[0m\u001b[1;33m:\u001b[0m\u001b[1;33m\u001b[0m\u001b[1;33m\u001b[0m\u001b[0m\n\u001b[0;32m      3\u001b[0m         \u001b[0mprint\u001b[0m\u001b[1;33m(\u001b[0m\u001b[0mcrect\u001b[0m\u001b[1;33m)\u001b[0m\u001b[1;33m\u001b[0m\u001b[1;33m\u001b[0m\u001b[0m\n\u001b[0;32m      4\u001b[0m         \u001b[1;32massert\u001b[0m\u001b[1;33m(\u001b[0m\u001b[1;32mnot\u001b[0m \u001b[0misRectEmpty\u001b[0m\u001b[1;33m(\u001b[0m\u001b[0mcrect\u001b[0m\u001b[1;33m)\u001b[0m \u001b[1;33m)\u001b[0m\u001b[1;33m\u001b[0m\u001b[1;33m\u001b[0m\u001b[0m\n\u001b[0;32m      5\u001b[0m     \u001b[0mnp\u001b[0m\u001b[1;33m.\u001b[0m\u001b[0marray\u001b[0m\u001b[1;33m(\u001b[0m\u001b[0mwordCharRects\u001b[0m\u001b[1;33m,\u001b[0m \u001b[0mdtype\u001b[0m\u001b[1;33m=\u001b[0m\u001b[0mnp\u001b[0m\u001b[1;33m.\u001b[0m\u001b[0mint\u001b[0m\u001b[1;33m)\u001b[0m\u001b[1;33m[\u001b[0m\u001b[0mnp\u001b[0m\u001b[1;33m.\u001b[0m\u001b[0mnewaxis\u001b[0m\u001b[1;33m,\u001b[0m \u001b[1;33m:\u001b[0m\u001b[1;33m,\u001b[0m \u001b[1;33m:\u001b[0m\u001b[1;33m,\u001b[0m\u001b[1;33m:\u001b[0m\u001b[1;33m]\u001b[0m\u001b[1;33m\u001b[0m\u001b[1;33m\u001b[0m\u001b[0m\n",
      "\u001b[1;31mTypeError\u001b[0m: 'NoneType' object is not subscriptable"
     ]
    }
   ],
   "source": [
    "for wordCharRects in annotation[\"wordsCharactersRects\"]:\n",
    "    for crect in wordCharRects:\n",
    "        print(crect)\n",
    "        assert(not isRectEmpty(crect) )\n",
    "    np.array(wordCharRects, dtype=np.int)[np.newaxis, :, :,:]"
   ]
  },
  {
   "cell_type": "code",
   "execution_count": null,
   "id": "263c70d9",
   "metadata": {},
   "outputs": [],
   "source": [
    "annotation = getAnnotation(root, image.size[0])"
   ]
  },
  {
   "cell_type": "code",
   "execution_count": null,
   "id": "b7666e51",
   "metadata": {},
   "outputs": [],
   "source": [
    "isRectEmpty(rects[0,9])"
   ]
  },
  {
   "cell_type": "code",
   "execution_count": null,
   "id": "149e9dd5",
   "metadata": {},
   "outputs": [],
   "source": [
    "rects[0,9]"
   ]
  },
  {
   "cell_type": "code",
   "execution_count": null,
   "id": "e0249137",
   "metadata": {},
   "outputs": [],
   "source": [
    "s = 50\n",
    "plt.figure(figsize=(s,s))\n",
    "plt.imshow(characterMap)"
   ]
  },
  {
   "cell_type": "code",
   "execution_count": null,
   "id": "5212ab07",
   "metadata": {},
   "outputs": [],
   "source": []
  },
  {
   "cell_type": "code",
   "execution_count": null,
   "id": "8f9fa79f",
   "metadata": {},
   "outputs": [],
   "source": []
  }
 ],
 "metadata": {
  "kernelspec": {
   "display_name": "Python 3",
   "language": "python",
   "name": "python3"
  },
  "language_info": {
   "codemirror_mode": {
    "name": "ipython",
    "version": 3
   },
   "file_extension": ".py",
   "mimetype": "text/x-python",
   "name": "python",
   "nbconvert_exporter": "python",
   "pygments_lexer": "ipython3",
   "version": "3.8.12"
  }
 },
 "nbformat": 4,
 "nbformat_minor": 5
}
